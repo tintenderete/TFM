{
 "cells": [
  {
   "cell_type": "code",
   "execution_count": 1,
   "metadata": {},
   "outputs": [
    {
     "name": "stdout",
     "output_type": "stream",
     "text": [
      "Requirement already satisfied: pyarrow in c:\\users\\julian\\documents\\repositoriospersonales\\gpu_venv\\lib\\site-packages (12.0.1)\n",
      "Requirement already satisfied: numpy>=1.16.6 in c:\\users\\julian\\documents\\repositoriospersonales\\gpu_venv\\lib\\site-packages (from pyarrow) (1.24.0)\n"
     ]
    },
    {
     "name": "stderr",
     "output_type": "stream",
     "text": [
      "WARNING: You are using pip version 22.0.4; however, version 23.2.1 is available.\n",
      "You should consider upgrading via the 'C:\\Users\\Julian\\Documents\\RepositoriosPersonales\\GPU_venv\\Scripts\\python.exe -m pip install --upgrade pip' command.\n"
     ]
    },
    {
     "name": "stdout",
     "output_type": "stream",
     "text": [
      "Requirement already satisfied: fastparquet in c:\\users\\julian\\documents\\repositoriospersonales\\gpu_venv\\lib\\site-packages (2023.7.0)\n",
      "Requirement already satisfied: pandas>=1.5.0 in c:\\users\\julian\\documents\\repositoriospersonales\\gpu_venv\\lib\\site-packages (from fastparquet) (1.5.2)\n",
      "Requirement already satisfied: packaging in c:\\users\\julian\\documents\\repositoriospersonales\\gpu_venv\\lib\\site-packages (from fastparquet) (22.0)\n",
      "Requirement already satisfied: fsspec in c:\\users\\julian\\documents\\repositoriospersonales\\gpu_venv\\lib\\site-packages (from fastparquet) (2023.6.0)\n",
      "Requirement already satisfied: numpy>=1.20.3 in c:\\users\\julian\\documents\\repositoriospersonales\\gpu_venv\\lib\\site-packages (from fastparquet) (1.24.0)\n",
      "Requirement already satisfied: cramjam>=2.3 in c:\\users\\julian\\documents\\repositoriospersonales\\gpu_venv\\lib\\site-packages (from fastparquet) (2.7.0)\n",
      "Requirement already satisfied: python-dateutil>=2.8.1 in c:\\users\\julian\\documents\\repositoriospersonales\\gpu_venv\\lib\\site-packages (from pandas>=1.5.0->fastparquet) (2.8.2)\n",
      "Requirement already satisfied: pytz>=2020.1 in c:\\users\\julian\\documents\\repositoriospersonales\\gpu_venv\\lib\\site-packages (from pandas>=1.5.0->fastparquet) (2022.7)\n",
      "Requirement already satisfied: six>=1.5 in c:\\users\\julian\\documents\\repositoriospersonales\\gpu_venv\\lib\\site-packages (from python-dateutil>=2.8.1->pandas>=1.5.0->fastparquet) (1.16.0)\n"
     ]
    },
    {
     "name": "stderr",
     "output_type": "stream",
     "text": [
      "WARNING: You are using pip version 22.0.4; however, version 23.2.1 is available.\n",
      "You should consider upgrading via the 'C:\\Users\\Julian\\Documents\\RepositoriosPersonales\\GPU_venv\\Scripts\\python.exe -m pip install --upgrade pip' command.\n"
     ]
    }
   ],
   "source": [
    "!pip install pyarrow\n",
    "!pip install fastparquet\n"
   ]
  },
  {
   "cell_type": "code",
   "execution_count": 22,
   "metadata": {},
   "outputs": [
    {
     "data": {
      "text/html": [
       "<div>\n",
       "<style scoped>\n",
       "    .dataframe tbody tr th:only-of-type {\n",
       "        vertical-align: middle;\n",
       "    }\n",
       "\n",
       "    .dataframe tbody tr th {\n",
       "        vertical-align: top;\n",
       "    }\n",
       "\n",
       "    .dataframe thead th {\n",
       "        text-align: right;\n",
       "    }\n",
       "</style>\n",
       "<table border=\"1\" class=\"dataframe\">\n",
       "  <thead>\n",
       "    <tr style=\"text-align: right;\">\n",
       "      <th></th>\n",
       "      <th>A3TV</th>\n",
       "      <th>ABE</th>\n",
       "      <th>ABG.P</th>\n",
       "      <th>ABG.P_1</th>\n",
       "      <th>ABG</th>\n",
       "      <th>ACE</th>\n",
       "      <th>ACR</th>\n",
       "      <th>ACS</th>\n",
       "      <th>ACX</th>\n",
       "      <th>ACX_1</th>\n",
       "      <th>...</th>\n",
       "      <th>URB</th>\n",
       "      <th>VAL</th>\n",
       "      <th>VAL_1</th>\n",
       "      <th>VDR</th>\n",
       "      <th>VIS</th>\n",
       "      <th>VIS_1</th>\n",
       "      <th>VIS_2</th>\n",
       "      <th>VIS_3</th>\n",
       "      <th>ZEL</th>\n",
       "      <th>ZOT</th>\n",
       "    </tr>\n",
       "    <tr>\n",
       "      <th>date</th>\n",
       "      <th></th>\n",
       "      <th></th>\n",
       "      <th></th>\n",
       "      <th></th>\n",
       "      <th></th>\n",
       "      <th></th>\n",
       "      <th></th>\n",
       "      <th></th>\n",
       "      <th></th>\n",
       "      <th></th>\n",
       "      <th></th>\n",
       "      <th></th>\n",
       "      <th></th>\n",
       "      <th></th>\n",
       "      <th></th>\n",
       "      <th></th>\n",
       "      <th></th>\n",
       "      <th></th>\n",
       "      <th></th>\n",
       "      <th></th>\n",
       "      <th></th>\n",
       "    </tr>\n",
       "  </thead>\n",
       "  <tbody>\n",
       "    <tr>\n",
       "      <th>1993-08-04</th>\n",
       "      <td>NaN</td>\n",
       "      <td>NaN</td>\n",
       "      <td>NaN</td>\n",
       "      <td>NaN</td>\n",
       "      <td>NaN</td>\n",
       "      <td>NaN</td>\n",
       "      <td>NaN</td>\n",
       "      <td>NaN</td>\n",
       "      <td>NaN</td>\n",
       "      <td>1.1586</td>\n",
       "      <td>...</td>\n",
       "      <td>NaN</td>\n",
       "      <td>NaN</td>\n",
       "      <td>NaN</td>\n",
       "      <td>NaN</td>\n",
       "      <td>2.8762</td>\n",
       "      <td>NaN</td>\n",
       "      <td>NaN</td>\n",
       "      <td>NaN</td>\n",
       "      <td>NaN</td>\n",
       "      <td>0.4122</td>\n",
       "    </tr>\n",
       "    <tr>\n",
       "      <th>1993-08-05</th>\n",
       "      <td>NaN</td>\n",
       "      <td>NaN</td>\n",
       "      <td>NaN</td>\n",
       "      <td>NaN</td>\n",
       "      <td>NaN</td>\n",
       "      <td>NaN</td>\n",
       "      <td>NaN</td>\n",
       "      <td>NaN</td>\n",
       "      <td>NaN</td>\n",
       "      <td>1.1539</td>\n",
       "      <td>...</td>\n",
       "      <td>NaN</td>\n",
       "      <td>NaN</td>\n",
       "      <td>NaN</td>\n",
       "      <td>NaN</td>\n",
       "      <td>2.8093</td>\n",
       "      <td>NaN</td>\n",
       "      <td>NaN</td>\n",
       "      <td>NaN</td>\n",
       "      <td>NaN</td>\n",
       "      <td>0.4097</td>\n",
       "    </tr>\n",
       "    <tr>\n",
       "      <th>1993-08-06</th>\n",
       "      <td>NaN</td>\n",
       "      <td>NaN</td>\n",
       "      <td>NaN</td>\n",
       "      <td>NaN</td>\n",
       "      <td>NaN</td>\n",
       "      <td>NaN</td>\n",
       "      <td>NaN</td>\n",
       "      <td>NaN</td>\n",
       "      <td>NaN</td>\n",
       "      <td>1.1539</td>\n",
       "      <td>...</td>\n",
       "      <td>NaN</td>\n",
       "      <td>NaN</td>\n",
       "      <td>NaN</td>\n",
       "      <td>NaN</td>\n",
       "      <td>2.8928</td>\n",
       "      <td>NaN</td>\n",
       "      <td>NaN</td>\n",
       "      <td>NaN</td>\n",
       "      <td>NaN</td>\n",
       "      <td>0.4109</td>\n",
       "    </tr>\n",
       "    <tr>\n",
       "      <th>1993-08-09</th>\n",
       "      <td>NaN</td>\n",
       "      <td>NaN</td>\n",
       "      <td>NaN</td>\n",
       "      <td>NaN</td>\n",
       "      <td>NaN</td>\n",
       "      <td>NaN</td>\n",
       "      <td>NaN</td>\n",
       "      <td>NaN</td>\n",
       "      <td>NaN</td>\n",
       "      <td>1.0929</td>\n",
       "      <td>...</td>\n",
       "      <td>NaN</td>\n",
       "      <td>NaN</td>\n",
       "      <td>NaN</td>\n",
       "      <td>NaN</td>\n",
       "      <td>2.8846</td>\n",
       "      <td>NaN</td>\n",
       "      <td>NaN</td>\n",
       "      <td>NaN</td>\n",
       "      <td>NaN</td>\n",
       "      <td>0.4108</td>\n",
       "    </tr>\n",
       "    <tr>\n",
       "      <th>1993-08-10</th>\n",
       "      <td>NaN</td>\n",
       "      <td>NaN</td>\n",
       "      <td>NaN</td>\n",
       "      <td>NaN</td>\n",
       "      <td>NaN</td>\n",
       "      <td>NaN</td>\n",
       "      <td>NaN</td>\n",
       "      <td>NaN</td>\n",
       "      <td>NaN</td>\n",
       "      <td>1.0929</td>\n",
       "      <td>...</td>\n",
       "      <td>NaN</td>\n",
       "      <td>NaN</td>\n",
       "      <td>NaN</td>\n",
       "      <td>NaN</td>\n",
       "      <td>2.8678</td>\n",
       "      <td>NaN</td>\n",
       "      <td>NaN</td>\n",
       "      <td>NaN</td>\n",
       "      <td>NaN</td>\n",
       "      <td>0.4129</td>\n",
       "    </tr>\n",
       "  </tbody>\n",
       "</table>\n",
       "<p>5 rows × 167 columns</p>\n",
       "</div>"
      ],
      "text/plain": [
       "            A3TV  ABE  ABG.P  ABG.P_1  ABG  ACE  ACR  ACS  ACX   ACX_1  ...  \\\n",
       "date                                                                    ...   \n",
       "1993-08-04   NaN  NaN    NaN      NaN  NaN  NaN  NaN  NaN  NaN  1.1586  ...   \n",
       "1993-08-05   NaN  NaN    NaN      NaN  NaN  NaN  NaN  NaN  NaN  1.1539  ...   \n",
       "1993-08-06   NaN  NaN    NaN      NaN  NaN  NaN  NaN  NaN  NaN  1.1539  ...   \n",
       "1993-08-09   NaN  NaN    NaN      NaN  NaN  NaN  NaN  NaN  NaN  1.0929  ...   \n",
       "1993-08-10   NaN  NaN    NaN      NaN  NaN  NaN  NaN  NaN  NaN  1.0929  ...   \n",
       "\n",
       "            URB  VAL  VAL_1  VDR     VIS  VIS_1  VIS_2  VIS_3  ZEL     ZOT  \n",
       "date                                                                        \n",
       "1993-08-04  NaN  NaN    NaN  NaN  2.8762    NaN    NaN    NaN  NaN  0.4122  \n",
       "1993-08-05  NaN  NaN    NaN  NaN  2.8093    NaN    NaN    NaN  NaN  0.4097  \n",
       "1993-08-06  NaN  NaN    NaN  NaN  2.8928    NaN    NaN    NaN  NaN  0.4109  \n",
       "1993-08-09  NaN  NaN    NaN  NaN  2.8846    NaN    NaN    NaN  NaN  0.4108  \n",
       "1993-08-10  NaN  NaN    NaN  NaN  2.8678    NaN    NaN    NaN  NaN  0.4129  \n",
       "\n",
       "[5 rows x 167 columns]"
      ]
     },
     "execution_count": 22,
     "metadata": {},
     "output_type": "execute_result"
    }
   ],
   "source": [
    "import pandas as pd\n",
    "\n",
    "# Cargar el archivo Parquet\n",
    "df_price = pd.read_parquet('ibex_historical_data')\n",
    "\n",
    "df_price.head()"
   ]
  },
  {
   "cell_type": "code",
   "execution_count": 7,
   "metadata": {},
   "outputs": [
    {
     "name": "stdout",
     "output_type": "stream",
     "text": [
      "Collecting xlrd\n",
      "  Downloading xlrd-2.0.1-py2.py3-none-any.whl (96 kB)\n",
      "     -------------------------------------- 96.5/96.5 KB 918.0 kB/s eta 0:00:00\n",
      "Collecting openpyxl\n",
      "  Downloading openpyxl-3.1.2-py2.py3-none-any.whl (249 kB)\n",
      "     ------------------------------------ 250.0/250.0 KB 383.6 kB/s eta 0:00:00\n",
      "Collecting et-xmlfile\n",
      "  Using cached et_xmlfile-1.1.0-py3-none-any.whl (4.7 kB)\n",
      "Installing collected packages: xlrd, et-xmlfile, openpyxl\n",
      "Successfully installed et-xmlfile-1.1.0 openpyxl-3.1.2 xlrd-2.0.1\n"
     ]
    },
    {
     "name": "stderr",
     "output_type": "stream",
     "text": [
      "WARNING: You are using pip version 22.0.4; however, version 23.2.1 is available.\n",
      "You should consider upgrading via the 'C:\\Users\\Julian\\Documents\\RepositoriosPersonales\\GPU_venv\\Scripts\\python.exe -m pip install --upgrade pip' command.\n"
     ]
    }
   ],
   "source": [
    "!pip install xlrd openpyxl"
   ]
  },
  {
   "cell_type": "code",
   "execution_count": 21,
   "metadata": {},
   "outputs": [
    {
     "data": {
      "text/html": [
       "<div>\n",
       "<style scoped>\n",
       "    .dataframe tbody tr th:only-of-type {\n",
       "        vertical-align: middle;\n",
       "    }\n",
       "\n",
       "    .dataframe tbody tr th {\n",
       "        vertical-align: top;\n",
       "    }\n",
       "\n",
       "    .dataframe thead th {\n",
       "        text-align: right;\n",
       "    }\n",
       "</style>\n",
       "<table border=\"1\" class=\"dataframe\">\n",
       "  <thead>\n",
       "    <tr style=\"text-align: right;\">\n",
       "      <th></th>\n",
       "      <th>Activo</th>\n",
       "      <th>Inclusion</th>\n",
       "      <th>Exclusion</th>\n",
       "    </tr>\n",
       "  </thead>\n",
       "  <tbody>\n",
       "    <tr>\n",
       "      <th>0</th>\n",
       "      <td>ACE</td>\n",
       "      <td>1991-01-02</td>\n",
       "      <td>2003-06-02</td>\n",
       "    </tr>\n",
       "    <tr>\n",
       "      <th>1</th>\n",
       "      <td>ACX</td>\n",
       "      <td>1991-01-02</td>\n",
       "      <td>1991-07-01</td>\n",
       "    </tr>\n",
       "    <tr>\n",
       "      <th>2</th>\n",
       "      <td>ALB</td>\n",
       "      <td>1991-01-02</td>\n",
       "      <td>1991-07-01</td>\n",
       "    </tr>\n",
       "    <tr>\n",
       "      <th>3</th>\n",
       "      <td>ASL</td>\n",
       "      <td>1991-01-02</td>\n",
       "      <td>1994-01-03</td>\n",
       "    </tr>\n",
       "    <tr>\n",
       "      <th>4</th>\n",
       "      <td>BBV</td>\n",
       "      <td>1991-01-02</td>\n",
       "      <td>2000-01-31</td>\n",
       "    </tr>\n",
       "  </tbody>\n",
       "</table>\n",
       "</div>"
      ],
      "text/plain": [
       "  Activo  Inclusion  Exclusion\n",
       "0    ACE 1991-01-02 2003-06-02\n",
       "1    ACX 1991-01-02 1991-07-01\n",
       "2    ALB 1991-01-02 1991-07-01\n",
       "3    ASL 1991-01-02 1994-01-03\n",
       "4    BBV 1991-01-02 2000-01-31"
      ]
     },
     "execution_count": 21,
     "metadata": {},
     "output_type": "execute_result"
    }
   ],
   "source": [
    "df_composition = pd.read_excel('Historical_Composition_IBEX35.xlsx')\n",
    "\n",
    "df_composition.head()"
   ]
  },
  {
   "cell_type": "markdown",
   "metadata": {},
   "source": [
    "Comprobamos que las columans de dechas tienen el mismo tipo y/o formato"
   ]
  },
  {
   "cell_type": "code",
   "execution_count": 23,
   "metadata": {},
   "outputs": [
    {
     "data": {
      "text/plain": [
       "Index(['1993-08-04', '1993-08-05', '1993-08-06', '1993-08-09', '1993-08-10',\n",
       "       '1993-08-11', '1993-08-12', '1993-08-13', '1993-08-16', '1993-08-17',\n",
       "       ...\n",
       "       '2023-07-03', '2023-07-04', '2023-07-05', '2023-07-06', '2023-07-07',\n",
       "       '2023-07-10', '2023-07-11', '2023-07-12', '2023-07-13', '2023-07-14'],\n",
       "      dtype='object', name='date', length=7589)"
      ]
     },
     "execution_count": 23,
     "metadata": {},
     "output_type": "execute_result"
    }
   ],
   "source": [
    "df_price.index"
   ]
  },
  {
   "cell_type": "code",
   "execution_count": 24,
   "metadata": {},
   "outputs": [
    {
     "data": {
      "text/plain": [
       "(0     1991-01-02\n",
       " 1     1991-01-02\n",
       " 2     1991-01-02\n",
       " 3     1991-01-02\n",
       " 4     1991-01-02\n",
       "          ...    \n",
       " 164   2022-06-13\n",
       " 165   2022-06-20\n",
       " 166   2022-06-20\n",
       " 167   2022-12-19\n",
       " 168   2022-12-27\n",
       " Name: Inclusion, Length: 169, dtype: datetime64[ns],\n",
       " 0     2003-06-02\n",
       " 1     1991-07-01\n",
       " 2     1991-07-01\n",
       " 3     1994-01-03\n",
       " 4     2000-01-31\n",
       "          ...    \n",
       " 164          NaT\n",
       " 165          NaT\n",
       " 166          NaT\n",
       " 167          NaT\n",
       " 168          NaT\n",
       " Name: Exclusion, Length: 169, dtype: datetime64[ns])"
      ]
     },
     "execution_count": 24,
     "metadata": {},
     "output_type": "execute_result"
    }
   ],
   "source": [
    "df_composition.iloc[:,1], df_composition.iloc[:,2]"
   ]
  },
  {
   "cell_type": "code",
   "execution_count": 25,
   "metadata": {},
   "outputs": [],
   "source": [
    "# Convertir el índice a datetime\n",
    "df_price.index = pd.to_datetime(df_price.index)\n"
   ]
  },
  {
   "cell_type": "code",
   "execution_count": 26,
   "metadata": {},
   "outputs": [
    {
     "data": {
      "text/plain": [
       "DatetimeIndex(['1993-08-04', '1993-08-05', '1993-08-06', '1993-08-09',\n",
       "               '1993-08-10', '1993-08-11', '1993-08-12', '1993-08-13',\n",
       "               '1993-08-16', '1993-08-17',\n",
       "               ...\n",
       "               '2023-07-03', '2023-07-04', '2023-07-05', '2023-07-06',\n",
       "               '2023-07-07', '2023-07-10', '2023-07-11', '2023-07-12',\n",
       "               '2023-07-13', '2023-07-14'],\n",
       "              dtype='datetime64[ns]', name='date', length=7589, freq=None)"
      ]
     },
     "execution_count": 26,
     "metadata": {},
     "output_type": "execute_result"
    }
   ],
   "source": [
    "df_price.index"
   ]
  },
  {
   "cell_type": "code",
   "execution_count": 27,
   "metadata": {},
   "outputs": [
    {
     "data": {
      "text/plain": [
       "(0     1991-01-02\n",
       " 1     1991-01-02\n",
       " 2     1991-01-02\n",
       " 3     1991-01-02\n",
       " 4     1991-01-02\n",
       "          ...    \n",
       " 164   2022-06-13\n",
       " 165   2022-06-20\n",
       " 166   2022-06-20\n",
       " 167   2022-12-19\n",
       " 168   2022-12-27\n",
       " Name: Inclusion, Length: 169, dtype: datetime64[ns],\n",
       " 0     2003-06-02\n",
       " 1     1991-07-01\n",
       " 2     1991-07-01\n",
       " 3     1994-01-03\n",
       " 4     2000-01-31\n",
       "          ...    \n",
       " 164          NaT\n",
       " 165          NaT\n",
       " 166          NaT\n",
       " 167          NaT\n",
       " 168          NaT\n",
       " Name: Exclusion, Length: 169, dtype: datetime64[ns])"
      ]
     },
     "execution_count": 27,
     "metadata": {},
     "output_type": "execute_result"
    }
   ],
   "source": [
    "df_composition.iloc[:,1], df_composition.iloc[:,2]"
   ]
  },
  {
   "cell_type": "code",
   "execution_count": 31,
   "metadata": {},
   "outputs": [
    {
     "data": {
      "text/plain": [
       "Timestamp('1991-01-02 00:00:00')"
      ]
     },
     "execution_count": 31,
     "metadata": {},
     "output_type": "execute_result"
    }
   ],
   "source": [
    "df_composition.iloc[0,1]"
   ]
  },
  {
   "cell_type": "code",
   "execution_count": 41,
   "metadata": {},
   "outputs": [
    {
     "data": {
      "text/plain": [
       "A3TV      NaN\n",
       "ABE       NaN\n",
       "ABG.P     NaN\n",
       "ABG.P_1   NaN\n",
       "ABG       NaN\n",
       "           ..\n",
       "VIS_1     NaN\n",
       "VIS_2     NaN\n",
       "VIS_3     NaN\n",
       "ZEL       NaN\n",
       "ZOT       NaN\n",
       "Name: 2022-06-20 00:00:00, Length: 167, dtype: float64"
      ]
     },
     "execution_count": 41,
     "metadata": {},
     "output_type": "execute_result"
    }
   ],
   "source": [
    "df_price.loc[\"2022-06-20\"]"
   ]
  },
  {
   "cell_type": "code",
   "execution_count": 42,
   "metadata": {},
   "outputs": [
    {
     "data": {
      "text/plain": [
       "A3TV      NaN\n",
       "ABE       NaN\n",
       "ABG.P     NaN\n",
       "ABG.P_1   NaN\n",
       "ABG       NaN\n",
       "           ..\n",
       "VIS_1     NaN\n",
       "VIS_2     NaN\n",
       "VIS_3     NaN\n",
       "ZEL       NaN\n",
       "ZOT       NaN\n",
       "Name: 2022-06-20 00:00:00, Length: 167, dtype: float64"
      ]
     },
     "execution_count": 42,
     "metadata": {},
     "output_type": "execute_result"
    }
   ],
   "source": [
    "df_price.loc[df_composition.iloc[166,1]]"
   ]
  },
  {
   "cell_type": "code",
   "execution_count": null,
   "metadata": {},
   "outputs": [],
   "source": [
    "\"\"\"\n",
    "df_price = datafame con los precios diarios historicos de un conjunto de activos\n",
    "\n",
    "    index = fechas\n",
    "\n",
    "    columnas = activos\n",
    "\n",
    "    en cada final hay el precio historico corresponediente a cada activo en cada dia\n",
    "\n",
    "df_composition = dataframe con las fechas inicial y final de periodos donde los activos estaban disponibles\n",
    "\n",
    "primera columna (Activo)= nombre del activo\n",
    "segunda columna (Inclusion) = fecha del primera dia que el activo estaba disponible\n",
    "tercera columna (Exclusion) = fecha del ultimo dia que el activo estaba disponible\n",
    "\n",
    "\n",
    "Crear una funcion que dandole dos fechas me diga que activos estaban disponibles entre esas dos fechas\n",
    "\n",
    "\"\"\""
   ]
  },
  {
   "cell_type": "markdown",
   "metadata": {},
   "source": [
    "funcion para poder rescatar los activos dentro del indice"
   ]
  },
  {
   "cell_type": "code",
   "execution_count": 44,
   "metadata": {},
   "outputs": [],
   "source": [
    "def activos_disponibles(df_composition, start_date: str, end_date: str) -> list:\n",
    "    \"\"\"\n",
    "    Devuelve una lista de activos que estaban disponibles entre las fechas dadas.\n",
    "\n",
    "    Parameters:\n",
    "    - start_date (str): Fecha de inicio en formato 'YYYY-MM-DD'.\n",
    "    - end_date (str): Fecha final en formato 'YYYY-MM-DD'.\n",
    "\n",
    "    Returns:\n",
    "    - list: Lista de activos disponibles entre las fechas dadas.\n",
    "    \"\"\"\n",
    "    mask = (df_composition['Inclusion'] <= pd.to_datetime(end_date)) & (df_composition['Exclusion'] >= pd.to_datetime(start_date))\n",
    "    available_assets = df_composition.loc[mask, 'Activo'].tolist()\n",
    "    return available_assets"
   ]
  },
  {
   "cell_type": "code",
   "execution_count": 47,
   "metadata": {},
   "outputs": [],
   "source": [
    "# Test\n",
    "start_date = '1993-08-04'\n",
    "end_date = '1994-08-04'\n",
    "\n",
    "res = activos_disponibles(df_composition, start_date, end_date)"
   ]
  },
  {
   "cell_type": "code",
   "execution_count": 50,
   "metadata": {},
   "outputs": [
    {
     "data": {
      "text/plain": [
       "34"
      ]
     },
     "execution_count": 50,
     "metadata": {},
     "output_type": "execute_result"
    }
   ],
   "source": [
    "len(res)"
   ]
  },
  {
   "cell_type": "markdown",
   "metadata": {},
   "source": [
    "comprobamos que selecciona bien los activos"
   ]
  },
  {
   "cell_type": "code",
   "execution_count": 54,
   "metadata": {},
   "outputs": [],
   "source": [
    "import pandas as pd\n",
    "import numpy as np\n",
    "import matplotlib.pyplot as plt"
   ]
  },
  {
   "cell_type": "code",
   "execution_count": null,
   "metadata": {},
   "outputs": [],
   "source": [
    "\"\"\"\n",
    "\n",
    "Una funcion de test, que itere desde una feccha a otra de mes a mes y guarde en un array el numero de activos_disponibles hacendo uso de la funcion activos_disponibles.\n",
    "Al finalizar plotee un histograma el array\n",
    "\n",
    "\n",
    "\"\"\""
   ]
  },
  {
   "cell_type": "code",
   "execution_count": 75,
   "metadata": {},
   "outputs": [],
   "source": [
    "def test_function(df_composition, start_date: str, end_date: str):\n",
    "    current_date = pd.to_datetime(start_date)\n",
    "    end_date = pd.to_datetime(end_date)\n",
    "    \n",
    "    num_activos = []\n",
    "    \n",
    "    while current_date <= end_date:\n",
    "        next_month = (current_date + pd.offsets.MonthBegin(1))\n",
    "        activos = activos_disponibles(df_composition, current_date.strftime('%Y-%m-%d'), next_month.strftime('%Y-%m-%d'))\n",
    "        num_activos.append(len(activos))\n",
    "        current_date = next_month\n",
    "\n",
    "    # Ploteo del histograma\n",
    "    plt.hist(num_activos, bins=np.arange(0, max(num_activos) + 2) - 0.5, edgecolor='k', alpha=0.7)\n",
    "    plt.xticks(range(max(num_activos) + 1))\n",
    "    plt.xlabel('Número de activos disponibles')\n",
    "    plt.ylabel('Número de meses')\n",
    "    plt.title('Distribución del número de activos disponibles por mes')\n",
    "    plt.show()"
   ]
  },
  {
   "cell_type": "code",
   "execution_count": 76,
   "metadata": {},
   "outputs": [
    {
     "data": {
      "image/png": "[encoded data removed]",
      "text/plain": [
       "<Figure size 640x480 with 1 Axes>"
      ]
     },
     "metadata": {},
     "output_type": "display_data"
    }
   ],
   "source": [
    "test_function(df_composition, df_price.index[0], df_price.index[-1])"
   ]
  },
  {
   "cell_type": "code",
   "execution_count": 66,
   "metadata": {},
   "outputs": [],
   "source": [
    "def test_function(start_date: str, end_date: str):\n",
    "    current_date = pd.to_datetime(start_date)\n",
    "    end_date = pd.to_datetime(end_date)\n",
    "    \n",
    "    num_activos = []\n",
    "    dates = []\n",
    "    \n",
    "    while current_date <= end_date:\n",
    "        next_month = (current_date + pd.offsets.MonthBegin(1))\n",
    "        activos = activos_disponibles(df_composition, current_date.strftime('%Y-%m-%d'), next_month.strftime('%Y-%m-%d'))\n",
    "        num_activos.append(len(activos))\n",
    "        dates.append(current_date.strftime('%Y-%m-%d'))\n",
    "        current_date = next_month\n",
    "    \n",
    "    # Ploteo del histograma\n",
    "    plt.hist(num_activos, bins=np.arange(0, max(num_activos) + 2) - 0.5, edgecolor='k', alpha=0.7)\n",
    "    plt.xticks(range(max(num_activos) + 1))\n",
    "    plt.xlabel('Número de activos disponibles')\n",
    "    plt.ylabel('Número de meses')\n",
    "    plt.title('Distribución del número de activos disponibles por mes')\n",
    "    plt.show()\n",
    "    \n",
    "    return np.array(num_activos), np.array(dates)"
   ]
  },
  {
   "cell_type": "code",
   "execution_count": 67,
   "metadata": {},
   "outputs": [
    {
     "data": {
      "image/png": "[encoded data removed]",
      "text/plain": [
       "<Figure size 640x480 with 1 Axes>"
      ]
     },
     "metadata": {},
     "output_type": "display_data"
    }
   ],
   "source": [
    "num_activos, dates = test_function(df_price.index[0], df_price.index[-1])"
   ]
  },
  {
   "cell_type": "code",
   "execution_count": 68,
   "metadata": {},
   "outputs": [
    {
     "data": {
      "text/plain": [
       "(array([13., 15., 56., 13., 34., 39., 69., 38., 67., 16.]),\n",
       " array([ 0. ,  3.5,  7. , 10.5, 14. , 17.5, 21. , 24.5, 28. , 31.5, 35. ]),\n",
       " <BarContainer object of 10 artists>)"
      ]
     },
     "execution_count": 68,
     "metadata": {},
     "output_type": "execute_result"
    },
    {
     "data": {
      "image/png": "[encoded data removed]",
      "text/plain": [
       "<Figure size 640x480 with 1 Axes>"
      ]
     },
     "metadata": {},
     "output_type": "display_data"
    }
   ],
   "source": [
    "plt.hist(num_activos)"
   ]
  },
  {
   "cell_type": "code",
   "execution_count": 81,
   "metadata": {},
   "outputs": [
    {
     "data": {
      "text/plain": [
       "array(['2015-07-01', '2015-08-01', '2015-09-01', '2015-10-01',\n",
       "       '2015-11-01', '2015-12-01', '2016-01-01', '2016-02-01',\n",
       "       '2016-03-01', '2016-04-01', '2016-05-01', '2016-06-01',\n",
       "       '2016-07-01', '2016-08-01', '2016-09-01', '2016-10-01',\n",
       "       '2016-11-01', '2016-12-01', '2017-01-01', '2017-02-01',\n",
       "       '2017-03-01', '2017-04-01', '2017-05-01', '2017-06-01',\n",
       "       '2017-07-01', '2017-08-01', '2017-09-01', '2017-10-01',\n",
       "       '2017-11-01', '2017-12-01', '2018-01-01', '2018-02-01',\n",
       "       '2018-03-01', '2018-04-01', '2018-05-01', '2018-06-01',\n",
       "       '2018-07-01', '2018-08-01', '2018-09-01', '2018-10-01',\n",
       "       '2018-11-01', '2018-12-01', '2019-01-01', '2019-02-01',\n",
       "       '2019-03-01', '2019-04-01', '2019-05-01', '2019-06-01',\n",
       "       '2019-07-01', '2019-08-01', '2019-09-01', '2019-10-01',\n",
       "       '2019-11-01', '2019-12-01', '2020-01-01', '2020-02-01',\n",
       "       '2020-03-01', '2020-04-01', '2020-05-01', '2020-06-01',\n",
       "       '2020-07-01', '2020-08-01', '2020-09-01', '2020-10-01',\n",
       "       '2020-11-01', '2020-12-01', '2021-01-01', '2021-02-01',\n",
       "       '2021-03-01', '2021-04-01', '2021-05-01', '2021-06-01',\n",
       "       '2021-07-01', '2021-08-01', '2021-09-01', '2021-10-01',\n",
       "       '2021-11-01', '2021-12-01', '2022-01-01', '2022-02-01',\n",
       "       '2022-03-01', '2022-04-01', '2022-05-01', '2022-06-01',\n",
       "       '2022-07-01', '2022-08-01', '2022-09-01', '2022-10-01',\n",
       "       '2022-11-01', '2022-12-01', '2023-01-01', '2023-02-01',\n",
       "       '2023-03-01', '2023-04-01', '2023-05-01', '2023-06-01',\n",
       "       '2023-07-01'], dtype='<U10')"
      ]
     },
     "execution_count": 81,
     "metadata": {},
     "output_type": "execute_result"
    }
   ],
   "source": [
    "d = dates[np.where(num_activos < 15)]\n",
    "d"
   ]
  },
  {
   "cell_type": "code",
   "execution_count": 82,
   "metadata": {},
   "outputs": [
    {
     "data": {
      "text/plain": [
       "(13,\n",
       " ['POP',\n",
       "  'FCC',\n",
       "  'GAS',\n",
       "  'ABE',\n",
       "  'TL5',\n",
       "  'REE_1',\n",
       "  'TRE',\n",
       "  'OHLA',\n",
       "  'DIA',\n",
       "  'SCYR',\n",
       "  'BKIA_1',\n",
       "  'GAM_1',\n",
       "  'ABG.P_1'])"
      ]
     },
     "execution_count": 82,
     "metadata": {},
     "output_type": "execute_result"
    }
   ],
   "source": [
    "res = activos_disponibles(df_composition, d[0], d[1])\n",
    "len(res), res"
   ]
  }
 ],
 "metadata": {
  "kernelspec": {
   "display_name": "GPU_venv",
   "language": "python",
   "name": "python3"
  },
  "language_info": {
   "codemirror_mode": {
    "name": "ipython",
    "version": 3
   },
   "file_extension": ".py",
   "mimetype": "text/x-python",
   "name": "python",
   "nbconvert_exporter": "python",
   "pygments_lexer": "ipython3",
   "version": "3.9.13"
  },
  "orig_nbformat": 4
 },
 "nbformat": 4,
 "nbformat_minor": 2
}
