{
 "cells": [
  {
   "cell_type": "code",
   "execution_count": 2,
   "metadata": {},
   "outputs": [],
   "source": [
    "# CARGAMOS LIBRERIAS\n",
    "import pandas as pd\n",
    "import numpy as np\n",
    "import matplotlib.pyplot as plt\n",
    "import yfinance as yf\n",
    "import datetime\n",
    "\n",
    "import boto3\n",
    "import s3fs\n",
    "import fastparquet\n",
    "import awswrangler as wr\n",
    "import os\n",
    "\n",
    "import pyarrow.parquet as pq\n",
    "import pyarrow as pa\n",
    "\n",
    "import requests\n",
    "import json\n",
    "from io import BytesIO\n",
    "from pandas.tseries.offsets import BDay\n",
    "\n",
    "import math"
   ]
  },
  {
   "cell_type": "code",
   "execution_count": 3,
   "metadata": {},
   "outputs": [],
   "source": []
  },
  {
   "cell_type": "code",
   "execution_count": 4,
   "metadata": {},
   "outputs": [],
   "source": [
    "# INICIALIZAMOS UNA SESION EN AWS\n",
    "session = boto3.Session(\n",
    "    aws_access_key_id=os.environ['S3_ACCESS_KEY'],\n",
    "    aws_secret_access_key=os.environ['S3_SECRET_KEY'],\n",
    "    region_name=os.environ['S3_REGION'])\n",
    "\n",
    "s3_client = boto3.client('s3')"
   ]
  },
  {
   "attachments": {},
   "cell_type": "markdown",
   "metadata": {},
   "source": [
    "OBJETIVO DE ESTE NOTEBOOK:\n",
    "- DESCARGAR DE DISTINTOS ORIGENES LOS DATOS DE LOS ACTIVOS DEL IBEX35\n",
    "- COMPARAR LOS DATOS OBTENIDOS "
   ]
  },
  {
   "attachments": {},
   "cell_type": "markdown",
   "metadata": {},
   "source": [
    "## CARGA DE COMPOSICIÓN HISTÓRICA DE IBEX35"
   ]
  },
  {
   "cell_type": "code",
   "execution_count": 5,
   "metadata": {},
   "outputs": [
    {
     "data": {
      "text/html": [
       "<div>\n",
       "<style scoped>\n",
       "    .dataframe tbody tr th:only-of-type {\n",
       "        vertical-align: middle;\n",
       "    }\n",
       "\n",
       "    .dataframe tbody tr th {\n",
       "        vertical-align: top;\n",
       "    }\n",
       "\n",
       "    .dataframe thead th {\n",
       "        text-align: right;\n",
       "    }\n",
       "</style>\n",
       "<table border=\"1\" class=\"dataframe\">\n",
       "  <thead>\n",
       "    <tr style=\"text-align: right;\">\n",
       "      <th></th>\n",
       "      <th>Activo</th>\n",
       "      <th>Inclusion</th>\n",
       "      <th>Exclusion</th>\n",
       "    </tr>\n",
       "  </thead>\n",
       "  <tbody>\n",
       "    <tr>\n",
       "      <th>0</th>\n",
       "      <td>ACE</td>\n",
       "      <td>1991-01-02</td>\n",
       "      <td>2003-06-02</td>\n",
       "    </tr>\n",
       "    <tr>\n",
       "      <th>1</th>\n",
       "      <td>ACX</td>\n",
       "      <td>1991-01-02</td>\n",
       "      <td>1991-07-01</td>\n",
       "    </tr>\n",
       "    <tr>\n",
       "      <th>2</th>\n",
       "      <td>ALB</td>\n",
       "      <td>1991-01-02</td>\n",
       "      <td>1991-07-01</td>\n",
       "    </tr>\n",
       "    <tr>\n",
       "      <th>3</th>\n",
       "      <td>ASL</td>\n",
       "      <td>1991-01-02</td>\n",
       "      <td>1994-01-03</td>\n",
       "    </tr>\n",
       "    <tr>\n",
       "      <th>4</th>\n",
       "      <td>BBV</td>\n",
       "      <td>1991-01-02</td>\n",
       "      <td>2000-01-31</td>\n",
       "    </tr>\n",
       "  </tbody>\n",
       "</table>\n",
       "</div>"
      ],
      "text/plain": [
       "  Activo  Inclusion  Exclusion\n",
       "0    ACE 1991-01-02 2003-06-02\n",
       "1    ACX 1991-01-02 1991-07-01\n",
       "2    ALB 1991-01-02 1991-07-01\n",
       "3    ASL 1991-01-02 1994-01-03\n",
       "4    BBV 1991-01-02 2000-01-31"
      ]
     },
     "execution_count": 5,
     "metadata": {},
     "output_type": "execute_result"
    }
   ],
   "source": [
    "# LEEMOS EL FICHERO CON LA COMPOSICIÓN HISTORICA\n",
    "ibex_constituents = pd.read_excel('data_processing/Historical Composition IBEX35.xlsx')\n",
    "ibex_constituents.head()"
   ]
  },
  {
   "cell_type": "code",
   "execution_count": 6,
   "metadata": {},
   "outputs": [],
   "source": [
    "# ibex_constituents['Exclusion'] -= BDay(1)\n",
    "\n",
    "# ibex_constituents['Inclusion'] = ibex_constituents['Inclusion'].dt.date\n",
    "# ibex_constituents['Exclusion'] = ibex_constituents['Exclusion'].dt.date\n",
    "\n",
    "# OBTENEMOS EL DIA ACTUAL\n",
    "today = datetime.date.today().strftime('%Y-%m-%d')\n",
    "\n",
    "# COMPLETAMOS LOS DATOS NULOS EN EL FICHERO DE COMPOSICIÓN HISTORICA CON LA FECHA ACTUAL\n",
    "ibex_constituents.fillna(today,inplace=True)\n",
    "\n",
    "# DEFINIMOS UNA VARIABLE PARA TODOS LOS ACTIVOS\n",
    "activos = ibex_constituents.Activo\n",
    "ibex_constituents['Ticker'] = activos.apply(lambda x: x.split('_')[0])\n",
    "\n",
    "unique_activos = list(set(activos))"
   ]
  },
  {
   "attachments": {},
   "cell_type": "markdown",
   "metadata": {},
   "source": [
    "### DESCARGAMOS LOS DATOS DE YAHOO FINANCE"
   ]
  },
  {
   "cell_type": "code",
   "execution_count": 7,
   "metadata": {},
   "outputs": [
    {
     "name": "stdout",
     "output_type": "stream",
     "text": [
      "[*********************100%***********************]  1 of 1 completed\n",
      "SCYR\n",
      "[*********************100%***********************]  1 of 1 completed\n",
      "SCYR_1\n",
      "[*********************100%***********************]  1 of 1 completed\n",
      "SCYR_2\n"
     ]
    }
   ],
   "source": [
    "# REALIZAMOS LA DESCARGA DE LOS DATOS DE YFINANCE Y LOS CARGAMOS EN UN BUCKET DE S3\n",
    "bucket_name = 'stock-market-historical-data'\n",
    "raw_folder = 'raw/yfinance/'\n",
    "s3 = boto3.resource('s3')\n",
    "failed_loads = []\n",
    "\n",
    "indexes = ibex_constituents[ibex_constituents['Activo'].isin(['ACE'])].index\n",
    "\n",
    "# for i in range(ibex_constituents.shape[0]):\n",
    "for i in indexes:\n",
    "\n",
    "    try:\n",
    "        ticker = ibex_constituents.Ticker[i] + '.MC'\n",
    "        file_name = ibex_constituents.Activo[i] +'.parquet'\n",
    "        full_path = raw_folder + file_name\n",
    "        \n",
    "        stock = yf.download(ticker)\n",
    "        stock = pd.DataFrame(stock)\n",
    "        \n",
    "        table = pa.Table.from_pandas(stock)\n",
    "        buf = BytesIO()\n",
    "        pq.write_table(table, buf)\n",
    "\n",
    "        s3.Object(bucket_name, full_path).put(Body=buf.getvalue())\n",
    "        print(ibex_constituents.Activo[i])\n",
    "    except:\n",
    "        failed_loads.append(ticker)\n",
    "        continue\n",
    "\n"
   ]
  },
  {
   "cell_type": "code",
   "execution_count": 40,
   "metadata": {},
   "outputs": [
    {
     "name": "stdout",
     "output_type": "stream",
     "text": [
      "[*********************100%***********************]  1 of 1 completed\n",
      "                Open      High       Low     Close  Adj Close   Volume\n",
      "Date                                                                  \n",
      "2003-06-02  8.086692  8.128164  7.895933  8.086692   5.068855  6043269\n",
      "2003-06-03  8.078402  8.161336  7.937396  8.078402   5.063657   822236\n",
      "2003-06-04  8.119864  8.169636  8.003749  8.119864   5.089646  1372029\n",
      "2003-06-05  8.169636  8.169636  8.078402  8.169636   5.120844   742405\n",
      "2003-06-06  8.045221  8.235989  8.045221  8.045221   5.042859   563733\n",
      "...              ...       ...       ...       ...        ...      ...\n",
      "2004-06-24  9.704034  9.836740  9.662563  9.704034   6.293741   353856\n",
      "2004-06-25  9.704034  9.828440  9.662563  9.704034   6.293741   366200\n",
      "2004-06-28  9.596210  9.745506  9.596210  9.596210   6.223811   794648\n",
      "2004-06-29  9.488385  9.604501  9.405442  9.488385   6.197623   651007\n",
      "2004-06-30  9.330798  9.496676  9.289326  9.330798   6.094692  6042853\n",
      "\n",
      "[283 rows x 6 columns]\n",
      "SCYR\n",
      "[*********************100%***********************]  1 of 1 completed\n",
      "                 Open       High        Low      Close  Adj Close    Volume\n",
      "Date                                                                       \n",
      "2005-01-03  10.077262  10.342673  10.027499  10.268030   6.805447   1722887\n",
      "2005-01-04  10.301202  10.400736  10.226558  10.350964   6.860413   1358266\n",
      "2005-01-05  10.309501  10.384145  10.243148  10.259730   6.799946    707876\n",
      "2005-01-06  11.171710  11.171710  11.171710  11.171710   7.404390         0\n",
      "2005-01-07  10.350964  10.400736  10.284611  10.359264   6.865916    958991\n",
      "...               ...        ...        ...        ...        ...       ...\n",
      "2016-06-14   1.378235   1.407352   1.354941   1.355911   1.035203   7976219\n",
      "2016-06-15   1.384058   1.417058   1.372411   1.390852   1.061880   8898560\n",
      "2016-06-16   1.358823   1.367558   1.321941   1.331647   1.016678   9736645\n",
      "2016-06-17   1.365617   1.524794   1.360764   1.509264   1.152284  23685590\n",
      "2016-06-20   1.601470   1.641264   1.523823   1.608264   1.227868  13457346\n",
      "\n",
      "[2932 rows x 6 columns]\n",
      "SCYR_1\n",
      "[*********************100%***********************]  1 of 1 completed\n",
      "             Open   High    Low  Close  Adj Close    Volume\n",
      "Date                                                       \n",
      "2022-06-20  2.380  2.428  2.378  2.416   2.302570   2314995\n",
      "2022-06-21  2.444  2.460  2.420  2.422   2.308288   2007536\n",
      "2022-06-22  2.420  2.420  2.300  2.360   2.249199   2489375\n",
      "2022-06-23  2.360  2.390  2.336  2.366   2.254917  21920115\n",
      "2022-06-24  2.388  2.402  2.358  2.394   2.281603   1101018\n",
      "...           ...    ...    ...    ...        ...       ...\n",
      "2023-08-03  2.994  2.998  2.952  2.962   2.962000   1590547\n",
      "2023-08-04  2.990  2.994  2.972  2.978   2.978000   2567092\n",
      "2023-08-07  2.980  2.980  2.948  2.968   2.968000    887777\n",
      "2023-08-08  2.950  2.972  2.924  2.942   2.942000    992239\n",
      "2023-08-09  2.980  2.980  2.944  2.964   2.964000   1367819\n",
      "\n",
      "[294 rows x 6 columns]\n",
      "SCYR_2\n"
     ]
    }
   ],
   "source": [
    "# REALIZAMOS LA DESCARGA DE LOS DATOS DE YFINANCE Y LOS CARGAMOS EN UN BUCKET DE S3\n",
    "bucket_name = 'stock-market-historical-data'\n",
    "preprocessed_folder = 'preprocessed/yfinance/'\n",
    "s3 = boto3.resource('s3')\n",
    "failed_loads = []\n",
    "\n",
    "indexes = ibex_constituents[ibex_constituents['Activo'].isin(['SCYR','SCYR_1','SCYR_2'])].index\n",
    "\n",
    "# for i in range(ibex_constituents.shape[0]):\n",
    "for i in indexes:\n",
    "\n",
    "    try:\n",
    "        ticker = ibex_constituents.Ticker[i] + '.MC'\n",
    "        file_name = ibex_constituents.Activo[i] +'.parquet'\n",
    "        start_date = ibex_constituents.Inclusion[i]\n",
    "        end_date = ibex_constituents.Exclusion[i]\n",
    "        full_path = preprocessed_folder + file_name\n",
    "        \n",
    "        stock = yf.download(ticker, start=start_date, end=end_date)\n",
    "        print(stock)\n",
    "        stock = pd.DataFrame(stock)\n",
    "        \n",
    "        table = pa.Table.from_pandas(stock)\n",
    "        buf = BytesIO()\n",
    "        pq.write_table(table, buf)\n",
    "\n",
    "        s3.Object(bucket_name, full_path).put(Body=buf.getvalue())\n",
    "        print(ibex_constituents.Activo[i])\n",
    "    except:\n",
    "        failed_loads.append(ticker)\n",
    "        continue\n",
    "\n"
   ]
  },
  {
   "cell_type": "code",
   "execution_count": 48,
   "metadata": {},
   "outputs": [
    {
     "data": {
      "text/plain": [
       "64"
      ]
     },
     "execution_count": 48,
     "metadata": {},
     "output_type": "execute_result"
    }
   ],
   "source": [
    "ibex_constituents[ibex_constituents['Activo']=='SOL'].index[0]"
   ]
  },
  {
   "cell_type": "code",
   "execution_count": 50,
   "metadata": {},
   "outputs": [
    {
     "data": {
      "text/plain": [
       "Timestamp('2003-01-02 00:00:00')"
      ]
     },
     "execution_count": 50,
     "metadata": {},
     "output_type": "execute_result"
    }
   ],
   "source": [
    "ibex_constituents.Exclusion[i]"
   ]
  },
  {
   "cell_type": "code",
   "execution_count": 37,
   "metadata": {},
   "outputs": [
    {
     "name": "stdout",
     "output_type": "stream",
     "text": [
      "4\n",
      "[*********************100%***********************]  1 of 1 completed\n",
      "                 Open       High        Low      Close  Adj Close    Volume\n",
      "Date                                                                       \n",
      "2000-01-03  13.690602  13.757854  13.594527  13.623349   4.755257   8244257\n",
      "2000-01-04  13.450416  13.536882  13.219837  13.267874   4.631179   8522096\n",
      "2000-01-05  13.142977  13.210230  12.912399  12.970044   4.527219  12159826\n",
      "2000-01-06  12.970044  12.970044  12.970044  12.970044   4.527219         0\n",
      "2000-01-07  13.248659  13.248659  12.998866  13.133370   4.584228  62261944\n",
      "2000-01-10  13.277482  13.277482  12.902791  12.922006   4.510450  58740351\n",
      "2000-01-11  12.873969  12.893184  12.537709  12.662605   4.419908   6761292\n",
      "2000-01-12  12.643391  12.643391  12.393597  12.518494   4.405469   8266754\n",
      "2000-01-13  12.489672  12.537709  12.105374  12.211056   4.297278   9372669\n",
      "2000-01-14  12.297523  12.480064  12.230271  12.451242   4.381802   8538333\n",
      "2000-01-17  12.537709  12.537709  12.307130  12.335952   4.341231   6825078\n",
      "2000-01-18  12.307130  12.326345  11.942047  12.076552   4.249946   9698972\n",
      "2000-01-19  11.855580  12.057337  11.817151  12.057337   4.243181  13027455\n",
      "2000-01-20  12.105374  12.163019  11.922833  12.038122   4.236421   9459285\n",
      "2000-01-21  11.942047  12.009300  11.749899  11.788328   4.148513   6786146\n",
      "2000-01-24  12.047729  12.047729  11.817151  11.845973   4.168800   5863878\n",
      "2000-01-25  11.836366  12.259093  11.797936  12.105374   4.260087   9429700\n",
      "2000-01-26  12.297523  12.537709  12.153411  12.480064   4.391946   9120798\n",
      "2000-01-27  12.614568  13.114155  12.547316  12.970044   4.564378  13662088\n",
      "2000-01-28  13.171800  13.171800  12.585746  12.922006   4.547472  16119882\n",
      "BBV\n"
     ]
    }
   ],
   "source": [
    "\n",
    "# REALIZAMOS LA DESCARGA DE LOS DATOS DE YFINANCE Y LOS CARGAMOS EN UN BUCKET DE S3\n",
    "bucket_name = 'stock-market-historical-data'\n",
    "preprocessed_folder = 'preprocessed/yfinance/'\n",
    "s3 = boto3.resource('s3')\n",
    "failed_loads = []\n",
    "i = ibex_constituents[ibex_constituents['Activo']=='BBV'].index[0]\n",
    "\n",
    "ticker = 'BBVA' + '.MC'\n",
    "print(i)\n",
    "file_name = ibex_constituents.Activo[i] +'.parquet'\n",
    "start_date = ibex_constituents.Inclusion[i]\n",
    "end_date = ibex_constituents.Exclusion[i]\n",
    "full_path = preprocessed_folder + file_name\n",
    "\n",
    "stock = yf.download(ticker, start=start_date, end=end_date)\n",
    "print(stock)\n",
    "stock = pd.DataFrame(stock)\n",
    "\n",
    "table = pa.Table.from_pandas(stock)\n",
    "buf = BytesIO()\n",
    "pq.write_table(table, buf)\n",
    "\n",
    "s3.Object(bucket_name, full_path).put(Body=buf.getvalue())\n",
    "print(ibex_constituents.Activo[i])\n"
   ]
  },
  {
   "cell_type": "code",
   "execution_count": 61,
   "metadata": {},
   "outputs": [
    {
     "data": {
      "text/plain": [
       "<AxesSubplot: xlabel='Date'>"
      ]
     },
     "execution_count": 61,
     "metadata": {},
     "output_type": "execute_result"
    },
    {
     "data": {
      "image/png": "[encoded data removed]",
      "text/plain": [
       "<Figure size 640x480 with 1 Axes>"
      ]
     },
     "metadata": {},
     "output_type": "display_data"
    }
   ],
   "source": [
    "stock['Close'].plot()"
   ]
  },
  {
   "cell_type": "code",
   "execution_count": 18,
   "metadata": {},
   "outputs": [
    {
     "data": {
      "text/plain": [
       "Int64Index([145], dtype='int64')"
      ]
     },
     "execution_count": 18,
     "metadata": {},
     "output_type": "execute_result"
    }
   ],
   "source": [
    "ibex_constituents[ibex_constituents['Activo']=='ELE_1'].index[0]"
   ]
  },
  {
   "cell_type": "code",
   "execution_count": 27,
   "metadata": {},
   "outputs": [
    {
     "data": {
      "text/html": [
       "<div>\n",
       "<style scoped>\n",
       "    .dataframe tbody tr th:only-of-type {\n",
       "        vertical-align: middle;\n",
       "    }\n",
       "\n",
       "    .dataframe tbody tr th {\n",
       "        vertical-align: top;\n",
       "    }\n",
       "\n",
       "    .dataframe thead th {\n",
       "        text-align: right;\n",
       "    }\n",
       "</style>\n",
       "<table border=\"1\" class=\"dataframe\">\n",
       "  <thead>\n",
       "    <tr style=\"text-align: right;\">\n",
       "      <th></th>\n",
       "      <th>Open</th>\n",
       "      <th>High</th>\n",
       "      <th>Low</th>\n",
       "      <th>Close</th>\n",
       "      <th>Adj Close</th>\n",
       "      <th>Volume</th>\n",
       "    </tr>\n",
       "    <tr>\n",
       "      <th>Date</th>\n",
       "      <th></th>\n",
       "      <th></th>\n",
       "      <th></th>\n",
       "      <th></th>\n",
       "      <th></th>\n",
       "      <th></th>\n",
       "    </tr>\n",
       "  </thead>\n",
       "  <tbody>\n",
       "    <tr>\n",
       "      <th>2000-01-03</th>\n",
       "      <td>11.60</td>\n",
       "      <td>11.60</td>\n",
       "      <td>11.05</td>\n",
       "      <td>11.15</td>\n",
       "      <td>-12.893392</td>\n",
       "      <td>164558</td>\n",
       "    </tr>\n",
       "    <tr>\n",
       "      <th>2000-01-04</th>\n",
       "      <td>11.00</td>\n",
       "      <td>11.50</td>\n",
       "      <td>10.77</td>\n",
       "      <td>11.24</td>\n",
       "      <td>-12.997465</td>\n",
       "      <td>201679</td>\n",
       "    </tr>\n",
       "    <tr>\n",
       "      <th>2000-01-05</th>\n",
       "      <td>10.91</td>\n",
       "      <td>11.44</td>\n",
       "      <td>10.80</td>\n",
       "      <td>10.80</td>\n",
       "      <td>-12.488667</td>\n",
       "      <td>165066</td>\n",
       "    </tr>\n",
       "    <tr>\n",
       "      <th>2000-01-07</th>\n",
       "      <td>11.29</td>\n",
       "      <td>11.29</td>\n",
       "      <td>10.90</td>\n",
       "      <td>11.15</td>\n",
       "      <td>-12.893392</td>\n",
       "      <td>238820</td>\n",
       "    </tr>\n",
       "    <tr>\n",
       "      <th>2000-01-10</th>\n",
       "      <td>11.40</td>\n",
       "      <td>11.41</td>\n",
       "      <td>11.02</td>\n",
       "      <td>11.27</td>\n",
       "      <td>-13.032155</td>\n",
       "      <td>272760</td>\n",
       "    </tr>\n",
       "    <tr>\n",
       "      <th>...</th>\n",
       "      <td>...</td>\n",
       "      <td>...</td>\n",
       "      <td>...</td>\n",
       "      <td>...</td>\n",
       "      <td>...</td>\n",
       "      <td>...</td>\n",
       "    </tr>\n",
       "    <tr>\n",
       "      <th>2002-12-19</th>\n",
       "      <td>4.09</td>\n",
       "      <td>4.13</td>\n",
       "      <td>4.02</td>\n",
       "      <td>4.09</td>\n",
       "      <td>3.502554</td>\n",
       "      <td>338873</td>\n",
       "    </tr>\n",
       "    <tr>\n",
       "      <th>2002-12-20</th>\n",
       "      <td>4.17</td>\n",
       "      <td>4.20</td>\n",
       "      <td>4.06</td>\n",
       "      <td>4.17</td>\n",
       "      <td>3.571063</td>\n",
       "      <td>207074</td>\n",
       "    </tr>\n",
       "    <tr>\n",
       "      <th>2002-12-23</th>\n",
       "      <td>4.17</td>\n",
       "      <td>4.19</td>\n",
       "      <td>4.06</td>\n",
       "      <td>4.17</td>\n",
       "      <td>3.571063</td>\n",
       "      <td>266528</td>\n",
       "    </tr>\n",
       "    <tr>\n",
       "      <th>2002-12-27</th>\n",
       "      <td>4.03</td>\n",
       "      <td>4.15</td>\n",
       "      <td>4.03</td>\n",
       "      <td>4.03</td>\n",
       "      <td>3.451172</td>\n",
       "      <td>546703</td>\n",
       "    </tr>\n",
       "    <tr>\n",
       "      <th>2002-12-30</th>\n",
       "      <td>3.77</td>\n",
       "      <td>4.04</td>\n",
       "      <td>3.77</td>\n",
       "      <td>3.77</td>\n",
       "      <td>3.228515</td>\n",
       "      <td>1556891</td>\n",
       "    </tr>\n",
       "  </tbody>\n",
       "</table>\n",
       "<p>743 rows × 6 columns</p>\n",
       "</div>"
      ],
      "text/plain": [
       "             Open   High    Low  Close  Adj Close   Volume\n",
       "Date                                                      \n",
       "2000-01-03  11.60  11.60  11.05  11.15 -12.893392   164558\n",
       "2000-01-04  11.00  11.50  10.77  11.24 -12.997465   201679\n",
       "2000-01-05  10.91  11.44  10.80  10.80 -12.488667   165066\n",
       "2000-01-07  11.29  11.29  10.90  11.15 -12.893392   238820\n",
       "2000-01-10  11.40  11.41  11.02  11.27 -13.032155   272760\n",
       "...           ...    ...    ...    ...        ...      ...\n",
       "2002-12-19   4.09   4.13   4.02   4.09   3.502554   338873\n",
       "2002-12-20   4.17   4.20   4.06   4.17   3.571063   207074\n",
       "2002-12-23   4.17   4.19   4.06   4.17   3.571063   266528\n",
       "2002-12-27   4.03   4.15   4.03   4.03   3.451172   546703\n",
       "2002-12-30   3.77   4.04   3.77   3.77   3.228515  1556891\n",
       "\n",
       "[743 rows x 6 columns]"
      ]
     },
     "execution_count": 27,
     "metadata": {},
     "output_type": "execute_result"
    }
   ],
   "source": [
    "stock_prices"
   ]
  },
  {
   "cell_type": "code",
   "execution_count": 25,
   "metadata": {},
   "outputs": [
    {
     "data": {
      "text/plain": [
       "Date\n",
       "2000-01-03   -12.893392\n",
       "2000-01-04   -12.997465\n",
       "2000-01-05   -12.488667\n",
       "2000-01-07   -12.893392\n",
       "2000-01-10   -13.032155\n",
       "                ...    \n",
       "2002-12-19     3.502554\n",
       "2002-12-20     3.571063\n",
       "2002-12-23     3.571063\n",
       "2002-12-27     3.451172\n",
       "2002-12-30     3.228515\n",
       "Name: Adj Close, Length: 743, dtype: float64"
      ]
     },
     "execution_count": 25,
     "metadata": {},
     "output_type": "execute_result"
    }
   ],
   "source": [
    "stock_prices = pq.read_table(download_s3_parquet_file(s3, bucket_name,'preprocessed/yfinance/SOL.parquet')).to_pandas()\n",
    "stock_prices.index = pd.to_datetime(stock_prices.index).strftime('%Y-%m-%d')\n",
    "negative_adj_close = stock_prices[stock_prices['Adj Close']<0]\n",
    "if negative_adj_close.empty:\n",
    "    close_price = stock_prices['Adj Close']\n",
    "else:\n",
    "    close_price = stock_prices['Close']\n",
    "\n",
    "close_price.index = pd.to_datetime(close_price.index).strftime('%Y-%m-%d')\n",
    "close_price"
   ]
  },
  {
   "cell_type": "code",
   "execution_count": 72,
   "metadata": {},
   "outputs": [
    {
     "data": {
      "text/plain": [
       "<AxesSubplot: xlabel='Date'>"
      ]
     },
     "execution_count": 72,
     "metadata": {},
     "output_type": "execute_result"
    },
    {
     "data": {
      "image/png": "[encoded data removed]",
      "text/plain": [
       "<Figure size 640x480 with 1 Axes>"
      ]
     },
     "metadata": {},
     "output_type": "display_data"
    }
   ],
   "source": [
    "close_price.plot()"
   ]
  },
  {
   "cell_type": "code",
   "execution_count": 33,
   "metadata": {},
   "outputs": [],
   "source": [
    "preprocessed_folder = 'preprocessed/yfinance/'\n",
    "raw_path = bucket_name + preprocessed_folder\n",
    "objects_dict = s3_client.list_objects_v2(\n",
    "        Bucket=bucket_name,\n",
    "        Prefix ='preprocessed/yfinance')\n",
    "raw_filepaths = [item['Key'] for item in objects_dict['Contents'] if item['Key'].endswith('.parquet')]\n",
    "act_list = [i.split('/')[-1].replace('.parquet','') for i in raw_filepaths]"
   ]
  },
  {
   "cell_type": "code",
   "execution_count": 34,
   "metadata": {},
   "outputs": [],
   "source": [
    "ibex_historical_data = {}\n",
    "processed_folder = 'processed/yfinance/'\n",
    "file_name = 'ibex_historical_data'\n",
    "full_path = processed_folder + file_name"
   ]
  },
  {
   "cell_type": "code",
   "execution_count": 35,
   "metadata": {},
   "outputs": [],
   "source": [
    "def download_s3_parquet_file(s3, bucket, key):\n",
    "    buffer = BytesIO()\n",
    "    s3.Object(bucket, key).download_fileobj(buffer)\n",
    "    return buffer"
   ]
  },
  {
   "cell_type": "code",
   "execution_count": 36,
   "metadata": {},
   "outputs": [
    {
     "name": "stdout",
     "output_type": "stream",
     "text": [
      "Empty DataFrame\n",
      "Columns: [Open, High, Low, Close, Adj Close, Volume]\n",
      "Index: []\n",
      "Empty DataFrame\n",
      "Columns: [Open, High, Low, Close, Adj Close, Volume]\n",
      "Index: []\n",
      "Empty DataFrame\n",
      "Columns: [Open, High, Low, Close, Adj Close, Volume]\n",
      "Index: []\n",
      "Empty DataFrame\n",
      "Columns: [Open, High, Low, Close, Adj Close, Volume]\n",
      "Index: []\n",
      "Empty DataFrame\n",
      "Columns: [Open, High, Low, Close, Adj Close, Volume]\n",
      "Index: []\n",
      "Empty DataFrame\n",
      "Columns: [Open, High, Low, Close, Adj Close, Volume]\n",
      "Index: []\n",
      "Empty DataFrame\n",
      "Columns: [Open, High, Low, Close, Adj Close, Volume]\n",
      "Index: []\n",
      "Empty DataFrame\n",
      "Columns: [Open, High, Low, Close, Adj Close, Volume]\n",
      "Index: []\n",
      "Empty DataFrame\n",
      "Columns: [Open, High, Low, Close, Adj Close, Volume]\n",
      "Index: []\n"
     ]
    },
    {
     "name": "stderr",
     "output_type": "stream",
     "text": [
      "C:\\Users\\aleja\\AppData\\Local\\Packages\\PythonSoftwareFoundation.Python.3.10_qbz5n2kfra8p0\\LocalCache\\local-packages\\Python310\\site-packages\\pandas\\core\\arraylike.py:397: RuntimeWarning: invalid value encountered in log\n",
      "  result = getattr(ufunc, method)(*inputs, **kwargs)\n"
     ]
    },
    {
     "name": "stdout",
     "output_type": "stream",
     "text": [
      "                 Open       High        Low      Close  Adj Close   Volume\n",
      "Date                                                                      \n",
      "2000-07-03  40.500000  42.250000  39.500000  41.650002  -1.961556    46596\n",
      "2000-07-04  42.000000  42.150002  40.400002  40.599998  -1.912106    83363\n",
      "2000-07-05  40.610001  41.099998  39.900002  40.000000  -1.883848   202897\n",
      "2000-07-06  40.099998  41.299999  40.099998  40.660000  -1.914931   196208\n",
      "2000-07-10  41.299999  41.599998  41.099998  41.240002  -1.942247   169478\n",
      "...               ...        ...        ...        ...        ...      ...\n",
      "2001-01-08  39.900002  41.099998  39.500000  41.049999  -1.933298   146029\n",
      "2001-01-09  41.099998  41.750000  39.709999  40.150002  -1.890912   148356\n",
      "2001-01-10  40.250000  40.439999  39.900002  40.400002  -1.902686   110611\n",
      "2001-01-11  40.470001  40.799999  40.290001  40.650002  -1.914460  1063247\n",
      "2001-01-12  40.360001  41.200001  40.099998  41.000000  -1.930944   191471\n",
      "\n",
      "[131 rows x 6 columns]\n",
      "preprocessed/yfinance/ANA_1.parquet\n",
      "Empty DataFrame\n",
      "Columns: [Open, High, Low, Close, Adj Close, Volume]\n",
      "Index: []\n",
      "Empty DataFrame\n",
      "Columns: [Open, High, Low, Close, Adj Close, Volume]\n",
      "Index: []\n",
      "Empty DataFrame\n",
      "Columns: [Open, High, Low, Close, Adj Close, Volume]\n",
      "Index: []\n",
      "Empty DataFrame\n",
      "Columns: [Open, High, Low, Close, Adj Close, Volume]\n",
      "Index: []\n",
      "Empty DataFrame\n",
      "Columns: [Open, High, Low, Close, Adj Close, Volume]\n",
      "Index: []\n",
      "Empty DataFrame\n",
      "Columns: [Open, High, Low, Close, Adj Close, Volume]\n",
      "Index: []\n",
      "Empty DataFrame\n",
      "Columns: [Open, High, Low, Close, Adj Close, Volume]\n",
      "Index: []\n",
      "Empty DataFrame\n",
      "Columns: [Open, High, Low, Close, Adj Close, Volume]\n",
      "Index: []\n",
      "Empty DataFrame\n",
      "Columns: [Open, High, Low, Close, Adj Close, Volume]\n",
      "Index: []\n",
      "Empty DataFrame\n",
      "Columns: [Open, High, Low, Close, Adj Close, Volume]\n",
      "Index: []\n",
      "Empty DataFrame\n",
      "Columns: [Open, High, Low, Close, Adj Close, Volume]\n",
      "Index: []\n",
      "Empty DataFrame\n",
      "Columns: [Open, High, Low, Close, Adj Close, Volume]\n",
      "Index: []\n",
      "Empty DataFrame\n",
      "Columns: [Open, High, Low, Close, Adj Close, Volume]\n",
      "Index: []\n",
      "Empty DataFrame\n",
      "Columns: [Open, High, Low, Close, Adj Close, Volume]\n",
      "Index: []\n",
      "Empty DataFrame\n",
      "Columns: [Open, High, Low, Close, Adj Close, Volume]\n",
      "Index: []\n"
     ]
    },
    {
     "name": "stderr",
     "output_type": "stream",
     "text": [
      "C:\\Users\\aleja\\AppData\\Local\\Packages\\PythonSoftwareFoundation.Python.3.10_qbz5n2kfra8p0\\LocalCache\\local-packages\\Python310\\site-packages\\pandas\\core\\arraylike.py:397: RuntimeWarning: invalid value encountered in log\n",
      "  result = getattr(ufunc, method)(*inputs, **kwargs)\n"
     ]
    },
    {
     "name": "stdout",
     "output_type": "stream",
     "text": [
      "                 Open       High        Low      Close  Adj Close   Volume\n",
      "Date                                                                      \n",
      "2000-01-03  19.700001  19.750000  18.879999  19.010000  -4.884562  3615680\n",
      "2000-01-04  18.879999  18.879999  18.200001  18.500000  -4.753520  4048543\n",
      "2000-01-05  18.200001  18.680000  18.129999  18.639999  -4.789490  4688995\n",
      "2000-01-07  18.900000  19.350000  18.860001  19.309999  -4.961645  4027102\n",
      "2000-01-10  19.549999  19.549999  19.059999  19.309999  -4.961645  2533020\n",
      "...               ...        ...        ...        ...        ...      ...\n",
      "2000-06-26  21.280001  21.320000  20.850000  21.250000  -5.460122  5896996\n",
      "2000-06-27  21.100000  21.340000  20.809999  20.850000  -5.357343  3900422\n",
      "2000-06-28  20.850000  20.900000  20.500000  20.690001  -5.316232  7792265\n",
      "2000-06-29  20.690001  20.770000  20.090000  20.160000  -5.180052  4060382\n",
      "2000-06-30  20.250000  20.500000  20.090000  20.290001  -5.213454  3817463\n",
      "\n",
      "[124 rows x 6 columns]\n",
      "preprocessed/yfinance/ELE.parquet\n",
      "Empty DataFrame\n",
      "Columns: [Open, High, Low, Close, Adj Close, Volume]\n",
      "Index: []\n",
      "Empty DataFrame\n",
      "Columns: [Open, High, Low, Close, Adj Close, Volume]\n",
      "Index: []\n",
      "Empty DataFrame\n",
      "Columns: [Open, High, Low, Close, Adj Close, Volume]\n",
      "Index: []\n"
     ]
    },
    {
     "name": "stderr",
     "output_type": "stream",
     "text": [
      "C:\\Users\\aleja\\AppData\\Local\\Packages\\PythonSoftwareFoundation.Python.3.10_qbz5n2kfra8p0\\LocalCache\\local-packages\\Python310\\site-packages\\pandas\\core\\arraylike.py:397: RuntimeWarning: invalid value encountered in log\n",
      "  result = getattr(ufunc, method)(*inputs, **kwargs)\n"
     ]
    },
    {
     "name": "stdout",
     "output_type": "stream",
     "text": [
      "                 Open       High        Low      Close  Adj Close  Volume\n",
      "Date                                                                     \n",
      "2000-01-07  13.654850  13.840339  13.505032  13.840339  -0.662828  446713\n",
      "2000-01-10  14.254122  14.254122  13.897413  13.911681  -0.666245  365016\n",
      "2000-01-11  13.890278  14.018694  13.447958  13.619179  -0.652237  362828\n",
      "2000-01-12  13.612045  13.983023  13.219664  13.961620  -0.668636  418190\n",
      "2000-01-13  13.840339  14.011560  13.398019  13.433690  -0.643353  308696\n",
      "...               ...        ...        ...        ...        ...     ...\n",
      "2000-06-26  14.411075  14.553759  14.097170  14.318330  -0.685720  368365\n",
      "2000-06-27  14.553759  14.682174  13.733326  13.840339  -0.662828  428383\n",
      "2000-06-28  13.904547  14.068633  13.676253  13.768997  -0.659411  222847\n",
      "2000-06-29  13.940218  13.940218  13.483629  13.483629  -0.645745  240083\n",
      "2000-06-30  13.754729  14.753516  13.376616  14.125707  -0.676495  516174\n",
      "\n",
      "[126 rows x 6 columns]\n",
      "preprocessed/yfinance/FCC.parquet\n",
      "Empty DataFrame\n",
      "Columns: [Open, High, Low, Close, Adj Close, Volume]\n",
      "Index: []\n",
      "Empty DataFrame\n",
      "Columns: [Open, High, Low, Close, Adj Close, Volume]\n",
      "Index: []\n",
      "Empty DataFrame\n",
      "Columns: [Open, High, Low, Close, Adj Close, Volume]\n",
      "Index: []\n",
      "Empty DataFrame\n",
      "Columns: [Open, High, Low, Close, Adj Close, Volume]\n",
      "Index: []\n",
      "Empty DataFrame\n",
      "Columns: [Open, High, Low, Close, Adj Close, Volume]\n",
      "Index: []\n",
      "Empty DataFrame\n",
      "Columns: [Open, High, Low, Close, Adj Close, Volume]\n",
      "Index: []\n",
      "Empty DataFrame\n",
      "Columns: [Open, High, Low, Close, Adj Close, Volume]\n",
      "Index: []\n"
     ]
    },
    {
     "name": "stderr",
     "output_type": "stream",
     "text": [
      "C:\\Users\\aleja\\AppData\\Local\\Packages\\PythonSoftwareFoundation.Python.3.10_qbz5n2kfra8p0\\LocalCache\\local-packages\\Python310\\site-packages\\pandas\\core\\arraylike.py:397: RuntimeWarning: invalid value encountered in log\n",
      "  result = getattr(ufunc, method)(*inputs, **kwargs)\n"
     ]
    },
    {
     "name": "stdout",
     "output_type": "stream",
     "text": [
      "             Open   High    Low  Close  Adj Close   Volume\n",
      "Date                                                      \n",
      "2000-10-03  12.20  12.76  12.19  12.34  -0.579203   498316\n",
      "2000-10-04  12.40  12.65  12.34  12.53  -0.588121   395452\n",
      "2000-10-05  12.66  12.68  12.31  12.31  -0.577795   181875\n",
      "2000-10-06  12.47  12.49  12.25  12.29  -0.576856   215041\n",
      "2000-10-09  12.38  12.45  12.00  12.03  -0.564653   372529\n",
      "...           ...    ...    ...    ...        ...      ...\n",
      "2001-06-25  10.80  10.89  10.53  10.53  -0.494247  1216107\n",
      "2001-06-26  10.53  10.69   9.98  10.18  -0.477819  2096148\n",
      "2001-06-27  10.30  10.65  10.25  10.65  -0.499880  1220763\n",
      "2001-06-28  10.70  10.90  10.25  10.84  -0.508798   675831\n",
      "2001-06-29  10.87  10.90  10.33  10.40  -0.488145   808290\n",
      "\n",
      "[191 rows x 6 columns]\n",
      "preprocessed/yfinance/IDR.parquet\n"
     ]
    },
    {
     "name": "stderr",
     "output_type": "stream",
     "text": [
      "C:\\Users\\aleja\\AppData\\Local\\Packages\\PythonSoftwareFoundation.Python.3.10_qbz5n2kfra8p0\\LocalCache\\local-packages\\Python310\\site-packages\\pandas\\core\\arraylike.py:397: RuntimeWarning: invalid value encountered in log\n",
      "  result = getattr(ufunc, method)(*inputs, **kwargs)\n"
     ]
    },
    {
     "name": "stdout",
     "output_type": "stream",
     "text": [
      "             Open   High    Low  Close  Adj Close    Volume\n",
      "Date                                                       \n",
      "2001-07-02  3.758  3.840  3.728  3.820  -0.136871   8634625\n",
      "2001-07-03  3.772  3.822  3.772  3.820  -0.136871  20450495\n",
      "2001-07-04  3.820  3.830  3.766  3.796  -0.136011   4993255\n",
      "2001-07-05  3.796  3.810  3.730  3.730  -0.133647  16127145\n",
      "2001-07-06  3.760  3.760  3.700  3.700  -0.132572   6726610\n",
      "...           ...    ...    ...    ...        ...       ...\n",
      "2002-09-18  4.062  4.098  4.000  4.052  -0.146037   4711710\n",
      "2002-09-19  4.022  4.150  3.960  4.020  -0.144884   9985435\n",
      "2002-09-20  4.076  4.350  3.966  4.280  -0.154255  16214830\n",
      "2002-09-23  4.210  4.228  4.082  4.200  -0.151371   8471515\n",
      "2002-09-24  4.200  4.260  4.106  4.200  -0.151371   8724120\n",
      "\n",
      "[308 rows x 6 columns]\n",
      "preprocessed/yfinance/ITX.parquet\n",
      "Empty DataFrame\n",
      "Columns: [Open, High, Low, Close, Adj Close, Volume]\n",
      "Index: []\n",
      "Empty DataFrame\n",
      "Columns: [Open, High, Low, Close, Adj Close, Volume]\n",
      "Index: []\n",
      "Empty DataFrame\n",
      "Columns: [Open, High, Low, Close, Adj Close, Volume]\n",
      "Index: []\n",
      "Empty DataFrame\n",
      "Columns: [Open, High, Low, Close, Adj Close, Volume]\n",
      "Index: []\n",
      "Empty DataFrame\n",
      "Columns: [Open, High, Low, Close, Adj Close, Volume]\n",
      "Index: []\n",
      "Empty DataFrame\n",
      "Columns: [Open, High, Low, Close, Adj Close, Volume]\n",
      "Index: []\n",
      "Empty DataFrame\n",
      "Columns: [Open, High, Low, Close, Adj Close, Volume]\n",
      "Index: []\n",
      "Empty DataFrame\n",
      "Columns: [Open, High, Low, Close, Adj Close, Volume]\n",
      "Index: []\n",
      "Empty DataFrame\n",
      "Columns: [Open, High, Low, Close, Adj Close, Volume]\n",
      "Index: []\n",
      "Empty DataFrame\n",
      "Columns: [Open, High, Low, Close, Adj Close, Volume]\n",
      "Index: []\n",
      "Empty DataFrame\n",
      "Columns: [Open, High, Low, Close, Adj Close, Volume]\n",
      "Index: []\n",
      "Empty DataFrame\n",
      "Columns: [Open, High, Low, Close, Adj Close, Volume]\n",
      "Index: []\n",
      "Empty DataFrame\n",
      "Columns: [Open, High, Low, Close, Adj Close, Volume]\n",
      "Index: []\n",
      "Empty DataFrame\n",
      "Columns: [Open, High, Low, Close, Adj Close, Volume]\n",
      "Index: []\n",
      "Empty DataFrame\n",
      "Columns: [Open, High, Low, Close, Adj Close, Volume]\n",
      "Index: []\n",
      "Empty DataFrame\n",
      "Columns: [Open, High, Low, Close, Adj Close, Volume]\n",
      "Index: []\n",
      "Empty DataFrame\n",
      "Columns: [Open, High, Low, Close, Adj Close, Volume]\n",
      "Index: []\n",
      "Empty DataFrame\n",
      "Columns: [Open, High, Low, Close, Adj Close, Volume]\n",
      "Index: []\n",
      "Empty DataFrame\n",
      "Columns: [Open, High, Low, Close, Adj Close, Volume]\n",
      "Index: []\n",
      "Empty DataFrame\n",
      "Columns: [Open, High, Low, Close, Adj Close, Volume]\n",
      "Index: []\n",
      "Empty DataFrame\n",
      "Columns: [Open, High, Low, Close, Adj Close, Volume]\n",
      "Index: []\n",
      "Empty DataFrame\n",
      "Columns: [Open, High, Low, Close, Adj Close, Volume]\n",
      "Index: []\n",
      "Empty DataFrame\n",
      "Columns: [Open, High, Low, Close, Adj Close, Volume]\n",
      "Index: []\n",
      "             Open   High    Low  Close  Adj Close  Volume\n",
      "Date                                                     \n",
      "2000-01-03  11.60  11.60  11.05  11.15 -12.893392  164558\n",
      "2000-01-04  11.00  11.50  10.77  11.24 -12.997465  201679\n",
      "2000-01-05  10.91  11.44  10.80  10.80 -12.488667  165066\n",
      "2000-01-07  11.29  11.29  10.90  11.15 -12.893392  238820\n",
      "2000-01-10  11.40  11.41  11.02  11.27 -13.032155  272760\n",
      "...           ...    ...    ...    ...        ...     ...\n",
      "2001-07-03  10.25  10.30  10.15  10.20 -11.917643  549516\n",
      "2001-07-04  10.26  10.28  10.13  10.14 -11.847538  684621\n",
      "2001-07-05  10.12  10.19  10.09  10.14 -11.847538  429330\n",
      "2001-07-06  10.09  10.13  10.01  10.08 -11.777433  244451\n",
      "2001-07-09  10.00  10.14   9.91  10.10 -11.800801  475033\n",
      "\n",
      "[380 rows x 6 columns]\n",
      "preprocessed/yfinance/SOL.parquet\n"
     ]
    },
    {
     "name": "stderr",
     "output_type": "stream",
     "text": [
      "C:\\Users\\aleja\\AppData\\Local\\Packages\\PythonSoftwareFoundation.Python.3.10_qbz5n2kfra8p0\\LocalCache\\local-packages\\Python310\\site-packages\\pandas\\core\\arraylike.py:397: RuntimeWarning: invalid value encountered in log\n",
      "  result = getattr(ufunc, method)(*inputs, **kwargs)\n"
     ]
    },
    {
     "name": "stdout",
     "output_type": "stream",
     "text": [
      "Empty DataFrame\n",
      "Columns: [Open, High, Low, Close, Adj Close, Volume]\n",
      "Index: []\n",
      "Empty DataFrame\n",
      "Columns: [Open, High, Low, Close, Adj Close, Volume]\n",
      "Index: []\n",
      "Empty DataFrame\n",
      "Columns: [Open, High, Low, Close, Adj Close, Volume]\n",
      "Index: []\n",
      "Empty DataFrame\n",
      "Columns: [Open, High, Low, Close, Adj Close, Volume]\n",
      "Index: []\n",
      "Empty DataFrame\n",
      "Columns: [Open, High, Low, Close, Adj Close, Volume]\n",
      "Index: []\n"
     ]
    },
    {
     "data": {
      "text/plain": [
       "{'ResponseMetadata': {'RequestId': 'MDCJ8KCH6JBTXCYM',\n",
       "  'HostId': 'OvSyfLdAn/RlMXQuXUZDXnSZ336y7EudtX+xuo3k0XJM+jvuRHREScFo93H8vGVZFud1N1imwzQ=',\n",
       "  'HTTPStatusCode': 200,\n",
       "  'HTTPHeaders': {'x-amz-id-2': 'OvSyfLdAn/RlMXQuXUZDXnSZ336y7EudtX+xuo3k0XJM+jvuRHREScFo93H8vGVZFud1N1imwzQ=',\n",
       "   'x-amz-request-id': 'MDCJ8KCH6JBTXCYM',\n",
       "   'date': 'Mon, 14 Aug 2023 21:19:19 GMT',\n",
       "   'x-amz-version-id': 'kuiyqMPLB1m9VR4oy4ILm8TfoeRIf_TM',\n",
       "   'x-amz-server-side-encryption': 'AES256',\n",
       "   'etag': '\"24d031bae94a9def08606423cb65642e\"',\n",
       "   'server': 'AmazonS3',\n",
       "   'content-length': '0'},\n",
       "  'RetryAttempts': 0},\n",
       " 'ETag': '\"24d031bae94a9def08606423cb65642e\"',\n",
       " 'ServerSideEncryption': 'AES256',\n",
       " 'VersionId': 'kuiyqMPLB1m9VR4oy4ILm8TfoeRIf_TM'}"
      ]
     },
     "execution_count": 36,
     "metadata": {},
     "output_type": "execute_result"
    }
   ],
   "source": [
    "# CARGAMOS EL DATAFRAME CON TODOS LOS DATOS DE CIERRE DE TODOS LOS ACTIVOS DESDE 02/01/1991\n",
    "for i in range(len(raw_filepaths)):\n",
    "    \n",
    "    try:\n",
    "        stock_prices = pq.read_table(download_s3_parquet_file(s3, bucket_name,raw_filepaths[i])).to_pandas()\n",
    "        stock_prices.index = pd.to_datetime(stock_prices.index).strftime('%Y-%m-%d')\n",
    "        returns = np.log(stock_prices['Adj Close']).diff()[1:]\n",
    "        min_returns = returns.min().min()\n",
    "        \n",
    "        negative_adj_close = stock_prices[stock_prices['Adj Close']<0]\n",
    "        print(negative_adj_close)\n",
    "        if (negative_adj_close.empty):# | (min_returns > -1):\n",
    "            close_price = stock_prices['Adj Close']\n",
    "        else:\n",
    "            close_price = stock_prices['Close']\n",
    "            print(raw_filepaths[i])\n",
    "\n",
    "        close_price.index = pd.to_datetime(close_price.index).strftime('%Y-%m-%d')\n",
    "        ibex_historical_data[act_list[i]] = close_price\n",
    "    except:\n",
    "        ibex_historical_data[act_list[i]] = np.nan\n",
    "        \n",
    "ibex_historical_data = pd.DataFrame(ibex_historical_data)\n",
    "\n",
    "table = pa.Table.from_pandas(ibex_historical_data)\n",
    "buf = BytesIO()\n",
    "pq.write_table(table, buf)\n",
    "\n",
    "s3.Object(bucket_name, full_path).put(Body=buf.getvalue())"
   ]
  },
  {
   "cell_type": "code",
   "execution_count": 31,
   "metadata": {},
   "outputs": [
    {
     "data": {
      "text/plain": [
       "<AxesSubplot: xlabel='Date'>"
      ]
     },
     "execution_count": 31,
     "metadata": {},
     "output_type": "execute_result"
    },
    {
     "data": {
      "image/png": "[encoded data removed]",
      "text/plain": [
       "<Figure size 640x480 with 1 Axes>"
      ]
     },
     "metadata": {},
     "output_type": "display_data"
    }
   ],
   "source": [
    "ibex_historical_data['SOL'].dropna().plot()"
   ]
  },
  {
   "cell_type": "code",
   "execution_count": 83,
   "metadata": {},
   "outputs": [
    {
     "data": {
      "text/plain": [
       "-2.022848337494799"
      ]
     },
     "execution_count": 83,
     "metadata": {},
     "output_type": "execute_result"
    }
   ],
   "source": [
    "np.log(ibex_historical_data).diff()[1:].min().min()"
   ]
  },
  {
   "cell_type": "code",
   "execution_count": 84,
   "metadata": {},
   "outputs": [
    {
     "data": {
      "text/plain": [
       "<BarContainer object of 6099 artists>"
      ]
     },
     "execution_count": 84,
     "metadata": {},
     "output_type": "execute_result"
    },
    {
     "data": {
      "image/png": "[encoded data removed]",
      "text/plain": [
       "<Figure size 640x480 with 1 Axes>"
      ]
     },
     "metadata": {},
     "output_type": "display_data"
    },
    {
     "ename": "",
     "evalue": "",
     "output_type": "error",
     "traceback": [
      "\u001b[1;31mEl Kernel se bloqueó al ejecutar código en la celda actual o en una celda anterior. Revise el código de las celdas para identificar una posible causa del error. Haga clic <a href='https://aka.ms/vscodeJupyterKernelCrash'>aquí</a> para obtener más información. Vea el [registro] de Jupyter (command:jupyter.viewOutput) para obtener más detalles."
     ]
    }
   ],
   "source": [
    "plt.bar(range(ibex_historical_data.shape[1]),ibex_historical_data.isnull().sum())\n",
    "plt.bar(range(ibex_historical_data.shape[0]),ibex_historical_data.notna().sum(axis=1))"
   ]
  },
  {
   "cell_type": "code",
   "execution_count": 30,
   "metadata": {},
   "outputs": [
    {
     "data": {
      "text/plain": [
       "(Index(['A3TV', 'ABG.P', 'ABG.P_1', 'ABG', 'ACR', 'ACX', 'AGR', 'AGS', 'AGS_1',\n",
       "        'AGS_2',\n",
       "        ...\n",
       "        'UNI', 'URA', 'URB', 'VAL', 'VAL_1', 'VDR', 'VIS', 'VIS_1', 'ZEL',\n",
       "        'ZOT'],\n",
       "       dtype='object', length=103),\n",
       " 103)"
      ]
     },
     "execution_count": 30,
     "metadata": {},
     "output_type": "execute_result"
    }
   ],
   "source": [
    "failed_loads = ibex_historical_data.columns[ibex_historical_data.isnull().values.all(axis=0)]\n",
    "failed_loads, len(failed_loads)"
   ]
  },
  {
   "cell_type": "code",
   "execution_count": null,
   "metadata": {},
   "outputs": [],
   "source": []
  }
 ],
 "metadata": {
  "kernelspec": {
   "display_name": "Python 3",
   "language": "python",
   "name": "python3"
  },
  "language_info": {
   "codemirror_mode": {
    "name": "ipython",
    "version": 3
   },
   "file_extension": ".py",
   "mimetype": "text/x-python",
   "name": "python",
   "nbconvert_exporter": "python",
   "pygments_lexer": "ipython3",
   "version": "3.10.11"
  },
  "orig_nbformat": 4
 },
 "nbformat": 4,
 "nbformat_minor": 2
}
