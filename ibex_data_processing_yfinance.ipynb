{
 "cells": [
  {
   "cell_type": "code",
   "execution_count": 2,
   "metadata": {},
   "outputs": [],
   "source": [
    "# CARGAMOS LIBRERIAS\n",
    "import pandas as pd\n",
    "import numpy as np\n",
    "import matplotlib.pyplot as plt\n",
    "import yfinance as yf\n",
    "import datetime\n",
    "\n",
    "import boto3\n",
    "import s3fs\n",
    "import fastparquet\n",
    "import awswrangler as wr\n",
    "import os\n",
    "\n",
    "import pyarrow.parquet as pq\n",
    "import pyarrow as pa\n",
    "\n",
    "import requests\n",
    "import json\n",
    "from io import BytesIO\n",
    "from pandas.tseries.offsets import BDay\n",
    "\n",
    "import math"
   ]
  },
  {
   "cell_type": "code",
   "execution_count": 3,
   "metadata": {},
   "outputs": [],
   "source": []
  },
  {
   "cell_type": "code",
   "execution_count": 4,
   "metadata": {},
   "outputs": [],
   "source": [
    "# INICIALIZAMOS UNA SESION EN AWS\n",
    "session = boto3.Session(\n",
    "    aws_access_key_id=os.environ['S3_ACCESS_KEY'],\n",
    "    aws_secret_access_key=os.environ['S3_SECRET_KEY'],\n",
    "    region_name=os.environ['S3_REGION'])\n",
    "\n",
    "s3_client = boto3.client('s3')"
   ]
  },
  {
   "attachments": {},
   "cell_type": "markdown",
   "metadata": {},
   "source": [
    "OBJETIVO DE ESTE NOTEBOOK:\n",
    "- DESCARGAR DE DISTINTOS ORIGENES LOS DATOS DE LOS ACTIVOS DEL IBEX35\n",
    "- COMPARAR LOS DATOS OBTENIDOS "
   ]
  },
  {
   "attachments": {},
   "cell_type": "markdown",
   "metadata": {},
   "source": [
    "## CARGA DE COMPOSICIÓN HISTÓRICA DE IBEX35"
   ]
  },
  {
   "cell_type": "code",
   "execution_count": 5,
   "metadata": {},
   "outputs": [
    {
     "data": {
      "text/html": [
       "<div>\n",
       "<style scoped>\n",
       "    .dataframe tbody tr th:only-of-type {\n",
       "        vertical-align: middle;\n",
       "    }\n",
       "\n",
       "    .dataframe tbody tr th {\n",
       "        vertical-align: top;\n",
       "    }\n",
       "\n",
       "    .dataframe thead th {\n",
       "        text-align: right;\n",
       "    }\n",
       "</style>\n",
       "<table border=\"1\" class=\"dataframe\">\n",
       "  <thead>\n",
       "    <tr style=\"text-align: right;\">\n",
       "      <th></th>\n",
       "      <th>Activo</th>\n",
       "      <th>Inclusion</th>\n",
       "      <th>Exclusion</th>\n",
       "    </tr>\n",
       "  </thead>\n",
       "  <tbody>\n",
       "    <tr>\n",
       "      <th>0</th>\n",
       "      <td>ACE</td>\n",
       "      <td>1991-01-02</td>\n",
       "      <td>2003-06-02</td>\n",
       "    </tr>\n",
       "    <tr>\n",
       "      <th>1</th>\n",
       "      <td>ACX</td>\n",
       "      <td>1991-01-02</td>\n",
       "      <td>1991-07-01</td>\n",
       "    </tr>\n",
       "    <tr>\n",
       "      <th>2</th>\n",
       "      <td>ALB</td>\n",
       "      <td>1991-01-02</td>\n",
       "      <td>1991-07-01</td>\n",
       "    </tr>\n",
       "    <tr>\n",
       "      <th>3</th>\n",
       "      <td>ASL</td>\n",
       "      <td>1991-01-02</td>\n",
       "      <td>1994-01-03</td>\n",
       "    </tr>\n",
       "    <tr>\n",
       "      <th>4</th>\n",
       "      <td>BBV</td>\n",
       "      <td>1991-01-02</td>\n",
       "      <td>2000-01-31</td>\n",
       "    </tr>\n",
       "  </tbody>\n",
       "</table>\n",
       "</div>"
      ],
      "text/plain": [
       "  Activo  Inclusion  Exclusion\n",
       "0    ACE 1991-01-02 2003-06-02\n",
       "1    ACX 1991-01-02 1991-07-01\n",
       "2    ALB 1991-01-02 1991-07-01\n",
       "3    ASL 1991-01-02 1994-01-03\n",
       "4    BBV 1991-01-02 2000-01-31"
      ]
     },
     "execution_count": 5,
     "metadata": {},
     "output_type": "execute_result"
    }
   ],
   "source": [
    "# LEEMOS EL FICHERO CON LA COMPOSICIÓN HISTORICA\n",
    "ibex_constituents = pd.read_excel('data_processing/Historical Composition IBEX35.xlsx')\n",
    "ibex_constituents.head()"
   ]
  },
  {
   "cell_type": "code",
   "execution_count": 6,
   "metadata": {},
   "outputs": [],
   "source": [
    "# ibex_constituents['Exclusion'] -= BDay(1)\n",
    "\n",
    "# ibex_constituents['Inclusion'] = ibex_constituents['Inclusion'].dt.date\n",
    "# ibex_constituents['Exclusion'] = ibex_constituents['Exclusion'].dt.date\n",
    "\n",
    "# OBTENEMOS EL DIA ACTUAL\n",
    "today = datetime.date.today().strftime('%Y-%m-%d')\n",
    "\n",
    "# COMPLETAMOS LOS DATOS NULOS EN EL FICHERO DE COMPOSICIÓN HISTORICA CON LA FECHA ACTUAL\n",
    "ibex_constituents.fillna(today,inplace=True)\n",
    "\n",
    "# DEFINIMOS UNA VARIABLE PARA TODOS LOS ACTIVOS\n",
    "activos = ibex_constituents.Activo\n",
    "ibex_constituents['Ticker'] = activos.apply(lambda x: x.split('_')[0])\n",
    "\n",
    "unique_activos = list(set(activos))"
   ]
  },
  {
   "attachments": {},
   "cell_type": "markdown",
   "metadata": {},
   "source": [
    "### DESCARGAMOS LOS DATOS DE YAHOO FINANCE"
   ]
  },
  {
   "cell_type": "code",
   "execution_count": 56,
   "metadata": {},
   "outputs": [
    {
     "name": "stdout",
     "output_type": "stream",
     "text": [
      "[*********************100%***********************]  1 of 1 completed"
     ]
    },
    {
     "name": "stderr",
     "output_type": "stream",
     "text": [
      "\n",
      "1 Failed download:\n",
      "['ACE.MC']: Exception('%ticker%: 1d data not available for startTime=-2208994789 and endTime=1691562516. Only 100 years worth of day granularity data are allowed to be fetched per request.')\n"
     ]
    },
    {
     "name": "stdout",
     "output_type": "stream",
     "text": [
      "\n",
      "ACE\n",
      "[*********************100%***********************]  1 of 1 completed\n",
      "ACX\n",
      "[*********************100%***********************]  1 of 1 completed\n",
      "ALB\n",
      "[*********************100%***********************]  1 of 1 completed"
     ]
    },
    {
     "name": "stderr",
     "output_type": "stream",
     "text": [
      "\n",
      "1 Failed download:\n",
      "['ASL.MC']: Exception('%ticker%: No timezone found, symbol may be delisted')\n"
     ]
    },
    {
     "name": "stdout",
     "output_type": "stream",
     "text": [
      "\n",
      "ASL\n",
      "[*********************100%***********************]  1 of 1 completed"
     ]
    },
    {
     "name": "stderr",
     "output_type": "stream",
     "text": [
      "\n",
      "1 Failed download:\n",
      "['BBV.MC']: Exception('%ticker%: No timezone found, symbol may be delisted')\n"
     ]
    },
    {
     "name": "stdout",
     "output_type": "stream",
     "text": [
      "\n",
      "BBV\n",
      "[*********************100%***********************]  1 of 1 completed\n",
      "BKT\n",
      "[*********************100%***********************]  1 of 1 completed\n",
      "BTO\n",
      "[*********************100%***********************]  1 of 1 completed"
     ]
    },
    {
     "name": "stderr",
     "output_type": "stream",
     "text": [
      "\n",
      "1 Failed download:\n",
      "['CEN.MC']: Exception('%ticker%: No timezone found, symbol may be delisted')\n"
     ]
    },
    {
     "name": "stdout",
     "output_type": "stream",
     "text": [
      "\n",
      "CEN\n",
      "[*********************100%***********************]  1 of 1 completed"
     ]
    },
    {
     "name": "stderr",
     "output_type": "stream",
     "text": [
      "\n",
      "1 Failed download:\n",
      "['CEP.MC']: Exception('%ticker%: 1d data not available for startTime=-2208994789 and endTime=1691562520. Only 100 years worth of day granularity data are allowed to be fetched per request.')\n"
     ]
    },
    {
     "name": "stdout",
     "output_type": "stream",
     "text": [
      "\n",
      "CEP\n",
      "[*********************100%***********************]  1 of 1 completed"
     ]
    },
    {
     "name": "stderr",
     "output_type": "stream",
     "text": [
      "\n",
      "1 Failed download:\n",
      "['CRI.MC']: Exception('%ticker%: No timezone found, symbol may be delisted')\n"
     ]
    },
    {
     "name": "stdout",
     "output_type": "stream",
     "text": [
      "\n",
      "CRI\n",
      "[*********************100%***********************]  1 of 1 completed"
     ]
    },
    {
     "name": "stderr",
     "output_type": "stream",
     "text": [
      "\n",
      "1 Failed download:\n",
      "['CTG.MC']: Exception('%ticker%: No timezone found, symbol may be delisted')\n"
     ]
    },
    {
     "name": "stdout",
     "output_type": "stream",
     "text": [
      "\n",
      "CTG\n",
      "[*********************100%***********************]  1 of 1 completed"
     ]
    },
    {
     "name": "stderr",
     "output_type": "stream",
     "text": [
      "\n",
      "1 Failed download:\n",
      "['DRC.MC']: Exception('%ticker%: 1d data not available for startTime=-2208994789 and endTime=1691562521. Only 100 years worth of day granularity data are allowed to be fetched per request.')\n"
     ]
    },
    {
     "name": "stdout",
     "output_type": "stream",
     "text": [
      "\n",
      "DRC\n",
      "[*********************100%***********************]  1 of 1 completed\n",
      "ECR\n",
      "[*********************100%***********************]  1 of 1 completed\n",
      "ELE\n",
      "[*********************100%***********************]  1 of 1 completed"
     ]
    },
    {
     "name": "stderr",
     "output_type": "stream",
     "text": [
      "\n",
      "1 Failed download:\n",
      "['FEC.MC']: Exception('%ticker%: No timezone found, symbol may be delisted')\n"
     ]
    },
    {
     "name": "stdout",
     "output_type": "stream",
     "text": [
      "\n",
      "FEC\n",
      "[*********************100%***********************]  1 of 1 completed"
     ]
    },
    {
     "name": "stderr",
     "output_type": "stream",
     "text": [
      "\n",
      "1 Failed download:\n",
      "['FOC.MC']: Exception('%ticker%: No timezone found, symbol may be delisted')\n"
     ]
    },
    {
     "name": "stdout",
     "output_type": "stream",
     "text": [
      "\n",
      "FOC\n",
      "[*********************100%***********************]  1 of 1 completed"
     ]
    },
    {
     "name": "stderr",
     "output_type": "stream",
     "text": [
      "\n",
      "1 Failed download:\n",
      "['HID.MC']: Exception('%ticker%: No timezone found, symbol may be delisted')\n"
     ]
    },
    {
     "name": "stdout",
     "output_type": "stream",
     "text": [
      "\n",
      "HID\n",
      "[*********************100%***********************]  1 of 1 completed"
     ]
    },
    {
     "name": "stderr",
     "output_type": "stream",
     "text": [
      "\n",
      "1 Failed download:\n",
      "['HIS.MC']: Exception('%ticker%: No timezone found, symbol may be delisted')\n"
     ]
    },
    {
     "name": "stdout",
     "output_type": "stream",
     "text": [
      "\n",
      "HIS\n",
      "[*********************100%***********************]  1 of 1 completed\n",
      "IBE\n",
      "[*********************100%***********************]  1 of 1 completed\n",
      "MAP\n",
      "[*********************100%***********************]  1 of 1 completed"
     ]
    },
    {
     "name": "stderr",
     "output_type": "stream",
     "text": [
      "\n",
      "1 Failed download:\n",
      "['POP.MC']: Exception('%ticker%: 1d data not available for startTime=-2208994789 and endTime=1691562525. Only 100 years worth of day granularity data are allowed to be fetched per request.')\n"
     ]
    },
    {
     "name": "stdout",
     "output_type": "stream",
     "text": [
      "\n",
      "POP\n",
      "[*********************100%***********************]  1 of 1 completed\n",
      "REP\n",
      "[*********************100%***********************]  1 of 1 completed\n",
      "SAN\n",
      "[*********************100%***********************]  1 of 1 completed"
     ]
    },
    {
     "name": "stderr",
     "output_type": "stream",
     "text": [
      "\n",
      "1 Failed download:\n",
      "['SEV.MC']: Exception('%ticker%: No timezone found, symbol may be delisted')\n"
     ]
    },
    {
     "name": "stdout",
     "output_type": "stream",
     "text": [
      "\n",
      "SEV\n",
      "[*********************100%***********************]  1 of 1 completed"
     ]
    },
    {
     "name": "stderr",
     "output_type": "stream",
     "text": [
      "\n",
      "1 Failed download:\n",
      "['TAB.MC']: Exception('%ticker%: No timezone found, symbol may be delisted')\n"
     ]
    },
    {
     "name": "stdout",
     "output_type": "stream",
     "text": [
      "\n",
      "TAB\n",
      "[*********************100%***********************]  1 of 1 completed\n",
      "TEF\n",
      "[*********************100%***********************]  1 of 1 completed"
     ]
    },
    {
     "name": "stderr",
     "output_type": "stream",
     "text": [
      "\n",
      "1 Failed download:\n",
      "['UNF.MC']: Exception('%ticker%: 1d data not available for startTime=-2208994789 and endTime=1691562528. Only 100 years worth of day granularity data are allowed to be fetched per request.')\n"
     ]
    },
    {
     "name": "stdout",
     "output_type": "stream",
     "text": [
      "\n",
      "UNF\n",
      "[*********************100%***********************]  1 of 1 completed"
     ]
    },
    {
     "name": "stderr",
     "output_type": "stream",
     "text": [
      "\n",
      "1 Failed download:\n",
      "['URA.MC']: Exception('%ticker%: 1d data not available for startTime=-2208994789 and endTime=1691562528. Only 100 years worth of day granularity data are allowed to be fetched per request.')\n"
     ]
    },
    {
     "name": "stdout",
     "output_type": "stream",
     "text": [
      "\n",
      "URA\n",
      "[*********************100%***********************]  1 of 1 completed"
     ]
    },
    {
     "name": "stderr",
     "output_type": "stream",
     "text": [
      "\n",
      "1 Failed download:\n",
      "['URB.MC']: Exception('%ticker%: 1d data not available for startTime=-2208994789 and endTime=1691562529. Only 100 years worth of day granularity data are allowed to be fetched per request.')\n"
     ]
    },
    {
     "name": "stdout",
     "output_type": "stream",
     "text": [
      "\n",
      "URB\n",
      "[*********************100%***********************]  1 of 1 completed"
     ]
    },
    {
     "name": "stderr",
     "output_type": "stream",
     "text": [
      "\n",
      "1 Failed download:\n",
      "['VAL.MC']: Exception('%ticker%: 1d data not available for startTime=-2208994789 and endTime=1691562529. Only 100 years worth of day granularity data are allowed to be fetched per request.')\n"
     ]
    },
    {
     "name": "stdout",
     "output_type": "stream",
     "text": [
      "\n",
      "VAL\n",
      "[*********************100%***********************]  1 of 1 completed"
     ]
    },
    {
     "name": "stderr",
     "output_type": "stream",
     "text": [
      "\n",
      "1 Failed download:\n",
      "['VDR.MC']: Exception('%ticker%: 1d data not available for startTime=-2208994789 and endTime=1691562529. Only 100 years worth of day granularity data are allowed to be fetched per request.')\n"
     ]
    },
    {
     "name": "stdout",
     "output_type": "stream",
     "text": [
      "\n",
      "VDR\n",
      "[*********************100%***********************]  1 of 1 completed\n",
      "VIS\n",
      "[*********************100%***********************]  1 of 1 completed"
     ]
    },
    {
     "name": "stderr",
     "output_type": "stream",
     "text": [
      "\n",
      "1 Failed download:\n",
      "['AGR.MC']: Exception('%ticker%: No timezone found, symbol may be delisted')\n"
     ]
    },
    {
     "name": "stdout",
     "output_type": "stream",
     "text": [
      "\n",
      "AGR\n",
      "[*********************100%***********************]  1 of 1 completed"
     ]
    },
    {
     "name": "stderr",
     "output_type": "stream",
     "text": [
      "\n",
      "1 Failed download:\n",
      "['CUB.MC']: Exception('%ticker%: No timezone found, symbol may be delisted')\n"
     ]
    },
    {
     "name": "stdout",
     "output_type": "stream",
     "text": [
      "\n",
      "CUB\n",
      "[*********************100%***********************]  1 of 1 completed"
     ]
    },
    {
     "name": "stderr",
     "output_type": "stream",
     "text": [
      "\n",
      "1 Failed download:\n",
      "['HHU.MC']: Exception('%ticker%: No timezone found, symbol may be delisted')\n"
     ]
    },
    {
     "name": "stdout",
     "output_type": "stream",
     "text": [
      "\n",
      "HHU\n",
      "[*********************100%***********************]  1 of 1 completed\n",
      "MVC\n",
      "[*********************100%***********************]  1 of 1 completed"
     ]
    },
    {
     "name": "stderr",
     "output_type": "stream",
     "text": [
      "\n",
      "1 Failed download:\n",
      "['CAN.MC']: Exception('%ticker%: 1d data not available for startTime=-2208994789 and endTime=1691562532. Only 100 years worth of day granularity data are allowed to be fetched per request.')\n"
     ]
    },
    {
     "name": "stdout",
     "output_type": "stream",
     "text": [
      "\n",
      "CAN\n",
      "[*********************100%***********************]  1 of 1 completed"
     ]
    },
    {
     "name": "stderr",
     "output_type": "stream",
     "text": [
      "\n",
      "1 Failed download:\n",
      "['PMD.MC']: Exception('%ticker%: No timezone found, symbol may be delisted')\n"
     ]
    },
    {
     "name": "stdout",
     "output_type": "stream",
     "text": [
      "\n",
      "PMD\n",
      "[*********************100%***********************]  1 of 1 completed\n",
      "ALB_1\n",
      "[*********************100%***********************]  1 of 1 completed"
     ]
    },
    {
     "name": "stderr",
     "output_type": "stream",
     "text": [
      "\n",
      "1 Failed download:\n",
      "['CRI.MC']: Exception('%ticker%: No timezone found, symbol may be delisted')\n"
     ]
    },
    {
     "name": "stdout",
     "output_type": "stream",
     "text": [
      "\n",
      "CRI_1\n",
      "[*********************100%***********************]  1 of 1 completed"
     ]
    },
    {
     "name": "stderr",
     "output_type": "stream",
     "text": [
      "\n",
      "1 Failed download:\n",
      "['SAR.MC']: Exception('%ticker%: No timezone found, symbol may be delisted')\n"
     ]
    },
    {
     "name": "stdout",
     "output_type": "stream",
     "text": [
      "\n",
      "SAR\n",
      "[*********************100%***********************]  1 of 1 completed"
     ]
    },
    {
     "name": "stderr",
     "output_type": "stream",
     "text": [
      "\n",
      "1 Failed download:\n",
      "['EXT.MC']: Exception('%ticker%: No timezone found, symbol may be delisted')\n"
     ]
    },
    {
     "name": "stdout",
     "output_type": "stream",
     "text": [
      "\n",
      "EXT\n",
      "[*********************100%***********************]  1 of 1 completed"
     ]
    },
    {
     "name": "stderr",
     "output_type": "stream",
     "text": [
      "\n",
      "1 Failed download:\n",
      "['AGS.MC']: Exception('%ticker%: No timezone found, symbol may be delisted')\n"
     ]
    },
    {
     "name": "stdout",
     "output_type": "stream",
     "text": [
      "\n",
      "AGS\n",
      "[*********************100%***********************]  1 of 1 completed"
     ]
    },
    {
     "name": "stderr",
     "output_type": "stream",
     "text": [
      "\n",
      "1 Failed download:\n",
      "['BCH.MC']: Exception('%ticker%: No timezone found, symbol may be delisted')\n"
     ]
    },
    {
     "name": "stdout",
     "output_type": "stream",
     "text": [
      "\n",
      "BCH\n",
      "[*********************100%***********************]  1 of 1 completed\n",
      "ACX_1\n",
      "[*********************100%***********************]  1 of 1 completed\n",
      "FCC\n",
      "[*********************100%***********************]  1 of 1 completed"
     ]
    },
    {
     "name": "stderr",
     "output_type": "stream",
     "text": [
      "\n",
      "1 Failed download:\n",
      "['PRY.MC']: Exception('%ticker%: No timezone found, symbol may be delisted')\n"
     ]
    },
    {
     "name": "stdout",
     "output_type": "stream",
     "text": [
      "\n",
      "PRY\n",
      "[*********************100%***********************]  1 of 1 completed"
     ]
    },
    {
     "name": "stderr",
     "output_type": "stream",
     "text": [
      "\n",
      "1 Failed download:\n",
      "['ARA.MC']: Exception('%ticker%: 1d data not available for startTime=-2208994789 and endTime=1691562537. Only 100 years worth of day granularity data are allowed to be fetched per request.')\n"
     ]
    },
    {
     "name": "stdout",
     "output_type": "stream",
     "text": [
      "\n",
      "ARA\n",
      "[*********************100%***********************]  1 of 1 completed\n",
      "ALB_2\n",
      "[*********************100%***********************]  1 of 1 completed"
     ]
    },
    {
     "name": "stderr",
     "output_type": "stream",
     "text": [
      "\n",
      "1 Failed download:\n",
      "['AUM.MC']: Exception('%ticker%: 1d data not available for startTime=-2208994789 and endTime=1691562538. Only 100 years worth of day granularity data are allowed to be fetched per request.')\n"
     ]
    },
    {
     "name": "stdout",
     "output_type": "stream",
     "text": [
      "\n",
      "AUM\n",
      "[*********************100%***********************]  1 of 1 completed"
     ]
    },
    {
     "name": "stderr",
     "output_type": "stream",
     "text": [
      "\n",
      "1 Failed download:\n",
      "['CEP.MC']: Exception('%ticker%: 1d data not available for startTime=-2208994789 and endTime=1691562538. Only 100 years worth of day granularity data are allowed to be fetched per request.')\n"
     ]
    },
    {
     "name": "stdout",
     "output_type": "stream",
     "text": [
      "\n",
      "CEP_1\n",
      "[*********************100%***********************]  1 of 1 completed"
     ]
    },
    {
     "name": "stderr",
     "output_type": "stream",
     "text": [
      "\n",
      "1 Failed download:\n",
      "['HHU.MC']: Exception('%ticker%: No timezone found, symbol may be delisted')\n"
     ]
    },
    {
     "name": "stdout",
     "output_type": "stream",
     "text": [
      "\n",
      "HHU_1\n",
      "[*********************100%***********************]  1 of 1 completed"
     ]
    },
    {
     "name": "stderr",
     "output_type": "stream",
     "text": [
      "\n",
      "1 Failed download:\n",
      "['AGS.MC']: Exception('%ticker%: No timezone found, symbol may be delisted')\n"
     ]
    },
    {
     "name": "stdout",
     "output_type": "stream",
     "text": [
      "\n",
      "AGS_1\n",
      "[*********************100%***********************]  1 of 1 completed"
     ]
    },
    {
     "name": "stderr",
     "output_type": "stream",
     "text": [
      "\n",
      "1 Failed download:\n",
      "['ZOT.MC']: Exception('%ticker%: No timezone found, symbol may be delisted')\n"
     ]
    },
    {
     "name": "stdout",
     "output_type": "stream",
     "text": [
      "\n",
      "ZOT\n",
      "[*********************100%***********************]  1 of 1 completed"
     ]
    },
    {
     "name": "stderr",
     "output_type": "stream",
     "text": [
      "\n",
      "1 Failed download:\n",
      "['ARG.MC']: Exception('%ticker%: No timezone found, symbol may be delisted')\n"
     ]
    },
    {
     "name": "stdout",
     "output_type": "stream",
     "text": [
      "\n",
      "ARG\n",
      "[*********************100%***********************]  1 of 1 completed"
     ]
    },
    {
     "name": "stderr",
     "output_type": "stream",
     "text": [
      "\n",
      "1 Failed download:\n",
      "['EBA.MC']: Exception('%ticker%: No timezone found, symbol may be delisted')\n"
     ]
    },
    {
     "name": "stdout",
     "output_type": "stream",
     "text": [
      "\n",
      "EBA\n",
      "[*********************100%***********************]  1 of 1 completed"
     ]
    },
    {
     "name": "stderr",
     "output_type": "stream",
     "text": [
      "\n",
      "1 Failed download:\n",
      "['GES.MC']: Exception('%ticker%: No timezone found, symbol may be delisted')\n"
     ]
    },
    {
     "name": "stdout",
     "output_type": "stream",
     "text": [
      "\n",
      "GES\n",
      "[*********************100%***********************]  1 of 1 completed"
     ]
    },
    {
     "name": "stderr",
     "output_type": "stream",
     "text": [
      "\n",
      "1 Failed download:\n",
      "['CTE.MC']: Exception('%ticker%: No timezone found, symbol may be delisted')\n"
     ]
    },
    {
     "name": "stdout",
     "output_type": "stream",
     "text": [
      "\n",
      "CTE\n",
      "[*********************100%***********************]  1 of 1 completed\n",
      "ENC\n",
      "[*********************100%***********************]  1 of 1 completed"
     ]
    },
    {
     "name": "stderr",
     "output_type": "stream",
     "text": [
      "\n",
      "1 Failed download:\n",
      "['CTF.MC']: Exception('%ticker%: 1d data not available for startTime=-2208994789 and endTime=1691562541. Only 100 years worth of day granularity data are allowed to be fetched per request.')\n"
     ]
    },
    {
     "name": "stdout",
     "output_type": "stream",
     "text": [
      "\n",
      "CTF\n",
      "[*********************100%***********************]  1 of 1 completed"
     ]
    },
    {
     "name": "stderr",
     "output_type": "stream",
     "text": [
      "\n",
      "1 Failed download:\n",
      "['AGS.MC']: Exception('%ticker%: No timezone found, symbol may be delisted')\n"
     ]
    },
    {
     "name": "stdout",
     "output_type": "stream",
     "text": [
      "\n",
      "AGS_2\n",
      "[*********************100%***********************]  1 of 1 completed\n",
      "AMP\n",
      "[*********************100%***********************]  1 of 1 completed"
     ]
    },
    {
     "name": "stderr",
     "output_type": "stream",
     "text": [
      "\n",
      "1 Failed download:\n",
      "['AZC.MC']: Exception('%ticker%: No timezone found, symbol may be delisted')\n"
     ]
    },
    {
     "name": "stdout",
     "output_type": "stream",
     "text": [
      "\n",
      "AZC\n",
      "[*********************100%***********************]  1 of 1 completed"
     ]
    },
    {
     "name": "stderr",
     "output_type": "stream",
     "text": [
      "\n",
      "1 Failed download:\n",
      "['GES.MC']: Exception('%ticker%: No timezone found, symbol may be delisted')\n"
     ]
    },
    {
     "name": "stdout",
     "output_type": "stream",
     "text": [
      "\n",
      "GES_1\n",
      "[*********************100%***********************]  1 of 1 completed\n",
      "SOL\n",
      "[*********************100%***********************]  1 of 1 completed\n",
      "UNI\n",
      "[*********************100%***********************]  1 of 1 completed\n",
      "ANA\n",
      "[*********************100%***********************]  1 of 1 completed"
     ]
    },
    {
     "name": "stderr",
     "output_type": "stream",
     "text": [
      "\n",
      "1 Failed download:\n",
      "['AZC.MC']: Exception('%ticker%: No timezone found, symbol may be delisted')\n"
     ]
    },
    {
     "name": "stdout",
     "output_type": "stream",
     "text": [
      "\n",
      "AZC_1\n",
      "[*********************100%***********************]  1 of 1 completed\n",
      "TUB\n",
      "[*********************100%***********************]  1 of 1 completed\n",
      "VIS_1\n",
      "[*********************100%***********************]  1 of 1 completed"
     ]
    },
    {
     "name": "stderr",
     "output_type": "stream",
     "text": [
      "\n",
      "1 Failed download:\n",
      "['PUL.MC']: Exception('%ticker%: No timezone found, symbol may be delisted')\n"
     ]
    },
    {
     "name": "stdout",
     "output_type": "stream",
     "text": [
      "\n",
      "PUL\n",
      "[*********************100%***********************]  1 of 1 completed\n",
      "ACS\n",
      "[*********************100%***********************]  1 of 1 completed"
     ]
    },
    {
     "name": "stderr",
     "output_type": "stream",
     "text": [
      "\n",
      "1 Failed download:\n",
      "['ACR.MC']: Exception('%ticker%: 1d data not available for startTime=-2208994789 and endTime=1691562547. Only 100 years worth of day granularity data are allowed to be fetched per request.')\n"
     ]
    },
    {
     "name": "stdout",
     "output_type": "stream",
     "text": [
      "\n",
      "ACR\n",
      "[*********************100%***********************]  1 of 1 completed"
     ]
    },
    {
     "name": "stderr",
     "output_type": "stream",
     "text": [
      "\n",
      "1 Failed download:\n",
      "['TPZ.MC']: Exception('%ticker%: No timezone found, symbol may be delisted')\n"
     ]
    },
    {
     "name": "stdout",
     "output_type": "stream",
     "text": [
      "\n",
      "TPZ\n",
      "[*********************100%***********************]  1 of 1 completed\n",
      "ALB_3\n",
      "[*********************100%***********************]  1 of 1 completed\n",
      "ANA_1\n",
      "[*********************100%***********************]  1 of 1 completed\n",
      "NHH\n",
      "[*********************100%***********************]  1 of 1 completed"
     ]
    },
    {
     "name": "stderr",
     "output_type": "stream",
     "text": [
      "\n",
      "1 Failed download:\n",
      "['SCH.MC']: Exception('%ticker%: No timezone found, symbol may be delisted')\n"
     ]
    },
    {
     "name": "stdout",
     "output_type": "stream",
     "text": [
      "\n",
      "SCH\n",
      "[*********************100%***********************]  1 of 1 completed"
     ]
    },
    {
     "name": "stderr",
     "output_type": "stream",
     "text": [
      "\n",
      "1 Failed download:\n",
      "['RAD.MC']: Exception('%ticker%: No timezone found, symbol may be delisted')\n"
     ]
    },
    {
     "name": "stdout",
     "output_type": "stream",
     "text": [
      "\n",
      "RAD\n",
      "[*********************100%***********************]  1 of 1 completed\n",
      "FER\n",
      "[*********************100%***********************]  1 of 1 completed\n",
      "IDR\n",
      "[*********************100%***********************]  1 of 1 completed\n",
      "AMS\n",
      "[*********************100%***********************]  1 of 1 completed"
     ]
    },
    {
     "name": "stderr",
     "output_type": "stream",
     "text": [
      "\n",
      "1 Failed download:\n",
      "['SGC.MC']: Exception('%ticker%: 1d data not available for startTime=-2208994789 and endTime=1691562552. Only 100 years worth of day granularity data are allowed to be fetched per request.')\n"
     ]
    },
    {
     "name": "stdout",
     "output_type": "stream",
     "text": [
      "\n",
      "SGC\n",
      "[*********************100%***********************]  1 of 1 completed"
     ]
    },
    {
     "name": "stderr",
     "output_type": "stream",
     "text": [
      "\n",
      "1 Failed download:\n",
      "['TPI.MC']: Exception('%ticker%: 1d data not available for startTime=-2208994789 and endTime=1691562552. Only 100 years worth of day granularity data are allowed to be fetched per request.')\n"
     ]
    },
    {
     "name": "stdout",
     "output_type": "stream",
     "text": [
      "\n",
      "TPI\n",
      "[*********************100%***********************]  1 of 1 completed"
     ]
    },
    {
     "name": "stderr",
     "output_type": "stream",
     "text": [
      "\n",
      "1 Failed download:\n",
      "['ALT.MC']: Exception('%ticker%: 1d data not available for startTime=-2208994789 and endTime=1691562552. Only 100 years worth of day granularity data are allowed to be fetched per request.')\n"
     ]
    },
    {
     "name": "stdout",
     "output_type": "stream",
     "text": [
      "\n",
      "ALT\n",
      "[*********************100%***********************]  1 of 1 completed\n",
      "BBVA\n",
      "[*********************100%***********************]  1 of 1 completed"
     ]
    },
    {
     "name": "stderr",
     "output_type": "stream",
     "text": [
      "\n",
      "1 Failed download:\n",
      "['TRR.MC']: Exception('%ticker%: 1d data not available for startTime=-2208994789 and endTime=1691562553. Only 100 years worth of day granularity data are allowed to be fetched per request.')\n"
     ]
    },
    {
     "name": "stdout",
     "output_type": "stream",
     "text": [
      "\n",
      "TRR\n",
      "[*********************100%***********************]  1 of 1 completed"
     ]
    },
    {
     "name": "stderr",
     "output_type": "stream",
     "text": [
      "\n",
      "1 Failed download:\n",
      "['REE.MC']: Exception('%ticker%: No timezone found, symbol may be delisted')\n"
     ]
    },
    {
     "name": "stdout",
     "output_type": "stream",
     "text": [
      "\n",
      "REE\n",
      "[*********************100%***********************]  1 of 1 completed"
     ]
    },
    {
     "name": "stderr",
     "output_type": "stream",
     "text": [
      "\n",
      "1 Failed download:\n",
      "['ZEL.MC']: Exception('%ticker%: 1d data not available for startTime=-2208994789 and endTime=1691562554. Only 100 years worth of day granularity data are allowed to be fetched per request.')\n"
     ]
    },
    {
     "name": "stdout",
     "output_type": "stream",
     "text": [
      "\n",
      "ZEL\n",
      "[*********************100%***********************]  1 of 1 completed"
     ]
    },
    {
     "name": "stderr",
     "output_type": "stream",
     "text": [
      "\n",
      "1 Failed download:\n",
      "['CRF.MC']: Exception('%ticker%: 1d data not available for startTime=-2208994789 and endTime=1691562554. Only 100 years worth of day granularity data are allowed to be fetched per request.')\n"
     ]
    },
    {
     "name": "stdout",
     "output_type": "stream",
     "text": [
      "\n",
      "CRF\n",
      "[*********************100%***********************]  1 of 1 completed\n",
      "PRS\n",
      "[*********************100%***********************]  1 of 1 completed"
     ]
    },
    {
     "name": "stderr",
     "output_type": "stream",
     "text": [
      "\n",
      "1 Failed download:\n",
      "['TEM.MC']: Exception('%ticker%: 1d data not available for startTime=-2208994789 and endTime=1691562555. Only 100 years worth of day granularity data are allowed to be fetched per request.')\n"
     ]
    },
    {
     "name": "stdout",
     "output_type": "stream",
     "text": [
      "\n",
      "TEM\n",
      "[*********************100%***********************]  1 of 1 completed"
     ]
    },
    {
     "name": "stderr",
     "output_type": "stream",
     "text": [
      "\n",
      "1 Failed download:\n",
      "['GPP.MC']: Exception('%ticker%: 1d data not available for startTime=-2208994789 and endTime=1691562555. Only 100 years worth of day granularity data are allowed to be fetched per request.')\n"
     ]
    },
    {
     "name": "stdout",
     "output_type": "stream",
     "text": [
      "\n",
      "GPP\n",
      "[*********************100%***********************]  1 of 1 completed\n",
      "GAM\n",
      "[*********************100%***********************]  1 of 1 completed"
     ]
    },
    {
     "name": "stderr",
     "output_type": "stream",
     "text": [
      "\n",
      "1 Failed download:\n",
      "['GAS.MC']: Exception('%ticker%: 1d data not available for startTime=-2208994789 and endTime=1691562556. Only 100 years worth of day granularity data are allowed to be fetched per request.')\n"
     ]
    },
    {
     "name": "stdout",
     "output_type": "stream",
     "text": [
      "\n",
      "GAS\n",
      "[*********************100%***********************]  1 of 1 completed\n",
      "ITX\n",
      "[*********************100%***********************]  1 of 1 completed\n",
      "SAN_1\n",
      "[*********************100%***********************]  1 of 1 completed"
     ]
    },
    {
     "name": "stderr",
     "output_type": "stream",
     "text": [
      "\n",
      "1 Failed download:\n",
      "['LOR.MC']: Exception('%ticker%: No timezone found, symbol may be delisted')\n"
     ]
    },
    {
     "name": "stdout",
     "output_type": "stream",
     "text": [
      "\n",
      "LOR\n",
      "[*********************100%***********************]  1 of 1 completed"
     ]
    },
    {
     "name": "stderr",
     "output_type": "stream",
     "text": [
      "\n",
      "1 Failed download:\n",
      "['IBLA.MC']: Exception('%ticker%: 1d data not available for startTime=-2208994789 and endTime=1691562558. Only 100 years worth of day granularity data are allowed to be fetched per request.')\n"
     ]
    },
    {
     "name": "stdout",
     "output_type": "stream",
     "text": [
      "\n",
      "IBLA\n",
      "[*********************100%***********************]  1 of 1 completed\n",
      "MVC_1\n",
      "[*********************100%***********************]  1 of 1 completed"
     ]
    },
    {
     "name": "stderr",
     "output_type": "stream",
     "text": [
      "\n",
      "1 Failed download:\n",
      "['VAL.MC']: Exception('%ticker%: 1d data not available for startTime=-2208994789 and endTime=1691562559. Only 100 years worth of day granularity data are allowed to be fetched per request.')\n"
     ]
    },
    {
     "name": "stdout",
     "output_type": "stream",
     "text": [
      "\n",
      "VAL_1\n",
      "[*********************100%***********************]  1 of 1 completed\n",
      "ENG\n",
      "[*********************100%***********************]  1 of 1 completed"
     ]
    },
    {
     "name": "stderr",
     "output_type": "stream",
     "text": [
      "\n",
      "1 Failed download:\n",
      "['ABE.MC']: Exception('%ticker%: 1d data not available for startTime=-2208994789 and endTime=1691562560. Only 100 years worth of day granularity data are allowed to be fetched per request.')\n"
     ]
    },
    {
     "name": "stdout",
     "output_type": "stream",
     "text": [
      "\n",
      "ABE\n",
      "[*********************100%***********************]  1 of 1 completed\n",
      "SYV\n",
      "[*********************100%***********************]  1 of 1 completed\n",
      "MAP_1\n",
      "[*********************100%***********************]  1 of 1 completed"
     ]
    },
    {
     "name": "stderr",
     "output_type": "stream",
     "text": [
      "\n",
      "1 Failed download:\n",
      "['TRR.MC']: Exception('%ticker%: 1d data not available for startTime=-2208994789 and endTime=1691562562. Only 100 years worth of day granularity data are allowed to be fetched per request.')\n"
     ]
    },
    {
     "name": "stdout",
     "output_type": "stream",
     "text": [
      "\n",
      "TRR_1\n",
      "[*********************100%***********************]  1 of 1 completed\n",
      "BTO\n",
      "[*********************100%***********************]  1 of 1 completed\n",
      "PRS_1\n",
      "[*********************100%***********************]  1 of 1 completed\n",
      "SAB\n",
      "[*********************100%***********************]  1 of 1 completed\n",
      "SYV_1\n",
      "[*********************100%***********************]  1 of 1 completed"
     ]
    },
    {
     "name": "stderr",
     "output_type": "stream",
     "text": [
      "\n",
      "1 Failed download:\n",
      "['TL5.MC']: Exception('%ticker%: No data found, symbol may be delisted')\n"
     ]
    },
    {
     "name": "stdout",
     "output_type": "stream",
     "text": [
      "\n",
      "TL5\n",
      "[*********************100%***********************]  1 of 1 completed"
     ]
    },
    {
     "name": "stderr",
     "output_type": "stream",
     "text": [
      "\n",
      "1 Failed download:\n",
      "['REE.MC']: Exception('%ticker%: No timezone found, symbol may be delisted')\n"
     ]
    },
    {
     "name": "stdout",
     "output_type": "stream",
     "text": [
      "\n",
      "REE_1\n",
      "[*********************100%***********************]  1 of 1 completed"
     ]
    },
    {
     "name": "stderr",
     "output_type": "stream",
     "text": [
      "\n",
      "1 Failed download:\n",
      "['CIN.MC']: Exception('%ticker%: No timezone found, symbol may be delisted')\n"
     ]
    },
    {
     "name": "stdout",
     "output_type": "stream",
     "text": [
      "\n",
      "CIN\n",
      "[*********************100%***********************]  1 of 1 completed"
     ]
    },
    {
     "name": "stderr",
     "output_type": "stream",
     "text": [
      "\n",
      "1 Failed download:\n",
      "['A3TV.MC']: Exception('%ticker%: 1d data not available for startTime=-2208994789 and endTime=1691562565. Only 100 years worth of day granularity data are allowed to be fetched per request.')\n"
     ]
    },
    {
     "name": "stdout",
     "output_type": "stream",
     "text": [
      "\n",
      "A3TV\n",
      "[*********************100%***********************]  1 of 1 completed\n",
      "NHH_1\n",
      "[*********************100%***********************]  1 of 1 completed"
     ]
    },
    {
     "name": "stderr",
     "output_type": "stream",
     "text": [
      "\n",
      "1 Failed download:\n",
      "['FAD.MC']: Exception('%ticker%: 1d data not available for startTime=-2208994789 and endTime=1691562566. Only 100 years worth of day granularity data are allowed to be fetched per request.')\n"
     ]
    },
    {
     "name": "stdout",
     "output_type": "stream",
     "text": [
      "\n",
      "FAD\n",
      "[*********************100%***********************]  1 of 1 completed\n",
      "MAP_2\n",
      "[*********************100%***********************]  1 of 1 completed\n",
      "BTO_1\n",
      "[*********************100%***********************]  1 of 1 completed\n",
      "NHH_2\n",
      "[*********************100%***********************]  1 of 1 completed"
     ]
    },
    {
     "name": "stderr",
     "output_type": "stream",
     "text": [
      "\n",
      "1 Failed download:\n",
      "['AGS.MC']: Exception('%ticker%: No timezone found, symbol may be delisted')\n"
     ]
    },
    {
     "name": "stdout",
     "output_type": "stream",
     "text": [
      "\n",
      "AGS_3\n",
      "[*********************100%***********************]  1 of 1 completed"
     ]
    },
    {
     "name": "stderr",
     "output_type": "stream",
     "text": [
      "\n",
      "1 Failed download:\n",
      "['CAR.MC']: Exception('%ticker%: No timezone found, symbol may be delisted')\n"
     ]
    },
    {
     "name": "stdout",
     "output_type": "stream",
     "text": [
      "\n",
      "CAR\n",
      "[*********************100%***********************]  1 of 1 completed\n",
      "COL\n",
      "[*********************100%***********************]  1 of 1 completed"
     ]
    },
    {
     "name": "stderr",
     "output_type": "stream",
     "text": [
      "\n",
      "1 Failed download:\n",
      "['BME.MC']: Exception('%ticker%: No timezone found, symbol may be delisted')\n"
     ]
    },
    {
     "name": "stdout",
     "output_type": "stream",
     "text": [
      "\n",
      "BME\n",
      "[*********************100%***********************]  1 of 1 completed\n",
      "GRF\n",
      "[*********************100%***********************]  1 of 1 completed"
     ]
    },
    {
     "name": "stderr",
     "output_type": "stream",
     "text": [
      "\n",
      "1 Failed download:\n",
      "['ABG.MC']: Exception('%ticker%: No timezone found, symbol may be delisted')\n"
     ]
    },
    {
     "name": "stdout",
     "output_type": "stream",
     "text": [
      "\n",
      "ABG\n",
      "[*********************100%***********************]  1 of 1 completed"
     ]
    },
    {
     "name": "stderr",
     "output_type": "stream",
     "text": [
      "\n",
      "1 Failed download:\n",
      "['IBR.MC']: Exception('%ticker%: No timezone found, symbol may be delisted')\n"
     ]
    },
    {
     "name": "stdout",
     "output_type": "stream",
     "text": [
      "\n",
      "IBR\n",
      "[*********************100%***********************]  1 of 1 completed"
     ]
    },
    {
     "name": "stderr",
     "output_type": "stream",
     "text": [
      "\n",
      "1 Failed download:\n",
      "['CRI.MC']: Exception('%ticker%: No timezone found, symbol may be delisted')\n"
     ]
    },
    {
     "name": "stdout",
     "output_type": "stream",
     "text": [
      "\n",
      "CRI_2\n",
      "[*********************100%***********************]  1 of 1 completed\n",
      "TRE\n",
      "[*********************100%***********************]  1 of 1 completed\n",
      "OHLA\n",
      "[*********************100%***********************]  1 of 1 completed\n",
      "MTS\n",
      "[*********************100%***********************]  1 of 1 completed"
     ]
    },
    {
     "name": "stderr",
     "output_type": "stream",
     "text": [
      "\n",
      "1 Failed download:\n",
      "['EVA.MC']: Exception('%ticker%: 1d data not available for startTime=-2208994789 and endTime=1691562573. Only 100 years worth of day granularity data are allowed to be fetched per request.')\n"
     ]
    },
    {
     "name": "stdout",
     "output_type": "stream",
     "text": [
      "\n",
      "EVA\n",
      "[*********************100%***********************]  1 of 1 completed\n",
      "EBRO\n",
      "[*********************100%***********************]  1 of 1 completed\n",
      "AMS_1\n",
      "[*********************100%***********************]  1 of 1 completed\n",
      "IAG\n",
      "[*********************100%***********************]  1 of 1 completed\n",
      "CABK\n",
      "[*********************100%***********************]  1 of 1 completed"
     ]
    },
    {
     "name": "stderr",
     "output_type": "stream",
     "text": [
      "\n",
      "1 Failed download:\n",
      "['BKIA.MC']: Exception('%ticker%: No timezone found, symbol may be delisted')\n"
     ]
    },
    {
     "name": "stdout",
     "output_type": "stream",
     "text": [
      "\n",
      "BKIA\n",
      "[*********************100%***********************]  1 of 1 completed\n",
      "DIA\n",
      "[*********************100%***********************]  1 of 1 completed"
     ]
    },
    {
     "name": "stderr",
     "output_type": "stream",
     "text": [
      "\n",
      "1 Failed download:\n",
      "['ABG.P.MC']: Exception('%ticker%: No timezone found, symbol may be delisted')\n"
     ]
    },
    {
     "name": "stdout",
     "output_type": "stream",
     "text": [
      "\n",
      "ABG.P\n",
      "[*********************100%***********************]  1 of 1 completed\n",
      "VIS_2\n",
      "[*********************100%***********************]  1 of 1 completed"
     ]
    },
    {
     "name": "stderr",
     "output_type": "stream",
     "text": [
      "\n",
      "1 Failed download:\n",
      "['JAZ.MC']: Exception('%ticker%: 1d data not available for startTime=-2208994789 and endTime=1691562577. Only 100 years worth of day granularity data are allowed to be fetched per request.')\n"
     ]
    },
    {
     "name": "stdout",
     "output_type": "stream",
     "text": [
      "\n",
      "JAZ\n",
      "[*********************100%***********************]  1 of 1 completed\n",
      "EBRO_1\n",
      "[*********************100%***********************]  1 of 1 completed\n",
      "SCYR\n",
      "[*********************100%***********************]  1 of 1 completed"
     ]
    },
    {
     "name": "stderr",
     "output_type": "stream",
     "text": [
      "\n",
      "1 Failed download:\n",
      "['BKIA.MC']: Exception('%ticker%: No timezone found, symbol may be delisted')\n"
     ]
    },
    {
     "name": "stdout",
     "output_type": "stream",
     "text": [
      "\n",
      "BKIA_1\n",
      "[*********************100%***********************]  1 of 1 completed\n",
      "GAM_1\n",
      "[*********************100%***********************]  1 of 1 completed"
     ]
    },
    {
     "name": "stderr",
     "output_type": "stream",
     "text": [
      "\n",
      "1 Failed download:\n",
      "['ABG.P.MC']: Exception('%ticker%: No timezone found, symbol may be delisted')\n"
     ]
    },
    {
     "name": "stdout",
     "output_type": "stream",
     "text": [
      "\n",
      "ABG.P_1\n",
      "[*********************100%***********************]  1 of 1 completed\n",
      "ELE_1\n",
      "[*********************100%***********************]  1 of 1 completed\n",
      "ACX_2\n",
      "[*********************100%***********************]  1 of 1 completed\n",
      "AENA\n",
      "[*********************100%***********************]  1 of 1 completed\n",
      "ANA_2\n",
      "[*********************100%***********************]  1 of 1 completed\n",
      "MRL\n",
      "[*********************100%***********************]  1 of 1 completed\n",
      "CLNX\n",
      "[*********************100%***********************]  1 of 1 completed\n",
      "VIS_3\n",
      "[*********************100%***********************]  1 of 1 completed\n",
      "MEL\n",
      "[*********************100%***********************]  1 of 1 completed\n",
      "COL_1\n",
      "[*********************100%***********************]  1 of 1 completed"
     ]
    },
    {
     "name": "stderr",
     "output_type": "stream",
     "text": [
      "\n",
      "1 Failed download:\n",
      "['SGRE.MC']: Exception('%ticker%: No timezone found, symbol may be delisted')\n"
     ]
    },
    {
     "name": "stdout",
     "output_type": "stream",
     "text": [
      "\n",
      "SGRE\n",
      "[*********************100%***********************]  1 of 1 completed\n",
      "NTGY\n",
      "[*********************100%***********************]  1 of 1 completed\n",
      "CIE\n",
      "[*********************100%***********************]  1 of 1 completed\n",
      "ENC_1\n",
      "[*********************100%***********************]  1 of 1 completed"
     ]
    },
    {
     "name": "stderr",
     "output_type": "stream",
     "text": [
      "\n",
      "1 Failed download:\n",
      "['MAS.MC']: Exception('%ticker%: No timezone found, symbol may be delisted')\n"
     ]
    },
    {
     "name": "stdout",
     "output_type": "stream",
     "text": [
      "\n",
      "MAS\n",
      "[*********************100%***********************]  1 of 1 completed\n",
      "ALM\n",
      "[*********************100%***********************]  1 of 1 completed\n",
      "PHM\n",
      "[*********************100%***********************]  1 of 1 completed\n",
      "SLR\n",
      "[*********************100%***********************]  1 of 1 completed\n",
      "FDR\n",
      "[*********************100%***********************]  1 of 1 completed\n",
      "ROVI\n",
      "[*********************100%***********************]  1 of 1 completed\n",
      "RED\n",
      "[*********************100%***********************]  1 of 1 completed\n",
      "ANE\n",
      "[*********************100%***********************]  1 of 1 completed\n",
      "SCYR_1\n",
      "[*********************100%***********************]  1 of 1 completed\n",
      "LOG\n",
      "[*********************100%***********************]  1 of 1 completed\n",
      "UNI\n"
     ]
    }
   ],
   "source": [
    "# REALIZAMOS LA DESCARGA DE LOS DATOS DE YFINANCE Y LOS CARGAMOS EN UN BUCKET DE S3\n",
    "bucket_name = 'stock-market-historical-data'\n",
    "raw_folder = 'raw/yfinance/'\n",
    "s3 = boto3.resource('s3')\n",
    "failed_loads = []\n",
    "\n",
    "for i in range(ibex_constituents.Ticker[i].unique):\n",
    "\n",
    "    try:\n",
    "        ticker = ibex_constituents.Ticker[i] + '.MC'\n",
    "        file_name = ibex_constituents.Activo[i] +'.parquet'\n",
    "        full_path = raw_folder + file_name\n",
    "        \n",
    "        stock = yf.download(ticker)\n",
    "        stock = pd.DataFrame(stock)\n",
    "        \n",
    "        table = pa.Table.from_pandas(stock_data)\n",
    "        buf = BytesIO()\n",
    "        pq.write_table(table, buf)\n",
    "\n",
    "        s3.Object(bucket_name, full_path).put(Body=buf.getvalue())\n",
    "        print(ibex_constituents.Activo[i])\n",
    "    except:\n",
    "        failed_loads.append(ticker)\n",
    "        continue\n",
    "\n"
   ]
  },
  {
   "cell_type": "code",
   "execution_count": 9,
   "metadata": {},
   "outputs": [
    {
     "name": "stdout",
     "output_type": "stream",
     "text": [
      "[*********************100%***********************]  1 of 1 completed"
     ]
    },
    {
     "name": "stderr",
     "output_type": "stream",
     "text": [
      "\n",
      "1 Failed download:\n",
      "['ACE.MC']: Exception('%ticker%: No price data found, symbol may be delisted (1d 1991-01-02 00:00:00 -> 2003-06-02 00:00:00)')\n"
     ]
    },
    {
     "name": "stdout",
     "output_type": "stream",
     "text": [
      "\n",
      "Empty DataFrame\n",
      "Columns: [Open, High, Low, Close, Adj Close, Volume]\n",
      "Index: []\n",
      "ACE\n",
      "[*********************100%***********************]  1 of 1 completed"
     ]
    },
    {
     "name": "stderr",
     "output_type": "stream",
     "text": [
      "\n",
      "1 Failed download:\n",
      "['ACX.MC']: Exception(\"%ticker%: Data doesn't exist for startDate = 662770800, endDate = 678319200\")\n"
     ]
    },
    {
     "name": "stdout",
     "output_type": "stream",
     "text": [
      "\n",
      "Empty DataFrame\n",
      "Columns: [Open, High, Low, Close, Adj Close, Volume]\n",
      "Index: []\n",
      "ACX\n",
      "[*********************100%***********************]  1 of 1 completed"
     ]
    },
    {
     "name": "stderr",
     "output_type": "stream",
     "text": [
      "\n",
      "1 Failed download:\n",
      "['ALB.MC']: Exception(\"%ticker%: Data doesn't exist for startDate = 662770800, endDate = 678319200\")\n"
     ]
    },
    {
     "name": "stdout",
     "output_type": "stream",
     "text": [
      "\n",
      "Empty DataFrame\n",
      "Columns: [Open, High, Low, Close, Adj Close, Volume]\n",
      "Index: []\n",
      "ALB\n",
      "[*********************100%***********************]  1 of 1 completed"
     ]
    },
    {
     "name": "stderr",
     "output_type": "stream",
     "text": [
      "\n",
      "1 Failed download:\n",
      "['ASL.MC']: Exception('%ticker%: No timezone found, symbol may be delisted')\n"
     ]
    },
    {
     "name": "stdout",
     "output_type": "stream",
     "text": [
      "\n",
      "Empty DataFrame\n",
      "Columns: [Open, High, Low, Close, Adj Close, Volume]\n",
      "Index: []\n",
      "ASL\n",
      "[*********************100%***********************]  1 of 1 completed"
     ]
    },
    {
     "name": "stderr",
     "output_type": "stream",
     "text": [
      "\n",
      "1 Failed download:\n",
      "['BBV.MC']: Exception('%ticker%: No timezone found, symbol may be delisted')\n"
     ]
    },
    {
     "name": "stdout",
     "output_type": "stream",
     "text": [
      "\n",
      "Empty DataFrame\n",
      "Columns: [Open, High, Low, Close, Adj Close, Volume]\n",
      "Index: []\n",
      "BBV\n",
      "[*********************100%***********************]  1 of 1 completed\n",
      "                 Open       High        Low      Close  Adj Close    Volume\n",
      "Date                                                                       \n",
      "2000-01-03  48.910336  48.910336  46.088585  46.558876  21.463047  10681615\n",
      "2000-01-04  46.511845  46.511845  44.442562  44.442562  20.487453   6692841\n",
      "2000-01-05  43.972271  46.370758  41.573784  43.737125  20.162264  10202365\n",
      "2000-01-06  43.737125  43.737125  43.737125  43.737125  20.162264         0\n",
      "2000-01-07  43.266834  44.009895  42.608425  43.511387  20.070442  55484769\n",
      "...               ...        ...        ...        ...        ...       ...\n",
      "2023-08-02   5.762000   5.802000   5.704000   5.788000   5.788000   2356230\n",
      "2023-08-03   5.800000   5.964000   5.786000   5.964000   5.964000   2499233\n",
      "2023-08-04   5.990000   6.062000   5.966000   6.018000   6.018000   2478517\n",
      "2023-08-07   6.024000   6.088000   6.000000   6.082000   6.082000   1514389\n",
      "2023-08-08   6.004000   6.066000   5.888000   5.968000   5.968000   2950314\n",
      "\n",
      "[6064 rows x 6 columns]\n",
      "BKT\n",
      "[*********************100%***********************]  1 of 1 completed"
     ]
    },
    {
     "name": "stderr",
     "output_type": "stream",
     "text": [
      "\n",
      "1 Failed download:\n",
      "['BTO.MC']: Exception(\"%ticker%: Data doesn't exist for startDate = 662792400, endDate = 891493200\")\n"
     ]
    },
    {
     "name": "stdout",
     "output_type": "stream",
     "text": [
      "\n",
      "Empty DataFrame\n",
      "Columns: [Open, High, Low, Close, Adj Close, Volume]\n",
      "Index: []\n",
      "BTO\n",
      "[*********************100%***********************]  1 of 1 completed"
     ]
    },
    {
     "name": "stderr",
     "output_type": "stream",
     "text": [
      "\n",
      "1 Failed download:\n",
      "['CEN.MC']: Exception('%ticker%: No timezone found, symbol may be delisted')\n"
     ]
    },
    {
     "name": "stdout",
     "output_type": "stream",
     "text": [
      "\n",
      "Empty DataFrame\n",
      "Columns: [Open, High, Low, Close, Adj Close, Volume]\n",
      "Index: []\n",
      "CEN\n",
      "[*********************100%***********************]  1 of 1 completed"
     ]
    },
    {
     "name": "stderr",
     "output_type": "stream",
     "text": [
      "\n",
      "1 Failed download:\n",
      "['CEP.MC']: Exception('%ticker%: No price data found, symbol may be delisted (1d 1991-01-02 00:00:00 -> 1992-07-01 00:00:00)')\n"
     ]
    },
    {
     "name": "stdout",
     "output_type": "stream",
     "text": [
      "\n",
      "Empty DataFrame\n",
      "Columns: [Open, High, Low, Close, Adj Close, Volume]\n",
      "Index: []\n",
      "CEP\n",
      "[*********************100%***********************]  1 of 1 completed"
     ]
    },
    {
     "name": "stderr",
     "output_type": "stream",
     "text": [
      "\n",
      "1 Failed download:\n",
      "['CRI.MC']: Exception('%ticker%: No timezone found, symbol may be delisted')\n"
     ]
    },
    {
     "name": "stdout",
     "output_type": "stream",
     "text": [
      "\n",
      "Empty DataFrame\n",
      "Columns: [Open, High, Low, Close, Adj Close, Volume]\n",
      "Index: []\n",
      "CRI\n",
      "[*********************100%***********************]  1 of 1 completed"
     ]
    },
    {
     "name": "stderr",
     "output_type": "stream",
     "text": [
      "\n",
      "1 Failed download:\n",
      "['CTG.MC']: Exception('%ticker%: No timezone found, symbol may be delisted')\n"
     ]
    },
    {
     "name": "stdout",
     "output_type": "stream",
     "text": [
      "\n",
      "Empty DataFrame\n",
      "Columns: [Open, High, Low, Close, Adj Close, Volume]\n",
      "Index: []\n",
      "CTG\n",
      "[*********************100%***********************]  1 of 1 completed"
     ]
    },
    {
     "name": "stderr",
     "output_type": "stream",
     "text": [
      "\n",
      "1 Failed download:\n",
      "['DRC.MC']: Exception('%ticker%: No price data found, symbol may be delisted (1d 1991-01-02 00:00:00 -> 2003-12-15 00:00:00)')\n"
     ]
    },
    {
     "name": "stdout",
     "output_type": "stream",
     "text": [
      "\n",
      "Empty DataFrame\n",
      "Columns: [Open, High, Low, Close, Adj Close, Volume]\n",
      "Index: []\n",
      "DRC\n",
      "[*********************100%***********************]  1 of 1 completed"
     ]
    },
    {
     "name": "stderr",
     "output_type": "stream",
     "text": [
      "\n",
      "1 Failed download:\n",
      "['ECR.MC']: Exception(\"%ticker%: Data doesn't exist for startDate = 662770800, endDate = 694306800\")\n"
     ]
    },
    {
     "name": "stdout",
     "output_type": "stream",
     "text": [
      "\n",
      "Empty DataFrame\n",
      "Columns: [Open, High, Low, Close, Adj Close, Volume]\n",
      "Index: []\n",
      "ECR\n",
      "[*********************100%***********************]  1 of 1 completed\n",
      "                 Open       High        Low      Close  Adj Close   Volume\n",
      "Date                                                                      \n",
      "2000-01-03  19.700001  19.750000  18.879999  19.010000  -4.884562  3615680\n",
      "2000-01-04  18.879999  18.879999  18.200001  18.500000  -4.753518  4048543\n",
      "2000-01-05  18.200001  18.680000  18.129999  18.639999  -4.789491  4688995\n",
      "2000-01-07  18.900000  19.350000  18.860001  19.309999  -4.961647  4027102\n",
      "2000-01-10  19.549999  19.549999  19.059999  19.309999  -4.961647  2533020\n",
      "...               ...        ...        ...        ...        ...      ...\n",
      "2013-12-16  20.325001  20.730000  20.215000  20.580000   5.485956   679214\n",
      "2013-12-17  20.615000  20.705000  20.455000  20.700001   5.517942   516371\n",
      "2013-12-18  21.480000  22.170000  21.299999  22.160000   5.907131  1493660\n",
      "2013-12-19  22.200001  22.520000  21.885000  22.510000   6.000429  1946622\n",
      "2013-12-20  22.500000  22.500000  21.875000  21.900000   5.837824  5307766\n",
      "\n",
      "[3531 rows x 6 columns]\n",
      "ELE\n",
      "[*********************100%***********************]  1 of 1 completed"
     ]
    },
    {
     "name": "stderr",
     "output_type": "stream",
     "text": [
      "\n",
      "1 Failed download:\n",
      "['FEC.MC']: Exception('%ticker%: No timezone found, symbol may be delisted')\n"
     ]
    },
    {
     "name": "stdout",
     "output_type": "stream",
     "text": [
      "\n",
      "Empty DataFrame\n",
      "Columns: [Open, High, Low, Close, Adj Close, Volume]\n",
      "Index: []\n",
      "FEC\n",
      "[*********************100%***********************]  1 of 1 completed"
     ]
    },
    {
     "name": "stderr",
     "output_type": "stream",
     "text": [
      "\n",
      "1 Failed download:\n",
      "['FOC.MC']: Exception('%ticker%: No timezone found, symbol may be delisted')\n"
     ]
    },
    {
     "name": "stdout",
     "output_type": "stream",
     "text": [
      "\n",
      "Empty DataFrame\n",
      "Columns: [Open, High, Low, Close, Adj Close, Volume]\n",
      "Index: []\n",
      "FOC\n",
      "[*********************100%***********************]  1 of 1 completed"
     ]
    },
    {
     "name": "stderr",
     "output_type": "stream",
     "text": [
      "\n",
      "1 Failed download:\n",
      "['HID.MC']: Exception('%ticker%: No timezone found, symbol may be delisted')\n"
     ]
    },
    {
     "name": "stdout",
     "output_type": "stream",
     "text": [
      "\n",
      "Empty DataFrame\n",
      "Columns: [Open, High, Low, Close, Adj Close, Volume]\n",
      "Index: []\n",
      "HID\n",
      "[*********************100%***********************]  1 of 1 completed"
     ]
    },
    {
     "name": "stderr",
     "output_type": "stream",
     "text": [
      "\n",
      "1 Failed download:\n",
      "['HIS.MC']: Exception('%ticker%: No timezone found, symbol may be delisted')\n"
     ]
    },
    {
     "name": "stdout",
     "output_type": "stream",
     "text": [
      "\n",
      "Empty DataFrame\n",
      "Columns: [Open, High, Low, Close, Adj Close, Volume]\n",
      "Index: []\n",
      "HIS\n",
      "[*********************100%***********************]  1 of 1 completed\n",
      "               Open     High      Low    Close  Adj Close    Volume\n",
      "Date                                                               \n",
      "2000-01-03   3.4125   3.4450   3.3250   3.3550   1.154087  13754944\n",
      "2000-01-04   3.3000   3.3625   3.2775   3.3025   1.136027   8157352\n",
      "2000-01-05   3.2875   3.3100   3.2650   3.2975   1.134307   7532596\n",
      "2000-01-06   3.2975   3.2975   3.2975   3.2975   1.134307         0\n",
      "2000-01-07   3.3250   3.3700   3.2875   3.3250   1.143767  10259804\n",
      "...             ...      ...      ...      ...        ...       ...\n",
      "2023-08-02  11.1100  11.1250  10.9150  10.9150  10.915000  13634064\n",
      "2023-08-03  10.8750  10.9100  10.7150  10.7500  10.750000  12910398\n",
      "2023-08-04  10.7600  10.8100  10.6150  10.7900  10.790000   8453241\n",
      "2023-08-07  10.7750  10.7800  10.6150  10.7650  10.765000   5696306\n",
      "2023-08-08  10.7500  10.8850  10.7100  10.8350  10.835000   9012207\n",
      "\n",
      "[6064 rows x 6 columns]\n",
      "IBE\n",
      "[*********************100%***********************]  1 of 1 completed"
     ]
    },
    {
     "name": "stderr",
     "output_type": "stream",
     "text": [
      "\n",
      "1 Failed download:\n",
      "['MAP.MC']: Exception(\"%ticker%: Data doesn't exist for startDate = 662770800, endDate = 962575200\")\n"
     ]
    },
    {
     "name": "stdout",
     "output_type": "stream",
     "text": [
      "\n",
      "Empty DataFrame\n",
      "Columns: [Open, High, Low, Close, Adj Close, Volume]\n",
      "Index: []\n",
      "MAP\n",
      "[*********************100%***********************]  1 of 1 completed"
     ]
    },
    {
     "name": "stderr",
     "output_type": "stream",
     "text": [
      "\n",
      "1 Failed download:\n",
      "['POP.MC']: Exception('%ticker%: No price data found, symbol may be delisted (1d 1991-01-02 00:00:00 -> 2017-06-07 00:00:00)')\n"
     ]
    },
    {
     "name": "stdout",
     "output_type": "stream",
     "text": [
      "\n",
      "Empty DataFrame\n",
      "Columns: [Open, High, Low, Close, Adj Close, Volume]\n",
      "Index: []\n",
      "POP\n",
      "[*********************100%***********************]  1 of 1 completed\n",
      "             Open       High        Low      Close  Adj Close   Volume\n",
      "Date                                                                  \n",
      "2000-01-03  23.00  23.469999  21.900000  22.040001   6.684849  3215655\n",
      "2000-01-04  21.90  22.090000  21.150000  21.299999   6.460403  3244446\n",
      "2000-01-05  21.00  21.469999  20.799999  21.010000   6.372445  3235272\n",
      "2000-01-07  21.25  22.070000  21.240000  21.670000   6.572627  5914766\n",
      "2000-01-10  22.00  22.170000  21.650000  21.900000   6.642385  4001166\n",
      "...           ...        ...        ...        ...        ...      ...\n",
      "2023-08-02  13.67  13.850000  13.570000  13.570000  13.570000  9418359\n",
      "2023-08-03  13.56  13.670000  13.360000  13.645000  13.645000  5359352\n",
      "2023-08-04  13.68  13.845000  13.680000  13.770000  13.770000  2725480\n",
      "2023-08-07  13.90  13.955000  13.705000  13.810000  13.810000  1977762\n",
      "2023-08-08  13.72  13.745000  13.430000  13.690000  13.690000  2466748\n",
      "\n",
      "[5998 rows x 6 columns]\n",
      "REP\n",
      "[*********************100%***********************]  1 of 1 completed"
     ]
    },
    {
     "name": "stderr",
     "output_type": "stream",
     "text": [
      "\n",
      "1 Failed download:\n",
      "['SAN.MC']: Exception(\"%ticker%: Data doesn't exist for startDate = 662770800, endDate = 924472800\")\n"
     ]
    },
    {
     "name": "stdout",
     "output_type": "stream",
     "text": [
      "\n",
      "Empty DataFrame\n",
      "Columns: [Open, High, Low, Close, Adj Close, Volume]\n",
      "Index: []\n",
      "SAN\n",
      "[*********************100%***********************]  1 of 1 completed"
     ]
    },
    {
     "name": "stderr",
     "output_type": "stream",
     "text": [
      "\n",
      "1 Failed download:\n",
      "['SEV.MC']: Exception('%ticker%: No timezone found, symbol may be delisted')\n"
     ]
    },
    {
     "name": "stdout",
     "output_type": "stream",
     "text": [
      "\n",
      "Empty DataFrame\n",
      "Columns: [Open, High, Low, Close, Adj Close, Volume]\n",
      "Index: []\n",
      "SEV\n",
      "[*********************100%***********************]  1 of 1 completed"
     ]
    },
    {
     "name": "stderr",
     "output_type": "stream",
     "text": [
      "\n",
      "1 Failed download:\n",
      "['TAB.MC']: Exception('%ticker%: No timezone found, symbol may be delisted')\n"
     ]
    },
    {
     "name": "stdout",
     "output_type": "stream",
     "text": [
      "\n",
      "Empty DataFrame\n",
      "Columns: [Open, High, Low, Close, Adj Close, Volume]\n",
      "Index: []\n",
      "TAB\n",
      "[*********************100%***********************]  1 of 1 completed\n",
      "                 Open       High        Low      Close  Adj Close    Volume\n",
      "Date                                                                       \n",
      "2000-01-03  25.557217  25.893366  24.519110  24.716843   7.274562  13579848\n",
      "2000-01-04  24.469675  24.786051  23.283266  23.698509   6.974851  15091975\n",
      "2000-01-05  22.749384  23.214060  22.433006  22.591194   6.648950  16630986\n",
      "2000-01-06  22.591194  22.591194  22.591194  22.591194   6.648950         0\n",
      "2000-01-07  22.640629  22.680176  22.264933  22.630741   6.660589  17595592\n",
      "...               ...        ...        ...        ...        ...       ...\n",
      "2023-08-02   3.819000   3.820000   3.532000   3.558000   3.558000  53783235\n",
      "2023-08-03   3.544000   3.571000   3.506000   3.516000   3.516000  49720134\n",
      "2023-08-04   3.538000   3.549000   3.506000   3.535000   3.535000   9874617\n",
      "2023-08-07   3.531000   3.535000   3.500000   3.514000   3.514000   7915479\n",
      "2023-08-08   3.501000   3.525000   3.486000   3.516000   3.516000   8158893\n",
      "\n",
      "[6005 rows x 6 columns]\n",
      "TEF\n",
      "[*********************100%***********************]  1 of 1 completed"
     ]
    },
    {
     "name": "stderr",
     "output_type": "stream",
     "text": [
      "\n",
      "1 Failed download:\n",
      "['UNF.MC']: Exception('%ticker%: No price data found, symbol may be delisted (1d 1991-01-02 00:00:00 -> 2009-04-15 00:00:00)')\n"
     ]
    },
    {
     "name": "stdout",
     "output_type": "stream",
     "text": [
      "\n",
      "Empty DataFrame\n",
      "Columns: [Open, High, Low, Close, Adj Close, Volume]\n",
      "Index: []\n",
      "UNF\n",
      "[*********************100%***********************]  1 of 1 completed"
     ]
    },
    {
     "name": "stderr",
     "output_type": "stream",
     "text": [
      "\n",
      "1 Failed download:\n",
      "['URA.MC']: Exception('%ticker%: No price data found, symbol may be delisted (1d 1991-01-02 00:00:00 -> 2000-01-03 00:00:00)')\n"
     ]
    },
    {
     "name": "stdout",
     "output_type": "stream",
     "text": [
      "\n",
      "Empty DataFrame\n",
      "Columns: [Open, High, Low, Close, Adj Close, Volume]\n",
      "Index: []\n",
      "URA\n",
      "[*********************100%***********************]  1 of 1 completed"
     ]
    },
    {
     "name": "stderr",
     "output_type": "stream",
     "text": [
      "\n",
      "1 Failed download:\n",
      "['URB.MC']: Exception('%ticker%: No price data found, symbol may be delisted (1d 1991-01-02 00:00:00 -> 1993-01-04 00:00:00)')\n"
     ]
    },
    {
     "name": "stdout",
     "output_type": "stream",
     "text": [
      "\n",
      "Empty DataFrame\n",
      "Columns: [Open, High, Low, Close, Adj Close, Volume]\n",
      "Index: []\n",
      "URB\n",
      "[*********************100%***********************]  1 of 1 completed"
     ]
    },
    {
     "name": "stderr",
     "output_type": "stream",
     "text": [
      "\n",
      "1 Failed download:\n",
      "['VAL.MC']: Exception('%ticker%: No price data found, symbol may be delisted (1d 1991-01-02 00:00:00 -> 2001-01-02 00:00:00)')\n"
     ]
    },
    {
     "name": "stdout",
     "output_type": "stream",
     "text": [
      "\n",
      "Empty DataFrame\n",
      "Columns: [Open, High, Low, Close, Adj Close, Volume]\n",
      "Index: []\n",
      "VAL\n",
      "[*********************100%***********************]  1 of 1 completed"
     ]
    },
    {
     "name": "stderr",
     "output_type": "stream",
     "text": [
      "\n",
      "1 Failed download:\n",
      "['VDR.MC']: Exception('%ticker%: No price data found, symbol may be delisted (1d 1991-01-02 00:00:00 -> 1995-07-02 00:00:00)')\n"
     ]
    },
    {
     "name": "stdout",
     "output_type": "stream",
     "text": [
      "\n",
      "Empty DataFrame\n",
      "Columns: [Open, High, Low, Close, Adj Close, Volume]\n",
      "Index: []\n",
      "VDR\n",
      "[*********************100%***********************]  1 of 1 completed"
     ]
    },
    {
     "name": "stderr",
     "output_type": "stream",
     "text": [
      "\n",
      "1 Failed download:\n",
      "['VIS.MC']: Exception(\"%ticker%: Data doesn't exist for startDate = 662770800, endDate = 852159600\")\n"
     ]
    },
    {
     "name": "stdout",
     "output_type": "stream",
     "text": [
      "\n",
      "Empty DataFrame\n",
      "Columns: [Open, High, Low, Close, Adj Close, Volume]\n",
      "Index: []\n",
      "VIS\n",
      "[*********************100%***********************]  1 of 1 completed"
     ]
    },
    {
     "name": "stderr",
     "output_type": "stream",
     "text": [
      "\n",
      "1 Failed download:\n",
      "['AGR.MC']: Exception('%ticker%: No timezone found, symbol may be delisted')\n"
     ]
    },
    {
     "name": "stdout",
     "output_type": "stream",
     "text": [
      "\n",
      "Empty DataFrame\n",
      "Columns: [Open, High, Low, Close, Adj Close, Volume]\n",
      "Index: []\n",
      "AGR\n",
      "[*********************100%***********************]  1 of 1 completed"
     ]
    },
    {
     "name": "stderr",
     "output_type": "stream",
     "text": [
      "\n",
      "1 Failed download:\n",
      "['CUB.MC']: Exception('%ticker%: No timezone found, symbol may be delisted')\n"
     ]
    },
    {
     "name": "stdout",
     "output_type": "stream",
     "text": [
      "\n",
      "Empty DataFrame\n",
      "Columns: [Open, High, Low, Close, Adj Close, Volume]\n",
      "Index: []\n",
      "CUB\n",
      "[*********************100%***********************]  1 of 1 completed"
     ]
    },
    {
     "name": "stderr",
     "output_type": "stream",
     "text": [
      "\n",
      "1 Failed download:\n",
      "['HHU.MC']: Exception('%ticker%: No timezone found, symbol may be delisted')\n"
     ]
    },
    {
     "name": "stdout",
     "output_type": "stream",
     "text": [
      "\n",
      "Empty DataFrame\n",
      "Columns: [Open, High, Low, Close, Adj Close, Volume]\n",
      "Index: []\n",
      "HHU\n",
      "[*********************100%***********************]  1 of 1 completed"
     ]
    },
    {
     "name": "stderr",
     "output_type": "stream",
     "text": [
      "\n",
      "1 Failed download:\n",
      "['MVC.MC']: Exception(\"%ticker%: Data doesn't exist for startDate = 678319200, endDate = 867708000\")\n"
     ]
    },
    {
     "name": "stdout",
     "output_type": "stream",
     "text": [
      "\n",
      "Empty DataFrame\n",
      "Columns: [Open, High, Low, Close, Adj Close, Volume]\n",
      "Index: []\n",
      "MVC\n",
      "[*********************100%***********************]  1 of 1 completed"
     ]
    },
    {
     "name": "stderr",
     "output_type": "stream",
     "text": [
      "\n",
      "1 Failed download:\n",
      "['CAN.MC']: Exception('%ticker%: No price data found, symbol may be delisted (1d 1991-07-01 00:00:00 -> 2001-04-10 00:00:00)')\n"
     ]
    },
    {
     "name": "stdout",
     "output_type": "stream",
     "text": [
      "\n",
      "Empty DataFrame\n",
      "Columns: [Open, High, Low, Close, Adj Close, Volume]\n",
      "Index: []\n",
      "CAN\n",
      "[*********************100%***********************]  1 of 1 completed"
     ]
    },
    {
     "name": "stderr",
     "output_type": "stream",
     "text": [
      "\n",
      "1 Failed download:\n",
      "['PMD.MC']: Exception('%ticker%: No timezone found, symbol may be delisted')\n"
     ]
    },
    {
     "name": "stdout",
     "output_type": "stream",
     "text": [
      "\n",
      "Empty DataFrame\n",
      "Columns: [Open, High, Low, Close, Adj Close, Volume]\n",
      "Index: []\n",
      "PMD\n",
      "[*********************100%***********************]  1 of 1 completed"
     ]
    },
    {
     "name": "stderr",
     "output_type": "stream",
     "text": [
      "\n",
      "1 Failed download:\n",
      "['ALB.MC']: Exception(\"%ticker%: Data doesn't exist for startDate = 686271600, endDate = 694306800\")\n"
     ]
    },
    {
     "name": "stdout",
     "output_type": "stream",
     "text": [
      "\n",
      "Empty DataFrame\n",
      "Columns: [Open, High, Low, Close, Adj Close, Volume]\n",
      "Index: []\n",
      "ALB_1\n",
      "[*********************100%***********************]  1 of 1 completed"
     ]
    },
    {
     "name": "stderr",
     "output_type": "stream",
     "text": [
      "\n",
      "1 Failed download:\n",
      "['CRI.MC']: Exception('%ticker%: No timezone found, symbol may be delisted')\n"
     ]
    },
    {
     "name": "stdout",
     "output_type": "stream",
     "text": [
      "\n",
      "Empty DataFrame\n",
      "Columns: [Open, High, Low, Close, Adj Close, Volume]\n",
      "Index: []\n",
      "CRI_1\n",
      "[*********************100%***********************]  1 of 1 completed"
     ]
    },
    {
     "name": "stderr",
     "output_type": "stream",
     "text": [
      "\n",
      "1 Failed download:\n",
      "['SAR.MC']: Exception('%ticker%: No timezone found, symbol may be delisted')\n"
     ]
    },
    {
     "name": "stdout",
     "output_type": "stream",
     "text": [
      "\n",
      "Empty DataFrame\n",
      "Columns: [Open, High, Low, Close, Adj Close, Volume]\n",
      "Index: []\n",
      "SAR\n",
      "[*********************100%***********************]  1 of 1 completed"
     ]
    },
    {
     "name": "stderr",
     "output_type": "stream",
     "text": [
      "\n",
      "1 Failed download:\n",
      "['EXT.MC']: Exception('%ticker%: No timezone found, symbol may be delisted')\n"
     ]
    },
    {
     "name": "stdout",
     "output_type": "stream",
     "text": [
      "\n",
      "Empty DataFrame\n",
      "Columns: [Open, High, Low, Close, Adj Close, Volume]\n",
      "Index: []\n",
      "EXT\n",
      "[*********************100%***********************]  1 of 1 completed"
     ]
    },
    {
     "name": "stderr",
     "output_type": "stream",
     "text": [
      "\n",
      "1 Failed download:\n",
      "['AGS.MC']: Exception('%ticker%: No timezone found, symbol may be delisted')\n"
     ]
    },
    {
     "name": "stdout",
     "output_type": "stream",
     "text": [
      "\n",
      "Empty DataFrame\n",
      "Columns: [Open, High, Low, Close, Adj Close, Volume]\n",
      "Index: []\n",
      "AGS\n",
      "[*********************100%***********************]  1 of 1 completed"
     ]
    },
    {
     "name": "stderr",
     "output_type": "stream",
     "text": [
      "\n",
      "1 Failed download:\n",
      "['BCH.MC']: Exception('%ticker%: No timezone found, symbol may be delisted')\n"
     ]
    },
    {
     "name": "stdout",
     "output_type": "stream",
     "text": [
      "\n",
      "Empty DataFrame\n",
      "Columns: [Open, High, Low, Close, Adj Close, Volume]\n",
      "Index: []\n",
      "BCH\n",
      "[*********************100%***********************]  1 of 1 completed\n",
      "              Open     High    Low   Close  Adj Close   Volume\n",
      "Date                                                          \n",
      "2000-01-03  10.000  10.0000  9.750   9.915   3.637537  3367104\n",
      "2000-01-04   9.915   9.9750  9.465   9.875   3.636637  2409088\n",
      "2000-01-05   9.900   9.9000  9.450   9.550   3.516951  1868848\n",
      "2000-01-06   9.550   9.5500  9.550   9.550   3.516951        0\n",
      "2000-01-07   9.800  10.3625  9.550  10.275   3.783945  5670192\n",
      "...            ...      ...    ...     ...        ...      ...\n",
      "2013-12-16   8.900   8.9390  8.810   8.870   5.201640  4170795\n",
      "2013-12-17   8.813   8.9940  8.800   8.910   5.225097   525157\n",
      "2013-12-18   8.898   8.9710  8.800   8.835   5.181115  1656612\n",
      "2013-12-19   8.967   8.9800  8.850   8.887   5.211609  1556033\n",
      "2013-12-20   8.904   9.2100  8.851   9.068   5.317753  6028577\n",
      "\n",
      "[3588 rows x 6 columns]\n",
      "ACX_1\n",
      "[*********************100%***********************]  1 of 1 completed\n",
      "                 Open       High        Low      Close  Adj Close   Volume\n",
      "Date                                                                      \n",
      "2000-01-03  14.617966  14.732113  13.554971  13.676253   0.241305   388482\n",
      "2000-01-04  13.697655  14.025828  13.554971  13.740460   0.242437   555472\n",
      "2000-01-05  13.626313  13.768997  13.376616  13.554971   0.239165   441308\n",
      "2000-01-06  13.554971  13.554971  13.554971  13.554971   0.239165        0\n",
      "2000-01-07  13.654850  13.840339  13.505032  13.840339  -0.662828   446713\n",
      "...               ...        ...        ...        ...        ...      ...\n",
      "2016-07-11   7.597000   7.599000   7.590000   7.593000   5.638042  3189223\n",
      "2016-07-12   7.593000   7.600000   7.593000   7.596000   5.640271  3579956\n",
      "2016-07-13   7.595000   7.599000   7.590000   7.590000   5.635815  4853095\n",
      "2016-07-14   7.594000   7.600000   7.590000   7.598000   5.641755  8903713\n",
      "2016-07-15   7.598000   7.605000   7.592000   7.592000   5.637300  6070199\n",
      "\n",
      "[4256 rows x 6 columns]\n",
      "FCC\n",
      "[*********************100%***********************]  1 of 1 completed"
     ]
    },
    {
     "name": "stderr",
     "output_type": "stream",
     "text": [
      "\n",
      "1 Failed download:\n",
      "['PRY.MC']: Exception('%ticker%: No timezone found, symbol may be delisted')\n"
     ]
    },
    {
     "name": "stdout",
     "output_type": "stream",
     "text": [
      "\n",
      "Empty DataFrame\n",
      "Columns: [Open, High, Low, Close, Adj Close, Volume]\n",
      "Index: []\n",
      "PRY\n",
      "[*********************100%***********************]  1 of 1 completed"
     ]
    },
    {
     "name": "stderr",
     "output_type": "stream",
     "text": [
      "\n",
      "1 Failed download:\n",
      "['ARA.MC']: Exception('%ticker%: No price data found, symbol may be delisted (1d 1992-07-01 00:00:00 -> 1993-01-04 00:00:00)')\n"
     ]
    },
    {
     "name": "stdout",
     "output_type": "stream",
     "text": [
      "\n",
      "Empty DataFrame\n",
      "Columns: [Open, High, Low, Close, Adj Close, Volume]\n",
      "Index: []\n",
      "ARA\n",
      "[*********************100%***********************]  1 of 1 completed"
     ]
    },
    {
     "name": "stderr",
     "output_type": "stream",
     "text": [
      "\n",
      "1 Failed download:\n",
      "['ALB.MC']: Exception(\"%ticker%: Data doesn't exist for startDate = 709941600, endDate = 899244000\")\n"
     ]
    },
    {
     "name": "stdout",
     "output_type": "stream",
     "text": [
      "\n",
      "Empty DataFrame\n",
      "Columns: [Open, High, Low, Close, Adj Close, Volume]\n",
      "Index: []\n",
      "ALB_2\n",
      "[*********************100%***********************]  1 of 1 completed"
     ]
    },
    {
     "name": "stderr",
     "output_type": "stream",
     "text": [
      "\n",
      "1 Failed download:\n",
      "['AUM.MC']: Exception('%ticker%: No price data found, symbol may be delisted (1d 1992-07-01 00:00:00 -> 2000-07-03 00:00:00)')\n"
     ]
    },
    {
     "name": "stdout",
     "output_type": "stream",
     "text": [
      "\n",
      "Empty DataFrame\n",
      "Columns: [Open, High, Low, Close, Adj Close, Volume]\n",
      "Index: []\n",
      "AUM\n",
      "[*********************100%***********************]  1 of 1 completed"
     ]
    },
    {
     "name": "stderr",
     "output_type": "stream",
     "text": [
      "\n",
      "1 Failed download:\n",
      "['CEP.MC']: Exception('%ticker%: No price data found, symbol may be delisted (1d 1993-01-04 00:00:00 -> 1993-07-01 00:00:00)')\n"
     ]
    },
    {
     "name": "stdout",
     "output_type": "stream",
     "text": [
      "\n",
      "Empty DataFrame\n",
      "Columns: [Open, High, Low, Close, Adj Close, Volume]\n",
      "Index: []\n",
      "CEP_1\n",
      "[*********************100%***********************]  1 of 1 completed"
     ]
    },
    {
     "name": "stderr",
     "output_type": "stream",
     "text": [
      "\n",
      "1 Failed download:\n",
      "['HHU.MC']: Exception('%ticker%: No timezone found, symbol may be delisted')\n"
     ]
    },
    {
     "name": "stdout",
     "output_type": "stream",
     "text": [
      "\n",
      "Empty DataFrame\n",
      "Columns: [Open, High, Low, Close, Adj Close, Volume]\n",
      "Index: []\n",
      "HHU_1\n",
      "[*********************100%***********************]  1 of 1 completed"
     ]
    },
    {
     "name": "stderr",
     "output_type": "stream",
     "text": [
      "\n",
      "1 Failed download:\n",
      "['AGS.MC']: Exception('%ticker%: No timezone found, symbol may be delisted')\n"
     ]
    },
    {
     "name": "stdout",
     "output_type": "stream",
     "text": [
      "\n",
      "Empty DataFrame\n",
      "Columns: [Open, High, Low, Close, Adj Close, Volume]\n",
      "Index: []\n",
      "AGS_1\n",
      "[*********************100%***********************]  1 of 1 completed"
     ]
    },
    {
     "name": "stderr",
     "output_type": "stream",
     "text": [
      "\n",
      "1 Failed download:\n",
      "['ZOT.MC']: Exception('%ticker%: No timezone found, symbol may be delisted')\n"
     ]
    },
    {
     "name": "stdout",
     "output_type": "stream",
     "text": [
      "\n",
      "Empty DataFrame\n",
      "Columns: [Open, High, Low, Close, Adj Close, Volume]\n",
      "Index: []\n",
      "ZOT\n",
      "[*********************100%***********************]  1 of 1 completed"
     ]
    },
    {
     "name": "stderr",
     "output_type": "stream",
     "text": [
      "\n",
      "1 Failed download:\n",
      "['ARG.MC']: Exception('%ticker%: No timezone found, symbol may be delisted')\n"
     ]
    },
    {
     "name": "stdout",
     "output_type": "stream",
     "text": [
      "\n",
      "Empty DataFrame\n",
      "Columns: [Open, High, Low, Close, Adj Close, Volume]\n",
      "Index: []\n",
      "ARG\n",
      "[*********************100%***********************]  1 of 1 completed"
     ]
    },
    {
     "name": "stderr",
     "output_type": "stream",
     "text": [
      "\n",
      "1 Failed download:\n",
      "['EBA.MC']: Exception('%ticker%: No timezone found, symbol may be delisted')\n"
     ]
    },
    {
     "name": "stdout",
     "output_type": "stream",
     "text": [
      "\n",
      "Empty DataFrame\n",
      "Columns: [Open, High, Low, Close, Adj Close, Volume]\n",
      "Index: []\n",
      "EBA\n",
      "[*********************100%***********************]  1 of 1 completed"
     ]
    },
    {
     "name": "stderr",
     "output_type": "stream",
     "text": [
      "\n",
      "1 Failed download:\n",
      "['GES.MC']: Exception('%ticker%: No timezone found, symbol may be delisted')\n"
     ]
    },
    {
     "name": "stdout",
     "output_type": "stream",
     "text": [
      "\n",
      "Empty DataFrame\n",
      "Columns: [Open, High, Low, Close, Adj Close, Volume]\n",
      "Index: []\n",
      "GES\n",
      "[*********************100%***********************]  1 of 1 completed"
     ]
    },
    {
     "name": "stderr",
     "output_type": "stream",
     "text": [
      "\n",
      "1 Failed download:\n",
      "['CTE.MC']: Exception('%ticker%: No timezone found, symbol may be delisted')\n"
     ]
    },
    {
     "name": "stdout",
     "output_type": "stream",
     "text": [
      "\n",
      "Empty DataFrame\n",
      "Columns: [Open, High, Low, Close, Adj Close, Volume]\n",
      "Index: []\n",
      "CTE\n",
      "[*********************100%***********************]  1 of 1 completed"
     ]
    },
    {
     "name": "stderr",
     "output_type": "stream",
     "text": [
      "\n",
      "1 Failed download:\n",
      "['ENC.MC']: Exception(\"%ticker%: Data doesn't exist for startDate = 789001200, endDate = 852159600\")\n"
     ]
    },
    {
     "name": "stdout",
     "output_type": "stream",
     "text": [
      "\n",
      "Empty DataFrame\n",
      "Columns: [Open, High, Low, Close, Adj Close, Volume]\n",
      "Index: []\n",
      "ENC\n",
      "[*********************100%***********************]  1 of 1 completed"
     ]
    },
    {
     "name": "stderr",
     "output_type": "stream",
     "text": [
      "\n",
      "1 Failed download:\n",
      "['CTF.MC']: Exception('%ticker%: No price data found, symbol may be delisted (1d 1995-01-02 00:00:00 -> 1995-07-02 00:00:00)')\n"
     ]
    },
    {
     "name": "stdout",
     "output_type": "stream",
     "text": [
      "\n",
      "Empty DataFrame\n",
      "Columns: [Open, High, Low, Close, Adj Close, Volume]\n",
      "Index: []\n",
      "CTF\n",
      "[*********************100%***********************]  1 of 1 completed"
     ]
    },
    {
     "name": "stderr",
     "output_type": "stream",
     "text": [
      "\n",
      "1 Failed download:\n",
      "['AGS.MC']: Exception('%ticker%: No timezone found, symbol may be delisted')\n"
     ]
    },
    {
     "name": "stdout",
     "output_type": "stream",
     "text": [
      "\n",
      "Empty DataFrame\n",
      "Columns: [Open, High, Low, Close, Adj Close, Volume]\n",
      "Index: []\n",
      "AGS_2\n",
      "[*********************100%***********************]  1 of 1 completed"
     ]
    },
    {
     "name": "stderr",
     "output_type": "stream",
     "text": [
      "\n",
      "1 Failed download:\n",
      "['AMP.MC']: Exception(\"%ticker%: Data doesn't exist for startDate = 804636000, endDate = 930780000\")\n"
     ]
    },
    {
     "name": "stdout",
     "output_type": "stream",
     "text": [
      "\n",
      "Empty DataFrame\n",
      "Columns: [Open, High, Low, Close, Adj Close, Volume]\n",
      "Index: []\n",
      "AMP\n",
      "[*********************100%***********************]  1 of 1 completed"
     ]
    },
    {
     "name": "stderr",
     "output_type": "stream",
     "text": [
      "\n",
      "1 Failed download:\n",
      "['AZC.MC']: Exception('%ticker%: No timezone found, symbol may be delisted')\n"
     ]
    },
    {
     "name": "stdout",
     "output_type": "stream",
     "text": [
      "\n",
      "Empty DataFrame\n",
      "Columns: [Open, High, Low, Close, Adj Close, Volume]\n",
      "Index: []\n",
      "AZC\n",
      "[*********************100%***********************]  1 of 1 completed"
     ]
    },
    {
     "name": "stderr",
     "output_type": "stream",
     "text": [
      "\n",
      "1 Failed download:\n",
      "['GES.MC']: Exception('%ticker%: No timezone found, symbol may be delisted')\n"
     ]
    },
    {
     "name": "stdout",
     "output_type": "stream",
     "text": [
      "\n",
      "Empty DataFrame\n",
      "Columns: [Open, High, Low, Close, Adj Close, Volume]\n",
      "Index: []\n",
      "GES_1\n",
      "[*********************100%***********************]  1 of 1 completed"
     ]
    },
    {
     "name": "stderr",
     "output_type": "stream",
     "text": [
      "\n",
      "1 Failed download:\n",
      "['SOL.MC']: Exception(\"%ticker%: Data doesn't exist for startDate = 852159600, endDate = 1041462000\")\n"
     ]
    },
    {
     "name": "stdout",
     "output_type": "stream",
     "text": [
      "\n",
      "Empty DataFrame\n",
      "Columns: [Open, High, Low, Close, Adj Close, Volume]\n",
      "Index: []\n",
      "SOL\n",
      "[*********************100%***********************]  1 of 1 completed"
     ]
    },
    {
     "name": "stderr",
     "output_type": "stream",
     "text": [
      "\n",
      "1 Failed download:\n",
      "['UNI.MC']: Exception(\"%ticker%: Data doesn't exist for startDate = 852159600, endDate = 875656800\")\n"
     ]
    },
    {
     "name": "stdout",
     "output_type": "stream",
     "text": [
      "\n",
      "Empty DataFrame\n",
      "Columns: [Open, High, Low, Close, Adj Close, Volume]\n",
      "Index: []\n",
      "UNI\n",
      "[*********************100%***********************]  1 of 1 completed"
     ]
    },
    {
     "name": "stderr",
     "output_type": "stream",
     "text": [
      "\n",
      "1 Failed download:\n",
      "['ANA.MC']: Exception(\"%ticker%: Data doesn't exist for startDate = 865202400, endDate = 867708000\")\n"
     ]
    },
    {
     "name": "stdout",
     "output_type": "stream",
     "text": [
      "\n",
      "Empty DataFrame\n",
      "Columns: [Open, High, Low, Close, Adj Close, Volume]\n",
      "Index: []\n",
      "ANA\n",
      "[*********************100%***********************]  1 of 1 completed"
     ]
    },
    {
     "name": "stderr",
     "output_type": "stream",
     "text": [
      "\n",
      "1 Failed download:\n",
      "['AZC.MC']: Exception('%ticker%: No timezone found, symbol may be delisted')\n"
     ]
    },
    {
     "name": "stdout",
     "output_type": "stream",
     "text": [
      "\n",
      "Empty DataFrame\n",
      "Columns: [Open, High, Low, Close, Adj Close, Volume]\n",
      "Index: []\n",
      "AZC_1\n",
      "[*********************100%***********************]  1 of 1 completed"
     ]
    },
    {
     "name": "stderr",
     "output_type": "stream",
     "text": [
      "\n",
      "1 Failed download:\n",
      "['TUB.MC']: Exception(\"%ticker%: Data doesn't exist for startDate = 867708000, endDate = 915404400\")\n"
     ]
    },
    {
     "name": "stdout",
     "output_type": "stream",
     "text": [
      "\n",
      "Empty DataFrame\n",
      "Columns: [Open, High, Low, Close, Adj Close, Volume]\n",
      "Index: []\n",
      "TUB\n",
      "[*********************100%***********************]  1 of 1 completed"
     ]
    },
    {
     "name": "stderr",
     "output_type": "stream",
     "text": [
      "\n",
      "1 Failed download:\n",
      "['VIS.MC']: Exception(\"%ticker%: Data doesn't exist for startDate = 867708000, endDate = 946854000\")\n"
     ]
    },
    {
     "name": "stdout",
     "output_type": "stream",
     "text": [
      "\n",
      "Empty DataFrame\n",
      "Columns: [Open, High, Low, Close, Adj Close, Volume]\n",
      "Index: []\n",
      "VIS_1\n",
      "[*********************100%***********************]  1 of 1 completed"
     ]
    },
    {
     "name": "stderr",
     "output_type": "stream",
     "text": [
      "\n",
      "1 Failed download:\n",
      "['PUL.MC']: Exception('%ticker%: No timezone found, symbol may be delisted')\n"
     ]
    },
    {
     "name": "stdout",
     "output_type": "stream",
     "text": [
      "\n",
      "Empty DataFrame\n",
      "Columns: [Open, High, Low, Close, Adj Close, Volume]\n",
      "Index: []\n",
      "PUL\n",
      "[*********************100%***********************]  1 of 1 completed\n",
      "                 Open       High        Low      Close  Adj Close  Volume\n",
      "Date                                                                     \n",
      "2002-01-02   9.196650   9.616650   9.066650   9.196650   2.777953  220908\n",
      "2002-01-03   9.673320   9.673320   9.269990   9.673320   2.921937  187420\n",
      "2002-01-04   9.433320   9.766650   9.286650   9.433320   2.849442  245490\n",
      "2002-01-07   9.039990   9.796650   9.039990   9.039990   2.730632  192721\n",
      "2002-01-08   9.083320   9.249990   9.066650   9.083320   2.743721  305129\n",
      "...               ...        ...        ...        ...        ...     ...\n",
      "2023-08-02  31.440001  31.549999  30.889999  31.430000  31.430000  390716\n",
      "2023-08-03  31.400000  31.430000  31.020000  31.150000  31.150000  311941\n",
      "2023-08-04  31.240000  31.430000  31.180000  31.360001  31.360001  170108\n",
      "2023-08-07  31.200001  31.450001  31.090000  31.440001  31.440001  232469\n",
      "2023-08-08  31.260000  31.590000  31.209999  31.389999  31.389999  237887\n",
      "\n",
      "[5542 rows x 6 columns]\n",
      "ACS\n",
      "[*********************100%***********************]  1 of 1 completed"
     ]
    },
    {
     "name": "stderr",
     "output_type": "stream",
     "text": [
      "\n",
      "1 Failed download:\n",
      "['ACR.MC']: Exception('%ticker%: No price data found, symbol may be delisted (1d 1998-07-01 00:00:00 -> 2002-02-09 00:00:00)')\n"
     ]
    },
    {
     "name": "stdout",
     "output_type": "stream",
     "text": [
      "\n",
      "Empty DataFrame\n",
      "Columns: [Open, High, Low, Close, Adj Close, Volume]\n",
      "Index: []\n",
      "ACR\n",
      "[*********************100%***********************]  1 of 1 completed"
     ]
    },
    {
     "name": "stderr",
     "output_type": "stream",
     "text": [
      "\n",
      "1 Failed download:\n",
      "['TPZ.MC']: Exception('%ticker%: No timezone found, symbol may be delisted')\n"
     ]
    },
    {
     "name": "stdout",
     "output_type": "stream",
     "text": [
      "\n",
      "Empty DataFrame\n",
      "Columns: [Open, High, Low, Close, Adj Close, Volume]\n",
      "Index: []\n",
      "TPZ\n",
      "[*********************100%***********************]  1 of 1 completed\n",
      "                 Open       High        Low      Close  Adj Close  Volume\n",
      "Date                                                                     \n",
      "2000-01-03  37.500000  37.500000  32.500000  35.480000  21.713980  122500\n",
      "2000-01-04  34.900002  35.400002  32.980000  33.000000  20.196205  150600\n",
      "2000-01-05  31.500000  32.869999  31.400000  32.000000  19.584206  116800\n",
      "2000-01-06  32.000000  32.000000  32.000000  32.000000  19.584206       0\n",
      "2000-01-07  32.110001  33.000000  31.600000  31.950001  19.553595  114000\n",
      "...               ...        ...        ...        ...        ...     ...\n",
      "2002-12-26  18.700001  18.700001  18.700001  18.700001  11.615626       0\n",
      "2002-12-27  18.400000  18.750000  18.190001  18.400000  11.429276   58561\n",
      "2002-12-30  17.600000  18.389999  17.580000  17.600000  10.932353  765464\n",
      "2002-12-31  17.600000  17.600000  17.600000  17.600000  10.932353       0\n",
      "2003-01-01  17.600000  17.600000  17.600000  17.600000  10.932353       0\n",
      "\n",
      "[783 rows x 6 columns]\n",
      "ALB_3\n",
      "[*********************100%***********************]  1 of 1 completed\n",
      "                 Open       High        Low      Close  Adj Close   Volume\n",
      "Date                                                                      \n",
      "2000-01-03  55.599998  57.049999  54.500000  57.000000   0.062566   184093\n",
      "2000-01-04  56.500000  56.500000  52.099998  53.000000   0.058175   192154\n",
      "2000-01-05  52.099998  52.099998  50.349998  50.750000   0.055705    86948\n",
      "2000-01-07  50.900002  53.000000  50.049999  52.400002   0.057517   111870\n",
      "2000-01-10  52.150002  53.400002  51.250000  52.500000   0.057626   149926\n",
      "...               ...        ...        ...        ...        ...      ...\n",
      "2015-06-15  66.019997  66.779999  65.150002  65.690002  49.152901   260342\n",
      "2015-06-16  65.410004  65.550003  64.250000  65.349998  48.898487   604969\n",
      "2015-06-17  65.400002  66.269997  64.970001  65.730003  49.182835   189784\n",
      "2015-06-18  65.910004  66.669998  64.750000  66.669998  49.886185   243016\n",
      "2015-06-19  66.320000  67.419998  65.349998  66.120003  49.474648  1314190\n",
      "\n",
      "[3909 rows x 6 columns]\n",
      "ANA_1\n",
      "[*********************100%***********************]  1 of 1 completed\n",
      "                Open      High       Low     Close  Adj Close   Volume\n",
      "Date                                                                  \n",
      "2000-01-03  9.603456  9.837076  9.144559  9.186277   7.744717   290079\n",
      "2000-01-04  9.094498  9.244682  8.769098  9.177934   7.737681   653369\n",
      "2000-01-05  8.910939  9.177934  8.902596  8.952657   7.547757   512926\n",
      "2000-01-07  9.094498  9.386523  8.927626  9.336462   7.871332   369022\n",
      "2000-01-10  9.595112  9.595112  9.303087  9.428241   7.948709   400854\n",
      "...              ...       ...       ...       ...        ...      ...\n",
      "2005-06-24  9.136216  9.169590  9.077811  9.077811   8.014836   847119\n",
      "2005-06-27  9.052780  9.127872  8.927626  9.036093   7.978004  1804083\n",
      "2005-06-28  9.094498  9.211308  9.036093  9.136216   8.066402  1879219\n",
      "2005-06-29  9.219651  9.311431  9.177934  9.278057   8.191634  5727012\n",
      "2005-06-30  9.319774  9.528364  9.219651  9.469959   8.361066  5589907\n",
      "\n",
      "[1371 rows x 6 columns]\n",
      "NHH\n",
      "[*********************100%***********************]  1 of 1 completed"
     ]
    },
    {
     "name": "stderr",
     "output_type": "stream",
     "text": [
      "\n",
      "1 Failed download:\n",
      "['SCH.MC']: Exception('%ticker%: No timezone found, symbol may be delisted')\n"
     ]
    },
    {
     "name": "stdout",
     "output_type": "stream",
     "text": [
      "\n",
      "Empty DataFrame\n",
      "Columns: [Open, High, Low, Close, Adj Close, Volume]\n",
      "Index: []\n",
      "SCH\n",
      "[*********************100%***********************]  1 of 1 completed"
     ]
    },
    {
     "name": "stderr",
     "output_type": "stream",
     "text": [
      "\n",
      "1 Failed download:\n",
      "['RAD.MC']: Exception('%ticker%: No timezone found, symbol may be delisted')\n"
     ]
    },
    {
     "name": "stdout",
     "output_type": "stream",
     "text": [
      "\n",
      "Empty DataFrame\n",
      "Columns: [Open, High, Low, Close, Adj Close, Volume]\n",
      "Index: []\n",
      "RAD\n",
      "[*********************100%***********************]  1 of 1 completed\n",
      "                 Open       High    Low      Close  Adj Close   Volume\n",
      "Date                                                                  \n",
      "2000-01-03  16.000000  16.000000  14.65  14.880000   7.604396   301149\n",
      "2000-01-04  14.710000  14.950000  14.50  14.600000   7.461306   275195\n",
      "2000-01-05  14.500000  14.600000  14.28  14.300000   7.307991   116365\n",
      "2000-01-06  14.300000  14.300000  14.30  14.300000   7.307991        0\n",
      "2000-01-07  14.700000  14.700000  14.30  14.590000   7.456193   295354\n",
      "...               ...        ...    ...        ...        ...      ...\n",
      "2023-08-02  29.870001  29.879999  29.57  29.850000  29.850000  1295326\n",
      "2023-08-03  29.730000  29.760000  29.40  29.480000  29.480000   819158\n",
      "2023-08-04  29.600000  29.760000  29.41  29.760000  29.760000  1847784\n",
      "2023-08-07  29.559999  29.709999  29.35  29.709999  29.709999   401066\n",
      "2023-08-08  29.540001  29.820000  29.49  29.709999  29.709999   525845\n",
      "\n",
      "[6063 rows x 6 columns]\n",
      "FER\n",
      "[*********************100%***********************]  1 of 1 completed\n",
      "             Open   High    Low  Close  Adj Close  Volume\n",
      "Date                                                     \n",
      "2000-10-03  12.20  12.76  12.19  12.34  -0.579203  498316\n",
      "2000-10-04  12.40  12.65  12.34  12.53  -0.588121  395452\n",
      "2000-10-05  12.66  12.68  12.31  12.31  -0.577795  181875\n",
      "2000-10-06  12.47  12.49  12.25  12.29  -0.576856  215041\n",
      "2000-10-09  12.38  12.45  12.00  12.03  -0.564653  372529\n",
      "...           ...    ...    ...    ...        ...     ...\n",
      "2023-08-02  13.20  13.41  13.16  13.40  13.400000  425784\n",
      "2023-08-03  13.35  13.57  13.34  13.50  13.500000  590802\n",
      "2023-08-04  13.39  13.48  12.90  13.34  13.340000  778206\n",
      "2023-08-07  13.32  13.48  13.27  13.39  13.390000  385980\n",
      "2023-08-08  13.38  13.41  13.23  13.29  13.290000  335053\n",
      "\n",
      "[5825 rows x 6 columns]\n",
      "IDR\n",
      "[*********************100%***********************]  1 of 1 completed"
     ]
    },
    {
     "name": "stderr",
     "output_type": "stream",
     "text": [
      "\n",
      "1 Failed download:\n",
      "['AMS.MC']: Exception(\"%ticker%: Data doesn't exist for startDate = 946854000, endDate = 1119909600\")\n"
     ]
    },
    {
     "name": "stdout",
     "output_type": "stream",
     "text": [
      "\n",
      "Empty DataFrame\n",
      "Columns: [Open, High, Low, Close, Adj Close, Volume]\n",
      "Index: []\n",
      "AMS\n",
      "[*********************100%***********************]  1 of 1 completed"
     ]
    },
    {
     "name": "stderr",
     "output_type": "stream",
     "text": [
      "\n",
      "1 Failed download:\n",
      "['SGC.MC']: Exception('%ticker%: No price data found, symbol may be delisted (1d 2000-01-03 00:00:00 -> 2008-05-12 00:00:00)')\n"
     ]
    },
    {
     "name": "stdout",
     "output_type": "stream",
     "text": [
      "\n",
      "Empty DataFrame\n",
      "Columns: [Open, High, Low, Close, Adj Close, Volume]\n",
      "Index: []\n",
      "SGC\n",
      "[*********************100%***********************]  1 of 1 completed"
     ]
    },
    {
     "name": "stderr",
     "output_type": "stream",
     "text": [
      "\n",
      "1 Failed download:\n",
      "['TPI.MC']: Exception('%ticker%: No price data found, symbol may be delisted (1d 2000-01-03 00:00:00 -> 2006-07-25 00:00:00)')\n"
     ]
    },
    {
     "name": "stdout",
     "output_type": "stream",
     "text": [
      "\n",
      "Empty DataFrame\n",
      "Columns: [Open, High, Low, Close, Adj Close, Volume]\n",
      "Index: []\n",
      "TPI\n",
      "[*********************100%***********************]  1 of 1 completed"
     ]
    },
    {
     "name": "stderr",
     "output_type": "stream",
     "text": [
      "\n",
      "1 Failed download:\n",
      "['ALT.MC']: Exception('%ticker%: No price data found, symbol may be delisted (1d 2000-01-03 00:00:00 -> 2008-02-04 00:00:00)')\n"
     ]
    },
    {
     "name": "stdout",
     "output_type": "stream",
     "text": [
      "\n",
      "Empty DataFrame\n",
      "Columns: [Open, High, Low, Close, Adj Close, Volume]\n",
      "Index: []\n",
      "ALT\n",
      "[*********************100%***********************]  1 of 1 completed\n",
      "                 Open       High        Low      Close  Adj Close    Volume\n",
      "Date                                                                       \n",
      "2000-01-31  12.931614  12.979651  12.585746  12.729858   4.479854   9868382\n",
      "2000-02-01  12.902791  13.008473  12.691428  12.902791   4.540712   9530743\n",
      "2000-02-02  12.931614  12.931614  12.672213  12.864362   4.527187   7648463\n",
      "2000-02-03  12.893184  13.114155  12.691428  12.970044   4.564378   7766488\n",
      "2000-02-04  13.114155  13.114155  12.729858  12.777895   4.496758  10516943\n",
      "...               ...        ...        ...        ...        ...       ...\n",
      "2023-08-02   6.900000   6.964000   6.822000   6.878000   6.878000  15647645\n",
      "2023-08-03   6.830000   6.884000   6.762000   6.872000   6.872000  12325789\n",
      "2023-08-04   6.928000   6.990000   6.864000   6.924000   6.924000  12484336\n",
      "2023-08-07   6.948000   6.990000   6.856000   6.968000   6.968000   6152792\n",
      "2023-08-08   6.870000   6.896000   6.690000   6.834000   6.834000  13063336\n",
      "\n",
      "[5982 rows x 6 columns]\n",
      "BBVA\n",
      "[*********************100%***********************]  1 of 1 completed"
     ]
    },
    {
     "name": "stderr",
     "output_type": "stream",
     "text": [
      "\n",
      "1 Failed download:\n",
      "['TRR.MC']: Exception('%ticker%: No price data found, symbol may be delisted (1d 2000-01-31 00:00:00 -> 2003-07-24 00:00:00)')\n"
     ]
    },
    {
     "name": "stdout",
     "output_type": "stream",
     "text": [
      "\n",
      "Empty DataFrame\n",
      "Columns: [Open, High, Low, Close, Adj Close, Volume]\n",
      "Index: []\n",
      "TRR\n",
      "[*********************100%***********************]  1 of 1 completed"
     ]
    },
    {
     "name": "stderr",
     "output_type": "stream",
     "text": [
      "\n",
      "1 Failed download:\n",
      "['REE.MC']: Exception('%ticker%: No timezone found, symbol may be delisted')\n"
     ]
    },
    {
     "name": "stdout",
     "output_type": "stream",
     "text": [
      "\n",
      "Empty DataFrame\n",
      "Columns: [Open, High, Low, Close, Adj Close, Volume]\n",
      "Index: []\n",
      "REE\n",
      "[*********************100%***********************]  1 of 1 completed"
     ]
    },
    {
     "name": "stderr",
     "output_type": "stream",
     "text": [
      "\n",
      "1 Failed download:\n",
      "['ZEL.MC']: Exception('%ticker%: No price data found, symbol may be delisted (1d 2000-07-03 00:00:00 -> 2005-01-03 00:00:00)')\n"
     ]
    },
    {
     "name": "stdout",
     "output_type": "stream",
     "text": [
      "\n",
      "Empty DataFrame\n",
      "Columns: [Open, High, Low, Close, Adj Close, Volume]\n",
      "Index: []\n",
      "ZEL\n",
      "[*********************100%***********************]  1 of 1 completed"
     ]
    },
    {
     "name": "stderr",
     "output_type": "stream",
     "text": [
      "\n",
      "1 Failed download:\n",
      "['CRF.MC']: Exception('%ticker%: No price data found, symbol may be delisted (1d 2000-10-02 00:00:00 -> 2002-12-30 00:00:00)')\n"
     ]
    },
    {
     "name": "stdout",
     "output_type": "stream",
     "text": [
      "\n",
      "Empty DataFrame\n",
      "Columns: [Open, High, Low, Close, Adj Close, Volume]\n",
      "Index: []\n",
      "CRF\n",
      "[*********************100%***********************]  1 of 1 completed\n",
      "                  Open        High         Low       Close   Adj Close  Volume\n",
      "Date                                                                          \n",
      "2000-10-02  404.794250  410.466736  391.716064  395.497711  356.508789  163271\n",
      "2000-10-03  398.649078  410.309174  396.285553  409.678894  369.291901   49228\n",
      "2000-10-04  411.254578  415.351379  402.745880  408.733490  368.439728   25105\n",
      "2000-10-05  406.842651  410.466736  399.594482  400.224762  360.769806   12641\n",
      "2000-10-06  401.800446  402.588287  382.577057  384.467896  346.566315   38056\n",
      "...                ...         ...         ...         ...         ...     ...\n",
      "2003-06-24  121.485550  126.055046  121.485550  121.485550  112.792587   25229\n",
      "2003-06-25  126.055046  126.212616  123.849083  126.055046  117.035126   19468\n",
      "2003-06-26  124.794495  127.000458  123.218803  124.794495  115.864777   22183\n",
      "2003-06-27  127.315598  128.261002  124.794495  127.315598  118.205475   29077\n",
      "2003-06-30  124.636925  130.466965  124.636925  124.636925  115.718475  128217\n",
      "\n",
      "[713 rows x 6 columns]\n",
      "PRS\n",
      "[*********************100%***********************]  1 of 1 completed"
     ]
    },
    {
     "name": "stderr",
     "output_type": "stream",
     "text": [
      "\n",
      "1 Failed download:\n",
      "['TEM.MC']: Exception('%ticker%: No price data found, symbol may be delisted (1d 2001-01-02 00:00:00 -> 2006-07-25 00:00:00)')\n"
     ]
    },
    {
     "name": "stdout",
     "output_type": "stream",
     "text": [
      "\n",
      "Empty DataFrame\n",
      "Columns: [Open, High, Low, Close, Adj Close, Volume]\n",
      "Index: []\n",
      "TEM\n",
      "[*********************100%***********************]  1 of 1 completed"
     ]
    },
    {
     "name": "stderr",
     "output_type": "stream",
     "text": [
      "\n",
      "1 Failed download:\n",
      "['GPP.MC']: Exception('%ticker%: No price data found, symbol may be delisted (1d 2001-01-02 00:00:00 -> 2001-07-02 00:00:00)')\n"
     ]
    },
    {
     "name": "stdout",
     "output_type": "stream",
     "text": [
      "\n",
      "Empty DataFrame\n",
      "Columns: [Open, High, Low, Close, Adj Close, Volume]\n",
      "Index: []\n",
      "GPP\n",
      "[*********************100%***********************]  1 of 1 completed\n",
      "                 Open       High        Low      Close  Adj Close  Volume\n",
      "Date                                                                     \n",
      "2006-06-13  55.796631  55.796631  50.634205  53.745804  53.745804  251501\n",
      "2006-06-14  55.018730  59.049664  53.109341  56.362373  56.362373  109309\n",
      "2006-06-15  59.403255  60.676182  57.281712  57.635300  57.635300   44029\n",
      "2006-06-16  60.039719  61.312645  58.696075  59.403255  59.403255   64315\n",
      "2006-06-19  60.464027  68.596619  60.110435  63.999935  63.999935   60529\n",
      "...               ...        ...        ...        ...        ...     ...\n",
      "2012-12-21   3.176718   3.254199   3.021756   3.254199   3.254199   15071\n",
      "2012-12-24   3.254199   3.331680   3.176718   3.331680   3.331680    3867\n",
      "2012-12-27   3.331680   3.331680   3.099237   3.176718   3.176718   18251\n",
      "2012-12-28   3.254199   3.254199   2.944275   3.099237   3.099237   42625\n",
      "2012-12-31   3.021756   3.099237   2.866794   3.099237   3.099237   39893\n",
      "\n",
      "[1674 rows x 6 columns]\n",
      "GAM\n",
      "[*********************100%***********************]  1 of 1 completed"
     ]
    },
    {
     "name": "stderr",
     "output_type": "stream",
     "text": [
      "\n",
      "1 Failed download:\n",
      "['GAS.MC']: Exception('%ticker%: No price data found, symbol may be delisted (1d 2001-05-01 00:00:00 -> 2018-07-02 00:00:00)')\n"
     ]
    },
    {
     "name": "stdout",
     "output_type": "stream",
     "text": [
      "\n",
      "Empty DataFrame\n",
      "Columns: [Open, High, Low, Close, Adj Close, Volume]\n",
      "Index: []\n",
      "GAS\n",
      "[*********************100%***********************]  1 of 1 completed\n",
      "                 Open       High        Low      Close  Adj Close    Volume\n",
      "Date                                                                       \n",
      "2001-07-02   3.758000   3.840000   3.728000   3.820000  -0.136871   8634625\n",
      "2001-07-03   3.772000   3.822000   3.772000   3.820000  -0.136871  20450495\n",
      "2001-07-04   3.820000   3.830000   3.766000   3.796000  -0.136011   4993255\n",
      "2001-07-05   3.796000   3.810000   3.730000   3.730000  -0.133647  16127145\n",
      "2001-07-06   3.760000   3.760000   3.700000   3.700000  -0.132572   6726610\n",
      "...               ...        ...        ...        ...        ...       ...\n",
      "2023-08-02  33.810001  33.860001  33.259998  33.480000  33.480000   4709650\n",
      "2023-08-03  33.259998  33.570000  33.119999  33.400002  33.400002   2777828\n",
      "2023-08-04  33.400002  33.730000  33.209999  33.639999  33.639999   1454998\n",
      "2023-08-07  33.509998  33.590000  33.040001  33.180000  33.180000   3213591\n",
      "2023-08-08  33.080002  33.410000  32.950001  33.200001  33.200001   2538535\n",
      "\n",
      "[5625 rows x 6 columns]\n",
      "ITX\n",
      "[*********************100%***********************]  1 of 1 completed\n",
      "                Open      High       Low     Close  Adj Close    Volume\n",
      "Date                                                                   \n",
      "2001-11-01  7.391378  7.616409  7.270208  7.564478   2.208218  16781308\n",
      "2001-11-02  7.642374  7.711614  7.374068  7.521203   2.195586  28282774\n",
      "2001-11-05  7.573133  8.005884  7.555823  7.936644   2.316861  35813649\n",
      "2001-11-06  8.066469  8.144364  7.971264  8.109744   2.367392  28397181\n",
      "2001-11-07  7.962609  8.161674  7.919334  8.127054   2.372444  21260067\n",
      "...              ...       ...       ...       ...        ...       ...\n",
      "2023-08-02  3.542000  3.584000  3.505000  3.527500   3.527500  50280184\n",
      "2023-08-03  3.509500  3.592500  3.505000  3.585500   3.585500  35372540\n",
      "2023-08-04  3.604000  3.620000  3.570000  3.608500   3.608500  23142480\n",
      "2023-08-07  3.585500  3.634500  3.560000  3.621000   3.621000  12039266\n",
      "2023-08-08  3.575500  3.578500  3.461000  3.523000   3.523000  34504136\n",
      "\n",
      "[5586 rows x 6 columns]\n",
      "SAN_1\n",
      "[*********************100%***********************]  1 of 1 completed"
     ]
    },
    {
     "name": "stderr",
     "output_type": "stream",
     "text": [
      "\n",
      "1 Failed download:\n",
      "['LOR.MC']: Exception('%ticker%: No timezone found, symbol may be delisted')\n"
     ]
    },
    {
     "name": "stdout",
     "output_type": "stream",
     "text": [
      "\n",
      "Empty DataFrame\n",
      "Columns: [Open, High, Low, Close, Adj Close, Volume]\n",
      "Index: []\n",
      "LOR\n",
      "[*********************100%***********************]  1 of 1 completed"
     ]
    },
    {
     "name": "stderr",
     "output_type": "stream",
     "text": [
      "\n",
      "1 Failed download:\n",
      "['IBLA.MC']: Exception('%ticker%: No price data found, symbol may be delisted (1d 2002-07-01 00:00:00 -> 2011-01-21 00:00:00)')\n"
     ]
    },
    {
     "name": "stdout",
     "output_type": "stream",
     "text": [
      "\n",
      "Empty DataFrame\n",
      "Columns: [Open, High, Low, Close, Adj Close, Volume]\n",
      "Index: []\n",
      "IBLA\n",
      "[*********************100%***********************]  1 of 1 completed"
     ]
    },
    {
     "name": "stderr",
     "output_type": "stream",
     "text": [
      "\n",
      "1 Failed download:\n",
      "['MVC.MC']: Exception(\"%ticker%: Data doesn't exist for startDate = 1041462000, endDate = 1183327200\")\n"
     ]
    },
    {
     "name": "stdout",
     "output_type": "stream",
     "text": [
      "\n",
      "Empty DataFrame\n",
      "Columns: [Open, High, Low, Close, Adj Close, Volume]\n",
      "Index: []\n",
      "MVC_1\n",
      "[*********************100%***********************]  1 of 1 completed"
     ]
    },
    {
     "name": "stderr",
     "output_type": "stream",
     "text": [
      "\n",
      "1 Failed download:\n",
      "['VAL.MC']: Exception('%ticker%: No price data found, symbol may be delisted (1d 2003-01-02 00:00:00 -> 2003-06-02 00:00:00)')\n"
     ]
    },
    {
     "name": "stdout",
     "output_type": "stream",
     "text": [
      "\n",
      "Empty DataFrame\n",
      "Columns: [Open, High, Low, Close, Adj Close, Volume]\n",
      "Index: []\n",
      "VAL_1\n",
      "[*********************100%***********************]  1 of 1 completed\n",
      "              Open       High     Low   Close  Adj Close   Volume\n",
      "Date                                                             \n",
      "2003-01-10   6.080   6.170000   6.000   6.080   2.013200  5499817\n",
      "2003-01-13   6.180   6.180000   6.090   6.180   2.046312  1344631\n",
      "2003-01-14   6.370   6.370000   6.090   6.370   2.109225  3635967\n",
      "2003-01-15   6.220   6.370000   6.180   6.220   2.059557  2775756\n",
      "2003-01-16   6.280   6.300000   6.210   6.280   2.079424  1604508\n",
      "...            ...        ...     ...     ...        ...      ...\n",
      "2023-08-02  16.000  16.049999  15.890  15.890  15.890000   988006\n",
      "2023-08-03  15.890  15.920000  15.735  15.785  15.785000   723930\n",
      "2023-08-04  15.750  15.935000  15.710  15.895  15.895000   531921\n",
      "2023-08-07  15.900  15.930000  15.690  15.900  15.900000   588148\n",
      "2023-08-08  15.885  16.025000  15.850  15.910  15.910000   532737\n",
      "\n",
      "[5249 rows x 6 columns]\n",
      "ENG\n",
      "[*********************100%***********************]  1 of 1 completed\n",
      "                 Open       High        Low      Close  Adj Close    Volume\n",
      "Date                                                                       \n",
      "2003-06-02  11.847619  11.895238  11.723809  11.885714   6.123563   2190961\n",
      "2003-06-03  11.885714  11.895238  11.504761  11.571428   5.961643   1205960\n",
      "2003-06-04  11.704761  11.866666  11.504761  11.666666   6.010710   1803918\n",
      "2003-06-05  11.714285  12.066666  11.619047  12.066666   6.216790   3012088\n",
      "2003-06-06  12.009523  12.028571  11.819047  12.028571   6.197165   1828000\n",
      "...               ...        ...        ...        ...        ...       ...\n",
      "2018-05-02  18.285000  18.299999  18.254999  18.285000  18.285000   9770338\n",
      "2018-05-03  18.290001  18.299999  18.285000  18.290001  18.290001   8984213\n",
      "2018-05-04  18.295000  18.299999  18.270000  18.299999  18.299999   6454461\n",
      "2018-05-07  18.290001  18.299999  18.275000  18.280001  18.280001   4010081\n",
      "2018-05-08  18.260000  18.290001  18.230000  18.240000  18.240000  18332559\n",
      "\n",
      "[3730 rows x 6 columns]\n",
      "ABE\n",
      "[*********************100%***********************]  1 of 1 completed"
     ]
    },
    {
     "name": "stderr",
     "output_type": "stream",
     "text": [
      "\n",
      "1 Failed download:\n",
      "['SYV.MC']: Exception(\"%ticker%: Data doesn't exist for startDate = 1054526400, endDate = 1088654400\")\n"
     ]
    },
    {
     "name": "stdout",
     "output_type": "stream",
     "text": [
      "\n",
      "Empty DataFrame\n",
      "Columns: [Open, High, Low, Close, Adj Close, Volume]\n",
      "Index: []\n",
      "SYV\n",
      "[*********************100%***********************]  1 of 1 completed\n",
      "                Open      High       Low     Close  Adj Close    Volume\n",
      "Date                                                                   \n",
      "2003-07-01  1.826259  1.826259  1.826259  1.826259   0.581687   4601412\n",
      "2003-07-02  1.865960  1.865960  1.865960  1.865960   0.594333   2156051\n",
      "2003-07-03  1.885810  1.885810  1.885810  1.885810   0.600655   2908334\n",
      "2003-07-04  1.885810  1.885810  1.885810  1.885810   0.600655   2294958\n",
      "2003-07-07  1.961243  1.961243  1.961243  1.961243   0.624681   2011259\n",
      "...              ...       ...       ...       ...        ...       ...\n",
      "2005-12-26  2.864447  2.864447  2.864447  2.864447   0.964047         0\n",
      "2005-12-27  2.880328  2.880328  2.880328  2.880328   0.969392   2316786\n",
      "2005-12-28  2.848567  2.848567  2.848567  2.848567   0.958702   2711076\n",
      "2005-12-29  2.836656  2.836656  2.836656  2.836656   0.954694   7632201\n",
      "2005-12-30  2.783060  2.783060  2.783060  2.783060   0.936655  23872220\n",
      "\n",
      "[654 rows x 6 columns]\n",
      "MAP_1\n",
      "[*********************100%***********************]  1 of 1 completed"
     ]
    },
    {
     "name": "stderr",
     "output_type": "stream",
     "text": [
      "\n",
      "1 Failed download:\n",
      "['TRR.MC']: Exception('%ticker%: No price data found, symbol may be delisted (1d 2003-08-04 00:00:00 -> 2004-01-02 00:00:00)')\n"
     ]
    },
    {
     "name": "stdout",
     "output_type": "stream",
     "text": [
      "\n",
      "Empty DataFrame\n",
      "Columns: [Open, High, Low, Close, Adj Close, Volume]\n",
      "Index: []\n",
      "TRR_1\n",
      "[*********************100%***********************]  1 of 1 completed\n",
      "             Open   High    Low  Close  Adj Close   Volume\n",
      "Date                                                      \n",
      "2004-01-02   9.61   9.64   9.50   9.60       9.60   921354\n",
      "2004-01-05   9.64   9.74   9.56   9.68       9.68   686581\n",
      "2004-01-06   9.68   9.68   9.68   9.68       9.68        0\n",
      "2004-01-07   9.78   9.88   9.71   9.80       9.80  1172441\n",
      "2004-01-08   9.85  10.01   9.85   9.96       9.96   771489\n",
      "...           ...    ...    ...    ...        ...      ...\n",
      "2005-06-24  11.63  11.70  11.59  11.65      11.65   700300\n",
      "2005-06-27  11.64  11.65  11.51  11.56      11.56   535559\n",
      "2005-06-28  11.54  11.65  11.51  11.60      11.60   963617\n",
      "2005-06-29  11.69  11.72  11.61  11.71      11.71   614598\n",
      "2005-06-30  11.50  11.53  11.26  11.30      11.30  3905453\n",
      "\n",
      "[377 rows x 6 columns]\n",
      "BTO\n",
      "[*********************100%***********************]  1 of 1 completed\n",
      "                  Open        High         Low       Close   Adj Close  Volume\n",
      "Date                                                                          \n",
      "2004-01-02  190.027985  190.027985  181.991974  190.027985  176.430450  118620\n",
      "2004-01-05  190.658249  191.761230  188.609863  190.658249  177.015625   34677\n",
      "2004-01-06  190.658249  190.658249  190.658249  190.658249  177.015625       0\n",
      "2004-01-07  192.233948  195.542892  189.712845  192.233948  178.478577   54529\n",
      "2004-01-08  196.960999  201.688065  192.549088  196.960999  182.867371   73218\n",
      "...                ...         ...         ...         ...         ...     ...\n",
      "2006-12-22  210.984634  214.293579  209.724075  214.293579  203.650040   71940\n",
      "2006-12-27  209.724075  213.820862  209.724075  211.614899  201.104401   42498\n",
      "2006-12-28  211.614899  212.717880  209.566513  210.354355  199.906464   39107\n",
      "2006-12-29  210.039215  210.984634  205.942429  208.148392  197.810074  219854\n",
      "2007-01-01  208.148392  208.148392  208.148392  208.148392  197.810074       0\n",
      "\n",
      "[777 rows x 6 columns]\n",
      "PRS_1\n",
      "[*********************100%***********************]  1 of 1 completed\n",
      "                Open      High       Low     Close  Adj Close    Volume\n",
      "Date                                                                   \n",
      "2004-07-01  2.637682  2.652500  2.608045  2.637682   1.408306  15671649\n",
      "2004-07-02  2.608045  2.622863  2.578408  2.608045   1.392483   6100763\n",
      "2004-07-05  2.593227  2.608045  2.578408  2.593227   1.384571   2487785\n",
      "2004-07-06  2.593227  2.593227  2.578408  2.593227   1.384571   1408657\n",
      "2004-07-07  2.578408  2.593227  2.578408  2.578408   1.376659   3642670\n",
      "...              ...       ...       ...       ...        ...       ...\n",
      "2023-08-02  1.082000  1.090500  1.064500  1.070000   1.070000  37908543\n",
      "2023-08-03  1.071000  1.090500  1.056000  1.086500   1.086500  21318831\n",
      "2023-08-04  1.093500  1.100500  1.078500  1.082500   1.082500  18988040\n",
      "2023-08-07  1.085000  1.097000  1.080500  1.090000   1.090000  10431966\n",
      "2023-08-08  1.066500  1.083000  1.051000  1.066500   1.066500  25413229\n",
      "\n",
      "[4891 rows x 6 columns]\n",
      "SAB\n",
      "[*********************100%***********************]  1 of 1 completed"
     ]
    },
    {
     "name": "stderr",
     "output_type": "stream",
     "text": [
      "\n",
      "1 Failed download:\n",
      "['SYV.MC']: Exception(\"%ticker%: Data doesn't exist for startDate = 1104728400, endDate = 1380600000\")\n"
     ]
    },
    {
     "name": "stdout",
     "output_type": "stream",
     "text": [
      "\n",
      "Empty DataFrame\n",
      "Columns: [Open, High, Low, Close, Adj Close, Volume]\n",
      "Index: []\n",
      "SYV_1\n",
      "[*********************100%***********************]  1 of 1 completed"
     ]
    },
    {
     "name": "stderr",
     "output_type": "stream",
     "text": [
      "\n",
      "1 Failed download:\n",
      "['TL5.MC']: Exception('%ticker%: No data found, symbol may be delisted')\n"
     ]
    },
    {
     "name": "stdout",
     "output_type": "stream",
     "text": [
      "\n",
      "Empty DataFrame\n",
      "Columns: [Open, High, Low, Close, Adj Close, Volume]\n",
      "Index: []\n",
      "TL5\n",
      "[*********************100%***********************]  1 of 1 completed"
     ]
    },
    {
     "name": "stderr",
     "output_type": "stream",
     "text": [
      "\n",
      "1 Failed download:\n",
      "['REE.MC']: Exception('%ticker%: No timezone found, symbol may be delisted')\n"
     ]
    },
    {
     "name": "stdout",
     "output_type": "stream",
     "text": [
      "\n",
      "Empty DataFrame\n",
      "Columns: [Open, High, Low, Close, Adj Close, Volume]\n",
      "Index: []\n",
      "REE_1\n",
      "[*********************100%***********************]  1 of 1 completed"
     ]
    },
    {
     "name": "stderr",
     "output_type": "stream",
     "text": [
      "\n",
      "1 Failed download:\n",
      "['CIN.MC']: Exception('%ticker%: No timezone found, symbol may be delisted')\n"
     ]
    },
    {
     "name": "stdout",
     "output_type": "stream",
     "text": [
      "\n",
      "Empty DataFrame\n",
      "Columns: [Open, High, Low, Close, Adj Close, Volume]\n",
      "Index: []\n",
      "CIN\n",
      "[*********************100%***********************]  1 of 1 completed"
     ]
    },
    {
     "name": "stderr",
     "output_type": "stream",
     "text": [
      "\n",
      "1 Failed download:\n",
      "['A3TV.MC']: Exception('%ticker%: No price data found, symbol may be delisted (1d 2005-07-08 00:00:00 -> 2008-01-02 00:00:00)')\n"
     ]
    },
    {
     "name": "stdout",
     "output_type": "stream",
     "text": [
      "\n",
      "Empty DataFrame\n",
      "Columns: [Open, High, Low, Close, Adj Close, Volume]\n",
      "Index: []\n",
      "A3TV\n",
      "[*********************100%***********************]  1 of 1 completed\n",
      "                 Open       High        Low      Close  Adj Close   Volume\n",
      "Date                                                                      \n",
      "2006-01-02  11.105300  11.121987  10.930085  10.946772   9.875628   539683\n",
      "2006-01-03  11.021864  11.155361  10.955115  11.046895   9.965954  1035419\n",
      "2006-01-04  11.038551  11.113643  10.963459  11.046895   9.965954   883037\n",
      "2006-01-05  11.055238  11.105300  11.013520  11.105300  10.018644   743826\n",
      "2006-01-09  11.155361  11.280515  11.088613  11.247141  10.146605  1087208\n",
      "...               ...        ...        ...        ...        ...      ...\n",
      "2006-06-26  12.014750  12.098185  11.922970  12.048124  11.071835   489159\n",
      "2006-06-27  12.056467  12.056467  11.839534  11.847878  10.887815   281309\n",
      "2006-06-28  11.781129  12.031437  11.781129  11.789473  10.834143   476159\n",
      "2006-06-29  11.839534  11.889596  11.622601  11.814504  10.857143   654993\n",
      "2006-06-30  11.922970  11.922970  11.597571  11.697694  10.749800  2942428\n",
      "\n",
      "[126 rows x 6 columns]\n",
      "NHH_1\n",
      "[*********************100%***********************]  1 of 1 completed"
     ]
    },
    {
     "name": "stderr",
     "output_type": "stream",
     "text": [
      "\n",
      "1 Failed download:\n",
      "['FAD.MC']: Exception('%ticker%: No price data found, symbol may be delisted (1d 2006-07-03 00:00:00 -> 2007-03-09 00:00:00)')\n"
     ]
    },
    {
     "name": "stdout",
     "output_type": "stream",
     "text": [
      "\n",
      "Empty DataFrame\n",
      "Columns: [Open, High, Low, Close, Adj Close, Volume]\n",
      "Index: []\n",
      "FAD\n",
      "[*********************100%***********************]  1 of 1 completed\n",
      "                Open      High       Low     Close  Adj Close   Volume\n",
      "Date                                                                  \n",
      "2006-07-25  3.120520  3.120520  3.120520  3.120520   1.059748  5040083\n",
      "2006-07-26  3.122505  3.122505  3.122505  3.122505   1.060423  7052300\n",
      "2006-07-27  3.056998  3.056998  3.056998  3.056998   1.038176  4113327\n",
      "2006-07-28  3.056998  3.056998  3.056998  3.056998   1.038176  3154386\n",
      "2006-07-31  3.056998  3.056998  3.056998  3.056998   1.038176  7479304\n",
      "...              ...       ...       ...       ...        ...      ...\n",
      "2023-08-02  1.863000  1.870000  1.835000  1.855000   1.855000  2982735\n",
      "2023-08-03  1.858000  1.883000  1.849000  1.873000   1.873000  2010559\n",
      "2023-08-04  1.881000  1.897000  1.879000  1.896000   1.896000  1118349\n",
      "2023-08-07  1.891000  1.903000  1.869000  1.893000   1.893000  1238037\n",
      "2023-08-08  1.870000  1.893000  1.855000  1.863000   1.863000  1485406\n",
      "\n",
      "[4354 rows x 6 columns]\n",
      "MAP_2\n",
      "[*********************100%***********************]  1 of 1 completed\n",
      "              Open    High     Low   Close  Adj Close   Volume\n",
      "Date                                                          \n",
      "2006-08-01  14.540  14.540  14.360  14.390     14.390  2631550\n",
      "2006-08-02  14.390  14.520  14.390  14.490     14.490  1020525\n",
      "2006-08-03  14.450  14.480  14.370  14.450     14.450   931671\n",
      "2006-08-04  14.490  14.580  14.440  14.540     14.540   659109\n",
      "2006-08-07  14.480  14.480  14.330  14.410     14.410   942710\n",
      "...            ...     ...     ...     ...        ...      ...\n",
      "2010-12-23   6.469   6.500   6.388   6.426      6.426   213842\n",
      "2010-12-27   6.353   6.400   6.212   6.220      6.220   182693\n",
      "2010-12-28   6.227   6.349   6.194   6.229      6.229   382848\n",
      "2010-12-29   6.400   6.400   6.108   6.150      6.150   697071\n",
      "2010-12-30   6.100   6.200   6.051   6.200      6.200  1727762\n",
      "\n",
      "[1113 rows x 6 columns]\n",
      "BTO_1\n",
      "[*********************100%***********************]  1 of 1 completed\n",
      "                 Open       High        Low      Close  Adj Close   Volume\n",
      "Date                                                                      \n",
      "2006-08-17  13.558311  14.058926  13.558311  13.950459  12.820017  2294338\n",
      "2006-08-18  13.800275  13.917085  13.716839  13.783588  12.666669  1074998\n",
      "2006-08-21  13.725183  15.176965  13.725183  14.551197  13.372077  2830394\n",
      "2006-08-22  14.559540  14.584571  14.025551  14.150705  13.004038  1256983\n",
      "2006-08-23  14.175736  14.359295  13.992177  14.209110  13.057710   729401\n",
      "...               ...        ...        ...        ...        ...      ...\n",
      "2007-12-19  10.801949  10.877841  10.506814  10.591139   9.732911   736986\n",
      "2007-12-20  10.591139  10.667030  10.380328  10.456220   9.608926   596867\n",
      "2007-12-21  10.506814  10.608003  10.245409  10.447787   9.601175   867478\n",
      "2007-12-27  10.447787  10.447787   9.857517   9.958706   9.151727   946932\n",
      "2007-12-28   9.806922  10.287571   9.612976  10.287571   9.453943  2694001\n",
      "\n",
      "[348 rows x 6 columns]\n",
      "NHH_2\n",
      "[*********************100%***********************]  1 of 1 completed"
     ]
    },
    {
     "name": "stderr",
     "output_type": "stream",
     "text": [
      "\n",
      "1 Failed download:\n",
      "['AGS.MC']: Exception('%ticker%: No timezone found, symbol may be delisted')\n"
     ]
    },
    {
     "name": "stdout",
     "output_type": "stream",
     "text": [
      "\n",
      "Empty DataFrame\n",
      "Columns: [Open, High, Low, Close, Adj Close, Volume]\n",
      "Index: []\n",
      "AGS_3\n",
      "[*********************100%***********************]  1 of 1 completed"
     ]
    },
    {
     "name": "stderr",
     "output_type": "stream",
     "text": [
      "\n",
      "1 Failed download:\n",
      "['CAR.MC']: Exception('%ticker%: No timezone found, symbol may be delisted')\n"
     ]
    },
    {
     "name": "stdout",
     "output_type": "stream",
     "text": [
      "\n",
      "Empty DataFrame\n",
      "Columns: [Open, High, Low, Close, Adj Close, Volume]\n",
      "Index: []\n",
      "CAR\n",
      "[*********************100%***********************]  1 of 1 completed\n",
      "                   Open         High          Low        Close    Adj Close  \\\n",
      "Date                                                                          \n",
      "2007-05-10  1374.502075  1402.292236  1346.711914  1374.502075  1102.880981   \n",
      "2007-05-11  1350.046753  1371.723022  1328.370361  1371.723022  1100.651123   \n",
      "2007-05-14  1374.502075  1405.627075  1346.711914  1359.495361  1090.839844   \n",
      "2007-05-15  1352.825684  1390.064575  1337.819092  1383.950684  1110.462524   \n",
      "2007-05-16  1365.609253  1390.064575  1359.495361  1380.615967  1107.786621   \n",
      "...                 ...          ...          ...          ...          ...   \n",
      "2008-04-07   296.799072   299.578094   290.129425   296.799072   238.147369   \n",
      "2008-04-08   296.799072   296.799072   290.129425   293.464264   235.471588   \n",
      "2008-04-09   293.464264   296.799072   287.350403   290.129425   232.795761   \n",
      "2008-04-10   287.350403   287.350403   269.008911   277.901764   222.984436   \n",
      "2008-04-11   277.901764   281.236572   269.008911   269.008911   215.848938   \n",
      "\n",
      "            Volume  \n",
      "Date                \n",
      "2007-05-10    5194  \n",
      "2007-05-11    3956  \n",
      "2007-05-14    4527  \n",
      "2007-05-15    3144  \n",
      "2007-05-16    3554  \n",
      "...            ...  \n",
      "2008-04-07   16826  \n",
      "2008-04-08    7293  \n",
      "2008-04-09   12281  \n",
      "2008-04-10   12937  \n",
      "2008-04-11    9087  \n",
      "\n",
      "[233 rows x 6 columns]\n",
      "COL\n",
      "[*********************100%***********************]  1 of 1 completed"
     ]
    },
    {
     "name": "stderr",
     "output_type": "stream",
     "text": [
      "\n",
      "1 Failed download:\n",
      "['BME.MC']: Exception('%ticker%: No timezone found, symbol may be delisted')\n"
     ]
    },
    {
     "name": "stdout",
     "output_type": "stream",
     "text": [
      "\n",
      "Empty DataFrame\n",
      "Columns: [Open, High, Low, Close, Adj Close, Volume]\n",
      "Index: []\n",
      "BME\n",
      "[*********************100%***********************]  1 of 1 completed\n",
      "              Open    High     Low   Close  Adj Close   Volume\n",
      "Date                                                          \n",
      "2008-01-02   7.845   7.845   7.560   7.605   6.443983  3122920\n",
      "2008-01-03   7.580   7.645   7.180   7.210   6.109286  5752068\n",
      "2008-01-04   7.175   7.200   6.750   7.025   5.952527  4427988\n",
      "2008-01-07   7.005   7.100   6.250   6.755   5.723747  4687020\n",
      "2008-01-08   6.655   6.870   6.555   6.655   5.639014  5152256\n",
      "...            ...     ...     ...     ...        ...      ...\n",
      "2023-08-02  13.015  13.020  12.710  12.795  12.795000  1488253\n",
      "2023-08-03  12.790  12.965  12.735  12.810  12.810000   630000\n",
      "2023-08-04  12.950  13.020  12.805  13.020  13.020000   636888\n",
      "2023-08-07  12.925  13.130  12.730  12.860  12.860000   833981\n",
      "2023-08-08  12.720  13.005  12.655  12.955  12.955000   989792\n",
      "\n",
      "[3989 rows x 6 columns]\n",
      "GRF\n",
      "[*********************100%***********************]  1 of 1 completed"
     ]
    },
    {
     "name": "stderr",
     "output_type": "stream",
     "text": [
      "\n",
      "1 Failed download:\n",
      "['ABG.MC']: Exception('%ticker%: No timezone found, symbol may be delisted')\n"
     ]
    },
    {
     "name": "stdout",
     "output_type": "stream",
     "text": [
      "\n",
      "Empty DataFrame\n",
      "Columns: [Open, High, Low, Close, Adj Close, Volume]\n",
      "Index: []\n",
      "ABG\n",
      "[*********************100%***********************]  1 of 1 completed"
     ]
    },
    {
     "name": "stderr",
     "output_type": "stream",
     "text": [
      "\n",
      "1 Failed download:\n",
      "['IBR.MC']: Exception('%ticker%: No timezone found, symbol may be delisted')\n"
     ]
    },
    {
     "name": "stdout",
     "output_type": "stream",
     "text": [
      "\n",
      "Empty DataFrame\n",
      "Columns: [Open, High, Low, Close, Adj Close, Volume]\n",
      "Index: []\n",
      "IBR\n",
      "[*********************100%***********************]  1 of 1 completed"
     ]
    },
    {
     "name": "stderr",
     "output_type": "stream",
     "text": [
      "\n",
      "1 Failed download:\n",
      "['CRI.MC']: Exception('%ticker%: No timezone found, symbol may be delisted')\n"
     ]
    },
    {
     "name": "stdout",
     "output_type": "stream",
     "text": [
      "\n",
      "Empty DataFrame\n",
      "Columns: [Open, High, Low, Close, Adj Close, Volume]\n",
      "Index: []\n",
      "CRI_2\n",
      "[*********************100%***********************]  1 of 1 completed\n",
      "                 Open       High        Low      Close  Adj Close   Volume\n",
      "Date                                                                      \n",
      "2008-04-14  46.980000  47.400002  46.529999  46.599998  32.127945   152684\n",
      "2008-04-15  47.020000  48.799999  46.959999  48.610001  33.513733   232638\n",
      "2008-04-16  48.610001  49.200001  48.200001  49.119999  33.865337   156634\n",
      "2008-04-17  49.200001  49.490002  47.700001  48.400002  33.368942   137440\n",
      "2008-04-18  48.400002  49.830002  48.400002  49.709999  34.272121   227818\n",
      "...               ...        ...        ...        ...        ...      ...\n",
      "2019-06-17  23.100000  23.719999  23.100000  23.480000  23.480000   222887\n",
      "2019-06-18  23.260000  23.840000  23.260000  23.740000  23.740000   228745\n",
      "2019-06-19  23.660000  23.820000  23.500000  23.600000  23.600000   130869\n",
      "2019-06-20  23.580000  23.879999  23.559999  23.639999  23.639999   204934\n",
      "2019-06-21  23.760000  24.080000  23.440001  23.440001  23.440001  1920263\n",
      "\n",
      "[2858 rows x 6 columns]\n",
      "TRE\n",
      "[*********************100%***********************]  1 of 1 completed\n",
      "                 Open       High        Low      Close  Adj Close   Volume\n",
      "Date                                                                      \n",
      "2008-07-01  12.120147  12.192923  11.403574  11.509941   9.732836  1362098\n",
      "2008-07-02  11.493146  11.722673  11.442762  11.532333   9.751771   524232\n",
      "2008-07-03  11.470753  11.532333  11.078878  11.431565   9.666562  1063968\n",
      "2008-07-04  11.756262  11.756262  10.933324  11.134860   9.415667   652316\n",
      "2008-07-07  11.218833  11.364387  11.000503  11.151654   9.429868   556162\n",
      "...               ...        ...        ...        ...        ...      ...\n",
      "2016-06-14   4.189000   4.255000   3.990000   4.019000   3.969409  3698933\n",
      "2016-06-15   4.060000   4.144000   3.991000   4.039000   3.989162  2614820\n",
      "2016-06-16   3.950000   4.020000   3.777000   3.818000   3.770889  3181962\n",
      "2016-06-17   3.877000   4.187000   3.862000   4.187000   4.135335  8312537\n",
      "2016-06-20   4.446000   4.446000   4.171000   4.316000   4.262743  4321558\n",
      "\n",
      "[2036 rows x 6 columns]\n",
      "OHLA\n",
      "[*********************100%***********************]  1 of 1 completed\n",
      "                 Open       High        Low      Close  Adj Close  Volume\n",
      "Date                                                                     \n",
      "2009-05-05  42.181393  43.423222  41.122787  42.344257  33.294609  543767\n",
      "2009-05-06  41.896385  43.178925  40.878494  42.120319  33.118526  220372\n",
      "2009-05-07  42.425686  43.850735  41.122787  41.285648  32.462246  269647\n",
      "2009-05-08  41.957458  44.217175  41.937099  43.362144  34.094955  225946\n",
      "2009-05-11  42.771770  43.362144  41.326366  41.611374  32.718353  199194\n",
      "...               ...        ...        ...        ...        ...     ...\n",
      "2023-08-02  25.500000  25.754999  25.360001  25.410000  25.410000  200799\n",
      "2023-08-03  25.299999  25.355000  24.875000  25.240000  25.240000  209903\n",
      "2023-08-04  25.049999  25.240000  24.945000  25.160000  25.160000  100898\n",
      "2023-08-07  24.975000  25.139999  24.754999  24.950001  24.950001  130384\n",
      "2023-08-08  24.750000  24.754999  24.334999  24.455000  24.455000  248157\n",
      "\n",
      "[3651 rows x 6 columns]\n",
      "MTS\n",
      "[*********************100%***********************]  1 of 1 completed"
     ]
    },
    {
     "name": "stderr",
     "output_type": "stream",
     "text": [
      "\n",
      "1 Failed download:\n",
      "['EVA.MC']: Exception('%ticker%: No price data found, symbol may be delisted (1d 2010-01-04 00:00:00 -> 2010-07-26 00:00:00)')\n"
     ]
    },
    {
     "name": "stdout",
     "output_type": "stream",
     "text": [
      "\n",
      "Empty DataFrame\n",
      "Columns: [Open, High, Low, Close, Adj Close, Volume]\n",
      "Index: []\n",
      "EVA\n",
      "[*********************100%***********************]  1 of 1 completed\n",
      "                 Open       High        Low      Close  Adj Close   Volume\n",
      "Date                                                                      \n",
      "2010-07-26  14.058014  14.058014  13.681813  13.741213   7.764683   272524\n",
      "2010-07-27  13.741213  13.855063  13.647163  13.652113   7.714337   421932\n",
      "2010-07-28  13.810513  13.810513  13.567963  13.662013   7.719929   422699\n",
      "2010-07-29  13.741213  13.741213  13.523413  13.523413   7.641613   633898\n",
      "2010-07-30  13.498663  13.632313  13.196713  13.266013   7.496164   730030\n",
      "...               ...        ...        ...        ...        ...      ...\n",
      "2012-04-24  12.879912  12.959112  12.597762  12.835362   7.693994  1531212\n",
      "2012-04-25  12.805662  13.464013  12.805662  13.285813   7.964014  1009433\n",
      "2012-04-26  13.266013  13.439263  13.127413  13.216513   7.922467   761251\n",
      "2012-04-27  13.147213  13.850113  13.043263  13.627363   8.168749   576352\n",
      "2012-04-30  13.563013  13.622413  13.112563  13.221463   7.925436  1545644\n",
      "\n",
      "[454 rows x 6 columns]\n",
      "EBRO\n",
      "[*********************100%***********************]  1 of 1 completed\n",
      "                 Open       High        Low      Close  Adj Close   Volume\n",
      "Date                                                                      \n",
      "2011-01-03  15.800000  15.830000  15.300000  15.350000  12.534259  4301835\n",
      "2011-01-04  15.345000  15.400000  14.530000  14.600000  11.921837  2988496\n",
      "2011-01-05  14.540000  14.830000  14.300000  14.640000  11.954499  2378394\n",
      "2011-01-06  14.650000  14.745000  14.075000  14.270000  11.652370  2133345\n",
      "2011-01-07  14.280000  14.480000  14.000000  14.355000  11.721777  2922473\n",
      "...               ...        ...        ...        ...        ...      ...\n",
      "2023-08-02  63.900002  64.779999  63.639999  64.220001  64.220001   816741\n",
      "2023-08-03  63.919998  64.099998  62.880001  63.060001  63.060001   898148\n",
      "2023-08-04  63.320000  63.340000  62.180000  62.959999  62.959999  1047515\n",
      "2023-08-07  62.900002  63.580002  62.900002  63.259998  63.259998   598675\n",
      "2023-08-08  62.959999  63.840000  62.939999  63.340000  63.340000   610798\n",
      "\n",
      "[3225 rows x 6 columns]\n",
      "AMS_1\n",
      "[*********************100%***********************]  1 of 1 completed\n",
      "              Open    High     Low  Close  Adj Close    Volume\n",
      "Date                                                          \n",
      "2011-04-01  2.6670  2.6690  2.5400  2.581   1.994965   5121842\n",
      "2011-04-04  2.5880  2.5880  2.5400  2.540   1.963274   4610525\n",
      "2011-04-05  2.5500  2.5500  2.5110  2.526   1.952453   4346357\n",
      "2011-04-06  2.5380  2.5630  2.5070  2.551   1.971776   6198388\n",
      "2011-04-07  2.5390  2.5840  2.5390  2.549   1.970231   2434466\n",
      "...            ...     ...     ...    ...        ...       ...\n",
      "2023-08-02  1.9550  1.9575  1.8965  1.942   1.942000  17001393\n",
      "2023-08-03  1.9475  1.9475  1.8680  1.913   1.913000  13777069\n",
      "2023-08-04  1.9285  1.9450  1.9180  1.940   1.940000   7137671\n",
      "2023-08-07  1.9450  1.9640  1.9245  1.949   1.949000   5302764\n",
      "2023-08-08  1.9305  1.9560  1.9150  1.956   1.956000   6319039\n",
      "\n",
      "[3161 rows x 6 columns]\n",
      "IAG\n",
      "[*********************100%***********************]  1 of 1 completed\n",
      "             Open   High    Low  Close  Adj Close    Volume\n",
      "Date                                                       \n",
      "2011-07-01  4.895  4.970  4.724  4.760   2.600790   4943465\n",
      "2011-07-04  4.819  4.828  4.761  4.788   2.616089   6390139\n",
      "2011-07-05  4.810  4.829  4.761  4.804   2.624831   9640403\n",
      "2011-07-06  4.798  4.798  4.710  4.769   2.605707   4529275\n",
      "2011-07-07  4.770  4.854  4.758  4.810   2.628109   4470050\n",
      "...           ...    ...    ...    ...        ...       ...\n",
      "2023-08-02  3.631  3.640  3.584  3.609   3.609000  11163769\n",
      "2023-08-03  3.610  3.732  3.610  3.730   3.730000  11411563\n",
      "2023-08-04  3.746  3.766  3.719  3.742   3.742000   6274574\n",
      "2023-08-07  3.742  3.800  3.734  3.795   3.795000   7037428\n",
      "2023-08-08  3.713  3.782  3.678  3.739   3.739000  10446395\n",
      "\n",
      "[3098 rows x 6 columns]\n",
      "CABK\n",
      "[*********************100%***********************]  1 of 1 completed"
     ]
    },
    {
     "name": "stderr",
     "output_type": "stream",
     "text": [
      "\n",
      "1 Failed download:\n",
      "['BKIA.MC']: Exception('%ticker%: No timezone found, symbol may be delisted')\n"
     ]
    },
    {
     "name": "stdout",
     "output_type": "stream",
     "text": [
      "\n",
      "Empty DataFrame\n",
      "Columns: [Open, High, Low, Close, Adj Close, Volume]\n",
      "Index: []\n",
      "BKIA\n",
      "[*********************100%***********************]  1 of 1 completed\n",
      "                Open      High       Low     Close  Adj Close    Volume\n",
      "Date                                                                   \n",
      "2012-01-02  3.250666  3.325939  3.159595  3.325939   2.969010   4869714\n",
      "2012-01-03  3.341737  3.341737  3.226504  3.305494   2.950759   9175194\n",
      "2012-01-04  3.275757  3.390989  3.261818  3.313858   2.958225   9044151\n",
      "2012-01-05  3.345454  3.410504  3.312929  3.386343   3.022931  15087740\n",
      "2012-01-06  3.370545  3.494141  3.370545  3.477414   3.104229  22000781\n",
      "...              ...       ...       ...       ...        ...       ...\n",
      "2018-12-17  0.459814  0.482860  0.409167  0.415393   0.415393  13948883\n",
      "2018-12-18  0.415300  0.424872  0.349414  0.380731   0.380731  20985491\n",
      "2018-12-19  0.393741  0.395878  0.362424  0.373575   0.373575  13683199\n",
      "2018-12-20  0.365212  0.369579  0.325252  0.336589   0.336589  22655089\n",
      "2018-12-21  0.334266  0.362424  0.320977  0.355082   0.355082  33150031\n",
      "\n",
      "[1784 rows x 6 columns]\n",
      "DIA\n",
      "[*********************100%***********************]  1 of 1 completed"
     ]
    },
    {
     "name": "stderr",
     "output_type": "stream",
     "text": [
      "\n",
      "1 Failed download:\n",
      "['ABG.P.MC']: Exception('%ticker%: No timezone found, symbol may be delisted')\n"
     ]
    },
    {
     "name": "stdout",
     "output_type": "stream",
     "text": [
      "\n",
      "Empty DataFrame\n",
      "Columns: [Open, High, Low, Close, Adj Close, Volume]\n",
      "Index: []\n",
      "ABG.P\n",
      "[*********************100%***********************]  1 of 1 completed\n",
      "                 Open       High        Low      Close  Adj Close   Volume\n",
      "Date                                                                      \n",
      "2013-01-02  43.000000  43.000000  41.070000  41.139999  30.193186   651304\n",
      "2013-01-03  41.590000  41.860001  41.099998  41.360001  30.354650   160001\n",
      "2013-01-04  41.660000  41.660000  40.130001  40.389999  29.642754   222905\n",
      "2013-01-07  40.259998  40.540001  39.060001  39.189999  28.762056   316556\n",
      "2013-01-08  39.189999  39.900002  38.560001  39.340000  28.872141   402946\n",
      "...               ...        ...        ...        ...        ...      ...\n",
      "2014-12-15  43.869999  44.090000  42.680000  42.700001  32.805950   420616\n",
      "2014-12-16  42.814999  43.480000  42.500000  43.430000  33.366798   664100\n",
      "2014-12-17  43.310001  43.919998  43.185001  43.709999  33.581917   367728\n",
      "2014-12-18  44.119999  44.825001  43.959999  44.825001  34.438564   417867\n",
      "2014-12-19  45.294991  45.805000  44.950001  45.205002  34.730522  1444336\n",
      "\n",
      "[504 rows x 6 columns]\n",
      "VIS_2\n",
      "[*********************100%***********************]  1 of 1 completed"
     ]
    },
    {
     "name": "stderr",
     "output_type": "stream",
     "text": [
      "\n",
      "1 Failed download:\n",
      "['JAZ.MC']: Exception('%ticker%: No price data found, symbol may be delisted (1d 2013-04-23 00:00:00 -> 2015-06-24 00:00:00)')\n"
     ]
    },
    {
     "name": "stdout",
     "output_type": "stream",
     "text": [
      "\n",
      "Empty DataFrame\n",
      "Columns: [Open, High, Low, Close, Adj Close, Volume]\n",
      "Index: []\n",
      "JAZ\n",
      "[*********************100%***********************]  1 of 1 completed\n",
      "                 Open       High        Low      Close  Adj Close   Volume\n",
      "Date                                                                      \n",
      "2013-07-01  15.785000  16.299999  15.780000  16.270000  10.192224   734014\n",
      "2013-07-02  16.275000  16.275000  16.055000  16.225000  10.164030   600105\n",
      "2013-07-03  16.090000  16.150000  15.890000  16.040001  10.048140   691984\n",
      "2013-07-04  16.035000  16.490000  16.035000  16.490000  10.330039   665801\n",
      "2013-07-05  16.495001  16.570000  16.264999  16.469999  10.317508   661074\n",
      "...               ...        ...        ...        ...        ...      ...\n",
      "2014-06-16  16.375000  16.410000  16.100000  16.275000  10.448215   425914\n",
      "2014-06-17  16.299999  16.389999  16.200001  16.330000  10.483523   286555\n",
      "2014-06-18  16.389999  16.480000  16.270000  16.379999  10.515625   306837\n",
      "2014-06-19  16.500000  16.555000  16.290001  16.295000  10.461055   417656\n",
      "2014-06-20  16.219999  16.325001  15.940000  15.940000  10.233152  3093591\n",
      "\n",
      "[249 rows x 6 columns]\n",
      "EBRO_1\n",
      "[*********************100%***********************]  1 of 1 completed\n",
      "                Open      High       Low     Close  Adj Close    Volume\n",
      "Date                                                                   \n",
      "2013-10-01  3.191028  3.282461  3.154454  3.282461   2.451901   7510381\n",
      "2013-10-02  3.282461  3.446127  3.200171  3.384867   2.528395   9637369\n",
      "2013-10-03  3.403153  3.488187  3.356522  3.392181   2.533859   7446570\n",
      "2013-10-04  3.404982  3.433326  3.364751  3.397667   2.537957   4161227\n",
      "2013-10-07  3.423269  3.447041  3.373895  3.419611   2.554348   3680696\n",
      "...              ...       ...       ...       ...        ...       ...\n",
      "2016-06-14  1.378235  1.407352  1.354941  1.355911   1.035203   7976219\n",
      "2016-06-15  1.384058  1.417058  1.372411  1.390852   1.061879   8898560\n",
      "2016-06-16  1.358823  1.367558  1.321941  1.331647   1.016678   9736645\n",
      "2016-06-17  1.365617  1.524794  1.360764  1.509264   1.152284  23685590\n",
      "2016-06-20  1.601470  1.641264  1.523823  1.608264   1.227868  13457346\n",
      "\n",
      "[694 rows x 6 columns]\n",
      "SCYR\n",
      "[*********************100%***********************]  1 of 1 completed"
     ]
    },
    {
     "name": "stderr",
     "output_type": "stream",
     "text": [
      "\n",
      "1 Failed download:\n",
      "['BKIA.MC']: Exception('%ticker%: No timezone found, symbol may be delisted')\n"
     ]
    },
    {
     "name": "stdout",
     "output_type": "stream",
     "text": [
      "\n",
      "Empty DataFrame\n",
      "Columns: [Open, High, Low, Close, Adj Close, Volume]\n",
      "Index: []\n",
      "BKIA_1\n",
      "[*********************100%***********************]  1 of 1 completed\n",
      "                Open      High       Low     Close  Adj Close  Volume\n",
      "Date                                                                 \n",
      "2013-12-23  4.803818  4.881299  4.726337  4.803818   4.803818    7685\n",
      "2013-12-24  4.803818  4.803818  4.726337  4.803818   4.803818   11596\n",
      "2013-12-27  4.726337  5.191222  4.726337  5.191222   5.191222   90318\n",
      "2013-12-30  5.191222  5.346184  4.958780  5.113742   5.113742  105820\n",
      "2013-12-31  5.268703  5.733589  5.268703  5.578627   5.578627  117062\n",
      "...              ...       ...       ...       ...        ...     ...\n",
      "2017-07-17  1.627099  1.627099  1.549618  1.627099   1.627099   93453\n",
      "2017-07-18  1.627099  1.704580  1.549618  1.549618   1.549618   37747\n",
      "2017-07-19  1.549618  1.549618  1.549618  1.549618   1.549618   22683\n",
      "2017-07-20  1.549618  1.696832  1.472137  1.510878   1.510878   28789\n",
      "2017-07-21  1.518626  1.565114  1.417901  1.464389   1.464389   31881\n",
      "\n",
      "[915 rows x 6 columns]\n",
      "GAM_1\n",
      "[*********************100%***********************]  1 of 1 completed"
     ]
    },
    {
     "name": "stderr",
     "output_type": "stream",
     "text": [
      "\n",
      "1 Failed download:\n",
      "['ABG.P.MC']: Exception('%ticker%: No timezone found, symbol may be delisted')\n"
     ]
    },
    {
     "name": "stdout",
     "output_type": "stream",
     "text": [
      "\n",
      "Empty DataFrame\n",
      "Columns: [Open, High, Low, Close, Adj Close, Volume]\n",
      "Index: []\n",
      "ABG.P_1\n",
      "[*********************100%***********************]  1 of 1 completed\n",
      "                 Open       High        Low      Close  Adj Close    Volume\n",
      "Date                                                                       \n",
      "2014-12-22  16.100000  16.299999  15.980000  16.170000   8.759434   3675898\n",
      "2014-12-23  16.200001  16.514999  16.080000  16.465000   8.919237  12020651\n",
      "2014-12-24  16.400000  16.700001  16.400000  16.565001   8.973407    441635\n",
      "2014-12-29  16.475000  16.570000  16.200001  16.570000   8.976116   8813922\n",
      "2014-12-30  16.495001  16.575001  16.379999  16.485001   8.930071   2517169\n",
      "...               ...        ...        ...        ...        ...       ...\n",
      "2023-08-02  19.165001  19.195000  18.780001  18.780001  18.780001   1442068\n",
      "2023-08-03  18.780001  18.924999  18.674999  18.754999  18.754999    969310\n",
      "2023-08-04  18.809999  18.950001  18.730000  18.950001  18.950001   1640078\n",
      "2023-08-07  18.900000  18.975000  18.620001  18.805000  18.805000    570979\n",
      "2023-08-08  18.730000  19.035000  18.709999  18.870001  18.870001    732483\n",
      "\n",
      "[2208 rows x 6 columns]\n",
      "ELE_1\n",
      "[*********************100%***********************]  1 of 1 completed\n",
      "              Open    High     Low   Close  Adj Close   Volume\n",
      "Date                                                          \n",
      "2015-06-22  13.210  13.350  13.110  13.280   8.326949  2473970\n",
      "2015-06-23  13.450  13.855  13.380  13.715   8.599707  3393443\n",
      "2015-06-24  13.825  13.825  13.420  13.460   8.439815  1439590\n",
      "2015-06-25  13.400  13.545  13.190  13.280   8.326949  1313650\n",
      "2015-06-26  13.180  13.540  13.100  13.435   8.424138  1381612\n",
      "...            ...     ...     ...     ...        ...      ...\n",
      "2023-08-02   9.420   9.454   9.320   9.346   9.346000   872729\n",
      "2023-08-03   9.330   9.350   9.190   9.302   9.302000  1246269\n",
      "2023-08-04   9.324   9.370   9.262   9.320   9.320000   678798\n",
      "2023-08-07   9.320   9.338   9.202   9.338   9.338000   563230\n",
      "2023-08-08   9.200   9.270   9.166   9.254   9.254000   560497\n",
      "\n",
      "[2084 rows x 6 columns]\n",
      "ACX_2\n",
      "[*********************100%***********************]  1 of 1 completed\n",
      "                  Open        High         Low       Close   Adj Close  \\\n",
      "Date                                                                     \n",
      "2015-06-22   96.000000   96.879997   95.459999   95.900002   72.997887   \n",
      "2015-06-23   96.269997   96.730003   94.919998   95.550003   72.731476   \n",
      "2015-06-24   95.599998   95.680000   94.099998   95.250000   72.503113   \n",
      "2015-06-25   93.750000   94.029999   92.690002   93.099998   70.866554   \n",
      "2015-06-26   92.360001   94.699997   92.150002   94.400002   71.856110   \n",
      "...                ...         ...         ...         ...         ...   \n",
      "2023-08-02  142.850006  144.500000  141.850006  144.050003  144.050003   \n",
      "2023-08-03  143.250000  144.300003  142.100006  144.000000  144.000000   \n",
      "2023-08-04  144.600006  146.300003  143.850006  145.600006  145.600006   \n",
      "2023-08-07  143.800003  145.199997  143.600006  144.899994  144.899994   \n",
      "2023-08-08  144.649994  146.550003  143.250000  145.399994  145.399994   \n",
      "\n",
      "             Volume  \n",
      "Date                 \n",
      "2015-06-22  1795334  \n",
      "2015-06-23   923661  \n",
      "2015-06-24   768745  \n",
      "2015-06-25   623028  \n",
      "2015-06-26   433256  \n",
      "...             ...  \n",
      "2023-08-02   184581  \n",
      "2023-08-03   162693  \n",
      "2023-08-04    98207  \n",
      "2023-08-07    92356  \n",
      "2023-08-08   112521  \n",
      "\n",
      "[2084 rows x 6 columns]\n",
      "AENA\n",
      "[*********************100%***********************]  1 of 1 completed\n",
      "                  Open        High         Low       Close   Adj Close  Volume\n",
      "Date                                                                          \n",
      "2015-07-20   74.510002   75.000000   74.120003   74.209999   57.172573  436457\n",
      "2015-07-21   74.250000   75.150002   74.089996   74.370003   57.295837  262396\n",
      "2015-07-22   73.610001   74.639999   73.059998   74.550003   57.434525  794471\n",
      "2015-07-23   74.800003   75.370003   74.250000   74.400002   57.318954  328791\n",
      "2015-07-24   74.519997   74.760002   73.910004   74.029999   57.033901  177106\n",
      "...                ...         ...         ...         ...         ...     ...\n",
      "2023-08-02  134.199997  135.699997  133.300003  133.800003  133.800003   79350\n",
      "2023-08-03  133.600006  134.199997  131.500000  131.850006  131.850006   78593\n",
      "2023-08-04  131.949997  134.949997  131.699997  134.949997  134.949997   78788\n",
      "2023-08-07  134.750000  135.500000  131.850006  132.350006  132.350006   70179\n",
      "2023-08-08  131.750000  132.949997  131.350006  132.199997  132.199997   51395\n",
      "\n",
      "[2064 rows x 6 columns]\n",
      "ANA_2\n",
      "[*********************100%***********************]  1 of 1 completed\n",
      "              Open    High     Low   Close  Adj Close   Volume\n",
      "Date                                                          \n",
      "2015-12-21  11.750  11.750  11.140  11.175   7.806383  4120362\n",
      "2015-12-22  11.275  11.490  11.125  11.205   7.827338  2529004\n",
      "2015-12-23  11.290  11.540  11.275  11.505   8.036907  1935771\n",
      "2015-12-24  11.560  11.600  11.420  11.480   8.019443   649796\n",
      "2015-12-28  11.545  11.590  11.375  11.425   7.981022  1939905\n",
      "...            ...     ...     ...     ...        ...      ...\n",
      "2023-08-02   8.400   8.440   8.370   8.430   8.430000   939501\n",
      "2023-08-03   8.405   8.500   8.370   8.430   8.430000   397270\n",
      "2023-08-04   8.400   8.500   8.370   8.475   8.475000   724789\n",
      "2023-08-07   8.460   8.495   8.420   8.495   8.495000   293884\n",
      "2023-08-08   8.420   8.515   8.380   8.410   8.410000   337563\n",
      "\n",
      "[1954 rows x 6 columns]\n",
      "MRL\n",
      "[*********************100%***********************]  1 of 1 completed\n",
      "                 Open       High        Low      Close  Adj Close   Volume\n",
      "Date                                                                      \n",
      "2016-06-21  12.476035  12.511291  12.317386  12.374676  12.108138  1183753\n",
      "2016-06-22  12.401117  12.506884  12.282130  12.392303  12.125389  1448523\n",
      "2016-06-23  12.467221  12.683161  12.387897  12.550953  12.280621  1298113\n",
      "2016-06-24  11.757705  12.070597  11.480068  11.638717  11.388033  2802028\n",
      "2016-06-27  11.651938  11.775332  11.294976  11.356674  11.112063  1302412\n",
      "...               ...        ...        ...        ...        ...      ...\n",
      "2023-08-02  36.459999  36.520000  36.070000  36.520000  36.520000  1188033\n",
      "2023-08-03  36.310001  36.310001  35.720001  36.029999  36.029999   897779\n",
      "2023-08-04  35.990002  36.299999  35.400002  36.200001  36.200001   800387\n",
      "2023-08-07  36.060001  36.200001  35.630001  36.020000  36.020000   594103\n",
      "2023-08-08  36.000000  36.040001  35.590000  35.849998  35.849998   609953\n",
      "\n",
      "[1827 rows x 6 columns]\n",
      "CLNX\n",
      "[*********************100%***********************]  1 of 1 completed\n",
      "                 Open       High        Low      Close  Adj Close  Volume\n",
      "Date                                                                     \n",
      "2016-06-21  49.834999  50.330002  49.560001  49.575001  39.975067  181991\n",
      "2016-06-22  49.700001  49.700001  48.205002  48.720001  39.285629  354889\n",
      "2016-06-23  48.799999  49.759998  48.794998  49.619999  40.011349  272685\n",
      "2016-06-24  47.500000  49.369999  46.564999  48.610001  39.196938  405246\n",
      "2016-06-27  48.924999  49.240002  46.939999  47.205002  38.064011  341722\n",
      "...               ...        ...        ...        ...        ...     ...\n",
      "2021-12-13  55.000000  55.950001  54.799999  54.950001  51.461067   58063\n",
      "2021-12-14  55.599998  55.849998  54.750000  54.900002  51.414242  178742\n",
      "2021-12-15  55.250000  56.049999  55.049999  55.849998  52.303917   59095\n",
      "2021-12-16  55.849998  56.549999  55.700001  56.200001  52.631702   55859\n",
      "2021-12-17  56.250000  56.250000  54.700001  54.700001  51.226944  750481\n",
      "\n",
      "[1408 rows x 6 columns]\n",
      "VIS_3\n",
      "[*********************100%***********************]  1 of 1 completed\n",
      "              Open    High     Low   Close  Adj Close   Volume\n",
      "Date                                                          \n",
      "2016-08-08  11.000  11.115  10.965  11.024  10.521894  1197468\n",
      "2016-08-09  11.100  11.300  11.020  11.200  10.689877   558629\n",
      "2016-08-10  11.125  11.300  11.125  11.155  10.646927   299204\n",
      "2016-08-11  11.285  11.285  11.120  11.195  10.685104   662699\n",
      "2016-08-12  11.185  11.195  10.970  11.055  10.551481   956383\n",
      "...            ...     ...     ...     ...        ...      ...\n",
      "2023-08-02   6.565   6.580   6.305   6.380   6.380000  1729583\n",
      "2023-08-03   6.360   6.375   6.185   6.250   6.250000   701853\n",
      "2023-08-04   6.320   6.365   6.245   6.335   6.335000   388529\n",
      "2023-08-07   6.360   6.385   6.275   6.355   6.355000   312569\n",
      "2023-08-08   6.360   6.425   6.315   6.395   6.395000   505090\n",
      "\n",
      "[1793 rows x 6 columns]\n",
      "MEL\n",
      "[*********************100%***********************]  1 of 1 completed\n",
      "             Open   High    Low  Close  Adj Close    Volume\n",
      "Date                                                       \n",
      "2017-06-16  7.546  7.792  7.507  7.640   6.271913  12462198\n",
      "2017-06-19  7.710  7.745  7.640  7.640   6.271913   2292693\n",
      "2017-06-20  7.688  7.688  7.564  7.564   6.209522   1408651\n",
      "2017-06-21  7.563  7.563  7.451  7.521   6.174222   1326858\n",
      "2017-06-22  7.554  7.573  7.451  7.572   6.216088   1192048\n",
      "...           ...    ...    ...    ...        ...       ...\n",
      "2023-08-02  5.755  5.795  5.620  5.625   5.625000    874325\n",
      "2023-08-03  5.595  5.670  5.565  5.610   5.610000    819897\n",
      "2023-08-04  5.635  5.690  5.560  5.685   5.685000    681980\n",
      "2023-08-07  5.660  5.690  5.640  5.680   5.680000    586342\n",
      "2023-08-08  5.560  5.710  5.560  5.640   5.640000    714445\n",
      "\n",
      "[1573 rows x 6 columns]\n",
      "COL_1\n",
      "[*********************100%***********************]  1 of 1 completed"
     ]
    },
    {
     "name": "stderr",
     "output_type": "stream",
     "text": [
      "\n",
      "1 Failed download:\n",
      "['SGRE.MC']: Exception('%ticker%: No timezone found, symbol may be delisted')\n"
     ]
    },
    {
     "name": "stdout",
     "output_type": "stream",
     "text": [
      "\n",
      "Empty DataFrame\n",
      "Columns: [Open, High, Low, Close, Adj Close, Volume]\n",
      "Index: []\n",
      "SGRE\n",
      "[*********************100%***********************]  1 of 1 completed\n",
      "                 Open       High        Low      Close  Adj Close    Volume\n",
      "Date                                                                       \n",
      "2018-07-02  22.660000  22.990000  22.049999  22.820000  16.146385  11227370\n",
      "2018-07-03  22.340000  22.700001  21.850000  22.320000  16.270308  21698464\n",
      "2018-07-04  22.330000  22.870001  22.299999  22.799999  16.620207   9533162\n",
      "2018-07-05  22.660000  22.930000  22.400000  22.900000  16.693104   2351417\n",
      "2018-07-06  22.600000  23.110001  22.510000  23.110001  16.846188   2437220\n",
      "...               ...        ...        ...        ...        ...       ...\n",
      "2023-08-02  27.240000  27.360001  27.020000  27.080000  26.580000    323762\n",
      "2023-08-03  26.420000  26.500000  26.100000  26.180000  26.180000    364276\n",
      "2023-08-04  26.219999  26.580000  26.120001  26.500000  26.500000    185949\n",
      "2023-08-07  26.420000  26.480000  26.020000  26.420000  26.420000    196023\n",
      "2023-08-08  26.440001  26.639999  26.240000  26.299999  26.299999    204005\n",
      "\n",
      "[1308 rows x 6 columns]\n",
      "NTGY\n",
      "[*********************100%***********************]  1 of 1 completed\n",
      "                 Open       High        Low      Close  Adj Close   Volume\n",
      "Date                                                                      \n",
      "2018-06-18  31.217417  31.377962  30.414682  31.021193  26.397972   520035\n",
      "2018-06-19  30.789291  30.914162  30.432522  30.717937  26.139910   315194\n",
      "2018-06-20  30.878485  30.878485  29.629787  29.790335  25.350554   373626\n",
      "2018-06-21  29.808172  29.879526  28.238382  28.309736  24.090614   900594\n",
      "2018-06-22  28.452444  28.684345  27.239426  27.417810  23.331615   920449\n",
      "...               ...        ...        ...        ...        ...      ...\n",
      "2022-06-13  23.260000  24.120001  22.959999  23.139999  22.068529   461631\n",
      "2022-06-14  23.100000  23.580000  22.820000  23.379999  22.297417   189536\n",
      "2022-06-15  23.100000  23.639999  23.059999  23.200001  22.125753   445552\n",
      "2022-06-16  23.219999  23.219999  22.440001  22.500000  21.458164   225390\n",
      "2022-06-17  22.540001  23.340000  22.500000  23.000000  21.935013  1374103\n",
      "\n",
      "[1025 rows x 6 columns]\n",
      "CIE\n",
      "[*********************100%***********************]  1 of 1 completed\n",
      "             Open   High    Low  Close  Adj Close   Volume\n",
      "Date                                                      \n",
      "2018-12-24  5.120  5.370  5.100  5.370   4.098187   803267\n",
      "2018-12-27  5.570  5.570  5.130  5.190   3.960818  1093306\n",
      "2018-12-28  5.230  5.370  5.205  5.300   4.044765   878189\n",
      "2018-12-31  5.345  5.485  5.310  5.485   4.185951   486696\n",
      "2019-01-02  5.500  5.535  5.320  5.460   4.166872   992858\n",
      "...           ...    ...    ...    ...        ...      ...\n",
      "2020-09-14  2.594  2.594  2.487  2.506   1.958794  1090938\n",
      "2020-09-15  2.493  2.559  2.467  2.542   1.986933  1018127\n",
      "2020-09-16  2.527  2.616  2.520  2.616   2.044775  1014172\n",
      "2020-09-17  2.580  2.634  2.572  2.623   2.050246  1280986\n",
      "2020-09-18  2.606  2.696  2.588  2.588   2.022889  5356703\n",
      "\n",
      "[444 rows x 6 columns]\n",
      "ENC_1\n",
      "[*********************100%***********************]  1 of 1 completed"
     ]
    },
    {
     "name": "stderr",
     "output_type": "stream",
     "text": [
      "\n",
      "1 Failed download:\n",
      "['MAS.MC']: Exception('%ticker%: No timezone found, symbol may be delisted')\n"
     ]
    },
    {
     "name": "stdout",
     "output_type": "stream",
     "text": [
      "\n",
      "Empty DataFrame\n",
      "Columns: [Open, High, Low, Close, Adj Close, Volume]\n",
      "Index: []\n",
      "MAS\n",
      "[*********************100%***********************]  1 of 1 completed\n",
      "              Open    High     Low   Close  Adj Close   Volume\n",
      "Date                                                          \n",
      "2020-06-22  12.450  13.030  12.260  12.430  11.569476  1019510\n",
      "2020-06-23  12.650  12.660  11.930  12.140  11.299554   806198\n",
      "2020-06-24  12.120  12.120  11.820  11.860  11.038937   330493\n",
      "2020-06-25  11.810  11.930  11.660  11.870  11.048245   398269\n",
      "2020-06-26  11.930  12.420  11.930  12.140  11.299554   662478\n",
      "...            ...     ...     ...     ...        ...      ...\n",
      "2022-06-13  10.130  10.130   9.735   9.895   9.691003   415141\n",
      "2022-06-14   9.855   9.985   9.530   9.605   9.406981   476739\n",
      "2022-06-15   9.780   9.795   9.595   9.650   9.451053   570598\n",
      "2022-06-16   9.665   9.670   9.445   9.565   9.367805   351404\n",
      "2022-06-17   9.510   9.820   9.510   9.800   9.597961  1525289\n",
      "\n",
      "[512 rows x 6 columns]\n",
      "ALM\n",
      "[*********************100%***********************]  1 of 1 completed\n",
      "                  Open        High        Low       Close  Adj Close  Volume\n",
      "Date                                                                        \n",
      "2020-09-21  105.500000  105.500000  96.800003   98.599998  95.335770  240371\n",
      "2020-09-22   98.199997  101.699997  97.750000   97.800003  94.562256  145881\n",
      "2020-09-23   99.000000  103.000000  98.550003  102.800003  99.396729  141605\n",
      "2020-09-24  100.099998  101.500000  98.150002   98.949997  95.674171  140876\n",
      "2020-09-25   99.349998  102.400002  97.650002  102.400002  99.009964  121258\n",
      "...                ...         ...        ...         ...        ...     ...\n",
      "2022-12-12   70.000000   70.900002  65.519997   65.800003  64.649033  116003\n",
      "2022-12-13   62.919998   66.279999  62.099998   65.300003  64.157776  173978\n",
      "2022-12-14   65.480003   67.000000  64.580002   66.860001  65.690491   96114\n",
      "2022-12-15   66.199997   67.559998  66.120003   67.199997  66.024536   75115\n",
      "2022-12-16   67.040001   67.879997  64.440002   65.919998  64.766930  292096\n",
      "\n",
      "[577 rows x 6 columns]\n",
      "PHM\n",
      "[*********************100%***********************]  1 of 1 completed\n",
      "                 Open       High        Low      Close  Adj Close   Volume\n",
      "Date                                                                      \n",
      "2020-10-19  17.950001  18.000000  17.030001  17.330000  17.330000  1028229\n",
      "2020-10-20  17.160000  17.660000  17.110001  17.350000  17.350000   712995\n",
      "2020-10-21  17.540001  17.559999  16.730000  16.860001  16.860001   700810\n",
      "2020-10-22  16.670000  16.680000  16.030001  16.299999  16.299999   947993\n",
      "2020-10-23  16.240000  16.330000  15.680000  15.800000  15.800000   904930\n",
      "...               ...        ...        ...        ...        ...      ...\n",
      "2023-08-02  13.760000  13.995000  13.590000  13.590000  13.590000   503678\n",
      "2023-08-03  13.605000  13.705000  13.350000  13.485000  13.485000   325139\n",
      "2023-08-04  13.555000  13.720000  13.405000  13.685000  13.685000   212442\n",
      "2023-08-07  13.720000  13.725000  13.385000  13.430000  13.430000   357917\n",
      "2023-08-08  13.430000  13.570000  13.265000  13.515000  13.515000   340312\n",
      "\n",
      "[720 rows x 6 columns]\n",
      "SLR\n",
      "[*********************100%***********************]  1 of 1 completed\n",
      "                 Open       High        Low      Close  Adj Close  Volume\n",
      "Date                                                                     \n",
      "2021-03-29  23.100000  23.900000  22.850000  23.600000  21.671234  356265\n",
      "2021-03-30  23.900000  24.650000  23.799999  24.650000  22.635418  641259\n",
      "2021-03-31  24.700001  25.150000  24.350000  24.350000  22.359938  393704\n",
      "2021-04-01  24.350000  24.900000  24.350000  24.799999  22.773159  237390\n",
      "2021-04-06  25.100000  25.100000  24.650000  25.049999  23.002726  246782\n",
      "...               ...        ...        ...        ...        ...     ...\n",
      "2023-08-02  19.520000  19.940001  19.520000  19.860001  19.860001  316897\n",
      "2023-08-03  19.760000  19.950001  19.639999  19.920000  19.920000  390061\n",
      "2023-08-04  19.990000  20.600000  19.950001  20.500000  20.500000  526118\n",
      "2023-08-07  20.320000  20.980000  20.260000  20.980000  20.980000  580494\n",
      "2023-08-08  20.780001  21.080000  20.620001  20.879999  20.879999  499845\n",
      "\n",
      "[607 rows x 6 columns]\n",
      "FDR\n",
      "[*********************100%***********************]  1 of 1 completed\n",
      "                 Open       High        Low      Close  Adj Close  Volume\n",
      "Date                                                                     \n",
      "2021-12-20  68.800003  71.699997  67.500000  71.400002  66.982826   98944\n",
      "2021-12-21  72.199997  72.199997  70.400002  70.400002  66.044693   85975\n",
      "2021-12-22  71.400002  73.199997  70.699997  72.199997  67.733330   78253\n",
      "2021-12-23  72.599998  72.699997  71.599998  72.000000  67.545708   63243\n",
      "2021-12-27  72.000000  73.599998  71.599998  72.599998  68.108589   81846\n",
      "...               ...        ...        ...        ...        ...     ...\n",
      "2023-08-02  43.419998  43.900002  43.419998  43.700001  43.700001   86456\n",
      "2023-08-03  43.799999  45.020000  43.700001  44.900002  44.900002  144358\n",
      "2023-08-04  44.880001  46.099998  44.799999  45.919998  45.919998  115456\n",
      "2023-08-07  45.700001  46.240002  45.340000  46.000000  46.000000  104523\n",
      "2023-08-08  46.080002  47.000000  46.080002  46.599998  46.599998   86687\n",
      "\n",
      "[419 rows x 6 columns]\n",
      "ROVI\n",
      "[*********************100%***********************]  1 of 1 completed\n",
      "                 Open       High        Low      Close  Adj Close   Volume\n",
      "Date                                                                      \n",
      "2022-06-13  18.750000  19.120001  18.660000  19.120001  17.280182  2559009\n",
      "2022-06-14  19.110001  19.110001  17.965000  17.965000  16.236320  2088697\n",
      "2022-06-15  18.049999  18.469999  17.500000  18.235001  16.480341  2039300\n",
      "2022-06-16  18.139999  18.639999  18.139999  18.580000  16.792141  2416838\n",
      "2022-06-17  18.500000  18.754999  18.309999  18.615000  16.823774  4358387\n",
      "...               ...        ...        ...        ...        ...      ...\n",
      "2023-08-02  14.980000  15.060000  14.855000  14.855000  14.855000  1878893\n",
      "2023-08-03  14.840000  14.915000  14.695000  14.815000  14.815000  1651341\n",
      "2023-08-04  14.815000  15.030000  14.765000  15.015000  15.015000  1518594\n",
      "2023-08-07  15.000000  15.050000  14.840000  15.040000  15.040000   751471\n",
      "2023-08-08  14.990000  15.165000  14.930000  14.940000  14.940000   893736\n",
      "\n",
      "[298 rows x 6 columns]\n",
      "RED\n",
      "[*********************100%***********************]  1 of 1 completed\n",
      "                 Open       High        Low      Close  Adj Close  Volume\n",
      "Date                                                                     \n",
      "2022-06-20  35.299999  35.660000  35.000000  35.380001  34.613918  180355\n",
      "2022-06-21  35.400002  35.400002  34.560001  34.619999  33.870373  224545\n",
      "2022-06-22  34.279999  34.340000  33.380001  33.740002  33.009430  192730\n",
      "2022-06-23  34.400002  34.459999  33.160000  34.099998  33.361633  169420\n",
      "2022-06-24  35.340000  35.619999  34.459999  35.480000  34.711754  187320\n",
      "...               ...        ...        ...        ...        ...     ...\n",
      "2023-08-02  28.120001  28.219999  27.700001  27.700001  27.700001  264705\n",
      "2023-08-03  27.620001  27.799999  27.260000  27.639999  27.639999  179745\n",
      "2023-08-04  27.660000  27.860001  27.480000  27.740000  27.740000  212329\n",
      "2023-08-07  27.600000  27.780001  27.260000  27.379999  27.379999  165858\n",
      "2023-08-08  27.280001  27.600000  27.219999  27.219999  27.219999  211345\n",
      "\n",
      "[293 rows x 6 columns]\n",
      "ANE\n",
      "[*********************100%***********************]  1 of 1 completed\n",
      "             Open   High    Low  Close  Adj Close    Volume\n",
      "Date                                                       \n",
      "2022-06-20  2.380  2.428  2.378  2.416   2.302570   2314995\n",
      "2022-06-21  2.444  2.460  2.420  2.422   2.308288   2007536\n",
      "2022-06-22  2.420  2.420  2.300  2.360   2.249199   2489375\n",
      "2022-06-23  2.360  2.390  2.336  2.366   2.254917  21920115\n",
      "2022-06-24  2.388  2.402  2.358  2.394   2.281603   1101018\n",
      "...           ...    ...    ...    ...        ...       ...\n",
      "2023-08-02  3.000  3.014  2.964  3.000   3.000000   1755110\n",
      "2023-08-03  2.994  2.998  2.952  2.962   2.962000   1590547\n",
      "2023-08-04  2.990  2.994  2.972  2.978   2.978000   2567092\n",
      "2023-08-07  2.980  2.980  2.948  2.968   2.968000    887777\n",
      "2023-08-08  2.950  2.972  2.924  2.942   2.942000    992239\n",
      "\n",
      "[293 rows x 6 columns]\n",
      "SCYR_1\n",
      "[*********************100%***********************]  1 of 1 completed\n",
      "                 Open       High        Low      Close  Adj Close  Volume\n",
      "Date                                                                     \n",
      "2022-12-19  23.600000  23.639999  23.260000  23.459999  22.568520  170073\n",
      "2022-12-20  23.379999  23.559999  23.299999  23.520000  22.626242  206744\n",
      "2022-12-21  23.540001  23.700001  23.459999  23.660000  22.760920  134922\n",
      "2022-12-22  23.660000  23.820000  23.580000  23.719999  22.818640  128379\n",
      "2022-12-23  23.820000  23.820000  23.540001  23.639999  22.741680  137854\n",
      "...               ...        ...        ...        ...        ...     ...\n",
      "2023-08-02  24.900000  25.000000  24.700001  24.900000  24.900000  107470\n",
      "2023-08-03  24.860001  25.059999  24.780001  24.879999  24.879999   82236\n",
      "2023-08-04  25.040001  25.160000  24.920000  24.940001  24.940001   85272\n",
      "2023-08-07  25.059999  25.080000  24.639999  24.799999  24.799999  139395\n",
      "2023-08-08  24.799999  25.000000  24.639999  24.639999  24.639999  107042\n",
      "\n",
      "[163 rows x 6 columns]\n",
      "LOG\n",
      "[*********************100%***********************]  1 of 1 completed\n",
      "             Open   High    Low  Close  Adj Close     Volume\n",
      "Date                                                        \n",
      "2022-12-27  1.050  1.067  1.040  1.043   0.994336    5291348\n",
      "2022-12-28  1.047  1.067  1.031  1.061   1.011496    6099415\n",
      "2022-12-29  1.063  1.065  1.046  1.058   1.008636    3847673\n",
      "2022-12-30  1.058  1.058  1.028  1.031   0.982896    2820688\n",
      "2023-01-02  1.042  1.057  1.030  1.056   1.006729    2589213\n",
      "...           ...    ...    ...    ...        ...        ...\n",
      "2023-08-02  1.000  1.005  0.982  0.999   0.999000  215305987\n",
      "2023-08-03  1.003  1.016  0.996  1.015   1.015000   16844992\n",
      "2023-08-04  1.024  1.029  1.014  1.023   1.023000   10039243\n",
      "2023-08-07  1.023  1.027  1.010  1.022   1.022000    8730134\n",
      "2023-08-08  1.015  1.020  0.979  0.997   0.997000   14678501\n",
      "\n",
      "[158 rows x 6 columns]\n",
      "UNI\n"
     ]
    }
   ],
   "source": [
    "# REALIZAMOS LA DESCARGA DE LOS DATOS DE YFINANCE Y LOS CARGAMOS EN UN BUCKET DE S3\n",
    "bucket_name = 'stock-market-historical-data'\n",
    "preprocessed_folder = 'preprocessed/yfinance/'\n",
    "s3 = boto3.resource('s3')\n",
    "failed_loads = []\n",
    "\n",
    "for i in range(ibex_constituents.shape[0]):\n",
    "\n",
    "    try:\n",
    "        ticker = ibex_constituents.Ticker[i] + '.MC'\n",
    "        file_name = ibex_constituents.Activo[i] +'.parquet'\n",
    "        start_date = ibex_constituents.Inclusion[i]\n",
    "        end_date = ibex_constituents.Exclusion[i]\n",
    "        full_path = preprocessed_folder + file_name\n",
    "        \n",
    "        stock = yf.download(ticker, start=start_date, end=end_date)\n",
    "        print(stock)\n",
    "        stock = pd.DataFrame(stock)\n",
    "        \n",
    "        table = pa.Table.from_pandas(stock)\n",
    "        buf = BytesIO()\n",
    "        pq.write_table(table, buf)\n",
    "\n",
    "        s3.Object(bucket_name, full_path).put(Body=buf.getvalue())\n",
    "        print(ibex_constituents.Activo[i])\n",
    "    except:\n",
    "        failed_loads.append(ticker)\n",
    "        continue\n",
    "\n"
   ]
  },
  {
   "cell_type": "code",
   "execution_count": 10,
   "metadata": {},
   "outputs": [],
   "source": [
    "preprocessed_folder = 'preprocessed/yfinance/'\n",
    "raw_path = bucket_name + preprocessed_folder\n",
    "objects_dict = s3_client.list_objects_v2(\n",
    "        Bucket=bucket_name,\n",
    "        Prefix ='preprocessed/yfinance')\n",
    "raw_filepaths = [item['Key'] for item in objects_dict['Contents'] if item['Key'].endswith('.parquet')]\n",
    "act_list = [i.split('/')[-1].replace('.parquet','') for i in raw_filepaths]"
   ]
  },
  {
   "cell_type": "code",
   "execution_count": 11,
   "metadata": {},
   "outputs": [],
   "source": [
    "ibex_historical_data = {}\n",
    "processed_folder = 'processed/yfinance/'\n",
    "file_name = 'ibex_historical_data'\n",
    "full_path = processed_folder + file_name"
   ]
  },
  {
   "cell_type": "code",
   "execution_count": 12,
   "metadata": {},
   "outputs": [],
   "source": [
    "def download_s3_parquet_file(s3, bucket, key):\n",
    "    buffer = BytesIO()\n",
    "    s3.Object(bucket, key).download_fileobj(buffer)\n",
    "    return buffer"
   ]
  },
  {
   "cell_type": "code",
   "execution_count": 14,
   "metadata": {},
   "outputs": [],
   "source": [
    "# CARGAMOS EL DATAFRAME CON TODOS LOS DATOS DE CIERRE DE TODOS LOS ACTIVOS DESDE 02/01/1991\n",
    "for i in range(len(raw_filepaths)):\n",
    "    # pf = download_s3_parquet_file(s3, bucket_name, raw_filepaths[i])    \n",
    "    # close_price = pq.read_table(pf).to_pandas()['adj_close']\n",
    "    try:\n",
    "        close_price = pq.read_table(download_s3_parquet_file(s3, bucket_name,raw_filepaths[i])).to_pandas()['Adj Close']\n",
    "        close_price.index = pd.to_datetime(close_price.index).strftime('%Y-%m-%d')\n",
    "        ibex_historical_data[act_list[i]] = close_price\n",
    "    except:\n",
    "        ibex_historical_data[act_list[i]] = np.nan\n",
    "        \n",
    "ibex_historical_data = pd.DataFrame(ibex_historical_data)\n",
    "\n",
    "table = pa.Table.from_pandas(ibex_historical_data)\n",
    "buf = BytesIO()\n",
    "pq.write_table(table, buf)\n",
    "\n",
    "s3.Object(bucket_name, full_path).put(Body=buf.getvalue())"
   ]
  },
  {
   "cell_type": "code",
   "execution_count": 36,
   "metadata": {},
   "outputs": [
    {
     "data": {
      "text/plain": [
       "<BarContainer object of 167 artists>"
      ]
     },
     "execution_count": 36,
     "metadata": {},
     "output_type": "execute_result"
    },
    {
     "data": {
      "image/png": "[encoded data removed]",
      "text/plain": [
       "<Figure size 640x480 with 1 Axes>"
      ]
     },
     "metadata": {},
     "output_type": "display_data"
    }
   ],
   "source": [
    "plt.bar(range(ibex_historical_data.shape[1]),ibex_historical_data.isnull().sum())\n",
    "plt.bar(range(ibex_historical_data.shape[0]),ibex_historical_data.notna().sum(axis=1))"
   ]
  },
  {
   "cell_type": "code",
   "execution_count": 39,
   "metadata": {},
   "outputs": [
    {
     "data": {
      "text/plain": [
       "(Index(['A3TV', 'ABG.P', 'ABG.P_1', 'ABG', 'ACE', 'ACR', 'ACX', 'AGR', 'AGS',\n",
       "        'AGS_1',\n",
       "        ...\n",
       "        'UNF', 'URA', 'URB', 'VAL', 'VAL_1', 'VDR', 'VIS', 'VIS_1', 'ZEL',\n",
       "        'ZOT'],\n",
       "       dtype='object', length=103),\n",
       " 103)"
      ]
     },
     "execution_count": 39,
     "metadata": {},
     "output_type": "execute_result"
    }
   ],
   "source": [
    "failed_loads = ibex_historical_data.columns[ibex_historical_data.isnull().values.all(axis=0)]\n",
    "failed_loads, len(failed_loads)"
   ]
  }
 ],
 "metadata": {
  "kernelspec": {
   "display_name": "Python 3",
   "language": "python",
   "name": "python3"
  },
  "language_info": {
   "codemirror_mode": {
    "name": "ipython",
    "version": 3
   },
   "file_extension": ".py",
   "mimetype": "text/x-python",
   "name": "python",
   "nbconvert_exporter": "python",
   "pygments_lexer": "ipython3",
   "version": "3.10.11"
  },
  "orig_nbformat": 4
 },
 "nbformat": 4,
 "nbformat_minor": 2
}
