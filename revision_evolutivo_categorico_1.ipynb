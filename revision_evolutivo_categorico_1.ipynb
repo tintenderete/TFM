{
  "nbformat": 4,
  "nbformat_minor": 0,
  "metadata": {
    "colab": {
      "provenance": [],
      "gpuType": "V100",
      "authorship_tag": "ABX9TyNSMFODM2AbNbAVPECJ0M5n",
      "include_colab_link": true
    },
    "kernelspec": {
      "name": "python3",
      "display_name": "Python 3"
    },
    "language_info": {
      "name": "python"
    },
    "accelerator": "GPU"
  },
  "cells": [
    {
      "cell_type": "markdown",
      "metadata": {
        "id": "view-in-github",
        "colab_type": "text"
      },
      "source": [
        "<a href=\"https://colab.research.google.com/github/tintenderete/TFM-Algoritmo-con-redes-evolutivas/blob/main/revision_evolutivo_categorico_1.ipynb\" target=\"_parent\"><img src=\"https://colab.research.google.com/assets/colab-badge.svg\" alt=\"Open In Colab\"/></a>"
      ]
    },
    {
      "cell_type": "code",
      "source": [
        "import numpy as np\n",
        "import pandas as pd\n",
        "import matplotlib.pyplot as plt\n",
        "\n",
        "import keras\n",
        "import tensorflow as tf\n",
        "\n",
        "from tensorflow.keras.layers import ConvLSTM1D, Dense, Conv2D, LSTM, GRU, Reshape\n",
        "from tensorflow.keras.layers import ConvLSTM2D, Conv3D, TimeDistributed, Flatten\n",
        "\n",
        "\n",
        "from keras.callbacks import EarlyStopping\n",
        "from tensorflow.keras import initializers\n",
        "\n",
        "from keras.utils import to_categorical"
      ],
      "metadata": {
        "id": "jdHeyNdzRzlq"
      },
      "execution_count": 1,
      "outputs": []
    },
    {
      "cell_type": "code",
      "execution_count": 2,
      "metadata": {
        "id": "QUzNduRP_iHa"
      },
      "outputs": [],
      "source": [
        "\n",
        "# Parámetros\n",
        "num_dias = 100\n",
        "num_periodos = 60\n",
        "num_activos = 5\n",
        "num_canales = 1\n",
        "\n",
        "# Crear datos aleatorios para X\n",
        "X = np.random.uniform(low=-1, high=1, size=(num_dias, num_periodos, num_activos, num_canales))\n",
        "\n",
        "# Aplicar las transformaciones a los activos 1 y 2\n",
        "X[:, :, 0, 0] *= 2  # Multiplicar los precios del canal 1 del activo 1 por 2\n",
        "X[:, :, 1, 0] /= 2  # Dividir los precios del canal 1 del activo 2 entre 2\n",
        "\n",
        "# Crear la etiqueta Y como el cumsum del canal 1\n",
        "Y = np.sum(X[:, :, :, 0], axis=1)\n"
      ]
    },
    {
      "cell_type": "code",
      "source": [
        "X.shape, Y.shape"
      ],
      "metadata": {
        "colab": {
          "base_uri": "https://localhost:8080/"
        },
        "id": "_SLHem_ECCeU",
        "outputId": "c501fc11-c3d5-43b4-d561-b2d23b1abe47"
      },
      "execution_count": 3,
      "outputs": [
        {
          "output_type": "execute_result",
          "data": {
            "text/plain": [
              "((100, 60, 5, 1), (100, 5))"
            ]
          },
          "metadata": {},
          "execution_count": 3
        }
      ]
    },
    {
      "cell_type": "markdown",
      "source": [
        "# Funcion listas"
      ],
      "metadata": {
        "id": "5lw2OjM-HQHy"
      }
    },
    {
      "cell_type": "code",
      "source": [
        "def get_ranking(Y):\n",
        "  Y_ranking = np.zeros_like(Y, dtype=int)\n",
        "\n",
        "  for i in range(Y.shape[0]):\n",
        "      Y_ranking[i] = np.argsort(np.argsort(-Y[i]))\n",
        "\n",
        "  return Y_ranking\n",
        "\n",
        "def get_ranking_tf(Y):\n",
        "  Y_argsort = tf.argsort(Y, direction='DESCENDING')\n",
        "  Y_ranking = tf.argsort(Y_argsort)\n",
        "  return Y_ranking\n"
      ],
      "metadata": {
        "id": "BAYLgJ7cHVwc"
      },
      "execution_count": 4,
      "outputs": []
    },
    {
      "cell_type": "code",
      "source": [
        "Y = get_ranking(Y)"
      ],
      "metadata": {
        "id": "ruM-CP0JQsIo"
      },
      "execution_count": 5,
      "outputs": []
    },
    {
      "cell_type": "code",
      "source": [
        "Y[0:4],get_ranking(Y[0:4])"
      ],
      "metadata": {
        "colab": {
          "base_uri": "https://localhost:8080/"
        },
        "id": "41nN9kzSHjkQ",
        "outputId": "3d64ba54-792e-4269-b79d-959282c6560a"
      },
      "execution_count": 6,
      "outputs": [
        {
          "output_type": "execute_result",
          "data": {
            "text/plain": [
              "(array([[0, 1, 3, 4, 2],\n",
              "        [4, 1, 2, 0, 3],\n",
              "        [4, 0, 3, 1, 2],\n",
              "        [3, 1, 4, 0, 2]]),\n",
              " array([[4, 3, 1, 0, 2],\n",
              "        [0, 3, 2, 4, 1],\n",
              "        [0, 4, 1, 3, 2],\n",
              "        [1, 3, 0, 4, 2]]))"
            ]
          },
          "metadata": {},
          "execution_count": 6
        }
      ]
    },
    {
      "cell_type": "code",
      "source": [
        "Y[0:4]"
      ],
      "metadata": {
        "colab": {
          "base_uri": "https://localhost:8080/"
        },
        "id": "7FOXuyZAQxNj",
        "outputId": "36ff44e6-3b5d-4a4e-b421-e9322c2be808"
      },
      "execution_count": 7,
      "outputs": [
        {
          "output_type": "execute_result",
          "data": {
            "text/plain": [
              "array([[0, 1, 3, 4, 2],\n",
              "       [4, 1, 2, 0, 3],\n",
              "       [4, 0, 3, 1, 2],\n",
              "       [3, 1, 4, 0, 2]])"
            ]
          },
          "metadata": {},
          "execution_count": 7
        }
      ]
    },
    {
      "cell_type": "code",
      "source": [
        "get_ranking(Y)"
      ],
      "metadata": {
        "colab": {
          "base_uri": "https://localhost:8080/"
        },
        "id": "RRGFnC6iokgZ",
        "outputId": "824d9dc5-73c2-407c-b825-c5d524b0473a"
      },
      "execution_count": 8,
      "outputs": [
        {
          "output_type": "execute_result",
          "data": {
            "text/plain": [
              "array([[4, 3, 1, 0, 2],\n",
              "       [0, 3, 2, 4, 1],\n",
              "       [0, 4, 1, 3, 2],\n",
              "       [1, 3, 0, 4, 2],\n",
              "       [0, 2, 3, 1, 4],\n",
              "       [0, 2, 4, 1, 3],\n",
              "       [4, 2, 1, 3, 0],\n",
              "       [1, 2, 3, 4, 0],\n",
              "       [1, 2, 4, 0, 3],\n",
              "       [4, 0, 1, 2, 3],\n",
              "       [0, 2, 4, 1, 3],\n",
              "       [4, 2, 1, 3, 0],\n",
              "       [0, 1, 2, 4, 3],\n",
              "       [4, 1, 3, 2, 0],\n",
              "       [4, 3, 0, 2, 1],\n",
              "       [0, 2, 3, 4, 1],\n",
              "       [4, 2, 0, 3, 1],\n",
              "       [2, 3, 4, 0, 1],\n",
              "       [0, 1, 4, 3, 2],\n",
              "       [1, 3, 0, 4, 2],\n",
              "       [4, 1, 0, 2, 3],\n",
              "       [4, 2, 0, 3, 1],\n",
              "       [0, 3, 2, 1, 4],\n",
              "       [4, 0, 3, 1, 2],\n",
              "       [0, 2, 3, 1, 4],\n",
              "       [1, 2, 0, 4, 3],\n",
              "       [4, 2, 1, 3, 0],\n",
              "       [0, 3, 4, 1, 2],\n",
              "       [2, 1, 3, 4, 0],\n",
              "       [2, 0, 1, 4, 3],\n",
              "       [0, 2, 4, 3, 1],\n",
              "       [0, 1, 2, 4, 3],\n",
              "       [0, 2, 1, 3, 4],\n",
              "       [0, 1, 2, 4, 3],\n",
              "       [4, 1, 3, 0, 2],\n",
              "       [0, 1, 3, 4, 2],\n",
              "       [3, 2, 1, 0, 4],\n",
              "       [4, 2, 3, 1, 0],\n",
              "       [0, 2, 1, 4, 3],\n",
              "       [3, 1, 2, 0, 4],\n",
              "       [4, 3, 2, 0, 1],\n",
              "       [2, 1, 3, 4, 0],\n",
              "       [3, 1, 0, 4, 2],\n",
              "       [0, 1, 3, 4, 2],\n",
              "       [4, 1, 0, 3, 2],\n",
              "       [2, 0, 1, 3, 4],\n",
              "       [0, 3, 1, 4, 2],\n",
              "       [0, 3, 1, 2, 4],\n",
              "       [4, 2, 1, 0, 3],\n",
              "       [2, 3, 0, 1, 4],\n",
              "       [0, 1, 3, 4, 2],\n",
              "       [4, 2, 0, 3, 1],\n",
              "       [0, 3, 4, 2, 1],\n",
              "       [4, 2, 0, 1, 3],\n",
              "       [4, 1, 3, 2, 0],\n",
              "       [0, 2, 4, 1, 3],\n",
              "       [3, 2, 1, 0, 4],\n",
              "       [0, 3, 4, 2, 1],\n",
              "       [4, 2, 3, 0, 1],\n",
              "       [3, 2, 1, 4, 0],\n",
              "       [4, 1, 3, 2, 0],\n",
              "       [0, 2, 1, 4, 3],\n",
              "       [1, 2, 0, 3, 4],\n",
              "       [0, 4, 3, 2, 1],\n",
              "       [0, 1, 2, 3, 4],\n",
              "       [4, 2, 1, 3, 0],\n",
              "       [4, 1, 3, 2, 0],\n",
              "       [0, 3, 4, 2, 1],\n",
              "       [4, 1, 2, 0, 3],\n",
              "       [0, 3, 4, 1, 2],\n",
              "       [4, 1, 3, 2, 0],\n",
              "       [4, 3, 1, 0, 2],\n",
              "       [4, 3, 1, 2, 0],\n",
              "       [4, 2, 1, 0, 3],\n",
              "       [0, 3, 1, 4, 2],\n",
              "       [2, 1, 0, 4, 3],\n",
              "       [0, 3, 4, 2, 1],\n",
              "       [4, 1, 3, 2, 0],\n",
              "       [0, 2, 1, 3, 4],\n",
              "       [4, 2, 0, 3, 1],\n",
              "       [0, 3, 1, 4, 2],\n",
              "       [0, 3, 4, 2, 1],\n",
              "       [4, 0, 3, 2, 1],\n",
              "       [4, 3, 2, 1, 0],\n",
              "       [0, 1, 4, 3, 2],\n",
              "       [4, 2, 1, 3, 0],\n",
              "       [1, 0, 2, 3, 4],\n",
              "       [4, 0, 2, 3, 1],\n",
              "       [4, 2, 1, 3, 0],\n",
              "       [4, 1, 2, 0, 3],\n",
              "       [2, 4, 0, 3, 1],\n",
              "       [4, 1, 0, 2, 3],\n",
              "       [4, 0, 2, 3, 1],\n",
              "       [4, 2, 0, 1, 3],\n",
              "       [0, 1, 2, 3, 4],\n",
              "       [1, 3, 0, 2, 4],\n",
              "       [4, 2, 1, 0, 3],\n",
              "       [0, 3, 2, 1, 4],\n",
              "       [4, 2, 0, 3, 1],\n",
              "       [4, 3, 2, 1, 0]])"
            ]
          },
          "metadata": {},
          "execution_count": 8
        }
      ]
    },
    {
      "cell_type": "code",
      "source": [
        "get_ranking_tf(Y)"
      ],
      "metadata": {
        "colab": {
          "base_uri": "https://localhost:8080/"
        },
        "id": "KG6JeMgGomzv",
        "outputId": "b69296a4-8302-4519-e88b-1d02da2d7802"
      },
      "execution_count": 9,
      "outputs": [
        {
          "output_type": "execute_result",
          "data": {
            "text/plain": [
              "<tf.Tensor: shape=(100, 5), dtype=int32, numpy=\n",
              "array([[4, 3, 1, 0, 2],\n",
              "       [0, 3, 2, 4, 1],\n",
              "       [0, 4, 1, 3, 2],\n",
              "       [1, 3, 0, 4, 2],\n",
              "       [0, 2, 3, 1, 4],\n",
              "       [0, 2, 4, 1, 3],\n",
              "       [4, 2, 1, 3, 0],\n",
              "       [1, 2, 3, 4, 0],\n",
              "       [1, 2, 4, 0, 3],\n",
              "       [4, 0, 1, 2, 3],\n",
              "       [0, 2, 4, 1, 3],\n",
              "       [4, 2, 1, 3, 0],\n",
              "       [0, 1, 2, 4, 3],\n",
              "       [4, 1, 3, 2, 0],\n",
              "       [4, 3, 0, 2, 1],\n",
              "       [0, 2, 3, 4, 1],\n",
              "       [4, 2, 0, 3, 1],\n",
              "       [2, 3, 4, 0, 1],\n",
              "       [0, 1, 4, 3, 2],\n",
              "       [1, 3, 0, 4, 2],\n",
              "       [4, 1, 0, 2, 3],\n",
              "       [4, 2, 0, 3, 1],\n",
              "       [0, 3, 2, 1, 4],\n",
              "       [4, 0, 3, 1, 2],\n",
              "       [0, 2, 3, 1, 4],\n",
              "       [1, 2, 0, 4, 3],\n",
              "       [4, 2, 1, 3, 0],\n",
              "       [0, 3, 4, 1, 2],\n",
              "       [2, 1, 3, 4, 0],\n",
              "       [2, 0, 1, 4, 3],\n",
              "       [0, 2, 4, 3, 1],\n",
              "       [0, 1, 2, 4, 3],\n",
              "       [0, 2, 1, 3, 4],\n",
              "       [0, 1, 2, 4, 3],\n",
              "       [4, 1, 3, 0, 2],\n",
              "       [0, 1, 3, 4, 2],\n",
              "       [3, 2, 1, 0, 4],\n",
              "       [4, 2, 3, 1, 0],\n",
              "       [0, 2, 1, 4, 3],\n",
              "       [3, 1, 2, 0, 4],\n",
              "       [4, 3, 2, 0, 1],\n",
              "       [2, 1, 3, 4, 0],\n",
              "       [3, 1, 0, 4, 2],\n",
              "       [0, 1, 3, 4, 2],\n",
              "       [4, 1, 0, 3, 2],\n",
              "       [2, 0, 1, 3, 4],\n",
              "       [0, 3, 1, 4, 2],\n",
              "       [0, 3, 1, 2, 4],\n",
              "       [4, 2, 1, 0, 3],\n",
              "       [2, 3, 0, 1, 4],\n",
              "       [0, 1, 3, 4, 2],\n",
              "       [4, 2, 0, 3, 1],\n",
              "       [0, 3, 4, 2, 1],\n",
              "       [4, 2, 0, 1, 3],\n",
              "       [4, 1, 3, 2, 0],\n",
              "       [0, 2, 4, 1, 3],\n",
              "       [3, 2, 1, 0, 4],\n",
              "       [0, 3, 4, 2, 1],\n",
              "       [4, 2, 3, 0, 1],\n",
              "       [3, 2, 1, 4, 0],\n",
              "       [4, 1, 3, 2, 0],\n",
              "       [0, 2, 1, 4, 3],\n",
              "       [1, 2, 0, 3, 4],\n",
              "       [0, 4, 3, 2, 1],\n",
              "       [0, 1, 2, 3, 4],\n",
              "       [4, 2, 1, 3, 0],\n",
              "       [4, 1, 3, 2, 0],\n",
              "       [0, 3, 4, 2, 1],\n",
              "       [4, 1, 2, 0, 3],\n",
              "       [0, 3, 4, 1, 2],\n",
              "       [4, 1, 3, 2, 0],\n",
              "       [4, 3, 1, 0, 2],\n",
              "       [4, 3, 1, 2, 0],\n",
              "       [4, 2, 1, 0, 3],\n",
              "       [0, 3, 1, 4, 2],\n",
              "       [2, 1, 0, 4, 3],\n",
              "       [0, 3, 4, 2, 1],\n",
              "       [4, 1, 3, 2, 0],\n",
              "       [0, 2, 1, 3, 4],\n",
              "       [4, 2, 0, 3, 1],\n",
              "       [0, 3, 1, 4, 2],\n",
              "       [0, 3, 4, 2, 1],\n",
              "       [4, 0, 3, 2, 1],\n",
              "       [4, 3, 2, 1, 0],\n",
              "       [0, 1, 4, 3, 2],\n",
              "       [4, 2, 1, 3, 0],\n",
              "       [1, 0, 2, 3, 4],\n",
              "       [4, 0, 2, 3, 1],\n",
              "       [4, 2, 1, 3, 0],\n",
              "       [4, 1, 2, 0, 3],\n",
              "       [2, 4, 0, 3, 1],\n",
              "       [4, 1, 0, 2, 3],\n",
              "       [4, 0, 2, 3, 1],\n",
              "       [4, 2, 0, 1, 3],\n",
              "       [0, 1, 2, 3, 4],\n",
              "       [1, 3, 0, 2, 4],\n",
              "       [4, 2, 1, 0, 3],\n",
              "       [0, 3, 2, 1, 4],\n",
              "       [4, 2, 0, 3, 1],\n",
              "       [4, 3, 2, 1, 0]], dtype=int32)>"
            ]
          },
          "metadata": {},
          "execution_count": 9
        }
      ]
    },
    {
      "cell_type": "markdown",
      "source": [
        "# CATEGORICO"
      ],
      "metadata": {
        "id": "8MLpUnOFSn0Q"
      }
    },
    {
      "cell_type": "code",
      "source": [
        "Y[0]"
      ],
      "metadata": {
        "colab": {
          "base_uri": "https://localhost:8080/"
        },
        "id": "wIwCgPvxSxOy",
        "outputId": "20527b38-9fa8-4d65-e50a-304be77f6726"
      },
      "execution_count": 10,
      "outputs": [
        {
          "output_type": "execute_result",
          "data": {
            "text/plain": [
              "array([0, 1, 3, 4, 2])"
            ]
          },
          "metadata": {},
          "execution_count": 10
        }
      ]
    },
    {
      "cell_type": "code",
      "source": [
        "Y_categorical = to_categorical(Y)"
      ],
      "metadata": {
        "id": "hxWOEtKmSpoA"
      },
      "execution_count": 11,
      "outputs": []
    },
    {
      "cell_type": "code",
      "source": [
        "Y_categorical[0]"
      ],
      "metadata": {
        "colab": {
          "base_uri": "https://localhost:8080/"
        },
        "id": "7UtRycsBS1bI",
        "outputId": "55e90ea7-99c9-452b-fde4-d436ac752a6f"
      },
      "execution_count": 12,
      "outputs": [
        {
          "output_type": "execute_result",
          "data": {
            "text/plain": [
              "array([[1., 0., 0., 0., 0.],\n",
              "       [0., 1., 0., 0., 0.],\n",
              "       [0., 0., 0., 1., 0.],\n",
              "       [0., 0., 0., 0., 1.],\n",
              "       [0., 0., 1., 0., 0.]], dtype=float32)"
            ]
          },
          "metadata": {},
          "execution_count": 12
        }
      ]
    },
    {
      "cell_type": "code",
      "source": [
        "Y_categorical.shape"
      ],
      "metadata": {
        "colab": {
          "base_uri": "https://localhost:8080/"
        },
        "id": "sTX5yllTS-7a",
        "outputId": "53cfa922-cc20-4062-f04a-3d85dc0a06f5"
      },
      "execution_count": 13,
      "outputs": [
        {
          "output_type": "execute_result",
          "data": {
            "text/plain": [
              "(100, 5, 5)"
            ]
          },
          "metadata": {},
          "execution_count": 13
        }
      ]
    },
    {
      "cell_type": "code",
      "source": [
        "Y = Y_categorical"
      ],
      "metadata": {
        "id": "sCgsR1qFTCCD"
      },
      "execution_count": 14,
      "outputs": []
    },
    {
      "cell_type": "code",
      "source": [
        "Y[0]"
      ],
      "metadata": {
        "colab": {
          "base_uri": "https://localhost:8080/"
        },
        "id": "AUYmNCaJTNm4",
        "outputId": "c7a4bf86-8258-4cb1-eaa5-fe527646973e"
      },
      "execution_count": 15,
      "outputs": [
        {
          "output_type": "execute_result",
          "data": {
            "text/plain": [
              "array([[1., 0., 0., 0., 0.],\n",
              "       [0., 1., 0., 0., 0.],\n",
              "       [0., 0., 0., 1., 0.],\n",
              "       [0., 0., 0., 0., 1.],\n",
              "       [0., 0., 1., 0., 0.]], dtype=float32)"
            ]
          },
          "metadata": {},
          "execution_count": 15
        }
      ]
    },
    {
      "cell_type": "markdown",
      "source": [
        "# GeneticAlgorithm"
      ],
      "metadata": {
        "id": "JoLip2tGJHLZ"
      }
    },
    {
      "cell_type": "code",
      "source": [
        "class GeneticAlgorithm:\n",
        "    def __init__(self,\n",
        "                 initial_population,\n",
        "                 fitness_function,\n",
        "                 selection_function,\n",
        "                 crossover_function,\n",
        "                 mutation_function,\n",
        "                 immigration_function,\n",
        "                 n_generations,\n",
        "                 n_save_best_population):\n",
        "        self.population = initial_population\n",
        "        self.fitness_function = fitness_function\n",
        "        self.selection_function = selection_function\n",
        "        self.crossover_function = crossover_function\n",
        "        self.mutation_function = mutation_function\n",
        "        self.immigration_function = immigration_function\n",
        "        self.n_generations = n_generations\n",
        "        self.n_save_best_population = n_save_best_population\n",
        "\n",
        "    def run(self):\n",
        "        for i in range(self.n_generations):\n",
        "            fitness = self.fitness_function(self.population)\n",
        "            best_population = self._get_best_population(self.population,  fitness)\n",
        "            parents = self.selection_function(self.population, fitness)\n",
        "            offspring = self.crossover_function(parents)\n",
        "            offspring = self.mutation_function(offspring)\n",
        "            self.population = np.concatenate((parents, offspring))\n",
        "\n",
        "            immigration = self.immigration_function()\n",
        "            self.population = np.concatenate((self.population, immigration))\n",
        "\n",
        "            if(len(best_population)>0):\n",
        "              self.population = np.concatenate((self.population, best_population))\n",
        "\n",
        "\n",
        "            # STATS\n",
        "\n",
        "            print(\"GENERATION: \" + str(i))\n",
        "            print(\"Fitness: \")\n",
        "            print(fitness)\n",
        "\n",
        "        # Devuelve la mejor solución encontrada\n",
        "        fitness = self.fitness_function(self.population)\n",
        "        best_idx = np.argmax(fitness)\n",
        "        return self.population[best_idx]\n",
        "\n",
        "    def _get_best_population(self,population,  fitness):\n",
        "      idx_best_pop = np.argsort(fitness)[::1][:self.n_save_best_population]\n",
        "\n",
        "      return np.array(population)[idx_best_pop]\n"
      ],
      "metadata": {
        "id": "wyzyGpwXG-hb"
      },
      "execution_count": 16,
      "outputs": []
    },
    {
      "cell_type": "code",
      "source": [
        "pop = [[1,1],[2,2],[10,10],[11,11],[20,20],[30,30],[40,40] ]\n",
        "fitness = np.array([1,2,10,11, 20,0,40])"
      ],
      "metadata": {
        "id": "txDGJnuxu7Ni"
      },
      "execution_count": 17,
      "outputs": []
    },
    {
      "cell_type": "code",
      "source": [
        "geneticAlgorithm = GeneticAlgorithm(1,2,3,4,5,6,7,n_save_best_population = 3)"
      ],
      "metadata": {
        "id": "z1by3eqqwnct"
      },
      "execution_count": 18,
      "outputs": []
    },
    {
      "cell_type": "code",
      "source": [
        "geneticAlgorithm._get_best_population(pop,fitness)"
      ],
      "metadata": {
        "colab": {
          "base_uri": "https://localhost:8080/"
        },
        "id": "8kBPeu8Gw1Oq",
        "outputId": "4ee86519-b9a8-4c19-d412-10e33e287a87"
      },
      "execution_count": 19,
      "outputs": [
        {
          "output_type": "execute_result",
          "data": {
            "text/plain": [
              "array([[30, 30],\n",
              "       [ 1,  1],\n",
              "       [ 2,  2]])"
            ]
          },
          "metadata": {},
          "execution_count": 19
        }
      ]
    },
    {
      "cell_type": "markdown",
      "source": [
        "# cost function"
      ],
      "metadata": {
        "id": "9HDcg5ktMKC3"
      }
    },
    {
      "cell_type": "code",
      "source": [
        "# TIENE ERRORES QUE FIXEAR\n",
        "def loss_ranking(ranking_real, ranking_predicho):\n",
        "\n",
        "    ranking_real_float = tf.cast(ranking_real, tf.float32)\n",
        "    ranking_predicho = get_ranking_tf(-ranking_predicho) # <<<<---------\n",
        "    ranking_predicho = tf.cast(ranking_predicho, tf.float32)\n",
        "    diferencias = tf.abs(ranking_real_float - ranking_predicho)\n",
        "    diferencias_ponderadas = diferencias / (ranking_predicho + 0.01) # <<<<---------\n",
        "    perdida_total = tf.reduce_sum(diferencias_ponderadas)\n",
        "    return abs(perdida_total)"
      ],
      "metadata": {
        "id": "eTw-cpQ-ghfJ"
      },
      "execution_count": 20,
      "outputs": []
    },
    {
      "cell_type": "code",
      "source": [
        "def loss_ranking(y_true, y_pred, weights = 1):\n",
        "    y_true = tf.cast(y_true, tf.float32)\n",
        "    y_pred = tf.cast(y_pred, tf.float32)\n",
        "    diff = tf.abs(y_true - y_pred)\n",
        "    loss = tf.reduce_mean(weights * diff)\n",
        "    return loss\n"
      ],
      "metadata": {
        "id": "UFBxrfMSbNE1"
      },
      "execution_count": 21,
      "outputs": []
    },
    {
      "cell_type": "code",
      "source": [
        "def loss_ranking(ranking_real, ranking_predicho):\n",
        "    ranking_real_float = tf.cast(ranking_real, tf.float32)\n",
        "    ranking_predicho = tf.cast(ranking_predicho, tf.float32)\n",
        "    diferencias = tf.abs(ranking_real_float - ranking_predicho)\n",
        "    diferencias_ponderadas = diferencias / (ranking_predicho + 0.01) # <<<<---------\n",
        "    perdida_total = tf.reduce_sum(diferencias_ponderadas)\n",
        "    return perdida_total"
      ],
      "metadata": {
        "id": "QXyL5T6Cw4x5"
      },
      "execution_count": 22,
      "outputs": []
    },
    {
      "cell_type": "code",
      "source": [
        "def loss_ranking(ranking_real, ranking_predicho):\n",
        "    ranking_real_float = tf.cast(ranking_real, tf.float32)\n",
        "    ranking_predicho = tf.cast(ranking_predicho, tf.float32)\n",
        "    diferencias = tf.abs(ranking_real_float - ranking_predicho)\n",
        "    diferencias_ponderadas = diferencias / (ranking_predicho + 0.01) # <<<<---------\n",
        "    perdida_total = tf.reduce_sum(diferencias_ponderadas)\n",
        "    return abs(perdida_total)"
      ],
      "metadata": {
        "id": "s07WAm53MLkZ"
      },
      "execution_count": 23,
      "outputs": []
    },
    {
      "cell_type": "code",
      "source": [
        "ranking_real = np.array([0,1,2])\n",
        "ranking_predicho = np.array([1,2,0])"
      ],
      "metadata": {
        "id": "PPPSEia3p-u6"
      },
      "execution_count": 24,
      "outputs": []
    },
    {
      "cell_type": "code",
      "source": [
        "ranking_real_float = tf.cast(ranking_real, tf.float32)\n",
        "ranking_real_float"
      ],
      "metadata": {
        "colab": {
          "base_uri": "https://localhost:8080/"
        },
        "id": "um0_QylQqEus",
        "outputId": "a7580969-4a7a-4f40-ec6d-73d0a4771d31"
      },
      "execution_count": 25,
      "outputs": [
        {
          "output_type": "execute_result",
          "data": {
            "text/plain": [
              "<tf.Tensor: shape=(3,), dtype=float32, numpy=array([0., 1., 2.], dtype=float32)>"
            ]
          },
          "metadata": {},
          "execution_count": 25
        }
      ]
    },
    {
      "cell_type": "code",
      "source": [
        "ranking_predicho = get_ranking_tf(-ranking_predicho)\n",
        "ranking_predicho"
      ],
      "metadata": {
        "colab": {
          "base_uri": "https://localhost:8080/"
        },
        "id": "dxHNMSnjqLA6",
        "outputId": "45297025-d71c-4c8a-c8ff-0bc455d0211a"
      },
      "execution_count": 26,
      "outputs": [
        {
          "output_type": "execute_result",
          "data": {
            "text/plain": [
              "<tf.Tensor: shape=(3,), dtype=int32, numpy=array([1, 2, 0], dtype=int32)>"
            ]
          },
          "metadata": {},
          "execution_count": 26
        }
      ]
    },
    {
      "cell_type": "code",
      "source": [
        "ranking_predicho = tf.cast(ranking_predicho, tf.float32)\n",
        "ranking_predicho"
      ],
      "metadata": {
        "colab": {
          "base_uri": "https://localhost:8080/"
        },
        "id": "r_Gk8dylqQe0",
        "outputId": "a3b041ff-cc01-44c5-d382-afbcd6ff898c"
      },
      "execution_count": 27,
      "outputs": [
        {
          "output_type": "execute_result",
          "data": {
            "text/plain": [
              "<tf.Tensor: shape=(3,), dtype=float32, numpy=array([1., 2., 0.], dtype=float32)>"
            ]
          },
          "metadata": {},
          "execution_count": 27
        }
      ]
    },
    {
      "cell_type": "code",
      "source": [
        "diferencias = tf.abs(ranking_real_float - ranking_predicho)\n",
        "diferencias"
      ],
      "metadata": {
        "colab": {
          "base_uri": "https://localhost:8080/"
        },
        "id": "i9fC3SRDqTaA",
        "outputId": "cc00faf0-3b24-488e-c2f6-40a686951ad9"
      },
      "execution_count": 28,
      "outputs": [
        {
          "output_type": "execute_result",
          "data": {
            "text/plain": [
              "<tf.Tensor: shape=(3,), dtype=float32, numpy=array([1., 1., 2.], dtype=float32)>"
            ]
          },
          "metadata": {},
          "execution_count": 28
        }
      ]
    },
    {
      "cell_type": "code",
      "source": [
        "ranking_predicho + 0.01"
      ],
      "metadata": {
        "colab": {
          "base_uri": "https://localhost:8080/"
        },
        "id": "umTHG63Lq1-I",
        "outputId": "56679f04-b50b-4c30-9f24-7d5fbf6338fa"
      },
      "execution_count": 29,
      "outputs": [
        {
          "output_type": "execute_result",
          "data": {
            "text/plain": [
              "<tf.Tensor: shape=(3,), dtype=float32, numpy=array([1.01, 2.01, 0.01], dtype=float32)>"
            ]
          },
          "metadata": {},
          "execution_count": 29
        }
      ]
    },
    {
      "cell_type": "code",
      "source": [
        "diferencias_ponderadas = diferencias / (ranking_predicho + 0.01)\n",
        "diferencias_ponderadas"
      ],
      "metadata": {
        "colab": {
          "base_uri": "https://localhost:8080/"
        },
        "id": "O7ekrYRYqX5a",
        "outputId": "8813179f-7079-41ed-c3cc-723209cb08ea"
      },
      "execution_count": 30,
      "outputs": [
        {
          "output_type": "execute_result",
          "data": {
            "text/plain": [
              "<tf.Tensor: shape=(3,), dtype=float32, numpy=array([  0.990099  ,   0.49751243, 200.        ], dtype=float32)>"
            ]
          },
          "metadata": {},
          "execution_count": 30
        }
      ]
    },
    {
      "cell_type": "code",
      "source": [
        "perdida_total = tf.reduce_sum(diferencias_ponderadas)\n",
        "perdida_total"
      ],
      "metadata": {
        "colab": {
          "base_uri": "https://localhost:8080/"
        },
        "id": "GkQyGAQZqeN7",
        "outputId": "032e08e3-a649-41da-8e71-fbb94b1ecb86"
      },
      "execution_count": 31,
      "outputs": [
        {
          "output_type": "execute_result",
          "data": {
            "text/plain": [
              "<tf.Tensor: shape=(), dtype=float32, numpy=201.48761>"
            ]
          },
          "metadata": {},
          "execution_count": 31
        }
      ]
    },
    {
      "cell_type": "code",
      "source": [
        "loss_ranking(np.array([0,1,2]), np.array([0,1,2]))"
      ],
      "metadata": {
        "colab": {
          "base_uri": "https://localhost:8080/"
        },
        "id": "oDPLD2QBpPeC",
        "outputId": "43adda66-d150-4a95-c9f8-27919593f059"
      },
      "execution_count": 32,
      "outputs": [
        {
          "output_type": "execute_result",
          "data": {
            "text/plain": [
              "<tf.Tensor: shape=(), dtype=float32, numpy=0.0>"
            ]
          },
          "metadata": {},
          "execution_count": 32
        }
      ]
    },
    {
      "cell_type": "code",
      "source": [
        "loss_ranking(np.array([0,1,2]), np.array([3,1,2]))"
      ],
      "metadata": {
        "colab": {
          "base_uri": "https://localhost:8080/"
        },
        "id": "r25ly0k7p2P7",
        "outputId": "1d57127a-b3ed-4b37-fb34-a7f820590708"
      },
      "execution_count": 33,
      "outputs": [
        {
          "output_type": "execute_result",
          "data": {
            "text/plain": [
              "<tf.Tensor: shape=(), dtype=float32, numpy=0.99667776>"
            ]
          },
          "metadata": {},
          "execution_count": 33
        }
      ]
    },
    {
      "cell_type": "code",
      "source": [
        "loss_ranking(np.array([1,2,3]), np.array([1,2,3]))"
      ],
      "metadata": {
        "colab": {
          "base_uri": "https://localhost:8080/"
        },
        "id": "Wn6aw1HHoP1x",
        "outputId": "9caa3f23-a930-4834-8e8c-456b0e043639"
      },
      "execution_count": 34,
      "outputs": [
        {
          "output_type": "execute_result",
          "data": {
            "text/plain": [
              "<tf.Tensor: shape=(), dtype=float32, numpy=0.0>"
            ]
          },
          "metadata": {},
          "execution_count": 34
        }
      ]
    },
    {
      "cell_type": "code",
      "source": [
        "loss_ranking(np.array([1,2,3]), np.array([1,2,3]))"
      ],
      "metadata": {
        "colab": {
          "base_uri": "https://localhost:8080/"
        },
        "id": "xpX6UIOEMOQB",
        "outputId": "700c4baf-b6c5-43ae-9d8c-d43e6840c554"
      },
      "execution_count": 35,
      "outputs": [
        {
          "output_type": "execute_result",
          "data": {
            "text/plain": [
              "<tf.Tensor: shape=(), dtype=float32, numpy=0.0>"
            ]
          },
          "metadata": {},
          "execution_count": 35
        }
      ]
    },
    {
      "cell_type": "code",
      "source": [
        "loss_ranking(np.array([1,2,3]), np.array([8,2,3]))"
      ],
      "metadata": {
        "colab": {
          "base_uri": "https://localhost:8080/"
        },
        "id": "p8_pra2KMb2O",
        "outputId": "3d855551-8f97-4be5-ce5a-26eb40f2116b"
      },
      "execution_count": 36,
      "outputs": [
        {
          "output_type": "execute_result",
          "data": {
            "text/plain": [
              "<tf.Tensor: shape=(), dtype=float32, numpy=0.87390757>"
            ]
          },
          "metadata": {},
          "execution_count": 36
        }
      ]
    },
    {
      "cell_type": "code",
      "source": [
        "loss_ranking(np.array([1,2,3]), np.array([1,2,3+5]))"
      ],
      "metadata": {
        "colab": {
          "base_uri": "https://localhost:8080/"
        },
        "id": "B_Nwc9SnMdl4",
        "outputId": "32e646cb-aed6-477a-e854-933cf0b29ce9"
      },
      "execution_count": 37,
      "outputs": [
        {
          "output_type": "execute_result",
          "data": {
            "text/plain": [
              "<tf.Tensor: shape=(), dtype=float32, numpy=0.6242197>"
            ]
          },
          "metadata": {},
          "execution_count": 37
        }
      ]
    },
    {
      "cell_type": "code",
      "source": [
        "loss_ranking(np.array([1,2,3]), np.array([1,2,3-5]))"
      ],
      "metadata": {
        "colab": {
          "base_uri": "https://localhost:8080/"
        },
        "id": "PaPqQbe5Yjv9",
        "outputId": "ae67229b-e957-4680-e646-24fe354148ac"
      },
      "execution_count": 38,
      "outputs": [
        {
          "output_type": "execute_result",
          "data": {
            "text/plain": [
              "<tf.Tensor: shape=(), dtype=float32, numpy=2.5125628>"
            ]
          },
          "metadata": {},
          "execution_count": 38
        }
      ]
    },
    {
      "cell_type": "code",
      "source": [
        "loss_ranking(np.array([1,2,3]), np.array([5,2,-8]))"
      ],
      "metadata": {
        "colab": {
          "base_uri": "https://localhost:8080/"
        },
        "id": "7Izw6BfHNuLt",
        "outputId": "d1935117-7256-47bd-efe1-6b786f81a08a"
      },
      "execution_count": 39,
      "outputs": [
        {
          "output_type": "execute_result",
          "data": {
            "text/plain": [
              "<tf.Tensor: shape=(), dtype=float32, numpy=0.57831776>"
            ]
          },
          "metadata": {},
          "execution_count": 39
        }
      ]
    },
    {
      "cell_type": "markdown",
      "source": [
        "## softmax_by_asset"
      ],
      "metadata": {
        "id": "VVYXb8laXceD"
      }
    },
    {
      "cell_type": "code",
      "source": [
        "import tensorflow as tf\n",
        "from keras import backend as K\n",
        "\n",
        "def softmax_by_asset(x):\n",
        "    e = K.exp(x - K.max(x, axis=-1, keepdims=True))\n",
        "    s = K.sum(e, axis=-1, keepdims=True)\n",
        "    return e / s"
      ],
      "metadata": {
        "id": "i3K7HDylXeZq"
      },
      "execution_count": 40,
      "outputs": []
    },
    {
      "cell_type": "markdown",
      "source": [
        "# REVISAR AQUI , ESTA BIEN ORDENADO PERO ESTA FUNCIONDE COSTA CASTIGA FUERTE"
      ],
      "metadata": {
        "id": "Iw2-X_cltMPz"
      }
    },
    {
      "cell_type": "code",
      "source": [
        "loss_ranking(np.array([1,2,3]), np.array([-2,-5,-8]))"
      ],
      "metadata": {
        "colab": {
          "base_uri": "https://localhost:8080/"
        },
        "id": "PP-4orRyaWwc",
        "outputId": "2b69c0be-b8aa-4c93-8d1f-e114cbe65776"
      },
      "execution_count": 41,
      "outputs": [
        {
          "output_type": "execute_result",
          "data": {
            "text/plain": [
              "<tf.Tensor: shape=(), dtype=float32, numpy=4.2870646>"
            ]
          },
          "metadata": {},
          "execution_count": 41
        }
      ]
    },
    {
      "cell_type": "markdown",
      "source": [
        "# initial_population"
      ],
      "metadata": {
        "id": "7YnfkcZYJJrL"
      }
    },
    {
      "cell_type": "markdown",
      "source": [
        "## gen_individual"
      ],
      "metadata": {
        "id": "Z8kgrH7kYFUg"
      }
    },
    {
      "cell_type": "code",
      "source": [
        "ind_A = [\n",
        "    # numero_de_layers_densas1\n",
        "    # numero_de_units1\n",
        "    # activation1\n",
        "    # numero_de_layers_densas2\n",
        "    # numero_de_units2\n",
        "    # activation2\n",
        "    # numero_de_layers_densas3\n",
        "    # numero_de_units3\n",
        "    # activation3\n",
        "    # output_activation\n",
        "]\n",
        "\n",
        "def get_ind_A():\n",
        "  ind_A = [\n",
        "      np.random.randint(1,5),\n",
        "      np.random.randint(1,10) * 10 - 9,\n",
        "      np.random.choice(['relu','linear']),\n",
        "      np.random.randint(1,5),\n",
        "      np.random.randint(1,10) * 10 - 9,\n",
        "      np.random.choice(['relu','linear']),\n",
        "      np.random.randint(1,5),\n",
        "      np.random.randint(1,10) * 10 - 9,\n",
        "      np.random.choice(['relu','linear']),\n",
        "      np.random.choice(['linear', 'relu','softplus', 'softmax'])\n",
        "      #np.random.choice(['softmax'])\n",
        "  ]\n",
        "  return ind_A"
      ],
      "metadata": {
        "id": "hFv5pvet0Hsc"
      },
      "execution_count": 42,
      "outputs": []
    },
    {
      "cell_type": "code",
      "source": [
        "for i in range(10):\n",
        "  print(get_ind_A())"
      ],
      "metadata": {
        "colab": {
          "base_uri": "https://localhost:8080/"
        },
        "id": "MWHc5u7T12vM",
        "outputId": "61c2d7f2-35e8-4c29-8ac4-9e6e3db20287"
      },
      "execution_count": 43,
      "outputs": [
        {
          "output_type": "stream",
          "name": "stdout",
          "text": [
            "[4, 71, 'relu', 4, 61, 'linear', 2, 41, 'linear', 'softmax']\n",
            "[4, 21, 'linear', 2, 1, 'linear', 3, 11, 'linear', 'relu']\n",
            "[3, 31, 'linear', 3, 31, 'relu', 4, 31, 'relu', 'softmax']\n",
            "[2, 61, 'relu', 3, 61, 'linear', 1, 1, 'relu', 'softplus']\n",
            "[2, 61, 'relu', 1, 31, 'linear', 2, 11, 'linear', 'softplus']\n",
            "[1, 61, 'relu', 2, 11, 'relu', 4, 71, 'linear', 'relu']\n",
            "[1, 11, 'linear', 2, 21, 'linear', 1, 61, 'relu', 'softmax']\n",
            "[3, 61, 'relu', 3, 21, 'relu', 1, 71, 'relu', 'softplus']\n",
            "[4, 31, 'linear', 2, 31, 'relu', 2, 31, 'relu', 'softmax']\n",
            "[2, 21, 'relu', 1, 1, 'relu', 3, 41, 'linear', 'softplus']\n"
          ]
        }
      ]
    },
    {
      "cell_type": "markdown",
      "source": [
        "## gen_population"
      ],
      "metadata": {
        "id": "YzYlv9qz-PZj"
      }
    },
    {
      "cell_type": "code",
      "source": [
        "def gen_population(n_pop = 50):\n",
        "  pop = []\n",
        "  for p in range(n_pop):\n",
        "    pop.append(get_ind_A())\n",
        "  return np.array(pop, dtype=object)"
      ],
      "metadata": {
        "id": "6sYm5ADx2MDz"
      },
      "execution_count": 44,
      "outputs": []
    },
    {
      "cell_type": "code",
      "source": [
        "gen_population(n_pop = 3)"
      ],
      "metadata": {
        "colab": {
          "base_uri": "https://localhost:8080/"
        },
        "id": "uysUY2vM2eGb",
        "outputId": "0b265745-57f9-4c45-9c0b-b315f8bb280c"
      },
      "execution_count": 45,
      "outputs": [
        {
          "output_type": "execute_result",
          "data": {
            "text/plain": [
              "array([[4, 51, 'relu', 3, 71, 'linear', 3, 51, 'relu', 'relu'],\n",
              "       [2, 51, 'relu', 2, 11, 'linear', 4, 81, 'linear', 'linear'],\n",
              "       [4, 1, 'relu', 2, 31, 'relu', 3, 41, 'relu', 'linear']],\n",
              "      dtype=object)"
            ]
          },
          "metadata": {},
          "execution_count": 45
        }
      ]
    },
    {
      "cell_type": "markdown",
      "source": [
        "## create_model"
      ],
      "metadata": {
        "id": "OodeuLQe-R_J"
      }
    },
    {
      "cell_type": "code",
      "source": [
        "def create_model(iput_shape, output_shape, ind_gens, learning_rate=0.001):\n",
        "\n",
        "  numero_de_layers_densas1 = ind_gens[0]\n",
        "  numero_de_units1= ind_gens[1]\n",
        "  activation1= ind_gens[2]\n",
        "  numero_de_layers_densas2= ind_gens[3]\n",
        "  numero_de_units2 = ind_gens[4]\n",
        "  activation2= ind_gens[5]\n",
        "  numero_de_layers_densas3= ind_gens[6]\n",
        "  numero_de_units3 = ind_gens[7]\n",
        "  activation3= ind_gens[8]\n",
        "  output_activation = ind_gens[9]\n",
        "\n",
        "  inputs = keras.Input(shape=(iput_shape))\n",
        "  m = inputs\n",
        "\n",
        "\n",
        "  for i in range(numero_de_layers_densas1):\n",
        "    m = Dense( units=numero_de_units1 , activation=activation1,\n",
        "    #kernel_initializer=initializers.RandomNormal(stddev=0.01)\n",
        "    )(m)\n",
        "\n",
        "\n",
        "  for i in range(numero_de_layers_densas2):\n",
        "    m = Dense( units=numero_de_units2 , activation=activation2,\n",
        "    #kernel_initializer=initializers.RandomNormal(stddev=0.01)\n",
        "    )(m)\n",
        "\n",
        "\n",
        "  for i in range(numero_de_layers_densas3):\n",
        "    m = Dense( units=numero_de_units3 , activation=activation3,\n",
        "    #kernel_initializer=initializers.RandomNormal(stddev=0.01)\n",
        "    )(m)\n",
        "\n",
        "  m = Flatten()(m)\n",
        "\n",
        "  # Usamos la activación softmax personalizada en la capa de salida\n",
        "  # Recuerda que tienes 5 activos y cada uno puede tener uno de los 5 rankings, por lo que necesitas un total de 25 neuronas en tu capa de salida\n",
        "  m = Dense(5*5, activation='linear')(m)  # Lo mantenemos lineal por ahora para aplicar reshape y softmax de forma separada\n",
        "  m = Reshape((5, 5))(m)  # Le damos la forma que queremos a la salida\n",
        "  outputs = keras.layers.Activation(softmax_by_asset)(m)  # Aplicamos softmax separadamente después de haber dado forma a la salida\n",
        "\n",
        "\n",
        "  model = keras.Model(inputs=inputs, outputs=outputs)\n",
        "  model.compile(\n",
        "      loss='categorical_crossentropy',\n",
        "      optimizer=keras.optimizers.Adam(learning_rate=learning_rate),\n",
        "      metrics=[],\n",
        "    )\n",
        "\n",
        "  return model\n"
      ],
      "metadata": {
        "id": "IrzmMyaz2-l3"
      },
      "execution_count": 46,
      "outputs": []
    },
    {
      "cell_type": "code",
      "source": [
        "X.shape, Y.shape"
      ],
      "metadata": {
        "colab": {
          "base_uri": "https://localhost:8080/"
        },
        "id": "O0FGj7XzWWM1",
        "outputId": "be4f12b6-f2b5-4438-fd65-1fcf818eae0d"
      },
      "execution_count": 47,
      "outputs": [
        {
          "output_type": "execute_result",
          "data": {
            "text/plain": [
              "((100, 60, 5, 1), (100, 5, 5))"
            ]
          },
          "metadata": {},
          "execution_count": 47
        }
      ]
    },
    {
      "cell_type": "code",
      "source": [
        "X.shape[1:], Y.shape[1:]"
      ],
      "metadata": {
        "colab": {
          "base_uri": "https://localhost:8080/"
        },
        "id": "En-lxE7VUiBr",
        "outputId": "36f1618b-d5d1-4078-ad01-b2b0b6ef9493"
      },
      "execution_count": 48,
      "outputs": [
        {
          "output_type": "execute_result",
          "data": {
            "text/plain": [
              "((60, 5, 1), (5, 5))"
            ]
          },
          "metadata": {},
          "execution_count": 48
        }
      ]
    },
    {
      "cell_type": "code",
      "source": [
        "g = get_ind_A()\n",
        "g"
      ],
      "metadata": {
        "colab": {
          "base_uri": "https://localhost:8080/"
        },
        "id": "F7a5qmfKbcnO",
        "outputId": "594c01ce-e423-43df-9784-2c45d59f139a"
      },
      "execution_count": 49,
      "outputs": [
        {
          "output_type": "execute_result",
          "data": {
            "text/plain": [
              "[4, 41, 'linear', 3, 1, 'linear', 3, 71, 'linear', 'relu']"
            ]
          },
          "metadata": {},
          "execution_count": 49
        }
      ]
    },
    {
      "cell_type": "code",
      "source": [
        "m = create_model(iput_shape = X.shape[1:], output_shape =  False, ind_gens = g)"
      ],
      "metadata": {
        "id": "ELcO83MQ8Z7r"
      },
      "execution_count": 50,
      "outputs": []
    },
    {
      "cell_type": "code",
      "source": [
        "m.summary()"
      ],
      "metadata": {
        "colab": {
          "base_uri": "https://localhost:8080/"
        },
        "id": "qRpZ1gyzVefa",
        "outputId": "58b6d766-1c7f-4cec-dafe-6f3830a06fa9"
      },
      "execution_count": 51,
      "outputs": [
        {
          "output_type": "stream",
          "name": "stdout",
          "text": [
            "Model: \"model\"\n",
            "_________________________________________________________________\n",
            " Layer (type)                Output Shape              Param #   \n",
            "=================================================================\n",
            " input_1 (InputLayer)        [(None, 60, 5, 1)]        0         \n",
            "                                                                 \n",
            " dense (Dense)               (None, 60, 5, 41)         82        \n",
            "                                                                 \n",
            " dense_1 (Dense)             (None, 60, 5, 41)         1722      \n",
            "                                                                 \n",
            " dense_2 (Dense)             (None, 60, 5, 41)         1722      \n",
            "                                                                 \n",
            " dense_3 (Dense)             (None, 60, 5, 41)         1722      \n",
            "                                                                 \n",
            " dense_4 (Dense)             (None, 60, 5, 1)          42        \n",
            "                                                                 \n",
            " dense_5 (Dense)             (None, 60, 5, 1)          2         \n",
            "                                                                 \n",
            " dense_6 (Dense)             (None, 60, 5, 1)          2         \n",
            "                                                                 \n",
            " dense_7 (Dense)             (None, 60, 5, 71)         142       \n",
            "                                                                 \n",
            " dense_8 (Dense)             (None, 60, 5, 71)         5112      \n",
            "                                                                 \n",
            " dense_9 (Dense)             (None, 60, 5, 71)         5112      \n",
            "                                                                 \n",
            " flatten (Flatten)           (None, 21300)             0         \n",
            "                                                                 \n",
            " dense_10 (Dense)            (None, 25)                532525    \n",
            "                                                                 \n",
            " reshape (Reshape)           (None, 5, 5)              0         \n",
            "                                                                 \n",
            " activation (Activation)     (None, 5, 5)              0         \n",
            "                                                                 \n",
            "=================================================================\n",
            "Total params: 548,185\n",
            "Trainable params: 548,185\n",
            "Non-trainable params: 0\n",
            "_________________________________________________________________\n"
          ]
        }
      ]
    },
    {
      "cell_type": "code",
      "source": [
        "m.fit(X,Y)"
      ],
      "metadata": {
        "colab": {
          "base_uri": "https://localhost:8080/"
        },
        "id": "-tv7VMlyVh6E",
        "outputId": "e7cd82bd-e474-4b6b-eaef-81a014989a17"
      },
      "execution_count": 52,
      "outputs": [
        {
          "output_type": "stream",
          "name": "stdout",
          "text": [
            "4/4 [==============================] - 6s 10ms/step - loss: 1.5878\n"
          ]
        },
        {
          "output_type": "execute_result",
          "data": {
            "text/plain": [
              "<keras.callbacks.History at 0x7f6c6c7f5db0>"
            ]
          },
          "metadata": {},
          "execution_count": 52
        }
      ]
    },
    {
      "cell_type": "markdown",
      "source": [
        "## mse"
      ],
      "metadata": {
        "id": "o6TEiA0CIgmT"
      }
    },
    {
      "cell_type": "code",
      "source": [
        "Y.shape"
      ],
      "metadata": {
        "colab": {
          "base_uri": "https://localhost:8080/"
        },
        "id": "do8rQWpKIsE2",
        "outputId": "66ee7bdc-fbaf-4dc4-dc3a-18a3871ef260"
      },
      "execution_count": 53,
      "outputs": [
        {
          "output_type": "execute_result",
          "data": {
            "text/plain": [
              "(100, 5, 5)"
            ]
          },
          "metadata": {},
          "execution_count": 53
        }
      ]
    },
    {
      "cell_type": "code",
      "source": [
        "tf.keras.metrics.mean_squared_error(\n",
        "    Y[0], Y[0]\n",
        ")"
      ],
      "metadata": {
        "colab": {
          "base_uri": "https://localhost:8080/"
        },
        "id": "vjmjvBtcI3jE",
        "outputId": "e340abfb-c3dc-43ce-eb4b-603e27c0f71e"
      },
      "execution_count": 54,
      "outputs": [
        {
          "output_type": "execute_result",
          "data": {
            "text/plain": [
              "<tf.Tensor: shape=(5,), dtype=float32, numpy=array([0., 0., 0., 0., 0.], dtype=float32)>"
            ]
          },
          "metadata": {},
          "execution_count": 54
        }
      ]
    },
    {
      "cell_type": "code",
      "source": [
        "tf.keras.metrics.mean_squared_error(\n",
        "    [4,5], [4,5]\n",
        ")"
      ],
      "metadata": {
        "colab": {
          "base_uri": "https://localhost:8080/"
        },
        "id": "zrTrO_2CIheL",
        "outputId": "8526a9f1-61ad-4f44-c7d2-f4f52111c200"
      },
      "execution_count": 55,
      "outputs": [
        {
          "output_type": "execute_result",
          "data": {
            "text/plain": [
              "<tf.Tensor: shape=(), dtype=int32, numpy=0>"
            ]
          },
          "metadata": {},
          "execution_count": 55
        }
      ]
    },
    {
      "cell_type": "code",
      "source": [
        "tf.keras.metrics.mean_squared_error(\n",
        "    [4,5], [17,4]\n",
        ")"
      ],
      "metadata": {
        "colab": {
          "base_uri": "https://localhost:8080/"
        },
        "id": "zRFk61k3JBM1",
        "outputId": "3d609f2e-604a-41ee-f96c-245250de1501"
      },
      "execution_count": 56,
      "outputs": [
        {
          "output_type": "execute_result",
          "data": {
            "text/plain": [
              "<tf.Tensor: shape=(), dtype=int32, numpy=85>"
            ]
          },
          "metadata": {},
          "execution_count": 56
        }
      ]
    },
    {
      "cell_type": "code",
      "source": [
        "tf.keras.metrics.mean_squared_error(\n",
        "    [4,5], [-17,4]\n",
        ")"
      ],
      "metadata": {
        "colab": {
          "base_uri": "https://localhost:8080/"
        },
        "id": "r4BfV6LzIz82",
        "outputId": "ea212b1b-efe9-4e98-b468-b0a29da1eec2"
      },
      "execution_count": 57,
      "outputs": [
        {
          "output_type": "execute_result",
          "data": {
            "text/plain": [
              "<tf.Tensor: shape=(), dtype=int32, numpy=221>"
            ]
          },
          "metadata": {},
          "execution_count": 57
        }
      ]
    },
    {
      "cell_type": "markdown",
      "source": [
        "## model_population"
      ],
      "metadata": {
        "id": "jBDsdkoW-WUb"
      }
    },
    {
      "cell_type": "code",
      "source": [
        "def model_population(iput_shape, output_shape,populations_gens, learning_rate):\n",
        "  pop = []\n",
        "  for i in range(len(populations_gens)):\n",
        "\n",
        "    pop.append( create_model(iput_shape, output_shape, populations_gens[i], learning_rate) )\n",
        "\n",
        "  return pop\n"
      ],
      "metadata": {
        "id": "D9VaZiln9QkL"
      },
      "execution_count": 58,
      "outputs": []
    },
    {
      "cell_type": "code",
      "source": [
        "pop = [[3, 100, 'linear', 3, 120, 'relu', 3, 120, 'relu', 'relu'],\n",
        " [7, 80, 'relu', 6, 160, 'linear', 3, 120, 'relu', 'relu'],\n",
        " [4, 100, 'relu', 3, 100, 'linear', 3, 120, 'relu', 'relu']]"
      ],
      "metadata": {
        "id": "W4FqjT4w90AK"
      },
      "execution_count": 59,
      "outputs": []
    },
    {
      "cell_type": "code",
      "source": [
        "models_pop = model_population((35,3), (35),pop, 0.01)"
      ],
      "metadata": {
        "id": "9PcukzEQ939H"
      },
      "execution_count": 60,
      "outputs": []
    },
    {
      "cell_type": "code",
      "source": [
        "models_pop"
      ],
      "metadata": {
        "colab": {
          "base_uri": "https://localhost:8080/"
        },
        "id": "SCq0aNaD9-_D",
        "outputId": "71b97fe5-8e6e-4519-8c1b-625fc21b0fb4"
      },
      "execution_count": 61,
      "outputs": [
        {
          "output_type": "execute_result",
          "data": {
            "text/plain": [
              "[<keras.engine.functional.Functional at 0x7f6be8169420>,\n",
              " <keras.engine.functional.Functional at 0x7f6be81d3a00>,\n",
              " <keras.engine.functional.Functional at 0x7f6bd8f37820>]"
            ]
          },
          "metadata": {},
          "execution_count": 61
        }
      ]
    },
    {
      "cell_type": "code",
      "source": [
        "for m in models_pop:\n",
        "  print(m.summary())"
      ],
      "metadata": {
        "colab": {
          "base_uri": "https://localhost:8080/"
        },
        "id": "aeyGakWI-AUr",
        "outputId": "0b1e6366-ca51-4cae-f855-666a492adc1d"
      },
      "execution_count": 62,
      "outputs": [
        {
          "output_type": "stream",
          "name": "stdout",
          "text": [
            "Model: \"model_1\"\n",
            "_________________________________________________________________\n",
            " Layer (type)                Output Shape              Param #   \n",
            "=================================================================\n",
            " input_2 (InputLayer)        [(None, 35, 3)]           0         \n",
            "                                                                 \n",
            " dense_11 (Dense)            (None, 35, 100)           400       \n",
            "                                                                 \n",
            " dense_12 (Dense)            (None, 35, 100)           10100     \n",
            "                                                                 \n",
            " dense_13 (Dense)            (None, 35, 100)           10100     \n",
            "                                                                 \n",
            " dense_14 (Dense)            (None, 35, 120)           12120     \n",
            "                                                                 \n",
            " dense_15 (Dense)            (None, 35, 120)           14520     \n",
            "                                                                 \n",
            " dense_16 (Dense)            (None, 35, 120)           14520     \n",
            "                                                                 \n",
            " dense_17 (Dense)            (None, 35, 120)           14520     \n",
            "                                                                 \n",
            " dense_18 (Dense)            (None, 35, 120)           14520     \n",
            "                                                                 \n",
            " dense_19 (Dense)            (None, 35, 120)           14520     \n",
            "                                                                 \n",
            " flatten_1 (Flatten)         (None, 4200)              0         \n",
            "                                                                 \n",
            " dense_20 (Dense)            (None, 25)                105025    \n",
            "                                                                 \n",
            " reshape_1 (Reshape)         (None, 5, 5)              0         \n",
            "                                                                 \n",
            " activation_1 (Activation)   (None, 5, 5)              0         \n",
            "                                                                 \n",
            "=================================================================\n",
            "Total params: 210,345\n",
            "Trainable params: 210,345\n",
            "Non-trainable params: 0\n",
            "_________________________________________________________________\n",
            "None\n",
            "Model: \"model_2\"\n",
            "_________________________________________________________________\n",
            " Layer (type)                Output Shape              Param #   \n",
            "=================================================================\n",
            " input_3 (InputLayer)        [(None, 35, 3)]           0         \n",
            "                                                                 \n",
            " dense_21 (Dense)            (None, 35, 80)            320       \n",
            "                                                                 \n",
            " dense_22 (Dense)            (None, 35, 80)            6480      \n",
            "                                                                 \n",
            " dense_23 (Dense)            (None, 35, 80)            6480      \n",
            "                                                                 \n",
            " dense_24 (Dense)            (None, 35, 80)            6480      \n",
            "                                                                 \n",
            " dense_25 (Dense)            (None, 35, 80)            6480      \n",
            "                                                                 \n",
            " dense_26 (Dense)            (None, 35, 80)            6480      \n",
            "                                                                 \n",
            " dense_27 (Dense)            (None, 35, 80)            6480      \n",
            "                                                                 \n",
            " dense_28 (Dense)            (None, 35, 160)           12960     \n",
            "                                                                 \n",
            " dense_29 (Dense)            (None, 35, 160)           25760     \n",
            "                                                                 \n",
            " dense_30 (Dense)            (None, 35, 160)           25760     \n",
            "                                                                 \n",
            " dense_31 (Dense)            (None, 35, 160)           25760     \n",
            "                                                                 \n",
            " dense_32 (Dense)            (None, 35, 160)           25760     \n",
            "                                                                 \n",
            " dense_33 (Dense)            (None, 35, 160)           25760     \n",
            "                                                                 \n",
            " dense_34 (Dense)            (None, 35, 120)           19320     \n",
            "                                                                 \n",
            " dense_35 (Dense)            (None, 35, 120)           14520     \n",
            "                                                                 \n",
            " dense_36 (Dense)            (None, 35, 120)           14520     \n",
            "                                                                 \n",
            " flatten_2 (Flatten)         (None, 4200)              0         \n",
            "                                                                 \n",
            " dense_37 (Dense)            (None, 25)                105025    \n",
            "                                                                 \n",
            " reshape_2 (Reshape)         (None, 5, 5)              0         \n",
            "                                                                 \n",
            " activation_2 (Activation)   (None, 5, 5)              0         \n",
            "                                                                 \n",
            "=================================================================\n",
            "Total params: 334,345\n",
            "Trainable params: 334,345\n",
            "Non-trainable params: 0\n",
            "_________________________________________________________________\n",
            "None\n",
            "Model: \"model_3\"\n",
            "_________________________________________________________________\n",
            " Layer (type)                Output Shape              Param #   \n",
            "=================================================================\n",
            " input_4 (InputLayer)        [(None, 35, 3)]           0         \n",
            "                                                                 \n",
            " dense_38 (Dense)            (None, 35, 100)           400       \n",
            "                                                                 \n",
            " dense_39 (Dense)            (None, 35, 100)           10100     \n",
            "                                                                 \n",
            " dense_40 (Dense)            (None, 35, 100)           10100     \n",
            "                                                                 \n",
            " dense_41 (Dense)            (None, 35, 100)           10100     \n",
            "                                                                 \n",
            " dense_42 (Dense)            (None, 35, 100)           10100     \n",
            "                                                                 \n",
            " dense_43 (Dense)            (None, 35, 100)           10100     \n",
            "                                                                 \n",
            " dense_44 (Dense)            (None, 35, 100)           10100     \n",
            "                                                                 \n",
            " dense_45 (Dense)            (None, 35, 120)           12120     \n",
            "                                                                 \n",
            " dense_46 (Dense)            (None, 35, 120)           14520     \n",
            "                                                                 \n",
            " dense_47 (Dense)            (None, 35, 120)           14520     \n",
            "                                                                 \n",
            " flatten_3 (Flatten)         (None, 4200)              0         \n",
            "                                                                 \n",
            " dense_48 (Dense)            (None, 25)                105025    \n",
            "                                                                 \n",
            " reshape_3 (Reshape)         (None, 5, 5)              0         \n",
            "                                                                 \n",
            " activation_3 (Activation)   (None, 5, 5)              0         \n",
            "                                                                 \n",
            "=================================================================\n",
            "Total params: 207,185\n",
            "Trainable params: 207,185\n",
            "Non-trainable params: 0\n",
            "_________________________________________________________________\n",
            "None\n"
          ]
        }
      ]
    },
    {
      "cell_type": "markdown",
      "source": [
        "# Fitness_function"
      ],
      "metadata": {
        "id": "0l_j5IIHZmps"
      }
    },
    {
      "cell_type": "code",
      "source": [
        "class Fitness_function_keras():\n",
        "  def __init__(self, X, Y, epochs, batch_size, learning_rate):\n",
        "    self.X = X\n",
        "    self.Y = Y\n",
        "    self.epochs = epochs\n",
        "    self.batch_size = batch_size\n",
        "    self.learning_rate = learning_rate\n",
        "\n",
        "    self.last_loss_history = []\n",
        "\n",
        "  def run(self, gens_population ):\n",
        "    return self.fitness_keras(self.X, self.Y, gens_population , self.epochs, self.batch_size)\n",
        "\n",
        "  def fitness_keras(self, X, Y, gens_population , epochs, batch_size):\n",
        "\n",
        "    self.last_loss_history = []\n",
        "\n",
        "    population_models = model_population(X.shape[1:], Y.shape[1], gens_population, self.learning_rate)\n",
        "\n",
        "    fitness = []\n",
        "\n",
        "    for m in population_models:\n",
        "\n",
        "      h = m.fit(X,Y,\n",
        "                  epochs=epochs,\n",
        "                  batch_size = batch_size,\n",
        "                  verbose=0,\n",
        "                  validation_split = 0.2,\n",
        "                  callbacks=[EarlyStopping(monitor='loss', patience=10, min_delta=0)])\n",
        "\n",
        "      self.last_loss_history.append(h.history[\"val_loss\"])\n",
        "      # Con este seleccionamos el ultimo loss\n",
        "      #fitness.append(h.history[\"loss\"][-1])\n",
        "      # Con este seleccionamos el mejor de los loss\n",
        "      idx_best_loss = np.argmin(h.history[\"val_loss\"])\n",
        "      fitness.append(h.history[\"val_loss\"][idx_best_loss])\n",
        "\n",
        "    return np.array(fitness)"
      ],
      "metadata": {
        "id": "paXrnlsW_62Z"
      },
      "execution_count": 63,
      "outputs": []
    },
    {
      "cell_type": "code",
      "source": [
        "Y[0]"
      ],
      "metadata": {
        "colab": {
          "base_uri": "https://localhost:8080/"
        },
        "id": "aRpIKjsPQJjU",
        "outputId": "94171273-5843-46de-84bb-505b90ce1724"
      },
      "execution_count": 64,
      "outputs": [
        {
          "output_type": "execute_result",
          "data": {
            "text/plain": [
              "array([[1., 0., 0., 0., 0.],\n",
              "       [0., 1., 0., 0., 0.],\n",
              "       [0., 0., 0., 1., 0.],\n",
              "       [0., 0., 0., 0., 1.],\n",
              "       [0., 0., 1., 0., 0.]], dtype=float32)"
            ]
          },
          "metadata": {},
          "execution_count": 64
        }
      ]
    },
    {
      "cell_type": "code",
      "source": [
        "Y.shape"
      ],
      "metadata": {
        "colab": {
          "base_uri": "https://localhost:8080/"
        },
        "id": "wn2aoCWJP070",
        "outputId": "6534c8ee-bf39-45ab-bf03-e864d9391939"
      },
      "execution_count": 65,
      "outputs": [
        {
          "output_type": "execute_result",
          "data": {
            "text/plain": [
              "(100, 5, 5)"
            ]
          },
          "metadata": {},
          "execution_count": 65
        }
      ]
    },
    {
      "cell_type": "code",
      "source": [
        "pop = [get_ind_A(),\n",
        " get_ind_A(),\n",
        " get_ind_A()]\n",
        "print(pop)\n",
        "fitness_function_keras = Fitness_function_keras(X, Y , epochs = 2, batch_size = 1, learning_rate = 0.1)\n",
        "\n",
        "fitness = fitness_function_keras.run(pop)\n",
        "print(fitness)"
      ],
      "metadata": {
        "colab": {
          "base_uri": "https://localhost:8080/"
        },
        "id": "GxvCm_6EBG0D",
        "outputId": "e554f9d5-e7ab-4f91-e06b-11ee9b4cd352"
      },
      "execution_count": 66,
      "outputs": [
        {
          "output_type": "stream",
          "name": "stdout",
          "text": [
            "[[1, 71, 'linear', 2, 81, 'linear', 3, 11, 'relu', 'softplus'], [2, 21, 'relu', 2, 11, 'relu', 1, 61, 'linear', 'relu'], [3, 1, 'relu', 3, 81, 'relu', 3, 51, 'relu', 'linear']]\n",
            "[13.05565834 12.41093063 12.08857059]\n"
          ]
        }
      ]
    },
    {
      "cell_type": "markdown",
      "source": [
        "# Selection_function"
      ],
      "metadata": {
        "id": "0swamKFOZdcd"
      }
    },
    {
      "cell_type": "code",
      "source": [
        "class Selection_function():\n",
        "  def __init__(self, number_of_couples = 1, tournament_size = 3):\n",
        "    self.number_of_couples = number_of_couples\n",
        "    self.tournament_size = tournament_size\n",
        "\n",
        "  def tournament_selection(self, population, fitness):\n",
        "    all_parents = []\n",
        "    for i in range(self.number_of_couples):\n",
        "      idx = np.random.choice(np.arange(len(population)), size=self.tournament_size, replace=False)\n",
        "      orden = np.argsort(fitness[idx])\n",
        "      best_individual_idx = idx[orden[0:2]]\n",
        "      all_parents.append(population[best_individual_idx[0]])\n",
        "      all_parents.append(population[best_individual_idx[1]])\n",
        "    return all_parents\n"
      ],
      "metadata": {
        "id": "dPl9awfom8dt"
      },
      "execution_count": 67,
      "outputs": []
    },
    {
      "cell_type": "code",
      "source": [
        "pop = np.array([[3, 100, 'linear', 3, 120, 'relu', 'relu'],\n",
        " [7, 80, 'relu', 6, 160, 'linear', 'relu'],\n",
        " [4, 100, 'relu', 3, 100, 'linear', 'relu']])\n",
        "fitness = np.array([28.697153091430664, 28.697154998779297, 28.697158813476562])\n",
        "\n",
        "selection = Selection_function(number_of_couples = 10)\n",
        "\n",
        "parents = selection.tournament_selection(pop, fitness)\n",
        "\n",
        "print( parents )"
      ],
      "metadata": {
        "id": "F4bk4CzSnRoB",
        "colab": {
          "base_uri": "https://localhost:8080/"
        },
        "outputId": "fc7ca571-ae8f-4003-a1a1-7ac22b4cdd19"
      },
      "execution_count": 68,
      "outputs": [
        {
          "output_type": "stream",
          "name": "stdout",
          "text": [
            "[array(['3', '100', 'linear', '3', '120', 'relu', 'relu'], dtype='<U21'), array(['7', '80', 'relu', '6', '160', 'linear', 'relu'], dtype='<U21'), array(['3', '100', 'linear', '3', '120', 'relu', 'relu'], dtype='<U21'), array(['7', '80', 'relu', '6', '160', 'linear', 'relu'], dtype='<U21'), array(['3', '100', 'linear', '3', '120', 'relu', 'relu'], dtype='<U21'), array(['7', '80', 'relu', '6', '160', 'linear', 'relu'], dtype='<U21'), array(['3', '100', 'linear', '3', '120', 'relu', 'relu'], dtype='<U21'), array(['7', '80', 'relu', '6', '160', 'linear', 'relu'], dtype='<U21'), array(['3', '100', 'linear', '3', '120', 'relu', 'relu'], dtype='<U21'), array(['7', '80', 'relu', '6', '160', 'linear', 'relu'], dtype='<U21'), array(['3', '100', 'linear', '3', '120', 'relu', 'relu'], dtype='<U21'), array(['7', '80', 'relu', '6', '160', 'linear', 'relu'], dtype='<U21'), array(['3', '100', 'linear', '3', '120', 'relu', 'relu'], dtype='<U21'), array(['7', '80', 'relu', '6', '160', 'linear', 'relu'], dtype='<U21'), array(['3', '100', 'linear', '3', '120', 'relu', 'relu'], dtype='<U21'), array(['7', '80', 'relu', '6', '160', 'linear', 'relu'], dtype='<U21'), array(['3', '100', 'linear', '3', '120', 'relu', 'relu'], dtype='<U21'), array(['7', '80', 'relu', '6', '160', 'linear', 'relu'], dtype='<U21'), array(['3', '100', 'linear', '3', '120', 'relu', 'relu'], dtype='<U21'), array(['7', '80', 'relu', '6', '160', 'linear', 'relu'], dtype='<U21')]\n"
          ]
        }
      ]
    },
    {
      "cell_type": "code",
      "source": [
        "# los dos primeros padres\n",
        "parents[0], parents[1]"
      ],
      "metadata": {
        "colab": {
          "base_uri": "https://localhost:8080/"
        },
        "id": "p3EvBhhiDgSm",
        "outputId": "541e57c8-4a66-4a1d-ff41-fefdc91aeb9c"
      },
      "execution_count": 69,
      "outputs": [
        {
          "output_type": "execute_result",
          "data": {
            "text/plain": [
              "(array(['3', '100', 'linear', '3', '120', 'relu', 'relu'], dtype='<U21'),\n",
              " array(['7', '80', 'relu', '6', '160', 'linear', 'relu'], dtype='<U21'))"
            ]
          },
          "metadata": {},
          "execution_count": 69
        }
      ]
    },
    {
      "cell_type": "markdown",
      "source": [
        "# Crossover_function"
      ],
      "metadata": {
        "id": "U48qQ2201e4o"
      }
    },
    {
      "cell_type": "code",
      "source": [
        "def uniform_crossover(parent1, parent2):\n",
        "    child1, child2 = parent1.copy(), parent2.copy()\n",
        "    for i in range(len(parent1)):\n",
        "        if np.random.uniform(0, 1) < 0.5:  # Choose randomly\n",
        "            child1[i], child2[i] = child2[i], child1[i]  # Swap elements\n",
        "    return child1, child2"
      ],
      "metadata": {
        "id": "6KtyteevhatM"
      },
      "execution_count": 70,
      "outputs": []
    },
    {
      "cell_type": "code",
      "source": [
        "def easy_crossover(parents):\n",
        "  offspring = []\n",
        "  for i in range(0, len(parents), 2):\n",
        "\n",
        "    parent1 = parents[i]\n",
        "    parent2 = parents[i+1]\n",
        "\n",
        "    childs = uniform_crossover(parent1, parent2 )\n",
        "\n",
        "    offspring.append(childs[0])\n",
        "    offspring.append(childs[1])\n",
        "\n",
        "  return offspring"
      ],
      "metadata": {
        "id": "Avv_AQJktIXx"
      },
      "execution_count": 71,
      "outputs": []
    },
    {
      "cell_type": "code",
      "source": [
        "ofs = easy_crossover(parents)\n",
        "print(ofs)"
      ],
      "metadata": {
        "colab": {
          "base_uri": "https://localhost:8080/"
        },
        "id": "vg1rsjFfvsi0",
        "outputId": "ee9b123b-3a25-4139-919d-1a5c2458c6b3"
      },
      "execution_count": 72,
      "outputs": [
        {
          "output_type": "stream",
          "name": "stdout",
          "text": [
            "[array(['3', '100', 'relu', '6', '120', 'relu', 'relu'], dtype='<U21'), array(['7', '80', 'linear', '3', '160', 'linear', 'relu'], dtype='<U21'), array(['7', '100', 'linear', '6', '160', 'relu', 'relu'], dtype='<U21'), array(['3', '80', 'relu', '3', '120', 'linear', 'relu'], dtype='<U21'), array(['3', '100', 'linear', '3', '120', 'linear', 'relu'], dtype='<U21'), array(['7', '80', 'relu', '6', '160', 'relu', 'relu'], dtype='<U21'), array(['3', '80', 'relu', '3', '120', 'linear', 'relu'], dtype='<U21'), array(['7', '100', 'linear', '6', '160', 'relu', 'relu'], dtype='<U21'), array(['7', '100', 'linear', '6', '120', 'relu', 'relu'], dtype='<U21'), array(['3', '80', 'relu', '3', '160', 'linear', 'relu'], dtype='<U21'), array(['7', '80', 'relu', '6', '120', 'relu', 'relu'], dtype='<U21'), array(['3', '100', 'linear', '3', '160', 'linear', 'relu'], dtype='<U21'), array(['7', '100', 'relu', '6', '120', 'relu', 'relu'], dtype='<U21'), array(['3', '80', 'linear', '3', '160', 'linear', 'relu'], dtype='<U21'), array(['3', '100', 'relu', '6', '120', 'linear', 'relu'], dtype='<U21'), array(['7', '80', 'linear', '3', '160', 'relu', 'relu'], dtype='<U21'), array(['3', '80', 'relu', '3', '160', 'linear', 'relu'], dtype='<U21'), array(['7', '100', 'linear', '6', '120', 'relu', 'relu'], dtype='<U21'), array(['7', '80', 'relu', '3', '160', 'linear', 'relu'], dtype='<U21'), array(['3', '100', 'linear', '6', '120', 'relu', 'relu'], dtype='<U21')]\n"
          ]
        }
      ]
    },
    {
      "cell_type": "code",
      "source": [
        "# primer hijo\n",
        "ofs[0]"
      ],
      "metadata": {
        "colab": {
          "base_uri": "https://localhost:8080/"
        },
        "id": "SuDh_rHgNf9k",
        "outputId": "5c445684-e295-4439-96bd-0764449bc5c6"
      },
      "execution_count": 73,
      "outputs": [
        {
          "output_type": "execute_result",
          "data": {
            "text/plain": [
              "array(['3', '100', 'relu', '6', '120', 'relu', 'relu'], dtype='<U21')"
            ]
          },
          "metadata": {},
          "execution_count": 73
        }
      ]
    },
    {
      "cell_type": "markdown",
      "source": [
        "# mutation_function"
      ],
      "metadata": {
        "id": "N3-V5etjwX36"
      }
    },
    {
      "cell_type": "code",
      "source": [
        "def mutation(offspring):\n",
        "  return offspring"
      ],
      "metadata": {
        "id": "Vfj3w0GpwZsh"
      },
      "execution_count": 74,
      "outputs": []
    },
    {
      "cell_type": "markdown",
      "source": [
        "# genetico y funciones TEST"
      ],
      "metadata": {
        "id": "eKhoyj84EXXb"
      }
    },
    {
      "cell_type": "code",
      "source": [
        "geneticAlgorithm = GeneticAlgorithm(1,2,3,4,5,6,7,n_save_best_population = 5)\n",
        "initial_population = gen_population(n_pop = 10)\n",
        "fitness_function_keras = Fitness_function_keras(X, Y , epochs = 100, batch_size = 1, learning_rate = 0.01)\n",
        "selection = Selection_function(number_of_couples = 5 )\n",
        "n_immigration_function = 5"
      ],
      "metadata": {
        "id": "u6RJcxYZ_FkZ"
      },
      "execution_count": 75,
      "outputs": []
    },
    {
      "cell_type": "code",
      "source": [
        "#print(\"---- initial_population ----\")\n",
        "population = initial_population\n",
        "#print(population)\n",
        "#print(len(population))\n",
        "\n",
        "for i in range(8):\n",
        "\n",
        "  print(\"||||||| GEN: \" + str(i) + \" ||||||||\")\n",
        "\n",
        "  #print(\"---- fitness ----\")\n",
        "  fitness = fitness_function_keras.run(population)\n",
        "  #print(fitness)\n",
        "  #print(len(fitness))\n",
        "\n",
        "  best_idx = np.argmin(fitness)\n",
        "\n",
        "  best_fitness = fitness[best_idx]\n",
        "  print(\"best fitness: \" + str(best_fitness))\n",
        "  print(\"best_model: \")\n",
        "  print(population[best_idx])\n",
        "\n",
        "  if best_fitness < 0.1:\n",
        "    #print(\"best_model: \" )\n",
        "    #print(population[best_idx])\n",
        "    print(\"ENTRENAMIENTO TERMINADO\")\n",
        "    break\n",
        "\n",
        "  print(\"---- best_population ----\")\n",
        "  best_population = geneticAlgorithm._get_best_population(population,fitness)\n",
        "  print(best_population)\n",
        "  print(len(best_population))\n",
        "\n",
        "  #print(\"---- parents ----\")\n",
        "  parents = selection.tournament_selection(population, fitness)\n",
        "  #print(parents)\n",
        "  #print(len(parents))\n",
        "\n",
        "  print(\"---- offspring crossover ----\")\n",
        "  offspring = easy_crossover(parents)\n",
        "  #print(offspring)\n",
        "  print(len(offspring))\n",
        "\n",
        "  #print(\"---- offspring mutation ----\")\n",
        "  offspring = mutation(offspring)\n",
        "  #print(offspring)\n",
        "  #print(len(offspring))\n",
        "\n",
        "  #print(\"---- population ----\")\n",
        "  population = offspring\n",
        "  #population = np.concatenate((parents, offspring))\n",
        "  #print(population)\n",
        "  #print(len(population))\n",
        "\n",
        "  print(\"---- immigration ----\")\n",
        "  immigration = gen_population(n_pop = n_immigration_function)\n",
        "  #print(immigration)\n",
        "  print(len(immigration))\n",
        "\n",
        "  #print(\"---- population + immigration ----\")\n",
        "  population = np.concatenate((population, immigration))\n",
        "  #print(population)\n",
        "  #print(len(population))\n",
        "\n",
        "  print(\"---- population + best_population ----\")\n",
        "  population = np.concatenate((population, best_population))\n",
        "  #print(population)\n",
        "  print(len(population))\n",
        "\n"
      ],
      "metadata": {
        "colab": {
          "base_uri": "https://localhost:8080/"
        },
        "id": "U4QIZ8-fJ94p",
        "outputId": "6e055e00-e1d5-4631-f097-04f62cc59dbc"
      },
      "execution_count": 76,
      "outputs": [
        {
          "output_type": "stream",
          "name": "stdout",
          "text": [
            "||||||| GEN: 0 ||||||||\n",
            "best fitness: 1.5439156293869019\n",
            "best_model: \n",
            "[4 61 'relu' 2 21 'linear' 4 1 'linear' 'softplus']\n",
            "---- best_population ----\n",
            "[[4 61 'relu' 2 21 'linear' 4 1 'linear' 'softplus']\n",
            " [2 31 'linear' 1 51 'relu' 4 11 'relu' 'softplus']\n",
            " [3 31 'relu' 2 51 'relu' 1 61 'relu' 'softplus']\n",
            " [1 21 'linear' 1 21 'relu' 3 71 'relu' 'softmax']\n",
            " [4 81 'linear' 3 81 'relu' 4 41 'relu' 'linear']]\n",
            "5\n",
            "---- offspring crossover ----\n",
            "10\n",
            "---- immigration ----\n",
            "5\n",
            "---- population + best_population ----\n",
            "20\n",
            "||||||| GEN: 1 ||||||||\n",
            "best fitness: 1.5337692499160767\n",
            "best_model: \n",
            "[3 31 'relu' 2 51 'relu' 4 1 'linear' 'softplus']\n",
            "---- best_population ----\n",
            "[[3 31 'relu' 2 51 'relu' 4 1 'linear' 'softplus']\n",
            " [4 81 'relu' 3 81 'relu' 4 1 'linear' 'softplus']\n",
            " [2 31 'linear' 1 51 'relu' 4 11 'relu' 'softplus']\n",
            " [4 61 'relu' 2 21 'linear' 4 1 'linear' 'softplus']\n",
            " [2 21 'relu' 1 81 'linear' 4 21 'relu' 'softplus']]\n",
            "5\n",
            "---- offspring crossover ----\n",
            "10\n",
            "---- immigration ----\n",
            "5\n",
            "---- population + best_population ----\n",
            "20\n",
            "||||||| GEN: 2 ||||||||\n",
            "best fitness: 1.523497223854065\n",
            "best_model: \n",
            "[2 51 'relu' 3 61 'linear' 1 1 'linear' 'relu']\n",
            "---- best_population ----\n",
            "[[2 51 'relu' 3 61 'linear' 1 1 'linear' 'relu']\n",
            " [3 31 'relu' 2 51 'relu' 4 1 'linear' 'softplus']\n",
            " [4 31 'relu' 2 51 'relu' 1 1 'linear' 'softplus']\n",
            " [4 61 'relu' 2 21 'linear' 4 1 'linear' 'softplus']\n",
            " [4 81 'relu' 3 81 'relu' 4 1 'linear' 'softplus']]\n",
            "5\n",
            "---- offspring crossover ----\n",
            "10\n",
            "---- immigration ----\n",
            "5\n",
            "---- population + best_population ----\n",
            "20\n",
            "||||||| GEN: 3 ||||||||\n",
            "best fitness: 1.4971582889556885\n",
            "best_model: \n",
            "[4 61 'relu' 2 81 'relu' 4 21 'linear' 'softplus']\n",
            "---- best_population ----\n",
            "[[4 61 'relu' 2 81 'relu' 4 21 'linear' 'softplus']\n",
            " [4 61 'relu' 2 21 'linear' 4 1 'linear' 'softplus']\n",
            " [4 81 'relu' 3 81 'relu' 4 1 'linear' 'softplus']\n",
            " [3 31 'relu' 2 51 'relu' 4 1 'linear' 'softplus']\n",
            " [4 61 'linear' 3 61 'linear' 1 1 'linear' 'softplus']]\n",
            "5\n",
            "---- offspring crossover ----\n",
            "10\n",
            "---- immigration ----\n",
            "5\n",
            "---- population + best_population ----\n",
            "20\n",
            "||||||| GEN: 4 ||||||||\n",
            "best fitness: 1.5067089796066284\n",
            "best_model: \n",
            "[4 81 'relu' 3 81 'relu' 4 1 'linear' 'softplus']\n",
            "---- best_population ----\n",
            "[[4 81 'relu' 3 81 'relu' 4 1 'linear' 'softplus']\n",
            " [3 31 'relu' 2 51 'relu' 4 1 'linear' 'softplus']\n",
            " [4 51 'relu' 3 51 'relu' 4 1 'linear' 'relu']\n",
            " [4 61 'linear' 3 61 'linear' 1 1 'linear' 'softplus']\n",
            " [1 11 'linear' 4 41 'relu' 2 81 'relu' 'relu']]\n",
            "5\n",
            "---- offspring crossover ----\n",
            "10\n",
            "---- immigration ----\n",
            "5\n",
            "---- population + best_population ----\n",
            "20\n",
            "||||||| GEN: 5 ||||||||\n",
            "best fitness: 1.5370352268218994\n",
            "best_model: \n",
            "[3 81 'relu' 2 51 'relu' 4 1 'linear' 'softplus']\n",
            "---- best_population ----\n",
            "[[3 81 'relu' 2 51 'relu' 4 1 'linear' 'softplus']\n",
            " [4 51 'relu' 3 51 'relu' 4 1 'linear' 'softplus']\n",
            " [4 31 'relu' 3 81 'relu' 4 1 'linear' 'softplus']\n",
            " [4 61 'linear' 1 21 'linear' 4 1 'linear' 'softplus']\n",
            " [3 31 'relu' 2 51 'relu' 4 1 'linear' 'softplus']]\n",
            "5\n",
            "---- offspring crossover ----\n",
            "10\n",
            "---- immigration ----\n",
            "5\n",
            "---- population + best_population ----\n",
            "20\n",
            "||||||| GEN: 6 ||||||||\n",
            "best fitness: 1.5355310440063477\n",
            "best_model: \n",
            "[4 61 'linear' 3 61 'linear' 4 1 'linear' 'softplus']\n",
            "---- best_population ----\n",
            "[[4 61 'linear' 3 61 'linear' 4 1 'linear' 'softplus']\n",
            " [4 81 'relu' 3 81 'relu' 4 1 'linear' 'softplus']\n",
            " [4 51 'relu' 3 51 'relu' 4 1 'linear' 'softplus']\n",
            " [3 81 'relu' 2 51 'relu' 4 1 'linear' 'softplus']\n",
            " [4 61 'linear' 3 41 'relu' 4 1 'linear' 'softplus']]\n",
            "5\n",
            "---- offspring crossover ----\n",
            "10\n",
            "---- immigration ----\n",
            "5\n",
            "---- population + best_population ----\n",
            "20\n",
            "||||||| GEN: 7 ||||||||\n",
            "best fitness: 1.521141529083252\n",
            "best_model: \n",
            "[4 81 'relu' 2 51 'relu' 4 1 'linear' 'softplus']\n",
            "---- best_population ----\n",
            "[[4 81 'relu' 2 51 'relu' 4 1 'linear' 'softplus']\n",
            " [4 81 'relu' 3 51 'relu' 1 1 'linear' 'softplus']\n",
            " [3 31 'relu' 2 81 'relu' 4 1 'linear' 'softplus']\n",
            " [4 81 'relu' 2 81 'relu' 4 1 'linear' 'softplus']\n",
            " [3 31 'relu' 3 51 'relu' 4 1 'linear' 'softplus']]\n",
            "5\n",
            "---- offspring crossover ----\n",
            "10\n",
            "---- immigration ----\n",
            "5\n",
            "---- population + best_population ----\n",
            "20\n"
          ]
        }
      ]
    },
    {
      "cell_type": "code",
      "source": [
        "for i in range(1):\n",
        "  model_test = create_model(X.shape[1:], Y.shape[1:],population[best_idx], learning_rate=0.001)\n",
        "  model_test_h = model_test.fit(X,Y,\n",
        "                    epochs=100,\n",
        "                    batch_size = 2,\n",
        "                    validation_split = 0.2,\n",
        "                    verbose=0)\n",
        "\n",
        "  #idx_best_loss = np.argmin(model_test_h.history[\"val_loss\"])\n",
        "  #best_loss = model_test_h.history[\"val_loss\"][idx_best_loss]\n",
        "  #print(i)\n",
        "  #print(best_loss)\n",
        "  #if best_loss < 0.1 : break"
      ],
      "metadata": {
        "id": "3A4qax0JZj7H"
      },
      "execution_count": 104,
      "outputs": []
    },
    {
      "cell_type": "code",
      "source": [
        "plt.plot(model_test_h.history['loss'])\n",
        "plt.plot(model_test_h.history['val_loss'])"
      ],
      "metadata": {
        "id": "n4Dx6gkOZCKj",
        "colab": {
          "base_uri": "https://localhost:8080/",
          "height": 447
        },
        "outputId": "6d3af7f6-76a4-4ea9-e33b-ea410c2dc2fb"
      },
      "execution_count": 99,
      "outputs": [
        {
          "output_type": "execute_result",
          "data": {
            "text/plain": [
              "[<matplotlib.lines.Line2D at 0x7f6bbad41270>]"
            ]
          },
          "metadata": {},
          "execution_count": 99
        },
        {
          "output_type": "display_data",
          "data": {
            "text/plain": [
              "<Figure size 640x480 with 1 Axes>"
            ],
            "image/png": "[encoded data removed]"
          },
          "metadata": {}
        }
      ]
    },
    {
      "cell_type": "code",
      "source": [
        "y_pred = model_test.predict(X)"
      ],
      "metadata": {
        "id": "Dis00hM7dgl1",
        "colab": {
          "base_uri": "https://localhost:8080/"
        },
        "outputId": "b148d09e-3722-42c6-e6f2-44561949e5ee"
      },
      "execution_count": 100,
      "outputs": [
        {
          "output_type": "stream",
          "name": "stdout",
          "text": [
            "4/4 [==============================] - 0s 6ms/step\n"
          ]
        }
      ]
    },
    {
      "cell_type": "code",
      "source": [
        "y_pred"
      ],
      "metadata": {
        "colab": {
          "base_uri": "https://localhost:8080/"
        },
        "id": "IIx32WIMdi53",
        "outputId": "67201847-c29b-457f-c198-082e841494cf"
      },
      "execution_count": 101,
      "outputs": [
        {
          "output_type": "execute_result",
          "data": {
            "text/plain": [
              "array([[[1.0000000e+00, 1.5940941e-21, 1.4163886e-22, 1.5040447e-10,\n",
              "         1.1430493e-11],\n",
              "        [0.0000000e+00, 1.0000000e+00, 1.0246478e-08, 1.4297806e-15,\n",
              "         1.0370636e-28],\n",
              "        [3.7008482e-10, 1.8736255e-17, 2.0413677e-21, 1.0000000e+00,\n",
              "         5.6870562e-09],\n",
              "        [3.9747491e-10, 4.5919278e-22, 3.7986542e-10, 1.3911362e-21,\n",
              "         1.0000000e+00],\n",
              "        [3.2468847e-08, 5.2576912e-09, 1.0000000e+00, 1.4600804e-13,\n",
              "         2.1872143e-08]],\n",
              "\n",
              "       [[1.8318069e-11, 3.1160199e-19, 3.6542525e-21, 8.8399893e-10,\n",
              "         1.0000000e+00],\n",
              "        [3.6673569e-33, 9.9999988e-01, 7.3403527e-08, 7.7217366e-10,\n",
              "         2.2424078e-19],\n",
              "        [9.3286869e-13, 2.9272423e-18, 1.0000000e+00, 6.4902648e-09,\n",
              "         9.7681593e-17],\n",
              "        [1.0000000e+00, 9.0082539e-11, 1.8191911e-16, 5.0649510e-16,\n",
              "         1.1265237e-12],\n",
              "        [1.2203945e-09, 7.5590763e-11, 1.2023789e-10, 1.0000000e+00,\n",
              "         6.1905628e-20]],\n",
              "\n",
              "       [[1.4796433e-09, 9.8236404e-19, 1.7001414e-24, 5.5313035e-13,\n",
              "         1.0000000e+00],\n",
              "        [9.9999988e-01, 1.9009124e-11, 8.6914177e-08, 3.5293148e-24,\n",
              "         3.0034055e-37],\n",
              "        [4.2517005e-15, 4.0559577e-18, 1.0363103e-09, 1.0000000e+00,\n",
              "         1.2692000e-10],\n",
              "        [2.2349866e-08, 1.0000000e+00, 4.1047412e-17, 4.3464519e-16,\n",
              "         1.0177367e-09],\n",
              "        [4.4197188e-23, 2.3288760e-09, 1.0000000e+00, 2.5920731e-14,\n",
              "         2.0910726e-14]],\n",
              "\n",
              "       ...,\n",
              "\n",
              "       [[1.0605967e-01, 2.7056220e-12, 8.5727579e-06, 1.4223178e-13,\n",
              "         8.9393175e-01],\n",
              "        [8.3999438e-26, 3.5793646e-09, 9.9927884e-01, 7.2120083e-04,\n",
              "         3.9363445e-18],\n",
              "        [2.5477094e-09, 9.8956954e-01, 5.0203961e-09, 1.0430375e-02,\n",
              "         1.7442542e-08],\n",
              "        [1.8598360e-09, 7.4939874e-11, 7.9043176e-08, 9.9999988e-01,\n",
              "         2.1059805e-08],\n",
              "        [9.9841833e-01, 1.5816786e-03, 7.3753759e-10, 2.9214220e-09,\n",
              "         9.2027982e-11]],\n",
              "\n",
              "       [[1.0000000e+00, 7.2045341e-26, 6.7641396e-25, 4.3267667e-23,\n",
              "         6.0937333e-33],\n",
              "        [0.0000000e+00, 8.2101882e-04, 9.9917895e-01, 2.0394463e-10,\n",
              "         8.0567562e-25],\n",
              "        [3.0567442e-08, 9.9927849e-01, 1.2387682e-07, 7.2909546e-11,\n",
              "         7.2140904e-04],\n",
              "        [6.0503584e-01, 1.0002598e-06, 1.8439866e-03, 6.6786997e-06,\n",
              "         3.9311242e-01],\n",
              "        [1.8377940e-13, 4.5081466e-03, 9.9510866e-01, 7.2640810e-10,\n",
              "         3.8319235e-04]],\n",
              "\n",
              "       [[1.0000000e+00, 5.6246439e-15, 2.8334188e-24, 2.9272737e-27,\n",
              "         2.1968935e-08],\n",
              "        [0.0000000e+00, 9.8680031e-01, 1.2946318e-02, 2.5330382e-04,\n",
              "         1.2511876e-23],\n",
              "        [6.0200490e-11, 9.9999988e-01, 1.1478573e-12, 1.5817164e-07,\n",
              "         1.5322451e-09],\n",
              "        [1.6071217e-10, 3.0045516e-03, 1.0882027e-10, 3.5765846e-09,\n",
              "         9.9699545e-01],\n",
              "        [1.5065003e-24, 6.0176456e-24, 1.0000000e+00, 2.1906025e-21,\n",
              "         4.4685819e-21]]], dtype=float32)"
            ]
          },
          "metadata": {},
          "execution_count": 101
        }
      ]
    },
    {
      "cell_type": "code",
      "source": [
        "np.argmax(y_pred, axis=-1)"
      ],
      "metadata": {
        "colab": {
          "base_uri": "https://localhost:8080/"
        },
        "id": "Ge6C4TBhdJmQ",
        "outputId": "96515612-b242-4986-ee14-e03ac8a07505"
      },
      "execution_count": 102,
      "outputs": [
        {
          "output_type": "execute_result",
          "data": {
            "text/plain": [
              "array([[0, 1, 3, 4, 2],\n",
              "       [4, 1, 2, 0, 3],\n",
              "       [4, 0, 3, 1, 2],\n",
              "       [3, 1, 4, 0, 2],\n",
              "       [4, 2, 1, 3, 0],\n",
              "       [4, 2, 0, 3, 1],\n",
              "       [0, 2, 3, 1, 4],\n",
              "       [3, 2, 1, 0, 4],\n",
              "       [3, 2, 0, 4, 1],\n",
              "       [0, 4, 3, 2, 1],\n",
              "       [4, 2, 0, 3, 1],\n",
              "       [0, 2, 3, 1, 4],\n",
              "       [4, 3, 2, 0, 1],\n",
              "       [0, 3, 1, 2, 4],\n",
              "       [0, 1, 4, 2, 3],\n",
              "       [4, 2, 1, 0, 3],\n",
              "       [0, 2, 4, 1, 3],\n",
              "       [2, 1, 0, 4, 3],\n",
              "       [4, 3, 0, 1, 2],\n",
              "       [3, 1, 4, 0, 2],\n",
              "       [0, 3, 4, 2, 1],\n",
              "       [0, 2, 4, 1, 3],\n",
              "       [4, 1, 2, 3, 0],\n",
              "       [0, 4, 1, 3, 2],\n",
              "       [4, 2, 1, 3, 0],\n",
              "       [3, 2, 4, 0, 1],\n",
              "       [0, 2, 3, 1, 4],\n",
              "       [4, 1, 0, 3, 2],\n",
              "       [2, 3, 1, 0, 4],\n",
              "       [2, 4, 3, 0, 1],\n",
              "       [4, 2, 0, 1, 3],\n",
              "       [4, 3, 2, 0, 1],\n",
              "       [4, 2, 3, 1, 0],\n",
              "       [4, 3, 2, 0, 1],\n",
              "       [0, 3, 1, 4, 2],\n",
              "       [4, 3, 1, 0, 2],\n",
              "       [1, 2, 3, 4, 0],\n",
              "       [0, 2, 1, 3, 4],\n",
              "       [4, 2, 3, 0, 1],\n",
              "       [1, 3, 2, 4, 0],\n",
              "       [0, 1, 2, 4, 3],\n",
              "       [2, 3, 1, 0, 4],\n",
              "       [1, 3, 4, 0, 2],\n",
              "       [4, 3, 1, 0, 2],\n",
              "       [0, 3, 4, 1, 2],\n",
              "       [2, 4, 3, 1, 0],\n",
              "       [4, 1, 3, 0, 2],\n",
              "       [4, 1, 3, 2, 0],\n",
              "       [0, 2, 3, 4, 1],\n",
              "       [2, 1, 4, 3, 0],\n",
              "       [4, 3, 1, 0, 2],\n",
              "       [0, 2, 4, 1, 3],\n",
              "       [4, 1, 0, 2, 3],\n",
              "       [0, 2, 4, 3, 1],\n",
              "       [0, 3, 1, 2, 4],\n",
              "       [4, 2, 0, 3, 1],\n",
              "       [1, 2, 3, 4, 0],\n",
              "       [4, 1, 0, 2, 3],\n",
              "       [0, 2, 1, 4, 3],\n",
              "       [1, 2, 3, 0, 4],\n",
              "       [0, 3, 1, 2, 4],\n",
              "       [4, 2, 3, 0, 1],\n",
              "       [3, 2, 4, 1, 0],\n",
              "       [4, 0, 1, 2, 3],\n",
              "       [4, 3, 2, 1, 0],\n",
              "       [0, 2, 3, 1, 4],\n",
              "       [0, 3, 1, 2, 4],\n",
              "       [4, 1, 0, 2, 3],\n",
              "       [0, 3, 2, 4, 1],\n",
              "       [4, 1, 0, 3, 2],\n",
              "       [0, 3, 1, 2, 4],\n",
              "       [0, 1, 3, 4, 2],\n",
              "       [0, 1, 3, 2, 4],\n",
              "       [0, 2, 3, 4, 1],\n",
              "       [4, 1, 3, 0, 2],\n",
              "       [2, 3, 4, 0, 1],\n",
              "       [4, 1, 0, 2, 3],\n",
              "       [0, 3, 1, 2, 4],\n",
              "       [4, 2, 3, 1, 0],\n",
              "       [0, 2, 4, 1, 3],\n",
              "       [0, 2, 1, 2, 4],\n",
              "       [0, 3, 3, 2, 1],\n",
              "       [0, 3, 1, 2, 3],\n",
              "       [0, 2, 3, 0, 0],\n",
              "       [0, 2, 4, 1, 0],\n",
              "       [0, 2, 4, 4, 2],\n",
              "       [4, 2, 3, 0, 1],\n",
              "       [4, 2, 4, 1, 0],\n",
              "       [0, 1, 0, 3, 2],\n",
              "       [4, 3, 1, 1, 3],\n",
              "       [0, 3, 1, 1, 0],\n",
              "       [4, 2, 4, 3, 1],\n",
              "       [0, 2, 4, 0, 4],\n",
              "       [4, 1, 0, 2, 2],\n",
              "       [4, 3, 4, 1, 3],\n",
              "       [4, 3, 4, 3, 2],\n",
              "       [4, 2, 3, 1, 4],\n",
              "       [4, 2, 1, 3, 0],\n",
              "       [0, 2, 1, 0, 2],\n",
              "       [0, 1, 1, 4, 2]])"
            ]
          },
          "metadata": {},
          "execution_count": 102
        }
      ]
    },
    {
      "cell_type": "code",
      "source": [
        "np.argmax(Y, axis=-1)"
      ],
      "metadata": {
        "colab": {
          "base_uri": "https://localhost:8080/"
        },
        "id": "bXIxn1uedUvp",
        "outputId": "cd4e39f0-82ae-46a4-84c7-a4e656e4cf1d"
      },
      "execution_count": 103,
      "outputs": [
        {
          "output_type": "execute_result",
          "data": {
            "text/plain": [
              "array([[0, 1, 3, 4, 2],\n",
              "       [4, 1, 2, 0, 3],\n",
              "       [4, 0, 3, 1, 2],\n",
              "       [3, 1, 4, 0, 2],\n",
              "       [4, 2, 1, 3, 0],\n",
              "       [4, 2, 0, 3, 1],\n",
              "       [0, 2, 3, 1, 4],\n",
              "       [3, 2, 1, 0, 4],\n",
              "       [3, 2, 0, 4, 1],\n",
              "       [0, 4, 3, 2, 1],\n",
              "       [4, 2, 0, 3, 1],\n",
              "       [0, 2, 3, 1, 4],\n",
              "       [4, 3, 2, 0, 1],\n",
              "       [0, 3, 1, 2, 4],\n",
              "       [0, 1, 4, 2, 3],\n",
              "       [4, 2, 1, 0, 3],\n",
              "       [0, 2, 4, 1, 3],\n",
              "       [2, 1, 0, 4, 3],\n",
              "       [4, 3, 0, 1, 2],\n",
              "       [3, 1, 4, 0, 2],\n",
              "       [0, 3, 4, 2, 1],\n",
              "       [0, 2, 4, 1, 3],\n",
              "       [4, 1, 2, 3, 0],\n",
              "       [0, 4, 1, 3, 2],\n",
              "       [4, 2, 1, 3, 0],\n",
              "       [3, 2, 4, 0, 1],\n",
              "       [0, 2, 3, 1, 4],\n",
              "       [4, 1, 0, 3, 2],\n",
              "       [2, 3, 1, 0, 4],\n",
              "       [2, 4, 3, 0, 1],\n",
              "       [4, 2, 0, 1, 3],\n",
              "       [4, 3, 2, 0, 1],\n",
              "       [4, 2, 3, 1, 0],\n",
              "       [4, 3, 2, 0, 1],\n",
              "       [0, 3, 1, 4, 2],\n",
              "       [4, 3, 1, 0, 2],\n",
              "       [1, 2, 3, 4, 0],\n",
              "       [0, 2, 1, 3, 4],\n",
              "       [4, 2, 3, 0, 1],\n",
              "       [1, 3, 2, 4, 0],\n",
              "       [0, 1, 2, 4, 3],\n",
              "       [2, 3, 1, 0, 4],\n",
              "       [1, 3, 4, 0, 2],\n",
              "       [4, 3, 1, 0, 2],\n",
              "       [0, 3, 4, 1, 2],\n",
              "       [2, 4, 3, 1, 0],\n",
              "       [4, 1, 3, 0, 2],\n",
              "       [4, 1, 3, 2, 0],\n",
              "       [0, 2, 3, 4, 1],\n",
              "       [2, 1, 4, 3, 0],\n",
              "       [4, 3, 1, 0, 2],\n",
              "       [0, 2, 4, 1, 3],\n",
              "       [4, 1, 0, 2, 3],\n",
              "       [0, 2, 4, 3, 1],\n",
              "       [0, 3, 1, 2, 4],\n",
              "       [4, 2, 0, 3, 1],\n",
              "       [1, 2, 3, 4, 0],\n",
              "       [4, 1, 0, 2, 3],\n",
              "       [0, 2, 1, 4, 3],\n",
              "       [1, 2, 3, 0, 4],\n",
              "       [0, 3, 1, 2, 4],\n",
              "       [4, 2, 3, 0, 1],\n",
              "       [3, 2, 4, 1, 0],\n",
              "       [4, 0, 1, 2, 3],\n",
              "       [4, 3, 2, 1, 0],\n",
              "       [0, 2, 3, 1, 4],\n",
              "       [0, 3, 1, 2, 4],\n",
              "       [4, 1, 0, 2, 3],\n",
              "       [0, 3, 2, 4, 1],\n",
              "       [4, 1, 0, 3, 2],\n",
              "       [0, 3, 1, 2, 4],\n",
              "       [0, 1, 3, 4, 2],\n",
              "       [0, 1, 3, 2, 4],\n",
              "       [0, 2, 3, 4, 1],\n",
              "       [4, 1, 3, 0, 2],\n",
              "       [2, 3, 4, 0, 1],\n",
              "       [4, 1, 0, 2, 3],\n",
              "       [0, 3, 1, 2, 4],\n",
              "       [4, 2, 3, 1, 0],\n",
              "       [0, 2, 4, 1, 3],\n",
              "       [4, 1, 3, 0, 2],\n",
              "       [4, 1, 0, 2, 3],\n",
              "       [0, 4, 1, 2, 3],\n",
              "       [0, 1, 2, 3, 4],\n",
              "       [4, 3, 0, 1, 2],\n",
              "       [0, 2, 3, 1, 4],\n",
              "       [3, 4, 2, 1, 0],\n",
              "       [0, 4, 2, 1, 3],\n",
              "       [0, 2, 3, 1, 4],\n",
              "       [0, 3, 2, 4, 1],\n",
              "       [2, 0, 4, 1, 3],\n",
              "       [0, 3, 4, 2, 1],\n",
              "       [0, 4, 2, 1, 3],\n",
              "       [0, 2, 4, 3, 1],\n",
              "       [4, 3, 2, 1, 0],\n",
              "       [3, 1, 4, 2, 0],\n",
              "       [0, 2, 3, 4, 1],\n",
              "       [4, 1, 2, 3, 0],\n",
              "       [0, 2, 4, 1, 3],\n",
              "       [0, 1, 2, 3, 4]])"
            ]
          },
          "metadata": {},
          "execution_count": 103
        }
      ]
    }
  ]
}