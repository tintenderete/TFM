{
  "nbformat": 4,
  "nbformat_minor": 0,
  "metadata": {
    "colab": {
      "provenance": [],
      "gpuType": "T4",
      "toc_visible": true,
      "authorship_tag": "ABX9TyNtr9dCzWRsjHiMwaIh8RRx",
      "include_colab_link": true
    },
    "kernelspec": {
      "name": "python3",
      "display_name": "Python 3"
    },
    "language_info": {
      "name": "python"
    },
    "accelerator": "GPU"
  },
  "cells": [
    {
      "cell_type": "markdown",
      "metadata": {
        "id": "view-in-github",
        "colab_type": "text"
      },
      "source": [
        "<a href=\"https://colab.research.google.com/github/tintenderete/TFM-Algoritmo-con-redes-evolutivas/blob/main/modelo_fijo_datos_ibex35_2.ipynb\" target=\"_parent\"><img src=\"https://colab.research.google.com/assets/colab-badge.svg\" alt=\"Open In Colab\"/></a>"
      ]
    },
    {
      "cell_type": "code",
      "source": [
        "import yfinance as yf\n",
        "import pandas as pd\n",
        "from datetime import datetime, timedelta\n",
        "import numpy as np\n",
        "import matplotlib.pyplot as plt\n",
        "\n",
        "from keras.utils import to_categorical"
      ],
      "metadata": {
        "id": "2RVErMGcV9UT"
      },
      "execution_count": 1,
      "outputs": []
    },
    {
      "cell_type": "markdown",
      "source": [
        "# DATOS"
      ],
      "metadata": {
        "id": "QG-6jQP_SV22"
      }
    },
    {
      "cell_type": "code",
      "source": [
        "symbols = [\n",
        "\"ANA.MC\", \"ACX.MC\", \"ACS.MC\", \"AENA.MC\", \"AMS.MC\", \"MTS.MC\", \"SAB.MC\", \"BKIA.MC\", \"BKT.MC\", \"BBVA.MC\", \"CABK.MC\",\n",
        "\"CLNX.MC\", \"CIE.MC\", \"ENG.MC\", \"ELE.MC\", \"FER.MC\", \"GRF.MC\", \"IAG.MC\", \"IBE.MC\", \"ITX.MC\", \"IDR.MC\", \"COL.MC\",\n",
        "\"MEL.MC\", \"MRL.MC\", \"NTGY.MC\", \"PHM.MC\", \"REE.MC\", \"REP.MC\", \"SGRE.MC\", \"SLR.MC\", \"TRE.MC\", \"TEF.MC\", \"VIS.MC\",\n",
        "\"VWS.CO\"\n",
        "]"
      ],
      "metadata": {
        "id": "W-UqMHvAWACt"
      },
      "execution_count": 2,
      "outputs": []
    },
    {
      "cell_type": "code",
      "source": [
        "# Descargar datos\n",
        "start_date = \"2016-01-01\"\n",
        "end_date = \"2023-01-01\""
      ],
      "metadata": {
        "id": "f3ZAW-07WCt5"
      },
      "execution_count": 3,
      "outputs": []
    },
    {
      "cell_type": "code",
      "source": [
        "data = yf.download(symbols, start=start_date, end=end_date)"
      ],
      "metadata": {
        "colab": {
          "base_uri": "https://localhost:8080/"
        },
        "id": "5aC9Vhh-WGgy",
        "outputId": "1d48067b-34d8-43ce-9485-bb9c03bb9f8a"
      },
      "execution_count": 4,
      "outputs": [
        {
          "output_type": "stream",
          "name": "stdout",
          "text": [
            "[*********************100%***********************]  34 of 34 completed"
          ]
        },
        {
          "output_type": "stream",
          "name": "stderr",
          "text": [
            "ERROR:yfinance:\n",
            "3 Failed downloads:\n",
            "ERROR:yfinance:['BKIA.MC', 'REE.MC', 'SGRE.MC']: Exception('%ticker%: No timezone found, symbol may be delisted')\n"
          ]
        },
        {
          "output_type": "stream",
          "name": "stdout",
          "text": [
            "\n"
          ]
        }
      ]
    },
    {
      "cell_type": "code",
      "source": [
        "adj_close = data['Adj Close']"
      ],
      "metadata": {
        "id": "_1adFIyXWW6Z"
      },
      "execution_count": 5,
      "outputs": []
    },
    {
      "cell_type": "code",
      "source": [
        "adj_close.shape"
      ],
      "metadata": {
        "colab": {
          "base_uri": "https://localhost:8080/"
        },
        "id": "clVsm7lTWynh",
        "outputId": "396ec174-018d-4c01-944a-ecea00111ac9"
      },
      "execution_count": 6,
      "outputs": [
        {
          "output_type": "execute_result",
          "data": {
            "text/plain": [
              "(1797, 34)"
            ]
          },
          "metadata": {},
          "execution_count": 6
        }
      ]
    },
    {
      "cell_type": "code",
      "source": [
        "adj_close.isna().sum()"
      ],
      "metadata": {
        "colab": {
          "base_uri": "https://localhost:8080/"
        },
        "id": "esx4Fs-BWkjd",
        "outputId": "37b5e74d-7216-483a-a701-1217f736d6a7"
      },
      "execution_count": 7,
      "outputs": [
        {
          "output_type": "execute_result",
          "data": {
            "text/plain": [
              "ACS.MC        5\n",
              "ACX.MC        5\n",
              "AENA.MC       5\n",
              "AMS.MC        5\n",
              "ANA.MC        5\n",
              "BBVA.MC       5\n",
              "BKIA.MC    1797\n",
              "BKT.MC        5\n",
              "CABK.MC       5\n",
              "CIE.MC        5\n",
              "CLNX.MC       5\n",
              "COL.MC        5\n",
              "ELE.MC        5\n",
              "ENG.MC        5\n",
              "FER.MC        5\n",
              "GRF.MC        5\n",
              "IAG.MC        5\n",
              "IBE.MC        5\n",
              "IDR.MC        5\n",
              "ITX.MC        5\n",
              "MEL.MC        5\n",
              "MRL.MC        5\n",
              "MTS.MC        5\n",
              "NTGY.MC       5\n",
              "PHM.MC        5\n",
              "REE.MC     1797\n",
              "REP.MC        5\n",
              "SAB.MC        5\n",
              "SGRE.MC    1797\n",
              "SLR.MC        5\n",
              "TEF.MC        5\n",
              "TRE.MC        5\n",
              "VIS.MC        5\n",
              "VWS.CO       45\n",
              "dtype: int64"
            ]
          },
          "metadata": {},
          "execution_count": 7
        }
      ]
    },
    {
      "cell_type": "code",
      "source": [
        "adj_close = adj_close.drop([\"BKIA.MC\", \"REE.MC\", \"SGRE.MC\"  ], axis = 1)"
      ],
      "metadata": {
        "id": "RjN0c6d0XL2W"
      },
      "execution_count": 8,
      "outputs": []
    },
    {
      "cell_type": "code",
      "source": [
        "adj_close.isna().sum()"
      ],
      "metadata": {
        "colab": {
          "base_uri": "https://localhost:8080/"
        },
        "id": "ocNHfJHMXSzj",
        "outputId": "8301f727-f7de-4b7c-fe90-bd8bb9322489"
      },
      "execution_count": 9,
      "outputs": [
        {
          "output_type": "execute_result",
          "data": {
            "text/plain": [
              "ACS.MC      5\n",
              "ACX.MC      5\n",
              "AENA.MC     5\n",
              "AMS.MC      5\n",
              "ANA.MC      5\n",
              "BBVA.MC     5\n",
              "BKT.MC      5\n",
              "CABK.MC     5\n",
              "CIE.MC      5\n",
              "CLNX.MC     5\n",
              "COL.MC      5\n",
              "ELE.MC      5\n",
              "ENG.MC      5\n",
              "FER.MC      5\n",
              "GRF.MC      5\n",
              "IAG.MC      5\n",
              "IBE.MC      5\n",
              "IDR.MC      5\n",
              "ITX.MC      5\n",
              "MEL.MC      5\n",
              "MRL.MC      5\n",
              "MTS.MC      5\n",
              "NTGY.MC     5\n",
              "PHM.MC      5\n",
              "REP.MC      5\n",
              "SAB.MC      5\n",
              "SLR.MC      5\n",
              "TEF.MC      5\n",
              "TRE.MC      5\n",
              "VIS.MC      5\n",
              "VWS.CO     45\n",
              "dtype: int64"
            ]
          },
          "metadata": {},
          "execution_count": 9
        }
      ]
    },
    {
      "cell_type": "code",
      "source": [
        "adj_close = adj_close.fillna(method=\"ffill\")"
      ],
      "metadata": {
        "id": "k0DsvwXLbAmS"
      },
      "execution_count": 10,
      "outputs": []
    },
    {
      "cell_type": "code",
      "source": [
        "adj_close.isna().sum().sum()"
      ],
      "metadata": {
        "colab": {
          "base_uri": "https://localhost:8080/"
        },
        "id": "FLohe4yebXvc",
        "outputId": "c0f913c5-18f3-42eb-ce9c-39c36b5e0c8f"
      },
      "execution_count": 11,
      "outputs": [
        {
          "output_type": "execute_result",
          "data": {
            "text/plain": [
              "0"
            ]
          },
          "metadata": {},
          "execution_count": 11
        }
      ]
    },
    {
      "cell_type": "code",
      "source": [
        "adj_close.shape"
      ],
      "metadata": {
        "colab": {
          "base_uri": "https://localhost:8080/"
        },
        "id": "YsO4l9TVbb6a",
        "outputId": "481586b5-8b50-41d7-93a6-a5bf1ec9a70b"
      },
      "execution_count": 12,
      "outputs": [
        {
          "output_type": "execute_result",
          "data": {
            "text/plain": [
              "(1797, 31)"
            ]
          },
          "metadata": {},
          "execution_count": 12
        }
      ]
    },
    {
      "cell_type": "code",
      "source": [
        "plt.plot(adj_close);"
      ],
      "metadata": {
        "colab": {
          "base_uri": "https://localhost:8080/",
          "height": 430
        },
        "id": "0fQEFKc9b0T4",
        "outputId": "415e6f6a-009d-4fc1-af8a-74fa58d6dcd6"
      },
      "execution_count": 13,
      "outputs": [
        {
          "output_type": "display_data",
          "data": {
            "text/plain": [
              "<Figure size 640x480 with 1 Axes>"
            ],
            "image/png": "[encoded data removed]"
          },
          "metadata": {}
        }
      ]
    },
    {
      "cell_type": "code",
      "source": [
        "plt.plot(adj_close/adj_close.iloc[0]);"
      ],
      "metadata": {
        "colab": {
          "base_uri": "https://localhost:8080/",
          "height": 430
        },
        "id": "XcohWeibYg2J",
        "outputId": "f21e3bc0-7aa6-448c-efca-b9b436bd3167"
      },
      "execution_count": 14,
      "outputs": [
        {
          "output_type": "display_data",
          "data": {
            "text/plain": [
              "<Figure size 640x480 with 1 Axes>"
            ],
            "image/png": "[encoded data removed]"
          },
          "metadata": {}
        }
      ]
    },
    {
      "cell_type": "code",
      "source": [
        "adj_close.iloc[500:560].shape"
      ],
      "metadata": {
        "colab": {
          "base_uri": "https://localhost:8080/"
        },
        "id": "3izpTp20cKx0",
        "outputId": "6883ff23-5059-444e-f2ec-49c6f9e2c2c4"
      },
      "execution_count": 15,
      "outputs": [
        {
          "output_type": "execute_result",
          "data": {
            "text/plain": [
              "(60, 31)"
            ]
          },
          "metadata": {},
          "execution_count": 15
        }
      ]
    },
    {
      "cell_type": "code",
      "source": [
        "plt.plot(adj_close.iloc[500:560]/adj_close.iloc[500:560].iloc[0]);"
      ],
      "metadata": {
        "colab": {
          "base_uri": "https://localhost:8080/",
          "height": 430
        },
        "id": "CmgvfT5yb9cg",
        "outputId": "e58e403b-8075-4610-a8fb-7dc943a83607"
      },
      "execution_count": 16,
      "outputs": [
        {
          "output_type": "display_data",
          "data": {
            "text/plain": [
              "<Figure size 640x480 with 1 Axes>"
            ],
            "image/png": "[encoded data removed]"
          },
          "metadata": {}
        }
      ]
    },
    {
      "cell_type": "code",
      "source": [
        "adj_close.columns"
      ],
      "metadata": {
        "colab": {
          "base_uri": "https://localhost:8080/"
        },
        "id": "wcrwIBSfWFR8",
        "outputId": "695ff269-e3f8-4ec8-931c-455716f129d0"
      },
      "execution_count": 17,
      "outputs": [
        {
          "output_type": "execute_result",
          "data": {
            "text/plain": [
              "Index(['ACS.MC', 'ACX.MC', 'AENA.MC', 'AMS.MC', 'ANA.MC', 'BBVA.MC', 'BKT.MC',\n",
              "       'CABK.MC', 'CIE.MC', 'CLNX.MC', 'COL.MC', 'ELE.MC', 'ENG.MC', 'FER.MC',\n",
              "       'GRF.MC', 'IAG.MC', 'IBE.MC', 'IDR.MC', 'ITX.MC', 'MEL.MC', 'MRL.MC',\n",
              "       'MTS.MC', 'NTGY.MC', 'PHM.MC', 'REP.MC', 'SAB.MC', 'SLR.MC', 'TEF.MC',\n",
              "       'TRE.MC', 'VIS.MC', 'VWS.CO'],\n",
              "      dtype='object')"
            ]
          },
          "metadata": {},
          "execution_count": 17
        }
      ]
    },
    {
      "cell_type": "code",
      "source": [
        "adj_close.iloc[0:2, [0,1,2,3,4,5,6,7,8,9]]"
      ],
      "metadata": {
        "colab": {
          "base_uri": "https://localhost:8080/",
          "height": 143
        },
        "id": "ce17YeUqVhJO",
        "outputId": "68998c5b-9ab3-40a2-af68-592d72f65539"
      },
      "execution_count": 18,
      "outputs": [
        {
          "output_type": "execute_result",
          "data": {
            "text/plain": [
              "                        ACS.MC    ACX.MC    AENA.MC     AMS.MC     ANA.MC  \\\n",
              "Date                                                                        \n",
              "2016-01-04 00:00:00  16.762012  5.926919  79.277679  36.609074  62.069103   \n",
              "2016-01-05 00:00:00  16.794477  6.070360  79.734390  36.779484  62.354916   \n",
              "\n",
              "                      BBVA.MC    BKT.MC   CABK.MC     CIE.MC    CLNX.MC  \n",
              "Date                                                                     \n",
              "2016-01-04 00:00:00  4.407446  4.751968  2.298497  10.778533  14.772964  \n",
              "2016-01-05 00:00:00  4.436830  4.754171  2.279122  10.822527  14.747093  "
            ],
            "text/html": [
              "\n",
              "  <div id=\"df-20a166ba-5c27-4f69-8556-a245336d225b\">\n",
              "    <div class=\"colab-df-container\">\n",
              "      <div>\n",
              "<style scoped>\n",
              "    .dataframe tbody tr th:only-of-type {\n",
              "        vertical-align: middle;\n",
              "    }\n",
              "\n",
              "    .dataframe tbody tr th {\n",
              "        vertical-align: top;\n",
              "    }\n",
              "\n",
              "    .dataframe thead th {\n",
              "        text-align: right;\n",
              "    }\n",
              "</style>\n",
              "<table border=\"1\" class=\"dataframe\">\n",
              "  <thead>\n",
              "    <tr style=\"text-align: right;\">\n",
              "      <th></th>\n",
              "      <th>ACS.MC</th>\n",
              "      <th>ACX.MC</th>\n",
              "      <th>AENA.MC</th>\n",
              "      <th>AMS.MC</th>\n",
              "      <th>ANA.MC</th>\n",
              "      <th>BBVA.MC</th>\n",
              "      <th>BKT.MC</th>\n",
              "      <th>CABK.MC</th>\n",
              "      <th>CIE.MC</th>\n",
              "      <th>CLNX.MC</th>\n",
              "    </tr>\n",
              "    <tr>\n",
              "      <th>Date</th>\n",
              "      <th></th>\n",
              "      <th></th>\n",
              "      <th></th>\n",
              "      <th></th>\n",
              "      <th></th>\n",
              "      <th></th>\n",
              "      <th></th>\n",
              "      <th></th>\n",
              "      <th></th>\n",
              "      <th></th>\n",
              "    </tr>\n",
              "  </thead>\n",
              "  <tbody>\n",
              "    <tr>\n",
              "      <th>2016-01-04 00:00:00</th>\n",
              "      <td>16.762012</td>\n",
              "      <td>5.926919</td>\n",
              "      <td>79.277679</td>\n",
              "      <td>36.609074</td>\n",
              "      <td>62.069103</td>\n",
              "      <td>4.407446</td>\n",
              "      <td>4.751968</td>\n",
              "      <td>2.298497</td>\n",
              "      <td>10.778533</td>\n",
              "      <td>14.772964</td>\n",
              "    </tr>\n",
              "    <tr>\n",
              "      <th>2016-01-05 00:00:00</th>\n",
              "      <td>16.794477</td>\n",
              "      <td>6.070360</td>\n",
              "      <td>79.734390</td>\n",
              "      <td>36.779484</td>\n",
              "      <td>62.354916</td>\n",
              "      <td>4.436830</td>\n",
              "      <td>4.754171</td>\n",
              "      <td>2.279122</td>\n",
              "      <td>10.822527</td>\n",
              "      <td>14.747093</td>\n",
              "    </tr>\n",
              "  </tbody>\n",
              "</table>\n",
              "</div>\n",
              "      <button class=\"colab-df-convert\" onclick=\"convertToInteractive('df-20a166ba-5c27-4f69-8556-a245336d225b')\"\n",
              "              title=\"Convert this dataframe to an interactive table.\"\n",
              "              style=\"display:none;\">\n",
              "        \n",
              "  <svg xmlns=\"http://www.w3.org/2000/svg\" height=\"24px\"viewBox=\"0 0 24 24\"\n",
              "       width=\"24px\">\n",
              "    <path d=\"M0 0h24v24H0V0z\" fill=\"none\"/>\n",
              "    <path d=\"M18.56 5.44l.94 2.06.94-2.06 2.06-.94-2.06-.94-.94-2.06-.94 2.06-2.06.94zm-11 1L8.5 8.5l.94-2.06 2.06-.94-2.06-.94L8.5 2.5l-.94 2.06-2.06.94zm10 10l.94 2.06.94-2.06 2.06-.94-2.06-.94-.94-2.06-.94 2.06-2.06.94z\"/><path d=\"M17.41 7.96l-1.37-1.37c-.4-.4-.92-.59-1.43-.59-.52 0-1.04.2-1.43.59L10.3 9.45l-7.72 7.72c-.78.78-.78 2.05 0 2.83L4 21.41c.39.39.9.59 1.41.59.51 0 1.02-.2 1.41-.59l7.78-7.78 2.81-2.81c.8-.78.8-2.07 0-2.86zM5.41 20L4 18.59l7.72-7.72 1.47 1.35L5.41 20z\"/>\n",
              "  </svg>\n",
              "      </button>\n",
              "      \n",
              "  <style>\n",
              "    .colab-df-container {\n",
              "      display:flex;\n",
              "      flex-wrap:wrap;\n",
              "      gap: 12px;\n",
              "    }\n",
              "\n",
              "    .colab-df-convert {\n",
              "      background-color: #E8F0FE;\n",
              "      border: none;\n",
              "      border-radius: 50%;\n",
              "      cursor: pointer;\n",
              "      display: none;\n",
              "      fill: #1967D2;\n",
              "      height: 32px;\n",
              "      padding: 0 0 0 0;\n",
              "      width: 32px;\n",
              "    }\n",
              "\n",
              "    .colab-df-convert:hover {\n",
              "      background-color: #E2EBFA;\n",
              "      box-shadow: 0px 1px 2px rgba(60, 64, 67, 0.3), 0px 1px 3px 1px rgba(60, 64, 67, 0.15);\n",
              "      fill: #174EA6;\n",
              "    }\n",
              "\n",
              "    [theme=dark] .colab-df-convert {\n",
              "      background-color: #3B4455;\n",
              "      fill: #D2E3FC;\n",
              "    }\n",
              "\n",
              "    [theme=dark] .colab-df-convert:hover {\n",
              "      background-color: #434B5C;\n",
              "      box-shadow: 0px 1px 3px 1px rgba(0, 0, 0, 0.15);\n",
              "      filter: drop-shadow(0px 1px 2px rgba(0, 0, 0, 0.3));\n",
              "      fill: #FFFFFF;\n",
              "    }\n",
              "  </style>\n",
              "\n",
              "      <script>\n",
              "        const buttonEl =\n",
              "          document.querySelector('#df-20a166ba-5c27-4f69-8556-a245336d225b button.colab-df-convert');\n",
              "        buttonEl.style.display =\n",
              "          google.colab.kernel.accessAllowed ? 'block' : 'none';\n",
              "\n",
              "        async function convertToInteractive(key) {\n",
              "          const element = document.querySelector('#df-20a166ba-5c27-4f69-8556-a245336d225b');\n",
              "          const dataTable =\n",
              "            await google.colab.kernel.invokeFunction('convertToInteractive',\n",
              "                                                     [key], {});\n",
              "          if (!dataTable) return;\n",
              "\n",
              "          const docLinkHtml = 'Like what you see? Visit the ' +\n",
              "            '<a target=\"_blank\" href=https://colab.research.google.com/notebooks/data_table.ipynb>data table notebook</a>'\n",
              "            + ' to learn more about interactive tables.';\n",
              "          element.innerHTML = '';\n",
              "          dataTable['output_type'] = 'display_data';\n",
              "          await google.colab.output.renderOutput(dataTable, element);\n",
              "          const docLink = document.createElement('div');\n",
              "          docLink.innerHTML = docLinkHtml;\n",
              "          element.appendChild(docLink);\n",
              "        }\n",
              "      </script>\n",
              "    </div>\n",
              "  </div>\n",
              "  "
            ]
          },
          "metadata": {},
          "execution_count": 18
        }
      ]
    },
    {
      "cell_type": "markdown",
      "source": [
        "# def pesos_marko(datos_top, num_portfolios = 1000):"
      ],
      "metadata": {
        "id": "4tDDwtLCSYsj"
      }
    },
    {
      "cell_type": "code",
      "source": [
        "def pesos_marko(datos_top, num_portfolios = 1000):\n",
        "\n",
        "  returns = datos_top.pct_change().dropna()\n",
        "  cov_matrix = returns.cov()\n",
        "  tickers = datos_top.columns\n",
        "  # Número de simulaciones de cartera\n",
        "\n",
        "  # Inicializar arrays para almacenar los resultados de las simulaciones\n",
        "  portfolio_returns = np.zeros(num_portfolios)\n",
        "  portfolio_volatilities = np.zeros(num_portfolios)\n",
        "  portfolio_weights = np.zeros((num_portfolios, len(tickers)))\n",
        "\n",
        "  # Realizar las simulaciones de cartera\n",
        "  for i in range(num_portfolios):\n",
        "      # Generar ponderaciones aleatorias y normalizarlas para que sumen 1\n",
        "      weights = np.random.random(len(tickers))\n",
        "      weights /= np.sum(weights)\n",
        "\n",
        "      # Calcular el rendimiento y la volatilidad de la cartera\n",
        "      portfolio_return = np.dot(weights, returns.mean()) * 252\n",
        "      portfolio_volatility = np.sqrt(np.dot(weights.T, np.dot(cov_matrix, weights))) * np.sqrt(252)\n",
        "\n",
        "      # Almacenar los resultados\n",
        "      portfolio_returns[i] = portfolio_return\n",
        "      portfolio_volatilities[i] = portfolio_volatility\n",
        "      portfolio_weights[i, :] = weights\n",
        "\n",
        "  # Supongamos una tasa libre de riesgo del ...\n",
        "  risk_free_rate = 0.01\n",
        "\n",
        "  # Calcular el índice de Sharpe para cada cartera simulada\n",
        "  sharpe_ratios = (portfolio_returns - risk_free_rate) / portfolio_volatilities\n",
        "\n",
        "  carteras_ordenadas = np.argsort(-sharpe_ratios)\n",
        "\n",
        "  return portfolio_weights[carteras_ordenadas[0]]"
      ],
      "metadata": {
        "id": "0xh2BFkjVhOi"
      },
      "execution_count": 19,
      "outputs": []
    },
    {
      "cell_type": "markdown",
      "source": [
        "# def calculate_sharpe_ratio(returns, risk_free_rate):"
      ],
      "metadata": {
        "id": "QzYaEknoSbc3"
      }
    },
    {
      "cell_type": "code",
      "source": [
        "import numpy as np\n",
        "\n",
        "def calculate_sharpe_ratio(returns, risk_free_rate):\n",
        "    \"\"\"\n",
        "    Calcular el ratio de Sharpe\n",
        "\n",
        "    Parámetros:\n",
        "    returns (np.array): Array de rendimientos de la inversión\n",
        "    risk_free_rate (float): Tasa de rendimiento sin riesgo\n",
        "\n",
        "    Devuelve:\n",
        "    sharpe_ratio (float): Ratio de Sharpe\n",
        "    \"\"\"\n",
        "\n",
        "    # Calcular el rendimiento promedio\n",
        "    avg_returns = np.mean(returns)\n",
        "\n",
        "    # Calcular la desviación estándar de los rendimientos\n",
        "    std_returns = np.std(returns)\n",
        "\n",
        "    # Calcular el ratio de Sharpe\n",
        "    sharpe_ratio = (avg_returns - risk_free_rate) / std_returns\n",
        "\n",
        "    return sharpe_ratio\n"
      ],
      "metadata": {
        "id": "1aicmT8EiDRe"
      },
      "execution_count": 20,
      "outputs": []
    },
    {
      "cell_type": "markdown",
      "source": [
        "# def top_n_indices(arr, n):"
      ],
      "metadata": {
        "id": "VLQ5cB7cSfP9"
      }
    },
    {
      "cell_type": "code",
      "source": [
        "import numpy as np\n",
        "\n",
        "def top_n_indices(arr, n):\n",
        "    \"\"\"\n",
        "    Devuelve los índices de los n mayores elementos en el array.\n",
        "\n",
        "    Parámetros:\n",
        "    arr (np.array): Array de entrada\n",
        "    n (int): Número de índices a devolver\n",
        "\n",
        "    Devuelve:\n",
        "    top_indices (np.array): Índices de los n mayores elementos\n",
        "    \"\"\"\n",
        "    # Ordenar los índices en función de los valores en 'arr'\n",
        "    # 'argsort' devuelve los índices que ordenarían 'arr'\n",
        "    # '-arr' se usa para ordenar en orden descendente\n",
        "    sorted_indices = np.argsort(-arr)\n",
        "\n",
        "    # Devolver los primeros 'n' índices\n",
        "    top_indices = sorted_indices[:n]\n",
        "\n",
        "    return top_indices\n"
      ],
      "metadata": {
        "id": "oEcfGPEepcDS"
      },
      "execution_count": 21,
      "outputs": []
    },
    {
      "cell_type": "markdown",
      "source": [
        "# def algo_sharpe(data, n_activos_top = 10):"
      ],
      "metadata": {
        "id": "eeXlbMiDShYV"
      }
    },
    {
      "cell_type": "code",
      "source": [
        "def algo_sharpe(data, n_activos_top = 10):\n",
        "\n",
        "  sharpe = calculate_sharpe_ratio(np.log(data / data.shift(1)).dropna(), 0.01)\n",
        "  top = top_n_indices(sharpe, n_activos_top)\n",
        "\n",
        "  return top"
      ],
      "metadata": {
        "id": "kvd3A73TqRky"
      },
      "execution_count": 22,
      "outputs": []
    },
    {
      "cell_type": "markdown",
      "source": [
        "# def algo_random(n_activos_seleccionados, n_shape):"
      ],
      "metadata": {
        "id": "rRhzPiX4Si80"
      }
    },
    {
      "cell_type": "code",
      "source": [
        "def algo_random(n_activos_seleccionados, n_shape):\n",
        "  return np.random.choice(n_shape, size=n_activos_seleccionados, replace=False)"
      ],
      "metadata": {
        "id": "E31zCnv1ZyDf"
      },
      "execution_count": 23,
      "outputs": []
    },
    {
      "cell_type": "markdown",
      "source": [
        "# def calcular_rendimiento(data, data_forward, activos_seleccionados):"
      ],
      "metadata": {
        "id": "SoY_qWXFSlNb"
      }
    },
    {
      "cell_type": "code",
      "source": [
        "def calcular_rendimiento(data, data_forward, activos_seleccionados):\n",
        "  #data = datos_analisis[i-days_backward:i]\n",
        "  #data_forward = datos_analisis[i:i+days_forward]\n",
        "\n",
        "  # ALGO RANDOM\n",
        "  #activos_seleccionados= algo_random(n_activos_seleccionados, data.shape[1])\n",
        "  #print(\"activos_seleccionados\")\n",
        "  #print(activos_seleccionados)\n",
        "  ## CALCULAMOS FRONTERA MARKO\n",
        "  data_seleccion = data.iloc[:,activos_seleccionados]\n",
        "  pesos =  pesos_marko(data_seleccion , num_portfolios=num_portfolios)\n",
        "  #print(\"pesos\")\n",
        "  #print(pesos)\n",
        "  ## SELECCIONAMOS RENDIMIENTOS FUTUROS DE ACTIVOS\n",
        "  data_forward_seleccion= data_forward.iloc[:,activos_seleccionados]\n",
        "  rendimiento_activos = data_forward_seleccion.iloc[[0,-1],:].pct_change().dropna()\n",
        "  #print(\"rendimiento_activos\")\n",
        "  #print(rendimiento_activos)\n",
        "  ## CALCULAMOS RENDIMIENTOS FUTUROS DE CARTERA\n",
        "  return ( rendimiento_activos * pesos).sum(axis = 1)\n"
      ],
      "metadata": {
        "id": "uTiSxY5qJiFx"
      },
      "execution_count": 24,
      "outputs": []
    },
    {
      "cell_type": "code",
      "source": [
        "adj_close.shape"
      ],
      "metadata": {
        "colab": {
          "base_uri": "https://localhost:8080/"
        },
        "id": "AdeqZRLbKVBy",
        "outputId": "9e6aad43-7ac6-4682-a6ef-37b34a3bc26d"
      },
      "execution_count": 25,
      "outputs": [
        {
          "output_type": "execute_result",
          "data": {
            "text/plain": [
              "(1797, 31)"
            ]
          },
          "metadata": {},
          "execution_count": 25
        }
      ]
    },
    {
      "cell_type": "code",
      "source": [
        "adj_close[1797-500:1797].shape"
      ],
      "metadata": {
        "colab": {
          "base_uri": "https://localhost:8080/"
        },
        "id": "laCLRwJRYQSU",
        "outputId": "eba4b772-730b-457c-ffec-a2b61a6950fd"
      },
      "execution_count": 26,
      "outputs": [
        {
          "output_type": "execute_result",
          "data": {
            "text/plain": [
              "(500, 31)"
            ]
          },
          "metadata": {},
          "execution_count": 26
        }
      ]
    },
    {
      "cell_type": "markdown",
      "source": [
        "# softmax_by_asset"
      ],
      "metadata": {
        "id": "phvYn3qePpIq"
      }
    },
    {
      "cell_type": "code",
      "source": [
        "import tensorflow as tf\n",
        "from keras import backend as K\n",
        "\n",
        "def softmax_by_asset(x):\n",
        "    e = K.exp(x - K.max(x, axis=-1, keepdims=True))\n",
        "    s = K.sum(e, axis=-1, keepdims=True)\n",
        "    return e / s"
      ],
      "metadata": {
        "id": "5B3JcnDEPnmA"
      },
      "execution_count": 27,
      "outputs": []
    },
    {
      "cell_type": "code",
      "source": [
        "import warnings\n",
        "warnings.filterwarnings('ignore')"
      ],
      "metadata": {
        "id": "NvEZC5zmLxG3"
      },
      "execution_count": 28,
      "outputs": []
    },
    {
      "cell_type": "code",
      "source": [
        "# INVERSION\n",
        "\n",
        "import warnings\n",
        "warnings.filterwarnings('ignore')\n",
        "\n",
        "\"\"\"\n",
        "datos_analisis = adj_close[1797-700:1797]\n",
        "\n",
        "days_backward = 90\n",
        "days_forward = 30\n",
        "\n",
        "n_activos_seleccionados = 10\n",
        "num_portfolios = 10000\n",
        "\n",
        "rendimientos = {}\n",
        "rendimientos[\"rendimiento_algo_random_1\"] = []\n",
        "rendimientos[\"rendimiento_algo_random_2\"] = []\n",
        "rendimientos[\"rendimiento_algo_sharpe_1\"] = []\n",
        "rendimientos[\"rendimiento_algo_sharpe_2\"] = []\n",
        "\n",
        "i = 0\n",
        "n_i = 100\n",
        "\n",
        "\n",
        "for i in range(days_backward, len(datos_analisis), days_forward):\n",
        "  #print(i-90, i , i + days_forward )\n",
        "\n",
        "  data = datos_analisis[i-days_backward:i]\n",
        "  data_forward = datos_analisis[i:i+days_forward]\n",
        "\n",
        "  # ALGO RANDOM\n",
        "  activos_seleccionados= algo_random(n_activos_seleccionados, data.shape[1])\n",
        "  rendimiento = calcular_rendimiento(data, data_forward, activos_seleccionados)\n",
        "  ## GUARDAMOS RENDIMIENTO\n",
        "  rendimientos[\"rendimiento_algo_random_1\"].append(rendimiento)\n",
        "\n",
        "  # ALGO RANDOM\n",
        "  activos_seleccionados= algo_random(n_activos_seleccionados, data.shape[1])\n",
        "  rendimiento = calcular_rendimiento(data, data_forward, activos_seleccionados)\n",
        "  ## GUARDAMOS RENDIMIENTO\n",
        "  rendimientos[\"rendimiento_algo_random_2\"].append(rendimiento)\n",
        "\n",
        "  ####\n",
        "\n",
        "  # ALGO SHARPE\n",
        "  activos_seleccionados= algo_sharpe(data, n_activos_top = n_activos_seleccionados)\n",
        "  rendimiento = calcular_rendimiento(data, data_forward, activos_seleccionados)\n",
        "  ## GUARDAMOS RENDIMIENTO\n",
        "  rendimientos[\"rendimiento_algo_sharpe_1\"].append(rendimiento)\n",
        "\n",
        "  # ALGO SHARPE\n",
        "  activos_seleccionados= algo_sharpe(data, n_activos_top = n_activos_seleccionados)\n",
        "  rendimiento = calcular_rendimiento(data, data_forward, activos_seleccionados)\n",
        "  ## GUARDAMOS RENDIMIENTO\n",
        "  rendimientos[\"rendimiento_algo_sharpe_2\"].append(rendimiento)\n",
        "\n",
        "\n",
        "days = []\n",
        "for i in range(days_backward, len(datos_analisis), days_forward):\n",
        "  data = datos_analisis[i-days_backward:i]\n",
        "  data_forward = datos_analisis[i:i+days_forward]\n",
        "  days.append(data_forward.index[-1].date())\n",
        "  break\n",
        "days = np.array(days)\n",
        "\n",
        "\n",
        "plt.plot(np.array(rendimientos[\"rendimiento_algo_random_1\"]),   color = 'r');\n",
        "plt.plot(np.array(rendimientos[\"rendimiento_algo_random_2\"]),   color = 'r');\n",
        "plt.plot(np.array(rendimientos[\"rendimiento_algo_sharpe_1\"]),   color = 'b');\n",
        "plt.plot(np.array(rendimientos[\"rendimiento_algo_sharpe_2\"]),   color = 'b');\n",
        "plt.xticks(np.arange(len(days)), days, rotation=45);\n",
        "\"\"\""
      ],
      "metadata": {
        "id": "Q9ATzr1VYBjL",
        "colab": {
          "base_uri": "https://localhost:8080/",
          "height": 105
        },
        "outputId": "0f2eddd8-5db8-48f7-956e-e18e759e0f9d"
      },
      "execution_count": 29,
      "outputs": [
        {
          "output_type": "execute_result",
          "data": {
            "text/plain": [
              "'\\ndatos_analisis = adj_close[1797-700:1797]\\n\\ndays_backward = 90\\ndays_forward = 30\\n\\nn_activos_seleccionados = 10\\nnum_portfolios = 10000\\n\\nrendimientos = {}\\nrendimientos[\"rendimiento_algo_random_1\"] = []\\nrendimientos[\"rendimiento_algo_random_2\"] = []\\nrendimientos[\"rendimiento_algo_sharpe_1\"] = []\\nrendimientos[\"rendimiento_algo_sharpe_2\"] = []\\n\\ni = 0\\nn_i = 100\\n\\n\\nfor i in range(days_backward, len(datos_analisis), days_forward):\\n  #print(i-90, i , i + days_forward )\\n\\n  data = datos_analisis[i-days_backward:i]\\n  data_forward = datos_analisis[i:i+days_forward]\\n\\n  # ALGO RANDOM\\n  activos_seleccionados= algo_random(n_activos_seleccionados, data.shape[1])\\n  rendimiento = calcular_rendimiento(data, data_forward, activos_seleccionados)\\n  ## GUARDAMOS RENDIMIENTO\\n  rendimientos[\"rendimiento_algo_random_1\"].append(rendimiento)\\n\\n  # ALGO RANDOM\\n  activos_seleccionados= algo_random(n_activos_seleccionados, data.shape[1])\\n  rendimiento = calcular_rendimiento(data, data_forward, activos_seleccionados)\\n  ## GUARDAMOS RENDIMIENTO\\n  rendimientos[\"rendimiento_algo_random_2\"].append(rendimiento)\\n\\n  ####\\n\\n  # ALGO SHARPE\\n  activos_seleccionados= algo_sharpe(data, n_activos_top = n_activos_seleccionados)\\n  rendimiento = calcular_rendimiento(data, data_forward, activos_seleccionados)\\n  ## GUARDAMOS RENDIMIENTO\\n  rendimientos[\"rendimiento_algo_sharpe_1\"].append(rendimiento)\\n\\n  # ALGO SHARPE\\n  activos_seleccionados= algo_sharpe(data, n_activos_top = n_activos_seleccionados)\\n  rendimiento = calcular_rendimiento(data, data_forward, activos_seleccionados)\\n  ## GUARDAMOS RENDIMIENTO\\n  rendimientos[\"rendimiento_algo_sharpe_2\"].append(rendimiento)\\n\\n\\ndays = []\\nfor i in range(days_backward, len(datos_analisis), days_forward):\\n  data = datos_analisis[i-days_backward:i]\\n  data_forward = datos_analisis[i:i+days_forward]\\n  days.append(data_forward.index[-1].date())\\n  break\\ndays = np.array(days)\\n\\n\\nplt.plot(np.array(rendimientos[\"rendimiento_algo_random_1\"]),   color = \\'r\\');\\nplt.plot(np.array(rendimientos[\"rendimiento_algo_random_2\"]),   color = \\'r\\');\\nplt.plot(np.array(rendimientos[\"rendimiento_algo_sharpe_1\"]),   color = \\'b\\');\\nplt.plot(np.array(rendimientos[\"rendimiento_algo_sharpe_2\"]),   color = \\'b\\');\\nplt.xticks(np.arange(len(days)), days, rotation=45);\\n'"
            ],
            "application/vnd.google.colaboratory.intrinsic+json": {
              "type": "string"
            }
          },
          "metadata": {},
          "execution_count": 29
        }
      ]
    },
    {
      "cell_type": "markdown",
      "source": [
        "# TO-DO visualizamos los retnornos de cada compra, pero NO el acumulado"
      ],
      "metadata": {
        "id": "ofbEGFT8S_zv"
      }
    },
    {
      "cell_type": "markdown",
      "source": [
        "# X_DATA y Y_DATA"
      ],
      "metadata": {
        "id": "_YDrLJz8h2WM"
      }
    },
    {
      "cell_type": "code",
      "source": [
        "adj_close.shape"
      ],
      "metadata": {
        "colab": {
          "base_uri": "https://localhost:8080/"
        },
        "id": "L_ZmqqsShSI3",
        "outputId": "2b15f01d-3c2e-48a2-ed4b-f8acd9e657cf"
      },
      "execution_count": 30,
      "outputs": [
        {
          "output_type": "execute_result",
          "data": {
            "text/plain": [
              "(1797, 31)"
            ]
          },
          "metadata": {},
          "execution_count": 30
        }
      ]
    },
    {
      "cell_type": "code",
      "source": [
        "datos_analisis = adj_close[0:1500]\n",
        "datos_analisis.shape"
      ],
      "metadata": {
        "id": "XoqgO9v5hRF7",
        "colab": {
          "base_uri": "https://localhost:8080/"
        },
        "outputId": "47771cbf-af08-4d2b-e52b-dc82c7f316f2"
      },
      "execution_count": 31,
      "outputs": [
        {
          "output_type": "execute_result",
          "data": {
            "text/plain": [
              "(1500, 31)"
            ]
          },
          "metadata": {},
          "execution_count": 31
        }
      ]
    },
    {
      "cell_type": "code",
      "source": [
        "import warnings\n",
        "warnings.filterwarnings('ignore')"
      ],
      "metadata": {
        "id": "1B_ctGUHgqV_"
      },
      "execution_count": 32,
      "outputs": []
    },
    {
      "cell_type": "code",
      "source": [
        "datos_analisis.shape"
      ],
      "metadata": {
        "colab": {
          "base_uri": "https://localhost:8080/"
        },
        "id": "v9e-z-E__Zr9",
        "outputId": "2ac3da6d-7be5-45e0-8e6a-7b7667b1bb31"
      },
      "execution_count": 33,
      "outputs": [
        {
          "output_type": "execute_result",
          "data": {
            "text/plain": [
              "(1500, 31)"
            ]
          },
          "metadata": {},
          "execution_count": 33
        }
      ]
    },
    {
      "cell_type": "code",
      "source": [
        "t = datos_analisis / datos_analisis.iloc[0,:]"
      ],
      "metadata": {
        "id": "r7FYCD-N9qZc"
      },
      "execution_count": 34,
      "outputs": []
    },
    {
      "cell_type": "code",
      "source": [
        "t.shape"
      ],
      "metadata": {
        "colab": {
          "base_uri": "https://localhost:8080/"
        },
        "id": "NhR8FRO4_X3J",
        "outputId": "db927af7-8838-492a-89d2-1f7af4a095a9"
      },
      "execution_count": 35,
      "outputs": [
        {
          "output_type": "execute_result",
          "data": {
            "text/plain": [
              "(1500, 31)"
            ]
          },
          "metadata": {},
          "execution_count": 35
        }
      ]
    },
    {
      "cell_type": "code",
      "source": [
        "\n",
        "days_backward = 150\n",
        "days_forward = 30\n",
        "days_steps = 1\n",
        "\n",
        "X_DATA = []\n",
        "X_DATA_NORM_ONE = []\n",
        "X_DATA_TAB = []\n",
        "Y_DATA = []\n",
        "\n",
        "for i in range(days_backward, len(datos_analisis), days_steps):\n",
        "  # retornos logaritmicos\n",
        "  X_data = datos_analisis[i-days_backward:i]\n",
        "  X_data = np.log(X_data).diff().dropna()\n",
        "  X_DATA.append(X_data)\n",
        "  #retornos normalizados\n",
        "  X_data = datos_analisis[i-days_backward:i]\n",
        "  X_data = X_data / X_data.iloc[0,:]\n",
        "  X_DATA_NORM_ONE.append(X_data)\n",
        "  # datos tabulares\n",
        "  X_data = datos_analisis[i-days_backward:i]\n",
        "  X_data =   pd.DataFrame(\n",
        "      np.vstack(\n",
        "          (X_data.max(),\n",
        "           X_data.min(),\n",
        "           X_data.mean(),\n",
        "           X_data.std(),\n",
        "           calculate_sharpe_ratio(X_data, 0),\n",
        "           np.argsort(np.argsort(calculate_sharpe_ratio(X_data, 0))) )),\n",
        "\n",
        "      ).T\n",
        "  X_data = np.array(X_data)\n",
        "  X_DATA_TAB.append(X_data)\n",
        "\n",
        "  # y\n",
        "  data_forward = datos_analisis[i:i+days_forward]\n",
        "\n",
        "  rs = calculate_sharpe_ratio(np.log(data_forward).diff().dropna(), 0)\n",
        "  Y_data = np.argsort(np.argsort(rs))\n",
        "  #Y_data = Y_data / Y_data.max()\n",
        "  Y_DATA.append(Y_data)\n",
        "\n",
        "X_DATA = np.array(X_DATA)\n",
        "X_DATA_NORM_ONE = np.array(X_DATA_NORM_ONE)\n",
        "X_DATA_TAB = np.array(X_DATA_TAB)\n",
        "Y_DATA = np.array(Y_DATA)\n"
      ],
      "metadata": {
        "id": "x4G7oYnjanpY"
      },
      "execution_count": 36,
      "outputs": []
    },
    {
      "cell_type": "code",
      "source": [
        "X_DATA_TAB.shape"
      ],
      "metadata": {
        "colab": {
          "base_uri": "https://localhost:8080/"
        },
        "id": "zutTE686i7Cm",
        "outputId": "552b38a2-6a94-428a-eed1-137d6f3d050a"
      },
      "execution_count": 37,
      "outputs": [
        {
          "output_type": "execute_result",
          "data": {
            "text/plain": [
              "(1350, 31, 6)"
            ]
          },
          "metadata": {},
          "execution_count": 37
        }
      ]
    },
    {
      "cell_type": "code",
      "source": [
        "X_DATA_NORM_ONE.shape"
      ],
      "metadata": {
        "colab": {
          "base_uri": "https://localhost:8080/"
        },
        "id": "ogCuPFq3_C9B",
        "outputId": "afc974df-ba70-4e51-9414-9c301c452062"
      },
      "execution_count": 38,
      "outputs": [
        {
          "output_type": "execute_result",
          "data": {
            "text/plain": [
              "(1350, 150, 31)"
            ]
          },
          "metadata": {},
          "execution_count": 38
        }
      ]
    },
    {
      "cell_type": "code",
      "source": [
        "calculate_sharpe_ratio(datos_analisis, 0)"
      ],
      "metadata": {
        "colab": {
          "base_uri": "https://localhost:8080/"
        },
        "id": "ZMZVArCCgAIs",
        "outputId": "fe77d9e5-c2be-443b-c356-2e631e244d3e"
      },
      "execution_count": 39,
      "outputs": [
        {
          "output_type": "execute_result",
          "data": {
            "text/plain": [
              "ACS.MC      5.689259\n",
              "ACX.MC      5.417964\n",
              "AENA.MC     6.267482\n",
              "AMS.MC      4.615297\n",
              "ANA.MC      3.115303\n",
              "BBVA.MC     4.630903\n",
              "BKT.MC      3.838172\n",
              "CABK.MC     4.105304\n",
              "CIE.MC      4.211651\n",
              "CLNX.MC     1.922528\n",
              "COL.MC      5.059435\n",
              "ELE.MC      5.124951\n",
              "ENG.MC     13.999412\n",
              "FER.MC      4.904036\n",
              "GRF.MC      6.429830\n",
              "IAG.MC      2.455884\n",
              "IBE.MC      3.221727\n",
              "IDR.MC      4.993165\n",
              "ITX.MC      9.589323\n",
              "MEL.MC      3.201335\n",
              "MRL.MC      6.180165\n",
              "MTS.MC      3.004640\n",
              "NTGY.MC     4.841766\n",
              "PHM.MC      1.541451\n",
              "REP.MC      4.666563\n",
              "SAB.MC      2.401523\n",
              "SLR.MC      1.046913\n",
              "TEF.MC      4.236355\n",
              "TRE.MC      2.766984\n",
              "VIS.MC      7.614566\n",
              "VWS.CO      2.153073\n",
              "dtype: float64"
            ]
          },
          "metadata": {},
          "execution_count": 39
        }
      ]
    },
    {
      "cell_type": "code",
      "source": [
        "np.argsort(np.argsort(calculate_sharpe_ratio(datos_analisis, 0)))"
      ],
      "metadata": {
        "colab": {
          "base_uri": "https://localhost:8080/"
        },
        "id": "rKcL4mF0gS7Z",
        "outputId": "f05f46bf-70c6-49ac-b3ea-a104d6eaa15a"
      },
      "execution_count": 40,
      "outputs": [
        {
          "output_type": "execute_result",
          "data": {
            "text/plain": [
              "ACS.MC     24\n",
              "ACX.MC     23\n",
              "AENA.MC    26\n",
              "AMS.MC     15\n",
              "ANA.MC      8\n",
              "BBVA.MC    16\n",
              "BKT.MC     11\n",
              "CABK.MC    12\n",
              "CIE.MC     13\n",
              "CLNX.MC     2\n",
              "COL.MC     21\n",
              "ELE.MC     22\n",
              "ENG.MC     30\n",
              "FER.MC     19\n",
              "GRF.MC     27\n",
              "IAG.MC      5\n",
              "IBE.MC     10\n",
              "IDR.MC     20\n",
              "ITX.MC     29\n",
              "MEL.MC      9\n",
              "MRL.MC     25\n",
              "MTS.MC      7\n",
              "NTGY.MC    18\n",
              "PHM.MC      1\n",
              "REP.MC     17\n",
              "SAB.MC      4\n",
              "SLR.MC      0\n",
              "TEF.MC     14\n",
              "TRE.MC      6\n",
              "VIS.MC     28\n",
              "VWS.CO      3\n",
              "dtype: int64"
            ]
          },
          "metadata": {},
          "execution_count": 40
        }
      ]
    },
    {
      "cell_type": "markdown",
      "source": [],
      "metadata": {
        "id": "IjbuZ3K4g0AU"
      }
    },
    {
      "cell_type": "markdown",
      "source": [
        "## ejemplo datos tabulares"
      ],
      "metadata": {
        "id": "Ot16bRkLg0GC"
      }
    },
    {
      "cell_type": "code",
      "source": [
        "pd.DataFrame(\n",
        "    np.vstack( (datos_analisis.max(), datos_analisis.min(), datos_analisis.mean(), datos_analisis.std(), calculate_sharpe_ratio(datos_analisis, 0), np.argsort(np.argsort(calculate_sharpe_ratio(datos_analisis, 0))) )),\n",
        "    columns = datos_analisis.columns,\n",
        "    index=[\"max\", \"min\", \"mean\", \"std\", \"sharpe\", \"ranking\"]\n",
        "    ).T"
      ],
      "metadata": {
        "colab": {
          "base_uri": "https://localhost:8080/",
          "height": 1000
        },
        "id": "KikY_DkmfuXo",
        "outputId": "922b9658-b558-4396-cadc-faf7bf035fe3"
      },
      "execution_count": 41,
      "outputs": [
        {
          "output_type": "execute_result",
          "data": {
            "text/plain": [
              "                max        min        mean        std     sharpe  ranking\n",
              "ACS.MC    30.467091   8.982970   22.330937   3.926413   5.689259     24.0\n",
              "ACX.MC    11.242288   4.524661    7.645613   1.411630   5.417964     23.0\n",
              "AENA.MC  161.127655  71.604904  124.556387  19.880063   6.267482     26.0\n",
              "AMS.MC    80.016983  30.632214   54.943837  11.908694   4.615297     15.0\n",
              "ANA.MC   163.049606  49.215446   79.878777  25.649324   3.115303      8.0\n",
              "BBVA.MC    5.832595   1.868374    4.151727   0.896825   4.630903     16.0\n",
              "BKT.MC     7.315498   1.990775    4.984734   1.299159   3.838172     11.0\n",
              "CABK.MC    3.493727   1.344590    2.391103   0.582636   4.105304     12.0\n",
              "CIE.MC    27.618170   8.908789   17.924800   4.257422   4.211651     13.0\n",
              "CLNX.MC   60.987103  10.904670   28.289612  14.719704   1.922528      2.0\n",
              "COL.MC    12.030544   4.449345    7.512138   1.485273   5.059435     21.0\n",
              "ELE.MC    19.798824   9.118498   14.612702   2.852237   5.124951     22.0\n",
              "ENG.MC    21.055878  12.937559   16.899185   1.207538  13.999412     30.0\n",
              "FER.MC    28.344889  12.995222   18.623963   3.798948   4.904036     19.0\n",
              "GRF.MC    33.414024  15.713759   22.967143   3.573158   6.429830     27.0\n",
              "IAG.MC     7.046619   0.998400    4.299419   1.751244   2.455884      5.0\n",
              "IBE.MC    11.331197   3.969790    6.797212   2.110508   3.221727     10.0\n",
              "IDR.MC    13.418635   4.963057    9.298364   1.862840   4.993165     20.0\n",
              "ITX.MC    31.603552  18.487259   25.243528   2.633340   9.589323     29.0\n",
              "MEL.MC    13.257358   2.744000    8.611597   2.690899   3.201335      9.0\n",
              "MRL.MC    10.747189   4.683587    7.992418   1.293668   6.180165     25.0\n",
              "MTS.MC    30.140755   5.025403   18.182832   6.053602   3.004640      7.0\n",
              "NTGY.MC   22.127716   9.365699   15.509104   3.204260   4.841766     18.0\n",
              "PHM.MC   130.647263  10.615905   43.094782  27.966608   1.541451      1.0\n",
              "REP.MC    12.930807   4.556842    9.525893   2.041989   4.666563     17.0\n",
              "SAB.MC     1.554449   0.234809    0.893201   0.372055   2.401523      4.0\n",
              "SLR.MC    30.940001   0.535000    6.705833   6.407472   1.046913      0.0\n",
              "TEF.MC     6.097402   2.000181    4.337133   1.024130   4.236355     14.0\n",
              "TRE.MC    36.510361   6.660000   22.255184   8.045802   2.766984      6.0\n",
              "VIS.MC    58.235100  34.270096   45.963974   6.038335   7.614566     28.0\n",
              "VWS.CO   309.370758  68.264671  129.492178  60.163007   2.153073      3.0"
            ],
            "text/html": [
              "\n",
              "  <div id=\"df-9855d429-6dd5-4539-9a12-7a8c30258fd5\">\n",
              "    <div class=\"colab-df-container\">\n",
              "      <div>\n",
              "<style scoped>\n",
              "    .dataframe tbody tr th:only-of-type {\n",
              "        vertical-align: middle;\n",
              "    }\n",
              "\n",
              "    .dataframe tbody tr th {\n",
              "        vertical-align: top;\n",
              "    }\n",
              "\n",
              "    .dataframe thead th {\n",
              "        text-align: right;\n",
              "    }\n",
              "</style>\n",
              "<table border=\"1\" class=\"dataframe\">\n",
              "  <thead>\n",
              "    <tr style=\"text-align: right;\">\n",
              "      <th></th>\n",
              "      <th>max</th>\n",
              "      <th>min</th>\n",
              "      <th>mean</th>\n",
              "      <th>std</th>\n",
              "      <th>sharpe</th>\n",
              "      <th>ranking</th>\n",
              "    </tr>\n",
              "  </thead>\n",
              "  <tbody>\n",
              "    <tr>\n",
              "      <th>ACS.MC</th>\n",
              "      <td>30.467091</td>\n",
              "      <td>8.982970</td>\n",
              "      <td>22.330937</td>\n",
              "      <td>3.926413</td>\n",
              "      <td>5.689259</td>\n",
              "      <td>24.0</td>\n",
              "    </tr>\n",
              "    <tr>\n",
              "      <th>ACX.MC</th>\n",
              "      <td>11.242288</td>\n",
              "      <td>4.524661</td>\n",
              "      <td>7.645613</td>\n",
              "      <td>1.411630</td>\n",
              "      <td>5.417964</td>\n",
              "      <td>23.0</td>\n",
              "    </tr>\n",
              "    <tr>\n",
              "      <th>AENA.MC</th>\n",
              "      <td>161.127655</td>\n",
              "      <td>71.604904</td>\n",
              "      <td>124.556387</td>\n",
              "      <td>19.880063</td>\n",
              "      <td>6.267482</td>\n",
              "      <td>26.0</td>\n",
              "    </tr>\n",
              "    <tr>\n",
              "      <th>AMS.MC</th>\n",
              "      <td>80.016983</td>\n",
              "      <td>30.632214</td>\n",
              "      <td>54.943837</td>\n",
              "      <td>11.908694</td>\n",
              "      <td>4.615297</td>\n",
              "      <td>15.0</td>\n",
              "    </tr>\n",
              "    <tr>\n",
              "      <th>ANA.MC</th>\n",
              "      <td>163.049606</td>\n",
              "      <td>49.215446</td>\n",
              "      <td>79.878777</td>\n",
              "      <td>25.649324</td>\n",
              "      <td>3.115303</td>\n",
              "      <td>8.0</td>\n",
              "    </tr>\n",
              "    <tr>\n",
              "      <th>BBVA.MC</th>\n",
              "      <td>5.832595</td>\n",
              "      <td>1.868374</td>\n",
              "      <td>4.151727</td>\n",
              "      <td>0.896825</td>\n",
              "      <td>4.630903</td>\n",
              "      <td>16.0</td>\n",
              "    </tr>\n",
              "    <tr>\n",
              "      <th>BKT.MC</th>\n",
              "      <td>7.315498</td>\n",
              "      <td>1.990775</td>\n",
              "      <td>4.984734</td>\n",
              "      <td>1.299159</td>\n",
              "      <td>3.838172</td>\n",
              "      <td>11.0</td>\n",
              "    </tr>\n",
              "    <tr>\n",
              "      <th>CABK.MC</th>\n",
              "      <td>3.493727</td>\n",
              "      <td>1.344590</td>\n",
              "      <td>2.391103</td>\n",
              "      <td>0.582636</td>\n",
              "      <td>4.105304</td>\n",
              "      <td>12.0</td>\n",
              "    </tr>\n",
              "    <tr>\n",
              "      <th>CIE.MC</th>\n",
              "      <td>27.618170</td>\n",
              "      <td>8.908789</td>\n",
              "      <td>17.924800</td>\n",
              "      <td>4.257422</td>\n",
              "      <td>4.211651</td>\n",
              "      <td>13.0</td>\n",
              "    </tr>\n",
              "    <tr>\n",
              "      <th>CLNX.MC</th>\n",
              "      <td>60.987103</td>\n",
              "      <td>10.904670</td>\n",
              "      <td>28.289612</td>\n",
              "      <td>14.719704</td>\n",
              "      <td>1.922528</td>\n",
              "      <td>2.0</td>\n",
              "    </tr>\n",
              "    <tr>\n",
              "      <th>COL.MC</th>\n",
              "      <td>12.030544</td>\n",
              "      <td>4.449345</td>\n",
              "      <td>7.512138</td>\n",
              "      <td>1.485273</td>\n",
              "      <td>5.059435</td>\n",
              "      <td>21.0</td>\n",
              "    </tr>\n",
              "    <tr>\n",
              "      <th>ELE.MC</th>\n",
              "      <td>19.798824</td>\n",
              "      <td>9.118498</td>\n",
              "      <td>14.612702</td>\n",
              "      <td>2.852237</td>\n",
              "      <td>5.124951</td>\n",
              "      <td>22.0</td>\n",
              "    </tr>\n",
              "    <tr>\n",
              "      <th>ENG.MC</th>\n",
              "      <td>21.055878</td>\n",
              "      <td>12.937559</td>\n",
              "      <td>16.899185</td>\n",
              "      <td>1.207538</td>\n",
              "      <td>13.999412</td>\n",
              "      <td>30.0</td>\n",
              "    </tr>\n",
              "    <tr>\n",
              "      <th>FER.MC</th>\n",
              "      <td>28.344889</td>\n",
              "      <td>12.995222</td>\n",
              "      <td>18.623963</td>\n",
              "      <td>3.798948</td>\n",
              "      <td>4.904036</td>\n",
              "      <td>19.0</td>\n",
              "    </tr>\n",
              "    <tr>\n",
              "      <th>GRF.MC</th>\n",
              "      <td>33.414024</td>\n",
              "      <td>15.713759</td>\n",
              "      <td>22.967143</td>\n",
              "      <td>3.573158</td>\n",
              "      <td>6.429830</td>\n",
              "      <td>27.0</td>\n",
              "    </tr>\n",
              "    <tr>\n",
              "      <th>IAG.MC</th>\n",
              "      <td>7.046619</td>\n",
              "      <td>0.998400</td>\n",
              "      <td>4.299419</td>\n",
              "      <td>1.751244</td>\n",
              "      <td>2.455884</td>\n",
              "      <td>5.0</td>\n",
              "    </tr>\n",
              "    <tr>\n",
              "      <th>IBE.MC</th>\n",
              "      <td>11.331197</td>\n",
              "      <td>3.969790</td>\n",
              "      <td>6.797212</td>\n",
              "      <td>2.110508</td>\n",
              "      <td>3.221727</td>\n",
              "      <td>10.0</td>\n",
              "    </tr>\n",
              "    <tr>\n",
              "      <th>IDR.MC</th>\n",
              "      <td>13.418635</td>\n",
              "      <td>4.963057</td>\n",
              "      <td>9.298364</td>\n",
              "      <td>1.862840</td>\n",
              "      <td>4.993165</td>\n",
              "      <td>20.0</td>\n",
              "    </tr>\n",
              "    <tr>\n",
              "      <th>ITX.MC</th>\n",
              "      <td>31.603552</td>\n",
              "      <td>18.487259</td>\n",
              "      <td>25.243528</td>\n",
              "      <td>2.633340</td>\n",
              "      <td>9.589323</td>\n",
              "      <td>29.0</td>\n",
              "    </tr>\n",
              "    <tr>\n",
              "      <th>MEL.MC</th>\n",
              "      <td>13.257358</td>\n",
              "      <td>2.744000</td>\n",
              "      <td>8.611597</td>\n",
              "      <td>2.690899</td>\n",
              "      <td>3.201335</td>\n",
              "      <td>9.0</td>\n",
              "    </tr>\n",
              "    <tr>\n",
              "      <th>MRL.MC</th>\n",
              "      <td>10.747189</td>\n",
              "      <td>4.683587</td>\n",
              "      <td>7.992418</td>\n",
              "      <td>1.293668</td>\n",
              "      <td>6.180165</td>\n",
              "      <td>25.0</td>\n",
              "    </tr>\n",
              "    <tr>\n",
              "      <th>MTS.MC</th>\n",
              "      <td>30.140755</td>\n",
              "      <td>5.025403</td>\n",
              "      <td>18.182832</td>\n",
              "      <td>6.053602</td>\n",
              "      <td>3.004640</td>\n",
              "      <td>7.0</td>\n",
              "    </tr>\n",
              "    <tr>\n",
              "      <th>NTGY.MC</th>\n",
              "      <td>22.127716</td>\n",
              "      <td>9.365699</td>\n",
              "      <td>15.509104</td>\n",
              "      <td>3.204260</td>\n",
              "      <td>4.841766</td>\n",
              "      <td>18.0</td>\n",
              "    </tr>\n",
              "    <tr>\n",
              "      <th>PHM.MC</th>\n",
              "      <td>130.647263</td>\n",
              "      <td>10.615905</td>\n",
              "      <td>43.094782</td>\n",
              "      <td>27.966608</td>\n",
              "      <td>1.541451</td>\n",
              "      <td>1.0</td>\n",
              "    </tr>\n",
              "    <tr>\n",
              "      <th>REP.MC</th>\n",
              "      <td>12.930807</td>\n",
              "      <td>4.556842</td>\n",
              "      <td>9.525893</td>\n",
              "      <td>2.041989</td>\n",
              "      <td>4.666563</td>\n",
              "      <td>17.0</td>\n",
              "    </tr>\n",
              "    <tr>\n",
              "      <th>SAB.MC</th>\n",
              "      <td>1.554449</td>\n",
              "      <td>0.234809</td>\n",
              "      <td>0.893201</td>\n",
              "      <td>0.372055</td>\n",
              "      <td>2.401523</td>\n",
              "      <td>4.0</td>\n",
              "    </tr>\n",
              "    <tr>\n",
              "      <th>SLR.MC</th>\n",
              "      <td>30.940001</td>\n",
              "      <td>0.535000</td>\n",
              "      <td>6.705833</td>\n",
              "      <td>6.407472</td>\n",
              "      <td>1.046913</td>\n",
              "      <td>0.0</td>\n",
              "    </tr>\n",
              "    <tr>\n",
              "      <th>TEF.MC</th>\n",
              "      <td>6.097402</td>\n",
              "      <td>2.000181</td>\n",
              "      <td>4.337133</td>\n",
              "      <td>1.024130</td>\n",
              "      <td>4.236355</td>\n",
              "      <td>14.0</td>\n",
              "    </tr>\n",
              "    <tr>\n",
              "      <th>TRE.MC</th>\n",
              "      <td>36.510361</td>\n",
              "      <td>6.660000</td>\n",
              "      <td>22.255184</td>\n",
              "      <td>8.045802</td>\n",
              "      <td>2.766984</td>\n",
              "      <td>6.0</td>\n",
              "    </tr>\n",
              "    <tr>\n",
              "      <th>VIS.MC</th>\n",
              "      <td>58.235100</td>\n",
              "      <td>34.270096</td>\n",
              "      <td>45.963974</td>\n",
              "      <td>6.038335</td>\n",
              "      <td>7.614566</td>\n",
              "      <td>28.0</td>\n",
              "    </tr>\n",
              "    <tr>\n",
              "      <th>VWS.CO</th>\n",
              "      <td>309.370758</td>\n",
              "      <td>68.264671</td>\n",
              "      <td>129.492178</td>\n",
              "      <td>60.163007</td>\n",
              "      <td>2.153073</td>\n",
              "      <td>3.0</td>\n",
              "    </tr>\n",
              "  </tbody>\n",
              "</table>\n",
              "</div>\n",
              "      <button class=\"colab-df-convert\" onclick=\"convertToInteractive('df-9855d429-6dd5-4539-9a12-7a8c30258fd5')\"\n",
              "              title=\"Convert this dataframe to an interactive table.\"\n",
              "              style=\"display:none;\">\n",
              "        \n",
              "  <svg xmlns=\"http://www.w3.org/2000/svg\" height=\"24px\"viewBox=\"0 0 24 24\"\n",
              "       width=\"24px\">\n",
              "    <path d=\"M0 0h24v24H0V0z\" fill=\"none\"/>\n",
              "    <path d=\"M18.56 5.44l.94 2.06.94-2.06 2.06-.94-2.06-.94-.94-2.06-.94 2.06-2.06.94zm-11 1L8.5 8.5l.94-2.06 2.06-.94-2.06-.94L8.5 2.5l-.94 2.06-2.06.94zm10 10l.94 2.06.94-2.06 2.06-.94-2.06-.94-.94-2.06-.94 2.06-2.06.94z\"/><path d=\"M17.41 7.96l-1.37-1.37c-.4-.4-.92-.59-1.43-.59-.52 0-1.04.2-1.43.59L10.3 9.45l-7.72 7.72c-.78.78-.78 2.05 0 2.83L4 21.41c.39.39.9.59 1.41.59.51 0 1.02-.2 1.41-.59l7.78-7.78 2.81-2.81c.8-.78.8-2.07 0-2.86zM5.41 20L4 18.59l7.72-7.72 1.47 1.35L5.41 20z\"/>\n",
              "  </svg>\n",
              "      </button>\n",
              "      \n",
              "  <style>\n",
              "    .colab-df-container {\n",
              "      display:flex;\n",
              "      flex-wrap:wrap;\n",
              "      gap: 12px;\n",
              "    }\n",
              "\n",
              "    .colab-df-convert {\n",
              "      background-color: #E8F0FE;\n",
              "      border: none;\n",
              "      border-radius: 50%;\n",
              "      cursor: pointer;\n",
              "      display: none;\n",
              "      fill: #1967D2;\n",
              "      height: 32px;\n",
              "      padding: 0 0 0 0;\n",
              "      width: 32px;\n",
              "    }\n",
              "\n",
              "    .colab-df-convert:hover {\n",
              "      background-color: #E2EBFA;\n",
              "      box-shadow: 0px 1px 2px rgba(60, 64, 67, 0.3), 0px 1px 3px 1px rgba(60, 64, 67, 0.15);\n",
              "      fill: #174EA6;\n",
              "    }\n",
              "\n",
              "    [theme=dark] .colab-df-convert {\n",
              "      background-color: #3B4455;\n",
              "      fill: #D2E3FC;\n",
              "    }\n",
              "\n",
              "    [theme=dark] .colab-df-convert:hover {\n",
              "      background-color: #434B5C;\n",
              "      box-shadow: 0px 1px 3px 1px rgba(0, 0, 0, 0.15);\n",
              "      filter: drop-shadow(0px 1px 2px rgba(0, 0, 0, 0.3));\n",
              "      fill: #FFFFFF;\n",
              "    }\n",
              "  </style>\n",
              "\n",
              "      <script>\n",
              "        const buttonEl =\n",
              "          document.querySelector('#df-9855d429-6dd5-4539-9a12-7a8c30258fd5 button.colab-df-convert');\n",
              "        buttonEl.style.display =\n",
              "          google.colab.kernel.accessAllowed ? 'block' : 'none';\n",
              "\n",
              "        async function convertToInteractive(key) {\n",
              "          const element = document.querySelector('#df-9855d429-6dd5-4539-9a12-7a8c30258fd5');\n",
              "          const dataTable =\n",
              "            await google.colab.kernel.invokeFunction('convertToInteractive',\n",
              "                                                     [key], {});\n",
              "          if (!dataTable) return;\n",
              "\n",
              "          const docLinkHtml = 'Like what you see? Visit the ' +\n",
              "            '<a target=\"_blank\" href=https://colab.research.google.com/notebooks/data_table.ipynb>data table notebook</a>'\n",
              "            + ' to learn more about interactive tables.';\n",
              "          element.innerHTML = '';\n",
              "          dataTable['output_type'] = 'display_data';\n",
              "          await google.colab.output.renderOutput(dataTable, element);\n",
              "          const docLink = document.createElement('div');\n",
              "          docLink.innerHTML = docLinkHtml;\n",
              "          element.appendChild(docLink);\n",
              "        }\n",
              "      </script>\n",
              "    </div>\n",
              "  </div>\n",
              "  "
            ]
          },
          "metadata": {},
          "execution_count": 41
        }
      ]
    },
    {
      "cell_type": "code",
      "source": [
        "X_DATA.shape, Y_DATA.shape"
      ],
      "metadata": {
        "colab": {
          "base_uri": "https://localhost:8080/"
        },
        "id": "dMYWgb8PTTtc",
        "outputId": "fb34b681-218a-4500-d81a-af311686dab6"
      },
      "execution_count": 42,
      "outputs": [
        {
          "output_type": "execute_result",
          "data": {
            "text/plain": [
              "((1350, 149, 31), (1350, 31))"
            ]
          },
          "metadata": {},
          "execution_count": 42
        }
      ]
    },
    {
      "cell_type": "code",
      "source": [
        "datos_analisis = adj_close[1500:]"
      ],
      "metadata": {
        "id": "nW6PkVtaS71e"
      },
      "execution_count": 43,
      "outputs": []
    },
    {
      "cell_type": "code",
      "source": [
        "datos_analisis.shape"
      ],
      "metadata": {
        "colab": {
          "base_uri": "https://localhost:8080/"
        },
        "id": "o35w-j1LTGfK",
        "outputId": "3734dd0f-3439-477a-ec18-876d3f8218ed"
      },
      "execution_count": 44,
      "outputs": [
        {
          "output_type": "execute_result",
          "data": {
            "text/plain": [
              "(297, 31)"
            ]
          },
          "metadata": {},
          "execution_count": 44
        }
      ]
    },
    {
      "cell_type": "code",
      "source": [
        "days_backward = 150\n",
        "days_forward = 30\n",
        "days_steps = 1\n",
        "\n",
        "X_DATA_TEST = []\n",
        "X_DATA_NORM_ONE_TEST = []\n",
        "X_DATA_TAB_TEST = []\n",
        "Y_DATA_TEST = []\n",
        "\n",
        "for i in range(days_backward, len(datos_analisis), days_steps):\n",
        "\n",
        "  X_data = datos_analisis[i-days_backward:i]\n",
        "  X_data = np.log(X_data).diff().dropna()\n",
        "  X_DATA_TEST.append(X_data)\n",
        "  #retornos normalizados\n",
        "  X_data = datos_analisis[i-days_backward:i]\n",
        "  X_data = X_data / X_data.iloc[0,:]\n",
        "  X_DATA_NORM_ONE_TEST.append(X_data)\n",
        "  # datos tabulares\n",
        "  X_data = datos_analisis[i-days_backward:i]\n",
        "  X_data =   pd.DataFrame(\n",
        "      np.vstack(\n",
        "          (X_data.max(),\n",
        "           X_data.min(),\n",
        "           X_data.mean(),\n",
        "           X_data.std(),\n",
        "           calculate_sharpe_ratio(X_data, 0),\n",
        "           np.argsort(np.argsort(calculate_sharpe_ratio(X_data, 0))) )),\n",
        "\n",
        "      ).T\n",
        "  X_data = np.array(X_data)\n",
        "  X_DATA_TAB_TEST.append(X_data)\n",
        "\n",
        "  # Y\n",
        "\n",
        "  data_forward = datos_analisis[i:i+days_forward]\n",
        "\n",
        "  rs = calculate_sharpe_ratio(np.log(data_forward).diff().dropna(), 0)\n",
        "  Y_data = np.argsort(np.argsort(rs))\n",
        "  #Y_data = Y_data / Y_data.max()\n",
        "  Y_DATA_TEST.append(Y_data)\n",
        "\n",
        "X_DATA_TEST = np.array(X_DATA_TEST)\n",
        "X_DATA_NORM_ONE_TEST = np.array(X_DATA_NORM_ONE_TEST)\n",
        "X_DATA_TAB_TEST = np.array(X_DATA_TAB_TEST)\n",
        "Y_DATA_TEST = np.array(Y_DATA_TEST)"
      ],
      "metadata": {
        "id": "-l4LGBamS-5Y"
      },
      "execution_count": 45,
      "outputs": []
    },
    {
      "cell_type": "code",
      "source": [
        "X_DATA_TAB.shape"
      ],
      "metadata": {
        "colab": {
          "base_uri": "https://localhost:8080/"
        },
        "id": "jwi26qtyh7y4",
        "outputId": "ac9cce6a-c91e-469b-a778-d383de18f997"
      },
      "execution_count": 46,
      "outputs": [
        {
          "output_type": "execute_result",
          "data": {
            "text/plain": [
              "(1350, 31, 6)"
            ]
          },
          "metadata": {},
          "execution_count": 46
        }
      ]
    },
    {
      "cell_type": "code",
      "source": [
        "X_DATA.shape, Y_DATA.shape"
      ],
      "metadata": {
        "colab": {
          "base_uri": "https://localhost:8080/"
        },
        "id": "ltWRuLMeTaf7",
        "outputId": "818770d8-7e08-415e-dd13-59020496e1f9"
      },
      "execution_count": 47,
      "outputs": [
        {
          "output_type": "execute_result",
          "data": {
            "text/plain": [
              "((1350, 149, 31), (1350, 31))"
            ]
          },
          "metadata": {},
          "execution_count": 47
        }
      ]
    },
    {
      "cell_type": "code",
      "source": [
        "X_DATA_TEST.shape, Y_DATA_TEST.shape"
      ],
      "metadata": {
        "colab": {
          "base_uri": "https://localhost:8080/"
        },
        "id": "nEwBRKfDTcI6",
        "outputId": "818bc9fb-3e3b-4266-9ce6-2fb678262b07"
      },
      "execution_count": 48,
      "outputs": [
        {
          "output_type": "execute_result",
          "data": {
            "text/plain": [
              "((147, 149, 31), (147, 31))"
            ]
          },
          "metadata": {},
          "execution_count": 48
        }
      ]
    },
    {
      "cell_type": "code",
      "source": [
        "Y_DATA[0:2]"
      ],
      "metadata": {
        "colab": {
          "base_uri": "https://localhost:8080/"
        },
        "id": "PEfisrtptsRD",
        "outputId": "8bd900cb-1c5b-4b23-956c-2b6c64c98bdb"
      },
      "execution_count": 49,
      "outputs": [
        {
          "output_type": "execute_result",
          "data": {
            "text/plain": [
              "array([[17,  2, 12, 24, 15, 26, 23, 29, 11, 10,  0,  8,  3, 13,  6, 16,\n",
              "         7, 21, 14, 19,  5,  1,  9, 20, 25, 18, 28, 22, 30,  4, 27],\n",
              "       [17,  2, 13, 25, 15, 23, 21, 26, 11,  9,  5,  8,  1, 16,  7, 18,\n",
              "         6, 28, 14, 19,  3,  0, 10, 24, 20, 12, 29, 22, 30,  4, 27]])"
            ]
          },
          "metadata": {},
          "execution_count": 49
        }
      ]
    },
    {
      "cell_type": "code",
      "source": [
        "(Y_DATA[0:2] < 10).astype(int)"
      ],
      "metadata": {
        "colab": {
          "base_uri": "https://localhost:8080/"
        },
        "id": "fps26tFSuBWI",
        "outputId": "a337b0f3-6df7-4d22-a938-dba31b26c047"
      },
      "execution_count": 50,
      "outputs": [
        {
          "output_type": "execute_result",
          "data": {
            "text/plain": [
              "array([[0, 1, 0, 0, 0, 0, 0, 0, 0, 0, 1, 1, 1, 0, 1, 0, 1, 0, 0, 0, 1, 1,\n",
              "        1, 0, 0, 0, 0, 0, 0, 1, 0],\n",
              "       [0, 1, 0, 0, 0, 0, 0, 0, 0, 1, 1, 1, 1, 0, 1, 0, 1, 0, 0, 0, 1, 1,\n",
              "        0, 0, 0, 0, 0, 0, 0, 1, 0]])"
            ]
          },
          "metadata": {},
          "execution_count": 50
        }
      ]
    },
    {
      "cell_type": "code",
      "source": [
        "Y_DATA_CATEGORICAL_SIMPLE = to_categorical((Y_DATA < 10).astype(int))"
      ],
      "metadata": {
        "id": "s5ingAEVuKBg"
      },
      "execution_count": 51,
      "outputs": []
    },
    {
      "cell_type": "code",
      "source": [
        "Y_DATA_CATEGORICAL_SIMPLE.shape"
      ],
      "metadata": {
        "colab": {
          "base_uri": "https://localhost:8080/"
        },
        "id": "Ndw--EOMvU9B",
        "outputId": "405cd403-191c-4be4-a3f9-93d323368bf2"
      },
      "execution_count": 52,
      "outputs": [
        {
          "output_type": "execute_result",
          "data": {
            "text/plain": [
              "(1350, 31, 2)"
            ]
          },
          "metadata": {},
          "execution_count": 52
        }
      ]
    },
    {
      "cell_type": "code",
      "source": [
        "Y_DATA_CATEGORICAL_SIMPLE[0]"
      ],
      "metadata": {
        "colab": {
          "base_uri": "https://localhost:8080/"
        },
        "id": "9I9OLiv7vqH4",
        "outputId": "b8270c26-e029-4181-e9ca-ebc5ca7e7ade"
      },
      "execution_count": 53,
      "outputs": [
        {
          "output_type": "execute_result",
          "data": {
            "text/plain": [
              "array([[1., 0.],\n",
              "       [0., 1.],\n",
              "       [1., 0.],\n",
              "       [1., 0.],\n",
              "       [1., 0.],\n",
              "       [1., 0.],\n",
              "       [1., 0.],\n",
              "       [1., 0.],\n",
              "       [1., 0.],\n",
              "       [1., 0.],\n",
              "       [0., 1.],\n",
              "       [0., 1.],\n",
              "       [0., 1.],\n",
              "       [1., 0.],\n",
              "       [0., 1.],\n",
              "       [1., 0.],\n",
              "       [0., 1.],\n",
              "       [1., 0.],\n",
              "       [1., 0.],\n",
              "       [1., 0.],\n",
              "       [0., 1.],\n",
              "       [0., 1.],\n",
              "       [0., 1.],\n",
              "       [1., 0.],\n",
              "       [1., 0.],\n",
              "       [1., 0.],\n",
              "       [1., 0.],\n",
              "       [1., 0.],\n",
              "       [1., 0.],\n",
              "       [0., 1.],\n",
              "       [1., 0.]], dtype=float32)"
            ]
          },
          "metadata": {},
          "execution_count": 53
        }
      ]
    },
    {
      "cell_type": "code",
      "source": [
        "Y_DATA_CATEGORICAL = to_categorical(Y_DATA)"
      ],
      "metadata": {
        "id": "EaDjJwORPe7E"
      },
      "execution_count": 54,
      "outputs": []
    },
    {
      "cell_type": "code",
      "source": [
        "X_DATA.shape, Y_DATA.shape"
      ],
      "metadata": {
        "colab": {
          "base_uri": "https://localhost:8080/"
        },
        "id": "NAFJiWS1h5P0",
        "outputId": "42a4b434-d668-41ce-9160-bedea28f9431"
      },
      "execution_count": 55,
      "outputs": [
        {
          "output_type": "execute_result",
          "data": {
            "text/plain": [
              "((1350, 149, 31), (1350, 31))"
            ]
          },
          "metadata": {},
          "execution_count": 55
        }
      ]
    },
    {
      "cell_type": "code",
      "source": [
        "pd.DataFrame(X_DATA[0])"
      ],
      "metadata": {
        "colab": {
          "base_uri": "https://localhost:8080/",
          "height": 423
        },
        "id": "ZgM3zB1Hk6Ka",
        "outputId": "4abcd42e-618e-4e2b-be0f-343e4919ffcf"
      },
      "execution_count": 56,
      "outputs": [
        {
          "output_type": "execute_result",
          "data": {
            "text/plain": [
              "           0         1         2         3         4         5         6   \\\n",
              "0    0.001935  0.023913  0.005744  0.004644  0.004594  0.006645  0.000464   \n",
              "1   -0.007761 -0.045178 -0.005264  0.002501 -0.002677 -0.021605 -0.022353   \n",
              "2   -0.028048 -0.048484 -0.017914 -0.025170 -0.037461 -0.012847 -0.014650   \n",
              "3   -0.015748  0.007801  0.009239 -0.014580 -0.000663 -0.022848 -0.012429   \n",
              "4   -0.003465 -0.021453 -0.004852  0.009057 -0.005319 -0.001755 -0.000488   \n",
              "..        ...       ...       ...       ...       ...       ...       ...   \n",
              "144  0.011194 -0.015825  0.001177  0.004106  0.005963  0.017963  0.005445   \n",
              "145 -0.012722  0.034404 -0.005505 -0.009357 -0.022437 -0.036254 -0.021472   \n",
              "146 -0.019879  0.023272  0.017201  0.051425 -0.020375  0.036446  0.018112   \n",
              "147 -0.008418 -0.016871 -0.001163  0.018053 -0.030426 -0.038035 -0.006431   \n",
              "148 -0.033583 -0.026289 -0.008965 -0.026662 -0.016202 -0.049934 -0.030459   \n",
              "\n",
              "           7         8         9   ...        21        22        23  \\\n",
              "0   -0.008465  0.004073 -0.001753  ...  0.058618  0.012138  0.038173   \n",
              "1   -0.036228 -0.024692 -0.011765  ... -0.066971 -0.007535 -0.028492   \n",
              "2   -0.025795 -0.034980  0.001774  ... -0.054774 -0.008954 -0.001929   \n",
              "3   -0.012473 -0.016679 -0.025121  ... -0.036674 -0.011337 -0.047440   \n",
              "4   -0.002377  0.002921 -0.006990  ... -0.008635  0.013442 -0.049803   \n",
              "..        ...       ...       ...  ...       ...       ...       ...   \n",
              "144  0.016731  0.014975  0.007550  ...  0.010471  0.004897  0.051736   \n",
              "145 -0.036534  0.028138 -0.003139  ... -0.000365  0.007300 -0.027691   \n",
              "146  0.044128  0.004038 -0.004727  ...  0.050617 -0.002968 -0.006501   \n",
              "147 -0.012990  0.006885  0.001893  ...  0.001389 -0.005962 -0.013129   \n",
              "148 -0.055145 -0.016720 -0.002841  ... -0.056954 -0.020597  0.059847   \n",
              "\n",
              "           24        25        26        27        28        29        30  \n",
              "0   -0.008886 -0.003065  0.062304  0.005125 -0.014029  0.009870  0.000000  \n",
              "1   -0.028999 -0.009871 -0.034133 -0.007243 -0.033673 -0.009870 -0.011642  \n",
              "2   -0.040452 -0.023840 -0.028171 -0.007704 -0.003660 -0.005425 -0.022391  \n",
              "3   -0.040925 -0.033573  0.000000 -0.024306 -0.027098 -0.018668 -0.022681  \n",
              "4   -0.021852  0.009801 -0.007168 -0.013012 -0.011842  0.015945 -0.015713  \n",
              "..        ...       ...       ...       ...       ...       ...       ...  \n",
              "144  0.009054  0.019868 -0.007273  0.024767  0.027189  0.009481  0.009569  \n",
              "145 -0.035827 -0.022380 -0.022141 -0.046265 -0.017982  0.001347  0.011193  \n",
              "146  0.003109  0.024836 -0.015038  0.002855  0.013653 -0.083172 -0.006011  \n",
              "147 -0.014742 -0.029878 -0.015268  0.002051  0.011505 -0.008289 -0.004316  \n",
              "148 -0.020001 -0.050983 -0.015504 -0.038993 -0.024241  0.006093 -0.017893  \n",
              "\n",
              "[149 rows x 31 columns]"
            ],
            "text/html": [
              "\n",
              "  <div id=\"df-a3537634-29c7-4828-b517-a648704de332\">\n",
              "    <div class=\"colab-df-container\">\n",
              "      <div>\n",
              "<style scoped>\n",
              "    .dataframe tbody tr th:only-of-type {\n",
              "        vertical-align: middle;\n",
              "    }\n",
              "\n",
              "    .dataframe tbody tr th {\n",
              "        vertical-align: top;\n",
              "    }\n",
              "\n",
              "    .dataframe thead th {\n",
              "        text-align: right;\n",
              "    }\n",
              "</style>\n",
              "<table border=\"1\" class=\"dataframe\">\n",
              "  <thead>\n",
              "    <tr style=\"text-align: right;\">\n",
              "      <th></th>\n",
              "      <th>0</th>\n",
              "      <th>1</th>\n",
              "      <th>2</th>\n",
              "      <th>3</th>\n",
              "      <th>4</th>\n",
              "      <th>5</th>\n",
              "      <th>6</th>\n",
              "      <th>7</th>\n",
              "      <th>8</th>\n",
              "      <th>9</th>\n",
              "      <th>...</th>\n",
              "      <th>21</th>\n",
              "      <th>22</th>\n",
              "      <th>23</th>\n",
              "      <th>24</th>\n",
              "      <th>25</th>\n",
              "      <th>26</th>\n",
              "      <th>27</th>\n",
              "      <th>28</th>\n",
              "      <th>29</th>\n",
              "      <th>30</th>\n",
              "    </tr>\n",
              "  </thead>\n",
              "  <tbody>\n",
              "    <tr>\n",
              "      <th>0</th>\n",
              "      <td>0.001935</td>\n",
              "      <td>0.023913</td>\n",
              "      <td>0.005744</td>\n",
              "      <td>0.004644</td>\n",
              "      <td>0.004594</td>\n",
              "      <td>0.006645</td>\n",
              "      <td>0.000464</td>\n",
              "      <td>-0.008465</td>\n",
              "      <td>0.004073</td>\n",
              "      <td>-0.001753</td>\n",
              "      <td>...</td>\n",
              "      <td>0.058618</td>\n",
              "      <td>0.012138</td>\n",
              "      <td>0.038173</td>\n",
              "      <td>-0.008886</td>\n",
              "      <td>-0.003065</td>\n",
              "      <td>0.062304</td>\n",
              "      <td>0.005125</td>\n",
              "      <td>-0.014029</td>\n",
              "      <td>0.009870</td>\n",
              "      <td>0.000000</td>\n",
              "    </tr>\n",
              "    <tr>\n",
              "      <th>1</th>\n",
              "      <td>-0.007761</td>\n",
              "      <td>-0.045178</td>\n",
              "      <td>-0.005264</td>\n",
              "      <td>0.002501</td>\n",
              "      <td>-0.002677</td>\n",
              "      <td>-0.021605</td>\n",
              "      <td>-0.022353</td>\n",
              "      <td>-0.036228</td>\n",
              "      <td>-0.024692</td>\n",
              "      <td>-0.011765</td>\n",
              "      <td>...</td>\n",
              "      <td>-0.066971</td>\n",
              "      <td>-0.007535</td>\n",
              "      <td>-0.028492</td>\n",
              "      <td>-0.028999</td>\n",
              "      <td>-0.009871</td>\n",
              "      <td>-0.034133</td>\n",
              "      <td>-0.007243</td>\n",
              "      <td>-0.033673</td>\n",
              "      <td>-0.009870</td>\n",
              "      <td>-0.011642</td>\n",
              "    </tr>\n",
              "    <tr>\n",
              "      <th>2</th>\n",
              "      <td>-0.028048</td>\n",
              "      <td>-0.048484</td>\n",
              "      <td>-0.017914</td>\n",
              "      <td>-0.025170</td>\n",
              "      <td>-0.037461</td>\n",
              "      <td>-0.012847</td>\n",
              "      <td>-0.014650</td>\n",
              "      <td>-0.025795</td>\n",
              "      <td>-0.034980</td>\n",
              "      <td>0.001774</td>\n",
              "      <td>...</td>\n",
              "      <td>-0.054774</td>\n",
              "      <td>-0.008954</td>\n",
              "      <td>-0.001929</td>\n",
              "      <td>-0.040452</td>\n",
              "      <td>-0.023840</td>\n",
              "      <td>-0.028171</td>\n",
              "      <td>-0.007704</td>\n",
              "      <td>-0.003660</td>\n",
              "      <td>-0.005425</td>\n",
              "      <td>-0.022391</td>\n",
              "    </tr>\n",
              "    <tr>\n",
              "      <th>3</th>\n",
              "      <td>-0.015748</td>\n",
              "      <td>0.007801</td>\n",
              "      <td>0.009239</td>\n",
              "      <td>-0.014580</td>\n",
              "      <td>-0.000663</td>\n",
              "      <td>-0.022848</td>\n",
              "      <td>-0.012429</td>\n",
              "      <td>-0.012473</td>\n",
              "      <td>-0.016679</td>\n",
              "      <td>-0.025121</td>\n",
              "      <td>...</td>\n",
              "      <td>-0.036674</td>\n",
              "      <td>-0.011337</td>\n",
              "      <td>-0.047440</td>\n",
              "      <td>-0.040925</td>\n",
              "      <td>-0.033573</td>\n",
              "      <td>0.000000</td>\n",
              "      <td>-0.024306</td>\n",
              "      <td>-0.027098</td>\n",
              "      <td>-0.018668</td>\n",
              "      <td>-0.022681</td>\n",
              "    </tr>\n",
              "    <tr>\n",
              "      <th>4</th>\n",
              "      <td>-0.003465</td>\n",
              "      <td>-0.021453</td>\n",
              "      <td>-0.004852</td>\n",
              "      <td>0.009057</td>\n",
              "      <td>-0.005319</td>\n",
              "      <td>-0.001755</td>\n",
              "      <td>-0.000488</td>\n",
              "      <td>-0.002377</td>\n",
              "      <td>0.002921</td>\n",
              "      <td>-0.006990</td>\n",
              "      <td>...</td>\n",
              "      <td>-0.008635</td>\n",
              "      <td>0.013442</td>\n",
              "      <td>-0.049803</td>\n",
              "      <td>-0.021852</td>\n",
              "      <td>0.009801</td>\n",
              "      <td>-0.007168</td>\n",
              "      <td>-0.013012</td>\n",
              "      <td>-0.011842</td>\n",
              "      <td>0.015945</td>\n",
              "      <td>-0.015713</td>\n",
              "    </tr>\n",
              "    <tr>\n",
              "      <th>...</th>\n",
              "      <td>...</td>\n",
              "      <td>...</td>\n",
              "      <td>...</td>\n",
              "      <td>...</td>\n",
              "      <td>...</td>\n",
              "      <td>...</td>\n",
              "      <td>...</td>\n",
              "      <td>...</td>\n",
              "      <td>...</td>\n",
              "      <td>...</td>\n",
              "      <td>...</td>\n",
              "      <td>...</td>\n",
              "      <td>...</td>\n",
              "      <td>...</td>\n",
              "      <td>...</td>\n",
              "      <td>...</td>\n",
              "      <td>...</td>\n",
              "      <td>...</td>\n",
              "      <td>...</td>\n",
              "      <td>...</td>\n",
              "      <td>...</td>\n",
              "    </tr>\n",
              "    <tr>\n",
              "      <th>144</th>\n",
              "      <td>0.011194</td>\n",
              "      <td>-0.015825</td>\n",
              "      <td>0.001177</td>\n",
              "      <td>0.004106</td>\n",
              "      <td>0.005963</td>\n",
              "      <td>0.017963</td>\n",
              "      <td>0.005445</td>\n",
              "      <td>0.016731</td>\n",
              "      <td>0.014975</td>\n",
              "      <td>0.007550</td>\n",
              "      <td>...</td>\n",
              "      <td>0.010471</td>\n",
              "      <td>0.004897</td>\n",
              "      <td>0.051736</td>\n",
              "      <td>0.009054</td>\n",
              "      <td>0.019868</td>\n",
              "      <td>-0.007273</td>\n",
              "      <td>0.024767</td>\n",
              "      <td>0.027189</td>\n",
              "      <td>0.009481</td>\n",
              "      <td>0.009569</td>\n",
              "    </tr>\n",
              "    <tr>\n",
              "      <th>145</th>\n",
              "      <td>-0.012722</td>\n",
              "      <td>0.034404</td>\n",
              "      <td>-0.005505</td>\n",
              "      <td>-0.009357</td>\n",
              "      <td>-0.022437</td>\n",
              "      <td>-0.036254</td>\n",
              "      <td>-0.021472</td>\n",
              "      <td>-0.036534</td>\n",
              "      <td>0.028138</td>\n",
              "      <td>-0.003139</td>\n",
              "      <td>...</td>\n",
              "      <td>-0.000365</td>\n",
              "      <td>0.007300</td>\n",
              "      <td>-0.027691</td>\n",
              "      <td>-0.035827</td>\n",
              "      <td>-0.022380</td>\n",
              "      <td>-0.022141</td>\n",
              "      <td>-0.046265</td>\n",
              "      <td>-0.017982</td>\n",
              "      <td>0.001347</td>\n",
              "      <td>0.011193</td>\n",
              "    </tr>\n",
              "    <tr>\n",
              "      <th>146</th>\n",
              "      <td>-0.019879</td>\n",
              "      <td>0.023272</td>\n",
              "      <td>0.017201</td>\n",
              "      <td>0.051425</td>\n",
              "      <td>-0.020375</td>\n",
              "      <td>0.036446</td>\n",
              "      <td>0.018112</td>\n",
              "      <td>0.044128</td>\n",
              "      <td>0.004038</td>\n",
              "      <td>-0.004727</td>\n",
              "      <td>...</td>\n",
              "      <td>0.050617</td>\n",
              "      <td>-0.002968</td>\n",
              "      <td>-0.006501</td>\n",
              "      <td>0.003109</td>\n",
              "      <td>0.024836</td>\n",
              "      <td>-0.015038</td>\n",
              "      <td>0.002855</td>\n",
              "      <td>0.013653</td>\n",
              "      <td>-0.083172</td>\n",
              "      <td>-0.006011</td>\n",
              "    </tr>\n",
              "    <tr>\n",
              "      <th>147</th>\n",
              "      <td>-0.008418</td>\n",
              "      <td>-0.016871</td>\n",
              "      <td>-0.001163</td>\n",
              "      <td>0.018053</td>\n",
              "      <td>-0.030426</td>\n",
              "      <td>-0.038035</td>\n",
              "      <td>-0.006431</td>\n",
              "      <td>-0.012990</td>\n",
              "      <td>0.006885</td>\n",
              "      <td>0.001893</td>\n",
              "      <td>...</td>\n",
              "      <td>0.001389</td>\n",
              "      <td>-0.005962</td>\n",
              "      <td>-0.013129</td>\n",
              "      <td>-0.014742</td>\n",
              "      <td>-0.029878</td>\n",
              "      <td>-0.015268</td>\n",
              "      <td>0.002051</td>\n",
              "      <td>0.011505</td>\n",
              "      <td>-0.008289</td>\n",
              "      <td>-0.004316</td>\n",
              "    </tr>\n",
              "    <tr>\n",
              "      <th>148</th>\n",
              "      <td>-0.033583</td>\n",
              "      <td>-0.026289</td>\n",
              "      <td>-0.008965</td>\n",
              "      <td>-0.026662</td>\n",
              "      <td>-0.016202</td>\n",
              "      <td>-0.049934</td>\n",
              "      <td>-0.030459</td>\n",
              "      <td>-0.055145</td>\n",
              "      <td>-0.016720</td>\n",
              "      <td>-0.002841</td>\n",
              "      <td>...</td>\n",
              "      <td>-0.056954</td>\n",
              "      <td>-0.020597</td>\n",
              "      <td>0.059847</td>\n",
              "      <td>-0.020001</td>\n",
              "      <td>-0.050983</td>\n",
              "      <td>-0.015504</td>\n",
              "      <td>-0.038993</td>\n",
              "      <td>-0.024241</td>\n",
              "      <td>0.006093</td>\n",
              "      <td>-0.017893</td>\n",
              "    </tr>\n",
              "  </tbody>\n",
              "</table>\n",
              "<p>149 rows × 31 columns</p>\n",
              "</div>\n",
              "      <button class=\"colab-df-convert\" onclick=\"convertToInteractive('df-a3537634-29c7-4828-b517-a648704de332')\"\n",
              "              title=\"Convert this dataframe to an interactive table.\"\n",
              "              style=\"display:none;\">\n",
              "        \n",
              "  <svg xmlns=\"http://www.w3.org/2000/svg\" height=\"24px\"viewBox=\"0 0 24 24\"\n",
              "       width=\"24px\">\n",
              "    <path d=\"M0 0h24v24H0V0z\" fill=\"none\"/>\n",
              "    <path d=\"M18.56 5.44l.94 2.06.94-2.06 2.06-.94-2.06-.94-.94-2.06-.94 2.06-2.06.94zm-11 1L8.5 8.5l.94-2.06 2.06-.94-2.06-.94L8.5 2.5l-.94 2.06-2.06.94zm10 10l.94 2.06.94-2.06 2.06-.94-2.06-.94-.94-2.06-.94 2.06-2.06.94z\"/><path d=\"M17.41 7.96l-1.37-1.37c-.4-.4-.92-.59-1.43-.59-.52 0-1.04.2-1.43.59L10.3 9.45l-7.72 7.72c-.78.78-.78 2.05 0 2.83L4 21.41c.39.39.9.59 1.41.59.51 0 1.02-.2 1.41-.59l7.78-7.78 2.81-2.81c.8-.78.8-2.07 0-2.86zM5.41 20L4 18.59l7.72-7.72 1.47 1.35L5.41 20z\"/>\n",
              "  </svg>\n",
              "      </button>\n",
              "      \n",
              "  <style>\n",
              "    .colab-df-container {\n",
              "      display:flex;\n",
              "      flex-wrap:wrap;\n",
              "      gap: 12px;\n",
              "    }\n",
              "\n",
              "    .colab-df-convert {\n",
              "      background-color: #E8F0FE;\n",
              "      border: none;\n",
              "      border-radius: 50%;\n",
              "      cursor: pointer;\n",
              "      display: none;\n",
              "      fill: #1967D2;\n",
              "      height: 32px;\n",
              "      padding: 0 0 0 0;\n",
              "      width: 32px;\n",
              "    }\n",
              "\n",
              "    .colab-df-convert:hover {\n",
              "      background-color: #E2EBFA;\n",
              "      box-shadow: 0px 1px 2px rgba(60, 64, 67, 0.3), 0px 1px 3px 1px rgba(60, 64, 67, 0.15);\n",
              "      fill: #174EA6;\n",
              "    }\n",
              "\n",
              "    [theme=dark] .colab-df-convert {\n",
              "      background-color: #3B4455;\n",
              "      fill: #D2E3FC;\n",
              "    }\n",
              "\n",
              "    [theme=dark] .colab-df-convert:hover {\n",
              "      background-color: #434B5C;\n",
              "      box-shadow: 0px 1px 3px 1px rgba(0, 0, 0, 0.15);\n",
              "      filter: drop-shadow(0px 1px 2px rgba(0, 0, 0, 0.3));\n",
              "      fill: #FFFFFF;\n",
              "    }\n",
              "  </style>\n",
              "\n",
              "      <script>\n",
              "        const buttonEl =\n",
              "          document.querySelector('#df-a3537634-29c7-4828-b517-a648704de332 button.colab-df-convert');\n",
              "        buttonEl.style.display =\n",
              "          google.colab.kernel.accessAllowed ? 'block' : 'none';\n",
              "\n",
              "        async function convertToInteractive(key) {\n",
              "          const element = document.querySelector('#df-a3537634-29c7-4828-b517-a648704de332');\n",
              "          const dataTable =\n",
              "            await google.colab.kernel.invokeFunction('convertToInteractive',\n",
              "                                                     [key], {});\n",
              "          if (!dataTable) return;\n",
              "\n",
              "          const docLinkHtml = 'Like what you see? Visit the ' +\n",
              "            '<a target=\"_blank\" href=https://colab.research.google.com/notebooks/data_table.ipynb>data table notebook</a>'\n",
              "            + ' to learn more about interactive tables.';\n",
              "          element.innerHTML = '';\n",
              "          dataTable['output_type'] = 'display_data';\n",
              "          await google.colab.output.renderOutput(dataTable, element);\n",
              "          const docLink = document.createElement('div');\n",
              "          docLink.innerHTML = docLinkHtml;\n",
              "          element.appendChild(docLink);\n",
              "        }\n",
              "      </script>\n",
              "    </div>\n",
              "  </div>\n",
              "  "
            ]
          },
          "metadata": {},
          "execution_count": 56
        }
      ]
    },
    {
      "cell_type": "code",
      "source": [
        "import tensorflow as tf"
      ],
      "metadata": {
        "id": "ZDv3hxSsmANS"
      },
      "execution_count": 57,
      "outputs": []
    },
    {
      "cell_type": "code",
      "source": [
        "def loss_ranking(y_true, y_pred, weights = 1):\n",
        "    y_true = tf.cast(y_true, tf.float32)\n",
        "    y_pred = tf.cast(y_pred, tf.float32)\n",
        "    diff = tf.abs(y_true - y_pred)\n",
        "    loss = tf.reduce_mean(weights * diff)\n",
        "    return loss\n"
      ],
      "metadata": {
        "id": "FTp8qegXmGmT"
      },
      "execution_count": 58,
      "outputs": []
    },
    {
      "cell_type": "code",
      "source": [
        "def loss_ranking(ranking_real, ranking_predicho):\n",
        "    ranking_real_float = tf.cast(ranking_real, tf.float32)\n",
        "    ranking_predicho = tf.cast(ranking_predicho, tf.float32)\n",
        "    diferencias = tf.abs(ranking_real_float - ranking_predicho)\n",
        "    diferencias_ponderadas = diferencias / (ranking_predicho + 0.01) # <<<<---------\n",
        "    perdida_total = tf.reduce_sum(diferencias_ponderadas)\n",
        "    return abs(perdida_total)"
      ],
      "metadata": {
        "id": "6A6mmtlyz7Em"
      },
      "execution_count": 59,
      "outputs": []
    },
    {
      "cell_type": "markdown",
      "source": [
        "# funcion de coste personalizada"
      ],
      "metadata": {
        "id": "aXk9E6u0d3Dc"
      }
    },
    {
      "cell_type": "code",
      "source": [
        "\n",
        "from keras import backend as K\n",
        "import tensorflow as tf\n",
        "hp_top = 10\n",
        "hp_incremento_top = 2\n",
        "def top_is_target(y_true, y_pred):\n",
        "  num_samples = K.shape(y_true)[0]\n",
        "\n",
        "  w = K.arange(31, dtype='float32')\n",
        "  w = K.reverse(w, axes=0) + 1\n",
        "\n",
        "  w = tf.where(K.arange(31) < hp_top, w * hp_incremento_top, w)\n",
        "  # Replicar w a lo largo del eje 0 (batch)\n",
        "  #w = K.repeat_elements(K.expand_dims(w, 0), num_samples, axis=0)\n",
        "  w = tf.tile(K.expand_dims(w, 0), [num_samples, 1])\n",
        "\n",
        "  # Calcular la pérdida\n",
        "  r = K.cast(y_true, 'float32')\n",
        "  r_pred = K.cast(y_pred, 'float32')\n",
        "\n",
        "  return K.sum(w * K.square(r - r_pred), axis=-1)\n"
      ],
      "metadata": {
        "id": "aMS0T8HFubnY"
      },
      "execution_count": 60,
      "outputs": []
    },
    {
      "cell_type": "code",
      "source": [
        "K.arange(35, dtype='float32')"
      ],
      "metadata": {
        "colab": {
          "base_uri": "https://localhost:8080/"
        },
        "id": "Jbq822TxNdO8",
        "outputId": "4c214a6e-02be-46a4-bd2d-5a769090a20a"
      },
      "execution_count": 61,
      "outputs": [
        {
          "output_type": "execute_result",
          "data": {
            "text/plain": [
              "<tf.Tensor: shape=(35,), dtype=float32, numpy=\n",
              "array([ 0.,  1.,  2.,  3.,  4.,  5.,  6.,  7.,  8.,  9., 10., 11., 12.,\n",
              "       13., 14., 15., 16., 17., 18., 19., 20., 21., 22., 23., 24., 25.,\n",
              "       26., 27., 28., 29., 30., 31., 32., 33., 34.], dtype=float32)>"
            ]
          },
          "metadata": {},
          "execution_count": 61
        }
      ]
    },
    {
      "cell_type": "code",
      "source": [
        "tf.range(10, dtype='float32')"
      ],
      "metadata": {
        "colab": {
          "base_uri": "https://localhost:8080/"
        },
        "id": "XNqQMTSLNfdL",
        "outputId": "9cea84fc-a648-40f8-9c95-ae6de10795ec"
      },
      "execution_count": 62,
      "outputs": [
        {
          "output_type": "execute_result",
          "data": {
            "text/plain": [
              "<tf.Tensor: shape=(10,), dtype=float32, numpy=array([0., 1., 2., 3., 4., 5., 6., 7., 8., 9.], dtype=float32)>"
            ]
          },
          "metadata": {},
          "execution_count": 62
        }
      ]
    },
    {
      "cell_type": "markdown",
      "source": [
        "# Y discreta 2 (GRU)"
      ],
      "metadata": {
        "id": "wQmh7nZ2udf3"
      }
    },
    {
      "cell_type": "markdown",
      "source": [
        "## prueba norm"
      ],
      "metadata": {
        "id": "d1KLSrdJyH4M"
      }
    },
    {
      "cell_type": "code",
      "source": [
        "X_DATA.shape, Y_DATA.shape"
      ],
      "metadata": {
        "id": "9pchhtt9um_F",
        "colab": {
          "base_uri": "https://localhost:8080/"
        },
        "outputId": "173032f2-0538-48cb-db91-e66a30faad05"
      },
      "execution_count": 63,
      "outputs": [
        {
          "output_type": "execute_result",
          "data": {
            "text/plain": [
              "((1350, 149, 31), (1350, 31))"
            ]
          },
          "metadata": {},
          "execution_count": 63
        }
      ]
    },
    {
      "cell_type": "code",
      "source": [
        "Y_DATA[0]"
      ],
      "metadata": {
        "id": "V9KM2hIfvs63",
        "colab": {
          "base_uri": "https://localhost:8080/"
        },
        "outputId": "b614ebdd-b60e-4298-f5fd-1257e9954eb3"
      },
      "execution_count": 64,
      "outputs": [
        {
          "output_type": "execute_result",
          "data": {
            "text/plain": [
              "array([17,  2, 12, 24, 15, 26, 23, 29, 11, 10,  0,  8,  3, 13,  6, 16,  7,\n",
              "       21, 14, 19,  5,  1,  9, 20, 25, 18, 28, 22, 30,  4, 27])"
            ]
          },
          "metadata": {},
          "execution_count": 64
        }
      ]
    },
    {
      "cell_type": "code",
      "source": [
        "ej_norm = 2*(Y_DATA[0] - min(Y_DATA[0])) / (max(Y_DATA[0]) - min(Y_DATA[0])) - 1\n",
        "ej_norm"
      ],
      "metadata": {
        "id": "zPNweqGXv1JI",
        "colab": {
          "base_uri": "https://localhost:8080/"
        },
        "outputId": "71ee839e-e5c3-4cee-b03c-a55281c2831a"
      },
      "execution_count": 65,
      "outputs": [
        {
          "output_type": "execute_result",
          "data": {
            "text/plain": [
              "array([ 0.13333333, -0.86666667, -0.2       ,  0.6       ,  0.        ,\n",
              "        0.73333333,  0.53333333,  0.93333333, -0.26666667, -0.33333333,\n",
              "       -1.        , -0.46666667, -0.8       , -0.13333333, -0.6       ,\n",
              "        0.06666667, -0.53333333,  0.4       , -0.06666667,  0.26666667,\n",
              "       -0.66666667, -0.93333333, -0.4       ,  0.33333333,  0.66666667,\n",
              "        0.2       ,  0.86666667,  0.46666667,  1.        , -0.73333333,\n",
              "        0.8       ])"
            ]
          },
          "metadata": {},
          "execution_count": 65
        }
      ]
    },
    {
      "cell_type": "code",
      "source": [
        "np.argsort(ej_norm)"
      ],
      "metadata": {
        "id": "A2BbN5cRxIOY",
        "colab": {
          "base_uri": "https://localhost:8080/"
        },
        "outputId": "4a6ca5e0-c322-43f2-d35d-8fd51e1554cf"
      },
      "execution_count": 66,
      "outputs": [
        {
          "output_type": "execute_result",
          "data": {
            "text/plain": [
              "array([10, 21,  1, 12, 29, 20, 14, 16, 11, 22,  9,  8,  2, 13, 18,  4, 15,\n",
              "        0, 25, 19, 23, 17, 27,  6,  3, 24,  5, 30, 26,  7, 28])"
            ]
          },
          "metadata": {},
          "execution_count": 66
        }
      ]
    },
    {
      "cell_type": "code",
      "source": [
        "np.argsort(np.argsort(ej_norm))"
      ],
      "metadata": {
        "id": "hr05eaTowPoe",
        "colab": {
          "base_uri": "https://localhost:8080/"
        },
        "outputId": "ac713282-7244-4c40-9626-d038922af6f8"
      },
      "execution_count": 67,
      "outputs": [
        {
          "output_type": "execute_result",
          "data": {
            "text/plain": [
              "array([17,  2, 12, 24, 15, 26, 23, 29, 11, 10,  0,  8,  3, 13,  6, 16,  7,\n",
              "       21, 14, 19,  5,  1,  9, 20, 25, 18, 28, 22, 30,  4, 27])"
            ]
          },
          "metadata": {},
          "execution_count": 67
        }
      ]
    },
    {
      "cell_type": "markdown",
      "source": [
        "## calculo norm"
      ],
      "metadata": {
        "id": "vMeMspd4yG2l"
      }
    },
    {
      "cell_type": "code",
      "source": [
        "Y_DATA.shape"
      ],
      "metadata": {
        "id": "l4csM9Q4yYkg",
        "colab": {
          "base_uri": "https://localhost:8080/"
        },
        "outputId": "e7d3ed46-b3dd-4e79-8271-6fa42b01e3d3"
      },
      "execution_count": 68,
      "outputs": [
        {
          "output_type": "execute_result",
          "data": {
            "text/plain": [
              "(1350, 31)"
            ]
          },
          "metadata": {},
          "execution_count": 68
        }
      ]
    },
    {
      "cell_type": "code",
      "source": [
        "r_min = np.min(Y_DATA, axis=1)[:, np.newaxis]\n",
        "r_max = np.max(Y_DATA, axis=1)[:, np.newaxis]\n",
        "r_min, r_max"
      ],
      "metadata": {
        "id": "_b_wrZa3xPWx",
        "colab": {
          "base_uri": "https://localhost:8080/"
        },
        "outputId": "2882e6b8-120a-4de6-eaa1-7b68c190d971"
      },
      "execution_count": 69,
      "outputs": [
        {
          "output_type": "execute_result",
          "data": {
            "text/plain": [
              "(array([[0],\n",
              "        [0],\n",
              "        [0],\n",
              "        ...,\n",
              "        [0],\n",
              "        [0],\n",
              "        [0]]),\n",
              " array([[30],\n",
              "        [30],\n",
              "        [30],\n",
              "        ...,\n",
              "        [30],\n",
              "        [30],\n",
              "        [30]]))"
            ]
          },
          "metadata": {},
          "execution_count": 69
        }
      ]
    },
    {
      "cell_type": "code",
      "source": [
        "Y_DATA_NORM = 2 * (Y_DATA - 0) / (30 - 0) - 1"
      ],
      "metadata": {
        "id": "xoL2JJOsyOCE"
      },
      "execution_count": 70,
      "outputs": []
    },
    {
      "cell_type": "code",
      "source": [
        "Y_DATA_NORM[0] == ej_norm"
      ],
      "metadata": {
        "id": "oFT2NUpxyks_",
        "colab": {
          "base_uri": "https://localhost:8080/"
        },
        "outputId": "d396528d-1c5c-4aba-e101-c37c54750f12"
      },
      "execution_count": 71,
      "outputs": [
        {
          "output_type": "execute_result",
          "data": {
            "text/plain": [
              "array([ True,  True,  True,  True,  True,  True,  True,  True,  True,\n",
              "        True,  True,  True,  True,  True,  True,  True,  True,  True,\n",
              "        True,  True,  True,  True,  True,  True,  True,  True,  True,\n",
              "        True,  True,  True,  True])"
            ]
          },
          "metadata": {},
          "execution_count": 71
        }
      ]
    },
    {
      "cell_type": "code",
      "source": [
        "Y_DATA_TEST_NORM = 2 * (Y_DATA_TEST - 0) / (30 - 0) - 1"
      ],
      "metadata": {
        "id": "ykc3F_6r4Iki"
      },
      "execution_count": 72,
      "outputs": []
    },
    {
      "cell_type": "code",
      "source": [
        "X_DATA[0].shape"
      ],
      "metadata": {
        "colab": {
          "base_uri": "https://localhost:8080/"
        },
        "id": "unPS9MSZZbnc",
        "outputId": "4e99c3b3-f5db-43b6-bb75-56d91b569840"
      },
      "execution_count": 73,
      "outputs": [
        {
          "output_type": "execute_result",
          "data": {
            "text/plain": [
              "(149, 31)"
            ]
          },
          "metadata": {},
          "execution_count": 73
        }
      ]
    },
    {
      "cell_type": "code",
      "source": [
        "\n",
        "import keras\n",
        "from tensorflow.keras.layers import ConvLSTM1D, Dense, Conv2D, LSTM, GRU, Reshape, Dropout\n",
        "from tensorflow.keras.layers import ConvLSTM2D, Conv3D, TimeDistributed, Flatten, BatchNormalization\n",
        "from keras import regularizers\n",
        "\n",
        "from keras.models import Sequential\n",
        "from keras.layers import Dense, Conv1D, Flatten, Dropout\n",
        "\n",
        "inputs = keras.Input(shape=(X_DATA.shape[1:]))\n",
        "m = inputs\n",
        "#mA = Dense(units=25, activation = 'tanh')(m)\n",
        "\n",
        "#mA = Dropout(0.9)(mA)\n",
        "\n",
        "mA = GRU(units=1, kernel_regularizer=regularizers.l1_l2(l1=0.1, l2=0.1))(m)\n",
        "\n",
        "mA = Dropout(0.1)(mA)\n",
        "\n",
        "#mA = BatchNormalization()(mA)\n",
        "\n",
        "mA = Dense(units=1, activation = 'relu')(mA)\n",
        "\n",
        "m = Flatten()(mA)\n",
        "\n",
        "# Añadir capa Dense de salida\n",
        "out = Dense(Y_DATA.shape[1], activation='tanh')(m)\n",
        "\n",
        "model_GRU = keras.Model(inputs=inputs, outputs=out)\n",
        "\n",
        "# Compilar el modelo\n",
        "model_GRU.compile(optimizer=keras.optimizers.Adam(learning_rate=0.01), loss=top_is_target,\n",
        "        metrics=[])\n",
        "\n",
        "model_GRU.summary()"
      ],
      "metadata": {
        "colab": {
          "base_uri": "https://localhost:8080/"
        },
        "id": "-L0MmxqFuiec",
        "outputId": "38d67363-1850-4fb5-92d7-878c85f4a4b8"
      },
      "execution_count": 81,
      "outputs": [
        {
          "output_type": "stream",
          "name": "stdout",
          "text": [
            "Model: \"model_3\"\n",
            "_________________________________________________________________\n",
            " Layer (type)                Output Shape              Param #   \n",
            "=================================================================\n",
            " input_6 (InputLayer)        [(None, 149, 31)]         0         \n",
            "                                                                 \n",
            " gru_5 (GRU)                 (None, 1)                 102       \n",
            "                                                                 \n",
            " dropout_3 (Dropout)         (None, 1)                 0         \n",
            "                                                                 \n",
            " dense_3 (Dense)             (None, 1)                 2         \n",
            "                                                                 \n",
            " flatten_3 (Flatten)         (None, 1)                 0         \n",
            "                                                                 \n",
            " dense_4 (Dense)             (None, 31)                62        \n",
            "                                                                 \n",
            "=================================================================\n",
            "Total params: 166\n",
            "Trainable params: 166\n",
            "Non-trainable params: 0\n",
            "_________________________________________________________________\n"
          ]
        }
      ]
    },
    {
      "cell_type": "code",
      "source": [
        "X_DATA.shape"
      ],
      "metadata": {
        "id": "doHmKItJnRkg",
        "colab": {
          "base_uri": "https://localhost:8080/"
        },
        "outputId": "67fbf75a-d49b-4765-bee5-bd9007ac104b"
      },
      "execution_count": null,
      "outputs": [
        {
          "output_type": "execute_result",
          "data": {
            "text/plain": [
              "(1350, 149, 31)"
            ]
          },
          "metadata": {},
          "execution_count": 84
        }
      ]
    },
    {
      "cell_type": "code",
      "source": [
        "from keras.callbacks import EarlyStopping"
      ],
      "metadata": {
        "id": "euUa2LamzIeo"
      },
      "execution_count": 78,
      "outputs": []
    },
    {
      "cell_type": "code",
      "source": [
        "early_stop = EarlyStopping(monitor='val_loss', patience=1000, mode='min', restore_best_weights=True)\n",
        "h = model_GRU.fit(X_DATA[0:1000],Y_DATA_NORM[0:1000],\n",
        "          epochs=400,\n",
        "          batch_size=X_DATA.shape[0],\n",
        "          #batch_size=30,\n",
        "          validation_data = (X_DATA[1000:], Y_DATA_NORM[1000:]),\n",
        "          callbacks=[early_stop]\n",
        "          )"
      ],
      "metadata": {
        "colab": {
          "base_uri": "https://localhost:8080/"
        },
        "id": "32tAXTcIumIy",
        "outputId": "ca5dabe4-b6ae-4b4b-bb27-8f1e76de2cbd"
      },
      "execution_count": 82,
      "outputs": [
        {
          "output_type": "stream",
          "name": "stdout",
          "text": [
            "Epoch 1/400\n",
            "1/1 [==============================] - 2s 2s/step - loss: 263.9268 - val_loss: 260.1295\n",
            "Epoch 2/400\n",
            "1/1 [==============================] - 0s 51ms/step - loss: 262.3155 - val_loss: 261.3264\n",
            "Epoch 3/400\n",
            "1/1 [==============================] - 0s 66ms/step - loss: 260.8003 - val_loss: 262.7598\n",
            "Epoch 4/400\n",
            "1/1 [==============================] - 0s 66ms/step - loss: 259.4562 - val_loss: 264.3635\n",
            "Epoch 5/400\n",
            "1/1 [==============================] - 0s 50ms/step - loss: 258.4139 - val_loss: 265.9451\n",
            "Epoch 6/400\n",
            "1/1 [==============================] - 0s 58ms/step - loss: 257.3358 - val_loss: 267.4483\n",
            "Epoch 7/400\n",
            "1/1 [==============================] - 0s 51ms/step - loss: 256.6291 - val_loss: 268.7431\n",
            "Epoch 8/400\n",
            "1/1 [==============================] - 0s 53ms/step - loss: 255.9426 - val_loss: 269.8632\n",
            "Epoch 9/400\n",
            "1/1 [==============================] - 0s 54ms/step - loss: 255.3505 - val_loss: 270.8598\n",
            "Epoch 10/400\n",
            "1/1 [==============================] - 0s 49ms/step - loss: 254.8241 - val_loss: 271.7979\n",
            "Epoch 11/400\n",
            "1/1 [==============================] - 0s 85ms/step - loss: 254.3243 - val_loss: 272.7495\n",
            "Epoch 12/400\n",
            "1/1 [==============================] - 0s 69ms/step - loss: 254.1594 - val_loss: 273.6785\n",
            "Epoch 13/400\n",
            "1/1 [==============================] - 0s 92ms/step - loss: 253.9077 - val_loss: 274.5934\n",
            "Epoch 14/400\n",
            "1/1 [==============================] - 0s 141ms/step - loss: 253.6978 - val_loss: 275.4946\n",
            "Epoch 15/400\n",
            "1/1 [==============================] - 0s 99ms/step - loss: 253.5924 - val_loss: 276.3414\n",
            "Epoch 16/400\n",
            "1/1 [==============================] - 0s 81ms/step - loss: 253.4792 - val_loss: 277.1006\n",
            "Epoch 17/400\n",
            "1/1 [==============================] - 0s 68ms/step - loss: 253.1877 - val_loss: 277.8355\n",
            "Epoch 18/400\n",
            "1/1 [==============================] - 0s 69ms/step - loss: 253.0998 - val_loss: 278.5116\n",
            "Epoch 19/400\n",
            "1/1 [==============================] - 0s 83ms/step - loss: 253.0491 - val_loss: 279.0524\n",
            "Epoch 20/400\n",
            "1/1 [==============================] - 0s 107ms/step - loss: 252.9421 - val_loss: 279.4487\n",
            "Epoch 21/400\n",
            "1/1 [==============================] - 0s 119ms/step - loss: 252.8229 - val_loss: 279.7155\n",
            "Epoch 22/400\n",
            "1/1 [==============================] - 0s 119ms/step - loss: 252.7178 - val_loss: 279.8748\n",
            "Epoch 23/400\n",
            "1/1 [==============================] - 0s 127ms/step - loss: 252.6718 - val_loss: 279.9041\n",
            "Epoch 24/400\n",
            "1/1 [==============================] - 0s 167ms/step - loss: 252.6466 - val_loss: 279.7842\n",
            "Epoch 25/400\n",
            "1/1 [==============================] - 0s 116ms/step - loss: 252.5750 - val_loss: 279.5410\n",
            "Epoch 26/400\n",
            "1/1 [==============================] - 0s 140ms/step - loss: 252.5217 - val_loss: 279.2008\n",
            "Epoch 27/400\n",
            "1/1 [==============================] - 0s 57ms/step - loss: 252.4405 - val_loss: 278.8561\n",
            "Epoch 28/400\n",
            "1/1 [==============================] - 0s 53ms/step - loss: 252.3986 - val_loss: 278.5075\n",
            "Epoch 29/400\n",
            "1/1 [==============================] - 0s 51ms/step - loss: 252.3559 - val_loss: 278.1622\n",
            "Epoch 30/400\n",
            "1/1 [==============================] - 0s 50ms/step - loss: 252.3151 - val_loss: 277.8189\n",
            "Epoch 31/400\n",
            "1/1 [==============================] - 0s 53ms/step - loss: 252.2679 - val_loss: 277.5189\n",
            "Epoch 32/400\n",
            "1/1 [==============================] - 0s 54ms/step - loss: 252.2304 - val_loss: 277.2295\n",
            "Epoch 33/400\n",
            "1/1 [==============================] - 0s 50ms/step - loss: 252.1905 - val_loss: 276.9608\n",
            "Epoch 34/400\n",
            "1/1 [==============================] - 0s 52ms/step - loss: 252.1551 - val_loss: 276.6703\n",
            "Epoch 35/400\n",
            "1/1 [==============================] - 0s 58ms/step - loss: 252.1204 - val_loss: 276.3633\n",
            "Epoch 36/400\n",
            "1/1 [==============================] - 0s 52ms/step - loss: 252.0861 - val_loss: 276.0450\n",
            "Epoch 37/400\n",
            "1/1 [==============================] - 0s 54ms/step - loss: 252.0611 - val_loss: 275.7614\n",
            "Epoch 38/400\n",
            "1/1 [==============================] - 0s 50ms/step - loss: 252.0343 - val_loss: 275.5211\n",
            "Epoch 39/400\n",
            "1/1 [==============================] - 0s 49ms/step - loss: 252.0151 - val_loss: 275.3366\n",
            "Epoch 40/400\n",
            "1/1 [==============================] - 0s 67ms/step - loss: 251.9993 - val_loss: 275.2066\n",
            "Epoch 41/400\n",
            "1/1 [==============================] - 0s 54ms/step - loss: 251.9795 - val_loss: 275.0949\n",
            "Epoch 42/400\n",
            "1/1 [==============================] - 0s 51ms/step - loss: 251.9834 - val_loss: 275.0141\n",
            "Epoch 43/400\n",
            "1/1 [==============================] - 0s 52ms/step - loss: 251.9845 - val_loss: 274.9792\n",
            "Epoch 44/400\n",
            "1/1 [==============================] - 0s 51ms/step - loss: 251.9751 - val_loss: 274.9679\n",
            "Epoch 45/400\n",
            "1/1 [==============================] - 0s 53ms/step - loss: 251.9913 - val_loss: 274.9952\n",
            "Epoch 46/400\n",
            "1/1 [==============================] - 0s 50ms/step - loss: 251.9739 - val_loss: 275.0198\n",
            "Epoch 47/400\n",
            "1/1 [==============================] - 0s 50ms/step - loss: 251.9829 - val_loss: 275.0607\n",
            "Epoch 48/400\n",
            "1/1 [==============================] - 0s 49ms/step - loss: 251.9638 - val_loss: 275.0804\n",
            "Epoch 49/400\n",
            "1/1 [==============================] - 0s 60ms/step - loss: 251.9734 - val_loss: 275.1027\n",
            "Epoch 50/400\n",
            "1/1 [==============================] - 0s 54ms/step - loss: 251.9664 - val_loss: 275.1296\n",
            "Epoch 51/400\n",
            "1/1 [==============================] - 0s 56ms/step - loss: 251.9661 - val_loss: 275.1696\n",
            "Epoch 52/400\n",
            "1/1 [==============================] - 0s 49ms/step - loss: 251.9630 - val_loss: 275.2341\n",
            "Epoch 53/400\n",
            "1/1 [==============================] - 0s 53ms/step - loss: 251.9553 - val_loss: 275.3124\n",
            "Epoch 54/400\n",
            "1/1 [==============================] - 0s 56ms/step - loss: 251.9492 - val_loss: 275.3958\n",
            "Epoch 55/400\n",
            "1/1 [==============================] - 0s 51ms/step - loss: 251.9408 - val_loss: 275.4826\n",
            "Epoch 56/400\n",
            "1/1 [==============================] - 0s 49ms/step - loss: 251.9478 - val_loss: 275.5841\n",
            "Epoch 57/400\n",
            "1/1 [==============================] - 0s 55ms/step - loss: 251.9277 - val_loss: 275.6669\n",
            "Epoch 58/400\n",
            "1/1 [==============================] - 0s 51ms/step - loss: 251.9367 - val_loss: 275.7372\n",
            "Epoch 59/400\n",
            "1/1 [==============================] - 0s 53ms/step - loss: 251.9212 - val_loss: 275.7699\n",
            "Epoch 60/400\n",
            "1/1 [==============================] - 0s 53ms/step - loss: 251.9040 - val_loss: 275.7518\n",
            "Epoch 61/400\n",
            "1/1 [==============================] - 0s 52ms/step - loss: 251.9191 - val_loss: 275.7288\n",
            "Epoch 62/400\n",
            "1/1 [==============================] - 0s 56ms/step - loss: 251.9053 - val_loss: 275.6866\n",
            "Epoch 63/400\n",
            "1/1 [==============================] - 0s 51ms/step - loss: 251.9182 - val_loss: 275.6654\n",
            "Epoch 64/400\n",
            "1/1 [==============================] - 0s 52ms/step - loss: 251.9203 - val_loss: 275.6724\n",
            "Epoch 65/400\n",
            "1/1 [==============================] - 0s 55ms/step - loss: 251.9051 - val_loss: 275.6790\n",
            "Epoch 66/400\n",
            "1/1 [==============================] - 0s 53ms/step - loss: 251.9110 - val_loss: 275.7041\n",
            "Epoch 67/400\n",
            "1/1 [==============================] - 0s 59ms/step - loss: 251.9118 - val_loss: 275.7450\n",
            "Epoch 68/400\n",
            "1/1 [==============================] - 0s 51ms/step - loss: 251.8897 - val_loss: 275.7385\n",
            "Epoch 69/400\n",
            "1/1 [==============================] - 0s 61ms/step - loss: 251.8905 - val_loss: 275.6887\n",
            "Epoch 70/400\n",
            "1/1 [==============================] - 0s 89ms/step - loss: 251.9025 - val_loss: 275.6574\n",
            "Epoch 71/400\n",
            "1/1 [==============================] - 0s 71ms/step - loss: 251.9111 - val_loss: 275.6731\n",
            "Epoch 72/400\n",
            "1/1 [==============================] - 0s 78ms/step - loss: 251.9029 - val_loss: 275.7055\n",
            "Epoch 73/400\n",
            "1/1 [==============================] - 0s 72ms/step - loss: 251.8944 - val_loss: 275.7164\n",
            "Epoch 74/400\n",
            "1/1 [==============================] - 0s 82ms/step - loss: 251.8953 - val_loss: 275.7120\n",
            "Epoch 75/400\n",
            "1/1 [==============================] - 0s 65ms/step - loss: 251.8949 - val_loss: 275.6921\n",
            "Epoch 76/400\n",
            "1/1 [==============================] - 0s 79ms/step - loss: 251.8882 - val_loss: 275.6436\n",
            "Epoch 77/400\n",
            "1/1 [==============================] - 0s 82ms/step - loss: 251.9118 - val_loss: 275.6611\n",
            "Epoch 78/400\n",
            "1/1 [==============================] - 0s 85ms/step - loss: 251.8844 - val_loss: 275.6459\n",
            "Epoch 79/400\n",
            "1/1 [==============================] - 0s 60ms/step - loss: 251.9073 - val_loss: 275.6663\n",
            "Epoch 80/400\n",
            "1/1 [==============================] - 0s 75ms/step - loss: 251.8936 - val_loss: 275.6703\n",
            "Epoch 81/400\n",
            "1/1 [==============================] - 0s 76ms/step - loss: 251.8998 - val_loss: 275.6810\n",
            "Epoch 82/400\n",
            "1/1 [==============================] - 0s 62ms/step - loss: 251.8989 - val_loss: 275.6872\n",
            "Epoch 83/400\n",
            "1/1 [==============================] - 0s 76ms/step - loss: 251.9007 - val_loss: 275.6979\n",
            "Epoch 84/400\n",
            "1/1 [==============================] - 0s 72ms/step - loss: 251.8924 - val_loss: 275.6733\n",
            "Epoch 85/400\n",
            "1/1 [==============================] - 0s 66ms/step - loss: 251.8929 - val_loss: 275.6242\n",
            "Epoch 86/400\n",
            "1/1 [==============================] - 0s 62ms/step - loss: 251.8987 - val_loss: 275.6136\n",
            "Epoch 87/400\n",
            "1/1 [==============================] - 0s 70ms/step - loss: 251.8896 - val_loss: 275.5549\n",
            "Epoch 88/400\n",
            "1/1 [==============================] - 0s 63ms/step - loss: 251.8900 - val_loss: 275.5114\n",
            "Epoch 89/400\n",
            "1/1 [==============================] - 0s 71ms/step - loss: 251.8872 - val_loss: 275.4226\n",
            "Epoch 90/400\n",
            "1/1 [==============================] - 0s 64ms/step - loss: 251.8924 - val_loss: 275.3765\n",
            "Epoch 91/400\n",
            "1/1 [==============================] - 0s 68ms/step - loss: 251.8947 - val_loss: 275.3944\n",
            "Epoch 92/400\n",
            "1/1 [==============================] - 0s 62ms/step - loss: 251.8909 - val_loss: 275.4425\n",
            "Epoch 93/400\n",
            "1/1 [==============================] - 0s 70ms/step - loss: 251.8892 - val_loss: 275.4901\n",
            "Epoch 94/400\n",
            "1/1 [==============================] - 0s 64ms/step - loss: 251.8906 - val_loss: 275.5342\n",
            "Epoch 95/400\n",
            "1/1 [==============================] - 0s 70ms/step - loss: 251.8896 - val_loss: 275.5897\n",
            "Epoch 96/400\n",
            "1/1 [==============================] - 0s 64ms/step - loss: 251.8888 - val_loss: 275.6529\n",
            "Epoch 97/400\n",
            "1/1 [==============================] - 0s 67ms/step - loss: 251.8966 - val_loss: 275.6219\n",
            "Epoch 98/400\n",
            "1/1 [==============================] - 0s 70ms/step - loss: 251.8942 - val_loss: 275.5222\n",
            "Epoch 99/400\n",
            "1/1 [==============================] - 0s 71ms/step - loss: 251.8888 - val_loss: 275.4433\n",
            "Epoch 100/400\n",
            "1/1 [==============================] - 0s 72ms/step - loss: 251.8892 - val_loss: 275.4269\n",
            "Epoch 101/400\n",
            "1/1 [==============================] - 0s 65ms/step - loss: 251.8906 - val_loss: 275.4514\n",
            "Epoch 102/400\n",
            "1/1 [==============================] - 0s 62ms/step - loss: 251.8899 - val_loss: 275.5200\n",
            "Epoch 103/400\n",
            "1/1 [==============================] - 0s 67ms/step - loss: 251.8871 - val_loss: 275.6339\n",
            "Epoch 104/400\n",
            "1/1 [==============================] - 0s 66ms/step - loss: 251.8925 - val_loss: 275.6805\n",
            "Epoch 105/400\n",
            "1/1 [==============================] - 0s 52ms/step - loss: 251.8930 - val_loss: 275.6539\n",
            "Epoch 106/400\n",
            "1/1 [==============================] - 0s 51ms/step - loss: 251.8917 - val_loss: 275.5840\n",
            "Epoch 107/400\n",
            "1/1 [==============================] - 0s 51ms/step - loss: 251.8888 - val_loss: 275.5170\n",
            "Epoch 108/400\n",
            "1/1 [==============================] - 0s 52ms/step - loss: 251.8884 - val_loss: 275.4536\n",
            "Epoch 109/400\n",
            "1/1 [==============================] - 0s 54ms/step - loss: 251.8884 - val_loss: 275.4333\n",
            "Epoch 110/400\n",
            "1/1 [==============================] - 0s 53ms/step - loss: 251.8895 - val_loss: 275.4640\n",
            "Epoch 111/400\n",
            "1/1 [==============================] - 0s 51ms/step - loss: 251.8886 - val_loss: 275.5265\n",
            "Epoch 112/400\n",
            "1/1 [==============================] - 0s 54ms/step - loss: 251.8885 - val_loss: 275.5934\n",
            "Epoch 113/400\n",
            "1/1 [==============================] - 0s 52ms/step - loss: 251.8883 - val_loss: 275.6679\n",
            "Epoch 114/400\n",
            "1/1 [==============================] - 0s 52ms/step - loss: 251.8892 - val_loss: 275.7186\n",
            "Epoch 115/400\n",
            "1/1 [==============================] - 0s 64ms/step - loss: 251.8913 - val_loss: 275.6700\n",
            "Epoch 116/400\n",
            "1/1 [==============================] - 0s 53ms/step - loss: 251.8891 - val_loss: 275.5653\n",
            "Epoch 117/400\n",
            "1/1 [==============================] - 0s 52ms/step - loss: 251.8894 - val_loss: 275.5087\n",
            "Epoch 118/400\n",
            "1/1 [==============================] - 0s 51ms/step - loss: 251.8896 - val_loss: 275.4894\n",
            "Epoch 119/400\n",
            "1/1 [==============================] - 0s 53ms/step - loss: 251.8923 - val_loss: 275.5609\n",
            "Epoch 120/400\n",
            "1/1 [==============================] - 0s 57ms/step - loss: 251.8878 - val_loss: 275.6411\n",
            "Epoch 121/400\n",
            "1/1 [==============================] - 0s 52ms/step - loss: 251.8876 - val_loss: 275.6984\n",
            "Epoch 122/400\n",
            "1/1 [==============================] - 0s 56ms/step - loss: 251.8878 - val_loss: 275.7103\n",
            "Epoch 123/400\n",
            "1/1 [==============================] - 0s 51ms/step - loss: 251.8896 - val_loss: 275.6730\n",
            "Epoch 124/400\n",
            "1/1 [==============================] - 0s 52ms/step - loss: 251.8839 - val_loss: 275.6545\n",
            "Epoch 125/400\n",
            "1/1 [==============================] - 0s 57ms/step - loss: 251.8820 - val_loss: 275.6598\n",
            "Epoch 126/400\n",
            "1/1 [==============================] - 0s 69ms/step - loss: 251.8928 - val_loss: 275.6109\n",
            "Epoch 127/400\n",
            "1/1 [==============================] - 0s 55ms/step - loss: 251.8860 - val_loss: 275.5635\n",
            "Epoch 128/400\n",
            "1/1 [==============================] - 0s 50ms/step - loss: 251.8920 - val_loss: 275.5008\n",
            "Epoch 129/400\n",
            "1/1 [==============================] - 0s 55ms/step - loss: 251.8829 - val_loss: 275.4955\n",
            "Epoch 130/400\n",
            "1/1 [==============================] - 0s 55ms/step - loss: 251.8888 - val_loss: 275.5152\n",
            "Epoch 131/400\n",
            "1/1 [==============================] - 0s 53ms/step - loss: 251.8887 - val_loss: 275.5472\n",
            "Epoch 132/400\n",
            "1/1 [==============================] - 0s 53ms/step - loss: 251.9021 - val_loss: 275.5277\n",
            "Epoch 133/400\n",
            "1/1 [==============================] - 0s 59ms/step - loss: 251.8912 - val_loss: 275.5091\n",
            "Epoch 134/400\n",
            "1/1 [==============================] - 0s 52ms/step - loss: 251.8959 - val_loss: 275.4793\n",
            "Epoch 135/400\n",
            "1/1 [==============================] - 0s 62ms/step - loss: 251.8937 - val_loss: 275.4527\n",
            "Epoch 136/400\n",
            "1/1 [==============================] - 0s 54ms/step - loss: 251.8927 - val_loss: 275.4433\n",
            "Epoch 137/400\n",
            "1/1 [==============================] - 0s 52ms/step - loss: 251.8925 - val_loss: 275.4507\n",
            "Epoch 138/400\n",
            "1/1 [==============================] - 0s 50ms/step - loss: 251.8866 - val_loss: 275.5088\n",
            "Epoch 139/400\n",
            "1/1 [==============================] - 0s 51ms/step - loss: 251.8887 - val_loss: 275.5749\n",
            "Epoch 140/400\n",
            "1/1 [==============================] - 0s 52ms/step - loss: 251.8938 - val_loss: 275.5855\n",
            "Epoch 141/400\n",
            "1/1 [==============================] - 0s 57ms/step - loss: 251.8897 - val_loss: 275.5700\n",
            "Epoch 142/400\n",
            "1/1 [==============================] - 0s 57ms/step - loss: 251.8864 - val_loss: 275.5825\n",
            "Epoch 143/400\n",
            "1/1 [==============================] - 0s 54ms/step - loss: 251.8907 - val_loss: 275.5697\n",
            "Epoch 144/400\n",
            "1/1 [==============================] - 0s 53ms/step - loss: 251.8858 - val_loss: 275.5849\n",
            "Epoch 145/400\n",
            "1/1 [==============================] - 0s 50ms/step - loss: 251.8897 - val_loss: 275.5578\n",
            "Epoch 146/400\n",
            "1/1 [==============================] - 0s 54ms/step - loss: 251.8875 - val_loss: 275.5577\n",
            "Epoch 147/400\n",
            "1/1 [==============================] - 0s 51ms/step - loss: 251.8887 - val_loss: 275.5972\n",
            "Epoch 148/400\n",
            "1/1 [==============================] - 0s 53ms/step - loss: 251.8890 - val_loss: 275.6069\n",
            "Epoch 149/400\n",
            "1/1 [==============================] - 0s 53ms/step - loss: 251.8867 - val_loss: 275.6646\n",
            "Epoch 150/400\n",
            "1/1 [==============================] - 0s 55ms/step - loss: 251.8874 - val_loss: 275.7231\n",
            "Epoch 151/400\n",
            "1/1 [==============================] - 0s 64ms/step - loss: 251.8938 - val_loss: 275.6783\n",
            "Epoch 152/400\n",
            "1/1 [==============================] - 0s 55ms/step - loss: 251.8877 - val_loss: 275.6057\n",
            "Epoch 153/400\n",
            "1/1 [==============================] - 0s 55ms/step - loss: 251.8882 - val_loss: 275.5276\n",
            "Epoch 154/400\n",
            "1/1 [==============================] - 0s 52ms/step - loss: 251.8952 - val_loss: 275.4149\n",
            "Epoch 155/400\n",
            "1/1 [==============================] - 0s 54ms/step - loss: 251.8918 - val_loss: 275.3651\n",
            "Epoch 156/400\n",
            "1/1 [==============================] - 0s 62ms/step - loss: 251.8907 - val_loss: 275.3688\n",
            "Epoch 157/400\n",
            "1/1 [==============================] - 0s 54ms/step - loss: 251.8885 - val_loss: 275.4788\n",
            "Epoch 158/400\n",
            "1/1 [==============================] - 0s 52ms/step - loss: 251.8886 - val_loss: 275.6003\n",
            "Epoch 159/400\n",
            "1/1 [==============================] - 0s 52ms/step - loss: 251.8872 - val_loss: 275.7137\n",
            "Epoch 160/400\n",
            "1/1 [==============================] - 0s 53ms/step - loss: 251.8886 - val_loss: 275.7627\n",
            "Epoch 161/400\n",
            "1/1 [==============================] - 0s 54ms/step - loss: 251.8918 - val_loss: 275.7093\n",
            "Epoch 162/400\n",
            "1/1 [==============================] - 0s 52ms/step - loss: 251.8884 - val_loss: 275.6196\n",
            "Epoch 163/400\n",
            "1/1 [==============================] - 0s 50ms/step - loss: 251.8928 - val_loss: 275.4743\n",
            "Epoch 164/400\n",
            "1/1 [==============================] - 0s 52ms/step - loss: 251.8887 - val_loss: 275.3857\n",
            "Epoch 165/400\n",
            "1/1 [==============================] - 0s 54ms/step - loss: 251.8895 - val_loss: 275.3735\n",
            "Epoch 166/400\n",
            "1/1 [==============================] - 0s 56ms/step - loss: 251.8903 - val_loss: 275.4718\n",
            "Epoch 167/400\n",
            "1/1 [==============================] - 0s 56ms/step - loss: 251.8890 - val_loss: 275.6201\n",
            "Epoch 168/400\n",
            "1/1 [==============================] - 0s 60ms/step - loss: 251.8879 - val_loss: 275.7462\n",
            "Epoch 169/400\n",
            "1/1 [==============================] - 0s 54ms/step - loss: 251.8939 - val_loss: 275.7587\n",
            "Epoch 170/400\n",
            "1/1 [==============================] - 0s 50ms/step - loss: 251.8926 - val_loss: 275.6836\n",
            "Epoch 171/400\n",
            "1/1 [==============================] - 0s 51ms/step - loss: 251.8862 - val_loss: 275.6161\n",
            "Epoch 172/400\n",
            "1/1 [==============================] - 0s 52ms/step - loss: 251.8839 - val_loss: 275.5999\n",
            "Epoch 173/400\n",
            "1/1 [==============================] - 0s 55ms/step - loss: 251.8930 - val_loss: 275.5231\n",
            "Epoch 174/400\n",
            "1/1 [==============================] - 0s 51ms/step - loss: 251.8899 - val_loss: 275.4725\n",
            "Epoch 175/400\n",
            "1/1 [==============================] - 0s 52ms/step - loss: 251.8900 - val_loss: 275.4760\n",
            "Epoch 176/400\n",
            "1/1 [==============================] - 0s 57ms/step - loss: 251.8867 - val_loss: 275.5442\n",
            "Epoch 177/400\n",
            "1/1 [==============================] - 0s 54ms/step - loss: 251.8935 - val_loss: 275.5645\n",
            "Epoch 178/400\n",
            "1/1 [==============================] - 0s 59ms/step - loss: 251.8821 - val_loss: 275.6319\n",
            "Epoch 179/400\n",
            "1/1 [==============================] - 0s 56ms/step - loss: 251.8954 - val_loss: 275.6089\n",
            "Epoch 180/400\n",
            "1/1 [==============================] - 0s 54ms/step - loss: 251.8910 - val_loss: 275.5419\n",
            "Epoch 181/400\n",
            "1/1 [==============================] - 0s 52ms/step - loss: 251.8880 - val_loss: 275.4913\n",
            "Epoch 182/400\n",
            "1/1 [==============================] - 0s 54ms/step - loss: 251.8944 - val_loss: 275.4182\n",
            "Epoch 183/400\n",
            "1/1 [==============================] - 0s 55ms/step - loss: 251.8917 - val_loss: 275.3791\n",
            "Epoch 184/400\n",
            "1/1 [==============================] - 0s 54ms/step - loss: 251.8905 - val_loss: 275.4483\n",
            "Epoch 185/400\n",
            "1/1 [==============================] - 0s 60ms/step - loss: 251.8901 - val_loss: 275.5212\n",
            "Epoch 186/400\n",
            "1/1 [==============================] - 0s 51ms/step - loss: 251.8899 - val_loss: 275.6037\n",
            "Epoch 187/400\n",
            "1/1 [==============================] - 0s 57ms/step - loss: 251.8905 - val_loss: 275.6505\n",
            "Epoch 188/400\n",
            "1/1 [==============================] - 0s 52ms/step - loss: 251.8892 - val_loss: 275.6399\n",
            "Epoch 189/400\n",
            "1/1 [==============================] - 0s 55ms/step - loss: 251.8891 - val_loss: 275.5246\n",
            "Epoch 190/400\n",
            "1/1 [==============================] - 0s 54ms/step - loss: 251.8879 - val_loss: 275.4079\n",
            "Epoch 191/400\n",
            "1/1 [==============================] - 0s 62ms/step - loss: 251.8898 - val_loss: 275.3610\n",
            "Epoch 192/400\n",
            "1/1 [==============================] - 0s 55ms/step - loss: 251.8816 - val_loss: 275.3575\n",
            "Epoch 193/400\n",
            "1/1 [==============================] - 0s 53ms/step - loss: 251.8987 - val_loss: 275.4839\n",
            "Epoch 194/400\n",
            "1/1 [==============================] - 0s 57ms/step - loss: 251.8845 - val_loss: 275.6163\n",
            "Epoch 195/400\n",
            "1/1 [==============================] - 0s 49ms/step - loss: 251.8973 - val_loss: 275.7539\n",
            "Epoch 196/400\n",
            "1/1 [==============================] - 0s 52ms/step - loss: 251.9000 - val_loss: 275.8550\n",
            "Epoch 197/400\n",
            "1/1 [==============================] - 0s 51ms/step - loss: 251.8798 - val_loss: 275.7584\n",
            "Epoch 198/400\n",
            "1/1 [==============================] - 0s 50ms/step - loss: 251.8830 - val_loss: 275.5662\n",
            "Epoch 199/400\n",
            "1/1 [==============================] - 0s 58ms/step - loss: 251.8992 - val_loss: 275.4442\n",
            "Epoch 200/400\n",
            "1/1 [==============================] - 0s 53ms/step - loss: 251.9221 - val_loss: 275.4968\n",
            "Epoch 201/400\n",
            "1/1 [==============================] - 0s 48ms/step - loss: 251.8735 - val_loss: 275.5262\n",
            "Epoch 202/400\n",
            "1/1 [==============================] - 0s 50ms/step - loss: 251.8784 - val_loss: 275.5382\n",
            "Epoch 203/400\n",
            "1/1 [==============================] - 0s 55ms/step - loss: 251.8943 - val_loss: 275.5913\n",
            "Epoch 204/400\n",
            "1/1 [==============================] - 0s 71ms/step - loss: 251.8849 - val_loss: 275.6214\n",
            "Epoch 205/400\n",
            "1/1 [==============================] - 0s 54ms/step - loss: 251.8975 - val_loss: 275.6595\n",
            "Epoch 206/400\n",
            "1/1 [==============================] - 0s 70ms/step - loss: 251.8781 - val_loss: 275.6030\n",
            "Epoch 207/400\n",
            "1/1 [==============================] - 0s 55ms/step - loss: 251.8979 - val_loss: 275.5771\n",
            "Epoch 208/400\n",
            "1/1 [==============================] - 0s 57ms/step - loss: 251.8737 - val_loss: 275.4832\n",
            "Epoch 209/400\n",
            "1/1 [==============================] - 0s 58ms/step - loss: 251.8848 - val_loss: 275.4175\n",
            "Epoch 210/400\n",
            "1/1 [==============================] - 0s 57ms/step - loss: 251.8841 - val_loss: 275.3972\n",
            "Epoch 211/400\n",
            "1/1 [==============================] - 0s 59ms/step - loss: 251.8866 - val_loss: 275.4389\n",
            "Epoch 212/400\n",
            "1/1 [==============================] - 0s 55ms/step - loss: 251.8941 - val_loss: 275.5475\n",
            "Epoch 213/400\n",
            "1/1 [==============================] - 0s 55ms/step - loss: 251.8888 - val_loss: 275.6682\n",
            "Epoch 214/400\n",
            "1/1 [==============================] - 0s 57ms/step - loss: 251.8957 - val_loss: 275.7778\n",
            "Epoch 215/400\n",
            "1/1 [==============================] - 0s 64ms/step - loss: 251.8908 - val_loss: 275.7985\n",
            "Epoch 216/400\n",
            "1/1 [==============================] - 0s 56ms/step - loss: 251.8920 - val_loss: 275.7353\n",
            "Epoch 217/400\n",
            "1/1 [==============================] - 0s 63ms/step - loss: 251.8972 - val_loss: 275.6587\n",
            "Epoch 218/400\n",
            "1/1 [==============================] - 0s 54ms/step - loss: 251.8844 - val_loss: 275.5484\n",
            "Epoch 219/400\n",
            "1/1 [==============================] - 0s 56ms/step - loss: 251.8952 - val_loss: 275.5066\n",
            "Epoch 220/400\n",
            "1/1 [==============================] - 0s 54ms/step - loss: 251.8914 - val_loss: 275.5246\n",
            "Epoch 221/400\n",
            "1/1 [==============================] - 0s 54ms/step - loss: 251.8874 - val_loss: 275.5652\n",
            "Epoch 222/400\n",
            "1/1 [==============================] - 0s 62ms/step - loss: 251.8887 - val_loss: 275.6146\n",
            "Epoch 223/400\n",
            "1/1 [==============================] - 0s 53ms/step - loss: 251.8876 - val_loss: 275.6216\n",
            "Epoch 224/400\n",
            "1/1 [==============================] - 0s 54ms/step - loss: 251.8884 - val_loss: 275.5902\n",
            "Epoch 225/400\n",
            "1/1 [==============================] - 0s 57ms/step - loss: 251.8872 - val_loss: 275.5213\n",
            "Epoch 226/400\n",
            "1/1 [==============================] - 0s 66ms/step - loss: 251.8868 - val_loss: 275.4607\n",
            "Epoch 227/400\n",
            "1/1 [==============================] - 0s 61ms/step - loss: 251.8916 - val_loss: 275.4809\n",
            "Epoch 228/400\n",
            "1/1 [==============================] - 0s 54ms/step - loss: 251.8867 - val_loss: 275.5086\n",
            "Epoch 229/400\n",
            "1/1 [==============================] - 0s 55ms/step - loss: 251.8866 - val_loss: 275.5371\n",
            "Epoch 230/400\n",
            "1/1 [==============================] - 0s 55ms/step - loss: 251.8885 - val_loss: 275.5959\n",
            "Epoch 231/400\n",
            "1/1 [==============================] - 0s 54ms/step - loss: 251.8878 - val_loss: 275.6343\n",
            "Epoch 232/400\n",
            "1/1 [==============================] - 0s 52ms/step - loss: 251.8877 - val_loss: 275.6410\n",
            "Epoch 233/400\n",
            "1/1 [==============================] - 0s 56ms/step - loss: 251.8878 - val_loss: 275.6637\n",
            "Epoch 234/400\n",
            "1/1 [==============================] - 0s 47ms/step - loss: 251.8886 - val_loss: 275.6284\n",
            "Epoch 235/400\n",
            "1/1 [==============================] - 0s 56ms/step - loss: 251.8870 - val_loss: 275.5776\n",
            "Epoch 236/400\n",
            "1/1 [==============================] - 0s 69ms/step - loss: 251.8899 - val_loss: 275.4903\n",
            "Epoch 237/400\n",
            "1/1 [==============================] - 0s 62ms/step - loss: 251.8878 - val_loss: 275.4633\n",
            "Epoch 238/400\n",
            "1/1 [==============================] - 0s 55ms/step - loss: 251.8874 - val_loss: 275.5134\n",
            "Epoch 239/400\n",
            "1/1 [==============================] - 0s 55ms/step - loss: 251.8838 - val_loss: 275.6456\n",
            "Epoch 240/400\n",
            "1/1 [==============================] - 0s 59ms/step - loss: 251.8960 - val_loss: 275.6610\n",
            "Epoch 241/400\n",
            "1/1 [==============================] - 0s 52ms/step - loss: 251.8922 - val_loss: 275.5999\n",
            "Epoch 242/400\n",
            "1/1 [==============================] - 0s 54ms/step - loss: 251.8936 - val_loss: 275.4777\n",
            "Epoch 243/400\n",
            "1/1 [==============================] - 0s 52ms/step - loss: 251.8899 - val_loss: 275.3860\n",
            "Epoch 244/400\n",
            "1/1 [==============================] - 0s 61ms/step - loss: 251.8893 - val_loss: 275.3896\n",
            "Epoch 245/400\n",
            "1/1 [==============================] - 0s 54ms/step - loss: 251.8920 - val_loss: 275.3880\n",
            "Epoch 246/400\n",
            "1/1 [==============================] - 0s 54ms/step - loss: 251.8912 - val_loss: 275.4422\n",
            "Epoch 247/400\n",
            "1/1 [==============================] - 0s 53ms/step - loss: 251.8900 - val_loss: 275.5303\n",
            "Epoch 248/400\n",
            "1/1 [==============================] - 0s 58ms/step - loss: 251.8873 - val_loss: 275.6195\n",
            "Epoch 249/400\n",
            "1/1 [==============================] - 0s 54ms/step - loss: 251.8861 - val_loss: 275.6543\n",
            "Epoch 250/400\n",
            "1/1 [==============================] - 0s 56ms/step - loss: 251.8890 - val_loss: 275.6616\n",
            "Epoch 251/400\n",
            "1/1 [==============================] - 0s 59ms/step - loss: 251.8883 - val_loss: 275.6258\n",
            "Epoch 252/400\n",
            "1/1 [==============================] - 0s 54ms/step - loss: 251.8839 - val_loss: 275.5302\n",
            "Epoch 253/400\n",
            "1/1 [==============================] - 0s 57ms/step - loss: 251.8877 - val_loss: 275.4719\n",
            "Epoch 254/400\n",
            "1/1 [==============================] - 0s 70ms/step - loss: 251.8920 - val_loss: 275.4893\n",
            "Epoch 255/400\n",
            "1/1 [==============================] - 0s 54ms/step - loss: 251.8947 - val_loss: 275.5784\n",
            "Epoch 256/400\n",
            "1/1 [==============================] - 0s 58ms/step - loss: 251.8886 - val_loss: 275.6758\n",
            "Epoch 257/400\n",
            "1/1 [==============================] - 0s 57ms/step - loss: 251.8878 - val_loss: 275.7151\n",
            "Epoch 258/400\n",
            "1/1 [==============================] - 0s 53ms/step - loss: 251.8889 - val_loss: 275.6711\n",
            "Epoch 259/400\n",
            "1/1 [==============================] - 0s 50ms/step - loss: 251.8853 - val_loss: 275.5341\n",
            "Epoch 260/400\n",
            "1/1 [==============================] - 0s 54ms/step - loss: 251.8842 - val_loss: 275.4044\n",
            "Epoch 261/400\n",
            "1/1 [==============================] - 0s 54ms/step - loss: 251.8907 - val_loss: 275.3732\n",
            "Epoch 262/400\n",
            "1/1 [==============================] - 0s 60ms/step - loss: 251.8919 - val_loss: 275.4403\n",
            "Epoch 263/400\n",
            "1/1 [==============================] - 0s 62ms/step - loss: 251.8832 - val_loss: 275.5275\n",
            "Epoch 264/400\n",
            "1/1 [==============================] - 0s 54ms/step - loss: 251.8932 - val_loss: 275.6451\n",
            "Epoch 265/400\n",
            "1/1 [==============================] - 0s 51ms/step - loss: 251.8844 - val_loss: 275.6924\n",
            "Epoch 266/400\n",
            "1/1 [==============================] - 0s 60ms/step - loss: 251.8902 - val_loss: 275.6838\n",
            "Epoch 267/400\n",
            "1/1 [==============================] - 0s 53ms/step - loss: 251.9006 - val_loss: 275.6901\n",
            "Epoch 268/400\n",
            "1/1 [==============================] - 0s 56ms/step - loss: 251.8946 - val_loss: 275.6818\n",
            "Epoch 269/400\n",
            "1/1 [==============================] - 0s 54ms/step - loss: 251.8887 - val_loss: 275.6305\n",
            "Epoch 270/400\n",
            "1/1 [==============================] - 0s 61ms/step - loss: 251.8854 - val_loss: 275.5375\n",
            "Epoch 271/400\n",
            "1/1 [==============================] - 0s 54ms/step - loss: 251.8861 - val_loss: 275.4612\n",
            "Epoch 272/400\n",
            "1/1 [==============================] - 0s 66ms/step - loss: 251.8902 - val_loss: 275.4619\n",
            "Epoch 273/400\n",
            "1/1 [==============================] - 0s 77ms/step - loss: 251.8926 - val_loss: 275.5604\n",
            "Epoch 274/400\n",
            "1/1 [==============================] - 0s 73ms/step - loss: 251.8936 - val_loss: 275.7182\n",
            "Epoch 275/400\n",
            "1/1 [==============================] - 0s 67ms/step - loss: 251.8889 - val_loss: 275.8286\n",
            "Epoch 276/400\n",
            "1/1 [==============================] - 0s 73ms/step - loss: 251.8949 - val_loss: 275.7527\n",
            "Epoch 277/400\n",
            "1/1 [==============================] - 0s 70ms/step - loss: 251.8881 - val_loss: 275.6129\n",
            "Epoch 278/400\n",
            "1/1 [==============================] - 0s 71ms/step - loss: 251.8916 - val_loss: 275.4303\n",
            "Epoch 279/400\n",
            "1/1 [==============================] - 0s 91ms/step - loss: 251.8888 - val_loss: 275.3409\n",
            "Epoch 280/400\n",
            "1/1 [==============================] - 0s 78ms/step - loss: 251.8908 - val_loss: 275.3940\n",
            "Epoch 281/400\n",
            "1/1 [==============================] - 0s 66ms/step - loss: 251.8870 - val_loss: 275.5672\n",
            "Epoch 282/400\n",
            "1/1 [==============================] - 0s 66ms/step - loss: 251.8846 - val_loss: 275.7448\n",
            "Epoch 283/400\n",
            "1/1 [==============================] - 0s 82ms/step - loss: 251.8865 - val_loss: 275.8248\n",
            "Epoch 284/400\n",
            "1/1 [==============================] - 0s 83ms/step - loss: 251.8995 - val_loss: 275.7309\n",
            "Epoch 285/400\n",
            "1/1 [==============================] - 0s 81ms/step - loss: 251.8940 - val_loss: 275.5449\n",
            "Epoch 286/400\n",
            "1/1 [==============================] - 0s 94ms/step - loss: 251.8914 - val_loss: 275.3672\n",
            "Epoch 287/400\n",
            "1/1 [==============================] - 0s 77ms/step - loss: 251.8831 - val_loss: 275.3314\n",
            "Epoch 288/400\n",
            "1/1 [==============================] - 0s 69ms/step - loss: 251.8964 - val_loss: 275.3628\n",
            "Epoch 289/400\n",
            "1/1 [==============================] - 0s 76ms/step - loss: 251.8809 - val_loss: 275.5126\n",
            "Epoch 290/400\n",
            "1/1 [==============================] - 0s 62ms/step - loss: 251.8861 - val_loss: 275.6654\n",
            "Epoch 291/400\n",
            "1/1 [==============================] - 0s 63ms/step - loss: 251.9020 - val_loss: 275.6962\n",
            "Epoch 292/400\n",
            "1/1 [==============================] - 0s 63ms/step - loss: 251.8825 - val_loss: 275.6653\n",
            "Epoch 293/400\n",
            "1/1 [==============================] - 0s 60ms/step - loss: 251.9035 - val_loss: 275.5181\n",
            "Epoch 294/400\n",
            "1/1 [==============================] - 0s 72ms/step - loss: 251.8974 - val_loss: 275.3625\n",
            "Epoch 295/400\n",
            "1/1 [==============================] - 0s 63ms/step - loss: 251.8910 - val_loss: 275.3044\n",
            "Epoch 296/400\n",
            "1/1 [==============================] - 0s 74ms/step - loss: 251.8881 - val_loss: 275.3834\n",
            "Epoch 297/400\n",
            "1/1 [==============================] - 0s 71ms/step - loss: 251.8857 - val_loss: 275.5474\n",
            "Epoch 298/400\n",
            "1/1 [==============================] - 0s 79ms/step - loss: 251.8844 - val_loss: 275.6945\n",
            "Epoch 299/400\n",
            "1/1 [==============================] - 0s 68ms/step - loss: 251.8847 - val_loss: 275.7767\n",
            "Epoch 300/400\n",
            "1/1 [==============================] - 0s 73ms/step - loss: 251.9017 - val_loss: 275.6638\n",
            "Epoch 301/400\n",
            "1/1 [==============================] - 0s 63ms/step - loss: 251.8888 - val_loss: 275.4928\n",
            "Epoch 302/400\n",
            "1/1 [==============================] - 0s 75ms/step - loss: 251.8842 - val_loss: 275.3770\n",
            "Epoch 303/400\n",
            "1/1 [==============================] - 0s 69ms/step - loss: 251.8879 - val_loss: 275.3459\n",
            "Epoch 304/400\n",
            "1/1 [==============================] - 0s 65ms/step - loss: 251.8893 - val_loss: 275.4179\n",
            "Epoch 305/400\n",
            "1/1 [==============================] - 0s 62ms/step - loss: 251.8854 - val_loss: 275.5992\n",
            "Epoch 306/400\n",
            "1/1 [==============================] - 0s 84ms/step - loss: 251.8852 - val_loss: 275.7220\n",
            "Epoch 307/400\n",
            "1/1 [==============================] - 0s 76ms/step - loss: 251.8876 - val_loss: 275.7422\n",
            "Epoch 308/400\n",
            "1/1 [==============================] - 0s 61ms/step - loss: 251.8867 - val_loss: 275.6842\n",
            "Epoch 309/400\n",
            "1/1 [==============================] - 0s 55ms/step - loss: 251.8897 - val_loss: 275.5382\n",
            "Epoch 310/400\n",
            "1/1 [==============================] - 0s 67ms/step - loss: 251.8861 - val_loss: 275.3920\n",
            "Epoch 311/400\n",
            "1/1 [==============================] - 0s 55ms/step - loss: 251.8842 - val_loss: 275.3205\n",
            "Epoch 312/400\n",
            "1/1 [==============================] - 0s 59ms/step - loss: 251.8851 - val_loss: 275.3497\n",
            "Epoch 313/400\n",
            "1/1 [==============================] - 0s 61ms/step - loss: 251.8852 - val_loss: 275.4475\n",
            "Epoch 314/400\n",
            "1/1 [==============================] - 0s 56ms/step - loss: 251.8839 - val_loss: 275.5731\n",
            "Epoch 315/400\n",
            "1/1 [==============================] - 0s 54ms/step - loss: 251.8900 - val_loss: 275.7130\n",
            "Epoch 316/400\n",
            "1/1 [==============================] - 0s 55ms/step - loss: 251.8802 - val_loss: 275.7213\n",
            "Epoch 317/400\n",
            "1/1 [==============================] - 0s 59ms/step - loss: 251.8800 - val_loss: 275.6113\n",
            "Epoch 318/400\n",
            "1/1 [==============================] - 0s 56ms/step - loss: 251.8780 - val_loss: 275.4501\n",
            "Epoch 319/400\n",
            "1/1 [==============================] - 0s 50ms/step - loss: 251.8825 - val_loss: 275.3546\n",
            "Epoch 320/400\n",
            "1/1 [==============================] - 0s 54ms/step - loss: 251.8804 - val_loss: 275.3716\n",
            "Epoch 321/400\n",
            "1/1 [==============================] - 0s 55ms/step - loss: 251.8986 - val_loss: 275.5387\n",
            "Epoch 322/400\n",
            "1/1 [==============================] - 0s 68ms/step - loss: 251.8810 - val_loss: 275.6975\n",
            "Epoch 323/400\n",
            "1/1 [==============================] - 0s 58ms/step - loss: 251.8939 - val_loss: 275.8138\n",
            "Epoch 324/400\n",
            "1/1 [==============================] - 0s 57ms/step - loss: 251.9029 - val_loss: 275.8669\n",
            "Epoch 325/400\n",
            "1/1 [==============================] - 0s 50ms/step - loss: 251.8765 - val_loss: 275.7075\n",
            "Epoch 326/400\n",
            "1/1 [==============================] - 0s 55ms/step - loss: 251.8872 - val_loss: 275.5178\n",
            "Epoch 327/400\n",
            "1/1 [==============================] - 0s 65ms/step - loss: 251.8898 - val_loss: 275.4129\n",
            "Epoch 328/400\n",
            "1/1 [==============================] - 0s 57ms/step - loss: 251.9047 - val_loss: 275.4871\n",
            "Epoch 329/400\n",
            "1/1 [==============================] - 0s 56ms/step - loss: 251.8859 - val_loss: 275.6060\n",
            "Epoch 330/400\n",
            "1/1 [==============================] - 0s 54ms/step - loss: 251.8894 - val_loss: 275.7685\n",
            "Epoch 331/400\n",
            "1/1 [==============================] - 0s 54ms/step - loss: 251.8823 - val_loss: 275.7884\n",
            "Epoch 332/400\n",
            "1/1 [==============================] - 0s 54ms/step - loss: 251.8829 - val_loss: 275.6048\n",
            "Epoch 333/400\n",
            "1/1 [==============================] - 0s 56ms/step - loss: 251.8772 - val_loss: 275.4255\n",
            "Epoch 334/400\n",
            "1/1 [==============================] - 0s 48ms/step - loss: 251.8792 - val_loss: 275.2843\n",
            "Epoch 335/400\n",
            "1/1 [==============================] - 0s 50ms/step - loss: 251.8827 - val_loss: 275.3039\n",
            "Epoch 336/400\n",
            "1/1 [==============================] - 0s 51ms/step - loss: 251.8787 - val_loss: 275.4307\n",
            "Epoch 337/400\n",
            "1/1 [==============================] - 0s 59ms/step - loss: 251.8771 - val_loss: 275.6283\n",
            "Epoch 338/400\n",
            "1/1 [==============================] - 0s 52ms/step - loss: 251.8753 - val_loss: 275.7719\n",
            "Epoch 339/400\n",
            "1/1 [==============================] - 0s 55ms/step - loss: 251.8826 - val_loss: 275.6951\n",
            "Epoch 340/400\n",
            "1/1 [==============================] - 0s 55ms/step - loss: 251.8857 - val_loss: 275.4736\n",
            "Epoch 341/400\n",
            "1/1 [==============================] - 0s 52ms/step - loss: 251.8745 - val_loss: 275.3678\n",
            "Epoch 342/400\n",
            "1/1 [==============================] - 0s 55ms/step - loss: 251.8751 - val_loss: 275.3813\n",
            "Epoch 343/400\n",
            "1/1 [==============================] - 0s 53ms/step - loss: 251.8733 - val_loss: 275.4163\n",
            "Epoch 344/400\n",
            "1/1 [==============================] - 0s 62ms/step - loss: 251.8723 - val_loss: 275.4600\n",
            "Epoch 345/400\n",
            "1/1 [==============================] - 0s 55ms/step - loss: 251.8624 - val_loss: 275.4902\n",
            "Epoch 346/400\n",
            "1/1 [==============================] - 0s 54ms/step - loss: 251.8704 - val_loss: 275.5745\n",
            "Epoch 347/400\n",
            "1/1 [==============================] - 0s 52ms/step - loss: 251.8626 - val_loss: 275.6541\n",
            "Epoch 348/400\n",
            "1/1 [==============================] - 0s 54ms/step - loss: 251.8630 - val_loss: 275.6451\n",
            "Epoch 349/400\n",
            "1/1 [==============================] - 0s 53ms/step - loss: 251.8488 - val_loss: 275.4555\n",
            "Epoch 350/400\n",
            "1/1 [==============================] - 0s 58ms/step - loss: 251.8562 - val_loss: 275.3484\n",
            "Epoch 351/400\n",
            "1/1 [==============================] - 0s 53ms/step - loss: 251.8872 - val_loss: 275.5014\n",
            "Epoch 352/400\n",
            "1/1 [==============================] - 0s 58ms/step - loss: 251.8521 - val_loss: 275.6321\n",
            "Epoch 353/400\n",
            "1/1 [==============================] - 0s 55ms/step - loss: 251.8533 - val_loss: 275.6622\n",
            "Epoch 354/400\n",
            "1/1 [==============================] - 0s 53ms/step - loss: 251.8585 - val_loss: 275.6444\n",
            "Epoch 355/400\n",
            "1/1 [==============================] - 0s 49ms/step - loss: 251.8518 - val_loss: 275.5370\n",
            "Epoch 356/400\n",
            "1/1 [==============================] - 0s 56ms/step - loss: 251.8484 - val_loss: 275.5302\n",
            "Epoch 357/400\n",
            "1/1 [==============================] - 0s 56ms/step - loss: 251.8284 - val_loss: 275.4749\n",
            "Epoch 358/400\n",
            "1/1 [==============================] - 0s 52ms/step - loss: 251.8349 - val_loss: 275.4594\n",
            "Epoch 359/400\n",
            "1/1 [==============================] - 0s 52ms/step - loss: 251.8455 - val_loss: 275.5924\n",
            "Epoch 360/400\n",
            "1/1 [==============================] - 0s 50ms/step - loss: 251.8278 - val_loss: 275.6219\n",
            "Epoch 361/400\n",
            "1/1 [==============================] - 0s 69ms/step - loss: 251.8114 - val_loss: 275.4662\n",
            "Epoch 362/400\n",
            "1/1 [==============================] - 0s 63ms/step - loss: 251.8253 - val_loss: 275.2657\n",
            "Epoch 363/400\n",
            "1/1 [==============================] - 0s 54ms/step - loss: 251.7986 - val_loss: 275.2966\n",
            "Epoch 364/400\n",
            "1/1 [==============================] - 0s 55ms/step - loss: 251.8037 - val_loss: 275.4742\n",
            "Epoch 365/400\n",
            "1/1 [==============================] - 0s 52ms/step - loss: 251.7965 - val_loss: 275.4641\n",
            "Epoch 366/400\n",
            "1/1 [==============================] - 0s 55ms/step - loss: 251.8124 - val_loss: 275.4750\n",
            "Epoch 367/400\n",
            "1/1 [==============================] - 0s 59ms/step - loss: 251.8031 - val_loss: 275.4561\n",
            "Epoch 368/400\n",
            "1/1 [==============================] - 0s 50ms/step - loss: 251.7513 - val_loss: 275.6713\n",
            "Epoch 369/400\n",
            "1/1 [==============================] - 0s 56ms/step - loss: 251.7384 - val_loss: 275.4313\n",
            "Epoch 370/400\n",
            "1/1 [==============================] - 0s 57ms/step - loss: 251.7207 - val_loss: 275.1195\n",
            "Epoch 371/400\n",
            "1/1 [==============================] - 0s 56ms/step - loss: 251.7144 - val_loss: 274.8581\n",
            "Epoch 372/400\n",
            "1/1 [==============================] - 0s 53ms/step - loss: 251.7209 - val_loss: 274.9118\n",
            "Epoch 373/400\n",
            "1/1 [==============================] - 0s 56ms/step - loss: 251.6572 - val_loss: 275.3694\n",
            "Epoch 374/400\n",
            "1/1 [==============================] - 0s 52ms/step - loss: 251.6297 - val_loss: 275.5721\n",
            "Epoch 375/400\n",
            "1/1 [==============================] - 0s 61ms/step - loss: 251.6051 - val_loss: 275.3248\n",
            "Epoch 376/400\n",
            "1/1 [==============================] - 0s 56ms/step - loss: 251.5996 - val_loss: 275.4643\n",
            "Epoch 377/400\n",
            "1/1 [==============================] - 0s 55ms/step - loss: 251.4847 - val_loss: 276.0095\n",
            "Epoch 378/400\n",
            "1/1 [==============================] - 0s 58ms/step - loss: 251.5571 - val_loss: 275.6187\n",
            "Epoch 379/400\n",
            "1/1 [==============================] - 0s 55ms/step - loss: 251.4520 - val_loss: 275.6372\n",
            "Epoch 380/400\n",
            "1/1 [==============================] - 0s 52ms/step - loss: 251.4254 - val_loss: 275.7154\n",
            "Epoch 381/400\n",
            "1/1 [==============================] - 0s 66ms/step - loss: 251.3927 - val_loss: 275.9239\n",
            "Epoch 382/400\n",
            "1/1 [==============================] - 0s 57ms/step - loss: 251.3551 - val_loss: 275.5503\n",
            "Epoch 383/400\n",
            "1/1 [==============================] - 0s 59ms/step - loss: 251.2920 - val_loss: 275.3352\n",
            "Epoch 384/400\n",
            "1/1 [==============================] - 0s 53ms/step - loss: 251.2421 - val_loss: 276.1895\n",
            "Epoch 385/400\n",
            "1/1 [==============================] - 0s 54ms/step - loss: 251.1972 - val_loss: 275.7802\n",
            "Epoch 386/400\n",
            "1/1 [==============================] - 0s 49ms/step - loss: 251.0815 - val_loss: 275.6534\n",
            "Epoch 387/400\n",
            "1/1 [==============================] - 0s 55ms/step - loss: 250.9665 - val_loss: 275.8988\n",
            "Epoch 388/400\n",
            "1/1 [==============================] - 0s 53ms/step - loss: 250.9563 - val_loss: 276.0556\n",
            "Epoch 389/400\n",
            "1/1 [==============================] - 0s 60ms/step - loss: 250.9802 - val_loss: 276.1604\n",
            "Epoch 390/400\n",
            "1/1 [==============================] - 0s 53ms/step - loss: 250.7607 - val_loss: 275.5327\n",
            "Epoch 391/400\n",
            "1/1 [==============================] - 0s 54ms/step - loss: 250.6986 - val_loss: 275.9768\n",
            "Epoch 392/400\n",
            "1/1 [==============================] - 0s 59ms/step - loss: 250.6600 - val_loss: 276.5807\n",
            "Epoch 393/400\n",
            "1/1 [==============================] - 0s 59ms/step - loss: 250.6379 - val_loss: 274.8901\n",
            "Epoch 394/400\n",
            "1/1 [==============================] - 0s 62ms/step - loss: 250.4680 - val_loss: 276.1149\n",
            "Epoch 395/400\n",
            "1/1 [==============================] - 0s 69ms/step - loss: 250.2794 - val_loss: 277.7675\n",
            "Epoch 396/400\n",
            "1/1 [==============================] - 0s 64ms/step - loss: 250.2695 - val_loss: 275.1714\n",
            "Epoch 397/400\n",
            "1/1 [==============================] - 0s 57ms/step - loss: 250.0367 - val_loss: 274.8352\n",
            "Epoch 398/400\n",
            "1/1 [==============================] - 0s 59ms/step - loss: 250.0246 - val_loss: 278.1924\n",
            "Epoch 399/400\n",
            "1/1 [==============================] - 0s 52ms/step - loss: 250.0770 - val_loss: 276.1187\n",
            "Epoch 400/400\n",
            "1/1 [==============================] - 0s 52ms/step - loss: 249.5173 - val_loss: 274.9953\n"
          ]
        }
      ]
    },
    {
      "cell_type": "code",
      "source": [
        "(209.1381 - 191.0137 ) / 191.0137  * 100"
      ],
      "metadata": {
        "id": "nDBBWe8PEDwE"
      },
      "execution_count": null,
      "outputs": []
    },
    {
      "cell_type": "code",
      "source": [
        "plt.plot(h.history[\"loss\"])\n",
        "plt.plot(h.history[\"val_loss\"])"
      ],
      "metadata": {
        "colab": {
          "base_uri": "https://localhost:8080/",
          "height": 447
        },
        "id": "wwUvYpfu0CXA",
        "outputId": "7aa77a6a-fc11-4652-f3c5-c9d3e9436941"
      },
      "execution_count": 83,
      "outputs": [
        {
          "output_type": "execute_result",
          "data": {
            "text/plain": [
              "[<matplotlib.lines.Line2D at 0x7fc23d407e80>]"
            ]
          },
          "metadata": {},
          "execution_count": 83
        },
        {
          "output_type": "display_data",
          "data": {
            "text/plain": [
              "<Figure size 640x480 with 1 Axes>"
            ],
            "image/png": "[encoded data removed]"
          },
          "metadata": {}
        }
      ]
    },
    {
      "cell_type": "code",
      "source": [
        "plt.plot(h.history[\"loss\"][-50:])\n",
        "plt.plot(h.history[\"val_loss\"][-50:])"
      ],
      "metadata": {
        "id": "nVut64nZ0F8A"
      },
      "execution_count": null,
      "outputs": []
    },
    {
      "cell_type": "code",
      "source": [
        "import tensorflow as tf\n"
      ],
      "metadata": {
        "id": "2tHz694LY-T4"
      },
      "execution_count": null,
      "outputs": []
    },
    {
      "cell_type": "code",
      "source": [
        "p_test = model_GRU(X_DATA_TEST)"
      ],
      "metadata": {
        "id": "Y7WQPwxC31Vc"
      },
      "execution_count": null,
      "outputs": []
    },
    {
      "cell_type": "code",
      "source": [
        "top_is_target(Y_DATA_TEST_NORM, p_test)"
      ],
      "metadata": {
        "id": "yB1COlYdRhVI",
        "colab": {
          "base_uri": "https://localhost:8080/"
        },
        "outputId": "345dba03-f3b4-4e6f-ee17-c0922befc2de"
      },
      "execution_count": null,
      "outputs": [
        {
          "output_type": "execute_result",
          "data": {
            "text/plain": [
              "<tf.Tensor: shape=(147,), dtype=float32, numpy=\n",
              "array([204.20673, 186.34106, 208.12389, 208.48422, 186.97917, 199.63422,\n",
              "       240.54166, 224.9988 , 220.9115 , 210.20699, 195.3571 , 200.69511,\n",
              "       188.01857, 178.33093, 193.63304, 185.45512, 167.5977 , 182.44917,\n",
              "       190.26678, 216.7046 , 233.65665, 225.45074, 215.4205 , 235.16199,\n",
              "       203.42998, 257.61023, 290.26318, 234.73404, 238.49858, 261.52997,\n",
              "       266.09427, 264.9662 , 332.88864, 321.41718, 313.82526, 329.13403,\n",
              "       350.96457, 310.29236, 341.45288, 349.49368, 371.76978, 357.03302,\n",
              "       339.2388 , 371.5101 , 352.11578, 336.48218, 334.5555 , 345.63336,\n",
              "       368.73273, 351.11426, 346.74295, 363.3107 , 366.55994, 379.32117,\n",
              "       364.90152, 371.16013, 328.4115 , 336.86078, 341.0115 , 320.88632,\n",
              "       322.7426 , 325.46768, 341.0708 , 372.6914 , 351.06348, 367.2254 ,\n",
              "       336.18298, 339.51636, 363.39523, 364.99078, 346.6848 , 323.52386,\n",
              "       328.49   , 313.96896, 302.32092, 301.0503 , 285.13425, 280.99603,\n",
              "       308.79797, 306.09393, 338.8118 , 333.721  , 322.9254 , 326.7726 ,\n",
              "       330.9187 , 360.63943, 386.59967, 387.47668, 390.4579 , 384.09695,\n",
              "       356.9209 , 362.48154, 368.1075 , 355.43958, 361.076  , 349.72528,\n",
              "       341.23557, 321.17773, 324.55493, 358.14273, 370.3543 , 358.98187,\n",
              "       329.13297, 343.7402 , 311.33978, 280.43857, 303.11505, 290.59177,\n",
              "       285.31516, 279.7748 , 343.4051 , 385.70978, 376.34644, 367.70148,\n",
              "       355.37112, 319.45206, 287.7963 , 260.01248, 250.94174, 234.23146,\n",
              "       253.82802, 258.34094, 258.01086, 254.25633, 215.98111, 248.86893,\n",
              "       304.79272, 279.90012, 319.05197, 338.4545 , 347.92026, 318.63815,\n",
              "       333.85187, 388.349  , 387.04776, 438.56598, 444.48383, 399.246  ,\n",
              "       399.03967, 318.2412 , 249.96252, 272.0031 , 235.2281 , 254.95535,\n",
              "       237.4375 , 308.61774, 301.0599 ], dtype=float32)>"
            ]
          },
          "metadata": {},
          "execution_count": 98
        }
      ]
    },
    {
      "cell_type": "code",
      "source": [
        "Y_DATA_TEST[0]"
      ],
      "metadata": {
        "id": "CpPDh4WkSSch"
      },
      "execution_count": null,
      "outputs": []
    },
    {
      "cell_type": "code",
      "source": [
        "np.argsort(np.argsort(Y_DATA_TEST_NORM[0]))"
      ],
      "metadata": {
        "id": "9emqCCs9SCBi",
        "colab": {
          "base_uri": "https://localhost:8080/"
        },
        "outputId": "db9cbce3-57f4-4054-d268-d7216da4d893"
      },
      "execution_count": null,
      "outputs": [
        {
          "output_type": "execute_result",
          "data": {
            "text/plain": [
              "array([ 5,  0, 13, 21, 23,  8, 11, 12, 26, 22,  7, 10,  9, 28, 14, 20, 17,\n",
              "       18, 29,  4, 19,  3, 25, 24,  1,  6, 15, 27,  2, 30, 16])"
            ]
          },
          "metadata": {},
          "execution_count": 99
        }
      ]
    },
    {
      "cell_type": "code",
      "source": [
        "np.argsort(np.argsort(p_test[0]))"
      ],
      "metadata": {
        "id": "ZiuwACxsR-2h",
        "colab": {
          "base_uri": "https://localhost:8080/"
        },
        "outputId": "42505b1a-0123-4016-85a6-69a2c5e36c9d"
      },
      "execution_count": null,
      "outputs": [
        {
          "output_type": "execute_result",
          "data": {
            "text/plain": [
              "array([17,  9, 20, 24, 23,  7,  6, 10, 18, 29, 25, 27, 14, 26, 15, 11, 28,\n",
              "        5,  4,  0, 16,  8, 21, 13, 12,  3, 30,  2,  1, 19, 22])"
            ]
          },
          "metadata": {},
          "execution_count": 100
        }
      ]
    },
    {
      "cell_type": "code",
      "source": [
        "np.where(np.argsort(np.argsort(Y_DATA_TEST_NORM[0])) < 10)"
      ],
      "metadata": {
        "id": "Vfjq2xDqZ0Rz",
        "colab": {
          "base_uri": "https://localhost:8080/"
        },
        "outputId": "58b478b5-5078-413a-fd0c-aa4c536a5336"
      },
      "execution_count": null,
      "outputs": [
        {
          "output_type": "execute_result",
          "data": {
            "text/plain": [
              "(array([ 0,  1,  5, 10, 12, 19, 21, 24, 25, 28]),)"
            ]
          },
          "metadata": {},
          "execution_count": 101
        }
      ]
    },
    {
      "cell_type": "code",
      "source": [
        "np.where(np.argsort(np.argsort(p_test[0])) < 10)"
      ],
      "metadata": {
        "id": "Cky_3ZxVaPjY",
        "colab": {
          "base_uri": "https://localhost:8080/"
        },
        "outputId": "e944a3b0-a26c-45c4-8166-576bd9d042d2"
      },
      "execution_count": null,
      "outputs": [
        {
          "output_type": "execute_result",
          "data": {
            "text/plain": [
              "(array([ 1,  5,  6, 17, 18, 19, 21, 25, 27, 28]),)"
            ]
          },
          "metadata": {},
          "execution_count": 102
        }
      ]
    },
    {
      "cell_type": "code",
      "source": [],
      "metadata": {
        "id": "8qh4Z58faG48"
      },
      "execution_count": null,
      "outputs": []
    },
    {
      "cell_type": "code",
      "source": [
        "Y_DATA_TEST_NORM.shape"
      ],
      "metadata": {
        "id": "6B9CN1UQ6ggn"
      },
      "execution_count": null,
      "outputs": []
    },
    {
      "cell_type": "code",
      "source": [
        "Y_DATA_NORM.shape"
      ],
      "metadata": {
        "id": "qMCfEhES6d4C"
      },
      "execution_count": null,
      "outputs": []
    },
    {
      "cell_type": "code",
      "source": [
        "p_train = m(X_DATA)\n",
        "np.mean(tf.keras.metrics.mean_squared_error(\n",
        "   Y_DATA_NORM, p_train ))\n",
        "\n"
      ],
      "metadata": {
        "id": "h9RzjxhE3_ZS"
      },
      "execution_count": null,
      "outputs": []
    },
    {
      "cell_type": "code",
      "source": [
        "Y_DATA_TEST_NORM[1]"
      ],
      "metadata": {
        "id": "8Z8tBcaU43dY"
      },
      "execution_count": null,
      "outputs": []
    },
    {
      "cell_type": "code",
      "source": [
        "p_test[1]"
      ],
      "metadata": {
        "id": "vgabiysv40MN"
      },
      "execution_count": null,
      "outputs": []
    },
    {
      "cell_type": "code",
      "source": [],
      "metadata": {
        "id": "M9vHbJ335X7j"
      },
      "execution_count": null,
      "outputs": []
    },
    {
      "cell_type": "code",
      "source": [
        "ranking_pred = np.argsort(np.argsort(p_test[0]))\n",
        "ranking_pred\n",
        "\n"
      ],
      "metadata": {
        "id": "kDEkXGqU4DrR",
        "colab": {
          "base_uri": "https://localhost:8080/"
        },
        "outputId": "65f37cfe-e093-49ab-da24-9059eaf54a07"
      },
      "execution_count": null,
      "outputs": [
        {
          "output_type": "execute_result",
          "data": {
            "text/plain": [
              "array([17,  9, 20, 24, 23,  7,  6, 10, 18, 29, 25, 27, 14, 26, 15, 11, 28,\n",
              "        5,  4,  0, 16,  8, 21, 13, 12,  3, 30,  2,  1, 19, 22])"
            ]
          },
          "metadata": {},
          "execution_count": 103
        }
      ]
    },
    {
      "cell_type": "code",
      "source": [
        "ranking_real = Y_DATA_TEST[0]\n",
        "ranking_real\n",
        "\n"
      ],
      "metadata": {
        "id": "rsvIr09e4auo",
        "colab": {
          "base_uri": "https://localhost:8080/"
        },
        "outputId": "d533d0d3-2931-4750-e15f-5b034e96f7d9"
      },
      "execution_count": null,
      "outputs": [
        {
          "output_type": "execute_result",
          "data": {
            "text/plain": [
              "array([ 5,  0, 13, 21, 23,  8, 11, 12, 26, 22,  7, 10,  9, 28, 14, 20, 17,\n",
              "       18, 29,  4, 19,  3, 25, 24,  1,  6, 15, 27,  2, 30, 16])"
            ]
          },
          "metadata": {},
          "execution_count": 104
        }
      ]
    },
    {
      "cell_type": "code",
      "source": [
        "idx_activos_cartera_real = np.where(ranking_real < 10)\n",
        "idx_activos_cartera_real\n",
        "\n"
      ],
      "metadata": {
        "id": "ZJcc-rj15DEn",
        "colab": {
          "base_uri": "https://localhost:8080/"
        },
        "outputId": "03447ed4-2392-471f-d53a-c6e987376a47"
      },
      "execution_count": null,
      "outputs": [
        {
          "output_type": "execute_result",
          "data": {
            "text/plain": [
              "(array([ 0,  1,  5, 10, 12, 19, 21, 24, 25, 28]),)"
            ]
          },
          "metadata": {},
          "execution_count": 105
        }
      ]
    },
    {
      "cell_type": "code",
      "source": [
        "idx_activos_cartera_pred = np.where(ranking_pred < 10)\n",
        "idx_activos_cartera_pred"
      ],
      "metadata": {
        "id": "7a6mMZ5d5E7H",
        "colab": {
          "base_uri": "https://localhost:8080/"
        },
        "outputId": "34f780e7-1678-4ee0-a80f-a9b0415822ac"
      },
      "execution_count": null,
      "outputs": [
        {
          "output_type": "execute_result",
          "data": {
            "text/plain": [
              "(array([ 1,  5,  6, 17, 18, 19, 21, 25, 27, 28]),)"
            ]
          },
          "metadata": {},
          "execution_count": 106
        }
      ]
    },
    {
      "cell_type": "code",
      "source": [],
      "metadata": {
        "id": "c79zP4G9ASs4"
      },
      "execution_count": null,
      "outputs": []
    },
    {
      "cell_type": "markdown",
      "source": [
        "# X_DATA NORMALIZADO (CONV2D)"
      ],
      "metadata": {
        "id": "GFJSvlWXATu4"
      }
    },
    {
      "cell_type": "code",
      "source": [
        "X_DATA_NORM_ONE.shape"
      ],
      "metadata": {
        "id": "B9Mf02vcBKYU"
      },
      "execution_count": null,
      "outputs": []
    },
    {
      "cell_type": "code",
      "source": [
        "import keras\n",
        "from tensorflow.keras.layers import ConvLSTM1D, Dense, Conv2D, LSTM, GRU, Reshape, Dropout\n",
        "from tensorflow.keras.layers import ConvLSTM2D, Conv3D, TimeDistributed, Flatten\n",
        "from keras import regularizers\n",
        "\n",
        "from keras.models import Sequential\n",
        "from keras.layers import Dense, Conv1D, Flatten, Dropout\n",
        "\n",
        "inputs = keras.Input(shape=(X_DATA_NORM_ONE.shape[1],X_DATA_NORM_ONE.shape[2],1))\n",
        "m = inputs\n",
        "#m = Conv2D(filters=1, kernel_size=(3, 3), activation='relu')(m) # loss: 1.3978 - val_loss: 1.4160\n",
        "m = Conv2D(filters=1, kernel_size=(5, 5), activation='relu')(m) # loss: 1.3978 - val_loss: 1.4160\n",
        "#m = Conv2D(filters=2, kernel_size=(3, 3), activation='relu')(m) # loss: 0.3385 - val_loss: 0.3778\n",
        "#m = Conv2D(filters=2, kernel_size=(5, 5), activation='relu')(m) #loss: 0.3385 - val_loss: 0.3778\n",
        "#m = Conv2D(filters=2, kernel_size=(9, 9), activation='relu')(m) #loss: 0.3385 - val_loss: 0.3778\n",
        "\n",
        "m = Dropout(0.1)(m)\n",
        "\n",
        "m = Dense(units=1, activation = 'relu')(m)\n",
        "\n",
        "m = Flatten()(m)\n",
        "\n",
        "# Añadir capa Dense de salida\n",
        "out = Dense(Y_DATA.shape[1], activation='tanh')(m)\n",
        "\n",
        "model_CONV = keras.Model(inputs=inputs, outputs=out)\n",
        "\n",
        "# Compilar el modelo\n",
        "model_CONV.compile(optimizer=keras.optimizers.Adam(learning_rate=0.01), loss=top_is_target,\n",
        "        metrics=[])\n",
        "\n",
        "model_CONV.summary()"
      ],
      "metadata": {
        "id": "BRZorvPrAXaK"
      },
      "execution_count": null,
      "outputs": []
    },
    {
      "cell_type": "code",
      "source": [
        "X_CONV = np.expand_dims(X_DATA_NORM_ONE, axis=-1)\n",
        "\n",
        "\n",
        "early_stop = EarlyStopping(monitor='val_loss', patience=1000, mode='min', restore_best_weights=True)\n",
        "h = model_CONV.fit(X_CONV[0:1000],Y_DATA_NORM[0:1000],\n",
        "          epochs=200,\n",
        "          batch_size=X_DATA.shape[0],\n",
        "          validation_data = (X_CONV[1000:], Y_DATA_NORM[1000:]),\n",
        "          callbacks=[early_stop]\n",
        "          )"
      ],
      "metadata": {
        "id": "igTDkS4_Aodd"
      },
      "execution_count": null,
      "outputs": []
    },
    {
      "cell_type": "code",
      "source": [
        "(0.3778 - 0.3385) / 0.3385 * 100"
      ],
      "metadata": {
        "id": "6k0d7Vn_DTdP"
      },
      "execution_count": null,
      "outputs": []
    },
    {
      "cell_type": "code",
      "source": [],
      "metadata": {
        "id": "y0ARsRWodQU9"
      },
      "execution_count": null,
      "outputs": []
    },
    {
      "cell_type": "markdown",
      "source": [
        "# X_DATA TABULAR"
      ],
      "metadata": {
        "id": "UcT0mVfAdQ8C"
      }
    },
    {
      "cell_type": "code",
      "source": [
        "import keras\n",
        "from tensorflow.keras.layers import ConvLSTM1D, Dense, Conv2D, LSTM, GRU, Reshape, Dropout\n",
        "from tensorflow.keras.layers import ConvLSTM2D, Conv3D, TimeDistributed, Flatten\n",
        "from keras import regularizers\n",
        "\n",
        "from keras.models import Sequential\n",
        "from keras.layers import Dense, Conv1D, Flatten, Dropout\n",
        "\n",
        "inputs = keras.Input(shape=(X_DATA_TAB.shape[1:]))\n",
        "m = inputs\n",
        "m = Dense(units=1)(m)\n",
        "\n",
        "m = Dropout(0.1)(m)\n",
        "\n",
        "m = Dense(units=1, activation = 'relu')(m)\n",
        "\n",
        "m = Flatten()(m)\n",
        "\n",
        "# Añadir capa Dense de salida\n",
        "out = Dense(Y_DATA.shape[1], activation='tanh')(m)\n",
        "\n",
        "model_DENSE = keras.Model(inputs=inputs, outputs=out)\n",
        "\n",
        "# Compilar el modelo\n",
        "model_DENSE.compile(optimizer=keras.optimizers.Adam(learning_rate=0.01), loss='mse',\n",
        "        metrics=[])\n",
        "\n",
        "model_DENSE.summary()"
      ],
      "metadata": {
        "id": "E3AuPq9ijJBk"
      },
      "execution_count": null,
      "outputs": []
    },
    {
      "cell_type": "code",
      "source": [
        "X_DATA_TAB.shape, Y_DATA_NORM.shape"
      ],
      "metadata": {
        "id": "BkfO5bfO6ZZO"
      },
      "execution_count": null,
      "outputs": []
    },
    {
      "cell_type": "code",
      "source": [
        "early_stop = EarlyStopping(monitor='val_loss', patience=1000, mode='min', restore_best_weights=True)\n",
        "h = model_DENSE.fit(X_DATA_TAB[0:1000],Y_DATA_NORM[0:1000],\n",
        "          epochs=200,\n",
        "          batch_size=X_DATA.shape[0],\n",
        "          validation_data = (X_DATA_TAB[1000:], Y_DATA_NORM[1000:]),\n",
        "          callbacks=[early_stop]\n",
        "          )"
      ],
      "metadata": {
        "id": "D9IKUWA2jOPv"
      },
      "execution_count": null,
      "outputs": []
    },
    {
      "cell_type": "markdown",
      "source": [
        "# COMPARACION"
      ],
      "metadata": {
        "id": "eFzerjJyA2_u"
      }
    },
    {
      "cell_type": "markdown",
      "source": [
        "model_GRU, model_CONV, model_DENSE"
      ],
      "metadata": {
        "id": "0NssF-7oA4Po"
      }
    },
    {
      "cell_type": "code",
      "source": [
        "p1 = model_GRU(X_DATA[1000:])\n",
        "p2 = model_CONV(X_DATA_NORM_ONE[1000:])\n",
        "p3 = model_DENSE(X_DATA_TAB[1000:])"
      ],
      "metadata": {
        "id": "eC9kJoFXBEQq"
      },
      "execution_count": null,
      "outputs": []
    },
    {
      "cell_type": "code",
      "source": [
        "np.argsort(Y_DATA_NORM[0])"
      ],
      "metadata": {
        "id": "B0XkThU9BrCs"
      },
      "execution_count": null,
      "outputs": []
    },
    {
      "cell_type": "code",
      "source": [
        "np.argsort(p1[0])"
      ],
      "metadata": {
        "id": "yUd6JIUpBYqf"
      },
      "execution_count": null,
      "outputs": []
    },
    {
      "cell_type": "code",
      "source": [
        "np.argsort(p2[0])"
      ],
      "metadata": {
        "id": "1G1NassjBdg4"
      },
      "execution_count": null,
      "outputs": []
    },
    {
      "cell_type": "code",
      "source": [
        "p3[0]"
      ],
      "metadata": {
        "id": "GuegTMu1BiTw"
      },
      "execution_count": null,
      "outputs": []
    },
    {
      "cell_type": "markdown",
      "source": [
        "# X_LOG, X_NORM, X_TAB"
      ],
      "metadata": {
        "id": "CZZoJZNImGlo"
      }
    },
    {
      "cell_type": "code",
      "source": [
        "import keras\n",
        "from tensorflow.keras.layers import ConvLSTM1D, Dense, Conv2D, LSTM, GRU, Reshape, Dropout\n",
        "from tensorflow.keras.layers import ConvLSTM2D, Conv3D, TimeDistributed, Flatten, Concatenate, Conv1D\n",
        "from keras import regularizers\n",
        "\n",
        "from keras.models import Sequential\n",
        "from keras.layers import Dense, Conv1D, Flatten, Dropout\n",
        "\n",
        "do = 0.9\n",
        "\n",
        "inputs_tab = keras.Input(shape=(X_DATA_TAB.shape[1:]))\n",
        "m_tab = inputs_tab\n",
        "m_tab = Dense(units=50)(m_tab)\n",
        "m_tab = Flatten()(m_tab)\n",
        "m_tab = Dropout(do)(m_tab)\n",
        "\n",
        "\n",
        "inputs_norm = keras.Input(shape=(X_DATA_NORM_ONE.shape[1],X_DATA_NORM_ONE.shape[2],1))\n",
        "m_norm = inputs_norm\n",
        "m_norm = Conv1D(filters=50, kernel_size=(3), activation='relu')(m_norm)\n",
        "m_norm = Flatten()(m_norm)\n",
        "m_norm = Dropout(do)(m_norm)\n",
        "\n",
        "inputs_log = keras.Input(shape=(X_DATA.shape[1:]))\n",
        "m_log = inputs_log\n",
        "m_log = GRU(units=50)(m_log)\n",
        "m_log = Flatten()(m_log)\n",
        "m_log = Dropout(do)(m_log)\n",
        "\n",
        "m = Concatenate()([m_tab, m_norm, m_log])\n",
        "\n",
        "# = Dropout(do)(m)\n",
        "m = Dense(25, activation=\"relu\")(m)\n",
        "\n",
        "\n",
        "out = Dense(Y_DATA.shape[1], activation='tanh')(m)\n",
        "\n",
        "\n",
        "m = keras.Model(inputs=[inputs_tab, inputs_norm, inputs_log], outputs=out)\n",
        "\n",
        "# Compilar el modelo\n",
        "m.compile(optimizer=keras.optimizers.Adam(learning_rate=0.01), loss=top_is_target,\n",
        "        metrics=[])\n",
        "\n",
        "m.summary()\n"
      ],
      "metadata": {
        "id": "X3SWnhqAmMUn",
        "colab": {
          "base_uri": "https://localhost:8080/"
        },
        "outputId": "7379a7e4-65c8-422a-8368-b315778888dd"
      },
      "execution_count": null,
      "outputs": [
        {
          "output_type": "stream",
          "name": "stdout",
          "text": [
            "Model: \"model_17\"\n",
            "__________________________________________________________________________________________________\n",
            " Layer (type)                   Output Shape         Param #     Connected to                     \n",
            "==================================================================================================\n",
            " input_32 (InputLayer)          [(None, 31, 6)]      0           []                               \n",
            "                                                                                                  \n",
            " input_33 (InputLayer)          [(None, 150, 31, 1)  0           []                               \n",
            "                                ]                                                                 \n",
            "                                                                                                  \n",
            " input_34 (InputLayer)          [(None, 149, 31)]    0           []                               \n",
            "                                                                                                  \n",
            " dense_41 (Dense)               (None, 31, 50)       350         ['input_32[0][0]']               \n",
            "                                                                                                  \n",
            " conv1d_6 (Conv1D)              (None, 150, 29, 50)  200         ['input_33[0][0]']               \n",
            "                                                                                                  \n",
            " gru_17 (GRU)                   (None, 50)           12450       ['input_34[0][0]']               \n",
            "                                                                                                  \n",
            " flatten_31 (Flatten)           (None, 1550)         0           ['dense_41[0][0]']               \n",
            "                                                                                                  \n",
            " flatten_32 (Flatten)           (None, 217500)       0           ['conv1d_6[0][0]']               \n",
            "                                                                                                  \n",
            " flatten_33 (Flatten)           (None, 50)           0           ['gru_17[0][0]']                 \n",
            "                                                                                                  \n",
            " dropout_31 (Dropout)           (None, 1550)         0           ['flatten_31[0][0]']             \n",
            "                                                                                                  \n",
            " dropout_32 (Dropout)           (None, 217500)       0           ['flatten_32[0][0]']             \n",
            "                                                                                                  \n",
            " dropout_33 (Dropout)           (None, 50)           0           ['flatten_33[0][0]']             \n",
            "                                                                                                  \n",
            " concatenate_7 (Concatenate)    (None, 219100)       0           ['dropout_31[0][0]',             \n",
            "                                                                  'dropout_32[0][0]',             \n",
            "                                                                  'dropout_33[0][0]']             \n",
            "                                                                                                  \n",
            " dense_42 (Dense)               (None, 25)           5477525     ['concatenate_7[0][0]']          \n",
            "                                                                                                  \n",
            " dense_43 (Dense)               (None, 31)           806         ['dense_42[0][0]']               \n",
            "                                                                                                  \n",
            "==================================================================================================\n",
            "Total params: 5,491,331\n",
            "Trainable params: 5,491,331\n",
            "Non-trainable params: 0\n",
            "__________________________________________________________________________________________________\n"
          ]
        }
      ]
    },
    {
      "cell_type": "code",
      "source": [
        "early_stop = EarlyStopping(monitor='val_loss', patience=1000, mode='min', restore_best_weights=True)\n",
        "h = m.fit([ X_DATA_TAB[0:1000], X_DATA_NORM_ONE[0:1000], X_DATA[0:1000] ],\n",
        "          Y_DATA_NORM[0:1000],\n",
        "          epochs=200,\n",
        "          batch_size=X_DATA.shape[0],\n",
        "          validation_data = ([ X_DATA_TAB[1000:], X_DATA_NORM_ONE[1000:], X_DATA[1000:] ]\n",
        "                             , Y_DATA_NORM[1000:]),\n",
        "          callbacks=[early_stop]\n",
        "          )"
      ],
      "metadata": {
        "id": "L8YUgpUZmTIe",
        "colab": {
          "base_uri": "https://localhost:8080/"
        },
        "outputId": "c5234132-c279-4bd6-8fba-6dfdf08c1ee8"
      },
      "execution_count": null,
      "outputs": [
        {
          "output_type": "stream",
          "name": "stdout",
          "text": [
            "Epoch 1/200\n",
            "1/1 [==============================] - 4s 4s/step - loss: 809.6806 - val_loss: 1074.1895\n",
            "Epoch 2/200\n",
            "1/1 [==============================] - 0s 271ms/step - loss: 951.2464 - val_loss: 1071.1677\n",
            "Epoch 3/200\n",
            "1/1 [==============================] - 0s 263ms/step - loss: 949.5633 - val_loss: 1070.9985\n",
            "Epoch 4/200\n",
            "1/1 [==============================] - 0s 239ms/step - loss: 932.7014 - val_loss: 1088.1178\n",
            "Epoch 5/200\n",
            "1/1 [==============================] - 0s 245ms/step - loss: 917.0542 - val_loss: 1095.2388\n",
            "Epoch 6/200\n",
            "1/1 [==============================] - 0s 242ms/step - loss: 913.8546 - val_loss: 1091.7236\n",
            "Epoch 7/200\n",
            "1/1 [==============================] - 0s 263ms/step - loss: 910.8702 - val_loss: 1065.9696\n",
            "Epoch 8/200\n",
            "1/1 [==============================] - 0s 244ms/step - loss: 908.0569 - val_loss: 1100.8910\n",
            "Epoch 9/200\n",
            "1/1 [==============================] - 0s 255ms/step - loss: 904.7761 - val_loss: 1063.9385\n",
            "Epoch 10/200\n",
            "1/1 [==============================] - 0s 251ms/step - loss: 894.5681 - val_loss: 1060.3798\n",
            "Epoch 11/200\n",
            "1/1 [==============================] - 0s 242ms/step - loss: 895.7468 - val_loss: 1066.8535\n",
            "Epoch 12/200\n",
            "1/1 [==============================] - 0s 255ms/step - loss: 892.3701 - val_loss: 1048.0754\n",
            "Epoch 13/200\n",
            "1/1 [==============================] - 0s 242ms/step - loss: 885.1898 - val_loss: 1066.8602\n",
            "Epoch 14/200\n",
            "1/1 [==============================] - 0s 246ms/step - loss: 876.4272 - val_loss: 1058.7549\n",
            "Epoch 15/200\n",
            "1/1 [==============================] - 0s 260ms/step - loss: 864.1149 - val_loss: 1035.0433\n",
            "Epoch 16/200\n",
            "1/1 [==============================] - 0s 246ms/step - loss: 863.6722 - val_loss: 1079.4209\n",
            "Epoch 17/200\n",
            "1/1 [==============================] - 0s 237ms/step - loss: 859.4329 - val_loss: 1092.7815\n",
            "Epoch 18/200\n",
            "1/1 [==============================] - 0s 255ms/step - loss: 850.9641 - val_loss: 1097.1340\n",
            "Epoch 19/200\n",
            "1/1 [==============================] - 0s 243ms/step - loss: 852.4559 - val_loss: 1094.6188\n",
            "Epoch 20/200\n",
            "1/1 [==============================] - 0s 246ms/step - loss: 849.1129 - val_loss: 1100.1836\n",
            "Epoch 21/200\n",
            "1/1 [==============================] - 0s 275ms/step - loss: 838.9820 - val_loss: 1091.6274\n",
            "Epoch 22/200\n",
            "1/1 [==============================] - 0s 243ms/step - loss: 840.9363 - val_loss: 1077.8818\n",
            "Epoch 23/200\n",
            "1/1 [==============================] - 0s 244ms/step - loss: 841.1895 - val_loss: 1105.1655\n",
            "Epoch 24/200\n",
            "1/1 [==============================] - 0s 246ms/step - loss: 837.5413 - val_loss: 1114.1890\n",
            "Epoch 25/200\n",
            "1/1 [==============================] - 0s 239ms/step - loss: 836.4101 - val_loss: 1112.8585\n",
            "Epoch 26/200\n",
            "1/1 [==============================] - 0s 247ms/step - loss: 838.0527 - val_loss: 1102.9607\n",
            "Epoch 27/200\n",
            "1/1 [==============================] - 0s 241ms/step - loss: 829.0124 - val_loss: 1090.0686\n",
            "Epoch 28/200\n",
            "1/1 [==============================] - 0s 243ms/step - loss: 829.9759 - val_loss: 1080.0841\n",
            "Epoch 29/200\n",
            "1/1 [==============================] - 0s 280ms/step - loss: 825.9562 - val_loss: 1075.0569\n",
            "Epoch 30/200\n",
            "1/1 [==============================] - 0s 250ms/step - loss: 824.3230 - val_loss: 1068.3236\n",
            "Epoch 31/200\n",
            "1/1 [==============================] - 0s 243ms/step - loss: 816.5377 - val_loss: 1068.2408\n",
            "Epoch 32/200\n",
            "1/1 [==============================] - 0s 243ms/step - loss: 820.9696 - val_loss: 1065.3341\n",
            "Epoch 33/200\n",
            "1/1 [==============================] - 0s 248ms/step - loss: 814.4002 - val_loss: 1053.8750\n",
            "Epoch 34/200\n",
            "1/1 [==============================] - 0s 247ms/step - loss: 805.2672 - val_loss: 1044.4893\n",
            "Epoch 35/200\n",
            "1/1 [==============================] - 0s 242ms/step - loss: 815.7914 - val_loss: 1076.0437\n",
            "Epoch 36/200\n",
            "1/1 [==============================] - 0s 241ms/step - loss: 808.2768 - val_loss: 1072.3873\n",
            "Epoch 37/200\n",
            "1/1 [==============================] - 0s 247ms/step - loss: 805.6595 - val_loss: 1070.5051\n",
            "Epoch 38/200\n",
            "1/1 [==============================] - 0s 244ms/step - loss: 800.1071 - val_loss: 1086.5427\n",
            "Epoch 39/200\n",
            "1/1 [==============================] - 0s 274ms/step - loss: 802.8022 - val_loss: 1095.3599\n",
            "Epoch 40/200\n",
            "1/1 [==============================] - 0s 244ms/step - loss: 795.4042 - val_loss: 1094.8051\n",
            "Epoch 41/200\n",
            "1/1 [==============================] - 0s 250ms/step - loss: 794.7224 - val_loss: 1098.2643\n",
            "Epoch 42/200\n",
            "1/1 [==============================] - 0s 253ms/step - loss: 784.2317 - val_loss: 1094.5496\n",
            "Epoch 43/200\n",
            "1/1 [==============================] - 0s 286ms/step - loss: 783.1686 - val_loss: 1094.3723\n",
            "Epoch 44/200\n",
            "1/1 [==============================] - 0s 268ms/step - loss: 788.8804 - val_loss: 1090.9983\n",
            "Epoch 45/200\n",
            "1/1 [==============================] - 0s 278ms/step - loss: 788.1017 - val_loss: 1093.2534\n",
            "Epoch 46/200\n",
            "1/1 [==============================] - 0s 281ms/step - loss: 781.0565 - val_loss: 1112.4484\n",
            "Epoch 47/200\n",
            "1/1 [==============================] - 0s 266ms/step - loss: 777.7914 - val_loss: 1123.2169\n",
            "Epoch 48/200\n",
            "1/1 [==============================] - 0s 280ms/step - loss: 776.2018 - val_loss: 1124.1460\n",
            "Epoch 49/200\n",
            "1/1 [==============================] - 0s 275ms/step - loss: 769.0496 - val_loss: 1106.0547\n",
            "Epoch 50/200\n",
            "1/1 [==============================] - 0s 256ms/step - loss: 772.7117 - val_loss: 1104.0261\n",
            "Epoch 51/200\n",
            "1/1 [==============================] - 0s 252ms/step - loss: 769.1736 - val_loss: 1112.6754\n",
            "Epoch 52/200\n",
            "1/1 [==============================] - 0s 245ms/step - loss: 764.9048 - val_loss: 1122.4523\n",
            "Epoch 53/200\n",
            "1/1 [==============================] - 0s 282ms/step - loss: 766.4349 - val_loss: 1123.4099\n",
            "Epoch 54/200\n",
            "1/1 [==============================] - 0s 241ms/step - loss: 765.2249 - val_loss: 1121.3416\n",
            "Epoch 55/200\n",
            "1/1 [==============================] - 0s 244ms/step - loss: 752.6082 - val_loss: 1105.9772\n",
            "Epoch 56/200\n",
            "1/1 [==============================] - 0s 258ms/step - loss: 751.8323 - val_loss: 1102.5070\n",
            "Epoch 57/200\n",
            "1/1 [==============================] - 0s 290ms/step - loss: 753.7775 - val_loss: 1092.5267\n",
            "Epoch 58/200\n",
            "1/1 [==============================] - 0s 245ms/step - loss: 748.5192 - val_loss: 1092.1271\n",
            "Epoch 59/200\n",
            "1/1 [==============================] - 0s 245ms/step - loss: 743.3937 - val_loss: 1095.5657\n",
            "Epoch 60/200\n",
            "1/1 [==============================] - 0s 248ms/step - loss: 752.8815 - val_loss: 1095.0140\n",
            "Epoch 61/200\n",
            "1/1 [==============================] - 0s 241ms/step - loss: 744.2065 - val_loss: 1112.5083\n",
            "Epoch 62/200\n",
            "1/1 [==============================] - 0s 245ms/step - loss: 744.0239 - val_loss: 1115.7979\n",
            "Epoch 63/200\n",
            "1/1 [==============================] - 0s 275ms/step - loss: 740.5657 - val_loss: 1094.8136\n",
            "Epoch 64/200\n",
            "1/1 [==============================] - 0s 244ms/step - loss: 739.2746 - val_loss: 1064.8414\n",
            "Epoch 65/200\n",
            "1/1 [==============================] - 0s 247ms/step - loss: 737.2328 - val_loss: 1051.3145\n",
            "Epoch 66/200\n",
            "1/1 [==============================] - 0s 267ms/step - loss: 717.6228 - val_loss: 953.7574\n",
            "Epoch 67/200\n",
            "1/1 [==============================] - 0s 255ms/step - loss: 684.0084 - val_loss: 597.8936\n",
            "Epoch 68/200\n",
            "1/1 [==============================] - 0s 259ms/step - loss: 584.5219 - val_loss: 440.6065\n",
            "Epoch 69/200\n",
            "1/1 [==============================] - 0s 265ms/step - loss: 437.6626 - val_loss: 311.7762\n",
            "Epoch 70/200\n",
            "1/1 [==============================] - 0s 261ms/step - loss: 327.8084 - val_loss: 269.0022\n",
            "Epoch 71/200\n",
            "1/1 [==============================] - 0s 241ms/step - loss: 259.9212 - val_loss: 270.1857\n",
            "Epoch 72/200\n",
            "1/1 [==============================] - 0s 245ms/step - loss: 256.3621 - val_loss: 271.4907\n",
            "Epoch 73/200\n",
            "1/1 [==============================] - 0s 243ms/step - loss: 255.8552 - val_loss: 272.8641\n",
            "Epoch 74/200\n",
            "1/1 [==============================] - 0s 242ms/step - loss: 254.4585 - val_loss: 274.2327\n",
            "Epoch 75/200\n",
            "1/1 [==============================] - 0s 243ms/step - loss: 253.8595 - val_loss: 275.5187\n",
            "Epoch 76/200\n",
            "1/1 [==============================] - 0s 249ms/step - loss: 253.4001 - val_loss: 276.6472\n",
            "Epoch 77/200\n",
            "1/1 [==============================] - 0s 239ms/step - loss: 253.0706 - val_loss: 277.5605\n",
            "Epoch 78/200\n",
            "1/1 [==============================] - 0s 241ms/step - loss: 253.4613 - val_loss: 278.2286\n",
            "Epoch 79/200\n",
            "1/1 [==============================] - 0s 242ms/step - loss: 252.7148 - val_loss: 278.6354\n",
            "Epoch 80/200\n",
            "1/1 [==============================] - 0s 243ms/step - loss: 252.6368 - val_loss: 278.7938\n",
            "Epoch 81/200\n",
            "1/1 [==============================] - 0s 238ms/step - loss: 252.5939 - val_loss: 278.7343\n",
            "Epoch 82/200\n",
            "1/1 [==============================] - 0s 252ms/step - loss: 252.5688 - val_loss: 278.4995\n",
            "Epoch 83/200\n",
            "1/1 [==============================] - 0s 245ms/step - loss: 252.5493 - val_loss: 278.1375\n",
            "Epoch 84/200\n",
            "1/1 [==============================] - 0s 241ms/step - loss: 252.5274 - val_loss: 277.6980\n",
            "Epoch 85/200\n",
            "1/1 [==============================] - 0s 396ms/step - loss: 252.4987 - val_loss: 277.2276\n",
            "Epoch 86/200\n",
            "1/1 [==============================] - 0s 344ms/step - loss: 252.4612 - val_loss: 276.7675\n",
            "Epoch 87/200\n",
            "1/1 [==============================] - 0s 258ms/step - loss: 252.4151 - val_loss: 276.3510\n",
            "Epoch 88/200\n",
            "1/1 [==============================] - 0s 285ms/step - loss: 252.3621 - val_loss: 276.0033\n",
            "Epoch 89/200\n",
            "1/1 [==============================] - 0s 274ms/step - loss: 252.3052 - val_loss: 275.7413\n",
            "Epoch 90/200\n",
            "1/1 [==============================] - 0s 299ms/step - loss: 252.2476 - val_loss: 275.5735\n",
            "Epoch 91/200\n",
            "1/1 [==============================] - 0s 289ms/step - loss: 252.1922 - val_loss: 275.5007\n",
            "Epoch 92/200\n",
            "1/1 [==============================] - 0s 278ms/step - loss: 252.1417 - val_loss: 275.5157\n",
            "Epoch 93/200\n",
            "1/1 [==============================] - 0s 261ms/step - loss: 252.0977 - val_loss: 275.6050\n",
            "Epoch 94/200\n",
            "1/1 [==============================] - 0s 277ms/step - loss: 252.0612 - val_loss: 275.7499\n",
            "Epoch 95/200\n",
            "1/1 [==============================] - 0s 266ms/step - loss: 252.0325 - val_loss: 275.9289\n",
            "Epoch 96/200\n",
            "1/1 [==============================] - 0s 290ms/step - loss: 252.0111 - val_loss: 276.1199\n",
            "Epoch 97/200\n",
            "1/1 [==============================] - 0s 259ms/step - loss: 251.9961 - val_loss: 276.3028\n",
            "Epoch 98/200\n",
            "1/1 [==============================] - 0s 237ms/step - loss: 251.9860 - val_loss: 276.4604\n",
            "Epoch 99/200\n",
            "1/1 [==============================] - 0s 245ms/step - loss: 251.9794 - val_loss: 276.5800\n",
            "Epoch 100/200\n",
            "1/1 [==============================] - 0s 249ms/step - loss: 251.9751 - val_loss: 276.6532\n",
            "Epoch 101/200\n",
            "1/1 [==============================] - 0s 241ms/step - loss: 251.9721 - val_loss: 276.6761\n",
            "Epoch 102/200\n",
            "1/1 [==============================] - 0s 244ms/step - loss: 251.9696 - val_loss: 276.6485\n",
            "Epoch 103/200\n",
            "1/1 [==============================] - 0s 247ms/step - loss: 251.9669 - val_loss: 276.5746\n",
            "Epoch 104/200\n",
            "1/1 [==============================] - 0s 247ms/step - loss: 251.9637 - val_loss: 276.4609\n",
            "Epoch 105/200\n",
            "1/1 [==============================] - 0s 245ms/step - loss: 251.9597 - val_loss: 276.3166\n",
            "Epoch 106/200\n",
            "1/1 [==============================] - 0s 244ms/step - loss: 251.9547 - val_loss: 276.1520\n",
            "Epoch 107/200\n",
            "1/1 [==============================] - 0s 245ms/step - loss: 251.9489 - val_loss: 275.9778\n",
            "Epoch 108/200\n",
            "1/1 [==============================] - 0s 241ms/step - loss: 251.9422 - val_loss: 275.8041\n",
            "Epoch 109/200\n",
            "1/1 [==============================] - 0s 242ms/step - loss: 251.9351 - val_loss: 275.6402\n",
            "Epoch 110/200\n",
            "1/1 [==============================] - 0s 243ms/step - loss: 251.9280 - val_loss: 275.4932\n",
            "Epoch 111/200\n",
            "1/1 [==============================] - 0s 244ms/step - loss: 251.9214 - val_loss: 275.3687\n",
            "Epoch 112/200\n",
            "1/1 [==============================] - 0s 270ms/step - loss: 251.9157 - val_loss: 275.2697\n",
            "Epoch 113/200\n",
            "1/1 [==============================] - 0s 242ms/step - loss: 251.9112 - val_loss: 275.1977\n",
            "Epoch 114/200\n",
            "1/1 [==============================] - 0s 244ms/step - loss: 251.9079 - val_loss: 275.1522\n",
            "Epoch 115/200\n",
            "1/1 [==============================] - 0s 248ms/step - loss: 251.9055 - val_loss: 275.1312\n",
            "Epoch 116/200\n",
            "1/1 [==============================] - 0s 243ms/step - loss: 251.9038 - val_loss: 275.1320\n",
            "Epoch 117/200\n",
            "1/1 [==============================] - 0s 245ms/step - loss: 251.9023 - val_loss: 275.1512\n",
            "Epoch 118/200\n",
            "1/1 [==============================] - 0s 244ms/step - loss: 252.2780 - val_loss: 275.1881\n",
            "Epoch 119/200\n",
            "1/1 [==============================] - 0s 248ms/step - loss: 251.8984 - val_loss: 275.2363\n",
            "Epoch 120/200\n",
            "1/1 [==============================] - 0s 241ms/step - loss: 251.8958 - val_loss: 275.2928\n",
            "Epoch 121/200\n",
            "1/1 [==============================] - 0s 242ms/step - loss: 251.8928 - val_loss: 275.3548\n",
            "Epoch 122/200\n",
            "1/1 [==============================] - 0s 243ms/step - loss: 251.8895 - val_loss: 275.4198\n",
            "Epoch 123/200\n",
            "1/1 [==============================] - 0s 239ms/step - loss: 251.8863 - val_loss: 275.4859\n",
            "Epoch 124/200\n",
            "1/1 [==============================] - 0s 245ms/step - loss: 251.8835 - val_loss: 275.5510\n",
            "Epoch 125/200\n",
            "1/1 [==============================] - 0s 244ms/step - loss: 251.8812 - val_loss: 275.6131\n",
            "Epoch 126/200\n",
            "1/1 [==============================] - 0s 247ms/step - loss: 251.8795 - val_loss: 275.6704\n",
            "Epoch 127/200\n",
            "1/1 [==============================] - 0s 245ms/step - loss: 251.8784 - val_loss: 275.7213\n",
            "Epoch 128/200\n",
            "1/1 [==============================] - 0s 246ms/step - loss: 251.8779 - val_loss: 275.7639\n",
            "Epoch 129/200\n",
            "1/1 [==============================] - 0s 247ms/step - loss: 251.8778 - val_loss: 275.7968\n",
            "Epoch 130/200\n",
            "1/1 [==============================] - 0s 245ms/step - loss: 251.8780 - val_loss: 275.8189\n",
            "Epoch 131/200\n",
            "1/1 [==============================] - 0s 246ms/step - loss: 251.8783 - val_loss: 275.8294\n",
            "Epoch 132/200\n",
            "1/1 [==============================] - 0s 248ms/step - loss: 251.8786 - val_loss: 275.8282\n",
            "Epoch 133/200\n",
            "1/1 [==============================] - 0s 244ms/step - loss: 251.8788 - val_loss: 275.8156\n",
            "Epoch 134/200\n",
            "1/1 [==============================] - 0s 243ms/step - loss: 251.8789 - val_loss: 275.7927\n",
            "Epoch 135/200\n",
            "1/1 [==============================] - 0s 248ms/step - loss: 251.8788 - val_loss: 275.7608\n",
            "Epoch 136/200\n",
            "1/1 [==============================] - 0s 248ms/step - loss: 251.8786 - val_loss: 275.7220\n",
            "Epoch 137/200\n",
            "1/1 [==============================] - 0s 270ms/step - loss: 251.8783 - val_loss: 275.6785\n",
            "Epoch 138/200\n",
            "1/1 [==============================] - 0s 266ms/step - loss: 251.8779 - val_loss: 275.6329\n",
            "Epoch 139/200\n",
            "1/1 [==============================] - 0s 302ms/step - loss: 251.8774 - val_loss: 275.5877\n",
            "Epoch 140/200\n",
            "1/1 [==============================] - 0s 291ms/step - loss: 251.8770 - val_loss: 275.5452\n",
            "Epoch 141/200\n",
            "1/1 [==============================] - 0s 304ms/step - loss: 251.8767 - val_loss: 275.5075\n",
            "Epoch 142/200\n",
            "1/1 [==============================] - 0s 266ms/step - loss: 251.8764 - val_loss: 275.4761\n",
            "Epoch 143/200\n",
            "1/1 [==============================] - 0s 269ms/step - loss: 251.8762 - val_loss: 275.4519\n",
            "Epoch 144/200\n",
            "1/1 [==============================] - 0s 301ms/step - loss: 251.8760 - val_loss: 275.4356\n",
            "Epoch 145/200\n",
            "1/1 [==============================] - 0s 260ms/step - loss: 251.8759 - val_loss: 275.4271\n",
            "Epoch 146/200\n",
            "1/1 [==============================] - 0s 259ms/step - loss: 251.8759 - val_loss: 275.4257\n",
            "Epoch 147/200\n",
            "1/1 [==============================] - 0s 275ms/step - loss: 251.8758 - val_loss: 275.4305\n",
            "Epoch 148/200\n",
            "1/1 [==============================] - 0s 249ms/step - loss: 251.8757 - val_loss: 275.4402\n",
            "Epoch 149/200\n",
            "1/1 [==============================] - 0s 250ms/step - loss: 251.8757 - val_loss: 275.4535\n",
            "Epoch 150/200\n",
            "1/1 [==============================] - 0s 246ms/step - loss: 251.8756 - val_loss: 275.4688\n",
            "Epoch 151/200\n",
            "1/1 [==============================] - 0s 244ms/step - loss: 251.8756 - val_loss: 275.4849\n",
            "Epoch 152/200\n",
            "1/1 [==============================] - 0s 243ms/step - loss: 251.8755 - val_loss: 275.5005\n",
            "Epoch 153/200\n",
            "1/1 [==============================] - 0s 246ms/step - loss: 251.8754 - val_loss: 275.5147\n",
            "Epoch 154/200\n",
            "1/1 [==============================] - 0s 247ms/step - loss: 251.8754 - val_loss: 275.5270\n",
            "Epoch 155/200\n",
            "1/1 [==============================] - 0s 244ms/step - loss: 251.8753 - val_loss: 275.5369\n",
            "Epoch 156/200\n",
            "1/1 [==============================] - 0s 277ms/step - loss: 251.8752 - val_loss: 275.5443\n",
            "Epoch 157/200\n",
            "1/1 [==============================] - 0s 244ms/step - loss: 251.8751 - val_loss: 275.5496\n",
            "Epoch 158/200\n",
            "1/1 [==============================] - 0s 246ms/step - loss: 251.8751 - val_loss: 275.5530\n",
            "Epoch 159/200\n",
            "1/1 [==============================] - 0s 247ms/step - loss: 251.8750 - val_loss: 275.5550\n",
            "Epoch 160/200\n",
            "1/1 [==============================] - 0s 241ms/step - loss: 251.8749 - val_loss: 275.5562\n",
            "Epoch 161/200\n",
            "1/1 [==============================] - 0s 241ms/step - loss: 251.8749 - val_loss: 275.5570\n",
            "Epoch 162/200\n",
            "1/1 [==============================] - 0s 244ms/step - loss: 251.8749 - val_loss: 275.5576\n",
            "Epoch 163/200\n",
            "1/1 [==============================] - 0s 240ms/step - loss: 251.8749 - val_loss: 275.5587\n",
            "Epoch 164/200\n",
            "1/1 [==============================] - 0s 249ms/step - loss: 251.8749 - val_loss: 275.5602\n",
            "Epoch 165/200\n",
            "1/1 [==============================] - 0s 239ms/step - loss: 251.8749 - val_loss: 275.5622\n",
            "Epoch 166/200\n",
            "1/1 [==============================] - 0s 243ms/step - loss: 251.8749 - val_loss: 275.5646\n",
            "Epoch 167/200\n",
            "1/1 [==============================] - 0s 238ms/step - loss: 251.8749 - val_loss: 275.5673\n",
            "Epoch 168/200\n",
            "1/1 [==============================] - 0s 245ms/step - loss: 251.8749 - val_loss: 275.5699\n",
            "Epoch 169/200\n",
            "1/1 [==============================] - 0s 248ms/step - loss: 251.8749 - val_loss: 275.5724\n",
            "Epoch 170/200\n",
            "1/1 [==============================] - 0s 246ms/step - loss: 251.8749 - val_loss: 275.5745\n",
            "Epoch 171/200\n",
            "1/1 [==============================] - 0s 251ms/step - loss: 251.8749 - val_loss: 275.5759\n",
            "Epoch 172/200\n",
            "1/1 [==============================] - 0s 249ms/step - loss: 251.8748 - val_loss: 275.5766\n",
            "Epoch 173/200\n",
            "1/1 [==============================] - 0s 246ms/step - loss: 251.8748 - val_loss: 275.5766\n",
            "Epoch 174/200\n",
            "1/1 [==============================] - 0s 245ms/step - loss: 251.8749 - val_loss: 275.5758\n",
            "Epoch 175/200\n",
            "1/1 [==============================] - 0s 285ms/step - loss: 251.8748 - val_loss: 275.5743\n",
            "Epoch 176/200\n",
            "1/1 [==============================] - 0s 246ms/step - loss: 251.8748 - val_loss: 275.5724\n",
            "Epoch 177/200\n",
            "1/1 [==============================] - 0s 251ms/step - loss: 251.8748 - val_loss: 275.5702\n",
            "Epoch 178/200\n",
            "1/1 [==============================] - 0s 246ms/step - loss: 251.8748 - val_loss: 275.5679\n",
            "Epoch 179/200\n",
            "1/1 [==============================] - 0s 251ms/step - loss: 251.8748 - val_loss: 275.5655\n",
            "Epoch 180/200\n",
            "1/1 [==============================] - 0s 247ms/step - loss: 251.8748 - val_loss: 275.5634\n",
            "Epoch 181/200\n",
            "1/1 [==============================] - 0s 246ms/step - loss: 251.8748 - val_loss: 275.5615\n",
            "Epoch 182/200\n",
            "1/1 [==============================] - 0s 278ms/step - loss: 251.8748 - val_loss: 275.5598\n",
            "Epoch 183/200\n",
            "1/1 [==============================] - 0s 241ms/step - loss: 251.8748 - val_loss: 275.5585\n",
            "Epoch 184/200\n",
            "1/1 [==============================] - 0s 246ms/step - loss: 251.8748 - val_loss: 275.5575\n",
            "Epoch 185/200\n",
            "1/1 [==============================] - 0s 249ms/step - loss: 251.8748 - val_loss: 275.5566\n",
            "Epoch 186/200\n",
            "1/1 [==============================] - 0s 261ms/step - loss: 251.8748 - val_loss: 275.5558\n",
            "Epoch 187/200\n",
            "1/1 [==============================] - 0s 278ms/step - loss: 251.8748 - val_loss: 275.5551\n",
            "Epoch 188/200\n",
            "1/1 [==============================] - 0s 266ms/step - loss: 251.8748 - val_loss: 275.5545\n",
            "Epoch 189/200\n",
            "1/1 [==============================] - 0s 274ms/step - loss: 251.8748 - val_loss: 275.5538\n",
            "Epoch 190/200\n",
            "1/1 [==============================] - 0s 259ms/step - loss: 251.8748 - val_loss: 275.5531\n",
            "Epoch 191/200\n",
            "1/1 [==============================] - 0s 265ms/step - loss: 251.8748 - val_loss: 275.5524\n",
            "Epoch 192/200\n",
            "1/1 [==============================] - 0s 265ms/step - loss: 251.8748 - val_loss: 275.5518\n",
            "Epoch 193/200\n",
            "1/1 [==============================] - 0s 265ms/step - loss: 251.8748 - val_loss: 275.5512\n",
            "Epoch 194/200\n",
            "1/1 [==============================] - 0s 293ms/step - loss: 251.8748 - val_loss: 275.5509\n",
            "Epoch 195/200\n",
            "1/1 [==============================] - 0s 265ms/step - loss: 251.8748 - val_loss: 275.5508\n",
            "Epoch 196/200\n",
            "1/1 [==============================] - 0s 245ms/step - loss: 251.8748 - val_loss: 275.5509\n",
            "Epoch 197/200\n",
            "1/1 [==============================] - 0s 252ms/step - loss: 251.8748 - val_loss: 275.5513\n",
            "Epoch 198/200\n",
            "1/1 [==============================] - 0s 247ms/step - loss: 251.8748 - val_loss: 275.5520\n",
            "Epoch 199/200\n",
            "1/1 [==============================] - 0s 239ms/step - loss: 251.8748 - val_loss: 275.5527\n",
            "Epoch 200/200\n",
            "1/1 [==============================] - 0s 247ms/step - loss: 251.8748 - val_loss: 275.5538\n"
          ]
        }
      ]
    },
    {
      "cell_type": "code",
      "source": [
        "plt.plot(h.history[\"loss\"])\n",
        "plt.plot(h.history[\"val_loss\"])"
      ],
      "metadata": {
        "id": "KmLBGElJriNB",
        "colab": {
          "base_uri": "https://localhost:8080/",
          "height": 448
        },
        "outputId": "331ed871-c63c-4a24-c035-02d7d56210a5"
      },
      "execution_count": null,
      "outputs": [
        {
          "output_type": "execute_result",
          "data": {
            "text/plain": [
              "[<matplotlib.lines.Line2D at 0x7f6822e02080>]"
            ]
          },
          "metadata": {},
          "execution_count": 122
        },
        {
          "output_type": "display_data",
          "data": {
            "text/plain": [
              "<Figure size 640x480 with 1 Axes>"
            ],
            "image/png": "[encoded data removed]"
          },
          "metadata": {}
        }
      ]
    },
    {
      "cell_type": "markdown",
      "source": [
        "# Y categorica"
      ],
      "metadata": {
        "id": "8PT-roeId09c"
      }
    },
    {
      "cell_type": "code",
      "source": [
        "!pip install keras-tuner"
      ],
      "metadata": {
        "id": "cobEKEVE8zPx"
      },
      "execution_count": null,
      "outputs": []
    },
    {
      "cell_type": "code",
      "source": [
        "import keras\n",
        "from tensorflow.keras.layers import ConvLSTM1D, Dense, Conv2D, LSTM, GRU, Reshape, Dropout\n",
        "from tensorflow.keras.layers import ConvLSTM2D, Conv3D, TimeDistributed, Flatten\n",
        "from keras import regularizers"
      ],
      "metadata": {
        "id": "K5WfMPFvP0rC"
      },
      "execution_count": null,
      "outputs": []
    },
    {
      "cell_type": "code",
      "source": [
        "X_DATA.shape"
      ],
      "metadata": {
        "id": "esC3OANlQqp-"
      },
      "execution_count": null,
      "outputs": []
    },
    {
      "cell_type": "code",
      "source": [
        "Y_DATA_CATEGORICAL_SIMPLE.shape"
      ],
      "metadata": {
        "id": "vH13Th_DQsnM"
      },
      "execution_count": null,
      "outputs": []
    },
    {
      "cell_type": "code",
      "source": [
        "inputs = keras.Input(shape=(X_DATA.shape[1:]))\n",
        "m = inputs\n",
        "m = GRU(units=1)(m)\n",
        "\n",
        "#m = Dense(units=2)(m)\n",
        "\n",
        "m = Dropout(0.3)(m)\n",
        "m = Flatten()(m)\n",
        "\n",
        "m = Dense(Y_DATA_CATEGORICAL_SIMPLE.shape[1] * Y_DATA_CATEGORICAL_SIMPLE.shape[2] , activation='sigmoid')(m)\n",
        "m = Reshape((Y_DATA_CATEGORICAL_SIMPLE.shape[1], Y_DATA_CATEGORICAL_SIMPLE.shape[2]))(m)\n",
        "\n",
        "outputs = keras.layers.Activation(softmax_by_asset)(m)\n",
        "\n",
        "model = keras.Model(inputs=inputs, outputs=outputs)\n",
        "model.compile(\n",
        "    loss='categorical_crossentropy',\n",
        "    optimizer=keras.optimizers.Adam(learning_rate=0.1),\n",
        "    metrics=[],\n",
        "  )\n",
        "\n",
        "model.summary()"
      ],
      "metadata": {
        "id": "Beq5YSil8edg"
      },
      "execution_count": null,
      "outputs": []
    },
    {
      "cell_type": "code",
      "source": [
        "h = model.fit(X_DATA,Y_DATA_CATEGORICAL_SIMPLE,epochs=200, batch_size=X_DATA.shape[0], validation_split = 0.3, shuffle=True)"
      ],
      "metadata": {
        "id": "cEtbThJfRLNd"
      },
      "execution_count": null,
      "outputs": []
    },
    {
      "cell_type": "code",
      "source": [
        "plt.plot(h.history[\"loss\"])\n",
        "plt.plot(h.history[\"val_loss\"])"
      ],
      "metadata": {
        "id": "K32yuU8ASiz5"
      },
      "execution_count": null,
      "outputs": []
    },
    {
      "cell_type": "code",
      "source": [
        "np.argmax(Y_DATA_CATEGORICAL_SIMPLE[0:1], axis = -1)"
      ],
      "metadata": {
        "id": "ZFwsD0SBS7yU"
      },
      "execution_count": null,
      "outputs": []
    },
    {
      "cell_type": "code",
      "source": [
        "Y_DATA[0:1]"
      ],
      "metadata": {
        "id": "7wLFxn0_w-by"
      },
      "execution_count": null,
      "outputs": []
    },
    {
      "cell_type": "code",
      "source": [
        "pred = model(X_DATA[0:1])"
      ],
      "metadata": {
        "id": "0ZwQ6AMyS6Hi"
      },
      "execution_count": null,
      "outputs": []
    },
    {
      "cell_type": "code",
      "source": [
        "pred"
      ],
      "metadata": {
        "id": "n2RRAef3TZ-S"
      },
      "execution_count": null,
      "outputs": []
    },
    {
      "cell_type": "code",
      "source": [
        "np.argmax(pred, axis = -1)"
      ],
      "metadata": {
        "id": "4oIVm-A0TPRr"
      },
      "execution_count": null,
      "outputs": []
    },
    {
      "cell_type": "code",
      "source": [],
      "metadata": {
        "id": "pM8d_e-YZYWb"
      },
      "execution_count": null,
      "outputs": []
    },
    {
      "cell_type": "code",
      "source": [
        "!pip install -q -U keras-tuner\n",
        "import kerastuner as kt"
      ],
      "metadata": {
        "id": "Vncct7byZYZF"
      },
      "execution_count": null,
      "outputs": []
    },
    {
      "cell_type": "code",
      "source": [
        "import keras\n",
        "import keras\n",
        "from tensorflow.keras.layers import ConvLSTM1D, Dense, Conv2D, LSTM, GRU, Reshape, Dropout\n",
        "from tensorflow.keras.layers import ConvLSTM2D, Conv3D, TimeDistributed, Flatten\n",
        "from keras import regularizers"
      ],
      "metadata": {
        "id": "Sk8vfIpVb1Q6"
      },
      "execution_count": null,
      "outputs": []
    },
    {
      "cell_type": "code",
      "source": [
        "def build_model_1(hp):\n",
        "\n",
        "  n_units = hp.Int('n_units', min_value = 10, max_value = 100, step = 10)\n",
        "  n_denses = hp.Choice('n_denses', values = [0,1,2,3 ])\n",
        "  n_dropput = hp.Choice('n_dropput', values = [0.0, 0.2, 0.3,0.4, 0.5])\n",
        "  n_l1 = hp.Choice('n_l1', values = [0.001, 0.0001,0.00001, 0.000001])\n",
        "  n_l2 = hp.Choice('n_l2', values = [0.001, 0.0001,0.00001, 0.000001])\n",
        "  last_layer_activation = hp.Choice('last_layer_activation', values = ['linear', 'relu', 'sigmoid','tanh'])\n",
        "  n_learning_rate = hp.Choice('n_learning_rate', values = [0.01, 0.001,0.0001,])\n",
        "\n",
        "  inputs = keras.Input(shape=(X_DATA.shape[1:]))\n",
        "  m = inputs\n",
        "\n",
        "  m = GRU(units=n_units,\n",
        "                  kernel_regularizer=regularizers.l1_l2(l1=n_l1 , l2=n_l2 ))(m)\n",
        "\n",
        "  m = keras.layers.Dropout(n_dropput)(m)\n",
        "\n",
        "  for i in range(n_denses):\n",
        "    m = Dense(units=n_units,\n",
        "                    kernel_regularizer=regularizers.l1_l2(l1=n_l1 , l2=n_l2 ))(m)\n",
        "\n",
        "\n",
        "  m = Flatten()(m)\n",
        "\n",
        "  m = Dense(Y_DATA_CATEGORICAL.shape[1] * Y_DATA_CATEGORICAL.shape[1] , activation=last_layer_activation)(m)\n",
        "  m = Reshape((Y_DATA_CATEGORICAL.shape[1], Y_DATA_CATEGORICAL.shape[1]))(m)\n",
        "\n",
        "  outputs = keras.layers.Activation(softmax_by_asset)(m)\n",
        "\n",
        "  model = keras.Model(inputs=inputs, outputs=outputs)\n",
        "  model.compile(\n",
        "      loss='categorical_crossentropy',\n",
        "      optimizer=keras.optimizers.Adam(learning_rate=n_learning_rate),\n",
        "      metrics=['acc'],\n",
        "    )\n",
        "\n",
        "  return model\n",
        "\n"
      ],
      "metadata": {
        "id": "oMko_FcwZYcF"
      },
      "execution_count": null,
      "outputs": []
    },
    {
      "cell_type": "code",
      "source": [
        "tuner = kt.RandomSearch(build_model_1,\n",
        "                        objective='val_acc',\n",
        "                        max_trials=50,\n",
        "                        executions_per_trial=3,)"
      ],
      "metadata": {
        "id": "I1GHWH-SbBW9"
      },
      "execution_count": null,
      "outputs": []
    },
    {
      "cell_type": "code",
      "source": [
        "tuner.search_space_summary()"
      ],
      "metadata": {
        "id": "Gj1td_lhb9V-"
      },
      "execution_count": null,
      "outputs": []
    },
    {
      "cell_type": "code",
      "source": [
        "tuner.search(X_DATA, Y_DATA_CATEGORICAL,\n",
        "             epochs=50,\n",
        "             validation_split = 0.3)"
      ],
      "metadata": {
        "id": "vVxeov-Jb_8D"
      },
      "execution_count": null,
      "outputs": []
    },
    {
      "cell_type": "markdown",
      "source": [
        "# INVERSION"
      ],
      "metadata": {
        "id": "dAqoDNMUQHlH"
      }
    },
    {
      "cell_type": "code",
      "source": [
        "import warnings\n",
        "warnings.filterwarnings('ignore')"
      ],
      "metadata": {
        "id": "VPyZLW_AQJsE"
      },
      "execution_count": 84,
      "outputs": []
    },
    {
      "cell_type": "code",
      "source": [
        "X_DATA[0:1].shape"
      ],
      "metadata": {
        "colab": {
          "base_uri": "https://localhost:8080/"
        },
        "id": "cS1mlmyLRVuC",
        "outputId": "f78263cf-1af1-4b59-8e7a-625fb903dfb2"
      },
      "execution_count": 98,
      "outputs": [
        {
          "output_type": "execute_result",
          "data": {
            "text/plain": [
              "(1, 149, 31)"
            ]
          },
          "metadata": {},
          "execution_count": 98
        }
      ]
    },
    {
      "cell_type": "code",
      "source": [
        "d = data\n",
        "d.shape"
      ],
      "metadata": {
        "colab": {
          "base_uri": "https://localhost:8080/"
        },
        "id": "QUjAdOGrRxKR",
        "outputId": "cd5c4505-da60-4c3e-cd38-0a6fe9350cfb"
      },
      "execution_count": 108,
      "outputs": [
        {
          "output_type": "execute_result",
          "data": {
            "text/plain": [
              "(150, 31)"
            ]
          },
          "metadata": {},
          "execution_count": 108
        }
      ]
    },
    {
      "cell_type": "code",
      "source": [
        "d_log_returns = np.log(d).diff().dropna()\n",
        "d_log_returns.shape"
      ],
      "metadata": {
        "colab": {
          "base_uri": "https://localhost:8080/"
        },
        "id": "jpa8UPmMSOUI",
        "outputId": "c44d4a95-85a7-48f5-bcb8-f639afbb5ca4"
      },
      "execution_count": 109,
      "outputs": [
        {
          "output_type": "execute_result",
          "data": {
            "text/plain": [
              "(149, 31)"
            ]
          },
          "metadata": {},
          "execution_count": 109
        }
      ]
    },
    {
      "cell_type": "code",
      "source": [
        "d_log_returns = np.expand_dims(d_log_returns, axis=0)\n",
        "d_log_returns.shape"
      ],
      "metadata": {
        "colab": {
          "base_uri": "https://localhost:8080/"
        },
        "id": "5f8_u3IsScBV",
        "outputId": "bc357bd9-b7b9-4838-ef2b-007eb76c7468"
      },
      "execution_count": 110,
      "outputs": [
        {
          "output_type": "execute_result",
          "data": {
            "text/plain": [
              "(1, 149, 31)"
            ]
          },
          "metadata": {},
          "execution_count": 110
        }
      ]
    },
    {
      "cell_type": "code",
      "source": [
        "activos_seleccionados= model_GRU(d_log_returns)\n",
        "np.argsort(np.argsort(np.array(activos_seleccionados)[0]))"
      ],
      "metadata": {
        "colab": {
          "base_uri": "https://localhost:8080/"
        },
        "id": "atnTWOH3TATC",
        "outputId": "809e2102-1fce-4ef0-fa6a-0cddbafe1c3f"
      },
      "execution_count": 118,
      "outputs": [
        {
          "output_type": "execute_result",
          "data": {
            "text/plain": [
              "array([11,  6, 18, 26, 21,  8, 10, 16, 17, 28, 25, 27, 14, 23, 15, 13, 29,\n",
              "        9,  3,  0, 22,  5, 24,  7, 12,  4, 30,  1,  2, 19, 20])"
            ]
          },
          "metadata": {},
          "execution_count": 118
        }
      ]
    },
    {
      "cell_type": "code",
      "source": [
        "\n",
        "\n",
        "datos_analisis = adj_close[1500:]\n",
        "\n",
        "days_backward = 150\n",
        "days_forward = 30\n",
        "\n",
        "n_activos_seleccionados = 10\n",
        "num_portfolios = 10000\n",
        "\n",
        "rendimientos = {}\n",
        "rendimientos[\"rendimiento_algo_random_1\"] = []\n",
        "rendimientos[\"rendimiento_algo_random_2\"] = []\n",
        "rendimientos[\"rendimiento_algo_sharpe_1\"] = []\n",
        "rendimientos[\"rendimiento_algo_sharpe_2\"] = []\n",
        "rendimientos[\"rendimiento_algo_GRU_1\"] = []\n",
        "\n",
        "i = 0\n",
        "n_i = 100\n",
        "\n",
        "\n",
        "for i in range(days_backward, len(datos_analisis), days_forward):\n",
        "  #print(i-90, i , i + days_forward )\n",
        "\n",
        "\n",
        "\n",
        "  data = datos_analisis[i-days_backward:i]\n",
        "  data_forward = datos_analisis[i:i+days_forward]\n",
        "\n",
        "  # ALGO GRU\n",
        "  d_log_returns = np.log(d).diff().dropna()\n",
        "  d_log_returns = np.expand_dims(d_log_returns, axis=0)\n",
        "  activos_seleccionados= model_GRU(d_log_returns)\n",
        "  activos_seleccionados = np.argsort(np.argsort(np.array(activos_seleccionados)[0]))\n",
        "  rendimiento = calcular_rendimiento(data, data_forward, activos_seleccionados)\n",
        "  ## GUARDAMOS RENDIMIENTO\n",
        "  rendimientos[\"rendimiento_algo_GRU_1\"].append(rendimiento)\n",
        "\n",
        "\n",
        "  # ALGO RANDOM\n",
        "  activos_seleccionados= algo_random(n_activos_seleccionados, data.shape[1])\n",
        "  rendimiento = calcular_rendimiento(data, data_forward, activos_seleccionados)\n",
        "  ## GUARDAMOS RENDIMIENTO\n",
        "  rendimientos[\"rendimiento_algo_random_1\"].append(rendimiento)\n",
        "\n",
        "  # ALGO RANDOM\n",
        "  activos_seleccionados= algo_random(n_activos_seleccionados, data.shape[1])\n",
        "  rendimiento = calcular_rendimiento(data, data_forward, activos_seleccionados)\n",
        "  ## GUARDAMOS RENDIMIENTO\n",
        "  rendimientos[\"rendimiento_algo_random_2\"].append(rendimiento)\n",
        "\n",
        "  ####\n",
        "\n",
        "  # ALGO SHARPE\n",
        "  activos_seleccionados= algo_sharpe(data, n_activos_top = n_activos_seleccionados)\n",
        "  rendimiento = calcular_rendimiento(data, data_forward, activos_seleccionados)\n",
        "  ## GUARDAMOS RENDIMIENTO\n",
        "  rendimientos[\"rendimiento_algo_sharpe_1\"].append(rendimiento)\n",
        "\n",
        "  # ALGO SHARPE\n",
        "  activos_seleccionados= algo_sharpe(data, n_activos_top = n_activos_seleccionados)\n",
        "  rendimiento = calcular_rendimiento(data, data_forward, activos_seleccionados)\n",
        "  ## GUARDAMOS RENDIMIENTO\n",
        "  rendimientos[\"rendimiento_algo_sharpe_2\"].append(rendimiento)\n",
        "\n",
        "\n",
        "\n",
        "days = []\n",
        "for i in range(days_backward, len(datos_analisis), days_forward):\n",
        "  data = datos_analisis[i-days_backward:i]\n",
        "  data_forward = datos_analisis[i:i+days_forward]\n",
        "  days.append(data_forward.index[-1].date())\n",
        "\n",
        "days = np.array(days)\n",
        "\n",
        "\n",
        "plt.plot(np.array(rendimientos[\"rendimiento_algo_random_1\"]),   color = 'r');\n",
        "plt.plot(np.array(rendimientos[\"rendimiento_algo_random_2\"]),   color = 'r');\n",
        "plt.plot(np.array(rendimientos[\"rendimiento_algo_sharpe_1\"]),   color = 'b');\n",
        "plt.plot(np.array(rendimientos[\"rendimiento_algo_sharpe_2\"]),   color = 'b');\n",
        "plt.plot(np.array(rendimientos[\"rendimiento_algo_GRU_1\"]),   color = 'g');\n",
        "plt.xticks(np.arange(len(days)), days, rotation=45);\n"
      ],
      "metadata": {
        "colab": {
          "base_uri": "https://localhost:8080/",
          "height": 482
        },
        "id": "WOeEfSpDQGFO",
        "outputId": "6527aa89-7877-4861-9d45-a5e4e14bf4c0"
      },
      "execution_count": 132,
      "outputs": [
        {
          "output_type": "display_data",
          "data": {
            "text/plain": [
              "<Figure size 640x480 with 1 Axes>"
            ],
            "image/png": "[encoded data removed]"
          },
          "metadata": {}
        }
      ]
    },
    {
      "cell_type": "code",
      "source": [
        "plt.plot(np.array(rendimientos[\"rendimiento_algo_random_1\"]).cumsum(),   color = 'r');\n",
        "plt.plot(np.array(rendimientos[\"rendimiento_algo_random_2\"]).cumsum(),   color = 'r');\n",
        "plt.plot(np.array(rendimientos[\"rendimiento_algo_sharpe_1\"]).cumsum(),   color = 'b');\n",
        "plt.plot(np.array(rendimientos[\"rendimiento_algo_sharpe_2\"]).cumsum(),   color = 'b');\n",
        "plt.plot(np.array(rendimientos[\"rendimiento_algo_GRU_1\"]).cumsum(),   color = 'g');\n",
        "plt.xticks(np.arange(len(days)), days, rotation=45);"
      ],
      "metadata": {
        "colab": {
          "base_uri": "https://localhost:8080/",
          "height": 482
        },
        "id": "kQJfq2Z1UYEe",
        "outputId": "29ad90fd-dceb-46ff-de7d-88dd761a38d0"
      },
      "execution_count": 133,
      "outputs": [
        {
          "output_type": "display_data",
          "data": {
            "text/plain": [
              "<Figure size 640x480 with 1 Axes>"
            ],
            "image/png": "[encoded data removed]"
          },
          "metadata": {}
        }
      ]
    }
  ]
}