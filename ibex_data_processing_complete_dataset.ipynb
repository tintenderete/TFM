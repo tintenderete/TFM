{
 "cells": [
  {
   "cell_type": "code",
   "execution_count": 113,
   "metadata": {},
   "outputs": [],
   "source": [
    "# CARGAMOS LIBRERIAS\n",
    "import pandas as pd\n",
    "import numpy as np\n",
    "import matplotlib.pyplot as plt\n",
    "import yfinance as yf\n",
    "import datetime\n",
    "\n",
    "import boto3\n",
    "import s3fs\n",
    "import fastparquet\n",
    "import awswrangler as wr\n",
    "import os\n",
    "\n",
    "import pyarrow.parquet as pq\n",
    "import pyarrow as pa\n",
    "\n",
    "import requests\n",
    "import json\n",
    "from io import BytesIO\n",
    "from pandas.tseries.offsets import BDay\n",
    "\n",
    "import math"
   ]
  },
  {
   "cell_type": "code",
   "execution_count": 114,
   "metadata": {},
   "outputs": [],
   "source": []
  },
  {
   "cell_type": "code",
   "execution_count": 115,
   "metadata": {},
   "outputs": [],
   "source": [
    "# INICIALIZAMOS UNA SESION EN AWS\n",
    "session = boto3.Session(\n",
    "    aws_access_key_id=os.environ['S3_ACCESS_KEY'],\n",
    "    aws_secret_access_key=os.environ['S3_SECRET_KEY'],\n",
    "    region_name=os.environ['S3_REGION'])\n",
    "\n",
    "s3_client = boto3.client('s3')\n",
    "s3 = boto3.resource('s3')"
   ]
  },
  {
   "cell_type": "code",
   "execution_count": 116,
   "metadata": {},
   "outputs": [],
   "source": [
    "bucket_name = 'stock-market-historical-data'\n",
    "processed_folder = 'processed/marketstack/'\n",
    "file_name = 'ibex_historical_data'\n",
    "full_path = processed_folder + file_name"
   ]
  },
  {
   "cell_type": "code",
   "execution_count": 117,
   "metadata": {},
   "outputs": [],
   "source": [
    "def download_s3_parquet_file(s3, bucket, key):\n",
    "    buffer = BytesIO()\n",
    "    s3.Object(bucket, key).download_fileobj(buffer)\n",
    "    return buffer"
   ]
  },
  {
   "cell_type": "code",
   "execution_count": 118,
   "metadata": {},
   "outputs": [],
   "source": [
    "# CARGAMOS EL DATAFRAME CON TODOS LOS DATOS DE CIERRE DE TODOS LOS ACTIVOS DESDE 02/01/1991\n",
    "processed_folder = 'processed/marketstack/'\n",
    "file_name = 'ibex_historical_data'\n",
    "full_path = processed_folder + file_name\n",
    "marketstack_historical_data = pd.DataFrame(pq.read_table(download_s3_parquet_file(s3, bucket_name,full_path)).to_pandas())"
   ]
  },
  {
   "cell_type": "code",
   "execution_count": 119,
   "metadata": {},
   "outputs": [],
   "source": [
    "# CARGAMOS EL DATAFRAME CON TODOS LOS DATOS DE CIERRE DE TODOS LOS ACTIVOS DESDE 02/01/1991\n",
    "processed_folder = 'processed/yfinance/'\n",
    "file_name = 'ibex_historical_data'\n",
    "full_path = processed_folder + file_name\n",
    "yfinance_historical_data = pd.DataFrame(pq.read_table(download_s3_parquet_file(s3, bucket_name,full_path)).to_pandas())"
   ]
  },
  {
   "cell_type": "code",
   "execution_count": 120,
   "metadata": {},
   "outputs": [],
   "source": [
    "# CARGAMOS EL DATAFRAME CON TODOS LOS DATOS DE CIERRE DE TODOS LOS ACTIVOS DESDE 02/01/1991\n",
    "processed_folder = 'processed/bme-data/'\n",
    "file_name = 'ibex_historical_data'\n",
    "full_path = processed_folder + file_name\n",
    "bme_historical_data = pd.DataFrame(pq.read_table(download_s3_parquet_file(s3, bucket_name,full_path)).to_pandas())\n",
    "bme_historical_data.drop('OHL', axis=1, inplace=True)"
   ]
  },
  {
   "cell_type": "code",
   "execution_count": 121,
   "metadata": {},
   "outputs": [
    {
     "data": {
      "text/plain": [
       "((7604, 169), (6097, 169), (5159, 88))"
      ]
     },
     "execution_count": 121,
     "metadata": {},
     "output_type": "execute_result"
    }
   ],
   "source": [
    "marketstack_historical_data.shape, yfinance_historical_data.shape, bme_historical_data.shape"
   ]
  },
  {
   "cell_type": "code",
   "execution_count": 122,
   "metadata": {},
   "outputs": [
    {
     "data": {
      "text/plain": [
       "(1120386, 879531, 279106)"
      ]
     },
     "execution_count": 122,
     "metadata": {},
     "output_type": "execute_result"
    }
   ],
   "source": [
    "marketstack_historical_data.isnull().sum().sum(), yfinance_historical_data.isnull().sum().sum(), bme_historical_data.isnull().sum().sum()"
   ]
  },
  {
   "cell_type": "code",
   "execution_count": 146,
   "metadata": {},
   "outputs": [
    {
     "name": "stdout",
     "output_type": "stream",
     "text": [
      "BTO_1\n",
      "BTO_0\n"
     ]
    }
   ],
   "source": [
    "sub = 'BTO'\n",
    "\n",
    "for ticker in bme_historical_data.columns:\n",
    "    if sub in ticker:\n",
    "        print(ticker)"
   ]
  },
  {
   "cell_type": "code",
   "execution_count": 124,
   "metadata": {},
   "outputs": [
    {
     "data": {
      "text/plain": [
       "Index(['SAN', 'BTO_1', 'BKIA_0', 'BKIA', 'NTGY', 'TRE', 'ACX_0', 'ACX', 'FER',\n",
       "       'ACS', 'ELE_0', 'ELE', 'SAB', 'CRI', 'IBR', 'EBRO_0', 'EBRO_1', 'AMS',\n",
       "       'AENA', 'ITX', 'MTS', 'IAG', 'VIS_0', 'VIS', 'IBLA', 'BBVA', 'MAP',\n",
       "       'BME', 'CIE', 'MAS', 'IBE', 'ABG', 'ENG', 'SCYR_1', 'REP', 'ABE',\n",
       "       'ABG.P_0', 'ABG.P_1', 'ANA_0', 'ANA', 'EVA', 'GRF', 'CLNX', 'MRL',\n",
       "       'BKT', 'POP', 'ENC', 'IDR', 'SGRE_0', 'SGRE', 'MEL', 'TL5', 'REE',\n",
       "       'COL', 'JAZ', 'TEF', 'FCC', 'CABK', 'DIA', 'ALM', 'REE_0', 'CIN', 'LOR',\n",
       "       'UNF', 'ZEL', 'NHH_0', 'NHH_1', 'MAP_0', 'ALT', 'BTO_0', 'FAD', 'DRC',\n",
       "       'PRS_0', 'PRS_1', 'SCYR_0', 'TEM', 'CAR', 'AGS', 'COL_0', 'A3TV', 'SGC',\n",
       "       'ANE', 'FDR', 'PHM', 'ROVI', 'SCYR', 'SLR', 'UNI'],\n",
       "      dtype='object')"
      ]
     },
     "execution_count": 124,
     "metadata": {},
     "output_type": "execute_result"
    }
   ],
   "source": [
    "bme_historical_data.columns"
   ]
  },
  {
   "cell_type": "code",
   "execution_count": 150,
   "metadata": {},
   "outputs": [
    {
     "data": {
      "text/plain": [
       "date\n",
       "2004-01-02    9.6000\n",
       "2004-01-05    9.6800\n",
       "2004-01-07    9.8000\n",
       "2004-01-08    9.9600\n",
       "2004-01-09    9.9700\n",
       "               ...  \n",
       "2010-12-27    5.8275\n",
       "2010-12-28    5.8360\n",
       "2010-12-29    5.7621\n",
       "2010-12-30    5.8089\n",
       "2011-01-03    5.8360\n",
       "Name: BTO_1, Length: 1492, dtype: float64"
      ]
     },
     "execution_count": 150,
     "metadata": {},
     "output_type": "execute_result"
    }
   ],
   "source": [
    "ibex_historical_data['BTO_1'].dropna()"
   ]
  },
  {
   "cell_type": "code",
   "execution_count": 145,
   "metadata": {},
   "outputs": [
    {
     "data": {
      "text/plain": [
       "Series([], Name: BTO_1, dtype: float64)"
      ]
     },
     "execution_count": 145,
     "metadata": {},
     "output_type": "execute_result"
    }
   ],
   "source": [
    "marketstack_historical_data['BTO_1'].dropna()"
   ]
  },
  {
   "cell_type": "code",
   "execution_count": 152,
   "metadata": {},
   "outputs": [
    {
     "data": {
      "text/plain": [
       "2006-08-01    10.7300\n",
       "2006-08-02    10.8100\n",
       "2006-08-03    10.7900\n",
       "2006-08-04    10.8600\n",
       "2006-08-07    10.7500\n",
       "               ...   \n",
       "2010-12-27     5.8275\n",
       "2010-12-28     5.8360\n",
       "2010-12-29     5.7621\n",
       "2010-12-30     5.8089\n",
       "2011-01-03     5.8360\n",
       "Name: BTO_1, Length: 1125, dtype: float64"
      ]
     },
     "execution_count": 152,
     "metadata": {},
     "output_type": "execute_result"
    }
   ],
   "source": [
    "bme_historical_data['BTO_1'].dropna()"
   ]
  },
  {
   "cell_type": "code",
   "execution_count": 153,
   "metadata": {},
   "outputs": [],
   "source": [
    "bme_historical_data = bme_historical_data.rename(columns={\n",
    "    'ACX': 'ACX_1',\n",
    "    'ACX_0': 'ACX',\n",
    "    'BKIA': 'BKIA_1',\n",
    "    'BKIA_0': 'BKIA',\n",
    "    'ABG.P_0':'ABG.P',\n",
    "    'VIS':'VIS_3',\n",
    "    'VIS_0':'VIS_2',\n",
    "    'EBRO_0': 'EBRO',\n",
    "    'BTO_1':'BTO_2',\n",
    "    'BTO_0':'BTO_1',\n",
    "    'SGRE_0': 'SGRE',\n",
    "    'ANA': 'ANA_1',\n",
    "    'ANA_0': 'ANA',\n",
    "    'REE_0': 'REE',\n",
    "    'COL_0': 'COL',\n",
    "    'COL': 'COL_1',\n",
    "    'MAP':'MAP_2',\n",
    "    'MAP_0':'MAP_1',\n",
    "    'PRS_0':'PRS',\n",
    "\n",
    "    })"
   ]
  },
  {
   "cell_type": "code",
   "execution_count": 154,
   "metadata": {},
   "outputs": [],
   "source": [
    "ibex_historical_data = pd.DataFrame(columns=marketstack_historical_data.columns)"
   ]
  },
  {
   "cell_type": "code",
   "execution_count": 155,
   "metadata": {},
   "outputs": [
    {
     "name": "stdout",
     "output_type": "stream",
     "text": [
      "ok A3TV\n",
      "ok ABE\n",
      "ok ABG.P\n",
      "ok ABG.P_1\n",
      "ok ABG\n",
      "failed ACE\n",
      "failed ACR\n",
      "ok ACS\n",
      "failed ACX\n",
      "failed ACX_1\n",
      "failed ACX_2\n",
      "ok AENA\n",
      "failed AGR\n",
      "ok AGS\n",
      "failed AGS_1\n",
      "failed AGS_2\n",
      "failed AGS_3\n",
      "failed ALB\n",
      "failed ALB_1\n",
      "failed ALB_2\n",
      "failed ALB_3\n",
      "ok ALM\n",
      "ok ALT\n",
      "failed AMP\n",
      "ok AMS\n",
      "failed AMS_1\n",
      "failed ANA\n",
      "failed ANA_1\n",
      "failed ANA_2\n",
      "ok ANE\n",
      "failed ARA\n",
      "failed ARG\n",
      "failed ASL\n",
      "failed AUM\n",
      "failed AZC\n",
      "failed AZC_1\n",
      "failed BBV\n",
      "ok BBVA\n",
      "failed BCH\n",
      "failed BKIA\n",
      "failed BKIA_1\n",
      "ok BKT\n",
      "ok BME\n",
      "failed BTO\n",
      "ok BTO_1\n",
      "ok BTO_2\n",
      "ok CABK\n",
      "failed CAN\n",
      "ok CAR\n",
      "failed CEN\n",
      "failed CEP\n",
      "failed CEP_1\n",
      "ok CIE\n",
      "ok CIN\n",
      "ok CLNX\n",
      "failed COL\n",
      "failed COL_1\n",
      "failed CRF\n",
      "ok CRI\n",
      "failed CRI_1\n",
      "failed CRI_2\n",
      "failed CTE\n",
      "failed CTF\n",
      "failed CTG\n",
      "failed CUB\n",
      "ok DIA\n",
      "ok DRC\n",
      "failed EBA\n",
      "ok EBRO\n",
      "ok EBRO_1\n",
      "failed ECR\n",
      "ok ELE\n",
      "failed ELE_1\n",
      "ok ENC\n",
      "failed ENC_1\n",
      "ok ENG\n",
      "ok EVA\n",
      "failed EXT\n",
      "ok FAD\n",
      "ok FCC\n",
      "ok FDR\n",
      "failed FEC\n",
      "ok FER\n",
      "failed FOC\n",
      "failed GAM\n",
      "failed GAM_1\n",
      "failed GAS\n",
      "failed GES\n",
      "failed GES_1\n",
      "failed GPP\n",
      "ok GRF\n",
      "failed HHU\n",
      "failed HHU_1\n",
      "failed HID\n",
      "failed HIS\n",
      "ok IAG\n",
      "ok IBE\n",
      "ok IBLA\n",
      "ok IBR\n",
      "ok IDR\n",
      "ok ITX\n",
      "ok JAZ\n",
      "failed LOG\n",
      "ok LOR\n",
      "failed MAP\n",
      "ok MAP_1\n",
      "ok MAP_2\n",
      "ok MAS\n",
      "ok MEL\n",
      "ok MRL\n",
      "ok MTS\n",
      "failed MVC\n",
      "failed MVC_1\n",
      "failed NHH\n",
      "ok NHH_1\n",
      "failed NHH_2\n",
      "ok NTGY\n",
      "failed OHLA\n",
      "ok PHM\n",
      "failed PMD\n",
      "ok POP\n",
      "ok PRS\n",
      "ok PRS_1\n",
      "failed PRY\n",
      "failed PUL\n",
      "failed RAD\n",
      "failed RED\n",
      "failed REE\n",
      "failed REE_1\n",
      "ok REP\n",
      "ok ROVI\n",
      "ok SAB\n",
      "ok SAN\n",
      "failed SAN_1\n",
      "failed SAR\n",
      "failed SCH\n",
      "ok SCYR\n",
      "ok SCYR_1\n",
      "failed SEV\n",
      "ok SGC\n",
      "failed SGRE\n",
      "ok SLR\n",
      "failed SOL\n",
      "failed SYV\n",
      "failed SYV_1\n",
      "failed TAB\n",
      "ok TEF\n",
      "ok TEM\n",
      "ok TL5\n",
      "failed TPI\n",
      "failed TPZ\n",
      "ok TRE\n",
      "failed TRR\n",
      "failed TRR_1\n",
      "failed TUB\n",
      "ok UNF\n",
      "ok UNI\n",
      "failed UNI_1\n",
      "failed URA\n",
      "failed URB\n",
      "failed VAL\n",
      "failed VAL_1\n",
      "failed VDR\n",
      "failed VIS\n",
      "failed VIS_1\n",
      "ok VIS_2\n",
      "ok VIS_3\n",
      "ok ZEL\n",
      "failed ZOT\n"
     ]
    }
   ],
   "source": [
    "for c in ibex_historical_data.columns:\n",
    "    try:\n",
    "        ibex_historical_data[c] = marketstack_historical_data[c].fillna(yfinance_historical_data[c])\n",
    "        ibex_historical_data[c] = ibex_historical_data[c].fillna(bme_historical_data[c])\n",
    "        print('ok ' + c)\n",
    "    except:\n",
    "        print('failed ' + c)"
   ]
  },
  {
   "cell_type": "code",
   "execution_count": null,
   "metadata": {},
   "outputs": [],
   "source": [
    "ibex_historical_data['benchmark'] = yf.download('^IBEX')['Adj Close']"
   ]
  },
  {
   "cell_type": "code",
   "execution_count": 217,
   "metadata": {},
   "outputs": [],
   "source": [
    "ibex_historical_data.to_csv('ibex_historical_data.csv',index=True)"
   ]
  },
  {
   "cell_type": "code",
   "execution_count": 168,
   "metadata": {},
   "outputs": [
    {
     "name": "stdout",
     "output_type": "stream",
     "text": [
      "Missing tickers are 64\n",
      "['ACE' 'ACR' 'ACX' 'AGR' 'AGS_1' 'AGS_2' 'AGS_3' 'ALB' 'ALB_1' 'ARA' 'ARG'\n",
      " 'ASL' 'AUM' 'AZC' 'AZC_1' 'BBV' 'BCH' 'BTO' 'CAN' 'CEN' 'CEP' 'CEP_1'\n",
      " 'CRF' 'CRI_1' 'CRI_2' 'CTE' 'CTF' 'CTG' 'CUB' 'EBA' 'ECR' 'EXT' 'FEC'\n",
      " 'FOC' 'GAS' 'GES' 'GES_1' 'GPP' 'HHU' 'HHU_1' 'HID' 'HIS' 'MVC' 'MVC_1'\n",
      " 'PMD' 'PRY' 'PUL' 'RAD' 'SAR' 'SCH' 'SEV' 'SOL' 'SYV' 'SYV_1' 'TAB' 'TPI'\n",
      " 'TPZ' 'TRR' 'TRR_1' 'URA' 'URB' 'VAL' 'VAL_1' 'VDR']\n"
     ]
    }
   ],
   "source": [
    "failed_loads = ibex_historical_data.columns[ibex_historical_data.isnull().values.all(axis=0)]\n",
    "print('Missing tickers are {}'.format(len(failed_loads)))\n",
    "print(np.array(failed_loads))"
   ]
  },
  {
   "cell_type": "code",
   "execution_count": 215,
   "metadata": {},
   "outputs": [
    {
     "name": "stdout",
     "output_type": "stream",
     "text": [
      "A3TV 0\n",
      "ABE 0\n",
      "ABG.P 0\n",
      "ABG.P_1 0\n",
      "ABG 0\n",
      "ACE null\n",
      "ACR null\n",
      "ACS 0\n",
      "ACX null\n",
      "ACX_1 0\n",
      "ACX_2 0\n",
      "AENA 0\n",
      "AGR null\n",
      "AGS 0\n",
      "AGS_1 null\n",
      "AGS_2 null\n",
      "AGS_3 null\n",
      "ALB null\n",
      "ALB_1 null\n",
      "ALB_2 0\n",
      "ALB_3 0\n",
      "ALM 0\n",
      "ALT 0\n",
      "AMP 0\n",
      "AMS 0\n",
      "AMS_1 0\n",
      "ANA 0\n",
      "ANA_1 0\n",
      "ANA_2 0\n",
      "ANE 0\n",
      "ARA null\n",
      "ARG null\n",
      "ASL null\n",
      "AUM null\n",
      "AZC null\n",
      "AZC_1 null\n",
      "BBV null\n",
      "BBVA 0\n",
      "BCH null\n",
      "BKIA 0\n",
      "BKIA_1 0\n",
      "BKT 0\n",
      "BME 0\n",
      "BTO null\n",
      "BTO_1 0\n",
      "BTO_2 0\n",
      "CABK 0\n",
      "CAN null\n",
      "CAR 0\n",
      "CEN null\n",
      "CEP null\n",
      "CEP_1 null\n",
      "CIE 0\n",
      "CIN 0\n",
      "CLNX 0\n",
      "COL 0\n",
      "COL_1 0\n",
      "CRF null\n",
      "CRI 0\n",
      "CRI_1 null\n",
      "CRI_2 null\n",
      "CTE null\n",
      "CTF null\n",
      "CTG null\n",
      "CUB null\n",
      "DIA 0\n",
      "DRC 0\n",
      "EBA null\n",
      "EBRO 0\n",
      "EBRO_1 0\n",
      "ECR null\n",
      "ELE 0\n",
      "ELE_1 0\n",
      "ENC 0\n",
      "ENC_1 0\n",
      "ENG 0\n",
      "EVA 0\n",
      "EXT null\n",
      "FAD 0\n",
      "FCC 0\n",
      "FDR 0\n",
      "FEC null\n",
      "FER 0\n",
      "FOC null\n",
      "GAM 0\n",
      "GAM_1 0\n",
      "GAS null\n",
      "GES null\n",
      "GES_1 null\n",
      "GPP null\n",
      "GRF 0\n",
      "HHU null\n",
      "HHU_1 null\n",
      "HID null\n",
      "HIS null\n",
      "IAG 0\n",
      "IBE 0\n",
      "IBLA 0\n",
      "IBR 0\n",
      "IDR 0\n",
      "ITX 0\n",
      "JAZ 0\n",
      "LOG 0\n",
      "LOR 0\n",
      "MAP 0\n",
      "MAP_1 0\n",
      "MAP_2 0\n",
      "MAS 0\n",
      "MEL 0\n",
      "MRL 0\n",
      "MTS 0\n",
      "MVC null\n",
      "MVC_1 null\n",
      "NHH 0\n",
      "NHH_1 0\n",
      "NHH_2 0\n",
      "NTGY 0\n",
      "OHLA 0\n",
      "PHM 0\n",
      "PMD null\n",
      "POP 0\n",
      "PRS 0\n",
      "PRS_1 0\n",
      "PRY null\n",
      "PUL null\n",
      "RAD null\n",
      "RED 0\n",
      "REE 0\n",
      "REE_1 0\n",
      "REP 0\n",
      "ROVI 0\n",
      "SAB 0\n",
      "SAN 0\n",
      "SAN_1 0\n",
      "SAR null\n",
      "SCH null\n",
      "SCYR 0\n",
      "SCYR_1 0\n",
      "SEV null\n",
      "SGC 0\n",
      "SGRE 0\n",
      "SLR 0\n",
      "SOL null\n",
      "SYV null\n",
      "SYV_1 null\n",
      "TAB null\n",
      "TEF 0\n",
      "TEM 0\n",
      "TL5 0\n",
      "TPI null\n",
      "TPZ null\n",
      "TRE 0\n",
      "TRR null\n",
      "TRR_1 null\n",
      "TUB 0\n",
      "UNF 0\n",
      "UNI 0\n",
      "UNI_1 0\n",
      "URA null\n",
      "URB null\n",
      "VAL null\n",
      "VAL_1 null\n",
      "VDR null\n",
      "VIS 0\n",
      "VIS_1 0\n",
      "VIS_2 0\n",
      "VIS_3 0\n",
      "ZEL 0\n",
      "ZOT 0\n",
      "benchmark 0\n"
     ]
    }
   ],
   "source": [
    "for c in ibex_historical_data.columns:\n",
    "    if ibex_historical_data[c].isnull().sum() != ibex_historical_data[c].shape[0]:\n",
    "        first_valid = ibex_historical_data.loc[ibex_historical_data[c].notnull()][c].index[0]\n",
    "        last_valid = ibex_historical_data.loc[ibex_historical_data[c].notnull()][c].index[-1]\n",
    "        data = ibex_historical_data[c].loc[first_valid:last_valid]\n",
    "        ibex_historical_data[c] = data.fillna(method='ffill')\n",
    "        print(c, ibex_historical_data[c].loc[first_valid:last_valid].isnull().sum())\n",
    "    else:\n",
    "        print(c, 'null')\n",
    "    "
   ]
  },
  {
   "cell_type": "code",
   "execution_count": 218,
   "metadata": {},
   "outputs": [],
   "source": [
    "returns = np.log(ibex_historical_data).diff()[1:]\n",
    "returns.to_csv('ibex_historical_returns.csv',index=True)"
   ]
  },
  {
   "cell_type": "code",
   "execution_count": null,
   "metadata": {},
   "outputs": [],
   "source": []
  }
 ],
 "metadata": {
  "kernelspec": {
   "display_name": "Python 3",
   "language": "python",
   "name": "python3"
  },
  "language_info": {
   "codemirror_mode": {
    "name": "ipython",
    "version": 3
   },
   "file_extension": ".py",
   "mimetype": "text/x-python",
   "name": "python",
   "nbconvert_exporter": "python",
   "pygments_lexer": "ipython3",
   "version": "3.10.11"
  },
  "orig_nbformat": 4
 },
 "nbformat": 4,
 "nbformat_minor": 2
}
