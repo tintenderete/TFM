{
  "nbformat": 4,
  "nbformat_minor": 0,
  "metadata": {
    "colab": {
      "provenance": [],
      "toc_visible": true,
      "machine_shape": "hm",
      "gpuType": "V100",
      "authorship_tag": "ABX9TyM+MA6a+4vs9/o5YxBuHLYA",
      "include_colab_link": true
    },
    "kernelspec": {
      "name": "python3",
      "display_name": "Python 3"
    },
    "language_info": {
      "name": "python"
    },
    "accelerator": "GPU"
  },
  "cells": [
    {
      "cell_type": "markdown",
      "metadata": {
        "id": "view-in-github",
        "colab_type": "text"
      },
      "source": [
        "<a href=\"https://colab.research.google.com/github/tintenderete/TFM-Algoritmo-con-redes-evolutivas/blob/main/revision_evolutivo.ipynb\" target=\"_parent\"><img src=\"https://colab.research.google.com/assets/colab-badge.svg\" alt=\"Open In Colab\"/></a>"
      ]
    },
    {
      "cell_type": "code",
      "source": [
        "import numpy as np\n",
        "import pandas as pd\n",
        "import matplotlib.pyplot as plt\n",
        "\n",
        "import keras\n",
        "import tensorflow as tf\n",
        "\n",
        "from tensorflow.keras.layers import ConvLSTM1D, Dense, Conv2D, LSTM, GRU, Reshape \n",
        "from tensorflow.keras.layers import ConvLSTM2D, Conv3D, TimeDistributed, Flatten\n",
        "\n",
        "\n",
        "from keras.callbacks import EarlyStopping\n"
      ],
      "metadata": {
        "id": "jdHeyNdzRzlq"
      },
      "execution_count": null,
      "outputs": []
    },
    {
      "cell_type": "code",
      "execution_count": null,
      "metadata": {
        "id": "QUzNduRP_iHa"
      },
      "outputs": [],
      "source": [
        "\n",
        "# Parámetros\n",
        "num_dias = 10\n",
        "num_periodos = 60\n",
        "num_activos = 5\n",
        "num_canales = 1\n",
        "\n",
        "# Crear datos aleatorios para X\n",
        "X = np.random.uniform(low=-1, high=1, size=(num_dias, num_periodos, num_activos, num_canales))\n",
        "\n",
        "# Aplicar las transformaciones a los activos 1 y 2\n",
        "X[:, :, 0, 0] *= 2  # Multiplicar los precios del canal 1 del activo 1 por 2\n",
        "X[:, :, 1, 0] /= 2  # Dividir los precios del canal 1 del activo 2 entre 2\n",
        "\n",
        "# Crear la etiqueta Y como el cumsum del canal 1\n",
        "Y = np.sum(X[:, :, :, 0], axis=1)\n"
      ]
    },
    {
      "cell_type": "code",
      "source": [
        "X.shape, Y.shape"
      ],
      "metadata": {
        "colab": {
          "base_uri": "https://localhost:8080/"
        },
        "id": "_SLHem_ECCeU",
        "outputId": "97c079ce-e42a-41eb-897c-033045533daa"
      },
      "execution_count": null,
      "outputs": [
        {
          "output_type": "execute_result",
          "data": {
            "text/plain": [
              "((10, 60, 5, 1), (10, 5))"
            ]
          },
          "metadata": {},
          "execution_count": 3
        }
      ]
    },
    {
      "cell_type": "markdown",
      "source": [
        "# Funcion listas"
      ],
      "metadata": {
        "id": "5lw2OjM-HQHy"
      }
    },
    {
      "cell_type": "code",
      "source": [
        "def get_ranking(Y):\n",
        "  Y_ranking = np.zeros_like(Y, dtype=int)\n",
        "\n",
        "  for i in range(Y.shape[0]):\n",
        "      Y_ranking[i] = np.argsort(np.argsort(-Y[i]))\n",
        "\n",
        "  return Y_ranking"
      ],
      "metadata": {
        "id": "BAYLgJ7cHVwc"
      },
      "execution_count": null,
      "outputs": []
    },
    {
      "cell_type": "code",
      "source": [
        "Y[0:4],get_ranking(Y[0:4])"
      ],
      "metadata": {
        "colab": {
          "base_uri": "https://localhost:8080/"
        },
        "id": "41nN9kzSHjkQ",
        "outputId": "70b45367-af31-4884-ac59-32a94f1cbbc8"
      },
      "execution_count": null,
      "outputs": [
        {
          "output_type": "execute_result",
          "data": {
            "text/plain": [
              "(array([[ 0.38625446,  6.72660333, -7.27867277, -1.8617636 ,  0.14659732],\n",
              "        [-3.91271031,  2.10250407, -0.680511  , -6.5133519 , -5.76407696],\n",
              "        [17.8456445 , -2.53888031, -5.05405159,  2.01629235, 10.96516085],\n",
              "        [-0.30706266, -1.62151301,  0.03026639, -2.03371343, -2.01291247]]),\n",
              " array([[1, 0, 4, 3, 2],\n",
              "        [2, 0, 1, 4, 3],\n",
              "        [0, 3, 4, 2, 1],\n",
              "        [1, 2, 0, 4, 3]]))"
            ]
          },
          "metadata": {},
          "execution_count": 5
        }
      ]
    },
    {
      "cell_type": "markdown",
      "source": [
        "# GeneticAlgorithm"
      ],
      "metadata": {
        "id": "JoLip2tGJHLZ"
      }
    },
    {
      "cell_type": "code",
      "source": [
        "class GeneticAlgorithm:\n",
        "    def __init__(self, \n",
        "                 initial_population, \n",
        "                 fitness_function, \n",
        "                 selection_function, \n",
        "                 crossover_function, \n",
        "                 mutation_function, \n",
        "                 immigration_function,  \n",
        "                 n_generations,\n",
        "                 n_save_best_population):\n",
        "        self.population = initial_population\n",
        "        self.fitness_function = fitness_function\n",
        "        self.selection_function = selection_function\n",
        "        self.crossover_function = crossover_function\n",
        "        self.mutation_function = mutation_function\n",
        "        self.immigration_function = immigration_function \n",
        "        self.n_generations = n_generations\n",
        "        self.n_save_best_population = n_save_best_population\n",
        "\n",
        "    def run(self):\n",
        "        for i in range(self.n_generations):\n",
        "            fitness = self.fitness_function(self.population)\n",
        "            best_population = self._get_best_population(self.population,  fitness)\n",
        "            parents = self.selection_function(self.population, fitness)\n",
        "            offspring = self.crossover_function(parents)\n",
        "            offspring = self.mutation_function(offspring)\n",
        "            self.population = np.concatenate((parents, offspring))\n",
        "\n",
        "            immigration = self.immigration_function()  \n",
        "            self.population = np.concatenate((self.population, immigration))\n",
        "\n",
        "            if(len(best_population)>0):\n",
        "              self.population = np.concatenate((self.population, best_population))\n",
        "\n",
        "\n",
        "            # STATS\n",
        "\n",
        "            print(\"GENERATION: \" + str(i))\n",
        "            print(\"Fitness: \")\n",
        "            print(fitness)\n",
        "\n",
        "        # Devuelve la mejor solución encontrada\n",
        "        fitness = self.fitness_function(self.population)\n",
        "        best_idx = np.argmax(fitness)\n",
        "        return self.population[best_idx]\n",
        "\n",
        "    def _get_best_population(self,population,  fitness):\n",
        "      idx_best_pop = np.argsort(fitness)[::1][:self.n_save_best_population]\n",
        "\n",
        "      return np.array(population)[idx_best_pop]\n"
      ],
      "metadata": {
        "id": "wyzyGpwXG-hb"
      },
      "execution_count": null,
      "outputs": []
    },
    {
      "cell_type": "code",
      "source": [
        "pop = [[1,1],[2,2],[10,10],[11,11],[20,20],[30,30],[40,40] ]\n",
        "fitness = np.array([1,2,10,11, 20,0,40])"
      ],
      "metadata": {
        "id": "txDGJnuxu7Ni"
      },
      "execution_count": null,
      "outputs": []
    },
    {
      "cell_type": "code",
      "source": [
        "geneticAlgorithm = GeneticAlgorithm(1,2,3,4,5,6,7,n_save_best_population = 3)"
      ],
      "metadata": {
        "id": "z1by3eqqwnct"
      },
      "execution_count": null,
      "outputs": []
    },
    {
      "cell_type": "code",
      "source": [
        "geneticAlgorithm._get_best_population(pop,fitness)"
      ],
      "metadata": {
        "colab": {
          "base_uri": "https://localhost:8080/"
        },
        "id": "8kBPeu8Gw1Oq",
        "outputId": "ef63e236-79cc-410d-8080-8b710baa8b7a"
      },
      "execution_count": null,
      "outputs": [
        {
          "output_type": "execute_result",
          "data": {
            "text/plain": [
              "array([[30, 30],\n",
              "       [ 1,  1],\n",
              "       [ 2,  2]])"
            ]
          },
          "metadata": {},
          "execution_count": 9
        }
      ]
    },
    {
      "cell_type": "markdown",
      "source": [
        "# initial_population"
      ],
      "metadata": {
        "id": "7YnfkcZYJJrL"
      }
    },
    {
      "cell_type": "code",
      "source": [
        "ind_A = [\n",
        "    # numero_de_layers_densas1\n",
        "    # numero_de_units1\n",
        "    # activation1\n",
        "    # numero_de_layers_densas2\n",
        "    # numero_de_units2 \n",
        "    # activation2\n",
        "    # output_activation\n",
        "]\n",
        "\n",
        "def get_ind_A():\n",
        "  ind_A = [\n",
        "      np.random.randint(1,10),\n",
        "      np.random.randint(1,10) * 20,\n",
        "      np.random.choice(['relu','linear']),\n",
        "      np.random.randint(1,10),\n",
        "      np.random.randint(1,10) * 20,\n",
        "      np.random.choice(['relu','linear']),\n",
        "      np.random.choice(['linear'])   \n",
        "  ]\n",
        "  return ind_A"
      ],
      "metadata": {
        "id": "hFv5pvet0Hsc"
      },
      "execution_count": null,
      "outputs": []
    },
    {
      "cell_type": "code",
      "source": [
        "for i in range(10):\n",
        "  print(get_ind_A())"
      ],
      "metadata": {
        "colab": {
          "base_uri": "https://localhost:8080/"
        },
        "id": "MWHc5u7T12vM",
        "outputId": "8c177174-6ac4-44e5-e0bd-19f6dced766a"
      },
      "execution_count": null,
      "outputs": [
        {
          "output_type": "stream",
          "name": "stdout",
          "text": [
            "[4, 180, 'linear', 2, 160, 'linear', 'linear']\n",
            "[2, 60, 'linear', 4, 60, 'linear', 'linear']\n",
            "[3, 140, 'relu', 5, 160, 'linear', 'linear']\n",
            "[4, 160, 'relu', 5, 80, 'linear', 'linear']\n",
            "[2, 40, 'linear', 1, 20, 'relu', 'linear']\n",
            "[7, 140, 'relu', 1, 140, 'linear', 'linear']\n",
            "[9, 180, 'linear', 9, 100, 'relu', 'linear']\n",
            "[9, 180, 'linear', 1, 160, 'relu', 'linear']\n",
            "[7, 100, 'relu', 9, 120, 'relu', 'linear']\n",
            "[7, 140, 'relu', 8, 60, 'linear', 'linear']\n"
          ]
        }
      ]
    },
    {
      "cell_type": "markdown",
      "source": [
        "## gen_population"
      ],
      "metadata": {
        "id": "YzYlv9qz-PZj"
      }
    },
    {
      "cell_type": "code",
      "source": [
        "def gen_population(n_pop = 50):\n",
        "  pop = []\n",
        "  for p in range(n_pop):\n",
        "    pop.append(get_ind_A())\n",
        "  return np.array(pop, dtype=object)"
      ],
      "metadata": {
        "id": "6sYm5ADx2MDz"
      },
      "execution_count": null,
      "outputs": []
    },
    {
      "cell_type": "code",
      "source": [
        "gen_population(n_pop = 3)"
      ],
      "metadata": {
        "colab": {
          "base_uri": "https://localhost:8080/"
        },
        "id": "uysUY2vM2eGb",
        "outputId": "c18c4e9c-ba86-493a-8ba2-85942952667f"
      },
      "execution_count": null,
      "outputs": [
        {
          "output_type": "execute_result",
          "data": {
            "text/plain": [
              "array([[5, 20, 'relu', 2, 100, 'linear', 'linear'],\n",
              "       [2, 120, 'relu', 3, 60, 'linear', 'linear'],\n",
              "       [6, 40, 'linear', 1, 140, 'linear', 'linear']], dtype=object)"
            ]
          },
          "metadata": {},
          "execution_count": 104
        }
      ]
    },
    {
      "cell_type": "markdown",
      "source": [
        "## create_model"
      ],
      "metadata": {
        "id": "OodeuLQe-R_J"
      }
    },
    {
      "cell_type": "code",
      "source": [
        "def create_model(iput_shape, output_shape, ind_gens, learning_rate=0.001):\n",
        "\n",
        "  numero_de_layers_densas1 = ind_gens[0]\n",
        "  numero_de_units1= ind_gens[1]\n",
        "  activation1= ind_gens[2]\n",
        "  numero_de_layers_densas2= ind_gens[3]\n",
        "  numero_de_units2 = ind_gens[4]\n",
        "  activation2= ind_gens[5]\n",
        "  output_activation = ind_gens[6]\n",
        "\n",
        "  inputs = keras.Input(shape=(iput_shape))\n",
        "  m = inputs\n",
        "\n",
        "  for i in range(numero_de_layers_densas1):\n",
        "    m = Dense( units=numero_de_units1 , activation=activation1 )(m)\n",
        "\n",
        "  for i in range(numero_de_layers_densas2): \n",
        "    m = Dense( units=numero_de_units2 , activation=activation2 )(m)\n",
        "\n",
        "  m = Flatten()(m)\n",
        "  outputs = Dense(output_shape, activation = output_activation)(m)\n",
        "  model = keras.Model(inputs=inputs, outputs=outputs)\n",
        "  model.compile(\n",
        "      loss='mse',\n",
        "      optimizer=keras.optimizers.Adam(learning_rate=learning_rate),\n",
        "      metrics=[],\n",
        "    )\n",
        "\n",
        "  return model\n"
      ],
      "metadata": {
        "id": "IrzmMyaz2-l3"
      },
      "execution_count": null,
      "outputs": []
    },
    {
      "cell_type": "code",
      "source": [
        "create_model(iput_shape = (35, 3), output_shape =  (35), ind_gens = [2, 40, 'relu', 2, 20, 'linear', 'relu']).summary()"
      ],
      "metadata": {
        "colab": {
          "base_uri": "https://localhost:8080/"
        },
        "id": "ELcO83MQ8Z7r",
        "outputId": "c69d011c-6666-4cab-8331-a7955cbc64f5"
      },
      "execution_count": null,
      "outputs": [
        {
          "output_type": "stream",
          "name": "stdout",
          "text": [
            "Model: \"model_351\"\n",
            "_________________________________________________________________\n",
            " Layer (type)                Output Shape              Param #   \n",
            "=================================================================\n",
            " input_353 (InputLayer)      [(None, 35, 3)]           0         \n",
            "                                                                 \n",
            " dense_3912 (Dense)          (None, 35, 40)            160       \n",
            "                                                                 \n",
            " dense_3913 (Dense)          (None, 35, 40)            1640      \n",
            "                                                                 \n",
            " dense_3914 (Dense)          (None, 35, 20)            820       \n",
            "                                                                 \n",
            " dense_3915 (Dense)          (None, 35, 20)            420       \n",
            "                                                                 \n",
            " flatten_351 (Flatten)       (None, 700)               0         \n",
            "                                                                 \n",
            " dense_3916 (Dense)          (None, 35)                24535     \n",
            "                                                                 \n",
            "=================================================================\n",
            "Total params: 27,575\n",
            "Trainable params: 27,575\n",
            "Non-trainable params: 0\n",
            "_________________________________________________________________\n"
          ]
        }
      ]
    },
    {
      "cell_type": "markdown",
      "source": [
        "## mse"
      ],
      "metadata": {
        "id": "o6TEiA0CIgmT"
      }
    },
    {
      "cell_type": "code",
      "source": [
        "Y.shape"
      ],
      "metadata": {
        "colab": {
          "base_uri": "https://localhost:8080/"
        },
        "id": "do8rQWpKIsE2",
        "outputId": "96ff1086-1cd4-4091-8513-e09e8d0fad4d"
      },
      "execution_count": null,
      "outputs": [
        {
          "output_type": "execute_result",
          "data": {
            "text/plain": [
              "(10, 5)"
            ]
          },
          "metadata": {},
          "execution_count": 107
        }
      ]
    },
    {
      "cell_type": "code",
      "source": [
        "tf.keras.metrics.mean_squared_error(\n",
        "    Y[0], Y[0]\n",
        ")"
      ],
      "metadata": {
        "colab": {
          "base_uri": "https://localhost:8080/"
        },
        "id": "vjmjvBtcI3jE",
        "outputId": "eec6ed21-b0f1-4b50-bb3e-77df0abc321d"
      },
      "execution_count": null,
      "outputs": [
        {
          "output_type": "execute_result",
          "data": {
            "text/plain": [
              "<tf.Tensor: shape=(), dtype=float64, numpy=0.0>"
            ]
          },
          "metadata": {},
          "execution_count": 108
        }
      ]
    },
    {
      "cell_type": "code",
      "source": [
        "tf.keras.metrics.mean_squared_error(\n",
        "    [4,5], [4,5]\n",
        ")"
      ],
      "metadata": {
        "colab": {
          "base_uri": "https://localhost:8080/"
        },
        "id": "zrTrO_2CIheL",
        "outputId": "96e3b3a3-cd2b-403f-c95a-8adc6d579606"
      },
      "execution_count": null,
      "outputs": [
        {
          "output_type": "execute_result",
          "data": {
            "text/plain": [
              "<tf.Tensor: shape=(), dtype=int32, numpy=0>"
            ]
          },
          "metadata": {},
          "execution_count": 109
        }
      ]
    },
    {
      "cell_type": "code",
      "source": [
        "tf.keras.metrics.mean_squared_error(\n",
        "    [4,5], [17,4]\n",
        ")"
      ],
      "metadata": {
        "colab": {
          "base_uri": "https://localhost:8080/"
        },
        "id": "zRFk61k3JBM1",
        "outputId": "00375830-3a8c-4dfb-c141-e9d0d75b6fbd"
      },
      "execution_count": null,
      "outputs": [
        {
          "output_type": "execute_result",
          "data": {
            "text/plain": [
              "<tf.Tensor: shape=(), dtype=int32, numpy=85>"
            ]
          },
          "metadata": {},
          "execution_count": 110
        }
      ]
    },
    {
      "cell_type": "code",
      "source": [
        "tf.keras.metrics.mean_squared_error(\n",
        "    [4,5], [-17,4]\n",
        ")"
      ],
      "metadata": {
        "colab": {
          "base_uri": "https://localhost:8080/"
        },
        "id": "r4BfV6LzIz82",
        "outputId": "c4228611-7b47-4c58-afac-319664d62a0f"
      },
      "execution_count": null,
      "outputs": [
        {
          "output_type": "execute_result",
          "data": {
            "text/plain": [
              "<tf.Tensor: shape=(), dtype=int32, numpy=221>"
            ]
          },
          "metadata": {},
          "execution_count": 111
        }
      ]
    },
    {
      "cell_type": "markdown",
      "source": [
        "## model_population"
      ],
      "metadata": {
        "id": "jBDsdkoW-WUb"
      }
    },
    {
      "cell_type": "code",
      "source": [
        "def model_population(iput_shape, output_shape,populations_gens, learning_rate):\n",
        "  pop = []\n",
        "  for i in range(len(populations_gens)):\n",
        "\n",
        "    pop.append( create_model(iput_shape, output_shape, populations_gens[i], learning_rate) )\n",
        "\n",
        "  return pop\n"
      ],
      "metadata": {
        "id": "D9VaZiln9QkL"
      },
      "execution_count": null,
      "outputs": []
    },
    {
      "cell_type": "code",
      "source": [
        "pop = [[3, 100, 'linear', 3, 120, 'relu', 'relu'],\n",
        " [7, 80, 'relu', 6, 160, 'linear', 'relu'],\n",
        " [4, 100, 'relu', 3, 100, 'linear', 'relu']]"
      ],
      "metadata": {
        "id": "W4FqjT4w90AK"
      },
      "execution_count": null,
      "outputs": []
    },
    {
      "cell_type": "code",
      "source": [
        "models_pop = model_population((35,3), (35),pop, 0.01)"
      ],
      "metadata": {
        "id": "9PcukzEQ939H"
      },
      "execution_count": null,
      "outputs": []
    },
    {
      "cell_type": "code",
      "source": [
        "models_pop"
      ],
      "metadata": {
        "colab": {
          "base_uri": "https://localhost:8080/"
        },
        "id": "SCq0aNaD9-_D",
        "outputId": "f5d8b132-3aa0-412b-b5e7-af61306e694f"
      },
      "execution_count": null,
      "outputs": [
        {
          "output_type": "execute_result",
          "data": {
            "text/plain": [
              "[<keras.engine.functional.Functional at 0x7f3f507a9270>,\n",
              " <keras.engine.functional.Functional at 0x7f4014397a90>,\n",
              " <keras.engine.functional.Functional at 0x7f3f5073c400>]"
            ]
          },
          "metadata": {},
          "execution_count": 115
        }
      ]
    },
    {
      "cell_type": "code",
      "source": [
        "for m in models_pop:\n",
        "  print(m.summary())"
      ],
      "metadata": {
        "colab": {
          "base_uri": "https://localhost:8080/"
        },
        "id": "aeyGakWI-AUr",
        "outputId": "4ce5594b-3b6b-4a9a-b2a0-e81ea8eea524"
      },
      "execution_count": null,
      "outputs": [
        {
          "output_type": "stream",
          "name": "stdout",
          "text": [
            "Model: \"model_352\"\n",
            "_________________________________________________________________\n",
            " Layer (type)                Output Shape              Param #   \n",
            "=================================================================\n",
            " input_354 (InputLayer)      [(None, 35, 3)]           0         \n",
            "                                                                 \n",
            " dense_3917 (Dense)          (None, 35, 100)           400       \n",
            "                                                                 \n",
            " dense_3918 (Dense)          (None, 35, 100)           10100     \n",
            "                                                                 \n",
            " dense_3919 (Dense)          (None, 35, 100)           10100     \n",
            "                                                                 \n",
            " dense_3920 (Dense)          (None, 35, 120)           12120     \n",
            "                                                                 \n",
            " dense_3921 (Dense)          (None, 35, 120)           14520     \n",
            "                                                                 \n",
            " dense_3922 (Dense)          (None, 35, 120)           14520     \n",
            "                                                                 \n",
            " flatten_352 (Flatten)       (None, 4200)              0         \n",
            "                                                                 \n",
            " dense_3923 (Dense)          (None, 35)                147035    \n",
            "                                                                 \n",
            "=================================================================\n",
            "Total params: 208,795\n",
            "Trainable params: 208,795\n",
            "Non-trainable params: 0\n",
            "_________________________________________________________________\n",
            "None\n",
            "Model: \"model_353\"\n",
            "_________________________________________________________________\n",
            " Layer (type)                Output Shape              Param #   \n",
            "=================================================================\n",
            " input_355 (InputLayer)      [(None, 35, 3)]           0         \n",
            "                                                                 \n",
            " dense_3924 (Dense)          (None, 35, 80)            320       \n",
            "                                                                 \n",
            " dense_3925 (Dense)          (None, 35, 80)            6480      \n",
            "                                                                 \n",
            " dense_3926 (Dense)          (None, 35, 80)            6480      \n",
            "                                                                 \n",
            " dense_3927 (Dense)          (None, 35, 80)            6480      \n",
            "                                                                 \n",
            " dense_3928 (Dense)          (None, 35, 80)            6480      \n",
            "                                                                 \n",
            " dense_3929 (Dense)          (None, 35, 80)            6480      \n",
            "                                                                 \n",
            " dense_3930 (Dense)          (None, 35, 80)            6480      \n",
            "                                                                 \n",
            " dense_3931 (Dense)          (None, 35, 160)           12960     \n",
            "                                                                 \n",
            " dense_3932 (Dense)          (None, 35, 160)           25760     \n",
            "                                                                 \n",
            " dense_3933 (Dense)          (None, 35, 160)           25760     \n",
            "                                                                 \n",
            " dense_3934 (Dense)          (None, 35, 160)           25760     \n",
            "                                                                 \n",
            " dense_3935 (Dense)          (None, 35, 160)           25760     \n",
            "                                                                 \n",
            " dense_3936 (Dense)          (None, 35, 160)           25760     \n",
            "                                                                 \n",
            " flatten_353 (Flatten)       (None, 5600)              0         \n",
            "                                                                 \n",
            " dense_3937 (Dense)          (None, 35)                196035    \n",
            "                                                                 \n",
            "=================================================================\n",
            "Total params: 376,995\n",
            "Trainable params: 376,995\n",
            "Non-trainable params: 0\n",
            "_________________________________________________________________\n",
            "None\n",
            "Model: \"model_354\"\n",
            "_________________________________________________________________\n",
            " Layer (type)                Output Shape              Param #   \n",
            "=================================================================\n",
            " input_356 (InputLayer)      [(None, 35, 3)]           0         \n",
            "                                                                 \n",
            " dense_3938 (Dense)          (None, 35, 100)           400       \n",
            "                                                                 \n",
            " dense_3939 (Dense)          (None, 35, 100)           10100     \n",
            "                                                                 \n",
            " dense_3940 (Dense)          (None, 35, 100)           10100     \n",
            "                                                                 \n",
            " dense_3941 (Dense)          (None, 35, 100)           10100     \n",
            "                                                                 \n",
            " dense_3942 (Dense)          (None, 35, 100)           10100     \n",
            "                                                                 \n",
            " dense_3943 (Dense)          (None, 35, 100)           10100     \n",
            "                                                                 \n",
            " dense_3944 (Dense)          (None, 35, 100)           10100     \n",
            "                                                                 \n",
            " flatten_354 (Flatten)       (None, 3500)              0         \n",
            "                                                                 \n",
            " dense_3945 (Dense)          (None, 35)                122535    \n",
            "                                                                 \n",
            "=================================================================\n",
            "Total params: 183,535\n",
            "Trainable params: 183,535\n",
            "Non-trainable params: 0\n",
            "_________________________________________________________________\n",
            "None\n"
          ]
        }
      ]
    },
    {
      "cell_type": "markdown",
      "source": [
        "# Fitness_function"
      ],
      "metadata": {
        "id": "0l_j5IIHZmps"
      }
    },
    {
      "cell_type": "code",
      "source": [
        "class Fitness_function_keras():\n",
        "  def __init__(self, X, Y, epochs, batch_size, learning_rate):\n",
        "    self.X = X\n",
        "    self.Y = Y\n",
        "    self.epochs = epochs\n",
        "    self.batch_size = batch_size\n",
        "    self.learning_rate = learning_rate\n",
        "\n",
        "    self.last_loss_history = []\n",
        "\n",
        "  def run(self, gens_population ):\n",
        "    return self.fitness_keras(self.X, self.Y, gens_population , self.epochs, self.batch_size)\n",
        "\n",
        "  def fitness_keras(self, X, Y, gens_population , epochs, batch_size):\n",
        "\n",
        "    self.last_loss_history = []\n",
        "\n",
        "    population_models = model_population(X.shape[1:], Y.shape[1], gens_population, self.learning_rate)\n",
        "\n",
        "    fitness = []\n",
        "\n",
        "    for m in population_models:\n",
        "\n",
        "      h = m.fit(X,Y, \n",
        "                  epochs=epochs, \n",
        "                  batch_size = batch_size, \n",
        "                  verbose=0,\n",
        "                  callbacks=[EarlyStopping(monitor='loss', patience=10, min_delta=0)]) \n",
        "\n",
        "      self.last_loss_history.append(h.history[\"loss\"])\n",
        "      fitness.append(h.history[\"loss\"][-1])\n",
        "\n",
        "    return np.array(fitness)"
      ],
      "metadata": {
        "id": "paXrnlsW_62Z"
      },
      "execution_count": null,
      "outputs": []
    },
    {
      "cell_type": "code",
      "source": [
        "pop = [[3, 100, 'linear', 3, 120, 'relu', 'relu'],\n",
        " [7, 80, 'relu', 6, 160, 'linear', 'relu'],\n",
        " [4, 100, 'relu', 3, 100, 'linear', 'relu']]\n",
        "\n",
        "fitness_function_keras = Fitness_function_keras(X, Y , epochs = 2, batch_size = 1, learning_rate = 0.1)\n",
        "\n",
        "fitness = fitness_function_keras.run(pop)\n",
        "print(fitness)"
      ],
      "metadata": {
        "colab": {
          "base_uri": "https://localhost:8080/"
        },
        "id": "GxvCm_6EBG0D",
        "outputId": "35f73974-af95-4bb7-932e-6dac61d77aba"
      },
      "execution_count": null,
      "outputs": [
        {
          "output_type": "stream",
          "name": "stdout",
          "text": [
            "[2.63925724e+01 1.20295981e+15 8.05240900e+06]\n"
          ]
        }
      ]
    },
    {
      "cell_type": "markdown",
      "source": [
        "# Selection_function"
      ],
      "metadata": {
        "id": "0swamKFOZdcd"
      }
    },
    {
      "cell_type": "code",
      "source": [
        "class Selection_function():\n",
        "  def __init__(self, number_of_couples = 1, tournament_size = 3):\n",
        "    self.number_of_couples = number_of_couples\n",
        "    self.tournament_size = tournament_size\n",
        "  \n",
        "  def tournament_selection(self, population, fitness):\n",
        "    all_parents = []\n",
        "    for i in range(self.number_of_couples):\n",
        "      idx = np.random.choice(np.arange(len(population)), size=self.tournament_size, replace=False)\n",
        "      orden = np.argsort(fitness[idx])\n",
        "      best_individual_idx = idx[orden[0:2]]\n",
        "      all_parents.append(population[best_individual_idx[0]])\n",
        "      all_parents.append(population[best_individual_idx[1]])\n",
        "    return all_parents\n"
      ],
      "metadata": {
        "id": "dPl9awfom8dt"
      },
      "execution_count": null,
      "outputs": []
    },
    {
      "cell_type": "code",
      "source": [
        "pop = np.array([[3, 100, 'linear', 3, 120, 'relu', 'relu'],\n",
        " [7, 80, 'relu', 6, 160, 'linear', 'relu'],\n",
        " [4, 100, 'relu', 3, 100, 'linear', 'relu']])\n",
        "fitness = np.array([28.697153091430664, 28.697154998779297, 28.697158813476562])\n",
        "\n",
        "selection = Selection_function(number_of_couples = 10)\n",
        "\n",
        "parents = selection.tournament_selection(pop, fitness)\n",
        "\n",
        "print( parents )"
      ],
      "metadata": {
        "id": "F4bk4CzSnRoB",
        "colab": {
          "base_uri": "https://localhost:8080/"
        },
        "outputId": "d72b1065-d623-4158-8547-a591c146dca2"
      },
      "execution_count": null,
      "outputs": [
        {
          "output_type": "stream",
          "name": "stdout",
          "text": [
            "[array(['3', '100', 'linear', '3', '120', 'relu', 'relu'], dtype='<U21'), array(['7', '80', 'relu', '6', '160', 'linear', 'relu'], dtype='<U21'), array(['3', '100', 'linear', '3', '120', 'relu', 'relu'], dtype='<U21'), array(['7', '80', 'relu', '6', '160', 'linear', 'relu'], dtype='<U21'), array(['3', '100', 'linear', '3', '120', 'relu', 'relu'], dtype='<U21'), array(['7', '80', 'relu', '6', '160', 'linear', 'relu'], dtype='<U21'), array(['3', '100', 'linear', '3', '120', 'relu', 'relu'], dtype='<U21'), array(['7', '80', 'relu', '6', '160', 'linear', 'relu'], dtype='<U21'), array(['3', '100', 'linear', '3', '120', 'relu', 'relu'], dtype='<U21'), array(['7', '80', 'relu', '6', '160', 'linear', 'relu'], dtype='<U21'), array(['3', '100', 'linear', '3', '120', 'relu', 'relu'], dtype='<U21'), array(['7', '80', 'relu', '6', '160', 'linear', 'relu'], dtype='<U21'), array(['3', '100', 'linear', '3', '120', 'relu', 'relu'], dtype='<U21'), array(['7', '80', 'relu', '6', '160', 'linear', 'relu'], dtype='<U21'), array(['3', '100', 'linear', '3', '120', 'relu', 'relu'], dtype='<U21'), array(['7', '80', 'relu', '6', '160', 'linear', 'relu'], dtype='<U21'), array(['3', '100', 'linear', '3', '120', 'relu', 'relu'], dtype='<U21'), array(['7', '80', 'relu', '6', '160', 'linear', 'relu'], dtype='<U21'), array(['3', '100', 'linear', '3', '120', 'relu', 'relu'], dtype='<U21'), array(['7', '80', 'relu', '6', '160', 'linear', 'relu'], dtype='<U21')]\n"
          ]
        }
      ]
    },
    {
      "cell_type": "code",
      "source": [
        "# los dos primeros padres\n",
        "parents[0], parents[1]"
      ],
      "metadata": {
        "colab": {
          "base_uri": "https://localhost:8080/"
        },
        "id": "p3EvBhhiDgSm",
        "outputId": "8ea78450-77f7-4242-e5dd-f76dd7f00c09"
      },
      "execution_count": null,
      "outputs": [
        {
          "output_type": "execute_result",
          "data": {
            "text/plain": [
              "(array(['3', '100', 'linear', '3', '120', 'relu', 'relu'], dtype='<U21'),\n",
              " array(['7', '80', 'relu', '6', '160', 'linear', 'relu'], dtype='<U21'))"
            ]
          },
          "metadata": {},
          "execution_count": 121
        }
      ]
    },
    {
      "cell_type": "markdown",
      "source": [
        "# Crossover_function"
      ],
      "metadata": {
        "id": "U48qQ2201e4o"
      }
    },
    {
      "cell_type": "code",
      "source": [
        "def uniform_crossover(parent1, parent2):\n",
        "    child1, child2 = parent1.copy(), parent2.copy()\n",
        "    for i in range(len(parent1)):\n",
        "        if np.random.uniform(0, 1) < 0.5:  # Choose randomly\n",
        "            child1[i], child2[i] = child2[i], child1[i]  # Swap elements\n",
        "    return child1, child2"
      ],
      "metadata": {
        "id": "6KtyteevhatM"
      },
      "execution_count": null,
      "outputs": []
    },
    {
      "cell_type": "code",
      "source": [
        "def easy_crossover(parents):\n",
        "  offspring = []\n",
        "  for i in range(0, len(parents), 2):\n",
        "\n",
        "    parent1 = parents[i]\n",
        "    parent2 = parents[i+1]\n",
        "\n",
        "    childs = uniform_crossover(parent1, parent2 )\n",
        "    \n",
        "    offspring.append(childs[0])\n",
        "    offspring.append(childs[1])\n",
        "\n",
        "  return offspring"
      ],
      "metadata": {
        "id": "Avv_AQJktIXx"
      },
      "execution_count": null,
      "outputs": []
    },
    {
      "cell_type": "code",
      "source": [
        "ofs = easy_crossover(parents)\n",
        "print(ofs)"
      ],
      "metadata": {
        "colab": {
          "base_uri": "https://localhost:8080/"
        },
        "id": "vg1rsjFfvsi0",
        "outputId": "3f8e10d8-f09c-4b3b-8d74-7e2a939e0d8b"
      },
      "execution_count": null,
      "outputs": [
        {
          "output_type": "stream",
          "name": "stdout",
          "text": [
            "[array(['3', '100', 'linear', '3', '120', 'linear', 'relu'], dtype='<U21'), array(['7', '80', 'relu', '6', '160', 'relu', 'relu'], dtype='<U21'), array(['7', '100', 'relu', '6', '160', 'relu', 'relu'], dtype='<U21'), array(['3', '80', 'linear', '3', '120', 'linear', 'relu'], dtype='<U21'), array(['3', '100', 'linear', '3', '120', 'relu', 'relu'], dtype='<U21'), array(['7', '80', 'relu', '6', '160', 'linear', 'relu'], dtype='<U21'), array(['7', '100', 'relu', '3', '160', 'linear', 'relu'], dtype='<U21'), array(['3', '80', 'linear', '6', '120', 'relu', 'relu'], dtype='<U21'), array(['3', '100', 'linear', '6', '120', 'relu', 'relu'], dtype='<U21'), array(['7', '80', 'relu', '3', '160', 'linear', 'relu'], dtype='<U21'), array(['3', '80', 'linear', '6', '160', 'linear', 'relu'], dtype='<U21'), array(['7', '100', 'relu', '3', '120', 'relu', 'relu'], dtype='<U21'), array(['7', '100', 'relu', '6', '120', 'linear', 'relu'], dtype='<U21'), array(['3', '80', 'linear', '3', '160', 'relu', 'relu'], dtype='<U21'), array(['7', '80', 'linear', '3', '120', 'linear', 'relu'], dtype='<U21'), array(['3', '100', 'relu', '6', '160', 'relu', 'relu'], dtype='<U21'), array(['7', '100', 'linear', '6', '120', 'linear', 'relu'], dtype='<U21'), array(['3', '80', 'relu', '3', '160', 'relu', 'relu'], dtype='<U21'), array(['7', '80', 'linear', '6', '120', 'linear', 'relu'], dtype='<U21'), array(['3', '100', 'relu', '3', '160', 'relu', 'relu'], dtype='<U21')]\n"
          ]
        }
      ]
    },
    {
      "cell_type": "code",
      "source": [
        "# primer hijo\n",
        "ofs[0]"
      ],
      "metadata": {
        "colab": {
          "base_uri": "https://localhost:8080/"
        },
        "id": "SuDh_rHgNf9k",
        "outputId": "fac81318-ba62-4a30-8721-725e326a7ab5"
      },
      "execution_count": null,
      "outputs": [
        {
          "output_type": "execute_result",
          "data": {
            "text/plain": [
              "array(['3', '100', 'linear', '3', '120', 'linear', 'relu'], dtype='<U21')"
            ]
          },
          "metadata": {},
          "execution_count": 125
        }
      ]
    },
    {
      "cell_type": "markdown",
      "source": [
        "# mutation_function"
      ],
      "metadata": {
        "id": "N3-V5etjwX36"
      }
    },
    {
      "cell_type": "code",
      "source": [
        "def mutation(offspring):\n",
        "  return offspring"
      ],
      "metadata": {
        "id": "Vfj3w0GpwZsh"
      },
      "execution_count": null,
      "outputs": []
    },
    {
      "cell_type": "markdown",
      "source": [
        "# genetico y funciones TEST"
      ],
      "metadata": {
        "id": "eKhoyj84EXXb"
      }
    },
    {
      "cell_type": "code",
      "source": [
        "geneticAlgorithm = GeneticAlgorithm(1,2,3,4,5,6,7,n_save_best_population = 3)\n",
        "initial_population = gen_population(n_pop = 50)\n",
        "fitness_function_keras = Fitness_function_keras(X, Y , epochs = 100, batch_size = 2, learning_rate = 0.01)\n",
        "selection = Selection_function(number_of_couples = 10 )\n",
        "n_immigration_function = 30"
      ],
      "metadata": {
        "id": "u6RJcxYZ_FkZ"
      },
      "execution_count": null,
      "outputs": []
    },
    {
      "cell_type": "code",
      "source": [
        "#print(\"---- initial_population ----\")\n",
        "population = initial_population\n",
        "#print(population)\n",
        "#print(len(population))\n",
        "\n",
        "for i in range(10):\n",
        "  print(\"||||||| GEN: \" + str(i) + \" ||||||||\")\n",
        "\n",
        "  \n",
        "\n",
        "  #print(\"---- fitness ----\")\n",
        "  fitness = fitness_function_keras.run(population)\n",
        "  #print(fitness)\n",
        "  #print(len(fitness))\n",
        "\n",
        "  best_idx = np.argmin(fitness)\n",
        "\n",
        "  best_fitness = fitness[best_idx]\n",
        "  print(\"best fitness: \" + str(best_fitness))\n",
        "\n",
        "  if best_fitness < 0.1:\n",
        "    print(\"best_model: \" )\n",
        "    print(population[best_idx])\n",
        "    print(\"ENTRENAMIENTO TERMINADO\")\n",
        "    break\n",
        "\n",
        "  #print(\"---- best_population ----\")\n",
        "  best_population = geneticAlgorithm._get_best_population(population,fitness)\n",
        "  print(best_population)\n",
        "  #print(len(best_population))\n",
        "\n",
        "  #print(\"---- parents ----\")\n",
        "  parents = selection.tournament_selection(population, fitness)\n",
        "  #print(parents)\n",
        "  #print(len(parents))\n",
        "\n",
        "  #print(\"---- offspring crossover ----\")\n",
        "  offspring = easy_crossover(parents)\n",
        "  #print(offspring)\n",
        "  #print(len(offspring))\n",
        "\n",
        "  #print(\"---- offspring mutation ----\")\n",
        "  offspring = mutation(offspring)\n",
        "  #print(offspring)\n",
        "  #print(len(offspring))\n",
        "\n",
        "  #print(\"---- population ----\")\n",
        "  #population = np.concatenate((parents, offspring))\n",
        "  #print(population)\n",
        "  #print(len(population))\n",
        "\n",
        "  #print(\"---- immigration ----\")\n",
        "  immigration = gen_population(n_pop = 2)\n",
        "  #print(immigration)\n",
        "  #print(len(immigration))\n",
        "\n",
        "  #print(\"---- population + immigration ----\")\n",
        "  population = np.concatenate((population, immigration))\n",
        "  #print(population)\n",
        "  #print(len(population))\n",
        "\n",
        "  #print(\"---- population + best_population ----\")\n",
        "  population = np.concatenate((population, best_population))\n",
        "  #print(population)\n",
        "  #print(len(population))\n",
        "\n"
      ],
      "metadata": {
        "colab": {
          "base_uri": "https://localhost:8080/"
        },
        "id": "U4QIZ8-fJ94p",
        "outputId": "342aabc1-40eb-4749-80c9-e48d734fef43"
      },
      "execution_count": null,
      "outputs": [
        {
          "output_type": "stream",
          "name": "stdout",
          "text": [
            "||||||| GEN: 0 ||||||||\n",
            "best fitness: 1.1048502607594046e-13\n",
            "best_model: \n",
            "[3 140 'linear' 3 40 'linear' 'linear']\n",
            "ENTRENAMIENTO TERMINADO\n"
          ]
        }
      ]
    },
    {
      "cell_type": "code",
      "source": [
        "#bad_gen = initial_population[3]\n",
        "bad_model = create_model(X.shape[1:], Y.shape[1],[3 ,140 ,'linear' ,3, 40, 'linear', 'linear'], learning_rate=0.01)\n",
        "bad_model.summary()"
      ],
      "metadata": {
        "id": "wY_YlZo2Y98G",
        "colab": {
          "base_uri": "https://localhost:8080/"
        },
        "outputId": "cb4761d0-788d-4fb4-8d1a-4a4a0029ee7f"
      },
      "execution_count": null,
      "outputs": [
        {
          "output_type": "stream",
          "name": "stdout",
          "text": [
            "Model: \"model_815\"\n",
            "_________________________________________________________________\n",
            " Layer (type)                Output Shape              Param #   \n",
            "=================================================================\n",
            " input_819 (InputLayer)      [(None, 60, 5, 1)]        0         \n",
            "                                                                 \n",
            " dense_8930 (Dense)          (None, 60, 5, 140)        280       \n",
            "                                                                 \n",
            " dense_8931 (Dense)          (None, 60, 5, 140)        19740     \n",
            "                                                                 \n",
            " dense_8932 (Dense)          (None, 60, 5, 140)        19740     \n",
            "                                                                 \n",
            " dense_8933 (Dense)          (None, 60, 5, 40)         5640      \n",
            "                                                                 \n",
            " dense_8934 (Dense)          (None, 60, 5, 40)         1640      \n",
            "                                                                 \n",
            " dense_8935 (Dense)          (None, 60, 5, 40)         1640      \n",
            "                                                                 \n",
            " flatten_815 (Flatten)       (None, 12000)             0         \n",
            "                                                                 \n",
            " dense_8936 (Dense)          (None, 5)                 60005     \n",
            "                                                                 \n",
            "=================================================================\n",
            "Total params: 108,685\n",
            "Trainable params: 108,685\n",
            "Non-trainable params: 0\n",
            "_________________________________________________________________\n"
          ]
        }
      ]
    },
    {
      "cell_type": "code",
      "source": [
        "bad_h = bad_model.fit(X,Y, \n",
        "                  epochs=100, \n",
        "                  batch_size = 2, \n",
        "                  verbose=1)"
      ],
      "metadata": {
        "id": "3A4qax0JZj7H",
        "colab": {
          "base_uri": "https://localhost:8080/"
        },
        "outputId": "1041c0c3-5d7a-4daf-89a5-42b639a7986c"
      },
      "execution_count": null,
      "outputs": [
        {
          "output_type": "stream",
          "name": "stdout",
          "text": [
            "Epoch 1/100\n",
            "5/5 [==============================] - 1s 4ms/step - loss: 65.1737\n",
            "Epoch 2/100\n",
            "5/5 [==============================] - 0s 3ms/step - loss: 319.7189\n",
            "Epoch 3/100\n",
            "5/5 [==============================] - 0s 3ms/step - loss: 126.4436\n",
            "Epoch 4/100\n",
            "5/5 [==============================] - 0s 3ms/step - loss: 575.8555\n",
            "Epoch 5/100\n",
            "5/5 [==============================] - 0s 4ms/step - loss: 106.6437\n",
            "Epoch 6/100\n",
            "5/5 [==============================] - 0s 3ms/step - loss: 66.3602\n",
            "Epoch 7/100\n",
            "5/5 [==============================] - 0s 3ms/step - loss: 126.6811\n",
            "Epoch 8/100\n",
            "5/5 [==============================] - 0s 3ms/step - loss: 49.0451\n",
            "Epoch 9/100\n",
            "5/5 [==============================] - 0s 3ms/step - loss: 25.6737\n",
            "Epoch 10/100\n",
            "5/5 [==============================] - 0s 3ms/step - loss: 20.3301\n",
            "Epoch 11/100\n",
            "5/5 [==============================] - 0s 3ms/step - loss: 11.6698\n",
            "Epoch 12/100\n",
            "5/5 [==============================] - 0s 3ms/step - loss: 6.8697\n",
            "Epoch 13/100\n",
            "5/5 [==============================] - 0s 3ms/step - loss: 6.4257\n",
            "Epoch 14/100\n",
            "5/5 [==============================] - 0s 3ms/step - loss: 3.5240\n",
            "Epoch 15/100\n",
            "5/5 [==============================] - 0s 3ms/step - loss: 2.0356\n",
            "Epoch 16/100\n",
            "5/5 [==============================] - 0s 3ms/step - loss: 1.5238\n",
            "Epoch 17/100\n",
            "5/5 [==============================] - 0s 3ms/step - loss: 0.7102\n",
            "Epoch 18/100\n",
            "5/5 [==============================] - 0s 3ms/step - loss: 0.5955\n",
            "Epoch 19/100\n",
            "5/5 [==============================] - 0s 3ms/step - loss: 0.3358\n",
            "Epoch 20/100\n",
            "5/5 [==============================] - 0s 3ms/step - loss: 0.1383\n",
            "Epoch 21/100\n",
            "5/5 [==============================] - 0s 3ms/step - loss: 0.1744\n",
            "Epoch 22/100\n",
            "5/5 [==============================] - 0s 3ms/step - loss: 0.0625\n",
            "Epoch 23/100\n",
            "5/5 [==============================] - 0s 3ms/step - loss: 0.0806\n",
            "Epoch 24/100\n",
            "5/5 [==============================] - 0s 3ms/step - loss: 0.0421\n",
            "Epoch 25/100\n",
            "5/5 [==============================] - 0s 3ms/step - loss: 0.0249\n",
            "Epoch 26/100\n",
            "5/5 [==============================] - 0s 3ms/step - loss: 0.0223\n",
            "Epoch 27/100\n",
            "5/5 [==============================] - 0s 3ms/step - loss: 0.0183\n",
            "Epoch 28/100\n",
            "5/5 [==============================] - 0s 3ms/step - loss: 0.0047\n",
            "Epoch 29/100\n",
            "5/5 [==============================] - 0s 3ms/step - loss: 0.0063\n",
            "Epoch 30/100\n",
            "5/5 [==============================] - 0s 3ms/step - loss: 0.0032\n",
            "Epoch 31/100\n",
            "5/5 [==============================] - 0s 3ms/step - loss: 0.0030\n",
            "Epoch 32/100\n",
            "5/5 [==============================] - 0s 3ms/step - loss: 0.0036\n",
            "Epoch 33/100\n",
            "5/5 [==============================] - 0s 3ms/step - loss: 0.0018\n",
            "Epoch 34/100\n",
            "5/5 [==============================] - 0s 3ms/step - loss: 0.0014\n",
            "Epoch 35/100\n",
            "5/5 [==============================] - 0s 3ms/step - loss: 5.0106e-04\n",
            "Epoch 36/100\n",
            "5/5 [==============================] - 0s 3ms/step - loss: 6.2107e-04\n",
            "Epoch 37/100\n",
            "5/5 [==============================] - 0s 3ms/step - loss: 2.4009e-04\n",
            "Epoch 38/100\n",
            "5/5 [==============================] - 0s 3ms/step - loss: 2.1829e-04\n",
            "Epoch 39/100\n",
            "5/5 [==============================] - 0s 4ms/step - loss: 1.3248e-04\n",
            "Epoch 40/100\n",
            "5/5 [==============================] - 0s 3ms/step - loss: 3.9405e-05\n",
            "Epoch 41/100\n",
            "5/5 [==============================] - 0s 3ms/step - loss: 7.7260e-05\n",
            "Epoch 42/100\n",
            "5/5 [==============================] - 0s 3ms/step - loss: 4.0064e-05\n",
            "Epoch 43/100\n",
            "5/5 [==============================] - 0s 3ms/step - loss: 3.5700e-05\n",
            "Epoch 44/100\n",
            "5/5 [==============================] - 0s 3ms/step - loss: 1.2093e-05\n",
            "Epoch 45/100\n",
            "5/5 [==============================] - 0s 3ms/step - loss: 2.4306e-05\n",
            "Epoch 46/100\n",
            "5/5 [==============================] - 0s 3ms/step - loss: 2.2374e-05\n",
            "Epoch 47/100\n",
            "5/5 [==============================] - 0s 4ms/step - loss: 8.7629e-06\n",
            "Epoch 48/100\n",
            "5/5 [==============================] - 0s 3ms/step - loss: 1.4987e-05\n",
            "Epoch 49/100\n",
            "5/5 [==============================] - 0s 4ms/step - loss: 1.9991e-05\n",
            "Epoch 50/100\n",
            "5/5 [==============================] - 0s 4ms/step - loss: 1.9659e-05\n",
            "Epoch 51/100\n",
            "5/5 [==============================] - 0s 4ms/step - loss: 1.0967e-05\n",
            "Epoch 52/100\n",
            "5/5 [==============================] - 0s 4ms/step - loss: 6.1609e-06\n",
            "Epoch 53/100\n",
            "5/5 [==============================] - 0s 3ms/step - loss: 1.2643e-05\n",
            "Epoch 54/100\n",
            "5/5 [==============================] - 0s 3ms/step - loss: 1.5537e-05\n",
            "Epoch 55/100\n",
            "5/5 [==============================] - 0s 3ms/step - loss: 1.8638e-05\n",
            "Epoch 56/100\n",
            "5/5 [==============================] - 0s 4ms/step - loss: 2.8015e-05\n",
            "Epoch 57/100\n",
            "5/5 [==============================] - 0s 4ms/step - loss: 1.5256e-05\n",
            "Epoch 58/100\n",
            "5/5 [==============================] - 0s 3ms/step - loss: 1.4666e-05\n",
            "Epoch 59/100\n",
            "5/5 [==============================] - 0s 4ms/step - loss: 1.3435e-05\n",
            "Epoch 60/100\n",
            "5/5 [==============================] - 0s 4ms/step - loss: 8.4109e-06\n",
            "Epoch 61/100\n",
            "5/5 [==============================] - 0s 4ms/step - loss: 6.9046e-06\n",
            "Epoch 62/100\n",
            "5/5 [==============================] - 0s 4ms/step - loss: 8.7012e-06\n",
            "Epoch 63/100\n",
            "5/5 [==============================] - 0s 4ms/step - loss: 1.7944e-05\n",
            "Epoch 64/100\n",
            "5/5 [==============================] - 0s 3ms/step - loss: 2.0296e-05\n",
            "Epoch 65/100\n",
            "5/5 [==============================] - 0s 3ms/step - loss: 1.4821e-05\n",
            "Epoch 66/100\n",
            "5/5 [==============================] - 0s 4ms/step - loss: 5.7225e-06\n",
            "Epoch 67/100\n",
            "5/5 [==============================] - 0s 4ms/step - loss: 3.7150e-06\n",
            "Epoch 68/100\n",
            "5/5 [==============================] - 0s 5ms/step - loss: 4.7655e-06\n",
            "Epoch 69/100\n",
            "5/5 [==============================] - 0s 3ms/step - loss: 3.0020e-06\n",
            "Epoch 70/100\n",
            "5/5 [==============================] - 0s 4ms/step - loss: 2.1114e-06\n",
            "Epoch 71/100\n",
            "5/5 [==============================] - 0s 3ms/step - loss: 1.6171e-06\n",
            "Epoch 72/100\n",
            "5/5 [==============================] - 0s 3ms/step - loss: 2.8316e-06\n",
            "Epoch 73/100\n",
            "5/5 [==============================] - 0s 3ms/step - loss: 2.3697e-06\n",
            "Epoch 74/100\n",
            "5/5 [==============================] - 0s 3ms/step - loss: 2.8101e-06\n",
            "Epoch 75/100\n",
            "5/5 [==============================] - 0s 4ms/step - loss: 2.4879e-06\n",
            "Epoch 76/100\n",
            "5/5 [==============================] - 0s 3ms/step - loss: 2.3501e-06\n",
            "Epoch 77/100\n",
            "5/5 [==============================] - 0s 3ms/step - loss: 1.0712e-06\n",
            "Epoch 78/100\n",
            "5/5 [==============================] - 0s 3ms/step - loss: 6.9454e-07\n",
            "Epoch 79/100\n",
            "5/5 [==============================] - 0s 3ms/step - loss: 2.6917e-07\n",
            "Epoch 80/100\n",
            "5/5 [==============================] - 0s 5ms/step - loss: 4.6669e-07\n",
            "Epoch 81/100\n",
            "5/5 [==============================] - 0s 3ms/step - loss: 4.4873e-07\n",
            "Epoch 82/100\n",
            "5/5 [==============================] - 0s 4ms/step - loss: 3.3048e-07\n",
            "Epoch 83/100\n",
            "5/5 [==============================] - 0s 4ms/step - loss: 1.8213e-07\n",
            "Epoch 84/100\n",
            "5/5 [==============================] - 0s 3ms/step - loss: 9.1793e-08\n",
            "Epoch 85/100\n",
            "5/5 [==============================] - 0s 3ms/step - loss: 1.4543e-07\n",
            "Epoch 86/100\n",
            "5/5 [==============================] - 0s 3ms/step - loss: 2.0227e-07\n",
            "Epoch 87/100\n",
            "5/5 [==============================] - 0s 4ms/step - loss: 2.3267e-07\n",
            "Epoch 88/100\n",
            "5/5 [==============================] - 0s 4ms/step - loss: 4.9311e-07\n",
            "Epoch 89/100\n",
            "5/5 [==============================] - 0s 4ms/step - loss: 5.7118e-07\n",
            "Epoch 90/100\n",
            "5/5 [==============================] - 0s 3ms/step - loss: 3.2676e-07\n",
            "Epoch 91/100\n",
            "5/5 [==============================] - 0s 3ms/step - loss: 5.3571e-07\n",
            "Epoch 92/100\n",
            "5/5 [==============================] - 0s 4ms/step - loss: 1.2255e-06\n",
            "Epoch 93/100\n",
            "5/5 [==============================] - 0s 4ms/step - loss: 2.3778e-06\n",
            "Epoch 94/100\n",
            "5/5 [==============================] - 0s 3ms/step - loss: 4.0118e-06\n",
            "Epoch 95/100\n",
            "5/5 [==============================] - 0s 3ms/step - loss: 4.2823e-06\n",
            "Epoch 96/100\n",
            "5/5 [==============================] - 0s 4ms/step - loss: 2.8654e-06\n",
            "Epoch 97/100\n",
            "5/5 [==============================] - 0s 4ms/step - loss: 4.6597e-06\n",
            "Epoch 98/100\n",
            "5/5 [==============================] - 0s 4ms/step - loss: 5.2891e-06\n",
            "Epoch 99/100\n",
            "5/5 [==============================] - 0s 4ms/step - loss: 4.3944e-06\n",
            "Epoch 100/100\n",
            "5/5 [==============================] - 0s 3ms/step - loss: 3.0535e-06\n"
          ]
        }
      ]
    },
    {
      "cell_type": "code",
      "source": [
        "plt.plot(bad_h.history['loss'])"
      ],
      "metadata": {
        "id": "n4Dx6gkOZCKj",
        "colab": {
          "base_uri": "https://localhost:8080/",
          "height": 451
        },
        "outputId": "e034643a-b2e9-4395-a313-7678c2bdf9c2"
      },
      "execution_count": null,
      "outputs": [
        {
          "output_type": "execute_result",
          "data": {
            "text/plain": [
              "[<matplotlib.lines.Line2D at 0x7f3f4b5b4430>]"
            ]
          },
          "metadata": {},
          "execution_count": 137
        },
        {
          "output_type": "display_data",
          "data": {
            "text/plain": [
              "<Figure size 640x480 with 1 Axes>"
            ],
            "image/png": "[encoded data removed]"
          },
          "metadata": {}
        }
      ]
    },
    {
      "cell_type": "code",
      "source": [
        "\"\"\"\n",
        "initial_population = gen_population(n_pop = 4)\n",
        "fitness_function_keras = Fitness_function_keras(X, Y , epochs = 1, batch_size = 1)\n",
        "selection = Selection_function(number_of_couples = 1 )\n",
        "n_immigration_function = 2\n",
        "\n",
        "geneticAlgorithm = GeneticAlgorithm(\n",
        "                 initial_population = initial_population, \n",
        "                 fitness_function = fitness_function_keras.run, \n",
        "                 selection_function = selection.tournament_selection, \n",
        "                 crossover_function = easy_crossover, # uniform_crossover\n",
        "                 mutation_function = mutation, \n",
        "                 immigration_function = gen_population(n_pop = n_immigration_function),  \n",
        "                 n_generations = 1,\n",
        "                 n_save_best_population = 1\n",
        "                 )\n",
        "\n",
        "geneticAlgorithm.run()\n",
        "\"\"\""
      ],
      "metadata": {
        "id": "R2P1Pi5PEc3k"
      },
      "execution_count": null,
      "outputs": []
    }
  ]
}