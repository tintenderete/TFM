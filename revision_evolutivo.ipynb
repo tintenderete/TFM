{
  "nbformat": 4,
  "nbformat_minor": 0,
  "metadata": {
    "colab": {
      "provenance": [],
      "toc_visible": true,
      "authorship_tag": "ABX9TyN+nfb7JyyoyIc9K8T/WH6R",
      "include_colab_link": true
    },
    "kernelspec": {
      "name": "python3",
      "display_name": "Python 3"
    },
    "language_info": {
      "name": "python"
    }
  },
  "cells": [
    {
      "cell_type": "markdown",
      "metadata": {
        "id": "view-in-github",
        "colab_type": "text"
      },
      "source": [
        "<a href=\"https://colab.research.google.com/github/tintenderete/TFM-Algoritmo-con-redes-evolutivas/blob/main/revision_evolutivo.ipynb\" target=\"_parent\"><img src=\"https://colab.research.google.com/assets/colab-badge.svg\" alt=\"Open In Colab\"/></a>"
      ]
    },
    {
      "cell_type": "code",
      "source": [
        "import numpy as np\n",
        "import pandas as pd\n",
        "\n",
        "import keras\n",
        "import tensorflow as tf\n",
        "\n",
        "from tensorflow.keras.layers import ConvLSTM1D, Dense, Conv2D, LSTM, GRU, Reshape \n",
        "from tensorflow.keras.layers import ConvLSTM2D, Conv3D, TimeDistributed, Flatten\n"
      ],
      "metadata": {
        "id": "jdHeyNdzRzlq"
      },
      "execution_count": 1,
      "outputs": []
    },
    {
      "cell_type": "code",
      "execution_count": 2,
      "metadata": {
        "id": "QUzNduRP_iHa"
      },
      "outputs": [],
      "source": [
        "\n",
        "\n",
        "# Parámetros\n",
        "num_dias = 100\n",
        "num_periodos = 60\n",
        "num_activos = 5\n",
        "num_canales = 2\n",
        "\n",
        "# Crear datos aleatorios para X\n",
        "X = np.random.uniform(low=-1, high=1, size=(num_dias, num_periodos, num_activos, num_canales))\n",
        "\n",
        "# Aplicar las transformaciones a los activos 1 y 2\n",
        "X[:, :, 0, 0] *= 2  # Multiplicar los precios del canal 1 del activo 1 por 2\n",
        "X[:, :, 1, 0] /= 2  # Dividir los precios del canal 1 del activo 2 entre 2\n",
        "\n",
        "# Crear la etiqueta Y como el cumsum del canal 1\n",
        "Y = np.sum(X[:, :, :, 0], axis=1)\n"
      ]
    },
    {
      "cell_type": "code",
      "source": [
        "X.shape, Y.shape"
      ],
      "metadata": {
        "colab": {
          "base_uri": "https://localhost:8080/"
        },
        "id": "_SLHem_ECCeU",
        "outputId": "3023b43f-d0a7-49cf-d195-53ab3438cc9e"
      },
      "execution_count": 3,
      "outputs": [
        {
          "output_type": "execute_result",
          "data": {
            "text/plain": [
              "((100, 60, 5, 2), (100, 5))"
            ]
          },
          "metadata": {},
          "execution_count": 3
        }
      ]
    },
    {
      "cell_type": "markdown",
      "source": [
        "# Funcion listas"
      ],
      "metadata": {
        "id": "5lw2OjM-HQHy"
      }
    },
    {
      "cell_type": "code",
      "source": [
        "def get_ranking(Y):\n",
        "  Y_ranking = np.zeros_like(Y, dtype=int)\n",
        "\n",
        "  for i in range(Y.shape[0]):\n",
        "      Y_ranking[i] = np.argsort(np.argsort(-Y[i]))\n",
        "\n",
        "  return Y_ranking"
      ],
      "metadata": {
        "id": "BAYLgJ7cHVwc"
      },
      "execution_count": 4,
      "outputs": []
    },
    {
      "cell_type": "code",
      "source": [
        "Y[0:4],get_ranking(Y[0:4])"
      ],
      "metadata": {
        "colab": {
          "base_uri": "https://localhost:8080/"
        },
        "id": "41nN9kzSHjkQ",
        "outputId": "69dd1860-1bdd-4dc0-82fb-11c3784bafdd"
      },
      "execution_count": 5,
      "outputs": [
        {
          "output_type": "execute_result",
          "data": {
            "text/plain": [
              "(array([[-13.71948768,  -0.83978485,   1.7708815 ,   2.38898778,\n",
              "          -1.42213321],\n",
              "        [-18.18264129,  -1.53352565,   5.00503963,  -1.24712711,\n",
              "          -3.71935263],\n",
              "        [  3.98959612,   4.56187636,   0.69985654,  -6.81714206,\n",
              "          -3.17337995],\n",
              "        [ 11.75903529,  -2.74608801,  -3.64006405,  -0.88683618,\n",
              "           8.7359875 ]]),\n",
              " array([[4, 2, 1, 0, 3],\n",
              "        [4, 2, 0, 1, 3],\n",
              "        [1, 0, 2, 4, 3],\n",
              "        [0, 3, 4, 2, 1]]))"
            ]
          },
          "metadata": {},
          "execution_count": 5
        }
      ]
    },
    {
      "cell_type": "markdown",
      "source": [
        "# GeneticAlgorithm"
      ],
      "metadata": {
        "id": "JoLip2tGJHLZ"
      }
    },
    {
      "cell_type": "code",
      "source": [
        "class GeneticAlgorithm:\n",
        "    def __init__(self, \n",
        "                 initial_population, \n",
        "                 fitness_function, \n",
        "                 selection_function, \n",
        "                 crossover_function, \n",
        "                 mutation_function, \n",
        "                 immigration_function,  \n",
        "                 n_generations,\n",
        "                 n_save_best_population):\n",
        "        self.population = initial_population\n",
        "        self.fitness_function = fitness_function\n",
        "        self.selection_function = selection_function\n",
        "        self.crossover_function = crossover_function\n",
        "        self.mutation_function = mutation_function\n",
        "        self.immigration_function = immigration_function \n",
        "        self.n_generations = n_generations\n",
        "        self.n_save_best_population = n_save_best_population\n",
        "\n",
        "    def run(self):\n",
        "        for i in range(self.n_generations):\n",
        "            fitness = self.fitness_function(self.population)\n",
        "            best_population = self._get_best_population(self.population,  fitness)\n",
        "            parents = self.selection_function(self.population, fitness)\n",
        "            offspring = self.crossover_function(parents)\n",
        "            offspring = self.mutation_function(offspring)\n",
        "            self.population = np.concatenate((parents, offspring))\n",
        "\n",
        "            immigration = self.immigration_function(self.population)  \n",
        "            self.population = np.concatenate((self.population, immigration))\n",
        "\n",
        "            if(len(best_population)>0):\n",
        "              self.population = np.concatenate((self.population, best_population))\n",
        "\n",
        "        # Devuelve la mejor solución encontrada\n",
        "        fitness = self.fitness_function(self.population)\n",
        "        best_idx = np.argmax(fitness)\n",
        "        return self.population[best_idx]\n",
        "\n",
        "    def _get_best_population(self,population,  fitness):\n",
        "      idx_best_pop = np.argsort(fitness)[::1][:self.n_save_best_population]\n",
        "\n",
        "      return np.array(population)[idx_best_pop]\n"
      ],
      "metadata": {
        "id": "wyzyGpwXG-hb"
      },
      "execution_count": 335,
      "outputs": []
    },
    {
      "cell_type": "code",
      "source": [
        "pop = [[1,1],[2,2],[10,10],[11,11],[20,20],[30,30],[40,40] ]\n",
        "fitness = np.array([1,2,10,11, 20,0,40])"
      ],
      "metadata": {
        "id": "txDGJnuxu7Ni"
      },
      "execution_count": 339,
      "outputs": []
    },
    {
      "cell_type": "code",
      "source": [
        "geneticAlgorithm = GeneticAlgorithm(1,2,3,4,5,6,7,save_best_population_num = 3)"
      ],
      "metadata": {
        "id": "z1by3eqqwnct"
      },
      "execution_count": 340,
      "outputs": []
    },
    {
      "cell_type": "code",
      "source": [
        "geneticAlgorithm._get_best_population(pop,fitness)"
      ],
      "metadata": {
        "colab": {
          "base_uri": "https://localhost:8080/"
        },
        "id": "8kBPeu8Gw1Oq",
        "outputId": "367c0aa4-6c51-4284-cca4-151b7d0f8866"
      },
      "execution_count": 341,
      "outputs": [
        {
          "output_type": "execute_result",
          "data": {
            "text/plain": [
              "array([[30, 30],\n",
              "       [ 1,  1],\n",
              "       [ 2,  2]])"
            ]
          },
          "metadata": {},
          "execution_count": 341
        }
      ]
    },
    {
      "cell_type": "markdown",
      "source": [
        "# Population_factory"
      ],
      "metadata": {
        "id": "7YnfkcZYJJrL"
      }
    },
    {
      "cell_type": "code",
      "source": [
        "class Population_factory():\n",
        "  def __init__(self, layers_length, activations_length, \n",
        "               num_individuos, gen_length, num_genes, \n",
        "               min_range_units, max_range_units, min_range_kernel, max_range_kernel  ):\n",
        "    self.layers_length = layers_length\n",
        "    self.activations_length = activations_length\n",
        "\n",
        "    self.num_individuos = num_individuos\n",
        "    self.num_genes = num_genes\n",
        "    self.gen_length = gen_length\n",
        "    self.size_chromosome = self.gen_length * self.num_genes\n",
        "\n",
        "    self.min_range_units = min_range_units\n",
        "    self.max_range_units = max_range_units\n",
        "    self.min_range_kernel = min_range_kernel\n",
        "    self.max_range_kernel = max_range_kernel\n",
        "    \n",
        "  def run(self):\n",
        "    layers_random = np.random.randint(-1, self.layers_length, (self.num_individuos, self.num_genes))\n",
        "    activations_random = np.random.randint(0, self.activations_length , (self.num_individuos, self.num_genes))\n",
        "    units_random = np.random.randint(self.min_range_units, self.max_range_units, (self.num_individuos, self.num_genes))\n",
        "    kernels_size_random = np.random.randint(self.min_range_kernel, self.max_range_kernel, (self.num_individuos, self.num_genes))\n",
        "\n",
        "    individuos = np.zeros((self.num_individuos, self.size_chromosome), dtype=int)\n",
        "    individuos[:,::self.gen_length ] = layers_random\n",
        "    individuos[:,1::self.gen_length] = activations_random\n",
        "    individuos[:,2::self.gen_length] = units_random\n",
        "    individuos[:,3::self.gen_length] = kernels_size_random\n",
        "\n",
        "    return individuos\n",
        "\n",
        "    "
      ],
      "metadata": {
        "id": "rqb5AfnHHI4G"
      },
      "execution_count": 7,
      "outputs": []
    },
    {
      "cell_type": "code",
      "source": [
        "population_factory = Population_factory(\n",
        "                layers_length = 10, activations_length = 3, \n",
        "                num_individuos = 10, gen_length = 4, num_genes = 4, \n",
        "                min_range_units = 1, max_range_units = 100, min_range_kernel = 2, max_range_kernel = 4 )\n",
        "\n",
        "pop = population_factory.run()\n",
        "print(pop.shape)\n",
        "print(pop)"
      ],
      "metadata": {
        "colab": {
          "base_uri": "https://localhost:8080/"
        },
        "id": "9NYirjGyO7xM",
        "outputId": "5050d107-af76-49b9-e6c2-069e89f56333"
      },
      "execution_count": 8,
      "outputs": [
        {
          "output_type": "stream",
          "name": "stdout",
          "text": [
            "(10, 16)\n",
            "[[ 6  1 73  3  7  1 87  2  2  1 30  3  1  2 45  2]\n",
            " [ 2  0 80  3 -1  0 98  3  0  2 90  3  5  2 81  2]\n",
            " [ 7  0  4  3  8  0 38  2  4  0 45  2  4  0 30  2]\n",
            " [ 3  1  6  2  3  2 45  2  3  1 20  2  8  2  4  2]\n",
            " [ 4  2 97  3  2  1 17  2  3  0 21  2  3  2 34  2]\n",
            " [ 5  0 46  3  6  2 28  3  5  0 25  2  4  1 48  2]\n",
            " [ 6  0 20  3  6  2 59  2  0  0 26  3  5  0 29  2]\n",
            " [ 3  0 40  3  3  2 38  2  5  0 67  3  7  0 87  2]\n",
            " [ 1  1 36  2  6  1 82  2  3  1 37  2  2  1 81  2]\n",
            " [ 4  2 16  2  7  0 47  2  5  0 57  2  1  1 69  2]]\n"
          ]
        }
      ]
    },
    {
      "cell_type": "markdown",
      "source": [
        "# Models factory"
      ],
      "metadata": {
        "id": "64ec8r0tQzv6"
      }
    },
    {
      "cell_type": "code",
      "source": [
        "class Models_factory():\n",
        "  def __init__(self, layers = [], layers_dims = [], activations = [], gen_length = 0, funcion_fitness = 'mse', learning_rate = 0.1, activation_output = 'relu' ):\n",
        "    \n",
        "    if layers == []:\n",
        "      self.layers, self.layers_dims = self.default_layers()\n",
        "    else:\n",
        "      self.layers = layers\n",
        "      self.layers_dims = layers_dims\n",
        "\n",
        "    if activations == []:\n",
        "      self.activations = self.default_activations()\n",
        "    else:\n",
        "      self.activations = activations\n",
        "\n",
        "    self.gen_length = gen_length\n",
        "    self.funcion_fitness = funcion_fitness \n",
        "    self.learning_rate = learning_rate \n",
        "    self.activation_output = activation_output\n",
        "\n",
        "  def default_layers(self):\n",
        "    layers = []\n",
        "    layers_dims = []\n",
        "\n",
        "    layers.append( lambda info : Dense(  activation=self.activations[info[0]],   units=info[1] ))\n",
        "    layers_dims.append(-1)\n",
        "\n",
        "    layers.append( lambda info : LSTM(                                           units=info[1] ))\n",
        "    layers_dims.append(3)\n",
        "\n",
        "    layers.append( lambda info : GRU(                                            units=info[1] ))\n",
        "    layers_dims.append(3)\n",
        "\n",
        "    return layers, layers_dims\n",
        "\n",
        "  def default_activations(self):\n",
        "    activations = []\n",
        "\n",
        "    activations.append('relu')\n",
        "    activations.append('sigmoid')\n",
        "\n",
        "    return activations\n",
        "\n",
        "  \n",
        "  def increase_dimensions(self, model):\n",
        "    return tuple( tf.expand_dims(model, axis=-1).shape[1:].as_list() )\n",
        "\n",
        "  def reduce_dimensions(self, shape):\n",
        "    d = list(shape[1:])\n",
        "    new_shape = d[:-2] + [d[-2] * d[-1]]\n",
        "    return tuple(new_shape)\n",
        "\n",
        "  def run(self, individuos):\n",
        "    models = []\n",
        "\n",
        "    for ind in individuos:\n",
        "      \n",
        "      # Creamos un nuevo modelo para nuestro individuo\n",
        "      inputs = keras.Input(shape=(X.shape[1:]))\n",
        "      m = inputs\n",
        "      ############################################################################\n",
        "\n",
        "      for i in range(0, len(ind), self.gen_length ):\n",
        "\n",
        "        # Guardamos el gen entero\n",
        "        gen = ind[i:i+self.gen_length ]\n",
        "        \n",
        "        ############################################################################\n",
        "\n",
        "        if gen[0] != -1:\n",
        "          \n",
        "          # Creamos el nuevo layer\n",
        "          tipo_layer = gen[0]\n",
        "          info = gen[1:]\n",
        "          new_layer = self.layers[tipo_layer](info)\n",
        "          dim_layer = self.layers_dims[tipo_layer]\n",
        "          ############################################################################\n",
        "\n",
        "          # Observamos si el output actual del modelo es compatible con la nueva layer #\n",
        "          current_m_dim = len(m.shape) \n",
        "          new_layer_dim = current_m_dim if dim_layer == -1 else dim_layer \n",
        "          diferencia = new_layer_dim - current_m_dim\n",
        "          ############################################################################\n",
        "\n",
        "          # Hacemos los reshapes necesarios para hacer compatible las dos layers #\n",
        "          while diferencia != 0:\n",
        "            \n",
        "            if diferencia > 0:\n",
        "              new_d = self.increase_dimensions(m)\n",
        "              m = Reshape(new_d)(m)\n",
        "            elif diferencia < 0:\n",
        "              new_d = self.reduce_dimensions(m.shape)\n",
        "              m = Reshape(new_d)(m)\n",
        "            # recalculamos el output dentro del while para iterar todas las veces necesarias\n",
        "            current_m_dim = len(m.shape) \n",
        "            new_layer_dim = current_m_dim if dim_layer == -1 else dim_layer \n",
        "            diferencia = new_layer_dim - current_m_dim\n",
        "          ##############################################################################\n",
        "\n",
        "          # Añadimos el nuevo layer al modelo #\n",
        "          m = new_layer(m)\n",
        "          ##############################################################################\n",
        "        else:\n",
        "          break\n",
        "\n",
        "      # Una vez recorridos todos los genes compilamos el modelo #\n",
        "      m = Flatten()(m)\n",
        "      outputs = Dense(Y.shape[1], activation = self.activation_output)(m)\n",
        "      model = keras.Model(inputs=inputs, outputs=outputs)\n",
        "      model.compile(\n",
        "        loss=self.funcion_fitness,\n",
        "        optimizer=keras.optimizers.Adam(learning_rate=self.learning_rate),\n",
        "        metrics=[\"accuracy\"],\n",
        "      )\n",
        "\n",
        "      models.append(model)\n",
        "      ##############################################################################\n",
        "\n",
        "    return models"
      ],
      "metadata": {
        "id": "kzeNdkz8Q1LP"
      },
      "execution_count": 359,
      "outputs": []
    },
    {
      "cell_type": "code",
      "source": [
        "models_factory = Models_factory(gen_length = 4)"
      ],
      "metadata": {
        "id": "2YS3f-xtX9I5"
      },
      "execution_count": 10,
      "outputs": []
    },
    {
      "cell_type": "code",
      "source": [
        "population_factory = Population_factory(\n",
        "                layers_length = len(models_factory.layers), activations_length = len(models_factory.activations), \n",
        "                num_individuos = 10, gen_length = 4, num_genes = 4, \n",
        "                min_range_units = 1, max_range_units = 100, min_range_kernel = 2, max_range_kernel = 4 )\n",
        "\n",
        "pop = population_factory.run()"
      ],
      "metadata": {
        "id": "ahhMPb-jXFx1"
      },
      "execution_count": 11,
      "outputs": []
    },
    {
      "cell_type": "code",
      "source": [
        "pop"
      ],
      "metadata": {
        "colab": {
          "base_uri": "https://localhost:8080/"
        },
        "id": "R2ORIAXcXsF-",
        "outputId": "2529f4f6-faa9-44cf-b400-2695c1fb41e5"
      },
      "execution_count": 12,
      "outputs": [
        {
          "output_type": "execute_result",
          "data": {
            "text/plain": [
              "array([[ 2,  0, 50,  2,  1,  0, 52,  2,  0,  0, 49,  2,  1,  1, 41,  2],\n",
              "       [ 0,  0, 79,  2,  1,  1, 62,  3,  2,  1, 43,  2, -1,  1, 45,  2],\n",
              "       [ 0,  1, 54,  3, -1,  0, 58,  2,  2,  1, 94,  2,  1,  1, 79,  2],\n",
              "       [ 1,  0, 44,  3, -1,  0, 69,  2,  0,  1, 14,  3, -1,  1, 77,  3],\n",
              "       [ 0,  1, 97,  3,  2,  1, 54,  2,  1,  0, 17,  3,  1,  1, 91,  2],\n",
              "       [ 1,  0, 62,  2, -1,  1, 99,  2,  1,  0, 55,  3, -1,  0, 19,  2],\n",
              "       [ 0,  0,  7,  2,  1,  1,  9,  2,  1,  0, 76,  2,  1,  0, 84,  3],\n",
              "       [ 2,  1,  5,  3,  1,  1, 36,  2,  2,  1, 82,  3,  0,  0, 87,  3],\n",
              "       [-1,  1, 69,  3,  1,  1, 72,  2,  2,  0, 69,  2,  1,  0, 54,  2],\n",
              "       [ 1,  0, 46,  3,  2,  1, 61,  2,  2,  1, 23,  3, -1,  0, 78,  3]])"
            ]
          },
          "metadata": {},
          "execution_count": 12
        }
      ]
    },
    {
      "cell_type": "code",
      "source": [
        "pop_models = models_factory.run(individuos = pop)"
      ],
      "metadata": {
        "id": "Pt43CDOfXMAu"
      },
      "execution_count": 13,
      "outputs": []
    },
    {
      "cell_type": "code",
      "source": [
        "for m in pop_models:\n",
        "  m.summary()"
      ],
      "metadata": {
        "colab": {
          "base_uri": "https://localhost:8080/"
        },
        "id": "WWZfOsGiYSVC",
        "outputId": "3c4fdb44-8854-4fa2-a0b9-27ee1147b772"
      },
      "execution_count": 14,
      "outputs": [
        {
          "output_type": "stream",
          "name": "stdout",
          "text": [
            "Model: \"model\"\n",
            "_________________________________________________________________\n",
            " Layer (type)                Output Shape              Param #   \n",
            "=================================================================\n",
            " input_1 (InputLayer)        [(None, 60, 5, 2)]        0         \n",
            "                                                                 \n",
            " reshape (Reshape)           (None, 60, 10)            0         \n",
            "                                                                 \n",
            " gru (GRU)                   (None, 50)                9300      \n",
            "                                                                 \n",
            " reshape_1 (Reshape)         (None, 50, 1)             0         \n",
            "                                                                 \n",
            " lstm (LSTM)                 (None, 52)                11232     \n",
            "                                                                 \n",
            " dense (Dense)               (None, 49)                2597      \n",
            "                                                                 \n",
            " reshape_2 (Reshape)         (None, 49, 1)             0         \n",
            "                                                                 \n",
            " lstm_1 (LSTM)               (None, 41)                7052      \n",
            "                                                                 \n",
            " flatten (Flatten)           (None, 41)                0         \n",
            "                                                                 \n",
            " dense_1 (Dense)             (None, 5)                 210       \n",
            "                                                                 \n",
            "=================================================================\n",
            "Total params: 30,391\n",
            "Trainable params: 30,391\n",
            "Non-trainable params: 0\n",
            "_________________________________________________________________\n",
            "Model: \"model_1\"\n",
            "_________________________________________________________________\n",
            " Layer (type)                Output Shape              Param #   \n",
            "=================================================================\n",
            " input_2 (InputLayer)        [(None, 60, 5, 2)]        0         \n",
            "                                                                 \n",
            " dense_2 (Dense)             (None, 60, 5, 79)         237       \n",
            "                                                                 \n",
            " reshape_3 (Reshape)         (None, 60, 395)           0         \n",
            "                                                                 \n",
            " lstm_2 (LSTM)               (None, 62)                113584    \n",
            "                                                                 \n",
            " reshape_4 (Reshape)         (None, 62, 1)             0         \n",
            "                                                                 \n",
            " gru_1 (GRU)                 (None, 43)                5934      \n",
            "                                                                 \n",
            " flatten_1 (Flatten)         (None, 43)                0         \n",
            "                                                                 \n",
            " dense_3 (Dense)             (None, 5)                 220       \n",
            "                                                                 \n",
            "=================================================================\n",
            "Total params: 119,975\n",
            "Trainable params: 119,975\n",
            "Non-trainable params: 0\n",
            "_________________________________________________________________\n",
            "Model: \"model_2\"\n",
            "_________________________________________________________________\n",
            " Layer (type)                Output Shape              Param #   \n",
            "=================================================================\n",
            " input_3 (InputLayer)        [(None, 60, 5, 2)]        0         \n",
            "                                                                 \n",
            " dense_4 (Dense)             (None, 60, 5, 54)         162       \n",
            "                                                                 \n",
            " flatten_2 (Flatten)         (None, 16200)             0         \n",
            "                                                                 \n",
            " dense_5 (Dense)             (None, 5)                 81005     \n",
            "                                                                 \n",
            "=================================================================\n",
            "Total params: 81,167\n",
            "Trainable params: 81,167\n",
            "Non-trainable params: 0\n",
            "_________________________________________________________________\n",
            "Model: \"model_3\"\n",
            "_________________________________________________________________\n",
            " Layer (type)                Output Shape              Param #   \n",
            "=================================================================\n",
            " input_4 (InputLayer)        [(None, 60, 5, 2)]        0         \n",
            "                                                                 \n",
            " reshape_5 (Reshape)         (None, 60, 10)            0         \n",
            "                                                                 \n",
            " lstm_3 (LSTM)               (None, 44)                9680      \n",
            "                                                                 \n",
            " flatten_3 (Flatten)         (None, 44)                0         \n",
            "                                                                 \n",
            " dense_6 (Dense)             (None, 5)                 225       \n",
            "                                                                 \n",
            "=================================================================\n",
            "Total params: 9,905\n",
            "Trainable params: 9,905\n",
            "Non-trainable params: 0\n",
            "_________________________________________________________________\n",
            "Model: \"model_4\"\n",
            "_________________________________________________________________\n",
            " Layer (type)                Output Shape              Param #   \n",
            "=================================================================\n",
            " input_5 (InputLayer)        [(None, 60, 5, 2)]        0         \n",
            "                                                                 \n",
            " dense_7 (Dense)             (None, 60, 5, 97)         291       \n",
            "                                                                 \n",
            " reshape_6 (Reshape)         (None, 60, 485)           0         \n",
            "                                                                 \n",
            " gru_2 (GRU)                 (None, 54)                87642     \n",
            "                                                                 \n",
            " reshape_7 (Reshape)         (None, 54, 1)             0         \n",
            "                                                                 \n",
            " lstm_4 (LSTM)               (None, 17)                1292      \n",
            "                                                                 \n",
            " reshape_8 (Reshape)         (None, 17, 1)             0         \n",
            "                                                                 \n",
            " lstm_5 (LSTM)               (None, 91)                33852     \n",
            "                                                                 \n",
            " flatten_4 (Flatten)         (None, 91)                0         \n",
            "                                                                 \n",
            " dense_8 (Dense)             (None, 5)                 460       \n",
            "                                                                 \n",
            "=================================================================\n",
            "Total params: 123,537\n",
            "Trainable params: 123,537\n",
            "Non-trainable params: 0\n",
            "_________________________________________________________________\n",
            "Model: \"model_5\"\n",
            "_________________________________________________________________\n",
            " Layer (type)                Output Shape              Param #   \n",
            "=================================================================\n",
            " input_6 (InputLayer)        [(None, 60, 5, 2)]        0         \n",
            "                                                                 \n",
            " reshape_9 (Reshape)         (None, 60, 10)            0         \n",
            "                                                                 \n",
            " lstm_6 (LSTM)               (None, 62)                18104     \n",
            "                                                                 \n",
            " flatten_5 (Flatten)         (None, 62)                0         \n",
            "                                                                 \n",
            " dense_9 (Dense)             (None, 5)                 315       \n",
            "                                                                 \n",
            "=================================================================\n",
            "Total params: 18,419\n",
            "Trainable params: 18,419\n",
            "Non-trainable params: 0\n",
            "_________________________________________________________________\n",
            "Model: \"model_6\"\n",
            "_________________________________________________________________\n",
            " Layer (type)                Output Shape              Param #   \n",
            "=================================================================\n",
            " input_7 (InputLayer)        [(None, 60, 5, 2)]        0         \n",
            "                                                                 \n",
            " dense_10 (Dense)            (None, 60, 5, 7)          21        \n",
            "                                                                 \n",
            " reshape_10 (Reshape)        (None, 60, 35)            0         \n",
            "                                                                 \n",
            " lstm_7 (LSTM)               (None, 9)                 1620      \n",
            "                                                                 \n",
            " reshape_11 (Reshape)        (None, 9, 1)              0         \n",
            "                                                                 \n",
            " lstm_8 (LSTM)               (None, 76)                23712     \n",
            "                                                                 \n",
            " reshape_12 (Reshape)        (None, 76, 1)             0         \n",
            "                                                                 \n",
            " lstm_9 (LSTM)               (None, 84)                28896     \n",
            "                                                                 \n",
            " flatten_6 (Flatten)         (None, 84)                0         \n",
            "                                                                 \n",
            " dense_11 (Dense)            (None, 5)                 425       \n",
            "                                                                 \n",
            "=================================================================\n",
            "Total params: 54,674\n",
            "Trainable params: 54,674\n",
            "Non-trainable params: 0\n",
            "_________________________________________________________________\n",
            "Model: \"model_7\"\n",
            "_________________________________________________________________\n",
            " Layer (type)                Output Shape              Param #   \n",
            "=================================================================\n",
            " input_8 (InputLayer)        [(None, 60, 5, 2)]        0         \n",
            "                                                                 \n",
            " reshape_13 (Reshape)        (None, 60, 10)            0         \n",
            "                                                                 \n",
            " gru_3 (GRU)                 (None, 5)                 255       \n",
            "                                                                 \n",
            " reshape_14 (Reshape)        (None, 5, 1)              0         \n",
            "                                                                 \n",
            " lstm_10 (LSTM)              (None, 36)                5472      \n",
            "                                                                 \n",
            " reshape_15 (Reshape)        (None, 36, 1)             0         \n",
            "                                                                 \n",
            " gru_4 (GRU)                 (None, 82)                20910     \n",
            "                                                                 \n",
            " dense_12 (Dense)            (None, 87)                7221      \n",
            "                                                                 \n",
            " flatten_7 (Flatten)         (None, 87)                0         \n",
            "                                                                 \n",
            " dense_13 (Dense)            (None, 5)                 440       \n",
            "                                                                 \n",
            "=================================================================\n",
            "Total params: 34,298\n",
            "Trainable params: 34,298\n",
            "Non-trainable params: 0\n",
            "_________________________________________________________________\n",
            "Model: \"model_8\"\n",
            "_________________________________________________________________\n",
            " Layer (type)                Output Shape              Param #   \n",
            "=================================================================\n",
            " input_9 (InputLayer)        [(None, 60, 5, 2)]        0         \n",
            "                                                                 \n",
            " flatten_8 (Flatten)         (None, 600)               0         \n",
            "                                                                 \n",
            " dense_14 (Dense)            (None, 5)                 3005      \n",
            "                                                                 \n",
            "=================================================================\n",
            "Total params: 3,005\n",
            "Trainable params: 3,005\n",
            "Non-trainable params: 0\n",
            "_________________________________________________________________\n",
            "Model: \"model_9\"\n",
            "_________________________________________________________________\n",
            " Layer (type)                Output Shape              Param #   \n",
            "=================================================================\n",
            " input_10 (InputLayer)       [(None, 60, 5, 2)]        0         \n",
            "                                                                 \n",
            " reshape_16 (Reshape)        (None, 60, 10)            0         \n",
            "                                                                 \n",
            " lstm_11 (LSTM)              (None, 46)                10488     \n",
            "                                                                 \n",
            " reshape_17 (Reshape)        (None, 46, 1)             0         \n",
            "                                                                 \n",
            " gru_5 (GRU)                 (None, 61)                11712     \n",
            "                                                                 \n",
            " reshape_18 (Reshape)        (None, 61, 1)             0         \n",
            "                                                                 \n",
            " gru_6 (GRU)                 (None, 23)                1794      \n",
            "                                                                 \n",
            " flatten_9 (Flatten)         (None, 23)                0         \n",
            "                                                                 \n",
            " dense_15 (Dense)            (None, 5)                 120       \n",
            "                                                                 \n",
            "=================================================================\n",
            "Total params: 24,114\n",
            "Trainable params: 24,114\n",
            "Non-trainable params: 0\n",
            "_________________________________________________________________\n"
          ]
        }
      ]
    },
    {
      "cell_type": "markdown",
      "source": [
        "# Fitness_function"
      ],
      "metadata": {
        "id": "0l_j5IIHZmps"
      }
    },
    {
      "cell_type": "code",
      "source": [
        "class Fitness_keras():\n",
        "  def __init__(self, models_factory_run,   X_train = [] , Y_train = [] , batch_size = 1, verbose = 0, epochs = 1, callbacks = [] ):\n",
        "    self.callbacks = callbacks\n",
        "    self.X_train = X_train\n",
        "    self.Y_train = Y_train\n",
        "    self.batch_size = batch_size\n",
        "    self.verbose = verbose \n",
        "    self.epochs = epochs\n",
        "    self.models_factory_run = models_factory_run\n",
        "\n",
        "  def run(self, population):\n",
        "\n",
        "    population_models = self.models_factory_run(individuos = population)\n",
        "\n",
        "    fitness = []\n",
        "\n",
        "    for m in population_models:\n",
        "     \n",
        "      h = self.keras_train(m)\n",
        "\n",
        "      fitness.append(h.history[\"loss\"][-1])\n",
        "\n",
        "    return fitness\n",
        "\n",
        "  def keras_train(self,m):\n",
        "\n",
        "    h = m.fit(self.X_train, self.Y_train, \n",
        "                epochs=self.epochs, \n",
        "                batch_size = self.batch_size , \n",
        "                callbacks=self.callbacks, \n",
        "                verbose=self.verbose)\n",
        "    return h\n",
        "\n",
        "    "
      ],
      "metadata": {
        "id": "4XnnkI_UZnu7"
      },
      "execution_count": 15,
      "outputs": []
    },
    {
      "cell_type": "code",
      "source": [
        "pop = [[1,1,1,1,1,1,1,1],[2,2,2,2,2,2,2,2]]\n",
        "\n",
        "fitness_keras = Fitness_keras(models_factory_run = models_factory.run, X_train = X , Y_train = Y, epochs = 3 )"
      ],
      "metadata": {
        "id": "49FsJYN9ev-X"
      },
      "execution_count": 43,
      "outputs": []
    },
    {
      "cell_type": "code",
      "source": [
        "fitness = fitness_keras.run(pop)"
      ],
      "metadata": {
        "id": "0L4oJeE4gD78"
      },
      "execution_count": 44,
      "outputs": []
    },
    {
      "cell_type": "code",
      "source": [
        "print(fitness)"
      ],
      "metadata": {
        "colab": {
          "base_uri": "https://localhost:8080/"
        },
        "id": "ArHD3ISmgJgX",
        "outputId": "b13c52f7-2c8f-4229-863f-56bbb317144f"
      },
      "execution_count": 45,
      "outputs": [
        {
          "output_type": "stream",
          "name": "stdout",
          "text": [
            "[25.533761978149414, 25.5397891998291]\n"
          ]
        }
      ]
    },
    {
      "cell_type": "code",
      "source": [
        "m = models_factory.run(pop)"
      ],
      "metadata": {
        "id": "PoAgkqNKYHs3"
      },
      "execution_count": 46,
      "outputs": []
    },
    {
      "cell_type": "code",
      "source": [
        "h = fitness_keras.keras_train(m[0])"
      ],
      "metadata": {
        "id": "GQYy1tchX_iZ"
      },
      "execution_count": 47,
      "outputs": []
    },
    {
      "cell_type": "code",
      "source": [
        "h.history['loss']"
      ],
      "metadata": {
        "colab": {
          "base_uri": "https://localhost:8080/"
        },
        "id": "EBRgPii_YZzj",
        "outputId": "4e1bdecd-acda-482c-fc38-b55a2d5b44d0"
      },
      "execution_count": 48,
      "outputs": [
        {
          "output_type": "execute_result",
          "data": {
            "text/plain": [
              "[25.546894073486328, 25.543712615966797, 25.54129409790039]"
            ]
          },
          "metadata": {},
          "execution_count": 48
        }
      ]
    },
    {
      "cell_type": "code",
      "source": [
        "h.history[\"loss\"][-1]"
      ],
      "metadata": {
        "colab": {
          "base_uri": "https://localhost:8080/"
        },
        "id": "3StH7Em0Y4s-",
        "outputId": "e406f295-18ee-4db1-f329-863b9f45f4b8"
      },
      "execution_count": 49,
      "outputs": [
        {
          "output_type": "execute_result",
          "data": {
            "text/plain": [
              "25.54129409790039"
            ]
          },
          "metadata": {},
          "execution_count": 49
        }
      ]
    },
    {
      "cell_type": "markdown",
      "source": [
        "# Selection_function"
      ],
      "metadata": {
        "id": "0swamKFOZdcd"
      }
    },
    {
      "cell_type": "markdown",
      "source": [
        "# work : ahora mismo no permito que se repitan las parejas, pero puede que sea una mala idea. Ya que gracias a los cruces se generaaran un mayor numero de nuevos modelos con buenas caracteristicas  "
      ],
      "metadata": {
        "id": "W5GtELkq7L-P"
      }
    },
    {
      "cell_type": "code",
      "source": [
        "class Selection_function():\n",
        "  def __init__(self, number_of_couples = 1, tournament_size = 3):\n",
        "    self.number_of_couples = number_of_couples\n",
        "    self.num_parents = 2\n",
        "    self.tournament_size = tournament_size\n",
        "    \n",
        "\n",
        "  def select_mating_pool(self, population, fitness):\n",
        "    all_parents = {}\n",
        "    for i in range(self.number_of_couples):\n",
        "      parents = self._select_mating_pool(pop, fitness, self.num_parents)\n",
        "\n",
        "      if parents[0] != parents[1]:\n",
        "        all_parents[(parents[0],parents[1])] = [ pop[parents[0]], pop[parents[1]]]\n",
        "  \n",
        "    return list(all_parents.values())\n",
        "\n",
        "  def tournament_selection(self, population, fitness):\n",
        "    all_parents = {}\n",
        "    for i in range(self.number_of_couples):\n",
        "      parents = self._tournament_selection(pop, fitness, self.num_parents, self.tournament_size)\n",
        "      if parents[0] != parents[1]:\n",
        "        all_parents[(parents[0],parents[1])] = [ pop[parents[0]], pop[parents[1]]]\n",
        "  \n",
        "    return list(all_parents.values())\n",
        "\n",
        "  def _select_mating_pool(self, population, fitness, num_parents):\n",
        "    \"\"\"\n",
        "    population: lista con todos los individuos.\n",
        "    fitness: lista con los valores de fitness de cada individuo.\n",
        "    num_parents: número de padres que queremos seleccionar.\n",
        "    \"\"\"\n",
        "\n",
        "    # Invierte los valores de fitness\n",
        "    fitness = 1.0 / fitness\n",
        "\n",
        "    # Normalizamos los valores de fitness para que sumen 1\n",
        "    fitness = fitness / np.sum(fitness)\n",
        "    \n",
        "    # Seleccionamos los padres usando la función np.random.choice con los valores de fitness como pesos\n",
        "    idx = np.random.choice(np.arange(len(population)), size=self.num_parents, replace=False, p=fitness)\n",
        "\n",
        "    # Devolvemos los individuos seleccionados\n",
        "    return idx#[population[i] for i in idx]\n",
        "\n",
        "\n",
        "  def _tournament_selection(self,population, fitness, num_parents, tournament_size):\n",
        "    # Array para almacenar los índices de los padres seleccionados\n",
        "    parents = np.empty(num_parents, dtype = int)\n",
        "\n",
        "    for i in range(self.num_parents):\n",
        "        # Seleccionamos los índices de 'tournament_size' individuos aleatoriamente\n",
        "        tournament_indices = np.random.randint(0, len(population), size=tournament_size)\n",
        "        \n",
        "        # Seleccionamos el individuo con el mínimo fitness de entre los seleccionados\n",
        "        best_individual_idx = np.argmin(fitness[tournament_indices])\n",
        "        \n",
        "        # Guardamos el índice del ganador del torneo\n",
        "        parents[i] = tournament_indices[best_individual_idx]\n",
        "\n",
        "    return parents"
      ],
      "metadata": {
        "id": "dPl9awfom8dt"
      },
      "execution_count": 342,
      "outputs": []
    },
    {
      "cell_type": "code",
      "source": [
        "selection = Selection_function(number_of_couples = 10)"
      ],
      "metadata": {
        "id": "F4bk4CzSnRoB"
      },
      "execution_count": 343,
      "outputs": []
    },
    {
      "cell_type": "code",
      "source": [
        "pop = [[1,1],[2,2],[10,10],[11,11],[20,20],[30,30],[40,40] ]\n",
        "fitness = np.array([1,2,10,11, 20,30,40])\n",
        "num_parents = 2\n",
        "tournament_size = 3"
      ],
      "metadata": {
        "id": "2edMNCQBa-qc"
      },
      "execution_count": 344,
      "outputs": []
    },
    {
      "cell_type": "code",
      "source": [
        "print(selection.select_mating_pool(pop, fitness))"
      ],
      "metadata": {
        "colab": {
          "base_uri": "https://localhost:8080/"
        },
        "id": "uThtUBTPbNuM",
        "outputId": "cc6e9d4a-128f-4942-a41e-a1a4a1fbed72"
      },
      "execution_count": 357,
      "outputs": [
        {
          "output_type": "stream",
          "name": "stdout",
          "text": [
            "[[[1, 1], [20, 20]], [[2, 2], [1, 1]], [[1, 1], [11, 11]], [[1, 1], [30, 30]], [[2, 2], [10, 10]], [[2, 2], [11, 11]]]\n"
          ]
        }
      ]
    },
    {
      "cell_type": "code",
      "source": [
        "selection = Selection_function(number_of_couples = 10)\n",
        "print(selection.tournament_selection(pop, fitness))"
      ],
      "metadata": {
        "colab": {
          "base_uri": "https://localhost:8080/"
        },
        "id": "SW5_fOyXqkOR",
        "outputId": "3ee488b9-51da-429d-fd86-8db8e1f2f91b"
      },
      "execution_count": 358,
      "outputs": [
        {
          "output_type": "stream",
          "name": "stdout",
          "text": [
            "[[[1, 1], [11, 11]], [[2, 2], [20, 20]], [[2, 2], [10, 10]], [[1, 1], [2, 2]], [[11, 11], [2, 2]], [[10, 10], [20, 20]], [[30, 30], [11, 11]], [[1, 1], [10, 10]]]\n"
          ]
        }
      ]
    },
    {
      "cell_type": "markdown",
      "source": [
        "# Crossover_function"
      ],
      "metadata": {
        "id": "U48qQ2201e4o"
      }
    },
    {
      "cell_type": "code",
      "source": [],
      "metadata": {
        "id": "emVEyUs-1foy"
      },
      "execution_count": null,
      "outputs": []
    }
  ]
}