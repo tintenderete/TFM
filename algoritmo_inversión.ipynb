{
 "cells": [
  {
   "cell_type": "code",
   "execution_count": 2,
   "metadata": {},
   "outputs": [],
   "source": [
    "# CARGAMOS LIBRERIAS\n",
    "\n",
    "# LIBRERÍAS BÁSICAS\n",
    "import pandas as pd\n",
    "import numpy as np\n",
    "import matplotlib.pyplot as plt\n",
    "import datetime\n",
    "import os\n",
    "import math\n",
    "\n",
    "# CARGA DE DATOS EN AWS S3\n",
    "import pyarrow.parquet as pq\n",
    "import pyarrow as pa\n",
    "from io import BytesIO\n",
    "import boto3"
   ]
  },
  {
   "cell_type": "markdown",
   "metadata": {},
   "source": [
    "EN NUESTRO ALGORITMO DE INVERSIÓN BUSCAMOS UN MODELO QUE PERMITA OBTENER UNA CARTERA DE INVERSIÓN QUE GENERE UN ALFA POSITIVO DADO QUE NUESTRO OBJETIVO ES BATIR AL ÍNDICE DE REFERENCIA (EN ESTE CASO EL IBEX35). POR LO TANTO, LO QUE REALIZAREMOS ES UN MODELO EN EL CUAL SIMULAREMOS 10.000 CARTERAS DE INVERSIÓN ADJUDICANDO PESOS A CADA UNO DE LOS ACTIVOS QUE SE HAN SELECCIONADO Y ANALIZANDO EL ALFA DE DICHA CARTERA. AL FINAL DE LA SIMULACIÓN TOMAREMOS LA CARTERA QUE MAYOR ALFA TENGA Y LA UTILIZAREMOS PARA LOS SIGUIENTES N DÍAS.\n",
    "\n",
    "EL ALGORITMO TOMARÁ COMO LIMITES LOS SIGUIENTES VALORES:\n",
    "- STOP LOSS: UN ALFA NEGATIVO TOTAL A UN -3% ES DECIR, HABER PERDIDO CONTRA EL ÍNDICE UN 3%\n",
    "- TAKE PROFIT: UN ALFA POSITIVO TOTAL A UN +2% ES DECIR, HABER BATIDO AL ÍNDICE POR UN 2%\n",
    "- LIMITE TEMPORAL: PERMITIREMOS MANTENER UNA CARTERA DURANTE 30 SESIONES DIARIAS DE MERCADO\n",
    "\n",
    "ADEMÁS, SE HARÁN LAS SIGUIENTES REGLAS:\n",
    "1) SE REALIZARÁN LAS COMPRAS AL PRECIO DE CIERRE DE CADA SESIÓN\n",
    "2) NO SE PUEDEN REALIZAR OPERACIONES DE COMPRA ANTES DE LOS PRIMEROS 5 DÍAS DE HABER REBALANCEADO LA CARTERA. EN CASO DE QUE HAYA \n",
    "1) EN CADA REBALANCEO SE VENDERÁ TODO Y SE VOLVERÁ A COMPRAR AL CIERRE DEL MISMO "
   ]
  },
  {
   "cell_type": "code",
   "execution_count": 3,
   "metadata": {},
   "outputs": [],
   "source": [
    "NUM_CARTERAS = 10000\n",
    "retornos = pd.read_csv('ibex_historical_returns.csv')\n",
    "precios = pd.read_csv('ibex_historical_data.csv')\n",
    "# cartera = pd.read_csv()\n",
    "cartera = "
   ]
  },
  {
   "cell_type": "code",
   "execution_count": null,
   "metadata": {},
   "outputs": [],
   "source": [
    "for i in range(NUM_CARTERAS):\n",
    "    w = np.random.randn()"
   ]
  }
 ],
 "metadata": {
  "kernelspec": {
   "display_name": "venv",
   "language": "python",
   "name": "python3"
  },
  "language_info": {
   "codemirror_mode": {
    "name": "ipython",
    "version": 3
   },
   "file_extension": ".py",
   "mimetype": "text/x-python",
   "name": "python",
   "nbconvert_exporter": "python",
   "pygments_lexer": "ipython3",
   "version": "3.10.11"
  },
  "orig_nbformat": 4
 },
 "nbformat": 4,
 "nbformat_minor": 2
}
