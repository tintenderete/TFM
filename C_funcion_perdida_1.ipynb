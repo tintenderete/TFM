{
  "nbformat": 4,
  "nbformat_minor": 0,
  "metadata": {
    "colab": {
      "provenance": [],
      "authorship_tag": "ABX9TyMfi3QSCKWgUmUoByygQmmz",
      "include_colab_link": true
    },
    "kernelspec": {
      "name": "python3",
      "display_name": "Python 3"
    },
    "language_info": {
      "name": "python"
    }
  },
  "cells": [
    {
      "cell_type": "markdown",
      "metadata": {
        "id": "view-in-github",
        "colab_type": "text"
      },
      "source": [
        "<a href=\"https://colab.research.google.com/github/tintenderete/TFM-Algoritmo-con-redes-evolutivas/blob/main/C_funcion_perdida_1.ipynb\" target=\"_parent\"><img src=\"https://colab.research.google.com/assets/colab-badge.svg\" alt=\"Open In Colab\"/></a>"
      ]
    },
    {
      "cell_type": "code",
      "source": [
        "import tensorflow as tf\n",
        "import numpy as np"
      ],
      "metadata": {
        "id": "lbRBYpdYemmT"
      },
      "execution_count": 1,
      "outputs": []
    },
    {
      "cell_type": "code",
      "execution_count": 2,
      "metadata": {
        "id": "0l9bmj-Neav9"
      },
      "outputs": [],
      "source": [
        "def perdida_listas(ranking_real, ranking_predicho):\n",
        "    diferencias = tf.abs(ranking_real - ranking_predicho)\n",
        "    perdida_total = tf.reduce_sum(diferencias)\n",
        "    \"\"\"\n",
        "    Una opción podría ser cambiar tf.reduce_sum() por tf.reduce_mean() para tomar el promedio de las diferencias en lugar de la suma. Esto hará que la pérdida sea independiente del tamaño del lote de datos.\n",
        "    \"\"\"\n",
        "    return perdida_total\n"
      ]
    },
    {
      "cell_type": "code",
      "source": [
        "ranking_real = np.array([[6,3,2,4,5,1]])\n",
        "ranking_real"
      ],
      "metadata": {
        "colab": {
          "base_uri": "https://localhost:8080/"
        },
        "id": "o1TNj_l7ffTm",
        "outputId": "8a677dae-386a-4b70-b116-b02597f8f984"
      },
      "execution_count": 3,
      "outputs": [
        {
          "output_type": "execute_result",
          "data": {
            "text/plain": [
              "array([[6, 3, 2, 4, 5, 1]])"
            ]
          },
          "metadata": {},
          "execution_count": 3
        }
      ]
    },
    {
      "cell_type": "code",
      "source": [
        "ranking_predicho = np.array([[1,2,3,6,5,4]])\n",
        "ranking_predicho"
      ],
      "metadata": {
        "colab": {
          "base_uri": "https://localhost:8080/"
        },
        "id": "hWjagbCvghGM",
        "outputId": "96cb3dd9-4da3-40d0-84e4-932bef26eb08"
      },
      "execution_count": 4,
      "outputs": [
        {
          "output_type": "execute_result",
          "data": {
            "text/plain": [
              "array([[1, 2, 3, 6, 5, 4]])"
            ]
          },
          "metadata": {},
          "execution_count": 4
        }
      ]
    },
    {
      "cell_type": "code",
      "source": [
        "diferencias = tf.abs(ranking_real - ranking_predicho)\n",
        "diferencias"
      ],
      "metadata": {
        "colab": {
          "base_uri": "https://localhost:8080/"
        },
        "id": "Rr_23ouLgzpQ",
        "outputId": "e6723e54-6bb5-4fc4-b419-5f98e25d38f9"
      },
      "execution_count": 5,
      "outputs": [
        {
          "output_type": "execute_result",
          "data": {
            "text/plain": [
              "<tf.Tensor: shape=(1, 6), dtype=int64, numpy=array([[5, 1, 1, 2, 0, 3]])>"
            ]
          },
          "metadata": {},
          "execution_count": 5
        }
      ]
    },
    {
      "cell_type": "code",
      "source": [
        "perdida_total = tf.reduce_sum(diferencias)\n",
        "perdida_total"
      ],
      "metadata": {
        "colab": {
          "base_uri": "https://localhost:8080/"
        },
        "id": "HBhJ4nkbhTt1",
        "outputId": "0b4fdf2b-3dea-4563-b51d-3a112122dde4"
      },
      "execution_count": 6,
      "outputs": [
        {
          "output_type": "execute_result",
          "data": {
            "text/plain": [
              "<tf.Tensor: shape=(), dtype=int64, numpy=12>"
            ]
          },
          "metadata": {},
          "execution_count": 6
        }
      ]
    },
    {
      "cell_type": "code",
      "source": [
        "perdida_listas(ranking_real, ranking_predicho)"
      ],
      "metadata": {
        "colab": {
          "base_uri": "https://localhost:8080/"
        },
        "id": "2t7At1n3gqkd",
        "outputId": "9862043d-9c6c-4e63-928d-cafdd885fce7"
      },
      "execution_count": 7,
      "outputs": [
        {
          "output_type": "execute_result",
          "data": {
            "text/plain": [
              "<tf.Tensor: shape=(), dtype=int64, numpy=12>"
            ]
          },
          "metadata": {},
          "execution_count": 7
        }
      ]
    },
    {
      "cell_type": "markdown",
      "source": [
        "# asignar más peso a las diferencias que corresponden a números más bajos en el ranking real.\n",
        "\n",
        "castiga cuando los mejores estan clasificados como peores"
      ],
      "metadata": {
        "id": "DiQbwz9UjF89"
      }
    },
    {
      "cell_type": "code",
      "source": [
        "def perdida_listas(ranking_real, ranking_predicho):\n",
        "    diferencias = tf.abs(ranking_real - ranking_predicho)\n",
        "    diferencias_ponderadas = diferencias / (ranking_real + 1e-7)  # Añadimos un pequeño número para evitar la división por cero\n",
        "    perdida_total = tf.reduce_sum(diferencias_ponderadas)\n",
        "    return perdida_total"
      ],
      "metadata": {
        "id": "op4HIHjBjLBh"
      },
      "execution_count": 8,
      "outputs": []
    },
    {
      "cell_type": "code",
      "source": [
        "ranking_real, ranking_predicho"
      ],
      "metadata": {
        "colab": {
          "base_uri": "https://localhost:8080/"
        },
        "id": "MsuxCBA7jTml",
        "outputId": "b575fa02-7a20-4338-c2ff-54eed5045810"
      },
      "execution_count": 9,
      "outputs": [
        {
          "output_type": "execute_result",
          "data": {
            "text/plain": [
              "(array([[6, 3, 2, 4, 5, 1]]), array([[1, 2, 3, 6, 5, 4]]))"
            ]
          },
          "metadata": {},
          "execution_count": 9
        }
      ]
    },
    {
      "cell_type": "code",
      "source": [
        "diferencias = tf.abs(ranking_real - ranking_predicho)\n",
        "diferencias"
      ],
      "metadata": {
        "colab": {
          "base_uri": "https://localhost:8080/"
        },
        "id": "Ww5bIdgRjN5p",
        "outputId": "35e9805d-4599-4900-d70e-a8a35a26cebf"
      },
      "execution_count": 10,
      "outputs": [
        {
          "output_type": "execute_result",
          "data": {
            "text/plain": [
              "<tf.Tensor: shape=(1, 6), dtype=int64, numpy=array([[5, 1, 1, 2, 0, 3]])>"
            ]
          },
          "metadata": {},
          "execution_count": 10
        }
      ]
    },
    {
      "cell_type": "code",
      "source": [
        "diferencias_ponderadas = diferencias / (ranking_real + 1e-7)\n",
        "diferencias_ponderadas.numpy()"
      ],
      "metadata": {
        "colab": {
          "base_uri": "https://localhost:8080/"
        },
        "id": "A7W6FpSKjW_I",
        "outputId": "16bd543c-812e-4229-c94a-1b7edc619fc6"
      },
      "execution_count": 11,
      "outputs": [
        {
          "output_type": "execute_result",
          "data": {
            "text/plain": [
              "array([[0.83333333, 0.33333333, 0.5       , 0.5       , 0.        ,\n",
              "        3.        ]])"
            ]
          },
          "metadata": {},
          "execution_count": 11
        }
      ]
    },
    {
      "cell_type": "code",
      "source": [
        "perdida_total = tf.reduce_sum(diferencias_ponderadas)\n",
        "perdida_total"
      ],
      "metadata": {
        "colab": {
          "base_uri": "https://localhost:8080/"
        },
        "id": "dJtwpW4Gjk1N",
        "outputId": "5cfe6cf3-a8d9-4a57-9e72-791392ed2f70"
      },
      "execution_count": 12,
      "outputs": [
        {
          "output_type": "execute_result",
          "data": {
            "text/plain": [
              "<tf.Tensor: shape=(), dtype=float64, numpy=5.166666666666667>"
            ]
          },
          "metadata": {},
          "execution_count": 12
        }
      ]
    },
    {
      "cell_type": "code",
      "source": [
        "perdida_listas(ranking_real, ranking_predicho)"
      ],
      "metadata": {
        "colab": {
          "base_uri": "https://localhost:8080/"
        },
        "id": "Eg2PgKzNkD_5",
        "outputId": "3b5e8a83-8981-4a7e-8993-b27d44b1818c"
      },
      "execution_count": 13,
      "outputs": [
        {
          "output_type": "execute_result",
          "data": {
            "text/plain": [
              "<tf.Tensor: shape=(), dtype=float64, numpy=5.166666666666667>"
            ]
          },
          "metadata": {},
          "execution_count": 13
        }
      ]
    },
    {
      "cell_type": "code",
      "source": [],
      "metadata": {
        "id": "cCLxKKKToAEo"
      },
      "execution_count": 13,
      "outputs": []
    },
    {
      "cell_type": "markdown",
      "source": [
        "## inversa"
      ],
      "metadata": {
        "id": "9wF_hp9rwm7A"
      }
    },
    {
      "cell_type": "markdown",
      "source": [
        "castiga cuando los peores estan clasificados como mejores"
      ],
      "metadata": {
        "id": "pxSzRnJspr_E"
      }
    },
    {
      "cell_type": "code",
      "source": [
        "ranking_real, ranking_predicho"
      ],
      "metadata": {
        "colab": {
          "base_uri": "https://localhost:8080/"
        },
        "id": "6SneRl2Yp1Z2",
        "outputId": "c3b38a70-7968-43f4-df9e-5b678ef2982b"
      },
      "execution_count": 14,
      "outputs": [
        {
          "output_type": "execute_result",
          "data": {
            "text/plain": [
              "(array([[6, 3, 2, 4, 5, 1]]), array([[1, 2, 3, 6, 5, 4]]))"
            ]
          },
          "metadata": {},
          "execution_count": 14
        }
      ]
    },
    {
      "cell_type": "code",
      "source": [
        "diferencias = tf.abs(ranking_real - ranking_predicho)\n",
        "diferencias"
      ],
      "metadata": {
        "colab": {
          "base_uri": "https://localhost:8080/"
        },
        "id": "4ATJtcCMrSBj",
        "outputId": "ef16e37d-5456-40f3-e3dc-93eea5ed6dbc"
      },
      "execution_count": 15,
      "outputs": [
        {
          "output_type": "execute_result",
          "data": {
            "text/plain": [
              "<tf.Tensor: shape=(1, 6), dtype=int64, numpy=array([[5, 1, 1, 2, 0, 3]])>"
            ]
          },
          "metadata": {},
          "execution_count": 15
        }
      ]
    },
    {
      "cell_type": "code",
      "source": [
        "diferencias_ponderadas = diferencias / (ranking_predicho + 1e-7)\n",
        "diferencias_ponderadas.numpy()"
      ],
      "metadata": {
        "colab": {
          "base_uri": "https://localhost:8080/"
        },
        "id": "MDnG5JUHrT3S",
        "outputId": "c397bac5-eda6-47cd-d2e5-a1aadea758ed"
      },
      "execution_count": 16,
      "outputs": [
        {
          "output_type": "execute_result",
          "data": {
            "text/plain": [
              "array([[5.        , 0.5       , 0.33333333, 0.33333333, 0.        ,\n",
              "        0.75      ]])"
            ]
          },
          "metadata": {},
          "execution_count": 16
        }
      ]
    },
    {
      "cell_type": "code",
      "source": [
        "def perdida_listas(ranking_real, ranking_predicho):\n",
        "    ranking_real = tf.cast(ranking_real, tf.float32)\n",
        "    ranking_predicho = tf.cast(ranking_predicho, tf.float32)\n",
        "    diferencias = tf.abs(ranking_real - ranking_predicho)\n",
        "    diferencias_ponderadas = diferencias / (ranking_real + 0.01)  # Añadimos un pequeño número para evitar la división por cero\n",
        "    perdida_total = tf.reduce_sum(diferencias_ponderadas)\n",
        "    return perdida_total"
      ],
      "metadata": {
        "id": "PVG9qxGVzmXn"
      },
      "execution_count": 46,
      "outputs": []
    },
    {
      "cell_type": "code",
      "source": [
        "def loss_ranking(ranking_real, ranking_predicho):\n",
        "    ranking_real_float = tf.cast(ranking_real, tf.float32)\n",
        "    ranking_predicho = tf.cast(ranking_predicho, tf.float32)\n",
        "    diferencias = tf.abs(ranking_real_float - ranking_predicho)\n",
        "    diferencias_ponderadas = diferencias / (ranking_predicho + 0.01) # <<<<---------\n",
        "    perdida_total = tf.reduce_sum(diferencias_ponderadas)\n",
        "    return abs(perdida_total)"
      ],
      "metadata": {
        "id": "GcBQSjfjC4c3"
      },
      "execution_count": 17,
      "outputs": []
    },
    {
      "cell_type": "markdown",
      "source": [
        "----"
      ],
      "metadata": {
        "id": "liQGuGw9DnjG"
      }
    },
    {
      "cell_type": "code",
      "source": [
        "diferencias = tf.abs(np.array([1,2,3]) - np.array([10,2,3]))\n",
        "diferencias"
      ],
      "metadata": {
        "colab": {
          "base_uri": "https://localhost:8080/"
        },
        "id": "dwU0y80rMH6s",
        "outputId": "c5bd1ac8-6482-40e9-99c0-6e0af86c1c0f"
      },
      "execution_count": 18,
      "outputs": [
        {
          "output_type": "execute_result",
          "data": {
            "text/plain": [
              "<tf.Tensor: shape=(3,), dtype=int64, numpy=array([9, 0, 0])>"
            ]
          },
          "metadata": {},
          "execution_count": 18
        }
      ]
    },
    {
      "cell_type": "code",
      "source": [
        "diferencias_ponderadas = diferencias / ( np.array([1,2,3])  + 1e-7)\n",
        "diferencias_ponderadas.numpy()"
      ],
      "metadata": {
        "colab": {
          "base_uri": "https://localhost:8080/"
        },
        "id": "mEEc27uJMLpY",
        "outputId": "98e67e22-034a-4716-c593-0b95825e9e4c"
      },
      "execution_count": 19,
      "outputs": [
        {
          "output_type": "execute_result",
          "data": {
            "text/plain": [
              "array([9., 0., 0.])"
            ]
          },
          "metadata": {},
          "execution_count": 19
        }
      ]
    },
    {
      "cell_type": "code",
      "source": [
        "loss_ranking(\n",
        "    np.array([1,2,3]),\n",
        "    np.array([1,2,10])\n",
        "    )"
      ],
      "metadata": {
        "id": "UsfYcMa2DQNb",
        "outputId": "2ea645cb-c9c1-4f3b-b129-6be5d26106b0",
        "colab": {
          "base_uri": "https://localhost:8080/"
        }
      },
      "execution_count": 20,
      "outputs": [
        {
          "output_type": "execute_result",
          "data": {
            "text/plain": [
              "<tf.Tensor: shape=(), dtype=float32, numpy=0.6993007>"
            ]
          },
          "metadata": {},
          "execution_count": 20
        }
      ]
    },
    {
      "cell_type": "code",
      "source": [
        "diferencias = tf.abs(np.array([1,2,3]) - np.array([10,2,3]))\n",
        "diferencias"
      ],
      "metadata": {
        "colab": {
          "base_uri": "https://localhost:8080/"
        },
        "id": "m0_B4lGWL6Vz",
        "outputId": "d96c4633-b8d4-44e0-85b8-30b962e22a65"
      },
      "execution_count": 21,
      "outputs": [
        {
          "output_type": "execute_result",
          "data": {
            "text/plain": [
              "<tf.Tensor: shape=(3,), dtype=int64, numpy=array([9, 0, 0])>"
            ]
          },
          "metadata": {},
          "execution_count": 21
        }
      ]
    },
    {
      "cell_type": "code",
      "source": [
        "diferencias_ponderadas = diferencias / (np.array([10,2,3]) + 1e-7)\n",
        "diferencias_ponderadas.numpy()"
      ],
      "metadata": {
        "colab": {
          "base_uri": "https://localhost:8080/"
        },
        "id": "yWu-0DYxL9Mt",
        "outputId": "5af60fb7-8d69-407d-e5d7-be32ead2790e"
      },
      "execution_count": 22,
      "outputs": [
        {
          "output_type": "execute_result",
          "data": {
            "text/plain": [
              "array([0.9, 0. , 0. ])"
            ]
          },
          "metadata": {},
          "execution_count": 22
        }
      ]
    },
    {
      "cell_type": "code",
      "source": [
        "loss_ranking(\n",
        "    np.array([1,2,3]),\n",
        "    np.array([10,2,3])\n",
        "    )"
      ],
      "metadata": {
        "id": "lv_vV-oPDh-o",
        "outputId": "7e32e392-a4c2-4964-98b2-6e7662cffb3f",
        "colab": {
          "base_uri": "https://localhost:8080/"
        }
      },
      "execution_count": 23,
      "outputs": [
        {
          "output_type": "execute_result",
          "data": {
            "text/plain": [
              "<tf.Tensor: shape=(), dtype=float32, numpy=0.8991009>"
            ]
          },
          "metadata": {},
          "execution_count": 23
        }
      ]
    },
    {
      "cell_type": "code",
      "source": [
        "perdida_listas(\n",
        "    np.array([1,2,3]),\n",
        "    np.array([1,2,10])\n",
        "    )"
      ],
      "metadata": {
        "id": "x0o5EJboDlZM",
        "outputId": "93926cc6-f87e-4105-cef3-eae2216e301f",
        "colab": {
          "base_uri": "https://localhost:8080/"
        }
      },
      "execution_count": 24,
      "outputs": [
        {
          "output_type": "execute_result",
          "data": {
            "text/plain": [
              "<tf.Tensor: shape=(), dtype=float64, numpy=2.3333333333333335>"
            ]
          },
          "metadata": {},
          "execution_count": 24
        }
      ]
    },
    {
      "cell_type": "code",
      "source": [
        "perdida_listas(\n",
        "    np.array([1,2,3]),\n",
        "    np.array([10,2,3])\n",
        "    )"
      ],
      "metadata": {
        "id": "36CL3zrJDrIq",
        "outputId": "706dc91d-2cc6-43b1-e124-90594e84a097",
        "colab": {
          "base_uri": "https://localhost:8080/"
        }
      },
      "execution_count": 25,
      "outputs": [
        {
          "output_type": "execute_result",
          "data": {
            "text/plain": [
              "<tf.Tensor: shape=(), dtype=float64, numpy=9.0>"
            ]
          },
          "metadata": {},
          "execution_count": 25
        }
      ]
    },
    {
      "cell_type": "code",
      "source": [
        "tf.keras.metrics.mean_squared_error(\n",
        "    np.array([1,2,3]),\n",
        "    np.array([10,2,3])\n",
        ")"
      ],
      "metadata": {
        "id": "SbvPQZ6iEeSH",
        "outputId": "61ac5a46-0379-46e8-9ce2-24e6a837e8e6",
        "colab": {
          "base_uri": "https://localhost:8080/"
        }
      },
      "execution_count": 26,
      "outputs": [
        {
          "output_type": "execute_result",
          "data": {
            "text/plain": [
              "<tf.Tensor: shape=(), dtype=int64, numpy=27>"
            ]
          },
          "metadata": {},
          "execution_count": 26
        }
      ]
    },
    {
      "cell_type": "code",
      "source": [
        "tf.keras.metrics.mean_squared_error(\n",
        "    np.array([1,2,3]),\n",
        "    np.array([1,2,10])\n",
        ")"
      ],
      "metadata": {
        "id": "DTqV0OwKEnov",
        "outputId": "9f340868-0033-47b7-89a0-72b8d60d8051",
        "colab": {
          "base_uri": "https://localhost:8080/"
        }
      },
      "execution_count": 27,
      "outputs": [
        {
          "output_type": "execute_result",
          "data": {
            "text/plain": [
              "<tf.Tensor: shape=(), dtype=int64, numpy=16>"
            ]
          },
          "metadata": {},
          "execution_count": 27
        }
      ]
    },
    {
      "cell_type": "markdown",
      "source": [],
      "metadata": {
        "id": "VOFZ1If1OAyZ"
      }
    },
    {
      "cell_type": "markdown",
      "source": [],
      "metadata": {
        "id": "l7v4k-Z0OA14"
      }
    },
    {
      "cell_type": "markdown",
      "source": [],
      "metadata": {
        "id": "HvnY9R15OA5U"
      }
    },
    {
      "cell_type": "markdown",
      "source": [],
      "metadata": {
        "id": "o0cEX2hUOA9g"
      }
    },
    {
      "cell_type": "markdown",
      "source": [],
      "metadata": {
        "id": "5AVsBeLYOBCD"
      }
    },
    {
      "cell_type": "markdown",
      "source": [
        "# ANALISIS FUNCION DE PERDIDA"
      ],
      "metadata": {
        "id": "2IT9Y1bOOBEd"
      }
    },
    {
      "cell_type": "code",
      "source": [
        "def loss_ranking(ranking_real, ranking_predicho):\n",
        "    ranking_real_float = tf.cast(ranking_real, tf.float32)\n",
        "    ranking_predicho = tf.cast(ranking_predicho, tf.float32)\n",
        "    diferencias = tf.abs(ranking_real_float - ranking_predicho)\n",
        "    diferencias_ponderadas = diferencias / (ranking_predicho + 0.01) # <<<<---------\n",
        "    perdida_total = tf.reduce_sum(diferencias_ponderadas)\n",
        "    return abs(perdida_total)\n",
        "\n",
        "def loss_ranking(ranking_real, ranking_predicho):\n",
        "    ranking_real_float = tf.cast(ranking_real, tf.float32)\n",
        "    ranking_predicho = tf.cast(ranking_predicho, tf.float32)\n",
        "    diferencias = tf.abs(ranking_real_float - ranking_predicho)\n",
        "    diferencias_ponderadas = diferencias / (ranking_predicho + 0.01) # <<<<---------\n",
        "    perdida_total = tf.reduce_sum(diferencias_ponderadas)\n",
        "    return abs(perdida_total)\n",
        "\n",
        "def mse(ranking_real, ranking_predicho):\n",
        "    ranking_real = tf.cast(ranking_real, tf.float32)\n",
        "    ranking_predicho = tf.cast(ranking_predicho, tf.float32)\n",
        "    diferencias = tf.abs(ranking_real - ranking_predicho)\n",
        "    perdida_total = tf.reduce_sum(diferencias)\n",
        "    \"\"\"\n",
        "    Una opción podría ser cambiar tf.reduce_sum() por tf.reduce_mean() para tomar el promedio de las diferencias en lugar de la suma. Esto hará que la pérdida sea independiente del tamaño del lote de datos.\n",
        "    \"\"\"\n",
        "    return perdida_total\n",
        "\n"
      ],
      "metadata": {
        "id": "g6aRy3A7OIgD"
      },
      "execution_count": 68,
      "outputs": []
    },
    {
      "cell_type": "code",
      "source": [
        "r_pred = np.array([[18, 28,  3, 23, 29, 20, 15, 21, 22, 27, 10, 14, 13,  6, 19, 11,\n",
        "         5, 25,  4, 30,  7, 12, 17, 26,  9,  2,  0, 16,  8, 24,  1]])\n",
        "\n",
        "r_real = np.array([25, 19, 13, 17, 16, 27, 29, 30, 15,  0,  3, 22,  1,  8,  2, 18, 10,\n",
        "        4, 20,  6, 12, 26,  7, 14, 24, 23, 21, 11, 28,  5,  9])\n",
        "\n",
        "r_real = tf.cast(r_real, tf.float32)\n",
        "r_pred = tf.cast(r_pred, tf.float32)"
      ],
      "metadata": {
        "id": "vrNfOX3UOBTA"
      },
      "execution_count": 29,
      "outputs": []
    },
    {
      "cell_type": "code",
      "source": [
        "diferencias = tf.abs(r_pred - r_real)\n",
        "diferencias"
      ],
      "metadata": {
        "colab": {
          "base_uri": "https://localhost:8080/"
        },
        "id": "Gjb4GbIEOLiy",
        "outputId": "a1ad2341-6131-423a-e60a-1ddf4ba74728"
      },
      "execution_count": 30,
      "outputs": [
        {
          "output_type": "execute_result",
          "data": {
            "text/plain": [
              "<tf.Tensor: shape=(1, 31), dtype=float32, numpy=\n",
              "array([[ 7.,  9., 10.,  6., 13.,  7., 14.,  9.,  7., 27.,  7.,  8., 12.,\n",
              "         2., 17.,  7.,  5., 21., 16., 24.,  5., 14., 10., 12., 15., 21.,\n",
              "        21.,  5., 20., 19.,  8.]], dtype=float32)>"
            ]
          },
          "metadata": {},
          "execution_count": 30
        }
      ]
    },
    {
      "cell_type": "code",
      "source": [
        "(r_pred + 0.1)"
      ],
      "metadata": {
        "colab": {
          "base_uri": "https://localhost:8080/"
        },
        "id": "oRX5Q9kjPM0A",
        "outputId": "24ac6fc4-3076-460a-af43-d891ba464412"
      },
      "execution_count": 31,
      "outputs": [
        {
          "output_type": "execute_result",
          "data": {
            "text/plain": [
              "<tf.Tensor: shape=(1, 31), dtype=float32, numpy=\n",
              "array([[18.1, 28.1,  3.1, 23.1, 29.1, 20.1, 15.1, 21.1, 22.1, 27.1, 10.1,\n",
              "        14.1, 13.1,  6.1, 19.1, 11.1,  5.1, 25.1,  4.1, 30.1,  7.1, 12.1,\n",
              "        17.1, 26.1,  9.1,  2.1,  0.1, 16.1,  8.1, 24.1,  1.1]],\n",
              "      dtype=float32)>"
            ]
          },
          "metadata": {},
          "execution_count": 31
        }
      ]
    },
    {
      "cell_type": "code",
      "source": [
        "diferencias_ponderadas = diferencias / (r_pred + 0.0001)\n",
        "diferencias_ponderadas"
      ],
      "metadata": {
        "colab": {
          "base_uri": "https://localhost:8080/"
        },
        "id": "hDcWQOOaOTZJ",
        "outputId": "9ecabe3c-8509-42fd-dec2-d5b810b5cf73"
      },
      "execution_count": 32,
      "outputs": [
        {
          "output_type": "execute_result",
          "data": {
            "text/plain": [
              "<tf.Tensor: shape=(1, 31), dtype=float32, numpy=\n",
              "array([[3.88886750e-01, 3.21427435e-01, 3.33322239e+00, 2.60868430e-01,\n",
              "        4.48274314e-01, 3.49998266e-01, 9.33327079e-01, 4.28569406e-01,\n",
              "        3.18180382e-01, 9.99996305e-01, 6.99993014e-01, 5.71424484e-01,\n",
              "        9.23069835e-01, 3.33327770e-01, 8.94732177e-01, 6.36357844e-01,\n",
              "        9.99979973e-01, 8.39996696e-01, 3.99989986e+00, 7.99997330e-01,\n",
              "        7.14275479e-01, 1.16665697e+00, 5.88231862e-01, 4.61536705e-01,\n",
              "        1.66664815e+00, 1.04994755e+01, 2.10000000e+05, 3.12498063e-01,\n",
              "        2.49996877e+00, 7.91663408e-01, 7.99919987e+00]], dtype=float32)>"
            ]
          },
          "metadata": {},
          "execution_count": 32
        }
      ]
    },
    {
      "cell_type": "code",
      "source": [
        "perdida_total = tf.reduce_sum(diferencias_ponderadas)\n",
        "perdida_total"
      ],
      "metadata": {
        "colab": {
          "base_uri": "https://localhost:8080/"
        },
        "id": "3vGCRIMrOaGc",
        "outputId": "4018c0ad-e867-40e4-a004-0bc9f3c2bfb1"
      },
      "execution_count": 33,
      "outputs": [
        {
          "output_type": "execute_result",
          "data": {
            "text/plain": [
              "<tf.Tensor: shape=(), dtype=float32, numpy=210045.19>"
            ]
          },
          "metadata": {},
          "execution_count": 33
        }
      ]
    },
    {
      "cell_type": "code",
      "source": [],
      "metadata": {
        "id": "4j7fbniBxnO5"
      },
      "execution_count": 33,
      "outputs": []
    },
    {
      "cell_type": "code",
      "source": [],
      "metadata": {
        "id": "Q_S1ioeMxnaB"
      },
      "execution_count": 33,
      "outputs": []
    },
    {
      "cell_type": "code",
      "source": [],
      "metadata": {
        "id": "5CtagBeGxnmL"
      },
      "execution_count": 33,
      "outputs": []
    },
    {
      "cell_type": "code",
      "source": [
        "ranking = np.arange(35)\n",
        "ranking"
      ],
      "metadata": {
        "colab": {
          "base_uri": "https://localhost:8080/"
        },
        "id": "TkyDm3Dxxqd5",
        "outputId": "8abe311e-f2b0-4f84-f345-e70f8d04c8de"
      },
      "execution_count": 35,
      "outputs": [
        {
          "output_type": "execute_result",
          "data": {
            "text/plain": [
              "array([ 0,  1,  2,  3,  4,  5,  6,  7,  8,  9, 10, 11, 12, 13, 14, 15, 16,\n",
              "       17, 18, 19, 20, 21, 22, 23, 24, 25, 26, 27, 28, 29, 30, 31, 32, 33,\n",
              "       34])"
            ]
          },
          "metadata": {},
          "execution_count": 35
        }
      ]
    },
    {
      "cell_type": "code",
      "source": [
        "for i in range(34):\n",
        "  pred_ranking = np.roll(ranking, -i-1)\n",
        "  print(pred_ranking)\n",
        "  loss = loss_ranking(ranking, pred_ranking )\n",
        "  print(\"loss ranking: \" + str(loss))\n",
        "  loss = perdida_listas(ranking, pred_ranking )\n",
        "  print(\"perdida_listas: \" + str(loss))\n",
        "  loss = mse(ranking, pred_ranking )\n",
        "  print(\"mse: \" + str(loss))"
      ],
      "metadata": {
        "colab": {
          "base_uri": "https://localhost:8080/"
        },
        "id": "Ud84xlb8yC_T",
        "outputId": "86085cd8-9d30-4a74-a064-6b1cbfad4407"
      },
      "execution_count": 69,
      "outputs": [
        {
          "output_type": "stream",
          "name": "stdout",
          "text": [
            "[ 1  2  3  4  5  6  7  8  9 10 11 12 13 14 15 16 17 18 19 20 21 22 23 24\n",
            " 25 26 27 28 29 30 31 32 33 34  0]\n",
            "loss ranking: tf.Tensor(3404.1023, shape=(), dtype=float32)\n",
            "perdida_listas: tf.Tensor(105.07248, shape=(), dtype=float32)\n",
            "mse: tf.Tensor(68.0, shape=(), dtype=float32)\n",
            "[ 2  3  4  5  6  7  8  9 10 11 12 13 14 15 16 17 18 19 20 21 22 23 24 25\n",
            " 26 27 28 29 30 31 32 33 34  0  1]\n",
            "loss ranking: tf.Tensor(3338.8975, shape=(), dtype=float32)\n",
            "perdida_listas: tf.Tensor(210.05496, shape=(), dtype=float32)\n",
            "mse: tf.Tensor(132.0, shape=(), dtype=float32)\n",
            "[ 3  4  5  6  7  8  9 10 11 12 13 14 15 16 17 18 19 20 21 22 23 24 25 26\n",
            " 27 28 29 30 31 32 33 34  0  1  2]\n",
            "loss ranking: tf.Tensor(3255.4473, shape=(), dtype=float32)\n",
            "perdida_listas: tf.Tensor(314.9437, shape=(), dtype=float32)\n",
            "mse: tf.Tensor(192.0, shape=(), dtype=float32)\n",
            "[ 4  5  6  7  8  9 10 11 12 13 14 15 16 17 18 19 20 21 22 23 24 25 26 27\n",
            " 28 29 30 31 32 33 34  0  1  2  3]\n",
            "loss ranking: tf.Tensor(3165.5444, shape=(), dtype=float32)\n",
            "perdida_listas: tf.Tensor(419.73468, shape=(), dtype=float32)\n",
            "mse: tf.Tensor(248.0, shape=(), dtype=float32)\n",
            "[ 5  6  7  8  9 10 11 12 13 14 15 16 17 18 19 20 21 22 23 24 25 26 27 28\n",
            " 29 30 31 32 33 34  0  1  2  3  4]\n",
            "loss ranking: tf.Tensor(3072.2412, shape=(), dtype=float32)\n",
            "perdida_listas: tf.Tensor(524.4235, shape=(), dtype=float32)\n",
            "mse: tf.Tensor(300.0, shape=(), dtype=float32)\n",
            "[ 6  7  8  9 10 11 12 13 14 15 16 17 18 19 20 21 22 23 24 25 26 27 28 29\n",
            " 30 31 32 33 34  0  1  2  3  4  5]\n",
            "loss ranking: tf.Tensor(2976.7957, shape=(), dtype=float32)\n",
            "perdida_listas: tf.Tensor(629.0055, shape=(), dtype=float32)\n",
            "mse: tf.Tensor(348.0, shape=(), dtype=float32)\n",
            "[ 7  8  9 10 11 12 13 14 15 16 17 18 19 20 21 22 23 24 25 26 27 28 29 30\n",
            " 31 32 33 34  0  1  2  3  4  5  6]\n",
            "loss ranking: tf.Tensor(2879.8542, shape=(), dtype=float32)\n",
            "perdida_listas: tf.Tensor(733.4756, shape=(), dtype=float32)\n",
            "mse: tf.Tensor(392.0, shape=(), dtype=float32)\n",
            "[ 8  9 10 11 12 13 14 15 16 17 18 19 20 21 22 23 24 25 26 27 28 29 30 31\n",
            " 32 33 34  0  1  2  3  4  5  6  7]\n",
            "loss ranking: tf.Tensor(2781.7966, shape=(), dtype=float32)\n",
            "perdida_listas: tf.Tensor(837.8277, shape=(), dtype=float32)\n",
            "mse: tf.Tensor(432.0, shape=(), dtype=float32)\n",
            "[ 9 10 11 12 13 14 15 16 17 18 19 20 21 22 23 24 25 26 27 28 29 30 31 32\n",
            " 33 34  0  1  2  3  4  5  6  7  8]\n",
            "loss ranking: tf.Tensor(2682.8652, shape=(), dtype=float32)\n",
            "perdida_listas: tf.Tensor(942.056, shape=(), dtype=float32)\n",
            "mse: tf.Tensor(468.0, shape=(), dtype=float32)\n",
            "[10 11 12 13 14 15 16 17 18 19 20 21 22 23 24 25 26 27 28 29 30 31 32 33\n",
            " 34  0  1  2  3  4  5  6  7  8  9]\n",
            "loss ranking: tf.Tensor(2583.227, shape=(), dtype=float32)\n",
            "perdida_listas: tf.Tensor(1046.1537, shape=(), dtype=float32)\n",
            "mse: tf.Tensor(500.0, shape=(), dtype=float32)\n",
            "[11 12 13 14 15 16 17 18 19 20 21 22 23 24 25 26 27 28 29 30 31 32 33 34\n",
            "  0  1  2  3  4  5  6  7  8  9 10]\n",
            "loss ranking: tf.Tensor(2483.0005, shape=(), dtype=float32)\n",
            "perdida_listas: tf.Tensor(1150.113, shape=(), dtype=float32)\n",
            "mse: tf.Tensor(528.0, shape=(), dtype=float32)\n",
            "[12 13 14 15 16 17 18 19 20 21 22 23 24 25 26 27 28 29 30 31 32 33 34  0\n",
            "  1  2  3  4  5  6  7  8  9 10 11]\n",
            "loss ranking: tf.Tensor(2382.2747, shape=(), dtype=float32)\n",
            "perdida_listas: tf.Tensor(1253.9257, shape=(), dtype=float32)\n",
            "mse: tf.Tensor(552.0, shape=(), dtype=float32)\n",
            "[13 14 15 16 17 18 19 20 21 22 23 24 25 26 27 28 29 30 31 32 33 34  0  1\n",
            "  2  3  4  5  6  7  8  9 10 11 12]\n",
            "loss ranking: tf.Tensor(2281.1174, shape=(), dtype=float32)\n",
            "perdida_listas: tf.Tensor(1357.5822, shape=(), dtype=float32)\n",
            "mse: tf.Tensor(572.0, shape=(), dtype=float32)\n",
            "[14 15 16 17 18 19 20 21 22 23 24 25 26 27 28 29 30 31 32 33 34  0  1  2\n",
            "  3  4  5  6  7  8  9 10 11 12 13]\n",
            "loss ranking: tf.Tensor(2179.5823, shape=(), dtype=float32)\n",
            "perdida_listas: tf.Tensor(1461.0723, shape=(), dtype=float32)\n",
            "mse: tf.Tensor(588.0, shape=(), dtype=float32)\n",
            "[15 16 17 18 19 20 21 22 23 24 25 26 27 28 29 30 31 32 33 34  0  1  2  3\n",
            "  4  5  6  7  8  9 10 11 12 13 14]\n",
            "loss ranking: tf.Tensor(2077.712, shape=(), dtype=float32)\n",
            "perdida_listas: tf.Tensor(1564.3838, shape=(), dtype=float32)\n",
            "mse: tf.Tensor(600.0, shape=(), dtype=float32)\n",
            "[16 17 18 19 20 21 22 23 24 25 26 27 28 29 30 31 32 33 34  0  1  2  3  4\n",
            "  5  6  7  8  9 10 11 12 13 14 15]\n",
            "loss ranking: tf.Tensor(1975.5425, shape=(), dtype=float32)\n",
            "perdida_listas: tf.Tensor(1667.5034, shape=(), dtype=float32)\n",
            "mse: tf.Tensor(608.0, shape=(), dtype=float32)\n",
            "[17 18 19 20 21 22 23 24 25 26 27 28 29 30 31 32 33 34  0  1  2  3  4  5\n",
            "  6  7  8  9 10 11 12 13 14 15 16]\n",
            "loss ranking: tf.Tensor(1873.1019, shape=(), dtype=float32)\n",
            "perdida_listas: tf.Tensor(1770.4152, shape=(), dtype=float32)\n",
            "mse: tf.Tensor(612.0, shape=(), dtype=float32)\n",
            "[18 19 20 21 22 23 24 25 26 27 28 29 30 31 32 33 34  0  1  2  3  4  5  6\n",
            "  7  8  9 10 11 12 13 14 15 16 17]\n",
            "loss ranking: tf.Tensor(1770.4153, shape=(), dtype=float32)\n",
            "perdida_listas: tf.Tensor(1873.1017, shape=(), dtype=float32)\n",
            "mse: tf.Tensor(612.0, shape=(), dtype=float32)\n",
            "[19 20 21 22 23 24 25 26 27 28 29 30 31 32 33 34  0  1  2  3  4  5  6  7\n",
            "  8  9 10 11 12 13 14 15 16 17 18]\n",
            "loss ranking: tf.Tensor(1667.5033, shape=(), dtype=float32)\n",
            "perdida_listas: tf.Tensor(1975.5424, shape=(), dtype=float32)\n",
            "mse: tf.Tensor(608.0, shape=(), dtype=float32)\n",
            "[20 21 22 23 24 25 26 27 28 29 30 31 32 33 34  0  1  2  3  4  5  6  7  8\n",
            "  9 10 11 12 13 14 15 16 17 18 19]\n",
            "loss ranking: tf.Tensor(1564.3838, shape=(), dtype=float32)\n",
            "perdida_listas: tf.Tensor(2077.7122, shape=(), dtype=float32)\n",
            "mse: tf.Tensor(600.0, shape=(), dtype=float32)\n",
            "[21 22 23 24 25 26 27 28 29 30 31 32 33 34  0  1  2  3  4  5  6  7  8  9\n",
            " 10 11 12 13 14 15 16 17 18 19 20]\n",
            "loss ranking: tf.Tensor(1461.0724, shape=(), dtype=float32)\n",
            "perdida_listas: tf.Tensor(2179.5823, shape=(), dtype=float32)\n",
            "mse: tf.Tensor(588.0, shape=(), dtype=float32)\n",
            "[22 23 24 25 26 27 28 29 30 31 32 33 34  0  1  2  3  4  5  6  7  8  9 10\n",
            " 11 12 13 14 15 16 17 18 19 20 21]\n",
            "loss ranking: tf.Tensor(1357.5823, shape=(), dtype=float32)\n",
            "perdida_listas: tf.Tensor(2281.1174, shape=(), dtype=float32)\n",
            "mse: tf.Tensor(572.0, shape=(), dtype=float32)\n",
            "[23 24 25 26 27 28 29 30 31 32 33 34  0  1  2  3  4  5  6  7  8  9 10 11\n",
            " 12 13 14 15 16 17 18 19 20 21 22]\n",
            "loss ranking: tf.Tensor(1253.9257, shape=(), dtype=float32)\n",
            "perdida_listas: tf.Tensor(2382.2747, shape=(), dtype=float32)\n",
            "mse: tf.Tensor(552.0, shape=(), dtype=float32)\n",
            "[24 25 26 27 28 29 30 31 32 33 34  0  1  2  3  4  5  6  7  8  9 10 11 12\n",
            " 13 14 15 16 17 18 19 20 21 22 23]\n",
            "loss ranking: tf.Tensor(1150.1129, shape=(), dtype=float32)\n",
            "perdida_listas: tf.Tensor(2483.0005, shape=(), dtype=float32)\n",
            "mse: tf.Tensor(528.0, shape=(), dtype=float32)\n",
            "[25 26 27 28 29 30 31 32 33 34  0  1  2  3  4  5  6  7  8  9 10 11 12 13\n",
            " 14 15 16 17 18 19 20 21 22 23 24]\n",
            "loss ranking: tf.Tensor(1046.1537, shape=(), dtype=float32)\n",
            "perdida_listas: tf.Tensor(2583.227, shape=(), dtype=float32)\n",
            "mse: tf.Tensor(500.0, shape=(), dtype=float32)\n",
            "[26 27 28 29 30 31 32 33 34  0  1  2  3  4  5  6  7  8  9 10 11 12 13 14\n",
            " 15 16 17 18 19 20 21 22 23 24 25]\n",
            "loss ranking: tf.Tensor(942.0561, shape=(), dtype=float32)\n",
            "perdida_listas: tf.Tensor(2682.8652, shape=(), dtype=float32)\n",
            "mse: tf.Tensor(468.0, shape=(), dtype=float32)\n",
            "[27 28 29 30 31 32 33 34  0  1  2  3  4  5  6  7  8  9 10 11 12 13 14 15\n",
            " 16 17 18 19 20 21 22 23 24 25 26]\n",
            "loss ranking: tf.Tensor(837.82776, shape=(), dtype=float32)\n",
            "perdida_listas: tf.Tensor(2781.7969, shape=(), dtype=float32)\n",
            "mse: tf.Tensor(432.0, shape=(), dtype=float32)\n",
            "[28 29 30 31 32 33 34  0  1  2  3  4  5  6  7  8  9 10 11 12 13 14 15 16\n",
            " 17 18 19 20 21 22 23 24 25 26 27]\n",
            "loss ranking: tf.Tensor(733.4755, shape=(), dtype=float32)\n",
            "perdida_listas: tf.Tensor(2879.8545, shape=(), dtype=float32)\n",
            "mse: tf.Tensor(392.0, shape=(), dtype=float32)\n",
            "[29 30 31 32 33 34  0  1  2  3  4  5  6  7  8  9 10 11 12 13 14 15 16 17\n",
            " 18 19 20 21 22 23 24 25 26 27 28]\n",
            "loss ranking: tf.Tensor(629.00555, shape=(), dtype=float32)\n",
            "perdida_listas: tf.Tensor(2976.796, shape=(), dtype=float32)\n",
            "mse: tf.Tensor(348.0, shape=(), dtype=float32)\n",
            "[30 31 32 33 34  0  1  2  3  4  5  6  7  8  9 10 11 12 13 14 15 16 17 18\n",
            " 19 20 21 22 23 24 25 26 27 28 29]\n",
            "loss ranking: tf.Tensor(524.42346, shape=(), dtype=float32)\n",
            "perdida_listas: tf.Tensor(3072.241, shape=(), dtype=float32)\n",
            "mse: tf.Tensor(300.0, shape=(), dtype=float32)\n",
            "[31 32 33 34  0  1  2  3  4  5  6  7  8  9 10 11 12 13 14 15 16 17 18 19\n",
            " 20 21 22 23 24 25 26 27 28 29 30]\n",
            "loss ranking: tf.Tensor(419.7347, shape=(), dtype=float32)\n",
            "perdida_listas: tf.Tensor(3165.544, shape=(), dtype=float32)\n",
            "mse: tf.Tensor(248.0, shape=(), dtype=float32)\n",
            "[32 33 34  0  1  2  3  4  5  6  7  8  9 10 11 12 13 14 15 16 17 18 19 20\n",
            " 21 22 23 24 25 26 27 28 29 30 31]\n",
            "loss ranking: tf.Tensor(314.94366, shape=(), dtype=float32)\n",
            "perdida_listas: tf.Tensor(3255.4473, shape=(), dtype=float32)\n",
            "mse: tf.Tensor(192.0, shape=(), dtype=float32)\n",
            "[33 34  0  1  2  3  4  5  6  7  8  9 10 11 12 13 14 15 16 17 18 19 20 21\n",
            " 22 23 24 25 26 27 28 29 30 31 32]\n",
            "loss ranking: tf.Tensor(210.05496, shape=(), dtype=float32)\n",
            "perdida_listas: tf.Tensor(3338.8977, shape=(), dtype=float32)\n",
            "mse: tf.Tensor(132.0, shape=(), dtype=float32)\n",
            "[34  0  1  2  3  4  5  6  7  8  9 10 11 12 13 14 15 16 17 18 19 20 21 22\n",
            " 23 24 25 26 27 28 29 30 31 32 33]\n",
            "loss ranking: tf.Tensor(105.07247, shape=(), dtype=float32)\n",
            "perdida_listas: tf.Tensor(3404.1018, shape=(), dtype=float32)\n",
            "mse: tf.Tensor(68.0, shape=(), dtype=float32)\n"
          ]
        }
      ]
    },
    {
      "cell_type": "code",
      "source": [
        "\"\"\"\n",
        "\n",
        "[25 26 27 28 29 30 31 32 33 34  0  1  2  3  4  5  6  7  8  9 10 11 12 13\n",
        " 14 15 16 17 18 19 20 21 22 23 24]\n",
        "loss ranking: tf.Tensor(1046.1537, shape=(), dtype=float32)\n",
        "perdida_listas: tf.Tensor(2583.227, shape=(), dtype=float32)\n",
        "\n",
        "\"\"\""
      ],
      "metadata": {
        "id": "ud-JZguX0U7q"
      },
      "execution_count": null,
      "outputs": []
    },
    {
      "cell_type": "code",
      "source": [
        "a = np.arange(25 ,35)\n",
        "a"
      ],
      "metadata": {
        "colab": {
          "base_uri": "https://localhost:8080/"
        },
        "id": "fMATyECi0KnL",
        "outputId": "4a058113-a256-4905-ff25-bc14ba17853b"
      },
      "execution_count": 50,
      "outputs": [
        {
          "output_type": "execute_result",
          "data": {
            "text/plain": [
              "array([25, 26, 27, 28, 29, 30, 31, 32, 33, 34])"
            ]
          },
          "metadata": {},
          "execution_count": 50
        }
      ]
    },
    {
      "cell_type": "code",
      "source": [
        "b = np.arange(0 ,25)\n",
        "np.flip(b)"
      ],
      "metadata": {
        "colab": {
          "base_uri": "https://localhost:8080/"
        },
        "id": "XMm-SYi50fuM",
        "outputId": "87d26ef6-eea0-46c3-ff35-de0a9ec14470"
      },
      "execution_count": 56,
      "outputs": [
        {
          "output_type": "execute_result",
          "data": {
            "text/plain": [
              "array([24, 23, 22, 21, 20, 19, 18, 17, 16, 15, 14, 13, 12, 11, 10,  9,  8,\n",
              "        7,  6,  5,  4,  3,  2,  1,  0])"
            ]
          },
          "metadata": {},
          "execution_count": 56
        }
      ]
    },
    {
      "cell_type": "code",
      "source": [
        "np.concatenate((a, np.flip(b)))"
      ],
      "metadata": {
        "colab": {
          "base_uri": "https://localhost:8080/"
        },
        "id": "xQPeWfBc0x4j",
        "outputId": "9b0ad62d-2493-4669-fbc6-8583adb089b5"
      },
      "execution_count": 61,
      "outputs": [
        {
          "output_type": "execute_result",
          "data": {
            "text/plain": [
              "array([25, 26, 27, 28, 29, 30, 31, 32, 33, 34, 24, 23, 22, 21, 20, 19, 18,\n",
              "       17, 16, 15, 14, 13, 12, 11, 10,  9,  8,  7,  6,  5,  4,  3,  2,  1,\n",
              "        0])"
            ]
          },
          "metadata": {},
          "execution_count": 61
        }
      ]
    },
    {
      "cell_type": "code",
      "source": [
        "worst_pred = np.concatenate((a, np.flip(b)))"
      ],
      "metadata": {
        "id": "IwsEawNo1Lpt"
      },
      "execution_count": 62,
      "outputs": []
    },
    {
      "cell_type": "code",
      "source": [
        "loss = loss_ranking(ranking, worst_pred )\n",
        "print(\"loss ranking: \" + str(loss))\n",
        "loss = perdida_listas(ranking, worst_pred )\n",
        "print(\"perdida_listas: \" + str(loss))\n",
        "loss = mse(ranking, worst_pred )\n",
        "print(\"mse: \" + str(loss))"
      ],
      "metadata": {
        "colab": {
          "base_uri": "https://localhost:8080/"
        },
        "id": "XQ966fFh1OyD",
        "outputId": "c1e60cdd-0d51-4617-f219-bf67c1ae88b5"
      },
      "execution_count": 70,
      "outputs": [
        {
          "output_type": "stream",
          "name": "stdout",
          "text": [
            "loss ranking: tf.Tensor(3493.3992, shape=(), dtype=float32)\n",
            "perdida_listas: tf.Tensor(3493.399, shape=(), dtype=float32)\n",
            "mse: tf.Tensor(612.0, shape=(), dtype=float32)\n"
          ]
        }
      ]
    },
    {
      "cell_type": "code",
      "source": [
        "np.flip(ranking)"
      ],
      "metadata": {
        "colab": {
          "base_uri": "https://localhost:8080/"
        },
        "id": "3oKWB_VH1eSO",
        "outputId": "b2eef4c8-c237-4146-8709-f6367361a351"
      },
      "execution_count": 65,
      "outputs": [
        {
          "output_type": "execute_result",
          "data": {
            "text/plain": [
              "array([34, 33, 32, 31, 30, 29, 28, 27, 26, 25, 24, 23, 22, 21, 20, 19, 18,\n",
              "       17, 16, 15, 14, 13, 12, 11, 10,  9,  8,  7,  6,  5,  4,  3,  2,  1,\n",
              "        0])"
            ]
          },
          "metadata": {},
          "execution_count": 65
        }
      ]
    },
    {
      "cell_type": "code",
      "source": [
        "worst_pred = np.flip(ranking)\n",
        "loss = loss_ranking(ranking, worst_pred )\n",
        "print(\"loss ranking: \" + str(loss))\n",
        "loss = perdida_listas(ranking, worst_pred )\n",
        "print(\"perdida_listas: \" + str(loss))\n",
        "loss = mse(ranking, worst_pred )\n",
        "print(\"mse: \" + str(loss))"
      ],
      "metadata": {
        "colab": {
          "base_uri": "https://localhost:8080/"
        },
        "id": "tvN2sbjT1n4k",
        "outputId": "55b807d0-3c82-4a4f-8a59-7a3e844e92a8"
      },
      "execution_count": 71,
      "outputs": [
        {
          "output_type": "stream",
          "name": "stdout",
          "text": [
            "loss ranking: tf.Tensor(3493.3992, shape=(), dtype=float32)\n",
            "perdida_listas: tf.Tensor(3493.399, shape=(), dtype=float32)\n",
            "mse: tf.Tensor(612.0, shape=(), dtype=float32)\n"
          ]
        }
      ]
    }
  ]
}