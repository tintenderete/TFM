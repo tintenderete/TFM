{
  "nbformat": 4,
  "nbformat_minor": 0,
  "metadata": {
    "colab": {
      "provenance": [],
      "toc_visible": true,
      "authorship_tag": "ABX9TyNP+Q51zYIES7LqWD7xlCji",
      "include_colab_link": true
    },
    "kernelspec": {
      "name": "python3",
      "display_name": "Python 3"
    },
    "language_info": {
      "name": "python"
    }
  },
  "cells": [
    {
      "cell_type": "markdown",
      "metadata": {
        "id": "view-in-github",
        "colab_type": "text"
      },
      "source": [
        "<a href=\"https://colab.research.google.com/github/tintenderete/TFM-Algoritmo-con-redes-evolutivas/blob/main/C_funcion_perdida_1.ipynb\" target=\"_parent\"><img src=\"https://colab.research.google.com/assets/colab-badge.svg\" alt=\"Open In Colab\"/></a>"
      ]
    },
    {
      "cell_type": "code",
      "source": [
        "import tensorflow as tf\n",
        "import numpy as np"
      ],
      "metadata": {
        "id": "lbRBYpdYemmT"
      },
      "execution_count": 2,
      "outputs": []
    },
    {
      "cell_type": "code",
      "execution_count": 3,
      "metadata": {
        "id": "0l9bmj-Neav9"
      },
      "outputs": [],
      "source": [
        "def perdida_listas(ranking_real, ranking_predicho):\n",
        "    diferencias = tf.abs(ranking_real - ranking_predicho)\n",
        "    perdida_total = tf.reduce_sum(diferencias)\n",
        "    \"\"\"\n",
        "    Una opción podría ser cambiar tf.reduce_sum() por tf.reduce_mean() para tomar el promedio de las diferencias en lugar de la suma. Esto hará que la pérdida sea independiente del tamaño del lote de datos.\n",
        "    \"\"\"\n",
        "    return perdida_total\n"
      ]
    },
    {
      "cell_type": "code",
      "source": [
        "ranking_real = np.array([[6,3,2,4,5,1]])\n",
        "ranking_real"
      ],
      "metadata": {
        "colab": {
          "base_uri": "https://localhost:8080/"
        },
        "id": "o1TNj_l7ffTm",
        "outputId": "d7201767-a4ee-4866-fa52-6c9f2dec9fb0"
      },
      "execution_count": 4,
      "outputs": [
        {
          "output_type": "execute_result",
          "data": {
            "text/plain": [
              "array([[6, 3, 2, 4, 5, 1]])"
            ]
          },
          "metadata": {},
          "execution_count": 4
        }
      ]
    },
    {
      "cell_type": "code",
      "source": [
        "ranking_predicho = np.array([[1,2,3,6,5,4]])\n",
        "ranking_predicho"
      ],
      "metadata": {
        "colab": {
          "base_uri": "https://localhost:8080/"
        },
        "id": "hWjagbCvghGM",
        "outputId": "0837cc71-e316-4f56-e56c-007ff354d03c"
      },
      "execution_count": 5,
      "outputs": [
        {
          "output_type": "execute_result",
          "data": {
            "text/plain": [
              "array([[1, 2, 3, 6, 5, 4]])"
            ]
          },
          "metadata": {},
          "execution_count": 5
        }
      ]
    },
    {
      "cell_type": "code",
      "source": [
        "diferencias = tf.abs(ranking_real - ranking_predicho)\n",
        "diferencias"
      ],
      "metadata": {
        "colab": {
          "base_uri": "https://localhost:8080/"
        },
        "id": "Rr_23ouLgzpQ",
        "outputId": "b2a63bb5-f6f1-4bd9-dd48-86c92b749c35"
      },
      "execution_count": 6,
      "outputs": [
        {
          "output_type": "execute_result",
          "data": {
            "text/plain": [
              "<tf.Tensor: shape=(1, 6), dtype=int64, numpy=array([[5, 1, 1, 2, 0, 3]])>"
            ]
          },
          "metadata": {},
          "execution_count": 6
        }
      ]
    },
    {
      "cell_type": "code",
      "source": [
        "perdida_total = tf.reduce_sum(diferencias)\n",
        "perdida_total"
      ],
      "metadata": {
        "colab": {
          "base_uri": "https://localhost:8080/"
        },
        "id": "HBhJ4nkbhTt1",
        "outputId": "f3f15760-4407-4e67-ff44-efff920029b1"
      },
      "execution_count": 7,
      "outputs": [
        {
          "output_type": "execute_result",
          "data": {
            "text/plain": [
              "<tf.Tensor: shape=(), dtype=int64, numpy=12>"
            ]
          },
          "metadata": {},
          "execution_count": 7
        }
      ]
    },
    {
      "cell_type": "code",
      "source": [
        "perdida_listas(ranking_real, ranking_predicho)"
      ],
      "metadata": {
        "colab": {
          "base_uri": "https://localhost:8080/"
        },
        "id": "2t7At1n3gqkd",
        "outputId": "398a8763-0674-43f1-d5db-c4e52b7cc628"
      },
      "execution_count": 8,
      "outputs": [
        {
          "output_type": "execute_result",
          "data": {
            "text/plain": [
              "<tf.Tensor: shape=(), dtype=int64, numpy=12>"
            ]
          },
          "metadata": {},
          "execution_count": 8
        }
      ]
    },
    {
      "cell_type": "markdown",
      "source": [
        "# asignar más peso a las diferencias que corresponden a números más bajos en el ranking real.\n",
        "\n",
        "castiga cuando los mejores estan clasificados como peores"
      ],
      "metadata": {
        "id": "DiQbwz9UjF89"
      }
    },
    {
      "cell_type": "code",
      "source": [
        "def perdida_listas(ranking_real, ranking_predicho):\n",
        "    diferencias = tf.abs(ranking_real - ranking_predicho)\n",
        "    diferencias_ponderadas = diferencias / (ranking_real + 1e-7)  # Añadimos un pequeño número para evitar la división por cero\n",
        "    perdida_total = tf.reduce_sum(diferencias_ponderadas)\n",
        "    return perdida_total"
      ],
      "metadata": {
        "id": "op4HIHjBjLBh"
      },
      "execution_count": 9,
      "outputs": []
    },
    {
      "cell_type": "code",
      "source": [
        "ranking_real, ranking_predicho"
      ],
      "metadata": {
        "colab": {
          "base_uri": "https://localhost:8080/"
        },
        "id": "MsuxCBA7jTml",
        "outputId": "621e935f-4015-4d10-db7a-1382ab7bfbd0"
      },
      "execution_count": 10,
      "outputs": [
        {
          "output_type": "execute_result",
          "data": {
            "text/plain": [
              "(array([[6, 3, 2, 4, 5, 1]]), array([[1, 2, 3, 6, 5, 4]]))"
            ]
          },
          "metadata": {},
          "execution_count": 10
        }
      ]
    },
    {
      "cell_type": "code",
      "source": [
        "diferencias = tf.abs(ranking_real - ranking_predicho)\n",
        "diferencias"
      ],
      "metadata": {
        "colab": {
          "base_uri": "https://localhost:8080/"
        },
        "id": "Ww5bIdgRjN5p",
        "outputId": "1e4180ce-3817-4702-b826-6af5d0d6f359"
      },
      "execution_count": 11,
      "outputs": [
        {
          "output_type": "execute_result",
          "data": {
            "text/plain": [
              "<tf.Tensor: shape=(1, 6), dtype=int64, numpy=array([[5, 1, 1, 2, 0, 3]])>"
            ]
          },
          "metadata": {},
          "execution_count": 11
        }
      ]
    },
    {
      "cell_type": "code",
      "source": [
        "diferencias_ponderadas = diferencias / (ranking_real + 1e-7)\n",
        "diferencias_ponderadas.numpy()"
      ],
      "metadata": {
        "colab": {
          "base_uri": "https://localhost:8080/"
        },
        "id": "A7W6FpSKjW_I",
        "outputId": "d5531b04-87f1-45d3-80d3-9802f5d78f9b"
      },
      "execution_count": 12,
      "outputs": [
        {
          "output_type": "execute_result",
          "data": {
            "text/plain": [
              "array([[0.83333333, 0.33333333, 0.5       , 0.5       , 0.        ,\n",
              "        3.        ]])"
            ]
          },
          "metadata": {},
          "execution_count": 12
        }
      ]
    },
    {
      "cell_type": "code",
      "source": [
        "perdida_total = tf.reduce_sum(diferencias_ponderadas)\n",
        "perdida_total"
      ],
      "metadata": {
        "colab": {
          "base_uri": "https://localhost:8080/"
        },
        "id": "dJtwpW4Gjk1N",
        "outputId": "3e638610-fb28-4835-ecee-eba832d863fa"
      },
      "execution_count": 13,
      "outputs": [
        {
          "output_type": "execute_result",
          "data": {
            "text/plain": [
              "<tf.Tensor: shape=(), dtype=float64, numpy=5.166666666666667>"
            ]
          },
          "metadata": {},
          "execution_count": 13
        }
      ]
    },
    {
      "cell_type": "code",
      "source": [
        "perdida_listas(ranking_real, ranking_predicho)"
      ],
      "metadata": {
        "colab": {
          "base_uri": "https://localhost:8080/"
        },
        "id": "Eg2PgKzNkD_5",
        "outputId": "509bfd8c-70c6-4e08-9bb9-1b1a54986613"
      },
      "execution_count": 14,
      "outputs": [
        {
          "output_type": "execute_result",
          "data": {
            "text/plain": [
              "<tf.Tensor: shape=(), dtype=float64, numpy=5.166666666666667>"
            ]
          },
          "metadata": {},
          "execution_count": 14
        }
      ]
    },
    {
      "cell_type": "code",
      "source": [],
      "metadata": {
        "id": "cCLxKKKToAEo"
      },
      "execution_count": 14,
      "outputs": []
    },
    {
      "cell_type": "markdown",
      "source": [
        "## inversa"
      ],
      "metadata": {
        "id": "9wF_hp9rwm7A"
      }
    },
    {
      "cell_type": "markdown",
      "source": [
        "castiga cuando los peores estan clasificados como mejores"
      ],
      "metadata": {
        "id": "pxSzRnJspr_E"
      }
    },
    {
      "cell_type": "code",
      "source": [
        "ranking_real, ranking_predicho"
      ],
      "metadata": {
        "colab": {
          "base_uri": "https://localhost:8080/"
        },
        "id": "6SneRl2Yp1Z2",
        "outputId": "a996b702-735d-4a7d-e034-fc64a19aa7b1"
      },
      "execution_count": 15,
      "outputs": [
        {
          "output_type": "execute_result",
          "data": {
            "text/plain": [
              "(array([[6, 3, 2, 4, 5, 1]]), array([[1, 2, 3, 6, 5, 4]]))"
            ]
          },
          "metadata": {},
          "execution_count": 15
        }
      ]
    },
    {
      "cell_type": "code",
      "source": [
        "diferencias = tf.abs(ranking_real - ranking_predicho)\n",
        "diferencias"
      ],
      "metadata": {
        "colab": {
          "base_uri": "https://localhost:8080/"
        },
        "id": "4ATJtcCMrSBj",
        "outputId": "fec968e7-c4f0-4ba2-c20a-1fe8dbdbabee"
      },
      "execution_count": 16,
      "outputs": [
        {
          "output_type": "execute_result",
          "data": {
            "text/plain": [
              "<tf.Tensor: shape=(1, 6), dtype=int64, numpy=array([[5, 1, 1, 2, 0, 3]])>"
            ]
          },
          "metadata": {},
          "execution_count": 16
        }
      ]
    },
    {
      "cell_type": "code",
      "source": [
        "diferencias_ponderadas = diferencias / (ranking_predicho + 1e-7)\n",
        "diferencias_ponderadas.numpy()"
      ],
      "metadata": {
        "colab": {
          "base_uri": "https://localhost:8080/"
        },
        "id": "MDnG5JUHrT3S",
        "outputId": "37bc1b78-7fa3-484e-a9c5-3b1903f05ee8"
      },
      "execution_count": 17,
      "outputs": [
        {
          "output_type": "execute_result",
          "data": {
            "text/plain": [
              "array([[5.        , 0.5       , 0.33333333, 0.33333333, 0.        ,\n",
              "        0.75      ]])"
            ]
          },
          "metadata": {},
          "execution_count": 17
        }
      ]
    },
    {
      "cell_type": "code",
      "source": [
        "def perdida_listas(ranking_real, ranking_predicho):\n",
        "    ranking_real = tf.cast(ranking_real, tf.float32)\n",
        "    ranking_predicho = tf.cast(ranking_predicho, tf.float32)\n",
        "    diferencias = tf.abs(ranking_real - ranking_predicho)\n",
        "    diferencias_ponderadas = diferencias / (ranking_real + 0.01)  # Añadimos un pequeño número para evitar la división por cero\n",
        "    perdida_total = tf.reduce_sum(diferencias_ponderadas)\n",
        "    return perdida_total"
      ],
      "metadata": {
        "id": "PVG9qxGVzmXn"
      },
      "execution_count": 18,
      "outputs": []
    },
    {
      "cell_type": "code",
      "source": [
        "def loss_ranking(ranking_real, ranking_predicho):\n",
        "    ranking_real_float = tf.cast(ranking_real, tf.float32)\n",
        "    ranking_predicho = tf.cast(ranking_predicho, tf.float32)\n",
        "    diferencias = tf.abs(ranking_real_float - ranking_predicho)\n",
        "    diferencias_ponderadas = diferencias / (ranking_predicho + 0.01) # <<<<---------\n",
        "    perdida_total = tf.reduce_sum(diferencias_ponderadas)\n",
        "    return abs(perdida_total)"
      ],
      "metadata": {
        "id": "GcBQSjfjC4c3"
      },
      "execution_count": 19,
      "outputs": []
    },
    {
      "cell_type": "markdown",
      "source": [
        "----"
      ],
      "metadata": {
        "id": "liQGuGw9DnjG"
      }
    },
    {
      "cell_type": "code",
      "source": [
        "diferencias = tf.abs(np.array([1,2,3]) - np.array([10,2,3]))\n",
        "diferencias"
      ],
      "metadata": {
        "colab": {
          "base_uri": "https://localhost:8080/"
        },
        "id": "dwU0y80rMH6s",
        "outputId": "8985764c-4875-4d19-9855-fb0b1e8b3b65"
      },
      "execution_count": 20,
      "outputs": [
        {
          "output_type": "execute_result",
          "data": {
            "text/plain": [
              "<tf.Tensor: shape=(3,), dtype=int64, numpy=array([9, 0, 0])>"
            ]
          },
          "metadata": {},
          "execution_count": 20
        }
      ]
    },
    {
      "cell_type": "code",
      "source": [
        "diferencias_ponderadas = diferencias / ( np.array([1,2,3])  + 1e-7)\n",
        "diferencias_ponderadas.numpy()"
      ],
      "metadata": {
        "colab": {
          "base_uri": "https://localhost:8080/"
        },
        "id": "mEEc27uJMLpY",
        "outputId": "3eb87f4d-62b2-421d-ec01-82dfc9ecb2f0"
      },
      "execution_count": 21,
      "outputs": [
        {
          "output_type": "execute_result",
          "data": {
            "text/plain": [
              "array([9., 0., 0.])"
            ]
          },
          "metadata": {},
          "execution_count": 21
        }
      ]
    },
    {
      "cell_type": "code",
      "source": [
        "loss_ranking(\n",
        "    np.array([1,2,3]),\n",
        "    np.array([1,2,10])\n",
        "    )"
      ],
      "metadata": {
        "id": "UsfYcMa2DQNb",
        "outputId": "d91e38c1-283b-49ba-fe8a-e5a676c8b763",
        "colab": {
          "base_uri": "https://localhost:8080/"
        }
      },
      "execution_count": 22,
      "outputs": [
        {
          "output_type": "execute_result",
          "data": {
            "text/plain": [
              "<tf.Tensor: shape=(), dtype=float32, numpy=0.6993007>"
            ]
          },
          "metadata": {},
          "execution_count": 22
        }
      ]
    },
    {
      "cell_type": "code",
      "source": [
        "diferencias = tf.abs(np.array([1,2,3]) - np.array([10,2,3]))\n",
        "diferencias"
      ],
      "metadata": {
        "colab": {
          "base_uri": "https://localhost:8080/"
        },
        "id": "m0_B4lGWL6Vz",
        "outputId": "6e47773f-8968-4402-e684-b1682c41a589"
      },
      "execution_count": 23,
      "outputs": [
        {
          "output_type": "execute_result",
          "data": {
            "text/plain": [
              "<tf.Tensor: shape=(3,), dtype=int64, numpy=array([9, 0, 0])>"
            ]
          },
          "metadata": {},
          "execution_count": 23
        }
      ]
    },
    {
      "cell_type": "code",
      "source": [
        "diferencias_ponderadas = diferencias / (np.array([10,2,3]) + 1e-7)\n",
        "diferencias_ponderadas.numpy()"
      ],
      "metadata": {
        "colab": {
          "base_uri": "https://localhost:8080/"
        },
        "id": "yWu-0DYxL9Mt",
        "outputId": "d4b63655-138b-4afc-cb97-06ba4c543276"
      },
      "execution_count": 24,
      "outputs": [
        {
          "output_type": "execute_result",
          "data": {
            "text/plain": [
              "array([0.9, 0. , 0. ])"
            ]
          },
          "metadata": {},
          "execution_count": 24
        }
      ]
    },
    {
      "cell_type": "code",
      "source": [
        "loss_ranking(\n",
        "    np.array([1,2,3]),\n",
        "    np.array([10,2,3])\n",
        "    )"
      ],
      "metadata": {
        "id": "lv_vV-oPDh-o",
        "outputId": "40d2bef7-8da9-48d4-bafd-431074f90622",
        "colab": {
          "base_uri": "https://localhost:8080/"
        }
      },
      "execution_count": 25,
      "outputs": [
        {
          "output_type": "execute_result",
          "data": {
            "text/plain": [
              "<tf.Tensor: shape=(), dtype=float32, numpy=0.8991009>"
            ]
          },
          "metadata": {},
          "execution_count": 25
        }
      ]
    },
    {
      "cell_type": "code",
      "source": [
        "perdida_listas(\n",
        "    np.array([1,2,3]),\n",
        "    np.array([1,2,10])\n",
        "    )"
      ],
      "metadata": {
        "id": "x0o5EJboDlZM",
        "outputId": "3c3752a0-80c4-445d-da75-c6e753926a12",
        "colab": {
          "base_uri": "https://localhost:8080/"
        }
      },
      "execution_count": 26,
      "outputs": [
        {
          "output_type": "execute_result",
          "data": {
            "text/plain": [
              "<tf.Tensor: shape=(), dtype=float32, numpy=2.3255813>"
            ]
          },
          "metadata": {},
          "execution_count": 26
        }
      ]
    },
    {
      "cell_type": "code",
      "source": [
        "perdida_listas(\n",
        "    np.array([1,2,3]),\n",
        "    np.array([10,2,3])\n",
        "    )"
      ],
      "metadata": {
        "id": "36CL3zrJDrIq",
        "outputId": "d2f7552c-7245-4554-ccd9-d93dd9eefada",
        "colab": {
          "base_uri": "https://localhost:8080/"
        }
      },
      "execution_count": 27,
      "outputs": [
        {
          "output_type": "execute_result",
          "data": {
            "text/plain": [
              "<tf.Tensor: shape=(), dtype=float32, numpy=8.910892>"
            ]
          },
          "metadata": {},
          "execution_count": 27
        }
      ]
    },
    {
      "cell_type": "code",
      "source": [
        "tf.keras.metrics.mean_squared_error(\n",
        "    np.array([1,2,3]),\n",
        "    np.array([10,2,3])\n",
        ")"
      ],
      "metadata": {
        "id": "SbvPQZ6iEeSH",
        "outputId": "ebced258-2d69-4e7e-8cef-fd1127192210",
        "colab": {
          "base_uri": "https://localhost:8080/"
        }
      },
      "execution_count": 28,
      "outputs": [
        {
          "output_type": "execute_result",
          "data": {
            "text/plain": [
              "<tf.Tensor: shape=(), dtype=int64, numpy=27>"
            ]
          },
          "metadata": {},
          "execution_count": 28
        }
      ]
    },
    {
      "cell_type": "code",
      "source": [
        "tf.keras.metrics.mean_squared_error(\n",
        "    np.array([1,2,3]),\n",
        "    np.array([1,2,10])\n",
        ")"
      ],
      "metadata": {
        "id": "DTqV0OwKEnov",
        "outputId": "642669a6-b6ff-4867-b01d-fc24b4a8716b",
        "colab": {
          "base_uri": "https://localhost:8080/"
        }
      },
      "execution_count": 29,
      "outputs": [
        {
          "output_type": "execute_result",
          "data": {
            "text/plain": [
              "<tf.Tensor: shape=(), dtype=int64, numpy=16>"
            ]
          },
          "metadata": {},
          "execution_count": 29
        }
      ]
    },
    {
      "cell_type": "markdown",
      "source": [],
      "metadata": {
        "id": "VOFZ1If1OAyZ"
      }
    },
    {
      "cell_type": "markdown",
      "source": [],
      "metadata": {
        "id": "l7v4k-Z0OA14"
      }
    },
    {
      "cell_type": "markdown",
      "source": [],
      "metadata": {
        "id": "HvnY9R15OA5U"
      }
    },
    {
      "cell_type": "markdown",
      "source": [],
      "metadata": {
        "id": "o0cEX2hUOA9g"
      }
    },
    {
      "cell_type": "markdown",
      "source": [],
      "metadata": {
        "id": "5AVsBeLYOBCD"
      }
    },
    {
      "cell_type": "markdown",
      "source": [
        "# ANALISIS FUNCION DE PERDIDA"
      ],
      "metadata": {
        "id": "2IT9Y1bOOBEd"
      }
    },
    {
      "cell_type": "code",
      "source": [
        "def loss_ranking(ranking_real, ranking_predicho):\n",
        "    ranking_real_float = tf.cast(ranking_real, tf.float32)\n",
        "    ranking_predicho = tf.cast(ranking_predicho, tf.float32)\n",
        "    diferencias = tf.abs(ranking_real_float - ranking_predicho)\n",
        "    diferencias_ponderadas = diferencias / (ranking_predicho + 0.01) # <<<<---------\n",
        "    perdida_total = tf.reduce_sum(diferencias_ponderadas)\n",
        "    return abs(perdida_total)\n",
        "\n",
        "def perdida_listas(ranking_real, ranking_predicho):\n",
        "    ranking_real = tf.cast(ranking_real, tf.float32)\n",
        "    ranking_predicho = tf.cast(ranking_predicho, tf.float32)\n",
        "    diferencias = tf.abs(ranking_real - ranking_predicho)\n",
        "    diferencias_ponderadas = diferencias / (ranking_real + 0.01)  # Añadimos un pequeño número para evitar la división por cero\n",
        "    perdida_total = tf.reduce_sum(diferencias_ponderadas)\n",
        "    return perdida_total\n",
        "\n",
        "def diferencia_listas(ranking_real, ranking_predicho):\n",
        "    ranking_real = tf.cast(ranking_real, tf.float32)\n",
        "    ranking_predicho = tf.cast(ranking_predicho, tf.float32)\n",
        "    diferencias = tf.abs(ranking_real - ranking_predicho)\n",
        "    perdida_total = tf.reduce_sum(diferencias)\n",
        "    \"\"\"\n",
        "    Una opción podría ser cambiar tf.reduce_sum() por tf.reduce_mean() para tomar el promedio de las diferencias en lugar de la suma. Esto hará que la pérdida sea independiente del tamaño del lote de datos.\n",
        "    \"\"\"\n",
        "    return perdida_total\n",
        "\n",
        "def mse(y_true, y_pred):\n",
        "    y_true = tf.cast(y_true, tf.float32)\n",
        "    y_pred = tf.cast(y_pred, tf.float32)\n",
        "    squared_differences = tf.square(y_true - y_pred)\n",
        "    mean_squared_error = tf.reduce_mean(squared_differences)\n",
        "    return mean_squared_error\n",
        "\n",
        "def mae(y_true, y_pred):\n",
        "    y_true = tf.cast(y_true, tf.float32)\n",
        "    y_pred = tf.cast(y_pred, tf.float32)\n",
        "    absolute_differences = tf.abs(y_true - y_pred)\n",
        "    mean_absolute_error = tf.reduce_mean(absolute_differences)\n",
        "    return mean_absolute_error\n",
        "\n"
      ],
      "metadata": {
        "id": "g6aRy3A7OIgD"
      },
      "execution_count": 30,
      "outputs": []
    },
    {
      "cell_type": "code",
      "source": [
        "r_pred = np.array([[18, 28,  3, 23, 29, 20, 15, 21, 22, 27, 10, 14, 13,  6, 19, 11,\n",
        "         5, 25,  4, 30,  7, 12, 17, 26,  9,  2,  0, 16,  8, 24,  1]])\n",
        "\n",
        "r_real = np.array([25, 19, 13, 17, 16, 27, 29, 30, 15,  0,  3, 22,  1,  8,  2, 18, 10,\n",
        "        4, 20,  6, 12, 26,  7, 14, 24, 23, 21, 11, 28,  5,  9])\n",
        "\n",
        "r_real = tf.cast(r_real, tf.float32)\n",
        "r_pred = tf.cast(r_pred, tf.float32)"
      ],
      "metadata": {
        "id": "vrNfOX3UOBTA"
      },
      "execution_count": 31,
      "outputs": []
    },
    {
      "cell_type": "code",
      "source": [
        "diferencias = tf.abs(r_pred - r_real)\n",
        "diferencias"
      ],
      "metadata": {
        "colab": {
          "base_uri": "https://localhost:8080/"
        },
        "id": "Gjb4GbIEOLiy",
        "outputId": "aa0b7e69-4bfb-49bf-d0aa-821cbe62102f"
      },
      "execution_count": 32,
      "outputs": [
        {
          "output_type": "execute_result",
          "data": {
            "text/plain": [
              "<tf.Tensor: shape=(1, 31), dtype=float32, numpy=\n",
              "array([[ 7.,  9., 10.,  6., 13.,  7., 14.,  9.,  7., 27.,  7.,  8., 12.,\n",
              "         2., 17.,  7.,  5., 21., 16., 24.,  5., 14., 10., 12., 15., 21.,\n",
              "        21.,  5., 20., 19.,  8.]], dtype=float32)>"
            ]
          },
          "metadata": {},
          "execution_count": 32
        }
      ]
    },
    {
      "cell_type": "code",
      "source": [
        "(r_pred + 0.1)"
      ],
      "metadata": {
        "colab": {
          "base_uri": "https://localhost:8080/"
        },
        "id": "oRX5Q9kjPM0A",
        "outputId": "50171084-42ff-4f89-c248-a2667bfb110f"
      },
      "execution_count": 33,
      "outputs": [
        {
          "output_type": "execute_result",
          "data": {
            "text/plain": [
              "<tf.Tensor: shape=(1, 31), dtype=float32, numpy=\n",
              "array([[18.1, 28.1,  3.1, 23.1, 29.1, 20.1, 15.1, 21.1, 22.1, 27.1, 10.1,\n",
              "        14.1, 13.1,  6.1, 19.1, 11.1,  5.1, 25.1,  4.1, 30.1,  7.1, 12.1,\n",
              "        17.1, 26.1,  9.1,  2.1,  0.1, 16.1,  8.1, 24.1,  1.1]],\n",
              "      dtype=float32)>"
            ]
          },
          "metadata": {},
          "execution_count": 33
        }
      ]
    },
    {
      "cell_type": "code",
      "source": [
        "diferencias_ponderadas = diferencias / (r_pred + 0.0001)\n",
        "diferencias_ponderadas"
      ],
      "metadata": {
        "colab": {
          "base_uri": "https://localhost:8080/"
        },
        "id": "hDcWQOOaOTZJ",
        "outputId": "9a5a057f-01aa-4959-f1a1-c785c845dab6"
      },
      "execution_count": 34,
      "outputs": [
        {
          "output_type": "execute_result",
          "data": {
            "text/plain": [
              "<tf.Tensor: shape=(1, 31), dtype=float32, numpy=\n",
              "array([[3.88886750e-01, 3.21427435e-01, 3.33322239e+00, 2.60868430e-01,\n",
              "        4.48274314e-01, 3.49998266e-01, 9.33327079e-01, 4.28569406e-01,\n",
              "        3.18180382e-01, 9.99996305e-01, 6.99993014e-01, 5.71424484e-01,\n",
              "        9.23069835e-01, 3.33327770e-01, 8.94732177e-01, 6.36357844e-01,\n",
              "        9.99979973e-01, 8.39996696e-01, 3.99989986e+00, 7.99997330e-01,\n",
              "        7.14275479e-01, 1.16665697e+00, 5.88231862e-01, 4.61536705e-01,\n",
              "        1.66664815e+00, 1.04994755e+01, 2.10000000e+05, 3.12498063e-01,\n",
              "        2.49996877e+00, 7.91663408e-01, 7.99919987e+00]], dtype=float32)>"
            ]
          },
          "metadata": {},
          "execution_count": 34
        }
      ]
    },
    {
      "cell_type": "code",
      "source": [
        "perdida_total = tf.reduce_sum(diferencias_ponderadas)\n",
        "perdida_total"
      ],
      "metadata": {
        "colab": {
          "base_uri": "https://localhost:8080/"
        },
        "id": "3vGCRIMrOaGc",
        "outputId": "184a071f-e36c-4dcf-943b-d8aac43794fc"
      },
      "execution_count": 35,
      "outputs": [
        {
          "output_type": "execute_result",
          "data": {
            "text/plain": [
              "<tf.Tensor: shape=(), dtype=float32, numpy=210045.19>"
            ]
          },
          "metadata": {},
          "execution_count": 35
        }
      ]
    },
    {
      "cell_type": "code",
      "source": [],
      "metadata": {
        "id": "4j7fbniBxnO5"
      },
      "execution_count": 35,
      "outputs": []
    },
    {
      "cell_type": "code",
      "source": [],
      "metadata": {
        "id": "Q_S1ioeMxnaB"
      },
      "execution_count": 35,
      "outputs": []
    },
    {
      "cell_type": "code",
      "source": [],
      "metadata": {
        "id": "5CtagBeGxnmL"
      },
      "execution_count": 35,
      "outputs": []
    },
    {
      "cell_type": "code",
      "source": [
        "import matplotlib.pyplot as plt\n",
        "\n",
        "ranking = np.arange(35)\n",
        "\n",
        "loss_loss_ranking = []\n",
        "loss_perdida_listas = []\n",
        "loss_mse = []\n",
        "\n",
        "for i in range(len(ranking)-1) :\n",
        "  #pred_ranking = np.roll(ranking, -i-1)\n",
        "  pred_ranking = np.roll(ranking, i+1)\n",
        "  print(pred_ranking)\n",
        "  loss = loss_ranking(ranking, pred_ranking )\n",
        "  loss_loss_ranking.append(loss)\n",
        "  print(\"loss ranking: \" + str(loss))\n",
        "  loss = perdida_listas(ranking, pred_ranking )\n",
        "  loss_perdida_listas.append(loss)\n",
        "  print(\"perdida_listas: \" + str(loss))\n",
        "  loss = mse(ranking, pred_ranking )\n",
        "  loss_mse.append(loss)\n",
        "  print(\"mse: \" + str(loss))\n",
        "\n",
        "loss_loss_ranking = np.array(loss_loss_ranking)\n",
        "loss_perdida_listas = np.array(loss_perdida_listas)\n",
        "loss_mse = np.array(loss_mse)\n",
        "\n",
        "plt.figure()\n",
        "plt.plot(loss_loss_ranking / loss_loss_ranking.max(), 'r');\n",
        "plt.plot(loss_perdida_listas / loss_perdida_listas.max(), 'g');\n",
        "plt.plot(loss_mse / loss_mse.max(), 'b');\n",
        "\n",
        "print(\"---------------------\")\n",
        "\n",
        "loss_loss_ranking = []\n",
        "loss_perdida_listas = []\n",
        "loss_mse = []\n",
        "\n",
        "for i in range(len(ranking)-1):\n",
        "  pred_ranking = np.roll(ranking, -i-1)\n",
        "  #pred_ranking = np.roll(ranking, i+1)\n",
        "  print(pred_ranking)\n",
        "  loss = loss_ranking(ranking, pred_ranking )\n",
        "  loss_loss_ranking.append(loss)\n",
        "  print(\"loss ranking: \" + str(loss))\n",
        "  loss = perdida_listas(ranking, pred_ranking )\n",
        "  loss_perdida_listas.append(loss)\n",
        "  print(\"perdida_listas: \" + str(loss))\n",
        "  loss = mse(ranking, pred_ranking )\n",
        "  loss_mse.append(loss)\n",
        "  print(\"mse: \" + str(loss))\n",
        "\n",
        "plt.figure()\n",
        "loss_loss_ranking = np.array(loss_loss_ranking)\n",
        "loss_perdida_listas = np.array(loss_perdida_listas)\n",
        "loss_mse = np.array(loss_mse)\n",
        "\n",
        "plt.plot(loss_loss_ranking / loss_loss_ranking.max(), 'r');\n",
        "plt.plot(loss_perdida_listas / loss_perdida_listas.max(), 'g');\n",
        "plt.plot(loss_mse / loss_mse.max(), 'b');\n"
      ],
      "metadata": {
        "colab": {
          "base_uri": "https://localhost:8080/",
          "height": 1000
        },
        "id": "Ud84xlb8yC_T",
        "outputId": "7bc5b10a-ac0f-4d5c-e394-a4b39acd8221"
      },
      "execution_count": 74,
      "outputs": [
        {
          "output_type": "stream",
          "name": "stdout",
          "text": [
            "[34  0  1  2  3  4  5  6  7  8  9 10 11 12 13 14 15 16 17 18 19 20 21 22\n",
            " 23 24 25 26 27 28 29 30 31 32 33]\n",
            "loss ranking: tf.Tensor(105.07247, shape=(), dtype=float32)\n",
            "perdida_listas: tf.Tensor(3404.1018, shape=(), dtype=float32)\n",
            "mse: tf.Tensor(68.0, shape=(), dtype=float32)\n",
            "[33 34  0  1  2  3  4  5  6  7  8  9 10 11 12 13 14 15 16 17 18 19 20 21\n",
            " 22 23 24 25 26 27 28 29 30 31 32]\n",
            "loss ranking: tf.Tensor(210.05496, shape=(), dtype=float32)\n",
            "perdida_listas: tf.Tensor(3338.8977, shape=(), dtype=float32)\n",
            "mse: tf.Tensor(132.0, shape=(), dtype=float32)\n",
            "[32 33 34  0  1  2  3  4  5  6  7  8  9 10 11 12 13 14 15 16 17 18 19 20\n",
            " 21 22 23 24 25 26 27 28 29 30 31]\n",
            "loss ranking: tf.Tensor(314.94366, shape=(), dtype=float32)\n",
            "perdida_listas: tf.Tensor(3255.4473, shape=(), dtype=float32)\n",
            "mse: tf.Tensor(192.0, shape=(), dtype=float32)\n",
            "[31 32 33 34  0  1  2  3  4  5  6  7  8  9 10 11 12 13 14 15 16 17 18 19\n",
            " 20 21 22 23 24 25 26 27 28 29 30]\n",
            "loss ranking: tf.Tensor(419.7347, shape=(), dtype=float32)\n",
            "perdida_listas: tf.Tensor(3165.544, shape=(), dtype=float32)\n",
            "mse: tf.Tensor(248.0, shape=(), dtype=float32)\n",
            "[30 31 32 33 34  0  1  2  3  4  5  6  7  8  9 10 11 12 13 14 15 16 17 18\n",
            " 19 20 21 22 23 24 25 26 27 28 29]\n",
            "loss ranking: tf.Tensor(524.42346, shape=(), dtype=float32)\n",
            "perdida_listas: tf.Tensor(3072.241, shape=(), dtype=float32)\n",
            "mse: tf.Tensor(300.0, shape=(), dtype=float32)\n",
            "[29 30 31 32 33 34  0  1  2  3  4  5  6  7  8  9 10 11 12 13 14 15 16 17\n",
            " 18 19 20 21 22 23 24 25 26 27 28]\n",
            "loss ranking: tf.Tensor(629.00555, shape=(), dtype=float32)\n",
            "perdida_listas: tf.Tensor(2976.796, shape=(), dtype=float32)\n",
            "mse: tf.Tensor(348.0, shape=(), dtype=float32)\n",
            "[28 29 30 31 32 33 34  0  1  2  3  4  5  6  7  8  9 10 11 12 13 14 15 16\n",
            " 17 18 19 20 21 22 23 24 25 26 27]\n",
            "loss ranking: tf.Tensor(733.4755, shape=(), dtype=float32)\n",
            "perdida_listas: tf.Tensor(2879.8545, shape=(), dtype=float32)\n",
            "mse: tf.Tensor(392.0, shape=(), dtype=float32)\n",
            "[27 28 29 30 31 32 33 34  0  1  2  3  4  5  6  7  8  9 10 11 12 13 14 15\n",
            " 16 17 18 19 20 21 22 23 24 25 26]\n",
            "loss ranking: tf.Tensor(837.82776, shape=(), dtype=float32)\n",
            "perdida_listas: tf.Tensor(2781.7969, shape=(), dtype=float32)\n",
            "mse: tf.Tensor(432.0, shape=(), dtype=float32)\n",
            "[26 27 28 29 30 31 32 33 34  0  1  2  3  4  5  6  7  8  9 10 11 12 13 14\n",
            " 15 16 17 18 19 20 21 22 23 24 25]\n",
            "loss ranking: tf.Tensor(942.0561, shape=(), dtype=float32)\n",
            "perdida_listas: tf.Tensor(2682.8652, shape=(), dtype=float32)\n",
            "mse: tf.Tensor(468.0, shape=(), dtype=float32)\n",
            "[25 26 27 28 29 30 31 32 33 34  0  1  2  3  4  5  6  7  8  9 10 11 12 13\n",
            " 14 15 16 17 18 19 20 21 22 23 24]\n",
            "loss ranking: tf.Tensor(1046.1537, shape=(), dtype=float32)\n",
            "perdida_listas: tf.Tensor(2583.227, shape=(), dtype=float32)\n",
            "mse: tf.Tensor(500.0, shape=(), dtype=float32)\n",
            "[24 25 26 27 28 29 30 31 32 33 34  0  1  2  3  4  5  6  7  8  9 10 11 12\n",
            " 13 14 15 16 17 18 19 20 21 22 23]\n",
            "loss ranking: tf.Tensor(1150.1129, shape=(), dtype=float32)\n",
            "perdida_listas: tf.Tensor(2483.0005, shape=(), dtype=float32)\n",
            "mse: tf.Tensor(528.0, shape=(), dtype=float32)\n",
            "[23 24 25 26 27 28 29 30 31 32 33 34  0  1  2  3  4  5  6  7  8  9 10 11\n",
            " 12 13 14 15 16 17 18 19 20 21 22]\n",
            "loss ranking: tf.Tensor(1253.9257, shape=(), dtype=float32)\n",
            "perdida_listas: tf.Tensor(2382.2747, shape=(), dtype=float32)\n",
            "mse: tf.Tensor(552.0, shape=(), dtype=float32)\n",
            "[22 23 24 25 26 27 28 29 30 31 32 33 34  0  1  2  3  4  5  6  7  8  9 10\n",
            " 11 12 13 14 15 16 17 18 19 20 21]\n",
            "loss ranking: tf.Tensor(1357.5823, shape=(), dtype=float32)\n",
            "perdida_listas: tf.Tensor(2281.1174, shape=(), dtype=float32)\n",
            "mse: tf.Tensor(572.0, shape=(), dtype=float32)\n",
            "[21 22 23 24 25 26 27 28 29 30 31 32 33 34  0  1  2  3  4  5  6  7  8  9\n",
            " 10 11 12 13 14 15 16 17 18 19 20]\n",
            "loss ranking: tf.Tensor(1461.0724, shape=(), dtype=float32)\n",
            "perdida_listas: tf.Tensor(2179.5823, shape=(), dtype=float32)\n",
            "mse: tf.Tensor(588.0, shape=(), dtype=float32)\n",
            "[20 21 22 23 24 25 26 27 28 29 30 31 32 33 34  0  1  2  3  4  5  6  7  8\n",
            "  9 10 11 12 13 14 15 16 17 18 19]\n",
            "loss ranking: tf.Tensor(1564.3838, shape=(), dtype=float32)\n",
            "perdida_listas: tf.Tensor(2077.7122, shape=(), dtype=float32)\n",
            "mse: tf.Tensor(600.0, shape=(), dtype=float32)\n",
            "[19 20 21 22 23 24 25 26 27 28 29 30 31 32 33 34  0  1  2  3  4  5  6  7\n",
            "  8  9 10 11 12 13 14 15 16 17 18]\n",
            "loss ranking: tf.Tensor(1667.5033, shape=(), dtype=float32)\n",
            "perdida_listas: tf.Tensor(1975.5424, shape=(), dtype=float32)\n",
            "mse: tf.Tensor(608.0, shape=(), dtype=float32)\n",
            "[18 19 20 21 22 23 24 25 26 27 28 29 30 31 32 33 34  0  1  2  3  4  5  6\n",
            "  7  8  9 10 11 12 13 14 15 16 17]\n",
            "loss ranking: tf.Tensor(1770.4153, shape=(), dtype=float32)\n",
            "perdida_listas: tf.Tensor(1873.1017, shape=(), dtype=float32)\n",
            "mse: tf.Tensor(612.0, shape=(), dtype=float32)\n",
            "[17 18 19 20 21 22 23 24 25 26 27 28 29 30 31 32 33 34  0  1  2  3  4  5\n",
            "  6  7  8  9 10 11 12 13 14 15 16]\n",
            "loss ranking: tf.Tensor(1873.1019, shape=(), dtype=float32)\n",
            "perdida_listas: tf.Tensor(1770.4152, shape=(), dtype=float32)\n",
            "mse: tf.Tensor(612.0, shape=(), dtype=float32)\n",
            "[16 17 18 19 20 21 22 23 24 25 26 27 28 29 30 31 32 33 34  0  1  2  3  4\n",
            "  5  6  7  8  9 10 11 12 13 14 15]\n",
            "loss ranking: tf.Tensor(1975.5425, shape=(), dtype=float32)\n",
            "perdida_listas: tf.Tensor(1667.5034, shape=(), dtype=float32)\n",
            "mse: tf.Tensor(608.0, shape=(), dtype=float32)\n",
            "[15 16 17 18 19 20 21 22 23 24 25 26 27 28 29 30 31 32 33 34  0  1  2  3\n",
            "  4  5  6  7  8  9 10 11 12 13 14]\n",
            "loss ranking: tf.Tensor(2077.712, shape=(), dtype=float32)\n",
            "perdida_listas: tf.Tensor(1564.3838, shape=(), dtype=float32)\n",
            "mse: tf.Tensor(600.0, shape=(), dtype=float32)\n",
            "[14 15 16 17 18 19 20 21 22 23 24 25 26 27 28 29 30 31 32 33 34  0  1  2\n",
            "  3  4  5  6  7  8  9 10 11 12 13]\n",
            "loss ranking: tf.Tensor(2179.5823, shape=(), dtype=float32)\n",
            "perdida_listas: tf.Tensor(1461.0723, shape=(), dtype=float32)\n",
            "mse: tf.Tensor(588.0, shape=(), dtype=float32)\n",
            "[13 14 15 16 17 18 19 20 21 22 23 24 25 26 27 28 29 30 31 32 33 34  0  1\n",
            "  2  3  4  5  6  7  8  9 10 11 12]\n",
            "loss ranking: tf.Tensor(2281.1174, shape=(), dtype=float32)\n",
            "perdida_listas: tf.Tensor(1357.5822, shape=(), dtype=float32)\n",
            "mse: tf.Tensor(572.0, shape=(), dtype=float32)\n",
            "[12 13 14 15 16 17 18 19 20 21 22 23 24 25 26 27 28 29 30 31 32 33 34  0\n",
            "  1  2  3  4  5  6  7  8  9 10 11]\n",
            "loss ranking: tf.Tensor(2382.2747, shape=(), dtype=float32)\n",
            "perdida_listas: tf.Tensor(1253.9257, shape=(), dtype=float32)\n",
            "mse: tf.Tensor(552.0, shape=(), dtype=float32)\n",
            "[11 12 13 14 15 16 17 18 19 20 21 22 23 24 25 26 27 28 29 30 31 32 33 34\n",
            "  0  1  2  3  4  5  6  7  8  9 10]\n",
            "loss ranking: tf.Tensor(2483.0005, shape=(), dtype=float32)\n",
            "perdida_listas: tf.Tensor(1150.113, shape=(), dtype=float32)\n",
            "mse: tf.Tensor(528.0, shape=(), dtype=float32)\n",
            "[10 11 12 13 14 15 16 17 18 19 20 21 22 23 24 25 26 27 28 29 30 31 32 33\n",
            " 34  0  1  2  3  4  5  6  7  8  9]\n",
            "loss ranking: tf.Tensor(2583.227, shape=(), dtype=float32)\n",
            "perdida_listas: tf.Tensor(1046.1537, shape=(), dtype=float32)\n",
            "mse: tf.Tensor(500.0, shape=(), dtype=float32)\n",
            "[ 9 10 11 12 13 14 15 16 17 18 19 20 21 22 23 24 25 26 27 28 29 30 31 32\n",
            " 33 34  0  1  2  3  4  5  6  7  8]\n",
            "loss ranking: tf.Tensor(2682.8652, shape=(), dtype=float32)\n",
            "perdida_listas: tf.Tensor(942.056, shape=(), dtype=float32)\n",
            "mse: tf.Tensor(468.0, shape=(), dtype=float32)\n",
            "[ 8  9 10 11 12 13 14 15 16 17 18 19 20 21 22 23 24 25 26 27 28 29 30 31\n",
            " 32 33 34  0  1  2  3  4  5  6  7]\n",
            "loss ranking: tf.Tensor(2781.7966, shape=(), dtype=float32)\n",
            "perdida_listas: tf.Tensor(837.8277, shape=(), dtype=float32)\n",
            "mse: tf.Tensor(432.0, shape=(), dtype=float32)\n",
            "[ 7  8  9 10 11 12 13 14 15 16 17 18 19 20 21 22 23 24 25 26 27 28 29 30\n",
            " 31 32 33 34  0  1  2  3  4  5  6]\n",
            "loss ranking: tf.Tensor(2879.8542, shape=(), dtype=float32)\n",
            "perdida_listas: tf.Tensor(733.4756, shape=(), dtype=float32)\n",
            "mse: tf.Tensor(392.0, shape=(), dtype=float32)\n",
            "[ 6  7  8  9 10 11 12 13 14 15 16 17 18 19 20 21 22 23 24 25 26 27 28 29\n",
            " 30 31 32 33 34  0  1  2  3  4  5]\n",
            "loss ranking: tf.Tensor(2976.7957, shape=(), dtype=float32)\n",
            "perdida_listas: tf.Tensor(629.0055, shape=(), dtype=float32)\n",
            "mse: tf.Tensor(348.0, shape=(), dtype=float32)\n",
            "[ 5  6  7  8  9 10 11 12 13 14 15 16 17 18 19 20 21 22 23 24 25 26 27 28\n",
            " 29 30 31 32 33 34  0  1  2  3  4]\n",
            "loss ranking: tf.Tensor(3072.2412, shape=(), dtype=float32)\n",
            "perdida_listas: tf.Tensor(524.4235, shape=(), dtype=float32)\n",
            "mse: tf.Tensor(300.0, shape=(), dtype=float32)\n",
            "[ 4  5  6  7  8  9 10 11 12 13 14 15 16 17 18 19 20 21 22 23 24 25 26 27\n",
            " 28 29 30 31 32 33 34  0  1  2  3]\n",
            "loss ranking: tf.Tensor(3165.5444, shape=(), dtype=float32)\n",
            "perdida_listas: tf.Tensor(419.73468, shape=(), dtype=float32)\n",
            "mse: tf.Tensor(248.0, shape=(), dtype=float32)\n",
            "[ 3  4  5  6  7  8  9 10 11 12 13 14 15 16 17 18 19 20 21 22 23 24 25 26\n",
            " 27 28 29 30 31 32 33 34  0  1  2]\n",
            "loss ranking: tf.Tensor(3255.4473, shape=(), dtype=float32)\n",
            "perdida_listas: tf.Tensor(314.9437, shape=(), dtype=float32)\n",
            "mse: tf.Tensor(192.0, shape=(), dtype=float32)\n",
            "[ 2  3  4  5  6  7  8  9 10 11 12 13 14 15 16 17 18 19 20 21 22 23 24 25\n",
            " 26 27 28 29 30 31 32 33 34  0  1]\n",
            "loss ranking: tf.Tensor(3338.8975, shape=(), dtype=float32)\n",
            "perdida_listas: tf.Tensor(210.05496, shape=(), dtype=float32)\n",
            "mse: tf.Tensor(132.0, shape=(), dtype=float32)\n",
            "[ 1  2  3  4  5  6  7  8  9 10 11 12 13 14 15 16 17 18 19 20 21 22 23 24\n",
            " 25 26 27 28 29 30 31 32 33 34  0]\n",
            "loss ranking: tf.Tensor(3404.1023, shape=(), dtype=float32)\n",
            "perdida_listas: tf.Tensor(105.07248, shape=(), dtype=float32)\n",
            "mse: tf.Tensor(68.0, shape=(), dtype=float32)\n",
            "---------------------\n",
            "[ 1  2  3  4  5  6  7  8  9 10 11 12 13 14 15 16 17 18 19 20 21 22 23 24\n",
            " 25 26 27 28 29 30 31 32 33 34  0]\n",
            "loss ranking: tf.Tensor(3404.1023, shape=(), dtype=float32)\n",
            "perdida_listas: tf.Tensor(105.07248, shape=(), dtype=float32)\n",
            "mse: tf.Tensor(68.0, shape=(), dtype=float32)\n",
            "[ 2  3  4  5  6  7  8  9 10 11 12 13 14 15 16 17 18 19 20 21 22 23 24 25\n",
            " 26 27 28 29 30 31 32 33 34  0  1]\n",
            "loss ranking: tf.Tensor(3338.8975, shape=(), dtype=float32)\n",
            "perdida_listas: tf.Tensor(210.05496, shape=(), dtype=float32)\n",
            "mse: tf.Tensor(132.0, shape=(), dtype=float32)\n",
            "[ 3  4  5  6  7  8  9 10 11 12 13 14 15 16 17 18 19 20 21 22 23 24 25 26\n",
            " 27 28 29 30 31 32 33 34  0  1  2]\n",
            "loss ranking: tf.Tensor(3255.4473, shape=(), dtype=float32)\n",
            "perdida_listas: tf.Tensor(314.9437, shape=(), dtype=float32)\n",
            "mse: tf.Tensor(192.0, shape=(), dtype=float32)\n",
            "[ 4  5  6  7  8  9 10 11 12 13 14 15 16 17 18 19 20 21 22 23 24 25 26 27\n",
            " 28 29 30 31 32 33 34  0  1  2  3]\n",
            "loss ranking: tf.Tensor(3165.5444, shape=(), dtype=float32)\n",
            "perdida_listas: tf.Tensor(419.73468, shape=(), dtype=float32)\n",
            "mse: tf.Tensor(248.0, shape=(), dtype=float32)\n",
            "[ 5  6  7  8  9 10 11 12 13 14 15 16 17 18 19 20 21 22 23 24 25 26 27 28\n",
            " 29 30 31 32 33 34  0  1  2  3  4]\n",
            "loss ranking: tf.Tensor(3072.2412, shape=(), dtype=float32)\n",
            "perdida_listas: tf.Tensor(524.4235, shape=(), dtype=float32)\n",
            "mse: tf.Tensor(300.0, shape=(), dtype=float32)\n",
            "[ 6  7  8  9 10 11 12 13 14 15 16 17 18 19 20 21 22 23 24 25 26 27 28 29\n",
            " 30 31 32 33 34  0  1  2  3  4  5]\n",
            "loss ranking: tf.Tensor(2976.7957, shape=(), dtype=float32)\n",
            "perdida_listas: tf.Tensor(629.0055, shape=(), dtype=float32)\n",
            "mse: tf.Tensor(348.0, shape=(), dtype=float32)\n",
            "[ 7  8  9 10 11 12 13 14 15 16 17 18 19 20 21 22 23 24 25 26 27 28 29 30\n",
            " 31 32 33 34  0  1  2  3  4  5  6]\n",
            "loss ranking: tf.Tensor(2879.8542, shape=(), dtype=float32)\n",
            "perdida_listas: tf.Tensor(733.4756, shape=(), dtype=float32)\n",
            "mse: tf.Tensor(392.0, shape=(), dtype=float32)\n",
            "[ 8  9 10 11 12 13 14 15 16 17 18 19 20 21 22 23 24 25 26 27 28 29 30 31\n",
            " 32 33 34  0  1  2  3  4  5  6  7]\n",
            "loss ranking: tf.Tensor(2781.7966, shape=(), dtype=float32)\n",
            "perdida_listas: tf.Tensor(837.8277, shape=(), dtype=float32)\n",
            "mse: tf.Tensor(432.0, shape=(), dtype=float32)\n",
            "[ 9 10 11 12 13 14 15 16 17 18 19 20 21 22 23 24 25 26 27 28 29 30 31 32\n",
            " 33 34  0  1  2  3  4  5  6  7  8]\n",
            "loss ranking: tf.Tensor(2682.8652, shape=(), dtype=float32)\n",
            "perdida_listas: tf.Tensor(942.056, shape=(), dtype=float32)\n",
            "mse: tf.Tensor(468.0, shape=(), dtype=float32)\n",
            "[10 11 12 13 14 15 16 17 18 19 20 21 22 23 24 25 26 27 28 29 30 31 32 33\n",
            " 34  0  1  2  3  4  5  6  7  8  9]\n",
            "loss ranking: tf.Tensor(2583.227, shape=(), dtype=float32)\n",
            "perdida_listas: tf.Tensor(1046.1537, shape=(), dtype=float32)\n",
            "mse: tf.Tensor(500.0, shape=(), dtype=float32)\n",
            "[11 12 13 14 15 16 17 18 19 20 21 22 23 24 25 26 27 28 29 30 31 32 33 34\n",
            "  0  1  2  3  4  5  6  7  8  9 10]\n",
            "loss ranking: tf.Tensor(2483.0005, shape=(), dtype=float32)\n",
            "perdida_listas: tf.Tensor(1150.113, shape=(), dtype=float32)\n",
            "mse: tf.Tensor(528.0, shape=(), dtype=float32)\n",
            "[12 13 14 15 16 17 18 19 20 21 22 23 24 25 26 27 28 29 30 31 32 33 34  0\n",
            "  1  2  3  4  5  6  7  8  9 10 11]\n",
            "loss ranking: tf.Tensor(2382.2747, shape=(), dtype=float32)\n",
            "perdida_listas: tf.Tensor(1253.9257, shape=(), dtype=float32)\n",
            "mse: tf.Tensor(552.0, shape=(), dtype=float32)\n",
            "[13 14 15 16 17 18 19 20 21 22 23 24 25 26 27 28 29 30 31 32 33 34  0  1\n",
            "  2  3  4  5  6  7  8  9 10 11 12]\n",
            "loss ranking: tf.Tensor(2281.1174, shape=(), dtype=float32)\n",
            "perdida_listas: tf.Tensor(1357.5822, shape=(), dtype=float32)\n",
            "mse: tf.Tensor(572.0, shape=(), dtype=float32)\n",
            "[14 15 16 17 18 19 20 21 22 23 24 25 26 27 28 29 30 31 32 33 34  0  1  2\n",
            "  3  4  5  6  7  8  9 10 11 12 13]\n",
            "loss ranking: tf.Tensor(2179.5823, shape=(), dtype=float32)\n",
            "perdida_listas: tf.Tensor(1461.0723, shape=(), dtype=float32)\n",
            "mse: tf.Tensor(588.0, shape=(), dtype=float32)\n",
            "[15 16 17 18 19 20 21 22 23 24 25 26 27 28 29 30 31 32 33 34  0  1  2  3\n",
            "  4  5  6  7  8  9 10 11 12 13 14]\n",
            "loss ranking: tf.Tensor(2077.712, shape=(), dtype=float32)\n",
            "perdida_listas: tf.Tensor(1564.3838, shape=(), dtype=float32)\n",
            "mse: tf.Tensor(600.0, shape=(), dtype=float32)\n",
            "[16 17 18 19 20 21 22 23 24 25 26 27 28 29 30 31 32 33 34  0  1  2  3  4\n",
            "  5  6  7  8  9 10 11 12 13 14 15]\n",
            "loss ranking: tf.Tensor(1975.5425, shape=(), dtype=float32)\n",
            "perdida_listas: tf.Tensor(1667.5034, shape=(), dtype=float32)\n",
            "mse: tf.Tensor(608.0, shape=(), dtype=float32)\n",
            "[17 18 19 20 21 22 23 24 25 26 27 28 29 30 31 32 33 34  0  1  2  3  4  5\n",
            "  6  7  8  9 10 11 12 13 14 15 16]\n",
            "loss ranking: tf.Tensor(1873.1019, shape=(), dtype=float32)\n",
            "perdida_listas: tf.Tensor(1770.4152, shape=(), dtype=float32)\n",
            "mse: tf.Tensor(612.0, shape=(), dtype=float32)\n",
            "[18 19 20 21 22 23 24 25 26 27 28 29 30 31 32 33 34  0  1  2  3  4  5  6\n",
            "  7  8  9 10 11 12 13 14 15 16 17]\n",
            "loss ranking: tf.Tensor(1770.4153, shape=(), dtype=float32)\n",
            "perdida_listas: tf.Tensor(1873.1017, shape=(), dtype=float32)\n",
            "mse: tf.Tensor(612.0, shape=(), dtype=float32)\n",
            "[19 20 21 22 23 24 25 26 27 28 29 30 31 32 33 34  0  1  2  3  4  5  6  7\n",
            "  8  9 10 11 12 13 14 15 16 17 18]\n",
            "loss ranking: tf.Tensor(1667.5033, shape=(), dtype=float32)\n",
            "perdida_listas: tf.Tensor(1975.5424, shape=(), dtype=float32)\n",
            "mse: tf.Tensor(608.0, shape=(), dtype=float32)\n",
            "[20 21 22 23 24 25 26 27 28 29 30 31 32 33 34  0  1  2  3  4  5  6  7  8\n",
            "  9 10 11 12 13 14 15 16 17 18 19]\n",
            "loss ranking: tf.Tensor(1564.3838, shape=(), dtype=float32)\n",
            "perdida_listas: tf.Tensor(2077.7122, shape=(), dtype=float32)\n",
            "mse: tf.Tensor(600.0, shape=(), dtype=float32)\n",
            "[21 22 23 24 25 26 27 28 29 30 31 32 33 34  0  1  2  3  4  5  6  7  8  9\n",
            " 10 11 12 13 14 15 16 17 18 19 20]\n",
            "loss ranking: tf.Tensor(1461.0724, shape=(), dtype=float32)\n",
            "perdida_listas: tf.Tensor(2179.5823, shape=(), dtype=float32)\n",
            "mse: tf.Tensor(588.0, shape=(), dtype=float32)\n",
            "[22 23 24 25 26 27 28 29 30 31 32 33 34  0  1  2  3  4  5  6  7  8  9 10\n",
            " 11 12 13 14 15 16 17 18 19 20 21]\n",
            "loss ranking: tf.Tensor(1357.5823, shape=(), dtype=float32)\n",
            "perdida_listas: tf.Tensor(2281.1174, shape=(), dtype=float32)\n",
            "mse: tf.Tensor(572.0, shape=(), dtype=float32)\n",
            "[23 24 25 26 27 28 29 30 31 32 33 34  0  1  2  3  4  5  6  7  8  9 10 11\n",
            " 12 13 14 15 16 17 18 19 20 21 22]\n",
            "loss ranking: tf.Tensor(1253.9257, shape=(), dtype=float32)\n",
            "perdida_listas: tf.Tensor(2382.2747, shape=(), dtype=float32)\n",
            "mse: tf.Tensor(552.0, shape=(), dtype=float32)\n",
            "[24 25 26 27 28 29 30 31 32 33 34  0  1  2  3  4  5  6  7  8  9 10 11 12\n",
            " 13 14 15 16 17 18 19 20 21 22 23]\n",
            "loss ranking: tf.Tensor(1150.1129, shape=(), dtype=float32)\n",
            "perdida_listas: tf.Tensor(2483.0005, shape=(), dtype=float32)\n",
            "mse: tf.Tensor(528.0, shape=(), dtype=float32)\n",
            "[25 26 27 28 29 30 31 32 33 34  0  1  2  3  4  5  6  7  8  9 10 11 12 13\n",
            " 14 15 16 17 18 19 20 21 22 23 24]\n",
            "loss ranking: tf.Tensor(1046.1537, shape=(), dtype=float32)\n",
            "perdida_listas: tf.Tensor(2583.227, shape=(), dtype=float32)\n",
            "mse: tf.Tensor(500.0, shape=(), dtype=float32)\n",
            "[26 27 28 29 30 31 32 33 34  0  1  2  3  4  5  6  7  8  9 10 11 12 13 14\n",
            " 15 16 17 18 19 20 21 22 23 24 25]\n",
            "loss ranking: tf.Tensor(942.0561, shape=(), dtype=float32)\n",
            "perdida_listas: tf.Tensor(2682.8652, shape=(), dtype=float32)\n",
            "mse: tf.Tensor(468.0, shape=(), dtype=float32)\n",
            "[27 28 29 30 31 32 33 34  0  1  2  3  4  5  6  7  8  9 10 11 12 13 14 15\n",
            " 16 17 18 19 20 21 22 23 24 25 26]\n",
            "loss ranking: tf.Tensor(837.82776, shape=(), dtype=float32)\n",
            "perdida_listas: tf.Tensor(2781.7969, shape=(), dtype=float32)\n",
            "mse: tf.Tensor(432.0, shape=(), dtype=float32)\n",
            "[28 29 30 31 32 33 34  0  1  2  3  4  5  6  7  8  9 10 11 12 13 14 15 16\n",
            " 17 18 19 20 21 22 23 24 25 26 27]\n",
            "loss ranking: tf.Tensor(733.4755, shape=(), dtype=float32)\n",
            "perdida_listas: tf.Tensor(2879.8545, shape=(), dtype=float32)\n",
            "mse: tf.Tensor(392.0, shape=(), dtype=float32)\n",
            "[29 30 31 32 33 34  0  1  2  3  4  5  6  7  8  9 10 11 12 13 14 15 16 17\n",
            " 18 19 20 21 22 23 24 25 26 27 28]\n",
            "loss ranking: tf.Tensor(629.00555, shape=(), dtype=float32)\n",
            "perdida_listas: tf.Tensor(2976.796, shape=(), dtype=float32)\n",
            "mse: tf.Tensor(348.0, shape=(), dtype=float32)\n",
            "[30 31 32 33 34  0  1  2  3  4  5  6  7  8  9 10 11 12 13 14 15 16 17 18\n",
            " 19 20 21 22 23 24 25 26 27 28 29]\n",
            "loss ranking: tf.Tensor(524.42346, shape=(), dtype=float32)\n",
            "perdida_listas: tf.Tensor(3072.241, shape=(), dtype=float32)\n",
            "mse: tf.Tensor(300.0, shape=(), dtype=float32)\n",
            "[31 32 33 34  0  1  2  3  4  5  6  7  8  9 10 11 12 13 14 15 16 17 18 19\n",
            " 20 21 22 23 24 25 26 27 28 29 30]\n",
            "loss ranking: tf.Tensor(419.7347, shape=(), dtype=float32)\n",
            "perdida_listas: tf.Tensor(3165.544, shape=(), dtype=float32)\n",
            "mse: tf.Tensor(248.0, shape=(), dtype=float32)\n",
            "[32 33 34  0  1  2  3  4  5  6  7  8  9 10 11 12 13 14 15 16 17 18 19 20\n",
            " 21 22 23 24 25 26 27 28 29 30 31]\n",
            "loss ranking: tf.Tensor(314.94366, shape=(), dtype=float32)\n",
            "perdida_listas: tf.Tensor(3255.4473, shape=(), dtype=float32)\n",
            "mse: tf.Tensor(192.0, shape=(), dtype=float32)\n",
            "[33 34  0  1  2  3  4  5  6  7  8  9 10 11 12 13 14 15 16 17 18 19 20 21\n",
            " 22 23 24 25 26 27 28 29 30 31 32]\n",
            "loss ranking: tf.Tensor(210.05496, shape=(), dtype=float32)\n",
            "perdida_listas: tf.Tensor(3338.8977, shape=(), dtype=float32)\n",
            "mse: tf.Tensor(132.0, shape=(), dtype=float32)\n",
            "[34  0  1  2  3  4  5  6  7  8  9 10 11 12 13 14 15 16 17 18 19 20 21 22\n",
            " 23 24 25 26 27 28 29 30 31 32 33]\n",
            "loss ranking: tf.Tensor(105.07247, shape=(), dtype=float32)\n",
            "perdida_listas: tf.Tensor(3404.1018, shape=(), dtype=float32)\n",
            "mse: tf.Tensor(68.0, shape=(), dtype=float32)\n"
          ]
        },
        {
          "output_type": "display_data",
          "data": {
            "text/plain": [
              "<Figure size 640x480 with 1 Axes>"
            ],
            "image/png": "[encoded data removed]"
          },
          "metadata": {}
        },
        {
          "output_type": "display_data",
          "data": {
            "text/plain": [
              "<Figure size 640x480 with 1 Axes>"
            ],
            "image/png": "[encoded data removed]"
          },
          "metadata": {}
        }
      ]
    },
    {
      "cell_type": "code",
      "source": [
        "\n",
        "\"\"\"\n",
        "\n",
        "#1#\n",
        "\n",
        "[ 1  2  3  4  5  6  7  8  9 10 11 12 13 14 15 16 17 18 19 20 21 22 23 24\n",
        " 25 26 27 28 29 30 31 32 33 34  0]\n",
        "loss ranking: tf.Tensor(3404.1023, shape=(), dtype=float32)\n",
        "perdida_listas: tf.Tensor(105.07248, shape=(), dtype=float32)\n",
        "mse: tf.Tensor(68.0, shape=(), dtype=float32)\n",
        "\n",
        "#-1#\n",
        "[34  0  1  2  3  4  5  6  7  8  9 10 11 12 13 14 15 16 17 18 19 20 21 22\n",
        " 23 24 25 26 27 28 29 30 31 32 33]\n",
        "loss ranking: tf.Tensor(105.07247, shape=(), dtype=float32)\n",
        "perdida_listas: tf.Tensor(3404.1018, shape=(), dtype=float32)\n",
        "mse: tf.Tensor(68.0, shape=(), dtype=float32)\n",
        "\"\"\""
      ],
      "metadata": {
        "id": "LKKzotgNj0sH"
      },
      "execution_count": null,
      "outputs": []
    },
    {
      "cell_type": "markdown",
      "source": [
        "# Y normalizada"
      ],
      "metadata": {
        "id": "WlW4JKhgmYzn"
      }
    },
    {
      "cell_type": "code",
      "source": [
        "import numpy as np"
      ],
      "metadata": {
        "id": "YJ8K3qNro0IY"
      },
      "execution_count": 2,
      "outputs": []
    },
    {
      "cell_type": "markdown",
      "source": [
        "## PARA SIGMOIDE"
      ],
      "metadata": {
        "id": "fVFBD0MFp3FX"
      }
    },
    {
      "cell_type": "code",
      "source": [
        "r = np.array([10,0,20,40,30])"
      ],
      "metadata": {
        "id": "hCNEpxQpmZ3t"
      },
      "execution_count": 3,
      "outputs": []
    },
    {
      "cell_type": "code",
      "source": [
        "np.argsort(r)"
      ],
      "metadata": {
        "colab": {
          "base_uri": "https://localhost:8080/"
        },
        "id": "WKwhAS_6mySd",
        "outputId": "03952f40-7c31-4949-9507-49e1585464ea"
      },
      "execution_count": 4,
      "outputs": [
        {
          "output_type": "execute_result",
          "data": {
            "text/plain": [
              "array([1, 0, 2, 4, 3])"
            ]
          },
          "metadata": {},
          "execution_count": 4
        }
      ]
    },
    {
      "cell_type": "code",
      "source": [
        "r_norm = r/r.max()\n",
        "r_norm"
      ],
      "metadata": {
        "colab": {
          "base_uri": "https://localhost:8080/"
        },
        "id": "AFV1RzB8mfIK",
        "outputId": "9d1d5ea9-7c94-49e5-8591-8cdca26eae51"
      },
      "execution_count": 5,
      "outputs": [
        {
          "output_type": "execute_result",
          "data": {
            "text/plain": [
              "array([0.25, 0.  , 0.5 , 1.  , 0.75])"
            ]
          },
          "metadata": {},
          "execution_count": 5
        }
      ]
    },
    {
      "cell_type": "code",
      "source": [
        "np.argsort(r_norm)"
      ],
      "metadata": {
        "colab": {
          "base_uri": "https://localhost:8080/"
        },
        "id": "k8Wk0o_VmxpZ",
        "outputId": "14ea9496-ebdc-4e03-f0d8-d839f6c8419e"
      },
      "execution_count": 6,
      "outputs": [
        {
          "output_type": "execute_result",
          "data": {
            "text/plain": [
              "array([1, 0, 2, 4, 3])"
            ]
          },
          "metadata": {},
          "execution_count": 6
        }
      ]
    },
    {
      "cell_type": "code",
      "source": [],
      "metadata": {
        "id": "ONpuJ6IEpbeG"
      },
      "execution_count": null,
      "outputs": []
    },
    {
      "cell_type": "markdown",
      "source": [
        "# PARA TANH"
      ],
      "metadata": {
        "id": "rQByz-3ip5Jm"
      }
    },
    {
      "cell_type": "code",
      "source": [
        "r = np.array([10,0,20,40,30])\n",
        "\n",
        "r_norm = 2*(r - min(r)) / (max(r) - min(r)) - 1\n",
        "r_norm"
      ],
      "metadata": {
        "colab": {
          "base_uri": "https://localhost:8080/"
        },
        "id": "3dioJS35pbg5",
        "outputId": "9ea32af7-56e7-4e33-962b-a2a201f4c4d9"
      },
      "execution_count": 8,
      "outputs": [
        {
          "output_type": "execute_result",
          "data": {
            "text/plain": [
              "array([-0.5, -1. ,  0. ,  1. ,  0.5])"
            ]
          },
          "metadata": {},
          "execution_count": 8
        }
      ]
    }
  ]
}