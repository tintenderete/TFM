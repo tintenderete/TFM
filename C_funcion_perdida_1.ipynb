{
  "nbformat": 4,
  "nbformat_minor": 0,
  "metadata": {
    "colab": {
      "provenance": [],
      "toc_visible": true,
      "authorship_tag": "ABX9TyMlIR1afxKVL73JcjfAhdwO",
      "include_colab_link": true
    },
    "kernelspec": {
      "name": "python3",
      "display_name": "Python 3"
    },
    "language_info": {
      "name": "python"
    }
  },
  "cells": [
    {
      "cell_type": "markdown",
      "metadata": {
        "id": "view-in-github",
        "colab_type": "text"
      },
      "source": [
        "<a href=\"https://colab.research.google.com/github/tintenderete/TFM-Algoritmo-con-redes-evolutivas/blob/main/C_funcion_perdida_1.ipynb\" target=\"_parent\"><img src=\"https://colab.research.google.com/assets/colab-badge.svg\" alt=\"Open In Colab\"/></a>"
      ]
    },
    {
      "cell_type": "code",
      "source": [
        "import tensorflow as tf\n",
        "import numpy as np"
      ],
      "metadata": {
        "id": "lbRBYpdYemmT"
      },
      "execution_count": 1,
      "outputs": []
    },
    {
      "cell_type": "code",
      "execution_count": 2,
      "metadata": {
        "id": "0l9bmj-Neav9"
      },
      "outputs": [],
      "source": [
        "def perdida_listas(ranking_real, ranking_predicho):\n",
        "    diferencias = tf.abs(ranking_real - ranking_predicho)\n",
        "    perdida_total = tf.reduce_sum(diferencias)\n",
        "    \"\"\"\n",
        "    Una opción podría ser cambiar tf.reduce_sum() por tf.reduce_mean() para tomar el promedio de las diferencias en lugar de la suma. Esto hará que la pérdida sea independiente del tamaño del lote de datos.\n",
        "    \"\"\"\n",
        "    return perdida_total\n"
      ]
    },
    {
      "cell_type": "code",
      "source": [
        "ranking_real = np.array([[6,3,2,4,5,1]])\n",
        "ranking_real"
      ],
      "metadata": {
        "colab": {
          "base_uri": "https://localhost:8080/"
        },
        "id": "o1TNj_l7ffTm",
        "outputId": "0138b1eb-0a1d-48b1-ea0d-b5a932e0c22d"
      },
      "execution_count": 3,
      "outputs": [
        {
          "output_type": "execute_result",
          "data": {
            "text/plain": [
              "array([[6, 3, 2, 4, 5, 1]])"
            ]
          },
          "metadata": {},
          "execution_count": 3
        }
      ]
    },
    {
      "cell_type": "code",
      "source": [
        "ranking_predicho = np.array([[1,2,3,6,5,4]])\n",
        "ranking_predicho"
      ],
      "metadata": {
        "colab": {
          "base_uri": "https://localhost:8080/"
        },
        "id": "hWjagbCvghGM",
        "outputId": "0bef4188-a9ba-46b7-867d-7ec57dd6448b"
      },
      "execution_count": 4,
      "outputs": [
        {
          "output_type": "execute_result",
          "data": {
            "text/plain": [
              "array([[1, 2, 3, 6, 5, 4]])"
            ]
          },
          "metadata": {},
          "execution_count": 4
        }
      ]
    },
    {
      "cell_type": "code",
      "source": [
        "diferencias = tf.abs(ranking_real - ranking_predicho)\n",
        "diferencias"
      ],
      "metadata": {
        "colab": {
          "base_uri": "https://localhost:8080/"
        },
        "id": "Rr_23ouLgzpQ",
        "outputId": "76a37de6-1596-4f9e-d54d-37aea7647229"
      },
      "execution_count": 5,
      "outputs": [
        {
          "output_type": "execute_result",
          "data": {
            "text/plain": [
              "<tf.Tensor: shape=(1, 6), dtype=int64, numpy=array([[5, 1, 1, 2, 0, 3]])>"
            ]
          },
          "metadata": {},
          "execution_count": 5
        }
      ]
    },
    {
      "cell_type": "code",
      "source": [
        "perdida_total = tf.reduce_sum(diferencias)\n",
        "perdida_total"
      ],
      "metadata": {
        "colab": {
          "base_uri": "https://localhost:8080/"
        },
        "id": "HBhJ4nkbhTt1",
        "outputId": "b381156d-57e9-46dd-cfcc-121e05066eae"
      },
      "execution_count": 6,
      "outputs": [
        {
          "output_type": "execute_result",
          "data": {
            "text/plain": [
              "<tf.Tensor: shape=(), dtype=int64, numpy=12>"
            ]
          },
          "metadata": {},
          "execution_count": 6
        }
      ]
    },
    {
      "cell_type": "code",
      "source": [
        "perdida_listas(ranking_real, ranking_predicho)"
      ],
      "metadata": {
        "colab": {
          "base_uri": "https://localhost:8080/"
        },
        "id": "2t7At1n3gqkd",
        "outputId": "4500ffc7-787a-462d-981b-fa838764e9bc"
      },
      "execution_count": 7,
      "outputs": [
        {
          "output_type": "execute_result",
          "data": {
            "text/plain": [
              "<tf.Tensor: shape=(), dtype=int64, numpy=12>"
            ]
          },
          "metadata": {},
          "execution_count": 7
        }
      ]
    },
    {
      "cell_type": "markdown",
      "source": [
        "# asignar más peso a las diferencias que corresponden a números más bajos en el ranking real.\n",
        "\n",
        "castiga cuando los mejores estan clasificados como peores"
      ],
      "metadata": {
        "id": "DiQbwz9UjF89"
      }
    },
    {
      "cell_type": "code",
      "source": [
        "def perdida_listas(ranking_real, ranking_predicho):\n",
        "    diferencias = tf.abs(ranking_real - ranking_predicho)\n",
        "    diferencias_ponderadas = diferencias / (ranking_real + 1e-7)  # Añadimos un pequeño número para evitar la división por cero\n",
        "    perdida_total = tf.reduce_sum(diferencias_ponderadas)\n",
        "    return perdida_total"
      ],
      "metadata": {
        "id": "op4HIHjBjLBh"
      },
      "execution_count": 8,
      "outputs": []
    },
    {
      "cell_type": "code",
      "source": [
        "ranking_real, ranking_predicho"
      ],
      "metadata": {
        "colab": {
          "base_uri": "https://localhost:8080/"
        },
        "id": "MsuxCBA7jTml",
        "outputId": "c15a7d99-737a-481a-dba7-f98621c86a40"
      },
      "execution_count": 9,
      "outputs": [
        {
          "output_type": "execute_result",
          "data": {
            "text/plain": [
              "(array([[6, 3, 2, 4, 5, 1]]), array([[1, 2, 3, 6, 5, 4]]))"
            ]
          },
          "metadata": {},
          "execution_count": 9
        }
      ]
    },
    {
      "cell_type": "code",
      "source": [
        "diferencias = tf.abs(ranking_real - ranking_predicho)\n",
        "diferencias"
      ],
      "metadata": {
        "colab": {
          "base_uri": "https://localhost:8080/"
        },
        "id": "Ww5bIdgRjN5p",
        "outputId": "4ed73eae-6698-4c5e-a10d-c07f3b5ef8c5"
      },
      "execution_count": 10,
      "outputs": [
        {
          "output_type": "execute_result",
          "data": {
            "text/plain": [
              "<tf.Tensor: shape=(1, 6), dtype=int64, numpy=array([[5, 1, 1, 2, 0, 3]])>"
            ]
          },
          "metadata": {},
          "execution_count": 10
        }
      ]
    },
    {
      "cell_type": "code",
      "source": [
        "diferencias_ponderadas = diferencias / (ranking_real + 1e-7)\n",
        "diferencias_ponderadas.numpy()"
      ],
      "metadata": {
        "colab": {
          "base_uri": "https://localhost:8080/"
        },
        "id": "A7W6FpSKjW_I",
        "outputId": "3cc179dc-bb9c-4fb6-8546-81eb3cfa7b67"
      },
      "execution_count": 11,
      "outputs": [
        {
          "output_type": "execute_result",
          "data": {
            "text/plain": [
              "array([[0.83333333, 0.33333333, 0.5       , 0.5       , 0.        ,\n",
              "        3.        ]])"
            ]
          },
          "metadata": {},
          "execution_count": 11
        }
      ]
    },
    {
      "cell_type": "code",
      "source": [
        "perdida_total = tf.reduce_sum(diferencias_ponderadas)\n",
        "perdida_total"
      ],
      "metadata": {
        "colab": {
          "base_uri": "https://localhost:8080/"
        },
        "id": "dJtwpW4Gjk1N",
        "outputId": "40a834b9-cee0-43e5-896b-fe905bedc15c"
      },
      "execution_count": 12,
      "outputs": [
        {
          "output_type": "execute_result",
          "data": {
            "text/plain": [
              "<tf.Tensor: shape=(), dtype=float64, numpy=5.166666666666667>"
            ]
          },
          "metadata": {},
          "execution_count": 12
        }
      ]
    },
    {
      "cell_type": "code",
      "source": [
        "perdida_listas(ranking_real, ranking_predicho)"
      ],
      "metadata": {
        "colab": {
          "base_uri": "https://localhost:8080/"
        },
        "id": "Eg2PgKzNkD_5",
        "outputId": "9467ad93-a153-4af3-e59a-02e4e06dec1b"
      },
      "execution_count": 13,
      "outputs": [
        {
          "output_type": "execute_result",
          "data": {
            "text/plain": [
              "<tf.Tensor: shape=(), dtype=float64, numpy=5.166666666666667>"
            ]
          },
          "metadata": {},
          "execution_count": 13
        }
      ]
    },
    {
      "cell_type": "code",
      "source": [],
      "metadata": {
        "id": "cCLxKKKToAEo"
      },
      "execution_count": 13,
      "outputs": []
    },
    {
      "cell_type": "markdown",
      "source": [
        "## inversa"
      ],
      "metadata": {
        "id": "9wF_hp9rwm7A"
      }
    },
    {
      "cell_type": "markdown",
      "source": [
        "castiga cuando los peores estan clasificados como mejores"
      ],
      "metadata": {
        "id": "pxSzRnJspr_E"
      }
    },
    {
      "cell_type": "code",
      "source": [
        "ranking_real, ranking_predicho"
      ],
      "metadata": {
        "colab": {
          "base_uri": "https://localhost:8080/"
        },
        "id": "6SneRl2Yp1Z2",
        "outputId": "4b6d44fe-72be-4969-ffb2-af653990ce1a"
      },
      "execution_count": 14,
      "outputs": [
        {
          "output_type": "execute_result",
          "data": {
            "text/plain": [
              "(array([[6, 3, 2, 4, 5, 1]]), array([[1, 2, 3, 6, 5, 4]]))"
            ]
          },
          "metadata": {},
          "execution_count": 14
        }
      ]
    },
    {
      "cell_type": "code",
      "source": [
        "diferencias = tf.abs(ranking_real - ranking_predicho)\n",
        "diferencias"
      ],
      "metadata": {
        "colab": {
          "base_uri": "https://localhost:8080/"
        },
        "id": "4ATJtcCMrSBj",
        "outputId": "a2124d88-500e-4c80-d383-9ffefb32ebd5"
      },
      "execution_count": 15,
      "outputs": [
        {
          "output_type": "execute_result",
          "data": {
            "text/plain": [
              "<tf.Tensor: shape=(1, 6), dtype=int64, numpy=array([[5, 1, 1, 2, 0, 3]])>"
            ]
          },
          "metadata": {},
          "execution_count": 15
        }
      ]
    },
    {
      "cell_type": "code",
      "source": [
        "diferencias_ponderadas = diferencias / (ranking_predicho + 1e-7)\n",
        "diferencias_ponderadas.numpy()"
      ],
      "metadata": {
        "colab": {
          "base_uri": "https://localhost:8080/"
        },
        "id": "MDnG5JUHrT3S",
        "outputId": "e90a6126-d3a4-4a24-a826-545b2be79952"
      },
      "execution_count": 16,
      "outputs": [
        {
          "output_type": "execute_result",
          "data": {
            "text/plain": [
              "array([[5.        , 0.5       , 0.33333333, 0.33333333, 0.        ,\n",
              "        0.75      ]])"
            ]
          },
          "metadata": {},
          "execution_count": 16
        }
      ]
    },
    {
      "cell_type": "code",
      "source": [
        "def perdida_listas(ranking_real, ranking_predicho):\n",
        "    ranking_real = tf.cast(ranking_real, tf.float32)\n",
        "    ranking_predicho = tf.cast(ranking_predicho, tf.float32)\n",
        "    diferencias = tf.abs(ranking_real - ranking_predicho)\n",
        "    diferencias_ponderadas = diferencias / (ranking_real + 0.01)  # Añadimos un pequeño número para evitar la división por cero\n",
        "    perdida_total = tf.reduce_sum(diferencias_ponderadas)\n",
        "    return perdida_total"
      ],
      "metadata": {
        "id": "PVG9qxGVzmXn"
      },
      "execution_count": 17,
      "outputs": []
    },
    {
      "cell_type": "code",
      "source": [
        "def loss_ranking(ranking_real, ranking_predicho):\n",
        "    ranking_real_float = tf.cast(ranking_real, tf.float32)\n",
        "    ranking_predicho = tf.cast(ranking_predicho, tf.float32)\n",
        "    diferencias = tf.abs(ranking_real_float - ranking_predicho)\n",
        "    diferencias_ponderadas = diferencias / (ranking_predicho + 0.01) # <<<<---------\n",
        "    perdida_total = tf.reduce_sum(diferencias_ponderadas)\n",
        "    return abs(perdida_total)"
      ],
      "metadata": {
        "id": "GcBQSjfjC4c3"
      },
      "execution_count": 18,
      "outputs": []
    },
    {
      "cell_type": "markdown",
      "source": [
        "----"
      ],
      "metadata": {
        "id": "liQGuGw9DnjG"
      }
    },
    {
      "cell_type": "code",
      "source": [
        "diferencias = tf.abs(np.array([1,2,3]) - np.array([10,2,3]))\n",
        "diferencias"
      ],
      "metadata": {
        "colab": {
          "base_uri": "https://localhost:8080/"
        },
        "id": "dwU0y80rMH6s",
        "outputId": "9ef9d66b-f064-49b7-fa6a-b80a80d64f5a"
      },
      "execution_count": 19,
      "outputs": [
        {
          "output_type": "execute_result",
          "data": {
            "text/plain": [
              "<tf.Tensor: shape=(3,), dtype=int64, numpy=array([9, 0, 0])>"
            ]
          },
          "metadata": {},
          "execution_count": 19
        }
      ]
    },
    {
      "cell_type": "code",
      "source": [
        "diferencias_ponderadas = diferencias / ( np.array([1,2,3])  + 1e-7)\n",
        "diferencias_ponderadas.numpy()"
      ],
      "metadata": {
        "colab": {
          "base_uri": "https://localhost:8080/"
        },
        "id": "mEEc27uJMLpY",
        "outputId": "e982584f-8e6b-4cc6-e674-1ab5e51fcf2a"
      },
      "execution_count": 20,
      "outputs": [
        {
          "output_type": "execute_result",
          "data": {
            "text/plain": [
              "array([9., 0., 0.])"
            ]
          },
          "metadata": {},
          "execution_count": 20
        }
      ]
    },
    {
      "cell_type": "code",
      "source": [
        "loss_ranking(\n",
        "    np.array([1,2,3]),\n",
        "    np.array([1,2,10])\n",
        "    )"
      ],
      "metadata": {
        "id": "UsfYcMa2DQNb",
        "outputId": "f02e7ee3-bdc6-4109-b877-73e56958c7f5",
        "colab": {
          "base_uri": "https://localhost:8080/"
        }
      },
      "execution_count": 21,
      "outputs": [
        {
          "output_type": "execute_result",
          "data": {
            "text/plain": [
              "<tf.Tensor: shape=(), dtype=float32, numpy=0.6993007>"
            ]
          },
          "metadata": {},
          "execution_count": 21
        }
      ]
    },
    {
      "cell_type": "code",
      "source": [
        "diferencias = tf.abs(np.array([1,2,3]) - np.array([10,2,3]))\n",
        "diferencias"
      ],
      "metadata": {
        "colab": {
          "base_uri": "https://localhost:8080/"
        },
        "id": "m0_B4lGWL6Vz",
        "outputId": "e8a89d94-038b-475e-b16a-42ee639f2508"
      },
      "execution_count": 22,
      "outputs": [
        {
          "output_type": "execute_result",
          "data": {
            "text/plain": [
              "<tf.Tensor: shape=(3,), dtype=int64, numpy=array([9, 0, 0])>"
            ]
          },
          "metadata": {},
          "execution_count": 22
        }
      ]
    },
    {
      "cell_type": "code",
      "source": [
        "diferencias_ponderadas = diferencias / (np.array([10,2,3]) + 1e-7)\n",
        "diferencias_ponderadas.numpy()"
      ],
      "metadata": {
        "colab": {
          "base_uri": "https://localhost:8080/"
        },
        "id": "yWu-0DYxL9Mt",
        "outputId": "5270fd2a-88df-4172-c439-f0289d45b84a"
      },
      "execution_count": 23,
      "outputs": [
        {
          "output_type": "execute_result",
          "data": {
            "text/plain": [
              "array([0.9, 0. , 0. ])"
            ]
          },
          "metadata": {},
          "execution_count": 23
        }
      ]
    },
    {
      "cell_type": "code",
      "source": [
        "loss_ranking(\n",
        "    np.array([1,2,3]),\n",
        "    np.array([10,2,3])\n",
        "    )"
      ],
      "metadata": {
        "id": "lv_vV-oPDh-o",
        "outputId": "14afac9b-c2bb-4d12-86d4-ac4bcd633435",
        "colab": {
          "base_uri": "https://localhost:8080/"
        }
      },
      "execution_count": 24,
      "outputs": [
        {
          "output_type": "execute_result",
          "data": {
            "text/plain": [
              "<tf.Tensor: shape=(), dtype=float32, numpy=0.8991009>"
            ]
          },
          "metadata": {},
          "execution_count": 24
        }
      ]
    },
    {
      "cell_type": "code",
      "source": [
        "perdida_listas(\n",
        "    np.array([1,2,3]),\n",
        "    np.array([1,2,10])\n",
        "    )"
      ],
      "metadata": {
        "id": "x0o5EJboDlZM",
        "outputId": "9b26b7a5-385d-45c6-a32a-27484e84978a",
        "colab": {
          "base_uri": "https://localhost:8080/"
        }
      },
      "execution_count": 25,
      "outputs": [
        {
          "output_type": "execute_result",
          "data": {
            "text/plain": [
              "<tf.Tensor: shape=(), dtype=float32, numpy=2.3255813>"
            ]
          },
          "metadata": {},
          "execution_count": 25
        }
      ]
    },
    {
      "cell_type": "code",
      "source": [
        "perdida_listas(\n",
        "    np.array([1,2,3]),\n",
        "    np.array([10,2,3])\n",
        "    )"
      ],
      "metadata": {
        "id": "36CL3zrJDrIq",
        "outputId": "d3fb8b49-c9d7-4810-bfe5-f3680ec53efc",
        "colab": {
          "base_uri": "https://localhost:8080/"
        }
      },
      "execution_count": 26,
      "outputs": [
        {
          "output_type": "execute_result",
          "data": {
            "text/plain": [
              "<tf.Tensor: shape=(), dtype=float32, numpy=8.910892>"
            ]
          },
          "metadata": {},
          "execution_count": 26
        }
      ]
    },
    {
      "cell_type": "code",
      "source": [
        "tf.keras.metrics.mean_squared_error(\n",
        "    np.array([1,2,3]),\n",
        "    np.array([10,2,3])\n",
        ")"
      ],
      "metadata": {
        "id": "SbvPQZ6iEeSH",
        "outputId": "021bd9ba-bcdc-4cd7-bb33-71fd6bd5cb7c",
        "colab": {
          "base_uri": "https://localhost:8080/"
        }
      },
      "execution_count": 27,
      "outputs": [
        {
          "output_type": "execute_result",
          "data": {
            "text/plain": [
              "<tf.Tensor: shape=(), dtype=int64, numpy=27>"
            ]
          },
          "metadata": {},
          "execution_count": 27
        }
      ]
    },
    {
      "cell_type": "code",
      "source": [
        "tf.keras.metrics.mean_squared_error(\n",
        "    np.array([1,2,3]),\n",
        "    np.array([1,2,10])\n",
        ")"
      ],
      "metadata": {
        "id": "DTqV0OwKEnov",
        "outputId": "982f1fc6-5529-4568-fce6-755360f5b386",
        "colab": {
          "base_uri": "https://localhost:8080/"
        }
      },
      "execution_count": 28,
      "outputs": [
        {
          "output_type": "execute_result",
          "data": {
            "text/plain": [
              "<tf.Tensor: shape=(), dtype=int64, numpy=16>"
            ]
          },
          "metadata": {},
          "execution_count": 28
        }
      ]
    },
    {
      "cell_type": "markdown",
      "source": [],
      "metadata": {
        "id": "VOFZ1If1OAyZ"
      }
    },
    {
      "cell_type": "markdown",
      "source": [],
      "metadata": {
        "id": "l7v4k-Z0OA14"
      }
    },
    {
      "cell_type": "markdown",
      "source": [],
      "metadata": {
        "id": "HvnY9R15OA5U"
      }
    },
    {
      "cell_type": "markdown",
      "source": [],
      "metadata": {
        "id": "o0cEX2hUOA9g"
      }
    },
    {
      "cell_type": "markdown",
      "source": [],
      "metadata": {
        "id": "5AVsBeLYOBCD"
      }
    },
    {
      "cell_type": "markdown",
      "source": [
        "# ANALISIS FUNCION DE PERDIDA"
      ],
      "metadata": {
        "id": "2IT9Y1bOOBEd"
      }
    },
    {
      "cell_type": "code",
      "source": [
        "def loss_ranking(ranking_real, ranking_predicho):\n",
        "    ranking_real_float = tf.cast(ranking_real, tf.float32)\n",
        "    ranking_predicho = tf.cast(ranking_predicho, tf.float32)\n",
        "    diferencias = tf.abs(ranking_real_float - ranking_predicho)\n",
        "    diferencias_ponderadas = diferencias / (ranking_predicho + 0.01) # <<<<---------\n",
        "    perdida_total = tf.reduce_sum(diferencias_ponderadas)\n",
        "    return abs(perdida_total)\n",
        "\n",
        "def perdida_listas(ranking_real, ranking_predicho):\n",
        "    ranking_real = tf.cast(ranking_real, tf.float32)\n",
        "    ranking_predicho = tf.cast(ranking_predicho, tf.float32)\n",
        "    diferencias = tf.abs(ranking_real - ranking_predicho)\n",
        "    diferencias_ponderadas = diferencias / (ranking_real + 0.01)  # Añadimos un pequeño número para evitar la división por cero\n",
        "    perdida_total = tf.reduce_sum(diferencias_ponderadas)\n",
        "    return perdida_total\n",
        "\n",
        "def diferencia_listas(ranking_real, ranking_predicho):\n",
        "    ranking_real = tf.cast(ranking_real, tf.float32)\n",
        "    ranking_predicho = tf.cast(ranking_predicho, tf.float32)\n",
        "    diferencias = tf.abs(ranking_real - ranking_predicho)\n",
        "    perdida_total = tf.reduce_sum(diferencias)\n",
        "    \"\"\"\n",
        "    Una opción podría ser cambiar tf.reduce_sum() por tf.reduce_mean() para tomar el promedio de las diferencias en lugar de la suma. Esto hará que la pérdida sea independiente del tamaño del lote de datos.\n",
        "    \"\"\"\n",
        "    return perdida_total\n",
        "\n",
        "def mse(y_true, y_pred):\n",
        "    y_true = tf.cast(y_true, tf.float32)\n",
        "    y_pred = tf.cast(y_pred, tf.float32)\n",
        "    squared_differences = tf.square(y_true - y_pred)\n",
        "    mean_squared_error = tf.reduce_mean(squared_differences)\n",
        "    return mean_squared_error\n",
        "\n",
        "def mae(y_true, y_pred):\n",
        "    y_true = tf.cast(y_true, tf.float32)\n",
        "    y_pred = tf.cast(y_pred, tf.float32)\n",
        "    absolute_differences = tf.abs(y_true - y_pred)\n",
        "    mean_absolute_error = tf.reduce_mean(absolute_differences)\n",
        "    return mean_absolute_error\n",
        "\n",
        "def ndcg(y_true, y_pred):\n",
        "    # Ordenar los índices de y_true y y_pred en orden descendente\n",
        "    true_sorted_indices = tf.argsort(y_true, direction='ASCENDING')\n",
        "    pred_sorted_indices = tf.argsort(y_pred, direction='ASCENDING')\n",
        "\n",
        "    # Obtener los rangos de clasificación\n",
        "    true_ranks = tf.argsort(true_sorted_indices)\n",
        "    pred_ranks = tf.argsort(pred_sorted_indices)\n",
        "\n",
        "    # Calcular el NDCG\n",
        "    ndcg = tf.math.reduce_sum((2**y_true - 1) / tf.math.log1p(tf.cast(pred_ranks, tf.float32) + 1))\n",
        "    ideal_ndcg = tf.math.reduce_sum((2**y_true - 1) / tf.math.log1p(tf.cast(true_ranks, tf.float32) + 1))\n",
        "\n",
        "    # Normalizar por el valor ideal\n",
        "    ndcg = ndcg / ideal_ndcg\n",
        "\n",
        "    return ndcg\n",
        "\n",
        "from keras import backend as K\n",
        "def custom_loss(y_true, y_pred):\n",
        "    weights = K.abs(1. / K.cast(y_true, K.floatx()))  # Mayor peso a rangos más altos\n",
        "    return K.mean(weights * K.square(y_true - y_pred), axis=-1)\n",
        "\n",
        "\n",
        "def top_is_target(y_true, y_pred):\n",
        "  w = np.arange(len(y_true))\n",
        "  w = w[::-1] + 1\n",
        "  w[:10] = w[:10] * 1.3\n",
        "  w = K.cast(w, 'float32')\n",
        "\n",
        "  r = K.cast(y_true, 'float32')\n",
        "  r_pred = K.cast(y_pred, 'float32')\n",
        "\n",
        "  return K.sum(w * K.square(r - r_pred), axis=-1)\n",
        "\n"
      ],
      "metadata": {
        "id": "g6aRy3A7OIgD"
      },
      "execution_count": 29,
      "outputs": []
    },
    {
      "cell_type": "code",
      "source": [
        "r_pred = np.array([[18, 28,  3, 23, 29, 20, 15, 21, 22, 27, 10, 14, 13,  6, 19, 11,\n",
        "         5, 25,  4, 30,  7, 12, 17, 26,  9,  2,  0, 16,  8, 24,  1]])\n",
        "\n",
        "r_real = np.array([25, 19, 13, 17, 16, 27, 29, 30, 15,  0,  3, 22,  1,  8,  2, 18, 10,\n",
        "        4, 20,  6, 12, 26,  7, 14, 24, 23, 21, 11, 28,  5,  9])\n",
        "\n",
        "r_real = tf.cast(r_real, tf.float32)\n",
        "r_pred = tf.cast(r_pred, tf.float32)"
      ],
      "metadata": {
        "id": "vrNfOX3UOBTA"
      },
      "execution_count": 30,
      "outputs": []
    },
    {
      "cell_type": "code",
      "source": [
        "diferencias = tf.abs(r_pred - r_real)\n",
        "diferencias"
      ],
      "metadata": {
        "colab": {
          "base_uri": "https://localhost:8080/"
        },
        "id": "Gjb4GbIEOLiy",
        "outputId": "166d5643-99ee-4f5e-f3fb-0248542424ea"
      },
      "execution_count": 31,
      "outputs": [
        {
          "output_type": "execute_result",
          "data": {
            "text/plain": [
              "<tf.Tensor: shape=(1, 31), dtype=float32, numpy=\n",
              "array([[ 7.,  9., 10.,  6., 13.,  7., 14.,  9.,  7., 27.,  7.,  8., 12.,\n",
              "         2., 17.,  7.,  5., 21., 16., 24.,  5., 14., 10., 12., 15., 21.,\n",
              "        21.,  5., 20., 19.,  8.]], dtype=float32)>"
            ]
          },
          "metadata": {},
          "execution_count": 31
        }
      ]
    },
    {
      "cell_type": "code",
      "source": [
        "(r_pred + 0.1)"
      ],
      "metadata": {
        "colab": {
          "base_uri": "https://localhost:8080/"
        },
        "id": "oRX5Q9kjPM0A",
        "outputId": "68e5d07c-9a5b-4180-9bb0-63294e877013"
      },
      "execution_count": 32,
      "outputs": [
        {
          "output_type": "execute_result",
          "data": {
            "text/plain": [
              "<tf.Tensor: shape=(1, 31), dtype=float32, numpy=\n",
              "array([[18.1, 28.1,  3.1, 23.1, 29.1, 20.1, 15.1, 21.1, 22.1, 27.1, 10.1,\n",
              "        14.1, 13.1,  6.1, 19.1, 11.1,  5.1, 25.1,  4.1, 30.1,  7.1, 12.1,\n",
              "        17.1, 26.1,  9.1,  2.1,  0.1, 16.1,  8.1, 24.1,  1.1]],\n",
              "      dtype=float32)>"
            ]
          },
          "metadata": {},
          "execution_count": 32
        }
      ]
    },
    {
      "cell_type": "code",
      "source": [
        "diferencias_ponderadas = diferencias / (r_pred + 0.0001)\n",
        "diferencias_ponderadas"
      ],
      "metadata": {
        "colab": {
          "base_uri": "https://localhost:8080/"
        },
        "id": "hDcWQOOaOTZJ",
        "outputId": "4dc843b2-416e-4520-adb9-8af726fa1de0"
      },
      "execution_count": 33,
      "outputs": [
        {
          "output_type": "execute_result",
          "data": {
            "text/plain": [
              "<tf.Tensor: shape=(1, 31), dtype=float32, numpy=\n",
              "array([[3.88886750e-01, 3.21427435e-01, 3.33322239e+00, 2.60868430e-01,\n",
              "        4.48274314e-01, 3.49998266e-01, 9.33327079e-01, 4.28569406e-01,\n",
              "        3.18180382e-01, 9.99996305e-01, 6.99993014e-01, 5.71424484e-01,\n",
              "        9.23069835e-01, 3.33327770e-01, 8.94732177e-01, 6.36357844e-01,\n",
              "        9.99979973e-01, 8.39996696e-01, 3.99989986e+00, 7.99997330e-01,\n",
              "        7.14275479e-01, 1.16665697e+00, 5.88231862e-01, 4.61536705e-01,\n",
              "        1.66664815e+00, 1.04994755e+01, 2.10000000e+05, 3.12498063e-01,\n",
              "        2.49996877e+00, 7.91663408e-01, 7.99919987e+00]], dtype=float32)>"
            ]
          },
          "metadata": {},
          "execution_count": 33
        }
      ]
    },
    {
      "cell_type": "code",
      "source": [
        "perdida_total = tf.reduce_sum(diferencias_ponderadas)\n",
        "perdida_total"
      ],
      "metadata": {
        "colab": {
          "base_uri": "https://localhost:8080/"
        },
        "id": "3vGCRIMrOaGc",
        "outputId": "d91cd1b7-5ae9-40c6-8c17-b62e3e7721b3"
      },
      "execution_count": 34,
      "outputs": [
        {
          "output_type": "execute_result",
          "data": {
            "text/plain": [
              "<tf.Tensor: shape=(), dtype=float32, numpy=210045.19>"
            ]
          },
          "metadata": {},
          "execution_count": 34
        }
      ]
    },
    {
      "cell_type": "code",
      "source": [],
      "metadata": {
        "id": "4j7fbniBxnO5"
      },
      "execution_count": 34,
      "outputs": []
    },
    {
      "cell_type": "code",
      "source": [],
      "metadata": {
        "id": "Q_S1ioeMxnaB"
      },
      "execution_count": 34,
      "outputs": []
    },
    {
      "cell_type": "code",
      "source": [],
      "metadata": {
        "id": "5CtagBeGxnmL"
      },
      "execution_count": 34,
      "outputs": []
    },
    {
      "cell_type": "code",
      "source": [
        "import matplotlib.pyplot as plt\n",
        "\n",
        "ranking = np.arange(35)\n",
        "\n",
        "ranking = 2*(ranking - min(ranking)) / (max(ranking) - min(ranking)) - 1\n",
        "print(ranking)\n",
        "loss_loss_ranking = []\n",
        "loss_perdida_listas = []\n",
        "loss_mse = []\n",
        "loss_diferencia_listas = []\n",
        "loss_mae = []\n",
        "loss_ndcg = []\n",
        "loss_custom_loss = []\n",
        "loss_top_is_target = []\n",
        "\n",
        "for i in range(len(ranking)-1) :\n",
        "  #pred_ranking = np.roll(ranking, -i-1)\n",
        "  pred_ranking = np.roll(ranking, i+1)\n",
        "  print(pred_ranking)\n",
        "  loss = loss_ranking(ranking, pred_ranking )\n",
        "  loss_loss_ranking.append(loss)\n",
        "  print(\"loss ranking: \" + str(loss))\n",
        "  loss = perdida_listas(ranking, pred_ranking )\n",
        "  loss_perdida_listas.append(loss)\n",
        "  print(\"perdida_listas: \" + str(loss))\n",
        "  loss = mse(ranking, pred_ranking )\n",
        "  loss_mse.append(loss)\n",
        "  print(\"mse: \" + str(loss))\n",
        "  loss = diferencia_listas(ranking, pred_ranking )\n",
        "  loss_diferencia_listas.append(loss)\n",
        "  print(\"diferencia_listas: \" + str(loss))\n",
        "  loss = mae(ranking, pred_ranking )\n",
        "  loss_mae.append(loss)\n",
        "  print(\"mae: \" + str(loss))\n",
        "  loss = ndcg(ranking, pred_ranking )\n",
        "  loss_ndcg.append(loss)\n",
        "  print(\"loss_ndcg: \" + str(loss))\n",
        "  loss = ndcg(ranking, pred_ranking )\n",
        "  loss_custom_loss.append(loss)\n",
        "  print(\"loss_custom_loss: \" + str(loss))\n",
        "  loss = top_is_target(ranking, pred_ranking )\n",
        "  loss_top_is_target.append(loss)\n",
        "  print(\"top_is_target: \" + str(loss))\n",
        "\n",
        "loss_loss_ranking = np.array(loss_loss_ranking)\n",
        "loss_perdida_listas = np.array(loss_perdida_listas)\n",
        "loss_mse = np.array(loss_mse)\n",
        "loss_diferencia_listas = np.array(loss_diferencia_listas)\n",
        "loss_mae = np.array(loss_mae)\n",
        "loss_ndcg = np.array(loss_ndcg)\n",
        "loss_custom_loss = np.array(loss_custom_loss)\n",
        "loss_top_is_target = np.array(loss_top_is_target)\n",
        "\n",
        "plt.figure()\n",
        "plt.plot(loss_loss_ranking / loss_loss_ranking.max(), 'r');\n",
        "plt.plot(loss_perdida_listas / loss_perdida_listas.max(), 'g');\n",
        "plt.plot(loss_mse / loss_mse.max(), 'b');\n",
        "plt.plot(loss_diferencia_listas / loss_diferencia_listas.max(), 'y');\n",
        "plt.plot(loss_mae / loss_mae.max(), 'p');\n",
        "plt.plot(loss_ndcg / loss_ndcg.max(), 'brown');\n",
        "plt.plot(loss_custom_loss / loss_custom_loss.max(), 'r');\n",
        "plt.plot(loss_top_is_target / loss_top_is_target.max(), 'g');\n",
        "print(\"---------------------\")\n",
        "\n",
        "loss_loss_ranking = []\n",
        "loss_perdida_listas = []\n",
        "loss_mse = []\n",
        "loss_diferencia_listas = []\n",
        "loss_mae = []\n",
        "loss_ndcg = []\n",
        "loss_custom_loss = []\n",
        "loss_top_is_target = []\n",
        "\n",
        "for i in range(len(ranking)-1):\n",
        "  pred_ranking = np.roll(ranking, -i-1)\n",
        "  #pred_ranking = np.roll(ranking, i+1)\n",
        "  print(pred_ranking)\n",
        "  loss = loss_ranking(ranking, pred_ranking )\n",
        "  loss_loss_ranking.append(loss)\n",
        "  print(\"loss ranking: \" + str(loss))\n",
        "  loss = perdida_listas(ranking, pred_ranking )\n",
        "  loss_perdida_listas.append(loss)\n",
        "  print(\"perdida_listas: \" + str(loss))\n",
        "  loss = mse(ranking, pred_ranking )\n",
        "  loss_mse.append(loss)\n",
        "  print(\"mse: \" + str(loss))\n",
        "  loss = diferencia_listas(ranking, pred_ranking )\n",
        "  loss_diferencia_listas.append(loss)\n",
        "  print(\"diferencia_listas: \" + str(loss))\n",
        "  loss = mae(ranking, pred_ranking )\n",
        "  loss_mae.append(loss)\n",
        "  print(\"mae: \" + str(loss))\n",
        "  loss = ndcg(ranking, pred_ranking )\n",
        "  loss_ndcg.append(loss)\n",
        "  print(\"loss_ndcg: \" + str(loss))\n",
        "  loss = ndcg(ranking, pred_ranking )\n",
        "  loss_custom_loss.append(loss)\n",
        "  print(\"loss_custom_loss: \" + str(loss))\n",
        "  loss = top_is_target(ranking, pred_ranking )\n",
        "  loss_top_is_target.append(loss)\n",
        "  print(\"top_is_target: \" + str(loss))\n",
        "\n",
        "plt.figure()\n",
        "loss_loss_ranking = np.array(loss_loss_ranking)\n",
        "loss_perdida_listas = np.array(loss_perdida_listas)\n",
        "loss_mse = np.array(loss_mse)\n",
        "loss_diferencia_listas = np.array(loss_diferencia_listas)\n",
        "loss_mae = np.array(loss_mae)\n",
        "loss_ndcg = np.array(loss_ndcg)\n",
        "loss_custom_loss = np.array(loss_custom_loss)\n",
        "loss_top_is_target = np.array(loss_top_is_target)\n",
        "\n",
        "plt.plot(loss_loss_ranking / loss_loss_ranking.max(), 'r');\n",
        "plt.plot(loss_perdida_listas / loss_perdida_listas.max(), 'g');\n",
        "plt.plot(loss_mse / loss_mse.max(), 'b');\n",
        "plt.plot(loss_diferencia_listas / loss_diferencia_listas.max(), 'y');\n",
        "plt.plot(loss_mae / loss_mae.max(), 'p');\n",
        "plt.plot(loss_ndcg / loss_ndcg.max(), 'brown');\n",
        "plt.plot(loss_custom_loss / loss_custom_loss.max(), 'r');\n",
        "plt.plot(loss_top_is_target / loss_top_is_target.max(), 'g');\n",
        "\n"
      ],
      "metadata": {
        "colab": {
          "base_uri": "https://localhost:8080/",
          "height": 1000
        },
        "id": "Ud84xlb8yC_T",
        "outputId": "73c61dc4-0b0e-4918-bfe7-e1e64c407b03"
      },
      "execution_count": 35,
      "outputs": [
        {
          "output_type": "stream",
          "name": "stdout",
          "text": [
            "[-1.         -0.94117647 -0.88235294 -0.82352941 -0.76470588 -0.70588235\n",
            " -0.64705882 -0.58823529 -0.52941176 -0.47058824 -0.41176471 -0.35294118\n",
            " -0.29411765 -0.23529412 -0.17647059 -0.11764706 -0.05882353  0.\n",
            "  0.05882353  0.11764706  0.17647059  0.23529412  0.29411765  0.35294118\n",
            "  0.41176471  0.47058824  0.52941176  0.58823529  0.64705882  0.70588235\n",
            "  0.76470588  0.82352941  0.88235294  0.94117647  1.        ]\n",
            "[ 1.         -1.         -0.94117647 -0.88235294 -0.82352941 -0.76470588\n",
            " -0.70588235 -0.64705882 -0.58823529 -0.52941176 -0.47058824 -0.41176471\n",
            " -0.35294118 -0.29411765 -0.23529412 -0.17647059 -0.11764706 -0.05882353\n",
            "  0.          0.05882353  0.11764706  0.17647059  0.23529412  0.29411765\n",
            "  0.35294118  0.41176471  0.47058824  0.52941176  0.58823529  0.64705882\n",
            "  0.70588235  0.76470588  0.82352941  0.88235294  0.94117647]\n",
            "loss ranking: tf.Tensor(7.2535243, shape=(), dtype=float32)\n",
            "perdida_listas: tf.Tensor(3.3707833, shape=(), dtype=float32)\n",
            "mse: tf.Tensor(0.117647074, shape=(), dtype=float32)\n",
            "diferencia_listas: tf.Tensor(4.0, shape=(), dtype=float32)\n",
            "mae: tf.Tensor(0.114285715, shape=(), dtype=float32)\n",
            "loss_ndcg: tf.Tensor(0.8344056, shape=(), dtype=float32)\n",
            "loss_custom_loss: tf.Tensor(0.8344056, shape=(), dtype=float32)\n",
            "top_is_target: tf.Tensor(182.32527, shape=(), dtype=float32)\n",
            "[ 0.94117647  1.         -1.         -0.94117647 -0.88235294 -0.82352941\n",
            " -0.76470588 -0.70588235 -0.64705882 -0.58823529 -0.52941176 -0.47058824\n",
            " -0.41176471 -0.35294118 -0.29411765 -0.23529412 -0.17647059 -0.11764706\n",
            " -0.05882353  0.          0.05882353  0.11764706  0.17647059  0.23529412\n",
            "  0.29411765  0.35294118  0.41176471  0.47058824  0.52941176  0.58823529\n",
            "  0.64705882  0.70588235  0.76470588  0.82352941  0.88235294]\n",
            "loss ranking: tf.Tensor(14.385739, shape=(), dtype=float32)\n",
            "perdida_listas: tf.Tensor(6.862879, shape=(), dtype=float32)\n",
            "mse: tf.Tensor(0.2283737, shape=(), dtype=float32)\n",
            "diferencia_listas: tf.Tensor(7.764706, shape=(), dtype=float32)\n",
            "mae: tf.Tensor(0.22184874, shape=(), dtype=float32)\n",
            "loss_ndcg: tf.Tensor(0.66625607, shape=(), dtype=float32)\n",
            "loss_custom_loss: tf.Tensor(0.66625607, shape=(), dtype=float32)\n",
            "top_is_target: tf.Tensor(344.0588, shape=(), dtype=float32)\n",
            "[ 0.88235294  0.94117647  1.         -1.         -0.94117647 -0.88235294\n",
            " -0.82352941 -0.76470588 -0.70588235 -0.64705882 -0.58823529 -0.52941176\n",
            " -0.47058824 -0.41176471 -0.35294118 -0.29411765 -0.23529412 -0.17647059\n",
            " -0.11764706 -0.05882353  0.          0.05882353  0.11764706  0.17647059\n",
            "  0.23529412  0.29411765  0.35294118  0.41176471  0.47058824  0.52941176\n",
            "  0.58823529  0.64705882  0.70588235  0.76470588  0.82352941]\n",
            "loss ranking: tf.Tensor(21.388807, shape=(), dtype=float32)\n",
            "perdida_listas: tf.Tensor(10.484128, shape=(), dtype=float32)\n",
            "mse: tf.Tensor(0.3321799, shape=(), dtype=float32)\n",
            "diferencia_listas: tf.Tensor(11.294117, shape=(), dtype=float32)\n",
            "mae: tf.Tensor(0.32268906, shape=(), dtype=float32)\n",
            "loss_ndcg: tf.Tensor(0.49564347, shape=(), dtype=float32)\n",
            "loss_custom_loss: tf.Tensor(0.49564347, shape=(), dtype=float32)\n",
            "top_is_target: tf.Tensor(482.41525, shape=(), dtype=float32)\n",
            "[ 0.82352941  0.88235294  0.94117647  1.         -1.         -0.94117647\n",
            " -0.88235294 -0.82352941 -0.76470588 -0.70588235 -0.64705882 -0.58823529\n",
            " -0.52941176 -0.47058824 -0.41176471 -0.35294118 -0.29411765 -0.23529412\n",
            " -0.17647059 -0.11764706 -0.05882353  0.          0.05882353  0.11764706\n",
            "  0.17647059  0.23529412  0.29411765  0.35294118  0.41176471  0.47058824\n",
            "  0.52941176  0.58823529  0.64705882  0.70588235  0.76470588]\n",
            "loss ranking: tf.Tensor(28.253801, shape=(), dtype=float32)\n",
            "perdida_listas: tf.Tensor(14.243457, shape=(), dtype=float32)\n",
            "mse: tf.Tensor(0.4290658, shape=(), dtype=float32)\n",
            "diferencia_listas: tf.Tensor(14.588235, shape=(), dtype=float32)\n",
            "mae: tf.Tensor(0.4168067, shape=(), dtype=float32)\n",
            "loss_ndcg: tf.Tensor(0.32267892, shape=(), dtype=float32)\n",
            "loss_custom_loss: tf.Tensor(0.32267892, shape=(), dtype=float32)\n",
            "top_is_target: tf.Tensor(602.1177, shape=(), dtype=float32)\n",
            "[ 0.76470588  0.82352941  0.88235294  0.94117647  1.         -1.\n",
            " -0.94117647 -0.88235294 -0.82352941 -0.76470588 -0.70588235 -0.64705882\n",
            " -0.58823529 -0.52941176 -0.47058824 -0.41176471 -0.35294118 -0.29411765\n",
            " -0.23529412 -0.17647059 -0.11764706 -0.05882353  0.          0.05882353\n",
            "  0.11764706  0.17647059  0.23529412  0.29411765  0.35294118  0.41176471\n",
            "  0.47058824  0.52941176  0.58823529  0.64705882  0.70588235]\n",
            "loss ranking: tf.Tensor(34.97047, shape=(), dtype=float32)\n",
            "perdida_listas: tf.Tensor(18.151121, shape=(), dtype=float32)\n",
            "mse: tf.Tensor(0.51903117, shape=(), dtype=float32)\n",
            "diferencia_listas: tf.Tensor(17.647058, shape=(), dtype=float32)\n",
            "mae: tf.Tensor(0.50420165, shape=(), dtype=float32)\n",
            "loss_ndcg: tf.Tensor(0.14749697, shape=(), dtype=float32)\n",
            "loss_custom_loss: tf.Tensor(0.14749697, shape=(), dtype=float32)\n",
            "top_is_target: tf.Tensor(703.89276, shape=(), dtype=float32)\n",
            "[ 0.70588235  0.76470588  0.82352941  0.88235294  0.94117647  1.\n",
            " -1.         -0.94117647 -0.88235294 -0.82352941 -0.76470588 -0.70588235\n",
            " -0.64705882 -0.58823529 -0.52941176 -0.47058824 -0.41176471 -0.35294118\n",
            " -0.29411765 -0.23529412 -0.17647059 -0.11764706 -0.05882353  0.\n",
            "  0.05882353  0.11764706  0.17647059  0.23529412  0.29411765  0.35294118\n",
            "  0.41176471  0.47058824  0.52941176  0.58823529  0.64705882]\n",
            "loss ranking: tf.Tensor(41.52692, shape=(), dtype=float32)\n",
            "perdida_listas: tf.Tensor(22.219019, shape=(), dtype=float32)\n",
            "mse: tf.Tensor(0.6020761, shape=(), dtype=float32)\n",
            "diferencia_listas: tf.Tensor(20.470589, shape=(), dtype=float32)\n",
            "mae: tf.Tensor(0.584874, shape=(), dtype=float32)\n",
            "loss_ndcg: tf.Tensor(-0.029743964, shape=(), dtype=float32)\n",
            "loss_custom_loss: tf.Tensor(-0.029743964, shape=(), dtype=float32)\n",
            "top_is_target: tf.Tensor(788.4671, shape=(), dtype=float32)\n",
            "[ 0.64705882  0.70588235  0.76470588  0.82352941  0.88235294  0.94117647\n",
            "  1.         -1.         -0.94117647 -0.88235294 -0.82352941 -0.76470588\n",
            " -0.70588235 -0.64705882 -0.58823529 -0.52941176 -0.47058824 -0.41176471\n",
            " -0.35294118 -0.29411765 -0.23529412 -0.17647059 -0.11764706 -0.05882353\n",
            "  0.          0.05882353  0.11764706  0.17647059  0.23529412  0.29411765\n",
            "  0.35294118  0.41176471  0.47058824  0.52941176  0.58823529]\n",
            "loss ranking: tf.Tensor(47.909172, shape=(), dtype=float32)\n",
            "perdida_listas: tf.Tensor(26.46112, shape=(), dtype=float32)\n",
            "mse: tf.Tensor(0.6782007, shape=(), dtype=float32)\n",
            "diferencia_listas: tf.Tensor(23.058823, shape=(), dtype=float32)\n",
            "mae: tf.Tensor(0.6588235, shape=(), dtype=float32)\n",
            "loss_ndcg: tf.Tensor(-0.20885476, shape=(), dtype=float32)\n",
            "loss_custom_loss: tf.Tensor(-0.20885476, shape=(), dtype=float32)\n",
            "top_is_target: tf.Tensor(854.02423, shape=(), dtype=float32)\n",
            "[ 0.58823529  0.64705882  0.70588235  0.76470588  0.82352941  0.88235294\n",
            "  0.94117647  1.         -1.         -0.94117647 -0.88235294 -0.82352941\n",
            " -0.76470588 -0.70588235 -0.64705882 -0.58823529 -0.52941176 -0.47058824\n",
            " -0.41176471 -0.35294118 -0.29411765 -0.23529412 -0.17647059 -0.11764706\n",
            " -0.05882353  0.          0.05882353  0.11764706  0.17647059  0.23529412\n",
            "  0.29411765  0.35294118  0.41176471  0.47058824  0.52941176]\n",
            "loss ranking: tf.Tensor(54.10058, shape=(), dtype=float32)\n",
            "perdida_listas: tf.Tensor(30.894098, shape=(), dtype=float32)\n",
            "mse: tf.Tensor(0.74740493, shape=(), dtype=float32)\n",
            "diferencia_listas: tf.Tensor(25.411764, shape=(), dtype=float32)\n",
            "mae: tf.Tensor(0.7260504, shape=(), dtype=float32)\n",
            "loss_ndcg: tf.Tensor(-0.38961408, shape=(), dtype=float32)\n",
            "loss_custom_loss: tf.Tensor(-0.38961408, shape=(), dtype=float32)\n",
            "top_is_target: tf.Tensor(904.3185, shape=(), dtype=float32)\n",
            "[ 0.52941176  0.58823529  0.64705882  0.70588235  0.76470588  0.82352941\n",
            "  0.88235294  0.94117647  1.         -1.         -0.94117647 -0.88235294\n",
            " -0.82352941 -0.76470588 -0.70588235 -0.64705882 -0.58823529 -0.52941176\n",
            " -0.47058824 -0.41176471 -0.35294118 -0.29411765 -0.23529412 -0.17647059\n",
            " -0.11764706 -0.05882353  0.          0.05882353  0.11764706  0.17647059\n",
            "  0.23529412  0.29411765  0.35294118  0.41176471  0.47058824]\n",
            "loss ranking: tf.Tensor(60.080963, shape=(), dtype=float32)\n",
            "perdida_listas: tf.Tensor(35.538147, shape=(), dtype=float32)\n",
            "mse: tf.Tensor(0.8096885, shape=(), dtype=float32)\n",
            "diferencia_listas: tf.Tensor(27.529413, shape=(), dtype=float32)\n",
            "mae: tf.Tensor(0.78655463, shape=(), dtype=float32)\n",
            "loss_ndcg: tf.Tensor(-0.5717622, shape=(), dtype=float32)\n",
            "loss_custom_loss: tf.Tensor(-0.5717622, shape=(), dtype=float32)\n",
            "top_is_target: tf.Tensor(940.0761, shape=(), dtype=float32)\n",
            "[ 0.47058824  0.52941176  0.58823529  0.64705882  0.70588235  0.76470588\n",
            "  0.82352941  0.88235294  0.94117647  1.         -1.         -0.94117647\n",
            " -0.88235294 -0.82352941 -0.76470588 -0.70588235 -0.64705882 -0.58823529\n",
            " -0.52941176 -0.47058824 -0.41176471 -0.35294118 -0.29411765 -0.23529412\n",
            " -0.17647059 -0.11764706 -0.05882353  0.          0.05882353  0.11764706\n",
            "  0.17647059  0.23529412  0.29411765  0.35294118  0.41176471]\n",
            "loss ranking: tf.Tensor(65.825356, shape=(), dtype=float32)\n",
            "perdida_listas: tf.Tensor(40.418232, shape=(), dtype=float32)\n",
            "mse: tf.Tensor(0.86505187, shape=(), dtype=float32)\n",
            "diferencia_listas: tf.Tensor(29.411766, shape=(), dtype=float32)\n",
            "mae: tf.Tensor(0.84033614, shape=(), dtype=float32)\n",
            "loss_ndcg: tf.Tensor(-0.75499624, shape=(), dtype=float32)\n",
            "loss_custom_loss: tf.Tensor(-0.75499624, shape=(), dtype=float32)\n",
            "top_is_target: tf.Tensor(960.2076, shape=(), dtype=float32)\n",
            "[ 0.41176471  0.47058824  0.52941176  0.58823529  0.64705882  0.70588235\n",
            "  0.76470588  0.82352941  0.88235294  0.94117647  1.         -1.\n",
            " -0.94117647 -0.88235294 -0.82352941 -0.76470588 -0.70588235 -0.64705882\n",
            " -0.58823529 -0.52941176 -0.47058824 -0.41176471 -0.35294118 -0.29411765\n",
            " -0.23529412 -0.17647059 -0.11764706 -0.05882353  0.          0.05882353\n",
            "  0.11764706  0.17647059  0.23529412  0.29411765  0.35294118]\n",
            "loss ranking: tf.Tensor(71.30207, shape=(), dtype=float32)\n",
            "perdida_listas: tf.Tensor(45.566097, shape=(), dtype=float32)\n",
            "mse: tf.Tensor(0.9134948, shape=(), dtype=float32)\n",
            "diferencia_listas: tf.Tensor(31.058826, shape=(), dtype=float32)\n",
            "mae: tf.Tensor(0.887395, shape=(), dtype=float32)\n",
            "loss_ndcg: tf.Tensor(-0.9389629, shape=(), dtype=float32)\n",
            "loss_custom_loss: tf.Tensor(-0.9389629, shape=(), dtype=float32)\n",
            "top_is_target: tf.Tensor(956.7197, shape=(), dtype=float32)\n",
            "[ 0.35294118  0.41176471  0.47058824  0.52941176  0.58823529  0.64705882\n",
            "  0.70588235  0.76470588  0.82352941  0.88235294  0.94117647  1.\n",
            " -1.         -0.94117647 -0.88235294 -0.82352941 -0.76470588 -0.70588235\n",
            " -0.64705882 -0.58823529 -0.52941176 -0.47058824 -0.41176471 -0.35294118\n",
            " -0.29411765 -0.23529412 -0.17647059 -0.11764706 -0.05882353  0.\n",
            "  0.05882353  0.11764706  0.17647059  0.23529412  0.29411765]\n",
            "loss ranking: tf.Tensor(76.46957, shape=(), dtype=float32)\n",
            "perdida_listas: tf.Tensor(51.023357, shape=(), dtype=float32)\n",
            "mse: tf.Tensor(0.9550173, shape=(), dtype=float32)\n",
            "diferencia_listas: tf.Tensor(32.47059, shape=(), dtype=float32)\n",
            "mae: tf.Tensor(0.9277311, shape=(), dtype=float32)\n",
            "loss_ndcg: tf.Tensor(-1.1232508, shape=(), dtype=float32)\n",
            "loss_custom_loss: tf.Tensor(-1.1232508, shape=(), dtype=float32)\n",
            "top_is_target: tf.Tensor(944.7509, shape=(), dtype=float32)\n",
            "[ 0.29411765  0.35294118  0.41176471  0.47058824  0.52941176  0.58823529\n",
            "  0.64705882  0.70588235  0.76470588  0.82352941  0.88235294  0.94117647\n",
            "  1.         -1.         -0.94117647 -0.88235294 -0.82352941 -0.76470588\n",
            " -0.70588235 -0.64705882 -0.58823529 -0.52941176 -0.47058824 -0.41176471\n",
            " -0.35294118 -0.29411765 -0.23529412 -0.17647059 -0.11764706 -0.05882353\n",
            "  0.          0.05882353  0.11764706  0.17647059  0.23529412]\n",
            "loss ranking: tf.Tensor(81.27089, shape=(), dtype=float32)\n",
            "perdida_listas: tf.Tensor(56.8471, shape=(), dtype=float32)\n",
            "mse: tf.Tensor(0.9896193, shape=(), dtype=float32)\n",
            "diferencia_listas: tf.Tensor(33.64706, shape=(), dtype=float32)\n",
            "mae: tf.Tensor(0.9613446, shape=(), dtype=float32)\n",
            "loss_ndcg: tf.Tensor(-1.3073819, shape=(), dtype=float32)\n",
            "loss_custom_loss: tf.Tensor(-1.3073819, shape=(), dtype=float32)\n",
            "top_is_target: tf.Tensor(925.0277, shape=(), dtype=float32)\n",
            "[ 0.23529412  0.29411765  0.35294118  0.41176471  0.47058824  0.52941176\n",
            "  0.58823529  0.64705882  0.70588235  0.76470588  0.82352941  0.88235294\n",
            "  0.94117647  1.         -1.         -0.94117647 -0.88235294 -0.82352941\n",
            " -0.76470588 -0.70588235 -0.64705882 -0.58823529 -0.52941176 -0.47058824\n",
            " -0.41176471 -0.35294118 -0.29411765 -0.23529412 -0.17647059 -0.11764706\n",
            " -0.05882353  0.          0.05882353  0.11764706  0.17647059]\n",
            "loss ranking: tf.Tensor(85.62322, shape=(), dtype=float32)\n",
            "perdida_listas: tf.Tensor(63.120598, shape=(), dtype=float32)\n",
            "mse: tf.Tensor(1.017301, shape=(), dtype=float32)\n",
            "diferencia_listas: tf.Tensor(34.588238, shape=(), dtype=float32)\n",
            "mae: tf.Tensor(0.98823535, shape=(), dtype=float32)\n",
            "loss_ndcg: tf.Tensor(-1.4907994, shape=(), dtype=float32)\n",
            "loss_custom_loss: tf.Tensor(-1.4907994, shape=(), dtype=float32)\n",
            "top_is_target: tf.Tensor(898.27686, shape=(), dtype=float32)\n",
            "[ 0.17647059  0.23529412  0.29411765  0.35294118  0.41176471  0.47058824\n",
            "  0.52941176  0.58823529  0.64705882  0.70588235  0.76470588  0.82352941\n",
            "  0.88235294  0.94117647  1.         -1.         -0.94117647 -0.88235294\n",
            " -0.82352941 -0.76470588 -0.70588235 -0.64705882 -0.58823529 -0.52941176\n",
            " -0.47058824 -0.41176471 -0.35294118 -0.29411765 -0.23529412 -0.17647059\n",
            " -0.11764706 -0.05882353  0.          0.05882353  0.11764706]\n",
            "loss ranking: tf.Tensor(89.39458, shape=(), dtype=float32)\n",
            "perdida_listas: tf.Tensor(69.977196, shape=(), dtype=float32)\n",
            "mse: tf.Tensor(1.0380625, shape=(), dtype=float32)\n",
            "diferencia_listas: tf.Tensor(35.29412, shape=(), dtype=float32)\n",
            "mae: tf.Tensor(1.0084034, shape=(), dtype=float32)\n",
            "loss_ndcg: tf.Tensor(-1.6728548, shape=(), dtype=float32)\n",
            "loss_custom_loss: tf.Tensor(-1.6728548, shape=(), dtype=float32)\n",
            "top_is_target: tf.Tensor(865.225, shape=(), dtype=float32)\n",
            "[ 0.11764706  0.17647059  0.23529412  0.29411765  0.35294118  0.41176471\n",
            "  0.47058824  0.52941176  0.58823529  0.64705882  0.70588235  0.76470588\n",
            "  0.82352941  0.88235294  0.94117647  1.         -1.         -0.94117647\n",
            " -0.88235294 -0.82352941 -0.76470588 -0.70588235 -0.64705882 -0.58823529\n",
            " -0.52941176 -0.47058824 -0.41176471 -0.35294118 -0.29411765 -0.23529412\n",
            " -0.17647059 -0.11764706 -0.05882353  0.          0.05882353]\n",
            "loss ranking: tf.Tensor(92.34021, shape=(), dtype=float32)\n",
            "perdida_listas: tf.Tensor(77.66795, shape=(), dtype=float32)\n",
            "mse: tf.Tensor(1.0519032, shape=(), dtype=float32)\n",
            "diferencia_listas: tf.Tensor(35.764706, shape=(), dtype=float32)\n",
            "mae: tf.Tensor(1.0218487, shape=(), dtype=float32)\n",
            "loss_ndcg: tf.Tensor(-1.8527919, shape=(), dtype=float32)\n",
            "loss_custom_loss: tf.Tensor(-1.8527919, shape=(), dtype=float32)\n",
            "top_is_target: tf.Tensor(826.5987, shape=(), dtype=float32)\n",
            "[ 0.05882353  0.11764706  0.17647059  0.23529412  0.29411765  0.35294118\n",
            "  0.41176471  0.47058824  0.52941176  0.58823529  0.64705882  0.70588235\n",
            "  0.76470588  0.82352941  0.88235294  0.94117647  1.         -1.\n",
            " -0.94117647 -0.88235294 -0.82352941 -0.76470588 -0.70588235 -0.64705882\n",
            " -0.58823529 -0.52941176 -0.47058824 -0.41176471 -0.35294118 -0.29411765\n",
            " -0.23529412 -0.17647059 -0.11764706 -0.05882353  0.        ]\n",
            "loss ranking: tf.Tensor(93.83638, shape=(), dtype=float32)\n",
            "perdida_listas: tf.Tensor(86.88611, shape=(), dtype=float32)\n",
            "mse: tf.Tensor(1.0588235, shape=(), dtype=float32)\n",
            "diferencia_listas: tf.Tensor(36.0, shape=(), dtype=float32)\n",
            "mae: tf.Tensor(1.0285715, shape=(), dtype=float32)\n",
            "loss_ndcg: tf.Tensor(-2.0297256, shape=(), dtype=float32)\n",
            "loss_custom_loss: tf.Tensor(-2.0297256, shape=(), dtype=float32)\n",
            "top_is_target: tf.Tensor(783.12463, shape=(), dtype=float32)\n",
            "[ 0.          0.05882353  0.11764706  0.17647059  0.23529412  0.29411765\n",
            "  0.35294118  0.41176471  0.47058824  0.52941176  0.58823529  0.64705882\n",
            "  0.70588235  0.76470588  0.82352941  0.88235294  0.94117647  1.\n",
            " -1.         -0.94117647 -0.88235294 -0.82352941 -0.76470588 -0.70588235\n",
            " -0.64705882 -0.58823529 -0.52941176 -0.47058824 -0.41176471 -0.35294118\n",
            " -0.29411765 -0.23529412 -0.17647059 -0.11764706 -0.05882353]\n",
            "loss ranking: tf.Tensor(86.88611, shape=(), dtype=float32)\n",
            "perdida_listas: tf.Tensor(93.836395, shape=(), dtype=float32)\n",
            "mse: tf.Tensor(1.0588236, shape=(), dtype=float32)\n",
            "diferencia_listas: tf.Tensor(36.000004, shape=(), dtype=float32)\n",
            "mae: tf.Tensor(1.0285715, shape=(), dtype=float32)\n",
            "loss_ndcg: tf.Tensor(-2.2026181, shape=(), dtype=float32)\n",
            "loss_custom_loss: tf.Tensor(-2.2026181, shape=(), dtype=float32)\n",
            "top_is_target: tf.Tensor(735.52936, shape=(), dtype=float32)\n",
            "[-0.05882353  0.          0.05882353  0.11764706  0.17647059  0.23529412\n",
            "  0.29411765  0.35294118  0.41176471  0.47058824  0.52941176  0.58823529\n",
            "  0.64705882  0.70588235  0.76470588  0.82352941  0.88235294  0.94117647\n",
            "  1.         -1.         -0.94117647 -0.88235294 -0.82352941 -0.76470588\n",
            " -0.70588235 -0.64705882 -0.58823529 -0.52941176 -0.47058824 -0.41176471\n",
            " -0.35294118 -0.29411765 -0.23529412 -0.17647059 -0.11764706]\n",
            "loss ranking: tf.Tensor(77.66795, shape=(), dtype=float32)\n",
            "perdida_listas: tf.Tensor(92.3402, shape=(), dtype=float32)\n",
            "mse: tf.Tensor(1.0519032, shape=(), dtype=float32)\n",
            "diferencia_listas: tf.Tensor(35.764706, shape=(), dtype=float32)\n",
            "mae: tf.Tensor(1.0218487, shape=(), dtype=float32)\n",
            "loss_ndcg: tf.Tensor(-2.3702462, shape=(), dtype=float32)\n",
            "loss_custom_loss: tf.Tensor(-2.3702462, shape=(), dtype=float32)\n",
            "top_is_target: tf.Tensor(684.5398, shape=(), dtype=float32)\n",
            "[-0.11764706 -0.05882353  0.          0.05882353  0.11764706  0.17647059\n",
            "  0.23529412  0.29411765  0.35294118  0.41176471  0.47058824  0.52941176\n",
            "  0.58823529  0.64705882  0.70588235  0.76470588  0.82352941  0.88235294\n",
            "  0.94117647  1.         -1.         -0.94117647 -0.88235294 -0.82352941\n",
            " -0.76470588 -0.70588235 -0.64705882 -0.58823529 -0.52941176 -0.47058824\n",
            " -0.41176471 -0.35294118 -0.29411765 -0.23529412 -0.17647059]\n",
            "loss ranking: tf.Tensor(69.9772, shape=(), dtype=float32)\n",
            "perdida_listas: tf.Tensor(89.39458, shape=(), dtype=float32)\n",
            "mse: tf.Tensor(1.0380623, shape=(), dtype=float32)\n",
            "diferencia_listas: tf.Tensor(35.29412, shape=(), dtype=float32)\n",
            "mae: tf.Tensor(1.0084034, shape=(), dtype=float32)\n",
            "loss_ndcg: tf.Tensor(-2.531161, shape=(), dtype=float32)\n",
            "loss_custom_loss: tf.Tensor(-2.531161, shape=(), dtype=float32)\n",
            "top_is_target: tf.Tensor(630.8824, shape=(), dtype=float32)\n",
            "[-0.17647059 -0.11764706 -0.05882353  0.          0.05882353  0.11764706\n",
            "  0.17647059  0.23529412  0.29411765  0.35294118  0.41176471  0.47058824\n",
            "  0.52941176  0.58823529  0.64705882  0.70588235  0.76470588  0.82352941\n",
            "  0.88235294  0.94117647  1.         -1.         -0.94117647 -0.88235294\n",
            " -0.82352941 -0.76470588 -0.70588235 -0.64705882 -0.58823529 -0.52941176\n",
            " -0.47058824 -0.41176471 -0.35294118 -0.29411765 -0.23529412]\n",
            "loss ranking: tf.Tensor(63.120605, shape=(), dtype=float32)\n",
            "perdida_listas: tf.Tensor(85.62323, shape=(), dtype=float32)\n",
            "mse: tf.Tensor(1.017301, shape=(), dtype=float32)\n",
            "diferencia_listas: tf.Tensor(34.588234, shape=(), dtype=float32)\n",
            "mae: tf.Tensor(0.98823524, shape=(), dtype=float32)\n",
            "loss_ndcg: tf.Tensor(-2.6836364, shape=(), dtype=float32)\n",
            "loss_custom_loss: tf.Tensor(-2.6836364, shape=(), dtype=float32)\n",
            "top_is_target: tf.Tensor(575.28375, shape=(), dtype=float32)\n",
            "[-0.23529412 -0.17647059 -0.11764706 -0.05882353  0.          0.05882353\n",
            "  0.11764706  0.17647059  0.23529412  0.29411765  0.35294118  0.41176471\n",
            "  0.47058824  0.52941176  0.58823529  0.64705882  0.70588235  0.76470588\n",
            "  0.82352941  0.88235294  0.94117647  1.         -1.         -0.94117647\n",
            " -0.88235294 -0.82352941 -0.76470588 -0.70588235 -0.64705882 -0.58823529\n",
            " -0.52941176 -0.47058824 -0.41176471 -0.35294118 -0.29411765]\n",
            "loss ranking: tf.Tensor(56.847088, shape=(), dtype=float32)\n",
            "perdida_listas: tf.Tensor(81.2709, shape=(), dtype=float32)\n",
            "mse: tf.Tensor(0.98961943, shape=(), dtype=float32)\n",
            "diferencia_listas: tf.Tensor(33.64706, shape=(), dtype=float32)\n",
            "mae: tf.Tensor(0.9613446, shape=(), dtype=float32)\n",
            "loss_ndcg: tf.Tensor(-2.8255994, shape=(), dtype=float32)\n",
            "loss_custom_loss: tf.Tensor(-2.8255994, shape=(), dtype=float32)\n",
            "top_is_target: tf.Tensor(518.4706, shape=(), dtype=float32)\n",
            "[-0.29411765 -0.23529412 -0.17647059 -0.11764706 -0.05882353  0.\n",
            "  0.05882353  0.11764706  0.17647059  0.23529412  0.29411765  0.35294118\n",
            "  0.41176471  0.47058824  0.52941176  0.58823529  0.64705882  0.70588235\n",
            "  0.76470588  0.82352941  0.88235294  0.94117647  1.         -1.\n",
            " -0.94117647 -0.88235294 -0.82352941 -0.76470588 -0.70588235 -0.64705882\n",
            " -0.58823529 -0.52941176 -0.47058824 -0.41176471 -0.35294118]\n",
            "loss ranking: tf.Tensor(51.023354, shape=(), dtype=float32)\n",
            "perdida_listas: tf.Tensor(76.469574, shape=(), dtype=float32)\n",
            "mse: tf.Tensor(0.9550173, shape=(), dtype=float32)\n",
            "diferencia_listas: tf.Tensor(32.47059, shape=(), dtype=float32)\n",
            "mae: tf.Tensor(0.9277311, shape=(), dtype=float32)\n",
            "loss_ndcg: tf.Tensor(-2.9545374, shape=(), dtype=float32)\n",
            "loss_custom_loss: tf.Tensor(-2.9545374, shape=(), dtype=float32)\n",
            "top_is_target: tf.Tensor(461.16956, shape=(), dtype=float32)\n",
            "[-0.35294118 -0.29411765 -0.23529412 -0.17647059 -0.11764706 -0.05882353\n",
            "  0.          0.05882353  0.11764706  0.17647059  0.23529412  0.29411765\n",
            "  0.35294118  0.41176471  0.47058824  0.52941176  0.58823529  0.64705882\n",
            "  0.70588235  0.76470588  0.82352941  0.88235294  0.94117647  1.\n",
            " -1.         -0.94117647 -0.88235294 -0.82352941 -0.76470588 -0.70588235\n",
            " -0.64705882 -0.58823529 -0.52941176 -0.47058824 -0.41176471]\n",
            "loss ranking: tf.Tensor(45.5661, shape=(), dtype=float32)\n",
            "perdida_listas: tf.Tensor(71.302086, shape=(), dtype=float32)\n",
            "mse: tf.Tensor(0.9134948, shape=(), dtype=float32)\n",
            "diferencia_listas: tf.Tensor(31.058825, shape=(), dtype=float32)\n",
            "mae: tf.Tensor(0.88739496, shape=(), dtype=float32)\n",
            "loss_ndcg: tf.Tensor(-3.0673692, shape=(), dtype=float32)\n",
            "loss_custom_loss: tf.Tensor(-3.0673692, shape=(), dtype=float32)\n",
            "top_is_target: tf.Tensor(404.10727, shape=(), dtype=float32)\n",
            "[-0.41176471 -0.35294118 -0.29411765 -0.23529412 -0.17647059 -0.11764706\n",
            " -0.05882353  0.          0.05882353  0.11764706  0.17647059  0.23529412\n",
            "  0.29411765  0.35294118  0.41176471  0.47058824  0.52941176  0.58823529\n",
            "  0.64705882  0.70588235  0.76470588  0.82352941  0.88235294  0.94117647\n",
            "  1.         -1.         -0.94117647 -0.88235294 -0.82352941 -0.76470588\n",
            " -0.70588235 -0.64705882 -0.58823529 -0.52941176 -0.47058824]\n",
            "loss ranking: tf.Tensor(40.418236, shape=(), dtype=float32)\n",
            "perdida_listas: tf.Tensor(65.825356, shape=(), dtype=float32)\n",
            "mse: tf.Tensor(0.8650518, shape=(), dtype=float32)\n",
            "diferencia_listas: tf.Tensor(29.411764, shape=(), dtype=float32)\n",
            "mae: tf.Tensor(0.84033614, shape=(), dtype=float32)\n",
            "loss_ndcg: tf.Tensor(-3.1602676, shape=(), dtype=float32)\n",
            "loss_custom_loss: tf.Tensor(-3.1602676, shape=(), dtype=float32)\n",
            "top_is_target: tf.Tensor(348.01038, shape=(), dtype=float32)\n",
            "[-0.47058824 -0.41176471 -0.35294118 -0.29411765 -0.23529412 -0.17647059\n",
            " -0.11764706 -0.05882353  0.          0.05882353  0.11764706  0.17647059\n",
            "  0.23529412  0.29411765  0.35294118  0.41176471  0.47058824  0.52941176\n",
            "  0.58823529  0.64705882  0.70588235  0.76470588  0.82352941  0.88235294\n",
            "  0.94117647  1.         -1.         -0.94117647 -0.88235294 -0.82352941\n",
            " -0.76470588 -0.70588235 -0.64705882 -0.58823529 -0.52941176]\n",
            "loss ranking: tf.Tensor(35.538147, shape=(), dtype=float32)\n",
            "perdida_listas: tf.Tensor(60.080963, shape=(), dtype=float32)\n",
            "mse: tf.Tensor(0.8096886, shape=(), dtype=float32)\n",
            "diferencia_listas: tf.Tensor(27.529413, shape=(), dtype=float32)\n",
            "mae: tf.Tensor(0.78655463, shape=(), dtype=float32)\n",
            "loss_ndcg: tf.Tensor(-3.2283921, shape=(), dtype=float32)\n",
            "loss_custom_loss: tf.Tensor(-3.2283921, shape=(), dtype=float32)\n",
            "top_is_target: tf.Tensor(293.60556, shape=(), dtype=float32)\n",
            "[-0.52941176 -0.47058824 -0.41176471 -0.35294118 -0.29411765 -0.23529412\n",
            " -0.17647059 -0.11764706 -0.05882353  0.          0.05882353  0.11764706\n",
            "  0.17647059  0.23529412  0.29411765  0.35294118  0.41176471  0.47058824\n",
            "  0.52941176  0.58823529  0.64705882  0.70588235  0.76470588  0.82352941\n",
            "  0.88235294  0.94117647  1.         -1.         -0.94117647 -0.88235294\n",
            " -0.82352941 -0.76470588 -0.70588235 -0.64705882 -0.58823529]\n",
            "loss ranking: tf.Tensor(30.894104, shape=(), dtype=float32)\n",
            "perdida_listas: tf.Tensor(54.100586, shape=(), dtype=float32)\n",
            "mse: tf.Tensor(0.74740493, shape=(), dtype=float32)\n",
            "diferencia_listas: tf.Tensor(25.411764, shape=(), dtype=float32)\n",
            "mae: tf.Tensor(0.7260504, shape=(), dtype=float32)\n",
            "loss_ndcg: tf.Tensor(-3.2654974, shape=(), dtype=float32)\n",
            "loss_custom_loss: tf.Tensor(-3.2654974, shape=(), dtype=float32)\n",
            "top_is_target: tf.Tensor(241.6194, shape=(), dtype=float32)\n",
            "[-0.58823529 -0.52941176 -0.47058824 -0.41176471 -0.35294118 -0.29411765\n",
            " -0.23529412 -0.17647059 -0.11764706 -0.05882353  0.          0.05882353\n",
            "  0.11764706  0.17647059  0.23529412  0.29411765  0.35294118  0.41176471\n",
            "  0.47058824  0.52941176  0.58823529  0.64705882  0.70588235  0.76470588\n",
            "  0.82352941  0.88235294  0.94117647  1.         -1.         -0.94117647\n",
            " -0.88235294 -0.82352941 -0.76470588 -0.70588235 -0.64705882]\n",
            "loss ranking: tf.Tensor(26.46112, shape=(), dtype=float32)\n",
            "perdida_listas: tf.Tensor(47.909172, shape=(), dtype=float32)\n",
            "mse: tf.Tensor(0.6782007, shape=(), dtype=float32)\n",
            "diferencia_listas: tf.Tensor(23.058823, shape=(), dtype=float32)\n",
            "mae: tf.Tensor(0.6588235, shape=(), dtype=float32)\n",
            "loss_ndcg: tf.Tensor(-3.2633042, shape=(), dtype=float32)\n",
            "loss_custom_loss: tf.Tensor(-3.2633042, shape=(), dtype=float32)\n",
            "top_is_target: tf.Tensor(192.77853, shape=(), dtype=float32)\n",
            "[-0.64705882 -0.58823529 -0.52941176 -0.47058824 -0.41176471 -0.35294118\n",
            " -0.29411765 -0.23529412 -0.17647059 -0.11764706 -0.05882353  0.\n",
            "  0.05882353  0.11764706  0.17647059  0.23529412  0.29411765  0.35294118\n",
            "  0.41176471  0.47058824  0.52941176  0.58823529  0.64705882  0.70588235\n",
            "  0.76470588  0.82352941  0.88235294  0.94117647  1.         -1.\n",
            " -0.94117647 -0.88235294 -0.82352941 -0.76470588 -0.70588235]\n",
            "loss ranking: tf.Tensor(22.219011, shape=(), dtype=float32)\n",
            "perdida_listas: tf.Tensor(41.526924, shape=(), dtype=float32)\n",
            "mse: tf.Tensor(0.60207605, shape=(), dtype=float32)\n",
            "diferencia_listas: tf.Tensor(20.470589, shape=(), dtype=float32)\n",
            "mae: tf.Tensor(0.584874, shape=(), dtype=float32)\n",
            "loss_ndcg: tf.Tensor(-3.2104614, shape=(), dtype=float32)\n",
            "loss_custom_loss: tf.Tensor(-3.2104614, shape=(), dtype=float32)\n",
            "top_is_target: tf.Tensor(147.8097, shape=(), dtype=float32)\n",
            "[-0.70588235 -0.64705882 -0.58823529 -0.52941176 -0.47058824 -0.41176471\n",
            " -0.35294118 -0.29411765 -0.23529412 -0.17647059 -0.11764706 -0.05882353\n",
            "  0.          0.05882353  0.11764706  0.17647059  0.23529412  0.29411765\n",
            "  0.35294118  0.41176471  0.47058824  0.52941176  0.58823529  0.64705882\n",
            "  0.70588235  0.76470588  0.82352941  0.88235294  0.94117647  1.\n",
            " -1.         -0.94117647 -0.88235294 -0.82352941 -0.76470588]\n",
            "loss ranking: tf.Tensor(18.151121, shape=(), dtype=float32)\n",
            "perdida_listas: tf.Tensor(34.97047, shape=(), dtype=float32)\n",
            "mse: tf.Tensor(0.51903117, shape=(), dtype=float32)\n",
            "diferencia_listas: tf.Tensor(17.64706, shape=(), dtype=float32)\n",
            "mae: tf.Tensor(0.5042017, shape=(), dtype=float32)\n",
            "loss_ndcg: tf.Tensor(-3.0906997, shape=(), dtype=float32)\n",
            "loss_custom_loss: tf.Tensor(-3.0906997, shape=(), dtype=float32)\n",
            "top_is_target: tf.Tensor(107.439445, shape=(), dtype=float32)\n",
            "[-0.76470588 -0.70588235 -0.64705882 -0.58823529 -0.52941176 -0.47058824\n",
            " -0.41176471 -0.35294118 -0.29411765 -0.23529412 -0.17647059 -0.11764706\n",
            " -0.05882353  0.          0.05882353  0.11764706  0.17647059  0.23529412\n",
            "  0.29411765  0.35294118  0.41176471  0.47058824  0.52941176  0.58823529\n",
            "  0.64705882  0.70588235  0.76470588  0.82352941  0.88235294  0.94117647\n",
            "  1.         -1.         -0.94117647 -0.88235294 -0.82352941]\n",
            "loss ranking: tf.Tensor(14.243454, shape=(), dtype=float32)\n",
            "perdida_listas: tf.Tensor(28.2538, shape=(), dtype=float32)\n",
            "mse: tf.Tensor(0.42906576, shape=(), dtype=float32)\n",
            "diferencia_listas: tf.Tensor(14.588236, shape=(), dtype=float32)\n",
            "mae: tf.Tensor(0.41680673, shape=(), dtype=float32)\n",
            "loss_ndcg: tf.Tensor(-2.8792439, shape=(), dtype=float32)\n",
            "loss_custom_loss: tf.Tensor(-2.8792439, shape=(), dtype=float32)\n",
            "top_is_target: tf.Tensor(72.39447, shape=(), dtype=float32)\n",
            "[-0.82352941 -0.76470588 -0.70588235 -0.64705882 -0.58823529 -0.52941176\n",
            " -0.47058824 -0.41176471 -0.35294118 -0.29411765 -0.23529412 -0.17647059\n",
            " -0.11764706 -0.05882353  0.          0.05882353  0.11764706  0.17647059\n",
            "  0.23529412  0.29411765  0.35294118  0.41176471  0.47058824  0.52941176\n",
            "  0.58823529  0.64705882  0.70588235  0.76470588  0.82352941  0.88235294\n",
            "  0.94117647  1.         -1.         -0.94117647 -0.88235294]\n",
            "loss ranking: tf.Tensor(10.484127, shape=(), dtype=float32)\n",
            "perdida_listas: tf.Tensor(21.38881, shape=(), dtype=float32)\n",
            "mse: tf.Tensor(0.33217993, shape=(), dtype=float32)\n",
            "diferencia_listas: tf.Tensor(11.294117, shape=(), dtype=float32)\n",
            "mae: tf.Tensor(0.32268906, shape=(), dtype=float32)\n",
            "loss_ndcg: tf.Tensor(-2.534991, shape=(), dtype=float32)\n",
            "loss_custom_loss: tf.Tensor(-2.534991, shape=(), dtype=float32)\n",
            "top_is_target: tf.Tensor(43.401382, shape=(), dtype=float32)\n",
            "[-0.88235294 -0.82352941 -0.76470588 -0.70588235 -0.64705882 -0.58823529\n",
            " -0.52941176 -0.47058824 -0.41176471 -0.35294118 -0.29411765 -0.23529412\n",
            " -0.17647059 -0.11764706 -0.05882353  0.          0.05882353  0.11764706\n",
            "  0.17647059  0.23529412  0.29411765  0.35294118  0.41176471  0.47058824\n",
            "  0.52941176  0.58823529  0.64705882  0.70588235  0.76470588  0.82352941\n",
            "  0.88235294  0.94117647  1.         -1.         -0.94117647]\n",
            "loss ranking: tf.Tensor(6.862878, shape=(), dtype=float32)\n",
            "perdida_listas: tf.Tensor(14.38574, shape=(), dtype=float32)\n",
            "mse: tf.Tensor(0.22837369, shape=(), dtype=float32)\n",
            "diferencia_listas: tf.Tensor(7.7647057, shape=(), dtype=float32)\n",
            "mae: tf.Tensor(0.22184873, shape=(), dtype=float32)\n",
            "loss_ndcg: tf.Tensor(-1.9802655, shape=(), dtype=float32)\n",
            "loss_custom_loss: tf.Tensor(-1.9802655, shape=(), dtype=float32)\n",
            "top_is_target: tf.Tensor(21.186852, shape=(), dtype=float32)\n",
            "[-0.94117647 -0.88235294 -0.82352941 -0.76470588 -0.70588235 -0.64705882\n",
            " -0.58823529 -0.52941176 -0.47058824 -0.41176471 -0.35294118 -0.29411765\n",
            " -0.23529412 -0.17647059 -0.11764706 -0.05882353  0.          0.05882353\n",
            "  0.11764706  0.17647059  0.23529412  0.29411765  0.35294118  0.41176471\n",
            "  0.47058824  0.52941176  0.58823529  0.64705882  0.70588235  0.76470588\n",
            "  0.82352941  0.88235294  0.94117647  1.         -1.        ]\n",
            "loss ranking: tf.Tensor(3.3707833, shape=(), dtype=float32)\n",
            "perdida_listas: tf.Tensor(7.253524, shape=(), dtype=float32)\n",
            "mse: tf.Tensor(0.11764706, shape=(), dtype=float32)\n",
            "diferencia_listas: tf.Tensor(4.0, shape=(), dtype=float32)\n",
            "mae: tf.Tensor(0.114285715, shape=(), dtype=float32)\n",
            "loss_ndcg: tf.Tensor(-1.031996, shape=(), dtype=float32)\n",
            "loss_custom_loss: tf.Tensor(-1.031996, shape=(), dtype=float32)\n",
            "top_is_target: tf.Tensor(6.4775085, shape=(), dtype=float32)\n",
            "---------------------\n",
            "[-0.94117647 -0.88235294 -0.82352941 -0.76470588 -0.70588235 -0.64705882\n",
            " -0.58823529 -0.52941176 -0.47058824 -0.41176471 -0.35294118 -0.29411765\n",
            " -0.23529412 -0.17647059 -0.11764706 -0.05882353  0.          0.05882353\n",
            "  0.11764706  0.17647059  0.23529412  0.29411765  0.35294118  0.41176471\n",
            "  0.47058824  0.52941176  0.58823529  0.64705882  0.70588235  0.76470588\n",
            "  0.82352941  0.88235294  0.94117647  1.         -1.        ]\n",
            "loss ranking: tf.Tensor(3.3707833, shape=(), dtype=float32)\n",
            "perdida_listas: tf.Tensor(7.253524, shape=(), dtype=float32)\n",
            "mse: tf.Tensor(0.11764706, shape=(), dtype=float32)\n",
            "diferencia_listas: tf.Tensor(4.0, shape=(), dtype=float32)\n",
            "mae: tf.Tensor(0.114285715, shape=(), dtype=float32)\n",
            "loss_ndcg: tf.Tensor(-1.031996, shape=(), dtype=float32)\n",
            "loss_custom_loss: tf.Tensor(-1.031996, shape=(), dtype=float32)\n",
            "top_is_target: tf.Tensor(6.4775085, shape=(), dtype=float32)\n",
            "[-0.88235294 -0.82352941 -0.76470588 -0.70588235 -0.64705882 -0.58823529\n",
            " -0.52941176 -0.47058824 -0.41176471 -0.35294118 -0.29411765 -0.23529412\n",
            " -0.17647059 -0.11764706 -0.05882353  0.          0.05882353  0.11764706\n",
            "  0.17647059  0.23529412  0.29411765  0.35294118  0.41176471  0.47058824\n",
            "  0.52941176  0.58823529  0.64705882  0.70588235  0.76470588  0.82352941\n",
            "  0.88235294  0.94117647  1.         -1.         -0.94117647]\n",
            "loss ranking: tf.Tensor(6.862878, shape=(), dtype=float32)\n",
            "perdida_listas: tf.Tensor(14.38574, shape=(), dtype=float32)\n",
            "mse: tf.Tensor(0.22837369, shape=(), dtype=float32)\n",
            "diferencia_listas: tf.Tensor(7.7647057, shape=(), dtype=float32)\n",
            "mae: tf.Tensor(0.22184873, shape=(), dtype=float32)\n",
            "loss_ndcg: tf.Tensor(-1.9802655, shape=(), dtype=float32)\n",
            "loss_custom_loss: tf.Tensor(-1.9802655, shape=(), dtype=float32)\n",
            "top_is_target: tf.Tensor(21.186852, shape=(), dtype=float32)\n",
            "[-0.82352941 -0.76470588 -0.70588235 -0.64705882 -0.58823529 -0.52941176\n",
            " -0.47058824 -0.41176471 -0.35294118 -0.29411765 -0.23529412 -0.17647059\n",
            " -0.11764706 -0.05882353  0.          0.05882353  0.11764706  0.17647059\n",
            "  0.23529412  0.29411765  0.35294118  0.41176471  0.47058824  0.52941176\n",
            "  0.58823529  0.64705882  0.70588235  0.76470588  0.82352941  0.88235294\n",
            "  0.94117647  1.         -1.         -0.94117647 -0.88235294]\n",
            "loss ranking: tf.Tensor(10.484127, shape=(), dtype=float32)\n",
            "perdida_listas: tf.Tensor(21.38881, shape=(), dtype=float32)\n",
            "mse: tf.Tensor(0.33217993, shape=(), dtype=float32)\n",
            "diferencia_listas: tf.Tensor(11.294117, shape=(), dtype=float32)\n",
            "mae: tf.Tensor(0.32268906, shape=(), dtype=float32)\n",
            "loss_ndcg: tf.Tensor(-2.534991, shape=(), dtype=float32)\n",
            "loss_custom_loss: tf.Tensor(-2.534991, shape=(), dtype=float32)\n",
            "top_is_target: tf.Tensor(43.401382, shape=(), dtype=float32)\n",
            "[-0.76470588 -0.70588235 -0.64705882 -0.58823529 -0.52941176 -0.47058824\n",
            " -0.41176471 -0.35294118 -0.29411765 -0.23529412 -0.17647059 -0.11764706\n",
            " -0.05882353  0.          0.05882353  0.11764706  0.17647059  0.23529412\n",
            "  0.29411765  0.35294118  0.41176471  0.47058824  0.52941176  0.58823529\n",
            "  0.64705882  0.70588235  0.76470588  0.82352941  0.88235294  0.94117647\n",
            "  1.         -1.         -0.94117647 -0.88235294 -0.82352941]\n",
            "loss ranking: tf.Tensor(14.243454, shape=(), dtype=float32)\n",
            "perdida_listas: tf.Tensor(28.2538, shape=(), dtype=float32)\n",
            "mse: tf.Tensor(0.42906576, shape=(), dtype=float32)\n",
            "diferencia_listas: tf.Tensor(14.588236, shape=(), dtype=float32)\n",
            "mae: tf.Tensor(0.41680673, shape=(), dtype=float32)\n",
            "loss_ndcg: tf.Tensor(-2.8792439, shape=(), dtype=float32)\n",
            "loss_custom_loss: tf.Tensor(-2.8792439, shape=(), dtype=float32)\n",
            "top_is_target: tf.Tensor(72.39447, shape=(), dtype=float32)\n",
            "[-0.70588235 -0.64705882 -0.58823529 -0.52941176 -0.47058824 -0.41176471\n",
            " -0.35294118 -0.29411765 -0.23529412 -0.17647059 -0.11764706 -0.05882353\n",
            "  0.          0.05882353  0.11764706  0.17647059  0.23529412  0.29411765\n",
            "  0.35294118  0.41176471  0.47058824  0.52941176  0.58823529  0.64705882\n",
            "  0.70588235  0.76470588  0.82352941  0.88235294  0.94117647  1.\n",
            " -1.         -0.94117647 -0.88235294 -0.82352941 -0.76470588]\n",
            "loss ranking: tf.Tensor(18.151121, shape=(), dtype=float32)\n",
            "perdida_listas: tf.Tensor(34.97047, shape=(), dtype=float32)\n",
            "mse: tf.Tensor(0.51903117, shape=(), dtype=float32)\n",
            "diferencia_listas: tf.Tensor(17.64706, shape=(), dtype=float32)\n",
            "mae: tf.Tensor(0.5042017, shape=(), dtype=float32)\n",
            "loss_ndcg: tf.Tensor(-3.0906997, shape=(), dtype=float32)\n",
            "loss_custom_loss: tf.Tensor(-3.0906997, shape=(), dtype=float32)\n",
            "top_is_target: tf.Tensor(107.439445, shape=(), dtype=float32)\n",
            "[-0.64705882 -0.58823529 -0.52941176 -0.47058824 -0.41176471 -0.35294118\n",
            " -0.29411765 -0.23529412 -0.17647059 -0.11764706 -0.05882353  0.\n",
            "  0.05882353  0.11764706  0.17647059  0.23529412  0.29411765  0.35294118\n",
            "  0.41176471  0.47058824  0.52941176  0.58823529  0.64705882  0.70588235\n",
            "  0.76470588  0.82352941  0.88235294  0.94117647  1.         -1.\n",
            " -0.94117647 -0.88235294 -0.82352941 -0.76470588 -0.70588235]\n",
            "loss ranking: tf.Tensor(22.219011, shape=(), dtype=float32)\n",
            "perdida_listas: tf.Tensor(41.526924, shape=(), dtype=float32)\n",
            "mse: tf.Tensor(0.60207605, shape=(), dtype=float32)\n",
            "diferencia_listas: tf.Tensor(20.470589, shape=(), dtype=float32)\n",
            "mae: tf.Tensor(0.584874, shape=(), dtype=float32)\n",
            "loss_ndcg: tf.Tensor(-3.2104614, shape=(), dtype=float32)\n",
            "loss_custom_loss: tf.Tensor(-3.2104614, shape=(), dtype=float32)\n",
            "top_is_target: tf.Tensor(147.8097, shape=(), dtype=float32)\n",
            "[-0.58823529 -0.52941176 -0.47058824 -0.41176471 -0.35294118 -0.29411765\n",
            " -0.23529412 -0.17647059 -0.11764706 -0.05882353  0.          0.05882353\n",
            "  0.11764706  0.17647059  0.23529412  0.29411765  0.35294118  0.41176471\n",
            "  0.47058824  0.52941176  0.58823529  0.64705882  0.70588235  0.76470588\n",
            "  0.82352941  0.88235294  0.94117647  1.         -1.         -0.94117647\n",
            " -0.88235294 -0.82352941 -0.76470588 -0.70588235 -0.64705882]\n",
            "loss ranking: tf.Tensor(26.46112, shape=(), dtype=float32)\n",
            "perdida_listas: tf.Tensor(47.909172, shape=(), dtype=float32)\n",
            "mse: tf.Tensor(0.6782007, shape=(), dtype=float32)\n",
            "diferencia_listas: tf.Tensor(23.058823, shape=(), dtype=float32)\n",
            "mae: tf.Tensor(0.6588235, shape=(), dtype=float32)\n",
            "loss_ndcg: tf.Tensor(-3.2633042, shape=(), dtype=float32)\n",
            "loss_custom_loss: tf.Tensor(-3.2633042, shape=(), dtype=float32)\n",
            "top_is_target: tf.Tensor(192.77853, shape=(), dtype=float32)\n",
            "[-0.52941176 -0.47058824 -0.41176471 -0.35294118 -0.29411765 -0.23529412\n",
            " -0.17647059 -0.11764706 -0.05882353  0.          0.05882353  0.11764706\n",
            "  0.17647059  0.23529412  0.29411765  0.35294118  0.41176471  0.47058824\n",
            "  0.52941176  0.58823529  0.64705882  0.70588235  0.76470588  0.82352941\n",
            "  0.88235294  0.94117647  1.         -1.         -0.94117647 -0.88235294\n",
            " -0.82352941 -0.76470588 -0.70588235 -0.64705882 -0.58823529]\n",
            "loss ranking: tf.Tensor(30.894104, shape=(), dtype=float32)\n",
            "perdida_listas: tf.Tensor(54.100586, shape=(), dtype=float32)\n",
            "mse: tf.Tensor(0.74740493, shape=(), dtype=float32)\n",
            "diferencia_listas: tf.Tensor(25.411764, shape=(), dtype=float32)\n",
            "mae: tf.Tensor(0.7260504, shape=(), dtype=float32)\n",
            "loss_ndcg: tf.Tensor(-3.2654974, shape=(), dtype=float32)\n",
            "loss_custom_loss: tf.Tensor(-3.2654974, shape=(), dtype=float32)\n",
            "top_is_target: tf.Tensor(241.6194, shape=(), dtype=float32)\n",
            "[-0.47058824 -0.41176471 -0.35294118 -0.29411765 -0.23529412 -0.17647059\n",
            " -0.11764706 -0.05882353  0.          0.05882353  0.11764706  0.17647059\n",
            "  0.23529412  0.29411765  0.35294118  0.41176471  0.47058824  0.52941176\n",
            "  0.58823529  0.64705882  0.70588235  0.76470588  0.82352941  0.88235294\n",
            "  0.94117647  1.         -1.         -0.94117647 -0.88235294 -0.82352941\n",
            " -0.76470588 -0.70588235 -0.64705882 -0.58823529 -0.52941176]\n",
            "loss ranking: tf.Tensor(35.538147, shape=(), dtype=float32)\n",
            "perdida_listas: tf.Tensor(60.080963, shape=(), dtype=float32)\n",
            "mse: tf.Tensor(0.8096886, shape=(), dtype=float32)\n",
            "diferencia_listas: tf.Tensor(27.529413, shape=(), dtype=float32)\n",
            "mae: tf.Tensor(0.78655463, shape=(), dtype=float32)\n",
            "loss_ndcg: tf.Tensor(-3.2283921, shape=(), dtype=float32)\n",
            "loss_custom_loss: tf.Tensor(-3.2283921, shape=(), dtype=float32)\n",
            "top_is_target: tf.Tensor(293.60556, shape=(), dtype=float32)\n",
            "[-0.41176471 -0.35294118 -0.29411765 -0.23529412 -0.17647059 -0.11764706\n",
            " -0.05882353  0.          0.05882353  0.11764706  0.17647059  0.23529412\n",
            "  0.29411765  0.35294118  0.41176471  0.47058824  0.52941176  0.58823529\n",
            "  0.64705882  0.70588235  0.76470588  0.82352941  0.88235294  0.94117647\n",
            "  1.         -1.         -0.94117647 -0.88235294 -0.82352941 -0.76470588\n",
            " -0.70588235 -0.64705882 -0.58823529 -0.52941176 -0.47058824]\n",
            "loss ranking: tf.Tensor(40.418236, shape=(), dtype=float32)\n",
            "perdida_listas: tf.Tensor(65.825356, shape=(), dtype=float32)\n",
            "mse: tf.Tensor(0.8650518, shape=(), dtype=float32)\n",
            "diferencia_listas: tf.Tensor(29.411764, shape=(), dtype=float32)\n",
            "mae: tf.Tensor(0.84033614, shape=(), dtype=float32)\n",
            "loss_ndcg: tf.Tensor(-3.1602676, shape=(), dtype=float32)\n",
            "loss_custom_loss: tf.Tensor(-3.1602676, shape=(), dtype=float32)\n",
            "top_is_target: tf.Tensor(348.01038, shape=(), dtype=float32)\n",
            "[-0.35294118 -0.29411765 -0.23529412 -0.17647059 -0.11764706 -0.05882353\n",
            "  0.          0.05882353  0.11764706  0.17647059  0.23529412  0.29411765\n",
            "  0.35294118  0.41176471  0.47058824  0.52941176  0.58823529  0.64705882\n",
            "  0.70588235  0.76470588  0.82352941  0.88235294  0.94117647  1.\n",
            " -1.         -0.94117647 -0.88235294 -0.82352941 -0.76470588 -0.70588235\n",
            " -0.64705882 -0.58823529 -0.52941176 -0.47058824 -0.41176471]\n",
            "loss ranking: tf.Tensor(45.5661, shape=(), dtype=float32)\n",
            "perdida_listas: tf.Tensor(71.302086, shape=(), dtype=float32)\n",
            "mse: tf.Tensor(0.9134948, shape=(), dtype=float32)\n",
            "diferencia_listas: tf.Tensor(31.058825, shape=(), dtype=float32)\n",
            "mae: tf.Tensor(0.88739496, shape=(), dtype=float32)\n",
            "loss_ndcg: tf.Tensor(-3.0673692, shape=(), dtype=float32)\n",
            "loss_custom_loss: tf.Tensor(-3.0673692, shape=(), dtype=float32)\n",
            "top_is_target: tf.Tensor(404.10727, shape=(), dtype=float32)\n",
            "[-0.29411765 -0.23529412 -0.17647059 -0.11764706 -0.05882353  0.\n",
            "  0.05882353  0.11764706  0.17647059  0.23529412  0.29411765  0.35294118\n",
            "  0.41176471  0.47058824  0.52941176  0.58823529  0.64705882  0.70588235\n",
            "  0.76470588  0.82352941  0.88235294  0.94117647  1.         -1.\n",
            " -0.94117647 -0.88235294 -0.82352941 -0.76470588 -0.70588235 -0.64705882\n",
            " -0.58823529 -0.52941176 -0.47058824 -0.41176471 -0.35294118]\n",
            "loss ranking: tf.Tensor(51.023354, shape=(), dtype=float32)\n",
            "perdida_listas: tf.Tensor(76.469574, shape=(), dtype=float32)\n",
            "mse: tf.Tensor(0.9550173, shape=(), dtype=float32)\n",
            "diferencia_listas: tf.Tensor(32.47059, shape=(), dtype=float32)\n",
            "mae: tf.Tensor(0.9277311, shape=(), dtype=float32)\n",
            "loss_ndcg: tf.Tensor(-2.9545374, shape=(), dtype=float32)\n",
            "loss_custom_loss: tf.Tensor(-2.9545374, shape=(), dtype=float32)\n",
            "top_is_target: tf.Tensor(461.16956, shape=(), dtype=float32)\n",
            "[-0.23529412 -0.17647059 -0.11764706 -0.05882353  0.          0.05882353\n",
            "  0.11764706  0.17647059  0.23529412  0.29411765  0.35294118  0.41176471\n",
            "  0.47058824  0.52941176  0.58823529  0.64705882  0.70588235  0.76470588\n",
            "  0.82352941  0.88235294  0.94117647  1.         -1.         -0.94117647\n",
            " -0.88235294 -0.82352941 -0.76470588 -0.70588235 -0.64705882 -0.58823529\n",
            " -0.52941176 -0.47058824 -0.41176471 -0.35294118 -0.29411765]\n",
            "loss ranking: tf.Tensor(56.847088, shape=(), dtype=float32)\n",
            "perdida_listas: tf.Tensor(81.2709, shape=(), dtype=float32)\n",
            "mse: tf.Tensor(0.98961943, shape=(), dtype=float32)\n",
            "diferencia_listas: tf.Tensor(33.64706, shape=(), dtype=float32)\n",
            "mae: tf.Tensor(0.9613446, shape=(), dtype=float32)\n",
            "loss_ndcg: tf.Tensor(-2.8255994, shape=(), dtype=float32)\n",
            "loss_custom_loss: tf.Tensor(-2.8255994, shape=(), dtype=float32)\n",
            "top_is_target: tf.Tensor(518.4706, shape=(), dtype=float32)\n",
            "[-0.17647059 -0.11764706 -0.05882353  0.          0.05882353  0.11764706\n",
            "  0.17647059  0.23529412  0.29411765  0.35294118  0.41176471  0.47058824\n",
            "  0.52941176  0.58823529  0.64705882  0.70588235  0.76470588  0.82352941\n",
            "  0.88235294  0.94117647  1.         -1.         -0.94117647 -0.88235294\n",
            " -0.82352941 -0.76470588 -0.70588235 -0.64705882 -0.58823529 -0.52941176\n",
            " -0.47058824 -0.41176471 -0.35294118 -0.29411765 -0.23529412]\n",
            "loss ranking: tf.Tensor(63.120605, shape=(), dtype=float32)\n",
            "perdida_listas: tf.Tensor(85.62323, shape=(), dtype=float32)\n",
            "mse: tf.Tensor(1.017301, shape=(), dtype=float32)\n",
            "diferencia_listas: tf.Tensor(34.588234, shape=(), dtype=float32)\n",
            "mae: tf.Tensor(0.98823524, shape=(), dtype=float32)\n",
            "loss_ndcg: tf.Tensor(-2.6836364, shape=(), dtype=float32)\n",
            "loss_custom_loss: tf.Tensor(-2.6836364, shape=(), dtype=float32)\n",
            "top_is_target: tf.Tensor(575.28375, shape=(), dtype=float32)\n",
            "[-0.11764706 -0.05882353  0.          0.05882353  0.11764706  0.17647059\n",
            "  0.23529412  0.29411765  0.35294118  0.41176471  0.47058824  0.52941176\n",
            "  0.58823529  0.64705882  0.70588235  0.76470588  0.82352941  0.88235294\n",
            "  0.94117647  1.         -1.         -0.94117647 -0.88235294 -0.82352941\n",
            " -0.76470588 -0.70588235 -0.64705882 -0.58823529 -0.52941176 -0.47058824\n",
            " -0.41176471 -0.35294118 -0.29411765 -0.23529412 -0.17647059]\n",
            "loss ranking: tf.Tensor(69.9772, shape=(), dtype=float32)\n",
            "perdida_listas: tf.Tensor(89.39458, shape=(), dtype=float32)\n",
            "mse: tf.Tensor(1.0380623, shape=(), dtype=float32)\n",
            "diferencia_listas: tf.Tensor(35.29412, shape=(), dtype=float32)\n",
            "mae: tf.Tensor(1.0084034, shape=(), dtype=float32)\n",
            "loss_ndcg: tf.Tensor(-2.531161, shape=(), dtype=float32)\n",
            "loss_custom_loss: tf.Tensor(-2.531161, shape=(), dtype=float32)\n",
            "top_is_target: tf.Tensor(630.8824, shape=(), dtype=float32)\n",
            "[-0.05882353  0.          0.05882353  0.11764706  0.17647059  0.23529412\n",
            "  0.29411765  0.35294118  0.41176471  0.47058824  0.52941176  0.58823529\n",
            "  0.64705882  0.70588235  0.76470588  0.82352941  0.88235294  0.94117647\n",
            "  1.         -1.         -0.94117647 -0.88235294 -0.82352941 -0.76470588\n",
            " -0.70588235 -0.64705882 -0.58823529 -0.52941176 -0.47058824 -0.41176471\n",
            " -0.35294118 -0.29411765 -0.23529412 -0.17647059 -0.11764706]\n",
            "loss ranking: tf.Tensor(77.66795, shape=(), dtype=float32)\n",
            "perdida_listas: tf.Tensor(92.3402, shape=(), dtype=float32)\n",
            "mse: tf.Tensor(1.0519032, shape=(), dtype=float32)\n",
            "diferencia_listas: tf.Tensor(35.764706, shape=(), dtype=float32)\n",
            "mae: tf.Tensor(1.0218487, shape=(), dtype=float32)\n",
            "loss_ndcg: tf.Tensor(-2.3702462, shape=(), dtype=float32)\n",
            "loss_custom_loss: tf.Tensor(-2.3702462, shape=(), dtype=float32)\n",
            "top_is_target: tf.Tensor(684.5398, shape=(), dtype=float32)\n",
            "[ 0.          0.05882353  0.11764706  0.17647059  0.23529412  0.29411765\n",
            "  0.35294118  0.41176471  0.47058824  0.52941176  0.58823529  0.64705882\n",
            "  0.70588235  0.76470588  0.82352941  0.88235294  0.94117647  1.\n",
            " -1.         -0.94117647 -0.88235294 -0.82352941 -0.76470588 -0.70588235\n",
            " -0.64705882 -0.58823529 -0.52941176 -0.47058824 -0.41176471 -0.35294118\n",
            " -0.29411765 -0.23529412 -0.17647059 -0.11764706 -0.05882353]\n",
            "loss ranking: tf.Tensor(86.88611, shape=(), dtype=float32)\n",
            "perdida_listas: tf.Tensor(93.836395, shape=(), dtype=float32)\n",
            "mse: tf.Tensor(1.0588236, shape=(), dtype=float32)\n",
            "diferencia_listas: tf.Tensor(36.000004, shape=(), dtype=float32)\n",
            "mae: tf.Tensor(1.0285715, shape=(), dtype=float32)\n",
            "loss_ndcg: tf.Tensor(-2.2026181, shape=(), dtype=float32)\n",
            "loss_custom_loss: tf.Tensor(-2.2026181, shape=(), dtype=float32)\n",
            "top_is_target: tf.Tensor(735.52936, shape=(), dtype=float32)\n",
            "[ 0.05882353  0.11764706  0.17647059  0.23529412  0.29411765  0.35294118\n",
            "  0.41176471  0.47058824  0.52941176  0.58823529  0.64705882  0.70588235\n",
            "  0.76470588  0.82352941  0.88235294  0.94117647  1.         -1.\n",
            " -0.94117647 -0.88235294 -0.82352941 -0.76470588 -0.70588235 -0.64705882\n",
            " -0.58823529 -0.52941176 -0.47058824 -0.41176471 -0.35294118 -0.29411765\n",
            " -0.23529412 -0.17647059 -0.11764706 -0.05882353  0.        ]\n",
            "loss ranking: tf.Tensor(93.83638, shape=(), dtype=float32)\n",
            "perdida_listas: tf.Tensor(86.88611, shape=(), dtype=float32)\n",
            "mse: tf.Tensor(1.0588235, shape=(), dtype=float32)\n",
            "diferencia_listas: tf.Tensor(36.0, shape=(), dtype=float32)\n",
            "mae: tf.Tensor(1.0285715, shape=(), dtype=float32)\n",
            "loss_ndcg: tf.Tensor(-2.0297256, shape=(), dtype=float32)\n",
            "loss_custom_loss: tf.Tensor(-2.0297256, shape=(), dtype=float32)\n",
            "top_is_target: tf.Tensor(783.12463, shape=(), dtype=float32)\n",
            "[ 0.11764706  0.17647059  0.23529412  0.29411765  0.35294118  0.41176471\n",
            "  0.47058824  0.52941176  0.58823529  0.64705882  0.70588235  0.76470588\n",
            "  0.82352941  0.88235294  0.94117647  1.         -1.         -0.94117647\n",
            " -0.88235294 -0.82352941 -0.76470588 -0.70588235 -0.64705882 -0.58823529\n",
            " -0.52941176 -0.47058824 -0.41176471 -0.35294118 -0.29411765 -0.23529412\n",
            " -0.17647059 -0.11764706 -0.05882353  0.          0.05882353]\n",
            "loss ranking: tf.Tensor(92.34021, shape=(), dtype=float32)\n",
            "perdida_listas: tf.Tensor(77.66795, shape=(), dtype=float32)\n",
            "mse: tf.Tensor(1.0519032, shape=(), dtype=float32)\n",
            "diferencia_listas: tf.Tensor(35.764706, shape=(), dtype=float32)\n",
            "mae: tf.Tensor(1.0218487, shape=(), dtype=float32)\n",
            "loss_ndcg: tf.Tensor(-1.8527919, shape=(), dtype=float32)\n",
            "loss_custom_loss: tf.Tensor(-1.8527919, shape=(), dtype=float32)\n",
            "top_is_target: tf.Tensor(826.5987, shape=(), dtype=float32)\n",
            "[ 0.17647059  0.23529412  0.29411765  0.35294118  0.41176471  0.47058824\n",
            "  0.52941176  0.58823529  0.64705882  0.70588235  0.76470588  0.82352941\n",
            "  0.88235294  0.94117647  1.         -1.         -0.94117647 -0.88235294\n",
            " -0.82352941 -0.76470588 -0.70588235 -0.64705882 -0.58823529 -0.52941176\n",
            " -0.47058824 -0.41176471 -0.35294118 -0.29411765 -0.23529412 -0.17647059\n",
            " -0.11764706 -0.05882353  0.          0.05882353  0.11764706]\n",
            "loss ranking: tf.Tensor(89.39458, shape=(), dtype=float32)\n",
            "perdida_listas: tf.Tensor(69.977196, shape=(), dtype=float32)\n",
            "mse: tf.Tensor(1.0380625, shape=(), dtype=float32)\n",
            "diferencia_listas: tf.Tensor(35.29412, shape=(), dtype=float32)\n",
            "mae: tf.Tensor(1.0084034, shape=(), dtype=float32)\n",
            "loss_ndcg: tf.Tensor(-1.6728548, shape=(), dtype=float32)\n",
            "loss_custom_loss: tf.Tensor(-1.6728548, shape=(), dtype=float32)\n",
            "top_is_target: tf.Tensor(865.225, shape=(), dtype=float32)\n",
            "[ 0.23529412  0.29411765  0.35294118  0.41176471  0.47058824  0.52941176\n",
            "  0.58823529  0.64705882  0.70588235  0.76470588  0.82352941  0.88235294\n",
            "  0.94117647  1.         -1.         -0.94117647 -0.88235294 -0.82352941\n",
            " -0.76470588 -0.70588235 -0.64705882 -0.58823529 -0.52941176 -0.47058824\n",
            " -0.41176471 -0.35294118 -0.29411765 -0.23529412 -0.17647059 -0.11764706\n",
            " -0.05882353  0.          0.05882353  0.11764706  0.17647059]\n",
            "loss ranking: tf.Tensor(85.62322, shape=(), dtype=float32)\n",
            "perdida_listas: tf.Tensor(63.120598, shape=(), dtype=float32)\n",
            "mse: tf.Tensor(1.017301, shape=(), dtype=float32)\n",
            "diferencia_listas: tf.Tensor(34.588238, shape=(), dtype=float32)\n",
            "mae: tf.Tensor(0.98823535, shape=(), dtype=float32)\n",
            "loss_ndcg: tf.Tensor(-1.4907994, shape=(), dtype=float32)\n",
            "loss_custom_loss: tf.Tensor(-1.4907994, shape=(), dtype=float32)\n",
            "top_is_target: tf.Tensor(898.27686, shape=(), dtype=float32)\n",
            "[ 0.29411765  0.35294118  0.41176471  0.47058824  0.52941176  0.58823529\n",
            "  0.64705882  0.70588235  0.76470588  0.82352941  0.88235294  0.94117647\n",
            "  1.         -1.         -0.94117647 -0.88235294 -0.82352941 -0.76470588\n",
            " -0.70588235 -0.64705882 -0.58823529 -0.52941176 -0.47058824 -0.41176471\n",
            " -0.35294118 -0.29411765 -0.23529412 -0.17647059 -0.11764706 -0.05882353\n",
            "  0.          0.05882353  0.11764706  0.17647059  0.23529412]\n",
            "loss ranking: tf.Tensor(81.27089, shape=(), dtype=float32)\n",
            "perdida_listas: tf.Tensor(56.8471, shape=(), dtype=float32)\n",
            "mse: tf.Tensor(0.9896193, shape=(), dtype=float32)\n",
            "diferencia_listas: tf.Tensor(33.64706, shape=(), dtype=float32)\n",
            "mae: tf.Tensor(0.9613446, shape=(), dtype=float32)\n",
            "loss_ndcg: tf.Tensor(-1.3073819, shape=(), dtype=float32)\n",
            "loss_custom_loss: tf.Tensor(-1.3073819, shape=(), dtype=float32)\n",
            "top_is_target: tf.Tensor(925.0277, shape=(), dtype=float32)\n",
            "[ 0.35294118  0.41176471  0.47058824  0.52941176  0.58823529  0.64705882\n",
            "  0.70588235  0.76470588  0.82352941  0.88235294  0.94117647  1.\n",
            " -1.         -0.94117647 -0.88235294 -0.82352941 -0.76470588 -0.70588235\n",
            " -0.64705882 -0.58823529 -0.52941176 -0.47058824 -0.41176471 -0.35294118\n",
            " -0.29411765 -0.23529412 -0.17647059 -0.11764706 -0.05882353  0.\n",
            "  0.05882353  0.11764706  0.17647059  0.23529412  0.29411765]\n",
            "loss ranking: tf.Tensor(76.46957, shape=(), dtype=float32)\n",
            "perdida_listas: tf.Tensor(51.023357, shape=(), dtype=float32)\n",
            "mse: tf.Tensor(0.9550173, shape=(), dtype=float32)\n",
            "diferencia_listas: tf.Tensor(32.47059, shape=(), dtype=float32)\n",
            "mae: tf.Tensor(0.9277311, shape=(), dtype=float32)\n",
            "loss_ndcg: tf.Tensor(-1.1232508, shape=(), dtype=float32)\n",
            "loss_custom_loss: tf.Tensor(-1.1232508, shape=(), dtype=float32)\n",
            "top_is_target: tf.Tensor(944.7509, shape=(), dtype=float32)\n",
            "[ 0.41176471  0.47058824  0.52941176  0.58823529  0.64705882  0.70588235\n",
            "  0.76470588  0.82352941  0.88235294  0.94117647  1.         -1.\n",
            " -0.94117647 -0.88235294 -0.82352941 -0.76470588 -0.70588235 -0.64705882\n",
            " -0.58823529 -0.52941176 -0.47058824 -0.41176471 -0.35294118 -0.29411765\n",
            " -0.23529412 -0.17647059 -0.11764706 -0.05882353  0.          0.05882353\n",
            "  0.11764706  0.17647059  0.23529412  0.29411765  0.35294118]\n",
            "loss ranking: tf.Tensor(71.30207, shape=(), dtype=float32)\n",
            "perdida_listas: tf.Tensor(45.566097, shape=(), dtype=float32)\n",
            "mse: tf.Tensor(0.9134948, shape=(), dtype=float32)\n",
            "diferencia_listas: tf.Tensor(31.058826, shape=(), dtype=float32)\n",
            "mae: tf.Tensor(0.887395, shape=(), dtype=float32)\n",
            "loss_ndcg: tf.Tensor(-0.9389629, shape=(), dtype=float32)\n",
            "loss_custom_loss: tf.Tensor(-0.9389629, shape=(), dtype=float32)\n",
            "top_is_target: tf.Tensor(956.7197, shape=(), dtype=float32)\n",
            "[ 0.47058824  0.52941176  0.58823529  0.64705882  0.70588235  0.76470588\n",
            "  0.82352941  0.88235294  0.94117647  1.         -1.         -0.94117647\n",
            " -0.88235294 -0.82352941 -0.76470588 -0.70588235 -0.64705882 -0.58823529\n",
            " -0.52941176 -0.47058824 -0.41176471 -0.35294118 -0.29411765 -0.23529412\n",
            " -0.17647059 -0.11764706 -0.05882353  0.          0.05882353  0.11764706\n",
            "  0.17647059  0.23529412  0.29411765  0.35294118  0.41176471]\n",
            "loss ranking: tf.Tensor(65.825356, shape=(), dtype=float32)\n",
            "perdida_listas: tf.Tensor(40.418232, shape=(), dtype=float32)\n",
            "mse: tf.Tensor(0.86505187, shape=(), dtype=float32)\n",
            "diferencia_listas: tf.Tensor(29.411766, shape=(), dtype=float32)\n",
            "mae: tf.Tensor(0.84033614, shape=(), dtype=float32)\n",
            "loss_ndcg: tf.Tensor(-0.75499624, shape=(), dtype=float32)\n",
            "loss_custom_loss: tf.Tensor(-0.75499624, shape=(), dtype=float32)\n",
            "top_is_target: tf.Tensor(960.2076, shape=(), dtype=float32)\n",
            "[ 0.52941176  0.58823529  0.64705882  0.70588235  0.76470588  0.82352941\n",
            "  0.88235294  0.94117647  1.         -1.         -0.94117647 -0.88235294\n",
            " -0.82352941 -0.76470588 -0.70588235 -0.64705882 -0.58823529 -0.52941176\n",
            " -0.47058824 -0.41176471 -0.35294118 -0.29411765 -0.23529412 -0.17647059\n",
            " -0.11764706 -0.05882353  0.          0.05882353  0.11764706  0.17647059\n",
            "  0.23529412  0.29411765  0.35294118  0.41176471  0.47058824]\n",
            "loss ranking: tf.Tensor(60.080963, shape=(), dtype=float32)\n",
            "perdida_listas: tf.Tensor(35.538147, shape=(), dtype=float32)\n",
            "mse: tf.Tensor(0.8096885, shape=(), dtype=float32)\n",
            "diferencia_listas: tf.Tensor(27.529413, shape=(), dtype=float32)\n",
            "mae: tf.Tensor(0.78655463, shape=(), dtype=float32)\n",
            "loss_ndcg: tf.Tensor(-0.5717622, shape=(), dtype=float32)\n",
            "loss_custom_loss: tf.Tensor(-0.5717622, shape=(), dtype=float32)\n",
            "top_is_target: tf.Tensor(940.0761, shape=(), dtype=float32)\n",
            "[ 0.58823529  0.64705882  0.70588235  0.76470588  0.82352941  0.88235294\n",
            "  0.94117647  1.         -1.         -0.94117647 -0.88235294 -0.82352941\n",
            " -0.76470588 -0.70588235 -0.64705882 -0.58823529 -0.52941176 -0.47058824\n",
            " -0.41176471 -0.35294118 -0.29411765 -0.23529412 -0.17647059 -0.11764706\n",
            " -0.05882353  0.          0.05882353  0.11764706  0.17647059  0.23529412\n",
            "  0.29411765  0.35294118  0.41176471  0.47058824  0.52941176]\n",
            "loss ranking: tf.Tensor(54.10058, shape=(), dtype=float32)\n",
            "perdida_listas: tf.Tensor(30.894098, shape=(), dtype=float32)\n",
            "mse: tf.Tensor(0.74740493, shape=(), dtype=float32)\n",
            "diferencia_listas: tf.Tensor(25.411764, shape=(), dtype=float32)\n",
            "mae: tf.Tensor(0.7260504, shape=(), dtype=float32)\n",
            "loss_ndcg: tf.Tensor(-0.38961408, shape=(), dtype=float32)\n",
            "loss_custom_loss: tf.Tensor(-0.38961408, shape=(), dtype=float32)\n",
            "top_is_target: tf.Tensor(904.3185, shape=(), dtype=float32)\n",
            "[ 0.64705882  0.70588235  0.76470588  0.82352941  0.88235294  0.94117647\n",
            "  1.         -1.         -0.94117647 -0.88235294 -0.82352941 -0.76470588\n",
            " -0.70588235 -0.64705882 -0.58823529 -0.52941176 -0.47058824 -0.41176471\n",
            " -0.35294118 -0.29411765 -0.23529412 -0.17647059 -0.11764706 -0.05882353\n",
            "  0.          0.05882353  0.11764706  0.17647059  0.23529412  0.29411765\n",
            "  0.35294118  0.41176471  0.47058824  0.52941176  0.58823529]\n",
            "loss ranking: tf.Tensor(47.909172, shape=(), dtype=float32)\n",
            "perdida_listas: tf.Tensor(26.46112, shape=(), dtype=float32)\n",
            "mse: tf.Tensor(0.6782007, shape=(), dtype=float32)\n",
            "diferencia_listas: tf.Tensor(23.058823, shape=(), dtype=float32)\n",
            "mae: tf.Tensor(0.6588235, shape=(), dtype=float32)\n",
            "loss_ndcg: tf.Tensor(-0.20885476, shape=(), dtype=float32)\n",
            "loss_custom_loss: tf.Tensor(-0.20885476, shape=(), dtype=float32)\n",
            "top_is_target: tf.Tensor(854.02423, shape=(), dtype=float32)\n",
            "[ 0.70588235  0.76470588  0.82352941  0.88235294  0.94117647  1.\n",
            " -1.         -0.94117647 -0.88235294 -0.82352941 -0.76470588 -0.70588235\n",
            " -0.64705882 -0.58823529 -0.52941176 -0.47058824 -0.41176471 -0.35294118\n",
            " -0.29411765 -0.23529412 -0.17647059 -0.11764706 -0.05882353  0.\n",
            "  0.05882353  0.11764706  0.17647059  0.23529412  0.29411765  0.35294118\n",
            "  0.41176471  0.47058824  0.52941176  0.58823529  0.64705882]\n",
            "loss ranking: tf.Tensor(41.52692, shape=(), dtype=float32)\n",
            "perdida_listas: tf.Tensor(22.219019, shape=(), dtype=float32)\n",
            "mse: tf.Tensor(0.6020761, shape=(), dtype=float32)\n",
            "diferencia_listas: tf.Tensor(20.470589, shape=(), dtype=float32)\n",
            "mae: tf.Tensor(0.584874, shape=(), dtype=float32)\n",
            "loss_ndcg: tf.Tensor(-0.029743964, shape=(), dtype=float32)\n",
            "loss_custom_loss: tf.Tensor(-0.029743964, shape=(), dtype=float32)\n",
            "top_is_target: tf.Tensor(788.4671, shape=(), dtype=float32)\n",
            "[ 0.76470588  0.82352941  0.88235294  0.94117647  1.         -1.\n",
            " -0.94117647 -0.88235294 -0.82352941 -0.76470588 -0.70588235 -0.64705882\n",
            " -0.58823529 -0.52941176 -0.47058824 -0.41176471 -0.35294118 -0.29411765\n",
            " -0.23529412 -0.17647059 -0.11764706 -0.05882353  0.          0.05882353\n",
            "  0.11764706  0.17647059  0.23529412  0.29411765  0.35294118  0.41176471\n",
            "  0.47058824  0.52941176  0.58823529  0.64705882  0.70588235]\n",
            "loss ranking: tf.Tensor(34.97047, shape=(), dtype=float32)\n",
            "perdida_listas: tf.Tensor(18.151121, shape=(), dtype=float32)\n",
            "mse: tf.Tensor(0.51903117, shape=(), dtype=float32)\n",
            "diferencia_listas: tf.Tensor(17.647058, shape=(), dtype=float32)\n",
            "mae: tf.Tensor(0.50420165, shape=(), dtype=float32)\n",
            "loss_ndcg: tf.Tensor(0.14749697, shape=(), dtype=float32)\n",
            "loss_custom_loss: tf.Tensor(0.14749697, shape=(), dtype=float32)\n",
            "top_is_target: tf.Tensor(703.89276, shape=(), dtype=float32)\n",
            "[ 0.82352941  0.88235294  0.94117647  1.         -1.         -0.94117647\n",
            " -0.88235294 -0.82352941 -0.76470588 -0.70588235 -0.64705882 -0.58823529\n",
            " -0.52941176 -0.47058824 -0.41176471 -0.35294118 -0.29411765 -0.23529412\n",
            " -0.17647059 -0.11764706 -0.05882353  0.          0.05882353  0.11764706\n",
            "  0.17647059  0.23529412  0.29411765  0.35294118  0.41176471  0.47058824\n",
            "  0.52941176  0.58823529  0.64705882  0.70588235  0.76470588]\n",
            "loss ranking: tf.Tensor(28.253801, shape=(), dtype=float32)\n",
            "perdida_listas: tf.Tensor(14.243457, shape=(), dtype=float32)\n",
            "mse: tf.Tensor(0.4290658, shape=(), dtype=float32)\n",
            "diferencia_listas: tf.Tensor(14.588235, shape=(), dtype=float32)\n",
            "mae: tf.Tensor(0.4168067, shape=(), dtype=float32)\n",
            "loss_ndcg: tf.Tensor(0.32267892, shape=(), dtype=float32)\n",
            "loss_custom_loss: tf.Tensor(0.32267892, shape=(), dtype=float32)\n",
            "top_is_target: tf.Tensor(602.1177, shape=(), dtype=float32)\n",
            "[ 0.88235294  0.94117647  1.         -1.         -0.94117647 -0.88235294\n",
            " -0.82352941 -0.76470588 -0.70588235 -0.64705882 -0.58823529 -0.52941176\n",
            " -0.47058824 -0.41176471 -0.35294118 -0.29411765 -0.23529412 -0.17647059\n",
            " -0.11764706 -0.05882353  0.          0.05882353  0.11764706  0.17647059\n",
            "  0.23529412  0.29411765  0.35294118  0.41176471  0.47058824  0.52941176\n",
            "  0.58823529  0.64705882  0.70588235  0.76470588  0.82352941]\n",
            "loss ranking: tf.Tensor(21.388807, shape=(), dtype=float32)\n",
            "perdida_listas: tf.Tensor(10.484128, shape=(), dtype=float32)\n",
            "mse: tf.Tensor(0.3321799, shape=(), dtype=float32)\n",
            "diferencia_listas: tf.Tensor(11.294117, shape=(), dtype=float32)\n",
            "mae: tf.Tensor(0.32268906, shape=(), dtype=float32)\n",
            "loss_ndcg: tf.Tensor(0.49564347, shape=(), dtype=float32)\n",
            "loss_custom_loss: tf.Tensor(0.49564347, shape=(), dtype=float32)\n",
            "top_is_target: tf.Tensor(482.41525, shape=(), dtype=float32)\n",
            "[ 0.94117647  1.         -1.         -0.94117647 -0.88235294 -0.82352941\n",
            " -0.76470588 -0.70588235 -0.64705882 -0.58823529 -0.52941176 -0.47058824\n",
            " -0.41176471 -0.35294118 -0.29411765 -0.23529412 -0.17647059 -0.11764706\n",
            " -0.05882353  0.          0.05882353  0.11764706  0.17647059  0.23529412\n",
            "  0.29411765  0.35294118  0.41176471  0.47058824  0.52941176  0.58823529\n",
            "  0.64705882  0.70588235  0.76470588  0.82352941  0.88235294]\n",
            "loss ranking: tf.Tensor(14.385739, shape=(), dtype=float32)\n",
            "perdida_listas: tf.Tensor(6.862879, shape=(), dtype=float32)\n",
            "mse: tf.Tensor(0.2283737, shape=(), dtype=float32)\n",
            "diferencia_listas: tf.Tensor(7.764706, shape=(), dtype=float32)\n",
            "mae: tf.Tensor(0.22184874, shape=(), dtype=float32)\n",
            "loss_ndcg: tf.Tensor(0.66625607, shape=(), dtype=float32)\n",
            "loss_custom_loss: tf.Tensor(0.66625607, shape=(), dtype=float32)\n",
            "top_is_target: tf.Tensor(344.0588, shape=(), dtype=float32)\n",
            "[ 1.         -1.         -0.94117647 -0.88235294 -0.82352941 -0.76470588\n",
            " -0.70588235 -0.64705882 -0.58823529 -0.52941176 -0.47058824 -0.41176471\n",
            " -0.35294118 -0.29411765 -0.23529412 -0.17647059 -0.11764706 -0.05882353\n",
            "  0.          0.05882353  0.11764706  0.17647059  0.23529412  0.29411765\n",
            "  0.35294118  0.41176471  0.47058824  0.52941176  0.58823529  0.64705882\n",
            "  0.70588235  0.76470588  0.82352941  0.88235294  0.94117647]\n",
            "loss ranking: tf.Tensor(7.2535243, shape=(), dtype=float32)\n",
            "perdida_listas: tf.Tensor(3.3707833, shape=(), dtype=float32)\n",
            "mse: tf.Tensor(0.117647074, shape=(), dtype=float32)\n",
            "diferencia_listas: tf.Tensor(4.0, shape=(), dtype=float32)\n",
            "mae: tf.Tensor(0.114285715, shape=(), dtype=float32)\n",
            "loss_ndcg: tf.Tensor(0.8344056, shape=(), dtype=float32)\n",
            "loss_custom_loss: tf.Tensor(0.8344056, shape=(), dtype=float32)\n",
            "top_is_target: tf.Tensor(182.32527, shape=(), dtype=float32)\n"
          ]
        },
        {
          "output_type": "display_data",
          "data": {
            "text/plain": [
              "<Figure size 640x480 with 1 Axes>"
            ],
            "image/png": "[encoded data removed]"
          },
          "metadata": {}
        },
        {
          "output_type": "display_data",
          "data": {
            "text/plain": [
              "<Figure size 640x480 with 1 Axes>"
            ],
            "image/png": "[encoded data removed]"
          },
          "metadata": {}
        }
      ]
    },
    {
      "cell_type": "code",
      "source": [
        "plt.plot(loss_loss_ranking / loss_loss_ranking.max(), 'r');\n",
        "plt.plot(loss_perdida_listas / loss_perdida_listas.max(), 'g');\n",
        "plt.plot(loss_mse / loss_mse.max(), 'b');\n",
        "plt.plot(loss_diferencia_listas / loss_diferencia_listas.max(), 'y');\n",
        "plt.plot(loss_mae / loss_mae.max(), 'p');\n",
        "plt.plot((loss_ndcg / loss_ndcg.max()), 'brown');\n",
        "plt.plot(loss_custom_loss / loss_custom_loss.max(), 'r');"
      ],
      "metadata": {
        "colab": {
          "base_uri": "https://localhost:8080/",
          "height": 430
        },
        "id": "Nsj-Cm2Ft4h8",
        "outputId": "7107d6e0-7359-44a0-cf95-e4b6c44611a1"
      },
      "execution_count": 36,
      "outputs": [
        {
          "output_type": "display_data",
          "data": {
            "text/plain": [
              "<Figure size 640x480 with 1 Axes>"
            ],
            "image/png": "[encoded data removed]"
          },
          "metadata": {}
        }
      ]
    },
    {
      "cell_type": "code",
      "source": [
        "plt.plot(loss_top_is_target / loss_top_is_target.max(), 'g');"
      ],
      "metadata": {
        "colab": {
          "base_uri": "https://localhost:8080/",
          "height": 430
        },
        "id": "Hm3lOXjM9STV",
        "outputId": "928e8661-fb13-4542-e191-00890447c10d"
      },
      "execution_count": 37,
      "outputs": [
        {
          "output_type": "display_data",
          "data": {
            "text/plain": [
              "<Figure size 640x480 with 1 Axes>"
            ],
            "image/png": "[encoded data removed]"
          },
          "metadata": {}
        }
      ]
    },
    {
      "cell_type": "code",
      "source": [
        "ranking = np.arange(35)\n",
        "\n",
        "#ranking = 2*(ranking - min(ranking)) / (max(ranking) - min(ranking)) - 1\n",
        "print(ranking)\n",
        "\n",
        "loss_top_is_target = []\n",
        "\n",
        "for i in range(len(ranking)-1):\n",
        "  pred_ranking = np.roll(ranking, -i-1)\n",
        "  #pred_ranking = np.roll(ranking, i+1)\n",
        "  print(pred_ranking)\n",
        "  loss = top_is_target(ranking, pred_ranking )\n",
        "  loss_top_is_target.append(loss)\n",
        "  print(\"top_is_target: \" + str(loss))\n",
        "\n",
        "plt.figure()\n",
        "\n",
        "loss_top_is_target = np.array(loss_top_is_target)\n",
        "\n",
        "plt.plot(loss_top_is_target / loss_top_is_target.max(), 'g');\n",
        "\n",
        "loss_top_is_target = []\n",
        "print(\"############################\")\n",
        "for i in range(len(ranking)-1):\n",
        "  pred_ranking = np.roll(ranking, i+1)\n",
        "  #pred_ranking = np.roll(ranking, i+1)\n",
        "  print(pred_ranking)\n",
        "  loss = top_is_target(ranking, pred_ranking )\n",
        "  loss_top_is_target.append(loss)\n",
        "  print(\"top_is_target: \" + str(loss))\n",
        "\n",
        "plt.figure()\n",
        "\n",
        "loss_top_is_target = np.array(loss_top_is_target)\n",
        "\n",
        "plt.plot(loss_top_is_target / loss_top_is_target.max(), 'g');"
      ],
      "metadata": {
        "colab": {
          "base_uri": "https://localhost:8080/",
          "height": 1000
        },
        "id": "rX1_yJfKR76f",
        "outputId": "b50fdd67-7edf-4fa0-a807-486f361ba7b5"
      },
      "execution_count": 38,
      "outputs": [
        {
          "output_type": "stream",
          "name": "stdout",
          "text": [
            "[ 0  1  2  3  4  5  6  7  8  9 10 11 12 13 14 15 16 17 18 19 20 21 22 23\n",
            " 24 25 26 27 28 29 30 31 32 33 34]\n",
            "[ 1  2  3  4  5  6  7  8  9 10 11 12 13 14 15 16 17 18 19 20 21 22 23 24\n",
            " 25 26 27 28 29 30 31 32 33 34  0]\n",
            "top_is_target: tf.Tensor(1872.0, shape=(), dtype=float32)\n",
            "[ 2  3  4  5  6  7  8  9 10 11 12 13 14 15 16 17 18 19 20 21 22 23 24 25\n",
            " 26 27 28 29 30 31 32 33 34  0  1]\n",
            "top_is_target: tf.Tensor(6123.0, shape=(), dtype=float32)\n",
            "[ 3  4  5  6  7  8  9 10 11 12 13 14 15 16 17 18 19 20 21 22 23 24 25 26\n",
            " 27 28 29 30 31 32 33 34  0  1  2]\n",
            "top_is_target: tf.Tensor(12543.0, shape=(), dtype=float32)\n",
            "[ 4  5  6  7  8  9 10 11 12 13 14 15 16 17 18 19 20 21 22 23 24 25 26 27\n",
            " 28 29 30 31 32 33 34  0  1  2  3]\n",
            "top_is_target: tf.Tensor(20922.0, shape=(), dtype=float32)\n",
            "[ 5  6  7  8  9 10 11 12 13 14 15 16 17 18 19 20 21 22 23 24 25 26 27 28\n",
            " 29 30 31 32 33 34  0  1  2  3  4]\n",
            "top_is_target: tf.Tensor(31050.0, shape=(), dtype=float32)\n",
            "[ 6  7  8  9 10 11 12 13 14 15 16 17 18 19 20 21 22 23 24 25 26 27 28 29\n",
            " 30 31 32 33 34  0  1  2  3  4  5]\n",
            "top_is_target: tf.Tensor(42717.0, shape=(), dtype=float32)\n",
            "[ 7  8  9 10 11 12 13 14 15 16 17 18 19 20 21 22 23 24 25 26 27 28 29 30\n",
            " 31 32 33 34  0  1  2  3  4  5  6]\n",
            "top_is_target: tf.Tensor(55713.0, shape=(), dtype=float32)\n",
            "[ 8  9 10 11 12 13 14 15 16 17 18 19 20 21 22 23 24 25 26 27 28 29 30 31\n",
            " 32 33 34  0  1  2  3  4  5  6  7]\n",
            "top_is_target: tf.Tensor(69828.0, shape=(), dtype=float32)\n",
            "[ 9 10 11 12 13 14 15 16 17 18 19 20 21 22 23 24 25 26 27 28 29 30 31 32\n",
            " 33 34  0  1  2  3  4  5  6  7  8]\n",
            "top_is_target: tf.Tensor(84852.0, shape=(), dtype=float32)\n",
            "[10 11 12 13 14 15 16 17 18 19 20 21 22 23 24 25 26 27 28 29 30 31 32 33\n",
            " 34  0  1  2  3  4  5  6  7  8  9]\n",
            "top_is_target: tf.Tensor(100575.0, shape=(), dtype=float32)\n",
            "[11 12 13 14 15 16 17 18 19 20 21 22 23 24 25 26 27 28 29 30 31 32 33 34\n",
            "  0  1  2  3  4  5  6  7  8  9 10]\n",
            "top_is_target: tf.Tensor(116787.0, shape=(), dtype=float32)\n",
            "[12 13 14 15 16 17 18 19 20 21 22 23 24 25 26 27 28 29 30 31 32 33 34  0\n",
            "  1  2  3  4  5  6  7  8  9 10 11]\n",
            "top_is_target: tf.Tensor(133278.0, shape=(), dtype=float32)\n",
            "[13 14 15 16 17 18 19 20 21 22 23 24 25 26 27 28 29 30 31 32 33 34  0  1\n",
            "  2  3  4  5  6  7  8  9 10 11 12]\n",
            "top_is_target: tf.Tensor(149838.0, shape=(), dtype=float32)\n",
            "[14 15 16 17 18 19 20 21 22 23 24 25 26 27 28 29 30 31 32 33 34  0  1  2\n",
            "  3  4  5  6  7  8  9 10 11 12 13]\n",
            "top_is_target: tf.Tensor(166257.0, shape=(), dtype=float32)\n",
            "[15 16 17 18 19 20 21 22 23 24 25 26 27 28 29 30 31 32 33 34  0  1  2  3\n",
            "  4  5  6  7  8  9 10 11 12 13 14]\n",
            "top_is_target: tf.Tensor(182325.0, shape=(), dtype=float32)\n",
            "[16 17 18 19 20 21 22 23 24 25 26 27 28 29 30 31 32 33 34  0  1  2  3  4\n",
            "  5  6  7  8  9 10 11 12 13 14 15]\n",
            "top_is_target: tf.Tensor(197832.0, shape=(), dtype=float32)\n",
            "[17 18 19 20 21 22 23 24 25 26 27 28 29 30 31 32 33 34  0  1  2  3  4  5\n",
            "  6  7  8  9 10 11 12 13 14 15 16]\n",
            "top_is_target: tf.Tensor(212568.0, shape=(), dtype=float32)\n",
            "[18 19 20 21 22 23 24 25 26 27 28 29 30 31 32 33 34  0  1  2  3  4  5  6\n",
            "  7  8  9 10 11 12 13 14 15 16 17]\n",
            "top_is_target: tf.Tensor(226323.0, shape=(), dtype=float32)\n",
            "[19 20 21 22 23 24 25 26 27 28 29 30 31 32 33 34  0  1  2  3  4  5  6  7\n",
            "  8  9 10 11 12 13 14 15 16 17 18]\n",
            "top_is_target: tf.Tensor(238887.0, shape=(), dtype=float32)\n",
            "[20 21 22 23 24 25 26 27 28 29 30 31 32 33 34  0  1  2  3  4  5  6  7  8\n",
            "  9 10 11 12 13 14 15 16 17 18 19]\n",
            "top_is_target: tf.Tensor(250050.0, shape=(), dtype=float32)\n",
            "[21 22 23 24 25 26 27 28 29 30 31 32 33 34  0  1  2  3  4  5  6  7  8  9\n",
            " 10 11 12 13 14 15 16 17 18 19 20]\n",
            "top_is_target: tf.Tensor(259602.0, shape=(), dtype=float32)\n",
            "[22 23 24 25 26 27 28 29 30 31 32 33 34  0  1  2  3  4  5  6  7  8  9 10\n",
            " 11 12 13 14 15 16 17 18 19 20 21]\n",
            "top_is_target: tf.Tensor(267333.0, shape=(), dtype=float32)\n",
            "[23 24 25 26 27 28 29 30 31 32 33 34  0  1  2  3  4  5  6  7  8  9 10 11\n",
            " 12 13 14 15 16 17 18 19 20 21 22]\n",
            "top_is_target: tf.Tensor(273033.0, shape=(), dtype=float32)\n",
            "[24 25 26 27 28 29 30 31 32 33 34  0  1  2  3  4  5  6  7  8  9 10 11 12\n",
            " 13 14 15 16 17 18 19 20 21 22 23]\n",
            "top_is_target: tf.Tensor(276492.0, shape=(), dtype=float32)\n",
            "[25 26 27 28 29 30 31 32 33 34  0  1  2  3  4  5  6  7  8  9 10 11 12 13\n",
            " 14 15 16 17 18 19 20 21 22 23 24]\n",
            "top_is_target: tf.Tensor(277500.0, shape=(), dtype=float32)\n",
            "[26 27 28 29 30 31 32 33 34  0  1  2  3  4  5  6  7  8  9 10 11 12 13 14\n",
            " 15 16 17 18 19 20 21 22 23 24 25]\n",
            "top_is_target: tf.Tensor(271682.0, shape=(), dtype=float32)\n",
            "[27 28 29 30 31 32 33 34  0  1  2  3  4  5  6  7  8  9 10 11 12 13 14 15\n",
            " 16 17 18 19 20 21 22 23 24 25 26]\n",
            "top_is_target: tf.Tensor(261348.0, shape=(), dtype=float32)\n",
            "[28 29 30 31 32 33 34  0  1  2  3  4  5  6  7  8  9 10 11 12 13 14 15 16\n",
            " 17 18 19 20 21 22 23 24 25 26 27]\n",
            "top_is_target: tf.Tensor(246813.0, shape=(), dtype=float32)\n",
            "[29 30 31 32 33 34  0  1  2  3  4  5  6  7  8  9 10 11 12 13 14 15 16 17\n",
            " 18 19 20 21 22 23 24 25 26 27 28]\n",
            "top_is_target: tf.Tensor(227867.0, shape=(), dtype=float32)\n",
            "[30 31 32 33 34  0  1  2  3  4  5  6  7  8  9 10 11 12 13 14 15 16 17 18\n",
            " 19 20 21 22 23 24 25 26 27 28 29]\n",
            "top_is_target: tf.Tensor(203425.0, shape=(), dtype=float32)\n",
            "[31 32 33 34  0  1  2  3  4  5  6  7  8  9 10 11 12 13 14 15 16 17 18 19\n",
            " 20 21 22 23 24 25 26 27 28 29 30]\n",
            "top_is_target: tf.Tensor(174012.0, shape=(), dtype=float32)\n",
            "[32 33 34  0  1  2  3  4  5  6  7  8  9 10 11 12 13 14 15 16 17 18 19 20\n",
            " 21 22 23 24 25 26 27 28 29 30 31]\n",
            "top_is_target: tf.Tensor(139418.0, shape=(), dtype=float32)\n",
            "[33 34  0  1  2  3  4  5  6  7  8  9 10 11 12 13 14 15 16 17 18 19 20 21\n",
            " 22 23 24 25 26 27 28 29 30 31 32]\n",
            "top_is_target: tf.Tensor(99433.0, shape=(), dtype=float32)\n",
            "[34  0  1  2  3  4  5  6  7  8  9 10 11 12 13 14 15 16 17 18 19 20 21 22\n",
            " 23 24 25 26 27 28 29 30 31 32 33]\n",
            "top_is_target: tf.Tensor(52692.0, shape=(), dtype=float32)\n",
            "############################\n",
            "[34  0  1  2  3  4  5  6  7  8  9 10 11 12 13 14 15 16 17 18 19 20 21 22\n",
            " 23 24 25 26 27 28 29 30 31 32 33]\n",
            "top_is_target: tf.Tensor(52692.0, shape=(), dtype=float32)\n",
            "[33 34  0  1  2  3  4  5  6  7  8  9 10 11 12 13 14 15 16 17 18 19 20 21\n",
            " 22 23 24 25 26 27 28 29 30 31 32]\n",
            "top_is_target: tf.Tensor(99433.0, shape=(), dtype=float32)\n",
            "[32 33 34  0  1  2  3  4  5  6  7  8  9 10 11 12 13 14 15 16 17 18 19 20\n",
            " 21 22 23 24 25 26 27 28 29 30 31]\n",
            "top_is_target: tf.Tensor(139418.0, shape=(), dtype=float32)\n",
            "[31 32 33 34  0  1  2  3  4  5  6  7  8  9 10 11 12 13 14 15 16 17 18 19\n",
            " 20 21 22 23 24 25 26 27 28 29 30]\n",
            "top_is_target: tf.Tensor(174012.0, shape=(), dtype=float32)\n",
            "[30 31 32 33 34  0  1  2  3  4  5  6  7  8  9 10 11 12 13 14 15 16 17 18\n",
            " 19 20 21 22 23 24 25 26 27 28 29]\n",
            "top_is_target: tf.Tensor(203425.0, shape=(), dtype=float32)\n",
            "[29 30 31 32 33 34  0  1  2  3  4  5  6  7  8  9 10 11 12 13 14 15 16 17\n",
            " 18 19 20 21 22 23 24 25 26 27 28]\n",
            "top_is_target: tf.Tensor(227867.0, shape=(), dtype=float32)\n",
            "[28 29 30 31 32 33 34  0  1  2  3  4  5  6  7  8  9 10 11 12 13 14 15 16\n",
            " 17 18 19 20 21 22 23 24 25 26 27]\n",
            "top_is_target: tf.Tensor(246813.0, shape=(), dtype=float32)\n",
            "[27 28 29 30 31 32 33 34  0  1  2  3  4  5  6  7  8  9 10 11 12 13 14 15\n",
            " 16 17 18 19 20 21 22 23 24 25 26]\n",
            "top_is_target: tf.Tensor(261348.0, shape=(), dtype=float32)\n",
            "[26 27 28 29 30 31 32 33 34  0  1  2  3  4  5  6  7  8  9 10 11 12 13 14\n",
            " 15 16 17 18 19 20 21 22 23 24 25]\n",
            "top_is_target: tf.Tensor(271682.0, shape=(), dtype=float32)\n",
            "[25 26 27 28 29 30 31 32 33 34  0  1  2  3  4  5  6  7  8  9 10 11 12 13\n",
            " 14 15 16 17 18 19 20 21 22 23 24]\n",
            "top_is_target: tf.Tensor(277500.0, shape=(), dtype=float32)\n",
            "[24 25 26 27 28 29 30 31 32 33 34  0  1  2  3  4  5  6  7  8  9 10 11 12\n",
            " 13 14 15 16 17 18 19 20 21 22 23]\n",
            "top_is_target: tf.Tensor(276492.0, shape=(), dtype=float32)\n",
            "[23 24 25 26 27 28 29 30 31 32 33 34  0  1  2  3  4  5  6  7  8  9 10 11\n",
            " 12 13 14 15 16 17 18 19 20 21 22]\n",
            "top_is_target: tf.Tensor(273033.0, shape=(), dtype=float32)\n",
            "[22 23 24 25 26 27 28 29 30 31 32 33 34  0  1  2  3  4  5  6  7  8  9 10\n",
            " 11 12 13 14 15 16 17 18 19 20 21]\n",
            "top_is_target: tf.Tensor(267333.0, shape=(), dtype=float32)\n",
            "[21 22 23 24 25 26 27 28 29 30 31 32 33 34  0  1  2  3  4  5  6  7  8  9\n",
            " 10 11 12 13 14 15 16 17 18 19 20]\n",
            "top_is_target: tf.Tensor(259602.0, shape=(), dtype=float32)\n",
            "[20 21 22 23 24 25 26 27 28 29 30 31 32 33 34  0  1  2  3  4  5  6  7  8\n",
            "  9 10 11 12 13 14 15 16 17 18 19]\n",
            "top_is_target: tf.Tensor(250050.0, shape=(), dtype=float32)\n",
            "[19 20 21 22 23 24 25 26 27 28 29 30 31 32 33 34  0  1  2  3  4  5  6  7\n",
            "  8  9 10 11 12 13 14 15 16 17 18]\n",
            "top_is_target: tf.Tensor(238887.0, shape=(), dtype=float32)\n",
            "[18 19 20 21 22 23 24 25 26 27 28 29 30 31 32 33 34  0  1  2  3  4  5  6\n",
            "  7  8  9 10 11 12 13 14 15 16 17]\n",
            "top_is_target: tf.Tensor(226323.0, shape=(), dtype=float32)\n",
            "[17 18 19 20 21 22 23 24 25 26 27 28 29 30 31 32 33 34  0  1  2  3  4  5\n",
            "  6  7  8  9 10 11 12 13 14 15 16]\n",
            "top_is_target: tf.Tensor(212568.0, shape=(), dtype=float32)\n",
            "[16 17 18 19 20 21 22 23 24 25 26 27 28 29 30 31 32 33 34  0  1  2  3  4\n",
            "  5  6  7  8  9 10 11 12 13 14 15]\n",
            "top_is_target: tf.Tensor(197832.0, shape=(), dtype=float32)\n",
            "[15 16 17 18 19 20 21 22 23 24 25 26 27 28 29 30 31 32 33 34  0  1  2  3\n",
            "  4  5  6  7  8  9 10 11 12 13 14]\n",
            "top_is_target: tf.Tensor(182325.0, shape=(), dtype=float32)\n",
            "[14 15 16 17 18 19 20 21 22 23 24 25 26 27 28 29 30 31 32 33 34  0  1  2\n",
            "  3  4  5  6  7  8  9 10 11 12 13]\n",
            "top_is_target: tf.Tensor(166257.0, shape=(), dtype=float32)\n",
            "[13 14 15 16 17 18 19 20 21 22 23 24 25 26 27 28 29 30 31 32 33 34  0  1\n",
            "  2  3  4  5  6  7  8  9 10 11 12]\n",
            "top_is_target: tf.Tensor(149838.0, shape=(), dtype=float32)\n",
            "[12 13 14 15 16 17 18 19 20 21 22 23 24 25 26 27 28 29 30 31 32 33 34  0\n",
            "  1  2  3  4  5  6  7  8  9 10 11]\n",
            "top_is_target: tf.Tensor(133278.0, shape=(), dtype=float32)\n",
            "[11 12 13 14 15 16 17 18 19 20 21 22 23 24 25 26 27 28 29 30 31 32 33 34\n",
            "  0  1  2  3  4  5  6  7  8  9 10]\n",
            "top_is_target: tf.Tensor(116787.0, shape=(), dtype=float32)\n",
            "[10 11 12 13 14 15 16 17 18 19 20 21 22 23 24 25 26 27 28 29 30 31 32 33\n",
            " 34  0  1  2  3  4  5  6  7  8  9]\n",
            "top_is_target: tf.Tensor(100575.0, shape=(), dtype=float32)\n",
            "[ 9 10 11 12 13 14 15 16 17 18 19 20 21 22 23 24 25 26 27 28 29 30 31 32\n",
            " 33 34  0  1  2  3  4  5  6  7  8]\n",
            "top_is_target: tf.Tensor(84852.0, shape=(), dtype=float32)\n",
            "[ 8  9 10 11 12 13 14 15 16 17 18 19 20 21 22 23 24 25 26 27 28 29 30 31\n",
            " 32 33 34  0  1  2  3  4  5  6  7]\n",
            "top_is_target: tf.Tensor(69828.0, shape=(), dtype=float32)\n",
            "[ 7  8  9 10 11 12 13 14 15 16 17 18 19 20 21 22 23 24 25 26 27 28 29 30\n",
            " 31 32 33 34  0  1  2  3  4  5  6]\n",
            "top_is_target: tf.Tensor(55713.0, shape=(), dtype=float32)\n",
            "[ 6  7  8  9 10 11 12 13 14 15 16 17 18 19 20 21 22 23 24 25 26 27 28 29\n",
            " 30 31 32 33 34  0  1  2  3  4  5]\n",
            "top_is_target: tf.Tensor(42717.0, shape=(), dtype=float32)\n",
            "[ 5  6  7  8  9 10 11 12 13 14 15 16 17 18 19 20 21 22 23 24 25 26 27 28\n",
            " 29 30 31 32 33 34  0  1  2  3  4]\n",
            "top_is_target: tf.Tensor(31050.0, shape=(), dtype=float32)\n",
            "[ 4  5  6  7  8  9 10 11 12 13 14 15 16 17 18 19 20 21 22 23 24 25 26 27\n",
            " 28 29 30 31 32 33 34  0  1  2  3]\n",
            "top_is_target: tf.Tensor(20922.0, shape=(), dtype=float32)\n",
            "[ 3  4  5  6  7  8  9 10 11 12 13 14 15 16 17 18 19 20 21 22 23 24 25 26\n",
            " 27 28 29 30 31 32 33 34  0  1  2]\n",
            "top_is_target: tf.Tensor(12543.0, shape=(), dtype=float32)\n",
            "[ 2  3  4  5  6  7  8  9 10 11 12 13 14 15 16 17 18 19 20 21 22 23 24 25\n",
            " 26 27 28 29 30 31 32 33 34  0  1]\n",
            "top_is_target: tf.Tensor(6123.0, shape=(), dtype=float32)\n",
            "[ 1  2  3  4  5  6  7  8  9 10 11 12 13 14 15 16 17 18 19 20 21 22 23 24\n",
            " 25 26 27 28 29 30 31 32 33 34  0]\n",
            "top_is_target: tf.Tensor(1872.0, shape=(), dtype=float32)\n"
          ]
        },
        {
          "output_type": "display_data",
          "data": {
            "text/plain": [
              "<Figure size 640x480 with 1 Axes>"
            ],
            "image/png": "[encoded data removed]"
          },
          "metadata": {}
        },
        {
          "output_type": "display_data",
          "data": {
            "text/plain": [
              "<Figure size 640x480 with 1 Axes>"
            ],
            "image/png": "[encoded data removed]"
          },
          "metadata": {}
        }
      ]
    },
    {
      "cell_type": "code",
      "source": [
        "min(loss_mse), max(loss_mse)"
      ],
      "metadata": {
        "colab": {
          "base_uri": "https://localhost:8080/"
        },
        "id": "cp-FMC2x36HU",
        "outputId": "78e1b3f7-2a5a-4221-f817-55e7041ce26e"
      },
      "execution_count": 39,
      "outputs": [
        {
          "output_type": "execute_result",
          "data": {
            "text/plain": [
              "(0.11764706, 1.0588236)"
            ]
          },
          "metadata": {},
          "execution_count": 39
        }
      ]
    },
    {
      "cell_type": "code",
      "source": [
        "loss_ndcg"
      ],
      "metadata": {
        "colab": {
          "base_uri": "https://localhost:8080/"
        },
        "id": "5wX1GozO8C4X",
        "outputId": "0ab62819-e558-4570-fe2c-4391c341154c"
      },
      "execution_count": 40,
      "outputs": [
        {
          "output_type": "execute_result",
          "data": {
            "text/plain": [
              "array([-1.031996  , -1.9802655 , -2.534991  , -2.8792439 , -3.0906997 ,\n",
              "       -3.2104614 , -3.2633042 , -3.2654974 , -3.2283921 , -3.1602676 ,\n",
              "       -3.0673692 , -2.9545374 , -2.8255994 , -2.6836364 , -2.531161  ,\n",
              "       -2.3702462 , -2.2026181 , -2.0297256 , -1.8527919 , -1.6728548 ,\n",
              "       -1.4907994 , -1.3073819 , -1.1232508 , -0.9389629 , -0.75499624,\n",
              "       -0.5717622 , -0.38961408, -0.20885476, -0.02974396,  0.14749697,\n",
              "        0.32267892,  0.49564347,  0.66625607,  0.8344056 ], dtype=float32)"
            ]
          },
          "metadata": {},
          "execution_count": 40
        }
      ]
    },
    {
      "cell_type": "code",
      "source": [
        "\n",
        "\"\"\"\n",
        "\n",
        "#1#\n",
        "\n",
        "[ 1  2  3  4  5  6  7  8  9 10 11 12 13 14 15 16 17 18 19 20 21 22 23 24\n",
        " 25 26 27 28 29 30 31 32 33 34  0]\n",
        "loss ranking: tf.Tensor(3404.1023, shape=(), dtype=float32)\n",
        "perdida_listas: tf.Tensor(105.07248, shape=(), dtype=float32)\n",
        "mse: tf.Tensor(68.0, shape=(), dtype=float32)\n",
        "\n",
        "#-1#\n",
        "[34  0  1  2  3  4  5  6  7  8  9 10 11 12 13 14 15 16 17 18 19 20 21 22\n",
        " 23 24 25 26 27 28 29 30 31 32 33]\n",
        "loss ranking: tf.Tensor(105.07247, shape=(), dtype=float32)\n",
        "perdida_listas: tf.Tensor(3404.1018, shape=(), dtype=float32)\n",
        "mse: tf.Tensor(68.0, shape=(), dtype=float32)\n",
        "\"\"\""
      ],
      "metadata": {
        "id": "LKKzotgNj0sH",
        "colab": {
          "base_uri": "https://localhost:8080/",
          "height": 70
        },
        "outputId": "6d48ed01-5f66-4e4f-fe1f-3bc3d59543d5"
      },
      "execution_count": 41,
      "outputs": [
        {
          "output_type": "execute_result",
          "data": {
            "text/plain": [
              "'\\n\\n#1#\\n\\n[ 1  2  3  4  5  6  7  8  9 10 11 12 13 14 15 16 17 18 19 20 21 22 23 24\\n 25 26 27 28 29 30 31 32 33 34  0]\\nloss ranking: tf.Tensor(3404.1023, shape=(), dtype=float32)\\nperdida_listas: tf.Tensor(105.07248, shape=(), dtype=float32)\\nmse: tf.Tensor(68.0, shape=(), dtype=float32)\\n\\n#-1#\\n[34  0  1  2  3  4  5  6  7  8  9 10 11 12 13 14 15 16 17 18 19 20 21 22\\n 23 24 25 26 27 28 29 30 31 32 33]\\nloss ranking: tf.Tensor(105.07247, shape=(), dtype=float32)\\nperdida_listas: tf.Tensor(3404.1018, shape=(), dtype=float32)\\nmse: tf.Tensor(68.0, shape=(), dtype=float32)\\n'"
            ],
            "application/vnd.google.colaboratory.intrinsic+json": {
              "type": "string"
            }
          },
          "metadata": {},
          "execution_count": 41
        }
      ]
    },
    {
      "cell_type": "markdown",
      "source": [
        "# Y normalizada"
      ],
      "metadata": {
        "id": "WlW4JKhgmYzn"
      }
    },
    {
      "cell_type": "code",
      "source": [
        "import numpy as np"
      ],
      "metadata": {
        "id": "YJ8K3qNro0IY"
      },
      "execution_count": 42,
      "outputs": []
    },
    {
      "cell_type": "markdown",
      "source": [
        "## PARA SIGMOIDE"
      ],
      "metadata": {
        "id": "fVFBD0MFp3FX"
      }
    },
    {
      "cell_type": "code",
      "source": [
        "r = np.array([10,0,20,40,30])"
      ],
      "metadata": {
        "id": "hCNEpxQpmZ3t"
      },
      "execution_count": 43,
      "outputs": []
    },
    {
      "cell_type": "code",
      "source": [
        "np.argsort(r)"
      ],
      "metadata": {
        "colab": {
          "base_uri": "https://localhost:8080/"
        },
        "id": "WKwhAS_6mySd",
        "outputId": "9e37f42c-7f80-47fb-a472-998e39cb73e3"
      },
      "execution_count": 44,
      "outputs": [
        {
          "output_type": "execute_result",
          "data": {
            "text/plain": [
              "array([1, 0, 2, 4, 3])"
            ]
          },
          "metadata": {},
          "execution_count": 44
        }
      ]
    },
    {
      "cell_type": "code",
      "source": [
        "r_norm = r/r.max()\n",
        "r_norm"
      ],
      "metadata": {
        "colab": {
          "base_uri": "https://localhost:8080/"
        },
        "id": "AFV1RzB8mfIK",
        "outputId": "05449ac8-c4e3-48da-a9b0-58112f61cdd5"
      },
      "execution_count": 45,
      "outputs": [
        {
          "output_type": "execute_result",
          "data": {
            "text/plain": [
              "array([0.25, 0.  , 0.5 , 1.  , 0.75])"
            ]
          },
          "metadata": {},
          "execution_count": 45
        }
      ]
    },
    {
      "cell_type": "code",
      "source": [
        "np.argsort(r_norm)"
      ],
      "metadata": {
        "colab": {
          "base_uri": "https://localhost:8080/"
        },
        "id": "k8Wk0o_VmxpZ",
        "outputId": "74110702-7cf7-44db-91ce-e1b851b64eb7"
      },
      "execution_count": 46,
      "outputs": [
        {
          "output_type": "execute_result",
          "data": {
            "text/plain": [
              "array([1, 0, 2, 4, 3])"
            ]
          },
          "metadata": {},
          "execution_count": 46
        }
      ]
    },
    {
      "cell_type": "code",
      "source": [],
      "metadata": {
        "id": "ONpuJ6IEpbeG"
      },
      "execution_count": 46,
      "outputs": []
    },
    {
      "cell_type": "markdown",
      "source": [
        "# PARA TANH"
      ],
      "metadata": {
        "id": "rQByz-3ip5Jm"
      }
    },
    {
      "cell_type": "code",
      "source": [
        "r = np.array([10,0,20,40,30])\n",
        "\n",
        "np.argsort(r)"
      ],
      "metadata": {
        "colab": {
          "base_uri": "https://localhost:8080/"
        },
        "id": "3dioJS35pbg5",
        "outputId": "9c72dc31-8b1d-40e0-ec1a-46252f775fd6"
      },
      "execution_count": 47,
      "outputs": [
        {
          "output_type": "execute_result",
          "data": {
            "text/plain": [
              "array([1, 0, 2, 4, 3])"
            ]
          },
          "metadata": {},
          "execution_count": 47
        }
      ]
    },
    {
      "cell_type": "code",
      "source": [
        "r_norm = 2*(r - min(r)) / (max(r) - min(r)) - 1\n",
        "r_norm"
      ],
      "metadata": {
        "id": "jKKD1Qk-wkRd",
        "outputId": "d1e67c2e-c091-4587-d6c7-ee01f422d317",
        "colab": {
          "base_uri": "https://localhost:8080/"
        }
      },
      "execution_count": 48,
      "outputs": [
        {
          "output_type": "execute_result",
          "data": {
            "text/plain": [
              "array([-0.5, -1. ,  0. ,  1. ,  0.5])"
            ]
          },
          "metadata": {},
          "execution_count": 48
        }
      ]
    },
    {
      "cell_type": "code",
      "source": [
        "np.argsort(r_norm)"
      ],
      "metadata": {
        "id": "sYHLKrc7wneY",
        "outputId": "2886560d-f376-49d3-ceed-14c0ad026cfa",
        "colab": {
          "base_uri": "https://localhost:8080/"
        }
      },
      "execution_count": 49,
      "outputs": [
        {
          "output_type": "execute_result",
          "data": {
            "text/plain": [
              "array([1, 0, 2, 4, 3])"
            ]
          },
          "metadata": {},
          "execution_count": 49
        }
      ]
    },
    {
      "cell_type": "code",
      "source": [],
      "metadata": {
        "id": "at8wvgT05IbB"
      },
      "execution_count": 49,
      "outputs": []
    },
    {
      "cell_type": "code",
      "source": [],
      "metadata": {
        "id": "kkxoEwpLF58B"
      },
      "execution_count": 49,
      "outputs": []
    },
    {
      "cell_type": "markdown",
      "source": [
        "# weights = K.abs(1. / K.cast(y_true, K.floatx()))"
      ],
      "metadata": {
        "id": "BXkDpB_0F6E2"
      }
    },
    {
      "cell_type": "code",
      "source": [
        "from keras import backend as K\n",
        "def custom_loss(y_true, y_pred):\n",
        "    weights = K.abs(1. / K.cast(y_true, K.floatx()))  # Mayor peso a rangos más altos\n",
        "    return K.mean(weights * K.square(y_true - y_pred), axis=-1)"
      ],
      "metadata": {
        "id": "oFUG7F0jF86Z"
      },
      "execution_count": 50,
      "outputs": []
    },
    {
      "cell_type": "code",
      "source": [
        "r = np.array([1,2,3,4,5])\n",
        "r_pred = np.array([5,2,3,4,1])\n"
      ],
      "metadata": {
        "id": "2OH8l-2xF9ue"
      },
      "execution_count": 51,
      "outputs": []
    },
    {
      "cell_type": "code",
      "source": [
        "weights = K.abs(1. / K.cast(r + 0.01, K.floatx()))\n",
        "weights"
      ],
      "metadata": {
        "colab": {
          "base_uri": "https://localhost:8080/"
        },
        "id": "qrZ36brzGGGt",
        "outputId": "f2c1c450-cbcb-4b07-cb82-88d5c5e2d816"
      },
      "execution_count": 52,
      "outputs": [
        {
          "output_type": "execute_result",
          "data": {
            "text/plain": [
              "<tf.Tensor: shape=(5,), dtype=float32, numpy=\n",
              "array([0.990099  , 0.49751243, 0.33222592, 0.24937655, 0.19960079],\n",
              "      dtype=float32)>"
            ]
          },
          "metadata": {},
          "execution_count": 52
        }
      ]
    },
    {
      "cell_type": "code",
      "source": [
        "K.mean(K.square(r - r_pred), axis=-1)"
      ],
      "metadata": {
        "colab": {
          "base_uri": "https://localhost:8080/"
        },
        "id": "0E6gmFtYGjS6",
        "outputId": "898572c9-01b5-450a-f19b-480930e6023d"
      },
      "execution_count": 53,
      "outputs": [
        {
          "output_type": "execute_result",
          "data": {
            "text/plain": [
              "<tf.Tensor: shape=(), dtype=int64, numpy=6>"
            ]
          },
          "metadata": {},
          "execution_count": 53
        }
      ]
    },
    {
      "cell_type": "code",
      "source": [
        "r = K.cast(r, 'float32')\n",
        "r_pred = K.cast(r_pred, 'float32')\n",
        "K.mean(weights * K.square(r - r_pred), axis=-1)"
      ],
      "metadata": {
        "colab": {
          "base_uri": "https://localhost:8080/"
        },
        "id": "T9ta7IRhHMd6",
        "outputId": "b6c848e6-2a0a-4b4e-a00c-50ee4bde1c0b"
      },
      "execution_count": 54,
      "outputs": [
        {
          "output_type": "execute_result",
          "data": {
            "text/plain": [
              "<tf.Tensor: shape=(), dtype=float32, numpy=3.8070393>"
            ]
          },
          "metadata": {},
          "execution_count": 54
        }
      ]
    },
    {
      "cell_type": "code",
      "source": [
        "import numpy as np\n",
        "from keras import backend as K"
      ],
      "metadata": {
        "id": "nYbSsliNIUHL"
      },
      "execution_count": 55,
      "outputs": []
    },
    {
      "cell_type": "code",
      "source": [
        "r = np.array([1,2,3])\n",
        "r_pred = np.array([3,3,3])"
      ],
      "metadata": {
        "id": "95rJ2zoMIWwe"
      },
      "execution_count": 56,
      "outputs": []
    },
    {
      "cell_type": "code",
      "source": [
        "(r - r_pred)"
      ],
      "metadata": {
        "colab": {
          "base_uri": "https://localhost:8080/"
        },
        "id": "3CWRV3D8Lw16",
        "outputId": "6bc2f180-a023-4cfe-ed50-907b5a58b309"
      },
      "execution_count": 57,
      "outputs": [
        {
          "output_type": "execute_result",
          "data": {
            "text/plain": [
              "array([-2, -1,  0])"
            ]
          },
          "metadata": {},
          "execution_count": 57
        }
      ]
    },
    {
      "cell_type": "code",
      "source": [
        "K.square((r - r_pred))"
      ],
      "metadata": {
        "colab": {
          "base_uri": "https://localhost:8080/"
        },
        "id": "eKymE_TDLbbA",
        "outputId": "adb02133-5c71-4b09-ef9a-9bb5d8f5542e"
      },
      "execution_count": 58,
      "outputs": [
        {
          "output_type": "execute_result",
          "data": {
            "text/plain": [
              "<tf.Tensor: shape=(3,), dtype=int64, numpy=array([4, 1, 0])>"
            ]
          },
          "metadata": {},
          "execution_count": 58
        }
      ]
    },
    {
      "cell_type": "code",
      "source": [
        "r = np.array([1,2,3])\n",
        "r_pred = np.array([3,3,3])"
      ],
      "metadata": {
        "id": "DQzHDeb-Lr_3"
      },
      "execution_count": 59,
      "outputs": []
    },
    {
      "cell_type": "code",
      "source": [
        "w =  np.array([10,1,1])"
      ],
      "metadata": {
        "id": "Jpi1LJacLuOh"
      },
      "execution_count": 60,
      "outputs": []
    },
    {
      "cell_type": "code",
      "source": [
        "w * K.square((r - r_pred))"
      ],
      "metadata": {
        "colab": {
          "base_uri": "https://localhost:8080/"
        },
        "id": "_T-6gXbIMBkh",
        "outputId": "b9137761-4bcb-48a5-ed8c-ee7137de3b4b"
      },
      "execution_count": 61,
      "outputs": [
        {
          "output_type": "execute_result",
          "data": {
            "text/plain": [
              "<tf.Tensor: shape=(3,), dtype=int64, numpy=array([40,  1,  0])>"
            ]
          },
          "metadata": {},
          "execution_count": 61
        }
      ]
    },
    {
      "cell_type": "code",
      "source": [
        "K.mean(w * K.square((r - r_pred)))"
      ],
      "metadata": {
        "colab": {
          "base_uri": "https://localhost:8080/"
        },
        "id": "WJCppVZXMZ9p",
        "outputId": "30da86cc-fdfa-4cd6-c996-a2faaca4deb7"
      },
      "execution_count": 62,
      "outputs": [
        {
          "output_type": "execute_result",
          "data": {
            "text/plain": [
              "<tf.Tensor: shape=(), dtype=int64, numpy=13>"
            ]
          },
          "metadata": {},
          "execution_count": 62
        }
      ]
    },
    {
      "cell_type": "code",
      "source": [
        "K.sum(w * K.square((r - r_pred)))"
      ],
      "metadata": {
        "colab": {
          "base_uri": "https://localhost:8080/"
        },
        "id": "WGn8vSxJMcqv",
        "outputId": "fc731a46-b3ac-489c-cdf6-8ec14571dfb1"
      },
      "execution_count": 63,
      "outputs": [
        {
          "output_type": "execute_result",
          "data": {
            "text/plain": [
              "<tf.Tensor: shape=(), dtype=int64, numpy=41>"
            ]
          },
          "metadata": {},
          "execution_count": 63
        }
      ]
    },
    {
      "cell_type": "code",
      "source": [],
      "metadata": {
        "id": "QGHQbdzeND2Z"
      },
      "execution_count": 63,
      "outputs": []
    },
    {
      "cell_type": "markdown",
      "source": [
        "# funcion de coste personalizada:  a por los 10 mejores"
      ],
      "metadata": {
        "id": "gi7hDo-lNFrR"
      }
    },
    {
      "cell_type": "code",
      "source": [
        "r = np.arange(35)"
      ],
      "metadata": {
        "id": "GXYTh5EwNWDl"
      },
      "execution_count": 64,
      "outputs": []
    },
    {
      "cell_type": "code",
      "source": [
        "r"
      ],
      "metadata": {
        "colab": {
          "base_uri": "https://localhost:8080/"
        },
        "id": "pX_x2-QHNiAw",
        "outputId": "51d268dd-a54d-42cb-a202-8108a0a4d4bf"
      },
      "execution_count": 65,
      "outputs": [
        {
          "output_type": "execute_result",
          "data": {
            "text/plain": [
              "array([ 0,  1,  2,  3,  4,  5,  6,  7,  8,  9, 10, 11, 12, 13, 14, 15, 16,\n",
              "       17, 18, 19, 20, 21, 22, 23, 24, 25, 26, 27, 28, 29, 30, 31, 32, 33,\n",
              "       34])"
            ]
          },
          "metadata": {},
          "execution_count": 65
        }
      ]
    },
    {
      "cell_type": "code",
      "source": [
        "r_pred = r.copy()\n",
        "r_pred[:20] = 35\n",
        "r_pred += 1"
      ],
      "metadata": {
        "id": "YIYBBO2LNwkI"
      },
      "execution_count": 66,
      "outputs": []
    },
    {
      "cell_type": "code",
      "source": [
        "r_pred"
      ],
      "metadata": {
        "colab": {
          "base_uri": "https://localhost:8080/"
        },
        "id": "JWk7Mq1dPARk",
        "outputId": "29913eb6-9acb-4101-9bb8-e432dd109a25"
      },
      "execution_count": 67,
      "outputs": [
        {
          "output_type": "execute_result",
          "data": {
            "text/plain": [
              "array([36, 36, 36, 36, 36, 36, 36, 36, 36, 36, 36, 36, 36, 36, 36, 36, 36,\n",
              "       36, 36, 36, 21, 22, 23, 24, 25, 26, 27, 28, 29, 30, 31, 32, 33, 34,\n",
              "       35])"
            ]
          },
          "metadata": {},
          "execution_count": 67
        }
      ]
    },
    {
      "cell_type": "code",
      "source": [
        "w = np.ones(35)\n",
        "w [:10] = 10"
      ],
      "metadata": {
        "id": "roswbWcqNIM-"
      },
      "execution_count": 68,
      "outputs": []
    },
    {
      "cell_type": "code",
      "source": [
        "w = r[::-1] + 1"
      ],
      "metadata": {
        "id": "5zbQ5z9yO7Qy"
      },
      "execution_count": 69,
      "outputs": []
    },
    {
      "cell_type": "code",
      "source": [
        "w[:10] = w[:10] * 1.3"
      ],
      "metadata": {
        "id": "Xi5uLdexPb5q"
      },
      "execution_count": 70,
      "outputs": []
    },
    {
      "cell_type": "code",
      "source": [
        "w"
      ],
      "metadata": {
        "colab": {
          "base_uri": "https://localhost:8080/"
        },
        "id": "KxujllzANRtz",
        "outputId": "c5cc18bf-05af-42ac-b3a3-bcc02a65b166"
      },
      "execution_count": 71,
      "outputs": [
        {
          "output_type": "execute_result",
          "data": {
            "text/plain": [
              "array([45, 44, 42, 41, 40, 39, 37, 36, 35, 33, 25, 24, 23, 22, 21, 20, 19,\n",
              "       18, 17, 16, 15, 14, 13, 12, 11, 10,  9,  8,  7,  6,  5,  4,  3,  2,\n",
              "        1])"
            ]
          },
          "metadata": {},
          "execution_count": 71
        }
      ]
    },
    {
      "cell_type": "code",
      "source": [
        "K.square((r - r_pred))"
      ],
      "metadata": {
        "colab": {
          "base_uri": "https://localhost:8080/"
        },
        "id": "CdeQ5Y9EN4Zr",
        "outputId": "f4dc6a11-70c9-41e0-e102-9b57ca4e181f"
      },
      "execution_count": 72,
      "outputs": [
        {
          "output_type": "execute_result",
          "data": {
            "text/plain": [
              "<tf.Tensor: shape=(35,), dtype=int64, numpy=\n",
              "array([1296, 1225, 1156, 1089, 1024,  961,  900,  841,  784,  729,  676,\n",
              "        625,  576,  529,  484,  441,  400,  361,  324,  289,    1,    1,\n",
              "          1,    1,    1,    1,    1,    1,    1,    1,    1,    1,    1,\n",
              "          1,    1])>"
            ]
          },
          "metadata": {},
          "execution_count": 72
        }
      ]
    },
    {
      "cell_type": "code",
      "source": [
        "w * K.square((r - r_pred))"
      ],
      "metadata": {
        "colab": {
          "base_uri": "https://localhost:8080/"
        },
        "id": "CRMpuEC8OQ9Y",
        "outputId": "3b7b1ed6-b7c6-4127-9c1c-b3846ce6f64c"
      },
      "execution_count": 73,
      "outputs": [
        {
          "output_type": "execute_result",
          "data": {
            "text/plain": [
              "<tf.Tensor: shape=(35,), dtype=int64, numpy=\n",
              "array([58320, 53900, 48552, 44649, 40960, 37479, 33300, 30276, 27440,\n",
              "       24057, 16900, 15000, 13248, 11638, 10164,  8820,  7600,  6498,\n",
              "        5508,  4624,    15,    14,    13,    12,    11,    10,     9,\n",
              "           8,     7,     6,     5,     4,     3,     2,     1])>"
            ]
          },
          "metadata": {},
          "execution_count": 73
        }
      ]
    },
    {
      "cell_type": "code",
      "source": [
        "K.sum(w * K.square((r - r_pred)))"
      ],
      "metadata": {
        "colab": {
          "base_uri": "https://localhost:8080/"
        },
        "id": "r6d-5dTtPssp",
        "outputId": "69c87621-0481-4cda-a0a1-b87514a552e0"
      },
      "execution_count": 74,
      "outputs": [
        {
          "output_type": "execute_result",
          "data": {
            "text/plain": [
              "<tf.Tensor: shape=(), dtype=int64, numpy=499053>"
            ]
          },
          "metadata": {},
          "execution_count": 74
        }
      ]
    },
    {
      "cell_type": "code",
      "source": [
        "hp_top = 10\n",
        "hp_incremento_top = 1.3\n",
        "def top_is_target(y_true, y_pred):\n",
        "  w = np.arange(len(y_true))\n",
        "  w = w[::-1] + 1\n",
        "  w[:hp_top] = w[:hp_top] * hp_incremento_top\n",
        "\n",
        "  # Normaliza los pesos para que sumen 1\n",
        "  #w = w / np.sum(w)\n",
        "\n",
        "  w = K.cast(w, 'float32')\n",
        "\n",
        "  r = K.cast(y_true, 'float32')\n",
        "  r_pred = K.cast(y_pred, 'float32')\n",
        "\n",
        "  return K.sum(w * K.square(r - r_pred), axis=-1)\n",
        "\n"
      ],
      "metadata": {
        "id": "m3Co_4A7Pwvr"
      },
      "execution_count": 75,
      "outputs": []
    },
    {
      "cell_type": "code",
      "source": [
        "ranking = np.arange(35)\n",
        "\n",
        "#ranking = 2*(ranking - min(ranking)) / (max(ranking) - min(ranking)) - 1\n",
        "print(ranking)\n",
        "\n",
        "loss_top_is_target = []\n",
        "loss = []\n",
        "for i in range(len(ranking)-1):\n",
        "  pred_ranking = np.roll(ranking, -i-1)\n",
        "  #pred_ranking = np.roll(ranking, i+1)\n",
        "  print(pred_ranking)\n",
        "  loss = top_is_target(ranking, pred_ranking )\n",
        "  loss_top_is_target.append(loss)\n",
        "  print(\"top_is_target: \" + str(loss))\n",
        "\n",
        "plt.figure()\n",
        "\n",
        "loss_top_is_target = np.array(loss_top_is_target)\n",
        "\n",
        "plt.plot(loss_top_is_target / loss_top_is_target.max(), 'g');\n",
        "\n",
        "loss_top_is_target = []\n",
        "print(\"############################\")\n",
        "for i in range(len(ranking)-1):\n",
        "  pred_ranking = np.roll(ranking, i+1)\n",
        "  #pred_ranking = np.roll(ranking, i+1)\n",
        "  print(pred_ranking)\n",
        "  loss = top_is_target(ranking, pred_ranking )\n",
        "  loss_top_is_target.append(loss)\n",
        "  print(\"top_is_target: \" + str(loss))\n",
        "\n",
        "plt.figure()\n",
        "\n",
        "loss_top_is_target = np.array(loss_top_is_target)\n",
        "\n",
        "plt.plot(loss_top_is_target / loss_top_is_target.max(), 'g');"
      ],
      "metadata": {
        "colab": {
          "base_uri": "https://localhost:8080/",
          "height": 1000
        },
        "id": "Z2uxMPqTQd_h",
        "outputId": "56c04c12-a17e-4f64-d580-fabf021546f2"
      },
      "execution_count": 76,
      "outputs": [
        {
          "output_type": "stream",
          "name": "stdout",
          "text": [
            "[ 0  1  2  3  4  5  6  7  8  9 10 11 12 13 14 15 16 17 18 19 20 21 22 23\n",
            " 24 25 26 27 28 29 30 31 32 33 34]\n",
            "[ 1  2  3  4  5  6  7  8  9 10 11 12 13 14 15 16 17 18 19 20 21 22 23 24\n",
            " 25 26 27 28 29 30 31 32 33 34  0]\n",
            "top_is_target: tf.Tensor(1872.0, shape=(), dtype=float32)\n",
            "[ 2  3  4  5  6  7  8  9 10 11 12 13 14 15 16 17 18 19 20 21 22 23 24 25\n",
            " 26 27 28 29 30 31 32 33 34  0  1]\n",
            "top_is_target: tf.Tensor(6123.0, shape=(), dtype=float32)\n",
            "[ 3  4  5  6  7  8  9 10 11 12 13 14 15 16 17 18 19 20 21 22 23 24 25 26\n",
            " 27 28 29 30 31 32 33 34  0  1  2]\n",
            "top_is_target: tf.Tensor(12543.0, shape=(), dtype=float32)\n",
            "[ 4  5  6  7  8  9 10 11 12 13 14 15 16 17 18 19 20 21 22 23 24 25 26 27\n",
            " 28 29 30 31 32 33 34  0  1  2  3]\n",
            "top_is_target: tf.Tensor(20922.0, shape=(), dtype=float32)\n",
            "[ 5  6  7  8  9 10 11 12 13 14 15 16 17 18 19 20 21 22 23 24 25 26 27 28\n",
            " 29 30 31 32 33 34  0  1  2  3  4]\n",
            "top_is_target: tf.Tensor(31050.0, shape=(), dtype=float32)\n",
            "[ 6  7  8  9 10 11 12 13 14 15 16 17 18 19 20 21 22 23 24 25 26 27 28 29\n",
            " 30 31 32 33 34  0  1  2  3  4  5]\n",
            "top_is_target: tf.Tensor(42717.0, shape=(), dtype=float32)\n",
            "[ 7  8  9 10 11 12 13 14 15 16 17 18 19 20 21 22 23 24 25 26 27 28 29 30\n",
            " 31 32 33 34  0  1  2  3  4  5  6]\n",
            "top_is_target: tf.Tensor(55713.0, shape=(), dtype=float32)\n",
            "[ 8  9 10 11 12 13 14 15 16 17 18 19 20 21 22 23 24 25 26 27 28 29 30 31\n",
            " 32 33 34  0  1  2  3  4  5  6  7]\n",
            "top_is_target: tf.Tensor(69828.0, shape=(), dtype=float32)\n",
            "[ 9 10 11 12 13 14 15 16 17 18 19 20 21 22 23 24 25 26 27 28 29 30 31 32\n",
            " 33 34  0  1  2  3  4  5  6  7  8]\n",
            "top_is_target: tf.Tensor(84852.0, shape=(), dtype=float32)\n",
            "[10 11 12 13 14 15 16 17 18 19 20 21 22 23 24 25 26 27 28 29 30 31 32 33\n",
            " 34  0  1  2  3  4  5  6  7  8  9]\n",
            "top_is_target: tf.Tensor(100575.0, shape=(), dtype=float32)\n",
            "[11 12 13 14 15 16 17 18 19 20 21 22 23 24 25 26 27 28 29 30 31 32 33 34\n",
            "  0  1  2  3  4  5  6  7  8  9 10]\n",
            "top_is_target: tf.Tensor(116787.0, shape=(), dtype=float32)\n",
            "[12 13 14 15 16 17 18 19 20 21 22 23 24 25 26 27 28 29 30 31 32 33 34  0\n",
            "  1  2  3  4  5  6  7  8  9 10 11]\n",
            "top_is_target: tf.Tensor(133278.0, shape=(), dtype=float32)\n",
            "[13 14 15 16 17 18 19 20 21 22 23 24 25 26 27 28 29 30 31 32 33 34  0  1\n",
            "  2  3  4  5  6  7  8  9 10 11 12]\n",
            "top_is_target: tf.Tensor(149838.0, shape=(), dtype=float32)\n",
            "[14 15 16 17 18 19 20 21 22 23 24 25 26 27 28 29 30 31 32 33 34  0  1  2\n",
            "  3  4  5  6  7  8  9 10 11 12 13]\n",
            "top_is_target: tf.Tensor(166257.0, shape=(), dtype=float32)\n",
            "[15 16 17 18 19 20 21 22 23 24 25 26 27 28 29 30 31 32 33 34  0  1  2  3\n",
            "  4  5  6  7  8  9 10 11 12 13 14]\n",
            "top_is_target: tf.Tensor(182325.0, shape=(), dtype=float32)\n",
            "[16 17 18 19 20 21 22 23 24 25 26 27 28 29 30 31 32 33 34  0  1  2  3  4\n",
            "  5  6  7  8  9 10 11 12 13 14 15]\n",
            "top_is_target: tf.Tensor(197832.0, shape=(), dtype=float32)\n",
            "[17 18 19 20 21 22 23 24 25 26 27 28 29 30 31 32 33 34  0  1  2  3  4  5\n",
            "  6  7  8  9 10 11 12 13 14 15 16]\n",
            "top_is_target: tf.Tensor(212568.0, shape=(), dtype=float32)\n",
            "[18 19 20 21 22 23 24 25 26 27 28 29 30 31 32 33 34  0  1  2  3  4  5  6\n",
            "  7  8  9 10 11 12 13 14 15 16 17]\n",
            "top_is_target: tf.Tensor(226323.0, shape=(), dtype=float32)\n",
            "[19 20 21 22 23 24 25 26 27 28 29 30 31 32 33 34  0  1  2  3  4  5  6  7\n",
            "  8  9 10 11 12 13 14 15 16 17 18]\n",
            "top_is_target: tf.Tensor(238887.0, shape=(), dtype=float32)\n",
            "[20 21 22 23 24 25 26 27 28 29 30 31 32 33 34  0  1  2  3  4  5  6  7  8\n",
            "  9 10 11 12 13 14 15 16 17 18 19]\n",
            "top_is_target: tf.Tensor(250050.0, shape=(), dtype=float32)\n",
            "[21 22 23 24 25 26 27 28 29 30 31 32 33 34  0  1  2  3  4  5  6  7  8  9\n",
            " 10 11 12 13 14 15 16 17 18 19 20]\n",
            "top_is_target: tf.Tensor(259602.0, shape=(), dtype=float32)\n",
            "[22 23 24 25 26 27 28 29 30 31 32 33 34  0  1  2  3  4  5  6  7  8  9 10\n",
            " 11 12 13 14 15 16 17 18 19 20 21]\n",
            "top_is_target: tf.Tensor(267333.0, shape=(), dtype=float32)\n",
            "[23 24 25 26 27 28 29 30 31 32 33 34  0  1  2  3  4  5  6  7  8  9 10 11\n",
            " 12 13 14 15 16 17 18 19 20 21 22]\n",
            "top_is_target: tf.Tensor(273033.0, shape=(), dtype=float32)\n",
            "[24 25 26 27 28 29 30 31 32 33 34  0  1  2  3  4  5  6  7  8  9 10 11 12\n",
            " 13 14 15 16 17 18 19 20 21 22 23]\n",
            "top_is_target: tf.Tensor(276492.0, shape=(), dtype=float32)\n",
            "[25 26 27 28 29 30 31 32 33 34  0  1  2  3  4  5  6  7  8  9 10 11 12 13\n",
            " 14 15 16 17 18 19 20 21 22 23 24]\n",
            "top_is_target: tf.Tensor(277500.0, shape=(), dtype=float32)\n",
            "[26 27 28 29 30 31 32 33 34  0  1  2  3  4  5  6  7  8  9 10 11 12 13 14\n",
            " 15 16 17 18 19 20 21 22 23 24 25]\n",
            "top_is_target: tf.Tensor(271682.0, shape=(), dtype=float32)\n",
            "[27 28 29 30 31 32 33 34  0  1  2  3  4  5  6  7  8  9 10 11 12 13 14 15\n",
            " 16 17 18 19 20 21 22 23 24 25 26]\n",
            "top_is_target: tf.Tensor(261348.0, shape=(), dtype=float32)\n",
            "[28 29 30 31 32 33 34  0  1  2  3  4  5  6  7  8  9 10 11 12 13 14 15 16\n",
            " 17 18 19 20 21 22 23 24 25 26 27]\n",
            "top_is_target: tf.Tensor(246813.0, shape=(), dtype=float32)\n",
            "[29 30 31 32 33 34  0  1  2  3  4  5  6  7  8  9 10 11 12 13 14 15 16 17\n",
            " 18 19 20 21 22 23 24 25 26 27 28]\n",
            "top_is_target: tf.Tensor(227867.0, shape=(), dtype=float32)\n",
            "[30 31 32 33 34  0  1  2  3  4  5  6  7  8  9 10 11 12 13 14 15 16 17 18\n",
            " 19 20 21 22 23 24 25 26 27 28 29]\n",
            "top_is_target: tf.Tensor(203425.0, shape=(), dtype=float32)\n",
            "[31 32 33 34  0  1  2  3  4  5  6  7  8  9 10 11 12 13 14 15 16 17 18 19\n",
            " 20 21 22 23 24 25 26 27 28 29 30]\n",
            "top_is_target: tf.Tensor(174012.0, shape=(), dtype=float32)\n",
            "[32 33 34  0  1  2  3  4  5  6  7  8  9 10 11 12 13 14 15 16 17 18 19 20\n",
            " 21 22 23 24 25 26 27 28 29 30 31]\n",
            "top_is_target: tf.Tensor(139418.0, shape=(), dtype=float32)\n",
            "[33 34  0  1  2  3  4  5  6  7  8  9 10 11 12 13 14 15 16 17 18 19 20 21\n",
            " 22 23 24 25 26 27 28 29 30 31 32]\n",
            "top_is_target: tf.Tensor(99433.0, shape=(), dtype=float32)\n",
            "[34  0  1  2  3  4  5  6  7  8  9 10 11 12 13 14 15 16 17 18 19 20 21 22\n",
            " 23 24 25 26 27 28 29 30 31 32 33]\n",
            "top_is_target: tf.Tensor(52692.0, shape=(), dtype=float32)\n",
            "############################\n",
            "[34  0  1  2  3  4  5  6  7  8  9 10 11 12 13 14 15 16 17 18 19 20 21 22\n",
            " 23 24 25 26 27 28 29 30 31 32 33]\n",
            "top_is_target: tf.Tensor(52692.0, shape=(), dtype=float32)\n",
            "[33 34  0  1  2  3  4  5  6  7  8  9 10 11 12 13 14 15 16 17 18 19 20 21\n",
            " 22 23 24 25 26 27 28 29 30 31 32]\n",
            "top_is_target: tf.Tensor(99433.0, shape=(), dtype=float32)\n",
            "[32 33 34  0  1  2  3  4  5  6  7  8  9 10 11 12 13 14 15 16 17 18 19 20\n",
            " 21 22 23 24 25 26 27 28 29 30 31]\n",
            "top_is_target: tf.Tensor(139418.0, shape=(), dtype=float32)\n",
            "[31 32 33 34  0  1  2  3  4  5  6  7  8  9 10 11 12 13 14 15 16 17 18 19\n",
            " 20 21 22 23 24 25 26 27 28 29 30]\n",
            "top_is_target: tf.Tensor(174012.0, shape=(), dtype=float32)\n",
            "[30 31 32 33 34  0  1  2  3  4  5  6  7  8  9 10 11 12 13 14 15 16 17 18\n",
            " 19 20 21 22 23 24 25 26 27 28 29]\n",
            "top_is_target: tf.Tensor(203425.0, shape=(), dtype=float32)\n",
            "[29 30 31 32 33 34  0  1  2  3  4  5  6  7  8  9 10 11 12 13 14 15 16 17\n",
            " 18 19 20 21 22 23 24 25 26 27 28]\n",
            "top_is_target: tf.Tensor(227867.0, shape=(), dtype=float32)\n",
            "[28 29 30 31 32 33 34  0  1  2  3  4  5  6  7  8  9 10 11 12 13 14 15 16\n",
            " 17 18 19 20 21 22 23 24 25 26 27]\n",
            "top_is_target: tf.Tensor(246813.0, shape=(), dtype=float32)\n",
            "[27 28 29 30 31 32 33 34  0  1  2  3  4  5  6  7  8  9 10 11 12 13 14 15\n",
            " 16 17 18 19 20 21 22 23 24 25 26]\n",
            "top_is_target: tf.Tensor(261348.0, shape=(), dtype=float32)\n",
            "[26 27 28 29 30 31 32 33 34  0  1  2  3  4  5  6  7  8  9 10 11 12 13 14\n",
            " 15 16 17 18 19 20 21 22 23 24 25]\n",
            "top_is_target: tf.Tensor(271682.0, shape=(), dtype=float32)\n",
            "[25 26 27 28 29 30 31 32 33 34  0  1  2  3  4  5  6  7  8  9 10 11 12 13\n",
            " 14 15 16 17 18 19 20 21 22 23 24]\n",
            "top_is_target: tf.Tensor(277500.0, shape=(), dtype=float32)\n",
            "[24 25 26 27 28 29 30 31 32 33 34  0  1  2  3  4  5  6  7  8  9 10 11 12\n",
            " 13 14 15 16 17 18 19 20 21 22 23]\n",
            "top_is_target: tf.Tensor(276492.0, shape=(), dtype=float32)\n",
            "[23 24 25 26 27 28 29 30 31 32 33 34  0  1  2  3  4  5  6  7  8  9 10 11\n",
            " 12 13 14 15 16 17 18 19 20 21 22]\n",
            "top_is_target: tf.Tensor(273033.0, shape=(), dtype=float32)\n",
            "[22 23 24 25 26 27 28 29 30 31 32 33 34  0  1  2  3  4  5  6  7  8  9 10\n",
            " 11 12 13 14 15 16 17 18 19 20 21]\n",
            "top_is_target: tf.Tensor(267333.0, shape=(), dtype=float32)\n",
            "[21 22 23 24 25 26 27 28 29 30 31 32 33 34  0  1  2  3  4  5  6  7  8  9\n",
            " 10 11 12 13 14 15 16 17 18 19 20]\n",
            "top_is_target: tf.Tensor(259602.0, shape=(), dtype=float32)\n",
            "[20 21 22 23 24 25 26 27 28 29 30 31 32 33 34  0  1  2  3  4  5  6  7  8\n",
            "  9 10 11 12 13 14 15 16 17 18 19]\n",
            "top_is_target: tf.Tensor(250050.0, shape=(), dtype=float32)\n",
            "[19 20 21 22 23 24 25 26 27 28 29 30 31 32 33 34  0  1  2  3  4  5  6  7\n",
            "  8  9 10 11 12 13 14 15 16 17 18]\n",
            "top_is_target: tf.Tensor(238887.0, shape=(), dtype=float32)\n",
            "[18 19 20 21 22 23 24 25 26 27 28 29 30 31 32 33 34  0  1  2  3  4  5  6\n",
            "  7  8  9 10 11 12 13 14 15 16 17]\n",
            "top_is_target: tf.Tensor(226323.0, shape=(), dtype=float32)\n",
            "[17 18 19 20 21 22 23 24 25 26 27 28 29 30 31 32 33 34  0  1  2  3  4  5\n",
            "  6  7  8  9 10 11 12 13 14 15 16]\n",
            "top_is_target: tf.Tensor(212568.0, shape=(), dtype=float32)\n",
            "[16 17 18 19 20 21 22 23 24 25 26 27 28 29 30 31 32 33 34  0  1  2  3  4\n",
            "  5  6  7  8  9 10 11 12 13 14 15]\n",
            "top_is_target: tf.Tensor(197832.0, shape=(), dtype=float32)\n",
            "[15 16 17 18 19 20 21 22 23 24 25 26 27 28 29 30 31 32 33 34  0  1  2  3\n",
            "  4  5  6  7  8  9 10 11 12 13 14]\n",
            "top_is_target: tf.Tensor(182325.0, shape=(), dtype=float32)\n",
            "[14 15 16 17 18 19 20 21 22 23 24 25 26 27 28 29 30 31 32 33 34  0  1  2\n",
            "  3  4  5  6  7  8  9 10 11 12 13]\n",
            "top_is_target: tf.Tensor(166257.0, shape=(), dtype=float32)\n",
            "[13 14 15 16 17 18 19 20 21 22 23 24 25 26 27 28 29 30 31 32 33 34  0  1\n",
            "  2  3  4  5  6  7  8  9 10 11 12]\n",
            "top_is_target: tf.Tensor(149838.0, shape=(), dtype=float32)\n",
            "[12 13 14 15 16 17 18 19 20 21 22 23 24 25 26 27 28 29 30 31 32 33 34  0\n",
            "  1  2  3  4  5  6  7  8  9 10 11]\n",
            "top_is_target: tf.Tensor(133278.0, shape=(), dtype=float32)\n",
            "[11 12 13 14 15 16 17 18 19 20 21 22 23 24 25 26 27 28 29 30 31 32 33 34\n",
            "  0  1  2  3  4  5  6  7  8  9 10]\n",
            "top_is_target: tf.Tensor(116787.0, shape=(), dtype=float32)\n",
            "[10 11 12 13 14 15 16 17 18 19 20 21 22 23 24 25 26 27 28 29 30 31 32 33\n",
            " 34  0  1  2  3  4  5  6  7  8  9]\n",
            "top_is_target: tf.Tensor(100575.0, shape=(), dtype=float32)\n",
            "[ 9 10 11 12 13 14 15 16 17 18 19 20 21 22 23 24 25 26 27 28 29 30 31 32\n",
            " 33 34  0  1  2  3  4  5  6  7  8]\n",
            "top_is_target: tf.Tensor(84852.0, shape=(), dtype=float32)\n",
            "[ 8  9 10 11 12 13 14 15 16 17 18 19 20 21 22 23 24 25 26 27 28 29 30 31\n",
            " 32 33 34  0  1  2  3  4  5  6  7]\n",
            "top_is_target: tf.Tensor(69828.0, shape=(), dtype=float32)\n",
            "[ 7  8  9 10 11 12 13 14 15 16 17 18 19 20 21 22 23 24 25 26 27 28 29 30\n",
            " 31 32 33 34  0  1  2  3  4  5  6]\n",
            "top_is_target: tf.Tensor(55713.0, shape=(), dtype=float32)\n",
            "[ 6  7  8  9 10 11 12 13 14 15 16 17 18 19 20 21 22 23 24 25 26 27 28 29\n",
            " 30 31 32 33 34  0  1  2  3  4  5]\n",
            "top_is_target: tf.Tensor(42717.0, shape=(), dtype=float32)\n",
            "[ 5  6  7  8  9 10 11 12 13 14 15 16 17 18 19 20 21 22 23 24 25 26 27 28\n",
            " 29 30 31 32 33 34  0  1  2  3  4]\n",
            "top_is_target: tf.Tensor(31050.0, shape=(), dtype=float32)\n",
            "[ 4  5  6  7  8  9 10 11 12 13 14 15 16 17 18 19 20 21 22 23 24 25 26 27\n",
            " 28 29 30 31 32 33 34  0  1  2  3]\n",
            "top_is_target: tf.Tensor(20922.0, shape=(), dtype=float32)\n",
            "[ 3  4  5  6  7  8  9 10 11 12 13 14 15 16 17 18 19 20 21 22 23 24 25 26\n",
            " 27 28 29 30 31 32 33 34  0  1  2]\n",
            "top_is_target: tf.Tensor(12543.0, shape=(), dtype=float32)\n",
            "[ 2  3  4  5  6  7  8  9 10 11 12 13 14 15 16 17 18 19 20 21 22 23 24 25\n",
            " 26 27 28 29 30 31 32 33 34  0  1]\n",
            "top_is_target: tf.Tensor(6123.0, shape=(), dtype=float32)\n",
            "[ 1  2  3  4  5  6  7  8  9 10 11 12 13 14 15 16 17 18 19 20 21 22 23 24\n",
            " 25 26 27 28 29 30 31 32 33 34  0]\n",
            "top_is_target: tf.Tensor(1872.0, shape=(), dtype=float32)\n"
          ]
        },
        {
          "output_type": "display_data",
          "data": {
            "text/plain": [
              "<Figure size 640x480 with 1 Axes>"
            ],
            "image/png": "[encoded data removed]"
          },
          "metadata": {}
        },
        {
          "output_type": "display_data",
          "data": {
            "text/plain": [
              "<Figure size 640x480 with 1 Axes>"
            ],
            "image/png": "[encoded data removed]"
          },
          "metadata": {}
        }
      ]
    },
    {
      "cell_type": "code",
      "source": [
        "plt.plot(loss_top_is_target , 'g');"
      ],
      "metadata": {
        "colab": {
          "base_uri": "https://localhost:8080/",
          "height": 430
        },
        "id": "en8G0Gvx2KbG",
        "outputId": "1d941efc-e83d-4587-be74-133020093fc7"
      },
      "execution_count": 80,
      "outputs": [
        {
          "output_type": "display_data",
          "data": {
            "text/plain": [
              "<Figure size 640x480 with 1 Axes>"
            ],
            "image/png": "[encoded data removed]"
          },
          "metadata": {}
        }
      ]
    },
    {
      "cell_type": "markdown",
      "source": [
        "## MAX , MIN"
      ],
      "metadata": {
        "id": "3JYwTV2O2n8I"
      }
    },
    {
      "cell_type": "code",
      "source": [
        "\"\"\"\n",
        "loss_top_is_target[0]\n",
        "\n",
        "[34  0  1  2  3  4  5  6  7  8  9 10 11 12 13 14 15 16 17 18 19 20 21 22\n",
        " 23 24 25 26 27 28 29 30 31 32 33]\n",
        "\n",
        "loss_top_is_target[-1]\n",
        "\n",
        "[ 1  2  3  4  5  6  7  8  9 10 11 12 13 14 15 16 17 18 19 20 21 22 23 24\n",
        " 25 26 27 28 29 30 31 32 33 34  0]\n",
        "\n",
        "\"\"\""
      ],
      "metadata": {
        "id": "9eWpG1Wh2-Nz"
      },
      "execution_count": null,
      "outputs": []
    },
    {
      "cell_type": "code",
      "source": [
        "loss_top_is_target.max(), loss_top_is_target.min()"
      ],
      "metadata": {
        "colab": {
          "base_uri": "https://localhost:8080/"
        },
        "id": "KGcrnE642Mtr",
        "outputId": "fcd0b915-ba07-4f3d-c981-ff71dae74da2"
      },
      "execution_count": 81,
      "outputs": [
        {
          "output_type": "execute_result",
          "data": {
            "text/plain": [
              "(277500.0, 1872.0)"
            ]
          },
          "metadata": {},
          "execution_count": 81
        }
      ]
    },
    {
      "cell_type": "code",
      "source": [
        "loss_top_is_target[0], loss_top_is_target[-1]"
      ],
      "metadata": {
        "colab": {
          "base_uri": "https://localhost:8080/"
        },
        "id": "238KpgZ02YFZ",
        "outputId": "9c538a90-4074-40c5-8e10-621a136a99c3"
      },
      "execution_count": 83,
      "outputs": [
        {
          "output_type": "execute_result",
          "data": {
            "text/plain": [
              "(52692.0, 1872.0)"
            ]
          },
          "metadata": {},
          "execution_count": 83
        }
      ]
    },
    {
      "cell_type": "markdown",
      "source": [
        "## añadir margen de rror"
      ],
      "metadata": {
        "id": "VezqE1mVWnm0"
      }
    },
    {
      "cell_type": "code",
      "source": [
        "y_true = np.array([1.,2.,3.,4.])\n",
        "y_pred = np.array([4.,3.,2.,1.])\n",
        "\n",
        "#y_true = K.cast(y_true, 'float32')\n",
        "#y_pred = K.cast(y_pred, 'float32')\n",
        "\n",
        "\n",
        "hp_top = 2\n",
        "hp_incremento_top = 1.2\n",
        "\n"
      ],
      "metadata": {
        "id": "EwX0KtZ7WpOg"
      },
      "execution_count": 77,
      "outputs": []
    },
    {
      "cell_type": "code",
      "source": [
        "w = np.arange(len(y_true)).astype(float)\n",
        "w = w[::-1] + 1\n",
        "w[:hp_top] = w[:hp_top] * hp_incremento_top\n",
        "w = K.cast(w, 'float32')\n",
        "print(w)"
      ],
      "metadata": {
        "colab": {
          "base_uri": "https://localhost:8080/"
        },
        "id": "-qkNwf9tW9fR",
        "outputId": "8cee1f4c-245e-4b92-9b9a-c567d0ec218c"
      },
      "execution_count": 78,
      "outputs": [
        {
          "output_type": "stream",
          "name": "stdout",
          "text": [
            "tf.Tensor([4.8 3.6 2.  1. ], shape=(4,), dtype=float32)\n"
          ]
        }
      ]
    },
    {
      "cell_type": "code",
      "source": [
        "\n",
        "\n",
        "\n",
        "r = K.cast(y_true, 'float32')\n",
        "r_pred = K.cast(y_pred, 'float32')\n",
        "\n",
        "rsultado = K.sum(w * K.square(r - r_pred), axis=-1)"
      ],
      "metadata": {
        "id": "i-2WqwHOW-r1"
      },
      "execution_count": 79,
      "outputs": []
    },
    {
      "cell_type": "markdown",
      "source": [
        "# TODO AÑADIR MARGEN DE ERROR, si una posicion esta alejada X , no pasa nada"
      ],
      "metadata": {
        "id": "Kc-4pD-FY_Vp"
      }
    }
  ]
}