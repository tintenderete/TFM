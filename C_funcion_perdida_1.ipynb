{
  "nbformat": 4,
  "nbformat_minor": 0,
  "metadata": {
    "colab": {
      "provenance": [],
      "toc_visible": true,
      "authorship_tag": "ABX9TyNb482CgRlBfzfX+y7gjf/G",
      "include_colab_link": true
    },
    "kernelspec": {
      "name": "python3",
      "display_name": "Python 3"
    },
    "language_info": {
      "name": "python"
    }
  },
  "cells": [
    {
      "cell_type": "markdown",
      "metadata": {
        "id": "view-in-github",
        "colab_type": "text"
      },
      "source": [
        "<a href=\"https://colab.research.google.com/github/tintenderete/TFM-Algoritmo-con-redes-evolutivas/blob/main/C_funcion_perdida_1.ipynb\" target=\"_parent\"><img src=\"https://colab.research.google.com/assets/colab-badge.svg\" alt=\"Open In Colab\"/></a>"
      ]
    },
    {
      "cell_type": "code",
      "source": [
        "import tensorflow as tf\n",
        "import numpy as np"
      ],
      "metadata": {
        "id": "lbRBYpdYemmT"
      },
      "execution_count": 97,
      "outputs": []
    },
    {
      "cell_type": "code",
      "execution_count": 98,
      "metadata": {
        "id": "0l9bmj-Neav9"
      },
      "outputs": [],
      "source": [
        "def perdida_listas(ranking_real, ranking_predicho):\n",
        "    diferencias = tf.abs(ranking_real - ranking_predicho)\n",
        "    perdida_total = tf.reduce_sum(diferencias)\n",
        "    \"\"\"\n",
        "    Una opción podría ser cambiar tf.reduce_sum() por tf.reduce_mean() para tomar el promedio de las diferencias en lugar de la suma. Esto hará que la pérdida sea independiente del tamaño del lote de datos.\n",
        "    \"\"\"\n",
        "    return perdida_total\n"
      ]
    },
    {
      "cell_type": "code",
      "source": [
        "ranking_real = np.array([[6,3,2,4,5,1]])\n",
        "ranking_real"
      ],
      "metadata": {
        "colab": {
          "base_uri": "https://localhost:8080/"
        },
        "id": "o1TNj_l7ffTm",
        "outputId": "c63238a3-7dda-41b7-f75c-0778a796154f"
      },
      "execution_count": 99,
      "outputs": [
        {
          "output_type": "execute_result",
          "data": {
            "text/plain": [
              "array([[6, 3, 2, 4, 5, 1]])"
            ]
          },
          "metadata": {},
          "execution_count": 99
        }
      ]
    },
    {
      "cell_type": "code",
      "source": [
        "ranking_predicho = np.array([[1,2,3,6,5,4]])\n",
        "ranking_predicho"
      ],
      "metadata": {
        "colab": {
          "base_uri": "https://localhost:8080/"
        },
        "id": "hWjagbCvghGM",
        "outputId": "39bfec16-3072-4bd6-fdc4-7b18ff9769fb"
      },
      "execution_count": 100,
      "outputs": [
        {
          "output_type": "execute_result",
          "data": {
            "text/plain": [
              "array([[1, 2, 3, 6, 5, 4]])"
            ]
          },
          "metadata": {},
          "execution_count": 100
        }
      ]
    },
    {
      "cell_type": "code",
      "source": [
        "diferencias = tf.abs(ranking_real - ranking_predicho)\n",
        "diferencias"
      ],
      "metadata": {
        "colab": {
          "base_uri": "https://localhost:8080/"
        },
        "id": "Rr_23ouLgzpQ",
        "outputId": "901003bd-89c3-40c4-80ed-cc7cc5ab24aa"
      },
      "execution_count": 101,
      "outputs": [
        {
          "output_type": "execute_result",
          "data": {
            "text/plain": [
              "<tf.Tensor: shape=(1, 6), dtype=int64, numpy=array([[5, 1, 1, 2, 0, 3]])>"
            ]
          },
          "metadata": {},
          "execution_count": 101
        }
      ]
    },
    {
      "cell_type": "code",
      "source": [
        "perdida_total = tf.reduce_sum(diferencias)\n",
        "perdida_total"
      ],
      "metadata": {
        "colab": {
          "base_uri": "https://localhost:8080/"
        },
        "id": "HBhJ4nkbhTt1",
        "outputId": "900d8bda-2c0b-4423-f91f-96b307b98024"
      },
      "execution_count": 102,
      "outputs": [
        {
          "output_type": "execute_result",
          "data": {
            "text/plain": [
              "<tf.Tensor: shape=(), dtype=int64, numpy=12>"
            ]
          },
          "metadata": {},
          "execution_count": 102
        }
      ]
    },
    {
      "cell_type": "code",
      "source": [
        "perdida_listas(ranking_real, ranking_predicho)"
      ],
      "metadata": {
        "colab": {
          "base_uri": "https://localhost:8080/"
        },
        "id": "2t7At1n3gqkd",
        "outputId": "453c8344-64ee-4608-9fe8-5c7898ba9848"
      },
      "execution_count": 103,
      "outputs": [
        {
          "output_type": "execute_result",
          "data": {
            "text/plain": [
              "<tf.Tensor: shape=(), dtype=int64, numpy=12>"
            ]
          },
          "metadata": {},
          "execution_count": 103
        }
      ]
    },
    {
      "cell_type": "markdown",
      "source": [
        "# asignar más peso a las diferencias que corresponden a números más bajos en el ranking real.\n",
        "\n",
        "castiga cuando los mejores estan clasificados como peores"
      ],
      "metadata": {
        "id": "DiQbwz9UjF89"
      }
    },
    {
      "cell_type": "code",
      "source": [
        "def perdida_listas(ranking_real, ranking_predicho):\n",
        "    diferencias = tf.abs(ranking_real - ranking_predicho)\n",
        "    diferencias_ponderadas = diferencias / (ranking_real + 1e-7)  # Añadimos un pequeño número para evitar la división por cero\n",
        "    perdida_total = tf.reduce_sum(diferencias_ponderadas)\n",
        "    return perdida_total"
      ],
      "metadata": {
        "id": "op4HIHjBjLBh"
      },
      "execution_count": 104,
      "outputs": []
    },
    {
      "cell_type": "code",
      "source": [
        "ranking_real, ranking_predicho"
      ],
      "metadata": {
        "colab": {
          "base_uri": "https://localhost:8080/"
        },
        "id": "MsuxCBA7jTml",
        "outputId": "7b4a4122-9c36-401f-9f3e-086baa775afa"
      },
      "execution_count": 105,
      "outputs": [
        {
          "output_type": "execute_result",
          "data": {
            "text/plain": [
              "(array([[6, 3, 2, 4, 5, 1]]), array([[1, 2, 3, 6, 5, 4]]))"
            ]
          },
          "metadata": {},
          "execution_count": 105
        }
      ]
    },
    {
      "cell_type": "code",
      "source": [
        "diferencias = tf.abs(ranking_real - ranking_predicho)\n",
        "diferencias"
      ],
      "metadata": {
        "colab": {
          "base_uri": "https://localhost:8080/"
        },
        "id": "Ww5bIdgRjN5p",
        "outputId": "cb90d4f5-090a-40a3-b085-0ced4aa07916"
      },
      "execution_count": 106,
      "outputs": [
        {
          "output_type": "execute_result",
          "data": {
            "text/plain": [
              "<tf.Tensor: shape=(1, 6), dtype=int64, numpy=array([[5, 1, 1, 2, 0, 3]])>"
            ]
          },
          "metadata": {},
          "execution_count": 106
        }
      ]
    },
    {
      "cell_type": "code",
      "source": [
        "diferencias_ponderadas = diferencias / (ranking_real + 1e-7)\n",
        "diferencias_ponderadas.numpy()"
      ],
      "metadata": {
        "colab": {
          "base_uri": "https://localhost:8080/"
        },
        "id": "A7W6FpSKjW_I",
        "outputId": "952b8984-497f-40d7-e7fa-783f3fdcb7fd"
      },
      "execution_count": 107,
      "outputs": [
        {
          "output_type": "execute_result",
          "data": {
            "text/plain": [
              "array([[0.83333333, 0.33333333, 0.5       , 0.5       , 0.        ,\n",
              "        3.        ]])"
            ]
          },
          "metadata": {},
          "execution_count": 107
        }
      ]
    },
    {
      "cell_type": "code",
      "source": [
        "perdida_total = tf.reduce_sum(diferencias_ponderadas)\n",
        "perdida_total"
      ],
      "metadata": {
        "colab": {
          "base_uri": "https://localhost:8080/"
        },
        "id": "dJtwpW4Gjk1N",
        "outputId": "2daa171e-1d4e-4163-ff18-3eb7462d33a5"
      },
      "execution_count": 108,
      "outputs": [
        {
          "output_type": "execute_result",
          "data": {
            "text/plain": [
              "<tf.Tensor: shape=(), dtype=float64, numpy=5.166666666666667>"
            ]
          },
          "metadata": {},
          "execution_count": 108
        }
      ]
    },
    {
      "cell_type": "code",
      "source": [
        "perdida_listas(ranking_real, ranking_predicho)"
      ],
      "metadata": {
        "colab": {
          "base_uri": "https://localhost:8080/"
        },
        "id": "Eg2PgKzNkD_5",
        "outputId": "a990af23-217d-4d8c-e4d0-bde6517ab06b"
      },
      "execution_count": 109,
      "outputs": [
        {
          "output_type": "execute_result",
          "data": {
            "text/plain": [
              "<tf.Tensor: shape=(), dtype=float64, numpy=5.166666666666667>"
            ]
          },
          "metadata": {},
          "execution_count": 109
        }
      ]
    },
    {
      "cell_type": "code",
      "source": [],
      "metadata": {
        "id": "cCLxKKKToAEo"
      },
      "execution_count": 109,
      "outputs": []
    },
    {
      "cell_type": "markdown",
      "source": [
        "## inversa"
      ],
      "metadata": {
        "id": "9wF_hp9rwm7A"
      }
    },
    {
      "cell_type": "markdown",
      "source": [
        "castiga cuando los peores estan clasificados como mejores"
      ],
      "metadata": {
        "id": "pxSzRnJspr_E"
      }
    },
    {
      "cell_type": "code",
      "source": [
        "ranking_real, ranking_predicho"
      ],
      "metadata": {
        "colab": {
          "base_uri": "https://localhost:8080/"
        },
        "id": "6SneRl2Yp1Z2",
        "outputId": "5fe298f2-4bb6-4102-eb6a-fccaf0c4bee0"
      },
      "execution_count": 110,
      "outputs": [
        {
          "output_type": "execute_result",
          "data": {
            "text/plain": [
              "(array([[6, 3, 2, 4, 5, 1]]), array([[1, 2, 3, 6, 5, 4]]))"
            ]
          },
          "metadata": {},
          "execution_count": 110
        }
      ]
    },
    {
      "cell_type": "code",
      "source": [
        "diferencias = tf.abs(ranking_real - ranking_predicho)\n",
        "diferencias"
      ],
      "metadata": {
        "colab": {
          "base_uri": "https://localhost:8080/"
        },
        "id": "4ATJtcCMrSBj",
        "outputId": "8da44671-feb9-4c1a-eeaf-e67006fd0f91"
      },
      "execution_count": 111,
      "outputs": [
        {
          "output_type": "execute_result",
          "data": {
            "text/plain": [
              "<tf.Tensor: shape=(1, 6), dtype=int64, numpy=array([[5, 1, 1, 2, 0, 3]])>"
            ]
          },
          "metadata": {},
          "execution_count": 111
        }
      ]
    },
    {
      "cell_type": "code",
      "source": [
        "diferencias_ponderadas = diferencias / (ranking_predicho + 1e-7)\n",
        "diferencias_ponderadas.numpy()"
      ],
      "metadata": {
        "colab": {
          "base_uri": "https://localhost:8080/"
        },
        "id": "MDnG5JUHrT3S",
        "outputId": "5fa8f8f1-e07e-4271-ba6b-e3ee0eb1028f"
      },
      "execution_count": 112,
      "outputs": [
        {
          "output_type": "execute_result",
          "data": {
            "text/plain": [
              "array([[5.        , 0.5       , 0.33333333, 0.33333333, 0.        ,\n",
              "        0.75      ]])"
            ]
          },
          "metadata": {},
          "execution_count": 112
        }
      ]
    },
    {
      "cell_type": "code",
      "source": [
        "def perdida_listas(ranking_real, ranking_predicho):\n",
        "    ranking_real = tf.cast(ranking_real, tf.float32)\n",
        "    ranking_predicho = tf.cast(ranking_predicho, tf.float32)\n",
        "    diferencias = tf.abs(ranking_real - ranking_predicho)\n",
        "    diferencias_ponderadas = diferencias / (ranking_real + 0.01)  # Añadimos un pequeño número para evitar la división por cero\n",
        "    perdida_total = tf.reduce_sum(diferencias_ponderadas)\n",
        "    return perdida_total"
      ],
      "metadata": {
        "id": "PVG9qxGVzmXn"
      },
      "execution_count": 113,
      "outputs": []
    },
    {
      "cell_type": "code",
      "source": [
        "def loss_ranking(ranking_real, ranking_predicho):\n",
        "    ranking_real_float = tf.cast(ranking_real, tf.float32)\n",
        "    ranking_predicho = tf.cast(ranking_predicho, tf.float32)\n",
        "    diferencias = tf.abs(ranking_real_float - ranking_predicho)\n",
        "    diferencias_ponderadas = diferencias / (ranking_predicho + 0.01) # <<<<---------\n",
        "    perdida_total = tf.reduce_sum(diferencias_ponderadas)\n",
        "    return abs(perdida_total)"
      ],
      "metadata": {
        "id": "GcBQSjfjC4c3"
      },
      "execution_count": 114,
      "outputs": []
    },
    {
      "cell_type": "markdown",
      "source": [
        "----"
      ],
      "metadata": {
        "id": "liQGuGw9DnjG"
      }
    },
    {
      "cell_type": "code",
      "source": [
        "diferencias = tf.abs(np.array([1,2,3]) - np.array([10,2,3]))\n",
        "diferencias"
      ],
      "metadata": {
        "colab": {
          "base_uri": "https://localhost:8080/"
        },
        "id": "dwU0y80rMH6s",
        "outputId": "904e8ade-3849-4478-a353-59f3aaea94a2"
      },
      "execution_count": 115,
      "outputs": [
        {
          "output_type": "execute_result",
          "data": {
            "text/plain": [
              "<tf.Tensor: shape=(3,), dtype=int64, numpy=array([9, 0, 0])>"
            ]
          },
          "metadata": {},
          "execution_count": 115
        }
      ]
    },
    {
      "cell_type": "code",
      "source": [
        "diferencias_ponderadas = diferencias / ( np.array([1,2,3])  + 1e-7)\n",
        "diferencias_ponderadas.numpy()"
      ],
      "metadata": {
        "colab": {
          "base_uri": "https://localhost:8080/"
        },
        "id": "mEEc27uJMLpY",
        "outputId": "855c56c8-52fa-4a69-9a8e-69f1af204ecf"
      },
      "execution_count": 116,
      "outputs": [
        {
          "output_type": "execute_result",
          "data": {
            "text/plain": [
              "array([9., 0., 0.])"
            ]
          },
          "metadata": {},
          "execution_count": 116
        }
      ]
    },
    {
      "cell_type": "code",
      "source": [
        "loss_ranking(\n",
        "    np.array([1,2,3]),\n",
        "    np.array([1,2,10])\n",
        "    )"
      ],
      "metadata": {
        "id": "UsfYcMa2DQNb",
        "outputId": "e6166bea-b295-454a-d968-4b2aac23cf52",
        "colab": {
          "base_uri": "https://localhost:8080/"
        }
      },
      "execution_count": 117,
      "outputs": [
        {
          "output_type": "execute_result",
          "data": {
            "text/plain": [
              "<tf.Tensor: shape=(), dtype=float32, numpy=0.6993007>"
            ]
          },
          "metadata": {},
          "execution_count": 117
        }
      ]
    },
    {
      "cell_type": "code",
      "source": [
        "diferencias = tf.abs(np.array([1,2,3]) - np.array([10,2,3]))\n",
        "diferencias"
      ],
      "metadata": {
        "colab": {
          "base_uri": "https://localhost:8080/"
        },
        "id": "m0_B4lGWL6Vz",
        "outputId": "949435ba-4e49-40a2-963e-fc58568e821c"
      },
      "execution_count": 118,
      "outputs": [
        {
          "output_type": "execute_result",
          "data": {
            "text/plain": [
              "<tf.Tensor: shape=(3,), dtype=int64, numpy=array([9, 0, 0])>"
            ]
          },
          "metadata": {},
          "execution_count": 118
        }
      ]
    },
    {
      "cell_type": "code",
      "source": [
        "diferencias_ponderadas = diferencias / (np.array([10,2,3]) + 1e-7)\n",
        "diferencias_ponderadas.numpy()"
      ],
      "metadata": {
        "colab": {
          "base_uri": "https://localhost:8080/"
        },
        "id": "yWu-0DYxL9Mt",
        "outputId": "d3620be4-aee0-45b4-868f-58603cddb32a"
      },
      "execution_count": 119,
      "outputs": [
        {
          "output_type": "execute_result",
          "data": {
            "text/plain": [
              "array([0.9, 0. , 0. ])"
            ]
          },
          "metadata": {},
          "execution_count": 119
        }
      ]
    },
    {
      "cell_type": "code",
      "source": [
        "loss_ranking(\n",
        "    np.array([1,2,3]),\n",
        "    np.array([10,2,3])\n",
        "    )"
      ],
      "metadata": {
        "id": "lv_vV-oPDh-o",
        "outputId": "15b95c56-d936-4ca0-fc8a-24a76d271d84",
        "colab": {
          "base_uri": "https://localhost:8080/"
        }
      },
      "execution_count": 120,
      "outputs": [
        {
          "output_type": "execute_result",
          "data": {
            "text/plain": [
              "<tf.Tensor: shape=(), dtype=float32, numpy=0.8991009>"
            ]
          },
          "metadata": {},
          "execution_count": 120
        }
      ]
    },
    {
      "cell_type": "code",
      "source": [
        "perdida_listas(\n",
        "    np.array([1,2,3]),\n",
        "    np.array([1,2,10])\n",
        "    )"
      ],
      "metadata": {
        "id": "x0o5EJboDlZM",
        "outputId": "7ce38c71-bd96-4b28-c4e9-6057b4eb22ba",
        "colab": {
          "base_uri": "https://localhost:8080/"
        }
      },
      "execution_count": 121,
      "outputs": [
        {
          "output_type": "execute_result",
          "data": {
            "text/plain": [
              "<tf.Tensor: shape=(), dtype=float32, numpy=2.3255813>"
            ]
          },
          "metadata": {},
          "execution_count": 121
        }
      ]
    },
    {
      "cell_type": "code",
      "source": [
        "perdida_listas(\n",
        "    np.array([1,2,3]),\n",
        "    np.array([10,2,3])\n",
        "    )"
      ],
      "metadata": {
        "id": "36CL3zrJDrIq",
        "outputId": "e4f07ff6-56ee-4d02-ccb7-aeb60dc589eb",
        "colab": {
          "base_uri": "https://localhost:8080/"
        }
      },
      "execution_count": 122,
      "outputs": [
        {
          "output_type": "execute_result",
          "data": {
            "text/plain": [
              "<tf.Tensor: shape=(), dtype=float32, numpy=8.910892>"
            ]
          },
          "metadata": {},
          "execution_count": 122
        }
      ]
    },
    {
      "cell_type": "code",
      "source": [
        "tf.keras.metrics.mean_squared_error(\n",
        "    np.array([1,2,3]),\n",
        "    np.array([10,2,3])\n",
        ")"
      ],
      "metadata": {
        "id": "SbvPQZ6iEeSH",
        "outputId": "504cd605-085a-49ef-914e-820de7d1f663",
        "colab": {
          "base_uri": "https://localhost:8080/"
        }
      },
      "execution_count": 123,
      "outputs": [
        {
          "output_type": "execute_result",
          "data": {
            "text/plain": [
              "<tf.Tensor: shape=(), dtype=int64, numpy=27>"
            ]
          },
          "metadata": {},
          "execution_count": 123
        }
      ]
    },
    {
      "cell_type": "code",
      "source": [
        "tf.keras.metrics.mean_squared_error(\n",
        "    np.array([1,2,3]),\n",
        "    np.array([1,2,10])\n",
        ")"
      ],
      "metadata": {
        "id": "DTqV0OwKEnov",
        "outputId": "07833880-f941-4415-84e6-e3eec3ebb7ed",
        "colab": {
          "base_uri": "https://localhost:8080/"
        }
      },
      "execution_count": 124,
      "outputs": [
        {
          "output_type": "execute_result",
          "data": {
            "text/plain": [
              "<tf.Tensor: shape=(), dtype=int64, numpy=16>"
            ]
          },
          "metadata": {},
          "execution_count": 124
        }
      ]
    },
    {
      "cell_type": "markdown",
      "source": [],
      "metadata": {
        "id": "VOFZ1If1OAyZ"
      }
    },
    {
      "cell_type": "markdown",
      "source": [],
      "metadata": {
        "id": "l7v4k-Z0OA14"
      }
    },
    {
      "cell_type": "markdown",
      "source": [],
      "metadata": {
        "id": "HvnY9R15OA5U"
      }
    },
    {
      "cell_type": "markdown",
      "source": [],
      "metadata": {
        "id": "o0cEX2hUOA9g"
      }
    },
    {
      "cell_type": "markdown",
      "source": [],
      "metadata": {
        "id": "5AVsBeLYOBCD"
      }
    },
    {
      "cell_type": "markdown",
      "source": [
        "# ANALISIS FUNCION DE PERDIDA"
      ],
      "metadata": {
        "id": "2IT9Y1bOOBEd"
      }
    },
    {
      "cell_type": "code",
      "source": [
        "def loss_ranking(ranking_real, ranking_predicho):\n",
        "    ranking_real_float = tf.cast(ranking_real, tf.float32)\n",
        "    ranking_predicho = tf.cast(ranking_predicho, tf.float32)\n",
        "    diferencias = tf.abs(ranking_real_float - ranking_predicho)\n",
        "    diferencias_ponderadas = diferencias / (ranking_predicho + 0.01) # <<<<---------\n",
        "    perdida_total = tf.reduce_sum(diferencias_ponderadas)\n",
        "    return abs(perdida_total)\n",
        "\n",
        "def perdida_listas(ranking_real, ranking_predicho):\n",
        "    ranking_real = tf.cast(ranking_real, tf.float32)\n",
        "    ranking_predicho = tf.cast(ranking_predicho, tf.float32)\n",
        "    diferencias = tf.abs(ranking_real - ranking_predicho)\n",
        "    diferencias_ponderadas = diferencias / (ranking_real + 0.01)  # Añadimos un pequeño número para evitar la división por cero\n",
        "    perdida_total = tf.reduce_sum(diferencias_ponderadas)\n",
        "    return perdida_total\n",
        "\n",
        "def diferencia_listas(ranking_real, ranking_predicho):\n",
        "    ranking_real = tf.cast(ranking_real, tf.float32)\n",
        "    ranking_predicho = tf.cast(ranking_predicho, tf.float32)\n",
        "    diferencias = tf.abs(ranking_real - ranking_predicho)\n",
        "    perdida_total = tf.reduce_sum(diferencias)\n",
        "    \"\"\"\n",
        "    Una opción podría ser cambiar tf.reduce_sum() por tf.reduce_mean() para tomar el promedio de las diferencias en lugar de la suma. Esto hará que la pérdida sea independiente del tamaño del lote de datos.\n",
        "    \"\"\"\n",
        "    return perdida_total\n",
        "\n",
        "def mse(y_true, y_pred):\n",
        "    y_true = tf.cast(y_true, tf.float32)\n",
        "    y_pred = tf.cast(y_pred, tf.float32)\n",
        "    squared_differences = tf.square(y_true - y_pred)\n",
        "    mean_squared_error = tf.reduce_mean(squared_differences)\n",
        "    return mean_squared_error\n",
        "\n",
        "def mae(y_true, y_pred):\n",
        "    y_true = tf.cast(y_true, tf.float32)\n",
        "    y_pred = tf.cast(y_pred, tf.float32)\n",
        "    absolute_differences = tf.abs(y_true - y_pred)\n",
        "    mean_absolute_error = tf.reduce_mean(absolute_differences)\n",
        "    return mean_absolute_error\n",
        "\n",
        "def ndcg(y_true, y_pred):\n",
        "    # Ordenar los índices de y_true y y_pred en orden descendente\n",
        "    true_sorted_indices = tf.argsort(y_true, direction='ASCENDING')\n",
        "    pred_sorted_indices = tf.argsort(y_pred, direction='ASCENDING')\n",
        "\n",
        "    # Obtener los rangos de clasificación\n",
        "    true_ranks = tf.argsort(true_sorted_indices)\n",
        "    pred_ranks = tf.argsort(pred_sorted_indices)\n",
        "\n",
        "    # Calcular el NDCG\n",
        "    ndcg = tf.math.reduce_sum((2**y_true - 1) / tf.math.log1p(tf.cast(pred_ranks, tf.float32) + 1))\n",
        "    ideal_ndcg = tf.math.reduce_sum((2**y_true - 1) / tf.math.log1p(tf.cast(true_ranks, tf.float32) + 1))\n",
        "\n",
        "    # Normalizar por el valor ideal\n",
        "    ndcg = ndcg / ideal_ndcg\n",
        "\n",
        "    return ndcg\n",
        "\n",
        "from keras import backend as K\n",
        "def custom_loss(y_true, y_pred):\n",
        "    weights = K.abs(1. / K.cast(y_true, K.floatx()))  # Mayor peso a rangos más altos\n",
        "    return K.mean(weights * K.square(y_true - y_pred), axis=-1)\n",
        "\n",
        "\n",
        "def top_is_target(y_true, y_pred):\n",
        "  w = np.arange(len(y_true))\n",
        "  w = w[::-1] + 1\n",
        "  w[:10] = w[:10] * 1.3\n",
        "  w = K.cast(w, 'float32')\n",
        "\n",
        "  r = K.cast(y_true, 'float32')\n",
        "  r_pred = K.cast(y_pred, 'float32')\n",
        "\n",
        "  return K.sum(w * K.square(r - r_pred), axis=-1)\n",
        "\n"
      ],
      "metadata": {
        "id": "g6aRy3A7OIgD"
      },
      "execution_count": 125,
      "outputs": []
    },
    {
      "cell_type": "code",
      "source": [
        "r_pred = np.array([[18, 28,  3, 23, 29, 20, 15, 21, 22, 27, 10, 14, 13,  6, 19, 11,\n",
        "         5, 25,  4, 30,  7, 12, 17, 26,  9,  2,  0, 16,  8, 24,  1]])\n",
        "\n",
        "r_real = np.array([25, 19, 13, 17, 16, 27, 29, 30, 15,  0,  3, 22,  1,  8,  2, 18, 10,\n",
        "        4, 20,  6, 12, 26,  7, 14, 24, 23, 21, 11, 28,  5,  9])\n",
        "\n",
        "r_real = tf.cast(r_real, tf.float32)\n",
        "r_pred = tf.cast(r_pred, tf.float32)"
      ],
      "metadata": {
        "id": "vrNfOX3UOBTA"
      },
      "execution_count": 126,
      "outputs": []
    },
    {
      "cell_type": "code",
      "source": [
        "diferencias = tf.abs(r_pred - r_real)\n",
        "diferencias"
      ],
      "metadata": {
        "colab": {
          "base_uri": "https://localhost:8080/"
        },
        "id": "Gjb4GbIEOLiy",
        "outputId": "6c6f8416-f24f-468b-c44c-f8b4e40c96fa"
      },
      "execution_count": 127,
      "outputs": [
        {
          "output_type": "execute_result",
          "data": {
            "text/plain": [
              "<tf.Tensor: shape=(1, 31), dtype=float32, numpy=\n",
              "array([[ 7.,  9., 10.,  6., 13.,  7., 14.,  9.,  7., 27.,  7.,  8., 12.,\n",
              "         2., 17.,  7.,  5., 21., 16., 24.,  5., 14., 10., 12., 15., 21.,\n",
              "        21.,  5., 20., 19.,  8.]], dtype=float32)>"
            ]
          },
          "metadata": {},
          "execution_count": 127
        }
      ]
    },
    {
      "cell_type": "code",
      "source": [
        "(r_pred + 0.1)"
      ],
      "metadata": {
        "colab": {
          "base_uri": "https://localhost:8080/"
        },
        "id": "oRX5Q9kjPM0A",
        "outputId": "316c4850-ba18-4427-875d-54e50935d7f3"
      },
      "execution_count": 128,
      "outputs": [
        {
          "output_type": "execute_result",
          "data": {
            "text/plain": [
              "<tf.Tensor: shape=(1, 31), dtype=float32, numpy=\n",
              "array([[18.1, 28.1,  3.1, 23.1, 29.1, 20.1, 15.1, 21.1, 22.1, 27.1, 10.1,\n",
              "        14.1, 13.1,  6.1, 19.1, 11.1,  5.1, 25.1,  4.1, 30.1,  7.1, 12.1,\n",
              "        17.1, 26.1,  9.1,  2.1,  0.1, 16.1,  8.1, 24.1,  1.1]],\n",
              "      dtype=float32)>"
            ]
          },
          "metadata": {},
          "execution_count": 128
        }
      ]
    },
    {
      "cell_type": "code",
      "source": [
        "diferencias_ponderadas = diferencias / (r_pred + 0.0001)\n",
        "diferencias_ponderadas"
      ],
      "metadata": {
        "colab": {
          "base_uri": "https://localhost:8080/"
        },
        "id": "hDcWQOOaOTZJ",
        "outputId": "148ea2e4-f498-4d8c-b522-be2ae7a49d6e"
      },
      "execution_count": 129,
      "outputs": [
        {
          "output_type": "execute_result",
          "data": {
            "text/plain": [
              "<tf.Tensor: shape=(1, 31), dtype=float32, numpy=\n",
              "array([[3.88886750e-01, 3.21427435e-01, 3.33322239e+00, 2.60868430e-01,\n",
              "        4.48274314e-01, 3.49998266e-01, 9.33327079e-01, 4.28569406e-01,\n",
              "        3.18180382e-01, 9.99996305e-01, 6.99993014e-01, 5.71424484e-01,\n",
              "        9.23069835e-01, 3.33327770e-01, 8.94732177e-01, 6.36357844e-01,\n",
              "        9.99979973e-01, 8.39996696e-01, 3.99989986e+00, 7.99997330e-01,\n",
              "        7.14275479e-01, 1.16665697e+00, 5.88231862e-01, 4.61536705e-01,\n",
              "        1.66664815e+00, 1.04994755e+01, 2.10000000e+05, 3.12498063e-01,\n",
              "        2.49996877e+00, 7.91663408e-01, 7.99919987e+00]], dtype=float32)>"
            ]
          },
          "metadata": {},
          "execution_count": 129
        }
      ]
    },
    {
      "cell_type": "code",
      "source": [
        "perdida_total = tf.reduce_sum(diferencias_ponderadas)\n",
        "perdida_total"
      ],
      "metadata": {
        "colab": {
          "base_uri": "https://localhost:8080/"
        },
        "id": "3vGCRIMrOaGc",
        "outputId": "f3af8a0f-080e-4c9d-9dbd-ffac00f36330"
      },
      "execution_count": 130,
      "outputs": [
        {
          "output_type": "execute_result",
          "data": {
            "text/plain": [
              "<tf.Tensor: shape=(), dtype=float32, numpy=210045.19>"
            ]
          },
          "metadata": {},
          "execution_count": 130
        }
      ]
    },
    {
      "cell_type": "code",
      "source": [],
      "metadata": {
        "id": "4j7fbniBxnO5"
      },
      "execution_count": 130,
      "outputs": []
    },
    {
      "cell_type": "code",
      "source": [],
      "metadata": {
        "id": "Q_S1ioeMxnaB"
      },
      "execution_count": 130,
      "outputs": []
    },
    {
      "cell_type": "code",
      "source": [],
      "metadata": {
        "id": "5CtagBeGxnmL"
      },
      "execution_count": 130,
      "outputs": []
    },
    {
      "cell_type": "code",
      "source": [
        "import matplotlib.pyplot as plt\n",
        "\n",
        "ranking = np.arange(35)\n",
        "\n",
        "ranking = 2*(ranking - min(ranking)) / (max(ranking) - min(ranking)) - 1\n",
        "print(ranking)\n",
        "loss_loss_ranking = []\n",
        "loss_perdida_listas = []\n",
        "loss_mse = []\n",
        "loss_diferencia_listas = []\n",
        "loss_mae = []\n",
        "loss_ndcg = []\n",
        "loss_custom_loss = []\n",
        "loss_top_is_target = []\n",
        "\n",
        "for i in range(len(ranking)-1) :\n",
        "  #pred_ranking = np.roll(ranking, -i-1)\n",
        "  pred_ranking = np.roll(ranking, i+1)\n",
        "  print(pred_ranking)\n",
        "  loss = loss_ranking(ranking, pred_ranking )\n",
        "  loss_loss_ranking.append(loss)\n",
        "  print(\"loss ranking: \" + str(loss))\n",
        "  loss = perdida_listas(ranking, pred_ranking )\n",
        "  loss_perdida_listas.append(loss)\n",
        "  print(\"perdida_listas: \" + str(loss))\n",
        "  loss = mse(ranking, pred_ranking )\n",
        "  loss_mse.append(loss)\n",
        "  print(\"mse: \" + str(loss))\n",
        "  loss = diferencia_listas(ranking, pred_ranking )\n",
        "  loss_diferencia_listas.append(loss)\n",
        "  print(\"diferencia_listas: \" + str(loss))\n",
        "  loss = mae(ranking, pred_ranking )\n",
        "  loss_mae.append(loss)\n",
        "  print(\"mae: \" + str(loss))\n",
        "  loss = ndcg(ranking, pred_ranking )\n",
        "  loss_ndcg.append(loss)\n",
        "  print(\"loss_ndcg: \" + str(loss))\n",
        "  loss = ndcg(ranking, pred_ranking )\n",
        "  loss_custom_loss.append(loss)\n",
        "  print(\"loss_custom_loss: \" + str(loss))\n",
        "  loss = top_is_target(ranking, pred_ranking )\n",
        "  loss_top_is_target.append(loss)\n",
        "  print(\"top_is_target: \" + str(loss))\n",
        "\n",
        "loss_loss_ranking = np.array(loss_loss_ranking)\n",
        "loss_perdida_listas = np.array(loss_perdida_listas)\n",
        "loss_mse = np.array(loss_mse)\n",
        "loss_diferencia_listas = np.array(loss_diferencia_listas)\n",
        "loss_mae = np.array(loss_mae)\n",
        "loss_ndcg = np.array(loss_ndcg)\n",
        "loss_custom_loss = np.array(loss_custom_loss)\n",
        "loss_top_is_target = np.array(loss_top_is_target)\n",
        "\n",
        "plt.figure()\n",
        "plt.plot(loss_loss_ranking / loss_loss_ranking.max(), 'r');\n",
        "plt.plot(loss_perdida_listas / loss_perdida_listas.max(), 'g');\n",
        "plt.plot(loss_mse / loss_mse.max(), 'b');\n",
        "plt.plot(loss_diferencia_listas / loss_diferencia_listas.max(), 'y');\n",
        "plt.plot(loss_mae / loss_mae.max(), 'p');\n",
        "plt.plot(loss_ndcg / loss_ndcg.max(), 'brown');\n",
        "plt.plot(loss_custom_loss / loss_custom_loss.max(), 'r');\n",
        "plt.plot(loss_top_is_target / loss_top_is_target.max(), 'g');\n",
        "print(\"---------------------\")\n",
        "\n",
        "loss_loss_ranking = []\n",
        "loss_perdida_listas = []\n",
        "loss_mse = []\n",
        "loss_diferencia_listas = []\n",
        "loss_mae = []\n",
        "loss_ndcg = []\n",
        "loss_custom_loss = []\n",
        "loss_top_is_target = []\n",
        "\n",
        "for i in range(len(ranking)-1):\n",
        "  pred_ranking = np.roll(ranking, -i-1)\n",
        "  #pred_ranking = np.roll(ranking, i+1)\n",
        "  print(pred_ranking)\n",
        "  loss = loss_ranking(ranking, pred_ranking )\n",
        "  loss_loss_ranking.append(loss)\n",
        "  print(\"loss ranking: \" + str(loss))\n",
        "  loss = perdida_listas(ranking, pred_ranking )\n",
        "  loss_perdida_listas.append(loss)\n",
        "  print(\"perdida_listas: \" + str(loss))\n",
        "  loss = mse(ranking, pred_ranking )\n",
        "  loss_mse.append(loss)\n",
        "  print(\"mse: \" + str(loss))\n",
        "  loss = diferencia_listas(ranking, pred_ranking )\n",
        "  loss_diferencia_listas.append(loss)\n",
        "  print(\"diferencia_listas: \" + str(loss))\n",
        "  loss = mae(ranking, pred_ranking )\n",
        "  loss_mae.append(loss)\n",
        "  print(\"mae: \" + str(loss))\n",
        "  loss = ndcg(ranking, pred_ranking )\n",
        "  loss_ndcg.append(loss)\n",
        "  print(\"loss_ndcg: \" + str(loss))\n",
        "  loss = ndcg(ranking, pred_ranking )\n",
        "  loss_custom_loss.append(loss)\n",
        "  print(\"loss_custom_loss: \" + str(loss))\n",
        "  loss = top_is_target(ranking, pred_ranking )\n",
        "  loss_top_is_target.append(loss)\n",
        "  print(\"top_is_target: \" + str(loss))\n",
        "\n",
        "plt.figure()\n",
        "loss_loss_ranking = np.array(loss_loss_ranking)\n",
        "loss_perdida_listas = np.array(loss_perdida_listas)\n",
        "loss_mse = np.array(loss_mse)\n",
        "loss_diferencia_listas = np.array(loss_diferencia_listas)\n",
        "loss_mae = np.array(loss_mae)\n",
        "loss_ndcg = np.array(loss_ndcg)\n",
        "loss_custom_loss = np.array(loss_custom_loss)\n",
        "loss_top_is_target = np.array(loss_top_is_target)\n",
        "\n",
        "plt.plot(loss_loss_ranking / loss_loss_ranking.max(), 'r');\n",
        "plt.plot(loss_perdida_listas / loss_perdida_listas.max(), 'g');\n",
        "plt.plot(loss_mse / loss_mse.max(), 'b');\n",
        "plt.plot(loss_diferencia_listas / loss_diferencia_listas.max(), 'y');\n",
        "plt.plot(loss_mae / loss_mae.max(), 'p');\n",
        "plt.plot(loss_ndcg / loss_ndcg.max(), 'brown');\n",
        "plt.plot(loss_custom_loss / loss_custom_loss.max(), 'r');\n",
        "plt.plot(loss_top_is_target / loss_top_is_target.max(), 'g');\n",
        "\n"
      ],
      "metadata": {
        "colab": {
          "base_uri": "https://localhost:8080/",
          "height": 1000
        },
        "id": "Ud84xlb8yC_T",
        "outputId": "e0066211-4fc8-479c-fffe-e5ab9d956633"
      },
      "execution_count": 131,
      "outputs": [
        {
          "output_type": "stream",
          "name": "stdout",
          "text": [
            "[-1.         -0.94117647 -0.88235294 -0.82352941 -0.76470588 -0.70588235\n",
            " -0.64705882 -0.58823529 -0.52941176 -0.47058824 -0.41176471 -0.35294118\n",
            " -0.29411765 -0.23529412 -0.17647059 -0.11764706 -0.05882353  0.\n",
            "  0.05882353  0.11764706  0.17647059  0.23529412  0.29411765  0.35294118\n",
            "  0.41176471  0.47058824  0.52941176  0.58823529  0.64705882  0.70588235\n",
            "  0.76470588  0.82352941  0.88235294  0.94117647  1.        ]\n",
            "[ 1.         -1.         -0.94117647 -0.88235294 -0.82352941 -0.76470588\n",
            " -0.70588235 -0.64705882 -0.58823529 -0.52941176 -0.47058824 -0.41176471\n",
            " -0.35294118 -0.29411765 -0.23529412 -0.17647059 -0.11764706 -0.05882353\n",
            "  0.          0.05882353  0.11764706  0.17647059  0.23529412  0.29411765\n",
            "  0.35294118  0.41176471  0.47058824  0.52941176  0.58823529  0.64705882\n",
            "  0.70588235  0.76470588  0.82352941  0.88235294  0.94117647]\n",
            "loss ranking: tf.Tensor(7.2535243, shape=(), dtype=float32)\n",
            "perdida_listas: tf.Tensor(3.3707833, shape=(), dtype=float32)\n",
            "mse: tf.Tensor(0.117647074, shape=(), dtype=float32)\n",
            "diferencia_listas: tf.Tensor(4.0, shape=(), dtype=float32)\n",
            "mae: tf.Tensor(0.114285715, shape=(), dtype=float32)\n",
            "loss_ndcg: tf.Tensor(0.8344056, shape=(), dtype=float32)\n",
            "loss_custom_loss: tf.Tensor(0.8344056, shape=(), dtype=float32)\n",
            "top_is_target: tf.Tensor(182.32527, shape=(), dtype=float32)\n",
            "[ 0.94117647  1.         -1.         -0.94117647 -0.88235294 -0.82352941\n",
            " -0.76470588 -0.70588235 -0.64705882 -0.58823529 -0.52941176 -0.47058824\n",
            " -0.41176471 -0.35294118 -0.29411765 -0.23529412 -0.17647059 -0.11764706\n",
            " -0.05882353  0.          0.05882353  0.11764706  0.17647059  0.23529412\n",
            "  0.29411765  0.35294118  0.41176471  0.47058824  0.52941176  0.58823529\n",
            "  0.64705882  0.70588235  0.76470588  0.82352941  0.88235294]\n",
            "loss ranking: tf.Tensor(14.385739, shape=(), dtype=float32)\n",
            "perdida_listas: tf.Tensor(6.862879, shape=(), dtype=float32)\n",
            "mse: tf.Tensor(0.2283737, shape=(), dtype=float32)\n",
            "diferencia_listas: tf.Tensor(7.764706, shape=(), dtype=float32)\n",
            "mae: tf.Tensor(0.22184874, shape=(), dtype=float32)\n",
            "loss_ndcg: tf.Tensor(0.66625607, shape=(), dtype=float32)\n",
            "loss_custom_loss: tf.Tensor(0.66625607, shape=(), dtype=float32)\n",
            "top_is_target: tf.Tensor(344.0588, shape=(), dtype=float32)\n",
            "[ 0.88235294  0.94117647  1.         -1.         -0.94117647 -0.88235294\n",
            " -0.82352941 -0.76470588 -0.70588235 -0.64705882 -0.58823529 -0.52941176\n",
            " -0.47058824 -0.41176471 -0.35294118 -0.29411765 -0.23529412 -0.17647059\n",
            " -0.11764706 -0.05882353  0.          0.05882353  0.11764706  0.17647059\n",
            "  0.23529412  0.29411765  0.35294118  0.41176471  0.47058824  0.52941176\n",
            "  0.58823529  0.64705882  0.70588235  0.76470588  0.82352941]\n",
            "loss ranking: tf.Tensor(21.388807, shape=(), dtype=float32)\n",
            "perdida_listas: tf.Tensor(10.484128, shape=(), dtype=float32)\n",
            "mse: tf.Tensor(0.3321799, shape=(), dtype=float32)\n",
            "diferencia_listas: tf.Tensor(11.294117, shape=(), dtype=float32)\n",
            "mae: tf.Tensor(0.32268906, shape=(), dtype=float32)\n",
            "loss_ndcg: tf.Tensor(0.49564347, shape=(), dtype=float32)\n",
            "loss_custom_loss: tf.Tensor(0.49564347, shape=(), dtype=float32)\n",
            "top_is_target: tf.Tensor(482.41525, shape=(), dtype=float32)\n",
            "[ 0.82352941  0.88235294  0.94117647  1.         -1.         -0.94117647\n",
            " -0.88235294 -0.82352941 -0.76470588 -0.70588235 -0.64705882 -0.58823529\n",
            " -0.52941176 -0.47058824 -0.41176471 -0.35294118 -0.29411765 -0.23529412\n",
            " -0.17647059 -0.11764706 -0.05882353  0.          0.05882353  0.11764706\n",
            "  0.17647059  0.23529412  0.29411765  0.35294118  0.41176471  0.47058824\n",
            "  0.52941176  0.58823529  0.64705882  0.70588235  0.76470588]\n",
            "loss ranking: tf.Tensor(28.253801, shape=(), dtype=float32)\n",
            "perdida_listas: tf.Tensor(14.243457, shape=(), dtype=float32)\n",
            "mse: tf.Tensor(0.4290658, shape=(), dtype=float32)\n",
            "diferencia_listas: tf.Tensor(14.588235, shape=(), dtype=float32)\n",
            "mae: tf.Tensor(0.4168067, shape=(), dtype=float32)\n",
            "loss_ndcg: tf.Tensor(0.32267892, shape=(), dtype=float32)\n",
            "loss_custom_loss: tf.Tensor(0.32267892, shape=(), dtype=float32)\n",
            "top_is_target: tf.Tensor(602.1177, shape=(), dtype=float32)\n",
            "[ 0.76470588  0.82352941  0.88235294  0.94117647  1.         -1.\n",
            " -0.94117647 -0.88235294 -0.82352941 -0.76470588 -0.70588235 -0.64705882\n",
            " -0.58823529 -0.52941176 -0.47058824 -0.41176471 -0.35294118 -0.29411765\n",
            " -0.23529412 -0.17647059 -0.11764706 -0.05882353  0.          0.05882353\n",
            "  0.11764706  0.17647059  0.23529412  0.29411765  0.35294118  0.41176471\n",
            "  0.47058824  0.52941176  0.58823529  0.64705882  0.70588235]\n",
            "loss ranking: tf.Tensor(34.97047, shape=(), dtype=float32)\n",
            "perdida_listas: tf.Tensor(18.151121, shape=(), dtype=float32)\n",
            "mse: tf.Tensor(0.51903117, shape=(), dtype=float32)\n",
            "diferencia_listas: tf.Tensor(17.647058, shape=(), dtype=float32)\n",
            "mae: tf.Tensor(0.50420165, shape=(), dtype=float32)\n",
            "loss_ndcg: tf.Tensor(0.14749697, shape=(), dtype=float32)\n",
            "loss_custom_loss: tf.Tensor(0.14749697, shape=(), dtype=float32)\n",
            "top_is_target: tf.Tensor(703.89276, shape=(), dtype=float32)\n",
            "[ 0.70588235  0.76470588  0.82352941  0.88235294  0.94117647  1.\n",
            " -1.         -0.94117647 -0.88235294 -0.82352941 -0.76470588 -0.70588235\n",
            " -0.64705882 -0.58823529 -0.52941176 -0.47058824 -0.41176471 -0.35294118\n",
            " -0.29411765 -0.23529412 -0.17647059 -0.11764706 -0.05882353  0.\n",
            "  0.05882353  0.11764706  0.17647059  0.23529412  0.29411765  0.35294118\n",
            "  0.41176471  0.47058824  0.52941176  0.58823529  0.64705882]\n",
            "loss ranking: tf.Tensor(41.52692, shape=(), dtype=float32)\n",
            "perdida_listas: tf.Tensor(22.219019, shape=(), dtype=float32)\n",
            "mse: tf.Tensor(0.6020761, shape=(), dtype=float32)\n",
            "diferencia_listas: tf.Tensor(20.470589, shape=(), dtype=float32)\n",
            "mae: tf.Tensor(0.584874, shape=(), dtype=float32)\n",
            "loss_ndcg: tf.Tensor(-0.029743964, shape=(), dtype=float32)\n",
            "loss_custom_loss: tf.Tensor(-0.029743964, shape=(), dtype=float32)\n",
            "top_is_target: tf.Tensor(788.4671, shape=(), dtype=float32)\n",
            "[ 0.64705882  0.70588235  0.76470588  0.82352941  0.88235294  0.94117647\n",
            "  1.         -1.         -0.94117647 -0.88235294 -0.82352941 -0.76470588\n",
            " -0.70588235 -0.64705882 -0.58823529 -0.52941176 -0.47058824 -0.41176471\n",
            " -0.35294118 -0.29411765 -0.23529412 -0.17647059 -0.11764706 -0.05882353\n",
            "  0.          0.05882353  0.11764706  0.17647059  0.23529412  0.29411765\n",
            "  0.35294118  0.41176471  0.47058824  0.52941176  0.58823529]\n",
            "loss ranking: tf.Tensor(47.909172, shape=(), dtype=float32)\n",
            "perdida_listas: tf.Tensor(26.46112, shape=(), dtype=float32)\n",
            "mse: tf.Tensor(0.6782007, shape=(), dtype=float32)\n",
            "diferencia_listas: tf.Tensor(23.058823, shape=(), dtype=float32)\n",
            "mae: tf.Tensor(0.6588235, shape=(), dtype=float32)\n",
            "loss_ndcg: tf.Tensor(-0.20885476, shape=(), dtype=float32)\n",
            "loss_custom_loss: tf.Tensor(-0.20885476, shape=(), dtype=float32)\n",
            "top_is_target: tf.Tensor(854.02423, shape=(), dtype=float32)\n",
            "[ 0.58823529  0.64705882  0.70588235  0.76470588  0.82352941  0.88235294\n",
            "  0.94117647  1.         -1.         -0.94117647 -0.88235294 -0.82352941\n",
            " -0.76470588 -0.70588235 -0.64705882 -0.58823529 -0.52941176 -0.47058824\n",
            " -0.41176471 -0.35294118 -0.29411765 -0.23529412 -0.17647059 -0.11764706\n",
            " -0.05882353  0.          0.05882353  0.11764706  0.17647059  0.23529412\n",
            "  0.29411765  0.35294118  0.41176471  0.47058824  0.52941176]\n",
            "loss ranking: tf.Tensor(54.10058, shape=(), dtype=float32)\n",
            "perdida_listas: tf.Tensor(30.894098, shape=(), dtype=float32)\n",
            "mse: tf.Tensor(0.74740493, shape=(), dtype=float32)\n",
            "diferencia_listas: tf.Tensor(25.411764, shape=(), dtype=float32)\n",
            "mae: tf.Tensor(0.7260504, shape=(), dtype=float32)\n",
            "loss_ndcg: tf.Tensor(-0.38961408, shape=(), dtype=float32)\n",
            "loss_custom_loss: tf.Tensor(-0.38961408, shape=(), dtype=float32)\n",
            "top_is_target: tf.Tensor(904.3185, shape=(), dtype=float32)\n",
            "[ 0.52941176  0.58823529  0.64705882  0.70588235  0.76470588  0.82352941\n",
            "  0.88235294  0.94117647  1.         -1.         -0.94117647 -0.88235294\n",
            " -0.82352941 -0.76470588 -0.70588235 -0.64705882 -0.58823529 -0.52941176\n",
            " -0.47058824 -0.41176471 -0.35294118 -0.29411765 -0.23529412 -0.17647059\n",
            " -0.11764706 -0.05882353  0.          0.05882353  0.11764706  0.17647059\n",
            "  0.23529412  0.29411765  0.35294118  0.41176471  0.47058824]\n",
            "loss ranking: tf.Tensor(60.080963, shape=(), dtype=float32)\n",
            "perdida_listas: tf.Tensor(35.538147, shape=(), dtype=float32)\n",
            "mse: tf.Tensor(0.8096885, shape=(), dtype=float32)\n",
            "diferencia_listas: tf.Tensor(27.529413, shape=(), dtype=float32)\n",
            "mae: tf.Tensor(0.78655463, shape=(), dtype=float32)\n",
            "loss_ndcg: tf.Tensor(-0.5717622, shape=(), dtype=float32)\n",
            "loss_custom_loss: tf.Tensor(-0.5717622, shape=(), dtype=float32)\n",
            "top_is_target: tf.Tensor(940.0761, shape=(), dtype=float32)\n",
            "[ 0.47058824  0.52941176  0.58823529  0.64705882  0.70588235  0.76470588\n",
            "  0.82352941  0.88235294  0.94117647  1.         -1.         -0.94117647\n",
            " -0.88235294 -0.82352941 -0.76470588 -0.70588235 -0.64705882 -0.58823529\n",
            " -0.52941176 -0.47058824 -0.41176471 -0.35294118 -0.29411765 -0.23529412\n",
            " -0.17647059 -0.11764706 -0.05882353  0.          0.05882353  0.11764706\n",
            "  0.17647059  0.23529412  0.29411765  0.35294118  0.41176471]\n",
            "loss ranking: tf.Tensor(65.825356, shape=(), dtype=float32)\n",
            "perdida_listas: tf.Tensor(40.418232, shape=(), dtype=float32)\n",
            "mse: tf.Tensor(0.86505187, shape=(), dtype=float32)\n",
            "diferencia_listas: tf.Tensor(29.411766, shape=(), dtype=float32)\n",
            "mae: tf.Tensor(0.84033614, shape=(), dtype=float32)\n",
            "loss_ndcg: tf.Tensor(-0.75499624, shape=(), dtype=float32)\n",
            "loss_custom_loss: tf.Tensor(-0.75499624, shape=(), dtype=float32)\n",
            "top_is_target: tf.Tensor(960.2076, shape=(), dtype=float32)\n",
            "[ 0.41176471  0.47058824  0.52941176  0.58823529  0.64705882  0.70588235\n",
            "  0.76470588  0.82352941  0.88235294  0.94117647  1.         -1.\n",
            " -0.94117647 -0.88235294 -0.82352941 -0.76470588 -0.70588235 -0.64705882\n",
            " -0.58823529 -0.52941176 -0.47058824 -0.41176471 -0.35294118 -0.29411765\n",
            " -0.23529412 -0.17647059 -0.11764706 -0.05882353  0.          0.05882353\n",
            "  0.11764706  0.17647059  0.23529412  0.29411765  0.35294118]\n",
            "loss ranking: tf.Tensor(71.30207, shape=(), dtype=float32)\n",
            "perdida_listas: tf.Tensor(45.566097, shape=(), dtype=float32)\n",
            "mse: tf.Tensor(0.9134948, shape=(), dtype=float32)\n",
            "diferencia_listas: tf.Tensor(31.058826, shape=(), dtype=float32)\n",
            "mae: tf.Tensor(0.887395, shape=(), dtype=float32)\n",
            "loss_ndcg: tf.Tensor(-0.9389629, shape=(), dtype=float32)\n",
            "loss_custom_loss: tf.Tensor(-0.9389629, shape=(), dtype=float32)\n",
            "top_is_target: tf.Tensor(956.7197, shape=(), dtype=float32)\n",
            "[ 0.35294118  0.41176471  0.47058824  0.52941176  0.58823529  0.64705882\n",
            "  0.70588235  0.76470588  0.82352941  0.88235294  0.94117647  1.\n",
            " -1.         -0.94117647 -0.88235294 -0.82352941 -0.76470588 -0.70588235\n",
            " -0.64705882 -0.58823529 -0.52941176 -0.47058824 -0.41176471 -0.35294118\n",
            " -0.29411765 -0.23529412 -0.17647059 -0.11764706 -0.05882353  0.\n",
            "  0.05882353  0.11764706  0.17647059  0.23529412  0.29411765]\n",
            "loss ranking: tf.Tensor(76.46957, shape=(), dtype=float32)\n",
            "perdida_listas: tf.Tensor(51.023357, shape=(), dtype=float32)\n",
            "mse: tf.Tensor(0.9550173, shape=(), dtype=float32)\n",
            "diferencia_listas: tf.Tensor(32.47059, shape=(), dtype=float32)\n",
            "mae: tf.Tensor(0.9277311, shape=(), dtype=float32)\n",
            "loss_ndcg: tf.Tensor(-1.1232508, shape=(), dtype=float32)\n",
            "loss_custom_loss: tf.Tensor(-1.1232508, shape=(), dtype=float32)\n",
            "top_is_target: tf.Tensor(944.7509, shape=(), dtype=float32)\n",
            "[ 0.29411765  0.35294118  0.41176471  0.47058824  0.52941176  0.58823529\n",
            "  0.64705882  0.70588235  0.76470588  0.82352941  0.88235294  0.94117647\n",
            "  1.         -1.         -0.94117647 -0.88235294 -0.82352941 -0.76470588\n",
            " -0.70588235 -0.64705882 -0.58823529 -0.52941176 -0.47058824 -0.41176471\n",
            " -0.35294118 -0.29411765 -0.23529412 -0.17647059 -0.11764706 -0.05882353\n",
            "  0.          0.05882353  0.11764706  0.17647059  0.23529412]\n",
            "loss ranking: tf.Tensor(81.27089, shape=(), dtype=float32)\n",
            "perdida_listas: tf.Tensor(56.8471, shape=(), dtype=float32)\n",
            "mse: tf.Tensor(0.9896193, shape=(), dtype=float32)\n",
            "diferencia_listas: tf.Tensor(33.64706, shape=(), dtype=float32)\n",
            "mae: tf.Tensor(0.9613446, shape=(), dtype=float32)\n",
            "loss_ndcg: tf.Tensor(-1.3073819, shape=(), dtype=float32)\n",
            "loss_custom_loss: tf.Tensor(-1.3073819, shape=(), dtype=float32)\n",
            "top_is_target: tf.Tensor(925.0277, shape=(), dtype=float32)\n",
            "[ 0.23529412  0.29411765  0.35294118  0.41176471  0.47058824  0.52941176\n",
            "  0.58823529  0.64705882  0.70588235  0.76470588  0.82352941  0.88235294\n",
            "  0.94117647  1.         -1.         -0.94117647 -0.88235294 -0.82352941\n",
            " -0.76470588 -0.70588235 -0.64705882 -0.58823529 -0.52941176 -0.47058824\n",
            " -0.41176471 -0.35294118 -0.29411765 -0.23529412 -0.17647059 -0.11764706\n",
            " -0.05882353  0.          0.05882353  0.11764706  0.17647059]\n",
            "loss ranking: tf.Tensor(85.62322, shape=(), dtype=float32)\n",
            "perdida_listas: tf.Tensor(63.120598, shape=(), dtype=float32)\n",
            "mse: tf.Tensor(1.017301, shape=(), dtype=float32)\n",
            "diferencia_listas: tf.Tensor(34.588238, shape=(), dtype=float32)\n",
            "mae: tf.Tensor(0.98823535, shape=(), dtype=float32)\n",
            "loss_ndcg: tf.Tensor(-1.4907994, shape=(), dtype=float32)\n",
            "loss_custom_loss: tf.Tensor(-1.4907994, shape=(), dtype=float32)\n",
            "top_is_target: tf.Tensor(898.27686, shape=(), dtype=float32)\n",
            "[ 0.17647059  0.23529412  0.29411765  0.35294118  0.41176471  0.47058824\n",
            "  0.52941176  0.58823529  0.64705882  0.70588235  0.76470588  0.82352941\n",
            "  0.88235294  0.94117647  1.         -1.         -0.94117647 -0.88235294\n",
            " -0.82352941 -0.76470588 -0.70588235 -0.64705882 -0.58823529 -0.52941176\n",
            " -0.47058824 -0.41176471 -0.35294118 -0.29411765 -0.23529412 -0.17647059\n",
            " -0.11764706 -0.05882353  0.          0.05882353  0.11764706]\n",
            "loss ranking: tf.Tensor(89.39458, shape=(), dtype=float32)\n",
            "perdida_listas: tf.Tensor(69.977196, shape=(), dtype=float32)\n",
            "mse: tf.Tensor(1.0380625, shape=(), dtype=float32)\n",
            "diferencia_listas: tf.Tensor(35.29412, shape=(), dtype=float32)\n",
            "mae: tf.Tensor(1.0084034, shape=(), dtype=float32)\n",
            "loss_ndcg: tf.Tensor(-1.6728548, shape=(), dtype=float32)\n",
            "loss_custom_loss: tf.Tensor(-1.6728548, shape=(), dtype=float32)\n",
            "top_is_target: tf.Tensor(865.225, shape=(), dtype=float32)\n",
            "[ 0.11764706  0.17647059  0.23529412  0.29411765  0.35294118  0.41176471\n",
            "  0.47058824  0.52941176  0.58823529  0.64705882  0.70588235  0.76470588\n",
            "  0.82352941  0.88235294  0.94117647  1.         -1.         -0.94117647\n",
            " -0.88235294 -0.82352941 -0.76470588 -0.70588235 -0.64705882 -0.58823529\n",
            " -0.52941176 -0.47058824 -0.41176471 -0.35294118 -0.29411765 -0.23529412\n",
            " -0.17647059 -0.11764706 -0.05882353  0.          0.05882353]\n",
            "loss ranking: tf.Tensor(92.34021, shape=(), dtype=float32)\n",
            "perdida_listas: tf.Tensor(77.66795, shape=(), dtype=float32)\n",
            "mse: tf.Tensor(1.0519032, shape=(), dtype=float32)\n",
            "diferencia_listas: tf.Tensor(35.764706, shape=(), dtype=float32)\n",
            "mae: tf.Tensor(1.0218487, shape=(), dtype=float32)\n",
            "loss_ndcg: tf.Tensor(-1.8527919, shape=(), dtype=float32)\n",
            "loss_custom_loss: tf.Tensor(-1.8527919, shape=(), dtype=float32)\n",
            "top_is_target: tf.Tensor(826.5987, shape=(), dtype=float32)\n",
            "[ 0.05882353  0.11764706  0.17647059  0.23529412  0.29411765  0.35294118\n",
            "  0.41176471  0.47058824  0.52941176  0.58823529  0.64705882  0.70588235\n",
            "  0.76470588  0.82352941  0.88235294  0.94117647  1.         -1.\n",
            " -0.94117647 -0.88235294 -0.82352941 -0.76470588 -0.70588235 -0.64705882\n",
            " -0.58823529 -0.52941176 -0.47058824 -0.41176471 -0.35294118 -0.29411765\n",
            " -0.23529412 -0.17647059 -0.11764706 -0.05882353  0.        ]\n",
            "loss ranking: tf.Tensor(93.83638, shape=(), dtype=float32)\n",
            "perdida_listas: tf.Tensor(86.88611, shape=(), dtype=float32)\n",
            "mse: tf.Tensor(1.0588235, shape=(), dtype=float32)\n",
            "diferencia_listas: tf.Tensor(36.0, shape=(), dtype=float32)\n",
            "mae: tf.Tensor(1.0285715, shape=(), dtype=float32)\n",
            "loss_ndcg: tf.Tensor(-2.0297256, shape=(), dtype=float32)\n",
            "loss_custom_loss: tf.Tensor(-2.0297256, shape=(), dtype=float32)\n",
            "top_is_target: tf.Tensor(783.12463, shape=(), dtype=float32)\n",
            "[ 0.          0.05882353  0.11764706  0.17647059  0.23529412  0.29411765\n",
            "  0.35294118  0.41176471  0.47058824  0.52941176  0.58823529  0.64705882\n",
            "  0.70588235  0.76470588  0.82352941  0.88235294  0.94117647  1.\n",
            " -1.         -0.94117647 -0.88235294 -0.82352941 -0.76470588 -0.70588235\n",
            " -0.64705882 -0.58823529 -0.52941176 -0.47058824 -0.41176471 -0.35294118\n",
            " -0.29411765 -0.23529412 -0.17647059 -0.11764706 -0.05882353]\n",
            "loss ranking: tf.Tensor(86.88611, shape=(), dtype=float32)\n",
            "perdida_listas: tf.Tensor(93.836395, shape=(), dtype=float32)\n",
            "mse: tf.Tensor(1.0588236, shape=(), dtype=float32)\n",
            "diferencia_listas: tf.Tensor(36.000004, shape=(), dtype=float32)\n",
            "mae: tf.Tensor(1.0285715, shape=(), dtype=float32)\n",
            "loss_ndcg: tf.Tensor(-2.2026181, shape=(), dtype=float32)\n",
            "loss_custom_loss: tf.Tensor(-2.2026181, shape=(), dtype=float32)\n",
            "top_is_target: tf.Tensor(735.52936, shape=(), dtype=float32)\n",
            "[-0.05882353  0.          0.05882353  0.11764706  0.17647059  0.23529412\n",
            "  0.29411765  0.35294118  0.41176471  0.47058824  0.52941176  0.58823529\n",
            "  0.64705882  0.70588235  0.76470588  0.82352941  0.88235294  0.94117647\n",
            "  1.         -1.         -0.94117647 -0.88235294 -0.82352941 -0.76470588\n",
            " -0.70588235 -0.64705882 -0.58823529 -0.52941176 -0.47058824 -0.41176471\n",
            " -0.35294118 -0.29411765 -0.23529412 -0.17647059 -0.11764706]\n",
            "loss ranking: tf.Tensor(77.66795, shape=(), dtype=float32)\n",
            "perdida_listas: tf.Tensor(92.3402, shape=(), dtype=float32)\n",
            "mse: tf.Tensor(1.0519032, shape=(), dtype=float32)\n",
            "diferencia_listas: tf.Tensor(35.764706, shape=(), dtype=float32)\n",
            "mae: tf.Tensor(1.0218487, shape=(), dtype=float32)\n",
            "loss_ndcg: tf.Tensor(-2.3702462, shape=(), dtype=float32)\n",
            "loss_custom_loss: tf.Tensor(-2.3702462, shape=(), dtype=float32)\n",
            "top_is_target: tf.Tensor(684.5398, shape=(), dtype=float32)\n",
            "[-0.11764706 -0.05882353  0.          0.05882353  0.11764706  0.17647059\n",
            "  0.23529412  0.29411765  0.35294118  0.41176471  0.47058824  0.52941176\n",
            "  0.58823529  0.64705882  0.70588235  0.76470588  0.82352941  0.88235294\n",
            "  0.94117647  1.         -1.         -0.94117647 -0.88235294 -0.82352941\n",
            " -0.76470588 -0.70588235 -0.64705882 -0.58823529 -0.52941176 -0.47058824\n",
            " -0.41176471 -0.35294118 -0.29411765 -0.23529412 -0.17647059]\n",
            "loss ranking: tf.Tensor(69.9772, shape=(), dtype=float32)\n",
            "perdida_listas: tf.Tensor(89.39458, shape=(), dtype=float32)\n",
            "mse: tf.Tensor(1.0380623, shape=(), dtype=float32)\n",
            "diferencia_listas: tf.Tensor(35.29412, shape=(), dtype=float32)\n",
            "mae: tf.Tensor(1.0084034, shape=(), dtype=float32)\n",
            "loss_ndcg: tf.Tensor(-2.531161, shape=(), dtype=float32)\n",
            "loss_custom_loss: tf.Tensor(-2.531161, shape=(), dtype=float32)\n",
            "top_is_target: tf.Tensor(630.8824, shape=(), dtype=float32)\n",
            "[-0.17647059 -0.11764706 -0.05882353  0.          0.05882353  0.11764706\n",
            "  0.17647059  0.23529412  0.29411765  0.35294118  0.41176471  0.47058824\n",
            "  0.52941176  0.58823529  0.64705882  0.70588235  0.76470588  0.82352941\n",
            "  0.88235294  0.94117647  1.         -1.         -0.94117647 -0.88235294\n",
            " -0.82352941 -0.76470588 -0.70588235 -0.64705882 -0.58823529 -0.52941176\n",
            " -0.47058824 -0.41176471 -0.35294118 -0.29411765 -0.23529412]\n",
            "loss ranking: tf.Tensor(63.120605, shape=(), dtype=float32)\n",
            "perdida_listas: tf.Tensor(85.62323, shape=(), dtype=float32)\n",
            "mse: tf.Tensor(1.017301, shape=(), dtype=float32)\n",
            "diferencia_listas: tf.Tensor(34.588234, shape=(), dtype=float32)\n",
            "mae: tf.Tensor(0.98823524, shape=(), dtype=float32)\n",
            "loss_ndcg: tf.Tensor(-2.6836364, shape=(), dtype=float32)\n",
            "loss_custom_loss: tf.Tensor(-2.6836364, shape=(), dtype=float32)\n",
            "top_is_target: tf.Tensor(575.28375, shape=(), dtype=float32)\n",
            "[-0.23529412 -0.17647059 -0.11764706 -0.05882353  0.          0.05882353\n",
            "  0.11764706  0.17647059  0.23529412  0.29411765  0.35294118  0.41176471\n",
            "  0.47058824  0.52941176  0.58823529  0.64705882  0.70588235  0.76470588\n",
            "  0.82352941  0.88235294  0.94117647  1.         -1.         -0.94117647\n",
            " -0.88235294 -0.82352941 -0.76470588 -0.70588235 -0.64705882 -0.58823529\n",
            " -0.52941176 -0.47058824 -0.41176471 -0.35294118 -0.29411765]\n",
            "loss ranking: tf.Tensor(56.847088, shape=(), dtype=float32)\n",
            "perdida_listas: tf.Tensor(81.2709, shape=(), dtype=float32)\n",
            "mse: tf.Tensor(0.98961943, shape=(), dtype=float32)\n",
            "diferencia_listas: tf.Tensor(33.64706, shape=(), dtype=float32)\n",
            "mae: tf.Tensor(0.9613446, shape=(), dtype=float32)\n",
            "loss_ndcg: tf.Tensor(-2.8255994, shape=(), dtype=float32)\n",
            "loss_custom_loss: tf.Tensor(-2.8255994, shape=(), dtype=float32)\n",
            "top_is_target: tf.Tensor(518.4706, shape=(), dtype=float32)\n",
            "[-0.29411765 -0.23529412 -0.17647059 -0.11764706 -0.05882353  0.\n",
            "  0.05882353  0.11764706  0.17647059  0.23529412  0.29411765  0.35294118\n",
            "  0.41176471  0.47058824  0.52941176  0.58823529  0.64705882  0.70588235\n",
            "  0.76470588  0.82352941  0.88235294  0.94117647  1.         -1.\n",
            " -0.94117647 -0.88235294 -0.82352941 -0.76470588 -0.70588235 -0.64705882\n",
            " -0.58823529 -0.52941176 -0.47058824 -0.41176471 -0.35294118]\n",
            "loss ranking: tf.Tensor(51.023354, shape=(), dtype=float32)\n",
            "perdida_listas: tf.Tensor(76.469574, shape=(), dtype=float32)\n",
            "mse: tf.Tensor(0.9550173, shape=(), dtype=float32)\n",
            "diferencia_listas: tf.Tensor(32.47059, shape=(), dtype=float32)\n",
            "mae: tf.Tensor(0.9277311, shape=(), dtype=float32)\n",
            "loss_ndcg: tf.Tensor(-2.9545374, shape=(), dtype=float32)\n",
            "loss_custom_loss: tf.Tensor(-2.9545374, shape=(), dtype=float32)\n",
            "top_is_target: tf.Tensor(461.16956, shape=(), dtype=float32)\n",
            "[-0.35294118 -0.29411765 -0.23529412 -0.17647059 -0.11764706 -0.05882353\n",
            "  0.          0.05882353  0.11764706  0.17647059  0.23529412  0.29411765\n",
            "  0.35294118  0.41176471  0.47058824  0.52941176  0.58823529  0.64705882\n",
            "  0.70588235  0.76470588  0.82352941  0.88235294  0.94117647  1.\n",
            " -1.         -0.94117647 -0.88235294 -0.82352941 -0.76470588 -0.70588235\n",
            " -0.64705882 -0.58823529 -0.52941176 -0.47058824 -0.41176471]\n",
            "loss ranking: tf.Tensor(45.5661, shape=(), dtype=float32)\n",
            "perdida_listas: tf.Tensor(71.302086, shape=(), dtype=float32)\n",
            "mse: tf.Tensor(0.9134948, shape=(), dtype=float32)\n",
            "diferencia_listas: tf.Tensor(31.058825, shape=(), dtype=float32)\n",
            "mae: tf.Tensor(0.88739496, shape=(), dtype=float32)\n",
            "loss_ndcg: tf.Tensor(-3.0673692, shape=(), dtype=float32)\n",
            "loss_custom_loss: tf.Tensor(-3.0673692, shape=(), dtype=float32)\n",
            "top_is_target: tf.Tensor(404.10727, shape=(), dtype=float32)\n",
            "[-0.41176471 -0.35294118 -0.29411765 -0.23529412 -0.17647059 -0.11764706\n",
            " -0.05882353  0.          0.05882353  0.11764706  0.17647059  0.23529412\n",
            "  0.29411765  0.35294118  0.41176471  0.47058824  0.52941176  0.58823529\n",
            "  0.64705882  0.70588235  0.76470588  0.82352941  0.88235294  0.94117647\n",
            "  1.         -1.         -0.94117647 -0.88235294 -0.82352941 -0.76470588\n",
            " -0.70588235 -0.64705882 -0.58823529 -0.52941176 -0.47058824]\n",
            "loss ranking: tf.Tensor(40.418236, shape=(), dtype=float32)\n",
            "perdida_listas: tf.Tensor(65.825356, shape=(), dtype=float32)\n",
            "mse: tf.Tensor(0.8650518, shape=(), dtype=float32)\n",
            "diferencia_listas: tf.Tensor(29.411764, shape=(), dtype=float32)\n",
            "mae: tf.Tensor(0.84033614, shape=(), dtype=float32)\n",
            "loss_ndcg: tf.Tensor(-3.1602676, shape=(), dtype=float32)\n",
            "loss_custom_loss: tf.Tensor(-3.1602676, shape=(), dtype=float32)\n",
            "top_is_target: tf.Tensor(348.01038, shape=(), dtype=float32)\n",
            "[-0.47058824 -0.41176471 -0.35294118 -0.29411765 -0.23529412 -0.17647059\n",
            " -0.11764706 -0.05882353  0.          0.05882353  0.11764706  0.17647059\n",
            "  0.23529412  0.29411765  0.35294118  0.41176471  0.47058824  0.52941176\n",
            "  0.58823529  0.64705882  0.70588235  0.76470588  0.82352941  0.88235294\n",
            "  0.94117647  1.         -1.         -0.94117647 -0.88235294 -0.82352941\n",
            " -0.76470588 -0.70588235 -0.64705882 -0.58823529 -0.52941176]\n",
            "loss ranking: tf.Tensor(35.538147, shape=(), dtype=float32)\n",
            "perdida_listas: tf.Tensor(60.080963, shape=(), dtype=float32)\n",
            "mse: tf.Tensor(0.8096886, shape=(), dtype=float32)\n",
            "diferencia_listas: tf.Tensor(27.529413, shape=(), dtype=float32)\n",
            "mae: tf.Tensor(0.78655463, shape=(), dtype=float32)\n",
            "loss_ndcg: tf.Tensor(-3.2283921, shape=(), dtype=float32)\n",
            "loss_custom_loss: tf.Tensor(-3.2283921, shape=(), dtype=float32)\n",
            "top_is_target: tf.Tensor(293.60556, shape=(), dtype=float32)\n",
            "[-0.52941176 -0.47058824 -0.41176471 -0.35294118 -0.29411765 -0.23529412\n",
            " -0.17647059 -0.11764706 -0.05882353  0.          0.05882353  0.11764706\n",
            "  0.17647059  0.23529412  0.29411765  0.35294118  0.41176471  0.47058824\n",
            "  0.52941176  0.58823529  0.64705882  0.70588235  0.76470588  0.82352941\n",
            "  0.88235294  0.94117647  1.         -1.         -0.94117647 -0.88235294\n",
            " -0.82352941 -0.76470588 -0.70588235 -0.64705882 -0.58823529]\n",
            "loss ranking: tf.Tensor(30.894104, shape=(), dtype=float32)\n",
            "perdida_listas: tf.Tensor(54.100586, shape=(), dtype=float32)\n",
            "mse: tf.Tensor(0.74740493, shape=(), dtype=float32)\n",
            "diferencia_listas: tf.Tensor(25.411764, shape=(), dtype=float32)\n",
            "mae: tf.Tensor(0.7260504, shape=(), dtype=float32)\n",
            "loss_ndcg: tf.Tensor(-3.2654974, shape=(), dtype=float32)\n",
            "loss_custom_loss: tf.Tensor(-3.2654974, shape=(), dtype=float32)\n",
            "top_is_target: tf.Tensor(241.6194, shape=(), dtype=float32)\n",
            "[-0.58823529 -0.52941176 -0.47058824 -0.41176471 -0.35294118 -0.29411765\n",
            " -0.23529412 -0.17647059 -0.11764706 -0.05882353  0.          0.05882353\n",
            "  0.11764706  0.17647059  0.23529412  0.29411765  0.35294118  0.41176471\n",
            "  0.47058824  0.52941176  0.58823529  0.64705882  0.70588235  0.76470588\n",
            "  0.82352941  0.88235294  0.94117647  1.         -1.         -0.94117647\n",
            " -0.88235294 -0.82352941 -0.76470588 -0.70588235 -0.64705882]\n",
            "loss ranking: tf.Tensor(26.46112, shape=(), dtype=float32)\n",
            "perdida_listas: tf.Tensor(47.909172, shape=(), dtype=float32)\n",
            "mse: tf.Tensor(0.6782007, shape=(), dtype=float32)\n",
            "diferencia_listas: tf.Tensor(23.058823, shape=(), dtype=float32)\n",
            "mae: tf.Tensor(0.6588235, shape=(), dtype=float32)\n",
            "loss_ndcg: tf.Tensor(-3.2633042, shape=(), dtype=float32)\n",
            "loss_custom_loss: tf.Tensor(-3.2633042, shape=(), dtype=float32)\n",
            "top_is_target: tf.Tensor(192.77853, shape=(), dtype=float32)\n",
            "[-0.64705882 -0.58823529 -0.52941176 -0.47058824 -0.41176471 -0.35294118\n",
            " -0.29411765 -0.23529412 -0.17647059 -0.11764706 -0.05882353  0.\n",
            "  0.05882353  0.11764706  0.17647059  0.23529412  0.29411765  0.35294118\n",
            "  0.41176471  0.47058824  0.52941176  0.58823529  0.64705882  0.70588235\n",
            "  0.76470588  0.82352941  0.88235294  0.94117647  1.         -1.\n",
            " -0.94117647 -0.88235294 -0.82352941 -0.76470588 -0.70588235]\n",
            "loss ranking: tf.Tensor(22.219011, shape=(), dtype=float32)\n",
            "perdida_listas: tf.Tensor(41.526924, shape=(), dtype=float32)\n",
            "mse: tf.Tensor(0.60207605, shape=(), dtype=float32)\n",
            "diferencia_listas: tf.Tensor(20.470589, shape=(), dtype=float32)\n",
            "mae: tf.Tensor(0.584874, shape=(), dtype=float32)\n",
            "loss_ndcg: tf.Tensor(-3.2104614, shape=(), dtype=float32)\n",
            "loss_custom_loss: tf.Tensor(-3.2104614, shape=(), dtype=float32)\n",
            "top_is_target: tf.Tensor(147.8097, shape=(), dtype=float32)\n",
            "[-0.70588235 -0.64705882 -0.58823529 -0.52941176 -0.47058824 -0.41176471\n",
            " -0.35294118 -0.29411765 -0.23529412 -0.17647059 -0.11764706 -0.05882353\n",
            "  0.          0.05882353  0.11764706  0.17647059  0.23529412  0.29411765\n",
            "  0.35294118  0.41176471  0.47058824  0.52941176  0.58823529  0.64705882\n",
            "  0.70588235  0.76470588  0.82352941  0.88235294  0.94117647  1.\n",
            " -1.         -0.94117647 -0.88235294 -0.82352941 -0.76470588]\n",
            "loss ranking: tf.Tensor(18.151121, shape=(), dtype=float32)\n",
            "perdida_listas: tf.Tensor(34.97047, shape=(), dtype=float32)\n",
            "mse: tf.Tensor(0.51903117, shape=(), dtype=float32)\n",
            "diferencia_listas: tf.Tensor(17.64706, shape=(), dtype=float32)\n",
            "mae: tf.Tensor(0.5042017, shape=(), dtype=float32)\n",
            "loss_ndcg: tf.Tensor(-3.0906997, shape=(), dtype=float32)\n",
            "loss_custom_loss: tf.Tensor(-3.0906997, shape=(), dtype=float32)\n",
            "top_is_target: tf.Tensor(107.439445, shape=(), dtype=float32)\n",
            "[-0.76470588 -0.70588235 -0.64705882 -0.58823529 -0.52941176 -0.47058824\n",
            " -0.41176471 -0.35294118 -0.29411765 -0.23529412 -0.17647059 -0.11764706\n",
            " -0.05882353  0.          0.05882353  0.11764706  0.17647059  0.23529412\n",
            "  0.29411765  0.35294118  0.41176471  0.47058824  0.52941176  0.58823529\n",
            "  0.64705882  0.70588235  0.76470588  0.82352941  0.88235294  0.94117647\n",
            "  1.         -1.         -0.94117647 -0.88235294 -0.82352941]\n",
            "loss ranking: tf.Tensor(14.243454, shape=(), dtype=float32)\n",
            "perdida_listas: tf.Tensor(28.2538, shape=(), dtype=float32)\n",
            "mse: tf.Tensor(0.42906576, shape=(), dtype=float32)\n",
            "diferencia_listas: tf.Tensor(14.588236, shape=(), dtype=float32)\n",
            "mae: tf.Tensor(0.41680673, shape=(), dtype=float32)\n",
            "loss_ndcg: tf.Tensor(-2.8792439, shape=(), dtype=float32)\n",
            "loss_custom_loss: tf.Tensor(-2.8792439, shape=(), dtype=float32)\n",
            "top_is_target: tf.Tensor(72.39447, shape=(), dtype=float32)\n",
            "[-0.82352941 -0.76470588 -0.70588235 -0.64705882 -0.58823529 -0.52941176\n",
            " -0.47058824 -0.41176471 -0.35294118 -0.29411765 -0.23529412 -0.17647059\n",
            " -0.11764706 -0.05882353  0.          0.05882353  0.11764706  0.17647059\n",
            "  0.23529412  0.29411765  0.35294118  0.41176471  0.47058824  0.52941176\n",
            "  0.58823529  0.64705882  0.70588235  0.76470588  0.82352941  0.88235294\n",
            "  0.94117647  1.         -1.         -0.94117647 -0.88235294]\n",
            "loss ranking: tf.Tensor(10.484127, shape=(), dtype=float32)\n",
            "perdida_listas: tf.Tensor(21.38881, shape=(), dtype=float32)\n",
            "mse: tf.Tensor(0.33217993, shape=(), dtype=float32)\n",
            "diferencia_listas: tf.Tensor(11.294117, shape=(), dtype=float32)\n",
            "mae: tf.Tensor(0.32268906, shape=(), dtype=float32)\n",
            "loss_ndcg: tf.Tensor(-2.534991, shape=(), dtype=float32)\n",
            "loss_custom_loss: tf.Tensor(-2.534991, shape=(), dtype=float32)\n",
            "top_is_target: tf.Tensor(43.401382, shape=(), dtype=float32)\n",
            "[-0.88235294 -0.82352941 -0.76470588 -0.70588235 -0.64705882 -0.58823529\n",
            " -0.52941176 -0.47058824 -0.41176471 -0.35294118 -0.29411765 -0.23529412\n",
            " -0.17647059 -0.11764706 -0.05882353  0.          0.05882353  0.11764706\n",
            "  0.17647059  0.23529412  0.29411765  0.35294118  0.41176471  0.47058824\n",
            "  0.52941176  0.58823529  0.64705882  0.70588235  0.76470588  0.82352941\n",
            "  0.88235294  0.94117647  1.         -1.         -0.94117647]\n",
            "loss ranking: tf.Tensor(6.862878, shape=(), dtype=float32)\n",
            "perdida_listas: tf.Tensor(14.38574, shape=(), dtype=float32)\n",
            "mse: tf.Tensor(0.22837369, shape=(), dtype=float32)\n",
            "diferencia_listas: tf.Tensor(7.7647057, shape=(), dtype=float32)\n",
            "mae: tf.Tensor(0.22184873, shape=(), dtype=float32)\n",
            "loss_ndcg: tf.Tensor(-1.9802655, shape=(), dtype=float32)\n",
            "loss_custom_loss: tf.Tensor(-1.9802655, shape=(), dtype=float32)\n",
            "top_is_target: tf.Tensor(21.186852, shape=(), dtype=float32)\n",
            "[-0.94117647 -0.88235294 -0.82352941 -0.76470588 -0.70588235 -0.64705882\n",
            " -0.58823529 -0.52941176 -0.47058824 -0.41176471 -0.35294118 -0.29411765\n",
            " -0.23529412 -0.17647059 -0.11764706 -0.05882353  0.          0.05882353\n",
            "  0.11764706  0.17647059  0.23529412  0.29411765  0.35294118  0.41176471\n",
            "  0.47058824  0.52941176  0.58823529  0.64705882  0.70588235  0.76470588\n",
            "  0.82352941  0.88235294  0.94117647  1.         -1.        ]\n",
            "loss ranking: tf.Tensor(3.3707833, shape=(), dtype=float32)\n",
            "perdida_listas: tf.Tensor(7.253524, shape=(), dtype=float32)\n",
            "mse: tf.Tensor(0.11764706, shape=(), dtype=float32)\n",
            "diferencia_listas: tf.Tensor(4.0, shape=(), dtype=float32)\n",
            "mae: tf.Tensor(0.114285715, shape=(), dtype=float32)\n",
            "loss_ndcg: tf.Tensor(-1.031996, shape=(), dtype=float32)\n",
            "loss_custom_loss: tf.Tensor(-1.031996, shape=(), dtype=float32)\n",
            "top_is_target: tf.Tensor(6.4775085, shape=(), dtype=float32)\n",
            "---------------------\n",
            "[-0.94117647 -0.88235294 -0.82352941 -0.76470588 -0.70588235 -0.64705882\n",
            " -0.58823529 -0.52941176 -0.47058824 -0.41176471 -0.35294118 -0.29411765\n",
            " -0.23529412 -0.17647059 -0.11764706 -0.05882353  0.          0.05882353\n",
            "  0.11764706  0.17647059  0.23529412  0.29411765  0.35294118  0.41176471\n",
            "  0.47058824  0.52941176  0.58823529  0.64705882  0.70588235  0.76470588\n",
            "  0.82352941  0.88235294  0.94117647  1.         -1.        ]\n",
            "loss ranking: tf.Tensor(3.3707833, shape=(), dtype=float32)\n",
            "perdida_listas: tf.Tensor(7.253524, shape=(), dtype=float32)\n",
            "mse: tf.Tensor(0.11764706, shape=(), dtype=float32)\n",
            "diferencia_listas: tf.Tensor(4.0, shape=(), dtype=float32)\n",
            "mae: tf.Tensor(0.114285715, shape=(), dtype=float32)\n",
            "loss_ndcg: tf.Tensor(-1.031996, shape=(), dtype=float32)\n",
            "loss_custom_loss: tf.Tensor(-1.031996, shape=(), dtype=float32)\n",
            "top_is_target: tf.Tensor(6.4775085, shape=(), dtype=float32)\n",
            "[-0.88235294 -0.82352941 -0.76470588 -0.70588235 -0.64705882 -0.58823529\n",
            " -0.52941176 -0.47058824 -0.41176471 -0.35294118 -0.29411765 -0.23529412\n",
            " -0.17647059 -0.11764706 -0.05882353  0.          0.05882353  0.11764706\n",
            "  0.17647059  0.23529412  0.29411765  0.35294118  0.41176471  0.47058824\n",
            "  0.52941176  0.58823529  0.64705882  0.70588235  0.76470588  0.82352941\n",
            "  0.88235294  0.94117647  1.         -1.         -0.94117647]\n",
            "loss ranking: tf.Tensor(6.862878, shape=(), dtype=float32)\n",
            "perdida_listas: tf.Tensor(14.38574, shape=(), dtype=float32)\n",
            "mse: tf.Tensor(0.22837369, shape=(), dtype=float32)\n",
            "diferencia_listas: tf.Tensor(7.7647057, shape=(), dtype=float32)\n",
            "mae: tf.Tensor(0.22184873, shape=(), dtype=float32)\n",
            "loss_ndcg: tf.Tensor(-1.9802655, shape=(), dtype=float32)\n",
            "loss_custom_loss: tf.Tensor(-1.9802655, shape=(), dtype=float32)\n",
            "top_is_target: tf.Tensor(21.186852, shape=(), dtype=float32)\n",
            "[-0.82352941 -0.76470588 -0.70588235 -0.64705882 -0.58823529 -0.52941176\n",
            " -0.47058824 -0.41176471 -0.35294118 -0.29411765 -0.23529412 -0.17647059\n",
            " -0.11764706 -0.05882353  0.          0.05882353  0.11764706  0.17647059\n",
            "  0.23529412  0.29411765  0.35294118  0.41176471  0.47058824  0.52941176\n",
            "  0.58823529  0.64705882  0.70588235  0.76470588  0.82352941  0.88235294\n",
            "  0.94117647  1.         -1.         -0.94117647 -0.88235294]\n",
            "loss ranking: tf.Tensor(10.484127, shape=(), dtype=float32)\n",
            "perdida_listas: tf.Tensor(21.38881, shape=(), dtype=float32)\n",
            "mse: tf.Tensor(0.33217993, shape=(), dtype=float32)\n",
            "diferencia_listas: tf.Tensor(11.294117, shape=(), dtype=float32)\n",
            "mae: tf.Tensor(0.32268906, shape=(), dtype=float32)\n",
            "loss_ndcg: tf.Tensor(-2.534991, shape=(), dtype=float32)\n",
            "loss_custom_loss: tf.Tensor(-2.534991, shape=(), dtype=float32)\n",
            "top_is_target: tf.Tensor(43.401382, shape=(), dtype=float32)\n",
            "[-0.76470588 -0.70588235 -0.64705882 -0.58823529 -0.52941176 -0.47058824\n",
            " -0.41176471 -0.35294118 -0.29411765 -0.23529412 -0.17647059 -0.11764706\n",
            " -0.05882353  0.          0.05882353  0.11764706  0.17647059  0.23529412\n",
            "  0.29411765  0.35294118  0.41176471  0.47058824  0.52941176  0.58823529\n",
            "  0.64705882  0.70588235  0.76470588  0.82352941  0.88235294  0.94117647\n",
            "  1.         -1.         -0.94117647 -0.88235294 -0.82352941]\n",
            "loss ranking: tf.Tensor(14.243454, shape=(), dtype=float32)\n",
            "perdida_listas: tf.Tensor(28.2538, shape=(), dtype=float32)\n",
            "mse: tf.Tensor(0.42906576, shape=(), dtype=float32)\n",
            "diferencia_listas: tf.Tensor(14.588236, shape=(), dtype=float32)\n",
            "mae: tf.Tensor(0.41680673, shape=(), dtype=float32)\n",
            "loss_ndcg: tf.Tensor(-2.8792439, shape=(), dtype=float32)\n",
            "loss_custom_loss: tf.Tensor(-2.8792439, shape=(), dtype=float32)\n",
            "top_is_target: tf.Tensor(72.39447, shape=(), dtype=float32)\n",
            "[-0.70588235 -0.64705882 -0.58823529 -0.52941176 -0.47058824 -0.41176471\n",
            " -0.35294118 -0.29411765 -0.23529412 -0.17647059 -0.11764706 -0.05882353\n",
            "  0.          0.05882353  0.11764706  0.17647059  0.23529412  0.29411765\n",
            "  0.35294118  0.41176471  0.47058824  0.52941176  0.58823529  0.64705882\n",
            "  0.70588235  0.76470588  0.82352941  0.88235294  0.94117647  1.\n",
            " -1.         -0.94117647 -0.88235294 -0.82352941 -0.76470588]\n",
            "loss ranking: tf.Tensor(18.151121, shape=(), dtype=float32)\n",
            "perdida_listas: tf.Tensor(34.97047, shape=(), dtype=float32)\n",
            "mse: tf.Tensor(0.51903117, shape=(), dtype=float32)\n",
            "diferencia_listas: tf.Tensor(17.64706, shape=(), dtype=float32)\n",
            "mae: tf.Tensor(0.5042017, shape=(), dtype=float32)\n",
            "loss_ndcg: tf.Tensor(-3.0906997, shape=(), dtype=float32)\n",
            "loss_custom_loss: tf.Tensor(-3.0906997, shape=(), dtype=float32)\n",
            "top_is_target: tf.Tensor(107.439445, shape=(), dtype=float32)\n",
            "[-0.64705882 -0.58823529 -0.52941176 -0.47058824 -0.41176471 -0.35294118\n",
            " -0.29411765 -0.23529412 -0.17647059 -0.11764706 -0.05882353  0.\n",
            "  0.05882353  0.11764706  0.17647059  0.23529412  0.29411765  0.35294118\n",
            "  0.41176471  0.47058824  0.52941176  0.58823529  0.64705882  0.70588235\n",
            "  0.76470588  0.82352941  0.88235294  0.94117647  1.         -1.\n",
            " -0.94117647 -0.88235294 -0.82352941 -0.76470588 -0.70588235]\n",
            "loss ranking: tf.Tensor(22.219011, shape=(), dtype=float32)\n",
            "perdida_listas: tf.Tensor(41.526924, shape=(), dtype=float32)\n",
            "mse: tf.Tensor(0.60207605, shape=(), dtype=float32)\n",
            "diferencia_listas: tf.Tensor(20.470589, shape=(), dtype=float32)\n",
            "mae: tf.Tensor(0.584874, shape=(), dtype=float32)\n",
            "loss_ndcg: tf.Tensor(-3.2104614, shape=(), dtype=float32)\n",
            "loss_custom_loss: tf.Tensor(-3.2104614, shape=(), dtype=float32)\n",
            "top_is_target: tf.Tensor(147.8097, shape=(), dtype=float32)\n",
            "[-0.58823529 -0.52941176 -0.47058824 -0.41176471 -0.35294118 -0.29411765\n",
            " -0.23529412 -0.17647059 -0.11764706 -0.05882353  0.          0.05882353\n",
            "  0.11764706  0.17647059  0.23529412  0.29411765  0.35294118  0.41176471\n",
            "  0.47058824  0.52941176  0.58823529  0.64705882  0.70588235  0.76470588\n",
            "  0.82352941  0.88235294  0.94117647  1.         -1.         -0.94117647\n",
            " -0.88235294 -0.82352941 -0.76470588 -0.70588235 -0.64705882]\n",
            "loss ranking: tf.Tensor(26.46112, shape=(), dtype=float32)\n",
            "perdida_listas: tf.Tensor(47.909172, shape=(), dtype=float32)\n",
            "mse: tf.Tensor(0.6782007, shape=(), dtype=float32)\n",
            "diferencia_listas: tf.Tensor(23.058823, shape=(), dtype=float32)\n",
            "mae: tf.Tensor(0.6588235, shape=(), dtype=float32)\n",
            "loss_ndcg: tf.Tensor(-3.2633042, shape=(), dtype=float32)\n",
            "loss_custom_loss: tf.Tensor(-3.2633042, shape=(), dtype=float32)\n",
            "top_is_target: tf.Tensor(192.77853, shape=(), dtype=float32)\n",
            "[-0.52941176 -0.47058824 -0.41176471 -0.35294118 -0.29411765 -0.23529412\n",
            " -0.17647059 -0.11764706 -0.05882353  0.          0.05882353  0.11764706\n",
            "  0.17647059  0.23529412  0.29411765  0.35294118  0.41176471  0.47058824\n",
            "  0.52941176  0.58823529  0.64705882  0.70588235  0.76470588  0.82352941\n",
            "  0.88235294  0.94117647  1.         -1.         -0.94117647 -0.88235294\n",
            " -0.82352941 -0.76470588 -0.70588235 -0.64705882 -0.58823529]\n",
            "loss ranking: tf.Tensor(30.894104, shape=(), dtype=float32)\n",
            "perdida_listas: tf.Tensor(54.100586, shape=(), dtype=float32)\n",
            "mse: tf.Tensor(0.74740493, shape=(), dtype=float32)\n",
            "diferencia_listas: tf.Tensor(25.411764, shape=(), dtype=float32)\n",
            "mae: tf.Tensor(0.7260504, shape=(), dtype=float32)\n",
            "loss_ndcg: tf.Tensor(-3.2654974, shape=(), dtype=float32)\n",
            "loss_custom_loss: tf.Tensor(-3.2654974, shape=(), dtype=float32)\n",
            "top_is_target: tf.Tensor(241.6194, shape=(), dtype=float32)\n",
            "[-0.47058824 -0.41176471 -0.35294118 -0.29411765 -0.23529412 -0.17647059\n",
            " -0.11764706 -0.05882353  0.          0.05882353  0.11764706  0.17647059\n",
            "  0.23529412  0.29411765  0.35294118  0.41176471  0.47058824  0.52941176\n",
            "  0.58823529  0.64705882  0.70588235  0.76470588  0.82352941  0.88235294\n",
            "  0.94117647  1.         -1.         -0.94117647 -0.88235294 -0.82352941\n",
            " -0.76470588 -0.70588235 -0.64705882 -0.58823529 -0.52941176]\n",
            "loss ranking: tf.Tensor(35.538147, shape=(), dtype=float32)\n",
            "perdida_listas: tf.Tensor(60.080963, shape=(), dtype=float32)\n",
            "mse: tf.Tensor(0.8096886, shape=(), dtype=float32)\n",
            "diferencia_listas: tf.Tensor(27.529413, shape=(), dtype=float32)\n",
            "mae: tf.Tensor(0.78655463, shape=(), dtype=float32)\n",
            "loss_ndcg: tf.Tensor(-3.2283921, shape=(), dtype=float32)\n",
            "loss_custom_loss: tf.Tensor(-3.2283921, shape=(), dtype=float32)\n",
            "top_is_target: tf.Tensor(293.60556, shape=(), dtype=float32)\n",
            "[-0.41176471 -0.35294118 -0.29411765 -0.23529412 -0.17647059 -0.11764706\n",
            " -0.05882353  0.          0.05882353  0.11764706  0.17647059  0.23529412\n",
            "  0.29411765  0.35294118  0.41176471  0.47058824  0.52941176  0.58823529\n",
            "  0.64705882  0.70588235  0.76470588  0.82352941  0.88235294  0.94117647\n",
            "  1.         -1.         -0.94117647 -0.88235294 -0.82352941 -0.76470588\n",
            " -0.70588235 -0.64705882 -0.58823529 -0.52941176 -0.47058824]\n",
            "loss ranking: tf.Tensor(40.418236, shape=(), dtype=float32)\n",
            "perdida_listas: tf.Tensor(65.825356, shape=(), dtype=float32)\n",
            "mse: tf.Tensor(0.8650518, shape=(), dtype=float32)\n",
            "diferencia_listas: tf.Tensor(29.411764, shape=(), dtype=float32)\n",
            "mae: tf.Tensor(0.84033614, shape=(), dtype=float32)\n",
            "loss_ndcg: tf.Tensor(-3.1602676, shape=(), dtype=float32)\n",
            "loss_custom_loss: tf.Tensor(-3.1602676, shape=(), dtype=float32)\n",
            "top_is_target: tf.Tensor(348.01038, shape=(), dtype=float32)\n",
            "[-0.35294118 -0.29411765 -0.23529412 -0.17647059 -0.11764706 -0.05882353\n",
            "  0.          0.05882353  0.11764706  0.17647059  0.23529412  0.29411765\n",
            "  0.35294118  0.41176471  0.47058824  0.52941176  0.58823529  0.64705882\n",
            "  0.70588235  0.76470588  0.82352941  0.88235294  0.94117647  1.\n",
            " -1.         -0.94117647 -0.88235294 -0.82352941 -0.76470588 -0.70588235\n",
            " -0.64705882 -0.58823529 -0.52941176 -0.47058824 -0.41176471]\n",
            "loss ranking: tf.Tensor(45.5661, shape=(), dtype=float32)\n",
            "perdida_listas: tf.Tensor(71.302086, shape=(), dtype=float32)\n",
            "mse: tf.Tensor(0.9134948, shape=(), dtype=float32)\n",
            "diferencia_listas: tf.Tensor(31.058825, shape=(), dtype=float32)\n",
            "mae: tf.Tensor(0.88739496, shape=(), dtype=float32)\n",
            "loss_ndcg: tf.Tensor(-3.0673692, shape=(), dtype=float32)\n",
            "loss_custom_loss: tf.Tensor(-3.0673692, shape=(), dtype=float32)\n",
            "top_is_target: tf.Tensor(404.10727, shape=(), dtype=float32)\n",
            "[-0.29411765 -0.23529412 -0.17647059 -0.11764706 -0.05882353  0.\n",
            "  0.05882353  0.11764706  0.17647059  0.23529412  0.29411765  0.35294118\n",
            "  0.41176471  0.47058824  0.52941176  0.58823529  0.64705882  0.70588235\n",
            "  0.76470588  0.82352941  0.88235294  0.94117647  1.         -1.\n",
            " -0.94117647 -0.88235294 -0.82352941 -0.76470588 -0.70588235 -0.64705882\n",
            " -0.58823529 -0.52941176 -0.47058824 -0.41176471 -0.35294118]\n",
            "loss ranking: tf.Tensor(51.023354, shape=(), dtype=float32)\n",
            "perdida_listas: tf.Tensor(76.469574, shape=(), dtype=float32)\n",
            "mse: tf.Tensor(0.9550173, shape=(), dtype=float32)\n",
            "diferencia_listas: tf.Tensor(32.47059, shape=(), dtype=float32)\n",
            "mae: tf.Tensor(0.9277311, shape=(), dtype=float32)\n",
            "loss_ndcg: tf.Tensor(-2.9545374, shape=(), dtype=float32)\n",
            "loss_custom_loss: tf.Tensor(-2.9545374, shape=(), dtype=float32)\n",
            "top_is_target: tf.Tensor(461.16956, shape=(), dtype=float32)\n",
            "[-0.23529412 -0.17647059 -0.11764706 -0.05882353  0.          0.05882353\n",
            "  0.11764706  0.17647059  0.23529412  0.29411765  0.35294118  0.41176471\n",
            "  0.47058824  0.52941176  0.58823529  0.64705882  0.70588235  0.76470588\n",
            "  0.82352941  0.88235294  0.94117647  1.         -1.         -0.94117647\n",
            " -0.88235294 -0.82352941 -0.76470588 -0.70588235 -0.64705882 -0.58823529\n",
            " -0.52941176 -0.47058824 -0.41176471 -0.35294118 -0.29411765]\n",
            "loss ranking: tf.Tensor(56.847088, shape=(), dtype=float32)\n",
            "perdida_listas: tf.Tensor(81.2709, shape=(), dtype=float32)\n",
            "mse: tf.Tensor(0.98961943, shape=(), dtype=float32)\n",
            "diferencia_listas: tf.Tensor(33.64706, shape=(), dtype=float32)\n",
            "mae: tf.Tensor(0.9613446, shape=(), dtype=float32)\n",
            "loss_ndcg: tf.Tensor(-2.8255994, shape=(), dtype=float32)\n",
            "loss_custom_loss: tf.Tensor(-2.8255994, shape=(), dtype=float32)\n",
            "top_is_target: tf.Tensor(518.4706, shape=(), dtype=float32)\n",
            "[-0.17647059 -0.11764706 -0.05882353  0.          0.05882353  0.11764706\n",
            "  0.17647059  0.23529412  0.29411765  0.35294118  0.41176471  0.47058824\n",
            "  0.52941176  0.58823529  0.64705882  0.70588235  0.76470588  0.82352941\n",
            "  0.88235294  0.94117647  1.         -1.         -0.94117647 -0.88235294\n",
            " -0.82352941 -0.76470588 -0.70588235 -0.64705882 -0.58823529 -0.52941176\n",
            " -0.47058824 -0.41176471 -0.35294118 -0.29411765 -0.23529412]\n",
            "loss ranking: tf.Tensor(63.120605, shape=(), dtype=float32)\n",
            "perdida_listas: tf.Tensor(85.62323, shape=(), dtype=float32)\n",
            "mse: tf.Tensor(1.017301, shape=(), dtype=float32)\n",
            "diferencia_listas: tf.Tensor(34.588234, shape=(), dtype=float32)\n",
            "mae: tf.Tensor(0.98823524, shape=(), dtype=float32)\n",
            "loss_ndcg: tf.Tensor(-2.6836364, shape=(), dtype=float32)\n",
            "loss_custom_loss: tf.Tensor(-2.6836364, shape=(), dtype=float32)\n",
            "top_is_target: tf.Tensor(575.28375, shape=(), dtype=float32)\n",
            "[-0.11764706 -0.05882353  0.          0.05882353  0.11764706  0.17647059\n",
            "  0.23529412  0.29411765  0.35294118  0.41176471  0.47058824  0.52941176\n",
            "  0.58823529  0.64705882  0.70588235  0.76470588  0.82352941  0.88235294\n",
            "  0.94117647  1.         -1.         -0.94117647 -0.88235294 -0.82352941\n",
            " -0.76470588 -0.70588235 -0.64705882 -0.58823529 -0.52941176 -0.47058824\n",
            " -0.41176471 -0.35294118 -0.29411765 -0.23529412 -0.17647059]\n",
            "loss ranking: tf.Tensor(69.9772, shape=(), dtype=float32)\n",
            "perdida_listas: tf.Tensor(89.39458, shape=(), dtype=float32)\n",
            "mse: tf.Tensor(1.0380623, shape=(), dtype=float32)\n",
            "diferencia_listas: tf.Tensor(35.29412, shape=(), dtype=float32)\n",
            "mae: tf.Tensor(1.0084034, shape=(), dtype=float32)\n",
            "loss_ndcg: tf.Tensor(-2.531161, shape=(), dtype=float32)\n",
            "loss_custom_loss: tf.Tensor(-2.531161, shape=(), dtype=float32)\n",
            "top_is_target: tf.Tensor(630.8824, shape=(), dtype=float32)\n",
            "[-0.05882353  0.          0.05882353  0.11764706  0.17647059  0.23529412\n",
            "  0.29411765  0.35294118  0.41176471  0.47058824  0.52941176  0.58823529\n",
            "  0.64705882  0.70588235  0.76470588  0.82352941  0.88235294  0.94117647\n",
            "  1.         -1.         -0.94117647 -0.88235294 -0.82352941 -0.76470588\n",
            " -0.70588235 -0.64705882 -0.58823529 -0.52941176 -0.47058824 -0.41176471\n",
            " -0.35294118 -0.29411765 -0.23529412 -0.17647059 -0.11764706]\n",
            "loss ranking: tf.Tensor(77.66795, shape=(), dtype=float32)\n",
            "perdida_listas: tf.Tensor(92.3402, shape=(), dtype=float32)\n",
            "mse: tf.Tensor(1.0519032, shape=(), dtype=float32)\n",
            "diferencia_listas: tf.Tensor(35.764706, shape=(), dtype=float32)\n",
            "mae: tf.Tensor(1.0218487, shape=(), dtype=float32)\n",
            "loss_ndcg: tf.Tensor(-2.3702462, shape=(), dtype=float32)\n",
            "loss_custom_loss: tf.Tensor(-2.3702462, shape=(), dtype=float32)\n",
            "top_is_target: tf.Tensor(684.5398, shape=(), dtype=float32)\n",
            "[ 0.          0.05882353  0.11764706  0.17647059  0.23529412  0.29411765\n",
            "  0.35294118  0.41176471  0.47058824  0.52941176  0.58823529  0.64705882\n",
            "  0.70588235  0.76470588  0.82352941  0.88235294  0.94117647  1.\n",
            " -1.         -0.94117647 -0.88235294 -0.82352941 -0.76470588 -0.70588235\n",
            " -0.64705882 -0.58823529 -0.52941176 -0.47058824 -0.41176471 -0.35294118\n",
            " -0.29411765 -0.23529412 -0.17647059 -0.11764706 -0.05882353]\n",
            "loss ranking: tf.Tensor(86.88611, shape=(), dtype=float32)\n",
            "perdida_listas: tf.Tensor(93.836395, shape=(), dtype=float32)\n",
            "mse: tf.Tensor(1.0588236, shape=(), dtype=float32)\n",
            "diferencia_listas: tf.Tensor(36.000004, shape=(), dtype=float32)\n",
            "mae: tf.Tensor(1.0285715, shape=(), dtype=float32)\n",
            "loss_ndcg: tf.Tensor(-2.2026181, shape=(), dtype=float32)\n",
            "loss_custom_loss: tf.Tensor(-2.2026181, shape=(), dtype=float32)\n",
            "top_is_target: tf.Tensor(735.52936, shape=(), dtype=float32)\n",
            "[ 0.05882353  0.11764706  0.17647059  0.23529412  0.29411765  0.35294118\n",
            "  0.41176471  0.47058824  0.52941176  0.58823529  0.64705882  0.70588235\n",
            "  0.76470588  0.82352941  0.88235294  0.94117647  1.         -1.\n",
            " -0.94117647 -0.88235294 -0.82352941 -0.76470588 -0.70588235 -0.64705882\n",
            " -0.58823529 -0.52941176 -0.47058824 -0.41176471 -0.35294118 -0.29411765\n",
            " -0.23529412 -0.17647059 -0.11764706 -0.05882353  0.        ]\n",
            "loss ranking: tf.Tensor(93.83638, shape=(), dtype=float32)\n",
            "perdida_listas: tf.Tensor(86.88611, shape=(), dtype=float32)\n",
            "mse: tf.Tensor(1.0588235, shape=(), dtype=float32)\n",
            "diferencia_listas: tf.Tensor(36.0, shape=(), dtype=float32)\n",
            "mae: tf.Tensor(1.0285715, shape=(), dtype=float32)\n",
            "loss_ndcg: tf.Tensor(-2.0297256, shape=(), dtype=float32)\n",
            "loss_custom_loss: tf.Tensor(-2.0297256, shape=(), dtype=float32)\n",
            "top_is_target: tf.Tensor(783.12463, shape=(), dtype=float32)\n",
            "[ 0.11764706  0.17647059  0.23529412  0.29411765  0.35294118  0.41176471\n",
            "  0.47058824  0.52941176  0.58823529  0.64705882  0.70588235  0.76470588\n",
            "  0.82352941  0.88235294  0.94117647  1.         -1.         -0.94117647\n",
            " -0.88235294 -0.82352941 -0.76470588 -0.70588235 -0.64705882 -0.58823529\n",
            " -0.52941176 -0.47058824 -0.41176471 -0.35294118 -0.29411765 -0.23529412\n",
            " -0.17647059 -0.11764706 -0.05882353  0.          0.05882353]\n",
            "loss ranking: tf.Tensor(92.34021, shape=(), dtype=float32)\n",
            "perdida_listas: tf.Tensor(77.66795, shape=(), dtype=float32)\n",
            "mse: tf.Tensor(1.0519032, shape=(), dtype=float32)\n",
            "diferencia_listas: tf.Tensor(35.764706, shape=(), dtype=float32)\n",
            "mae: tf.Tensor(1.0218487, shape=(), dtype=float32)\n",
            "loss_ndcg: tf.Tensor(-1.8527919, shape=(), dtype=float32)\n",
            "loss_custom_loss: tf.Tensor(-1.8527919, shape=(), dtype=float32)\n",
            "top_is_target: tf.Tensor(826.5987, shape=(), dtype=float32)\n",
            "[ 0.17647059  0.23529412  0.29411765  0.35294118  0.41176471  0.47058824\n",
            "  0.52941176  0.58823529  0.64705882  0.70588235  0.76470588  0.82352941\n",
            "  0.88235294  0.94117647  1.         -1.         -0.94117647 -0.88235294\n",
            " -0.82352941 -0.76470588 -0.70588235 -0.64705882 -0.58823529 -0.52941176\n",
            " -0.47058824 -0.41176471 -0.35294118 -0.29411765 -0.23529412 -0.17647059\n",
            " -0.11764706 -0.05882353  0.          0.05882353  0.11764706]\n",
            "loss ranking: tf.Tensor(89.39458, shape=(), dtype=float32)\n",
            "perdida_listas: tf.Tensor(69.977196, shape=(), dtype=float32)\n",
            "mse: tf.Tensor(1.0380625, shape=(), dtype=float32)\n",
            "diferencia_listas: tf.Tensor(35.29412, shape=(), dtype=float32)\n",
            "mae: tf.Tensor(1.0084034, shape=(), dtype=float32)\n",
            "loss_ndcg: tf.Tensor(-1.6728548, shape=(), dtype=float32)\n",
            "loss_custom_loss: tf.Tensor(-1.6728548, shape=(), dtype=float32)\n",
            "top_is_target: tf.Tensor(865.225, shape=(), dtype=float32)\n",
            "[ 0.23529412  0.29411765  0.35294118  0.41176471  0.47058824  0.52941176\n",
            "  0.58823529  0.64705882  0.70588235  0.76470588  0.82352941  0.88235294\n",
            "  0.94117647  1.         -1.         -0.94117647 -0.88235294 -0.82352941\n",
            " -0.76470588 -0.70588235 -0.64705882 -0.58823529 -0.52941176 -0.47058824\n",
            " -0.41176471 -0.35294118 -0.29411765 -0.23529412 -0.17647059 -0.11764706\n",
            " -0.05882353  0.          0.05882353  0.11764706  0.17647059]\n",
            "loss ranking: tf.Tensor(85.62322, shape=(), dtype=float32)\n",
            "perdida_listas: tf.Tensor(63.120598, shape=(), dtype=float32)\n",
            "mse: tf.Tensor(1.017301, shape=(), dtype=float32)\n",
            "diferencia_listas: tf.Tensor(34.588238, shape=(), dtype=float32)\n",
            "mae: tf.Tensor(0.98823535, shape=(), dtype=float32)\n",
            "loss_ndcg: tf.Tensor(-1.4907994, shape=(), dtype=float32)\n",
            "loss_custom_loss: tf.Tensor(-1.4907994, shape=(), dtype=float32)\n",
            "top_is_target: tf.Tensor(898.27686, shape=(), dtype=float32)\n",
            "[ 0.29411765  0.35294118  0.41176471  0.47058824  0.52941176  0.58823529\n",
            "  0.64705882  0.70588235  0.76470588  0.82352941  0.88235294  0.94117647\n",
            "  1.         -1.         -0.94117647 -0.88235294 -0.82352941 -0.76470588\n",
            " -0.70588235 -0.64705882 -0.58823529 -0.52941176 -0.47058824 -0.41176471\n",
            " -0.35294118 -0.29411765 -0.23529412 -0.17647059 -0.11764706 -0.05882353\n",
            "  0.          0.05882353  0.11764706  0.17647059  0.23529412]\n",
            "loss ranking: tf.Tensor(81.27089, shape=(), dtype=float32)\n",
            "perdida_listas: tf.Tensor(56.8471, shape=(), dtype=float32)\n",
            "mse: tf.Tensor(0.9896193, shape=(), dtype=float32)\n",
            "diferencia_listas: tf.Tensor(33.64706, shape=(), dtype=float32)\n",
            "mae: tf.Tensor(0.9613446, shape=(), dtype=float32)\n",
            "loss_ndcg: tf.Tensor(-1.3073819, shape=(), dtype=float32)\n",
            "loss_custom_loss: tf.Tensor(-1.3073819, shape=(), dtype=float32)\n",
            "top_is_target: tf.Tensor(925.0277, shape=(), dtype=float32)\n",
            "[ 0.35294118  0.41176471  0.47058824  0.52941176  0.58823529  0.64705882\n",
            "  0.70588235  0.76470588  0.82352941  0.88235294  0.94117647  1.\n",
            " -1.         -0.94117647 -0.88235294 -0.82352941 -0.76470588 -0.70588235\n",
            " -0.64705882 -0.58823529 -0.52941176 -0.47058824 -0.41176471 -0.35294118\n",
            " -0.29411765 -0.23529412 -0.17647059 -0.11764706 -0.05882353  0.\n",
            "  0.05882353  0.11764706  0.17647059  0.23529412  0.29411765]\n",
            "loss ranking: tf.Tensor(76.46957, shape=(), dtype=float32)\n",
            "perdida_listas: tf.Tensor(51.023357, shape=(), dtype=float32)\n",
            "mse: tf.Tensor(0.9550173, shape=(), dtype=float32)\n",
            "diferencia_listas: tf.Tensor(32.47059, shape=(), dtype=float32)\n",
            "mae: tf.Tensor(0.9277311, shape=(), dtype=float32)\n",
            "loss_ndcg: tf.Tensor(-1.1232508, shape=(), dtype=float32)\n",
            "loss_custom_loss: tf.Tensor(-1.1232508, shape=(), dtype=float32)\n",
            "top_is_target: tf.Tensor(944.7509, shape=(), dtype=float32)\n",
            "[ 0.41176471  0.47058824  0.52941176  0.58823529  0.64705882  0.70588235\n",
            "  0.76470588  0.82352941  0.88235294  0.94117647  1.         -1.\n",
            " -0.94117647 -0.88235294 -0.82352941 -0.76470588 -0.70588235 -0.64705882\n",
            " -0.58823529 -0.52941176 -0.47058824 -0.41176471 -0.35294118 -0.29411765\n",
            " -0.23529412 -0.17647059 -0.11764706 -0.05882353  0.          0.05882353\n",
            "  0.11764706  0.17647059  0.23529412  0.29411765  0.35294118]\n",
            "loss ranking: tf.Tensor(71.30207, shape=(), dtype=float32)\n",
            "perdida_listas: tf.Tensor(45.566097, shape=(), dtype=float32)\n",
            "mse: tf.Tensor(0.9134948, shape=(), dtype=float32)\n",
            "diferencia_listas: tf.Tensor(31.058826, shape=(), dtype=float32)\n",
            "mae: tf.Tensor(0.887395, shape=(), dtype=float32)\n",
            "loss_ndcg: tf.Tensor(-0.9389629, shape=(), dtype=float32)\n",
            "loss_custom_loss: tf.Tensor(-0.9389629, shape=(), dtype=float32)\n",
            "top_is_target: tf.Tensor(956.7197, shape=(), dtype=float32)\n",
            "[ 0.47058824  0.52941176  0.58823529  0.64705882  0.70588235  0.76470588\n",
            "  0.82352941  0.88235294  0.94117647  1.         -1.         -0.94117647\n",
            " -0.88235294 -0.82352941 -0.76470588 -0.70588235 -0.64705882 -0.58823529\n",
            " -0.52941176 -0.47058824 -0.41176471 -0.35294118 -0.29411765 -0.23529412\n",
            " -0.17647059 -0.11764706 -0.05882353  0.          0.05882353  0.11764706\n",
            "  0.17647059  0.23529412  0.29411765  0.35294118  0.41176471]\n",
            "loss ranking: tf.Tensor(65.825356, shape=(), dtype=float32)\n",
            "perdida_listas: tf.Tensor(40.418232, shape=(), dtype=float32)\n",
            "mse: tf.Tensor(0.86505187, shape=(), dtype=float32)\n",
            "diferencia_listas: tf.Tensor(29.411766, shape=(), dtype=float32)\n",
            "mae: tf.Tensor(0.84033614, shape=(), dtype=float32)\n",
            "loss_ndcg: tf.Tensor(-0.75499624, shape=(), dtype=float32)\n",
            "loss_custom_loss: tf.Tensor(-0.75499624, shape=(), dtype=float32)\n",
            "top_is_target: tf.Tensor(960.2076, shape=(), dtype=float32)\n",
            "[ 0.52941176  0.58823529  0.64705882  0.70588235  0.76470588  0.82352941\n",
            "  0.88235294  0.94117647  1.         -1.         -0.94117647 -0.88235294\n",
            " -0.82352941 -0.76470588 -0.70588235 -0.64705882 -0.58823529 -0.52941176\n",
            " -0.47058824 -0.41176471 -0.35294118 -0.29411765 -0.23529412 -0.17647059\n",
            " -0.11764706 -0.05882353  0.          0.05882353  0.11764706  0.17647059\n",
            "  0.23529412  0.29411765  0.35294118  0.41176471  0.47058824]\n",
            "loss ranking: tf.Tensor(60.080963, shape=(), dtype=float32)\n",
            "perdida_listas: tf.Tensor(35.538147, shape=(), dtype=float32)\n",
            "mse: tf.Tensor(0.8096885, shape=(), dtype=float32)\n",
            "diferencia_listas: tf.Tensor(27.529413, shape=(), dtype=float32)\n",
            "mae: tf.Tensor(0.78655463, shape=(), dtype=float32)\n",
            "loss_ndcg: tf.Tensor(-0.5717622, shape=(), dtype=float32)\n",
            "loss_custom_loss: tf.Tensor(-0.5717622, shape=(), dtype=float32)\n",
            "top_is_target: tf.Tensor(940.0761, shape=(), dtype=float32)\n",
            "[ 0.58823529  0.64705882  0.70588235  0.76470588  0.82352941  0.88235294\n",
            "  0.94117647  1.         -1.         -0.94117647 -0.88235294 -0.82352941\n",
            " -0.76470588 -0.70588235 -0.64705882 -0.58823529 -0.52941176 -0.47058824\n",
            " -0.41176471 -0.35294118 -0.29411765 -0.23529412 -0.17647059 -0.11764706\n",
            " -0.05882353  0.          0.05882353  0.11764706  0.17647059  0.23529412\n",
            "  0.29411765  0.35294118  0.41176471  0.47058824  0.52941176]\n",
            "loss ranking: tf.Tensor(54.10058, shape=(), dtype=float32)\n",
            "perdida_listas: tf.Tensor(30.894098, shape=(), dtype=float32)\n",
            "mse: tf.Tensor(0.74740493, shape=(), dtype=float32)\n",
            "diferencia_listas: tf.Tensor(25.411764, shape=(), dtype=float32)\n",
            "mae: tf.Tensor(0.7260504, shape=(), dtype=float32)\n",
            "loss_ndcg: tf.Tensor(-0.38961408, shape=(), dtype=float32)\n",
            "loss_custom_loss: tf.Tensor(-0.38961408, shape=(), dtype=float32)\n",
            "top_is_target: tf.Tensor(904.3185, shape=(), dtype=float32)\n",
            "[ 0.64705882  0.70588235  0.76470588  0.82352941  0.88235294  0.94117647\n",
            "  1.         -1.         -0.94117647 -0.88235294 -0.82352941 -0.76470588\n",
            " -0.70588235 -0.64705882 -0.58823529 -0.52941176 -0.47058824 -0.41176471\n",
            " -0.35294118 -0.29411765 -0.23529412 -0.17647059 -0.11764706 -0.05882353\n",
            "  0.          0.05882353  0.11764706  0.17647059  0.23529412  0.29411765\n",
            "  0.35294118  0.41176471  0.47058824  0.52941176  0.58823529]\n",
            "loss ranking: tf.Tensor(47.909172, shape=(), dtype=float32)\n",
            "perdida_listas: tf.Tensor(26.46112, shape=(), dtype=float32)\n",
            "mse: tf.Tensor(0.6782007, shape=(), dtype=float32)\n",
            "diferencia_listas: tf.Tensor(23.058823, shape=(), dtype=float32)\n",
            "mae: tf.Tensor(0.6588235, shape=(), dtype=float32)\n",
            "loss_ndcg: tf.Tensor(-0.20885476, shape=(), dtype=float32)\n",
            "loss_custom_loss: tf.Tensor(-0.20885476, shape=(), dtype=float32)\n",
            "top_is_target: tf.Tensor(854.02423, shape=(), dtype=float32)\n",
            "[ 0.70588235  0.76470588  0.82352941  0.88235294  0.94117647  1.\n",
            " -1.         -0.94117647 -0.88235294 -0.82352941 -0.76470588 -0.70588235\n",
            " -0.64705882 -0.58823529 -0.52941176 -0.47058824 -0.41176471 -0.35294118\n",
            " -0.29411765 -0.23529412 -0.17647059 -0.11764706 -0.05882353  0.\n",
            "  0.05882353  0.11764706  0.17647059  0.23529412  0.29411765  0.35294118\n",
            "  0.41176471  0.47058824  0.52941176  0.58823529  0.64705882]\n",
            "loss ranking: tf.Tensor(41.52692, shape=(), dtype=float32)\n",
            "perdida_listas: tf.Tensor(22.219019, shape=(), dtype=float32)\n",
            "mse: tf.Tensor(0.6020761, shape=(), dtype=float32)\n",
            "diferencia_listas: tf.Tensor(20.470589, shape=(), dtype=float32)\n",
            "mae: tf.Tensor(0.584874, shape=(), dtype=float32)\n",
            "loss_ndcg: tf.Tensor(-0.029743964, shape=(), dtype=float32)\n",
            "loss_custom_loss: tf.Tensor(-0.029743964, shape=(), dtype=float32)\n",
            "top_is_target: tf.Tensor(788.4671, shape=(), dtype=float32)\n",
            "[ 0.76470588  0.82352941  0.88235294  0.94117647  1.         -1.\n",
            " -0.94117647 -0.88235294 -0.82352941 -0.76470588 -0.70588235 -0.64705882\n",
            " -0.58823529 -0.52941176 -0.47058824 -0.41176471 -0.35294118 -0.29411765\n",
            " -0.23529412 -0.17647059 -0.11764706 -0.05882353  0.          0.05882353\n",
            "  0.11764706  0.17647059  0.23529412  0.29411765  0.35294118  0.41176471\n",
            "  0.47058824  0.52941176  0.58823529  0.64705882  0.70588235]\n",
            "loss ranking: tf.Tensor(34.97047, shape=(), dtype=float32)\n",
            "perdida_listas: tf.Tensor(18.151121, shape=(), dtype=float32)\n",
            "mse: tf.Tensor(0.51903117, shape=(), dtype=float32)\n",
            "diferencia_listas: tf.Tensor(17.647058, shape=(), dtype=float32)\n",
            "mae: tf.Tensor(0.50420165, shape=(), dtype=float32)\n",
            "loss_ndcg: tf.Tensor(0.14749697, shape=(), dtype=float32)\n",
            "loss_custom_loss: tf.Tensor(0.14749697, shape=(), dtype=float32)\n",
            "top_is_target: tf.Tensor(703.89276, shape=(), dtype=float32)\n",
            "[ 0.82352941  0.88235294  0.94117647  1.         -1.         -0.94117647\n",
            " -0.88235294 -0.82352941 -0.76470588 -0.70588235 -0.64705882 -0.58823529\n",
            " -0.52941176 -0.47058824 -0.41176471 -0.35294118 -0.29411765 -0.23529412\n",
            " -0.17647059 -0.11764706 -0.05882353  0.          0.05882353  0.11764706\n",
            "  0.17647059  0.23529412  0.29411765  0.35294118  0.41176471  0.47058824\n",
            "  0.52941176  0.58823529  0.64705882  0.70588235  0.76470588]\n",
            "loss ranking: tf.Tensor(28.253801, shape=(), dtype=float32)\n",
            "perdida_listas: tf.Tensor(14.243457, shape=(), dtype=float32)\n",
            "mse: tf.Tensor(0.4290658, shape=(), dtype=float32)\n",
            "diferencia_listas: tf.Tensor(14.588235, shape=(), dtype=float32)\n",
            "mae: tf.Tensor(0.4168067, shape=(), dtype=float32)\n",
            "loss_ndcg: tf.Tensor(0.32267892, shape=(), dtype=float32)\n",
            "loss_custom_loss: tf.Tensor(0.32267892, shape=(), dtype=float32)\n",
            "top_is_target: tf.Tensor(602.1177, shape=(), dtype=float32)\n",
            "[ 0.88235294  0.94117647  1.         -1.         -0.94117647 -0.88235294\n",
            " -0.82352941 -0.76470588 -0.70588235 -0.64705882 -0.58823529 -0.52941176\n",
            " -0.47058824 -0.41176471 -0.35294118 -0.29411765 -0.23529412 -0.17647059\n",
            " -0.11764706 -0.05882353  0.          0.05882353  0.11764706  0.17647059\n",
            "  0.23529412  0.29411765  0.35294118  0.41176471  0.47058824  0.52941176\n",
            "  0.58823529  0.64705882  0.70588235  0.76470588  0.82352941]\n",
            "loss ranking: tf.Tensor(21.388807, shape=(), dtype=float32)\n",
            "perdida_listas: tf.Tensor(10.484128, shape=(), dtype=float32)\n",
            "mse: tf.Tensor(0.3321799, shape=(), dtype=float32)\n",
            "diferencia_listas: tf.Tensor(11.294117, shape=(), dtype=float32)\n",
            "mae: tf.Tensor(0.32268906, shape=(), dtype=float32)\n",
            "loss_ndcg: tf.Tensor(0.49564347, shape=(), dtype=float32)\n",
            "loss_custom_loss: tf.Tensor(0.49564347, shape=(), dtype=float32)\n",
            "top_is_target: tf.Tensor(482.41525, shape=(), dtype=float32)\n",
            "[ 0.94117647  1.         -1.         -0.94117647 -0.88235294 -0.82352941\n",
            " -0.76470588 -0.70588235 -0.64705882 -0.58823529 -0.52941176 -0.47058824\n",
            " -0.41176471 -0.35294118 -0.29411765 -0.23529412 -0.17647059 -0.11764706\n",
            " -0.05882353  0.          0.05882353  0.11764706  0.17647059  0.23529412\n",
            "  0.29411765  0.35294118  0.41176471  0.47058824  0.52941176  0.58823529\n",
            "  0.64705882  0.70588235  0.76470588  0.82352941  0.88235294]\n",
            "loss ranking: tf.Tensor(14.385739, shape=(), dtype=float32)\n",
            "perdida_listas: tf.Tensor(6.862879, shape=(), dtype=float32)\n",
            "mse: tf.Tensor(0.2283737, shape=(), dtype=float32)\n",
            "diferencia_listas: tf.Tensor(7.764706, shape=(), dtype=float32)\n",
            "mae: tf.Tensor(0.22184874, shape=(), dtype=float32)\n",
            "loss_ndcg: tf.Tensor(0.66625607, shape=(), dtype=float32)\n",
            "loss_custom_loss: tf.Tensor(0.66625607, shape=(), dtype=float32)\n",
            "top_is_target: tf.Tensor(344.0588, shape=(), dtype=float32)\n",
            "[ 1.         -1.         -0.94117647 -0.88235294 -0.82352941 -0.76470588\n",
            " -0.70588235 -0.64705882 -0.58823529 -0.52941176 -0.47058824 -0.41176471\n",
            " -0.35294118 -0.29411765 -0.23529412 -0.17647059 -0.11764706 -0.05882353\n",
            "  0.          0.05882353  0.11764706  0.17647059  0.23529412  0.29411765\n",
            "  0.35294118  0.41176471  0.47058824  0.52941176  0.58823529  0.64705882\n",
            "  0.70588235  0.76470588  0.82352941  0.88235294  0.94117647]\n",
            "loss ranking: tf.Tensor(7.2535243, shape=(), dtype=float32)\n",
            "perdida_listas: tf.Tensor(3.3707833, shape=(), dtype=float32)\n",
            "mse: tf.Tensor(0.117647074, shape=(), dtype=float32)\n",
            "diferencia_listas: tf.Tensor(4.0, shape=(), dtype=float32)\n",
            "mae: tf.Tensor(0.114285715, shape=(), dtype=float32)\n",
            "loss_ndcg: tf.Tensor(0.8344056, shape=(), dtype=float32)\n",
            "loss_custom_loss: tf.Tensor(0.8344056, shape=(), dtype=float32)\n",
            "top_is_target: tf.Tensor(182.32527, shape=(), dtype=float32)\n"
          ]
        },
        {
          "output_type": "display_data",
          "data": {
            "text/plain": [
              "<Figure size 640x480 with 1 Axes>"
            ],
            "image/png": "[encoded data removed]"
          },
          "metadata": {}
        },
        {
          "output_type": "display_data",
          "data": {
            "text/plain": [
              "<Figure size 640x480 with 1 Axes>"
            ],
            "image/png": "[encoded data removed]"
          },
          "metadata": {}
        }
      ]
    },
    {
      "cell_type": "code",
      "source": [
        "plt.plot(loss_loss_ranking / loss_loss_ranking.max(), 'r');\n",
        "plt.plot(loss_perdida_listas / loss_perdida_listas.max(), 'g');\n",
        "plt.plot(loss_mse / loss_mse.max(), 'b');\n",
        "plt.plot(loss_diferencia_listas / loss_diferencia_listas.max(), 'y');\n",
        "plt.plot(loss_mae / loss_mae.max(), 'p');\n",
        "plt.plot((loss_ndcg / loss_ndcg.max()), 'brown');\n",
        "plt.plot(loss_custom_loss / loss_custom_loss.max(), 'r');"
      ],
      "metadata": {
        "colab": {
          "base_uri": "https://localhost:8080/",
          "height": 430
        },
        "id": "Nsj-Cm2Ft4h8",
        "outputId": "aedac5a2-7943-4629-ce61-75116450e9fe"
      },
      "execution_count": 132,
      "outputs": [
        {
          "output_type": "display_data",
          "data": {
            "text/plain": [
              "<Figure size 640x480 with 1 Axes>"
            ],
            "image/png": "[encoded data removed]"
          },
          "metadata": {}
        }
      ]
    },
    {
      "cell_type": "code",
      "source": [
        "plt.plot(loss_top_is_target / loss_top_is_target.max(), 'g');"
      ],
      "metadata": {
        "colab": {
          "base_uri": "https://localhost:8080/",
          "height": 430
        },
        "id": "Hm3lOXjM9STV",
        "outputId": "dab2088c-070a-46bf-b6a5-8c3f288ce320"
      },
      "execution_count": 133,
      "outputs": [
        {
          "output_type": "display_data",
          "data": {
            "text/plain": [
              "<Figure size 640x480 with 1 Axes>"
            ],
            "image/png": "[encoded data removed]"
          },
          "metadata": {}
        }
      ]
    },
    {
      "cell_type": "code",
      "source": [
        "ranking = np.arange(35)\n",
        "\n",
        "#ranking = 2*(ranking - min(ranking)) / (max(ranking) - min(ranking)) - 1\n",
        "print(ranking)\n",
        "\n",
        "loss_top_is_target = []\n",
        "\n",
        "for i in range(len(ranking)-1):\n",
        "  pred_ranking = np.roll(ranking, -i-1)\n",
        "  #pred_ranking = np.roll(ranking, i+1)\n",
        "  print(pred_ranking)\n",
        "  loss = top_is_target(ranking, pred_ranking )\n",
        "  loss_top_is_target.append(loss)\n",
        "  print(\"top_is_target: \" + str(loss))\n",
        "\n",
        "plt.figure()\n",
        "\n",
        "loss_top_is_target = np.array(loss_top_is_target)\n",
        "\n",
        "plt.plot(loss_top_is_target / loss_top_is_target.max(), 'g');\n",
        "\n",
        "loss_top_is_target = []\n",
        "print(\"############################\")\n",
        "for i in range(len(ranking)-1):\n",
        "  pred_ranking = np.roll(ranking, i+1)\n",
        "  #pred_ranking = np.roll(ranking, i+1)\n",
        "  print(pred_ranking)\n",
        "  loss = top_is_target(ranking, pred_ranking )\n",
        "  loss_top_is_target.append(loss)\n",
        "  print(\"top_is_target: \" + str(loss))\n",
        "\n",
        "plt.figure()\n",
        "\n",
        "loss_top_is_target = np.array(loss_top_is_target)\n",
        "\n",
        "plt.plot(loss_top_is_target / loss_top_is_target.max(), 'g');"
      ],
      "metadata": {
        "colab": {
          "base_uri": "https://localhost:8080/",
          "height": 1000
        },
        "id": "rX1_yJfKR76f",
        "outputId": "9bd29fe9-141d-4a27-a290-787a628fc0bc"
      },
      "execution_count": 134,
      "outputs": [
        {
          "output_type": "stream",
          "name": "stdout",
          "text": [
            "[ 0  1  2  3  4  5  6  7  8  9 10 11 12 13 14 15 16 17 18 19 20 21 22 23\n",
            " 24 25 26 27 28 29 30 31 32 33 34]\n",
            "[ 1  2  3  4  5  6  7  8  9 10 11 12 13 14 15 16 17 18 19 20 21 22 23 24\n",
            " 25 26 27 28 29 30 31 32 33 34  0]\n",
            "top_is_target: tf.Tensor(1872.0, shape=(), dtype=float32)\n",
            "[ 2  3  4  5  6  7  8  9 10 11 12 13 14 15 16 17 18 19 20 21 22 23 24 25\n",
            " 26 27 28 29 30 31 32 33 34  0  1]\n",
            "top_is_target: tf.Tensor(6123.0, shape=(), dtype=float32)\n",
            "[ 3  4  5  6  7  8  9 10 11 12 13 14 15 16 17 18 19 20 21 22 23 24 25 26\n",
            " 27 28 29 30 31 32 33 34  0  1  2]\n",
            "top_is_target: tf.Tensor(12543.0, shape=(), dtype=float32)\n",
            "[ 4  5  6  7  8  9 10 11 12 13 14 15 16 17 18 19 20 21 22 23 24 25 26 27\n",
            " 28 29 30 31 32 33 34  0  1  2  3]\n",
            "top_is_target: tf.Tensor(20922.0, shape=(), dtype=float32)\n",
            "[ 5  6  7  8  9 10 11 12 13 14 15 16 17 18 19 20 21 22 23 24 25 26 27 28\n",
            " 29 30 31 32 33 34  0  1  2  3  4]\n",
            "top_is_target: tf.Tensor(31050.0, shape=(), dtype=float32)\n",
            "[ 6  7  8  9 10 11 12 13 14 15 16 17 18 19 20 21 22 23 24 25 26 27 28 29\n",
            " 30 31 32 33 34  0  1  2  3  4  5]\n",
            "top_is_target: tf.Tensor(42717.0, shape=(), dtype=float32)\n",
            "[ 7  8  9 10 11 12 13 14 15 16 17 18 19 20 21 22 23 24 25 26 27 28 29 30\n",
            " 31 32 33 34  0  1  2  3  4  5  6]\n",
            "top_is_target: tf.Tensor(55713.0, shape=(), dtype=float32)\n",
            "[ 8  9 10 11 12 13 14 15 16 17 18 19 20 21 22 23 24 25 26 27 28 29 30 31\n",
            " 32 33 34  0  1  2  3  4  5  6  7]\n",
            "top_is_target: tf.Tensor(69828.0, shape=(), dtype=float32)\n",
            "[ 9 10 11 12 13 14 15 16 17 18 19 20 21 22 23 24 25 26 27 28 29 30 31 32\n",
            " 33 34  0  1  2  3  4  5  6  7  8]\n",
            "top_is_target: tf.Tensor(84852.0, shape=(), dtype=float32)\n",
            "[10 11 12 13 14 15 16 17 18 19 20 21 22 23 24 25 26 27 28 29 30 31 32 33\n",
            " 34  0  1  2  3  4  5  6  7  8  9]\n",
            "top_is_target: tf.Tensor(100575.0, shape=(), dtype=float32)\n",
            "[11 12 13 14 15 16 17 18 19 20 21 22 23 24 25 26 27 28 29 30 31 32 33 34\n",
            "  0  1  2  3  4  5  6  7  8  9 10]\n",
            "top_is_target: tf.Tensor(116787.0, shape=(), dtype=float32)\n",
            "[12 13 14 15 16 17 18 19 20 21 22 23 24 25 26 27 28 29 30 31 32 33 34  0\n",
            "  1  2  3  4  5  6  7  8  9 10 11]\n",
            "top_is_target: tf.Tensor(133278.0, shape=(), dtype=float32)\n",
            "[13 14 15 16 17 18 19 20 21 22 23 24 25 26 27 28 29 30 31 32 33 34  0  1\n",
            "  2  3  4  5  6  7  8  9 10 11 12]\n",
            "top_is_target: tf.Tensor(149838.0, shape=(), dtype=float32)\n",
            "[14 15 16 17 18 19 20 21 22 23 24 25 26 27 28 29 30 31 32 33 34  0  1  2\n",
            "  3  4  5  6  7  8  9 10 11 12 13]\n",
            "top_is_target: tf.Tensor(166257.0, shape=(), dtype=float32)\n",
            "[15 16 17 18 19 20 21 22 23 24 25 26 27 28 29 30 31 32 33 34  0  1  2  3\n",
            "  4  5  6  7  8  9 10 11 12 13 14]\n",
            "top_is_target: tf.Tensor(182325.0, shape=(), dtype=float32)\n",
            "[16 17 18 19 20 21 22 23 24 25 26 27 28 29 30 31 32 33 34  0  1  2  3  4\n",
            "  5  6  7  8  9 10 11 12 13 14 15]\n",
            "top_is_target: tf.Tensor(197832.0, shape=(), dtype=float32)\n",
            "[17 18 19 20 21 22 23 24 25 26 27 28 29 30 31 32 33 34  0  1  2  3  4  5\n",
            "  6  7  8  9 10 11 12 13 14 15 16]\n",
            "top_is_target: tf.Tensor(212568.0, shape=(), dtype=float32)\n",
            "[18 19 20 21 22 23 24 25 26 27 28 29 30 31 32 33 34  0  1  2  3  4  5  6\n",
            "  7  8  9 10 11 12 13 14 15 16 17]\n",
            "top_is_target: tf.Tensor(226323.0, shape=(), dtype=float32)\n",
            "[19 20 21 22 23 24 25 26 27 28 29 30 31 32 33 34  0  1  2  3  4  5  6  7\n",
            "  8  9 10 11 12 13 14 15 16 17 18]\n",
            "top_is_target: tf.Tensor(238887.0, shape=(), dtype=float32)\n",
            "[20 21 22 23 24 25 26 27 28 29 30 31 32 33 34  0  1  2  3  4  5  6  7  8\n",
            "  9 10 11 12 13 14 15 16 17 18 19]\n",
            "top_is_target: tf.Tensor(250050.0, shape=(), dtype=float32)\n",
            "[21 22 23 24 25 26 27 28 29 30 31 32 33 34  0  1  2  3  4  5  6  7  8  9\n",
            " 10 11 12 13 14 15 16 17 18 19 20]\n",
            "top_is_target: tf.Tensor(259602.0, shape=(), dtype=float32)\n",
            "[22 23 24 25 26 27 28 29 30 31 32 33 34  0  1  2  3  4  5  6  7  8  9 10\n",
            " 11 12 13 14 15 16 17 18 19 20 21]\n",
            "top_is_target: tf.Tensor(267333.0, shape=(), dtype=float32)\n",
            "[23 24 25 26 27 28 29 30 31 32 33 34  0  1  2  3  4  5  6  7  8  9 10 11\n",
            " 12 13 14 15 16 17 18 19 20 21 22]\n",
            "top_is_target: tf.Tensor(273033.0, shape=(), dtype=float32)\n",
            "[24 25 26 27 28 29 30 31 32 33 34  0  1  2  3  4  5  6  7  8  9 10 11 12\n",
            " 13 14 15 16 17 18 19 20 21 22 23]\n",
            "top_is_target: tf.Tensor(276492.0, shape=(), dtype=float32)\n",
            "[25 26 27 28 29 30 31 32 33 34  0  1  2  3  4  5  6  7  8  9 10 11 12 13\n",
            " 14 15 16 17 18 19 20 21 22 23 24]\n",
            "top_is_target: tf.Tensor(277500.0, shape=(), dtype=float32)\n",
            "[26 27 28 29 30 31 32 33 34  0  1  2  3  4  5  6  7  8  9 10 11 12 13 14\n",
            " 15 16 17 18 19 20 21 22 23 24 25]\n",
            "top_is_target: tf.Tensor(271682.0, shape=(), dtype=float32)\n",
            "[27 28 29 30 31 32 33 34  0  1  2  3  4  5  6  7  8  9 10 11 12 13 14 15\n",
            " 16 17 18 19 20 21 22 23 24 25 26]\n",
            "top_is_target: tf.Tensor(261348.0, shape=(), dtype=float32)\n",
            "[28 29 30 31 32 33 34  0  1  2  3  4  5  6  7  8  9 10 11 12 13 14 15 16\n",
            " 17 18 19 20 21 22 23 24 25 26 27]\n",
            "top_is_target: tf.Tensor(246813.0, shape=(), dtype=float32)\n",
            "[29 30 31 32 33 34  0  1  2  3  4  5  6  7  8  9 10 11 12 13 14 15 16 17\n",
            " 18 19 20 21 22 23 24 25 26 27 28]\n",
            "top_is_target: tf.Tensor(227867.0, shape=(), dtype=float32)\n",
            "[30 31 32 33 34  0  1  2  3  4  5  6  7  8  9 10 11 12 13 14 15 16 17 18\n",
            " 19 20 21 22 23 24 25 26 27 28 29]\n",
            "top_is_target: tf.Tensor(203425.0, shape=(), dtype=float32)\n",
            "[31 32 33 34  0  1  2  3  4  5  6  7  8  9 10 11 12 13 14 15 16 17 18 19\n",
            " 20 21 22 23 24 25 26 27 28 29 30]\n",
            "top_is_target: tf.Tensor(174012.0, shape=(), dtype=float32)\n",
            "[32 33 34  0  1  2  3  4  5  6  7  8  9 10 11 12 13 14 15 16 17 18 19 20\n",
            " 21 22 23 24 25 26 27 28 29 30 31]\n",
            "top_is_target: tf.Tensor(139418.0, shape=(), dtype=float32)\n",
            "[33 34  0  1  2  3  4  5  6  7  8  9 10 11 12 13 14 15 16 17 18 19 20 21\n",
            " 22 23 24 25 26 27 28 29 30 31 32]\n",
            "top_is_target: tf.Tensor(99433.0, shape=(), dtype=float32)\n",
            "[34  0  1  2  3  4  5  6  7  8  9 10 11 12 13 14 15 16 17 18 19 20 21 22\n",
            " 23 24 25 26 27 28 29 30 31 32 33]\n",
            "top_is_target: tf.Tensor(52692.0, shape=(), dtype=float32)\n",
            "############################\n",
            "[34  0  1  2  3  4  5  6  7  8  9 10 11 12 13 14 15 16 17 18 19 20 21 22\n",
            " 23 24 25 26 27 28 29 30 31 32 33]\n",
            "top_is_target: tf.Tensor(52692.0, shape=(), dtype=float32)\n",
            "[33 34  0  1  2  3  4  5  6  7  8  9 10 11 12 13 14 15 16 17 18 19 20 21\n",
            " 22 23 24 25 26 27 28 29 30 31 32]\n",
            "top_is_target: tf.Tensor(99433.0, shape=(), dtype=float32)\n",
            "[32 33 34  0  1  2  3  4  5  6  7  8  9 10 11 12 13 14 15 16 17 18 19 20\n",
            " 21 22 23 24 25 26 27 28 29 30 31]\n",
            "top_is_target: tf.Tensor(139418.0, shape=(), dtype=float32)\n",
            "[31 32 33 34  0  1  2  3  4  5  6  7  8  9 10 11 12 13 14 15 16 17 18 19\n",
            " 20 21 22 23 24 25 26 27 28 29 30]\n",
            "top_is_target: tf.Tensor(174012.0, shape=(), dtype=float32)\n",
            "[30 31 32 33 34  0  1  2  3  4  5  6  7  8  9 10 11 12 13 14 15 16 17 18\n",
            " 19 20 21 22 23 24 25 26 27 28 29]\n",
            "top_is_target: tf.Tensor(203425.0, shape=(), dtype=float32)\n",
            "[29 30 31 32 33 34  0  1  2  3  4  5  6  7  8  9 10 11 12 13 14 15 16 17\n",
            " 18 19 20 21 22 23 24 25 26 27 28]\n",
            "top_is_target: tf.Tensor(227867.0, shape=(), dtype=float32)\n",
            "[28 29 30 31 32 33 34  0  1  2  3  4  5  6  7  8  9 10 11 12 13 14 15 16\n",
            " 17 18 19 20 21 22 23 24 25 26 27]\n",
            "top_is_target: tf.Tensor(246813.0, shape=(), dtype=float32)\n",
            "[27 28 29 30 31 32 33 34  0  1  2  3  4  5  6  7  8  9 10 11 12 13 14 15\n",
            " 16 17 18 19 20 21 22 23 24 25 26]\n",
            "top_is_target: tf.Tensor(261348.0, shape=(), dtype=float32)\n",
            "[26 27 28 29 30 31 32 33 34  0  1  2  3  4  5  6  7  8  9 10 11 12 13 14\n",
            " 15 16 17 18 19 20 21 22 23 24 25]\n",
            "top_is_target: tf.Tensor(271682.0, shape=(), dtype=float32)\n",
            "[25 26 27 28 29 30 31 32 33 34  0  1  2  3  4  5  6  7  8  9 10 11 12 13\n",
            " 14 15 16 17 18 19 20 21 22 23 24]\n",
            "top_is_target: tf.Tensor(277500.0, shape=(), dtype=float32)\n",
            "[24 25 26 27 28 29 30 31 32 33 34  0  1  2  3  4  5  6  7  8  9 10 11 12\n",
            " 13 14 15 16 17 18 19 20 21 22 23]\n",
            "top_is_target: tf.Tensor(276492.0, shape=(), dtype=float32)\n",
            "[23 24 25 26 27 28 29 30 31 32 33 34  0  1  2  3  4  5  6  7  8  9 10 11\n",
            " 12 13 14 15 16 17 18 19 20 21 22]\n",
            "top_is_target: tf.Tensor(273033.0, shape=(), dtype=float32)\n",
            "[22 23 24 25 26 27 28 29 30 31 32 33 34  0  1  2  3  4  5  6  7  8  9 10\n",
            " 11 12 13 14 15 16 17 18 19 20 21]\n",
            "top_is_target: tf.Tensor(267333.0, shape=(), dtype=float32)\n",
            "[21 22 23 24 25 26 27 28 29 30 31 32 33 34  0  1  2  3  4  5  6  7  8  9\n",
            " 10 11 12 13 14 15 16 17 18 19 20]\n",
            "top_is_target: tf.Tensor(259602.0, shape=(), dtype=float32)\n",
            "[20 21 22 23 24 25 26 27 28 29 30 31 32 33 34  0  1  2  3  4  5  6  7  8\n",
            "  9 10 11 12 13 14 15 16 17 18 19]\n",
            "top_is_target: tf.Tensor(250050.0, shape=(), dtype=float32)\n",
            "[19 20 21 22 23 24 25 26 27 28 29 30 31 32 33 34  0  1  2  3  4  5  6  7\n",
            "  8  9 10 11 12 13 14 15 16 17 18]\n",
            "top_is_target: tf.Tensor(238887.0, shape=(), dtype=float32)\n",
            "[18 19 20 21 22 23 24 25 26 27 28 29 30 31 32 33 34  0  1  2  3  4  5  6\n",
            "  7  8  9 10 11 12 13 14 15 16 17]\n",
            "top_is_target: tf.Tensor(226323.0, shape=(), dtype=float32)\n",
            "[17 18 19 20 21 22 23 24 25 26 27 28 29 30 31 32 33 34  0  1  2  3  4  5\n",
            "  6  7  8  9 10 11 12 13 14 15 16]\n",
            "top_is_target: tf.Tensor(212568.0, shape=(), dtype=float32)\n",
            "[16 17 18 19 20 21 22 23 24 25 26 27 28 29 30 31 32 33 34  0  1  2  3  4\n",
            "  5  6  7  8  9 10 11 12 13 14 15]\n",
            "top_is_target: tf.Tensor(197832.0, shape=(), dtype=float32)\n",
            "[15 16 17 18 19 20 21 22 23 24 25 26 27 28 29 30 31 32 33 34  0  1  2  3\n",
            "  4  5  6  7  8  9 10 11 12 13 14]\n",
            "top_is_target: tf.Tensor(182325.0, shape=(), dtype=float32)\n",
            "[14 15 16 17 18 19 20 21 22 23 24 25 26 27 28 29 30 31 32 33 34  0  1  2\n",
            "  3  4  5  6  7  8  9 10 11 12 13]\n",
            "top_is_target: tf.Tensor(166257.0, shape=(), dtype=float32)\n",
            "[13 14 15 16 17 18 19 20 21 22 23 24 25 26 27 28 29 30 31 32 33 34  0  1\n",
            "  2  3  4  5  6  7  8  9 10 11 12]\n",
            "top_is_target: tf.Tensor(149838.0, shape=(), dtype=float32)\n",
            "[12 13 14 15 16 17 18 19 20 21 22 23 24 25 26 27 28 29 30 31 32 33 34  0\n",
            "  1  2  3  4  5  6  7  8  9 10 11]\n",
            "top_is_target: tf.Tensor(133278.0, shape=(), dtype=float32)\n",
            "[11 12 13 14 15 16 17 18 19 20 21 22 23 24 25 26 27 28 29 30 31 32 33 34\n",
            "  0  1  2  3  4  5  6  7  8  9 10]\n",
            "top_is_target: tf.Tensor(116787.0, shape=(), dtype=float32)\n",
            "[10 11 12 13 14 15 16 17 18 19 20 21 22 23 24 25 26 27 28 29 30 31 32 33\n",
            " 34  0  1  2  3  4  5  6  7  8  9]\n",
            "top_is_target: tf.Tensor(100575.0, shape=(), dtype=float32)\n",
            "[ 9 10 11 12 13 14 15 16 17 18 19 20 21 22 23 24 25 26 27 28 29 30 31 32\n",
            " 33 34  0  1  2  3  4  5  6  7  8]\n",
            "top_is_target: tf.Tensor(84852.0, shape=(), dtype=float32)\n",
            "[ 8  9 10 11 12 13 14 15 16 17 18 19 20 21 22 23 24 25 26 27 28 29 30 31\n",
            " 32 33 34  0  1  2  3  4  5  6  7]\n",
            "top_is_target: tf.Tensor(69828.0, shape=(), dtype=float32)\n",
            "[ 7  8  9 10 11 12 13 14 15 16 17 18 19 20 21 22 23 24 25 26 27 28 29 30\n",
            " 31 32 33 34  0  1  2  3  4  5  6]\n",
            "top_is_target: tf.Tensor(55713.0, shape=(), dtype=float32)\n",
            "[ 6  7  8  9 10 11 12 13 14 15 16 17 18 19 20 21 22 23 24 25 26 27 28 29\n",
            " 30 31 32 33 34  0  1  2  3  4  5]\n",
            "top_is_target: tf.Tensor(42717.0, shape=(), dtype=float32)\n",
            "[ 5  6  7  8  9 10 11 12 13 14 15 16 17 18 19 20 21 22 23 24 25 26 27 28\n",
            " 29 30 31 32 33 34  0  1  2  3  4]\n",
            "top_is_target: tf.Tensor(31050.0, shape=(), dtype=float32)\n",
            "[ 4  5  6  7  8  9 10 11 12 13 14 15 16 17 18 19 20 21 22 23 24 25 26 27\n",
            " 28 29 30 31 32 33 34  0  1  2  3]\n",
            "top_is_target: tf.Tensor(20922.0, shape=(), dtype=float32)\n",
            "[ 3  4  5  6  7  8  9 10 11 12 13 14 15 16 17 18 19 20 21 22 23 24 25 26\n",
            " 27 28 29 30 31 32 33 34  0  1  2]\n",
            "top_is_target: tf.Tensor(12543.0, shape=(), dtype=float32)\n",
            "[ 2  3  4  5  6  7  8  9 10 11 12 13 14 15 16 17 18 19 20 21 22 23 24 25\n",
            " 26 27 28 29 30 31 32 33 34  0  1]\n",
            "top_is_target: tf.Tensor(6123.0, shape=(), dtype=float32)\n",
            "[ 1  2  3  4  5  6  7  8  9 10 11 12 13 14 15 16 17 18 19 20 21 22 23 24\n",
            " 25 26 27 28 29 30 31 32 33 34  0]\n",
            "top_is_target: tf.Tensor(1872.0, shape=(), dtype=float32)\n"
          ]
        },
        {
          "output_type": "display_data",
          "data": {
            "text/plain": [
              "<Figure size 640x480 with 1 Axes>"
            ],
            "image/png": "[encoded data removed]"
          },
          "metadata": {}
        },
        {
          "output_type": "display_data",
          "data": {
            "text/plain": [
              "<Figure size 640x480 with 1 Axes>"
            ],
            "image/png": "[encoded data removed]"
          },
          "metadata": {}
        }
      ]
    },
    {
      "cell_type": "code",
      "source": [
        "min(loss_mse), max(loss_mse)"
      ],
      "metadata": {
        "colab": {
          "base_uri": "https://localhost:8080/"
        },
        "id": "cp-FMC2x36HU",
        "outputId": "5b58ec8a-137e-4894-d21e-466c2448a109"
      },
      "execution_count": 135,
      "outputs": [
        {
          "output_type": "execute_result",
          "data": {
            "text/plain": [
              "(0.11764706, 1.0588236)"
            ]
          },
          "metadata": {},
          "execution_count": 135
        }
      ]
    },
    {
      "cell_type": "code",
      "source": [
        "loss_ndcg"
      ],
      "metadata": {
        "colab": {
          "base_uri": "https://localhost:8080/"
        },
        "id": "5wX1GozO8C4X",
        "outputId": "8815aef8-0358-43d6-a226-fad48f2efd7e"
      },
      "execution_count": 136,
      "outputs": [
        {
          "output_type": "execute_result",
          "data": {
            "text/plain": [
              "array([-1.031996  , -1.9802655 , -2.534991  , -2.8792439 , -3.0906997 ,\n",
              "       -3.2104614 , -3.2633042 , -3.2654974 , -3.2283921 , -3.1602676 ,\n",
              "       -3.0673692 , -2.9545374 , -2.8255994 , -2.6836364 , -2.531161  ,\n",
              "       -2.3702462 , -2.2026181 , -2.0297256 , -1.8527919 , -1.6728548 ,\n",
              "       -1.4907994 , -1.3073819 , -1.1232508 , -0.9389629 , -0.75499624,\n",
              "       -0.5717622 , -0.38961408, -0.20885476, -0.02974396,  0.14749697,\n",
              "        0.32267892,  0.49564347,  0.66625607,  0.8344056 ], dtype=float32)"
            ]
          },
          "metadata": {},
          "execution_count": 136
        }
      ]
    },
    {
      "cell_type": "code",
      "source": [
        "\n",
        "\"\"\"\n",
        "\n",
        "#1#\n",
        "\n",
        "[ 1  2  3  4  5  6  7  8  9 10 11 12 13 14 15 16 17 18 19 20 21 22 23 24\n",
        " 25 26 27 28 29 30 31 32 33 34  0]\n",
        "loss ranking: tf.Tensor(3404.1023, shape=(), dtype=float32)\n",
        "perdida_listas: tf.Tensor(105.07248, shape=(), dtype=float32)\n",
        "mse: tf.Tensor(68.0, shape=(), dtype=float32)\n",
        "\n",
        "#-1#\n",
        "[34  0  1  2  3  4  5  6  7  8  9 10 11 12 13 14 15 16 17 18 19 20 21 22\n",
        " 23 24 25 26 27 28 29 30 31 32 33]\n",
        "loss ranking: tf.Tensor(105.07247, shape=(), dtype=float32)\n",
        "perdida_listas: tf.Tensor(3404.1018, shape=(), dtype=float32)\n",
        "mse: tf.Tensor(68.0, shape=(), dtype=float32)\n",
        "\"\"\""
      ],
      "metadata": {
        "id": "LKKzotgNj0sH",
        "colab": {
          "base_uri": "https://localhost:8080/",
          "height": 70
        },
        "outputId": "f78a3200-e0fa-4828-8906-9adb4f101212"
      },
      "execution_count": 137,
      "outputs": [
        {
          "output_type": "execute_result",
          "data": {
            "text/plain": [
              "'\\n\\n#1#\\n\\n[ 1  2  3  4  5  6  7  8  9 10 11 12 13 14 15 16 17 18 19 20 21 22 23 24\\n 25 26 27 28 29 30 31 32 33 34  0]\\nloss ranking: tf.Tensor(3404.1023, shape=(), dtype=float32)\\nperdida_listas: tf.Tensor(105.07248, shape=(), dtype=float32)\\nmse: tf.Tensor(68.0, shape=(), dtype=float32)\\n\\n#-1#\\n[34  0  1  2  3  4  5  6  7  8  9 10 11 12 13 14 15 16 17 18 19 20 21 22\\n 23 24 25 26 27 28 29 30 31 32 33]\\nloss ranking: tf.Tensor(105.07247, shape=(), dtype=float32)\\nperdida_listas: tf.Tensor(3404.1018, shape=(), dtype=float32)\\nmse: tf.Tensor(68.0, shape=(), dtype=float32)\\n'"
            ],
            "application/vnd.google.colaboratory.intrinsic+json": {
              "type": "string"
            }
          },
          "metadata": {},
          "execution_count": 137
        }
      ]
    },
    {
      "cell_type": "markdown",
      "source": [
        "# Y normalizada"
      ],
      "metadata": {
        "id": "WlW4JKhgmYzn"
      }
    },
    {
      "cell_type": "code",
      "source": [
        "import numpy as np"
      ],
      "metadata": {
        "id": "YJ8K3qNro0IY"
      },
      "execution_count": 138,
      "outputs": []
    },
    {
      "cell_type": "markdown",
      "source": [
        "## PARA SIGMOIDE"
      ],
      "metadata": {
        "id": "fVFBD0MFp3FX"
      }
    },
    {
      "cell_type": "code",
      "source": [
        "r = np.array([10,0,20,40,30])"
      ],
      "metadata": {
        "id": "hCNEpxQpmZ3t"
      },
      "execution_count": 139,
      "outputs": []
    },
    {
      "cell_type": "code",
      "source": [
        "np.argsort(r)"
      ],
      "metadata": {
        "colab": {
          "base_uri": "https://localhost:8080/"
        },
        "id": "WKwhAS_6mySd",
        "outputId": "2d405539-7915-4acd-9cd2-c815901971d2"
      },
      "execution_count": 140,
      "outputs": [
        {
          "output_type": "execute_result",
          "data": {
            "text/plain": [
              "array([1, 0, 2, 4, 3])"
            ]
          },
          "metadata": {},
          "execution_count": 140
        }
      ]
    },
    {
      "cell_type": "code",
      "source": [
        "r_norm = r/r.max()\n",
        "r_norm"
      ],
      "metadata": {
        "colab": {
          "base_uri": "https://localhost:8080/"
        },
        "id": "AFV1RzB8mfIK",
        "outputId": "6b5a4d01-d9b6-4779-9f19-2de10429bf00"
      },
      "execution_count": 141,
      "outputs": [
        {
          "output_type": "execute_result",
          "data": {
            "text/plain": [
              "array([0.25, 0.  , 0.5 , 1.  , 0.75])"
            ]
          },
          "metadata": {},
          "execution_count": 141
        }
      ]
    },
    {
      "cell_type": "code",
      "source": [
        "np.argsort(r_norm)"
      ],
      "metadata": {
        "colab": {
          "base_uri": "https://localhost:8080/"
        },
        "id": "k8Wk0o_VmxpZ",
        "outputId": "e37ce52d-c76d-4194-f86b-2b56f27e65aa"
      },
      "execution_count": 142,
      "outputs": [
        {
          "output_type": "execute_result",
          "data": {
            "text/plain": [
              "array([1, 0, 2, 4, 3])"
            ]
          },
          "metadata": {},
          "execution_count": 142
        }
      ]
    },
    {
      "cell_type": "code",
      "source": [],
      "metadata": {
        "id": "ONpuJ6IEpbeG"
      },
      "execution_count": 142,
      "outputs": []
    },
    {
      "cell_type": "markdown",
      "source": [
        "# PARA TANH"
      ],
      "metadata": {
        "id": "rQByz-3ip5Jm"
      }
    },
    {
      "cell_type": "code",
      "source": [
        "r = np.array([10,0,20,40,30])\n",
        "\n",
        "np.argsort(r)"
      ],
      "metadata": {
        "colab": {
          "base_uri": "https://localhost:8080/"
        },
        "id": "3dioJS35pbg5",
        "outputId": "f5112173-293b-4f3d-fdfc-f796e54f1ebb"
      },
      "execution_count": 143,
      "outputs": [
        {
          "output_type": "execute_result",
          "data": {
            "text/plain": [
              "array([1, 0, 2, 4, 3])"
            ]
          },
          "metadata": {},
          "execution_count": 143
        }
      ]
    },
    {
      "cell_type": "code",
      "source": [
        "r_norm = 2*(r - min(r)) / (max(r) - min(r)) - 1\n",
        "r_norm"
      ],
      "metadata": {
        "id": "jKKD1Qk-wkRd",
        "outputId": "5705610b-2387-423d-f212-9698249e9f6f",
        "colab": {
          "base_uri": "https://localhost:8080/"
        }
      },
      "execution_count": 144,
      "outputs": [
        {
          "output_type": "execute_result",
          "data": {
            "text/plain": [
              "array([-0.5, -1. ,  0. ,  1. ,  0.5])"
            ]
          },
          "metadata": {},
          "execution_count": 144
        }
      ]
    },
    {
      "cell_type": "code",
      "source": [
        "np.argsort(r_norm)"
      ],
      "metadata": {
        "id": "sYHLKrc7wneY",
        "outputId": "8fe1c1ba-068b-44e8-a4cb-78da4cae4788",
        "colab": {
          "base_uri": "https://localhost:8080/"
        }
      },
      "execution_count": 145,
      "outputs": [
        {
          "output_type": "execute_result",
          "data": {
            "text/plain": [
              "array([1, 0, 2, 4, 3])"
            ]
          },
          "metadata": {},
          "execution_count": 145
        }
      ]
    },
    {
      "cell_type": "code",
      "source": [],
      "metadata": {
        "id": "at8wvgT05IbB"
      },
      "execution_count": 145,
      "outputs": []
    },
    {
      "cell_type": "code",
      "source": [],
      "metadata": {
        "id": "kkxoEwpLF58B"
      },
      "execution_count": 145,
      "outputs": []
    },
    {
      "cell_type": "markdown",
      "source": [
        "# weights = K.abs(1. / K.cast(y_true, K.floatx()))"
      ],
      "metadata": {
        "id": "BXkDpB_0F6E2"
      }
    },
    {
      "cell_type": "code",
      "source": [
        "from keras import backend as K\n",
        "def custom_loss(y_true, y_pred):\n",
        "    weights = K.abs(1. / K.cast(y_true, K.floatx()))  # Mayor peso a rangos más altos\n",
        "    return K.mean(weights * K.square(y_true - y_pred), axis=-1)"
      ],
      "metadata": {
        "id": "oFUG7F0jF86Z"
      },
      "execution_count": 146,
      "outputs": []
    },
    {
      "cell_type": "code",
      "source": [
        "r = np.array([1,2,3,4,5])\n",
        "r_pred = np.array([5,2,3,4,1])\n"
      ],
      "metadata": {
        "id": "2OH8l-2xF9ue"
      },
      "execution_count": 147,
      "outputs": []
    },
    {
      "cell_type": "code",
      "source": [
        "weights = K.abs(1. / K.cast(r + 0.01, K.floatx()))\n",
        "weights"
      ],
      "metadata": {
        "colab": {
          "base_uri": "https://localhost:8080/"
        },
        "id": "qrZ36brzGGGt",
        "outputId": "57426a23-751c-433a-85a0-3f06d9725062"
      },
      "execution_count": 148,
      "outputs": [
        {
          "output_type": "execute_result",
          "data": {
            "text/plain": [
              "<tf.Tensor: shape=(5,), dtype=float32, numpy=\n",
              "array([0.990099  , 0.49751243, 0.33222592, 0.24937655, 0.19960079],\n",
              "      dtype=float32)>"
            ]
          },
          "metadata": {},
          "execution_count": 148
        }
      ]
    },
    {
      "cell_type": "code",
      "source": [
        "K.mean(K.square(r - r_pred), axis=-1)"
      ],
      "metadata": {
        "colab": {
          "base_uri": "https://localhost:8080/"
        },
        "id": "0E6gmFtYGjS6",
        "outputId": "94eb4e76-3eab-4bb9-8dfe-1d70db3ac9fc"
      },
      "execution_count": 149,
      "outputs": [
        {
          "output_type": "execute_result",
          "data": {
            "text/plain": [
              "<tf.Tensor: shape=(), dtype=int64, numpy=6>"
            ]
          },
          "metadata": {},
          "execution_count": 149
        }
      ]
    },
    {
      "cell_type": "code",
      "source": [
        "r = K.cast(r, 'float32')\n",
        "r_pred = K.cast(r_pred, 'float32')\n",
        "K.mean(weights * K.square(r - r_pred), axis=-1)"
      ],
      "metadata": {
        "colab": {
          "base_uri": "https://localhost:8080/"
        },
        "id": "T9ta7IRhHMd6",
        "outputId": "362ca718-b954-49f1-8099-3f507a62126c"
      },
      "execution_count": 150,
      "outputs": [
        {
          "output_type": "execute_result",
          "data": {
            "text/plain": [
              "<tf.Tensor: shape=(), dtype=float32, numpy=3.8070393>"
            ]
          },
          "metadata": {},
          "execution_count": 150
        }
      ]
    },
    {
      "cell_type": "code",
      "source": [
        "import numpy as np\n",
        "from keras import backend as K"
      ],
      "metadata": {
        "id": "nYbSsliNIUHL"
      },
      "execution_count": 151,
      "outputs": []
    },
    {
      "cell_type": "code",
      "source": [
        "r = np.array([1,2,3])\n",
        "r_pred = np.array([3,3,3])"
      ],
      "metadata": {
        "id": "95rJ2zoMIWwe"
      },
      "execution_count": 152,
      "outputs": []
    },
    {
      "cell_type": "code",
      "source": [
        "(r - r_pred)"
      ],
      "metadata": {
        "colab": {
          "base_uri": "https://localhost:8080/"
        },
        "id": "3CWRV3D8Lw16",
        "outputId": "55273f6a-9f53-4670-bd69-34814333f107"
      },
      "execution_count": 153,
      "outputs": [
        {
          "output_type": "execute_result",
          "data": {
            "text/plain": [
              "array([-2, -1,  0])"
            ]
          },
          "metadata": {},
          "execution_count": 153
        }
      ]
    },
    {
      "cell_type": "code",
      "source": [
        "K.square((r - r_pred))"
      ],
      "metadata": {
        "colab": {
          "base_uri": "https://localhost:8080/"
        },
        "id": "eKymE_TDLbbA",
        "outputId": "7653ddeb-8536-4315-c2ca-21cb4bb800fe"
      },
      "execution_count": 154,
      "outputs": [
        {
          "output_type": "execute_result",
          "data": {
            "text/plain": [
              "<tf.Tensor: shape=(3,), dtype=int64, numpy=array([4, 1, 0])>"
            ]
          },
          "metadata": {},
          "execution_count": 154
        }
      ]
    },
    {
      "cell_type": "code",
      "source": [
        "r = np.array([1,2,3])\n",
        "r_pred = np.array([3,3,3])"
      ],
      "metadata": {
        "id": "DQzHDeb-Lr_3"
      },
      "execution_count": 155,
      "outputs": []
    },
    {
      "cell_type": "code",
      "source": [
        "w =  np.array([10,1,1])"
      ],
      "metadata": {
        "id": "Jpi1LJacLuOh"
      },
      "execution_count": 156,
      "outputs": []
    },
    {
      "cell_type": "code",
      "source": [
        "w * K.square((r - r_pred))"
      ],
      "metadata": {
        "colab": {
          "base_uri": "https://localhost:8080/"
        },
        "id": "_T-6gXbIMBkh",
        "outputId": "fc470ead-101f-4f2a-9658-61f2fbe5c050"
      },
      "execution_count": 157,
      "outputs": [
        {
          "output_type": "execute_result",
          "data": {
            "text/plain": [
              "<tf.Tensor: shape=(3,), dtype=int64, numpy=array([40,  1,  0])>"
            ]
          },
          "metadata": {},
          "execution_count": 157
        }
      ]
    },
    {
      "cell_type": "code",
      "source": [
        "K.mean(w * K.square((r - r_pred)))"
      ],
      "metadata": {
        "colab": {
          "base_uri": "https://localhost:8080/"
        },
        "id": "WJCppVZXMZ9p",
        "outputId": "e03cbdd7-f8e2-4816-88ae-e12fda98662e"
      },
      "execution_count": 158,
      "outputs": [
        {
          "output_type": "execute_result",
          "data": {
            "text/plain": [
              "<tf.Tensor: shape=(), dtype=int64, numpy=13>"
            ]
          },
          "metadata": {},
          "execution_count": 158
        }
      ]
    },
    {
      "cell_type": "code",
      "source": [
        "K.sum(w * K.square((r - r_pred)))"
      ],
      "metadata": {
        "colab": {
          "base_uri": "https://localhost:8080/"
        },
        "id": "WGn8vSxJMcqv",
        "outputId": "ed9ee201-9eef-4874-8f2e-443dd5e15407"
      },
      "execution_count": 159,
      "outputs": [
        {
          "output_type": "execute_result",
          "data": {
            "text/plain": [
              "<tf.Tensor: shape=(), dtype=int64, numpy=41>"
            ]
          },
          "metadata": {},
          "execution_count": 159
        }
      ]
    },
    {
      "cell_type": "code",
      "source": [],
      "metadata": {
        "id": "QGHQbdzeND2Z"
      },
      "execution_count": 159,
      "outputs": []
    },
    {
      "cell_type": "markdown",
      "source": [
        "# funcion de coste personalizada:  a por los 10 mejores"
      ],
      "metadata": {
        "id": "gi7hDo-lNFrR"
      }
    },
    {
      "cell_type": "code",
      "source": [
        "r = np.arange(35)"
      ],
      "metadata": {
        "id": "GXYTh5EwNWDl"
      },
      "execution_count": 160,
      "outputs": []
    },
    {
      "cell_type": "code",
      "source": [
        "r"
      ],
      "metadata": {
        "colab": {
          "base_uri": "https://localhost:8080/"
        },
        "id": "pX_x2-QHNiAw",
        "outputId": "7b7764ae-af57-4026-84e3-ea287d02c383"
      },
      "execution_count": 161,
      "outputs": [
        {
          "output_type": "execute_result",
          "data": {
            "text/plain": [
              "array([ 0,  1,  2,  3,  4,  5,  6,  7,  8,  9, 10, 11, 12, 13, 14, 15, 16,\n",
              "       17, 18, 19, 20, 21, 22, 23, 24, 25, 26, 27, 28, 29, 30, 31, 32, 33,\n",
              "       34])"
            ]
          },
          "metadata": {},
          "execution_count": 161
        }
      ]
    },
    {
      "cell_type": "code",
      "source": [
        "r_pred = r.copy()\n",
        "r_pred[:20] = 35\n",
        "r_pred += 1"
      ],
      "metadata": {
        "id": "YIYBBO2LNwkI"
      },
      "execution_count": 162,
      "outputs": []
    },
    {
      "cell_type": "code",
      "source": [
        "r_pred"
      ],
      "metadata": {
        "colab": {
          "base_uri": "https://localhost:8080/"
        },
        "id": "JWk7Mq1dPARk",
        "outputId": "e079baed-b465-4c7a-960a-a0d5a3056f44"
      },
      "execution_count": 163,
      "outputs": [
        {
          "output_type": "execute_result",
          "data": {
            "text/plain": [
              "array([36, 36, 36, 36, 36, 36, 36, 36, 36, 36, 36, 36, 36, 36, 36, 36, 36,\n",
              "       36, 36, 36, 21, 22, 23, 24, 25, 26, 27, 28, 29, 30, 31, 32, 33, 34,\n",
              "       35])"
            ]
          },
          "metadata": {},
          "execution_count": 163
        }
      ]
    },
    {
      "cell_type": "code",
      "source": [
        "w = np.ones(35)\n",
        "w [:10] = 10"
      ],
      "metadata": {
        "id": "roswbWcqNIM-"
      },
      "execution_count": 164,
      "outputs": []
    },
    {
      "cell_type": "code",
      "source": [
        "w = r[::-1] + 1"
      ],
      "metadata": {
        "id": "5zbQ5z9yO7Qy"
      },
      "execution_count": 165,
      "outputs": []
    },
    {
      "cell_type": "code",
      "source": [
        "w[:10] = w[:10] * 1.3"
      ],
      "metadata": {
        "id": "Xi5uLdexPb5q"
      },
      "execution_count": 166,
      "outputs": []
    },
    {
      "cell_type": "code",
      "source": [
        "w"
      ],
      "metadata": {
        "colab": {
          "base_uri": "https://localhost:8080/"
        },
        "id": "KxujllzANRtz",
        "outputId": "c78d048a-5217-44d3-cf1f-f11fa173078d"
      },
      "execution_count": 167,
      "outputs": [
        {
          "output_type": "execute_result",
          "data": {
            "text/plain": [
              "array([45, 44, 42, 41, 40, 39, 37, 36, 35, 33, 25, 24, 23, 22, 21, 20, 19,\n",
              "       18, 17, 16, 15, 14, 13, 12, 11, 10,  9,  8,  7,  6,  5,  4,  3,  2,\n",
              "        1])"
            ]
          },
          "metadata": {},
          "execution_count": 167
        }
      ]
    },
    {
      "cell_type": "code",
      "source": [
        "K.square((r - r_pred))"
      ],
      "metadata": {
        "colab": {
          "base_uri": "https://localhost:8080/"
        },
        "id": "CdeQ5Y9EN4Zr",
        "outputId": "055e9ee0-b8a2-4c59-ad99-b6bac4e6651f"
      },
      "execution_count": 168,
      "outputs": [
        {
          "output_type": "execute_result",
          "data": {
            "text/plain": [
              "<tf.Tensor: shape=(35,), dtype=int64, numpy=\n",
              "array([1296, 1225, 1156, 1089, 1024,  961,  900,  841,  784,  729,  676,\n",
              "        625,  576,  529,  484,  441,  400,  361,  324,  289,    1,    1,\n",
              "          1,    1,    1,    1,    1,    1,    1,    1,    1,    1,    1,\n",
              "          1,    1])>"
            ]
          },
          "metadata": {},
          "execution_count": 168
        }
      ]
    },
    {
      "cell_type": "code",
      "source": [
        "w * K.square((r - r_pred))"
      ],
      "metadata": {
        "colab": {
          "base_uri": "https://localhost:8080/"
        },
        "id": "CRMpuEC8OQ9Y",
        "outputId": "c3164941-7735-4653-f278-99d444e6774a"
      },
      "execution_count": 169,
      "outputs": [
        {
          "output_type": "execute_result",
          "data": {
            "text/plain": [
              "<tf.Tensor: shape=(35,), dtype=int64, numpy=\n",
              "array([58320, 53900, 48552, 44649, 40960, 37479, 33300, 30276, 27440,\n",
              "       24057, 16900, 15000, 13248, 11638, 10164,  8820,  7600,  6498,\n",
              "        5508,  4624,    15,    14,    13,    12,    11,    10,     9,\n",
              "           8,     7,     6,     5,     4,     3,     2,     1])>"
            ]
          },
          "metadata": {},
          "execution_count": 169
        }
      ]
    },
    {
      "cell_type": "code",
      "source": [
        "K.sum(w * K.square((r - r_pred)))"
      ],
      "metadata": {
        "colab": {
          "base_uri": "https://localhost:8080/"
        },
        "id": "r6d-5dTtPssp",
        "outputId": "282d4179-8828-43ae-8b5f-6e94b3f3118d"
      },
      "execution_count": 170,
      "outputs": [
        {
          "output_type": "execute_result",
          "data": {
            "text/plain": [
              "<tf.Tensor: shape=(), dtype=int64, numpy=499053>"
            ]
          },
          "metadata": {},
          "execution_count": 170
        }
      ]
    },
    {
      "cell_type": "code",
      "source": [
        "hp_top = 10\n",
        "hp_incremento_top = 1.3\n",
        "def top_is_target(y_true, y_pred):\n",
        "  w = np.arange(len(y_true))\n",
        "  w = w[::-1] + 1\n",
        "  w[:hp_top] = w[:hp_top] * hp_incremento_top\n",
        "\n",
        "  # Normaliza los pesos para que sumen 1\n",
        "  #w = w / np.sum(w)\n",
        "\n",
        "  w = K.cast(w, 'float32')\n",
        "\n",
        "  r = K.cast(y_true, 'float32')\n",
        "  r_pred = K.cast(y_pred, 'float32')\n",
        "\n",
        "  return K.sum(w * K.square(r - r_pred), axis=-1)\n",
        "\n"
      ],
      "metadata": {
        "id": "m3Co_4A7Pwvr"
      },
      "execution_count": 171,
      "outputs": []
    },
    {
      "cell_type": "code",
      "source": [
        "ranking = np.arange(35)\n",
        "\n",
        "#ranking = 2*(ranking - min(ranking)) / (max(ranking) - min(ranking)) - 1\n",
        "print(ranking)\n",
        "\n",
        "loss_top_is_target = []\n",
        "loss = []\n",
        "for i in range(len(ranking)-1):\n",
        "  pred_ranking = np.roll(ranking, -i-1)\n",
        "  #pred_ranking = np.roll(ranking, i+1)\n",
        "  print(pred_ranking)\n",
        "  loss = top_is_target(ranking, pred_ranking )\n",
        "  loss_top_is_target.append(loss)\n",
        "  print(\"top_is_target: \" + str(loss))\n",
        "\n",
        "plt.figure()\n",
        "\n",
        "loss_top_is_target = np.array(loss_top_is_target)\n",
        "\n",
        "plt.plot(loss_top_is_target / loss_top_is_target.max(), 'g');\n",
        "\n",
        "loss_top_is_target = []\n",
        "print(\"############################\")\n",
        "for i in range(len(ranking)-1):\n",
        "  pred_ranking = np.roll(ranking, i+1)\n",
        "  #pred_ranking = np.roll(ranking, i+1)\n",
        "  print(pred_ranking)\n",
        "  loss = top_is_target(ranking, pred_ranking )\n",
        "  loss_top_is_target.append(loss)\n",
        "  print(\"top_is_target: \" + str(loss))\n",
        "\n",
        "plt.figure()\n",
        "\n",
        "loss_top_is_target = np.array(loss_top_is_target)\n",
        "\n",
        "plt.plot(loss_top_is_target / loss_top_is_target.max(), 'g');"
      ],
      "metadata": {
        "colab": {
          "base_uri": "https://localhost:8080/",
          "height": 1000
        },
        "id": "Z2uxMPqTQd_h",
        "outputId": "768c5297-8060-400e-cc7a-3030133039e8"
      },
      "execution_count": 172,
      "outputs": [
        {
          "output_type": "stream",
          "name": "stdout",
          "text": [
            "[ 0  1  2  3  4  5  6  7  8  9 10 11 12 13 14 15 16 17 18 19 20 21 22 23\n",
            " 24 25 26 27 28 29 30 31 32 33 34]\n",
            "[ 1  2  3  4  5  6  7  8  9 10 11 12 13 14 15 16 17 18 19 20 21 22 23 24\n",
            " 25 26 27 28 29 30 31 32 33 34  0]\n",
            "top_is_target: tf.Tensor(1872.0, shape=(), dtype=float32)\n",
            "[ 2  3  4  5  6  7  8  9 10 11 12 13 14 15 16 17 18 19 20 21 22 23 24 25\n",
            " 26 27 28 29 30 31 32 33 34  0  1]\n",
            "top_is_target: tf.Tensor(6123.0, shape=(), dtype=float32)\n",
            "[ 3  4  5  6  7  8  9 10 11 12 13 14 15 16 17 18 19 20 21 22 23 24 25 26\n",
            " 27 28 29 30 31 32 33 34  0  1  2]\n",
            "top_is_target: tf.Tensor(12543.0, shape=(), dtype=float32)\n",
            "[ 4  5  6  7  8  9 10 11 12 13 14 15 16 17 18 19 20 21 22 23 24 25 26 27\n",
            " 28 29 30 31 32 33 34  0  1  2  3]\n",
            "top_is_target: tf.Tensor(20922.0, shape=(), dtype=float32)\n",
            "[ 5  6  7  8  9 10 11 12 13 14 15 16 17 18 19 20 21 22 23 24 25 26 27 28\n",
            " 29 30 31 32 33 34  0  1  2  3  4]\n",
            "top_is_target: tf.Tensor(31050.0, shape=(), dtype=float32)\n",
            "[ 6  7  8  9 10 11 12 13 14 15 16 17 18 19 20 21 22 23 24 25 26 27 28 29\n",
            " 30 31 32 33 34  0  1  2  3  4  5]\n",
            "top_is_target: tf.Tensor(42717.0, shape=(), dtype=float32)\n",
            "[ 7  8  9 10 11 12 13 14 15 16 17 18 19 20 21 22 23 24 25 26 27 28 29 30\n",
            " 31 32 33 34  0  1  2  3  4  5  6]\n",
            "top_is_target: tf.Tensor(55713.0, shape=(), dtype=float32)\n",
            "[ 8  9 10 11 12 13 14 15 16 17 18 19 20 21 22 23 24 25 26 27 28 29 30 31\n",
            " 32 33 34  0  1  2  3  4  5  6  7]\n",
            "top_is_target: tf.Tensor(69828.0, shape=(), dtype=float32)\n",
            "[ 9 10 11 12 13 14 15 16 17 18 19 20 21 22 23 24 25 26 27 28 29 30 31 32\n",
            " 33 34  0  1  2  3  4  5  6  7  8]\n",
            "top_is_target: tf.Tensor(84852.0, shape=(), dtype=float32)\n",
            "[10 11 12 13 14 15 16 17 18 19 20 21 22 23 24 25 26 27 28 29 30 31 32 33\n",
            " 34  0  1  2  3  4  5  6  7  8  9]\n",
            "top_is_target: tf.Tensor(100575.0, shape=(), dtype=float32)\n",
            "[11 12 13 14 15 16 17 18 19 20 21 22 23 24 25 26 27 28 29 30 31 32 33 34\n",
            "  0  1  2  3  4  5  6  7  8  9 10]\n",
            "top_is_target: tf.Tensor(116787.0, shape=(), dtype=float32)\n",
            "[12 13 14 15 16 17 18 19 20 21 22 23 24 25 26 27 28 29 30 31 32 33 34  0\n",
            "  1  2  3  4  5  6  7  8  9 10 11]\n",
            "top_is_target: tf.Tensor(133278.0, shape=(), dtype=float32)\n",
            "[13 14 15 16 17 18 19 20 21 22 23 24 25 26 27 28 29 30 31 32 33 34  0  1\n",
            "  2  3  4  5  6  7  8  9 10 11 12]\n",
            "top_is_target: tf.Tensor(149838.0, shape=(), dtype=float32)\n",
            "[14 15 16 17 18 19 20 21 22 23 24 25 26 27 28 29 30 31 32 33 34  0  1  2\n",
            "  3  4  5  6  7  8  9 10 11 12 13]\n",
            "top_is_target: tf.Tensor(166257.0, shape=(), dtype=float32)\n",
            "[15 16 17 18 19 20 21 22 23 24 25 26 27 28 29 30 31 32 33 34  0  1  2  3\n",
            "  4  5  6  7  8  9 10 11 12 13 14]\n",
            "top_is_target: tf.Tensor(182325.0, shape=(), dtype=float32)\n",
            "[16 17 18 19 20 21 22 23 24 25 26 27 28 29 30 31 32 33 34  0  1  2  3  4\n",
            "  5  6  7  8  9 10 11 12 13 14 15]\n",
            "top_is_target: tf.Tensor(197832.0, shape=(), dtype=float32)\n",
            "[17 18 19 20 21 22 23 24 25 26 27 28 29 30 31 32 33 34  0  1  2  3  4  5\n",
            "  6  7  8  9 10 11 12 13 14 15 16]\n",
            "top_is_target: tf.Tensor(212568.0, shape=(), dtype=float32)\n",
            "[18 19 20 21 22 23 24 25 26 27 28 29 30 31 32 33 34  0  1  2  3  4  5  6\n",
            "  7  8  9 10 11 12 13 14 15 16 17]\n",
            "top_is_target: tf.Tensor(226323.0, shape=(), dtype=float32)\n",
            "[19 20 21 22 23 24 25 26 27 28 29 30 31 32 33 34  0  1  2  3  4  5  6  7\n",
            "  8  9 10 11 12 13 14 15 16 17 18]\n",
            "top_is_target: tf.Tensor(238887.0, shape=(), dtype=float32)\n",
            "[20 21 22 23 24 25 26 27 28 29 30 31 32 33 34  0  1  2  3  4  5  6  7  8\n",
            "  9 10 11 12 13 14 15 16 17 18 19]\n",
            "top_is_target: tf.Tensor(250050.0, shape=(), dtype=float32)\n",
            "[21 22 23 24 25 26 27 28 29 30 31 32 33 34  0  1  2  3  4  5  6  7  8  9\n",
            " 10 11 12 13 14 15 16 17 18 19 20]\n",
            "top_is_target: tf.Tensor(259602.0, shape=(), dtype=float32)\n",
            "[22 23 24 25 26 27 28 29 30 31 32 33 34  0  1  2  3  4  5  6  7  8  9 10\n",
            " 11 12 13 14 15 16 17 18 19 20 21]\n",
            "top_is_target: tf.Tensor(267333.0, shape=(), dtype=float32)\n",
            "[23 24 25 26 27 28 29 30 31 32 33 34  0  1  2  3  4  5  6  7  8  9 10 11\n",
            " 12 13 14 15 16 17 18 19 20 21 22]\n",
            "top_is_target: tf.Tensor(273033.0, shape=(), dtype=float32)\n",
            "[24 25 26 27 28 29 30 31 32 33 34  0  1  2  3  4  5  6  7  8  9 10 11 12\n",
            " 13 14 15 16 17 18 19 20 21 22 23]\n",
            "top_is_target: tf.Tensor(276492.0, shape=(), dtype=float32)\n",
            "[25 26 27 28 29 30 31 32 33 34  0  1  2  3  4  5  6  7  8  9 10 11 12 13\n",
            " 14 15 16 17 18 19 20 21 22 23 24]\n",
            "top_is_target: tf.Tensor(277500.0, shape=(), dtype=float32)\n",
            "[26 27 28 29 30 31 32 33 34  0  1  2  3  4  5  6  7  8  9 10 11 12 13 14\n",
            " 15 16 17 18 19 20 21 22 23 24 25]\n",
            "top_is_target: tf.Tensor(271682.0, shape=(), dtype=float32)\n",
            "[27 28 29 30 31 32 33 34  0  1  2  3  4  5  6  7  8  9 10 11 12 13 14 15\n",
            " 16 17 18 19 20 21 22 23 24 25 26]\n",
            "top_is_target: tf.Tensor(261348.0, shape=(), dtype=float32)\n",
            "[28 29 30 31 32 33 34  0  1  2  3  4  5  6  7  8  9 10 11 12 13 14 15 16\n",
            " 17 18 19 20 21 22 23 24 25 26 27]\n",
            "top_is_target: tf.Tensor(246813.0, shape=(), dtype=float32)\n",
            "[29 30 31 32 33 34  0  1  2  3  4  5  6  7  8  9 10 11 12 13 14 15 16 17\n",
            " 18 19 20 21 22 23 24 25 26 27 28]\n",
            "top_is_target: tf.Tensor(227867.0, shape=(), dtype=float32)\n",
            "[30 31 32 33 34  0  1  2  3  4  5  6  7  8  9 10 11 12 13 14 15 16 17 18\n",
            " 19 20 21 22 23 24 25 26 27 28 29]\n",
            "top_is_target: tf.Tensor(203425.0, shape=(), dtype=float32)\n",
            "[31 32 33 34  0  1  2  3  4  5  6  7  8  9 10 11 12 13 14 15 16 17 18 19\n",
            " 20 21 22 23 24 25 26 27 28 29 30]\n",
            "top_is_target: tf.Tensor(174012.0, shape=(), dtype=float32)\n",
            "[32 33 34  0  1  2  3  4  5  6  7  8  9 10 11 12 13 14 15 16 17 18 19 20\n",
            " 21 22 23 24 25 26 27 28 29 30 31]\n",
            "top_is_target: tf.Tensor(139418.0, shape=(), dtype=float32)\n",
            "[33 34  0  1  2  3  4  5  6  7  8  9 10 11 12 13 14 15 16 17 18 19 20 21\n",
            " 22 23 24 25 26 27 28 29 30 31 32]\n",
            "top_is_target: tf.Tensor(99433.0, shape=(), dtype=float32)\n",
            "[34  0  1  2  3  4  5  6  7  8  9 10 11 12 13 14 15 16 17 18 19 20 21 22\n",
            " 23 24 25 26 27 28 29 30 31 32 33]\n",
            "top_is_target: tf.Tensor(52692.0, shape=(), dtype=float32)\n",
            "############################\n",
            "[34  0  1  2  3  4  5  6  7  8  9 10 11 12 13 14 15 16 17 18 19 20 21 22\n",
            " 23 24 25 26 27 28 29 30 31 32 33]\n",
            "top_is_target: tf.Tensor(52692.0, shape=(), dtype=float32)\n",
            "[33 34  0  1  2  3  4  5  6  7  8  9 10 11 12 13 14 15 16 17 18 19 20 21\n",
            " 22 23 24 25 26 27 28 29 30 31 32]\n",
            "top_is_target: tf.Tensor(99433.0, shape=(), dtype=float32)\n",
            "[32 33 34  0  1  2  3  4  5  6  7  8  9 10 11 12 13 14 15 16 17 18 19 20\n",
            " 21 22 23 24 25 26 27 28 29 30 31]\n",
            "top_is_target: tf.Tensor(139418.0, shape=(), dtype=float32)\n",
            "[31 32 33 34  0  1  2  3  4  5  6  7  8  9 10 11 12 13 14 15 16 17 18 19\n",
            " 20 21 22 23 24 25 26 27 28 29 30]\n",
            "top_is_target: tf.Tensor(174012.0, shape=(), dtype=float32)\n",
            "[30 31 32 33 34  0  1  2  3  4  5  6  7  8  9 10 11 12 13 14 15 16 17 18\n",
            " 19 20 21 22 23 24 25 26 27 28 29]\n",
            "top_is_target: tf.Tensor(203425.0, shape=(), dtype=float32)\n",
            "[29 30 31 32 33 34  0  1  2  3  4  5  6  7  8  9 10 11 12 13 14 15 16 17\n",
            " 18 19 20 21 22 23 24 25 26 27 28]\n",
            "top_is_target: tf.Tensor(227867.0, shape=(), dtype=float32)\n",
            "[28 29 30 31 32 33 34  0  1  2  3  4  5  6  7  8  9 10 11 12 13 14 15 16\n",
            " 17 18 19 20 21 22 23 24 25 26 27]\n",
            "top_is_target: tf.Tensor(246813.0, shape=(), dtype=float32)\n",
            "[27 28 29 30 31 32 33 34  0  1  2  3  4  5  6  7  8  9 10 11 12 13 14 15\n",
            " 16 17 18 19 20 21 22 23 24 25 26]\n",
            "top_is_target: tf.Tensor(261348.0, shape=(), dtype=float32)\n",
            "[26 27 28 29 30 31 32 33 34  0  1  2  3  4  5  6  7  8  9 10 11 12 13 14\n",
            " 15 16 17 18 19 20 21 22 23 24 25]\n",
            "top_is_target: tf.Tensor(271682.0, shape=(), dtype=float32)\n",
            "[25 26 27 28 29 30 31 32 33 34  0  1  2  3  4  5  6  7  8  9 10 11 12 13\n",
            " 14 15 16 17 18 19 20 21 22 23 24]\n",
            "top_is_target: tf.Tensor(277500.0, shape=(), dtype=float32)\n",
            "[24 25 26 27 28 29 30 31 32 33 34  0  1  2  3  4  5  6  7  8  9 10 11 12\n",
            " 13 14 15 16 17 18 19 20 21 22 23]\n",
            "top_is_target: tf.Tensor(276492.0, shape=(), dtype=float32)\n",
            "[23 24 25 26 27 28 29 30 31 32 33 34  0  1  2  3  4  5  6  7  8  9 10 11\n",
            " 12 13 14 15 16 17 18 19 20 21 22]\n",
            "top_is_target: tf.Tensor(273033.0, shape=(), dtype=float32)\n",
            "[22 23 24 25 26 27 28 29 30 31 32 33 34  0  1  2  3  4  5  6  7  8  9 10\n",
            " 11 12 13 14 15 16 17 18 19 20 21]\n",
            "top_is_target: tf.Tensor(267333.0, shape=(), dtype=float32)\n",
            "[21 22 23 24 25 26 27 28 29 30 31 32 33 34  0  1  2  3  4  5  6  7  8  9\n",
            " 10 11 12 13 14 15 16 17 18 19 20]\n",
            "top_is_target: tf.Tensor(259602.0, shape=(), dtype=float32)\n",
            "[20 21 22 23 24 25 26 27 28 29 30 31 32 33 34  0  1  2  3  4  5  6  7  8\n",
            "  9 10 11 12 13 14 15 16 17 18 19]\n",
            "top_is_target: tf.Tensor(250050.0, shape=(), dtype=float32)\n",
            "[19 20 21 22 23 24 25 26 27 28 29 30 31 32 33 34  0  1  2  3  4  5  6  7\n",
            "  8  9 10 11 12 13 14 15 16 17 18]\n",
            "top_is_target: tf.Tensor(238887.0, shape=(), dtype=float32)\n",
            "[18 19 20 21 22 23 24 25 26 27 28 29 30 31 32 33 34  0  1  2  3  4  5  6\n",
            "  7  8  9 10 11 12 13 14 15 16 17]\n",
            "top_is_target: tf.Tensor(226323.0, shape=(), dtype=float32)\n",
            "[17 18 19 20 21 22 23 24 25 26 27 28 29 30 31 32 33 34  0  1  2  3  4  5\n",
            "  6  7  8  9 10 11 12 13 14 15 16]\n",
            "top_is_target: tf.Tensor(212568.0, shape=(), dtype=float32)\n",
            "[16 17 18 19 20 21 22 23 24 25 26 27 28 29 30 31 32 33 34  0  1  2  3  4\n",
            "  5  6  7  8  9 10 11 12 13 14 15]\n",
            "top_is_target: tf.Tensor(197832.0, shape=(), dtype=float32)\n",
            "[15 16 17 18 19 20 21 22 23 24 25 26 27 28 29 30 31 32 33 34  0  1  2  3\n",
            "  4  5  6  7  8  9 10 11 12 13 14]\n",
            "top_is_target: tf.Tensor(182325.0, shape=(), dtype=float32)\n",
            "[14 15 16 17 18 19 20 21 22 23 24 25 26 27 28 29 30 31 32 33 34  0  1  2\n",
            "  3  4  5  6  7  8  9 10 11 12 13]\n",
            "top_is_target: tf.Tensor(166257.0, shape=(), dtype=float32)\n",
            "[13 14 15 16 17 18 19 20 21 22 23 24 25 26 27 28 29 30 31 32 33 34  0  1\n",
            "  2  3  4  5  6  7  8  9 10 11 12]\n",
            "top_is_target: tf.Tensor(149838.0, shape=(), dtype=float32)\n",
            "[12 13 14 15 16 17 18 19 20 21 22 23 24 25 26 27 28 29 30 31 32 33 34  0\n",
            "  1  2  3  4  5  6  7  8  9 10 11]\n",
            "top_is_target: tf.Tensor(133278.0, shape=(), dtype=float32)\n",
            "[11 12 13 14 15 16 17 18 19 20 21 22 23 24 25 26 27 28 29 30 31 32 33 34\n",
            "  0  1  2  3  4  5  6  7  8  9 10]\n",
            "top_is_target: tf.Tensor(116787.0, shape=(), dtype=float32)\n",
            "[10 11 12 13 14 15 16 17 18 19 20 21 22 23 24 25 26 27 28 29 30 31 32 33\n",
            " 34  0  1  2  3  4  5  6  7  8  9]\n",
            "top_is_target: tf.Tensor(100575.0, shape=(), dtype=float32)\n",
            "[ 9 10 11 12 13 14 15 16 17 18 19 20 21 22 23 24 25 26 27 28 29 30 31 32\n",
            " 33 34  0  1  2  3  4  5  6  7  8]\n",
            "top_is_target: tf.Tensor(84852.0, shape=(), dtype=float32)\n",
            "[ 8  9 10 11 12 13 14 15 16 17 18 19 20 21 22 23 24 25 26 27 28 29 30 31\n",
            " 32 33 34  0  1  2  3  4  5  6  7]\n",
            "top_is_target: tf.Tensor(69828.0, shape=(), dtype=float32)\n",
            "[ 7  8  9 10 11 12 13 14 15 16 17 18 19 20 21 22 23 24 25 26 27 28 29 30\n",
            " 31 32 33 34  0  1  2  3  4  5  6]\n",
            "top_is_target: tf.Tensor(55713.0, shape=(), dtype=float32)\n",
            "[ 6  7  8  9 10 11 12 13 14 15 16 17 18 19 20 21 22 23 24 25 26 27 28 29\n",
            " 30 31 32 33 34  0  1  2  3  4  5]\n",
            "top_is_target: tf.Tensor(42717.0, shape=(), dtype=float32)\n",
            "[ 5  6  7  8  9 10 11 12 13 14 15 16 17 18 19 20 21 22 23 24 25 26 27 28\n",
            " 29 30 31 32 33 34  0  1  2  3  4]\n",
            "top_is_target: tf.Tensor(31050.0, shape=(), dtype=float32)\n",
            "[ 4  5  6  7  8  9 10 11 12 13 14 15 16 17 18 19 20 21 22 23 24 25 26 27\n",
            " 28 29 30 31 32 33 34  0  1  2  3]\n",
            "top_is_target: tf.Tensor(20922.0, shape=(), dtype=float32)\n",
            "[ 3  4  5  6  7  8  9 10 11 12 13 14 15 16 17 18 19 20 21 22 23 24 25 26\n",
            " 27 28 29 30 31 32 33 34  0  1  2]\n",
            "top_is_target: tf.Tensor(12543.0, shape=(), dtype=float32)\n",
            "[ 2  3  4  5  6  7  8  9 10 11 12 13 14 15 16 17 18 19 20 21 22 23 24 25\n",
            " 26 27 28 29 30 31 32 33 34  0  1]\n",
            "top_is_target: tf.Tensor(6123.0, shape=(), dtype=float32)\n",
            "[ 1  2  3  4  5  6  7  8  9 10 11 12 13 14 15 16 17 18 19 20 21 22 23 24\n",
            " 25 26 27 28 29 30 31 32 33 34  0]\n",
            "top_is_target: tf.Tensor(1872.0, shape=(), dtype=float32)\n"
          ]
        },
        {
          "output_type": "display_data",
          "data": {
            "text/plain": [
              "<Figure size 640x480 with 1 Axes>"
            ],
            "image/png": "[encoded data removed]"
          },
          "metadata": {}
        },
        {
          "output_type": "display_data",
          "data": {
            "text/plain": [
              "<Figure size 640x480 with 1 Axes>"
            ],
            "image/png": "[encoded data removed]"
          },
          "metadata": {}
        }
      ]
    },
    {
      "cell_type": "code",
      "source": [
        "plt.plot(loss_top_is_target , 'g');"
      ],
      "metadata": {
        "colab": {
          "base_uri": "https://localhost:8080/",
          "height": 430
        },
        "id": "en8G0Gvx2KbG",
        "outputId": "41a17801-b255-44f5-bd41-578f60f54952"
      },
      "execution_count": 173,
      "outputs": [
        {
          "output_type": "display_data",
          "data": {
            "text/plain": [
              "<Figure size 640x480 with 1 Axes>"
            ],
            "image/png": "[encoded data removed]"
          },
          "metadata": {}
        }
      ]
    },
    {
      "cell_type": "markdown",
      "source": [
        "## MAX , MIN"
      ],
      "metadata": {
        "id": "3JYwTV2O2n8I"
      }
    },
    {
      "cell_type": "code",
      "source": [
        "\"\"\"\n",
        "loss_top_is_target[0]\n",
        "\n",
        "[34  0  1  2  3  4  5  6  7  8  9 10 11 12 13 14 15 16 17 18 19 20 21 22\n",
        " 23 24 25 26 27 28 29 30 31 32 33]\n",
        "\n",
        "loss_top_is_target[-1]\n",
        "\n",
        "[ 1  2  3  4  5  6  7  8  9 10 11 12 13 14 15 16 17 18 19 20 21 22 23 24\n",
        " 25 26 27 28 29 30 31 32 33 34  0]\n",
        "\n",
        "\"\"\""
      ],
      "metadata": {
        "colab": {
          "base_uri": "https://localhost:8080/",
          "height": 52
        },
        "id": "9eWpG1Wh2-Nz",
        "outputId": "682e3037-5378-4492-f60d-26d673fc37d5"
      },
      "execution_count": 174,
      "outputs": [
        {
          "output_type": "execute_result",
          "data": {
            "text/plain": [
              "'\\nloss_top_is_target[0] \\n\\n[34  0  1  2  3  4  5  6  7  8  9 10 11 12 13 14 15 16 17 18 19 20 21 22\\n 23 24 25 26 27 28 29 30 31 32 33]\\n\\nloss_top_is_target[-1] \\n\\n[ 1  2  3  4  5  6  7  8  9 10 11 12 13 14 15 16 17 18 19 20 21 22 23 24\\n 25 26 27 28 29 30 31 32 33 34  0]\\n\\n'"
            ],
            "application/vnd.google.colaboratory.intrinsic+json": {
              "type": "string"
            }
          },
          "metadata": {},
          "execution_count": 174
        }
      ]
    },
    {
      "cell_type": "code",
      "source": [
        "loss_top_is_target.max(), loss_top_is_target.min()"
      ],
      "metadata": {
        "colab": {
          "base_uri": "https://localhost:8080/"
        },
        "id": "KGcrnE642Mtr",
        "outputId": "b9b9172a-306b-4749-cfbe-3a8a9fbad365"
      },
      "execution_count": 175,
      "outputs": [
        {
          "output_type": "execute_result",
          "data": {
            "text/plain": [
              "(277500.0, 1872.0)"
            ]
          },
          "metadata": {},
          "execution_count": 175
        }
      ]
    },
    {
      "cell_type": "code",
      "source": [
        "loss_top_is_target[0], loss_top_is_target[-1]"
      ],
      "metadata": {
        "colab": {
          "base_uri": "https://localhost:8080/"
        },
        "id": "238KpgZ02YFZ",
        "outputId": "6a6e99d9-b9e4-4875-d5ed-21eb1e5cdfc6"
      },
      "execution_count": 176,
      "outputs": [
        {
          "output_type": "execute_result",
          "data": {
            "text/plain": [
              "(52692.0, 1872.0)"
            ]
          },
          "metadata": {},
          "execution_count": 176
        }
      ]
    },
    {
      "cell_type": "markdown",
      "source": [
        "## añadir margen de rror"
      ],
      "metadata": {
        "id": "VezqE1mVWnm0"
      }
    },
    {
      "cell_type": "code",
      "source": [
        "y_true = np.array([1.,2.,3.,4.])\n",
        "y_pred = np.array([4.,3.,2.,1.])\n",
        "\n",
        "#y_true = K.cast(y_true, 'float32')\n",
        "#y_pred = K.cast(y_pred, 'float32')\n",
        "\n",
        "\n",
        "hp_top = 2\n",
        "hp_incremento_top = 1.2\n",
        "\n"
      ],
      "metadata": {
        "id": "EwX0KtZ7WpOg"
      },
      "execution_count": 177,
      "outputs": []
    },
    {
      "cell_type": "code",
      "source": [
        "w = np.arange(len(y_true)).astype(float)\n",
        "w = w[::-1] + 1\n",
        "w[:hp_top] = w[:hp_top] * hp_incremento_top\n",
        "w = K.cast(w, 'float32')\n",
        "print(w)"
      ],
      "metadata": {
        "colab": {
          "base_uri": "https://localhost:8080/"
        },
        "id": "-qkNwf9tW9fR",
        "outputId": "8e15f2ae-8602-4cb2-aedc-5383275de1c5"
      },
      "execution_count": 178,
      "outputs": [
        {
          "output_type": "stream",
          "name": "stdout",
          "text": [
            "tf.Tensor([4.8 3.6 2.  1. ], shape=(4,), dtype=float32)\n"
          ]
        }
      ]
    },
    {
      "cell_type": "code",
      "source": [
        "\n",
        "\n",
        "\n",
        "r = K.cast(y_true, 'float32')\n",
        "r_pred = K.cast(y_pred, 'float32')\n",
        "\n",
        "rsultado = K.sum(w * K.square(r - r_pred), axis=-1)"
      ],
      "metadata": {
        "id": "i-2WqwHOW-r1"
      },
      "execution_count": 179,
      "outputs": []
    },
    {
      "cell_type": "markdown",
      "source": [
        "## funcion de coste FULL KERAS BACKEND"
      ],
      "metadata": {
        "id": "uUNWSuUz3w-r"
      }
    },
    {
      "cell_type": "code",
      "source": [
        "import tensorflow as tf\n",
        "\n",
        "hp_top = 10\n",
        "hp_incremento_top = 1.3\n",
        "\n",
        "def top_is_target_k(y_true, y_pred):\n",
        "    len_y = K.shape(y_true)[0]\n",
        "    w = tf.range(start=len_y, limit=0, delta=-1, dtype='float32') + 1\n",
        "\n",
        "    w = tf.where(tf.range(len_y) < hp_top, w * hp_incremento_top, w)\n",
        "\n",
        "    r = K.cast(y_true, 'float32')\n",
        "    r_pred = K.cast(y_pred, 'float32')\n",
        "\n",
        "    return K.sum(w * K.square(r - r_pred), axis=-1)\n",
        "\n"
      ],
      "metadata": {
        "id": "g4MoPieu34Ck"
      },
      "execution_count": 180,
      "outputs": []
    },
    {
      "cell_type": "code",
      "source": [
        "# test"
      ],
      "metadata": {
        "id": "Y5aCLhS54JyJ"
      },
      "execution_count": 181,
      "outputs": []
    },
    {
      "cell_type": "code",
      "source": [
        "ranking = np.arange(35)"
      ],
      "metadata": {
        "id": "C6XO0b-24o8S"
      },
      "execution_count": 182,
      "outputs": []
    },
    {
      "cell_type": "code",
      "source": [
        "top_is_target(ranking, ranking )"
      ],
      "metadata": {
        "colab": {
          "base_uri": "https://localhost:8080/"
        },
        "id": "bY-I9dw74qVi",
        "outputId": "f7fe2002-6d19-4995-bae5-d28ea1e48a6d"
      },
      "execution_count": 183,
      "outputs": [
        {
          "output_type": "execute_result",
          "data": {
            "text/plain": [
              "<tf.Tensor: shape=(), dtype=float32, numpy=0.0>"
            ]
          },
          "metadata": {},
          "execution_count": 183
        }
      ]
    },
    {
      "cell_type": "code",
      "source": [
        "top_is_target_k(ranking, ranking )"
      ],
      "metadata": {
        "colab": {
          "base_uri": "https://localhost:8080/"
        },
        "id": "q7zpRkr34umh",
        "outputId": "65c59ea7-4fe5-4c0e-819d-2f69ce6d7877"
      },
      "execution_count": 184,
      "outputs": [
        {
          "output_type": "execute_result",
          "data": {
            "text/plain": [
              "<tf.Tensor: shape=(), dtype=float32, numpy=0.0>"
            ]
          },
          "metadata": {},
          "execution_count": 184
        }
      ]
    },
    {
      "cell_type": "markdown",
      "source": [
        "### test"
      ],
      "metadata": {
        "id": "J56E8kvv6iyx"
      }
    },
    {
      "cell_type": "code",
      "source": [
        "ranking = np.arange(35)\n",
        "\n",
        "#ranking = 2*(ranking - min(ranking)) / (max(ranking) - min(ranking)) - 1\n",
        "#print(ranking)\n",
        "\n",
        "loss_top_is_target = []\n",
        "loss = []\n",
        "for i in range(len(ranking)-1):\n",
        "  pred_ranking = np.roll(ranking, -i-1)\n",
        "  loss = top_is_target(ranking, pred_ranking )\n",
        "  loss_k = top_is_target_k(ranking, pred_ranking )\n",
        "  #print(loss)\n",
        "  #print(loss_tf)\n",
        "  if(loss != loss_k):\n",
        "    print(\"MAL\")\n",
        "    break\n",
        "\n",
        "for i in range(len(ranking)-1):\n",
        "  pred_ranking = np.roll(ranking, i+1)\n",
        "  loss = top_is_target(ranking, pred_ranking )\n",
        "  loss_k = top_is_target_k(ranking, pred_ranking )\n",
        "\n",
        "  if(loss != loss_k):\n",
        "    print(\"MAL\")\n",
        "    break\n",
        ""
      ],
      "metadata": {
        "colab": {
          "base_uri": "https://localhost:8080/"
        },
        "id": "a5toPUx04OpB",
        "outputId": "a9d74e9f-e3ca-40cc-9ca1-f72b3880740b"
      },
      "execution_count": 185,
      "outputs": [
        {
          "output_type": "stream",
          "name": "stdout",
          "text": [
            "MAL\n",
            "MAL\n"
          ]
        }
      ]
    },
    {
      "cell_type": "markdown",
      "source": [
        "## pensando en batches"
      ],
      "metadata": {
        "id": "gS1etKXV9W82"
      }
    },
    {
      "cell_type": "code",
      "source": [
        "hp_top = 10\n",
        "hp_incremento_top = 1.3\n",
        "def top_is_target(y_true, y_pred):\n",
        "  w = np.arange(len(y_true))\n",
        "  w = w[::-1] + 1\n",
        "  w[:hp_top] = w[:hp_top] * hp_incremento_top\n",
        "\n",
        "  # Normaliza los pesos para que sumen 1\n",
        "  #w = w / np.sum(w)\n",
        "\n",
        "  w = K.cast(w, 'float32')\n",
        "\n",
        "  r = K.cast(y_true, 'float32')\n",
        "  r_pred = K.cast(y_pred, 'float32')\n",
        "\n",
        "  return K.sum(w * K.square(r - r_pred), axis=-1)"
      ],
      "metadata": {
        "id": "CN6_VJcf9ZO4"
      },
      "execution_count": 186,
      "outputs": []
    },
    {
      "cell_type": "code",
      "source": [
        "ranking = np.array([\n",
        "    [1,2,3,4],\n",
        "    [3,4,2,1]\n",
        "])\n",
        "ranking"
      ],
      "metadata": {
        "colab": {
          "base_uri": "https://localhost:8080/"
        },
        "id": "yTSWwURC9tpm",
        "outputId": "9065bfaf-759c-4a6d-9172-c74945594575"
      },
      "execution_count": 187,
      "outputs": [
        {
          "output_type": "execute_result",
          "data": {
            "text/plain": [
              "array([[1, 2, 3, 4],\n",
              "       [3, 4, 2, 1]])"
            ]
          },
          "metadata": {},
          "execution_count": 187
        }
      ]
    },
    {
      "cell_type": "code",
      "source": [
        "top_is_target(ranking, ranking)"
      ],
      "metadata": {
        "colab": {
          "base_uri": "https://localhost:8080/",
          "height": 313
        },
        "id": "2SyROy0_95SO",
        "outputId": "1a769f9c-01fb-458e-c24c-a7a8dcf38fdf"
      },
      "execution_count": 188,
      "outputs": [
        {
          "output_type": "error",
          "ename": "InvalidArgumentError",
          "evalue": "ignored",
          "traceback": [
            "\u001b[0;31m---------------------------------------------------------------------------\u001b[0m",
            "\u001b[0;31mInvalidArgumentError\u001b[0m                      Traceback (most recent call last)",
            "\u001b[0;32m<ipython-input-188-3a4a9c3b2cc3>\u001b[0m in \u001b[0;36m<cell line: 1>\u001b[0;34m()\u001b[0m\n\u001b[0;32m----> 1\u001b[0;31m \u001b[0mtop_is_target\u001b[0m\u001b[0;34m(\u001b[0m\u001b[0mranking\u001b[0m\u001b[0;34m,\u001b[0m \u001b[0mranking\u001b[0m\u001b[0;34m)\u001b[0m\u001b[0;34m\u001b[0m\u001b[0;34m\u001b[0m\u001b[0m\n\u001b[0m",
            "\u001b[0;32m<ipython-input-186-6b49fbd9a19e>\u001b[0m in \u001b[0;36mtop_is_target\u001b[0;34m(y_true, y_pred)\u001b[0m\n\u001b[1;32m     14\u001b[0m   \u001b[0mr_pred\u001b[0m \u001b[0;34m=\u001b[0m \u001b[0mK\u001b[0m\u001b[0;34m.\u001b[0m\u001b[0mcast\u001b[0m\u001b[0;34m(\u001b[0m\u001b[0my_pred\u001b[0m\u001b[0;34m,\u001b[0m \u001b[0;34m'float32'\u001b[0m\u001b[0;34m)\u001b[0m\u001b[0;34m\u001b[0m\u001b[0;34m\u001b[0m\u001b[0m\n\u001b[1;32m     15\u001b[0m \u001b[0;34m\u001b[0m\u001b[0m\n\u001b[0;32m---> 16\u001b[0;31m   \u001b[0;32mreturn\u001b[0m \u001b[0mK\u001b[0m\u001b[0;34m.\u001b[0m\u001b[0msum\u001b[0m\u001b[0;34m(\u001b[0m\u001b[0mw\u001b[0m \u001b[0;34m*\u001b[0m \u001b[0mK\u001b[0m\u001b[0;34m.\u001b[0m\u001b[0msquare\u001b[0m\u001b[0;34m(\u001b[0m\u001b[0mr\u001b[0m \u001b[0;34m-\u001b[0m \u001b[0mr_pred\u001b[0m\u001b[0;34m)\u001b[0m\u001b[0;34m,\u001b[0m \u001b[0maxis\u001b[0m\u001b[0;34m=\u001b[0m\u001b[0;34m-\u001b[0m\u001b[0;36m1\u001b[0m\u001b[0;34m)\u001b[0m\u001b[0;34m\u001b[0m\u001b[0;34m\u001b[0m\u001b[0m\n\u001b[0m",
            "\u001b[0;32m/usr/local/lib/python3.10/dist-packages/tensorflow/python/util/traceback_utils.py\u001b[0m in \u001b[0;36merror_handler\u001b[0;34m(*args, **kwargs)\u001b[0m\n\u001b[1;32m    151\u001b[0m     \u001b[0;32mexcept\u001b[0m \u001b[0mException\u001b[0m \u001b[0;32mas\u001b[0m \u001b[0me\u001b[0m\u001b[0;34m:\u001b[0m\u001b[0;34m\u001b[0m\u001b[0;34m\u001b[0m\u001b[0m\n\u001b[1;32m    152\u001b[0m       \u001b[0mfiltered_tb\u001b[0m \u001b[0;34m=\u001b[0m \u001b[0m_process_traceback_frames\u001b[0m\u001b[0;34m(\u001b[0m\u001b[0me\u001b[0m\u001b[0;34m.\u001b[0m\u001b[0m__traceback__\u001b[0m\u001b[0;34m)\u001b[0m\u001b[0;34m\u001b[0m\u001b[0;34m\u001b[0m\u001b[0m\n\u001b[0;32m--> 153\u001b[0;31m       \u001b[0;32mraise\u001b[0m \u001b[0me\u001b[0m\u001b[0;34m.\u001b[0m\u001b[0mwith_traceback\u001b[0m\u001b[0;34m(\u001b[0m\u001b[0mfiltered_tb\u001b[0m\u001b[0;34m)\u001b[0m \u001b[0;32mfrom\u001b[0m \u001b[0;32mNone\u001b[0m\u001b[0;34m\u001b[0m\u001b[0;34m\u001b[0m\u001b[0m\n\u001b[0m\u001b[1;32m    154\u001b[0m     \u001b[0;32mfinally\u001b[0m\u001b[0;34m:\u001b[0m\u001b[0;34m\u001b[0m\u001b[0;34m\u001b[0m\u001b[0m\n\u001b[1;32m    155\u001b[0m       \u001b[0;32mdel\u001b[0m \u001b[0mfiltered_tb\u001b[0m\u001b[0;34m\u001b[0m\u001b[0;34m\u001b[0m\u001b[0m\n",
            "\u001b[0;32m/usr/local/lib/python3.10/dist-packages/tensorflow/python/framework/ops.py\u001b[0m in \u001b[0;36mraise_from_not_ok_status\u001b[0;34m(e, name)\u001b[0m\n\u001b[1;32m   7260\u001b[0m \u001b[0;32mdef\u001b[0m \u001b[0mraise_from_not_ok_status\u001b[0m\u001b[0;34m(\u001b[0m\u001b[0me\u001b[0m\u001b[0;34m,\u001b[0m \u001b[0mname\u001b[0m\u001b[0;34m)\u001b[0m\u001b[0;34m:\u001b[0m\u001b[0;34m\u001b[0m\u001b[0;34m\u001b[0m\u001b[0m\n\u001b[1;32m   7261\u001b[0m   \u001b[0me\u001b[0m\u001b[0;34m.\u001b[0m\u001b[0mmessage\u001b[0m \u001b[0;34m+=\u001b[0m \u001b[0;34m(\u001b[0m\u001b[0;34m\" name: \"\u001b[0m \u001b[0;34m+\u001b[0m \u001b[0mname\u001b[0m \u001b[0;32mif\u001b[0m \u001b[0mname\u001b[0m \u001b[0;32mis\u001b[0m \u001b[0;32mnot\u001b[0m \u001b[0;32mNone\u001b[0m \u001b[0;32melse\u001b[0m \u001b[0;34m\"\"\u001b[0m\u001b[0;34m)\u001b[0m\u001b[0;34m\u001b[0m\u001b[0;34m\u001b[0m\u001b[0m\n\u001b[0;32m-> 7262\u001b[0;31m   \u001b[0;32mraise\u001b[0m \u001b[0mcore\u001b[0m\u001b[0;34m.\u001b[0m\u001b[0m_status_to_exception\u001b[0m\u001b[0;34m(\u001b[0m\u001b[0me\u001b[0m\u001b[0;34m)\u001b[0m \u001b[0;32mfrom\u001b[0m \u001b[0;32mNone\u001b[0m  \u001b[0;31m# pylint: disable=protected-access\u001b[0m\u001b[0;34m\u001b[0m\u001b[0;34m\u001b[0m\u001b[0m\n\u001b[0m\u001b[1;32m   7263\u001b[0m \u001b[0;34m\u001b[0m\u001b[0m\n\u001b[1;32m   7264\u001b[0m \u001b[0;34m\u001b[0m\u001b[0m\n",
            "\u001b[0;31mInvalidArgumentError\u001b[0m: {{function_node __wrapped__Mul_device_/job:localhost/replica:0/task:0/device:CPU:0}} Incompatible shapes: [2] vs. [2,4] [Op:Mul]"
          ]
        }
      ]
    },
    {
      "cell_type": "code",
      "source": [
        "y_true = ranking\n",
        "y_pred = ranking\n",
        "\n",
        "hp_top = 2\n",
        "hp_incremento_top = 1.3\n",
        "\n",
        "y_true.shape"
      ],
      "metadata": {
        "colab": {
          "base_uri": "https://localhost:8080/"
        },
        "id": "W4N6tbUD9-SO",
        "outputId": "d5e688f3-f79d-4734-a007-681c395deab3"
      },
      "execution_count": 348,
      "outputs": [
        {
          "output_type": "execute_result",
          "data": {
            "text/plain": [
              "(2, 4)"
            ]
          },
          "metadata": {},
          "execution_count": 348
        }
      ]
    },
    {
      "cell_type": "code",
      "source": [
        "num_samples = K.shape(y_true)[0]\n",
        "num_features = K.shape(y_true)[1]"
      ],
      "metadata": {
        "id": "9gttaYsO-DI6"
      },
      "execution_count": 349,
      "outputs": []
    },
    {
      "cell_type": "code",
      "source": [
        " # Crear el vector de pesos w\n",
        "w = K.arange(num_features, dtype='float32')\n",
        "print(w)\n",
        "w = K.reverse(w, axes=0) + 1\n",
        "print(w)\n",
        "w = tf.where(K.arange(num_features) < hp_top, w * hp_incremento_top, w)\n",
        "print(w)"
      ],
      "metadata": {
        "colab": {
          "base_uri": "https://localhost:8080/"
        },
        "id": "4HzipmdI-NXG",
        "outputId": "9235d1b1-9bb0-47f0-9ea0-af928ef9c76c"
      },
      "execution_count": 350,
      "outputs": [
        {
          "output_type": "stream",
          "name": "stdout",
          "text": [
            "tf.Tensor([0. 1. 2. 3.], shape=(4,), dtype=float32)\n",
            "tf.Tensor([4. 3. 2. 1.], shape=(4,), dtype=float32)\n",
            "tf.Tensor([5.2       3.8999999 2.        1.       ], shape=(4,), dtype=float32)\n"
          ]
        }
      ]
    },
    {
      "cell_type": "code",
      "source": [
        "# Replicar w a lo largo del eje 0 (batch)\n",
        "w = K.repeat_elements(K.expand_dims(w, 0), num_samples, axis=0)\n",
        "print(w)"
      ],
      "metadata": {
        "colab": {
          "base_uri": "https://localhost:8080/"
        },
        "id": "fcnlOGOp-4wg",
        "outputId": "bb220ee1-686d-45bc-916e-7ff93533f066"
      },
      "execution_count": 351,
      "outputs": [
        {
          "output_type": "stream",
          "name": "stdout",
          "text": [
            "tf.Tensor(\n",
            "[[5.2       3.8999999 2.        1.       ]\n",
            " [5.2       3.8999999 2.        1.       ]], shape=(2, 4), dtype=float32)\n"
          ]
        }
      ]
    },
    {
      "cell_type": "code",
      "source": [
        "# Calcular la pérdida\n",
        "r = K.cast(y_true, 'float32')\n",
        "r_pred = K.cast(y_pred, 'float32')"
      ],
      "metadata": {
        "id": "pR0Q5IVRBfPh"
      },
      "execution_count": 352,
      "outputs": []
    },
    {
      "cell_type": "code",
      "source": [
        "K.sum(w * K.square(r - r_pred), axis=-1)"
      ],
      "metadata": {
        "colab": {
          "base_uri": "https://localhost:8080/"
        },
        "id": "Z8bk8deWDBfg",
        "outputId": "c1772c16-7399-41a9-9905-dcb2eaa04309"
      },
      "execution_count": 353,
      "outputs": [
        {
          "output_type": "execute_result",
          "data": {
            "text/plain": [
              "<tf.Tensor: shape=(2,), dtype=float32, numpy=array([0., 0.], dtype=float32)>"
            ]
          },
          "metadata": {},
          "execution_count": 353
        }
      ]
    },
    {
      "cell_type": "code",
      "source": [
        "hp_top = 10\n",
        "hp_incremento_top = 1.3\n",
        "def top_is_target(y_true, y_pred):\n",
        "  num_samples = K.shape(y_true)[0]\n",
        "  num_features = K.shape(y_true)[1]\n",
        "  # Crear el vector de pesos w\n",
        "  w = K.arange(num_features, dtype='float32')\n",
        "  w = K.reverse(w, axes=0) + 1\n",
        "  w = tf.where(K.arange(num_features) < hp_top, w * hp_incremento_top, w)\n",
        "  # Replicar w a lo largo del eje 0 (batch)\n",
        "  w = K.repeat_elements(K.expand_dims(w, 0), num_samples, axis=0)\n",
        "  # Calcular la pérdida\n",
        "  r = K.cast(y_true, 'float32')\n",
        "  r_pred = K.cast(y_pred, 'float32')\n",
        "\n",
        "  return K.sum(w * K.square(r - r_pred), axis=-1)\n"
      ],
      "metadata": {
        "id": "tfYjgSnHDI3F"
      },
      "execution_count": 366,
      "outputs": []
    },
    {
      "cell_type": "code",
      "source": [
        "top_is_target(ranking, ranking)"
      ],
      "metadata": {
        "colab": {
          "base_uri": "https://localhost:8080/"
        },
        "id": "WdNg1ICADcP2",
        "outputId": "5adff6cd-8da2-47d0-a072-b72d1ae7217f"
      },
      "execution_count": 357,
      "outputs": [
        {
          "output_type": "execute_result",
          "data": {
            "text/plain": [
              "<tf.Tensor: shape=(2,), dtype=float32, numpy=array([0., 0.], dtype=float32)>"
            ]
          },
          "metadata": {},
          "execution_count": 357
        }
      ]
    },
    {
      "cell_type": "code",
      "source": [
        "ranking.shape"
      ],
      "metadata": {
        "colab": {
          "base_uri": "https://localhost:8080/"
        },
        "id": "RcLc66piDtli",
        "outputId": "776439fc-9125-4448-8d09-ed004c6dc53f"
      },
      "execution_count": 361,
      "outputs": [
        {
          "output_type": "execute_result",
          "data": {
            "text/plain": [
              "(2, 4)"
            ]
          },
          "metadata": {},
          "execution_count": 361
        }
      ]
    },
    {
      "cell_type": "code",
      "source": [
        "ranking = np.arange(35)\n",
        "ranking = K.repeat_elements(K.expand_dims(ranking, 0), 2, axis=0)\n",
        "ranking\n",
        "\n",
        "loss_top_is_target = []\n",
        "print(\"############################\")\n",
        "for i in range(ranking.shape[1]):\n",
        "  pred_ranking = np.roll(ranking, i+1)\n",
        "  #pred_ranking = np.roll(ranking, i+1)\n",
        "  print(pred_ranking)\n",
        "  loss = top_is_target(ranking, pred_ranking )\n",
        "  loss_top_is_target.append(loss)\n",
        "  print(\"top_is_target: \" + str(loss))\n",
        "\n",
        "plt.figure()\n",
        "\n",
        "loss_top_is_target = np.array(loss_top_is_target)\n",
        "\n",
        "plt.plot(loss_top_is_target / loss_top_is_target.max(), 'g');"
      ],
      "metadata": {
        "colab": {
          "base_uri": "https://localhost:8080/",
          "height": 1000
        },
        "id": "5QjiGV6iDq9_",
        "outputId": "8fb4a5d1-7821-4989-f7cb-e099bd102d76"
      },
      "execution_count": 377,
      "outputs": [
        {
          "output_type": "stream",
          "name": "stdout",
          "text": [
            "############################\n",
            "[[34  0  1  2  3  4  5  6  7  8  9 10 11 12 13 14 15 16 17 18 19 20 21 22\n",
            "  23 24 25 26 27 28 29 30 31 32 33]\n",
            " [34  0  1  2  3  4  5  6  7  8  9 10 11 12 13 14 15 16 17 18 19 20 21 22\n",
            "  23 24 25 26 27 28 29 30 31 32 33]]\n",
            "top_is_target: tf.Tensor([53274.004 53274.004], shape=(2,), dtype=float32)\n",
            "[[33 34  0  1  2  3  4  5  6  7  8  9 10 11 12 13 14 15 16 17 18 19 20 21\n",
            "  22 23 24 25 26 27 28 29 30 31 32]\n",
            " [33 34  0  1  2  3  4  5  6  7  8  9 10 11 12 13 14 15 16 17 18 19 20 21\n",
            "  22 23 24 25 26 27 28 29 30 31 32]]\n",
            "top_is_target: tf.Tensor([100210.49 100210.49], shape=(2,), dtype=float32)\n",
            "[[32 33 34  0  1  2  3  4  5  6  7  8  9 10 11 12 13 14 15 16 17 18 19 20\n",
            "  21 22 23 24 25 26 27 28 29 30 31]\n",
            " [32 33 34  0  1  2  3  4  5  6  7  8  9 10 11 12 13 14 15 16 17 18 19 20\n",
            "  21 22 23 24 25 26 27 28 29 30 31]]\n",
            "top_is_target: tf.Tensor([141082.5 141082.5], shape=(2,), dtype=float32)\n",
            "[[31 32 33 34  0  1  2  3  4  5  6  7  8  9 10 11 12 13 14 15 16 17 18 19\n",
            "  20 21 22 23 24 25 26 27 28 29 30]\n",
            " [31 32 33 34  0  1  2  3  4  5  6  7  8  9 10 11 12 13 14 15 16 17 18 19\n",
            "  20 21 22 23 24 25 26 27 28 29 30]]\n",
            "top_is_target: tf.Tensor([176163. 176163.], shape=(2,), dtype=float32)\n",
            "[[30 31 32 33 34  0  1  2  3  4  5  6  7  8  9 10 11 12 13 14 15 16 17 18\n",
            "  19 20 21 22 23 24 25 26 27 28 29]\n",
            " [30 31 32 33 34  0  1  2  3  4  5  6  7  8  9 10 11 12 13 14 15 16 17 18\n",
            "  19 20 21 22 23 24 25 26 27 28 29]]\n",
            "top_is_target: tf.Tensor([205725. 205725.], shape=(2,), dtype=float32)\n",
            "[[29 30 31 32 33 34  0  1  2  3  4  5  6  7  8  9 10 11 12 13 14 15 16 17\n",
            "  18 19 20 21 22 23 24 25 26 27 28]\n",
            " [29 30 31 32 33 34  0  1  2  3  4  5  6  7  8  9 10 11 12 13 14 15 16 17\n",
            "  18 19 20 21 22 23 24 25 26 27 28]]\n",
            "top_is_target: tf.Tensor([230041.5 230041.5], shape=(2,), dtype=float32)\n",
            "[[28 29 30 31 32 33 34  0  1  2  3  4  5  6  7  8  9 10 11 12 13 14 15 16\n",
            "  17 18 19 20 21 22 23 24 25 26 27]\n",
            " [28 29 30 31 32 33 34  0  1  2  3  4  5  6  7  8  9 10 11 12 13 14 15 16\n",
            "  17 18 19 20 21 22 23 24 25 26 27]]\n",
            "top_is_target: tf.Tensor([249385.48 249385.48], shape=(2,), dtype=float32)\n",
            "[[27 28 29 30 31 32 33 34  0  1  2  3  4  5  6  7  8  9 10 11 12 13 14 15\n",
            "  16 17 18 19 20 21 22 23 24 25 26]\n",
            " [27 28 29 30 31 32 33 34  0  1  2  3  4  5  6  7  8  9 10 11 12 13 14 15\n",
            "  16 17 18 19 20 21 22 23 24 25 26]]\n",
            "top_is_target: tf.Tensor([264030. 264030.], shape=(2,), dtype=float32)\n",
            "[[26 27 28 29 30 31 32 33 34  0  1  2  3  4  5  6  7  8  9 10 11 12 13 14\n",
            "  15 16 17 18 19 20 21 22 23 24 25]\n",
            " [26 27 28 29 30 31 32 33 34  0  1  2  3  4  5  6  7  8  9 10 11 12 13 14\n",
            "  15 16 17 18 19 20 21 22 23 24 25]]\n",
            "top_is_target: tf.Tensor([274248. 274248.], shape=(2,), dtype=float32)\n",
            "[[25 26 27 28 29 30 31 32 33 34  0  1  2  3  4  5  6  7  8  9 10 11 12 13\n",
            "  14 15 16 17 18 19 20 21 22 23 24]\n",
            " [25 26 27 28 29 30 31 32 33 34  0  1  2  3  4  5  6  7  8  9 10 11 12 13\n",
            "  14 15 16 17 18 19 20 21 22 23 24]]\n",
            "top_is_target: tf.Tensor([280312.5 280312.5], shape=(2,), dtype=float32)\n",
            "[[24 25 26 27 28 29 30 31 32 33 34  0  1  2  3  4  5  6  7  8  9 10 11 12\n",
            "  13 14 15 16 17 18 19 20 21 22 23]\n",
            " [24 25 26 27 28 29 30 31 32 33 34  0  1  2  3  4  5  6  7  8  9 10 11 12\n",
            "  13 14 15 16 17 18 19 20 21 22 23]]\n",
            "top_is_target: tf.Tensor([279084. 279084.], shape=(2,), dtype=float32)\n",
            "[[23 24 25 26 27 28 29 30 31 32 33 34  0  1  2  3  4  5  6  7  8  9 10 11\n",
            "  12 13 14 15 16 17 18 19 20 21 22]\n",
            " [23 24 25 26 27 28 29 30 31 32 33 34  0  1  2  3  4  5  6  7  8  9 10 11\n",
            "  12 13 14 15 16 17 18 19 20 21 22]]\n",
            "top_is_target: tf.Tensor([275413.5 275413.5], shape=(2,), dtype=float32)\n",
            "[[22 23 24 25 26 27 28 29 30 31 32 33 34  0  1  2  3  4  5  6  7  8  9 10\n",
            "  11 12 13 14 15 16 17 18 19 20 21]\n",
            " [22 23 24 25 26 27 28 29 30 31 32 33 34  0  1  2  3  4  5  6  7  8  9 10\n",
            "  11 12 13 14 15 16 17 18 19 20 21]]\n",
            "top_is_target: tf.Tensor([269511. 269511.], shape=(2,), dtype=float32)\n",
            "[[21 22 23 24 25 26 27 28 29 30 31 32 33 34  0  1  2  3  4  5  6  7  8  9\n",
            "  10 11 12 13 14 15 16 17 18 19 20]\n",
            " [21 22 23 24 25 26 27 28 29 30 31 32 33 34  0  1  2  3  4  5  6  7  8  9\n",
            "  10 11 12 13 14 15 16 17 18 19 20]]\n",
            "top_is_target: tf.Tensor([261586.5 261586.5], shape=(2,), dtype=float32)\n",
            "[[20 21 22 23 24 25 26 27 28 29 30 31 32 33 34  0  1  2  3  4  5  6  7  8\n",
            "   9 10 11 12 13 14 15 16 17 18 19]\n",
            " [20 21 22 23 24 25 26 27 28 29 30 31 32 33 34  0  1  2  3  4  5  6  7  8\n",
            "   9 10 11 12 13 14 15 16 17 18 19]]\n",
            "top_is_target: tf.Tensor([251850. 251850.], shape=(2,), dtype=float32)\n",
            "[[19 20 21 22 23 24 25 26 27 28 29 30 31 32 33 34  0  1  2  3  4  5  6  7\n",
            "   8  9 10 11 12 13 14 15 16 17 18]\n",
            " [19 20 21 22 23 24 25 26 27 28 29 30 31 32 33 34  0  1  2  3  4  5  6  7\n",
            "   8  9 10 11 12 13 14 15 16 17 18]]\n",
            "top_is_target: tf.Tensor([240511.5 240511.5], shape=(2,), dtype=float32)\n",
            "[[18 19 20 21 22 23 24 25 26 27 28 29 30 31 32 33 34  0  1  2  3  4  5  6\n",
            "   7  8  9 10 11 12 13 14 15 16 17]\n",
            " [18 19 20 21 22 23 24 25 26 27 28 29 30 31 32 33 34  0  1  2  3  4  5  6\n",
            "   7  8  9 10 11 12 13 14 15 16 17]]\n",
            "top_is_target: tf.Tensor([227781. 227781.], shape=(2,), dtype=float32)\n",
            "[[17 18 19 20 21 22 23 24 25 26 27 28 29 30 31 32 33 34  0  1  2  3  4  5\n",
            "   6  7  8  9 10 11 12 13 14 15 16]\n",
            " [17 18 19 20 21 22 23 24 25 26 27 28 29 30 31 32 33 34  0  1  2  3  4  5\n",
            "   6  7  8  9 10 11 12 13 14 15 16]]\n",
            "top_is_target: tf.Tensor([213868.5 213868.5], shape=(2,), dtype=float32)\n",
            "[[16 17 18 19 20 21 22 23 24 25 26 27 28 29 30 31 32 33 34  0  1  2  3  4\n",
            "   5  6  7  8  9 10 11 12 13 14 15]\n",
            " [16 17 18 19 20 21 22 23 24 25 26 27 28 29 30 31 32 33 34  0  1  2  3  4\n",
            "   5  6  7  8  9 10 11 12 13 14 15]]\n",
            "top_is_target: tf.Tensor([198984. 198984.], shape=(2,), dtype=float32)\n",
            "[[15 16 17 18 19 20 21 22 23 24 25 26 27 28 29 30 31 32 33 34  0  1  2  3\n",
            "   4  5  6  7  8  9 10 11 12 13 14]\n",
            " [15 16 17 18 19 20 21 22 23 24 25 26 27 28 29 30 31 32 33 34  0  1  2  3\n",
            "   4  5  6  7  8  9 10 11 12 13 14]]\n",
            "top_is_target: tf.Tensor([183337.5 183337.5], shape=(2,), dtype=float32)\n",
            "[[14 15 16 17 18 19 20 21 22 23 24 25 26 27 28 29 30 31 32 33 34  0  1  2\n",
            "   3  4  5  6  7  8  9 10 11 12 13]\n",
            " [14 15 16 17 18 19 20 21 22 23 24 25 26 27 28 29 30 31 32 33 34  0  1  2\n",
            "   3  4  5  6  7  8  9 10 11 12 13]]\n",
            "top_is_target: tf.Tensor([167139. 167139.], shape=(2,), dtype=float32)\n",
            "[[13 14 15 16 17 18 19 20 21 22 23 24 25 26 27 28 29 30 31 32 33 34  0  1\n",
            "   2  3  4  5  6  7  8  9 10 11 12]\n",
            " [13 14 15 16 17 18 19 20 21 22 23 24 25 26 27 28 29 30 31 32 33 34  0  1\n",
            "   2  3  4  5  6  7  8  9 10 11 12]]\n",
            "top_is_target: tf.Tensor([150598.5 150598.5], shape=(2,), dtype=float32)\n",
            "[[12 13 14 15 16 17 18 19 20 21 22 23 24 25 26 27 28 29 30 31 32 33 34  0\n",
            "   1  2  3  4  5  6  7  8  9 10 11]\n",
            " [12 13 14 15 16 17 18 19 20 21 22 23 24 25 26 27 28 29 30 31 32 33 34  0\n",
            "   1  2  3  4  5  6  7  8  9 10 11]]\n",
            "top_is_target: tf.Tensor([133926. 133926.], shape=(2,), dtype=float32)\n",
            "[[11 12 13 14 15 16 17 18 19 20 21 22 23 24 25 26 27 28 29 30 31 32 33 34\n",
            "   0  1  2  3  4  5  6  7  8  9 10]\n",
            " [11 12 13 14 15 16 17 18 19 20 21 22 23 24 25 26 27 28 29 30 31 32 33 34\n",
            "   0  1  2  3  4  5  6  7  8  9 10]]\n",
            "top_is_target: tf.Tensor([117331.5 117331.5], shape=(2,), dtype=float32)\n",
            "[[10 11 12 13 14 15 16 17 18 19 20 21 22 23 24 25 26 27 28 29 30 31 32 33\n",
            "  34  0  1  2  3  4  5  6  7  8  9]\n",
            " [10 11 12 13 14 15 16 17 18 19 20 21 22 23 24 25 26 27 28 29 30 31 32 33\n",
            "  34  0  1  2  3  4  5  6  7  8  9]]\n",
            "top_is_target: tf.Tensor([101025. 101025.], shape=(2,), dtype=float32)\n",
            "[[ 9 10 11 12 13 14 15 16 17 18 19 20 21 22 23 24 25 26 27 28 29 30 31 32\n",
            "  33 34  0  1  2  3  4  5  6  7  8]\n",
            " [ 9 10 11 12 13 14 15 16 17 18 19 20 21 22 23 24 25 26 27 28 29 30 31 32\n",
            "  33 34  0  1  2  3  4  5  6  7  8]]\n",
            "top_is_target: tf.Tensor([85216.5 85216.5], shape=(2,), dtype=float32)\n",
            "[[ 8  9 10 11 12 13 14 15 16 17 18 19 20 21 22 23 24 25 26 27 28 29 30 31\n",
            "  32 33 34  0  1  2  3  4  5  6  7]\n",
            " [ 8  9 10 11 12 13 14 15 16 17 18 19 20 21 22 23 24 25 26 27 28 29 30 31\n",
            "  32 33 34  0  1  2  3  4  5  6  7]]\n",
            "top_is_target: tf.Tensor([70116. 70116.], shape=(2,), dtype=float32)\n",
            "[[ 7  8  9 10 11 12 13 14 15 16 17 18 19 20 21 22 23 24 25 26 27 28 29 30\n",
            "  31 32 33 34  0  1  2  3  4  5  6]\n",
            " [ 7  8  9 10 11 12 13 14 15 16 17 18 19 20 21 22 23 24 25 26 27 28 29 30\n",
            "  31 32 33 34  0  1  2  3  4  5  6]]\n",
            "top_is_target: tf.Tensor([55933.5 55933.5], shape=(2,), dtype=float32)\n",
            "[[ 6  7  8  9 10 11 12 13 14 15 16 17 18 19 20 21 22 23 24 25 26 27 28 29\n",
            "  30 31 32 33 34  0  1  2  3  4  5]\n",
            " [ 6  7  8  9 10 11 12 13 14 15 16 17 18 19 20 21 22 23 24 25 26 27 28 29\n",
            "  30 31 32 33 34  0  1  2  3  4  5]]\n",
            "top_is_target: tf.Tensor([42879. 42879.], shape=(2,), dtype=float32)\n",
            "[[ 5  6  7  8  9 10 11 12 13 14 15 16 17 18 19 20 21 22 23 24 25 26 27 28\n",
            "  29 30 31 32 33 34  0  1  2  3  4]\n",
            " [ 5  6  7  8  9 10 11 12 13 14 15 16 17 18 19 20 21 22 23 24 25 26 27 28\n",
            "  29 30 31 32 33 34  0  1  2  3  4]]\n",
            "top_is_target: tf.Tensor([31162.5 31162.5], shape=(2,), dtype=float32)\n",
            "[[ 4  5  6  7  8  9 10 11 12 13 14 15 16 17 18 19 20 21 22 23 24 25 26 27\n",
            "  28 29 30 31 32 33 34  0  1  2  3]\n",
            " [ 4  5  6  7  8  9 10 11 12 13 14 15 16 17 18 19 20 21 22 23 24 25 26 27\n",
            "  28 29 30 31 32 33 34  0  1  2  3]]\n",
            "top_is_target: tf.Tensor([20994. 20994.], shape=(2,), dtype=float32)\n",
            "[[ 3  4  5  6  7  8  9 10 11 12 13 14 15 16 17 18 19 20 21 22 23 24 25 26\n",
            "  27 28 29 30 31 32 33 34  0  1  2]\n",
            " [ 3  4  5  6  7  8  9 10 11 12 13 14 15 16 17 18 19 20 21 22 23 24 25 26\n",
            "  27 28 29 30 31 32 33 34  0  1  2]]\n",
            "top_is_target: tf.Tensor([12583.5 12583.5], shape=(2,), dtype=float32)\n",
            "[[ 2  3  4  5  6  7  8  9 10 11 12 13 14 15 16 17 18 19 20 21 22 23 24 25\n",
            "  26 27 28 29 30 31 32 33 34  0  1]\n",
            " [ 2  3  4  5  6  7  8  9 10 11 12 13 14 15 16 17 18 19 20 21 22 23 24 25\n",
            "  26 27 28 29 30 31 32 33 34  0  1]]\n",
            "top_is_target: tf.Tensor([6141. 6141.], shape=(2,), dtype=float32)\n",
            "[[ 1  2  3  4  5  6  7  8  9 10 11 12 13 14 15 16 17 18 19 20 21 22 23 24\n",
            "  25 26 27 28 29 30 31 32 33 34  0]\n",
            " [ 1  2  3  4  5  6  7  8  9 10 11 12 13 14 15 16 17 18 19 20 21 22 23 24\n",
            "  25 26 27 28 29 30 31 32 33 34  0]]\n",
            "top_is_target: tf.Tensor([1876.5 1876.5], shape=(2,), dtype=float32)\n",
            "[[ 0  1  2  3  4  5  6  7  8  9 10 11 12 13 14 15 16 17 18 19 20 21 22 23\n",
            "  24 25 26 27 28 29 30 31 32 33 34]\n",
            " [ 0  1  2  3  4  5  6  7  8  9 10 11 12 13 14 15 16 17 18 19 20 21 22 23\n",
            "  24 25 26 27 28 29 30 31 32 33 34]]\n",
            "top_is_target: tf.Tensor([0. 0.], shape=(2,), dtype=float32)\n"
          ]
        },
        {
          "output_type": "display_data",
          "data": {
            "text/plain": [
              "<Figure size 640x480 with 1 Axes>"
            ],
            "image/png": "[encoded data removed]"
          },
          "metadata": {}
        }
      ]
    },
    {
      "cell_type": "code",
      "source": [
        "for i in range(10):\n",
        "\n",
        "  ranking = np.arange((1*i) +1)\n",
        "  ranking = K.repeat_elements(K.expand_dims(ranking, 0), 2, axis=0)\n",
        "  ranking\n",
        "\n",
        "  loss_top_is_target = []\n",
        "\n",
        "  for i in range(ranking.shape[1]):\n",
        "    pred_ranking = np.roll(ranking, i+1)\n",
        "    #pred_ranking = np.roll(ranking, i+1)\n",
        "    #print(pred_ranking)\n",
        "    loss = top_is_target(ranking, pred_ranking )\n",
        "    loss_top_is_target.append(loss)\n",
        "    #print(\"top_is_target: \" + str(loss))\n",
        "\n",
        "\n",
        "  plt.figure()\n",
        "\n",
        "  loss_top_is_target = np.array(loss_top_is_target)\n",
        "\n",
        "  plt.plot(loss_top_is_target / loss_top_is_target.max(), 'g');\n",
        "  plt.title(str(i))"
      ],
      "metadata": {
        "colab": {
          "base_uri": "https://localhost:8080/",
          "height": 1000
        },
        "id": "cfuY0Tt5FL6X",
        "outputId": "113e864d-641f-4548-8e9a-dc0cc4eff1ca"
      },
      "execution_count": 389,
      "outputs": [
        {
          "output_type": "stream",
          "name": "stderr",
          "text": [
            "<ipython-input-389-dd297ddc1442>:22: RuntimeWarning: invalid value encountered in true_divide\n",
            "  plt.plot(loss_top_is_target / loss_top_is_target.max(), 'g');\n"
          ]
        },
        {
          "output_type": "display_data",
          "data": {
            "text/plain": [
              "<Figure size 640x480 with 1 Axes>"
            ],
            "image/png": "[encoded data removed]"
          },
          "metadata": {}
        },
        {
          "output_type": "display_data",
          "data": {
            "text/plain": [
              "<Figure size 640x480 with 1 Axes>"
            ],
            "image/png": "[encoded data removed]"
          },
          "metadata": {}
        },
        {
          "output_type": "display_data",
          "data": {
            "text/plain": [
              "<Figure size 640x480 with 1 Axes>"
            ],
            "image/png": "[encoded data removed]"
          },
          "metadata": {}
        },
        {
          "output_type": "display_data",
          "data": {
            "text/plain": [
              "<Figure size 640x480 with 1 Axes>"
            ],
            "image/png": "[encoded data removed]"
          },
          "metadata": {}
        },
        {
          "output_type": "display_data",
          "data": {
            "text/plain": [
              "<Figure size 640x480 with 1 Axes>"
            ],
            "image/png": "[encoded data removed]"
          },
          "metadata": {}
        },
        {
          "output_type": "display_data",
          "data": {
            "text/plain": [
              "<Figure size 640x480 with 1 Axes>"
            ],
            "image/png": "[encoded data removed]"
          },
          "metadata": {}
        },
        {
          "output_type": "display_data",
          "data": {
            "text/plain": [
              "<Figure size 640x480 with 1 Axes>"
            ],
            "image/png": "[encoded data removed]"
          },
          "metadata": {}
        },
        {
          "output_type": "display_data",
          "data": {
            "text/plain": [
              "<Figure size 640x480 with 1 Axes>"
            ],
            "image/png": "[encoded data removed]"
          },
          "metadata": {}
        },
        {
          "output_type": "display_data",
          "data": {
            "text/plain": [
              "<Figure size 640x480 with 1 Axes>"
            ],
            "image/png": "[encoded data removed]"
          },
          "metadata": {}
        },
        {
          "output_type": "display_data",
          "data": {
            "text/plain": [
              "<Figure size 640x480 with 1 Axes>"
            ],
            "image/png": "[encoded data removed]"
          },
          "metadata": {}
        }
      ]
    }
  ]
}