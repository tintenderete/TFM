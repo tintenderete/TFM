{
  "nbformat": 4,
  "nbformat_minor": 0,
  "metadata": {
    "colab": {
      "provenance": [],
      "toc_visible": true,
      "authorship_tag": "ABX9TyPgxHchve7P0+I8OJ2Z2YIK",
      "include_colab_link": true
    },
    "kernelspec": {
      "name": "python3",
      "display_name": "Python 3"
    },
    "language_info": {
      "name": "python"
    }
  },
  "cells": [
    {
      "cell_type": "markdown",
      "metadata": {
        "id": "view-in-github",
        "colab_type": "text"
      },
      "source": [
        "<a href=\"https://colab.research.google.com/github/tintenderete/TFM-Algoritmo-con-redes-evolutivas/blob/main/C_funcion_perdida_1.ipynb\" target=\"_parent\"><img src=\"https://colab.research.google.com/assets/colab-badge.svg\" alt=\"Open In Colab\"/></a>"
      ]
    },
    {
      "cell_type": "code",
      "source": [
        "import tensorflow as tf\n",
        "import numpy as np"
      ],
      "metadata": {
        "id": "lbRBYpdYemmT"
      },
      "execution_count": 1,
      "outputs": []
    },
    {
      "cell_type": "code",
      "execution_count": 2,
      "metadata": {
        "id": "0l9bmj-Neav9"
      },
      "outputs": [],
      "source": [
        "def perdida_listas(ranking_real, ranking_predicho):\n",
        "    diferencias = tf.abs(ranking_real - ranking_predicho)\n",
        "    perdida_total = tf.reduce_sum(diferencias)\n",
        "    \"\"\"\n",
        "    Una opción podría ser cambiar tf.reduce_sum() por tf.reduce_mean() para tomar el promedio de las diferencias en lugar de la suma. Esto hará que la pérdida sea independiente del tamaño del lote de datos.\n",
        "    \"\"\"\n",
        "    return perdida_total\n"
      ]
    },
    {
      "cell_type": "code",
      "source": [
        "ranking_real = np.array([[6,3,2,4,5,1]])\n",
        "ranking_real"
      ],
      "metadata": {
        "colab": {
          "base_uri": "https://localhost:8080/"
        },
        "id": "o1TNj_l7ffTm",
        "outputId": "513a0ffd-2b41-4271-dc44-e7b3b572fd2f"
      },
      "execution_count": 3,
      "outputs": [
        {
          "output_type": "execute_result",
          "data": {
            "text/plain": [
              "array([[6, 3, 2, 4, 5, 1]])"
            ]
          },
          "metadata": {},
          "execution_count": 3
        }
      ]
    },
    {
      "cell_type": "code",
      "source": [
        "ranking_predicho = np.array([[1,2,3,6,5,4]])\n",
        "ranking_predicho"
      ],
      "metadata": {
        "colab": {
          "base_uri": "https://localhost:8080/"
        },
        "id": "hWjagbCvghGM",
        "outputId": "8e78082f-0321-4319-d627-99d197f60615"
      },
      "execution_count": 4,
      "outputs": [
        {
          "output_type": "execute_result",
          "data": {
            "text/plain": [
              "array([[1, 2, 3, 6, 5, 4]])"
            ]
          },
          "metadata": {},
          "execution_count": 4
        }
      ]
    },
    {
      "cell_type": "code",
      "source": [
        "diferencias = tf.abs(ranking_real - ranking_predicho)\n",
        "diferencias"
      ],
      "metadata": {
        "colab": {
          "base_uri": "https://localhost:8080/"
        },
        "id": "Rr_23ouLgzpQ",
        "outputId": "257217ce-0c2e-45fa-eb4e-e6c021954821"
      },
      "execution_count": 5,
      "outputs": [
        {
          "output_type": "execute_result",
          "data": {
            "text/plain": [
              "<tf.Tensor: shape=(1, 6), dtype=int64, numpy=array([[5, 1, 1, 2, 0, 3]])>"
            ]
          },
          "metadata": {},
          "execution_count": 5
        }
      ]
    },
    {
      "cell_type": "code",
      "source": [
        "perdida_total = tf.reduce_sum(diferencias)\n",
        "perdida_total"
      ],
      "metadata": {
        "colab": {
          "base_uri": "https://localhost:8080/"
        },
        "id": "HBhJ4nkbhTt1",
        "outputId": "473782e7-3734-4f54-a16c-951f145376d0"
      },
      "execution_count": 6,
      "outputs": [
        {
          "output_type": "execute_result",
          "data": {
            "text/plain": [
              "<tf.Tensor: shape=(), dtype=int64, numpy=12>"
            ]
          },
          "metadata": {},
          "execution_count": 6
        }
      ]
    },
    {
      "cell_type": "code",
      "source": [
        "perdida_listas(ranking_real, ranking_predicho)"
      ],
      "metadata": {
        "colab": {
          "base_uri": "https://localhost:8080/"
        },
        "id": "2t7At1n3gqkd",
        "outputId": "ce3b396e-80f0-4d40-c68d-bdb2fcfe6321"
      },
      "execution_count": 7,
      "outputs": [
        {
          "output_type": "execute_result",
          "data": {
            "text/plain": [
              "<tf.Tensor: shape=(), dtype=int64, numpy=12>"
            ]
          },
          "metadata": {},
          "execution_count": 7
        }
      ]
    },
    {
      "cell_type": "markdown",
      "source": [
        "# asignar más peso a las diferencias que corresponden a números más bajos en el ranking real.\n",
        "\n",
        "castiga cuando los mejores estan clasificados como peores"
      ],
      "metadata": {
        "id": "DiQbwz9UjF89"
      }
    },
    {
      "cell_type": "code",
      "source": [
        "def perdida_listas(ranking_real, ranking_predicho):\n",
        "    diferencias = tf.abs(ranking_real - ranking_predicho)\n",
        "    diferencias_ponderadas = diferencias / (ranking_real + 1e-7)  # Añadimos un pequeño número para evitar la división por cero\n",
        "    perdida_total = tf.reduce_sum(diferencias_ponderadas)\n",
        "    return perdida_total"
      ],
      "metadata": {
        "id": "op4HIHjBjLBh"
      },
      "execution_count": 8,
      "outputs": []
    },
    {
      "cell_type": "code",
      "source": [
        "ranking_real, ranking_predicho"
      ],
      "metadata": {
        "colab": {
          "base_uri": "https://localhost:8080/"
        },
        "id": "MsuxCBA7jTml",
        "outputId": "0373bd67-e7f7-4d53-b076-0d6a8c7744f7"
      },
      "execution_count": 9,
      "outputs": [
        {
          "output_type": "execute_result",
          "data": {
            "text/plain": [
              "(array([[6, 3, 2, 4, 5, 1]]), array([[1, 2, 3, 6, 5, 4]]))"
            ]
          },
          "metadata": {},
          "execution_count": 9
        }
      ]
    },
    {
      "cell_type": "code",
      "source": [
        "diferencias = tf.abs(ranking_real - ranking_predicho)\n",
        "diferencias"
      ],
      "metadata": {
        "colab": {
          "base_uri": "https://localhost:8080/"
        },
        "id": "Ww5bIdgRjN5p",
        "outputId": "04895e6b-f0d8-49a6-b23f-1a81deedf7f9"
      },
      "execution_count": 10,
      "outputs": [
        {
          "output_type": "execute_result",
          "data": {
            "text/plain": [
              "<tf.Tensor: shape=(1, 6), dtype=int64, numpy=array([[5, 1, 1, 2, 0, 3]])>"
            ]
          },
          "metadata": {},
          "execution_count": 10
        }
      ]
    },
    {
      "cell_type": "code",
      "source": [
        "diferencias_ponderadas = diferencias / (ranking_real + 1e-7)\n",
        "diferencias_ponderadas.numpy()"
      ],
      "metadata": {
        "colab": {
          "base_uri": "https://localhost:8080/"
        },
        "id": "A7W6FpSKjW_I",
        "outputId": "77396f40-b9b0-47fc-cf7e-38c5eb2b0108"
      },
      "execution_count": 11,
      "outputs": [
        {
          "output_type": "execute_result",
          "data": {
            "text/plain": [
              "array([[0.83333333, 0.33333333, 0.5       , 0.5       , 0.        ,\n",
              "        3.        ]])"
            ]
          },
          "metadata": {},
          "execution_count": 11
        }
      ]
    },
    {
      "cell_type": "code",
      "source": [
        "perdida_total = tf.reduce_sum(diferencias_ponderadas)\n",
        "perdida_total"
      ],
      "metadata": {
        "colab": {
          "base_uri": "https://localhost:8080/"
        },
        "id": "dJtwpW4Gjk1N",
        "outputId": "80a6ce85-f050-4068-8bb3-3b10e8e561d0"
      },
      "execution_count": 12,
      "outputs": [
        {
          "output_type": "execute_result",
          "data": {
            "text/plain": [
              "<tf.Tensor: shape=(), dtype=float64, numpy=5.166666666666667>"
            ]
          },
          "metadata": {},
          "execution_count": 12
        }
      ]
    },
    {
      "cell_type": "code",
      "source": [
        "perdida_listas(ranking_real, ranking_predicho)"
      ],
      "metadata": {
        "colab": {
          "base_uri": "https://localhost:8080/"
        },
        "id": "Eg2PgKzNkD_5",
        "outputId": "6f012988-0b09-4961-f8f7-65a4aad87792"
      },
      "execution_count": 13,
      "outputs": [
        {
          "output_type": "execute_result",
          "data": {
            "text/plain": [
              "<tf.Tensor: shape=(), dtype=float64, numpy=5.166666666666667>"
            ]
          },
          "metadata": {},
          "execution_count": 13
        }
      ]
    },
    {
      "cell_type": "code",
      "source": [],
      "metadata": {
        "id": "cCLxKKKToAEo"
      },
      "execution_count": 13,
      "outputs": []
    },
    {
      "cell_type": "markdown",
      "source": [
        "## inversa"
      ],
      "metadata": {
        "id": "9wF_hp9rwm7A"
      }
    },
    {
      "cell_type": "markdown",
      "source": [
        "castiga cuando los peores estan clasificados como mejores"
      ],
      "metadata": {
        "id": "pxSzRnJspr_E"
      }
    },
    {
      "cell_type": "code",
      "source": [
        "ranking_real, ranking_predicho"
      ],
      "metadata": {
        "colab": {
          "base_uri": "https://localhost:8080/"
        },
        "id": "6SneRl2Yp1Z2",
        "outputId": "d8338494-cc12-4793-c771-65c6255e37be"
      },
      "execution_count": 14,
      "outputs": [
        {
          "output_type": "execute_result",
          "data": {
            "text/plain": [
              "(array([[6, 3, 2, 4, 5, 1]]), array([[1, 2, 3, 6, 5, 4]]))"
            ]
          },
          "metadata": {},
          "execution_count": 14
        }
      ]
    },
    {
      "cell_type": "code",
      "source": [
        "diferencias = tf.abs(ranking_real - ranking_predicho)\n",
        "diferencias"
      ],
      "metadata": {
        "colab": {
          "base_uri": "https://localhost:8080/"
        },
        "id": "4ATJtcCMrSBj",
        "outputId": "4b5cfab9-700e-42f9-f0af-752c4a3520f5"
      },
      "execution_count": 15,
      "outputs": [
        {
          "output_type": "execute_result",
          "data": {
            "text/plain": [
              "<tf.Tensor: shape=(1, 6), dtype=int64, numpy=array([[5, 1, 1, 2, 0, 3]])>"
            ]
          },
          "metadata": {},
          "execution_count": 15
        }
      ]
    },
    {
      "cell_type": "code",
      "source": [
        "diferencias_ponderadas = diferencias / (ranking_predicho + 1e-7)\n",
        "diferencias_ponderadas.numpy()"
      ],
      "metadata": {
        "colab": {
          "base_uri": "https://localhost:8080/"
        },
        "id": "MDnG5JUHrT3S",
        "outputId": "3135fdd8-10ab-44cd-de5f-fccd996f67fb"
      },
      "execution_count": 16,
      "outputs": [
        {
          "output_type": "execute_result",
          "data": {
            "text/plain": [
              "array([[5.        , 0.5       , 0.33333333, 0.33333333, 0.        ,\n",
              "        0.75      ]])"
            ]
          },
          "metadata": {},
          "execution_count": 16
        }
      ]
    },
    {
      "cell_type": "code",
      "source": [
        "def perdida_listas(ranking_real, ranking_predicho):\n",
        "    ranking_real = tf.cast(ranking_real, tf.float32)\n",
        "    ranking_predicho = tf.cast(ranking_predicho, tf.float32)\n",
        "    diferencias = tf.abs(ranking_real - ranking_predicho)\n",
        "    diferencias_ponderadas = diferencias / (ranking_real + 0.01)  # Añadimos un pequeño número para evitar la división por cero\n",
        "    perdida_total = tf.reduce_sum(diferencias_ponderadas)\n",
        "    return perdida_total"
      ],
      "metadata": {
        "id": "PVG9qxGVzmXn"
      },
      "execution_count": 17,
      "outputs": []
    },
    {
      "cell_type": "code",
      "source": [
        "def loss_ranking(ranking_real, ranking_predicho):\n",
        "    ranking_real_float = tf.cast(ranking_real, tf.float32)\n",
        "    ranking_predicho = tf.cast(ranking_predicho, tf.float32)\n",
        "    diferencias = tf.abs(ranking_real_float - ranking_predicho)\n",
        "    diferencias_ponderadas = diferencias / (ranking_predicho + 0.01) # <<<<---------\n",
        "    perdida_total = tf.reduce_sum(diferencias_ponderadas)\n",
        "    return abs(perdida_total)"
      ],
      "metadata": {
        "id": "GcBQSjfjC4c3"
      },
      "execution_count": 18,
      "outputs": []
    },
    {
      "cell_type": "markdown",
      "source": [
        "----"
      ],
      "metadata": {
        "id": "liQGuGw9DnjG"
      }
    },
    {
      "cell_type": "code",
      "source": [
        "diferencias = tf.abs(np.array([1,2,3]) - np.array([10,2,3]))\n",
        "diferencias"
      ],
      "metadata": {
        "colab": {
          "base_uri": "https://localhost:8080/"
        },
        "id": "dwU0y80rMH6s",
        "outputId": "0a08a100-822d-4987-f236-8484a8733792"
      },
      "execution_count": 19,
      "outputs": [
        {
          "output_type": "execute_result",
          "data": {
            "text/plain": [
              "<tf.Tensor: shape=(3,), dtype=int64, numpy=array([9, 0, 0])>"
            ]
          },
          "metadata": {},
          "execution_count": 19
        }
      ]
    },
    {
      "cell_type": "code",
      "source": [
        "diferencias_ponderadas = diferencias / ( np.array([1,2,3])  + 1e-7)\n",
        "diferencias_ponderadas.numpy()"
      ],
      "metadata": {
        "colab": {
          "base_uri": "https://localhost:8080/"
        },
        "id": "mEEc27uJMLpY",
        "outputId": "251095dd-5bd0-4f9e-ab80-88a148f10e16"
      },
      "execution_count": 20,
      "outputs": [
        {
          "output_type": "execute_result",
          "data": {
            "text/plain": [
              "array([9., 0., 0.])"
            ]
          },
          "metadata": {},
          "execution_count": 20
        }
      ]
    },
    {
      "cell_type": "code",
      "source": [
        "loss_ranking(\n",
        "    np.array([1,2,3]),\n",
        "    np.array([1,2,10])\n",
        "    )"
      ],
      "metadata": {
        "id": "UsfYcMa2DQNb",
        "outputId": "75a06906-14df-4fe2-fd26-6485df183597",
        "colab": {
          "base_uri": "https://localhost:8080/"
        }
      },
      "execution_count": 21,
      "outputs": [
        {
          "output_type": "execute_result",
          "data": {
            "text/plain": [
              "<tf.Tensor: shape=(), dtype=float32, numpy=0.6993007>"
            ]
          },
          "metadata": {},
          "execution_count": 21
        }
      ]
    },
    {
      "cell_type": "code",
      "source": [
        "diferencias = tf.abs(np.array([1,2,3]) - np.array([10,2,3]))\n",
        "diferencias"
      ],
      "metadata": {
        "colab": {
          "base_uri": "https://localhost:8080/"
        },
        "id": "m0_B4lGWL6Vz",
        "outputId": "7cd5d292-f5b4-4615-a5f5-be661a5e683d"
      },
      "execution_count": 22,
      "outputs": [
        {
          "output_type": "execute_result",
          "data": {
            "text/plain": [
              "<tf.Tensor: shape=(3,), dtype=int64, numpy=array([9, 0, 0])>"
            ]
          },
          "metadata": {},
          "execution_count": 22
        }
      ]
    },
    {
      "cell_type": "code",
      "source": [
        "diferencias_ponderadas = diferencias / (np.array([10,2,3]) + 1e-7)\n",
        "diferencias_ponderadas.numpy()"
      ],
      "metadata": {
        "colab": {
          "base_uri": "https://localhost:8080/"
        },
        "id": "yWu-0DYxL9Mt",
        "outputId": "ff62fd6c-bece-4722-e8f5-8323355f0644"
      },
      "execution_count": 23,
      "outputs": [
        {
          "output_type": "execute_result",
          "data": {
            "text/plain": [
              "array([0.9, 0. , 0. ])"
            ]
          },
          "metadata": {},
          "execution_count": 23
        }
      ]
    },
    {
      "cell_type": "code",
      "source": [
        "loss_ranking(\n",
        "    np.array([1,2,3]),\n",
        "    np.array([10,2,3])\n",
        "    )"
      ],
      "metadata": {
        "id": "lv_vV-oPDh-o",
        "outputId": "427eda23-a00d-4841-fa99-58f2782376dd",
        "colab": {
          "base_uri": "https://localhost:8080/"
        }
      },
      "execution_count": 24,
      "outputs": [
        {
          "output_type": "execute_result",
          "data": {
            "text/plain": [
              "<tf.Tensor: shape=(), dtype=float32, numpy=0.8991009>"
            ]
          },
          "metadata": {},
          "execution_count": 24
        }
      ]
    },
    {
      "cell_type": "code",
      "source": [
        "perdida_listas(\n",
        "    np.array([1,2,3]),\n",
        "    np.array([1,2,10])\n",
        "    )"
      ],
      "metadata": {
        "id": "x0o5EJboDlZM",
        "outputId": "758f3164-3c3b-4f32-ecaf-6141a9dbb395",
        "colab": {
          "base_uri": "https://localhost:8080/"
        }
      },
      "execution_count": 25,
      "outputs": [
        {
          "output_type": "execute_result",
          "data": {
            "text/plain": [
              "<tf.Tensor: shape=(), dtype=float32, numpy=2.3255813>"
            ]
          },
          "metadata": {},
          "execution_count": 25
        }
      ]
    },
    {
      "cell_type": "code",
      "source": [
        "perdida_listas(\n",
        "    np.array([1,2,3]),\n",
        "    np.array([10,2,3])\n",
        "    )"
      ],
      "metadata": {
        "id": "36CL3zrJDrIq",
        "outputId": "934c33e2-c206-42bb-8a98-448fb00677d4",
        "colab": {
          "base_uri": "https://localhost:8080/"
        }
      },
      "execution_count": 26,
      "outputs": [
        {
          "output_type": "execute_result",
          "data": {
            "text/plain": [
              "<tf.Tensor: shape=(), dtype=float32, numpy=8.910892>"
            ]
          },
          "metadata": {},
          "execution_count": 26
        }
      ]
    },
    {
      "cell_type": "code",
      "source": [
        "tf.keras.metrics.mean_squared_error(\n",
        "    np.array([1,2,3]),\n",
        "    np.array([10,2,3])\n",
        ")"
      ],
      "metadata": {
        "id": "SbvPQZ6iEeSH",
        "outputId": "2ef7b287-be2d-48c1-8add-26c20bf290cc",
        "colab": {
          "base_uri": "https://localhost:8080/"
        }
      },
      "execution_count": 27,
      "outputs": [
        {
          "output_type": "execute_result",
          "data": {
            "text/plain": [
              "<tf.Tensor: shape=(), dtype=int64, numpy=27>"
            ]
          },
          "metadata": {},
          "execution_count": 27
        }
      ]
    },
    {
      "cell_type": "code",
      "source": [
        "tf.keras.metrics.mean_squared_error(\n",
        "    np.array([1,2,3]),\n",
        "    np.array([1,2,10])\n",
        ")"
      ],
      "metadata": {
        "id": "DTqV0OwKEnov",
        "outputId": "9a21c53e-8800-4364-b48d-11cd3c80d36d",
        "colab": {
          "base_uri": "https://localhost:8080/"
        }
      },
      "execution_count": 28,
      "outputs": [
        {
          "output_type": "execute_result",
          "data": {
            "text/plain": [
              "<tf.Tensor: shape=(), dtype=int64, numpy=16>"
            ]
          },
          "metadata": {},
          "execution_count": 28
        }
      ]
    },
    {
      "cell_type": "markdown",
      "source": [],
      "metadata": {
        "id": "VOFZ1If1OAyZ"
      }
    },
    {
      "cell_type": "markdown",
      "source": [],
      "metadata": {
        "id": "l7v4k-Z0OA14"
      }
    },
    {
      "cell_type": "markdown",
      "source": [],
      "metadata": {
        "id": "HvnY9R15OA5U"
      }
    },
    {
      "cell_type": "markdown",
      "source": [],
      "metadata": {
        "id": "o0cEX2hUOA9g"
      }
    },
    {
      "cell_type": "markdown",
      "source": [],
      "metadata": {
        "id": "5AVsBeLYOBCD"
      }
    },
    {
      "cell_type": "markdown",
      "source": [
        "# ANALISIS FUNCION DE PERDIDA"
      ],
      "metadata": {
        "id": "2IT9Y1bOOBEd"
      }
    },
    {
      "cell_type": "code",
      "source": [
        "def loss_ranking(ranking_real, ranking_predicho):\n",
        "    ranking_real_float = tf.cast(ranking_real, tf.float32)\n",
        "    ranking_predicho = tf.cast(ranking_predicho, tf.float32)\n",
        "    diferencias = tf.abs(ranking_real_float - ranking_predicho)\n",
        "    diferencias_ponderadas = diferencias / (ranking_predicho + 0.01) # <<<<---------\n",
        "    perdida_total = tf.reduce_sum(diferencias_ponderadas)\n",
        "    return abs(perdida_total)\n",
        "\n",
        "def perdida_listas(ranking_real, ranking_predicho):\n",
        "    ranking_real = tf.cast(ranking_real, tf.float32)\n",
        "    ranking_predicho = tf.cast(ranking_predicho, tf.float32)\n",
        "    diferencias = tf.abs(ranking_real - ranking_predicho)\n",
        "    diferencias_ponderadas = diferencias / (ranking_real + 0.01)  # Añadimos un pequeño número para evitar la división por cero\n",
        "    perdida_total = tf.reduce_sum(diferencias_ponderadas)\n",
        "    return perdida_total\n",
        "\n",
        "def diferencia_listas(ranking_real, ranking_predicho):\n",
        "    ranking_real = tf.cast(ranking_real, tf.float32)\n",
        "    ranking_predicho = tf.cast(ranking_predicho, tf.float32)\n",
        "    diferencias = tf.abs(ranking_real - ranking_predicho)\n",
        "    perdida_total = tf.reduce_sum(diferencias)\n",
        "    \"\"\"\n",
        "    Una opción podría ser cambiar tf.reduce_sum() por tf.reduce_mean() para tomar el promedio de las diferencias en lugar de la suma. Esto hará que la pérdida sea independiente del tamaño del lote de datos.\n",
        "    \"\"\"\n",
        "    return perdida_total\n",
        "\n",
        "def mse(y_true, y_pred):\n",
        "    y_true = tf.cast(y_true, tf.float32)\n",
        "    y_pred = tf.cast(y_pred, tf.float32)\n",
        "    squared_differences = tf.square(y_true - y_pred)\n",
        "    mean_squared_error = tf.reduce_mean(squared_differences)\n",
        "    return mean_squared_error\n",
        "\n",
        "def mae(y_true, y_pred):\n",
        "    y_true = tf.cast(y_true, tf.float32)\n",
        "    y_pred = tf.cast(y_pred, tf.float32)\n",
        "    absolute_differences = tf.abs(y_true - y_pred)\n",
        "    mean_absolute_error = tf.reduce_mean(absolute_differences)\n",
        "    return mean_absolute_error\n",
        "\n"
      ],
      "metadata": {
        "id": "g6aRy3A7OIgD"
      },
      "execution_count": 29,
      "outputs": []
    },
    {
      "cell_type": "code",
      "source": [
        "r_pred = np.array([[18, 28,  3, 23, 29, 20, 15, 21, 22, 27, 10, 14, 13,  6, 19, 11,\n",
        "         5, 25,  4, 30,  7, 12, 17, 26,  9,  2,  0, 16,  8, 24,  1]])\n",
        "\n",
        "r_real = np.array([25, 19, 13, 17, 16, 27, 29, 30, 15,  0,  3, 22,  1,  8,  2, 18, 10,\n",
        "        4, 20,  6, 12, 26,  7, 14, 24, 23, 21, 11, 28,  5,  9])\n",
        "\n",
        "r_real = tf.cast(r_real, tf.float32)\n",
        "r_pred = tf.cast(r_pred, tf.float32)"
      ],
      "metadata": {
        "id": "vrNfOX3UOBTA"
      },
      "execution_count": 30,
      "outputs": []
    },
    {
      "cell_type": "code",
      "source": [
        "diferencias = tf.abs(r_pred - r_real)\n",
        "diferencias"
      ],
      "metadata": {
        "colab": {
          "base_uri": "https://localhost:8080/"
        },
        "id": "Gjb4GbIEOLiy",
        "outputId": "99974cc9-6209-4b5b-8ac8-f07cf2de0919"
      },
      "execution_count": 31,
      "outputs": [
        {
          "output_type": "execute_result",
          "data": {
            "text/plain": [
              "<tf.Tensor: shape=(1, 31), dtype=float32, numpy=\n",
              "array([[ 7.,  9., 10.,  6., 13.,  7., 14.,  9.,  7., 27.,  7.,  8., 12.,\n",
              "         2., 17.,  7.,  5., 21., 16., 24.,  5., 14., 10., 12., 15., 21.,\n",
              "        21.,  5., 20., 19.,  8.]], dtype=float32)>"
            ]
          },
          "metadata": {},
          "execution_count": 31
        }
      ]
    },
    {
      "cell_type": "code",
      "source": [
        "(r_pred + 0.1)"
      ],
      "metadata": {
        "colab": {
          "base_uri": "https://localhost:8080/"
        },
        "id": "oRX5Q9kjPM0A",
        "outputId": "1edb7891-46fc-4624-b676-2a7add9054b8"
      },
      "execution_count": 32,
      "outputs": [
        {
          "output_type": "execute_result",
          "data": {
            "text/plain": [
              "<tf.Tensor: shape=(1, 31), dtype=float32, numpy=\n",
              "array([[18.1, 28.1,  3.1, 23.1, 29.1, 20.1, 15.1, 21.1, 22.1, 27.1, 10.1,\n",
              "        14.1, 13.1,  6.1, 19.1, 11.1,  5.1, 25.1,  4.1, 30.1,  7.1, 12.1,\n",
              "        17.1, 26.1,  9.1,  2.1,  0.1, 16.1,  8.1, 24.1,  1.1]],\n",
              "      dtype=float32)>"
            ]
          },
          "metadata": {},
          "execution_count": 32
        }
      ]
    },
    {
      "cell_type": "code",
      "source": [
        "diferencias_ponderadas = diferencias / (r_pred + 0.0001)\n",
        "diferencias_ponderadas"
      ],
      "metadata": {
        "colab": {
          "base_uri": "https://localhost:8080/"
        },
        "id": "hDcWQOOaOTZJ",
        "outputId": "445a704f-64e8-4142-cf38-e8dc710378df"
      },
      "execution_count": 33,
      "outputs": [
        {
          "output_type": "execute_result",
          "data": {
            "text/plain": [
              "<tf.Tensor: shape=(1, 31), dtype=float32, numpy=\n",
              "array([[3.88886750e-01, 3.21427435e-01, 3.33322239e+00, 2.60868430e-01,\n",
              "        4.48274314e-01, 3.49998266e-01, 9.33327079e-01, 4.28569406e-01,\n",
              "        3.18180382e-01, 9.99996305e-01, 6.99993014e-01, 5.71424484e-01,\n",
              "        9.23069835e-01, 3.33327770e-01, 8.94732177e-01, 6.36357844e-01,\n",
              "        9.99979973e-01, 8.39996696e-01, 3.99989986e+00, 7.99997330e-01,\n",
              "        7.14275479e-01, 1.16665697e+00, 5.88231862e-01, 4.61536705e-01,\n",
              "        1.66664815e+00, 1.04994755e+01, 2.10000000e+05, 3.12498063e-01,\n",
              "        2.49996877e+00, 7.91663408e-01, 7.99919987e+00]], dtype=float32)>"
            ]
          },
          "metadata": {},
          "execution_count": 33
        }
      ]
    },
    {
      "cell_type": "code",
      "source": [
        "perdida_total = tf.reduce_sum(diferencias_ponderadas)\n",
        "perdida_total"
      ],
      "metadata": {
        "colab": {
          "base_uri": "https://localhost:8080/"
        },
        "id": "3vGCRIMrOaGc",
        "outputId": "38221009-b93a-4606-cfda-43cacb9b203f"
      },
      "execution_count": 34,
      "outputs": [
        {
          "output_type": "execute_result",
          "data": {
            "text/plain": [
              "<tf.Tensor: shape=(), dtype=float32, numpy=210045.19>"
            ]
          },
          "metadata": {},
          "execution_count": 34
        }
      ]
    },
    {
      "cell_type": "code",
      "source": [],
      "metadata": {
        "id": "4j7fbniBxnO5"
      },
      "execution_count": 34,
      "outputs": []
    },
    {
      "cell_type": "code",
      "source": [],
      "metadata": {
        "id": "Q_S1ioeMxnaB"
      },
      "execution_count": 34,
      "outputs": []
    },
    {
      "cell_type": "code",
      "source": [],
      "metadata": {
        "id": "5CtagBeGxnmL"
      },
      "execution_count": 34,
      "outputs": []
    },
    {
      "cell_type": "code",
      "source": [
        "import matplotlib.pyplot as plt\n",
        "\n",
        "ranking = np.arange(35)\n",
        "\n",
        "loss_loss_ranking = []\n",
        "loss_perdida_listas = []\n",
        "loss_mse = []\n",
        "loss_diferencia_listas = []\n",
        "loss_mae = []\n",
        "\n",
        "for i in range(len(ranking)-1) :\n",
        "  #pred_ranking = np.roll(ranking, -i-1)\n",
        "  pred_ranking = np.roll(ranking, i+1)\n",
        "  print(pred_ranking)\n",
        "  loss = loss_ranking(ranking, pred_ranking )\n",
        "  loss_loss_ranking.append(loss)\n",
        "  print(\"loss ranking: \" + str(loss))\n",
        "  loss = perdida_listas(ranking, pred_ranking )\n",
        "  loss_perdida_listas.append(loss)\n",
        "  print(\"perdida_listas: \" + str(loss))\n",
        "  loss = mse(ranking, pred_ranking )\n",
        "  loss_mse.append(loss)\n",
        "  print(\"mse: \" + str(loss))\n",
        "  loss = diferencia_listas(ranking, pred_ranking )\n",
        "  loss_diferencia_listas.append(loss)\n",
        "  print(\"diferencia_listas: \" + str(loss))\n",
        "  loss = mae(ranking, pred_ranking )\n",
        "  loss_mae.append(loss)\n",
        "  print(\"mae: \" + str(loss))\n",
        "\n",
        "loss_loss_ranking = np.array(loss_loss_ranking)\n",
        "loss_perdida_listas = np.array(loss_perdida_listas)\n",
        "loss_mse = np.array(loss_mse)\n",
        "loss_diferencia_listas = np.array(loss_diferencia_listas)\n",
        "loss_mae = np.array(loss_mae)\n",
        "\n",
        "\n",
        "plt.figure()\n",
        "plt.plot(loss_loss_ranking / loss_loss_ranking.max(), 'r');\n",
        "plt.plot(loss_perdida_listas / loss_perdida_listas.max(), 'g');\n",
        "plt.plot(loss_mse / loss_mse.max(), 'b');\n",
        "plt.plot(loss_diferencia_listas / loss_diferencia_listas.max(), 'y');\n",
        "plt.plot(loss_mae / loss_mae.max(), 'p');\n",
        "\n",
        "print(\"---------------------\")\n",
        "\n",
        "loss_loss_ranking = []\n",
        "loss_perdida_listas = []\n",
        "loss_mse = []\n",
        "loss_diferencia_listas = []\n",
        "loss_mae = []\n",
        "\n",
        "for i in range(len(ranking)-1):\n",
        "  pred_ranking = np.roll(ranking, -i-1)\n",
        "  #pred_ranking = np.roll(ranking, i+1)\n",
        "  print(pred_ranking)\n",
        "  loss = loss_ranking(ranking, pred_ranking )\n",
        "  loss_loss_ranking.append(loss)\n",
        "  print(\"loss ranking: \" + str(loss))\n",
        "  loss = perdida_listas(ranking, pred_ranking )\n",
        "  loss_perdida_listas.append(loss)\n",
        "  print(\"perdida_listas: \" + str(loss))\n",
        "  loss = mse(ranking, pred_ranking )\n",
        "  loss_mse.append(loss)\n",
        "  print(\"mse: \" + str(loss))\n",
        "  loss = diferencia_listas(ranking, pred_ranking )\n",
        "  loss_diferencia_listas.append(loss)\n",
        "  print(\"diferencia_listas: \" + str(loss))\n",
        "  loss = mae(ranking, pred_ranking )\n",
        "  loss_mae.append(loss)\n",
        "  print(\"mae: \" + str(loss))\n",
        "\n",
        "plt.figure()\n",
        "loss_loss_ranking = np.array(loss_loss_ranking)\n",
        "loss_perdida_listas = np.array(loss_perdida_listas)\n",
        "loss_mse = np.array(loss_mse)\n",
        "loss_diferencia_listas = np.array(loss_diferencia_listas)\n",
        "loss_mae = np.array(loss_mae)\n",
        "\n",
        "plt.plot(loss_loss_ranking / loss_loss_ranking.max(), 'r');\n",
        "plt.plot(loss_perdida_listas / loss_perdida_listas.max(), 'g');\n",
        "plt.plot(loss_mse / loss_mse.max(), 'b');\n",
        "plt.plot(loss_diferencia_listas / loss_diferencia_listas.max(), 'y');\n",
        "plt.plot(loss_mae / loss_mae.max(), 'p');\n",
        "\n",
        "\n",
        "\n"
      ],
      "metadata": {
        "colab": {
          "base_uri": "https://localhost:8080/",
          "height": 1000
        },
        "id": "Ud84xlb8yC_T",
        "outputId": "ccb1e544-346a-4a98-e42a-58e18bdac7a4"
      },
      "execution_count": 36,
      "outputs": [
        {
          "output_type": "stream",
          "name": "stdout",
          "text": [
            "[34  0  1  2  3  4  5  6  7  8  9 10 11 12 13 14 15 16 17 18 19 20 21 22\n",
            " 23 24 25 26 27 28 29 30 31 32 33]\n",
            "loss ranking: tf.Tensor(105.07247, shape=(), dtype=float32)\n",
            "perdida_listas: tf.Tensor(3404.1018, shape=(), dtype=float32)\n",
            "mse: tf.Tensor(34.0, shape=(), dtype=float32)\n",
            "diferencia_listas: tf.Tensor(68.0, shape=(), dtype=float32)\n",
            "mae: tf.Tensor(1.9428571, shape=(), dtype=float32)\n",
            "[33 34  0  1  2  3  4  5  6  7  8  9 10 11 12 13 14 15 16 17 18 19 20 21\n",
            " 22 23 24 25 26 27 28 29 30 31 32]\n",
            "loss ranking: tf.Tensor(210.05496, shape=(), dtype=float32)\n",
            "perdida_listas: tf.Tensor(3338.8977, shape=(), dtype=float32)\n",
            "mse: tf.Tensor(66.0, shape=(), dtype=float32)\n",
            "diferencia_listas: tf.Tensor(132.0, shape=(), dtype=float32)\n",
            "mae: tf.Tensor(3.7714286, shape=(), dtype=float32)\n",
            "[32 33 34  0  1  2  3  4  5  6  7  8  9 10 11 12 13 14 15 16 17 18 19 20\n",
            " 21 22 23 24 25 26 27 28 29 30 31]\n",
            "loss ranking: tf.Tensor(314.94366, shape=(), dtype=float32)\n",
            "perdida_listas: tf.Tensor(3255.4473, shape=(), dtype=float32)\n",
            "mse: tf.Tensor(96.0, shape=(), dtype=float32)\n",
            "diferencia_listas: tf.Tensor(192.0, shape=(), dtype=float32)\n",
            "mae: tf.Tensor(5.4857144, shape=(), dtype=float32)\n",
            "[31 32 33 34  0  1  2  3  4  5  6  7  8  9 10 11 12 13 14 15 16 17 18 19\n",
            " 20 21 22 23 24 25 26 27 28 29 30]\n",
            "loss ranking: tf.Tensor(419.7347, shape=(), dtype=float32)\n",
            "perdida_listas: tf.Tensor(3165.544, shape=(), dtype=float32)\n",
            "mse: tf.Tensor(124.0, shape=(), dtype=float32)\n",
            "diferencia_listas: tf.Tensor(248.0, shape=(), dtype=float32)\n",
            "mae: tf.Tensor(7.0857143, shape=(), dtype=float32)\n",
            "[30 31 32 33 34  0  1  2  3  4  5  6  7  8  9 10 11 12 13 14 15 16 17 18\n",
            " 19 20 21 22 23 24 25 26 27 28 29]\n",
            "loss ranking: tf.Tensor(524.42346, shape=(), dtype=float32)\n",
            "perdida_listas: tf.Tensor(3072.241, shape=(), dtype=float32)\n",
            "mse: tf.Tensor(150.0, shape=(), dtype=float32)\n",
            "diferencia_listas: tf.Tensor(300.0, shape=(), dtype=float32)\n",
            "mae: tf.Tensor(8.571428, shape=(), dtype=float32)\n",
            "[29 30 31 32 33 34  0  1  2  3  4  5  6  7  8  9 10 11 12 13 14 15 16 17\n",
            " 18 19 20 21 22 23 24 25 26 27 28]\n",
            "loss ranking: tf.Tensor(629.00555, shape=(), dtype=float32)\n",
            "perdida_listas: tf.Tensor(2976.796, shape=(), dtype=float32)\n",
            "mse: tf.Tensor(174.0, shape=(), dtype=float32)\n",
            "diferencia_listas: tf.Tensor(348.0, shape=(), dtype=float32)\n",
            "mae: tf.Tensor(9.942857, shape=(), dtype=float32)\n",
            "[28 29 30 31 32 33 34  0  1  2  3  4  5  6  7  8  9 10 11 12 13 14 15 16\n",
            " 17 18 19 20 21 22 23 24 25 26 27]\n",
            "loss ranking: tf.Tensor(733.4755, shape=(), dtype=float32)\n",
            "perdida_listas: tf.Tensor(2879.8545, shape=(), dtype=float32)\n",
            "mse: tf.Tensor(196.0, shape=(), dtype=float32)\n",
            "diferencia_listas: tf.Tensor(392.0, shape=(), dtype=float32)\n",
            "mae: tf.Tensor(11.2, shape=(), dtype=float32)\n",
            "[27 28 29 30 31 32 33 34  0  1  2  3  4  5  6  7  8  9 10 11 12 13 14 15\n",
            " 16 17 18 19 20 21 22 23 24 25 26]\n",
            "loss ranking: tf.Tensor(837.82776, shape=(), dtype=float32)\n",
            "perdida_listas: tf.Tensor(2781.7969, shape=(), dtype=float32)\n",
            "mse: tf.Tensor(216.0, shape=(), dtype=float32)\n",
            "diferencia_listas: tf.Tensor(432.0, shape=(), dtype=float32)\n",
            "mae: tf.Tensor(12.342857, shape=(), dtype=float32)\n",
            "[26 27 28 29 30 31 32 33 34  0  1  2  3  4  5  6  7  8  9 10 11 12 13 14\n",
            " 15 16 17 18 19 20 21 22 23 24 25]\n",
            "loss ranking: tf.Tensor(942.0561, shape=(), dtype=float32)\n",
            "perdida_listas: tf.Tensor(2682.8652, shape=(), dtype=float32)\n",
            "mse: tf.Tensor(234.0, shape=(), dtype=float32)\n",
            "diferencia_listas: tf.Tensor(468.0, shape=(), dtype=float32)\n",
            "mae: tf.Tensor(13.3714285, shape=(), dtype=float32)\n",
            "[25 26 27 28 29 30 31 32 33 34  0  1  2  3  4  5  6  7  8  9 10 11 12 13\n",
            " 14 15 16 17 18 19 20 21 22 23 24]\n",
            "loss ranking: tf.Tensor(1046.1537, shape=(), dtype=float32)\n",
            "perdida_listas: tf.Tensor(2583.227, shape=(), dtype=float32)\n",
            "mse: tf.Tensor(250.0, shape=(), dtype=float32)\n",
            "diferencia_listas: tf.Tensor(500.0, shape=(), dtype=float32)\n",
            "mae: tf.Tensor(14.285714, shape=(), dtype=float32)\n",
            "[24 25 26 27 28 29 30 31 32 33 34  0  1  2  3  4  5  6  7  8  9 10 11 12\n",
            " 13 14 15 16 17 18 19 20 21 22 23]\n",
            "loss ranking: tf.Tensor(1150.1129, shape=(), dtype=float32)\n",
            "perdida_listas: tf.Tensor(2483.0005, shape=(), dtype=float32)\n",
            "mse: tf.Tensor(264.0, shape=(), dtype=float32)\n",
            "diferencia_listas: tf.Tensor(528.0, shape=(), dtype=float32)\n",
            "mae: tf.Tensor(15.085714, shape=(), dtype=float32)\n",
            "[23 24 25 26 27 28 29 30 31 32 33 34  0  1  2  3  4  5  6  7  8  9 10 11\n",
            " 12 13 14 15 16 17 18 19 20 21 22]\n",
            "loss ranking: tf.Tensor(1253.9257, shape=(), dtype=float32)\n",
            "perdida_listas: tf.Tensor(2382.2747, shape=(), dtype=float32)\n",
            "mse: tf.Tensor(276.0, shape=(), dtype=float32)\n",
            "diferencia_listas: tf.Tensor(552.0, shape=(), dtype=float32)\n",
            "mae: tf.Tensor(15.771428, shape=(), dtype=float32)\n",
            "[22 23 24 25 26 27 28 29 30 31 32 33 34  0  1  2  3  4  5  6  7  8  9 10\n",
            " 11 12 13 14 15 16 17 18 19 20 21]\n",
            "loss ranking: tf.Tensor(1357.5823, shape=(), dtype=float32)\n",
            "perdida_listas: tf.Tensor(2281.1174, shape=(), dtype=float32)\n",
            "mse: tf.Tensor(286.0, shape=(), dtype=float32)\n",
            "diferencia_listas: tf.Tensor(572.0, shape=(), dtype=float32)\n",
            "mae: tf.Tensor(16.342857, shape=(), dtype=float32)\n",
            "[21 22 23 24 25 26 27 28 29 30 31 32 33 34  0  1  2  3  4  5  6  7  8  9\n",
            " 10 11 12 13 14 15 16 17 18 19 20]\n",
            "loss ranking: tf.Tensor(1461.0724, shape=(), dtype=float32)\n",
            "perdida_listas: tf.Tensor(2179.5823, shape=(), dtype=float32)\n",
            "mse: tf.Tensor(294.0, shape=(), dtype=float32)\n",
            "diferencia_listas: tf.Tensor(588.0, shape=(), dtype=float32)\n",
            "mae: tf.Tensor(16.8, shape=(), dtype=float32)\n",
            "[20 21 22 23 24 25 26 27 28 29 30 31 32 33 34  0  1  2  3  4  5  6  7  8\n",
            "  9 10 11 12 13 14 15 16 17 18 19]\n",
            "loss ranking: tf.Tensor(1564.3838, shape=(), dtype=float32)\n",
            "perdida_listas: tf.Tensor(2077.7122, shape=(), dtype=float32)\n",
            "mse: tf.Tensor(300.0, shape=(), dtype=float32)\n",
            "diferencia_listas: tf.Tensor(600.0, shape=(), dtype=float32)\n",
            "mae: tf.Tensor(17.142857, shape=(), dtype=float32)\n",
            "[19 20 21 22 23 24 25 26 27 28 29 30 31 32 33 34  0  1  2  3  4  5  6  7\n",
            "  8  9 10 11 12 13 14 15 16 17 18]\n",
            "loss ranking: tf.Tensor(1667.5033, shape=(), dtype=float32)\n",
            "perdida_listas: tf.Tensor(1975.5424, shape=(), dtype=float32)\n",
            "mse: tf.Tensor(304.0, shape=(), dtype=float32)\n",
            "diferencia_listas: tf.Tensor(608.0, shape=(), dtype=float32)\n",
            "mae: tf.Tensor(17.37143, shape=(), dtype=float32)\n",
            "[18 19 20 21 22 23 24 25 26 27 28 29 30 31 32 33 34  0  1  2  3  4  5  6\n",
            "  7  8  9 10 11 12 13 14 15 16 17]\n",
            "loss ranking: tf.Tensor(1770.4153, shape=(), dtype=float32)\n",
            "perdida_listas: tf.Tensor(1873.1017, shape=(), dtype=float32)\n",
            "mse: tf.Tensor(306.0, shape=(), dtype=float32)\n",
            "diferencia_listas: tf.Tensor(612.0, shape=(), dtype=float32)\n",
            "mae: tf.Tensor(17.485714, shape=(), dtype=float32)\n",
            "[17 18 19 20 21 22 23 24 25 26 27 28 29 30 31 32 33 34  0  1  2  3  4  5\n",
            "  6  7  8  9 10 11 12 13 14 15 16]\n",
            "loss ranking: tf.Tensor(1873.1019, shape=(), dtype=float32)\n",
            "perdida_listas: tf.Tensor(1770.4152, shape=(), dtype=float32)\n",
            "mse: tf.Tensor(306.0, shape=(), dtype=float32)\n",
            "diferencia_listas: tf.Tensor(612.0, shape=(), dtype=float32)\n",
            "mae: tf.Tensor(17.485714, shape=(), dtype=float32)\n",
            "[16 17 18 19 20 21 22 23 24 25 26 27 28 29 30 31 32 33 34  0  1  2  3  4\n",
            "  5  6  7  8  9 10 11 12 13 14 15]\n",
            "loss ranking: tf.Tensor(1975.5425, shape=(), dtype=float32)\n",
            "perdida_listas: tf.Tensor(1667.5034, shape=(), dtype=float32)\n",
            "mse: tf.Tensor(304.0, shape=(), dtype=float32)\n",
            "diferencia_listas: tf.Tensor(608.0, shape=(), dtype=float32)\n",
            "mae: tf.Tensor(17.37143, shape=(), dtype=float32)\n",
            "[15 16 17 18 19 20 21 22 23 24 25 26 27 28 29 30 31 32 33 34  0  1  2  3\n",
            "  4  5  6  7  8  9 10 11 12 13 14]\n",
            "loss ranking: tf.Tensor(2077.712, shape=(), dtype=float32)\n",
            "perdida_listas: tf.Tensor(1564.3838, shape=(), dtype=float32)\n",
            "mse: tf.Tensor(300.0, shape=(), dtype=float32)\n",
            "diferencia_listas: tf.Tensor(600.0, shape=(), dtype=float32)\n",
            "mae: tf.Tensor(17.142857, shape=(), dtype=float32)\n",
            "[14 15 16 17 18 19 20 21 22 23 24 25 26 27 28 29 30 31 32 33 34  0  1  2\n",
            "  3  4  5  6  7  8  9 10 11 12 13]\n",
            "loss ranking: tf.Tensor(2179.5823, shape=(), dtype=float32)\n",
            "perdida_listas: tf.Tensor(1461.0723, shape=(), dtype=float32)\n",
            "mse: tf.Tensor(294.0, shape=(), dtype=float32)\n",
            "diferencia_listas: tf.Tensor(588.0, shape=(), dtype=float32)\n",
            "mae: tf.Tensor(16.8, shape=(), dtype=float32)\n",
            "[13 14 15 16 17 18 19 20 21 22 23 24 25 26 27 28 29 30 31 32 33 34  0  1\n",
            "  2  3  4  5  6  7  8  9 10 11 12]\n",
            "loss ranking: tf.Tensor(2281.1174, shape=(), dtype=float32)\n",
            "perdida_listas: tf.Tensor(1357.5822, shape=(), dtype=float32)\n",
            "mse: tf.Tensor(286.0, shape=(), dtype=float32)\n",
            "diferencia_listas: tf.Tensor(572.0, shape=(), dtype=float32)\n",
            "mae: tf.Tensor(16.342857, shape=(), dtype=float32)\n",
            "[12 13 14 15 16 17 18 19 20 21 22 23 24 25 26 27 28 29 30 31 32 33 34  0\n",
            "  1  2  3  4  5  6  7  8  9 10 11]\n",
            "loss ranking: tf.Tensor(2382.2747, shape=(), dtype=float32)\n",
            "perdida_listas: tf.Tensor(1253.9257, shape=(), dtype=float32)\n",
            "mse: tf.Tensor(276.0, shape=(), dtype=float32)\n",
            "diferencia_listas: tf.Tensor(552.0, shape=(), dtype=float32)\n",
            "mae: tf.Tensor(15.771428, shape=(), dtype=float32)\n",
            "[11 12 13 14 15 16 17 18 19 20 21 22 23 24 25 26 27 28 29 30 31 32 33 34\n",
            "  0  1  2  3  4  5  6  7  8  9 10]\n",
            "loss ranking: tf.Tensor(2483.0005, shape=(), dtype=float32)\n",
            "perdida_listas: tf.Tensor(1150.113, shape=(), dtype=float32)\n",
            "mse: tf.Tensor(264.0, shape=(), dtype=float32)\n",
            "diferencia_listas: tf.Tensor(528.0, shape=(), dtype=float32)\n",
            "mae: tf.Tensor(15.085714, shape=(), dtype=float32)\n",
            "[10 11 12 13 14 15 16 17 18 19 20 21 22 23 24 25 26 27 28 29 30 31 32 33\n",
            " 34  0  1  2  3  4  5  6  7  8  9]\n",
            "loss ranking: tf.Tensor(2583.227, shape=(), dtype=float32)\n",
            "perdida_listas: tf.Tensor(1046.1537, shape=(), dtype=float32)\n",
            "mse: tf.Tensor(250.0, shape=(), dtype=float32)\n",
            "diferencia_listas: tf.Tensor(500.0, shape=(), dtype=float32)\n",
            "mae: tf.Tensor(14.285714, shape=(), dtype=float32)\n",
            "[ 9 10 11 12 13 14 15 16 17 18 19 20 21 22 23 24 25 26 27 28 29 30 31 32\n",
            " 33 34  0  1  2  3  4  5  6  7  8]\n",
            "loss ranking: tf.Tensor(2682.8652, shape=(), dtype=float32)\n",
            "perdida_listas: tf.Tensor(942.056, shape=(), dtype=float32)\n",
            "mse: tf.Tensor(234.0, shape=(), dtype=float32)\n",
            "diferencia_listas: tf.Tensor(468.0, shape=(), dtype=float32)\n",
            "mae: tf.Tensor(13.3714285, shape=(), dtype=float32)\n",
            "[ 8  9 10 11 12 13 14 15 16 17 18 19 20 21 22 23 24 25 26 27 28 29 30 31\n",
            " 32 33 34  0  1  2  3  4  5  6  7]\n",
            "loss ranking: tf.Tensor(2781.7966, shape=(), dtype=float32)\n",
            "perdida_listas: tf.Tensor(837.8277, shape=(), dtype=float32)\n",
            "mse: tf.Tensor(216.0, shape=(), dtype=float32)\n",
            "diferencia_listas: tf.Tensor(432.0, shape=(), dtype=float32)\n",
            "mae: tf.Tensor(12.342857, shape=(), dtype=float32)\n",
            "[ 7  8  9 10 11 12 13 14 15 16 17 18 19 20 21 22 23 24 25 26 27 28 29 30\n",
            " 31 32 33 34  0  1  2  3  4  5  6]\n",
            "loss ranking: tf.Tensor(2879.8542, shape=(), dtype=float32)\n",
            "perdida_listas: tf.Tensor(733.4756, shape=(), dtype=float32)\n",
            "mse: tf.Tensor(196.0, shape=(), dtype=float32)\n",
            "diferencia_listas: tf.Tensor(392.0, shape=(), dtype=float32)\n",
            "mae: tf.Tensor(11.2, shape=(), dtype=float32)\n",
            "[ 6  7  8  9 10 11 12 13 14 15 16 17 18 19 20 21 22 23 24 25 26 27 28 29\n",
            " 30 31 32 33 34  0  1  2  3  4  5]\n",
            "loss ranking: tf.Tensor(2976.7957, shape=(), dtype=float32)\n",
            "perdida_listas: tf.Tensor(629.0055, shape=(), dtype=float32)\n",
            "mse: tf.Tensor(174.0, shape=(), dtype=float32)\n",
            "diferencia_listas: tf.Tensor(348.0, shape=(), dtype=float32)\n",
            "mae: tf.Tensor(9.942857, shape=(), dtype=float32)\n",
            "[ 5  6  7  8  9 10 11 12 13 14 15 16 17 18 19 20 21 22 23 24 25 26 27 28\n",
            " 29 30 31 32 33 34  0  1  2  3  4]\n",
            "loss ranking: tf.Tensor(3072.2412, shape=(), dtype=float32)\n",
            "perdida_listas: tf.Tensor(524.4235, shape=(), dtype=float32)\n",
            "mse: tf.Tensor(150.0, shape=(), dtype=float32)\n",
            "diferencia_listas: tf.Tensor(300.0, shape=(), dtype=float32)\n",
            "mae: tf.Tensor(8.571428, shape=(), dtype=float32)\n",
            "[ 4  5  6  7  8  9 10 11 12 13 14 15 16 17 18 19 20 21 22 23 24 25 26 27\n",
            " 28 29 30 31 32 33 34  0  1  2  3]\n",
            "loss ranking: tf.Tensor(3165.5444, shape=(), dtype=float32)\n",
            "perdida_listas: tf.Tensor(419.73468, shape=(), dtype=float32)\n",
            "mse: tf.Tensor(124.0, shape=(), dtype=float32)\n",
            "diferencia_listas: tf.Tensor(248.0, shape=(), dtype=float32)\n",
            "mae: tf.Tensor(7.0857143, shape=(), dtype=float32)\n",
            "[ 3  4  5  6  7  8  9 10 11 12 13 14 15 16 17 18 19 20 21 22 23 24 25 26\n",
            " 27 28 29 30 31 32 33 34  0  1  2]\n",
            "loss ranking: tf.Tensor(3255.4473, shape=(), dtype=float32)\n",
            "perdida_listas: tf.Tensor(314.9437, shape=(), dtype=float32)\n",
            "mse: tf.Tensor(96.0, shape=(), dtype=float32)\n",
            "diferencia_listas: tf.Tensor(192.0, shape=(), dtype=float32)\n",
            "mae: tf.Tensor(5.4857144, shape=(), dtype=float32)\n",
            "[ 2  3  4  5  6  7  8  9 10 11 12 13 14 15 16 17 18 19 20 21 22 23 24 25\n",
            " 26 27 28 29 30 31 32 33 34  0  1]\n",
            "loss ranking: tf.Tensor(3338.8975, shape=(), dtype=float32)\n",
            "perdida_listas: tf.Tensor(210.05496, shape=(), dtype=float32)\n",
            "mse: tf.Tensor(66.0, shape=(), dtype=float32)\n",
            "diferencia_listas: tf.Tensor(132.0, shape=(), dtype=float32)\n",
            "mae: tf.Tensor(3.7714286, shape=(), dtype=float32)\n",
            "[ 1  2  3  4  5  6  7  8  9 10 11 12 13 14 15 16 17 18 19 20 21 22 23 24\n",
            " 25 26 27 28 29 30 31 32 33 34  0]\n",
            "loss ranking: tf.Tensor(3404.1023, shape=(), dtype=float32)\n",
            "perdida_listas: tf.Tensor(105.07248, shape=(), dtype=float32)\n",
            "mse: tf.Tensor(34.0, shape=(), dtype=float32)\n",
            "diferencia_listas: tf.Tensor(68.0, shape=(), dtype=float32)\n",
            "mae: tf.Tensor(1.9428571, shape=(), dtype=float32)\n",
            "---------------------\n",
            "[ 1  2  3  4  5  6  7  8  9 10 11 12 13 14 15 16 17 18 19 20 21 22 23 24\n",
            " 25 26 27 28 29 30 31 32 33 34  0]\n",
            "loss ranking: tf.Tensor(3404.1023, shape=(), dtype=float32)\n",
            "perdida_listas: tf.Tensor(105.07248, shape=(), dtype=float32)\n",
            "mse: tf.Tensor(34.0, shape=(), dtype=float32)\n",
            "diferencia_listas: tf.Tensor(68.0, shape=(), dtype=float32)\n",
            "mae: tf.Tensor(1.9428571, shape=(), dtype=float32)\n",
            "[ 2  3  4  5  6  7  8  9 10 11 12 13 14 15 16 17 18 19 20 21 22 23 24 25\n",
            " 26 27 28 29 30 31 32 33 34  0  1]\n",
            "loss ranking: tf.Tensor(3338.8975, shape=(), dtype=float32)\n",
            "perdida_listas: tf.Tensor(210.05496, shape=(), dtype=float32)\n",
            "mse: tf.Tensor(66.0, shape=(), dtype=float32)\n",
            "diferencia_listas: tf.Tensor(132.0, shape=(), dtype=float32)\n",
            "mae: tf.Tensor(3.7714286, shape=(), dtype=float32)\n",
            "[ 3  4  5  6  7  8  9 10 11 12 13 14 15 16 17 18 19 20 21 22 23 24 25 26\n",
            " 27 28 29 30 31 32 33 34  0  1  2]\n",
            "loss ranking: tf.Tensor(3255.4473, shape=(), dtype=float32)\n",
            "perdida_listas: tf.Tensor(314.9437, shape=(), dtype=float32)\n",
            "mse: tf.Tensor(96.0, shape=(), dtype=float32)\n",
            "diferencia_listas: tf.Tensor(192.0, shape=(), dtype=float32)\n",
            "mae: tf.Tensor(5.4857144, shape=(), dtype=float32)\n",
            "[ 4  5  6  7  8  9 10 11 12 13 14 15 16 17 18 19 20 21 22 23 24 25 26 27\n",
            " 28 29 30 31 32 33 34  0  1  2  3]\n",
            "loss ranking: tf.Tensor(3165.5444, shape=(), dtype=float32)\n",
            "perdida_listas: tf.Tensor(419.73468, shape=(), dtype=float32)\n",
            "mse: tf.Tensor(124.0, shape=(), dtype=float32)\n",
            "diferencia_listas: tf.Tensor(248.0, shape=(), dtype=float32)\n",
            "mae: tf.Tensor(7.0857143, shape=(), dtype=float32)\n",
            "[ 5  6  7  8  9 10 11 12 13 14 15 16 17 18 19 20 21 22 23 24 25 26 27 28\n",
            " 29 30 31 32 33 34  0  1  2  3  4]\n",
            "loss ranking: tf.Tensor(3072.2412, shape=(), dtype=float32)\n",
            "perdida_listas: tf.Tensor(524.4235, shape=(), dtype=float32)\n",
            "mse: tf.Tensor(150.0, shape=(), dtype=float32)\n",
            "diferencia_listas: tf.Tensor(300.0, shape=(), dtype=float32)\n",
            "mae: tf.Tensor(8.571428, shape=(), dtype=float32)\n",
            "[ 6  7  8  9 10 11 12 13 14 15 16 17 18 19 20 21 22 23 24 25 26 27 28 29\n",
            " 30 31 32 33 34  0  1  2  3  4  5]\n",
            "loss ranking: tf.Tensor(2976.7957, shape=(), dtype=float32)\n",
            "perdida_listas: tf.Tensor(629.0055, shape=(), dtype=float32)\n",
            "mse: tf.Tensor(174.0, shape=(), dtype=float32)\n",
            "diferencia_listas: tf.Tensor(348.0, shape=(), dtype=float32)\n",
            "mae: tf.Tensor(9.942857, shape=(), dtype=float32)\n",
            "[ 7  8  9 10 11 12 13 14 15 16 17 18 19 20 21 22 23 24 25 26 27 28 29 30\n",
            " 31 32 33 34  0  1  2  3  4  5  6]\n",
            "loss ranking: tf.Tensor(2879.8542, shape=(), dtype=float32)\n",
            "perdida_listas: tf.Tensor(733.4756, shape=(), dtype=float32)\n",
            "mse: tf.Tensor(196.0, shape=(), dtype=float32)\n",
            "diferencia_listas: tf.Tensor(392.0, shape=(), dtype=float32)\n",
            "mae: tf.Tensor(11.2, shape=(), dtype=float32)\n",
            "[ 8  9 10 11 12 13 14 15 16 17 18 19 20 21 22 23 24 25 26 27 28 29 30 31\n",
            " 32 33 34  0  1  2  3  4  5  6  7]\n",
            "loss ranking: tf.Tensor(2781.7966, shape=(), dtype=float32)\n",
            "perdida_listas: tf.Tensor(837.8277, shape=(), dtype=float32)\n",
            "mse: tf.Tensor(216.0, shape=(), dtype=float32)\n",
            "diferencia_listas: tf.Tensor(432.0, shape=(), dtype=float32)\n",
            "mae: tf.Tensor(12.342857, shape=(), dtype=float32)\n",
            "[ 9 10 11 12 13 14 15 16 17 18 19 20 21 22 23 24 25 26 27 28 29 30 31 32\n",
            " 33 34  0  1  2  3  4  5  6  7  8]\n",
            "loss ranking: tf.Tensor(2682.8652, shape=(), dtype=float32)\n",
            "perdida_listas: tf.Tensor(942.056, shape=(), dtype=float32)\n",
            "mse: tf.Tensor(234.0, shape=(), dtype=float32)\n",
            "diferencia_listas: tf.Tensor(468.0, shape=(), dtype=float32)\n",
            "mae: tf.Tensor(13.3714285, shape=(), dtype=float32)\n",
            "[10 11 12 13 14 15 16 17 18 19 20 21 22 23 24 25 26 27 28 29 30 31 32 33\n",
            " 34  0  1  2  3  4  5  6  7  8  9]\n",
            "loss ranking: tf.Tensor(2583.227, shape=(), dtype=float32)\n",
            "perdida_listas: tf.Tensor(1046.1537, shape=(), dtype=float32)\n",
            "mse: tf.Tensor(250.0, shape=(), dtype=float32)\n",
            "diferencia_listas: tf.Tensor(500.0, shape=(), dtype=float32)\n",
            "mae: tf.Tensor(14.285714, shape=(), dtype=float32)\n",
            "[11 12 13 14 15 16 17 18 19 20 21 22 23 24 25 26 27 28 29 30 31 32 33 34\n",
            "  0  1  2  3  4  5  6  7  8  9 10]\n",
            "loss ranking: tf.Tensor(2483.0005, shape=(), dtype=float32)\n",
            "perdida_listas: tf.Tensor(1150.113, shape=(), dtype=float32)\n",
            "mse: tf.Tensor(264.0, shape=(), dtype=float32)\n",
            "diferencia_listas: tf.Tensor(528.0, shape=(), dtype=float32)\n",
            "mae: tf.Tensor(15.085714, shape=(), dtype=float32)\n",
            "[12 13 14 15 16 17 18 19 20 21 22 23 24 25 26 27 28 29 30 31 32 33 34  0\n",
            "  1  2  3  4  5  6  7  8  9 10 11]\n",
            "loss ranking: tf.Tensor(2382.2747, shape=(), dtype=float32)\n",
            "perdida_listas: tf.Tensor(1253.9257, shape=(), dtype=float32)\n",
            "mse: tf.Tensor(276.0, shape=(), dtype=float32)\n",
            "diferencia_listas: tf.Tensor(552.0, shape=(), dtype=float32)\n",
            "mae: tf.Tensor(15.771428, shape=(), dtype=float32)\n",
            "[13 14 15 16 17 18 19 20 21 22 23 24 25 26 27 28 29 30 31 32 33 34  0  1\n",
            "  2  3  4  5  6  7  8  9 10 11 12]\n",
            "loss ranking: tf.Tensor(2281.1174, shape=(), dtype=float32)\n",
            "perdida_listas: tf.Tensor(1357.5822, shape=(), dtype=float32)\n",
            "mse: tf.Tensor(286.0, shape=(), dtype=float32)\n",
            "diferencia_listas: tf.Tensor(572.0, shape=(), dtype=float32)\n",
            "mae: tf.Tensor(16.342857, shape=(), dtype=float32)\n",
            "[14 15 16 17 18 19 20 21 22 23 24 25 26 27 28 29 30 31 32 33 34  0  1  2\n",
            "  3  4  5  6  7  8  9 10 11 12 13]\n",
            "loss ranking: tf.Tensor(2179.5823, shape=(), dtype=float32)\n",
            "perdida_listas: tf.Tensor(1461.0723, shape=(), dtype=float32)\n",
            "mse: tf.Tensor(294.0, shape=(), dtype=float32)\n",
            "diferencia_listas: tf.Tensor(588.0, shape=(), dtype=float32)\n",
            "mae: tf.Tensor(16.8, shape=(), dtype=float32)\n",
            "[15 16 17 18 19 20 21 22 23 24 25 26 27 28 29 30 31 32 33 34  0  1  2  3\n",
            "  4  5  6  7  8  9 10 11 12 13 14]\n",
            "loss ranking: tf.Tensor(2077.712, shape=(), dtype=float32)\n",
            "perdida_listas: tf.Tensor(1564.3838, shape=(), dtype=float32)\n",
            "mse: tf.Tensor(300.0, shape=(), dtype=float32)\n",
            "diferencia_listas: tf.Tensor(600.0, shape=(), dtype=float32)\n",
            "mae: tf.Tensor(17.142857, shape=(), dtype=float32)\n",
            "[16 17 18 19 20 21 22 23 24 25 26 27 28 29 30 31 32 33 34  0  1  2  3  4\n",
            "  5  6  7  8  9 10 11 12 13 14 15]\n",
            "loss ranking: tf.Tensor(1975.5425, shape=(), dtype=float32)\n",
            "perdida_listas: tf.Tensor(1667.5034, shape=(), dtype=float32)\n",
            "mse: tf.Tensor(304.0, shape=(), dtype=float32)\n",
            "diferencia_listas: tf.Tensor(608.0, shape=(), dtype=float32)\n",
            "mae: tf.Tensor(17.37143, shape=(), dtype=float32)\n",
            "[17 18 19 20 21 22 23 24 25 26 27 28 29 30 31 32 33 34  0  1  2  3  4  5\n",
            "  6  7  8  9 10 11 12 13 14 15 16]\n",
            "loss ranking: tf.Tensor(1873.1019, shape=(), dtype=float32)\n",
            "perdida_listas: tf.Tensor(1770.4152, shape=(), dtype=float32)\n",
            "mse: tf.Tensor(306.0, shape=(), dtype=float32)\n",
            "diferencia_listas: tf.Tensor(612.0, shape=(), dtype=float32)\n",
            "mae: tf.Tensor(17.485714, shape=(), dtype=float32)\n",
            "[18 19 20 21 22 23 24 25 26 27 28 29 30 31 32 33 34  0  1  2  3  4  5  6\n",
            "  7  8  9 10 11 12 13 14 15 16 17]\n",
            "loss ranking: tf.Tensor(1770.4153, shape=(), dtype=float32)\n",
            "perdida_listas: tf.Tensor(1873.1017, shape=(), dtype=float32)\n",
            "mse: tf.Tensor(306.0, shape=(), dtype=float32)\n",
            "diferencia_listas: tf.Tensor(612.0, shape=(), dtype=float32)\n",
            "mae: tf.Tensor(17.485714, shape=(), dtype=float32)\n",
            "[19 20 21 22 23 24 25 26 27 28 29 30 31 32 33 34  0  1  2  3  4  5  6  7\n",
            "  8  9 10 11 12 13 14 15 16 17 18]\n",
            "loss ranking: tf.Tensor(1667.5033, shape=(), dtype=float32)\n",
            "perdida_listas: tf.Tensor(1975.5424, shape=(), dtype=float32)\n",
            "mse: tf.Tensor(304.0, shape=(), dtype=float32)\n",
            "diferencia_listas: tf.Tensor(608.0, shape=(), dtype=float32)\n",
            "mae: tf.Tensor(17.37143, shape=(), dtype=float32)\n",
            "[20 21 22 23 24 25 26 27 28 29 30 31 32 33 34  0  1  2  3  4  5  6  7  8\n",
            "  9 10 11 12 13 14 15 16 17 18 19]\n",
            "loss ranking: tf.Tensor(1564.3838, shape=(), dtype=float32)\n",
            "perdida_listas: tf.Tensor(2077.7122, shape=(), dtype=float32)\n",
            "mse: tf.Tensor(300.0, shape=(), dtype=float32)\n",
            "diferencia_listas: tf.Tensor(600.0, shape=(), dtype=float32)\n",
            "mae: tf.Tensor(17.142857, shape=(), dtype=float32)\n",
            "[21 22 23 24 25 26 27 28 29 30 31 32 33 34  0  1  2  3  4  5  6  7  8  9\n",
            " 10 11 12 13 14 15 16 17 18 19 20]\n",
            "loss ranking: tf.Tensor(1461.0724, shape=(), dtype=float32)\n",
            "perdida_listas: tf.Tensor(2179.5823, shape=(), dtype=float32)\n",
            "mse: tf.Tensor(294.0, shape=(), dtype=float32)\n",
            "diferencia_listas: tf.Tensor(588.0, shape=(), dtype=float32)\n",
            "mae: tf.Tensor(16.8, shape=(), dtype=float32)\n",
            "[22 23 24 25 26 27 28 29 30 31 32 33 34  0  1  2  3  4  5  6  7  8  9 10\n",
            " 11 12 13 14 15 16 17 18 19 20 21]\n",
            "loss ranking: tf.Tensor(1357.5823, shape=(), dtype=float32)\n",
            "perdida_listas: tf.Tensor(2281.1174, shape=(), dtype=float32)\n",
            "mse: tf.Tensor(286.0, shape=(), dtype=float32)\n",
            "diferencia_listas: tf.Tensor(572.0, shape=(), dtype=float32)\n",
            "mae: tf.Tensor(16.342857, shape=(), dtype=float32)\n",
            "[23 24 25 26 27 28 29 30 31 32 33 34  0  1  2  3  4  5  6  7  8  9 10 11\n",
            " 12 13 14 15 16 17 18 19 20 21 22]\n",
            "loss ranking: tf.Tensor(1253.9257, shape=(), dtype=float32)\n",
            "perdida_listas: tf.Tensor(2382.2747, shape=(), dtype=float32)\n",
            "mse: tf.Tensor(276.0, shape=(), dtype=float32)\n",
            "diferencia_listas: tf.Tensor(552.0, shape=(), dtype=float32)\n",
            "mae: tf.Tensor(15.771428, shape=(), dtype=float32)\n",
            "[24 25 26 27 28 29 30 31 32 33 34  0  1  2  3  4  5  6  7  8  9 10 11 12\n",
            " 13 14 15 16 17 18 19 20 21 22 23]\n",
            "loss ranking: tf.Tensor(1150.1129, shape=(), dtype=float32)\n",
            "perdida_listas: tf.Tensor(2483.0005, shape=(), dtype=float32)\n",
            "mse: tf.Tensor(264.0, shape=(), dtype=float32)\n",
            "diferencia_listas: tf.Tensor(528.0, shape=(), dtype=float32)\n",
            "mae: tf.Tensor(15.085714, shape=(), dtype=float32)\n",
            "[25 26 27 28 29 30 31 32 33 34  0  1  2  3  4  5  6  7  8  9 10 11 12 13\n",
            " 14 15 16 17 18 19 20 21 22 23 24]\n",
            "loss ranking: tf.Tensor(1046.1537, shape=(), dtype=float32)\n",
            "perdida_listas: tf.Tensor(2583.227, shape=(), dtype=float32)\n",
            "mse: tf.Tensor(250.0, shape=(), dtype=float32)\n",
            "diferencia_listas: tf.Tensor(500.0, shape=(), dtype=float32)\n",
            "mae: tf.Tensor(14.285714, shape=(), dtype=float32)\n",
            "[26 27 28 29 30 31 32 33 34  0  1  2  3  4  5  6  7  8  9 10 11 12 13 14\n",
            " 15 16 17 18 19 20 21 22 23 24 25]\n",
            "loss ranking: tf.Tensor(942.0561, shape=(), dtype=float32)\n",
            "perdida_listas: tf.Tensor(2682.8652, shape=(), dtype=float32)\n",
            "mse: tf.Tensor(234.0, shape=(), dtype=float32)\n",
            "diferencia_listas: tf.Tensor(468.0, shape=(), dtype=float32)\n",
            "mae: tf.Tensor(13.3714285, shape=(), dtype=float32)\n",
            "[27 28 29 30 31 32 33 34  0  1  2  3  4  5  6  7  8  9 10 11 12 13 14 15\n",
            " 16 17 18 19 20 21 22 23 24 25 26]\n",
            "loss ranking: tf.Tensor(837.82776, shape=(), dtype=float32)\n",
            "perdida_listas: tf.Tensor(2781.7969, shape=(), dtype=float32)\n",
            "mse: tf.Tensor(216.0, shape=(), dtype=float32)\n",
            "diferencia_listas: tf.Tensor(432.0, shape=(), dtype=float32)\n",
            "mae: tf.Tensor(12.342857, shape=(), dtype=float32)\n",
            "[28 29 30 31 32 33 34  0  1  2  3  4  5  6  7  8  9 10 11 12 13 14 15 16\n",
            " 17 18 19 20 21 22 23 24 25 26 27]\n",
            "loss ranking: tf.Tensor(733.4755, shape=(), dtype=float32)\n",
            "perdida_listas: tf.Tensor(2879.8545, shape=(), dtype=float32)\n",
            "mse: tf.Tensor(196.0, shape=(), dtype=float32)\n",
            "diferencia_listas: tf.Tensor(392.0, shape=(), dtype=float32)\n",
            "mae: tf.Tensor(11.2, shape=(), dtype=float32)\n",
            "[29 30 31 32 33 34  0  1  2  3  4  5  6  7  8  9 10 11 12 13 14 15 16 17\n",
            " 18 19 20 21 22 23 24 25 26 27 28]\n",
            "loss ranking: tf.Tensor(629.00555, shape=(), dtype=float32)\n",
            "perdida_listas: tf.Tensor(2976.796, shape=(), dtype=float32)\n",
            "mse: tf.Tensor(174.0, shape=(), dtype=float32)\n",
            "diferencia_listas: tf.Tensor(348.0, shape=(), dtype=float32)\n",
            "mae: tf.Tensor(9.942857, shape=(), dtype=float32)\n",
            "[30 31 32 33 34  0  1  2  3  4  5  6  7  8  9 10 11 12 13 14 15 16 17 18\n",
            " 19 20 21 22 23 24 25 26 27 28 29]\n",
            "loss ranking: tf.Tensor(524.42346, shape=(), dtype=float32)\n",
            "perdida_listas: tf.Tensor(3072.241, shape=(), dtype=float32)\n",
            "mse: tf.Tensor(150.0, shape=(), dtype=float32)\n",
            "diferencia_listas: tf.Tensor(300.0, shape=(), dtype=float32)\n",
            "mae: tf.Tensor(8.571428, shape=(), dtype=float32)\n",
            "[31 32 33 34  0  1  2  3  4  5  6  7  8  9 10 11 12 13 14 15 16 17 18 19\n",
            " 20 21 22 23 24 25 26 27 28 29 30]\n",
            "loss ranking: tf.Tensor(419.7347, shape=(), dtype=float32)\n",
            "perdida_listas: tf.Tensor(3165.544, shape=(), dtype=float32)\n",
            "mse: tf.Tensor(124.0, shape=(), dtype=float32)\n",
            "diferencia_listas: tf.Tensor(248.0, shape=(), dtype=float32)\n",
            "mae: tf.Tensor(7.0857143, shape=(), dtype=float32)\n",
            "[32 33 34  0  1  2  3  4  5  6  7  8  9 10 11 12 13 14 15 16 17 18 19 20\n",
            " 21 22 23 24 25 26 27 28 29 30 31]\n",
            "loss ranking: tf.Tensor(314.94366, shape=(), dtype=float32)\n",
            "perdida_listas: tf.Tensor(3255.4473, shape=(), dtype=float32)\n",
            "mse: tf.Tensor(96.0, shape=(), dtype=float32)\n",
            "diferencia_listas: tf.Tensor(192.0, shape=(), dtype=float32)\n",
            "mae: tf.Tensor(5.4857144, shape=(), dtype=float32)\n",
            "[33 34  0  1  2  3  4  5  6  7  8  9 10 11 12 13 14 15 16 17 18 19 20 21\n",
            " 22 23 24 25 26 27 28 29 30 31 32]\n",
            "loss ranking: tf.Tensor(210.05496, shape=(), dtype=float32)\n",
            "perdida_listas: tf.Tensor(3338.8977, shape=(), dtype=float32)\n",
            "mse: tf.Tensor(66.0, shape=(), dtype=float32)\n",
            "diferencia_listas: tf.Tensor(132.0, shape=(), dtype=float32)\n",
            "mae: tf.Tensor(3.7714286, shape=(), dtype=float32)\n",
            "[34  0  1  2  3  4  5  6  7  8  9 10 11 12 13 14 15 16 17 18 19 20 21 22\n",
            " 23 24 25 26 27 28 29 30 31 32 33]\n",
            "loss ranking: tf.Tensor(105.07247, shape=(), dtype=float32)\n",
            "perdida_listas: tf.Tensor(3404.1018, shape=(), dtype=float32)\n",
            "mse: tf.Tensor(34.0, shape=(), dtype=float32)\n",
            "diferencia_listas: tf.Tensor(68.0, shape=(), dtype=float32)\n",
            "mae: tf.Tensor(1.9428571, shape=(), dtype=float32)\n"
          ]
        },
        {
          "output_type": "display_data",
          "data": {
            "text/plain": [
              "<Figure size 640x480 with 1 Axes>"
            ],
            "image/png": "[encoded data removed]"
          },
          "metadata": {}
        },
        {
          "output_type": "display_data",
          "data": {
            "text/plain": [
              "<Figure size 640x480 with 1 Axes>"
            ],
            "image/png": "[encoded data removed]"
          },
          "metadata": {}
        }
      ]
    },
    {
      "cell_type": "code",
      "source": [
        "#plt.plot(loss_loss_ranking / loss_loss_ranking.max(), 'r');\n",
        "#plt.plot(loss_perdida_listas / loss_perdida_listas.max(), 'g');\n",
        "plt.plot(loss_mse / loss_mse.max(), 'b');\n",
        "plt.plot(loss_diferencia_listas / loss_diferencia_listas.max(), 'y');\n",
        "plt.plot(loss_mae / loss_mae.max(), 'p');"
      ],
      "metadata": {
        "colab": {
          "base_uri": "https://localhost:8080/",
          "height": 430
        },
        "id": "Nsj-Cm2Ft4h8",
        "outputId": "3f58a18b-5bfc-4fa4-f314-2a73dfbe2c30"
      },
      "execution_count": 41,
      "outputs": [
        {
          "output_type": "display_data",
          "data": {
            "text/plain": [
              "<Figure size 640x480 with 1 Axes>"
            ],
            "image/png": "[encoded data removed]"
          },
          "metadata": {}
        }
      ]
    },
    {
      "cell_type": "code",
      "source": [
        "\n",
        "\"\"\"\n",
        "\n",
        "#1#\n",
        "\n",
        "[ 1  2  3  4  5  6  7  8  9 10 11 12 13 14 15 16 17 18 19 20 21 22 23 24\n",
        " 25 26 27 28 29 30 31 32 33 34  0]\n",
        "loss ranking: tf.Tensor(3404.1023, shape=(), dtype=float32)\n",
        "perdida_listas: tf.Tensor(105.07248, shape=(), dtype=float32)\n",
        "mse: tf.Tensor(68.0, shape=(), dtype=float32)\n",
        "\n",
        "#-1#\n",
        "[34  0  1  2  3  4  5  6  7  8  9 10 11 12 13 14 15 16 17 18 19 20 21 22\n",
        " 23 24 25 26 27 28 29 30 31 32 33]\n",
        "loss ranking: tf.Tensor(105.07247, shape=(), dtype=float32)\n",
        "perdida_listas: tf.Tensor(3404.1018, shape=(), dtype=float32)\n",
        "mse: tf.Tensor(68.0, shape=(), dtype=float32)\n",
        "\"\"\""
      ],
      "metadata": {
        "id": "LKKzotgNj0sH"
      },
      "execution_count": null,
      "outputs": []
    },
    {
      "cell_type": "markdown",
      "source": [
        "# Y normalizada"
      ],
      "metadata": {
        "id": "WlW4JKhgmYzn"
      }
    },
    {
      "cell_type": "code",
      "source": [
        "import numpy as np"
      ],
      "metadata": {
        "id": "YJ8K3qNro0IY"
      },
      "execution_count": null,
      "outputs": []
    },
    {
      "cell_type": "markdown",
      "source": [
        "## PARA SIGMOIDE"
      ],
      "metadata": {
        "id": "fVFBD0MFp3FX"
      }
    },
    {
      "cell_type": "code",
      "source": [
        "r = np.array([10,0,20,40,30])"
      ],
      "metadata": {
        "id": "hCNEpxQpmZ3t"
      },
      "execution_count": null,
      "outputs": []
    },
    {
      "cell_type": "code",
      "source": [
        "np.argsort(r)"
      ],
      "metadata": {
        "id": "WKwhAS_6mySd"
      },
      "execution_count": null,
      "outputs": []
    },
    {
      "cell_type": "code",
      "source": [
        "r_norm = r/r.max()\n",
        "r_norm"
      ],
      "metadata": {
        "id": "AFV1RzB8mfIK"
      },
      "execution_count": null,
      "outputs": []
    },
    {
      "cell_type": "code",
      "source": [
        "np.argsort(r_norm)"
      ],
      "metadata": {
        "id": "k8Wk0o_VmxpZ"
      },
      "execution_count": null,
      "outputs": []
    },
    {
      "cell_type": "code",
      "source": [],
      "metadata": {
        "id": "ONpuJ6IEpbeG"
      },
      "execution_count": null,
      "outputs": []
    },
    {
      "cell_type": "markdown",
      "source": [
        "# PARA TANH"
      ],
      "metadata": {
        "id": "rQByz-3ip5Jm"
      }
    },
    {
      "cell_type": "code",
      "source": [
        "r = np.array([10,0,20,40,30])\n",
        "\n",
        "r_norm = 2*(r - min(r)) / (max(r) - min(r)) - 1\n",
        "r_norm"
      ],
      "metadata": {
        "id": "3dioJS35pbg5"
      },
      "execution_count": null,
      "outputs": []
    }
  ]
}