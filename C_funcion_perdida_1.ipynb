{
  "nbformat": 4,
  "nbformat_minor": 0,
  "metadata": {
    "colab": {
      "provenance": [],
      "toc_visible": true,
      "authorship_tag": "ABX9TyOOvJVsrUtsf0qmeeHc7lQp",
      "include_colab_link": true
    },
    "kernelspec": {
      "name": "python3",
      "display_name": "Python 3"
    },
    "language_info": {
      "name": "python"
    }
  },
  "cells": [
    {
      "cell_type": "markdown",
      "metadata": {
        "id": "view-in-github",
        "colab_type": "text"
      },
      "source": [
        "<a href=\"https://colab.research.google.com/github/tintenderete/TFM-Algoritmo-con-redes-evolutivas/blob/main/C_funcion_perdida_1.ipynb\" target=\"_parent\"><img src=\"https://colab.research.google.com/assets/colab-badge.svg\" alt=\"Open In Colab\"/></a>"
      ]
    },
    {
      "cell_type": "code",
      "source": [
        "import tensorflow as tf\n",
        "import numpy as np"
      ],
      "metadata": {
        "id": "lbRBYpdYemmT"
      },
      "execution_count": null,
      "outputs": []
    },
    {
      "cell_type": "code",
      "execution_count": null,
      "metadata": {
        "id": "0l9bmj-Neav9"
      },
      "outputs": [],
      "source": [
        "def perdida_listas(ranking_real, ranking_predicho):\n",
        "    diferencias = tf.abs(ranking_real - ranking_predicho)\n",
        "    perdida_total = tf.reduce_sum(diferencias)\n",
        "    \"\"\"\n",
        "    Una opción podría ser cambiar tf.reduce_sum() por tf.reduce_mean() para tomar el promedio de las diferencias en lugar de la suma. Esto hará que la pérdida sea independiente del tamaño del lote de datos.\n",
        "    \"\"\"\n",
        "    return perdida_total\n"
      ]
    },
    {
      "cell_type": "code",
      "source": [
        "ranking_real = np.array([[6,3,2,4,5,1]])\n",
        "ranking_real"
      ],
      "metadata": {
        "colab": {
          "base_uri": "https://localhost:8080/"
        },
        "id": "o1TNj_l7ffTm",
        "outputId": "63c896f9-9b0f-4e38-ec31-4a3e4d3e7b8c"
      },
      "execution_count": null,
      "outputs": [
        {
          "output_type": "execute_result",
          "data": {
            "text/plain": [
              "array([[6, 3, 2, 4, 5, 1]])"
            ]
          },
          "metadata": {},
          "execution_count": 3
        }
      ]
    },
    {
      "cell_type": "code",
      "source": [
        "ranking_predicho = np.array([[1,2,3,6,5,4]])\n",
        "ranking_predicho"
      ],
      "metadata": {
        "colab": {
          "base_uri": "https://localhost:8080/"
        },
        "id": "hWjagbCvghGM",
        "outputId": "fc370db4-0aca-402d-bd5c-eeb042f9db62"
      },
      "execution_count": null,
      "outputs": [
        {
          "output_type": "execute_result",
          "data": {
            "text/plain": [
              "array([[1, 2, 3, 6, 5, 4]])"
            ]
          },
          "metadata": {},
          "execution_count": 4
        }
      ]
    },
    {
      "cell_type": "code",
      "source": [
        "diferencias = tf.abs(ranking_real - ranking_predicho)\n",
        "diferencias"
      ],
      "metadata": {
        "colab": {
          "base_uri": "https://localhost:8080/"
        },
        "id": "Rr_23ouLgzpQ",
        "outputId": "e3fc4a06-7a76-4006-e045-178361007c8e"
      },
      "execution_count": null,
      "outputs": [
        {
          "output_type": "execute_result",
          "data": {
            "text/plain": [
              "<tf.Tensor: shape=(1, 6), dtype=int64, numpy=array([[5, 1, 1, 2, 0, 3]])>"
            ]
          },
          "metadata": {},
          "execution_count": 5
        }
      ]
    },
    {
      "cell_type": "code",
      "source": [
        "perdida_total = tf.reduce_sum(diferencias)\n",
        "perdida_total"
      ],
      "metadata": {
        "colab": {
          "base_uri": "https://localhost:8080/"
        },
        "id": "HBhJ4nkbhTt1",
        "outputId": "cd404948-9a4a-4a06-b9d9-c205ce5a582f"
      },
      "execution_count": null,
      "outputs": [
        {
          "output_type": "execute_result",
          "data": {
            "text/plain": [
              "<tf.Tensor: shape=(), dtype=int64, numpy=12>"
            ]
          },
          "metadata": {},
          "execution_count": 6
        }
      ]
    },
    {
      "cell_type": "code",
      "source": [
        "perdida_listas(ranking_real, ranking_predicho)"
      ],
      "metadata": {
        "colab": {
          "base_uri": "https://localhost:8080/"
        },
        "id": "2t7At1n3gqkd",
        "outputId": "db037205-93d4-4b7e-fd45-0f3dd52b6a33"
      },
      "execution_count": null,
      "outputs": [
        {
          "output_type": "execute_result",
          "data": {
            "text/plain": [
              "<tf.Tensor: shape=(), dtype=int64, numpy=12>"
            ]
          },
          "metadata": {},
          "execution_count": 7
        }
      ]
    },
    {
      "cell_type": "markdown",
      "source": [
        "# asignar más peso a las diferencias que corresponden a números más bajos en el ranking real.\n",
        "\n",
        "castiga cuando los mejores estan clasificados como peores"
      ],
      "metadata": {
        "id": "DiQbwz9UjF89"
      }
    },
    {
      "cell_type": "code",
      "source": [
        "def perdida_listas(ranking_real, ranking_predicho):\n",
        "    diferencias = tf.abs(ranking_real - ranking_predicho)\n",
        "    diferencias_ponderadas = diferencias / (ranking_real + 1e-7)  # Añadimos un pequeño número para evitar la división por cero\n",
        "    perdida_total = tf.reduce_sum(diferencias_ponderadas)\n",
        "    return perdida_total"
      ],
      "metadata": {
        "id": "op4HIHjBjLBh"
      },
      "execution_count": null,
      "outputs": []
    },
    {
      "cell_type": "code",
      "source": [
        "ranking_real, ranking_predicho"
      ],
      "metadata": {
        "colab": {
          "base_uri": "https://localhost:8080/"
        },
        "id": "MsuxCBA7jTml",
        "outputId": "17f87cdc-740d-4f46-aa37-b6d6ba72a758"
      },
      "execution_count": null,
      "outputs": [
        {
          "output_type": "execute_result",
          "data": {
            "text/plain": [
              "(array([[6, 3, 2, 4, 5, 1]]), array([[1, 2, 3, 6, 5, 4]]))"
            ]
          },
          "metadata": {},
          "execution_count": 9
        }
      ]
    },
    {
      "cell_type": "code",
      "source": [
        "diferencias = tf.abs(ranking_real - ranking_predicho)\n",
        "diferencias"
      ],
      "metadata": {
        "colab": {
          "base_uri": "https://localhost:8080/"
        },
        "id": "Ww5bIdgRjN5p",
        "outputId": "2ad155e9-6bb7-4ac0-88ac-bbd9c328894f"
      },
      "execution_count": null,
      "outputs": [
        {
          "output_type": "execute_result",
          "data": {
            "text/plain": [
              "<tf.Tensor: shape=(1, 6), dtype=int64, numpy=array([[5, 1, 1, 2, 0, 3]])>"
            ]
          },
          "metadata": {},
          "execution_count": 10
        }
      ]
    },
    {
      "cell_type": "code",
      "source": [
        "diferencias_ponderadas = diferencias / (ranking_real + 1e-7)\n",
        "diferencias_ponderadas.numpy()"
      ],
      "metadata": {
        "colab": {
          "base_uri": "https://localhost:8080/"
        },
        "id": "A7W6FpSKjW_I",
        "outputId": "b5cfa992-e5cd-4d97-9e72-03d41075a5ef"
      },
      "execution_count": null,
      "outputs": [
        {
          "output_type": "execute_result",
          "data": {
            "text/plain": [
              "array([[0.83333333, 0.33333333, 0.5       , 0.5       , 0.        ,\n",
              "        3.        ]])"
            ]
          },
          "metadata": {},
          "execution_count": 11
        }
      ]
    },
    {
      "cell_type": "code",
      "source": [
        "perdida_total = tf.reduce_sum(diferencias_ponderadas)\n",
        "perdida_total"
      ],
      "metadata": {
        "colab": {
          "base_uri": "https://localhost:8080/"
        },
        "id": "dJtwpW4Gjk1N",
        "outputId": "761beea9-31b1-4aa4-a137-63e4a56627bc"
      },
      "execution_count": null,
      "outputs": [
        {
          "output_type": "execute_result",
          "data": {
            "text/plain": [
              "<tf.Tensor: shape=(), dtype=float64, numpy=5.166666666666667>"
            ]
          },
          "metadata": {},
          "execution_count": 12
        }
      ]
    },
    {
      "cell_type": "code",
      "source": [
        "perdida_listas(ranking_real, ranking_predicho)"
      ],
      "metadata": {
        "colab": {
          "base_uri": "https://localhost:8080/"
        },
        "id": "Eg2PgKzNkD_5",
        "outputId": "48c1090e-a7d7-4cbe-e949-c6c9ab8b3706"
      },
      "execution_count": null,
      "outputs": [
        {
          "output_type": "execute_result",
          "data": {
            "text/plain": [
              "<tf.Tensor: shape=(), dtype=float64, numpy=5.166666666666667>"
            ]
          },
          "metadata": {},
          "execution_count": 13
        }
      ]
    },
    {
      "cell_type": "code",
      "source": [],
      "metadata": {
        "id": "cCLxKKKToAEo"
      },
      "execution_count": null,
      "outputs": []
    },
    {
      "cell_type": "markdown",
      "source": [
        "## inversa"
      ],
      "metadata": {
        "id": "9wF_hp9rwm7A"
      }
    },
    {
      "cell_type": "markdown",
      "source": [
        "castiga cuando los peores estan clasificados como mejores"
      ],
      "metadata": {
        "id": "pxSzRnJspr_E"
      }
    },
    {
      "cell_type": "code",
      "source": [
        "ranking_real, ranking_predicho"
      ],
      "metadata": {
        "colab": {
          "base_uri": "https://localhost:8080/"
        },
        "id": "6SneRl2Yp1Z2",
        "outputId": "2a777f3a-a0d6-44cf-f06c-c484758daec8"
      },
      "execution_count": null,
      "outputs": [
        {
          "output_type": "execute_result",
          "data": {
            "text/plain": [
              "(array([[6, 3, 2, 4, 5, 1]]), array([[1, 2, 3, 6, 5, 4]]))"
            ]
          },
          "metadata": {},
          "execution_count": 14
        }
      ]
    },
    {
      "cell_type": "code",
      "source": [
        "diferencias = tf.abs(ranking_real - ranking_predicho)\n",
        "diferencias"
      ],
      "metadata": {
        "colab": {
          "base_uri": "https://localhost:8080/"
        },
        "id": "4ATJtcCMrSBj",
        "outputId": "b5e1db5d-4643-4432-da58-67e0a86dedf4"
      },
      "execution_count": null,
      "outputs": [
        {
          "output_type": "execute_result",
          "data": {
            "text/plain": [
              "<tf.Tensor: shape=(1, 6), dtype=int64, numpy=array([[5, 1, 1, 2, 0, 3]])>"
            ]
          },
          "metadata": {},
          "execution_count": 15
        }
      ]
    },
    {
      "cell_type": "code",
      "source": [
        "diferencias_ponderadas = diferencias / (ranking_predicho + 1e-7)\n",
        "diferencias_ponderadas.numpy()"
      ],
      "metadata": {
        "colab": {
          "base_uri": "https://localhost:8080/"
        },
        "id": "MDnG5JUHrT3S",
        "outputId": "3fc3c6c4-f555-47b5-ed2f-0dcba4e48353"
      },
      "execution_count": null,
      "outputs": [
        {
          "output_type": "execute_result",
          "data": {
            "text/plain": [
              "array([[5.        , 0.5       , 0.33333333, 0.33333333, 0.        ,\n",
              "        0.75      ]])"
            ]
          },
          "metadata": {},
          "execution_count": 16
        }
      ]
    },
    {
      "cell_type": "code",
      "source": [
        "def loss_ranking(ranking_real, ranking_predicho):\n",
        "    ranking_real_float = tf.cast(ranking_real, tf.float32)\n",
        "    ranking_predicho = tf.cast(ranking_predicho, tf.float32)\n",
        "    diferencias = tf.abs(ranking_real_float - ranking_predicho)\n",
        "    diferencias_ponderadas = diferencias / (ranking_predicho + 0.01) # <<<<---------\n",
        "    perdida_total = tf.reduce_sum(diferencias_ponderadas)\n",
        "    return abs(perdida_total)"
      ],
      "metadata": {
        "id": "GcBQSjfjC4c3"
      },
      "execution_count": null,
      "outputs": []
    },
    {
      "cell_type": "markdown",
      "source": [
        "----"
      ],
      "metadata": {
        "id": "liQGuGw9DnjG"
      }
    },
    {
      "cell_type": "code",
      "source": [
        "loss_ranking(\n",
        "    np.array([1,2,3]),\n",
        "    np.array([1,2,10])\n",
        "    )"
      ],
      "metadata": {
        "id": "UsfYcMa2DQNb",
        "outputId": "77590342-849f-445d-99cf-e13ac5ed161b",
        "colab": {
          "base_uri": "https://localhost:8080/"
        }
      },
      "execution_count": null,
      "outputs": [
        {
          "output_type": "execute_result",
          "data": {
            "text/plain": [
              "<tf.Tensor: shape=(), dtype=float32, numpy=0.6993007>"
            ]
          },
          "metadata": {},
          "execution_count": 70
        }
      ]
    },
    {
      "cell_type": "code",
      "source": [
        "loss_ranking(\n",
        "    np.array([1,2,3]),\n",
        "    np.array([10,2,3])\n",
        "    )"
      ],
      "metadata": {
        "id": "lv_vV-oPDh-o",
        "outputId": "c4bedc4d-289e-423c-d677-eac43ff50a95",
        "colab": {
          "base_uri": "https://localhost:8080/"
        }
      },
      "execution_count": null,
      "outputs": [
        {
          "output_type": "execute_result",
          "data": {
            "text/plain": [
              "<tf.Tensor: shape=(), dtype=float32, numpy=0.8991009>"
            ]
          },
          "metadata": {},
          "execution_count": 71
        }
      ]
    },
    {
      "cell_type": "code",
      "source": [
        "perdida_listas(\n",
        "    np.array([1,2,3]),\n",
        "    np.array([1,2,10])\n",
        "    )"
      ],
      "metadata": {
        "id": "x0o5EJboDlZM",
        "outputId": "fb62ed54-9d48-4fda-b6bf-a2cf1ba54cef",
        "colab": {
          "base_uri": "https://localhost:8080/"
        }
      },
      "execution_count": null,
      "outputs": [
        {
          "output_type": "execute_result",
          "data": {
            "text/plain": [
              "<tf.Tensor: shape=(), dtype=float64, numpy=2.3333333333333335>"
            ]
          },
          "metadata": {},
          "execution_count": 72
        }
      ]
    },
    {
      "cell_type": "code",
      "source": [
        "perdida_listas(\n",
        "    np.array([1,2,3]),\n",
        "    np.array([10,2,3])\n",
        "    )"
      ],
      "metadata": {
        "id": "36CL3zrJDrIq",
        "outputId": "6386d77b-8309-4266-921c-5f320a4771d7",
        "colab": {
          "base_uri": "https://localhost:8080/"
        }
      },
      "execution_count": null,
      "outputs": [
        {
          "output_type": "execute_result",
          "data": {
            "text/plain": [
              "<tf.Tensor: shape=(), dtype=float64, numpy=9.0>"
            ]
          },
          "metadata": {},
          "execution_count": 73
        }
      ]
    },
    {
      "cell_type": "code",
      "source": [
        "tf.keras.metrics.mean_squared_error(\n",
        "    np.array([1,2,3]),\n",
        "    np.array([10,2,3])\n",
        ")"
      ],
      "metadata": {
        "id": "SbvPQZ6iEeSH",
        "outputId": "25c18b61-a4b3-45b1-aa8a-2b93be52eeea",
        "colab": {
          "base_uri": "https://localhost:8080/"
        }
      },
      "execution_count": null,
      "outputs": [
        {
          "output_type": "execute_result",
          "data": {
            "text/plain": [
              "<tf.Tensor: shape=(), dtype=int64, numpy=27>"
            ]
          },
          "metadata": {},
          "execution_count": 68
        }
      ]
    },
    {
      "cell_type": "code",
      "source": [
        "tf.keras.metrics.mean_squared_error(\n",
        "    np.array([1,2,3]),\n",
        "    np.array([1,2,10])\n",
        ")"
      ],
      "metadata": {
        "id": "DTqV0OwKEnov",
        "outputId": "ad82824f-7e83-4495-b4c8-cd6896cde9f0",
        "colab": {
          "base_uri": "https://localhost:8080/"
        }
      },
      "execution_count": null,
      "outputs": [
        {
          "output_type": "execute_result",
          "data": {
            "text/plain": [
              "<tf.Tensor: shape=(), dtype=int64, numpy=16>"
            ]
          },
          "metadata": {},
          "execution_count": 69
        }
      ]
    }
  ]
}