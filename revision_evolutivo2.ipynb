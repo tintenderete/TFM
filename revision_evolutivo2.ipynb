{
  "nbformat": 4,
  "nbformat_minor": 0,
  "metadata": {
    "colab": {
      "provenance": [],
      "toc_visible": true,
      "gpuType": "V100",
      "authorship_tag": "ABX9TyPtILomcxptgUN+uyx3dPwi",
      "include_colab_link": true
    },
    "kernelspec": {
      "name": "python3",
      "display_name": "Python 3"
    },
    "language_info": {
      "name": "python"
    },
    "accelerator": "GPU"
  },
  "cells": [
    {
      "cell_type": "markdown",
      "metadata": {
        "id": "view-in-github",
        "colab_type": "text"
      },
      "source": [
        "<a href=\"https://colab.research.google.com/github/tintenderete/TFM-Algoritmo-con-redes-evolutivas/blob/main/revision_evolutivo2.ipynb\" target=\"_parent\"><img src=\"https://colab.research.google.com/assets/colab-badge.svg\" alt=\"Open In Colab\"/></a>"
      ]
    },
    {
      "cell_type": "code",
      "source": [
        "import numpy as np\n",
        "import pandas as pd\n",
        "import matplotlib.pyplot as plt\n",
        "\n",
        "import keras\n",
        "import tensorflow as tf\n",
        "\n",
        "from tensorflow.keras.layers import ConvLSTM1D, Dense, Conv2D, LSTM, GRU, Reshape\n",
        "from tensorflow.keras.layers import ConvLSTM2D, Conv3D, TimeDistributed, Flatten\n",
        "\n",
        "\n",
        "from keras.callbacks import EarlyStopping\n",
        "from tensorflow.keras import initializers"
      ],
      "metadata": {
        "id": "jdHeyNdzRzlq"
      },
      "execution_count": 1,
      "outputs": []
    },
    {
      "cell_type": "code",
      "execution_count": 2,
      "metadata": {
        "id": "QUzNduRP_iHa"
      },
      "outputs": [],
      "source": [
        "\n",
        "# Parámetros\n",
        "num_dias = 10\n",
        "num_periodos = 60\n",
        "num_activos = 5\n",
        "num_canales = 1\n",
        "\n",
        "# Crear datos aleatorios para X\n",
        "X = np.random.uniform(low=-1, high=1, size=(num_dias, num_periodos, num_activos, num_canales))\n",
        "\n",
        "# Aplicar las transformaciones a los activos 1 y 2\n",
        "X[:, :, 0, 0] *= 2  # Multiplicar los precios del canal 1 del activo 1 por 2\n",
        "X[:, :, 1, 0] /= 2  # Dividir los precios del canal 1 del activo 2 entre 2\n",
        "\n",
        "# Crear la etiqueta Y como el cumsum del canal 1\n",
        "Y = np.sum(X[:, :, :, 0], axis=1)\n"
      ]
    },
    {
      "cell_type": "code",
      "source": [
        "X.shape, Y.shape"
      ],
      "metadata": {
        "colab": {
          "base_uri": "https://localhost:8080/"
        },
        "id": "_SLHem_ECCeU",
        "outputId": "b305aafe-e01b-4747-98e3-4e19bca11587"
      },
      "execution_count": 3,
      "outputs": [
        {
          "output_type": "execute_result",
          "data": {
            "text/plain": [
              "((10, 60, 5, 1), (10, 5))"
            ]
          },
          "metadata": {},
          "execution_count": 3
        }
      ]
    },
    {
      "cell_type": "markdown",
      "source": [
        "# Funcion listas"
      ],
      "metadata": {
        "id": "5lw2OjM-HQHy"
      }
    },
    {
      "cell_type": "code",
      "source": [
        "def get_ranking(Y):\n",
        "  Y_ranking = np.zeros_like(Y, dtype=int)\n",
        "\n",
        "  for i in range(Y.shape[0]):\n",
        "      Y_ranking[i] = np.argsort(np.argsort(-Y[i]))\n",
        "\n",
        "  return Y_ranking\n",
        "\n",
        "def get_ranking_tf(Y):\n",
        "  Y_argsort = tf.argsort(Y, direction='DESCENDING')\n",
        "  Y_ranking = tf.argsort(Y_argsort)\n",
        "  return Y_ranking\n"
      ],
      "metadata": {
        "id": "BAYLgJ7cHVwc"
      },
      "execution_count": 4,
      "outputs": []
    },
    {
      "cell_type": "code",
      "source": [
        "Y[0:4],get_ranking(Y[0:4])"
      ],
      "metadata": {
        "colab": {
          "base_uri": "https://localhost:8080/"
        },
        "id": "41nN9kzSHjkQ",
        "outputId": "4ffef246-d9a8-4a28-e329-6b441056d94e"
      },
      "execution_count": 5,
      "outputs": [
        {
          "output_type": "execute_result",
          "data": {
            "text/plain": [
              "(array([[ 9.63333229,  0.0276576 ,  2.21118555, -6.3569307 ,  4.727695  ],\n",
              "        [18.31635636, -0.78203945, -2.80401683,  1.58716242, -1.31192995],\n",
              "        [10.17058691, -2.20799593,  0.33471638, -1.69880415,  1.20910771],\n",
              "        [-2.59124797, -0.0738568 ,  8.38390375, -1.22339551, -3.26808634]]),\n",
              " array([[0, 3, 2, 4, 1],\n",
              "        [0, 2, 4, 1, 3],\n",
              "        [0, 4, 2, 3, 1],\n",
              "        [3, 1, 0, 2, 4]]))"
            ]
          },
          "metadata": {},
          "execution_count": 5
        }
      ]
    },
    {
      "cell_type": "code",
      "source": [
        "Y = get_ranking(Y)"
      ],
      "metadata": {
        "id": "ruM-CP0JQsIo"
      },
      "execution_count": 6,
      "outputs": []
    },
    {
      "cell_type": "code",
      "source": [
        "Y[0:4]"
      ],
      "metadata": {
        "colab": {
          "base_uri": "https://localhost:8080/"
        },
        "id": "7FOXuyZAQxNj",
        "outputId": "3cffb892-d00a-4c3f-8f36-a5a067c043db"
      },
      "execution_count": 7,
      "outputs": [
        {
          "output_type": "execute_result",
          "data": {
            "text/plain": [
              "array([[0, 3, 2, 4, 1],\n",
              "       [0, 2, 4, 1, 3],\n",
              "       [0, 4, 2, 3, 1],\n",
              "       [3, 1, 0, 2, 4]])"
            ]
          },
          "metadata": {},
          "execution_count": 7
        }
      ]
    },
    {
      "cell_type": "code",
      "source": [
        "get_ranking(Y)"
      ],
      "metadata": {
        "colab": {
          "base_uri": "https://localhost:8080/"
        },
        "id": "RRGFnC6iokgZ",
        "outputId": "84dbb731-279a-475d-945b-240c742a5ebe"
      },
      "execution_count": 8,
      "outputs": [
        {
          "output_type": "execute_result",
          "data": {
            "text/plain": [
              "array([[4, 1, 2, 0, 3],\n",
              "       [4, 2, 0, 3, 1],\n",
              "       [4, 0, 2, 1, 3],\n",
              "       [1, 3, 4, 2, 0],\n",
              "       [4, 2, 3, 0, 1],\n",
              "       [0, 3, 1, 4, 2],\n",
              "       [4, 2, 3, 1, 0],\n",
              "       [4, 0, 3, 2, 1],\n",
              "       [1, 2, 0, 4, 3],\n",
              "       [4, 2, 0, 1, 3]])"
            ]
          },
          "metadata": {},
          "execution_count": 8
        }
      ]
    },
    {
      "cell_type": "code",
      "source": [
        "get_ranking_tf(Y)"
      ],
      "metadata": {
        "colab": {
          "base_uri": "https://localhost:8080/"
        },
        "id": "KG6JeMgGomzv",
        "outputId": "3a1ea88d-3cb4-49cb-fdd4-3acab9db655c"
      },
      "execution_count": 9,
      "outputs": [
        {
          "output_type": "execute_result",
          "data": {
            "text/plain": [
              "<tf.Tensor: shape=(10, 5), dtype=int32, numpy=\n",
              "array([[4, 1, 2, 0, 3],\n",
              "       [4, 2, 0, 3, 1],\n",
              "       [4, 0, 2, 1, 3],\n",
              "       [1, 3, 4, 2, 0],\n",
              "       [4, 2, 3, 0, 1],\n",
              "       [0, 3, 1, 4, 2],\n",
              "       [4, 2, 3, 1, 0],\n",
              "       [4, 0, 3, 2, 1],\n",
              "       [1, 2, 0, 4, 3],\n",
              "       [4, 2, 0, 1, 3]], dtype=int32)>"
            ]
          },
          "metadata": {},
          "execution_count": 9
        }
      ]
    },
    {
      "cell_type": "markdown",
      "source": [
        "# GeneticAlgorithm"
      ],
      "metadata": {
        "id": "JoLip2tGJHLZ"
      }
    },
    {
      "cell_type": "code",
      "source": [
        "class GeneticAlgorithm:\n",
        "    def __init__(self,\n",
        "                 initial_population,\n",
        "                 fitness_function,\n",
        "                 selection_function,\n",
        "                 crossover_function,\n",
        "                 mutation_function,\n",
        "                 immigration_function,\n",
        "                 n_generations,\n",
        "                 n_save_best_population):\n",
        "        self.population = initial_population\n",
        "        self.fitness_function = fitness_function\n",
        "        self.selection_function = selection_function\n",
        "        self.crossover_function = crossover_function\n",
        "        self.mutation_function = mutation_function\n",
        "        self.immigration_function = immigration_function\n",
        "        self.n_generations = n_generations\n",
        "        self.n_save_best_population = n_save_best_population\n",
        "\n",
        "    def run(self):\n",
        "        for i in range(self.n_generations):\n",
        "            fitness = self.fitness_function(self.population)\n",
        "            best_population = self._get_best_population(self.population,  fitness)\n",
        "            parents = self.selection_function(self.population, fitness)\n",
        "            offspring = self.crossover_function(parents)\n",
        "            offspring = self.mutation_function(offspring)\n",
        "            self.population = np.concatenate((parents, offspring))\n",
        "\n",
        "            immigration = self.immigration_function()\n",
        "            self.population = np.concatenate((self.population, immigration))\n",
        "\n",
        "            if(len(best_population)>0):\n",
        "              self.population = np.concatenate((self.population, best_population))\n",
        "\n",
        "\n",
        "            # STATS\n",
        "\n",
        "            print(\"GENERATION: \" + str(i))\n",
        "            print(\"Fitness: \")\n",
        "            print(fitness)\n",
        "\n",
        "        # Devuelve la mejor solución encontrada\n",
        "        fitness = self.fitness_function(self.population)\n",
        "        best_idx = np.argmax(fitness)\n",
        "        return self.population[best_idx]\n",
        "\n",
        "    def _get_best_population(self,population,  fitness):\n",
        "      idx_best_pop = np.argsort(fitness)[::1][:self.n_save_best_population]\n",
        "\n",
        "      return np.array(population)[idx_best_pop]\n"
      ],
      "metadata": {
        "id": "wyzyGpwXG-hb"
      },
      "execution_count": 10,
      "outputs": []
    },
    {
      "cell_type": "code",
      "source": [
        "pop = [[1,1],[2,2],[10,10],[11,11],[20,20],[30,30],[40,40] ]\n",
        "fitness = np.array([1,2,10,11, 20,0,40])"
      ],
      "metadata": {
        "id": "txDGJnuxu7Ni"
      },
      "execution_count": 11,
      "outputs": []
    },
    {
      "cell_type": "code",
      "source": [
        "geneticAlgorithm = GeneticAlgorithm(1,2,3,4,5,6,7,n_save_best_population = 3)"
      ],
      "metadata": {
        "id": "z1by3eqqwnct"
      },
      "execution_count": 12,
      "outputs": []
    },
    {
      "cell_type": "code",
      "source": [
        "geneticAlgorithm._get_best_population(pop,fitness)"
      ],
      "metadata": {
        "colab": {
          "base_uri": "https://localhost:8080/"
        },
        "id": "8kBPeu8Gw1Oq",
        "outputId": "7215a55a-ee1b-4a7e-e77c-16532fe91ced"
      },
      "execution_count": 13,
      "outputs": [
        {
          "output_type": "execute_result",
          "data": {
            "text/plain": [
              "array([[30, 30],\n",
              "       [ 1,  1],\n",
              "       [ 2,  2]])"
            ]
          },
          "metadata": {},
          "execution_count": 13
        }
      ]
    },
    {
      "cell_type": "markdown",
      "source": [
        "# cost function"
      ],
      "metadata": {
        "id": "9HDcg5ktMKC3"
      }
    },
    {
      "cell_type": "code",
      "source": [
        "# TIENE ERRORES QUE FIXEAR\n",
        "def loss_ranking(ranking_real, ranking_predicho):\n",
        "\n",
        "    ranking_real_float = tf.cast(ranking_real, tf.float32)\n",
        "    ranking_predicho = get_ranking_tf(-ranking_predicho) # <<<<---------\n",
        "    ranking_predicho = tf.cast(ranking_predicho, tf.float32)\n",
        "    diferencias = tf.abs(ranking_real_float - ranking_predicho)\n",
        "    diferencias_ponderadas = diferencias / (ranking_predicho + 0.01) # <<<<---------\n",
        "    perdida_total = tf.reduce_sum(diferencias_ponderadas)\n",
        "    return abs(perdida_total)"
      ],
      "metadata": {
        "id": "eTw-cpQ-ghfJ"
      },
      "execution_count": 14,
      "outputs": []
    },
    {
      "cell_type": "code",
      "source": [
        "def loss_ranking(y_true, y_pred, weights = 1):\n",
        "    y_true = tf.cast(y_true, tf.float32)\n",
        "    y_pred = tf.cast(y_pred, tf.float32)\n",
        "    diff = tf.abs(y_true - y_pred)\n",
        "    loss = tf.reduce_mean(weights * diff)\n",
        "    return loss\n"
      ],
      "metadata": {
        "id": "UFBxrfMSbNE1"
      },
      "execution_count": 15,
      "outputs": []
    },
    {
      "cell_type": "code",
      "source": [
        "def loss_ranking(ranking_real, ranking_predicho):\n",
        "    ranking_real_float = tf.cast(ranking_real, tf.float32)\n",
        "    ranking_predicho = tf.cast(ranking_predicho, tf.float32)\n",
        "    diferencias = tf.abs(ranking_real_float - ranking_predicho)\n",
        "    diferencias_ponderadas = diferencias / (ranking_predicho + 0.01) # <<<<---------\n",
        "    perdida_total = tf.reduce_sum(diferencias_ponderadas)\n",
        "    return abs(perdida_total)"
      ],
      "metadata": {
        "id": "s07WAm53MLkZ"
      },
      "execution_count": 16,
      "outputs": []
    },
    {
      "cell_type": "code",
      "source": [
        "ranking_real = np.array([0,1,2])\n",
        "ranking_predicho = np.array([1,2,0])"
      ],
      "metadata": {
        "id": "PPPSEia3p-u6"
      },
      "execution_count": 17,
      "outputs": []
    },
    {
      "cell_type": "code",
      "source": [
        "ranking_real_float = tf.cast(ranking_real, tf.float32)\n",
        "ranking_real_float"
      ],
      "metadata": {
        "colab": {
          "base_uri": "https://localhost:8080/"
        },
        "id": "um0_QylQqEus",
        "outputId": "5f33a8c5-1cc4-4dbc-b590-4b7b5bc1428d"
      },
      "execution_count": 18,
      "outputs": [
        {
          "output_type": "execute_result",
          "data": {
            "text/plain": [
              "<tf.Tensor: shape=(3,), dtype=float32, numpy=array([0., 1., 2.], dtype=float32)>"
            ]
          },
          "metadata": {},
          "execution_count": 18
        }
      ]
    },
    {
      "cell_type": "code",
      "source": [
        "ranking_predicho = get_ranking_tf(-ranking_predicho)\n",
        "ranking_predicho"
      ],
      "metadata": {
        "colab": {
          "base_uri": "https://localhost:8080/"
        },
        "id": "dxHNMSnjqLA6",
        "outputId": "8f9df4fc-4ba6-494b-d188-b23da5b6dbfc"
      },
      "execution_count": 19,
      "outputs": [
        {
          "output_type": "execute_result",
          "data": {
            "text/plain": [
              "<tf.Tensor: shape=(3,), dtype=int32, numpy=array([1, 2, 0], dtype=int32)>"
            ]
          },
          "metadata": {},
          "execution_count": 19
        }
      ]
    },
    {
      "cell_type": "code",
      "source": [
        "ranking_predicho = tf.cast(ranking_predicho, tf.float32)\n",
        "ranking_predicho"
      ],
      "metadata": {
        "colab": {
          "base_uri": "https://localhost:8080/"
        },
        "id": "r_Gk8dylqQe0",
        "outputId": "a3d4e05a-8da8-4fc5-eabe-87524dfc6d87"
      },
      "execution_count": 20,
      "outputs": [
        {
          "output_type": "execute_result",
          "data": {
            "text/plain": [
              "<tf.Tensor: shape=(3,), dtype=float32, numpy=array([1., 2., 0.], dtype=float32)>"
            ]
          },
          "metadata": {},
          "execution_count": 20
        }
      ]
    },
    {
      "cell_type": "code",
      "source": [
        "diferencias = tf.abs(ranking_real_float - ranking_predicho)\n",
        "diferencias"
      ],
      "metadata": {
        "colab": {
          "base_uri": "https://localhost:8080/"
        },
        "id": "i9fC3SRDqTaA",
        "outputId": "979401cf-e19b-453a-b63a-6080560248db"
      },
      "execution_count": 21,
      "outputs": [
        {
          "output_type": "execute_result",
          "data": {
            "text/plain": [
              "<tf.Tensor: shape=(3,), dtype=float32, numpy=array([1., 1., 2.], dtype=float32)>"
            ]
          },
          "metadata": {},
          "execution_count": 21
        }
      ]
    },
    {
      "cell_type": "code",
      "source": [
        "ranking_predicho + 0.01"
      ],
      "metadata": {
        "colab": {
          "base_uri": "https://localhost:8080/"
        },
        "id": "umTHG63Lq1-I",
        "outputId": "f5863dbb-d2dc-4290-a112-f063c4cf74ff"
      },
      "execution_count": 22,
      "outputs": [
        {
          "output_type": "execute_result",
          "data": {
            "text/plain": [
              "<tf.Tensor: shape=(3,), dtype=float32, numpy=array([1.01, 2.01, 0.01], dtype=float32)>"
            ]
          },
          "metadata": {},
          "execution_count": 22
        }
      ]
    },
    {
      "cell_type": "code",
      "source": [
        "diferencias_ponderadas = diferencias / (ranking_predicho + 0.01)\n",
        "diferencias_ponderadas"
      ],
      "metadata": {
        "colab": {
          "base_uri": "https://localhost:8080/"
        },
        "id": "O7ekrYRYqX5a",
        "outputId": "f5963d02-1f43-4b79-99b4-47c881ae2096"
      },
      "execution_count": 23,
      "outputs": [
        {
          "output_type": "execute_result",
          "data": {
            "text/plain": [
              "<tf.Tensor: shape=(3,), dtype=float32, numpy=array([  0.990099  ,   0.49751243, 200.        ], dtype=float32)>"
            ]
          },
          "metadata": {},
          "execution_count": 23
        }
      ]
    },
    {
      "cell_type": "code",
      "source": [
        "perdida_total = tf.reduce_sum(diferencias_ponderadas)\n",
        "perdida_total"
      ],
      "metadata": {
        "colab": {
          "base_uri": "https://localhost:8080/"
        },
        "id": "GkQyGAQZqeN7",
        "outputId": "036365ec-5967-4026-c697-e8ef2821208c"
      },
      "execution_count": 24,
      "outputs": [
        {
          "output_type": "execute_result",
          "data": {
            "text/plain": [
              "<tf.Tensor: shape=(), dtype=float32, numpy=201.48761>"
            ]
          },
          "metadata": {},
          "execution_count": 24
        }
      ]
    },
    {
      "cell_type": "code",
      "source": [
        "loss_ranking(np.array([0,1,2]), np.array([0,1,2]))"
      ],
      "metadata": {
        "colab": {
          "base_uri": "https://localhost:8080/"
        },
        "id": "oDPLD2QBpPeC",
        "outputId": "e9ccd04c-0075-4483-b95f-4405f9387f65"
      },
      "execution_count": 25,
      "outputs": [
        {
          "output_type": "execute_result",
          "data": {
            "text/plain": [
              "<tf.Tensor: shape=(), dtype=float32, numpy=0.0>"
            ]
          },
          "metadata": {},
          "execution_count": 25
        }
      ]
    },
    {
      "cell_type": "code",
      "source": [
        "loss_ranking(np.array([0,1,2]), np.array([3,1,2]))"
      ],
      "metadata": {
        "colab": {
          "base_uri": "https://localhost:8080/"
        },
        "id": "r25ly0k7p2P7",
        "outputId": "5ec07189-2e43-415b-f579-ae439ed0c425"
      },
      "execution_count": 26,
      "outputs": [
        {
          "output_type": "execute_result",
          "data": {
            "text/plain": [
              "<tf.Tensor: shape=(), dtype=float32, numpy=0.99667776>"
            ]
          },
          "metadata": {},
          "execution_count": 26
        }
      ]
    },
    {
      "cell_type": "code",
      "source": [
        "loss_ranking(np.array([1,2,3]), np.array([1,2,3]))"
      ],
      "metadata": {
        "colab": {
          "base_uri": "https://localhost:8080/"
        },
        "id": "Wn6aw1HHoP1x",
        "outputId": "f84f70b5-1b47-4a37-94ba-9a5cc3f393dc"
      },
      "execution_count": 27,
      "outputs": [
        {
          "output_type": "execute_result",
          "data": {
            "text/plain": [
              "<tf.Tensor: shape=(), dtype=float32, numpy=0.0>"
            ]
          },
          "metadata": {},
          "execution_count": 27
        }
      ]
    },
    {
      "cell_type": "code",
      "source": [
        "loss_ranking(np.array([1,2,3]), np.array([1,2,3]))"
      ],
      "metadata": {
        "colab": {
          "base_uri": "https://localhost:8080/"
        },
        "id": "xpX6UIOEMOQB",
        "outputId": "6be892b6-8991-432e-fb92-379414b5fb4d"
      },
      "execution_count": 28,
      "outputs": [
        {
          "output_type": "execute_result",
          "data": {
            "text/plain": [
              "<tf.Tensor: shape=(), dtype=float32, numpy=0.0>"
            ]
          },
          "metadata": {},
          "execution_count": 28
        }
      ]
    },
    {
      "cell_type": "code",
      "source": [
        "loss_ranking(np.array([1,2,3]), np.array([8,2,3]))"
      ],
      "metadata": {
        "colab": {
          "base_uri": "https://localhost:8080/"
        },
        "id": "p8_pra2KMb2O",
        "outputId": "997b32ca-c3b7-435d-e9d0-cffe6b0ecbe8"
      },
      "execution_count": 29,
      "outputs": [
        {
          "output_type": "execute_result",
          "data": {
            "text/plain": [
              "<tf.Tensor: shape=(), dtype=float32, numpy=0.87390757>"
            ]
          },
          "metadata": {},
          "execution_count": 29
        }
      ]
    },
    {
      "cell_type": "code",
      "source": [
        "loss_ranking(np.array([1,2,3]), np.array([1,2,3+5]))"
      ],
      "metadata": {
        "colab": {
          "base_uri": "https://localhost:8080/"
        },
        "id": "B_Nwc9SnMdl4",
        "outputId": "8eaca60c-5279-4335-b5f3-743a488c1ebd"
      },
      "execution_count": 30,
      "outputs": [
        {
          "output_type": "execute_result",
          "data": {
            "text/plain": [
              "<tf.Tensor: shape=(), dtype=float32, numpy=0.6242197>"
            ]
          },
          "metadata": {},
          "execution_count": 30
        }
      ]
    },
    {
      "cell_type": "code",
      "source": [
        "loss_ranking(np.array([1,2,3]), np.array([1,2,3-5]))"
      ],
      "metadata": {
        "colab": {
          "base_uri": "https://localhost:8080/"
        },
        "id": "PaPqQbe5Yjv9",
        "outputId": "93a4ce16-8ee1-40ee-d535-77f65a4df2fe"
      },
      "execution_count": 31,
      "outputs": [
        {
          "output_type": "execute_result",
          "data": {
            "text/plain": [
              "<tf.Tensor: shape=(), dtype=float32, numpy=2.5125628>"
            ]
          },
          "metadata": {},
          "execution_count": 31
        }
      ]
    },
    {
      "cell_type": "code",
      "source": [
        "loss_ranking(np.array([1,2,3]), np.array([5,2,-8]))"
      ],
      "metadata": {
        "colab": {
          "base_uri": "https://localhost:8080/"
        },
        "id": "7Izw6BfHNuLt",
        "outputId": "eed75fab-c842-4912-ca1c-aa58d8dc17c4"
      },
      "execution_count": 32,
      "outputs": [
        {
          "output_type": "execute_result",
          "data": {
            "text/plain": [
              "<tf.Tensor: shape=(), dtype=float32, numpy=0.57831776>"
            ]
          },
          "metadata": {},
          "execution_count": 32
        }
      ]
    },
    {
      "cell_type": "markdown",
      "source": [
        "# REVISAR AQUI , ESTA BIEN ORDENADO PERO ESTA FUNCIONDE COSTA CASTIGA FUERTE"
      ],
      "metadata": {
        "id": "Iw2-X_cltMPz"
      }
    },
    {
      "cell_type": "code",
      "source": [
        "loss_ranking(np.array([1,2,3]), np.array([-2,-5,-8]))"
      ],
      "metadata": {
        "colab": {
          "base_uri": "https://localhost:8080/"
        },
        "id": "PP-4orRyaWwc",
        "outputId": "f0ff6332-b263-4335-f45d-ebb62eabb247"
      },
      "execution_count": 33,
      "outputs": [
        {
          "output_type": "execute_result",
          "data": {
            "text/plain": [
              "<tf.Tensor: shape=(), dtype=float32, numpy=4.2870646>"
            ]
          },
          "metadata": {},
          "execution_count": 33
        }
      ]
    },
    {
      "cell_type": "markdown",
      "source": [
        "# initial_population"
      ],
      "metadata": {
        "id": "7YnfkcZYJJrL"
      }
    },
    {
      "cell_type": "markdown",
      "source": [
        "## gen_individual"
      ],
      "metadata": {
        "id": "Z8kgrH7kYFUg"
      }
    },
    {
      "cell_type": "code",
      "source": [
        "ind_A = [\n",
        "    # numero_de_layers_densas1\n",
        "    # numero_de_units1\n",
        "    # activation1\n",
        "    # numero_de_layers_densas2\n",
        "    # numero_de_units2\n",
        "    # activation2\n",
        "    # numero_de_layers_densas3\n",
        "    # numero_de_units3\n",
        "    # activation3\n",
        "    # output_activation\n",
        "]\n",
        "\n",
        "def get_ind_A():\n",
        "  ind_A = [\n",
        "      np.random.randint(0,5),\n",
        "      np.random.randint(1,10) * 10 - 9,\n",
        "      np.random.choice(['relu','linear']),\n",
        "      np.random.randint(0,5),\n",
        "      np.random.randint(1,10) * 10 - 9,\n",
        "      np.random.choice(['relu','linear']),\n",
        "      np.random.randint(0,5),\n",
        "      np.random.randint(1,10) * 10 - 9,\n",
        "      np.random.choice(['relu','linear']),\n",
        "      np.random.choice(['linear', 'relu','softplus', 'softmax'])\n",
        "      #np.random.choice(['softmax'])\n",
        "  ]\n",
        "  return ind_A"
      ],
      "metadata": {
        "id": "hFv5pvet0Hsc"
      },
      "execution_count": 34,
      "outputs": []
    },
    {
      "cell_type": "code",
      "source": [
        "for i in range(10):\n",
        "  print(get_ind_A())"
      ],
      "metadata": {
        "colab": {
          "base_uri": "https://localhost:8080/"
        },
        "id": "MWHc5u7T12vM",
        "outputId": "d90465f1-9dc2-499e-c3cf-39b9ab66f0de"
      },
      "execution_count": 35,
      "outputs": [
        {
          "output_type": "stream",
          "name": "stdout",
          "text": [
            "[4, 31, 'linear', 1, 61, 'linear', 3, 81, 'linear', 'softplus']\n",
            "[2, 11, 'linear', 3, 31, 'linear', 4, 71, 'linear', 'linear']\n",
            "[3, 61, 'relu', 2, 21, 'relu', 2, 1, 'relu', 'softplus']\n",
            "[1, 51, 'relu', 1, 11, 'linear', 4, 51, 'linear', 'relu']\n",
            "[3, 21, 'relu', 3, 41, 'relu', 2, 21, 'linear', 'linear']\n",
            "[2, 51, 'linear', 1, 1, 'linear', 1, 61, 'linear', 'relu']\n",
            "[0, 81, 'relu', 1, 71, 'relu', 1, 31, 'linear', 'relu']\n",
            "[3, 11, 'linear', 1, 71, 'relu', 1, 81, 'relu', 'linear']\n",
            "[2, 81, 'relu', 1, 81, 'relu', 4, 81, 'relu', 'linear']\n",
            "[2, 21, 'relu', 2, 71, 'relu', 0, 71, 'relu', 'linear']\n"
          ]
        }
      ]
    },
    {
      "cell_type": "markdown",
      "source": [
        "## gen_population"
      ],
      "metadata": {
        "id": "YzYlv9qz-PZj"
      }
    },
    {
      "cell_type": "code",
      "source": [
        "def gen_population(n_pop = 50):\n",
        "  pop = []\n",
        "  for p in range(n_pop):\n",
        "    pop.append(get_ind_A())\n",
        "  return np.array(pop, dtype=object)"
      ],
      "metadata": {
        "id": "6sYm5ADx2MDz"
      },
      "execution_count": 36,
      "outputs": []
    },
    {
      "cell_type": "code",
      "source": [
        "gen_population(n_pop = 3)"
      ],
      "metadata": {
        "colab": {
          "base_uri": "https://localhost:8080/"
        },
        "id": "uysUY2vM2eGb",
        "outputId": "1300d349-592d-4038-8572-ad6350d33253"
      },
      "execution_count": 37,
      "outputs": [
        {
          "output_type": "execute_result",
          "data": {
            "text/plain": [
              "array([[0, 71, 'linear', 3, 21, 'linear', 1, 11, 'linear', 'linear'],\n",
              "       [1, 31, 'relu', 0, 11, 'linear', 3, 21, 'relu', 'relu'],\n",
              "       [3, 1, 'relu', 0, 21, 'relu', 1, 71, 'linear', 'softmax']],\n",
              "      dtype=object)"
            ]
          },
          "metadata": {},
          "execution_count": 37
        }
      ]
    },
    {
      "cell_type": "markdown",
      "source": [
        "## create_model"
      ],
      "metadata": {
        "id": "OodeuLQe-R_J"
      }
    },
    {
      "cell_type": "code",
      "source": [
        "def create_model(iput_shape, output_shape, ind_gens, learning_rate=0.001):\n",
        "\n",
        "  numero_de_layers_densas1 = ind_gens[0]\n",
        "  numero_de_units1= ind_gens[1]\n",
        "  activation1= ind_gens[2]\n",
        "  numero_de_layers_densas2= ind_gens[3]\n",
        "  numero_de_units2 = ind_gens[4]\n",
        "  activation2= ind_gens[5]\n",
        "  numero_de_layers_densas3= ind_gens[6]\n",
        "  numero_de_units3 = ind_gens[7]\n",
        "  activation3= ind_gens[8]\n",
        "  output_activation = ind_gens[9]\n",
        "\n",
        "  inputs = keras.Input(shape=(iput_shape))\n",
        "  m = inputs\n",
        "\n",
        "\n",
        "  for i in range(numero_de_layers_densas1):\n",
        "    m = Dense( units=numero_de_units1 , activation=activation1,\n",
        "    #kernel_initializer=initializers.RandomNormal(stddev=0.01)\n",
        "    )(m)\n",
        "\n",
        "\n",
        "  for i in range(numero_de_layers_densas2):\n",
        "    m = Dense( units=numero_de_units2 , activation=activation2,\n",
        "    #kernel_initializer=initializers.RandomNormal(stddev=0.01)\n",
        "    )(m)\n",
        "\n",
        "\n",
        "  for i in range(numero_de_layers_densas3):\n",
        "    m = Dense( units=numero_de_units3 , activation=activation3,\n",
        "    #kernel_initializer=initializers.RandomNormal(stddev=0.01)\n",
        "    )(m)\n",
        "\n",
        "  m = Flatten()(m)\n",
        "  outputs = Dense(output_shape, activation = output_activation,\n",
        "    #kernel_initializer=initializers.RandomNormal(stddev=0.01)\n",
        "    )(m)\n",
        "  model = keras.Model(inputs=inputs, outputs=outputs)\n",
        "  model.compile(\n",
        "      loss=loss_ranking,\n",
        "      optimizer=keras.optimizers.Adam(learning_rate=learning_rate),\n",
        "      metrics=[],\n",
        "    )\n",
        "\n",
        "  return model\n"
      ],
      "metadata": {
        "id": "IrzmMyaz2-l3"
      },
      "execution_count": 38,
      "outputs": []
    },
    {
      "cell_type": "code",
      "source": [
        "create_model(iput_shape = (35, 3), output_shape =  (35), ind_gens = get_ind_A()).summary()"
      ],
      "metadata": {
        "colab": {
          "base_uri": "https://localhost:8080/"
        },
        "id": "ELcO83MQ8Z7r",
        "outputId": "60011986-6907-457a-fa2e-f336b19e68bc"
      },
      "execution_count": 39,
      "outputs": [
        {
          "output_type": "stream",
          "name": "stdout",
          "text": [
            "Model: \"model\"\n",
            "_________________________________________________________________\n",
            " Layer (type)                Output Shape              Param #   \n",
            "=================================================================\n",
            " input_1 (InputLayer)        [(None, 35, 3)]           0         \n",
            "                                                                 \n",
            " dense (Dense)               (None, 35, 41)            164       \n",
            "                                                                 \n",
            " dense_1 (Dense)             (None, 35, 41)            1722      \n",
            "                                                                 \n",
            " dense_2 (Dense)             (None, 35, 41)            1722      \n",
            "                                                                 \n",
            " dense_3 (Dense)             (None, 35, 41)            1722      \n",
            "                                                                 \n",
            " dense_4 (Dense)             (None, 35, 41)            1722      \n",
            "                                                                 \n",
            " dense_5 (Dense)             (None, 35, 41)            1722      \n",
            "                                                                 \n",
            " dense_6 (Dense)             (None, 35, 41)            1722      \n",
            "                                                                 \n",
            " dense_7 (Dense)             (None, 35, 41)            1722      \n",
            "                                                                 \n",
            " flatten (Flatten)           (None, 1435)              0         \n",
            "                                                                 \n",
            " dense_8 (Dense)             (None, 35)                50260     \n",
            "                                                                 \n",
            "=================================================================\n",
            "Total params: 62,478\n",
            "Trainable params: 62,478\n",
            "Non-trainable params: 0\n",
            "_________________________________________________________________\n"
          ]
        }
      ]
    },
    {
      "cell_type": "markdown",
      "source": [
        "## mse"
      ],
      "metadata": {
        "id": "o6TEiA0CIgmT"
      }
    },
    {
      "cell_type": "code",
      "source": [
        "Y.shape"
      ],
      "metadata": {
        "colab": {
          "base_uri": "https://localhost:8080/"
        },
        "id": "do8rQWpKIsE2",
        "outputId": "e9fa413c-f6bf-4677-c8b1-a32de5bd3782"
      },
      "execution_count": 40,
      "outputs": [
        {
          "output_type": "execute_result",
          "data": {
            "text/plain": [
              "(10, 5)"
            ]
          },
          "metadata": {},
          "execution_count": 40
        }
      ]
    },
    {
      "cell_type": "code",
      "source": [
        "tf.keras.metrics.mean_squared_error(\n",
        "    Y[0], Y[0]\n",
        ")"
      ],
      "metadata": {
        "colab": {
          "base_uri": "https://localhost:8080/"
        },
        "id": "vjmjvBtcI3jE",
        "outputId": "f79517c0-770c-4d68-e74f-617602811ac3"
      },
      "execution_count": 41,
      "outputs": [
        {
          "output_type": "execute_result",
          "data": {
            "text/plain": [
              "<tf.Tensor: shape=(), dtype=int64, numpy=0>"
            ]
          },
          "metadata": {},
          "execution_count": 41
        }
      ]
    },
    {
      "cell_type": "code",
      "source": [
        "tf.keras.metrics.mean_squared_error(\n",
        "    [4,5], [4,5]\n",
        ")"
      ],
      "metadata": {
        "colab": {
          "base_uri": "https://localhost:8080/"
        },
        "id": "zrTrO_2CIheL",
        "outputId": "9f498f50-cb33-4516-8063-7a8ae19142d3"
      },
      "execution_count": 42,
      "outputs": [
        {
          "output_type": "execute_result",
          "data": {
            "text/plain": [
              "<tf.Tensor: shape=(), dtype=int32, numpy=0>"
            ]
          },
          "metadata": {},
          "execution_count": 42
        }
      ]
    },
    {
      "cell_type": "code",
      "source": [
        "tf.keras.metrics.mean_squared_error(\n",
        "    [4,5], [17,4]\n",
        ")"
      ],
      "metadata": {
        "colab": {
          "base_uri": "https://localhost:8080/"
        },
        "id": "zRFk61k3JBM1",
        "outputId": "3a521ed6-2386-40b2-f49c-4f19776a6264"
      },
      "execution_count": 43,
      "outputs": [
        {
          "output_type": "execute_result",
          "data": {
            "text/plain": [
              "<tf.Tensor: shape=(), dtype=int32, numpy=85>"
            ]
          },
          "metadata": {},
          "execution_count": 43
        }
      ]
    },
    {
      "cell_type": "code",
      "source": [
        "tf.keras.metrics.mean_squared_error(\n",
        "    [4,5], [-17,4]\n",
        ")"
      ],
      "metadata": {
        "colab": {
          "base_uri": "https://localhost:8080/"
        },
        "id": "r4BfV6LzIz82",
        "outputId": "d2e59d02-6fd7-4626-d533-e32589c485fb"
      },
      "execution_count": 44,
      "outputs": [
        {
          "output_type": "execute_result",
          "data": {
            "text/plain": [
              "<tf.Tensor: shape=(), dtype=int32, numpy=221>"
            ]
          },
          "metadata": {},
          "execution_count": 44
        }
      ]
    },
    {
      "cell_type": "markdown",
      "source": [
        "## model_population"
      ],
      "metadata": {
        "id": "jBDsdkoW-WUb"
      }
    },
    {
      "cell_type": "code",
      "source": [
        "def model_population(iput_shape, output_shape,populations_gens, learning_rate):\n",
        "  pop = []\n",
        "  for i in range(len(populations_gens)):\n",
        "\n",
        "    pop.append( create_model(iput_shape, output_shape, populations_gens[i], learning_rate) )\n",
        "\n",
        "  return pop\n"
      ],
      "metadata": {
        "id": "D9VaZiln9QkL"
      },
      "execution_count": 45,
      "outputs": []
    },
    {
      "cell_type": "code",
      "source": [
        "pop = [[3, 100, 'linear', 3, 120, 'relu', 3, 120, 'relu', 'relu'],\n",
        " [7, 80, 'relu', 6, 160, 'linear', 3, 120, 'relu', 'relu'],\n",
        " [4, 100, 'relu', 3, 100, 'linear', 3, 120, 'relu', 'relu']]"
      ],
      "metadata": {
        "id": "W4FqjT4w90AK"
      },
      "execution_count": 46,
      "outputs": []
    },
    {
      "cell_type": "code",
      "source": [
        "models_pop = model_population((35,3), (35),pop, 0.01)"
      ],
      "metadata": {
        "id": "9PcukzEQ939H"
      },
      "execution_count": 47,
      "outputs": []
    },
    {
      "cell_type": "code",
      "source": [
        "models_pop"
      ],
      "metadata": {
        "colab": {
          "base_uri": "https://localhost:8080/"
        },
        "id": "SCq0aNaD9-_D",
        "outputId": "bf913954-9959-483a-9d57-9602d8ba7401"
      },
      "execution_count": 48,
      "outputs": [
        {
          "output_type": "execute_result",
          "data": {
            "text/plain": [
              "[<keras.engine.functional.Functional at 0x7f12d25ca320>,\n",
              " <keras.engine.functional.Functional at 0x7f12d25c92d0>,\n",
              " <keras.engine.functional.Functional at 0x7f12d2487130>]"
            ]
          },
          "metadata": {},
          "execution_count": 48
        }
      ]
    },
    {
      "cell_type": "code",
      "source": [
        "for m in models_pop:\n",
        "  print(m.summary())"
      ],
      "metadata": {
        "colab": {
          "base_uri": "https://localhost:8080/"
        },
        "id": "aeyGakWI-AUr",
        "outputId": "16205447-310c-4ac1-83d7-c6afa9142ba4"
      },
      "execution_count": 49,
      "outputs": [
        {
          "output_type": "stream",
          "name": "stdout",
          "text": [
            "Model: \"model_1\"\n",
            "_________________________________________________________________\n",
            " Layer (type)                Output Shape              Param #   \n",
            "=================================================================\n",
            " input_2 (InputLayer)        [(None, 35, 3)]           0         \n",
            "                                                                 \n",
            " dense_9 (Dense)             (None, 35, 100)           400       \n",
            "                                                                 \n",
            " dense_10 (Dense)            (None, 35, 100)           10100     \n",
            "                                                                 \n",
            " dense_11 (Dense)            (None, 35, 100)           10100     \n",
            "                                                                 \n",
            " dense_12 (Dense)            (None, 35, 120)           12120     \n",
            "                                                                 \n",
            " dense_13 (Dense)            (None, 35, 120)           14520     \n",
            "                                                                 \n",
            " dense_14 (Dense)            (None, 35, 120)           14520     \n",
            "                                                                 \n",
            " dense_15 (Dense)            (None, 35, 120)           14520     \n",
            "                                                                 \n",
            " dense_16 (Dense)            (None, 35, 120)           14520     \n",
            "                                                                 \n",
            " dense_17 (Dense)            (None, 35, 120)           14520     \n",
            "                                                                 \n",
            " flatten_1 (Flatten)         (None, 4200)              0         \n",
            "                                                                 \n",
            " dense_18 (Dense)            (None, 35)                147035    \n",
            "                                                                 \n",
            "=================================================================\n",
            "Total params: 252,355\n",
            "Trainable params: 252,355\n",
            "Non-trainable params: 0\n",
            "_________________________________________________________________\n",
            "None\n",
            "Model: \"model_2\"\n",
            "_________________________________________________________________\n",
            " Layer (type)                Output Shape              Param #   \n",
            "=================================================================\n",
            " input_3 (InputLayer)        [(None, 35, 3)]           0         \n",
            "                                                                 \n",
            " dense_19 (Dense)            (None, 35, 80)            320       \n",
            "                                                                 \n",
            " dense_20 (Dense)            (None, 35, 80)            6480      \n",
            "                                                                 \n",
            " dense_21 (Dense)            (None, 35, 80)            6480      \n",
            "                                                                 \n",
            " dense_22 (Dense)            (None, 35, 80)            6480      \n",
            "                                                                 \n",
            " dense_23 (Dense)            (None, 35, 80)            6480      \n",
            "                                                                 \n",
            " dense_24 (Dense)            (None, 35, 80)            6480      \n",
            "                                                                 \n",
            " dense_25 (Dense)            (None, 35, 80)            6480      \n",
            "                                                                 \n",
            " dense_26 (Dense)            (None, 35, 160)           12960     \n",
            "                                                                 \n",
            " dense_27 (Dense)            (None, 35, 160)           25760     \n",
            "                                                                 \n",
            " dense_28 (Dense)            (None, 35, 160)           25760     \n",
            "                                                                 \n",
            " dense_29 (Dense)            (None, 35, 160)           25760     \n",
            "                                                                 \n",
            " dense_30 (Dense)            (None, 35, 160)           25760     \n",
            "                                                                 \n",
            " dense_31 (Dense)            (None, 35, 160)           25760     \n",
            "                                                                 \n",
            " dense_32 (Dense)            (None, 35, 120)           19320     \n",
            "                                                                 \n",
            " dense_33 (Dense)            (None, 35, 120)           14520     \n",
            "                                                                 \n",
            " dense_34 (Dense)            (None, 35, 120)           14520     \n",
            "                                                                 \n",
            " flatten_2 (Flatten)         (None, 4200)              0         \n",
            "                                                                 \n",
            " dense_35 (Dense)            (None, 35)                147035    \n",
            "                                                                 \n",
            "=================================================================\n",
            "Total params: 376,355\n",
            "Trainable params: 376,355\n",
            "Non-trainable params: 0\n",
            "_________________________________________________________________\n",
            "None\n",
            "Model: \"model_3\"\n",
            "_________________________________________________________________\n",
            " Layer (type)                Output Shape              Param #   \n",
            "=================================================================\n",
            " input_4 (InputLayer)        [(None, 35, 3)]           0         \n",
            "                                                                 \n",
            " dense_36 (Dense)            (None, 35, 100)           400       \n",
            "                                                                 \n",
            " dense_37 (Dense)            (None, 35, 100)           10100     \n",
            "                                                                 \n",
            " dense_38 (Dense)            (None, 35, 100)           10100     \n",
            "                                                                 \n",
            " dense_39 (Dense)            (None, 35, 100)           10100     \n",
            "                                                                 \n",
            " dense_40 (Dense)            (None, 35, 100)           10100     \n",
            "                                                                 \n",
            " dense_41 (Dense)            (None, 35, 100)           10100     \n",
            "                                                                 \n",
            " dense_42 (Dense)            (None, 35, 100)           10100     \n",
            "                                                                 \n",
            " dense_43 (Dense)            (None, 35, 120)           12120     \n",
            "                                                                 \n",
            " dense_44 (Dense)            (None, 35, 120)           14520     \n",
            "                                                                 \n",
            " dense_45 (Dense)            (None, 35, 120)           14520     \n",
            "                                                                 \n",
            " flatten_3 (Flatten)         (None, 4200)              0         \n",
            "                                                                 \n",
            " dense_46 (Dense)            (None, 35)                147035    \n",
            "                                                                 \n",
            "=================================================================\n",
            "Total params: 249,195\n",
            "Trainable params: 249,195\n",
            "Non-trainable params: 0\n",
            "_________________________________________________________________\n",
            "None\n"
          ]
        }
      ]
    },
    {
      "cell_type": "markdown",
      "source": [
        "# Fitness_function"
      ],
      "metadata": {
        "id": "0l_j5IIHZmps"
      }
    },
    {
      "cell_type": "code",
      "source": [
        "class Fitness_function_keras():\n",
        "  def __init__(self, X, Y, epochs, batch_size, learning_rate):\n",
        "    self.X = X\n",
        "    self.Y = Y\n",
        "    self.epochs = epochs\n",
        "    self.batch_size = batch_size\n",
        "    self.learning_rate = learning_rate\n",
        "\n",
        "    self.last_loss_history = []\n",
        "\n",
        "  def run(self, gens_population ):\n",
        "    return self.fitness_keras(self.X, self.Y, gens_population , self.epochs, self.batch_size)\n",
        "\n",
        "  def fitness_keras(self, X, Y, gens_population , epochs, batch_size):\n",
        "\n",
        "    self.last_loss_history = []\n",
        "\n",
        "    population_models = model_population(X.shape[1:], Y.shape[1], gens_population, self.learning_rate)\n",
        "\n",
        "    fitness = []\n",
        "\n",
        "    for m in population_models:\n",
        "\n",
        "      h = m.fit(X,Y,\n",
        "                  epochs=epochs,\n",
        "                  batch_size = batch_size,\n",
        "                  verbose=0,\n",
        "                  callbacks=[EarlyStopping(monitor='loss', patience=10, min_delta=0)])\n",
        "\n",
        "      self.last_loss_history.append(h.history[\"loss\"])\n",
        "      # Con este seleccionamos el ultimo loss\n",
        "      #fitness.append(h.history[\"loss\"][-1])\n",
        "      # Con este seleccionamos el mejor de los loss\n",
        "      idx_best_loss = np.argmin(h.history[\"loss\"])\n",
        "      fitness.append(h.history[\"loss\"][idx_best_loss])\n",
        "\n",
        "    return np.array(fitness)"
      ],
      "metadata": {
        "id": "paXrnlsW_62Z"
      },
      "execution_count": 50,
      "outputs": []
    },
    {
      "cell_type": "code",
      "source": [
        "Y[0]"
      ],
      "metadata": {
        "colab": {
          "base_uri": "https://localhost:8080/"
        },
        "id": "aRpIKjsPQJjU",
        "outputId": "24f3e6d8-142f-4aee-b925-aa7c7a1a8de7"
      },
      "execution_count": 51,
      "outputs": [
        {
          "output_type": "execute_result",
          "data": {
            "text/plain": [
              "array([0, 3, 2, 4, 1])"
            ]
          },
          "metadata": {},
          "execution_count": 51
        }
      ]
    },
    {
      "cell_type": "code",
      "source": [
        "Y.shape"
      ],
      "metadata": {
        "colab": {
          "base_uri": "https://localhost:8080/"
        },
        "id": "wn2aoCWJP070",
        "outputId": "48aea5c5-54d8-4e86-dcda-7340ad3c2ba8"
      },
      "execution_count": 52,
      "outputs": [
        {
          "output_type": "execute_result",
          "data": {
            "text/plain": [
              "(10, 5)"
            ]
          },
          "metadata": {},
          "execution_count": 52
        }
      ]
    },
    {
      "cell_type": "code",
      "source": [
        "pop = [get_ind_A(),\n",
        " get_ind_A(),\n",
        " get_ind_A()]\n",
        "print(pop)\n",
        "fitness_function_keras = Fitness_function_keras(X, Y , epochs = 2, batch_size = 1, learning_rate = 0.1)\n",
        "\n",
        "fitness = fitness_function_keras.run(pop)\n",
        "print(fitness)"
      ],
      "metadata": {
        "colab": {
          "base_uri": "https://localhost:8080/"
        },
        "id": "GxvCm_6EBG0D",
        "outputId": "4b50294a-7d5f-40b5-f4be-325f3d00cc54"
      },
      "execution_count": 53,
      "outputs": [
        {
          "output_type": "stream",
          "name": "stdout",
          "text": [
            "[[3, 61, 'relu', 4, 51, 'linear', 1, 71, 'linear', 'softmax'], [2, 31, 'linear', 4, 71, 'relu', 3, 11, 'linear', 'linear'], [3, 1, 'linear', 3, 61, 'relu', 1, 41, 'linear', 'relu']]\n",
            "[771.28710938   5.00000191 542.        ]\n"
          ]
        }
      ]
    },
    {
      "cell_type": "markdown",
      "source": [
        "# Selection_function"
      ],
      "metadata": {
        "id": "0swamKFOZdcd"
      }
    },
    {
      "cell_type": "code",
      "source": [
        "class Selection_function():\n",
        "  def __init__(self, number_of_couples = 1, tournament_size = 3):\n",
        "    self.number_of_couples = number_of_couples\n",
        "    self.tournament_size = tournament_size\n",
        "\n",
        "  def tournament_selection(self, population, fitness):\n",
        "    all_parents = []\n",
        "    for i in range(self.number_of_couples):\n",
        "      idx = np.random.choice(np.arange(len(population)), size=self.tournament_size, replace=False)\n",
        "      orden = np.argsort(fitness[idx])\n",
        "      best_individual_idx = idx[orden[0:2]]\n",
        "      all_parents.append(population[best_individual_idx[0]])\n",
        "      all_parents.append(population[best_individual_idx[1]])\n",
        "    return all_parents\n"
      ],
      "metadata": {
        "id": "dPl9awfom8dt"
      },
      "execution_count": 54,
      "outputs": []
    },
    {
      "cell_type": "code",
      "source": [
        "pop = np.array([[3, 100, 'linear', 3, 120, 'relu', 'relu'],\n",
        " [7, 80, 'relu', 6, 160, 'linear', 'relu'],\n",
        " [4, 100, 'relu', 3, 100, 'linear', 'relu']])\n",
        "fitness = np.array([28.697153091430664, 28.697154998779297, 28.697158813476562])\n",
        "\n",
        "selection = Selection_function(number_of_couples = 10)\n",
        "\n",
        "parents = selection.tournament_selection(pop, fitness)\n",
        "\n",
        "print( parents )"
      ],
      "metadata": {
        "id": "F4bk4CzSnRoB",
        "colab": {
          "base_uri": "https://localhost:8080/"
        },
        "outputId": "0172033f-7806-4e34-b723-311f4afd267b"
      },
      "execution_count": 55,
      "outputs": [
        {
          "output_type": "stream",
          "name": "stdout",
          "text": [
            "[array(['3', '100', 'linear', '3', '120', 'relu', 'relu'], dtype='<U21'), array(['7', '80', 'relu', '6', '160', 'linear', 'relu'], dtype='<U21'), array(['3', '100', 'linear', '3', '120', 'relu', 'relu'], dtype='<U21'), array(['7', '80', 'relu', '6', '160', 'linear', 'relu'], dtype='<U21'), array(['3', '100', 'linear', '3', '120', 'relu', 'relu'], dtype='<U21'), array(['7', '80', 'relu', '6', '160', 'linear', 'relu'], dtype='<U21'), array(['3', '100', 'linear', '3', '120', 'relu', 'relu'], dtype='<U21'), array(['7', '80', 'relu', '6', '160', 'linear', 'relu'], dtype='<U21'), array(['3', '100', 'linear', '3', '120', 'relu', 'relu'], dtype='<U21'), array(['7', '80', 'relu', '6', '160', 'linear', 'relu'], dtype='<U21'), array(['3', '100', 'linear', '3', '120', 'relu', 'relu'], dtype='<U21'), array(['7', '80', 'relu', '6', '160', 'linear', 'relu'], dtype='<U21'), array(['3', '100', 'linear', '3', '120', 'relu', 'relu'], dtype='<U21'), array(['7', '80', 'relu', '6', '160', 'linear', 'relu'], dtype='<U21'), array(['3', '100', 'linear', '3', '120', 'relu', 'relu'], dtype='<U21'), array(['7', '80', 'relu', '6', '160', 'linear', 'relu'], dtype='<U21'), array(['3', '100', 'linear', '3', '120', 'relu', 'relu'], dtype='<U21'), array(['7', '80', 'relu', '6', '160', 'linear', 'relu'], dtype='<U21'), array(['3', '100', 'linear', '3', '120', 'relu', 'relu'], dtype='<U21'), array(['7', '80', 'relu', '6', '160', 'linear', 'relu'], dtype='<U21')]\n"
          ]
        }
      ]
    },
    {
      "cell_type": "code",
      "source": [
        "# los dos primeros padres\n",
        "parents[0], parents[1]"
      ],
      "metadata": {
        "colab": {
          "base_uri": "https://localhost:8080/"
        },
        "id": "p3EvBhhiDgSm",
        "outputId": "da82f430-975d-4bea-ddec-384582a98e72"
      },
      "execution_count": 56,
      "outputs": [
        {
          "output_type": "execute_result",
          "data": {
            "text/plain": [
              "(array(['3', '100', 'linear', '3', '120', 'relu', 'relu'], dtype='<U21'),\n",
              " array(['7', '80', 'relu', '6', '160', 'linear', 'relu'], dtype='<U21'))"
            ]
          },
          "metadata": {},
          "execution_count": 56
        }
      ]
    },
    {
      "cell_type": "markdown",
      "source": [
        "# Crossover_function"
      ],
      "metadata": {
        "id": "U48qQ2201e4o"
      }
    },
    {
      "cell_type": "code",
      "source": [
        "def uniform_crossover(parent1, parent2):\n",
        "    child1, child2 = parent1.copy(), parent2.copy()\n",
        "    for i in range(len(parent1)):\n",
        "        if np.random.uniform(0, 1) < 0.5:  # Choose randomly\n",
        "            child1[i], child2[i] = child2[i], child1[i]  # Swap elements\n",
        "    return child1, child2"
      ],
      "metadata": {
        "id": "6KtyteevhatM"
      },
      "execution_count": 57,
      "outputs": []
    },
    {
      "cell_type": "code",
      "source": [
        "def easy_crossover(parents):\n",
        "  offspring = []\n",
        "  for i in range(0, len(parents), 2):\n",
        "\n",
        "    parent1 = parents[i]\n",
        "    parent2 = parents[i+1]\n",
        "\n",
        "    childs = uniform_crossover(parent1, parent2 )\n",
        "\n",
        "    offspring.append(childs[0])\n",
        "    offspring.append(childs[1])\n",
        "\n",
        "  return offspring"
      ],
      "metadata": {
        "id": "Avv_AQJktIXx"
      },
      "execution_count": 58,
      "outputs": []
    },
    {
      "cell_type": "code",
      "source": [
        "ofs = easy_crossover(parents)\n",
        "print(ofs)"
      ],
      "metadata": {
        "colab": {
          "base_uri": "https://localhost:8080/"
        },
        "id": "vg1rsjFfvsi0",
        "outputId": "e2449fdc-7478-4b45-eb8c-7708ca76dd92"
      },
      "execution_count": 59,
      "outputs": [
        {
          "output_type": "stream",
          "name": "stdout",
          "text": [
            "[array(['3', '100', 'relu', '6', '160', 'linear', 'relu'], dtype='<U21'), array(['7', '80', 'linear', '3', '120', 'relu', 'relu'], dtype='<U21'), array(['3', '80', 'relu', '3', '120', 'relu', 'relu'], dtype='<U21'), array(['7', '100', 'linear', '6', '160', 'linear', 'relu'], dtype='<U21'), array(['7', '100', 'linear', '3', '160', 'relu', 'relu'], dtype='<U21'), array(['3', '80', 'relu', '6', '120', 'linear', 'relu'], dtype='<U21'), array(['3', '100', 'relu', '6', '160', 'relu', 'relu'], dtype='<U21'), array(['7', '80', 'linear', '3', '120', 'linear', 'relu'], dtype='<U21'), array(['3', '80', 'relu', '6', '160', 'linear', 'relu'], dtype='<U21'), array(['7', '100', 'linear', '3', '120', 'relu', 'relu'], dtype='<U21'), array(['3', '80', 'linear', '6', '120', 'relu', 'relu'], dtype='<U21'), array(['7', '100', 'relu', '3', '160', 'linear', 'relu'], dtype='<U21'), array(['3', '80', 'relu', '6', '120', 'linear', 'relu'], dtype='<U21'), array(['7', '100', 'linear', '3', '160', 'relu', 'relu'], dtype='<U21'), array(['3', '80', 'relu', '6', '160', 'relu', 'relu'], dtype='<U21'), array(['7', '100', 'linear', '3', '120', 'linear', 'relu'], dtype='<U21'), array(['3', '100', 'relu', '3', '120', 'relu', 'relu'], dtype='<U21'), array(['7', '80', 'linear', '6', '160', 'linear', 'relu'], dtype='<U21'), array(['7', '100', 'linear', '3', '120', 'linear', 'relu'], dtype='<U21'), array(['3', '80', 'relu', '6', '160', 'relu', 'relu'], dtype='<U21')]\n"
          ]
        }
      ]
    },
    {
      "cell_type": "code",
      "source": [
        "# primer hijo\n",
        "ofs[0]"
      ],
      "metadata": {
        "colab": {
          "base_uri": "https://localhost:8080/"
        },
        "id": "SuDh_rHgNf9k",
        "outputId": "d7f0de41-aa44-474d-cfed-fceefd145c7d"
      },
      "execution_count": 60,
      "outputs": [
        {
          "output_type": "execute_result",
          "data": {
            "text/plain": [
              "array(['3', '100', 'relu', '6', '160', 'linear', 'relu'], dtype='<U21')"
            ]
          },
          "metadata": {},
          "execution_count": 60
        }
      ]
    },
    {
      "cell_type": "markdown",
      "source": [
        "# mutation_function"
      ],
      "metadata": {
        "id": "N3-V5etjwX36"
      }
    },
    {
      "cell_type": "code",
      "source": [
        "def mutation(offspring):\n",
        "  return offspring"
      ],
      "metadata": {
        "id": "Vfj3w0GpwZsh"
      },
      "execution_count": 61,
      "outputs": []
    },
    {
      "cell_type": "markdown",
      "source": [
        "# genetico y funciones TEST"
      ],
      "metadata": {
        "id": "eKhoyj84EXXb"
      }
    },
    {
      "cell_type": "code",
      "source": [
        "geneticAlgorithm = GeneticAlgorithm(1,2,3,4,5,6,7,n_save_best_population = 10)\n",
        "initial_population = gen_population(n_pop = 50)\n",
        "fitness_function_keras = Fitness_function_keras(X, Y , epochs = 100, batch_size = 2, learning_rate = 0.01)\n",
        "selection = Selection_function(number_of_couples = 10 )\n",
        "n_immigration_function = 30"
      ],
      "metadata": {
        "id": "u6RJcxYZ_FkZ"
      },
      "execution_count": 62,
      "outputs": []
    },
    {
      "cell_type": "code",
      "source": [
        "#print(\"---- initial_population ----\")\n",
        "population = initial_population\n",
        "#print(population)\n",
        "#print(len(population))\n",
        "\n",
        "for i in range(4):\n",
        "\n",
        "  print(\"||||||| GEN: \" + str(i) + \" ||||||||\")\n",
        "\n",
        "  #print(\"---- fitness ----\")\n",
        "  fitness = fitness_function_keras.run(population)\n",
        "  #print(fitness)\n",
        "  #print(len(fitness))\n",
        "\n",
        "  best_idx = np.argmin(fitness)\n",
        "\n",
        "  best_fitness = fitness[best_idx]\n",
        "  print(\"best fitness: \" + str(best_fitness))\n",
        "  print(\"best_model: \")\n",
        "  print(population[best_idx])\n",
        "\n",
        "  if best_fitness < 0.1:\n",
        "    #print(\"best_model: \" )\n",
        "    #print(population[best_idx])\n",
        "    print(\"ENTRENAMIENTO TERMINADO\")\n",
        "    break\n",
        "\n",
        "  print(\"---- best_population ----\")\n",
        "  best_population = geneticAlgorithm._get_best_population(population,fitness)\n",
        "  print(best_population)\n",
        "  print(len(best_population))\n",
        "\n",
        "  #print(\"---- parents ----\")\n",
        "  parents = selection.tournament_selection(population, fitness)\n",
        "  #print(parents)\n",
        "  #print(len(parents))\n",
        "\n",
        "  print(\"---- offspring crossover ----\")\n",
        "  offspring = easy_crossover(parents)\n",
        "  #print(offspring)\n",
        "  print(len(offspring))\n",
        "\n",
        "  #print(\"---- offspring mutation ----\")\n",
        "  offspring = mutation(offspring)\n",
        "  #print(offspring)\n",
        "  #print(len(offspring))\n",
        "\n",
        "  #print(\"---- population ----\")\n",
        "  population = offspring\n",
        "  #population = np.concatenate((parents, offspring))\n",
        "  #print(population)\n",
        "  #print(len(population))\n",
        "\n",
        "  print(\"---- immigration ----\")\n",
        "  immigration = gen_population(n_pop = n_immigration_function)\n",
        "  #print(immigration)\n",
        "  print(len(immigration))\n",
        "\n",
        "  #print(\"---- population + immigration ----\")\n",
        "  population = np.concatenate((population, immigration))\n",
        "  #print(population)\n",
        "  #print(len(population))\n",
        "\n",
        "  print(\"---- population + best_population ----\")\n",
        "  population = np.concatenate((population, best_population))\n",
        "  #print(population)\n",
        "  print(len(population))\n",
        "\n"
      ],
      "metadata": {
        "colab": {
          "base_uri": "https://localhost:8080/"
        },
        "id": "U4QIZ8-fJ94p",
        "outputId": "1a98182f-89cc-4a60-c3e6-8923a1118031"
      },
      "execution_count": 63,
      "outputs": [
        {
          "output_type": "stream",
          "name": "stdout",
          "text": [
            "||||||| GEN: 0 ||||||||\n",
            "best fitness: 2.3168067932128906\n",
            "best_model: \n",
            "[1 21 'linear' 0 1 'linear' 0 51 'linear' 'linear']\n",
            "---- best_population ----\n",
            "[[1 21 'linear' 0 1 'linear' 0 51 'linear' 'linear']\n",
            " [3 71 'relu' 1 61 'relu' 1 51 'relu' 'softplus']\n",
            " [4 11 'linear' 2 71 'linear' 2 11 'relu' 'softplus']\n",
            " [1 81 'linear' 0 61 'linear' 3 21 'relu' 'softplus']\n",
            " [1 11 'relu' 1 81 'linear' 3 21 'relu' 'softplus']\n",
            " [2 61 'relu' 1 11 'linear' 3 41 'relu' 'softplus']\n",
            " [2 1 'relu' 1 31 'linear' 0 41 'linear' 'linear']\n",
            " [0 41 'linear' 4 21 'relu' 3 11 'relu' 'linear']\n",
            " [2 61 'relu' 3 21 'linear' 1 31 'relu' 'linear']\n",
            " [1 1 'relu' 2 41 'linear' 0 81 'relu' 'softplus']]\n",
            "10\n",
            "---- offspring crossover ----\n",
            "20\n",
            "---- immigration ----\n",
            "30\n",
            "---- population + best_population ----\n",
            "60\n",
            "||||||| GEN: 1 ||||||||\n",
            "best fitness: 1.0869430303573608\n",
            "best_model: \n",
            "[1 81 'linear' 0 61 'linear' 3 21 'relu' 'softplus']\n",
            "---- best_population ----\n",
            "[[1 81 'linear' 0 61 'linear' 3 21 'relu' 'softplus']\n",
            " [0 71 'relu' 2 71 'relu' 0 61 'relu' 'linear']\n",
            " [2 61 'relu' 3 21 'linear' 1 31 'relu' 'linear']\n",
            " [1 21 'linear' 0 1 'linear' 0 51 'linear' 'linear']\n",
            " [0 31 'relu' 0 51 'relu' 1 31 'linear' 'linear']\n",
            " [4 11 'linear' 0 71 'linear' 2 11 'relu' 'softplus']\n",
            " [4 31 'linear' 0 1 'linear' 3 21 'relu' 'softplus']\n",
            " [2 81 'relu' 3 11 'relu' 2 71 'relu' 'softplus']\n",
            " [4 1 'linear' 3 51 'linear' 4 51 'linear' 'linear']\n",
            " [3 41 'linear' 4 61 'relu' 2 1 'linear' 'softplus']]\n",
            "10\n",
            "---- offspring crossover ----\n",
            "20\n",
            "---- immigration ----\n",
            "30\n",
            "---- population + best_population ----\n",
            "60\n",
            "||||||| GEN: 2 ||||||||\n",
            "best fitness: 0.09171069413423538\n",
            "best_model: \n",
            "[4 11 'linear' 4 21 'relu' 0 61 'linear' 'linear']\n",
            "ENTRENAMIENTO TERMINADO\n"
          ]
        }
      ]
    },
    {
      "cell_type": "code",
      "source": [
        "#bad_gen = initial_population[3]\n",
        "model_test = create_model(X.shape[1:], Y.shape[1],population[best_idx], learning_rate=0.01)\n",
        "model_test.summary()"
      ],
      "metadata": {
        "id": "wY_YlZo2Y98G",
        "colab": {
          "base_uri": "https://localhost:8080/"
        },
        "outputId": "4d9cc95b-c8e0-48cd-aa3d-c1a3d753bec7"
      },
      "execution_count": 76,
      "outputs": [
        {
          "output_type": "stream",
          "name": "stdout",
          "text": [
            "Model: \"model_250\"\n",
            "_________________________________________________________________\n",
            " Layer (type)                Output Shape              Param #   \n",
            "=================================================================\n",
            " input_251 (InputLayer)      [(None, 60, 5, 1)]        0         \n",
            "                                                                 \n",
            " dense_1831 (Dense)          (None, 60, 5, 11)         22        \n",
            "                                                                 \n",
            " dense_1832 (Dense)          (None, 60, 5, 11)         132       \n",
            "                                                                 \n",
            " dense_1833 (Dense)          (None, 60, 5, 11)         132       \n",
            "                                                                 \n",
            " dense_1834 (Dense)          (None, 60, 5, 11)         132       \n",
            "                                                                 \n",
            " dense_1835 (Dense)          (None, 60, 5, 21)         252       \n",
            "                                                                 \n",
            " dense_1836 (Dense)          (None, 60, 5, 21)         462       \n",
            "                                                                 \n",
            " dense_1837 (Dense)          (None, 60, 5, 21)         462       \n",
            "                                                                 \n",
            " dense_1838 (Dense)          (None, 60, 5, 21)         462       \n",
            "                                                                 \n",
            " flatten_250 (Flatten)       (None, 6300)              0         \n",
            "                                                                 \n",
            " dense_1839 (Dense)          (None, 5)                 31505     \n",
            "                                                                 \n",
            "=================================================================\n",
            "Total params: 33,561\n",
            "Trainable params: 33,561\n",
            "Non-trainable params: 0\n",
            "_________________________________________________________________\n"
          ]
        }
      ]
    },
    {
      "cell_type": "code",
      "source": [
        "\n",
        "for i in range(100):\n",
        "  model_test_h = model_test.fit(X,Y,\n",
        "                    epochs=100,\n",
        "                    batch_size = 2,\n",
        "                    verbose=0)\n",
        "\n",
        "  idx_best_loss = np.argmin(model_test_h.history[\"loss\"])\n",
        "  best_loss = model_test_h.history[\"loss\"][idx_best_loss]\n",
        "  print(i)\n",
        "  print(best_loss)\n",
        "  if best_loss < 0.01 : break\n",
        "\n",
        "  # RESULTADO PRUEBA prints\n",
        "  #37\n",
        "  #0.009670293889939785\n",
        "\n"
      ],
      "metadata": {
        "colab": {
          "base_uri": "https://localhost:8080/"
        },
        "id": "sBht921vmU8t",
        "outputId": "b97a6a7c-3683-40db-b372-5f5043c7fa53"
      },
      "execution_count": 77,
      "outputs": [
        {
          "output_type": "stream",
          "name": "stdout",
          "text": [
            "0\n",
            "5.845887184143066\n",
            "1\n",
            "5.246531963348389\n",
            "2\n",
            "5.867151737213135\n",
            "3\n",
            "5.805991172790527\n",
            "4\n",
            "5.619419097900391\n",
            "5\n",
            "5.1954345703125\n",
            "6\n",
            "7.834190368652344\n",
            "7\n",
            "2.0034101009368896\n",
            "8\n",
            "2.0026609897613525\n",
            "9\n",
            "2.0023324489593506\n",
            "10\n",
            "2.002110719680786\n",
            "11\n",
            "2.001936674118042\n",
            "12\n",
            "2.0017898082733154\n",
            "13\n",
            "2.001659870147705\n",
            "14\n",
            "2.0015416145324707\n",
            "15\n",
            "2.001431703567505\n",
            "16\n",
            "2.001328945159912\n",
            "17\n",
            "2.0012311935424805\n",
            "18\n",
            "2.001138687133789\n",
            "19\n",
            "2.0010507106781006\n",
            "20\n",
            "2.0009665489196777\n",
            "21\n",
            "2.000887632369995\n",
            "22\n",
            "2.0008156299591064\n",
            "23\n",
            "2.000746250152588\n",
            "24\n",
            "2.000680446624756\n",
            "25\n",
            "2.000617504119873\n",
            "26\n",
            "2.0005574226379395\n",
            "27\n",
            "2.000500202178955\n",
            "28\n",
            "2.000445604324341\n",
            "29\n",
            "2.0003936290740967\n",
            "30\n",
            "2.0003437995910645\n",
            "31\n",
            "2.000296115875244\n",
            "32\n",
            "2.0002498626708984\n",
            "33\n",
            "2.0002057552337646\n",
            "34\n",
            "2.000164747238159\n",
            "35\n",
            "2.0001285076141357\n",
            "36\n",
            "2.0000994205474854\n",
            "37\n",
            "2.0000758171081543\n",
            "38\n",
            "2.000058174133301\n",
            "39\n",
            "2.0000452995300293\n",
            "40\n",
            "2.0000357627868652\n",
            "41\n",
            "2.000028133392334\n",
            "42\n",
            "2.0000226497650146\n",
            "43\n",
            "2.0000014305114746\n",
            "44\n",
            "2.000000476837158\n",
            "45\n",
            "2.000000476837158\n",
            "46\n",
            "2.000000476837158\n",
            "47\n",
            "2.000000476837158\n",
            "48\n",
            "2.000000238418579\n",
            "49\n",
            "2.0\n",
            "50\n",
            "2.0\n",
            "51\n",
            "2.0\n",
            "52\n",
            "2.0\n",
            "53\n",
            "2.0\n",
            "54\n",
            "2.0\n",
            "55\n",
            "2.0\n",
            "56\n",
            "2.0\n",
            "57\n",
            "2.0\n",
            "58\n",
            "2.0\n",
            "59\n",
            "2.0\n",
            "60\n",
            "2.0\n",
            "61\n",
            "2.0\n",
            "62\n",
            "2.0\n",
            "63\n",
            "2.0\n",
            "64\n",
            "2.0\n",
            "65\n",
            "2.0\n",
            "66\n",
            "2.0\n",
            "67\n",
            "2.0\n",
            "68\n",
            "2.0\n",
            "69\n",
            "2.0\n",
            "70\n",
            "2.0\n",
            "71\n",
            "2.0\n",
            "72\n",
            "2.0\n",
            "73\n",
            "2.0\n",
            "74\n",
            "2.0\n",
            "75\n",
            "2.0\n",
            "76\n",
            "2.0\n",
            "77\n",
            "2.0\n",
            "78\n",
            "2.0\n",
            "79\n",
            "2.0\n",
            "80\n",
            "2.0\n",
            "81\n",
            "2.0\n",
            "82\n",
            "2.0\n",
            "83\n",
            "2.0\n",
            "84\n",
            "2.0\n",
            "85\n",
            "2.0\n",
            "86\n",
            "2.0\n",
            "87\n",
            "2.0\n",
            "88\n",
            "2.0\n",
            "89\n",
            "2.0\n",
            "90\n",
            "2.0\n",
            "91\n",
            "2.0\n",
            "92\n",
            "2.0\n",
            "93\n",
            "2.0\n",
            "94\n",
            "2.0\n",
            "95\n",
            "2.0\n",
            "96\n",
            "2.0\n",
            "97\n",
            "2.0\n",
            "98\n",
            "2.0\n",
            "99\n",
            "2.0\n"
          ]
        }
      ]
    },
    {
      "cell_type": "code",
      "source": [
        "for i in range(100):\n",
        "  model_test = create_model(X.shape[1:], Y.shape[1],population[best_idx], learning_rate=0.01)\n",
        "  model_test_h = model_test.fit(X,Y,\n",
        "                    epochs=100,\n",
        "                    batch_size = 2,\n",
        "                    verbose=0)\n",
        "\n",
        "  idx_best_loss = np.argmin(model_test_h.history[\"loss\"])\n",
        "  best_loss = model_test_h.history[\"loss\"][idx_best_loss]\n",
        "  print(i)\n",
        "  print(best_loss)\n",
        "  if best_loss < 0.1 : break"
      ],
      "metadata": {
        "id": "3A4qax0JZj7H",
        "colab": {
          "base_uri": "https://localhost:8080/"
        },
        "outputId": "9b5ba121-de7e-4339-877b-86c22a79f502"
      },
      "execution_count": 66,
      "outputs": [
        {
          "output_type": "stream",
          "name": "stdout",
          "text": [
            "0\n",
            "0.10171397030353546\n",
            "1\n",
            "6.002820014953613\n",
            "2\n",
            "10.000110626220703\n",
            "3\n",
            "6.576268196105957\n",
            "4\n",
            "10.00024127960205\n",
            "5\n",
            "4.68679141998291\n",
            "6\n",
            "3.6238811016082764\n",
            "7\n",
            "10.000328063964844\n",
            "8\n",
            "2.409921169281006\n",
            "9\n",
            "10.000144958496094\n",
            "10\n",
            "10.000826835632324\n",
            "11\n",
            "4.6372599601745605\n",
            "12\n",
            "1.8564732074737549\n",
            "13\n",
            "10.000309944152832\n",
            "14\n",
            "6.054340839385986\n",
            "15\n",
            "10.00030517578125\n",
            "16\n",
            "10.000188827514648\n",
            "17\n",
            "10.000195503234863\n",
            "18\n",
            "6.786607265472412\n",
            "19\n",
            "3.2505462169647217\n",
            "20\n",
            "5.396553039550781\n",
            "21\n",
            "0.49499255418777466\n",
            "22\n",
            "10.000079154968262\n",
            "23\n",
            "6.003343105316162\n",
            "24\n",
            "10.000059127807617\n",
            "25\n",
            "4.90267276763916\n",
            "26\n",
            "2.03680157661438\n",
            "27\n",
            "10.00020980834961\n",
            "28\n",
            "10.0010986328125\n",
            "29\n",
            "2.1737072467803955\n",
            "30\n",
            "2.003757953643799\n",
            "31\n",
            "10.000142097473145\n",
            "32\n",
            "7.806699275970459\n",
            "33\n",
            "10.000066757202148\n",
            "34\n",
            "2.5566842555999756\n",
            "35\n",
            "10.000432968139648\n",
            "36\n",
            "10.000114440917969\n",
            "37\n",
            "10.000166893005371\n",
            "38\n",
            "6.001334190368652\n",
            "39\n",
            "10.000307083129883\n",
            "40\n",
            "5.4362688064575195\n",
            "41\n",
            "10.000086784362793\n",
            "42\n",
            "5.0392255783081055\n",
            "43\n",
            "10.000082015991211\n",
            "44\n",
            "10.000356674194336\n",
            "45\n",
            "10.00013542175293\n",
            "46\n",
            "10.000139236450195\n",
            "47\n",
            "5.027589321136475\n",
            "48\n",
            "10.000418663024902\n",
            "49\n",
            "8.839583396911621\n",
            "50\n",
            "7.683996677398682\n",
            "51\n",
            "7.582054138183594\n",
            "52\n",
            "4.068085670471191\n",
            "53\n",
            "0.4850539267063141\n",
            "54\n",
            "4.125086307525635\n",
            "55\n",
            "10.000327110290527\n",
            "56\n",
            "5.096949100494385\n",
            "57\n",
            "1.295596718788147\n",
            "58\n",
            "10.00048828125\n",
            "59\n",
            "10.000142097473145\n",
            "60\n",
            "7.9271955490112305\n",
            "61\n",
            "3.0633416175842285\n",
            "62\n",
            "10.000198364257812\n",
            "63\n",
            "10.000137329101562\n",
            "64\n",
            "10.000304222106934\n",
            "65\n",
            "6.000324249267578\n",
            "66\n",
            "10.000282287597656\n",
            "67\n",
            "10.000188827514648\n",
            "68\n",
            "10.000097274780273\n",
            "69\n",
            "3.529240369796753\n",
            "70\n",
            "0.04314650222659111\n"
          ]
        }
      ]
    },
    {
      "cell_type": "code",
      "source": [
        "plt.plot(model_test_h.history['loss'])"
      ],
      "metadata": {
        "id": "n4Dx6gkOZCKj",
        "colab": {
          "base_uri": "https://localhost:8080/",
          "height": 448
        },
        "outputId": "0997f140-075b-4855-fc2e-671cca0a6563"
      },
      "execution_count": 67,
      "outputs": [
        {
          "output_type": "execute_result",
          "data": {
            "text/plain": [
              "[<matplotlib.lines.Line2D at 0x7f12d18b9ab0>]"
            ]
          },
          "metadata": {},
          "execution_count": 67
        },
        {
          "output_type": "display_data",
          "data": {
            "text/plain": [
              "<Figure size 640x480 with 1 Axes>"
            ],
            "image/png": "[encoded data removed]"
          },
          "metadata": {}
        }
      ]
    },
    {
      "cell_type": "code",
      "source": [
        "y_pred = model_test(X)"
      ],
      "metadata": {
        "id": "Dis00hM7dgl1"
      },
      "execution_count": 68,
      "outputs": []
    },
    {
      "cell_type": "code",
      "source": [
        "y_pred"
      ],
      "metadata": {
        "colab": {
          "base_uri": "https://localhost:8080/"
        },
        "id": "IIx32WIMdi53",
        "outputId": "ec47aea9-c884-4328-e25b-e86176ff0f73"
      },
      "execution_count": 69,
      "outputs": [
        {
          "output_type": "execute_result",
          "data": {
            "text/plain": [
              "<tf.Tensor: shape=(10, 5), dtype=float32, numpy=\n",
              "array([[-3.9137735,  2.7946322,  2.8514056,  4.855861 ,  2.8599906],\n",
              "       [-3.9849377,  2.9737535,  4.0157084,  2.7339706,  3.1841385],\n",
              "       [-3.8671443,  3.9278564,  2.5202656,  3.6857233,  2.333171 ],\n",
              "       [-4.5358777,  2.6630263,  3.0057998,  3.3149219,  3.6477933],\n",
              "       [-3.8209374,  2.5888581,  2.7699099,  4.8815093,  2.9964752],\n",
              "       [-4.814195 ,  2.6175282,  2.7349558,  3.5890512,  3.0529838],\n",
              "       [-3.9237278,  2.2597427,  2.2471662,  4.329542 ,  3.5362449],\n",
              "       [-3.9970655,  3.6106453,  2.5917776,  2.8991737,  2.9181058],\n",
              "       [-3.827363 ,  2.9523704,  3.7083573,  3.7497153,  2.6679723],\n",
              "       [-3.961441 ,  2.83394  ,  3.9831655,  3.80653  ,  2.560509 ]],\n",
              "      dtype=float32)>"
            ]
          },
          "metadata": {},
          "execution_count": 69
        }
      ]
    },
    {
      "cell_type": "code",
      "source": [
        "get_ranking(-y_pred)"
      ],
      "metadata": {
        "colab": {
          "base_uri": "https://localhost:8080/"
        },
        "id": "Ge6C4TBhdJmQ",
        "outputId": "43fc4703-58a7-4f39-c555-dd67e1782f37"
      },
      "execution_count": 70,
      "outputs": [
        {
          "output_type": "execute_result",
          "data": {
            "text/plain": [
              "array([[0, 1, 2, 4, 3],\n",
              "       [0, 2, 4, 1, 3],\n",
              "       [0, 4, 2, 3, 1],\n",
              "       [0, 1, 2, 3, 4],\n",
              "       [0, 1, 2, 4, 3],\n",
              "       [0, 1, 2, 4, 3],\n",
              "       [0, 2, 1, 4, 3],\n",
              "       [0, 4, 1, 2, 3],\n",
              "       [0, 2, 3, 4, 1],\n",
              "       [0, 2, 4, 3, 1]])"
            ]
          },
          "metadata": {},
          "execution_count": 70
        }
      ]
    },
    {
      "cell_type": "code",
      "source": [
        "Y"
      ],
      "metadata": {
        "colab": {
          "base_uri": "https://localhost:8080/"
        },
        "id": "bXIxn1uedUvp",
        "outputId": "c7acb6db-6916-4da2-fa97-5a26ac5b1fcd"
      },
      "execution_count": 71,
      "outputs": [
        {
          "output_type": "execute_result",
          "data": {
            "text/plain": [
              "array([[0, 3, 2, 4, 1],\n",
              "       [0, 2, 4, 1, 3],\n",
              "       [0, 4, 2, 3, 1],\n",
              "       [3, 1, 0, 2, 4],\n",
              "       [0, 2, 1, 4, 3],\n",
              "       [4, 1, 3, 0, 2],\n",
              "       [0, 2, 1, 3, 4],\n",
              "       [0, 4, 1, 2, 3],\n",
              "       [3, 2, 4, 0, 1],\n",
              "       [0, 2, 4, 3, 1]])"
            ]
          },
          "metadata": {},
          "execution_count": 71
        }
      ]
    },
    {
      "cell_type": "code",
      "source": [
        "loss_ranking(Y, get_ranking(-y_pred))"
      ],
      "metadata": {
        "colab": {
          "base_uri": "https://localhost:8080/"
        },
        "id": "-V14vIK1fB5b",
        "outputId": "e2e57dd0-2e74-4e64-ba5a-c2c2a7a6c421"
      },
      "execution_count": 72,
      "outputs": [
        {
          "output_type": "execute_result",
          "data": {
            "text/plain": [
              "<tf.Tensor: shape=(), dtype=float32, numpy=1009.1981>"
            ]
          },
          "metadata": {},
          "execution_count": 72
        }
      ]
    }
  ]
}