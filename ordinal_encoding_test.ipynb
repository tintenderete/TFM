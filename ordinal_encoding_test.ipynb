{
 "cells": [
  {
   "cell_type": "markdown",
   "metadata": {},
   "source": [
    "## ORDINAL REGRESSION PROBLEM"
   ]
  },
  {
   "cell_type": "code",
   "execution_count": 1,
   "metadata": {},
   "outputs": [],
   "source": [
    "# CARGAMOS LIBRERIAS\n",
    "import pandas as pd\n",
    "import numpy as np\n",
    "import matplotlib.pyplot as plt\n",
    "import datetime\n",
    "import os\n",
    "import math"
   ]
  },
  {
   "cell_type": "markdown",
   "metadata": {},
   "source": [
    "NUESTRO PROBLEMA A RESOLVER ES EL DE ESTIMAR UN RANKING DE ACTIVOS EN BASE A UN CONJUNTO DE MÉTRICAS. UN RANKING ES UN CONJUNTO DE VALORES ORDENADO DEPENDIENDO A SU \n",
    "RELEVANCIA CON RESPECTO A UN CIERTO CRITERIO. POR LO TANTO, NUESTRA TAREA DE APRENDIZAJE ES LA DE ESTIMAR UN CONJUNTO ORDENADO DE ACTIVOS.\n",
    "\n",
    "ESTA TAREA SE CONOCE COMO REGRESION ORDINAL. ES UN TIPO DE MODELO DE CLASIFICACIÓN EN EL CUAL SE BUSCA ENCONTRAR LA DIRECCIÓN DEL ORDEN DE CADA ELEMENTO DENTRO DE NUESTRO\n",
    "CONJUNTO DE DATOS.\n",
    "\n",
    "PARA PODER ESTIMAR UN RANKING DEBEMOS POR LO TANTO REALIZAR UNA TAREA DE CLASIFICACIÓN DE CADA ACTIVO. EN ESTE CASO SE DEBERÁ PREPROCESAR NUESTRAS ETIQUETAS DE MANERA TAL\n",
    "QUE EL MODELO PUEDA ESTIMAR LA POSICIÓN Y EL ORDEN CORRECTO DE CADA ACTIVO. POR LO TANTO, EL PREPROCESAMIENTO DEBE REALIZARSE DE LA SIGUIENTE MANERA:\n",
    "- [0] -> [0, 0, 0, 0]\n",
    "- [1] -> [1, 0, 0, 0]\n",
    "- [2] -> [1, 1, 0, 0]  \n",
    "- [3] -> [1, 1, 1, 0]\n",
    "- [4] -> [1, 1, 1, 1]\n",
    "\n",
    "EN VEZ DE UTILIZAR UNA FUNCIÓN SOFTMAX Y CODIFICAR COMO ONE HOT, UTILIZAREMOS UNA FUNCIÓN SIGMOIDEA Y LA CODIFICACIÓN DETALLADA ANTERIORMENTE"
   ]
  },
  {
   "cell_type": "code",
   "execution_count": 38,
   "metadata": {},
   "outputs": [
    {
     "data": {
      "text/plain": [
       "(2000, 97)"
      ]
     },
     "execution_count": 38,
     "metadata": {},
     "output_type": "execute_result"
    }
   ],
   "source": [
    "ACTIVOS = 97\n",
    "len_array = 2000\n",
    "ranking = np.ndarray((len_array, ACTIVOS))\n",
    "ranking.shape"
   ]
  },
  {
   "cell_type": "code",
   "execution_count": 50,
   "metadata": {},
   "outputs": [
    {
     "data": {
      "text/plain": [
       "array([[ 0.,  1.,  2., ..., 94., 95., 96.],\n",
       "       [ 0.,  1.,  2., ..., 94., 95., 96.],\n",
       "       [ 0.,  1.,  2., ..., 94., 95., 96.],\n",
       "       ...,\n",
       "       [ 0.,  1.,  2., ..., 94., 95., 96.],\n",
       "       [ 0.,  1.,  2., ..., 94., 95., 96.],\n",
       "       [ 0.,  1.,  2., ..., 94., 95., 96.]])"
      ]
     },
     "execution_count": 50,
     "metadata": {},
     "output_type": "execute_result"
    }
   ],
   "source": [
    "ranking[:] = range(ACTIVOS)\n",
    "ranking"
   ]
  },
  {
   "cell_type": "code",
   "execution_count": 58,
   "metadata": {},
   "outputs": [],
   "source": [
    "def shuffle_along_axis(a, axis):\n",
    "    idx = np.random.rand(*a.shape).argsort(axis=axis)\n",
    "    return np.take_along_axis(a,idx,axis=axis)"
   ]
  },
  {
   "cell_type": "code",
   "execution_count": 64,
   "metadata": {},
   "outputs": [
    {
     "data": {
      "text/plain": [
       "array([[ 5.,  9.,  1., ..., 38., 13., 89.],\n",
       "       [76., 15., 28., ..., 84., 83., 74.],\n",
       "       [66., 75., 63., ..., 85., 84., 23.],\n",
       "       ...,\n",
       "       [54., 46., 41., ..., 12., 18., 29.],\n",
       "       [34., 69., 77., ..., 65., 81.,  5.],\n",
       "       [29., 72., 27., ..., 59., 30.,  5.]])"
      ]
     },
     "execution_count": 64,
     "metadata": {},
     "output_type": "execute_result"
    }
   ],
   "source": [
    "ranking = shuffle_along_axis(ranking,1)\n",
    "ranking"
   ]
  },
  {
   "cell_type": "code",
   "execution_count": 84,
   "metadata": {},
   "outputs": [
    {
     "data": {
      "text/plain": [
       "array([[[0., 0., 0., ..., 0., 0., 0.],\n",
       "        [0., 0., 0., ..., 0., 0., 0.],\n",
       "        [0., 0., 0., ..., 0., 0., 0.],\n",
       "        ...,\n",
       "        [0., 0., 0., ..., 0., 0., 0.],\n",
       "        [0., 0., 0., ..., 0., 0., 0.],\n",
       "        [0., 0., 0., ..., 0., 0., 0.]],\n",
       "\n",
       "       [[0., 0., 0., ..., 0., 0., 0.],\n",
       "        [0., 0., 0., ..., 0., 0., 0.],\n",
       "        [0., 0., 0., ..., 0., 0., 0.],\n",
       "        ...,\n",
       "        [0., 0., 0., ..., 0., 0., 0.],\n",
       "        [0., 0., 0., ..., 0., 0., 0.],\n",
       "        [0., 0., 0., ..., 0., 0., 0.]],\n",
       "\n",
       "       [[0., 0., 0., ..., 0., 0., 0.],\n",
       "        [0., 0., 0., ..., 0., 0., 0.],\n",
       "        [0., 0., 0., ..., 0., 0., 0.],\n",
       "        ...,\n",
       "        [0., 0., 0., ..., 0., 0., 0.],\n",
       "        [0., 0., 0., ..., 0., 0., 0.],\n",
       "        [0., 0., 0., ..., 0., 0., 0.]],\n",
       "\n",
       "       ...,\n",
       "\n",
       "       [[0., 0., 0., ..., 0., 0., 0.],\n",
       "        [0., 0., 0., ..., 0., 0., 0.],\n",
       "        [0., 0., 0., ..., 0., 0., 0.],\n",
       "        ...,\n",
       "        [0., 0., 0., ..., 0., 0., 0.],\n",
       "        [0., 0., 0., ..., 0., 0., 0.],\n",
       "        [0., 0., 0., ..., 0., 0., 0.]],\n",
       "\n",
       "       [[0., 0., 0., ..., 0., 0., 0.],\n",
       "        [0., 0., 0., ..., 0., 0., 0.],\n",
       "        [0., 0., 0., ..., 0., 0., 0.],\n",
       "        ...,\n",
       "        [0., 0., 0., ..., 0., 0., 0.],\n",
       "        [0., 0., 0., ..., 0., 0., 0.],\n",
       "        [0., 0., 0., ..., 0., 0., 0.]],\n",
       "\n",
       "       [[0., 0., 0., ..., 0., 0., 0.],\n",
       "        [0., 0., 0., ..., 0., 0., 0.],\n",
       "        [0., 0., 0., ..., 0., 0., 0.],\n",
       "        ...,\n",
       "        [0., 0., 0., ..., 0., 0., 0.],\n",
       "        [0., 0., 0., ..., 0., 0., 0.],\n",
       "        [0., 0., 0., ..., 0., 0., 0.]]])"
      ]
     },
     "execution_count": 84,
     "metadata": {},
     "output_type": "execute_result"
    }
   ],
   "source": [
    "encoded_ranking = np.zeros((ranking.shape[0],ranking.shape[1],ranking.shape[1]))\n",
    "encoded_ranking"
   ]
  },
  {
   "cell_type": "code",
   "execution_count": 97,
   "metadata": {},
   "outputs": [
    {
     "name": "stdout",
     "output_type": "stream",
     "text": [
      "5.0\n",
      "15.0\n",
      "63.0\n",
      "51.0\n",
      "15.0\n",
      "66.0\n",
      "56.0\n",
      "54.0\n",
      "77.0\n",
      "5.0\n",
      "21.0\n",
      "58.0\n",
      "43.0\n",
      "24.0\n",
      "91.0\n",
      "31.0\n",
      "16.0\n",
      "91.0\n",
      "16.0\n",
      "17.0\n",
      "94.0\n",
      "78.0\n",
      "68.0\n",
      "79.0\n",
      "47.0\n",
      "53.0\n",
      "53.0\n",
      "79.0\n",
      "18.0\n",
      "70.0\n",
      "5.0\n",
      "92.0\n",
      "34.0\n",
      "4.0\n",
      "45.0\n",
      "67.0\n",
      "38.0\n",
      "15.0\n",
      "89.0\n",
      "91.0\n",
      "43.0\n",
      "51.0\n",
      "63.0\n",
      "70.0\n",
      "56.0\n",
      "55.0\n",
      "7.0\n",
      "21.0\n",
      "24.0\n",
      "11.0\n",
      "43.0\n",
      "12.0\n",
      "69.0\n",
      "42.0\n",
      "29.0\n",
      "11.0\n",
      "38.0\n",
      "8.0\n",
      "20.0\n",
      "48.0\n",
      "41.0\n",
      "94.0\n",
      "45.0\n",
      "81.0\n",
      "93.0\n",
      "15.0\n",
      "94.0\n",
      "74.0\n",
      "57.0\n",
      "86.0\n",
      "17.0\n",
      "44.0\n",
      "20.0\n",
      "0.0\n",
      "15.0\n",
      "59.0\n",
      "30.0\n",
      "11.0\n",
      "90.0\n",
      "68.0\n",
      "38.0\n",
      "30.0\n",
      "51.0\n",
      "9.0\n",
      "50.0\n",
      "50.0\n",
      "10.0\n",
      "73.0\n",
      "76.0\n",
      "77.0\n",
      "14.0\n",
      "74.0\n",
      "55.0\n",
      "82.0\n",
      "5.0\n",
      "73.0\n",
      "31.0\n"
     ]
    },
    {
     "ename": "IndexError",
     "evalue": "index 97 is out of bounds for axis 1 with size 97",
     "output_type": "error",
     "traceback": [
      "\u001b[1;31m---------------------------------------------------------------------------\u001b[0m",
      "\u001b[1;31mIndexError\u001b[0m                                Traceback (most recent call last)",
      "Cell \u001b[1;32mIn[97], line 2\u001b[0m\n\u001b[0;32m      1\u001b[0m \u001b[39mfor\u001b[39;00m i \u001b[39min\u001b[39;00m \u001b[39mrange\u001b[39m(ranking\u001b[39m.\u001b[39mshape[\u001b[39m0\u001b[39m]\u001b[39m-\u001b[39m\u001b[39m1\u001b[39m):\n\u001b[1;32m----> 2\u001b[0m     \u001b[39mprint\u001b[39m(ranking[i,i])\n\u001b[0;32m      3\u001b[0m     \u001b[39m# encoded_ranking[:,:,:int(ranking[i,i])] = 1\u001b[39;00m\n",
      "\u001b[1;31mIndexError\u001b[0m: index 97 is out of bounds for axis 1 with size 97"
     ]
    }
   ],
   "source": [
    "for i in range(ranking.shape[0]):\n",
    "    print(ranking[i,i])\n",
    "    # encoded_ranking[:,:,:int(ranking[i,i])] = 1"
   ]
  },
  {
   "cell_type": "code",
   "execution_count": 80,
   "metadata": {},
   "outputs": [
    {
     "data": {
      "text/plain": [
       "array([[[1., 1., 1., ..., 0., 0., 0.],\n",
       "        [1., 1., 1., ..., 0., 0., 0.],\n",
       "        [1., 1., 1., ..., 0., 0., 0.],\n",
       "        ...,\n",
       "        [1., 1., 1., ..., 0., 0., 0.],\n",
       "        [1., 1., 1., ..., 0., 0., 0.],\n",
       "        [1., 1., 1., ..., 0., 0., 0.]],\n",
       "\n",
       "       [[1., 1., 1., ..., 0., 0., 0.],\n",
       "        [1., 1., 1., ..., 0., 0., 0.],\n",
       "        [1., 1., 1., ..., 0., 0., 0.],\n",
       "        ...,\n",
       "        [1., 1., 1., ..., 0., 0., 0.],\n",
       "        [1., 1., 1., ..., 0., 0., 0.],\n",
       "        [1., 1., 1., ..., 0., 0., 0.]],\n",
       "\n",
       "       [[1., 1., 1., ..., 0., 0., 0.],\n",
       "        [1., 1., 1., ..., 0., 0., 0.],\n",
       "        [1., 1., 1., ..., 0., 0., 0.],\n",
       "        ...,\n",
       "        [1., 1., 1., ..., 0., 0., 0.],\n",
       "        [1., 1., 1., ..., 0., 0., 0.],\n",
       "        [1., 1., 1., ..., 0., 0., 0.]],\n",
       "\n",
       "       ...,\n",
       "\n",
       "       [[1., 1., 1., ..., 0., 0., 0.],\n",
       "        [1., 1., 1., ..., 0., 0., 0.],\n",
       "        [1., 1., 1., ..., 0., 0., 0.],\n",
       "        ...,\n",
       "        [1., 1., 1., ..., 0., 0., 0.],\n",
       "        [1., 1., 1., ..., 0., 0., 0.],\n",
       "        [1., 1., 1., ..., 0., 0., 0.]],\n",
       "\n",
       "       [[1., 1., 1., ..., 0., 0., 0.],\n",
       "        [1., 1., 1., ..., 0., 0., 0.],\n",
       "        [1., 1., 1., ..., 0., 0., 0.],\n",
       "        ...,\n",
       "        [1., 1., 1., ..., 0., 0., 0.],\n",
       "        [1., 1., 1., ..., 0., 0., 0.],\n",
       "        [1., 1., 1., ..., 0., 0., 0.]],\n",
       "\n",
       "       [[1., 1., 1., ..., 0., 0., 0.],\n",
       "        [1., 1., 1., ..., 0., 0., 0.],\n",
       "        [1., 1., 1., ..., 0., 0., 0.],\n",
       "        ...,\n",
       "        [1., 1., 1., ..., 0., 0., 0.],\n",
       "        [1., 1., 1., ..., 0., 0., 0.],\n",
       "        [1., 1., 1., ..., 0., 0., 0.]]])"
      ]
     },
     "execution_count": 80,
     "metadata": {},
     "output_type": "execute_result"
    }
   ],
   "source": [
    "for l in range(encoded_ranking.shape[0]):\n",
    "    for i in range(encoded_ranking.shape[1]):\n",
    "        encoded_ranking[l,i,:int(ranking[i,i])] = 1\n",
    "encoded_ranking"
   ]
  }
 ],
 "metadata": {
  "kernelspec": {
   "display_name": "venv",
   "language": "python",
   "name": "python3"
  },
  "language_info": {
   "codemirror_mode": {
    "name": "ipython",
    "version": 3
   },
   "file_extension": ".py",
   "mimetype": "text/x-python",
   "name": "python",
   "nbconvert_exporter": "python",
   "pygments_lexer": "ipython3",
   "version": "3.10.11"
  },
  "orig_nbformat": 4
 },
 "nbformat": 4,
 "nbformat_minor": 2
}
