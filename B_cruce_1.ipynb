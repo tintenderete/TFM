{
  "nbformat": 4,
  "nbformat_minor": 0,
  "metadata": {
    "colab": {
      "provenance": [],
      "toc_visible": true,
      "authorship_tag": "ABX9TyNNYDg/myZan2SPSgtcPRoc",
      "include_colab_link": true
    },
    "kernelspec": {
      "name": "python3",
      "display_name": "Python 3"
    },
    "language_info": {
      "name": "python"
    }
  },
  "cells": [
    {
      "cell_type": "markdown",
      "metadata": {
        "id": "view-in-github",
        "colab_type": "text"
      },
      "source": [
        "<a href=\"https://colab.research.google.com/github/tintenderete/TFM-Algoritmo-con-redes-evolutivas/blob/main/B_cruce_1.ipynb\" target=\"_parent\"><img src=\"https://colab.research.google.com/assets/colab-badge.svg\" alt=\"Open In Colab\"/></a>"
      ]
    },
    {
      "cell_type": "code",
      "source": [
        "import numpy as np\n",
        "import random"
      ],
      "metadata": {
        "id": "QXd_CV7fOcr-"
      },
      "execution_count": null,
      "outputs": []
    },
    {
      "cell_type": "code",
      "execution_count": null,
      "metadata": {
        "id": "zvlqAhr-OIeK"
      },
      "outputs": [],
      "source": [
        "layers = np.zeros(10, dtype=int)\n",
        "individuos = []\n",
        "len_gen = 4\n",
        "num_genes = 5 \n",
        "size_cadena = len_gen * num_genes\n",
        "num_individuos = 2\n",
        "\n",
        "layers_random = []\n",
        "activations_random = [] \n",
        "units_random = []\n",
        "kernels_size_random = []\n",
        "\n",
        "rango_minimo_units = 1\n",
        "rango_maximo_units = 100\n",
        "\n",
        "rango_minimo_kernel_size = 1\n",
        "rango_maximo_kernel_size = 4\n",
        "\n",
        "\n",
        "layers_random = np.random.randint(-1, len(layers), (num_individuos, num_genes))\n",
        "activations_random = np.zeros((num_individuos, num_genes), dtype=int)\n",
        "units_random = np.random.randint(rango_minimo_units, rango_maximo_units, (num_individuos, num_genes))\n",
        "kernels_size_random = np.random.randint(rango_minimo_kernel_size, rango_maximo_kernel_size, (num_individuos, num_genes))\n",
        "\n",
        "individuos = np.zeros((num_individuos, size_cadena), dtype=int)\n",
        "individuos[:,::len_gen] = layers_random\n",
        "individuos[:,1::len_gen] = activations_random\n",
        "individuos[:,2::len_gen] = units_random\n",
        "individuos[:,3::len_gen] = kernels_size_random"
      ]
    },
    {
      "cell_type": "code",
      "source": [
        "individuos[0], individuos[0].shape"
      ],
      "metadata": {
        "colab": {
          "base_uri": "https://localhost:8080/"
        },
        "id": "EOp0JHn6Op_V",
        "outputId": "e2080e8f-c44e-4f5f-d37e-70678ac24ea4"
      },
      "execution_count": null,
      "outputs": [
        {
          "output_type": "execute_result",
          "data": {
            "text/plain": [
              "(array([ 1,  0, 26,  1,  9,  0, 24,  3,  2,  0, 44,  1,  9,  0, 26,  1,  8,\n",
              "         0, 20,  1]),\n",
              " (20,))"
            ]
          },
          "metadata": {},
          "execution_count": 35
        }
      ]
    },
    {
      "cell_type": "code",
      "source": [
        "individuos[1], individuos[1].shape"
      ],
      "metadata": {
        "colab": {
          "base_uri": "https://localhost:8080/"
        },
        "id": "JD7awwolOsrq",
        "outputId": "9a9ec1c5-bd70-460d-e5f8-3705c3d31aca"
      },
      "execution_count": null,
      "outputs": [
        {
          "output_type": "execute_result",
          "data": {
            "text/plain": [
              "(array([ 2,  0, 36,  2,  7,  0, 87,  2,  3,  0, 83,  3, -1,  0, 82,  2,  0,\n",
              "         0, 37,  1]),\n",
              " (20,))"
            ]
          },
          "metadata": {},
          "execution_count": 36
        }
      ]
    },
    {
      "cell_type": "code",
      "source": [
        "parent1 = individuos[0]\n",
        "parent2 = individuos[1]"
      ],
      "metadata": {
        "id": "Gw4dayxEQQzZ"
      },
      "execution_count": null,
      "outputs": []
    },
    {
      "cell_type": "markdown",
      "source": [
        "# Cruce de un solo punto (Single-point crossover)"
      ],
      "metadata": {
        "id": "qjMon_GrPJOs"
      }
    },
    {
      "cell_type": "markdown",
      "source": [
        "Cruce de un solo punto (Single-point crossover): Se elige un punto en la representación del individuo (a menudo una cadena de bits), y se intercambian todos los bits a partir de ese punto entre los dos padres. Por ejemplo, si los padres son 11001 y 00111, y el punto de cruce es después del tercer bit, los hijos serían 11011 y 00101."
      ],
      "metadata": {
        "id": "irq4foNGPG67"
      }
    },
    {
      "cell_type": "code",
      "source": [
        "def single_point_crossover(parent1, parent2):\n",
        "    crossover_point = np.random.randint(1, len(parent1))  # Choose crossover point\n",
        "    child1 = np.concatenate((parent1[:crossover_point], parent2[crossover_point:]))\n",
        "    child2 = np.concatenate((parent2[:crossover_point], parent1[crossover_point:]))\n",
        "    return child1, child2"
      ],
      "metadata": {
        "id": "ahw4VG3FQHGX"
      },
      "execution_count": null,
      "outputs": []
    },
    {
      "cell_type": "code",
      "source": [
        "crossover_point = np.random.randint(1, len(parent1))\n",
        "crossover_point"
      ],
      "metadata": {
        "colab": {
          "base_uri": "https://localhost:8080/"
        },
        "id": "LGV-_KHZQWse",
        "outputId": "af75ef35-3bf3-48f8-c8ed-ffac692f34f8"
      },
      "execution_count": null,
      "outputs": [
        {
          "output_type": "execute_result",
          "data": {
            "text/plain": [
              "16"
            ]
          },
          "metadata": {},
          "execution_count": 38
        }
      ]
    },
    {
      "cell_type": "code",
      "source": [
        "parent1[:crossover_point], parent2[crossover_point:]"
      ],
      "metadata": {
        "colab": {
          "base_uri": "https://localhost:8080/"
        },
        "id": "fq-esUhAQag7",
        "outputId": "4ff75f2d-79b5-4e4e-a5bb-7836fba01b97"
      },
      "execution_count": null,
      "outputs": [
        {
          "output_type": "execute_result",
          "data": {
            "text/plain": [
              "(array([ 1,  0, 26,  1,  9,  0, 24,  3,  2,  0, 44,  1,  9,  0, 26,  1]),\n",
              " array([ 0,  0, 37,  1]))"
            ]
          },
          "metadata": {},
          "execution_count": 40
        }
      ]
    },
    {
      "cell_type": "code",
      "source": [
        "child1 = np.concatenate((parent1[:crossover_point], parent2[crossover_point:]))\n",
        "child2 = np.concatenate((parent2[:crossover_point], parent1[crossover_point:]))\n",
        "child1, child2"
      ],
      "metadata": {
        "colab": {
          "base_uri": "https://localhost:8080/"
        },
        "id": "4E1gyrohQium",
        "outputId": "54dd0d46-d869-4ddd-9ce6-5d0b32023844"
      },
      "execution_count": null,
      "outputs": [
        {
          "output_type": "execute_result",
          "data": {
            "text/plain": [
              "(array([ 1,  0, 26,  1,  9,  0, 24,  3,  2,  0, 44,  1,  9,  0, 26,  1,  0,\n",
              "         0, 37,  1]),\n",
              " array([ 2,  0, 36,  2,  7,  0, 87,  2,  3,  0, 83,  3, -1,  0, 82,  2,  8,\n",
              "         0, 20,  1]))"
            ]
          },
          "metadata": {},
          "execution_count": 41
        }
      ]
    },
    {
      "cell_type": "code",
      "source": [
        "parent1, parent2"
      ],
      "metadata": {
        "colab": {
          "base_uri": "https://localhost:8080/"
        },
        "id": "f2ygGU5fQq5x",
        "outputId": "ac917962-19d5-48f7-cb32-6ea0b11cfec3"
      },
      "execution_count": null,
      "outputs": [
        {
          "output_type": "execute_result",
          "data": {
            "text/plain": [
              "(array([ 1,  0, 26,  1,  9,  0, 24,  3,  2,  0, 44,  1,  9,  0, 26,  1,  8,\n",
              "         0, 20,  1]),\n",
              " array([ 2,  0, 36,  2,  7,  0, 87,  2,  3,  0, 83,  3, -1,  0, 82,  2,  0,\n",
              "         0, 37,  1]))"
            ]
          },
          "metadata": {},
          "execution_count": 59
        }
      ]
    },
    {
      "cell_type": "code",
      "source": [
        "single_point_crossover(parent1, parent2)"
      ],
      "metadata": {
        "colab": {
          "base_uri": "https://localhost:8080/"
        },
        "id": "ujRdPb_BQ7Dt",
        "outputId": "7e999115-21ec-4d4a-e873-ec0fccc87150"
      },
      "execution_count": null,
      "outputs": [
        {
          "output_type": "execute_result",
          "data": {
            "text/plain": [
              "(array([ 1,  0, 26,  1,  9,  0, 87,  2,  3,  0, 83,  3, -1,  0, 82,  2,  0,\n",
              "         0, 37,  1]),\n",
              " array([ 2,  0, 36,  2,  7,  0, 24,  3,  2,  0, 44,  1,  9,  0, 26,  1,  8,\n",
              "         0, 20,  1]))"
            ]
          },
          "metadata": {},
          "execution_count": 44
        }
      ]
    },
    {
      "cell_type": "markdown",
      "source": [
        "# Cruce de dos puntos (Two-point crossover)"
      ],
      "metadata": {
        "id": "TvV5cGpPRJ9f"
      }
    },
    {
      "cell_type": "markdown",
      "source": [
        "Cruce de dos puntos (Two-point crossover): Similar al cruce de un solo punto, pero se eligen dos puntos de cruce y se intercambia la sección entre ellos."
      ],
      "metadata": {
        "id": "Wo_AnOQORG4Q"
      }
    },
    {
      "cell_type": "code",
      "source": [
        "def two_point_crossover(parent1, parent2):\n",
        "    crossover_point1 = np.random.randint(1, len(parent1))  # Choose first crossover point\n",
        "    crossover_point2 = np.random.randint(1, len(parent1))  # Choose second crossover point\n",
        "    crossover_point1, crossover_point2 = min(crossover_point1, crossover_point2), max(crossover_point1, crossover_point2)\n",
        "\n",
        "    child1 = np.concatenate((parent1[:crossover_point1], parent2[crossover_point1:crossover_point2], parent1[crossover_point2:]))\n",
        "    child2 = np.concatenate((parent2[:crossover_point1], parent1[crossover_point1:crossover_point2], parent2[crossover_point2:]))\n",
        "    return child1, child2"
      ],
      "metadata": {
        "id": "-NJTUj9oRLDY"
      },
      "execution_count": null,
      "outputs": []
    },
    {
      "cell_type": "code",
      "source": [
        "crossover_point1 = np.random.randint(1, len(parent1))  # Choose first crossover point\n",
        "crossover_point2 = np.random.randint(1, len(parent1))  # Choose second crossover point\n",
        "crossover_point1, crossover_point2"
      ],
      "metadata": {
        "colab": {
          "base_uri": "https://localhost:8080/"
        },
        "id": "s14-xqesRZlF",
        "outputId": "5bedbc1f-6282-469e-f6e9-1c88251eccb7"
      },
      "execution_count": null,
      "outputs": [
        {
          "output_type": "execute_result",
          "data": {
            "text/plain": [
              "(8, 7)"
            ]
          },
          "metadata": {},
          "execution_count": 46
        }
      ]
    },
    {
      "cell_type": "code",
      "source": [
        "crossover_point1, crossover_point2 = min(crossover_point1, crossover_point2), max(crossover_point1, crossover_point2)\n",
        "crossover_point1, crossover_point2 "
      ],
      "metadata": {
        "colab": {
          "base_uri": "https://localhost:8080/"
        },
        "id": "26D9yeCjRQzw",
        "outputId": "e02976b8-f41e-4a9e-a85d-ce58c4043701"
      },
      "execution_count": null,
      "outputs": [
        {
          "output_type": "execute_result",
          "data": {
            "text/plain": [
              "(7, 8)"
            ]
          },
          "metadata": {},
          "execution_count": 47
        }
      ]
    },
    {
      "cell_type": "code",
      "source": [
        "np.concatenate((parent1[:crossover_point1], parent2[crossover_point1:crossover_point2], parent1[crossover_point2:]))"
      ],
      "metadata": {
        "colab": {
          "base_uri": "https://localhost:8080/"
        },
        "id": "z0f_Bce5Rwd5",
        "outputId": "b38bd010-6d7c-491e-8440-0f0cb06b08c1"
      },
      "execution_count": null,
      "outputs": [
        {
          "output_type": "execute_result",
          "data": {
            "text/plain": [
              "array([ 1,  0, 26,  1,  9,  0, 24,  2,  2,  0, 44,  1,  9,  0, 26,  1,  8,\n",
              "        0, 20,  1])"
            ]
          },
          "metadata": {},
          "execution_count": 50
        }
      ]
    },
    {
      "cell_type": "code",
      "source": [
        "parent1, parent2"
      ],
      "metadata": {
        "colab": {
          "base_uri": "https://localhost:8080/"
        },
        "id": "fUrMigsVSGCb",
        "outputId": "ac585a91-6d65-4987-c100-bd1b31173f69"
      },
      "execution_count": null,
      "outputs": [
        {
          "output_type": "execute_result",
          "data": {
            "text/plain": [
              "(array([ 1,  0, 26,  1,  9,  0, 24,  3,  2,  0, 44,  1,  9,  0, 26,  1,  8,\n",
              "         0, 20,  1]),\n",
              " array([ 2,  0, 36,  2,  7,  0, 87,  2,  3,  0, 83,  3, -1,  0, 82,  2,  0,\n",
              "         0, 37,  1]))"
            ]
          },
          "metadata": {},
          "execution_count": 60
        }
      ]
    },
    {
      "cell_type": "code",
      "source": [
        "two_point_crossover(parent1, parent2)"
      ],
      "metadata": {
        "colab": {
          "base_uri": "https://localhost:8080/"
        },
        "id": "58k8zOEcR_Bl",
        "outputId": "34d5af5e-8286-47df-9536-386563a4bd45"
      },
      "execution_count": null,
      "outputs": [
        {
          "output_type": "execute_result",
          "data": {
            "text/plain": [
              "(array([ 1,  0, 26,  1,  9,  0, 87,  2,  3,  0, 83,  3,  9,  0, 26,  1,  8,\n",
              "         0, 20,  1]),\n",
              " array([ 2,  0, 36,  2,  7,  0, 24,  3,  2,  0, 44,  1, -1,  0, 82,  2,  0,\n",
              "         0, 37,  1]))"
            ]
          },
          "metadata": {},
          "execution_count": 53
        }
      ]
    },
    {
      "cell_type": "markdown",
      "source": [
        "# Cruce uniforme (Uniform crossover)"
      ],
      "metadata": {
        "id": "dBFuU2WRSVKt"
      }
    },
    {
      "cell_type": "markdown",
      "source": [
        "Cruce uniforme (Uniform crossover): En lugar de intercambiar secciones grandes de la representación, el cruce uniforme intercambia bits individuales con una cierta probabilidad. Por ejemplo, si la probabilidad es 0.5, entonces cada bit tiene una probabilidad del 50% de ser intercambiado."
      ],
      "metadata": {
        "id": "hZVDOmcAST6p"
      }
    },
    {
      "cell_type": "code",
      "source": [
        "def uniform_crossover(parent1, parent2):\n",
        "    child1, child2 = parent1.copy(), parent2.copy()\n",
        "    for i in range(len(parent1)):\n",
        "        if np.random.uniform(0, 1) < 0.5:  # Choose randomly\n",
        "            child1[i], child2[i] = child2[i], child1[i]  # Swap elements\n",
        "    return child1, child2"
      ],
      "metadata": {
        "id": "opeOduqgSXAo"
      },
      "execution_count": null,
      "outputs": []
    },
    {
      "cell_type": "code",
      "source": [
        "parent1, parent2"
      ],
      "metadata": {
        "colab": {
          "base_uri": "https://localhost:8080/"
        },
        "id": "LxjodjcbSzUj",
        "outputId": "d49f28cd-7238-4f3a-aba2-cb19731e9b6c"
      },
      "execution_count": null,
      "outputs": [
        {
          "output_type": "execute_result",
          "data": {
            "text/plain": [
              "(array([ 1,  0, 26,  1,  9,  0, 24,  3,  2,  0, 44,  1,  9,  0, 26,  1,  8,\n",
              "         0, 20,  1]),\n",
              " array([ 2,  0, 36,  2,  7,  0, 87,  2,  3,  0, 83,  3, -1,  0, 82,  2,  0,\n",
              "         0, 37,  1]))"
            ]
          },
          "metadata": {},
          "execution_count": 61
        }
      ]
    },
    {
      "cell_type": "code",
      "source": [
        "uniform_crossover(parent1, parent2)"
      ],
      "metadata": {
        "colab": {
          "base_uri": "https://localhost:8080/"
        },
        "id": "jP72d1uYS03j",
        "outputId": "062f0970-072d-48ef-fc71-0199f3c4b861"
      },
      "execution_count": null,
      "outputs": [
        {
          "output_type": "execute_result",
          "data": {
            "text/plain": [
              "(array([ 1,  0, 26,  2,  9,  0, 87,  2,  3,  0, 44,  3,  9,  0, 26,  1,  0,\n",
              "         0, 20,  1]),\n",
              " array([ 2,  0, 36,  1,  7,  0, 24,  3,  2,  0, 83,  1, -1,  0, 82,  2,  8,\n",
              "         0, 37,  1]))"
            ]
          },
          "metadata": {},
          "execution_count": 57
        }
      ]
    },
    {
      "cell_type": "markdown",
      "source": [
        "# Cruce aritmético:"
      ],
      "metadata": {
        "id": "IK3wcgteVFaw"
      }
    },
    {
      "cell_type": "markdown",
      "source": [
        "Cruce aritmético: En problemas donde los individuos se representan como vectores de números reales, se puede utilizar el cruce aritmético. Aquí, los hijos se generan como una combinación lineal de los padres. Por ejemplo, un hijo podría ser el 70% del primer padre y el 30% del segundo."
      ],
      "metadata": {
        "id": "35SQbI1WVBew"
      }
    },
    {
      "cell_type": "code",
      "source": [
        "def arithmetic_crossover(parent1, parent2):\n",
        "    alpha = np.random.uniform(0, 1)  # Choose a random weight\n",
        "    child1 = alpha * parent1 + (1 - alpha) * parent2\n",
        "    child2 = (1 - alpha) * parent1 + alpha * parent2\n",
        "    return child1, child2"
      ],
      "metadata": {
        "id": "HfULRG7gVHXF"
      },
      "execution_count": null,
      "outputs": []
    },
    {
      "cell_type": "code",
      "source": [
        "alpha = np.random.uniform(0, 1)  # Choose a random weight\n",
        "alpha"
      ],
      "metadata": {
        "colab": {
          "base_uri": "https://localhost:8080/"
        },
        "id": "WZ2tk0lmVoK1",
        "outputId": "be06f1bb-e3de-4128-81fd-f6371e6a377c"
      },
      "execution_count": null,
      "outputs": [
        {
          "output_type": "execute_result",
          "data": {
            "text/plain": [
              "0.23536838641854319"
            ]
          },
          "metadata": {},
          "execution_count": 85
        }
      ]
    },
    {
      "cell_type": "code",
      "source": [
        "parent1, parent2"
      ],
      "metadata": {
        "colab": {
          "base_uri": "https://localhost:8080/"
        },
        "id": "-2P7HIG4WB02",
        "outputId": "8db8906b-5bba-4b19-9b53-ce38dbcf6df2"
      },
      "execution_count": null,
      "outputs": [
        {
          "output_type": "execute_result",
          "data": {
            "text/plain": [
              "(array([ 1,  0, 26,  1,  9,  0, 24,  3,  2,  0, 44,  1,  9,  0, 26,  1,  8,\n",
              "         0, 20,  1]),\n",
              " array([ 2,  0, 36,  2,  7,  0, 87,  2,  3,  0, 83,  3, -1,  0, 82,  2,  0,\n",
              "         0, 37,  1]))"
            ]
          },
          "metadata": {},
          "execution_count": 86
        }
      ]
    },
    {
      "cell_type": "code",
      "source": [
        "[(x1,x2) for x1, x2 in zip(parent1, parent2)]"
      ],
      "metadata": {
        "colab": {
          "base_uri": "https://localhost:8080/"
        },
        "id": "lUBfnGxjVS4n",
        "outputId": "404c5a31-2d21-410a-cd61-94652f63b4e2"
      },
      "execution_count": null,
      "outputs": [
        {
          "output_type": "execute_result",
          "data": {
            "text/plain": [
              "[(1, 2),\n",
              " (0, 0),\n",
              " (26, 36),\n",
              " (1, 2),\n",
              " (9, 7),\n",
              " (0, 0),\n",
              " (24, 87),\n",
              " (3, 2),\n",
              " (2, 3),\n",
              " (0, 0),\n",
              " (44, 83),\n",
              " (1, 3),\n",
              " (9, -1),\n",
              " (0, 0),\n",
              " (26, 82),\n",
              " (1, 2),\n",
              " (8, 0),\n",
              " (0, 0),\n",
              " (20, 37),\n",
              " (1, 1)]"
            ]
          },
          "metadata": {},
          "execution_count": 87
        }
      ]
    },
    {
      "cell_type": "code",
      "source": [
        "child1 = alpha * parent1 + (1 - alpha) * parent2\n",
        "child1"
      ],
      "metadata": {
        "colab": {
          "base_uri": "https://localhost:8080/"
        },
        "id": "Ff_gF6WCWQs2",
        "outputId": "0be55b2a-362b-43ac-db75-0310aa396982"
      },
      "execution_count": null,
      "outputs": [
        {
          "output_type": "execute_result",
          "data": {
            "text/plain": [
              "array([ 1.76463161,  0.        , 33.64631614,  1.76463161,  7.47073677,\n",
              "        0.        , 72.17179166,  2.23536839,  2.76463161,  0.        ,\n",
              "       73.82063293,  2.52926323,  1.35368386,  0.        , 68.81937036,\n",
              "        1.76463161,  1.88294709,  0.        , 32.99873743,  1.        ])"
            ]
          },
          "metadata": {},
          "execution_count": 88
        }
      ]
    },
    {
      "cell_type": "code",
      "source": [
        "parent1, parent2"
      ],
      "metadata": {
        "colab": {
          "base_uri": "https://localhost:8080/"
        },
        "id": "957yXGcMYRCJ",
        "outputId": "3f5ab3e4-1b58-4af6-8659-e21323f5b691"
      },
      "execution_count": null,
      "outputs": [
        {
          "output_type": "execute_result",
          "data": {
            "text/plain": [
              "(array([ 1,  0, 26,  1,  9,  0, 24,  3,  2,  0, 44,  1,  9,  0, 26,  1,  8,\n",
              "         0, 20,  1]),\n",
              " array([ 2,  0, 36,  2,  7,  0, 87,  2,  3,  0, 83,  3, -1,  0, 82,  2,  0,\n",
              "         0, 37,  1]))"
            ]
          },
          "metadata": {},
          "execution_count": 93
        }
      ]
    },
    {
      "cell_type": "code",
      "source": [
        "np.round(child1)"
      ],
      "metadata": {
        "colab": {
          "base_uri": "https://localhost:8080/"
        },
        "id": "-aDjjtIwXgR2",
        "outputId": "92fc6521-1708-4cdc-d240-68041d57f0a5"
      },
      "execution_count": null,
      "outputs": [
        {
          "output_type": "execute_result",
          "data": {
            "text/plain": [
              "array([ 2.,  0., 34.,  2.,  7.,  0., 72.,  2.,  3.,  0., 74.,  3.,  1.,\n",
              "        0., 69.,  2.,  2.,  0., 33.,  1.])"
            ]
          },
          "metadata": {},
          "execution_count": 89
        }
      ]
    },
    {
      "cell_type": "code",
      "source": [],
      "metadata": {
        "id": "2H9zE1YtYiOa"
      },
      "execution_count": null,
      "outputs": []
    },
    {
      "cell_type": "markdown",
      "source": [
        "# SELECCION PAREJAS"
      ],
      "metadata": {
        "id": "bKQtJv9XoFg4"
      }
    },
    {
      "cell_type": "markdown",
      "source": [
        "##Selección proporcional al fitness"
      ],
      "metadata": {
        "id": "rbltIYpYoQHW"
      }
    },
    {
      "cell_type": "code",
      "source": [
        "import numpy as np\n",
        "\n",
        "def select_mating_pool(population, fitness, num_parents):\n",
        "    \"\"\"\n",
        "    population: lista con todos los individuos.\n",
        "    fitness: lista con los valores de fitness de cada individuo.\n",
        "    num_parents: número de padres que queremos seleccionar.\n",
        "    \"\"\"\n",
        "\n",
        "    # Invierte los valores de fitness\n",
        "    fitness = 1.0 / fitness\n",
        "\n",
        "    # Normalizamos los valores de fitness para que sumen 1\n",
        "    fitness = fitness / np.sum(fitness)\n",
        "    \n",
        "    # Seleccionamos los padres usando la función np.random.choice con los valores de fitness como pesos\n",
        "    idx = np.random.choice(np.arange(len(population)), size=num_parents, replace=False, p=fitness)\n",
        "\n",
        "    # Devolvemos los individuos seleccionados\n",
        "    return [population[i] for i in idx]\n",
        "\n"
      ],
      "metadata": {
        "id": "LEjQGV1NoRg2"
      },
      "execution_count": 32,
      "outputs": []
    },
    {
      "cell_type": "code",
      "source": [
        "# Supongamos que tienes una población y su correspondiente fitness\n",
        "population = ['ind1', 'ind2', 'ind3', 'ind4', 'ind5']\n",
        "fitness = np.array([33, 56, 101, 34, 12]) \n",
        "\n",
        "# Invierte los valores de fitness\n",
        "fitness = 1.0 / fitness\n",
        "\n",
        "# Normalizamos los valores de fitness para que sumen 1\n",
        "fitness = fitness / np.sum(fitness)\n",
        "\n",
        "print(fitness)"
      ],
      "metadata": {
        "colab": {
          "base_uri": "https://localhost:8080/"
        },
        "id": "iGuiyua0oTMM",
        "outputId": "9800a9df-8d4e-4495-c577-f3dcdea7c2be"
      },
      "execution_count": 33,
      "outputs": [
        {
          "output_type": "stream",
          "name": "stdout",
          "text": [
            "[0.17741171 0.10454618 0.0579662  0.17219372 0.48788219]\n"
          ]
        }
      ]
    },
    {
      "cell_type": "code",
      "source": [
        "# Seleccionamos 2 padres\n",
        "num_parejas = 20\n",
        "\n",
        "for i in range(num_parejas):\n",
        "  parents = select_mating_pool(population, fitness, 2)\n",
        "  print(parents)\n"
      ],
      "metadata": {
        "colab": {
          "base_uri": "https://localhost:8080/"
        },
        "id": "FCLW5cgzoVzE",
        "outputId": "8b59bbec-5aa6-42e2-fdb1-0de21c5ff59e"
      },
      "execution_count": 34,
      "outputs": [
        {
          "output_type": "stream",
          "name": "stdout",
          "text": [
            "['ind5', 'ind1']\n",
            "['ind3', 'ind2']\n",
            "['ind3', 'ind2']\n",
            "['ind3', 'ind1']\n",
            "['ind2', 'ind3']\n",
            "['ind4', 'ind3']\n",
            "['ind3', 'ind2']\n",
            "['ind1', 'ind2']\n",
            "['ind2', 'ind1']\n",
            "['ind3', 'ind5']\n",
            "['ind1', 'ind3']\n",
            "['ind1', 'ind3']\n",
            "['ind3', 'ind1']\n",
            "['ind2', 'ind4']\n",
            "['ind2', 'ind3']\n",
            "['ind5', 'ind4']\n",
            "['ind3', 'ind1']\n",
            "['ind2', 'ind3']\n",
            "['ind3', 'ind5']\n",
            "['ind3', 'ind1']\n"
          ]
        }
      ]
    },
    {
      "cell_type": "markdown",
      "source": [
        "## tournament_selection"
      ],
      "metadata": {
        "id": "FhHZDwZisPw4"
      }
    },
    {
      "cell_type": "code",
      "source": [
        "def tournament_selection(population, fitness, num_parents, tournament_size):\n",
        "    # Array para almacenar los índices de los padres seleccionados\n",
        "    parents = np.empty(num_parents)\n",
        "\n",
        "    for i in range(num_parents):\n",
        "        # Seleccionamos los índices de 'tournament_size' individuos aleatoriamente\n",
        "        tournament_indices = np.random.randint(0, len(population), size=tournament_size)\n",
        "        \n",
        "        # Seleccionamos el individuo con el mínimo fitness de entre los seleccionados\n",
        "        best_individual_idx = np.argmin(fitness[tournament_indices])\n",
        "        \n",
        "        # Guardamos el índice del ganador del torneo\n",
        "        parents[i] = tournament_indices[best_individual_idx]\n",
        "\n",
        "    return parents"
      ],
      "metadata": {
        "id": "mhf6r7YNsSit"
      },
      "execution_count": 35,
      "outputs": []
    },
    {
      "cell_type": "code",
      "source": [
        "population = ['ind1', 'ind2', 'ind3', 'ind4', 'ind5']\n",
        "fitness = np.array([33, 56, 101, 34, 12]) \n"
      ],
      "metadata": {
        "id": "otWX0WsksVgB"
      },
      "execution_count": 36,
      "outputs": []
    },
    {
      "cell_type": "code",
      "source": [
        "num_parejas = 20\n",
        "\n",
        "for i in range(num_parejas):\n",
        "  p = tournament_selection(population, fitness, 2, 3)\n",
        "  print(p)"
      ],
      "metadata": {
        "colab": {
          "base_uri": "https://localhost:8080/"
        },
        "id": "epcyW4DcsZar",
        "outputId": "7db99fa3-8e56-40ca-9a40-7e986a838fe8"
      },
      "execution_count": 60,
      "outputs": [
        {
          "output_type": "stream",
          "name": "stdout",
          "text": [
            "[4. 0.]\n",
            "[4. 3.]\n",
            "[3. 4.]\n",
            "[1. 0.]\n",
            "[0. 0.]\n",
            "[0. 4.]\n",
            "[4. 3.]\n",
            "[3. 0.]\n",
            "[4. 4.]\n",
            "[4. 0.]\n",
            "[4. 4.]\n",
            "[0. 3.]\n",
            "[4. 3.]\n",
            "[1. 0.]\n",
            "[3. 4.]\n",
            "[4. 0.]\n",
            "[3. 4.]\n",
            "[4. 4.]\n",
            "[4. 1.]\n",
            "[0. 0.]\n"
          ]
        }
      ]
    }
  ]
}