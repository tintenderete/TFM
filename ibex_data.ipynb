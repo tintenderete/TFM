{
 "cells": [
  {
   "cell_type": "code",
   "execution_count": 73,
   "metadata": {},
   "outputs": [],
   "source": [
    "import pandas as pd\n",
    "import numpy as np\n",
    "import matplotlib.pyplot as plts\n",
    "import yfinance as yf\n",
    "import datetime"
   ]
  },
  {
   "cell_type": "code",
   "execution_count": 74,
   "metadata": {},
   "outputs": [
    {
     "data": {
      "text/html": [
       "<div>\n",
       "<style scoped>\n",
       "    .dataframe tbody tr th:only-of-type {\n",
       "        vertical-align: middle;\n",
       "    }\n",
       "\n",
       "    .dataframe tbody tr th {\n",
       "        vertical-align: top;\n",
       "    }\n",
       "\n",
       "    .dataframe thead th {\n",
       "        text-align: right;\n",
       "    }\n",
       "</style>\n",
       "<table border=\"1\" class=\"dataframe\">\n",
       "  <thead>\n",
       "    <tr style=\"text-align: right;\">\n",
       "      <th></th>\n",
       "      <th>Activo</th>\n",
       "      <th>Inclusion</th>\n",
       "      <th>Exclusion</th>\n",
       "    </tr>\n",
       "  </thead>\n",
       "  <tbody>\n",
       "    <tr>\n",
       "      <th>0</th>\n",
       "      <td>ACE</td>\n",
       "      <td>1991-01-02</td>\n",
       "      <td>2003-06-02</td>\n",
       "    </tr>\n",
       "    <tr>\n",
       "      <th>1</th>\n",
       "      <td>ACX</td>\n",
       "      <td>1991-01-02</td>\n",
       "      <td>1991-07-01</td>\n",
       "    </tr>\n",
       "    <tr>\n",
       "      <th>2</th>\n",
       "      <td>ALB</td>\n",
       "      <td>1991-01-02</td>\n",
       "      <td>1991-07-01</td>\n",
       "    </tr>\n",
       "    <tr>\n",
       "      <th>3</th>\n",
       "      <td>ASL</td>\n",
       "      <td>1991-01-02</td>\n",
       "      <td>1994-01-03</td>\n",
       "    </tr>\n",
       "    <tr>\n",
       "      <th>4</th>\n",
       "      <td>BBV</td>\n",
       "      <td>1991-01-02</td>\n",
       "      <td>2000-01-31</td>\n",
       "    </tr>\n",
       "  </tbody>\n",
       "</table>\n",
       "</div>"
      ],
      "text/plain": [
       "  Activo  Inclusion  Exclusion\n",
       "0    ACE 1991-01-02 2003-06-02\n",
       "1    ACX 1991-01-02 1991-07-01\n",
       "2    ALB 1991-01-02 1991-07-01\n",
       "3    ASL 1991-01-02 1994-01-03\n",
       "4    BBV 1991-01-02 2000-01-31"
      ]
     },
     "execution_count": 74,
     "metadata": {},
     "output_type": "execute_result"
    }
   ],
   "source": [
    "ibex_constituents = pd.read_excel('data_processing/Historical Composition IBEX35.xlsx')\n",
    "ibex_constituents.head()"
   ]
  },
  {
   "cell_type": "code",
   "execution_count": 75,
   "metadata": {},
   "outputs": [
    {
     "data": {
      "text/plain": [
       "'01/07/2023'"
      ]
     },
     "execution_count": 75,
     "metadata": {},
     "output_type": "execute_result"
    }
   ],
   "source": [
    "today = datetime.date.today().strftime('%d/%m/%Y')\n",
    "today"
   ]
  },
  {
   "cell_type": "code",
   "execution_count": 76,
   "metadata": {},
   "outputs": [],
   "source": [
    "ibex_constituents.fillna('today',inplace=True)"
   ]
  },
  {
   "cell_type": "code",
   "execution_count": 77,
   "metadata": {},
   "outputs": [
    {
     "data": {
      "text/plain": [
       "0         ACE\n",
       "1         ACX\n",
       "2         ALB\n",
       "3         ASL\n",
       "4         BBV\n",
       "        ...  \n",
       "164       RED\n",
       "165       ANE\n",
       "166    SCYR_1\n",
       "167       LOG\n",
       "168       UNI\n",
       "Name: Activo, Length: 169, dtype: object"
      ]
     },
     "execution_count": 77,
     "metadata": {},
     "output_type": "execute_result"
    }
   ],
   "source": [
    "activos = ibex_constituents.Activo\n",
    "activos"
   ]
  },
  {
   "cell_type": "code",
   "execution_count": 78,
   "metadata": {},
   "outputs": [],
   "source": [
    "activos = activos.apply(lambda x: x.split('_')[0])"
   ]
  },
  {
   "cell_type": "code",
   "execution_count": 79,
   "metadata": {},
   "outputs": [
    {
     "name": "stdout",
     "output_type": "stream",
     "text": [
      "[*********************100%***********************]  1 of 1 completed"
     ]
    },
    {
     "name": "stderr",
     "output_type": "stream",
     "text": [
      "\n",
      "1 Failed download:\n",
      "['ACE.MC']: Exception('%ticker%: No price data found, symbol may be delisted (1d 1991-01-02 00:00:00 -> 2003-06-02 00:00:00)')\n"
     ]
    },
    {
     "name": "stdout",
     "output_type": "stream",
     "text": [
      "\n",
      "Series([], Name: Adj Close, dtype: float64)\n",
      "[*********************100%***********************]  1 of 1 completed"
     ]
    },
    {
     "name": "stderr",
     "output_type": "stream",
     "text": [
      "\n",
      "1 Failed download:\n",
      "['ACX.MC']: Exception(\"%ticker%: Data doesn't exist for startDate = 662770800, endDate = 678319200\")\n"
     ]
    },
    {
     "name": "stdout",
     "output_type": "stream",
     "text": [
      "\n",
      "Series([], Name: Adj Close, dtype: float64)\n",
      "[*********************100%***********************]  1 of 1 completed"
     ]
    },
    {
     "name": "stderr",
     "output_type": "stream",
     "text": [
      "\n",
      "1 Failed download:\n",
      "['ALB.MC']: Exception(\"%ticker%: Data doesn't exist for startDate = 662770800, endDate = 678319200\")\n"
     ]
    },
    {
     "name": "stdout",
     "output_type": "stream",
     "text": [
      "\n",
      "Series([], Name: Adj Close, dtype: float64)\n",
      "[*********************100%***********************]  1 of 1 completed"
     ]
    },
    {
     "name": "stderr",
     "output_type": "stream",
     "text": [
      "\n",
      "1 Failed download:\n",
      "['ASL.MC']: Exception('%ticker%: No timezone found, symbol may be delisted')\n"
     ]
    },
    {
     "name": "stdout",
     "output_type": "stream",
     "text": [
      "\n",
      "Series([], Name: Adj Close, dtype: float64)\n",
      "[*********************100%***********************]  1 of 1 completed"
     ]
    },
    {
     "name": "stderr",
     "output_type": "stream",
     "text": [
      "\n",
      "1 Failed download:\n",
      "['BBV.MC']: Exception('%ticker%: No timezone found, symbol may be delisted')\n"
     ]
    },
    {
     "name": "stdout",
     "output_type": "stream",
     "text": [
      "\n",
      "Series([], Name: Adj Close, dtype: float64)\n",
      "[*********************100%***********************]  1 of 1 completed\n",
      "Date\n",
      "2000-01-03    21.463045\n",
      "2000-01-04    20.487450\n",
      "2000-01-05    20.162251\n",
      "2000-01-06    20.162251\n",
      "2000-01-07    20.070436\n",
      "                ...    \n",
      "2023-06-23     5.452010\n",
      "2023-06-26     5.472000\n",
      "2023-06-27     5.524000\n",
      "2023-06-28     5.530000\n",
      "2023-06-30     5.630000\n",
      "Name: Adj Close, Length: 6036, dtype: float64\n",
      "[*********************100%***********************]  1 of 1 completed"
     ]
    },
    {
     "name": "stderr",
     "output_type": "stream",
     "text": [
      "\n",
      "1 Failed download:\n",
      "['BTO.MC']: Exception(\"%ticker%: Data doesn't exist for startDate = 662792400, endDate = 891493200\")\n"
     ]
    },
    {
     "name": "stdout",
     "output_type": "stream",
     "text": [
      "\n",
      "Series([], Name: Adj Close, dtype: float64)\n",
      "[*********************100%***********************]  1 of 1 completed"
     ]
    },
    {
     "name": "stderr",
     "output_type": "stream",
     "text": [
      "\n",
      "1 Failed download:\n",
      "['CEN.MC']: Exception('%ticker%: No timezone found, symbol may be delisted')\n"
     ]
    },
    {
     "name": "stdout",
     "output_type": "stream",
     "text": [
      "\n",
      "Series([], Name: Adj Close, dtype: float64)\n",
      "[*********************100%***********************]  1 of 1 completed"
     ]
    },
    {
     "name": "stderr",
     "output_type": "stream",
     "text": [
      "\n",
      "1 Failed download:\n",
      "['CEP.MC']: Exception('%ticker%: No price data found, symbol may be delisted (1d 1991-01-02 00:00:00 -> 1992-07-01 00:00:00)')\n"
     ]
    },
    {
     "name": "stdout",
     "output_type": "stream",
     "text": [
      "\n",
      "Series([], Name: Adj Close, dtype: float64)\n",
      "[*********************100%***********************]  1 of 1 completed"
     ]
    },
    {
     "name": "stderr",
     "output_type": "stream",
     "text": [
      "\n",
      "1 Failed download:\n",
      "['CRI.MC']: Exception('%ticker%: No timezone found, symbol may be delisted')\n"
     ]
    },
    {
     "name": "stdout",
     "output_type": "stream",
     "text": [
      "\n",
      "Series([], Name: Adj Close, dtype: float64)\n",
      "[*********************100%***********************]  1 of 1 completed"
     ]
    },
    {
     "name": "stderr",
     "output_type": "stream",
     "text": [
      "\n",
      "1 Failed download:\n",
      "['CTG.MC']: Exception('%ticker%: No timezone found, symbol may be delisted')\n"
     ]
    },
    {
     "name": "stdout",
     "output_type": "stream",
     "text": [
      "\n",
      "Series([], Name: Adj Close, dtype: float64)\n",
      "[*********************100%***********************]  1 of 1 completed"
     ]
    },
    {
     "name": "stderr",
     "output_type": "stream",
     "text": [
      "\n",
      "1 Failed download:\n",
      "['DRC.MC']: Exception('%ticker%: No price data found, symbol may be delisted (1d 1991-01-02 00:00:00 -> 2003-12-15 00:00:00)')\n"
     ]
    },
    {
     "name": "stdout",
     "output_type": "stream",
     "text": [
      "\n",
      "Series([], Name: Adj Close, dtype: float64)\n",
      "[*********************100%***********************]  1 of 1 completed"
     ]
    },
    {
     "name": "stderr",
     "output_type": "stream",
     "text": [
      "\n",
      "1 Failed download:\n",
      "['ECR.MC']: Exception(\"%ticker%: Data doesn't exist for startDate = 662770800, endDate = 694306800\")\n"
     ]
    },
    {
     "name": "stdout",
     "output_type": "stream",
     "text": [
      "\n",
      "Series([], Name: Adj Close, dtype: float64)\n",
      "[*********************100%***********************]  1 of 1 completed\n",
      "Date\n",
      "2000-01-03   -4.884561\n",
      "2000-01-04   -4.753517\n",
      "2000-01-05   -4.789491\n",
      "2000-01-07   -4.961645\n",
      "2000-01-10   -4.961645\n",
      "                ...   \n",
      "2013-12-16    5.485955\n",
      "2013-12-17    5.517944\n",
      "2013-12-18    5.907131\n",
      "2013-12-19    6.000429\n",
      "2013-12-20    5.837823\n",
      "Name: Adj Close, Length: 3531, dtype: float64\n",
      "[*********************100%***********************]  1 of 1 completed"
     ]
    },
    {
     "name": "stderr",
     "output_type": "stream",
     "text": [
      "\n",
      "1 Failed download:\n",
      "['FEC.MC']: Exception('%ticker%: No timezone found, symbol may be delisted')\n"
     ]
    },
    {
     "name": "stdout",
     "output_type": "stream",
     "text": [
      "\n",
      "Series([], Name: Adj Close, dtype: float64)\n",
      "[*********************100%***********************]  1 of 1 completed"
     ]
    },
    {
     "name": "stderr",
     "output_type": "stream",
     "text": [
      "\n",
      "1 Failed download:\n",
      "['FOC.MC']: Exception('%ticker%: No timezone found, symbol may be delisted')\n"
     ]
    },
    {
     "name": "stdout",
     "output_type": "stream",
     "text": [
      "\n",
      "Series([], Name: Adj Close, dtype: float64)\n",
      "[*********************100%***********************]  1 of 1 completed"
     ]
    },
    {
     "name": "stderr",
     "output_type": "stream",
     "text": [
      "\n",
      "1 Failed download:\n",
      "['HID.MC']: Exception('%ticker%: No timezone found, symbol may be delisted')\n"
     ]
    },
    {
     "name": "stdout",
     "output_type": "stream",
     "text": [
      "\n",
      "Series([], Name: Adj Close, dtype: float64)\n",
      "[*********************100%***********************]  1 of 1 completed"
     ]
    },
    {
     "name": "stderr",
     "output_type": "stream",
     "text": [
      "\n",
      "1 Failed download:\n"
     ]
    },
    {
     "name": "stdout",
     "output_type": "stream",
     "text": [
      "\n"
     ]
    },
    {
     "name": "stderr",
     "output_type": "stream",
     "text": [
      "['HIS.MC']: Exception('%ticker%: No timezone found, symbol may be delisted')\n"
     ]
    },
    {
     "name": "stdout",
     "output_type": "stream",
     "text": [
      "Series([], Name: Adj Close, dtype: float64)\n",
      "[*********************100%***********************]  1 of 1 completed\n",
      "Date\n",
      "2000-01-03     1.186164\n",
      "2000-01-04     1.167603\n",
      "2000-01-05     1.165835\n",
      "2000-01-06     1.165835\n",
      "2000-01-07     1.175558\n",
      "                ...    \n",
      "2023-06-23    11.675000\n",
      "2023-06-26    11.660000\n",
      "2023-06-27    11.790000\n",
      "2023-06-28    11.870000\n",
      "2023-06-30    11.950000\n",
      "Name: Adj Close, Length: 6036, dtype: float64\n",
      "[*********************100%***********************]  1 of 1 completed"
     ]
    },
    {
     "name": "stderr",
     "output_type": "stream",
     "text": [
      "\n",
      "1 Failed download:\n",
      "['MAP.MC']: Exception(\"%ticker%: Data doesn't exist for startDate = 662770800, endDate = 962575200\")\n"
     ]
    },
    {
     "name": "stdout",
     "output_type": "stream",
     "text": [
      "\n",
      "Series([], Name: Adj Close, dtype: float64)\n",
      "[*********************100%***********************]  1 of 1 completed"
     ]
    },
    {
     "name": "stderr",
     "output_type": "stream",
     "text": [
      "\n",
      "1 Failed download:\n",
      "['POP.MC']: Exception('%ticker%: No price data found, symbol may be delisted (1d 1991-01-02 00:00:00 -> 2017-06-07 00:00:00)')\n"
     ]
    },
    {
     "name": "stdout",
     "output_type": "stream",
     "text": [
      "\n",
      "Series([], Name: Adj Close, dtype: float64)\n",
      "[*********************100%***********************]  1 of 1 completed\n",
      "Date\n",
      "2000-01-03     6.860964\n",
      "2000-01-04     6.630606\n",
      "2000-01-05     6.540329\n",
      "2000-01-07     6.745784\n",
      "2000-01-10     6.817381\n",
      "                ...    \n",
      "2023-06-23    12.950000\n",
      "2023-06-26    13.090000\n",
      "2023-06-27    13.065000\n",
      "2023-06-28    13.145000\n",
      "2023-06-30    13.330000\n",
      "Name: Adj Close, Length: 5970, dtype: float64\n",
      "[*********************100%***********************]  1 of 1 completed"
     ]
    },
    {
     "name": "stderr",
     "output_type": "stream",
     "text": [
      "\n",
      "1 Failed download:\n",
      "['SAN.MC']: Exception(\"%ticker%: Data doesn't exist for startDate = 662770800, endDate = 924472800\")\n"
     ]
    },
    {
     "name": "stdout",
     "output_type": "stream",
     "text": [
      "\n",
      "Series([], Name: Adj Close, dtype: float64)\n",
      "[*********************100%***********************]  1 of 1 completed"
     ]
    },
    {
     "name": "stderr",
     "output_type": "stream",
     "text": [
      "\n",
      "1 Failed download:\n",
      "['SEV.MC']: Exception('%ticker%: No timezone found, symbol may be delisted')\n"
     ]
    },
    {
     "name": "stdout",
     "output_type": "stream",
     "text": [
      "\n",
      "Series([], Name: Adj Close, dtype: float64)\n",
      "[*********************100%***********************]  1 of 1 completed"
     ]
    },
    {
     "name": "stderr",
     "output_type": "stream",
     "text": [
      "\n",
      "1 Failed download:\n",
      "['TAB.MC']: Exception('%ticker%: No timezone found, symbol may be delisted')\n"
     ]
    },
    {
     "name": "stdout",
     "output_type": "stream",
     "text": [
      "\n",
      "Series([], Name: Adj Close, dtype: float64)\n",
      "[*********************100%***********************]  1 of 1 completed\n",
      "Date\n",
      "2000-01-03    7.274563\n",
      "2000-01-04    6.974852\n",
      "2000-01-05    6.648949\n",
      "2000-01-06    6.648949\n",
      "2000-01-07    6.660591\n",
      "                ...   \n",
      "2023-06-23    3.642000\n",
      "2023-06-26    3.615000\n",
      "2023-06-27    3.650000\n",
      "2023-06-28    3.660000\n",
      "2023-06-30    3.716000\n",
      "Name: Adj Close, Length: 5977, dtype: float64\n",
      "[*********************100%***********************]  1 of 1 completed"
     ]
    },
    {
     "name": "stderr",
     "output_type": "stream",
     "text": [
      "\n",
      "1 Failed download:\n",
      "['UNF.MC']: Exception('%ticker%: No price data found, symbol may be delisted (1d 1991-01-02 00:00:00 -> 2009-04-15 00:00:00)')\n"
     ]
    },
    {
     "name": "stdout",
     "output_type": "stream",
     "text": [
      "\n",
      "Series([], Name: Adj Close, dtype: float64)\n",
      "[*********************100%***********************]  1 of 1 completed"
     ]
    },
    {
     "name": "stderr",
     "output_type": "stream",
     "text": [
      "\n",
      "1 Failed download:\n",
      "['URA.MC']: Exception('%ticker%: No price data found, symbol may be delisted (1d 1991-01-02 00:00:00 -> 2000-01-03 00:00:00)')\n"
     ]
    },
    {
     "name": "stdout",
     "output_type": "stream",
     "text": [
      "\n",
      "Series([], Name: Adj Close, dtype: float64)\n",
      "[*********************100%***********************]  1 of 1 completed"
     ]
    },
    {
     "name": "stderr",
     "output_type": "stream",
     "text": [
      "\n",
      "1 Failed download:\n",
      "['URB.MC']: Exception('%ticker%: No price data found, symbol may be delisted (1d 1991-01-02 00:00:00 -> 1993-01-04 00:00:00)')\n"
     ]
    },
    {
     "name": "stdout",
     "output_type": "stream",
     "text": [
      "\n",
      "Series([], Name: Adj Close, dtype: float64)\n",
      "[*********************100%***********************]  1 of 1 completed"
     ]
    },
    {
     "name": "stderr",
     "output_type": "stream",
     "text": [
      "\n",
      "1 Failed download:\n",
      "['VAL.MC']: Exception('%ticker%: No price data found, symbol may be delisted (1d 1991-01-02 00:00:00 -> 2001-01-02 00:00:00)')\n"
     ]
    },
    {
     "name": "stdout",
     "output_type": "stream",
     "text": [
      "\n",
      "Series([], Name: Adj Close, dtype: float64)\n",
      "[*********************100%***********************]  1 of 1 completed"
     ]
    },
    {
     "name": "stderr",
     "output_type": "stream",
     "text": [
      "\n",
      "1 Failed download:\n",
      "['VDR.MC']: Exception('%ticker%: No price data found, symbol may be delisted (1d 1991-01-02 00:00:00 -> 1995-07-02 00:00:00)')\n"
     ]
    },
    {
     "name": "stdout",
     "output_type": "stream",
     "text": [
      "\n",
      "Series([], Name: Adj Close, dtype: float64)\n",
      "[*********************100%***********************]  1 of 1 completed"
     ]
    },
    {
     "name": "stderr",
     "output_type": "stream",
     "text": [
      "\n",
      "1 Failed download:\n",
      "['VIS.MC']: Exception(\"%ticker%: Data doesn't exist for startDate = 662770800, endDate = 852159600\")\n"
     ]
    },
    {
     "name": "stdout",
     "output_type": "stream",
     "text": [
      "\n",
      "Series([], Name: Adj Close, dtype: float64)\n",
      "[*********************100%***********************]  1 of 1 completed"
     ]
    },
    {
     "name": "stderr",
     "output_type": "stream",
     "text": [
      "\n",
      "1 Failed download:\n",
      "['AGR.MC']: Exception('%ticker%: No timezone found, symbol may be delisted')\n"
     ]
    },
    {
     "name": "stdout",
     "output_type": "stream",
     "text": [
      "\n",
      "Series([], Name: Adj Close, dtype: float64)\n",
      "[*********************100%***********************]  1 of 1 completed"
     ]
    },
    {
     "name": "stderr",
     "output_type": "stream",
     "text": [
      "\n",
      "1 Failed download:\n",
      "['CUB.MC']: Exception('%ticker%: No timezone found, symbol may be delisted')\n"
     ]
    },
    {
     "name": "stdout",
     "output_type": "stream",
     "text": [
      "\n",
      "Series([], Name: Adj Close, dtype: float64)\n",
      "[*********************100%***********************]  1 of 1 completed"
     ]
    },
    {
     "name": "stderr",
     "output_type": "stream",
     "text": [
      "\n",
      "1 Failed download:\n",
      "['HHU.MC']: Exception('%ticker%: No timezone found, symbol may be delisted')\n"
     ]
    },
    {
     "name": "stdout",
     "output_type": "stream",
     "text": [
      "\n",
      "Series([], Name: Adj Close, dtype: float64)\n",
      "[*********************100%***********************]  1 of 1 completed"
     ]
    },
    {
     "name": "stderr",
     "output_type": "stream",
     "text": [
      "\n",
      "1 Failed download:\n",
      "['MVC.MC']: Exception(\"%ticker%: Data doesn't exist for startDate = 678319200, endDate = 867708000\")\n"
     ]
    },
    {
     "name": "stdout",
     "output_type": "stream",
     "text": [
      "\n",
      "Series([], Name: Adj Close, dtype: float64)\n",
      "[*********************100%***********************]  1 of 1 completed"
     ]
    },
    {
     "name": "stderr",
     "output_type": "stream",
     "text": [
      "\n",
      "1 Failed download:\n",
      "['CAN.MC']: Exception('%ticker%: No price data found, symbol may be delisted (1d 1991-07-01 00:00:00 -> 2001-04-10 00:00:00)')\n"
     ]
    },
    {
     "name": "stdout",
     "output_type": "stream",
     "text": [
      "\n",
      "Series([], Name: Adj Close, dtype: float64)\n",
      "[*********************100%***********************]  1 of 1 completed"
     ]
    },
    {
     "name": "stderr",
     "output_type": "stream",
     "text": [
      "\n",
      "1 Failed download:\n",
      "['PMD.MC']: Exception('%ticker%: No timezone found, symbol may be delisted')\n"
     ]
    },
    {
     "name": "stdout",
     "output_type": "stream",
     "text": [
      "\n",
      "Series([], Name: Adj Close, dtype: float64)\n",
      "[*********************100%***********************]  1 of 1 completed"
     ]
    },
    {
     "name": "stderr",
     "output_type": "stream",
     "text": [
      "\n",
      "1 Failed download:\n",
      "['ALB.MC']: Exception(\"%ticker%: Data doesn't exist for startDate = 686271600, endDate = 694306800\")\n"
     ]
    },
    {
     "name": "stdout",
     "output_type": "stream",
     "text": [
      "\n",
      "Series([], Name: Adj Close, dtype: float64)\n",
      "[*********************100%***********************]  1 of 1 completed"
     ]
    },
    {
     "name": "stderr",
     "output_type": "stream",
     "text": [
      "\n",
      "1 Failed download:\n",
      "['CRI.MC']: Exception('%ticker%: No timezone found, symbol may be delisted')\n"
     ]
    },
    {
     "name": "stdout",
     "output_type": "stream",
     "text": [
      "\n",
      "Series([], Name: Adj Close, dtype: float64)\n",
      "[*********************100%***********************]  1 of 1 completed"
     ]
    },
    {
     "name": "stderr",
     "output_type": "stream",
     "text": [
      "\n",
      "1 Failed download:\n",
      "['SAR.MC']: Exception('%ticker%: No timezone found, symbol may be delisted')\n"
     ]
    },
    {
     "name": "stdout",
     "output_type": "stream",
     "text": [
      "\n",
      "Series([], Name: Adj Close, dtype: float64)\n",
      "[*********************100%***********************]  1 of 1 completed"
     ]
    },
    {
     "name": "stderr",
     "output_type": "stream",
     "text": [
      "\n",
      "1 Failed download:\n",
      "['EXT.MC']: Exception('%ticker%: No timezone found, symbol may be delisted')\n"
     ]
    },
    {
     "name": "stdout",
     "output_type": "stream",
     "text": [
      "\n",
      "Series([], Name: Adj Close, dtype: float64)\n",
      "[*********************100%***********************]  1 of 1 completed"
     ]
    },
    {
     "name": "stderr",
     "output_type": "stream",
     "text": [
      "\n",
      "1 Failed download:\n",
      "['AGS.MC']: Exception('%ticker%: No timezone found, symbol may be delisted')\n"
     ]
    },
    {
     "name": "stdout",
     "output_type": "stream",
     "text": [
      "\n",
      "Series([], Name: Adj Close, dtype: float64)\n",
      "[*********************100%***********************]  1 of 1 completed"
     ]
    },
    {
     "name": "stderr",
     "output_type": "stream",
     "text": [
      "\n",
      "1 Failed download:\n",
      "['BCH.MC']: Exception('%ticker%: No timezone found, symbol may be delisted')\n"
     ]
    },
    {
     "name": "stdout",
     "output_type": "stream",
     "text": [
      "\n",
      "Series([], Name: Adj Close, dtype: float64)\n",
      "[*********************100%***********************]  1 of 1 completed\n",
      "Date\n",
      "2000-01-03    3.748324\n",
      "2000-01-04    3.747399\n",
      "2000-01-05    3.624067\n",
      "2000-01-06    3.624067\n",
      "2000-01-07    3.899192\n",
      "                ...   \n",
      "2013-12-16    5.360065\n",
      "2013-12-17    5.384237\n",
      "2013-12-18    5.338916\n",
      "2013-12-19    5.370338\n",
      "2013-12-20    5.479714\n",
      "Name: Adj Close, Length: 3588, dtype: float64\n",
      "[*********************100%***********************]  1 of 1 completed\n",
      "Date\n",
      "2000-01-03    0.251963\n",
      "2000-01-04    0.253146\n",
      "2000-01-05    0.249729\n",
      "2000-01-06    0.249729\n",
      "2000-01-07   -0.692105\n",
      "                ...   \n",
      "2016-07-11    5.887073\n",
      "2016-07-12    5.889399\n",
      "2016-07-13    5.884747\n",
      "2016-07-14    5.890949\n",
      "2016-07-15    5.886297\n",
      "Name: Adj Close, Length: 4256, dtype: float64\n",
      "[*********************100%***********************]  1 of 1 completed"
     ]
    },
    {
     "name": "stderr",
     "output_type": "stream",
     "text": [
      "\n",
      "1 Failed download:\n",
      "['PRY.MC']: Exception('%ticker%: No timezone found, symbol may be delisted')\n"
     ]
    },
    {
     "name": "stdout",
     "output_type": "stream",
     "text": [
      "\n",
      "Series([], Name: Adj Close, dtype: float64)\n",
      "[*********************100%***********************]  1 of 1 completed"
     ]
    },
    {
     "name": "stderr",
     "output_type": "stream",
     "text": [
      "\n",
      "1 Failed download:\n",
      "['ARA.MC']: Exception('%ticker%: No price data found, symbol may be delisted (1d 1992-07-01 00:00:00 -> 1993-01-04 00:00:00)')\n"
     ]
    },
    {
     "name": "stdout",
     "output_type": "stream",
     "text": [
      "\n",
      "Series([], Name: Adj Close, dtype: float64)\n",
      "[*********************100%***********************]  1 of 1 completed"
     ]
    },
    {
     "name": "stderr",
     "output_type": "stream",
     "text": [
      "\n",
      "1 Failed download:\n",
      "['ALB.MC']: Exception(\"%ticker%: Data doesn't exist for startDate = 709941600, endDate = 899244000\")\n"
     ]
    },
    {
     "name": "stdout",
     "output_type": "stream",
     "text": [
      "\n",
      "Series([], Name: Adj Close, dtype: float64)\n",
      "[*********************100%***********************]  1 of 1 completed"
     ]
    },
    {
     "name": "stderr",
     "output_type": "stream",
     "text": [
      "\n",
      "1 Failed download:\n",
      "['AUM.MC']: Exception('%ticker%: No price data found, symbol may be delisted (1d 1992-07-01 00:00:00 -> 2000-07-03 00:00:00)')\n"
     ]
    },
    {
     "name": "stdout",
     "output_type": "stream",
     "text": [
      "\n",
      "Series([], Name: Adj Close, dtype: float64)\n",
      "[*********************100%***********************]  1 of 1 completed"
     ]
    },
    {
     "name": "stderr",
     "output_type": "stream",
     "text": [
      "\n",
      "1 Failed download:\n",
      "['CEP.MC']: Exception('%ticker%: No price data found, symbol may be delisted (1d 1993-01-04 00:00:00 -> 1993-07-01 00:00:00)')\n"
     ]
    },
    {
     "name": "stdout",
     "output_type": "stream",
     "text": [
      "\n",
      "Series([], Name: Adj Close, dtype: float64)\n",
      "[*********************100%***********************]  1 of 1 completed"
     ]
    },
    {
     "name": "stderr",
     "output_type": "stream",
     "text": [
      "\n",
      "1 Failed download:\n",
      "['HHU.MC']: Exception('%ticker%: No timezone found, symbol may be delisted')\n"
     ]
    },
    {
     "name": "stdout",
     "output_type": "stream",
     "text": [
      "\n",
      "Series([], Name: Adj Close, dtype: float64)\n",
      "[*********************100%***********************]  1 of 1 completed"
     ]
    },
    {
     "name": "stderr",
     "output_type": "stream",
     "text": [
      "\n",
      "1 Failed download:\n",
      "['AGS.MC']: Exception('%ticker%: No timezone found, symbol may be delisted')\n"
     ]
    },
    {
     "name": "stdout",
     "output_type": "stream",
     "text": [
      "\n",
      "Series([], Name: Adj Close, dtype: float64)\n",
      "[*********************100%***********************]  1 of 1 completed"
     ]
    },
    {
     "name": "stderr",
     "output_type": "stream",
     "text": [
      "\n",
      "1 Failed download:\n",
      "['ZOT.MC']: Exception('%ticker%: No timezone found, symbol may be delisted')\n"
     ]
    },
    {
     "name": "stdout",
     "output_type": "stream",
     "text": [
      "\n",
      "Series([], Name: Adj Close, dtype: float64)\n",
      "[*********************100%***********************]  1 of 1 completed"
     ]
    },
    {
     "name": "stderr",
     "output_type": "stream",
     "text": [
      "\n",
      "1 Failed download:\n",
      "['ARG.MC']: Exception('%ticker%: No timezone found, symbol may be delisted')\n"
     ]
    },
    {
     "name": "stdout",
     "output_type": "stream",
     "text": [
      "\n",
      "Series([], Name: Adj Close, dtype: float64)\n",
      "[*********************100%***********************]  1 of 1 completed"
     ]
    },
    {
     "name": "stderr",
     "output_type": "stream",
     "text": [
      "\n",
      "1 Failed download:\n",
      "['EBA.MC']: Exception('%ticker%: No timezone found, symbol may be delisted')\n"
     ]
    },
    {
     "name": "stdout",
     "output_type": "stream",
     "text": [
      "\n",
      "Series([], Name: Adj Close, dtype: float64)\n",
      "[*********************100%***********************]  1 of 1 completed"
     ]
    },
    {
     "name": "stderr",
     "output_type": "stream",
     "text": [
      "\n",
      "1 Failed download:\n",
      "['GES.MC']: Exception('%ticker%: No timezone found, symbol may be delisted')\n"
     ]
    },
    {
     "name": "stdout",
     "output_type": "stream",
     "text": [
      "\n",
      "Series([], Name: Adj Close, dtype: float64)\n",
      "[*********************100%***********************]  1 of 1 completed"
     ]
    },
    {
     "name": "stderr",
     "output_type": "stream",
     "text": [
      "\n",
      "1 Failed download:\n",
      "['CTE.MC']: Exception('%ticker%: No timezone found, symbol may be delisted')\n"
     ]
    },
    {
     "name": "stdout",
     "output_type": "stream",
     "text": [
      "\n",
      "Series([], Name: Adj Close, dtype: float64)\n",
      "[*********************100%***********************]  1 of 1 completed"
     ]
    },
    {
     "name": "stderr",
     "output_type": "stream",
     "text": [
      "\n",
      "1 Failed download:\n",
      "['ENC.MC']: Exception(\"%ticker%: Data doesn't exist for startDate = 789001200, endDate = 852159600\")\n"
     ]
    },
    {
     "name": "stdout",
     "output_type": "stream",
     "text": [
      "\n",
      "Series([], Name: Adj Close, dtype: float64)\n",
      "[*********************100%***********************]  1 of 1 completed"
     ]
    },
    {
     "name": "stderr",
     "output_type": "stream",
     "text": [
      "\n",
      "1 Failed download:\n",
      "['CTF.MC']: Exception('%ticker%: No price data found, symbol may be delisted (1d 1995-01-02 00:00:00 -> 1995-07-02 00:00:00)')\n"
     ]
    },
    {
     "name": "stdout",
     "output_type": "stream",
     "text": [
      "\n",
      "Series([], Name: Adj Close, dtype: float64)\n",
      "[*********************100%***********************]  1 of 1 completed"
     ]
    },
    {
     "name": "stderr",
     "output_type": "stream",
     "text": [
      "\n",
      "1 Failed download:\n",
      "['AGS.MC']: Exception('%ticker%: No timezone found, symbol may be delisted')\n"
     ]
    },
    {
     "name": "stdout",
     "output_type": "stream",
     "text": [
      "\n",
      "Series([], Name: Adj Close, dtype: float64)\n",
      "[*********************100%***********************]  1 of 1 completed"
     ]
    },
    {
     "name": "stderr",
     "output_type": "stream",
     "text": [
      "\n",
      "1 Failed download:\n",
      "['AMP.MC']: Exception(\"%ticker%: Data doesn't exist for startDate = 804636000, endDate = 930780000\")\n"
     ]
    },
    {
     "name": "stdout",
     "output_type": "stream",
     "text": [
      "\n",
      "Series([], Name: Adj Close, dtype: float64)\n",
      "[*********************100%***********************]  1 of 1 completed"
     ]
    },
    {
     "name": "stderr",
     "output_type": "stream",
     "text": [
      "\n",
      "1 Failed download:\n",
      "['AZC.MC']: Exception('%ticker%: No timezone found, symbol may be delisted')\n"
     ]
    },
    {
     "name": "stdout",
     "output_type": "stream",
     "text": [
      "\n",
      "Series([], Name: Adj Close, dtype: float64)\n",
      "[*********************100%***********************]  1 of 1 completed"
     ]
    },
    {
     "name": "stderr",
     "output_type": "stream",
     "text": [
      "\n",
      "1 Failed download:\n",
      "['GES.MC']: Exception('%ticker%: No timezone found, symbol may be delisted')\n"
     ]
    },
    {
     "name": "stdout",
     "output_type": "stream",
     "text": [
      "\n",
      "Series([], Name: Adj Close, dtype: float64)\n",
      "[*********************100%***********************]  1 of 1 completed"
     ]
    },
    {
     "name": "stderr",
     "output_type": "stream",
     "text": [
      "\n",
      "1 Failed download:\n",
      "['SOL.MC']: Exception(\"%ticker%: Data doesn't exist for startDate = 852159600, endDate = 1041462000\")\n"
     ]
    },
    {
     "name": "stdout",
     "output_type": "stream",
     "text": [
      "\n",
      "Series([], Name: Adj Close, dtype: float64)\n",
      "[*********************100%***********************]  1 of 1 completed"
     ]
    },
    {
     "name": "stderr",
     "output_type": "stream",
     "text": [
      "\n",
      "1 Failed download:\n",
      "['UNI.MC']: Exception(\"%ticker%: Data doesn't exist for startDate = 852159600, endDate = 875656800\")\n"
     ]
    },
    {
     "name": "stdout",
     "output_type": "stream",
     "text": [
      "\n",
      "Series([], Name: Adj Close, dtype: float64)\n",
      "[*********************100%***********************]  1 of 1 completed"
     ]
    },
    {
     "name": "stderr",
     "output_type": "stream",
     "text": [
      "\n",
      "1 Failed download:\n",
      "['ANA.MC']: Exception(\"%ticker%: Data doesn't exist for startDate = 865202400, endDate = 867708000\")\n"
     ]
    },
    {
     "name": "stdout",
     "output_type": "stream",
     "text": [
      "\n",
      "Series([], Name: Adj Close, dtype: float64)\n",
      "[*********************100%***********************]  1 of 1 completed"
     ]
    },
    {
     "name": "stderr",
     "output_type": "stream",
     "text": [
      "\n",
      "1 Failed download:\n",
      "['AZC.MC']: Exception('%ticker%: No timezone found, symbol may be delisted')\n"
     ]
    },
    {
     "name": "stdout",
     "output_type": "stream",
     "text": [
      "\n",
      "Series([], Name: Adj Close, dtype: float64)\n",
      "[*********************100%***********************]  1 of 1 completed"
     ]
    },
    {
     "name": "stderr",
     "output_type": "stream",
     "text": [
      "\n",
      "1 Failed download:\n",
      "['TUB.MC']: Exception(\"%ticker%: Data doesn't exist for startDate = 867708000, endDate = 915404400\")\n"
     ]
    },
    {
     "name": "stdout",
     "output_type": "stream",
     "text": [
      "\n",
      "Series([], Name: Adj Close, dtype: float64)\n",
      "[*********************100%***********************]  1 of 1 completed"
     ]
    },
    {
     "name": "stderr",
     "output_type": "stream",
     "text": [
      "\n",
      "1 Failed download:\n",
      "['VIS.MC']: Exception(\"%ticker%: Data doesn't exist for startDate = 867708000, endDate = 946854000\")\n"
     ]
    },
    {
     "name": "stdout",
     "output_type": "stream",
     "text": [
      "\n",
      "Series([], Name: Adj Close, dtype: float64)\n",
      "[*********************100%***********************]  1 of 1 completed"
     ]
    },
    {
     "name": "stderr",
     "output_type": "stream",
     "text": [
      "\n",
      "1 Failed download:\n",
      "['PUL.MC']: Exception('%ticker%: No timezone found, symbol may be delisted')\n"
     ]
    },
    {
     "name": "stdout",
     "output_type": "stream",
     "text": [
      "\n",
      "Series([], Name: Adj Close, dtype: float64)\n",
      "[*********************100%***********************]  1 of 1 completed\n",
      "Date\n",
      "2002-01-02     2.913879\n",
      "2002-01-03     3.064908\n",
      "2002-01-04     2.988866\n",
      "2002-01-07     2.864243\n",
      "2002-01-08     2.877972\n",
      "                ...    \n",
      "2023-06-23    30.969999\n",
      "2023-06-26    31.030001\n",
      "2023-06-27    31.290001\n",
      "2023-06-28    31.440001\n",
      "2023-06-30    32.169998\n",
      "Name: Adj Close, Length: 5514, dtype: float64\n",
      "[*********************100%***********************]  1 of 1 completed"
     ]
    },
    {
     "name": "stderr",
     "output_type": "stream",
     "text": [
      "\n",
      "1 Failed download:\n",
      "['ACR.MC']: Exception('%ticker%: No price data found, symbol may be delisted (1d 1998-07-01 00:00:00 -> 2002-02-09 00:00:00)')\n"
     ]
    },
    {
     "name": "stdout",
     "output_type": "stream",
     "text": [
      "\n",
      "Series([], Name: Adj Close, dtype: float64)\n",
      "[*********************100%***********************]  1 of 1 completed"
     ]
    },
    {
     "name": "stderr",
     "output_type": "stream",
     "text": [
      "\n",
      "1 Failed download:\n",
      "['TPZ.MC']: Exception('%ticker%: No timezone found, symbol may be delisted')\n"
     ]
    },
    {
     "name": "stdout",
     "output_type": "stream",
     "text": [
      "\n",
      "Series([], Name: Adj Close, dtype: float64)\n",
      "[*********************100%***********************]  1 of 1 completed\n",
      "Date\n",
      "2000-01-03    21.713978\n",
      "2000-01-04    20.196209\n",
      "2000-01-05    19.584198\n",
      "2000-01-06    19.584198\n",
      "2000-01-07    19.553593\n",
      "                ...    \n",
      "2002-12-26    11.615623\n",
      "2002-12-27    11.429275\n",
      "2002-12-30    10.932351\n",
      "2002-12-31    10.932351\n",
      "2003-01-01    10.932351\n",
      "Name: Adj Close, Length: 783, dtype: float64\n",
      "[*********************100%***********************]  1 of 1 completed\n",
      "Date\n",
      "2000-01-03     0.064475\n",
      "2000-01-04     0.059950\n",
      "2000-01-05     0.057405\n",
      "2000-01-07     0.059272\n",
      "2000-01-10     0.059385\n",
      "                ...    \n",
      "2015-06-15    50.652821\n",
      "2015-06-16    50.390640\n",
      "2015-06-17    50.683659\n",
      "2015-06-18    51.408482\n",
      "2015-06-19    50.984390\n",
      "Name: Adj Close, Length: 3909, dtype: float64\n",
      "[*********************100%***********************]  1 of 1 completed\n",
      "Date\n",
      "2000-01-03    7.744716\n",
      "2000-01-04    7.737682\n",
      "2000-01-05    7.547757\n",
      "2000-01-07    7.871332\n",
      "2000-01-10    7.948708\n",
      "                ...   \n",
      "2005-06-24    8.014836\n",
      "2005-06-27    7.978004\n",
      "2005-06-28    8.066403\n",
      "2005-06-29    8.191634\n",
      "2005-06-30    8.361066\n",
      "Name: Adj Close, Length: 1371, dtype: float64\n",
      "[*********************100%***********************]  1 of 1 completed"
     ]
    },
    {
     "name": "stderr",
     "output_type": "stream",
     "text": [
      "\n",
      "1 Failed download:\n",
      "['SCH.MC']: Exception('%ticker%: No timezone found, symbol may be delisted')\n"
     ]
    },
    {
     "name": "stdout",
     "output_type": "stream",
     "text": [
      "\n",
      "Series([], Name: Adj Close, dtype: float64)\n",
      "[*********************100%***********************]  1 of 1 completed"
     ]
    },
    {
     "name": "stderr",
     "output_type": "stream",
     "text": [
      "\n",
      "1 Failed download:\n",
      "['RAD.MC']: Exception('%ticker%: No timezone found, symbol may be delisted')\n"
     ]
    },
    {
     "name": "stdout",
     "output_type": "stream",
     "text": [
      "\n",
      "Series([], Name: Adj Close, dtype: float64)\n",
      "[*********************100%***********************]  1 of 1 completed\n",
      "Date\n",
      "2000-01-03     7.668124\n",
      "2000-01-04     7.523831\n",
      "2000-01-05     7.369233\n",
      "2000-01-06     7.369233\n",
      "2000-01-07     7.518676\n",
      "                ...    \n",
      "2023-06-23    28.549999\n",
      "2023-06-26    28.410000\n",
      "2023-06-27    28.389999\n",
      "2023-06-28    28.590000\n",
      "2023-06-30    28.969999\n",
      "Name: Adj Close, Length: 6035, dtype: float64\n",
      "[*********************100%***********************]  1 of 1 completed\n",
      "Date\n",
      "2000-10-03    -0.591838\n",
      "2000-10-04    -0.600951\n",
      "2000-10-05    -0.590400\n",
      "2000-10-06    -0.589440\n",
      "2000-10-09    -0.576971\n",
      "                ...    \n",
      "2023-06-23    11.210000\n",
      "2023-06-26    11.170000\n",
      "2023-06-27    11.200000\n",
      "2023-06-28    11.310000\n",
      "2023-06-30    11.580000\n",
      "Name: Adj Close, Length: 5797, dtype: float64\n",
      "[*********************100%***********************]  1 of 1 completed"
     ]
    },
    {
     "name": "stderr",
     "output_type": "stream",
     "text": [
      "\n",
      "1 Failed download:\n",
      "['AMS.MC']: Exception(\"%ticker%: Data doesn't exist for startDate = 946854000, endDate = 1119909600\")\n"
     ]
    },
    {
     "name": "stdout",
     "output_type": "stream",
     "text": [
      "\n",
      "Series([], Name: Adj Close, dtype: float64)\n",
      "[*********************100%***********************]  1 of 1 completed"
     ]
    },
    {
     "name": "stderr",
     "output_type": "stream",
     "text": [
      "\n",
      "1 Failed download:\n",
      "['SGC.MC']: Exception('%ticker%: No price data found, symbol may be delisted (1d 2000-01-03 00:00:00 -> 2008-05-12 00:00:00)')\n"
     ]
    },
    {
     "name": "stdout",
     "output_type": "stream",
     "text": [
      "\n",
      "Series([], Name: Adj Close, dtype: float64)\n",
      "[*********************100%***********************]  1 of 1 completed"
     ]
    },
    {
     "name": "stderr",
     "output_type": "stream",
     "text": [
      "\n",
      "1 Failed download:\n",
      "['TPI.MC']: Exception('%ticker%: No price data found, symbol may be delisted (1d 2000-01-03 00:00:00 -> 2006-07-25 00:00:00)')\n"
     ]
    },
    {
     "name": "stdout",
     "output_type": "stream",
     "text": [
      "\n",
      "Series([], Name: Adj Close, dtype: float64)\n",
      "[*********************100%***********************]  1 of 1 completed"
     ]
    },
    {
     "name": "stderr",
     "output_type": "stream",
     "text": [
      "\n",
      "1 Failed download:\n",
      "['ALT.MC']: Exception('%ticker%: No price data found, symbol may be delisted (1d 2000-01-03 00:00:00 -> 2008-02-04 00:00:00)')\n"
     ]
    },
    {
     "name": "stdout",
     "output_type": "stream",
     "text": [
      "\n",
      "Series([], Name: Adj Close, dtype: float64)\n",
      "[*********************100%***********************]  1 of 1 completed\n",
      "Date\n",
      "2000-01-31    4.479854\n",
      "2000-02-01    4.540712\n",
      "2000-02-02    4.527187\n",
      "2000-02-03    4.564379\n",
      "2000-02-04    4.496759\n",
      "                ...   \n",
      "2023-06-23    6.652000\n",
      "2023-06-26    6.748000\n",
      "2023-06-27    6.784000\n",
      "2023-06-28    6.854000\n",
      "2023-06-30    7.032000\n",
      "Name: Adj Close, Length: 5954, dtype: float64\n",
      "[*********************100%***********************]  1 of 1 completed"
     ]
    },
    {
     "name": "stderr",
     "output_type": "stream",
     "text": [
      "\n",
      "1 Failed download:\n",
      "['TRR.MC']: Exception('%ticker%: No price data found, symbol may be delisted (1d 2000-01-31 00:00:00 -> 2003-07-24 00:00:00)')\n"
     ]
    },
    {
     "name": "stdout",
     "output_type": "stream",
     "text": [
      "\n",
      "Series([], Name: Adj Close, dtype: float64)\n",
      "[*********************100%***********************]  1 of 1 completed"
     ]
    },
    {
     "name": "stderr",
     "output_type": "stream",
     "text": [
      "\n",
      "1 Failed download:\n",
      "['REE.MC']: Exception('%ticker%: No timezone found, symbol may be delisted')\n"
     ]
    },
    {
     "name": "stdout",
     "output_type": "stream",
     "text": [
      "\n",
      "Series([], Name: Adj Close, dtype: float64)\n",
      "[*********************100%***********************]  1 of 1 completed"
     ]
    },
    {
     "name": "stderr",
     "output_type": "stream",
     "text": [
      "\n",
      "1 Failed download:\n",
      "['ZEL.MC']: Exception('%ticker%: No price data found, symbol may be delisted (1d 2000-07-03 00:00:00 -> 2005-01-03 00:00:00)')\n"
     ]
    },
    {
     "name": "stdout",
     "output_type": "stream",
     "text": [
      "\n",
      "Series([], Name: Adj Close, dtype: float64)\n",
      "[*********************100%***********************]  1 of 1 completed"
     ]
    },
    {
     "name": "stderr",
     "output_type": "stream",
     "text": [
      "\n",
      "1 Failed download:\n",
      "['CRF.MC']: Exception('%ticker%: No price data found, symbol may be delisted (1d 2000-10-02 00:00:00 -> 2002-12-30 00:00:00)')\n"
     ]
    },
    {
     "name": "stdout",
     "output_type": "stream",
     "text": [
      "\n",
      "Series([], Name: Adj Close, dtype: float64)\n",
      "[*********************100%***********************]  1 of 1 completed\n",
      "Date\n",
      "2000-10-02    356.508789\n",
      "2000-10-03    369.291962\n",
      "2000-10-04    368.439758\n",
      "2000-10-05    360.769836\n",
      "2000-10-06    346.566254\n",
      "                 ...    \n",
      "2003-06-24    112.792603\n",
      "2003-06-25    117.035118\n",
      "2003-06-26    115.864777\n",
      "2003-06-27    118.205475\n",
      "2003-06-30    115.718475\n",
      "Name: Adj Close, Length: 713, dtype: float64\n",
      "[*********************100%***********************]  1 of 1 completed"
     ]
    },
    {
     "name": "stderr",
     "output_type": "stream",
     "text": [
      "\n",
      "1 Failed download:\n",
      "['TEM.MC']: Exception('%ticker%: No price data found, symbol may be delisted (1d 2001-01-02 00:00:00 -> 2006-07-25 00:00:00)')\n"
     ]
    },
    {
     "name": "stdout",
     "output_type": "stream",
     "text": [
      "\n",
      "Series([], Name: Adj Close, dtype: float64)\n",
      "[*********************100%***********************]  1 of 1 completed"
     ]
    },
    {
     "name": "stderr",
     "output_type": "stream",
     "text": [
      "\n",
      "1 Failed download:\n",
      "['GPP.MC']: Exception('%ticker%: No price data found, symbol may be delisted (1d 2001-01-02 00:00:00 -> 2001-07-02 00:00:00)')\n"
     ]
    },
    {
     "name": "stdout",
     "output_type": "stream",
     "text": [
      "\n",
      "Series([], Name: Adj Close, dtype: float64)\n",
      "[*********************100%***********************]  1 of 1 completed\n",
      "Date\n",
      "2006-06-13    53.745804\n",
      "2006-06-14    56.362373\n",
      "2006-06-15    57.635300\n",
      "2006-06-16    59.403255\n",
      "2006-06-19    63.999935\n",
      "                ...    \n",
      "2012-12-21     3.254199\n",
      "2012-12-24     3.331680\n",
      "2012-12-27     3.176718\n",
      "2012-12-28     3.099237\n",
      "2012-12-31     3.099237\n",
      "Name: Adj Close, Length: 1674, dtype: float64\n",
      "[*********************100%***********************]  1 of 1 completed"
     ]
    },
    {
     "name": "stderr",
     "output_type": "stream",
     "text": [
      "\n",
      "1 Failed download:\n",
      "['GAS.MC']: Exception('%ticker%: No price data found, symbol may be delisted (1d 2001-05-01 00:00:00 -> 2018-07-02 00:00:00)')\n"
     ]
    },
    {
     "name": "stdout",
     "output_type": "stream",
     "text": [
      "\n",
      "Series([], Name: Adj Close, dtype: float64)\n",
      "[*********************100%***********************]  1 of 1 completed\n",
      "Date\n",
      "2001-07-02    -0.136871\n",
      "2001-07-03    -0.136871\n",
      "2001-07-04    -0.136011\n",
      "2001-07-05    -0.133647\n",
      "2001-07-06    -0.132572\n",
      "                ...    \n",
      "2023-06-23    33.900002\n",
      "2023-06-26    33.930000\n",
      "2023-06-27    34.439999\n",
      "2023-06-28    34.470001\n",
      "2023-06-30    35.459999\n",
      "Name: Adj Close, Length: 5597, dtype: float64\n",
      "[*********************100%***********************]  1 of 1 completed\n",
      "Date\n",
      "2001-11-01    2.208218\n",
      "2001-11-02    2.195585\n",
      "2001-11-05    2.316861\n",
      "2001-11-06    2.367393\n",
      "2001-11-07    2.372446\n",
      "                ...   \n",
      "2023-06-23    3.066000\n",
      "2023-06-26    3.083500\n",
      "2023-06-27    3.195500\n",
      "2023-06-28    3.310000\n",
      "2023-06-30    3.385000\n",
      "Name: Adj Close, Length: 5558, dtype: float64\n",
      "[*********************100%***********************]  1 of 1 completed"
     ]
    },
    {
     "name": "stderr",
     "output_type": "stream",
     "text": [
      "\n",
      "1 Failed download:\n",
      "['LOR.MC']: Exception('%ticker%: No timezone found, symbol may be delisted')\n"
     ]
    },
    {
     "name": "stdout",
     "output_type": "stream",
     "text": [
      "\n",
      "Series([], Name: Adj Close, dtype: float64)\n",
      "[*********************100%***********************]  1 of 1 completed"
     ]
    },
    {
     "name": "stderr",
     "output_type": "stream",
     "text": [
      "\n",
      "1 Failed download:\n",
      "['IBLA.MC']: Exception('%ticker%: No price data found, symbol may be delisted (1d 2002-07-01 00:00:00 -> 2011-01-21 00:00:00)')\n"
     ]
    },
    {
     "name": "stdout",
     "output_type": "stream",
     "text": [
      "\n",
      "Series([], Name: Adj Close, dtype: float64)\n",
      "[*********************100%***********************]  1 of 1 completed"
     ]
    },
    {
     "name": "stderr",
     "output_type": "stream",
     "text": [
      "\n",
      "1 Failed download:\n",
      "['MVC.MC']: Exception(\"%ticker%: Data doesn't exist for startDate = 1041462000, endDate = 1183327200\")\n"
     ]
    },
    {
     "name": "stdout",
     "output_type": "stream",
     "text": [
      "\n",
      "Series([], Name: Adj Close, dtype: float64)\n",
      "[*********************100%***********************]  1 of 1 completed"
     ]
    },
    {
     "name": "stderr",
     "output_type": "stream",
     "text": [
      "\n",
      "1 Failed download:\n",
      "['VAL.MC']: Exception('%ticker%: No price data found, symbol may be delisted (1d 2003-01-02 00:00:00 -> 2003-06-02 00:00:00)')\n"
     ]
    },
    {
     "name": "stdout",
     "output_type": "stream",
     "text": [
      "\n",
      "Series([], Name: Adj Close, dtype: float64)\n",
      "[*********************100%***********************]  1 of 1 completed\n",
      "Date\n",
      "2003-01-10     2.138036\n",
      "2003-01-13     2.173201\n",
      "2003-01-14     2.240014\n",
      "2003-01-15     2.187267\n",
      "2003-01-16     2.208366\n",
      "                ...    \n",
      "2023-06-23    17.715000\n",
      "2023-06-26    17.735001\n",
      "2023-06-27    17.865000\n",
      "2023-06-28    18.014999\n",
      "2023-06-30    18.000000\n",
      "Name: Adj Close, Length: 5221, dtype: float64\n",
      "[*********************100%***********************]  1 of 1 completed\n",
      "Date\n",
      "2003-06-02     6.123564\n",
      "2003-06-03     5.961643\n",
      "2003-06-04     6.010711\n",
      "2003-06-05     6.216791\n",
      "2003-06-06     6.197164\n",
      "                ...    \n",
      "2018-05-02    18.285000\n",
      "2018-05-03    18.290001\n",
      "2018-05-04    18.299999\n",
      "2018-05-07    18.280001\n",
      "2018-05-08    18.240000\n",
      "Name: Adj Close, Length: 3730, dtype: float64\n",
      "[*********************100%***********************]  1 of 1 completed"
     ]
    },
    {
     "name": "stderr",
     "output_type": "stream",
     "text": [
      "\n",
      "1 Failed download:\n",
      "['SYV.MC']: Exception(\"%ticker%: Data doesn't exist for startDate = 1054526400, endDate = 1088654400\")\n"
     ]
    },
    {
     "name": "stdout",
     "output_type": "stream",
     "text": [
      "\n",
      "Series([], Name: Adj Close, dtype: float64)\n",
      "[*********************100%***********************]  1 of 1 completed\n",
      "Date\n",
      "2003-07-01    0.581687\n",
      "2003-07-02    0.594333\n",
      "2003-07-03    0.600655\n",
      "2003-07-04    0.600655\n",
      "2003-07-07    0.624681\n",
      "                ...   \n",
      "2005-12-26    0.964047\n",
      "2005-12-27    0.969391\n",
      "2005-12-28    0.958702\n",
      "2005-12-29    0.954693\n",
      "2005-12-30    0.936655\n",
      "Name: Adj Close, Length: 654, dtype: float64\n",
      "[*********************100%***********************]  1 of 1 completed"
     ]
    },
    {
     "name": "stderr",
     "output_type": "stream",
     "text": [
      "\n",
      "1 Failed download:\n",
      "['TRR.MC']: Exception('%ticker%: No price data found, symbol may be delisted (1d 2003-08-04 00:00:00 -> 2004-01-02 00:00:00)')\n"
     ]
    },
    {
     "name": "stdout",
     "output_type": "stream",
     "text": [
      "\n",
      "Series([], Name: Adj Close, dtype: float64)\n",
      "[*********************100%***********************]  1 of 1 completed\n",
      "Date\n",
      "2004-01-02     9.60\n",
      "2004-01-05     9.68\n",
      "2004-01-06     9.68\n",
      "2004-01-07     9.80\n",
      "2004-01-08     9.96\n",
      "              ...  \n",
      "2005-06-24    11.65\n",
      "2005-06-27    11.56\n",
      "2005-06-28    11.60\n",
      "2005-06-29    11.71\n",
      "2005-06-30    11.30\n",
      "Name: Adj Close, Length: 377, dtype: float64\n",
      "[*********************100%***********************]  1 of 1 completed\n",
      "Date\n",
      "2004-01-02    176.430435\n",
      "2004-01-05    177.015625\n",
      "2004-01-06    177.015625\n",
      "2004-01-07    178.478577\n",
      "2004-01-08    182.867371\n",
      "                 ...    \n",
      "2006-12-22    203.650055\n",
      "2006-12-27    201.104401\n",
      "2006-12-28    199.906464\n",
      "2006-12-29    197.810074\n",
      "2007-01-01    197.810074\n",
      "Name: Adj Close, Length: 777, dtype: float64\n",
      "[*********************100%***********************]  1 of 1 completed\n",
      "Date\n",
      "2004-07-01    1.408307\n",
      "2004-07-02    1.392483\n",
      "2004-07-05    1.384571\n",
      "2004-07-06    1.384571\n",
      "2004-07-07    1.376659\n",
      "                ...   \n",
      "2023-06-23    0.994600\n",
      "2023-06-26    1.009000\n",
      "2023-06-27    1.026000\n",
      "2023-06-28    1.031000\n",
      "2023-06-30    1.054000\n",
      "Name: Adj Close, Length: 4863, dtype: float64\n",
      "[*********************100%***********************]  1 of 1 completed"
     ]
    },
    {
     "name": "stderr",
     "output_type": "stream",
     "text": [
      "\n",
      "1 Failed download:\n",
      "['SYV.MC']: Exception(\"%ticker%: Data doesn't exist for startDate = 1104728400, endDate = 1380600000\")\n"
     ]
    },
    {
     "name": "stdout",
     "output_type": "stream",
     "text": [
      "\n",
      "Series([], Name: Adj Close, dtype: float64)\n",
      "[*********************100%***********************]  1 of 1 completed\n",
      "Date\n",
      "2005-01-03    7.989292\n",
      "2005-01-04    8.368747\n",
      "2005-01-05    8.238796\n",
      "2005-01-06    8.238796\n",
      "2005-01-07    8.535079\n",
      "                ...   \n",
      "2020-06-15    3.220000\n",
      "2020-06-16    3.202000\n",
      "2020-06-17    3.272000\n",
      "2020-06-18    3.234000\n",
      "2020-06-19    3.190000\n",
      "Name: Adj Close, Length: 3954, dtype: float64\n",
      "[*********************100%***********************]  1 of 1 completed"
     ]
    },
    {
     "name": "stderr",
     "output_type": "stream",
     "text": [
      "\n",
      "1 Failed download:\n",
      "['REE.MC']: Exception('%ticker%: No timezone found, symbol may be delisted')\n"
     ]
    },
    {
     "name": "stdout",
     "output_type": "stream",
     "text": [
      "\n",
      "Series([], Name: Adj Close, dtype: float64)\n",
      "[*********************100%***********************]  1 of 1 completed"
     ]
    },
    {
     "name": "stderr",
     "output_type": "stream",
     "text": [
      "\n",
      "1 Failed download:\n",
      "['CIN.MC']: Exception('%ticker%: No timezone found, symbol may be delisted')\n"
     ]
    },
    {
     "name": "stdout",
     "output_type": "stream",
     "text": [
      "\n",
      "Series([], Name: Adj Close, dtype: float64)\n",
      "[*********************100%***********************]  1 of 1 completed"
     ]
    },
    {
     "name": "stderr",
     "output_type": "stream",
     "text": [
      "\n",
      "1 Failed download:\n",
      "['A3TV.MC']: Exception('%ticker%: No price data found, symbol may be delisted (1d 2005-07-08 00:00:00 -> 2008-01-02 00:00:00)')\n"
     ]
    },
    {
     "name": "stdout",
     "output_type": "stream",
     "text": [
      "\n",
      "Series([], Name: Adj Close, dtype: float64)\n",
      "[*********************100%***********************]  1 of 1 completed\n",
      "Date\n",
      "2006-01-02     9.875628\n",
      "2006-01-03     9.965955\n",
      "2006-01-04     9.965955\n",
      "2006-01-05    10.018644\n",
      "2006-01-09    10.146606\n",
      "                ...    \n",
      "2006-06-26    11.071834\n",
      "2006-06-27    10.887815\n",
      "2006-06-28    10.834142\n",
      "2006-06-29    10.857144\n",
      "2006-06-30    10.749800\n",
      "Name: Adj Close, Length: 126, dtype: float64\n",
      "[*********************100%***********************]  1 of 1 completed"
     ]
    },
    {
     "name": "stderr",
     "output_type": "stream",
     "text": [
      "\n",
      "1 Failed download:\n",
      "['FAD.MC']: Exception('%ticker%: No price data found, symbol may be delisted (1d 2006-07-03 00:00:00 -> 2007-03-09 00:00:00)')\n"
     ]
    },
    {
     "name": "stdout",
     "output_type": "stream",
     "text": [
      "\n",
      "Series([], Name: Adj Close, dtype: float64)\n",
      "[*********************100%***********************]  1 of 1 completed\n",
      "Date\n",
      "2006-07-25    1.059748\n",
      "2006-07-26    1.060423\n",
      "2006-07-27    1.038176\n",
      "2006-07-28    1.038176\n",
      "2006-07-31    1.038176\n",
      "                ...   \n",
      "2023-06-23    1.778000\n",
      "2023-06-26    1.765000\n",
      "2023-06-27    1.780000\n",
      "2023-06-28    1.798000\n",
      "2023-06-30    1.819000\n",
      "Name: Adj Close, Length: 4326, dtype: float64\n",
      "[*********************100%***********************]  1 of 1 completed\n",
      "Date\n",
      "2006-08-01    14.390\n",
      "2006-08-02    14.490\n",
      "2006-08-03    14.450\n",
      "2006-08-04    14.540\n",
      "2006-08-07    14.410\n",
      "               ...  \n",
      "2010-12-23     6.426\n",
      "2010-12-27     6.220\n",
      "2010-12-28     6.229\n",
      "2010-12-29     6.150\n",
      "2010-12-30     6.200\n",
      "Name: Adj Close, Length: 1113, dtype: float64\n",
      "[*********************100%***********************]  1 of 1 completed\n",
      "Date\n",
      "2006-08-17    12.820017\n",
      "2006-08-18    12.666669\n",
      "2006-08-21    13.372077\n",
      "2006-08-22    13.004038\n",
      "2006-08-23    13.057709\n",
      "                ...    \n",
      "2007-12-19     9.732912\n",
      "2007-12-20     9.608925\n",
      "2007-12-21     9.601176\n",
      "2007-12-27     9.151727\n",
      "2007-12-28     9.453942\n",
      "Name: Adj Close, Length: 348, dtype: float64\n",
      "[*********************100%***********************]  1 of 1 completed"
     ]
    },
    {
     "name": "stderr",
     "output_type": "stream",
     "text": [
      "\n",
      "1 Failed download:\n",
      "['AGS.MC']: Exception('%ticker%: No timezone found, symbol may be delisted')\n"
     ]
    },
    {
     "name": "stdout",
     "output_type": "stream",
     "text": [
      "\n",
      "Series([], Name: Adj Close, dtype: float64)\n",
      "[*********************100%***********************]  1 of 1 completed"
     ]
    },
    {
     "name": "stderr",
     "output_type": "stream",
     "text": [
      "\n",
      "1 Failed download:\n",
      "['CAR.MC']: Exception('%ticker%: No timezone found, symbol may be delisted')\n"
     ]
    },
    {
     "name": "stdout",
     "output_type": "stream",
     "text": [
      "\n",
      "Series([], Name: Adj Close, dtype: float64)\n",
      "[*********************100%***********************]  1 of 1 completed\n",
      "Date\n",
      "2007-05-10    1153.892944\n",
      "2007-05-11    1151.559937\n",
      "2007-05-14    1141.294922\n",
      "2007-05-15    1161.825195\n",
      "2007-05-16    1159.025513\n",
      "                 ...     \n",
      "2008-04-07     249.162521\n",
      "2008-04-08     246.362930\n",
      "2008-04-09     243.563339\n",
      "2008-04-10     233.298218\n",
      "2008-04-11     225.832703\n",
      "Name: Adj Close, Length: 233, dtype: float64\n",
      "[*********************100%***********************]  1 of 1 completed"
     ]
    },
    {
     "name": "stderr",
     "output_type": "stream",
     "text": [
      "\n",
      "1 Failed download:\n",
      "['BME.MC']: Exception('%ticker%: No timezone found, symbol may be delisted')\n"
     ]
    },
    {
     "name": "stdout",
     "output_type": "stream",
     "text": [
      "\n",
      "Series([], Name: Adj Close, dtype: float64)\n",
      "[*********************100%***********************]  1 of 1 completed\n",
      "Date\n",
      "2008-01-02     6.443982\n",
      "2008-01-03     6.109285\n",
      "2008-01-04     5.952528\n",
      "2008-01-07     5.723747\n",
      "2008-01-08     5.639014\n",
      "                ...    \n",
      "2023-06-23    11.465000\n",
      "2023-06-26    11.475000\n",
      "2023-06-27    11.295000\n",
      "2023-06-28    11.660000\n",
      "2023-06-30    11.740000\n",
      "Name: Adj Close, Length: 3961, dtype: float64\n",
      "[*********************100%***********************]  1 of 1 completed"
     ]
    },
    {
     "name": "stderr",
     "output_type": "stream",
     "text": [
      "\n",
      "1 Failed download:\n",
      "['ABG.MC']: Exception('%ticker%: No timezone found, symbol may be delisted')\n"
     ]
    },
    {
     "name": "stdout",
     "output_type": "stream",
     "text": [
      "\n",
      "Series([], Name: Adj Close, dtype: float64)\n",
      "[*********************100%***********************]  1 of 1 completed"
     ]
    },
    {
     "name": "stderr",
     "output_type": "stream",
     "text": [
      "\n",
      "1 Failed download:\n",
      "['IBR.MC']: Exception('%ticker%: No timezone found, symbol may be delisted')\n"
     ]
    },
    {
     "name": "stdout",
     "output_type": "stream",
     "text": [
      "\n",
      "Series([], Name: Adj Close, dtype: float64)\n",
      "[*********************100%***********************]  1 of 1 completed"
     ]
    },
    {
     "name": "stderr",
     "output_type": "stream",
     "text": [
      "\n",
      "1 Failed download:\n",
      "['CRI.MC']: Exception('%ticker%: No timezone found, symbol may be delisted')\n"
     ]
    },
    {
     "name": "stdout",
     "output_type": "stream",
     "text": [
      "\n",
      "Series([], Name: Adj Close, dtype: float64)\n",
      "[*********************100%***********************]  1 of 1 completed\n",
      "Date\n",
      "2008-04-14    32.127953\n",
      "2008-04-15    33.513733\n",
      "2008-04-16    33.865337\n",
      "2008-04-17    33.368946\n",
      "2008-04-18    34.272106\n",
      "                ...    \n",
      "2019-06-17    23.480000\n",
      "2019-06-18    23.740000\n",
      "2019-06-19    23.600000\n",
      "2019-06-20    23.639999\n",
      "2019-06-21    23.440001\n",
      "Name: Adj Close, Length: 2858, dtype: float64\n",
      "[*********************100%***********************]  1 of 1 completed"
     ]
    },
    {
     "name": "stderr",
     "output_type": "stream",
     "text": [
      "\n",
      "1 Failed download:\n",
      "['OHL.MC']: Exception('%ticker%: No timezone found, symbol may be delisted')\n"
     ]
    },
    {
     "name": "stdout",
     "output_type": "stream",
     "text": [
      "\n",
      "Series([], Name: Adj Close, dtype: float64)\n",
      "[*********************100%***********************]  1 of 1 completed\n",
      "Date\n",
      "2009-05-05    33.294605\n",
      "2009-05-06    33.118538\n",
      "2009-05-07    32.462246\n",
      "2009-05-08    34.094952\n",
      "2009-05-11    32.718361\n",
      "                ...    \n",
      "2023-06-23    24.575001\n",
      "2023-06-26    24.730000\n",
      "2023-06-27    24.705000\n",
      "2023-06-28    24.605000\n",
      "2023-06-30    24.950001\n",
      "Name: Adj Close, Length: 3623, dtype: float64\n",
      "[*********************100%***********************]  1 of 1 completed"
     ]
    },
    {
     "name": "stderr",
     "output_type": "stream",
     "text": [
      "\n",
      "1 Failed download:\n",
      "['EVA.MC']: Exception('%ticker%: No price data found, symbol may be delisted (1d 2010-01-04 00:00:00 -> 2010-07-26 00:00:00)')\n"
     ]
    },
    {
     "name": "stdout",
     "output_type": "stream",
     "text": [
      "\n",
      "Series([], Name: Adj Close, dtype: float64)\n",
      "[*********************100%***********************]  1 of 1 completed\n",
      "Date\n",
      "2010-07-26    7.764686\n",
      "2010-07-27    7.714337\n",
      "2010-07-28    7.719931\n",
      "2010-07-29    7.641613\n",
      "2010-07-30    7.496166\n",
      "                ...   \n",
      "2012-04-24    7.693994\n",
      "2012-04-25    7.964014\n",
      "2012-04-26    7.922470\n",
      "2012-04-27    8.168750\n",
      "2012-04-30    7.925439\n",
      "Name: Adj Close, Length: 454, dtype: float64\n",
      "[*********************100%***********************]  1 of 1 completed\n",
      "Date\n",
      "2011-01-03    12.676128\n",
      "2011-01-04    12.056773\n",
      "2011-01-05    12.089806\n",
      "2011-01-06    11.784258\n",
      "2011-01-07    11.854449\n",
      "                ...    \n",
      "2023-06-23    68.339996\n",
      "2023-06-26    68.139999\n",
      "2023-06-27    68.739998\n",
      "2023-06-28    69.199997\n",
      "2023-06-30    69.699997\n",
      "Name: Adj Close, Length: 3197, dtype: float64\n",
      "[*********************100%***********************]  1 of 1 completed\n",
      "Date\n",
      "2011-04-01    1.994965\n",
      "2011-04-04    1.963274\n",
      "2011-04-05    1.952453\n",
      "2011-04-06    1.971777\n",
      "2011-04-07    1.970231\n",
      "                ...   \n",
      "2023-06-23    1.860000\n",
      "2023-06-26    1.832000\n",
      "2023-06-27    1.878500\n",
      "2023-06-28    1.887500\n",
      "2023-06-30    1.887000\n",
      "Name: Adj Close, Length: 3133, dtype: float64\n",
      "[*********************100%***********************]  1 of 1 completed\n",
      "Date\n",
      "2011-07-01    2.600790\n",
      "2011-07-04    2.616088\n",
      "2011-07-05    2.624830\n",
      "2011-07-06    2.605707\n",
      "2011-07-07    2.628109\n",
      "                ...   \n",
      "2023-06-23    3.650000\n",
      "2023-06-26    3.629000\n",
      "2023-06-27    3.723000\n",
      "2023-06-28    3.712000\n",
      "2023-06-30    3.787000\n",
      "Name: Adj Close, Length: 3070, dtype: float64\n",
      "[*********************100%***********************]  1 of 1 completed"
     ]
    },
    {
     "name": "stderr",
     "output_type": "stream",
     "text": [
      "\n",
      "1 Failed download:\n",
      "['BKIA.MC']: Exception('%ticker%: No timezone found, symbol may be delisted')\n"
     ]
    },
    {
     "name": "stdout",
     "output_type": "stream",
     "text": [
      "\n",
      "Series([], Name: Adj Close, dtype: float64)\n",
      "[*********************100%***********************]  1 of 1 completed\n",
      "Date\n",
      "2012-01-02    2.969010\n",
      "2012-01-03    2.950759\n",
      "2012-01-04    2.958225\n",
      "2012-01-05    3.022932\n",
      "2012-01-06    3.104229\n",
      "                ...   \n",
      "2018-12-17    0.415393\n",
      "2018-12-18    0.380731\n",
      "2018-12-19    0.373575\n",
      "2018-12-20    0.336589\n",
      "2018-12-21    0.355082\n",
      "Name: Adj Close, Length: 1784, dtype: float64\n",
      "[*********************100%***********************]  1 of 1 completed"
     ]
    },
    {
     "name": "stderr",
     "output_type": "stream",
     "text": [
      "\n",
      "1 Failed download:\n",
      "['ABG.P.MC']: Exception('%ticker%: No timezone found, symbol may be delisted')\n"
     ]
    },
    {
     "name": "stdout",
     "output_type": "stream",
     "text": [
      "\n",
      "Series([], Name: Adj Close, dtype: float64)\n",
      "[*********************100%***********************]  1 of 1 completed\n",
      "Date\n",
      "2013-01-02    30.193188\n",
      "2013-01-03    30.354649\n",
      "2013-01-04    29.642752\n",
      "2013-01-07    28.762060\n",
      "2013-01-08    28.872150\n",
      "                ...    \n",
      "2014-12-15    32.805958\n",
      "2014-12-16    33.366810\n",
      "2014-12-17    33.581928\n",
      "2014-12-18    34.438568\n",
      "2014-12-19    34.730518\n",
      "Name: Adj Close, Length: 504, dtype: float64\n",
      "[*********************100%***********************]  1 of 1 completed"
     ]
    },
    {
     "name": "stderr",
     "output_type": "stream",
     "text": [
      "\n",
      "1 Failed download:\n",
      "['JAZ.MC']: Exception('%ticker%: No price data found, symbol may be delisted (1d 2013-04-23 00:00:00 -> 2015-06-24 00:00:00)')\n"
     ]
    },
    {
     "name": "stdout",
     "output_type": "stream",
     "text": [
      "\n",
      "Series([], Name: Adj Close, dtype: float64)\n",
      "[*********************100%***********************]  1 of 1 completed\n",
      "Date\n",
      "2013-07-01    10.192222\n",
      "2013-07-02    10.164032\n",
      "2013-07-03    10.048139\n",
      "2013-07-04    10.330039\n",
      "2013-07-05    10.317514\n",
      "                ...    \n",
      "2014-06-16    10.448215\n",
      "2014-06-17    10.483522\n",
      "2014-06-18    10.515625\n",
      "2014-06-19    10.461054\n",
      "2014-06-20    10.233151\n",
      "Name: Adj Close, Length: 249, dtype: float64\n",
      "[*********************100%***********************]  1 of 1 completed\n",
      "Date\n",
      "2013-10-01    2.451901\n",
      "2013-10-02    2.528395\n",
      "2013-10-03    2.533858\n",
      "2013-10-04    2.537956\n",
      "2013-10-07    2.554348\n",
      "                ...   \n",
      "2016-06-14    1.035203\n",
      "2016-06-15    1.061880\n",
      "2016-06-16    1.016678\n",
      "2016-06-17    1.152284\n",
      "2016-06-20    1.227868\n",
      "Name: Adj Close, Length: 694, dtype: float64\n",
      "[*********************100%***********************]  1 of 1 completed"
     ]
    },
    {
     "name": "stderr",
     "output_type": "stream",
     "text": [
      "\n",
      "1 Failed download:\n",
      "['BKIA.MC']: Exception('%ticker%: No timezone found, symbol may be delisted')\n"
     ]
    },
    {
     "name": "stdout",
     "output_type": "stream",
     "text": [
      "\n",
      "Series([], Name: Adj Close, dtype: float64)\n",
      "[*********************100%***********************]  1 of 1 completed\n",
      "Date\n",
      "2013-12-23    4.803818\n",
      "2013-12-24    4.803818\n",
      "2013-12-27    5.191222\n",
      "2013-12-30    5.113742\n",
      "2013-12-31    5.578627\n",
      "                ...   \n",
      "2017-07-17    1.627099\n",
      "2017-07-18    1.549618\n",
      "2017-07-19    1.549618\n",
      "2017-07-20    1.510878\n",
      "2017-07-21    1.464389\n",
      "Name: Adj Close, Length: 914, dtype: float64\n",
      "[*********************100%***********************]  1 of 1 completed"
     ]
    },
    {
     "name": "stderr",
     "output_type": "stream",
     "text": [
      "\n",
      "1 Failed download:\n",
      "['ABG.P.MC']: Exception('%ticker%: No timezone found, symbol may be delisted')\n"
     ]
    },
    {
     "name": "stdout",
     "output_type": "stream",
     "text": [
      "\n",
      "Series([], Name: Adj Close, dtype: float64)\n",
      "[*********************100%***********************]  1 of 1 completed\n",
      "Date\n",
      "2014-12-22     8.759432\n",
      "2014-12-23     8.919237\n",
      "2014-12-24     8.973408\n",
      "2014-12-29     8.976115\n",
      "2014-12-30     8.930070\n",
      "                ...    \n",
      "2023-06-23    19.308947\n",
      "2023-06-26    19.549730\n",
      "2023-06-27    19.762730\n",
      "2023-06-28    19.864601\n",
      "2023-06-30    19.650000\n",
      "Name: Adj Close, Length: 2180, dtype: float64\n",
      "[*********************100%***********************]  1 of 1 completed\n",
      "Date\n",
      "2015-06-22    8.580562\n",
      "2015-06-23    8.861628\n",
      "2015-06-24    8.696864\n",
      "2015-06-25    8.580562\n",
      "2015-06-26    8.680711\n",
      "                ...   \n",
      "2023-06-23    9.966000\n",
      "2023-06-26    9.982000\n",
      "2023-06-27    9.958000\n",
      "2023-06-28    9.854000\n",
      "2023-06-30    9.724000\n",
      "Name: Adj Close, Length: 2056, dtype: float64\n",
      "[*********************100%***********************]  1 of 1 completed\n",
      "Date\n",
      "2015-06-22     72.997887\n",
      "2015-06-23     72.731468\n",
      "2015-06-24     72.503113\n",
      "2015-06-25     70.866547\n",
      "2015-06-26     71.856094\n",
      "                 ...    \n",
      "2023-06-23    144.949997\n",
      "2023-06-26    144.449997\n",
      "2023-06-27    146.399994\n",
      "2023-06-28    148.000000\n",
      "2023-06-30    148.000000\n",
      "Name: Adj Close, Length: 2056, dtype: float64\n",
      "[*********************100%***********************]  1 of 1 completed\n",
      "Date\n",
      "2015-07-20     58.917225\n",
      "2015-07-21     59.044239\n",
      "2015-07-22     59.187160\n",
      "2015-07-23     59.068066\n",
      "2015-07-24     58.774311\n",
      "                 ...    \n",
      "2023-06-23    154.000000\n",
      "2023-06-26    156.250000\n",
      "2023-06-27    158.050003\n",
      "2023-06-28    157.600006\n",
      "2023-06-30    155.399994\n",
      "Name: Adj Close, Length: 2036, dtype: float64\n",
      "[*********************100%***********************]  1 of 1 completed\n",
      "Date\n",
      "2015-12-21    7.806383\n",
      "2015-12-22    7.827341\n",
      "2015-12-23    8.036905\n",
      "2015-12-24    8.019442\n",
      "2015-12-28    7.981023\n",
      "                ...   \n",
      "2023-06-23    7.570000\n",
      "2023-06-26    7.555000\n",
      "2023-06-27    7.625000\n",
      "2023-06-28    7.820000\n",
      "2023-06-30    7.840000\n",
      "Name: Adj Close, Length: 1926, dtype: float64\n",
      "[*********************100%***********************]  1 of 1 completed\n",
      "Date\n",
      "2016-06-21    12.108140\n",
      "2016-06-22    12.125387\n",
      "2016-06-23    12.280619\n",
      "2016-06-24    11.388032\n",
      "2016-06-27    11.112067\n",
      "                ...    \n",
      "2023-06-23    36.340000\n",
      "2023-06-26    36.119999\n",
      "2023-06-27    36.299999\n",
      "2023-06-28    36.700001\n",
      "2023-06-30    36.990002\n",
      "Name: Adj Close, Length: 1799, dtype: float64\n",
      "[*********************100%***********************]  1 of 1 completed\n",
      "Date\n",
      "2016-06-21    39.975067\n",
      "2016-06-22    39.285637\n",
      "2016-06-23    40.011341\n",
      "2016-06-24    39.196941\n",
      "2016-06-27    38.064007\n",
      "                ...    \n",
      "2021-12-13    51.461071\n",
      "2021-12-14    51.414246\n",
      "2021-12-15    52.303925\n",
      "2021-12-16    52.631702\n",
      "2021-12-17    51.226940\n",
      "Name: Adj Close, Length: 1408, dtype: float64\n",
      "[*********************100%***********************]  1 of 1 completed\n",
      "Date\n",
      "2016-08-08    10.521893\n",
      "2016-08-09    10.689877\n",
      "2016-08-10    10.646927\n",
      "2016-08-11    10.685104\n",
      "2016-08-12    10.551481\n",
      "                ...    \n",
      "2023-06-23     6.220000\n",
      "2023-06-26     6.230000\n",
      "2023-06-27     6.300000\n",
      "2023-06-28     6.335000\n",
      "2023-06-30     6.350000\n",
      "Name: Adj Close, Length: 1765, dtype: float64\n",
      "[*********************100%***********************]  1 of 1 completed\n",
      "Date\n",
      "2017-06-16    6.562009\n",
      "2017-06-19    6.562009\n",
      "2017-06-20    6.496733\n",
      "2017-06-21    6.459801\n",
      "2017-06-22    6.503605\n",
      "                ...   \n",
      "2023-06-23    5.430000\n",
      "2023-06-26    5.410000\n",
      "2023-06-27    5.450000\n",
      "2023-06-28    5.610000\n",
      "2023-06-30    5.545000\n",
      "Name: Adj Close, Length: 1545, dtype: float64\n",
      "[*********************100%***********************]  1 of 1 completed"
     ]
    },
    {
     "name": "stderr",
     "output_type": "stream",
     "text": [
      "\n",
      "1 Failed download:\n",
      "['SGRE.MC']: Exception('%ticker%: No timezone found, symbol may be delisted')\n"
     ]
    },
    {
     "name": "stdout",
     "output_type": "stream",
     "text": [
      "\n",
      "Series([], Name: Adj Close, dtype: float64)\n",
      "[*********************100%***********************]  1 of 1 completed\n",
      "Date\n",
      "2018-07-02    16.450119\n",
      "2018-07-03    16.576374\n",
      "2018-07-04    16.932848\n",
      "2018-07-05    17.007118\n",
      "2018-07-06    17.163082\n",
      "                ...    \n",
      "2023-06-23    26.600000\n",
      "2023-06-26    26.440001\n",
      "2023-06-27    26.799999\n",
      "2023-06-28    26.959999\n",
      "2023-06-30    27.260000\n",
      "Name: Adj Close, Length: 1280, dtype: float64\n",
      "[*********************100%***********************]  1 of 1 completed\n",
      "Date\n",
      "2018-06-18    26.801340\n",
      "2018-06-19    26.539337\n",
      "2018-06-20    25.737917\n",
      "2018-06-21    24.458725\n",
      "2018-06-22    23.688128\n",
      "                ...    \n",
      "2022-06-13    22.405743\n",
      "2022-06-14    22.638128\n",
      "2022-06-15    22.463840\n",
      "2022-06-16    21.786053\n",
      "2022-06-17    22.270185\n",
      "Name: Adj Close, Length: 1025, dtype: float64\n",
      "[*********************100%***********************]  1 of 1 completed\n",
      "Date\n",
      "2018-12-24    4.098186\n",
      "2018-12-27    3.960818\n",
      "2018-12-28    4.044765\n",
      "2018-12-31    4.185951\n",
      "2019-01-02    4.166872\n",
      "                ...   \n",
      "2020-09-14    1.958794\n",
      "2020-09-15    1.986933\n",
      "2020-09-16    2.044774\n",
      "2020-09-17    2.050246\n",
      "2020-09-18    2.022889\n",
      "Name: Adj Close, Length: 444, dtype: float64\n",
      "[*********************100%***********************]  1 of 1 completed"
     ]
    },
    {
     "name": "stderr",
     "output_type": "stream",
     "text": [
      "\n",
      "1 Failed download:\n",
      "['MAS.MC']: Exception('%ticker%: No timezone found, symbol may be delisted')\n"
     ]
    },
    {
     "name": "stdout",
     "output_type": "stream",
     "text": [
      "\n",
      "Series([], Name: Adj Close, dtype: float64)\n",
      "[*********************100%***********************]  1 of 1 completed\n",
      "Date\n",
      "2020-06-22    11.569477\n",
      "2020-06-23    11.299553\n",
      "2020-06-24    11.038937\n",
      "2020-06-25    11.048245\n",
      "2020-06-26    11.299553\n",
      "                ...    \n",
      "2022-06-13     9.691003\n",
      "2022-06-14     9.406981\n",
      "2022-06-15     9.451053\n",
      "2022-06-16     9.367805\n",
      "2022-06-17     9.597961\n",
      "Name: Adj Close, Length: 512, dtype: float64\n",
      "[*********************100%***********************]  1 of 1 completed\n",
      "Date\n",
      "2020-09-21    95.335762\n",
      "2020-09-22    94.562256\n",
      "2020-09-23    99.396729\n",
      "2020-09-24    95.674179\n",
      "2020-09-25    99.009964\n",
      "                ...    \n",
      "2022-12-12    64.649033\n",
      "2022-12-13    64.157776\n",
      "2022-12-14    65.690491\n",
      "2022-12-15    66.024536\n",
      "2022-12-16    64.766930\n",
      "Name: Adj Close, Length: 577, dtype: float64\n",
      "[*********************100%***********************]  1 of 1 completed\n",
      "Date\n",
      "2020-10-19    17.330000\n",
      "2020-10-20    17.350000\n",
      "2020-10-21    16.860001\n",
      "2020-10-22    16.299999\n",
      "2020-10-23    15.800000\n",
      "                ...    \n",
      "2023-06-23    13.695000\n",
      "2023-06-26    13.675000\n",
      "2023-06-27    13.880000\n",
      "2023-06-28    13.860000\n",
      "2023-06-30    14.045000\n",
      "Name: Adj Close, Length: 692, dtype: float64\n",
      "[*********************100%***********************]  1 of 1 completed\n",
      "Date\n",
      "2021-03-29    22.105154\n",
      "2021-03-30    23.088646\n",
      "2021-03-31    22.807648\n",
      "2021-04-01    23.229143\n",
      "2021-04-06    23.463306\n",
      "                ...    \n",
      "2023-06-23    16.389999\n",
      "2023-06-26    16.610001\n",
      "2023-06-27    17.070000\n",
      "2023-06-28    17.639999\n",
      "2023-06-30    17.830000\n",
      "Name: Adj Close, Length: 579, dtype: float64\n",
      "[*********************100%***********************]  1 of 1 completed\n",
      "Date\n",
      "2021-12-20    69.094170\n",
      "2021-12-21    68.126465\n",
      "2021-12-22    69.868324\n",
      "2021-12-23    69.674789\n",
      "2021-12-27    70.255409\n",
      "                ...    \n",
      "2023-06-23    41.500000\n",
      "2023-06-26    41.099998\n",
      "2023-06-27    41.040001\n",
      "2023-06-28    41.619999\n",
      "2023-06-30    42.340000\n",
      "Name: Adj Close, Length: 391, dtype: float64\n",
      "[*********************100%***********************]  1 of 1 completed\n",
      "Date\n",
      "2022-06-13    17.280180\n",
      "2022-06-14    16.236320\n",
      "2022-06-15    16.480341\n",
      "2022-06-16    16.792143\n",
      "2022-06-17    16.823774\n",
      "                ...    \n",
      "2023-06-23    15.197260\n",
      "2023-06-26    15.149499\n",
      "2023-06-27    15.316660\n",
      "2023-06-28    15.507701\n",
      "2023-06-30    15.385000\n",
      "Name: Adj Close, Length: 270, dtype: float64\n",
      "[*********************100%***********************]  1 of 1 completed\n",
      "Date\n",
      "2022-06-20    34.613918\n",
      "2022-06-21    33.870373\n",
      "2022-06-22    33.009430\n",
      "2022-06-23    33.361633\n",
      "2022-06-24    34.711754\n",
      "                ...    \n",
      "2023-06-23    29.959999\n",
      "2023-06-26    30.780001\n",
      "2023-06-27    31.100000\n",
      "2023-06-28    31.059999\n",
      "2023-06-30    30.620001\n",
      "Name: Adj Close, Length: 265, dtype: float64\n",
      "[*********************100%***********************]  1 of 1 completed\n",
      "Date\n",
      "2022-06-20    2.302570\n",
      "2022-06-21    2.308288\n",
      "2022-06-22    2.249199\n",
      "2022-06-23    2.254917\n",
      "2022-06-24    2.281603\n",
      "                ...   \n",
      "2023-06-23    3.028000\n",
      "2023-06-26    3.040000\n",
      "2023-06-27    3.074000\n",
      "2023-06-28    3.076000\n",
      "2023-06-30    3.128000\n",
      "Name: Adj Close, Length: 265, dtype: float64\n",
      "[*********************100%***********************]  1 of 1 completed\n",
      "Date\n",
      "2022-12-19    22.568520\n",
      "2022-12-20    22.626242\n",
      "2022-12-21    22.760920\n",
      "2022-12-22    22.818640\n",
      "2022-12-23    22.741680\n",
      "                ...    \n",
      "2023-06-23    24.180000\n",
      "2023-06-26    24.000000\n",
      "2023-06-27    24.180000\n",
      "2023-06-28    24.480000\n",
      "2023-06-30    24.680000\n",
      "Name: Adj Close, Length: 135, dtype: float64\n",
      "[*********************100%***********************]  1 of 1 completed\n",
      "Date\n",
      "2022-12-27    0.994336\n",
      "2022-12-28    1.011496\n",
      "2022-12-29    1.008636\n",
      "2022-12-30    0.982896\n",
      "2023-01-02    1.006729\n",
      "                ...   \n",
      "2023-06-23    0.907500\n",
      "2023-06-26    0.912500\n",
      "2023-06-27    0.926000\n",
      "2023-06-28    0.935000\n",
      "2023-06-30    0.963000\n",
      "Name: Adj Close, Length: 130, dtype: float64\n"
     ]
    }
   ],
   "source": [
    "ibex_historical_data = {}\n",
    "for i in range(ibex_constituents.shape[0]):\n",
    "    ticker = activos[i]+'.MC'\n",
    "    act = yf.download(ticker,ibex_constituents.iloc[i,1],ibex_constituents.iloc[i,2])['Adj Close']\n",
    "    print(act)\n",
    "    ibex_historical_data[ibex_constituents.iloc[i,0]] = act"
   ]
  },
  {
   "cell_type": "code",
   "execution_count": 129,
   "metadata": {},
   "outputs": [],
   "source": [
    "ibex_data = pd.DataFrame(ibex_historical_data,index=pd.date_range('1991-01-02',today,freq='B'))"
   ]
  }
 ],
 "metadata": {
  "kernelspec": {
   "display_name": "Python 3",
   "language": "python",
   "name": "python3"
  },
  "language_info": {
   "codemirror_mode": {
    "name": "ipython",
    "version": 3
   },
   "file_extension": ".py",
   "mimetype": "text/x-python",
   "name": "python",
   "nbconvert_exporter": "python",
   "pygments_lexer": "ipython3",
   "version": "3.10.11"
  },
  "orig_nbformat": 4
 },
 "nbformat": 4,
 "nbformat_minor": 2
}
